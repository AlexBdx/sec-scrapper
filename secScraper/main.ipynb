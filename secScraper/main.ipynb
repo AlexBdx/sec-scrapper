{
 "cells": [
  {
   "cell_type": "markdown",
   "metadata": {},
   "source": [
    "# Configuration"
   ]
  },
  {
   "cell_type": "code",
   "execution_count": 1,
   "metadata": {},
   "outputs": [
    {
     "name": "stderr",
     "output_type": "stream",
     "text": [
      "[nltk_data] Downloading package stopwords to /home/alex/nltk_data...\n",
      "[nltk_data]   Package stopwords is already up-to-date!\n",
      "[nltk_data] Downloading package punkt to /home/alex/nltk_data...\n",
      "[nltk_data]   Package punkt is already up-to-date!\n",
      "[nltk_data] Downloading package wordnet to /home/alex/nltk_data...\n",
      "[nltk_data]   Package wordnet is already up-to-date!\n"
     ]
    },
    {
     "name": "stdout",
     "output_type": "stream",
     "text": [
      "[INFO] Running python 3.7.3 (>= python 3.6)\n"
     ]
    }
   ],
   "source": [
    "from secScraper import *\n",
    "import sys\n",
    "\n",
    "if sys.version_info[0] < 3 or sys.version_info[1] < 6:\n",
    "    raise Exception(\"Must be using Python >= 3.6 due to reliance on ordered default dict.\")\n",
    "else:\n",
    "    version = \"[INFO] Running python {}.{}.{}\".format(*sys.version_info[:3])\n",
    "    if display.run_from_ipython():\n",
    "        %load_ext autoreload\n",
    "        %autoreload 2\n",
    "        %matplotlib notebook\n",
    "        version += \" for ipython\" if display.run_from_ipython() else \"\"\n",
    "    print(\"[INFO] Running python {}.{}.{} (>= python 3.6)\".format(*sys.version_info[:3]))"
   ]
  },
  {
   "cell_type": "markdown",
   "metadata": {},
   "source": [
    "## Packages to import"
   ]
  },
  {
   "cell_type": "code",
   "execution_count": 2,
   "metadata": {},
   "outputs": [],
   "source": [
    "import glob\n",
    "import numpy as np\n",
    "import matplotlib\n",
    "import matplotlib.pyplot as plt\n",
    "plt.ioff()\n",
    "\n",
    "import os\n",
    "import csv\n",
    "from datetime import datetime\n",
    "import re\n",
    "from tqdm import tqdm\n",
    "import multiprocessing as mp\n",
    "from collections import OrderedDict\n",
    "import time\n",
    "import pandas as pd\n",
    "import argparse\n",
    "import psycopg2\n",
    "import ast\n",
    "import copy\n",
    "\n",
    "# Spark\n",
    "# import findspark\n",
    "# findspark.init('/home/alex/spark-2.4.4-bin-hadoop2.7')\n",
    "import pyspark"
   ]
  },
  {
   "cell_type": "markdown",
   "metadata": {},
   "source": [
    "### Set the nb of processes to use based on cmd line arguments/setting"
   ]
  },
  {
   "cell_type": "code",
   "execution_count": 3,
   "metadata": {},
   "outputs": [],
   "source": [
    "if display.run_from_ipython():\n",
    "    nb_processes_requested = mp.cpu_count()  # From IPython, fixed setting\n",
    "    nb_processes_requested = 1 # From IPython, fixed setting\n",
    "else:\n",
    "    ap = argparse.ArgumentParser()\n",
    "    ap.add_argument(\"-p\", \"--processes\", type=int, default=1, help=\"Number of processes launched to process the reports.\")\n",
    "    args = vars(ap.parse_args())\n",
    "    nb_processes_requested = args[\"processes\"]\n",
    "    if not 1 <= nb_processes_requested <= mp.cpu_count():\n",
    "        raise ValueError('[ERROR] Number of processes requested is incorrect.\\\n",
    "                         \\n{} CPUs are available on this machine, please select a number of processes between 1 and {}'\n",
    "                         .format(mp.cpu_count()))"
   ]
  },
  {
   "cell_type": "markdown",
   "metadata": {},
   "source": [
    "## Settings dictionary"
   ]
  },
  {
   "cell_type": "code",
   "execution_count": 4,
   "metadata": {},
   "outputs": [],
   "source": [
    "home = os.path.expanduser(\"~\")\n",
    "_s = {\n",
    "    'path_stage_1_data': os.path.join(home, 'Desktop/filtered_text_data/nd_data/'),\n",
    "    'path_stock_database': os.path.join(home, 'Desktop/Insight project/Database/Ticker_stock_price.csv'),\n",
    "    'path_filtered_stock_data': os.path.join(home, 'Desktop/Insight project/Database/filtered_stock_data.csv'),\n",
    "    'path_stock_indexes': os.path.join(home, 'Desktop/Insight project/Database/Indexes/'),\n",
    "    'path_filtered_index_data': os.path.join(home, 'Desktop/Insight project/Database/Indexes/filtered_index_data.csv'),\n",
    "    'path_lookup': os.path.join(home, 'Desktop/Insight project/Database/lookup.csv'),\n",
    "    'path_filtered_lookup': os.path.join(home, 'Desktop/Insight project/Database/filtered_lookup.csv'),\n",
    "    'path_master_dictionary': os.path.join(home, 'Desktop/Insight project/Database/LoughranMcDonald_MasterDictionary_2018.csv'),\n",
    "    'path_dump_crsp': os.path.join(home, 'Desktop/Insight project/Database/dump_crsp_merged.txt'),\n",
    "    'path_output_folder': os.path.join(home, 'Desktop/Insight project/Outputs'),\n",
    "    'path_dump_cik_scores': os.path.join(home, 'Desktop/Insight project/Outputs/dump_cik_scores.csv'),\n",
    "    'path_dump_pf_values': os.path.join(home, 'Desktop/Insight project/Outputs/dump_pf_values.csv'),\n",
    "    'path_dump_master_dict': os.path.join(home, 'Desktop/Insight project/Outputs/dump_master_dict.csv'),\n",
    "    'metrics': ['diff_jaccard', 'diff_sk_cosine_tf_idf', 'diff_gfg_editDistDP', 'sing_LoughranMcDonald'],\n",
    "    'stop_words': False,\n",
    "    'lemmatize': False,\n",
    "    'differentiation_mode': 'yearly',\n",
    "    'time_range': [(2012, 1), (2014, 4)],\n",
    "    'bin_count': 5,\n",
    "    'tax_rate': 0.005,\n",
    "    'histogram_date_span_ratio': 0.5,\n",
    "    'report_type': ['10-K', '10-Q'],\n",
    "    'sections_to_parse_10k': [],\n",
    "    'sections_to_parse_10q': [],\n",
    "    'type_daily_price': 'closing'\n",
    "}"
   ]
  },
  {
   "cell_type": "code",
   "execution_count": 5,
   "metadata": {},
   "outputs": [],
   "source": [
    "_s['pf_init_value'] = 100.0  # In points\n",
    "_s['epsilon'] = 0.0001  # Rounding error\n",
    "# Calculated settings\n",
    "_s['list_qtr'] = qtrs.create_qtr_list(_s['time_range'])\n",
    "\n",
    "if _s['bin_count'] == 5:\n",
    "    _s['bin_labels'] = ['Q'+str(n) for n in range(1, _s['bin_count']+1)]\n",
    "elif _s['bin_count'] == 10:\n",
    "    _s['bin_labels'] = ['D'+str(n) for n in range(1, _s['bin_count']+1)]\n",
    "else:\n",
    "    raise ValueError('[ERROR] This type of bin has not been implemented yet.')\n",
    "\n",
    "# Create diff metrics and sing metrics\n",
    "_s['diff_metrics'] = [m for m in _s['metrics'] if m[:4] == 'diff']\n",
    "_s['sing_metrics'] = [m for m in _s['metrics'] if m[:4] == 'sing']\n",
    "# Reports considered to calculate the differences\n",
    "if _s['differentiation_mode'] == 'quarterly':\n",
    "    _s['lag'] = 1\n",
    "    _s['sections_to_parse_10k'] = ['1a', '3', '7', '7a', '9a']\n",
    "    _s['sections_to_parse_10q'] = ['_i_2', '_i_3', '_i_4', 'ii_1', 'ii_1a']\n",
    "elif _s['differentiation_mode'] == 'yearly':\n",
    "    _s['lag'] = 4\n",
    "    _s['sections_to_parse_10k'] = ['1a', '3', '7', '7a', '9a']\n",
    "    _s['sections_to_parse_10q'] = ['_i_2', '_i_3', '_i_4', 'ii_1', 'ii_1a']\n",
    "\n",
    "_s['common_quarterly_sections'] = {\n",
    "        '10-K': ['1a', '3', '7', '7a', '9a'],\n",
    "        '10-Q': ['ii_1a', 'ii_1', '_i_2', '_i_3', '_i_4']\n",
    "}  # Exhibits are not taken into account\n",
    "\"\"\"_s['common_yearly_sections'] = {\n",
    "    '10-K': ['1', '1a', '1b', '2', '3', '4', '5', '6', '7', '7a', '8', '9', '9a', '9b', '10', '11', '12', '13', '14', '15'],\n",
    "    '10-Q': ['_i_1', '_i_2', '_i_3', '_i_4', 'ii_1', 'ii_1a', 'ii_2', 'ii_3', 'ii_4', 'ii_5', 'ii_6']\n",
    "}\"\"\"\n",
    "_s['common_yearly_sections'] = {\n",
    "    '10-K': ['7'],\n",
    "    '10-Q': ['_i_2']\n",
    "}  # Take into account "
   ]
  },
  {
   "cell_type": "code",
   "execution_count": 6,
   "metadata": {},
   "outputs": [],
   "source": [
    "# Transfer s to a read only dict\n",
    "read_only_dict = pre_processing.ReadOnlyDict()\n",
    "for key in _s:  # Brute force copy\n",
    "    read_only_dict[key] = _s[key]\n",
    "s = read_only_dict  # Copy back\n",
    "s.set_read_state(read_only=True)  # Set as read only"
   ]
  },
  {
   "cell_type": "markdown",
   "metadata": {},
   "source": [
    "# Load external tables"
   ]
  },
  {
   "cell_type": "code",
   "execution_count": 7,
   "metadata": {},
   "outputs": [],
   "source": [
    "connector = psycopg2.connect(host=\"localhost\", dbname=\"postgres\", user=\"postgres\", password=\"1\")"
   ]
  },
  {
   "cell_type": "code",
   "execution_count": 8,
   "metadata": {},
   "outputs": [
    {
     "name": "stderr",
     "output_type": "stream",
     "text": [
      "100%|██████████| 34/34 [00:00<00:00, 1443.08it/s]"
     ]
    },
    {
     "name": "stdout",
     "output_type": "stream",
     "text": [
      "[INFO] Deleted table settings\n",
      "[INFO] Creating the following table:\n",
      "CREATE TABLE settings(IDX integer PRIMARY KEY,KEY text,VALUE text)\n"
     ]
    },
    {
     "name": "stderr",
     "output_type": "stream",
     "text": [
      "\n"
     ]
    }
   ],
   "source": [
    "postgres.settings_to_postgres(connector, s)"
   ]
  },
  {
   "cell_type": "markdown",
   "metadata": {},
   "source": [
    "## Extract the list of CIK for which we have complete data"
   ]
  },
  {
   "cell_type": "markdown",
   "metadata": {},
   "source": [
    "The main problem in our case is that we have 3 different database to play with:\n",
    "1. The SEC provides information based on the CIK of the entity\n",
    "2. Given that the CIK is used by no one else, we use a lookup table to transform that into tickers. But we do not have all the correspondances, so the list of useful CIK is shrunk.\n",
    "3. Finally, we only have stock prices for so many tickers. So that shrinks the CIK list even further.\n",
    "\n",
    "We end up with a reduced list of CIK that we can play with."
   ]
  },
  {
   "cell_type": "markdown",
   "metadata": {},
   "source": [
    "### Load the sentiment analysis dictionary"
   ]
  },
  {
   "cell_type": "code",
   "execution_count": 9,
   "metadata": {},
   "outputs": [
    {
     "name": "stdout",
     "output_type": "stream",
     "text": [
      " ...Loading Master Dictionary 85000\n",
      "Master Dictionary loaded from file: \n",
      "  /home/alex/Desktop/Insight project/Database/LoughranMcDonald_MasterDictionary_2018.csv\n",
      "  86,486 words loaded in master_dictionary.\n",
      "\n"
     ]
    }
   ],
   "source": [
    "lm_dictionary = Load_MasterDictionary.load_masterdictionary(s['path_master_dictionary'], True)"
   ]
  },
  {
   "cell_type": "markdown",
   "metadata": {},
   "source": [
    "### Find all the unique CIK from the SEC filings"
   ]
  },
  {
   "cell_type": "code",
   "execution_count": 10,
   "metadata": {},
   "outputs": [
    {
     "name": "stdout",
     "output_type": "stream",
     "text": [
      "[INFO] Loaded 395,773 10-X\n",
      "[INFO] Shrunk to 350,283 ['10-K', '10-Q']\n"
     ]
    },
    {
     "name": "stderr",
     "output_type": "stream",
     "text": [
      " 24%|██▎       | 82936/350283 [00:00<00:00, 829352.88it/s]"
     ]
    },
    {
     "name": "stdout",
     "output_type": "stream",
     "text": [
      "[INFO] Found 18,009 unique CIK in master index\n"
     ]
    },
    {
     "name": "stderr",
     "output_type": "stream",
     "text": [
      "100%|██████████| 350283/350283 [00:00<00:00, 931931.28it/s]"
     ]
    },
    {
     "name": "stdout",
     "output_type": "stream",
     "text": [
      "[INFO] cik_path contains data on 18,009 CIK numbers\n"
     ]
    },
    {
     "name": "stderr",
     "output_type": "stream",
     "text": [
      "\n"
     ]
    }
   ],
   "source": [
    "cik_path = pre_processing.load_cik_path(s)"
   ]
  },
  {
   "cell_type": "markdown",
   "metadata": {},
   "source": [
    "### Get the largest {CIK: ticker} possible given our lookup table"
   ]
  },
  {
   "cell_type": "code",
   "execution_count": 11,
   "metadata": {
    "scrolled": true
   },
   "outputs": [
    {
     "name": "stdout",
     "output_type": "stream",
     "text": [
      "SELECT * FROM lookup;\n",
      "[INFO] Loaded 13,738 CIK/Tickers correspondances.\n"
     ]
    }
   ],
   "source": [
    "lookup, reverse_lookup = postgres.retrieve_lookup(connector)\n",
    "print(\"[INFO] Loaded {:,} CIK/Tickers correspondances.\".format(len(lookup)))"
   ]
  },
  {
   "cell_type": "code",
   "execution_count": 12,
   "metadata": {},
   "outputs": [
    {
     "name": "stdout",
     "output_type": "stream",
     "text": [
      "[INFO] Intersected SEC & lookup.\n",
      "cik_path: 9,547 CIK | lookup: 9,547 CIK\n"
     ]
    }
   ],
   "source": [
    "cik_path, lookup = pre_processing.intersection_sec_lookup(cik_path, lookup)\n",
    "print(\"[INFO] Intersected SEC & lookup.\")\n",
    "print(\"cik_path: {:,} CIK | lookup: {:,} CIK\"\n",
    "      .format(len(cik_path), len(lookup)))"
   ]
  },
  {
   "cell_type": "code",
   "execution_count": 13,
   "metadata": {},
   "outputs": [
    {
     "data": {
      "text/plain": [
       "'MHK'"
      ]
     },
     "execution_count": 13,
     "metadata": {},
     "output_type": "execute_result"
    }
   ],
   "source": [
    "lookup[851968]"
   ]
  },
  {
   "cell_type": "markdown",
   "metadata": {},
   "source": [
    "### Load stock data and drop all CIKs for which we don't have data"
   ]
  },
  {
   "cell_type": "code",
   "execution_count": 14,
   "metadata": {
    "scrolled": true
   },
   "outputs": [
    {
     "name": "stdout",
     "output_type": "stream",
     "text": [
      "SELECT * FROM stock_data;\n"
     ]
    },
    {
     "name": "stderr",
     "output_type": "stream",
     "text": [
      "100%|██████████| 2285837/2285837 [00:02<00:00, 808148.68it/s] \n"
     ]
    }
   ],
   "source": [
    "# Load all stock prices\n",
    "stock_data = postgres.retrieve_all_stock_data(connector, 'stock_data')"
   ]
  },
  {
   "cell_type": "code",
   "execution_count": 15,
   "metadata": {},
   "outputs": [
    {
     "name": "stdout",
     "output_type": "stream",
     "text": [
      "3389\n",
      "[INFO] Intersected lookup & stock data.\n",
      "lookup: 3,524 tickers | stock_data: 3,389 tickers\n"
     ]
    }
   ],
   "source": [
    "lookup, stock_data = pre_processing.intersection_lookup_stock(lookup, stock_data)\n",
    "print(\"[INFO] Intersected lookup & stock data.\")\n",
    "print(\"lookup: {:,} tickers | stock_data: {:,} tickers\"\n",
    "      .format(len(lookup.values()), len(stock_data)))"
   ]
  },
  {
   "cell_type": "markdown",
   "metadata": {},
   "source": [
    "### Load stock indexes - will serve as benchmark later on"
   ]
  },
  {
   "cell_type": "code",
   "execution_count": 16,
   "metadata": {},
   "outputs": [
    {
     "name": "stderr",
     "output_type": "stream",
     "text": [
      "100%|██████████| 26373/26373 [00:00<00:00, 1976563.14it/s]"
     ]
    },
    {
     "name": "stdout",
     "output_type": "stream",
     "text": [
      "SELECT * FROM index_data;\n",
      "[INFO] Loaded the following index data: ['IXIC', 'SPX', 'DJI', 'RUT']\n"
     ]
    },
    {
     "name": "stderr",
     "output_type": "stream",
     "text": [
      "\n"
     ]
    }
   ],
   "source": [
    "index_data = postgres.retrieve_all_stock_data(connector, 'index_data')\n",
    "print(\"[INFO] Loaded the following index data:\", list(index_data.keys()))"
   ]
  },
  {
   "cell_type": "markdown",
   "metadata": {},
   "source": [
    "## Back propagate these intersection all the way to cik_path"
   ]
  },
  {
   "cell_type": "markdown",
   "metadata": {},
   "source": [
    "Technically, we have just done it for lookup. So we only need to re-run an intersection for lookup and sec."
   ]
  },
  {
   "cell_type": "code",
   "execution_count": 17,
   "metadata": {},
   "outputs": [
    {
     "name": "stdout",
     "output_type": "stream",
     "text": [
      "[INFO] Intersected SEC & lookup.\n",
      "cik_path: 3,524 CIK | lookup: 3,524 CIK\n"
     ]
    }
   ],
   "source": [
    "cik_path, lookup = pre_processing.intersection_sec_lookup(cik_path, lookup)\n",
    "print(\"[INFO] Intersected SEC & lookup.\")\n",
    "print(\"cik_path: {:,} CIK | lookup: {:,} CIK\"\n",
    "      .format(len(cik_path), len(lookup)))"
   ]
  },
  {
   "cell_type": "markdown",
   "metadata": {},
   "source": [
    "## Sanity check"
   ]
  },
  {
   "cell_type": "markdown",
   "metadata": {},
   "source": [
    "At this point, cik_path and lookup should have the same number of keys as the CIK is unique in the path database.\n",
    "\n",
    "However, multiple CIK can redirect to the same ticker if the company changed its ticker over time. That should be a very limited amount of cases though."
   ]
  },
  {
   "cell_type": "code",
   "execution_count": 18,
   "metadata": {},
   "outputs": [],
   "source": [
    "assert cik_path.keys() == lookup.keys()\n",
    "assert len(set(lookup.values())) == len(set(stock_data.keys()))"
   ]
  },
  {
   "cell_type": "markdown",
   "metadata": {},
   "source": [
    "At that point, we have a {CIK: ticker} for which the stock is known, which will enable comparison and all down the road."
   ]
  },
  {
   "cell_type": "markdown",
   "metadata": {},
   "source": [
    "## Review all CIKs: make sure there is only one submission per quarter"
   ]
  },
  {
   "cell_type": "markdown",
   "metadata": {},
   "source": [
    "In this section, the goal is to build a list of CIK that will successfully be parsed for the time_range considered.\n",
    "It should be trivial for a vast majority of the CIK, but ideally there should be only one document per quarter for each CIK from the moment they are listed to the moment they are delisted."
   ]
  },
  {
   "cell_type": "code",
   "execution_count": 19,
   "metadata": {
    "scrolled": true
   },
   "outputs": [
    {
     "name": "stderr",
     "output_type": "stream",
     "text": [
      "100%|██████████| 3524/3524 [00:00<00:00, 8690.97it/s]"
     ]
    },
    {
     "name": "stdout",
     "output_type": "stream",
     "text": [
      "\n",
      "[INFO] 948 CIKs caused trouble\n",
      "[INFO] Removed all the CIK that did not have one report per quarter.\n",
      "cik_dict: 2,576 CIK\n"
     ]
    },
    {
     "name": "stderr",
     "output_type": "stream",
     "text": [
      "\n"
     ]
    }
   ],
   "source": [
    "# Create the list of quarters to consider\n",
    "cik_path = pre_processing.review_cik_publications(cik_path, s)\n",
    "print(\"[INFO] Removed all the CIK that did not have one report per quarter.\")\n",
    "print(\"cik_dict: {:,} CIK\".format(len(cik_path)))"
   ]
  },
  {
   "cell_type": "code",
   "execution_count": 20,
   "metadata": {},
   "outputs": [
    {
     "name": "stdout",
     "output_type": "stream",
     "text": [
      "[INFO] We are left with 2,576 CIKs that meet our requirements:\n",
      "- The ticker can be looked up in the CIK/ticker tabke\n",
      "- The stock data is available for that ticker\n",
      "- There is one and only one report per quarter\n"
     ]
    }
   ],
   "source": [
    "print(\"[INFO] We are left with {:,} CIKs that meet our requirements:\".format(len(cik_path)))\n",
    "print(\"- The ticker can be looked up in the CIK/ticker tabke\")\n",
    "print(\"- The stock data is available for that ticker\")\n",
    "print(\"- There is one and only one report per quarter\")"
   ]
  },
  {
   "cell_type": "markdown",
   "metadata": {},
   "source": [
    "## Dump all the data to postgres\n",
    "This is done so that the Flask webapp can retrieve the settings that were used at a later time."
   ]
  },
  {
   "cell_type": "code",
   "execution_count": 21,
   "metadata": {},
   "outputs": [
    {
     "name": "stdout",
     "output_type": "stream",
     "text": [
      "678\n"
     ]
    }
   ],
   "source": [
    "print(list(cik_path.keys()).index(10456))  # Find BAX"
   ]
  },
  {
   "cell_type": "markdown",
   "metadata": {},
   "source": [
    "connector = psycopg2.connect(host=\"localhost\", dbname=\"postgres\", user=\"postgres\", password=\"1\")"
   ]
  },
  {
   "cell_type": "markdown",
   "metadata": {},
   "source": [
    "postgres.settings_to_postgres(connector, s)"
   ]
  },
  {
   "cell_type": "markdown",
   "metadata": {},
   "source": [
    "header_lookup = (('CIK', 'integer'), ('TICKER', 'text'))\n",
    "postgres.lookup_to_postgres(connector, lookup, header_lookup)"
   ]
  },
  {
   "cell_type": "markdown",
   "metadata": {},
   "source": [
    "header = (('TICKER', 'text'), ('TIMESTAMP', 'date'), \n",
    "          ('ASK', 'float'), ('MARKET_CAP', 'float'))\n",
    "path = os.path.join(home, 'Desktop/Insight project/Database/stock_data_filtered.csv')\n",
    "postgres.stock_data_csv_to_postgres(connector, path, header)"
   ]
  },
  {
   "cell_type": "markdown",
   "metadata": {},
   "source": [
    "stock_data_2 = postgres.retrieve_stock_data(connector)"
   ]
  },
  {
   "cell_type": "markdown",
   "metadata": {},
   "source": [
    "# Parse files"
   ]
  },
  {
   "cell_type": "markdown",
   "metadata": {},
   "source": [
    "Now we have a list of CIK that should make it until the end. It is time to open the relevant reports and start parsing. This step takes a lot of time and can get arbitrarily long as the metrics get fancier.\n",
    "\n",
    "You do not want to keep in RAM all the parsed data. However, there are only ~100 quarters for which we have data and the stage 2 files are no more than 1 Mb in size (Apple seems to top out at ~ 325 kb). So 100 Mb per core + others, that's definitely doable. More cores will use more RAM, but the usage remains reasonable.\n",
    "\n",
    "We use multiprocessing to go through N CIK at once but a single core is dedicated to going through a given CIK for the specified time_range. Such a core can be running for a while if the company has been in business for the whole time_range and publish a lot of text data in its 10-K."
   ]
  },
  {
   "cell_type": "code",
   "execution_count": 22,
   "metadata": {},
   "outputs": [],
   "source": [
    "try:\n",
    "    sc.stop()\n",
    "except:\n",
    "    pass\n",
    "nb_processes_requested = 8"
   ]
  },
  {
   "cell_type": "code",
   "execution_count": 23,
   "metadata": {},
   "outputs": [],
   "source": [
    "nb_processes_requested = 8"
   ]
  },
  {
   "cell_type": "code",
   "execution_count": 24,
   "metadata": {
    "scrolled": true
   },
   "outputs": [
    {
     "name": "stderr",
     "output_type": "stream",
     "text": [
      "  0%|          | 0/100 [00:00<?, ?it/s]\n"
     ]
    },
    {
     "name": "stdout",
     "output_type": "stream",
     "text": [
      "[INFO] Starting a pool of 8 workers\n"
     ]
    },
    {
     "name": "stderr",
     "output_type": "stream",
     "text": [
      "0it [00:00, ?it/s]\u001b[A"
     ]
    },
    {
     "name": "stdout",
     "output_type": "stream",
     "text": [
      "[WARNING] Text was cut. Current: 200/8777 used | Previous: 200/9185 used\n",
      "[WARNING] Text was cut. Current: 200/9047 used | Previous: 200/12 used\n",
      "[WARNING] Text was cut. Current: 200/6790 used | Previous: 200/12 used\n",
      "[WARNING] Text was cut. Current: 200/9097 used | Previous: 200/8777 used\n",
      "[WARNING] Text was cut. Current: 200/12 used | Previous: 200/6790 used\n"
     ]
    },
    {
     "name": "stderr",
     "output_type": "stream",
     "text": [
      "  1%|          | 1/100 [00:02<04:48,  2.92s/it]\n",
      "  2%|▏         | 2/100 [00:03<03:35,  2.20s/it]"
     ]
    },
    {
     "name": "stdout",
     "output_type": "stream",
     "text": [
      "[WARNING] Text was cut. Current: 200/8067 used | Previous: 200/6862 used\n",
      "[WARNING] Text was cut. Current: 200/9083 used | Previous: 200/8770 used\n",
      "[WARNING] Text was cut. Current: 200/14053 used | Previous: 200/12 used\n",
      "[WARNING] Text was cut. Current: 200/9943 used | Previous: 200/8010 used\n",
      "[WARNING] Text was cut. Current: 200/6132 used | Previous: 200/5258 used\n",
      "[ERROR] list index out of range in parser.clean_first_markers (10-Q)\n",
      "This is the res\n",
      " {'_i_1': [(6476, 6498)], '_i_2': [(29598, 29622)], '_i_3': [(64460, 64485)], '_i_4': [(65862, 65884)], 'ii_1': [(67300, 67318)], 'ii_1a': [], 'ii_2': [(67891, 67916)], 'ii_4': [(68040, 68057)], 'ii_5': [(68088, 68110)], 'ii_6': [(68175, 68197)]}\n",
      "[WARNING] /home/alex/Desktop/filtered_text_data/nd_data/2012/QTR2/20120504_10-Q_edgar_data_1171486_0001193125-12-210830_1.txt failed parsing\n"
     ]
    },
    {
     "name": "stderr",
     "output_type": "stream",
     "text": [
      "  3%|▎         | 3/100 [00:06<04:01,  2.49s/it]\n",
      "3it [00:06,  2.70s/it]\u001b[A"
     ]
    },
    {
     "name": "stdout",
     "output_type": "stream",
     "text": [
      "[WARNING] Text was cut. Current: 200/7902 used | Previous: 200/6413 used\n",
      "[WARNING] Text was cut. Current: 200/6684 used | Previous: 200/5944 used\n",
      "[WARNING] Text was cut. Current: 200/11423 used | Previous: 200/13712 used\n",
      "[WARNING] Text was cut. Current: 200/2319 used | Previous: 200/2487 used\n",
      "[WARNING] Text was cut. Current: 200/6746 used | Previous: 200/6223 used\n",
      "[WARNING] Text was cut. Current: 200/9050 used | Previous: 200/8504 used\n",
      "[WARNING] Text was cut. Current: 200/3210 used | Previous: 200/3123 used\n",
      "[WARNING] Text was cut. Current: 200/3081 used | Previous: 200/9859 used\n",
      "[WARNING] Text was cut. Current: 200/7560 used | Previous: 200/8067 used\n",
      "[WARNING] Text was cut. Current: 200/10382 used | Previous: 200/12 used\n",
      "[WARNING] Text was cut. Current: 200/3312 used | Previous: 200/3250 used\n",
      "[WARNING] Text was cut. Current: 200/3230 used | Previous: 200/9994 used\n",
      "[WARNING] Text was cut. Current: 200/2400 used | Previous: 200/2319 used\n",
      "[WARNING] Text was cut. Current: 200/9252 used | Previous: 200/9083 used\n",
      "[WARNING] Text was cut. Current: 200/6970 used | Previous: 200/6773 used\n",
      "[WARNING] Text was cut. Current: 200/8989 used | Previous: 200/9943 used\n",
      "[WARNING] Text was cut. Current: 200/3650 used | Previous: 200/3210 used\n",
      "[WARNING] Text was cut. Current: 200/3079 used | Previous: 200/9622 used\n",
      "[WARNING] Text was cut. Current: 200/3463 used | Previous: 200/3159 used\n",
      "[WARNING] Text was cut. Current: 200/6177 used | Previous: 200/6132 used\n",
      "[WARNING] Text was cut. Current: 200/15979 used | Previous: 200/14053 used\n",
      "[WARNING] Text was cut. Current: 200/3762 used | Previous: 200/3312 used\n",
      "[WARNING] Text was cut. Current: 200/3082 used | Previous: 200/2817 used\n"
     ]
    },
    {
     "name": "stderr",
     "output_type": "stream",
     "text": [
      "  4%|▍         | 4/100 [00:08<03:44,  2.34s/it]\n",
      "4it [00:08,  2.48s/it]\u001b[A"
     ]
    },
    {
     "name": "stdout",
     "output_type": "stream",
     "text": [
      "[WARNING] Text was cut. Current: 200/3982 used | Previous: 200/3237 used\n",
      "[WARNING] Text was cut. Current: 200/9639 used | Previous: 200/11423 used\n"
     ]
    },
    {
     "name": "stderr",
     "output_type": "stream",
     "text": [
      "\r",
      "  5%|▌         | 5/100 [00:09<03:01,  1.91s/it]"
     ]
    },
    {
     "name": "stdout",
     "output_type": "stream",
     "text": [
      "[WARNING] Text was cut. Current: 200/2402 used | Previous: 200/3081 used\n",
      "[WARNING] Text was cut. Current: 200/6605 used | Previous: 200/6684 used\n",
      "[WARNING] Text was cut. Current: 200/7813 used | Previous: 200/7902 used\n",
      "[WARNING] Text was cut. Current: 200/4334 used | Previous: 200/3463 used\n",
      "[WARNING] Text was cut. Current: 200/2101 used | Previous: 200/3230 used\n",
      "[WARNING] Text was cut. Current: 200/6812 used | Previous: 200/6746 used\n",
      "[WARNING] Text was cut. Current: 200/7239 used | Previous: 200/6970 used\n",
      "[WARNING] Text was cut. Current: 200/8238 used | Previous: 200/9050 used\n"
     ]
    },
    {
     "name": "stderr",
     "output_type": "stream",
     "text": [
      "\n",
      "5it [00:09,  2.01s/it]\u001b[A"
     ]
    },
    {
     "name": "stdout",
     "output_type": "stream",
     "text": [
      "[WARNING] Text was cut. Current: 200/4047 used | Previous: 200/3463 used\n",
      "[WARNING] Text was cut. Current: 200/4309 used | Previous: 200/3982 used\n"
     ]
    },
    {
     "name": "stderr",
     "output_type": "stream",
     "text": [
      "\r",
      "  8%|▊         | 8/100 [00:10<02:09,  1.40s/it]"
     ]
    },
    {
     "name": "stdout",
     "output_type": "stream",
     "text": [
      "[WARNING] Text was cut. Current: 200/9378 used | Previous: 200/10382 used\n"
     ]
    },
    {
     "name": "stderr",
     "output_type": "stream",
     "text": [
      "\n",
      "8it [00:09,  1.48s/it]\u001b[A"
     ]
    },
    {
     "name": "stdout",
     "output_type": "stream",
     "text": [
      "[WARNING] Text was cut. Current: 200/4664 used | Previous: 200/4334 used\n"
     ]
    },
    {
     "name": "stderr",
     "output_type": "stream",
     "text": [
      "  9%|▉         | 9/100 [00:10<01:50,  1.21s/it]\n",
      "9it [00:10,  1.26s/it]\u001b[A"
     ]
    },
    {
     "name": "stdout",
     "output_type": "stream",
     "text": [
      "[WARNING] Text was cut. Current: 200/10295 used | Previous: 200/11226 used\n",
      "[WARNING] Text was cut. Current: 200/5966 used | Previous: 200/5963 used\n",
      "[WARNING] Text was cut. Current: 200/2266 used | Previous: 200/2501 used\n",
      "[WARNING] Text was cut. Current: 200/3167 used | Previous: 200/3188 used\n"
     ]
    },
    {
     "name": "stderr",
     "output_type": "stream",
     "text": [
      "\r",
      " 10%|█         | 10/100 [00:12<02:00,  1.34s/it]"
     ]
    },
    {
     "name": "stdout",
     "output_type": "stream",
     "text": [
      "[WARNING] Text was cut. Current: 200/3428 used | Previous: 200/3595 used\n",
      "[WARNING] Text was cut. Current: 200/6017 used | Previous: 200/5966 used\n",
      "[WARNING] Text was cut. Current: 200/2284 used | Previous: 200/2266 used\n"
     ]
    },
    {
     "name": "stderr",
     "output_type": "stream",
     "text": [
      "\n",
      "10it [00:12,  1.38s/it]\u001b[A"
     ]
    },
    {
     "name": "stdout",
     "output_type": "stream",
     "text": [
      "[WARNING] Text was cut. Current: 200/3113 used | Previous: 200/3167 used\n",
      "[WARNING] Text was cut. Current: 200/3575 used | Previous: 200/3428 used\n"
     ]
    },
    {
     "name": "stderr",
     "output_type": "stream",
     "text": [
      " 11%|█         | 11/100 [00:13<01:51,  1.26s/it]\n",
      "11it [00:13,  1.28s/it]\u001b[A"
     ]
    },
    {
     "name": "stdout",
     "output_type": "stream",
     "text": [
      "[WARNING] Text was cut. Current: 200/16721 used | Previous: 200/16875 used\n",
      "[WARNING] Text was cut. Current: 200/21925 used | Previous: 200/19019 used\n"
     ]
    },
    {
     "name": "stderr",
     "output_type": "stream",
     "text": [
      " 12%|█▏        | 12/100 [00:16<02:34,  1.76s/it]\n",
      "12it [00:16,  1.77s/it]\u001b[A"
     ]
    },
    {
     "name": "stdout",
     "output_type": "stream",
     "text": [
      "[WARNING] Text was cut. Current: 200/24542 used | Previous: 200/20695 used\n",
      "[WARNING] Text was cut. Current: 200/17601 used | Previous: 200/16721 used\n",
      "[WARNING] Text was cut. Current: 200/9120 used | Previous: 200/9620 used\n",
      "[WARNING] Text was cut. Current: 200/7714 used | Previous: 200/7947 used\n",
      "[WARNING] Text was cut. Current: 200/22372 used | Previous: 200/21925 used\n",
      "[WARNING] Text was cut. Current: 200/9454 used | Previous: 200/9679 used\n",
      "[WARNING] Text was cut. Current: 200/11608 used | Previous: 200/12118 used\n",
      "[WARNING] Text was cut. Current: 200/4717 used | Previous: 200/4379 used\n",
      "[WARNING] Text was cut. Current: 200/7676 used | Previous: 200/7618 used\n",
      "[WARNING] Text was cut. Current: 200/9984 used | Previous: 200/9670 used\n"
     ]
    },
    {
     "name": "stderr",
     "output_type": "stream",
     "text": [
      " 13%|█▎        | 13/100 [00:19<03:12,  2.21s/it]\n",
      "13it [00:19,  2.22s/it]\u001b[A"
     ]
    },
    {
     "name": "stdout",
     "output_type": "stream",
     "text": [
      "[WARNING] Text was cut. Current: 200/6252 used | Previous: 200/5791 used\n",
      "[WARNING] Text was cut. Current: 200/22790 used | Previous: 200/24542 used\n"
     ]
    },
    {
     "name": "stderr",
     "output_type": "stream",
     "text": [
      "\r",
      " 14%|█▍        | 14/100 [00:20<02:37,  1.83s/it]"
     ]
    },
    {
     "name": "stdout",
     "output_type": "stream",
     "text": [
      "[WARNING] Text was cut. Current: 200/6251 used | Previous: 200/5986 used\n"
     ]
    },
    {
     "name": "stderr",
     "output_type": "stream",
     "text": [
      "\n"
     ]
    },
    {
     "name": "stdout",
     "output_type": "stream",
     "text": [
      "[WARNING] Text was cut. Current: 200/10254 used | Previous: 200/10333 used\n"
     ]
    },
    {
     "name": "stderr",
     "output_type": "stream",
     "text": [
      "14it [00:20,  1.84s/it]\u001b[A"
     ]
    },
    {
     "name": "stdout",
     "output_type": "stream",
     "text": [
      "[WARNING] Text was cut. Current: 200/8746 used | Previous: 200/9120 used\n",
      "[WARNING] Text was cut. Current: 200/12548 used | Previous: 200/11608 used\n",
      "[WARNING] Text was cut. Current: 200/9153 used | Previous: 200/9454 used\n",
      "[WARNING] Text was cut. Current: 200/5231 used | Previous: 200/4717 used\n",
      "[WARNING] Text was cut. Current: 200/22494 used | Previous: 200/21276 used\n",
      "[WARNING] Text was cut. Current: 200/9167 used | Previous: 200/9984 used\n",
      "[WARNING] Text was cut. Current: 200/7514 used | Previous: 200/6252 used\n"
     ]
    },
    {
     "name": "stderr",
     "output_type": "stream",
     "text": [
      " 15%|█▌        | 15/100 [00:22<02:24,  1.70s/it]\n",
      "15it [00:21,  1.70s/it]\u001b[A"
     ]
    },
    {
     "name": "stdout",
     "output_type": "stream",
     "text": [
      "[WARNING] Text was cut. Current: 200/14800 used | Previous: 200/13921 used\n",
      "[WARNING] Text was cut. Current: 200/7590 used | Previous: 200/6251 used\n",
      "[WARNING] Text was cut. Current: 200/9558 used | Previous: 200/9133 used\n",
      "[WARNING] Text was cut. Current: 200/12107 used | Previous: 200/6 used\n"
     ]
    },
    {
     "name": "stderr",
     "output_type": "stream",
     "text": [
      " 16%|█▌        | 16/100 [00:23<02:05,  1.50s/it]\n",
      "16it [00:22,  1.50s/it]\u001b[A"
     ]
    },
    {
     "name": "stdout",
     "output_type": "stream",
     "text": [
      "[WARNING] Text was cut. Current: 200/13771 used | Previous: 200/9459 used\n",
      "[WARNING] Text was cut. Current: 200/13581 used | Previous: 200/13411 used\n",
      "[WARNING] Text was cut. Current: 200/14710 used | Previous: 200/9942 used\n",
      "[WARNING] Text was cut. Current: 200/5253 used | Previous: 200/4504 used\n",
      "[WARNING] Text was cut. Current: 200/14463 used | Previous: 200/13968 used\n",
      "[WARNING] Text was cut. Current: 200/5592 used | Previous: 200/4602 used\n"
     ]
    },
    {
     "name": "stderr",
     "output_type": "stream",
     "text": [
      " 17%|█▋        | 17/100 [00:24<02:01,  1.47s/it]\n",
      "17it [00:24,  1.47s/it]\u001b[A"
     ]
    },
    {
     "name": "stdout",
     "output_type": "stream",
     "text": [
      "[WARNING] Text was cut. Current: 200/17976 used | Previous: 200/14800 used\n",
      "[WARNING] Text was cut. Current: 200/24018 used | Previous: 200/22494 used\n"
     ]
    },
    {
     "name": "stderr",
     "output_type": "stream",
     "text": [
      " 18%|█▊        | 18/100 [00:25<01:49,  1.33s/it]\n",
      "18it [00:25,  1.33s/it]\u001b[A"
     ]
    },
    {
     "name": "stdout",
     "output_type": "stream",
     "text": [
      "[WARNING] Text was cut. Current: 200/14023 used | Previous: 200/12107 used\n",
      "[WARNING] Text was cut. Current: 200/9490 used | Previous: 200/9558 used\n",
      "[WARNING] Text was cut. Current: 200/15304 used | Previous: 200/13771 used\n",
      "[ERROR] Here is full_sect: |[]|\n",
      "[ERROR] Original res: {'1': [], '1a': [], '1b': [], '2': [], '3': [], '4': [], '5': [], '6': [], '7': [], '7a': [], '8': [], '9': [], '9a': [], '9b': [], '10': [], '11': [], '12': [], '13': [], '14': [], '15': []}\n",
      "[WARNING] /home/alex/Desktop/filtered_text_data/nd_data/2012/QTR1/20120306_10-K_edgar_data_892986_0001047469-12-002166_1.txt failed parsing\n"
     ]
    },
    {
     "name": "stderr",
     "output_type": "stream",
     "text": [
      " 19%|█▉        | 19/100 [00:26<01:42,  1.26s/it]\n",
      "19it [00:26,  1.26s/it]\u001b[A"
     ]
    },
    {
     "name": "stdout",
     "output_type": "stream",
     "text": [
      "[WARNING] Text was cut. Current: 200/13617 used | Previous: 200/13581 used\n",
      "[WARNING] Text was cut. Current: 200/15691 used | Previous: 200/14710 used\n",
      "[WARNING] Text was cut. Current: 200/14490 used | Previous: 200/14463 used\n"
     ]
    },
    {
     "name": "stderr",
     "output_type": "stream",
     "text": [
      " 20%|██        | 20/100 [00:27<01:33,  1.16s/it]\n",
      "20it [00:27,  1.16s/it]\u001b[A"
     ]
    },
    {
     "name": "stdout",
     "output_type": "stream",
     "text": [
      "[WARNING] Text was cut. Current: 200/14759 used | Previous: 200/15030 used\n"
     ]
    },
    {
     "name": "stderr",
     "output_type": "stream",
     "text": [
      "\r",
      " 21%|██        | 21/100 [00:28<01:24,  1.07s/it]"
     ]
    },
    {
     "name": "stdout",
     "output_type": "stream",
     "text": [
      "[WARNING] Not enough valid reports for CIK 41023 in this time_range. Skipping.\n"
     ]
    },
    {
     "name": "stderr",
     "output_type": "stream",
     "text": [
      "\n",
      "21it [00:28,  1.07s/it]\u001b[A"
     ]
    },
    {
     "name": "stdout",
     "output_type": "stream",
     "text": [
      "[WARNING] Text was cut. Current: 200/7057 used | Previous: 200/7605 used\n",
      "[ERROR] list index out of range in parser.clean_first_markers (10-Q)\n",
      "This is the res\n",
      " {'_i_1': [(4105, 4128)], '_i_2': [(35180, 35202)], '_i_3': [(50226, 50249)], '_i_4': [(52879, 52899)], 'ii_1a': [], 'ii_6': [(53608, 53629)]}\n",
      "[WARNING] /home/alex/Desktop/filtered_text_data/nd_data/2012/QTR2/20120509_10-Q_edgar_data_712770_0001104659-12-035186_1.txt failed parsing\n",
      "[WARNING] Text was cut. Current: 200/8914 used | Previous: 200/11151 used\n"
     ]
    },
    {
     "name": "stderr",
     "output_type": "stream",
     "text": [
      " 23%|██▎       | 23/100 [00:29<01:09,  1.11it/s]\n",
      "23it [00:29,  1.11it/s]\u001b[A"
     ]
    },
    {
     "name": "stdout",
     "output_type": "stream",
     "text": [
      "[WARNING] Text was cut. Current: 200/11274 used | Previous: 200/10533 used\n",
      "[WARNING] Text was cut. Current: 200/9271 used | Previous: 200/11441 used\n",
      "[WARNING] Text was cut. Current: 200/6253 used | Previous: 200/4423 used\n",
      "[WARNING] Text was cut. Current: 200/15622 used | Previous: 200/14759 used\n",
      "[WARNING] Text was cut. Current: 200/7761 used | Previous: 200/5869 used\n",
      "[WARNING] Text was cut. Current: 200/7873 used | Previous: 200/5911 used\n",
      "[WARNING] Text was cut. Current: 200/7468 used | Previous: 200/7057 used\n",
      "[WARNING] Text was cut. Current: 200/7320 used | Previous: 200/6827 used\n",
      "[WARNING] Text was cut. Current: 200/8907 used | Previous: 200/8914 used\n",
      "[WARNING] Text was cut. Current: 200/11525 used | Previous: 200/11274 used\n",
      "[WARNING] Text was cut. Current: 200/8514 used | Previous: 200/9271 used\n",
      "[WARNING] Text was cut. Current: 200/8532 used | Previous: 200/6253 used\n"
     ]
    },
    {
     "name": "stderr",
     "output_type": "stream",
     "text": [
      " 24%|██▍       | 24/100 [00:32<01:49,  1.45s/it]\n",
      "24it [00:31,  1.45s/it]\u001b[A"
     ]
    },
    {
     "name": "stdout",
     "output_type": "stream",
     "text": [
      "[WARNING] Text was cut. Current: 200/9505 used | Previous: 200/7761 used\n",
      "[WARNING] Text was cut. Current: 200/2943 used | Previous: 200/3100 used\n",
      "[WARNING] Text was cut. Current: 200/10938 used | Previous: 200/7873 used\n",
      "[WARNING] Text was cut. Current: 200/4122 used | Previous: 200/4106 used\n"
     ]
    },
    {
     "name": "stderr",
     "output_type": "stream",
     "text": [
      " 25%|██▌       | 25/100 [00:33<01:40,  1.34s/it]\n",
      "25it [00:33,  1.34s/it]\u001b[A"
     ]
    },
    {
     "name": "stdout",
     "output_type": "stream",
     "text": [
      "[WARNING] Text was cut. Current: 200/4317 used | Previous: 200/4605 used\n",
      "[WARNING] Text was cut. Current: 200/6769 used | Previous: 200/7320 used\n",
      "[WARNING] Text was cut. Current: 200/3418 used | Previous: 200/2943 used\n",
      "[WARNING] Text was cut. Current: 200/4480 used | Previous: 200/4122 used\n",
      "[WARNING] Text was cut. Current: 200/4657 used | Previous: 200/4317 used\n"
     ]
    },
    {
     "name": "stderr",
     "output_type": "stream",
     "text": [
      " 26%|██▌       | 26/100 [00:34<01:44,  1.42s/it]\n",
      "26it [00:34,  1.42s/it]\u001b[A"
     ]
    },
    {
     "name": "stdout",
     "output_type": "stream",
     "text": [
      "[WARNING] Text was cut. Current: 200/11590 used | Previous: 200/11499 used\n",
      "[WARNING] Text was cut. Current: 200/6754 used | Previous: 200/6353 used\n",
      "[WARNING] Text was cut. Current: 200/7261 used | Previous: 200/7084 used\n",
      "[WARNING] Text was cut. Current: 200/4534 used | Previous: 200/4272 used\n",
      "[WARNING] Text was cut. Current: 200/9253 used | Previous: 200/8657 used\n",
      "[WARNING] Text was cut. Current: 200/5305 used | Previous: 200/5274 used\n",
      "[WARNING] Text was cut. Current: 200/5643 used | Previous: 200/5424 used\n",
      "[WARNING] Text was cut. Current: 200/9496 used | Previous: 200/8892 used\n",
      "[WARNING] Text was cut. Current: 200/7021 used | Previous: 200/6754 used\n",
      "[WARNING] Text was cut. Current: 200/11976 used | Previous: 200/11590 used\n",
      "[WARNING] Text was cut. Current: 200/5094 used | Previous: 200/4534 used\n",
      "[WARNING] Text was cut. Current: 200/17787 used | Previous: 200/19192 used\n",
      "[WARNING] Text was cut. Current: 200/12706 used | Previous: 200/7409 used\n",
      "[WARNING] Text was cut. Current: 200/5603 used | Previous: 200/5305 used\n",
      "[WARNING] Text was cut. Current: 200/5166 used | Previous: 200/6 used\n",
      "[WARNING] Text was cut. Current: 200/7569 used | Previous: 200/7261 used\n",
      "[WARNING] Text was cut. Current: 200/1920 used | Previous: 200/2588 used\n",
      "[WARNING] Text was cut. Current: 200/11861 used | Previous: 200/7419 used\n",
      "[WARNING] Text was cut. Current: 200/10981 used | Previous: 200/10720 used\n",
      "[WARNING] Text was cut. Current: 200/5898 used | Previous: 200/5643 used\n"
     ]
    },
    {
     "name": "stderr",
     "output_type": "stream",
     "text": [
      " 27%|██▋       | 27/100 [00:38<02:27,  2.02s/it]\n",
      "27it [00:38,  2.02s/it]\u001b[A"
     ]
    },
    {
     "name": "stdout",
     "output_type": "stream",
     "text": [
      "[WARNING] Text was cut. Current: 200/2989 used | Previous: 200/3873 used\n",
      "[WARNING] Text was cut. Current: 200/9517 used | Previous: 200/9253 used\n"
     ]
    },
    {
     "name": "stderr",
     "output_type": "stream",
     "text": [
      "\r",
      " 28%|██▊       | 28/100 [00:39<02:05,  1.74s/it]"
     ]
    },
    {
     "name": "stdout",
     "output_type": "stream",
     "text": [
      "[WARNING] Text was cut. Current: 200/3821 used | Previous: 200/4424 used\n",
      "[WARNING] Text was cut. Current: 200/15950 used | Previous: 200/8094 used\n",
      "[WARNING] Text was cut. Current: 200/12231 used | Previous: 200/12095 used\n",
      "[WARNING] Text was cut. Current: 200/9725 used | Previous: 200/9496 used\n",
      "[WARNING] Text was cut. Current: 200/6502 used | Previous: 200/5166 used\n",
      "[WARNING] Text was cut. Current: 200/2074 used | Previous: 200/1920 used\n"
     ]
    },
    {
     "name": "stderr",
     "output_type": "stream",
     "text": [
      "\n",
      "28it [00:39,  1.75s/it]\u001b[A"
     ]
    },
    {
     "name": "stdout",
     "output_type": "stream",
     "text": [
      "[WARNING] Text was cut. Current: 200/16518 used | Previous: 200/9867 used\n",
      "[WARNING] Text was cut. Current: 200/12181 used | Previous: 200/12792 used\n"
     ]
    },
    {
     "name": "stderr",
     "output_type": "stream",
     "text": [
      "\r",
      " 29%|██▉       | 29/100 [00:40<01:47,  1.52s/it]"
     ]
    },
    {
     "name": "stdout",
     "output_type": "stream",
     "text": [
      "[WARNING] Text was cut. Current: 200/3001 used | Previous: 200/2989 used\n"
     ]
    },
    {
     "name": "stderr",
     "output_type": "stream",
     "text": [
      "\n"
     ]
    },
    {
     "name": "stdout",
     "output_type": "stream",
     "text": [
      "[WARNING] Text was cut. Current: 200/2814 used | Previous: 200/3821 used\n"
     ]
    },
    {
     "name": "stderr",
     "output_type": "stream",
     "text": [
      "29it [00:40,  1.52s/it]\u001b[A"
     ]
    },
    {
     "name": "stdout",
     "output_type": "stream",
     "text": [
      "[WARNING] Text was cut. Current: 200/17239 used | Previous: 200/17787 used\n",
      "[WARNING] Text was cut. Current: 200/20636 used | Previous: 200/12706 used\n",
      "[WARNING] Text was cut. Current: 200/14363 used | Previous: 200/14706 used\n",
      "[WARNING] Text was cut. Current: 200/6443 used | Previous: 200/7148 used\n",
      "[WARNING] Text was cut. Current: 200/10562 used | Previous: 200/10981 used\n",
      "[WARNING] Text was cut. Current: 200/12277 used | Previous: 200/11861 used\n",
      "[WARNING] Text was cut. Current: 200/10854 used | Previous: 200/11335 used\n",
      "[WARNING] Text was cut. Current: 200/6 used | Previous: 200/12231 used\n",
      "[WARNING] Text was cut. Current: 200/7071 used | Previous: 200/8498 used\n",
      "[WARNING] Text was cut. Current: 200/5921 used | Previous: 200/4623 used\n",
      "[WARNING] Text was cut. Current: 200/7448 used | Previous: 200/7788 used\n",
      "[WARNING] Text was cut. Current: 200/14182 used | Previous: 200/15950 used\n",
      "[WARNING] Text was cut. Current: 200/8420 used | Previous: 200/12181 used\n",
      "[WARNING] Text was cut. Current: 200/6939 used | Previous: 200/12 used\n"
     ]
    },
    {
     "name": "stderr",
     "output_type": "stream",
     "text": [
      " 30%|███       | 30/100 [00:42<01:55,  1.65s/it]\n",
      "30it [00:42,  1.65s/it]\u001b[A"
     ]
    },
    {
     "name": "stdout",
     "output_type": "stream",
     "text": [
      "[WARNING] Text was cut. Current: 200/7346 used | Previous: 200/12 used\n",
      "[WARNING] Text was cut. Current: 200/12725 used | Previous: 200/14363 used\n"
     ]
    },
    {
     "name": "stderr",
     "output_type": "stream",
     "text": [
      "\r",
      " 31%|███       | 31/100 [00:43<01:43,  1.50s/it]"
     ]
    },
    {
     "name": "stdout",
     "output_type": "stream",
     "text": [
      "[WARNING] Text was cut. Current: 200/12068 used | Previous: 200/10854 used\n"
     ]
    },
    {
     "name": "stderr",
     "output_type": "stream",
     "text": [
      "\n"
     ]
    },
    {
     "name": "stdout",
     "output_type": "stream",
     "text": [
      "[WARNING] Text was cut. Current: 200/7040 used | Previous: 200/6443 used\n"
     ]
    },
    {
     "name": "stderr",
     "output_type": "stream",
     "text": [
      "31it [00:43,  1.50s/it]\u001b[A"
     ]
    },
    {
     "name": "stdout",
     "output_type": "stream",
     "text": [
      "[WARNING] Text was cut. Current: 200/8351 used | Previous: 200/7071 used\n",
      "[WARNING] Text was cut. Current: 200/6620 used | Previous: 200/5921 used\n",
      "[WARNING] Text was cut. Current: 200/7795 used | Previous: 200/6939 used\n",
      "[WARNING] Text was cut. Current: 200/8560 used | Previous: 200/7448 used\n"
     ]
    },
    {
     "name": "stderr",
     "output_type": "stream",
     "text": [
      " 32%|███▏      | 32/100 [00:44<01:39,  1.46s/it]\n",
      "32it [00:44,  1.46s/it]\u001b[A"
     ]
    },
    {
     "name": "stdout",
     "output_type": "stream",
     "text": [
      "[WARNING] Text was cut. Current: 200/8305 used | Previous: 200/7346 used\n"
     ]
    },
    {
     "name": "stderr",
     "output_type": "stream",
     "text": [
      "\r",
      " 33%|███▎      | 33/100 [00:46<01:33,  1.40s/it]"
     ]
    },
    {
     "name": "stdout",
     "output_type": "stream",
     "text": [
      "[ERROR] list index out of range in parser.clean_first_markers (10-K)\n"
     ]
    },
    {
     "name": "stderr",
     "output_type": "stream",
     "text": [
      "\n"
     ]
    },
    {
     "name": "stdout",
     "output_type": "stream",
     "text": [
      "This is the res\n",
      " {'1': [(231317, 231336)], '1a': [], '1b': [(121705, 121725)], '2': [(121750, 121769), (231342, 231363)], '3': [(5377, 5396), (204218, 204232)], '5': [(5509, 5529), (208048, 208063)], '6': [(5652, 5674), (230680, 230697)], '7': [(5706, 5730), (231074, 231095), (231469, 231488)], '7a': [(5827, 5854), (261627, 261649)], '8': [(5918, 5941), (36499, 36518), (261714, 261732)], '9': [(5992, 6013), (261987, 262003)], '9a': [(6111, 6134)], '9b': [(6166, 6186), (267075, 267090)], '10': [(6244, 6268), (267122, 267141)], '11': [(6330, 6354), (267722, 267741)], '12': [(6384, 6407), (267885, 267903)], '13': [(6510, 6532), (268116, 268133)], '14': [(6619, 6643), (268330, 268349)], '15': [(6719, 6742), (268519, 268537)]}\n",
      "[WARNING] /home/alex/Desktop/filtered_text_data/nd_data/2012/QTR1/20120309_10-K_edgar_data_1319009_0001144204-12-014022_1.txt failed parsing\n"
     ]
    },
    {
     "name": "stderr",
     "output_type": "stream",
     "text": [
      "33it [00:45,  1.40s/it]\u001b[A"
     ]
    },
    {
     "name": "stdout",
     "output_type": "stream",
     "text": [
      "[ERROR] Here is full_sect: |[]|\n",
      "[ERROR] Original res: {'_i_1': [], '_i_2': [], '_i_3': [], '_i_4': [], 'ii_1': [], 'ii_1a': [], 'ii_2': [], 'ii_3': [], 'ii_4': [], 'ii_5': [], 'ii_6': []}\n"
     ]
    },
    {
     "name": "stderr",
     "output_type": "stream",
     "text": [
      "\r",
      " 35%|███▌      | 35/100 [00:47<01:11,  1.10s/it]"
     ]
    },
    {
     "name": "stdout",
     "output_type": "stream",
     "text": [
      "[WARNING] /home/alex/Desktop/filtered_text_data/nd_data/2012/QTR2/20120501_10-Q_edgar_data_82020_0001104659-12-031348_1.txt failed parsing\n",
      "[WARNING] Text was cut. Current: 200/24544 used | Previous: 200/29179 used\n"
     ]
    },
    {
     "name": "stderr",
     "output_type": "stream",
     "text": [
      "\n",
      "35it [00:46,  1.11s/it]\u001b[A"
     ]
    },
    {
     "name": "stdout",
     "output_type": "stream",
     "text": [
      "[WARNING] Text was cut. Current: 200/10126 used | Previous: 200/10080 used\n",
      "[WARNING] Not enough valid reports for CIK 901219 in this time_range. Skipping.\n"
     ]
    },
    {
     "name": "stderr",
     "output_type": "stream",
     "text": [
      " 36%|███▌      | 36/100 [00:47<01:06,  1.04s/it]\n",
      "36it [00:47,  1.04s/it]\u001b[A"
     ]
    },
    {
     "name": "stdout",
     "output_type": "stream",
     "text": [
      "[WARNING] Text was cut. Current: 200/14731 used | Previous: 200/14230 used\n",
      "[WARNING] Text was cut. Current: 200/15346 used | Previous: 200/14539 used\n",
      "[WARNING] Text was cut. Current: 200/6084 used | Previous: 200/6603 used\n",
      "[WARNING] Text was cut. Current: 200/7025 used | Previous: 200/7017 used\n"
     ]
    },
    {
     "name": "stderr",
     "output_type": "stream",
     "text": [
      " 37%|███▋      | 37/100 [00:50<01:25,  1.36s/it]\n",
      "37it [00:49,  1.36s/it]\u001b[A"
     ]
    },
    {
     "name": "stdout",
     "output_type": "stream",
     "text": [
      "[WARNING] Text was cut. Current: 200/26588 used | Previous: 200/24544 used\n",
      "[WARNING] Text was cut. Current: 200/11049 used | Previous: 200/10126 used\n",
      "[WARNING] Text was cut. Current: 200/24403 used | Previous: 200/12 used\n",
      "[WARNING] Text was cut. Current: 200/16482 used | Previous: 200/14731 used\n",
      "[WARNING] Text was cut. Current: 200/8285 used | Previous: 200/8437 used\n",
      "[WARNING] Text was cut. Current: 200/14157 used | Previous: 200/17018 used\n",
      "[WARNING] Text was cut. Current: 200/4104 used | Previous: 200/4787 used\n",
      "[WARNING] Text was cut. Current: 200/5548 used | Previous: 200/6455 used\n",
      "[WARNING] Text was cut. Current: 200/6364 used | Previous: 200/7498 used\n",
      "[WARNING] Text was cut. Current: 200/16902 used | Previous: 200/15346 used\n",
      "[WARNING] Text was cut. Current: 200/5787 used | Previous: 200/5324 used\n"
     ]
    },
    {
     "name": "stderr",
     "output_type": "stream",
     "text": [
      " 38%|███▊      | 38/100 [00:53<01:55,  1.86s/it]\n",
      "38it [00:52,  1.85s/it]\u001b[A"
     ]
    },
    {
     "name": "stdout",
     "output_type": "stream",
     "text": [
      "[WARNING] Text was cut. Current: 200/17295 used | Previous: 200/17835 used\n",
      "[WARNING] Text was cut. Current: 200/7217 used | Previous: 200/5563 used\n",
      "[WARNING] Text was cut. Current: 200/6365 used | Previous: 200/8618 used\n",
      "[WARNING] Text was cut. Current: 200/13764 used | Previous: 200/6 used\n",
      "[WARNING] Text was cut. Current: 200/9680 used | Previous: 200/8285 used\n",
      "[WARNING] Text was cut. Current: 200/17868 used | Previous: 200/19540 used\n",
      "[WARNING] Text was cut. Current: 200/6542 used | Previous: 200/5548 used\n",
      "[WARNING] Text was cut. Current: 200/5444 used | Previous: 200/4104 used\n",
      "[WARNING] Text was cut. Current: 200/7636 used | Previous: 200/6364 used\n",
      "[WARNING] Text was cut. Current: 200/6130 used | Previous: 200/5787 used\n",
      "[WARNING] Text was cut. Current: 200/6 used | Previous: 200/7217 used\n"
     ]
    },
    {
     "name": "stderr",
     "output_type": "stream",
     "text": [
      " 39%|███▉      | 39/100 [00:55<01:58,  1.95s/it]\n",
      "39it [00:54,  1.95s/it]\u001b[A"
     ]
    },
    {
     "name": "stdout",
     "output_type": "stream",
     "text": [
      "[WARNING] Text was cut. Current: 200/8065 used | Previous: 200/6365 used\n",
      "[WARNING] Text was cut. Current: 200/5921 used | Previous: 200/6941 used\n"
     ]
    },
    {
     "name": "stderr",
     "output_type": "stream",
     "text": [
      "\r",
      " 40%|████      | 40/100 [00:56<01:39,  1.66s/it]"
     ]
    },
    {
     "name": "stdout",
     "output_type": "stream",
     "text": [
      "[WARNING] Text was cut. Current: 200/21937 used | Previous: 200/24403 used\n"
     ]
    },
    {
     "name": "stderr",
     "output_type": "stream",
     "text": [
      "\n"
     ]
    },
    {
     "name": "stdout",
     "output_type": "stream",
     "text": [
      "[WARNING] Text was cut. Current: 200/4951 used | Previous: 200/4737 used\n",
      "[WARNING] Text was cut. Current: 200/5573 used | Previous: 200/5866 used\n"
     ]
    },
    {
     "name": "stderr",
     "output_type": "stream",
     "text": [
      "40it [00:55,  1.66s/it]\u001b[A"
     ]
    },
    {
     "name": "stdout",
     "output_type": "stream",
     "text": [
      "[WARNING] Text was cut. Current: 200/21718 used | Previous: 200/15043 used\n",
      "[WARNING] Text was cut. Current: 200/6535 used | Previous: 200/5820 used\n",
      "[WARNING] Text was cut. Current: 200/6568 used | Previous: 200/5921 used\n"
     ]
    },
    {
     "name": "stderr",
     "output_type": "stream",
     "text": [
      " 42%|████▏     | 42/100 [00:57<01:15,  1.29s/it]\n",
      "42it [00:56,  1.29s/it]\u001b[A"
     ]
    },
    {
     "name": "stdout",
     "output_type": "stream",
     "text": [
      "[WARNING] Text was cut. Current: 200/5255 used | Previous: 200/4951 used\n",
      "[WARNING] Text was cut. Current: 200/5983 used | Previous: 200/5573 used\n",
      "[WARNING] Text was cut. Current: 200/23287 used | Previous: 200/26467 used\n",
      "[WARNING] Text was cut. Current: 200/7308 used | Previous: 200/6535 used\n"
     ]
    },
    {
     "name": "stderr",
     "output_type": "stream",
     "text": [
      "\r",
      " 43%|████▎     | 43/100 [00:59<01:27,  1.53s/it]"
     ]
    },
    {
     "name": "stdout",
     "output_type": "stream",
     "text": [
      "[WARNING] Text was cut. Current: 200/993 used | Previous: 200/1008 used\n",
      "[WARNING] Text was cut. Current: 200/998 used | Previous: 200/1008 used\n",
      "[WARNING] Text was cut. Current: 200/998 used | Previous: 200/1008 used\n"
     ]
    },
    {
     "name": "stderr",
     "output_type": "stream",
     "text": [
      "\n",
      "43it [00:58,  1.53s/it]\u001b[A"
     ]
    },
    {
     "name": "stdout",
     "output_type": "stream",
     "text": [
      "[ERROR] Here is full_sect: |[]|\n",
      "[ERROR] Original res: {'_i_1': [], '_i_2': [], '_i_3': [], '_i_4': [], 'ii_1': [], 'ii_1a': [], 'ii_2': [], 'ii_3': [], 'ii_4': [], 'ii_5': [], 'ii_6': []}\n"
     ]
    },
    {
     "name": "stderr",
     "output_type": "stream",
     "text": [
      "\r",
      " 44%|████▍     | 44/100 [01:00<01:15,  1.35s/it]"
     ]
    },
    {
     "name": "stdout",
     "output_type": "stream",
     "text": [
      "[WARNING] /home/alex/Desktop/filtered_text_data/nd_data/2012/QTR2/20120420_10-Q_edgar_data_1065088_0001065088-12-000037_1.txt failed parsing\n"
     ]
    },
    {
     "name": "stderr",
     "output_type": "stream",
     "text": [
      "\n"
     ]
    },
    {
     "name": "stdout",
     "output_type": "stream",
     "text": [
      "[WARNING] Text was cut. Current: 200/24051 used | Previous: 200/23287 used\n"
     ]
    },
    {
     "name": "stderr",
     "output_type": "stream",
     "text": [
      "44it [00:59,  1.35s/it]\u001b[A"
     ]
    },
    {
     "name": "stdout",
     "output_type": "stream",
     "text": [
      "[WARNING] Text was cut. Current: 200/1208 used | Previous: 200/993 used\n",
      "[WARNING] Text was cut. Current: 200/1000 used | Previous: 200/998 used\n",
      "[ERROR] list index out of range in parser.clean_first_markers (10-K)\n",
      "[WARNING] Text was cut. Current: 200/1000 used | Previous: 200/998 used\n",
      "This is the res\n",
      " {'1': [(9333, 9353)], '1a': [(25142, 25160)], '1b': [(65382, 65406)], '3': [(251900, 251916)], '5': [], '6': [(87118, 87138)], '7': [(88778, 88800)], '7a': [(267461, 267486)], '8': [(272349, 272370)], '9': [(431923, 431942)], '9a': [(432047, 432068)], '9b': [(434449, 434467)], '10': [(434573, 434595)], '11': [(435174, 435196)], '12': [(435591, 435612)], '13': [(436081, 436101)], '14': [(436471, 436493)], '15': [(436898, 436919)]}\n",
      "[WARNING] /home/alex/Desktop/filtered_text_data/nd_data/2012/QTR1/20120312_10-K_edgar_data_1056903_0001104659-12-017424_1.txt failed parsing\n"
     ]
    },
    {
     "name": "stderr",
     "output_type": "stream",
     "text": [
      " 45%|████▌     | 45/100 [01:01<01:08,  1.24s/it]\n",
      "45it [01:00,  1.24s/it]\u001b[A"
     ]
    },
    {
     "name": "stdout",
     "output_type": "stream",
     "text": [
      "[WARNING] Text was cut. Current: 200/18378 used | Previous: 200/6 used\n",
      "[WARNING] Text was cut. Current: 200/21413 used | Previous: 200/1149 used\n",
      "[WARNING] Text was cut. Current: 200/23714 used | Previous: 200/1611 used\n",
      "[WARNING] Not enough valid reports for CIK 1138830 in this time_range. Skipping.\n"
     ]
    },
    {
     "name": "stderr",
     "output_type": "stream",
     "text": [
      " 47%|████▋     | 47/100 [01:04<01:10,  1.32s/it]\n",
      " 48%|████▊     | 48/100 [01:05<01:04,  1.25s/it]\n",
      "48it [01:04,  1.25s/it]\u001b[A"
     ]
    },
    {
     "name": "stdout",
     "output_type": "stream",
     "text": [
      "[WARNING] Text was cut. Current: 200/11180 used | Previous: 200/10696 used\n",
      "[WARNING] Text was cut. Current: 200/7810 used | Previous: 200/6880 used\n",
      "[WARNING] Text was cut. Current: 200/27456 used | Previous: 200/27288 used\n",
      "[WARNING] Text was cut. Current: 200/16149 used | Previous: 200/16349 used\n",
      "[WARNING] Text was cut. Current: 200/8613 used | Previous: 200/7822 used\n",
      "[WARNING] Text was cut. Current: 200/8731 used | Previous: 200/9303 used\n",
      "[WARNING] Text was cut. Current: 200/9714 used | Previous: 200/9884 used\n",
      "[WARNING] Text was cut. Current: 200/11169 used | Previous: 200/11180 used\n",
      "[WARNING] Text was cut. Current: 200/10031 used | Previous: 200/10156 used\n",
      "[WARNING] Text was cut. Current: 200/11683 used | Previous: 200/12426 used\n",
      "[WARNING] Text was cut. Current: 200/5623 used | Previous: 200/7810 used\n",
      "[WARNING] Text was cut. Current: 200/4772 used | Previous: 200/3611 used\n",
      "[WARNING] Text was cut. Current: 200/9707 used | Previous: 200/10293 used\n",
      "[WARNING] Text was cut. Current: 200/12 used | Previous: 200/8613 used\n"
     ]
    },
    {
     "name": "stderr",
     "output_type": "stream",
     "text": [
      " 49%|████▉     | 49/100 [01:09<01:44,  2.06s/it]\n",
      "49it [01:08,  2.06s/it]\u001b[A"
     ]
    },
    {
     "name": "stdout",
     "output_type": "stream",
     "text": [
      "[WARNING] Text was cut. Current: 200/5834 used | Previous: 200/3945 used\n",
      "[WARNING] Text was cut. Current: 200/12505 used | Previous: 200/12826 used\n",
      "[WARNING] Text was cut. Current: 200/5963 used | Previous: 200/4069 used\n",
      "[WARNING] Text was cut. Current: 200/11786 used | Previous: 200/33 used\n",
      "[WARNING] Text was cut. Current: 200/5197 used | Previous: 200/4772 used\n",
      "[WARNING] Text was cut. Current: 200/27300 used | Previous: 200/27456 used\n",
      "[WARNING] Text was cut. Current: 200/15833 used | Previous: 200/16149 used\n",
      "[WARNING] Text was cut. Current: 200/5858 used | Previous: 200/5834 used\n",
      "[WARNING] Text was cut. Current: 200/8144 used | Previous: 200/8731 used\n",
      "[WARNING] Text was cut. Current: 200/9109 used | Previous: 200/9714 used\n",
      "[WARNING] Text was cut. Current: 200/6370 used | Previous: 200/5963 used\n"
     ]
    },
    {
     "name": "stderr",
     "output_type": "stream",
     "text": [
      " 50%|█████     | 50/100 [01:11<01:49,  2.18s/it]\n",
      "50it [01:11,  2.18s/it]\u001b[A"
     ]
    },
    {
     "name": "stdout",
     "output_type": "stream",
     "text": [
      "[WARNING] Text was cut. Current: 200/19879 used | Previous: 200/19714 used\n",
      "[WARNING] Text was cut. Current: 200/9539 used | Previous: 200/10031 used\n",
      "[WARNING] Text was cut. Current: 200/11541 used | Previous: 200/11683 used\n",
      "[WARNING] Text was cut. Current: 200/9928 used | Previous: 200/9707 used\n",
      "[WARNING] Text was cut. Current: 200/5905 used | Previous: 200/8429 used\n"
     ]
    },
    {
     "name": "stderr",
     "output_type": "stream",
     "text": [
      " 51%|█████     | 51/100 [01:12<01:29,  1.83s/it]\n",
      "51it [01:12,  1.83s/it]\u001b[A"
     ]
    },
    {
     "name": "stdout",
     "output_type": "stream",
     "text": [
      "[WARNING] Text was cut. Current: 200/11633 used | Previous: 200/12505 used\n",
      "[WARNING] Text was cut. Current: 200/8910 used | Previous: 200/10260 used\n"
     ]
    },
    {
     "name": "stderr",
     "output_type": "stream",
     "text": [
      " 52%|█████▏    | 52/100 [01:13<01:16,  1.60s/it]\n",
      "52it [01:13,  1.60s/it]\u001b[A"
     ]
    },
    {
     "name": "stdout",
     "output_type": "stream",
     "text": [
      "[WARNING] Text was cut. Current: 200/13642 used | Previous: 200/13597 used\n",
      "[WARNING] Text was cut. Current: 200/9397 used | Previous: 200/12502 used\n"
     ]
    },
    {
     "name": "stderr",
     "output_type": "stream",
     "text": [
      "\r",
      " 53%|█████▎    | 53/100 [01:14<01:07,  1.43s/it]"
     ]
    },
    {
     "name": "stdout",
     "output_type": "stream",
     "text": [
      "[WARNING] Text was cut. Current: 200/6921 used | Previous: 200/9052 used\n",
      "[WARNING] Text was cut. Current: 200/6 used | Previous: 200/19879 used\n"
     ]
    },
    {
     "name": "stderr",
     "output_type": "stream",
     "text": [
      "\n",
      "53it [01:14,  1.43s/it]\u001b[A"
     ]
    },
    {
     "name": "stdout",
     "output_type": "stream",
     "text": [
      "[WARNING] Text was cut. Current: 200/9109 used | Previous: 200/8693 used\n",
      "[WARNING] Text was cut. Current: 200/5486 used | Previous: 200/5905 used\n",
      "[WARNING] Text was cut. Current: 200/8454 used | Previous: 200/8910 used\n",
      "[WARNING] Text was cut. Current: 200/9463 used | Previous: 200/9340 used\n"
     ]
    },
    {
     "name": "stderr",
     "output_type": "stream",
     "text": [
      " 54%|█████▍    | 54/100 [01:15<01:00,  1.32s/it]\n",
      "54it [01:15,  1.32s/it]\u001b[A"
     ]
    },
    {
     "name": "stdout",
     "output_type": "stream",
     "text": [
      "[WARNING] Text was cut. Current: 200/10134 used | Previous: 200/9397 used\n",
      "[WARNING] Text was cut. Current: 200/13546 used | Previous: 200/13642 used\n"
     ]
    },
    {
     "name": "stderr",
     "output_type": "stream",
     "text": [
      "\r",
      " 55%|█████▌    | 55/100 [01:16<00:56,  1.26s/it]"
     ]
    },
    {
     "name": "stdout",
     "output_type": "stream",
     "text": [
      "[ERROR] list index out of range in parser.clean_first_markers (10-K)\n",
      "This is the res\n",
      "[WARNING] Text was cut. Current: 200/12 used | Previous: 200/6921 used\n",
      " {'1': [(10171, 10200)], '1a': [(126961, 126978)], '1b': [(285435, 285458)], '2': [(285485, 285516)], '3': [(286210, 286236)], '5': [(287342, 287368)], '6': [(303300, 303320)], '7': [(304313, 304334)], '7a': [(360731, 360764)], '8': [(362655, 362685)], '9': [(362853, 362880)], '9b': [(365776, 365802)], '10': [(368178, 368207)], '11': [], '12': [(416989, 417018)], '13': [(394140, 394158), (424567, 424586)], '14': [(429294, 429325)], '15': [(430344, 430374)]}\n",
      "[WARNING] /home/alex/Desktop/filtered_text_data/nd_data/2014/QTR1/20140324_10-K_edgar_data_1515673_0001564590-14-000963_1.txt failed parsing\n"
     ]
    },
    {
     "name": "stderr",
     "output_type": "stream",
     "text": [
      "\n",
      "55it [01:16,  1.26s/it]\u001b[A"
     ]
    },
    {
     "name": "stdout",
     "output_type": "stream",
     "text": [
      "[WARNING] Text was cut. Current: 200/9782 used | Previous: 200/9109 used\n"
     ]
    },
    {
     "name": "stderr",
     "output_type": "stream",
     "text": [
      " 57%|█████▋    | 57/100 [01:17<00:43,  1.02s/it]\n",
      "57it [01:17,  1.02s/it]\u001b[A"
     ]
    },
    {
     "name": "stdout",
     "output_type": "stream",
     "text": [
      "[WARNING] Text was cut. Current: 200/10121 used | Previous: 200/9463 used\n"
     ]
    },
    {
     "name": "stderr",
     "output_type": "stream",
     "text": [
      " 58%|█████▊    | 58/100 [01:18<00:43,  1.03s/it]\n",
      "58it [01:18,  1.03s/it]\u001b[A"
     ]
    },
    {
     "name": "stdout",
     "output_type": "stream",
     "text": [
      "[WARNING] Text was cut. Current: 200/3906 used | Previous: 200/3503 used\n"
     ]
    },
    {
     "name": "stderr",
     "output_type": "stream",
     "text": [
      " 59%|█████▉    | 59/100 [01:22<01:08,  1.68s/it]\n",
      "59it [01:21,  1.68s/it]\u001b[A"
     ]
    },
    {
     "name": "stdout",
     "output_type": "stream",
     "text": [
      "[WARNING] Text was cut. Current: 200/5088 used | Previous: 200/4397 used\n",
      "[WARNING] Text was cut. Current: 200/5141 used | Previous: 200/4927 used\n",
      "[WARNING] Text was cut. Current: 200/3061 used | Previous: 200/12 used\n"
     ]
    },
    {
     "name": "stderr",
     "output_type": "stream",
     "text": [
      "\r",
      " 60%|██████    | 60/100 [01:23<01:00,  1.52s/it]"
     ]
    },
    {
     "name": "stdout",
     "output_type": "stream",
     "text": [
      "[WARNING] Text was cut. Current: 200/4196 used | Previous: 200/3906 used\n"
     ]
    },
    {
     "name": "stderr",
     "output_type": "stream",
     "text": [
      "\n"
     ]
    },
    {
     "name": "stdout",
     "output_type": "stream",
     "text": [
      "[WARNING] Text was cut. Current: 200/3056 used | Previous: 200/3061 used\n"
     ]
    },
    {
     "name": "stderr",
     "output_type": "stream",
     "text": [
      "60it [01:22,  1.52s/it]\u001b[A"
     ]
    },
    {
     "name": "stdout",
     "output_type": "stream",
     "text": [
      "[WARNING] Text was cut. Current: 200/4907 used | Previous: 200/5088 used\n",
      "[WARNING] Text was cut. Current: 200/6347 used | Previous: 200/5651 used\n"
     ]
    },
    {
     "name": "stderr",
     "output_type": "stream",
     "text": [
      "\r",
      " 61%|██████    | 61/100 [01:24<00:54,  1.41s/it]"
     ]
    },
    {
     "name": "stdout",
     "output_type": "stream",
     "text": [
      "[WARNING] Text was cut. Current: 200/5118 used | Previous: 200/5141 used\n"
     ]
    },
    {
     "name": "stderr",
     "output_type": "stream",
     "text": [
      "\n"
     ]
    },
    {
     "name": "stdout",
     "output_type": "stream",
     "text": [
      "[WARNING] Text was cut. Current: 200/7837 used | Previous: 200/8436 used\n"
     ]
    },
    {
     "name": "stderr",
     "output_type": "stream",
     "text": [
      "61it [01:24,  1.41s/it]\u001b[A"
     ]
    },
    {
     "name": "stdout",
     "output_type": "stream",
     "text": [
      "[WARNING] Text was cut. Current: 200/8128 used | Previous: 200/9103 used\n",
      "[WARNING] Text was cut. Current: 200/12680 used | Previous: 200/11160 used\n",
      "[WARNING] Text was cut. Current: 200/6173 used | Previous: 200/6347 used\n",
      "[WARNING] Text was cut. Current: 200/12821 used | Previous: 200/11593 used\n",
      "[WARNING] Text was cut. Current: 200/7476 used | Previous: 200/7837 used\n",
      "[WARNING] Text was cut. Current: 200/7537 used | Previous: 200/8128 used\n",
      "[WARNING] Text was cut. Current: 200/12497 used | Previous: 200/12821 used\n"
     ]
    },
    {
     "name": "stderr",
     "output_type": "stream",
     "text": [
      " 62%|██████▏   | 62/100 [01:27<01:11,  1.88s/it]\n",
      "62it [01:27,  1.88s/it]\u001b[A"
     ]
    },
    {
     "name": "stdout",
     "output_type": "stream",
     "text": [
      "[ERROR] list index out of range in parser.clean_first_markers (10-Q)\n",
      "This is the res\n"
     ]
    },
    {
     "name": "stderr",
     "output_type": "stream",
     "text": [
      "\r",
      " 63%|██████▎   | 63/100 [01:28<01:00,  1.62s/it]"
     ]
    },
    {
     "name": "stdout",
     "output_type": "stream",
     "text": [
      " {'_i_1': [(4197, 4246)], '_i_2': [(34658, 34708)], '_i_3': [(74737, 74790)], '_i_4': [(75390, 75439)], 'ii_1': [(76437, 76467)], 'ii_1a': [], 'ii_6': [(4120, 4139), (77933, 77965)]}\n",
      "[WARNING] /home/alex/Desktop/filtered_text_data/nd_data/2013/QTR2/20130507_10-Q_edgar_data_1474735_0001474735-13-000014_1.txt failed parsing\n"
     ]
    },
    {
     "name": "stderr",
     "output_type": "stream",
     "text": [
      "\n"
     ]
    },
    {
     "name": "stdout",
     "output_type": "stream",
     "text": [
      "[WARNING] Not enough valid reports for CIK 1040570 in this time_range. Skipping.\n"
     ]
    },
    {
     "name": "stderr",
     "output_type": "stream",
     "text": [
      "63it [01:28,  1.62s/it]\u001b[A"
     ]
    },
    {
     "name": "stdout",
     "output_type": "stream",
     "text": [
      "[WARNING] Text was cut. Current: 200/13929 used | Previous: 200/13526 used\n",
      "[WARNING] Text was cut. Current: 200/6330 used | Previous: 200/7476 used\n",
      "[WARNING] Text was cut. Current: 200/7664 used | Previous: 200/6961 used\n",
      "[WARNING] Text was cut. Current: 200/3224 used | Previous: 200/2668 used\n",
      "[WARNING] Text was cut. Current: 200/8275 used | Previous: 200/8456 used\n",
      "[WARNING] Text was cut. Current: 200/4380 used | Previous: 200/3642 used\n",
      "[WARNING] Text was cut. Current: 200/4157 used | Previous: 200/4166 used\n",
      "[WARNING] Text was cut. Current: 200/9184 used | Previous: 200/8842 used\n",
      "[WARNING] Text was cut. Current: 200/7386 used | Previous: 200/7664 used\n",
      "[WARNING] Text was cut. Current: 200/13940 used | Previous: 200/13929 used\n",
      "[WARNING] Text was cut. Current: 200/3387 used | Previous: 200/3224 used\n",
      "[WARNING] Text was cut. Current: 200/5484 used | Previous: 200/4380 used\n",
      "[WARNING] Text was cut. Current: 200/6814 used | Previous: 200/6330 used\n",
      "[WARNING] Text was cut. Current: 200/5372 used | Previous: 200/4157 used\n"
     ]
    },
    {
     "name": "stderr",
     "output_type": "stream",
     "text": [
      " 66%|██████▌   | 66/100 [01:32<00:51,  1.52s/it]\n",
      "66it [01:31,  1.52s/it]\u001b[A"
     ]
    },
    {
     "name": "stdout",
     "output_type": "stream",
     "text": [
      "[WARNING] Text was cut. Current: 200/8522 used | Previous: 200/8275 used\n",
      "[WARNING] Text was cut. Current: 200/9120 used | Previous: 200/9184 used\n",
      "[WARNING] Text was cut. Current: 200/24481 used | Previous: 200/24702 used\n"
     ]
    },
    {
     "name": "stderr",
     "output_type": "stream",
     "text": [
      " 67%|██████▋   | 67/100 [01:33<00:46,  1.40s/it]\n",
      "67it [01:33,  1.40s/it]\u001b[A"
     ]
    },
    {
     "name": "stdout",
     "output_type": "stream",
     "text": [
      "[WARNING] Text was cut. Current: 200/18290 used | Previous: 200/6 used\n",
      "[WARNING] Text was cut. Current: 200/21386 used | Previous: 200/20971 used\n",
      "[WARNING] Text was cut. Current: 200/21342 used | Previous: 200/21007 used\n",
      "[WARNING] Text was cut. Current: 200/11518 used | Previous: 200/11335 used\n",
      "[WARNING] Text was cut. Current: 200/7585 used | Previous: 200/7680 used\n",
      "[WARNING] Text was cut. Current: 200/24248 used | Previous: 200/24481 used\n",
      "[WARNING] Text was cut. Current: 200/22059 used | Previous: 200/20909 used\n",
      "[WARNING] Text was cut. Current: 200/9661 used | Previous: 200/8536 used\n",
      "[WARNING] Text was cut. Current: 200/9974 used | Previous: 200/8860 used\n",
      "[WARNING] Text was cut. Current: 200/12434 used | Previous: 200/13223 used\n",
      "[WARNING] Text was cut. Current: 200/13640 used | Previous: 200/12660 used\n",
      "[WARNING] Text was cut. Current: 200/19022 used | Previous: 200/18290 used\n",
      "[WARNING] Text was cut. Current: 200/4359 used | Previous: 200/11669 used\n",
      "[WARNING] Text was cut. Current: 200/11770 used | Previous: 200/11518 used\n",
      "[WARNING] Text was cut. Current: 200/12 used | Previous: 200/13931 used\n",
      "[WARNING] Text was cut. Current: 200/4927 used | Previous: 200/7585 used\n",
      "[WARNING] Text was cut. Current: 200/5254 used | Previous: 200/12199 used\n"
     ]
    },
    {
     "name": "stderr",
     "output_type": "stream",
     "text": [
      " 68%|██████▊   | 68/100 [01:38<01:24,  2.64s/it]\n",
      "68it [01:38,  2.64s/it]\u001b[A"
     ]
    },
    {
     "name": "stdout",
     "output_type": "stream",
     "text": [
      "[WARNING] Text was cut. Current: 200/15560 used | Previous: 200/13879 used\n",
      "[WARNING] Text was cut. Current: 200/9184 used | Previous: 200/10574 used\n",
      "[WARNING] Text was cut. Current: 200/7066 used | Previous: 200/9661 used\n",
      "[WARNING] Text was cut. Current: 200/21301 used | Previous: 200/21386 used\n",
      "[WARNING] Text was cut. Current: 200/8995 used | Previous: 200/9974 used\n",
      "[WARNING] Text was cut. Current: 200/11251 used | Previous: 200/12219 used\n",
      "[WARNING] Text was cut. Current: 200/15729 used | Previous: 200/15399 used\n"
     ]
    },
    {
     "name": "stderr",
     "output_type": "stream",
     "text": [
      " 69%|██████▉   | 69/100 [01:40<01:08,  2.20s/it]\n",
      "69it [01:39,  2.20s/it]\u001b[A"
     ]
    },
    {
     "name": "stdout",
     "output_type": "stream",
     "text": [
      "[WARNING] Text was cut. Current: 200/11543 used | Previous: 200/12579 used\n",
      "[WARNING] Text was cut. Current: 200/22186 used | Previous: 200/21342 used\n"
     ]
    },
    {
     "name": "stderr",
     "output_type": "stream",
     "text": [
      "\r",
      " 70%|███████   | 70/100 [01:41<00:55,  1.84s/it]"
     ]
    },
    {
     "name": "stdout",
     "output_type": "stream",
     "text": [
      "[WARNING] Text was cut. Current: 200/14097 used | Previous: 200/12 used\n"
     ]
    },
    {
     "name": "stderr",
     "output_type": "stream",
     "text": [
      "\n",
      "70it [01:40,  1.84s/it]\u001b[A"
     ]
    },
    {
     "name": "stdout",
     "output_type": "stream",
     "text": [
      "[WARNING] Text was cut. Current: 200/22117 used | Previous: 200/22059 used\n",
      "[WARNING] Text was cut. Current: 200/8985 used | Previous: 200/9184 used\n",
      "[WARNING] Text was cut. Current: 200/21 used | Previous: 200/14964 used\n",
      "[WARNING] Text was cut. Current: 200/10631 used | Previous: 200/11251 used\n",
      "[WARNING] Text was cut. Current: 200/13365 used | Previous: 200/13640 used\n",
      "[WARNING] Text was cut. Current: 200/6718 used | Previous: 200/7839 used\n",
      "[WARNING] Text was cut. Current: 200/11400 used | Previous: 200/11543 used\n"
     ]
    },
    {
     "name": "stderr",
     "output_type": "stream",
     "text": [
      " 71%|███████   | 71/100 [01:42<00:52,  1.79s/it]\n",
      "71it [01:42,  1.79s/it]\u001b[A"
     ]
    },
    {
     "name": "stdout",
     "output_type": "stream",
     "text": [
      "[WARNING] Text was cut. Current: 200/6757 used | Previous: 200/8963 used\n",
      "[WARNING] Text was cut. Current: 200/14219 used | Previous: 200/15560 used\n",
      "[WARNING] Text was cut. Current: 200/15840 used | Previous: 200/15795 used\n",
      "[WARNING] Text was cut. Current: 200/7379 used | Previous: 200/9970 used\n",
      "[WARNING] Text was cut. Current: 200/5407 used | Previous: 200/4832 used\n",
      "[WARNING] Text was cut. Current: 200/57 used | Previous: 200/6562 used\n",
      "[WARNING] Text was cut. Current: 200/5078 used | Previous: 200/6718 used\n",
      "[WARNING] Text was cut. Current: 200/14613 used | Previous: 200/15729 used\n"
     ]
    },
    {
     "name": "stderr",
     "output_type": "stream",
     "text": [
      " 72%|███████▏  | 72/100 [01:43<00:44,  1.58s/it]\n",
      "72it [01:43,  1.58s/it]\u001b[A"
     ]
    },
    {
     "name": "stdout",
     "output_type": "stream",
     "text": [
      "[WARNING] Text was cut. Current: 200/8136 used | Previous: 200/6672 used\n",
      "[WARNING] Text was cut. Current: 200/6581 used | Previous: 200/6757 used\n",
      "[WARNING] Text was cut. Current: 200/7873 used | Previous: 200/7379 used\n"
     ]
    },
    {
     "name": "stderr",
     "output_type": "stream",
     "text": [
      " 73%|███████▎  | 73/100 [01:44<00:37,  1.41s/it]\n",
      "73it [01:44,  1.41s/it]\u001b[A"
     ]
    },
    {
     "name": "stdout",
     "output_type": "stream",
     "text": [
      "[WARNING] Text was cut. Current: 200/16537 used | Previous: 200/15840 used\n",
      "[WARNING] Text was cut. Current: 200/6369 used | Previous: 200/5407 used\n",
      "[WARNING] Text was cut. Current: 200/9718 used | Previous: 200/57 used\n",
      "[WARNING] Text was cut. Current: 200/9579 used | Previous: 200/8136 used\n"
     ]
    },
    {
     "name": "stderr",
     "output_type": "stream",
     "text": [
      " 74%|███████▍  | 74/100 [01:46<00:38,  1.49s/it]\n",
      "74it [01:46,  1.49s/it]\u001b[A"
     ]
    },
    {
     "name": "stdout",
     "output_type": "stream",
     "text": [
      "[WARNING] Text was cut. Current: 200/6822 used | Previous: 200/6317 used\n",
      "[WARNING] Text was cut. Current: 200/12942 used | Previous: 200/17771 used\n",
      "[WARNING] Text was cut. Current: 200/8779 used | Previous: 200/9106 used\n",
      "[WARNING] Text was cut. Current: 200/6608 used | Previous: 200/6746 used\n",
      "[WARNING] Text was cut. Current: 200/9740 used | Previous: 200/9095 used\n"
     ]
    },
    {
     "name": "stderr",
     "output_type": "stream",
     "text": [
      " 75%|███████▌  | 75/100 [01:48<00:41,  1.66s/it]\n",
      "75it [01:48,  1.66s/it]\u001b[A"
     ]
    },
    {
     "name": "stdout",
     "output_type": "stream",
     "text": [
      "[WARNING] Text was cut. Current: 200/7650 used | Previous: 200/7819 used\n",
      "[WARNING] Text was cut. Current: 200/7357 used | Previous: 200/6950 used\n",
      "[WARNING] Text was cut. Current: 200/11404 used | Previous: 200/10928 used\n",
      "[WARNING] Text was cut. Current: 200/4073 used | Previous: 200/3524 used\n",
      "[WARNING] Text was cut. Current: 200/7616 used | Previous: 200/7408 used\n",
      "[WARNING] Text was cut. Current: 200/4559 used | Previous: 200/4542 used\n",
      "[WARNING] Text was cut. Current: 200/11872 used | Previous: 200/10977 used\n",
      "[WARNING] Text was cut. Current: 200/4727 used | Previous: 200/4749 used\n"
     ]
    },
    {
     "name": "stderr",
     "output_type": "stream",
     "text": [
      " 76%|███████▌  | 76/100 [01:49<00:36,  1.52s/it]\n",
      "76it [01:49,  1.52s/it]\u001b[A"
     ]
    },
    {
     "name": "stdout",
     "output_type": "stream",
     "text": [
      "[WARNING] Text was cut. Current: 200/12086 used | Previous: 200/12942 used\n",
      "[WARNING] Text was cut. Current: 200/7966 used | Previous: 200/7650 used\n",
      "[WARNING] Text was cut. Current: 200/7877 used | Previous: 200/6608 used\n",
      "[WARNING] Text was cut. Current: 200/4287 used | Previous: 200/4073 used\n",
      "[WARNING] Text was cut. Current: 200/5579 used | Previous: 200/4559 used\n",
      "[WARNING] Text was cut. Current: 200/9058 used | Previous: 200/7357 used\n",
      "[WARNING] Text was cut. Current: 200/14466 used | Previous: 200/14988 used\n",
      "[WARNING] Text was cut. Current: 200/6535 used | Previous: 200/4727 used\n"
     ]
    },
    {
     "name": "stderr",
     "output_type": "stream",
     "text": [
      " 77%|███████▋  | 77/100 [01:51<00:36,  1.60s/it]\n",
      "77it [01:51,  1.60s/it]\u001b[A"
     ]
    },
    {
     "name": "stdout",
     "output_type": "stream",
     "text": [
      "[WARNING] Text was cut. Current: 200/7798 used | Previous: 200/8183 used\n",
      "[WARNING] Text was cut. Current: 200/11185 used | Previous: 200/7616 used\n",
      "[WARNING] Text was cut. Current: 200/7114 used | Previous: 200/44 used\n",
      "[WARNING] Text was cut. Current: 200/9891 used | Previous: 200/10241 used\n",
      "[WARNING] Text was cut. Current: 200/9771 used | Previous: 200/10171 used\n",
      "[WARNING] Text was cut. Current: 200/11599 used | Previous: 200/6 used\n"
     ]
    },
    {
     "name": "stderr",
     "output_type": "stream",
     "text": [
      " 78%|███████▊  | 78/100 [01:52<00:31,  1.44s/it]\n",
      "78it [01:52,  1.45s/it]\u001b[A"
     ]
    },
    {
     "name": "stdout",
     "output_type": "stream",
     "text": [
      "[WARNING] Text was cut. Current: 200/16938 used | Previous: 200/17124 used\n",
      "[WARNING] Text was cut. Current: 200/10375 used | Previous: 200/9318 used\n",
      "[WARNING] Text was cut. Current: 200/18001 used | Previous: 200/14466 used\n"
     ]
    },
    {
     "name": "stderr",
     "output_type": "stream",
     "text": [
      " 79%|███████▉  | 79/100 [01:53<00:26,  1.28s/it]\n",
      "79it [01:53,  1.28s/it]\u001b[A"
     ]
    },
    {
     "name": "stdout",
     "output_type": "stream",
     "text": [
      "[WARNING] Text was cut. Current: 200/16426 used | Previous: 200/16938 used\n",
      "[WARNING] Text was cut. Current: 200/8477 used | Previous: 200/7798 used\n"
     ]
    },
    {
     "name": "stderr",
     "output_type": "stream",
     "text": [
      " 80%|████████  | 80/100 [01:54<00:23,  1.18s/it]\n",
      "80it [01:54,  1.18s/it]\u001b[A"
     ]
    },
    {
     "name": "stdout",
     "output_type": "stream",
     "text": [
      "[WARNING] Text was cut. Current: 200/10858 used | Previous: 200/9891 used\n",
      "[WARNING] Text was cut. Current: 200/11378 used | Previous: 200/11599 used\n"
     ]
    },
    {
     "name": "stderr",
     "output_type": "stream",
     "text": [
      " 81%|████████  | 81/100 [01:55<00:21,  1.11s/it]\n",
      "81it [01:55,  1.11s/it]\u001b[A"
     ]
    },
    {
     "name": "stdout",
     "output_type": "stream",
     "text": [
      "[WARNING] Text was cut. Current: 200/17578 used | Previous: 200/17754 used\n",
      "[WARNING] Text was cut. Current: 200/8209 used | Previous: 200/9302 used\n",
      "[WARNING] Text was cut. Current: 200/6 used | Previous: 200/6538 used\n",
      "[WARNING] Text was cut. Current: 200/6 used | Previous: 200/6700 used\n"
     ]
    },
    {
     "name": "stderr",
     "output_type": "stream",
     "text": [
      " 82%|████████▏ | 82/100 [01:56<00:22,  1.23s/it]\n",
      "82it [01:56,  1.23s/it]\u001b[A"
     ]
    },
    {
     "name": "stdout",
     "output_type": "stream",
     "text": [
      "[WARNING] Text was cut. Current: 200/3492 used | Previous: 200/4076 used\n",
      "[WARNING] Text was cut. Current: 200/4651 used | Previous: 200/4700 used\n",
      "[WARNING] Text was cut. Current: 200/5481 used | Previous: 200/5778 used\n",
      "[WARNING] Text was cut. Current: 200/9975 used | Previous: 200/8209 used\n",
      "[WARNING] Text was cut. Current: 200/4206 used | Previous: 200/3492 used\n",
      "[WARNING] Text was cut. Current: 200/4662 used | Previous: 200/4651 used\n",
      "[WARNING] Text was cut. Current: 200/5584 used | Previous: 200/5481 used\n",
      "[WARNING] Text was cut. Current: 200/8321 used | Previous: 200/7420 used\n"
     ]
    },
    {
     "name": "stderr",
     "output_type": "stream",
     "text": [
      " 83%|████████▎ | 83/100 [01:58<00:24,  1.44s/it]\n",
      "83it [01:58,  1.44s/it]\u001b[A"
     ]
    },
    {
     "name": "stdout",
     "output_type": "stream",
     "text": [
      "[WARNING] Text was cut. Current: 200/5321 used | Previous: 200/5296 used\n",
      "[WARNING] Text was cut. Current: 200/6430 used | Previous: 200/6375 used\n",
      "[WARNING] Text was cut. Current: 200/6180 used | Previous: 200/5972 used\n"
     ]
    },
    {
     "name": "stderr",
     "output_type": "stream",
     "text": [
      " 84%|████████▍ | 84/100 [02:00<00:22,  1.41s/it]\n",
      "84it [01:59,  1.41s/it]\u001b[A"
     ]
    },
    {
     "name": "stdout",
     "output_type": "stream",
     "text": [
      "[WARNING] Text was cut. Current: 200/24302 used | Previous: 200/12 used\n",
      "[WARNING] Text was cut. Current: 200/10368 used | Previous: 200/9785 used\n",
      "[WARNING] Text was cut. Current: 200/16748 used | Previous: 200/6 used\n",
      "[ERROR] list index out of range in parser.clean_first_markers (10-Q)\n",
      "This is the res\n",
      " {'_i_1': [(4651, 4672)], '_i_2': [(47471, 47490)], '_i_3': [(118506, 118527)], '_i_4': [(121108, 121126)], 'ii_1': [(123139, 123154)], 'ii_1a': [(124112, 124127)], 'ii_2': [(124321, 124343)], 'ii_5': [], 'ii_6': [(125294, 125311)]}\n",
      "[WARNING] /home/alex/Desktop/filtered_text_data/nd_data/2014/QTR3/20140801_10-Q_edgar_data_1507615_0001507615-14-000052_1.txt failed parsing\n"
     ]
    },
    {
     "name": "stderr",
     "output_type": "stream",
     "text": [
      " 85%|████████▌ | 85/100 [02:04<00:34,  2.28s/it]\n",
      "85it [02:04,  2.27s/it]\u001b[A"
     ]
    },
    {
     "name": "stdout",
     "output_type": "stream",
     "text": [
      "[WARNING] Text was cut. Current: 200/13308 used | Previous: 200/12788 used\n",
      "[WARNING] Text was cut. Current: 200/12676 used | Previous: 200/71 used\n",
      "[WARNING] Text was cut. Current: 200/17542 used | Previous: 200/15919 used\n",
      "[WARNING] Text was cut. Current: 200/14063 used | Previous: 200/13638 used\n",
      "[WARNING] Text was cut. Current: 200/19256 used | Previous: 200/6 used\n",
      "[WARNING] Text was cut. Current: 200/17115 used | Previous: 200/19862 used\n",
      "[WARNING] Text was cut. Current: 200/10090 used | Previous: 200/9048 used\n",
      "[WARNING] Text was cut. Current: 200/5500 used | Previous: 200/4726 used\n",
      "[WARNING] Text was cut. Current: 200/4601 used | Previous: 200/4912 used\n",
      "[WARNING] Text was cut. Current: 200/5337 used | Previous: 200/4580 used\n"
     ]
    },
    {
     "name": "stderr",
     "output_type": "stream",
     "text": [
      " 86%|████████▌ | 86/100 [02:06<00:30,  2.20s/it]\n",
      "86it [02:06,  2.20s/it]\u001b[A"
     ]
    },
    {
     "name": "stdout",
     "output_type": "stream",
     "text": [
      "[WARNING] Text was cut. Current: 200/8121 used | Previous: 200/16748 used\n",
      "[WARNING] Text was cut. Current: 200/5220 used | Previous: 200/5616 used\n",
      "[WARNING] Text was cut. Current: 200/22361 used | Previous: 200/24302 used\n",
      "[WARNING] Text was cut. Current: 200/22071 used | Previous: 200/25082 used\n",
      "[WARNING] Text was cut. Current: 200/6918 used | Previous: 200/5815 used\n",
      "[WARNING] Text was cut. Current: 200/8451 used | Previous: 200/17542 used\n",
      "[WARNING] Text was cut. Current: 200/8665 used | Previous: 200/10368 used\n",
      "[WARNING] Text was cut. Current: 200/10671 used | Previous: 200/12676 used\n",
      "[WARNING] Text was cut. Current: 200/9219 used | Previous: 200/10090 used\n",
      "[WARNING] Text was cut. Current: 200/11090 used | Previous: 200/19256 used\n"
     ]
    },
    {
     "name": "stderr",
     "output_type": "stream",
     "text": [
      " 87%|████████▋ | 87/100 [02:07<00:25,  1.98s/it]\n",
      "87it [02:07,  1.98s/it]\u001b[A"
     ]
    },
    {
     "name": "stdout",
     "output_type": "stream",
     "text": [
      "[WARNING] Text was cut. Current: 200/5126 used | Previous: 200/4601 used\n",
      "[WARNING] Text was cut. Current: 200/11674 used | Previous: 200/13308 used\n",
      "[WARNING] Text was cut. Current: 200/14888 used | Previous: 200/17115 used\n"
     ]
    },
    {
     "name": "stderr",
     "output_type": "stream",
     "text": [
      "\r",
      " 88%|████████▊ | 88/100 [02:08<00:20,  1.69s/it]"
     ]
    },
    {
     "name": "stdout",
     "output_type": "stream",
     "text": [
      "[WARNING] Text was cut. Current: 200/5947 used | Previous: 200/5220 used\n",
      "[WARNING] Text was cut. Current: 200/6185 used | Previous: 200/6918 used\n",
      "[WARNING] Text was cut. Current: 200/20078 used | Previous: 200/16669 used\n",
      "[WARNING] Not enough valid reports for CIK 1253689 in this time_range. Skipping.\n",
      "[WARNING] Text was cut. Current: 200/13258 used | Previous: 200/14063 used\n"
     ]
    },
    {
     "name": "stderr",
     "output_type": "stream",
     "text": [
      "\n"
     ]
    },
    {
     "name": "stdout",
     "output_type": "stream",
     "text": [
      "[WARNING] Text was cut. Current: 200/9924 used | Previous: 200/6 used\n",
      "[WARNING] Text was cut. Current: 200/17673 used | Previous: 200/22071 used\n"
     ]
    },
    {
     "name": "stderr",
     "output_type": "stream",
     "text": [
      "\r",
      "88it [02:09,  1.70s/it]"
     ]
    },
    {
     "name": "stdout",
     "output_type": "stream",
     "text": [
      "[WARNING] Text was cut. Current: 200/14901 used | Previous: 200/11840 used\n"
     ]
    },
    {
     "name": "stderr",
     "output_type": "stream",
     "text": [
      "\u001b[A"
     ]
    },
    {
     "name": "stdout",
     "output_type": "stream",
     "text": [
      "[WARNING] Text was cut. Current: 200/6 used | Previous: 200/14462 used\n",
      "[WARNING] Text was cut. Current: 200/21956 used | Previous: 200/20078 used\n"
     ]
    },
    {
     "name": "stderr",
     "output_type": "stream",
     "text": [
      " 89%|████████▉ | 89/100 [02:10<00:18,  1.64s/it]\n",
      "89it [02:10,  1.64s/it]\u001b[A"
     ]
    },
    {
     "name": "stdout",
     "output_type": "stream",
     "text": [
      "[WARNING] Text was cut. Current: 200/10129 used | Previous: 200/9924 used\n",
      "[WARNING] Text was cut. Current: 200/14912 used | Previous: 200/14901 used\n",
      "[WARNING] Text was cut. Current: 200/15804 used | Previous: 200/6 used\n"
     ]
    },
    {
     "name": "stderr",
     "output_type": "stream",
     "text": [
      " 92%|█████████▏| 92/100 [02:12<00:10,  1.34s/it]\n",
      "92it [02:12,  1.34s/it]\u001b[A"
     ]
    },
    {
     "name": "stdout",
     "output_type": "stream",
     "text": [
      "[WARNING] Text was cut. Current: 200/8396 used | Previous: 200/7886 used\n",
      "[WARNING] Text was cut. Current: 200/5520 used | Previous: 200/4826 used\n",
      "[WARNING] Text was cut. Current: 200/6099 used | Previous: 200/5976 used\n",
      "[WARNING] Text was cut. Current: 200/6077 used | Previous: 200/6832 used\n",
      "[WARNING] Text was cut. Current: 200/10673 used | Previous: 200/8396 used\n",
      "[WARNING] Text was cut. Current: 200/8173 used | Previous: 200/8978 used\n",
      "[WARNING] Text was cut. Current: 200/5897 used | Previous: 200/5520 used\n",
      "[WARNING] Text was cut. Current: 200/8290 used | Previous: 200/7787 used\n",
      "[WARNING] Text was cut. Current: 200/6509 used | Previous: 200/6099 used\n",
      "[WARNING] Text was cut. Current: 200/15410 used | Previous: 200/17679 used\n",
      "[WARNING] Text was cut. Current: 200/6935 used | Previous: 200/6077 used\n"
     ]
    },
    {
     "name": "stderr",
     "output_type": "stream",
     "text": [
      " 93%|█████████▎| 93/100 [02:15<00:12,  1.83s/it]\n",
      "93it [02:15,  1.83s/it]\u001b[A"
     ]
    },
    {
     "name": "stdout",
     "output_type": "stream",
     "text": [
      "[WARNING] Text was cut. Current: 200/9900 used | Previous: 200/10170 used\n",
      "[WARNING] Text was cut. Current: 200/9785 used | Previous: 200/10400 used\n",
      "[WARNING] Text was cut. Current: 200/9517 used | Previous: 200/9608 used\n",
      "[WARNING] Text was cut. Current: 200/12 used | Previous: 200/11717 used\n",
      "[WARNING] Text was cut. Current: 200/12 used | Previous: 200/12051 used\n",
      "[ERROR] list index out of range in parser.clean_first_markers (10-Q)\n",
      "This is the res\n",
      " {'_i_2': [(83751, 83771)], '_i_3': [(124720, 124742)], '_i_4': [(127387, 127405)], 'ii_1': [], 'ii_1a': [(6219, 6234), (130859, 130874), (130952, 130967)], 'ii_2': [(137072, 137094)], 'ii_6': [(138278, 138296)]}\n",
      "[WARNING] /home/alex/Desktop/filtered_text_data/nd_data/2014/QTR4/20141107_10-Q_edgar_data_1319229_0001558370-14-000345_1.txt failed parsing\n"
     ]
    },
    {
     "name": "stderr",
     "output_type": "stream",
     "text": [
      " 94%|█████████▍| 94/100 [02:16<00:09,  1.56s/it]\n"
     ]
    },
    {
     "name": "stdout",
     "output_type": "stream",
     "text": [
      "[WARNING] Text was cut. Current: 200/7763 used | Previous: 200/8173 used\n"
     ]
    },
    {
     "name": "stderr",
     "output_type": "stream",
     "text": [
      "94it [02:16,  1.56s/it]\u001b[A"
     ]
    },
    {
     "name": "stdout",
     "output_type": "stream",
     "text": [
      "[WARNING] Text was cut. Current: 200/6681 used | Previous: 200/8290 used\n",
      "[WARNING] Text was cut. Current: 200/15188 used | Previous: 200/15410 used\n",
      "[WARNING] Text was cut. Current: 200/12 used | Previous: 200/9785 used\n"
     ]
    },
    {
     "name": "stderr",
     "output_type": "stream",
     "text": [
      " 95%|█████████▌| 95/100 [02:16<00:06,  1.22s/it]\n",
      "95it [02:16,  1.22s/it]\u001b[A"
     ]
    },
    {
     "name": "stdout",
     "output_type": "stream",
     "text": [
      "[WARNING] Text was cut. Current: 200/7718 used | Previous: 200/9900 used\n",
      "[WARNING] Text was cut. Current: 200/7885 used | Previous: 200/9517 used\n"
     ]
    },
    {
     "name": "stderr",
     "output_type": "stream",
     "text": [
      " 96%|█████████▌| 96/100 [02:17<00:03,  1.05it/s]\n",
      "96it [02:16,  1.05it/s]\u001b[A"
     ]
    },
    {
     "name": "stdout",
     "output_type": "stream",
     "text": [
      "[WARNING] Text was cut. Current: 200/10340 used | Previous: 200/8961 used\n",
      "[WARNING] Text was cut. Current: 200/3286 used | Previous: 200/3151 used\n",
      "[ERROR] list index out of range in parser.clean_first_markers (10-K)\n",
      "This is the res\n",
      " {'1': [(8529, 8547), (12841, 12901)], '1a': [(8548, 8564), (53118, 53133), (53392, 53407)], '1b': [(170981, 171044)], '7': [(179133, 179153)], '7a': [], '9a': [(270004, 270065)], '9b': [(274665, 274723)], '15': [(41107, 41126), (119314, 119333), (237548, 237567), (241180, 241199), (260234, 260253), (269735, 269754)]}\n",
      "[WARNING] /home/alex/Desktop/filtered_text_data/nd_data/2014/QTR1/20140311_10-K_edgar_data_1352010_0001352010-14-000007_1.txt failed parsing\n"
     ]
    },
    {
     "name": "stderr",
     "output_type": "stream",
     "text": [
      " 97%|█████████▋| 97/100 [02:17<00:02,  1.32it/s]\n",
      "97it [02:17,  1.32it/s]\u001b[A"
     ]
    },
    {
     "name": "stdout",
     "output_type": "stream",
     "text": [
      "[WARNING] Text was cut. Current: 200/4814 used | Previous: 200/4844 used\n",
      "[WARNING] Text was cut. Current: 200/5167 used | Previous: 200/5269 used\n",
      "[WARNING] Text was cut. Current: 200/12203 used | Previous: 200/10340 used\n",
      "[WARNING] Text was cut. Current: 200/3989 used | Previous: 200/3286 used\n",
      "[WARNING] Text was cut. Current: 200/6774 used | Previous: 200/4814 used\n",
      "[WARNING] Text was cut. Current: 200/6680 used | Previous: 200/5167 used\n"
     ]
    },
    {
     "name": "stderr",
     "output_type": "stream",
     "text": [
      " 98%|█████████▊| 98/100 [02:18<00:01,  1.26it/s]\n",
      "98it [02:18,  1.26it/s]\u001b[A"
     ]
    },
    {
     "name": "stdout",
     "output_type": "stream",
     "text": [
      "[ERROR] list index out of range in parser.clean_first_markers (10-K)\n",
      "This is the res\n",
      " {'1': [(8221, 8239)], '3': [(242183, 242198)], '5': [(268236, 268252)], '7': [], '15': [(269788, 269812)]}\n",
      "[WARNING] /home/alex/Desktop/filtered_text_data/nd_data/2014/QTR1/20140210_10-K_edgar_data_24741_0001308179-14-000032_1.txt failed parsing\n"
     ]
    },
    {
     "name": "stderr",
     "output_type": "stream",
     "text": [
      " 99%|█████████▉| 99/100 [02:19<00:00,  1.00it/s]\n",
      "99it [02:19,  1.00it/s]\u001b[A"
     ]
    },
    {
     "name": "stdout",
     "output_type": "stream",
     "text": [
      "[WARNING] Text was cut. Current: 200/21761 used | Previous: 200/16849 used\n",
      "[WARNING] Text was cut. Current: 200/17113 used | Previous: 200/11819 used\n",
      "[WARNING] Text was cut. Current: 200/6 used | Previous: 200/11704 used\n",
      "[WARNING] Text was cut. Current: 200/22621 used | Previous: 200/14694 used\n",
      "[WARNING] Text was cut. Current: 200/30961 used | Previous: 200/21761 used\n",
      "[WARNING] Text was cut. Current: 200/28666 used | Previous: 200/17113 used\n",
      "[WARNING] Text was cut. Current: 200/27971 used | Previous: 200/6 used\n",
      "[WARNING] Text was cut. Current: 200/26631 used | Previous: 200/22621 used\n"
     ]
    },
    {
     "name": "stderr",
     "output_type": "stream",
     "text": [
      "100%|██████████| 100/100 [02:22<00:00,  1.58s/it]\n",
      "100it [02:22,  1.58s/it]\u001b[A"
     ]
    },
    {
     "name": "stdout",
     "output_type": "stream",
     "text": [
      "[INFO] 82 CIK were successfully processed - 18/100 CIK failed.\n",
      "Detailed stats and error codes: [82, 13, 0, 5, 0, 0]\n"
     ]
    },
    {
     "name": "stderr",
     "output_type": "stream",
     "text": [
      "\n"
     ]
    }
   ],
   "source": [
    "# Processing the reports will be done in parrallel in a random order\n",
    "# Settings in s are cast to dict for pickling - the custom class is not supported\n",
    "nb_cik_to_process = 100\n",
    "cik_path = {k: cik_path[k] for k in cik_path.keys() if k in list(cik_path.keys())[:nb_cik_to_process]}\n",
    "\n",
    "# print(list(cik_path.keys()).index(10456))  # Find BAX\n",
    "cik_scores = {k: 0 for k in cik_path.keys()}  # Organized by ticker\n",
    "data_to_process = ([k, v, {**s}, lm_dictionary] for k, v in cik_path.items())\n",
    "assert cik_path.keys() == cik_scores.keys()\n",
    "#print(data_to_process)\n",
    "#result = process_cik(data_to_process[0])\n",
    "#cik_perf[result[0]] = result[1]\n",
    "#print(cik_perf)\n",
    "#assert 0\n",
    "processing_stats = [0, 0, 0, 0, 0, 0]\n",
    "#qtr_metric_result = {key: [] for key in s['list_qtr']}\n",
    "if nb_processes_requested > 1:\n",
    "    with mp.Pool(processes=nb_processes_requested) as p:\n",
    "    #with mp.Pool(processes=min(mp.cpu_count(), 1)) as p:\n",
    "        print(\"[INFO] Starting a pool of {} workers\".format(nb_processes_requested))\n",
    "\n",
    "        with tqdm(total=nb_cik_to_process) as pbar:\n",
    "            for i, value in tqdm(enumerate(p.imap_unordered(processing.process_cik, data_to_process))):\n",
    "                pbar.update()\n",
    "                #qtr = list_qtr[i]\n",
    "                # Each quarter gets a few metrics\n",
    "                if value[1] == {}:\n",
    "                    # The parsing failed\n",
    "                    del cik_scores[value[0]]\n",
    "                else:\n",
    "                    cik_scores[value[0]] = value[1]\n",
    "                processing_stats[value[2]] += 1\n",
    "\n",
    "elif nb_processes_requested == 1:\n",
    "    print(\"[INFO] Running on {} core (multiprocessing is off)\".format(nb_processes_requested))\n",
    "    # print(list(data_to_process))\n",
    "    with tqdm(total=nb_cik_to_process) as pbar:\n",
    "        for i, value in tqdm(enumerate(map(processing.process_cik, data_to_process))):\n",
    "            pbar.update()\n",
    "            #qtr = list_qtr[i]\n",
    "            # Each quarter gets a few metrics\n",
    "            if value[1] == {}:\n",
    "                # The parsing failed\n",
    "                del cik_scores[value[0]]\n",
    "            else:\n",
    "                cik_scores[value[0]] = value[1]\n",
    "            processing_stats[value[2]] += 1\n",
    "\n",
    "elif nb_processes_requested == 0:\n",
    "    # Spark mode!!\n",
    "    print(\"[INFO] Running with Spark\")\n",
    "    sc = pyspark.SparkContext(appName=\"model_calculations\")\n",
    "    print(\"[INFO] Context started\")\n",
    "    spark_result = sc.parallelize(data_to_process).map(processing.process_cik)\n",
    "    spark_result = spark_result.take(nb_cik_to_process)\n",
    "    sc.stop()\n",
    "    \n",
    "    # Process the result\n",
    "    with tqdm(total=nb_cik_to_process) as pbar:\n",
    "        for i, value in tqdm(enumerate(spark_result)):\n",
    "            pbar.update()\n",
    "            #qtr = list_qtr[i]\n",
    "            # Each quarter gets a few metrics\n",
    "            if value[1] == {}:\n",
    "                # The parsing failed\n",
    "                del cik_scores[value[0]]\n",
    "            else:\n",
    "                cik_scores[value[0]] = value[1]\n",
    "            processing_stats[value[2]] += 1\n",
    "           \n",
    "        #qtr_metric_result[value['0']['qtr']] = value\n",
    "\n",
    "print(\"[INFO] {} CIK were successfully processed - {}/{} CIK failed.\".format(len(cik_scores), len(cik_path)-len(cik_scores), len(cik_path)))\n",
    "print(\"Detailed stats and error codes:\", processing_stats)"
   ]
  },
  {
   "cell_type": "markdown",
   "metadata": {},
   "source": [
    "# Post-processing - Welcome to the gettho"
   ]
  },
  {
   "cell_type": "markdown",
   "metadata": {},
   "source": [
    "## Flip the result dictionary to present a per qtr view"
   ]
  },
  {
   "cell_type": "code",
   "execution_count": 25,
   "metadata": {},
   "outputs": [
    {
     "name": "stderr",
     "output_type": "stream",
     "text": [
      "100%|██████████| 82/82 [00:00<00:00, 213755.70it/s]\n"
     ]
    }
   ],
   "source": [
    "# Reorganize the dict to display the data per quarter instead\n",
    "qtr_scores = {qtr: {} for qtr in s['list_qtr']}\n",
    "\n",
    "for cik in tqdm(cik_scores):\n",
    "    for qtr in cik_scores[cik]:\n",
    "        qtr_scores[qtr][cik] = cik_scores[cik][qtr]\n",
    "\n",
    "assert list(qtr_scores.keys()) == s['list_qtr']"
   ]
  },
  {
   "cell_type": "markdown",
   "metadata": {},
   "source": [
    "## Create a separate dictionary for each metric"
   ]
  },
  {
   "cell_type": "code",
   "execution_count": 26,
   "metadata": {},
   "outputs": [],
   "source": [
    "# Create the new empty master dictionary\n",
    "master_dict = {m: 0 for m in s['metrics']}\n",
    "for m in s['metrics']:\n",
    "    master_dict[m] = {qtr: 0 for qtr in s['list_qtr']}\n",
    "# master_dict"
   ]
  },
  {
   "cell_type": "code",
   "execution_count": 30,
   "metadata": {},
   "outputs": [
    {
     "data": {
      "text/plain": [
       "{851968: {'7': {'diff_jaccard': 0.7538167938931297,\n",
       "   'diff_sk_cosine_tf_idf': 0.994057206409408,\n",
       "   'diff_gfg_editDistDP': 0.91,\n",
       "   'sing_LoughranMcDonald': -8.509780801662198e-05},\n",
       "  'total': {'diff_jaccard': 0.7538167938931297,\n",
       "   'diff_sk_cosine_tf_idf': 0.994057206409408,\n",
       "   'diff_gfg_editDistDP': 0.91,\n",
       "   'sing_LoughranMcDonald': -8.509780801662198e-05}},\n",
       " 1122304: {'7': {'diff_jaccard': 1.0,\n",
       "   'diff_sk_cosine_tf_idf': 1,\n",
       "   'diff_gfg_editDistDP': 1.0,\n",
       "   'sing_LoughranMcDonald': 0.0},\n",
       "  'total': {'diff_jaccard': 1.0,\n",
       "   'diff_sk_cosine_tf_idf': 1.0,\n",
       "   'diff_gfg_editDistDP': 1.0,\n",
       "   'sing_LoughranMcDonald': 0.0}},\n",
       " 917520: {'7': {'diff_jaccard': 0.00508646998982706,\n",
       "   'diff_sk_cosine_tf_idf': 0.33015397867184637,\n",
       "   'diff_gfg_editDistDP': 0.10849056603773588,\n",
       "   'sing_LoughranMcDonald': -5.178118584711992e-05},\n",
       "  'total': {'diff_jaccard': 0.00508646998982706,\n",
       "   'diff_sk_cosine_tf_idf': 0.33015397867184637,\n",
       "   'diff_gfg_editDistDP': 0.10849056603773588,\n",
       "   'sing_LoughranMcDonald': -5.178118584711992e-05}},\n",
       " 1032208: {'7': {'diff_jaccard': 0.9354838709677419,\n",
       "   'diff_sk_cosine_tf_idf': 0.9743381143748209,\n",
       "   'diff_gfg_editDistDP': 0.9886363636363636,\n",
       "   'sing_LoughranMcDonald': 0.0},\n",
       "  'total': {'diff_jaccard': 0.9354838709677419,\n",
       "   'diff_sk_cosine_tf_idf': 0.9743381143748209,\n",
       "   'diff_gfg_editDistDP': 0.9886363636363636,\n",
       "   'sing_LoughranMcDonald': 0.0}},\n",
       " 704532: {'7': {'diff_jaccard': 0.8564294631710362,\n",
       "   'diff_sk_cosine_tf_idf': 0.9924363114656577,\n",
       "   'diff_gfg_editDistDP': 0.88,\n",
       "   'sing_LoughranMcDonald': -2.896733758882835e-05},\n",
       "  'total': {'diff_jaccard': 0.8564294631710362,\n",
       "   'diff_sk_cosine_tf_idf': 0.9924363114656577,\n",
       "   'diff_gfg_editDistDP': 0.88,\n",
       "   'sing_LoughranMcDonald': -2.896733758882835e-05}},\n",
       " 40987: {'7': {'diff_jaccard': 1.0,\n",
       "   'diff_sk_cosine_tf_idf': 0.9999999999999999,\n",
       "   'diff_gfg_editDistDP': 1.0,\n",
       "   'sing_LoughranMcDonald': 0.0},\n",
       "  'total': {'diff_jaccard': 1.0,\n",
       "   'diff_sk_cosine_tf_idf': 0.9999999999999999,\n",
       "   'diff_gfg_editDistDP': 1.0,\n",
       "   'sing_LoughranMcDonald': 0.0}},\n",
       " 73756: {'7': {'diff_jaccard': 0.8155410312273057,\n",
       "   'diff_sk_cosine_tf_idf': 0.9936221148586145,\n",
       "   'diff_gfg_editDistDP': 0.965,\n",
       "   'sing_LoughranMcDonald': -2.8343577699587992e-05},\n",
       "  'total': {'diff_jaccard': 0.8155410312273057,\n",
       "   'diff_sk_cosine_tf_idf': 0.9936221148586145,\n",
       "   'diff_gfg_editDistDP': 0.965,\n",
       "   'sing_LoughranMcDonald': -2.8343577699587992e-05}},\n",
       " 106532: {'7': {'diff_jaccard': 0.7733990147783252,\n",
       "   'diff_sk_cosine_tf_idf': 0.9830114093917152,\n",
       "   'diff_gfg_editDistDP': 0.985,\n",
       "   'sing_LoughranMcDonald': -0.0001294390605756775},\n",
       "  'total': {'diff_jaccard': 0.7733990147783252,\n",
       "   'diff_sk_cosine_tf_idf': 0.9830114093917152,\n",
       "   'diff_gfg_editDistDP': 0.985,\n",
       "   'sing_LoughranMcDonald': -0.0001294390605756775}},\n",
       " 106535: {'7': {'diff_jaccard': 0.9058823529411765,\n",
       "   'diff_sk_cosine_tf_idf': 0.8901480727125193,\n",
       "   'diff_gfg_editDistDP': 0.9360730593607306,\n",
       "   'sing_LoughranMcDonald': -0.015625},\n",
       "  'total': {'diff_jaccard': 0.9058823529411765,\n",
       "   'diff_sk_cosine_tf_idf': 0.8901480727125193,\n",
       "   'diff_gfg_editDistDP': 0.9360730593607306,\n",
       "   'sing_LoughranMcDonald': -0.015625}},\n",
       " 1490983: {'7': {'diff_jaccard': 0.7320085929108485,\n",
       "   'diff_sk_cosine_tf_idf': 0.9904323419481698,\n",
       "   'diff_gfg_editDistDP': 0.8025,\n",
       "   'sing_LoughranMcDonald': -3.0298851879968717e-05},\n",
       "  'total': {'diff_jaccard': 0.7320085929108485,\n",
       "   'diff_sk_cosine_tf_idf': 0.9904323419481698,\n",
       "   'diff_gfg_editDistDP': 0.8025,\n",
       "   'sing_LoughranMcDonald': -3.0298851879968717e-05}},\n",
       " 1040426: {'7': {'diff_jaccard': 0.7958929682638457,\n",
       "   'diff_sk_cosine_tf_idf': 0.9889476183436771,\n",
       "   'diff_gfg_editDistDP': 0.955,\n",
       "   'sing_LoughranMcDonald': -8.018950694692694e-05},\n",
       "  'total': {'diff_jaccard': 0.7958929682638457,\n",
       "   'diff_sk_cosine_tf_idf': 0.9889476183436771,\n",
       "   'diff_gfg_editDistDP': 0.955,\n",
       "   'sing_LoughranMcDonald': -8.018950694692694e-05}},\n",
       " 49196: {'7': {'diff_jaccard': 0.6046511627906976,\n",
       "   'diff_sk_cosine_tf_idf': 0.8175629475678443,\n",
       "   'diff_gfg_editDistDP': 0.9038461538461539,\n",
       "   'sing_LoughranMcDonald': 0.0},\n",
       "  'total': {'diff_jaccard': 0.6046511627906976,\n",
       "   'diff_sk_cosine_tf_idf': 0.8175629475678443,\n",
       "   'diff_gfg_editDistDP': 0.9038461538461539,\n",
       "   'sing_LoughranMcDonald': 0.0}},\n",
       " 1171500: {'7': {'diff_jaccard': 0.7595057034220533,\n",
       "   'diff_sk_cosine_tf_idf': 0.9917204960410719,\n",
       "   'diff_gfg_editDistDP': 0.9425,\n",
       "   'sing_LoughranMcDonald': -0.0001928696787759162},\n",
       "  'total': {'diff_jaccard': 0.7595057034220533,\n",
       "   'diff_sk_cosine_tf_idf': 0.9917204960410719,\n",
       "   'diff_gfg_editDistDP': 0.9425,\n",
       "   'sing_LoughranMcDonald': -0.0001928696787759162}},\n",
       " 1441849: {'7': {'diff_jaccard': 0.6791125541125541,\n",
       "   'diff_sk_cosine_tf_idf': 0.985777872524975,\n",
       "   'diff_gfg_editDistDP': 0.5425,\n",
       "   'sing_LoughranMcDonald': -3.673731792482967e-05},\n",
       "  'total': {'diff_jaccard': 0.6791125541125541,\n",
       "   'diff_sk_cosine_tf_idf': 0.985777872524975,\n",
       "   'diff_gfg_editDistDP': 0.5425,\n",
       "   'sing_LoughranMcDonald': -3.673731792482967e-05}},\n",
       " 98362: {'7': {'diff_jaccard': 0.663307375171782,\n",
       "   'diff_sk_cosine_tf_idf': 0.9878851420915186,\n",
       "   'diff_gfg_editDistDP': 0.675,\n",
       "   'sing_LoughranMcDonald': -2.8094840458910054e-05},\n",
       "  'total': {'diff_jaccard': 0.663307375171782,\n",
       "   'diff_sk_cosine_tf_idf': 0.9878851420915186,\n",
       "   'diff_gfg_editDistDP': 0.675,\n",
       "   'sing_LoughranMcDonald': -2.8094840458910054e-05}},\n",
       " 1507385: {'7': {'diff_jaccard': 0.6513038204972711,\n",
       "   'diff_sk_cosine_tf_idf': 0.9641913357421138,\n",
       "   'diff_gfg_editDistDP': 0.5425,\n",
       "   'sing_LoughranMcDonald': -3.261575475254715e-05},\n",
       "  'total': {'diff_jaccard': 0.6513038204972711,\n",
       "   'diff_sk_cosine_tf_idf': 0.9641913357421138,\n",
       "   'diff_gfg_editDistDP': 0.5425,\n",
       "   'sing_LoughranMcDonald': -3.261575475254715e-05}},\n",
       " 1433660: {'7': {'diff_jaccard': 0.7183673469387755,\n",
       "   'diff_sk_cosine_tf_idf': 0.9850054379375994,\n",
       "   'diff_gfg_editDistDP': 0.77,\n",
       "   'sing_LoughranMcDonald': -7.876020786611329e-05},\n",
       "  'total': {'diff_jaccard': 0.7183673469387755,\n",
       "   'diff_sk_cosine_tf_idf': 0.9850054379375994,\n",
       "   'diff_gfg_editDistDP': 0.77,\n",
       "   'sing_LoughranMcDonald': -7.876020786611329e-05}},\n",
       " 712771: {'7': {'diff_jaccard': 0.714340935446463,\n",
       "   'diff_sk_cosine_tf_idf': 0.9860116157562678,\n",
       "   'diff_gfg_editDistDP': 1.0,\n",
       "   'sing_LoughranMcDonald': -5.918815260196697e-05},\n",
       "  'total': {'diff_jaccard': 0.714340935446463,\n",
       "   'diff_sk_cosine_tf_idf': 0.9860116157562678,\n",
       "   'diff_gfg_editDistDP': 1.0,\n",
       "   'sing_LoughranMcDonald': -5.918815260196697e-05}},\n",
       " 1278021: {'7': {'diff_jaccard': 0.8260869565217391,\n",
       "   'diff_sk_cosine_tf_idf': 0.9933903171095442,\n",
       "   'diff_gfg_editDistDP': 0.97,\n",
       "   'sing_LoughranMcDonald': -4.259706455781304e-05},\n",
       "  'total': {'diff_jaccard': 0.8260869565217391,\n",
       "   'diff_sk_cosine_tf_idf': 0.9933903171095442,\n",
       "   'diff_gfg_editDistDP': 0.97,\n",
       "   'sing_LoughranMcDonald': -4.259706455781304e-05}},\n",
       " 90185: {'7': {'diff_jaccard': 0.6613240418118467,\n",
       "   'diff_sk_cosine_tf_idf': 0.9835235684340198,\n",
       "   'diff_gfg_editDistDP': 0.8,\n",
       "   'sing_LoughranMcDonald': -2.434694197539396e-05},\n",
       "  'total': {'diff_jaccard': 0.6613240418118467,\n",
       "   'diff_sk_cosine_tf_idf': 0.9835235684340198,\n",
       "   'diff_gfg_editDistDP': 0.8,\n",
       "   'sing_LoughranMcDonald': -2.434694197539396e-05}},\n",
       " 1286225: {'7': {'diff_jaccard': 0.8605927552140505,\n",
       "   'diff_sk_cosine_tf_idf': 0.9970587458983403,\n",
       "   'diff_gfg_editDistDP': 0.995,\n",
       "   'sing_LoughranMcDonald': -3.917745382345968e-05},\n",
       "  'total': {'diff_jaccard': 0.8605927552140505,\n",
       "   'diff_sk_cosine_tf_idf': 0.9970587458983403,\n",
       "   'diff_gfg_editDistDP': 0.995,\n",
       "   'sing_LoughranMcDonald': -3.917745382345968e-05}},\n",
       " 1376339: {'7': {'diff_jaccard': 0.003518029903254178,\n",
       "   'diff_sk_cosine_tf_idf': 0.04788745005886059,\n",
       "   'diff_gfg_editDistDP': 0.043689320388349495,\n",
       "   'sing_LoughranMcDonald': -4.992091417840492e-05},\n",
       "  'total': {'diff_jaccard': 0.003518029903254178,\n",
       "   'diff_sk_cosine_tf_idf': 0.04788745005886059,\n",
       "   'diff_gfg_editDistDP': 0.043689320388349495,\n",
       "   'sing_LoughranMcDonald': -4.992091417840492e-05}},\n",
       " 1122388: {'7': {'diff_jaccard': 0.6441784548422198,\n",
       "   'diff_sk_cosine_tf_idf': 0.9849323610717458,\n",
       "   'diff_gfg_editDistDP': 0.97,\n",
       "   'sing_LoughranMcDonald': 2.935152811862892e-05},\n",
       "  'total': {'diff_jaccard': 0.6441784548422198,\n",
       "   'diff_sk_cosine_tf_idf': 0.9849323610717458,\n",
       "   'diff_gfg_editDistDP': 0.97,\n",
       "   'sing_LoughranMcDonald': 2.935152811862892e-05}},\n",
       " 1163348: {'7': {'diff_jaccard': 0.7181286549707603,\n",
       "   'diff_sk_cosine_tf_idf': 0.9918714125709194,\n",
       "   'diff_gfg_editDistDP': 1.0,\n",
       "   'sing_LoughranMcDonald': -0.00015091535769871844},\n",
       "  'total': {'diff_jaccard': 0.7181286549707603,\n",
       "   'diff_sk_cosine_tf_idf': 0.9918714125709194,\n",
       "   'diff_gfg_editDistDP': 1.0,\n",
       "   'sing_LoughranMcDonald': -0.00015091535769871844}},\n",
       " 1065049: {'7': {'diff_jaccard': 0.00410958904109589,\n",
       "   'diff_sk_cosine_tf_idf': 0.3555626092964266,\n",
       "   'diff_gfg_editDistDP': 0.1132075471698113,\n",
       "   'sing_LoughranMcDonald': -2.790251172756641e-05},\n",
       "  'total': {'diff_jaccard': 0.00410958904109589,\n",
       "   'diff_sk_cosine_tf_idf': 0.3555626092964266,\n",
       "   'diff_gfg_editDistDP': 0.1132075471698113,\n",
       "   'sing_LoughranMcDonald': -2.790251172756641e-05}},\n",
       " 1130591: {'7': {'diff_jaccard': 0.6768558951965066,\n",
       "   'diff_sk_cosine_tf_idf': 0.9888449404466687,\n",
       "   'diff_gfg_editDistDP': 0.7375,\n",
       "   'sing_LoughranMcDonald': -4.451557944108666e-05},\n",
       "  'total': {'diff_jaccard': 0.6768558951965066,\n",
       "   'diff_sk_cosine_tf_idf': 0.9888449404466687,\n",
       "   'diff_gfg_editDistDP': 0.7375,\n",
       "   'sing_LoughranMcDonald': -4.451557944108666e-05}},\n",
       " 1163370: {'7': {'diff_jaccard': 0,\n",
       "   'diff_sk_cosine_tf_idf': 0,\n",
       "   'diff_gfg_editDistDP': 0.33333333333333337,\n",
       "   'sing_LoughranMcDonald': 0.0},\n",
       "  'total': {'diff_jaccard': 0.0,\n",
       "   'diff_sk_cosine_tf_idf': 0.0,\n",
       "   'diff_gfg_editDistDP': 0.33333333333333337,\n",
       "   'sing_LoughranMcDonald': 0.0}},\n",
       " 1179755: {'7': {'diff_jaccard': 0.7642212632404864,\n",
       "   'diff_sk_cosine_tf_idf': 0.9940382930161278,\n",
       "   'diff_gfg_editDistDP': 0.955,\n",
       "   'sing_LoughranMcDonald': -0.00016944494260459557},\n",
       "  'total': {'diff_jaccard': 0.7642212632404864,\n",
       "   'diff_sk_cosine_tf_idf': 0.9940382930161278,\n",
       "   'diff_gfg_editDistDP': 0.955,\n",
       "   'sing_LoughranMcDonald': -0.00016944494260459557}},\n",
       " 1114220: {'7': {'diff_jaccard': 0.6808510638297872,\n",
       "   'diff_sk_cosine_tf_idf': 0.9902826682749416,\n",
       "   'diff_gfg_editDistDP': 1.0,\n",
       "   'sing_LoughranMcDonald': -7.12684987869263e-05},\n",
       "  'total': {'diff_jaccard': 0.6808510638297872,\n",
       "   'diff_sk_cosine_tf_idf': 0.9902826682749416,\n",
       "   'diff_gfg_editDistDP': 1.0,\n",
       "   'sing_LoughranMcDonald': -7.12684987869263e-05}},\n",
       " 352363: {'7': {'diff_jaccard': 0.7268041237113402,\n",
       "   'diff_sk_cosine_tf_idf': 0.9906846186532704,\n",
       "   'diff_gfg_editDistDP': 0.5525,\n",
       "   'sing_LoughranMcDonald': -8.29119586735706e-05},\n",
       "  'total': {'diff_jaccard': 0.7268041237113402,\n",
       "   'diff_sk_cosine_tf_idf': 0.9906846186532704,\n",
       "   'diff_gfg_editDistDP': 0.5525,\n",
       "   'sing_LoughranMcDonald': -8.29119586735706e-05}},\n",
       " 1261694: {'7': {'diff_jaccard': 0.7112043139604554,\n",
       "   'diff_sk_cosine_tf_idf': 0.9926354810763917,\n",
       "   'diff_gfg_editDistDP': 0.6875,\n",
       "   'sing_LoughranMcDonald': -0.0001749585499169249},\n",
       "  'total': {'diff_jaccard': 0.7112043139604554,\n",
       "   'diff_sk_cosine_tf_idf': 0.9926354810763917,\n",
       "   'diff_gfg_editDistDP': 0.6875,\n",
       "   'sing_LoughranMcDonald': -0.0001749585499169249}},\n",
       " 1212545: {'7': {'diff_jaccard': 0.8271088216355441,\n",
       "   'diff_sk_cosine_tf_idf': 0.9964478024804458,\n",
       "   'diff_gfg_editDistDP': 0.94,\n",
       "   'sing_LoughranMcDonald': -5.113378563765545e-05},\n",
       "  'total': {'diff_jaccard': 0.8271088216355441,\n",
       "   'diff_sk_cosine_tf_idf': 0.9964478024804458,\n",
       "   'diff_gfg_editDistDP': 0.94,\n",
       "   'sing_LoughranMcDonald': -5.113378563765545e-05}},\n",
       " 1097864: {'7': {'diff_jaccard': 0.719256434699714,\n",
       "   'diff_sk_cosine_tf_idf': 0.9874848733506042,\n",
       "   'diff_gfg_editDistDP': 0.92,\n",
       "   'sing_LoughranMcDonald': -0.00011236834884118216},\n",
       "  'total': {'diff_jaccard': 0.719256434699714,\n",
       "   'diff_sk_cosine_tf_idf': 0.9874848733506042,\n",
       "   'diff_gfg_editDistDP': 0.92,\n",
       "   'sing_LoughranMcDonald': -0.00011236834884118216}},\n",
       " 106640: {'7': {'diff_jaccard': 1.0,\n",
       "   'diff_sk_cosine_tf_idf': 1.0,\n",
       "   'diff_gfg_editDistDP': 1.0,\n",
       "   'sing_LoughranMcDonald': 0.0},\n",
       "  'total': {'diff_jaccard': 1.0,\n",
       "   'diff_sk_cosine_tf_idf': 1.0,\n",
       "   'diff_gfg_editDistDP': 1.0,\n",
       "   'sing_LoughranMcDonald': 0.0}},\n",
       " 1220754: {'7': {'diff_jaccard': 0.7736928104575164,\n",
       "   'diff_sk_cosine_tf_idf': 0.991263677697924,\n",
       "   'diff_gfg_editDistDP': 0.9825,\n",
       "   'sing_LoughranMcDonald': -5.740000897547229e-05},\n",
       "  'total': {'diff_jaccard': 0.7736928104575164,\n",
       "   'diff_sk_cosine_tf_idf': 0.991263677697924,\n",
       "   'diff_gfg_editDistDP': 0.9825,\n",
       "   'sing_LoughranMcDonald': -5.740000897547229e-05}},\n",
       " 811156: {'7': {'diff_jaccard': 0.9375,\n",
       "   'diff_sk_cosine_tf_idf': 0.9999999999999997,\n",
       "   'diff_gfg_editDistDP': 0.9795918367346939,\n",
       "   'sing_LoughranMcDonald': 0.0},\n",
       "  'total': {'diff_jaccard': 0.9375,\n",
       "   'diff_sk_cosine_tf_idf': 0.9999999999999997,\n",
       "   'diff_gfg_editDistDP': 0.9795918367346939,\n",
       "   'sing_LoughranMcDonald': 0.0}},\n",
       " 729237: {'7': {'diff_jaccard': 0.8181818181818182,\n",
       "   'diff_sk_cosine_tf_idf': 0.8763511049989043,\n",
       "   'diff_gfg_editDistDP': 0.9583333333333334,\n",
       "   'sing_LoughranMcDonald': 0.0},\n",
       "  'total': {'diff_jaccard': 0.8181818181818182,\n",
       "   'diff_sk_cosine_tf_idf': 0.8763511049989043,\n",
       "   'diff_gfg_editDistDP': 0.9583333333333334,\n",
       "   'sing_LoughranMcDonald': 0.0}},\n",
       " 884887: {'7': {'diff_jaccard': 0.73190098085007,\n",
       "   'diff_sk_cosine_tf_idf': 0.9930034870851923,\n",
       "   'diff_gfg_editDistDP': 0.5349999999999999,\n",
       "   'sing_LoughranMcDonald': -8.465272634759771e-05},\n",
       "  'total': {'diff_jaccard': 0.73190098085007,\n",
       "   'diff_sk_cosine_tf_idf': 0.9930034870851923,\n",
       "   'diff_gfg_editDistDP': 0.5349999999999999,\n",
       "   'sing_LoughranMcDonald': -8.465272634759771e-05}},\n",
       " 1056923: {'7': {'diff_jaccard': 1.0,\n",
       "   'diff_sk_cosine_tf_idf': 1.0,\n",
       "   'diff_gfg_editDistDP': 1.0,\n",
       "   'sing_LoughranMcDonald': 0.0},\n",
       "  'total': {'diff_jaccard': 1.0,\n",
       "   'diff_sk_cosine_tf_idf': 1.0,\n",
       "   'diff_gfg_editDistDP': 1.0,\n",
       "   'sing_LoughranMcDonald': 0.0}},\n",
       " 319654: {'7': {'diff_jaccard': 0.01440922190201729,\n",
       "   'diff_sk_cosine_tf_idf': 0.2778569758998865,\n",
       "   'diff_gfg_editDistDP': 0.10849056603773588,\n",
       "   'sing_LoughranMcDonald': -0.0002850280016259264},\n",
       "  'total': {'diff_jaccard': 0.01440922190201729,\n",
       "   'diff_sk_cosine_tf_idf': 0.2778569758998865,\n",
       "   'diff_gfg_editDistDP': 0.10849056603773588,\n",
       "   'sing_LoughranMcDonald': -0.0002850280016259264}},\n",
       " 319655: {'7': {'diff_jaccard': 1.0,\n",
       "   'diff_sk_cosine_tf_idf': 0.9999999999999999,\n",
       "   'diff_gfg_editDistDP': 1.0,\n",
       "   'sing_LoughranMcDonald': 0.0},\n",
       "  'total': {'diff_jaccard': 1.0,\n",
       "   'diff_sk_cosine_tf_idf': 0.9999999999999999,\n",
       "   'diff_gfg_editDistDP': 1.0,\n",
       "   'sing_LoughranMcDonald': 0.0}},\n",
       " 884905: {'7': {'diff_jaccard': 0.7976060935799782,\n",
       "   'diff_sk_cosine_tf_idf': 0.9906045015985987,\n",
       "   'diff_gfg_editDistDP': 0.9675,\n",
       "   'sing_LoughranMcDonald': -3.4648327021834855e-05},\n",
       "  'total': {'diff_jaccard': 0.7976060935799782,\n",
       "   'diff_sk_cosine_tf_idf': 0.9906045015985987,\n",
       "   'diff_gfg_editDistDP': 0.9675,\n",
       "   'sing_LoughranMcDonald': -3.4648327021834855e-05}},\n",
       " 1466538: {'7': {'diff_jaccard': 0.7643180881747013,\n",
       "   'diff_sk_cosine_tf_idf': 0.9954853478985469,\n",
       "   'diff_gfg_editDistDP': 0.895,\n",
       "   'sing_LoughranMcDonald': -4.196221700870709e-05},\n",
       "  'total': {'diff_jaccard': 0.7643180881747013,\n",
       "   'diff_sk_cosine_tf_idf': 0.9954853478985469,\n",
       "   'diff_gfg_editDistDP': 0.895,\n",
       "   'sing_LoughranMcDonald': -4.196221700870709e-05}},\n",
       " 57528: {'7': {'diff_jaccard': 0.6810466760961811,\n",
       "   'diff_sk_cosine_tf_idf': 0.9787103554308252,\n",
       "   'diff_gfg_editDistDP': 0.995,\n",
       "   'sing_LoughranMcDonald': -0.00019069618887895462},\n",
       "  'total': {'diff_jaccard': 0.6810466760961811,\n",
       "   'diff_sk_cosine_tf_idf': 0.9787103554308252,\n",
       "   'diff_gfg_editDistDP': 0.995,\n",
       "   'sing_LoughranMcDonald': -0.00019069618887895462}},\n",
       " 737468: {'7': {'diff_jaccard': 0.7826817990752417,\n",
       "   'diff_sk_cosine_tf_idf': 0.9894735914280741,\n",
       "   'diff_gfg_editDistDP': 1.0,\n",
       "   'sing_LoughranMcDonald': -8.509950150847472e-05},\n",
       "  'total': {'diff_jaccard': 0.7826817990752417,\n",
       "   'diff_sk_cosine_tf_idf': 0.9894735914280741,\n",
       "   'diff_gfg_editDistDP': 1.0,\n",
       "   'sing_LoughranMcDonald': -8.509950150847472e-05}},\n",
       " 778438: {'7': {'diff_jaccard': 0.6788747346072187,\n",
       "   'diff_sk_cosine_tf_idf': 0.9868262230836469,\n",
       "   'diff_gfg_editDistDP': 0.7825,\n",
       "   'sing_LoughranMcDonald': -7.529795670389004e-05},\n",
       "  'total': {'diff_jaccard': 0.6788747346072187,\n",
       "   'diff_sk_cosine_tf_idf': 0.9868262230836469,\n",
       "   'diff_gfg_editDistDP': 0.7825,\n",
       "   'sing_LoughranMcDonald': -7.529795670389004e-05}},\n",
       " 1368265: {'7': {'diff_jaccard': 0.005509641873278237,\n",
       "   'diff_sk_cosine_tf_idf': 0.30908537533998054,\n",
       "   'diff_gfg_editDistDP': 0.1132075471698113,\n",
       "   'sing_LoughranMcDonald': 0.0},\n",
       "  'total': {'diff_jaccard': 0.005509641873278237,\n",
       "   'diff_sk_cosine_tf_idf': 0.30908537533998054,\n",
       "   'diff_gfg_editDistDP': 0.1132075471698113,\n",
       "   'sing_LoughranMcDonald': 0.0}},\n",
       " 1294538: {'7': {'diff_jaccard': 0.743746809596733,\n",
       "   'diff_sk_cosine_tf_idf': 0.9901553158262052,\n",
       "   'diff_gfg_editDistDP': 0.755,\n",
       "   'sing_LoughranMcDonald': -3.96797649409437e-05},\n",
       "  'total': {'diff_jaccard': 0.743746809596733,\n",
       "   'diff_sk_cosine_tf_idf': 0.9901553158262052,\n",
       "   'diff_gfg_editDistDP': 0.755,\n",
       "   'sing_LoughranMcDonald': -3.96797649409437e-05}},\n",
       " 1171662: {'7': {'diff_jaccard': 0.8148330058939096,\n",
       "   'diff_sk_cosine_tf_idf': 0.9956937144975458,\n",
       "   'diff_gfg_editDistDP': 0.605,\n",
       "   'sing_LoughranMcDonald': -0.00013071448384878158},\n",
       "  'total': {'diff_jaccard': 0.8148330058939096,\n",
       "   'diff_sk_cosine_tf_idf': 0.9956937144975458,\n",
       "   'diff_gfg_editDistDP': 0.605,\n",
       "   'sing_LoughranMcDonald': -0.00013071448384878158}},\n",
       " 1040593: {'7': {'diff_jaccard': 0.009603841536614645,\n",
       "   'diff_sk_cosine_tf_idf': 0.36872521252163293,\n",
       "   'diff_gfg_editDistDP': 0.16289592760180993,\n",
       "   'sing_LoughranMcDonald': 0.0},\n",
       "  'total': {'diff_jaccard': 0.009603841536614645,\n",
       "   'diff_sk_cosine_tf_idf': 0.36872521252163293,\n",
       "   'diff_gfg_editDistDP': 0.16289592760180993,\n",
       "   'sing_LoughranMcDonald': 0.0}},\n",
       " 1130713: {'7': {'diff_jaccard': 0.7167630057803468,\n",
       "   'diff_sk_cosine_tf_idf': 0.9890684679409303,\n",
       "   'diff_gfg_editDistDP': 0.5375,\n",
       "   'sing_LoughranMcDonald': -5.487839761268535e-05},\n",
       "  'total': {'diff_jaccard': 0.7167630057803468,\n",
       "   'diff_sk_cosine_tf_idf': 0.9890684679409303,\n",
       "   'diff_gfg_editDistDP': 0.5375,\n",
       "   'sing_LoughranMcDonald': -5.487839761268535e-05}},\n",
       " 1466593: {'7': {'diff_jaccard': 0.7098821396192203,\n",
       "   'diff_sk_cosine_tf_idf': 0.9915714039986985,\n",
       "   'diff_gfg_editDistDP': 0.9299999999999999,\n",
       "   'sing_LoughranMcDonald': -2.1152338404504353e-05},\n",
       "  'total': {'diff_jaccard': 0.7098821396192203,\n",
       "   'diff_sk_cosine_tf_idf': 0.9915714039986985,\n",
       "   'diff_gfg_editDistDP': 0.9299999999999999,\n",
       "   'sing_LoughranMcDonald': -2.1152338404504353e-05}},\n",
       " 82166: {'7': {'diff_jaccard': 0.5915254237288136,\n",
       "   'diff_sk_cosine_tf_idf': 0.9794929295019414,\n",
       "   'diff_gfg_editDistDP': 0.6475,\n",
       "   'sing_LoughranMcDonald': -1.5704848932309748e-05},\n",
       "  'total': {'diff_jaccard': 0.5915254237288136,\n",
       "   'diff_sk_cosine_tf_idf': 0.9794929295019414,\n",
       "   'diff_gfg_editDistDP': 0.6475,\n",
       "   'sing_LoughranMcDonald': -1.5704848932309748e-05}},\n",
       " 860413: {'7': {'diff_jaccard': 0.7483559842174485,\n",
       "   'diff_sk_cosine_tf_idf': 0.987784600274308,\n",
       "   'diff_gfg_editDistDP': 1.0,\n",
       "   'sing_LoughranMcDonald': -0.00012839258625280082},\n",
       "  'total': {'diff_jaccard': 0.7483559842174485,\n",
       "   'diff_sk_cosine_tf_idf': 0.987784600274308,\n",
       "   'diff_gfg_editDistDP': 1.0,\n",
       "   'sing_LoughranMcDonald': -0.00012839258625280082}},\n",
       " 1138951: {'7': {'diff_jaccard': 0.6522277227722773,\n",
       "   'diff_sk_cosine_tf_idf': 0.9698679828715433,\n",
       "   'diff_gfg_editDistDP': 0.9475,\n",
       "   'sing_LoughranMcDonald': -5.013310234227914e-05},\n",
       "  'total': {'diff_jaccard': 0.6522277227722773,\n",
       "   'diff_sk_cosine_tf_idf': 0.9698679828715433,\n",
       "   'diff_gfg_editDistDP': 0.9475,\n",
       "   'sing_LoughranMcDonald': -5.013310234227914e-05}},\n",
       " 1073431: {'7': {'diff_jaccard': 0.8065190137902215,\n",
       "   'diff_sk_cosine_tf_idf': 0.9967191494189064,\n",
       "   'diff_gfg_editDistDP': 0.98,\n",
       "   'sing_LoughranMcDonald': -2.4949321690316537e-05},\n",
       "  'total': {'diff_jaccard': 0.8065190137902215,\n",
       "   'diff_sk_cosine_tf_idf': 0.9967191494189064,\n",
       "   'diff_gfg_editDistDP': 0.98,\n",
       "   'sing_LoughranMcDonald': -2.4949321690316537e-05}},\n",
       " 1179929: {'7': {'diff_jaccard': 0.8181818181818182,\n",
       "   'diff_sk_cosine_tf_idf': 0.8763511049989043,\n",
       "   'diff_gfg_editDistDP': 0.9583333333333334,\n",
       "   'sing_LoughranMcDonald': 0.0},\n",
       "  'total': {'diff_jaccard': 0.8181818181818182,\n",
       "   'diff_sk_cosine_tf_idf': 0.8763511049989043,\n",
       "   'diff_gfg_editDistDP': 0.9583333333333334,\n",
       "   'sing_LoughranMcDonald': 0.0}},\n",
       " 1089819: {'7': {'diff_jaccard': 0.004345936549326379,\n",
       "   'diff_sk_cosine_tf_idf': 0.3255753769733301,\n",
       "   'diff_gfg_editDistDP': 0.09433962264150941,\n",
       "   'sing_LoughranMcDonald': -2.7544078856032214e-05},\n",
       "  'total': {'diff_jaccard': 0.004345936549326379,\n",
       "   'diff_sk_cosine_tf_idf': 0.3255753769733301,\n",
       "   'diff_gfg_editDistDP': 0.09433962264150941,\n",
       "   'sing_LoughranMcDonald': -2.7544078856032214e-05}},\n",
       " 352541: {'7': {'diff_jaccard': 0.6166666666666667,\n",
       "   'diff_sk_cosine_tf_idf': 0.8068785691949569,\n",
       "   'diff_gfg_editDistDP': 0.9014084507042254,\n",
       "   'sing_LoughranMcDonald': -0.04},\n",
       "  'total': {'diff_jaccard': 0.6166666666666667,\n",
       "   'diff_sk_cosine_tf_idf': 0.8068785691949569,\n",
       "   'diff_gfg_editDistDP': 0.9014084507042254,\n",
       "   'sing_LoughranMcDonald': -0.04}},\n",
       " 1057058: {'7': {'diff_jaccard': 0.7636275928605886,\n",
       "   'diff_sk_cosine_tf_idf': 0.986753071517994,\n",
       "   'diff_gfg_editDistDP': 0.985,\n",
       "   'sing_LoughranMcDonald': -6.370832175045952e-05},\n",
       "  'total': {'diff_jaccard': 0.7636275928605886,\n",
       "   'diff_sk_cosine_tf_idf': 0.986753071517994,\n",
       "   'diff_gfg_editDistDP': 0.985,\n",
       "   'sing_LoughranMcDonald': -6.370832175045952e-05}},\n",
       " 1171759: {'7': {'diff_jaccard': 0.7011834319526628,\n",
       "   'diff_sk_cosine_tf_idf': 0.9854934705235946,\n",
       "   'diff_gfg_editDistDP': 0.5525,\n",
       "   'sing_LoughranMcDonald': -9.861846102369486e-05},\n",
       "  'total': {'diff_jaccard': 0.7011834319526628,\n",
       "   'diff_sk_cosine_tf_idf': 0.9854934705235946,\n",
       "   'diff_gfg_editDistDP': 0.5525,\n",
       "   'sing_LoughranMcDonald': -9.861846102369486e-05}},\n",
       " 1016125: {'7': {'diff_jaccard': 0.8019145802650958,\n",
       "   'diff_sk_cosine_tf_idf': 0.9808534742338865,\n",
       "   'diff_gfg_editDistDP': 0.7975,\n",
       "   'sing_LoughranMcDonald': -2.0961438729431636e-06},\n",
       "  'total': {'diff_jaccard': 0.8019145802650958,\n",
       "   'diff_sk_cosine_tf_idf': 0.9808534742338865,\n",
       "   'diff_gfg_editDistDP': 0.7975,\n",
       "   'sing_LoughranMcDonald': -2.0961438729431636e-06}},\n",
       " 868671: {'7': {'diff_jaccard': 0.7368642286675073,\n",
       "   'diff_sk_cosine_tf_idf': 0.9916351375935992,\n",
       "   'diff_gfg_editDistDP': 1.0,\n",
       "   'sing_LoughranMcDonald': -9.404387269594433e-05},\n",
       "  'total': {'diff_jaccard': 0.7368642286675073,\n",
       "   'diff_sk_cosine_tf_idf': 0.9916351375935992,\n",
       "   'diff_gfg_editDistDP': 1.0,\n",
       "   'sing_LoughranMcDonald': -9.404387269594433e-05}},\n",
       " 1065280: {'7': {'diff_jaccard': 0.6417146513115803,\n",
       "   'diff_sk_cosine_tf_idf': 0.9900956700252747,\n",
       "   'diff_gfg_editDistDP': 0.615,\n",
       "   'sing_LoughranMcDonald': -5.07325741429091e-05},\n",
       "  'total': {'diff_jaccard': 0.6417146513115803,\n",
       "   'diff_sk_cosine_tf_idf': 0.9900956700252747,\n",
       "   'diff_gfg_editDistDP': 0.615,\n",
       "   'sing_LoughranMcDonald': -5.07325741429091e-05}},\n",
       " 1392972: {'7': {'diff_jaccard': 0.7055593685655457,\n",
       "   'diff_sk_cosine_tf_idf': 0.9882444620823421,\n",
       "   'diff_gfg_editDistDP': 0.6025,\n",
       "   'sing_LoughranMcDonald': -2.298664006422813e-05},\n",
       "  'total': {'diff_jaccard': 0.7055593685655457,\n",
       "   'diff_sk_cosine_tf_idf': 0.9882444620823421,\n",
       "   'diff_gfg_editDistDP': 0.6025,\n",
       "   'sing_LoughranMcDonald': -2.298664006422813e-05}},\n",
       " 1040719: {'7': {'diff_jaccard': 0.5998271391529818,\n",
       "   'diff_sk_cosine_tf_idf': 0.9835413285958373,\n",
       "   'diff_gfg_editDistDP': 0.605,\n",
       "   'sing_LoughranMcDonald': -5.904899126314526e-05},\n",
       "  'total': {'diff_jaccard': 0.5998271391529818,\n",
       "   'diff_sk_cosine_tf_idf': 0.9835413285958373,\n",
       "   'diff_gfg_editDistDP': 0.605,\n",
       "   'sing_LoughranMcDonald': -5.904899126314526e-05}}}"
      ]
     },
     "execution_count": 30,
     "metadata": {},
     "output_type": "execute_result"
    }
   ],
   "source": [
    "qtr_scores[(2013, 1)]"
   ]
  },
  {
   "cell_type": "code",
   "execution_count": 27,
   "metadata": {},
   "outputs": [
    {
     "ename": "KeyError",
     "evalue": "'diff_jaccard'",
     "output_type": "error",
     "traceback": [
      "\u001b[0;31m---------------------------------------------------------------------------\u001b[0m",
      "\u001b[0;31mKeyError\u001b[0m                                  Traceback (most recent call last)",
      "\u001b[0;32m<ipython-input-27-e6ea9dce3ac4>\u001b[0m in \u001b[0;36m<module>\u001b[0;34m\u001b[0m\n\u001b[1;32m      3\u001b[0m     \u001b[0;32mfor\u001b[0m \u001b[0mqtr\u001b[0m \u001b[0;32min\u001b[0m \u001b[0ms\u001b[0m\u001b[0;34m[\u001b[0m\u001b[0;34m'list_qtr'\u001b[0m\u001b[0;34m]\u001b[0m\u001b[0;34m:\u001b[0m\u001b[0;34m\u001b[0m\u001b[0;34m\u001b[0m\u001b[0m\n\u001b[1;32m      4\u001b[0m         \u001b[0;31m#master_dict[m][qtr] = {cik: qtr_scores[qtr][cik][m] for cik in qtr_scores[qtr].keys()}\u001b[0m\u001b[0;34m\u001b[0m\u001b[0;34m\u001b[0m\u001b[0;34m\u001b[0m\u001b[0m\n\u001b[0;32m----> 5\u001b[0;31m         \u001b[0mmaster_dict\u001b[0m\u001b[0;34m[\u001b[0m\u001b[0mm\u001b[0m\u001b[0;34m]\u001b[0m\u001b[0;34m[\u001b[0m\u001b[0mqtr\u001b[0m\u001b[0;34m]\u001b[0m \u001b[0;34m=\u001b[0m \u001b[0;34m[\u001b[0m\u001b[0;34m(\u001b[0m\u001b[0mcik\u001b[0m\u001b[0;34m,\u001b[0m \u001b[0mqtr_scores\u001b[0m\u001b[0;34m[\u001b[0m\u001b[0mqtr\u001b[0m\u001b[0;34m]\u001b[0m\u001b[0;34m[\u001b[0m\u001b[0mcik\u001b[0m\u001b[0;34m]\u001b[0m\u001b[0;34m[\u001b[0m\u001b[0mm\u001b[0m\u001b[0;34m]\u001b[0m\u001b[0;34m)\u001b[0m \u001b[0;32mfor\u001b[0m \u001b[0mcik\u001b[0m \u001b[0;32min\u001b[0m \u001b[0mqtr_scores\u001b[0m\u001b[0;34m[\u001b[0m\u001b[0mqtr\u001b[0m\u001b[0;34m]\u001b[0m\u001b[0;34m.\u001b[0m\u001b[0mkeys\u001b[0m\u001b[0;34m(\u001b[0m\u001b[0;34m)\u001b[0m\u001b[0;34m]\u001b[0m\u001b[0;34m\u001b[0m\u001b[0;34m\u001b[0m\u001b[0m\n\u001b[0m",
      "\u001b[0;32m<ipython-input-27-e6ea9dce3ac4>\u001b[0m in \u001b[0;36m<listcomp>\u001b[0;34m(.0)\u001b[0m\n\u001b[1;32m      3\u001b[0m     \u001b[0;32mfor\u001b[0m \u001b[0mqtr\u001b[0m \u001b[0;32min\u001b[0m \u001b[0ms\u001b[0m\u001b[0;34m[\u001b[0m\u001b[0;34m'list_qtr'\u001b[0m\u001b[0;34m]\u001b[0m\u001b[0;34m:\u001b[0m\u001b[0;34m\u001b[0m\u001b[0;34m\u001b[0m\u001b[0m\n\u001b[1;32m      4\u001b[0m         \u001b[0;31m#master_dict[m][qtr] = {cik: qtr_scores[qtr][cik][m] for cik in qtr_scores[qtr].keys()}\u001b[0m\u001b[0;34m\u001b[0m\u001b[0;34m\u001b[0m\u001b[0;34m\u001b[0m\u001b[0m\n\u001b[0;32m----> 5\u001b[0;31m         \u001b[0mmaster_dict\u001b[0m\u001b[0;34m[\u001b[0m\u001b[0mm\u001b[0m\u001b[0;34m]\u001b[0m\u001b[0;34m[\u001b[0m\u001b[0mqtr\u001b[0m\u001b[0;34m]\u001b[0m \u001b[0;34m=\u001b[0m \u001b[0;34m[\u001b[0m\u001b[0;34m(\u001b[0m\u001b[0mcik\u001b[0m\u001b[0;34m,\u001b[0m \u001b[0mqtr_scores\u001b[0m\u001b[0;34m[\u001b[0m\u001b[0mqtr\u001b[0m\u001b[0;34m]\u001b[0m\u001b[0;34m[\u001b[0m\u001b[0mcik\u001b[0m\u001b[0;34m]\u001b[0m\u001b[0;34m[\u001b[0m\u001b[0mm\u001b[0m\u001b[0;34m]\u001b[0m\u001b[0;34m)\u001b[0m \u001b[0;32mfor\u001b[0m \u001b[0mcik\u001b[0m \u001b[0;32min\u001b[0m \u001b[0mqtr_scores\u001b[0m\u001b[0;34m[\u001b[0m\u001b[0mqtr\u001b[0m\u001b[0;34m]\u001b[0m\u001b[0;34m.\u001b[0m\u001b[0mkeys\u001b[0m\u001b[0;34m(\u001b[0m\u001b[0;34m)\u001b[0m\u001b[0;34m]\u001b[0m\u001b[0;34m\u001b[0m\u001b[0;34m\u001b[0m\u001b[0m\n\u001b[0m",
      "\u001b[0;31mKeyError\u001b[0m: 'diff_jaccard'"
     ]
    }
   ],
   "source": [
    "# Populate it\n",
    "for m in s['metrics']:\n",
    "    for qtr in s['list_qtr']:\n",
    "        #master_dict[m][qtr] = {cik: qtr_scores[qtr][cik][m] for cik in qtr_scores[qtr].keys()}\n",
    "        master_dict[m][qtr] = [(cik, qtr_scores[qtr][cik][m]) for cik in qtr_scores[qtr].keys()]"
   ]
  },
  {
   "cell_type": "code",
   "execution_count": null,
   "metadata": {},
   "outputs": [],
   "source": [
    "# Display the length for all qtr\n",
    "for qtr in s['list_qtr']:\n",
    "    print(\"qtr: {} length: {}\".format(qtr, len(master_dict[s['metrics'][0]][qtr])))"
   ]
  },
  {
   "cell_type": "markdown",
   "metadata": {},
   "source": [
    "## For each metric, split each qtr into 5 quintiles\n",
    "\n",
    "For each metric and for each quarter, make quintiles containing all the (cik, score) tuples. \n",
    "\n",
    "Now at this point the portfolio is not balanced, it is just the list of companies we would like to invest in. We need to weigh each investment by the relative market cap. "
   ]
  },
  {
   "cell_type": "code",
   "execution_count": null,
   "metadata": {},
   "outputs": [],
   "source": [
    "# Populate it\n",
    "# The two zeros are respectively nb shares unbalanced & balanced\n",
    "for m in s['metrics']:\n",
    "    for qtr in s['list_qtr']:\n",
    "        #master_dict[m][qtr] = {cik: qtr_scores[qtr][cik][m] for cik in qtr_scores[qtr].keys()}\n",
    "        master_dict[m][qtr] = [[cik, qtr_scores[qtr][cik][m], 0, 0] for cik in qtr_scores[qtr].keys()]\n",
    "# master_dict"
   ]
  },
  {
   "cell_type": "code",
   "execution_count": null,
   "metadata": {
    "scrolled": true
   },
   "outputs": [],
   "source": [
    "# Reorganize each quarter \n",
    "for m in s['metrics'][:-1]:\n",
    "    for qtr in s['list_qtr'][s['lag']:]:  # There cannot be a report for the first few qtr\n",
    "        #print(master_dict[m][qtr])\n",
    "        try:\n",
    "            #print(master_dict[m][qtr])\n",
    "            #assert 0\n",
    "            master_dict[m][qtr] = post_processing.make_quintiles(master_dict[m][qtr], s)\n",
    "        except:\n",
    "            #print(master_dict[m][qtr])\n",
    "            raise\n",
    "        assert len(master_dict[m][qtr].keys()) == 5"
   ]
  },
  {
   "cell_type": "code",
   "execution_count": null,
   "metadata": {},
   "outputs": [],
   "source": [
    "pf_scores = {m: 0 for m in s['metrics'][:-1]}\n",
    "for m in s['metrics']:\n",
    "    pf_scores[m] = {q: {qtr: 0 for qtr in s['list_qtr'][s['lag']:]} for q in s['bin_labels']}"
   ]
  },
  {
   "cell_type": "code",
   "execution_count": null,
   "metadata": {},
   "outputs": [],
   "source": [
    "for m in s['metrics'][:-1]:\n",
    "    for mod_bin in s['bin_labels']:\n",
    "        for qtr in s['list_qtr'][s['lag']:]:\n",
    "            pf_scores[m][mod_bin][qtr] = master_dict[m][qtr][mod_bin]\n",
    "# pf_scores['diff_jaccard']['Q1']"
   ]
  },
  {
   "cell_type": "code",
   "execution_count": null,
   "metadata": {},
   "outputs": [],
   "source": [
    "post_processing.dump_master_dict(master_dict, s)"
   ]
  },
  {
   "cell_type": "code",
   "execution_count": null,
   "metadata": {},
   "outputs": [],
   "source": [
    "del master_dict"
   ]
  },
  {
   "cell_type": "markdown",
   "metadata": {},
   "source": [
    "## Create a virtual portfolio\n",
    "\n",
    "Re-calculate the value of the portfolio at the end of each quarter."
   ]
  },
  {
   "cell_type": "markdown",
   "metadata": {},
   "source": [
    "### Remove all the CIK for which we do not have stock data for this time period"
   ]
  },
  {
   "cell_type": "code",
   "execution_count": null,
   "metadata": {},
   "outputs": [],
   "source": [
    "pf_scores = post_processing.remove_cik_without_price(pf_scores, lookup, stock_data, s)"
   ]
  },
  {
   "cell_type": "code",
   "execution_count": null,
   "metadata": {},
   "outputs": [],
   "source": [
    "# Create the new empty master dictionary\n",
    "pf_values = {m: 0 for m in s['metrics'][:-1]}\n",
    "for m in s['metrics'][:-1]:\n",
    "    pf_values[m] = {q: {qtr: [0, s['tax_rate'], 0] for qtr in s['list_qtr']} for q in s['bin_labels']}"
   ]
  },
  {
   "cell_type": "markdown",
   "metadata": {},
   "source": [
    "## Initialize the portfolio with an equal amount for all bins"
   ]
  },
  {
   "cell_type": "code",
   "execution_count": null,
   "metadata": {},
   "outputs": [],
   "source": [
    "for m in s['metrics'][:-1]:\n",
    "    for mod_bin in s['bin_labels']:\n",
    "        pf_values[m][mod_bin][s['list_qtr'][s['lag']]] = [s['pf_init_value'], s['tax_rate'], s['pf_init_value']]\n",
    "#print(pf_values['diff_jaccard'])"
   ]
  },
  {
   "cell_type": "markdown",
   "metadata": {},
   "source": [
    "## Calculate the value of the portfolio"
   ]
  },
  {
   "cell_type": "code",
   "execution_count": null,
   "metadata": {
    "scrolled": false
   },
   "outputs": [],
   "source": [
    "pf_scores = post_processing.calculate_portfolio_value(\n",
    "    pf_scores, pf_values, lookup, stock_data, s, balancing='balanced')"
   ]
  },
  {
   "cell_type": "code",
   "execution_count": null,
   "metadata": {},
   "outputs": [],
   "source": [
    "post_processing.dump_pf_values(pf_values, s)"
   ]
  },
  {
   "cell_type": "code",
   "execution_count": null,
   "metadata": {},
   "outputs": [],
   "source": [
    "header_pf_values = (('METRIC', 'text'),  ('QUINTILE', 'text'),\n",
    "                    ('QUARTER', 'text'), ('PF_VALUE', 'float'),\n",
    "                    ('TAX_RATE', 'float'), ('PF_VALUE_POST_TAX', 'float'))\n",
    "header_cik_scores = (('CIK', 'integer'), ('QTR', 'text'), \n",
    "                     ('METRIC', 'text'), ('SCORE', 'float'), \n",
    "                     ('TYPE', 'text'), ('PUBLISHED', 'date'))"
   ]
  },
  {
   "cell_type": "code",
   "execution_count": null,
   "metadata": {},
   "outputs": [],
   "source": [
    "postgres.pf_values_to_postgres(connector, pf_values, header_pf_values, s)"
   ]
  },
  {
   "cell_type": "code",
   "execution_count": null,
   "metadata": {},
   "outputs": [],
   "source": [
    "postgres.cik_scores_to_postgres(connector, cik_scores, header_cik_scores, s)"
   ]
  },
  {
   "cell_type": "code",
   "execution_count": null,
   "metadata": {},
   "outputs": [],
   "source": [
    "del pf_values"
   ]
  },
  {
   "cell_type": "code",
   "execution_count": null,
   "metadata": {},
   "outputs": [],
   "source": [
    "pf_values = postgres.retrieve_pf_values(connector, 'pf_values', s)"
   ]
  },
  {
   "cell_type": "code",
   "execution_count": null,
   "metadata": {
    "scrolled": false
   },
   "outputs": [],
   "source": [
    "index_name = 'RUT'\n",
    "diff_method = 'diff_sk_cosine_tf_idf'\n",
    "#diff_method = 'diff_jaccard'\n",
    "# diff_method='diff_gfg_editDistDP'\n",
    "benchmark, bin_data = display.diff_vs_benchmark(pf_values, index_name, index_data, diff_method, s, norm_by_index=True)\n",
    "display.plot_diff_vs_benchmark(benchmark, bin_data, index_name, s)"
   ]
  },
  {
   "cell_type": "code",
   "execution_count": null,
   "metadata": {},
   "outputs": [],
   "source": [
    "# Output the data for the pf value\n",
    "for qtr in s['list_qtr'][s['lag']:]:\n",
    "    print(qtr, pf_values['diff_jaccard']['Q5'][qtr][0])"
   ]
  },
  {
   "cell_type": "code",
   "execution_count": null,
   "metadata": {},
   "outputs": [],
   "source": [
    "post_processing.dump_cik_scores(cik_scores, s)"
   ]
  },
  {
   "cell_type": "code",
   "execution_count": null,
   "metadata": {
    "scrolled": false
   },
   "outputs": [],
   "source": [
    "# [DEBUG] Show the Apple data for that time period\n",
    "# extracted_cik_scores = cik_scores[data_to_process[0][0]]\n",
    "data_to_process = ([k, v, {**s}, lm_dictionary] for k, v in cik_path.items())\n",
    "cik = next(data_to_process)[0]\n",
    "extracted_cik_scores = cik_scores[cik]\n",
    "# extracted_cik_scores"
   ]
  },
  {
   "cell_type": "code",
   "execution_count": null,
   "metadata": {},
   "outputs": [],
   "source": [
    "#ticker = lookup[320193]\n",
    "ticker = lookup[cik]\n",
    "start_date = qtrs.qtr_to_day(s['time_range'][0], 'first', date_format='datetime')\n",
    "stop_date = qtrs.qtr_to_day(s['time_range'][1], 'last', date_format='datetime')\n",
    "\n",
    "#print(s['time_range'], start_date)\n",
    "#print(s['time_range'], stop_date)\n",
    "extracted_stock_data = {k: v for k, v in stock_data[ticker].items() if start_date <= k <= stop_date}\n",
    "#print(extracted_data)\n"
   ]
  },
  {
   "cell_type": "code",
   "execution_count": null,
   "metadata": {},
   "outputs": [],
   "source": [
    "pf_scores"
   ]
  },
  {
   "cell_type": "markdown",
   "metadata": {},
   "source": [
    "# Display the data"
   ]
  },
  {
   "cell_type": "markdown",
   "metadata": {},
   "source": [
    "## For a given ticker"
   ]
  },
  {
   "cell_type": "markdown",
   "metadata": {},
   "source": [
    "### Metrics vs stock price"
   ]
  },
  {
   "cell_type": "code",
   "execution_count": null,
   "metadata": {
    "scrolled": false
   },
   "outputs": [],
   "source": [
    "benchmark, metric_data = display.diff_vs_stock(extracted_cik_scores, extracted_stock_data, ticker, s, method='diff')\n",
    "display.plot_diff_vs_stock(benchmark, metric_data, ticker, s)"
   ]
  },
  {
   "cell_type": "markdown",
   "metadata": {},
   "source": [
    "### Sentiment vs stock price"
   ]
  },
  {
   "cell_type": "code",
   "execution_count": null,
   "metadata": {},
   "outputs": [],
   "source": [
    "benchmark, metric_data = display.diff_vs_stock(extracted_cik_scores, extracted_stock_data, ticker, s, method='sentiment')\n",
    "display.plot_diff_vs_stock(benchmark, metric_data, ticker, s, method='sentiment')"
   ]
  },
  {
   "cell_type": "code",
   "execution_count": null,
   "metadata": {},
   "outputs": [],
   "source": []
  },
  {
   "cell_type": "code",
   "execution_count": null,
   "metadata": {},
   "outputs": [],
   "source": []
  },
  {
   "cell_type": "code",
   "execution_count": null,
   "metadata": {},
   "outputs": [],
   "source": []
  },
  {
   "cell_type": "code",
   "execution_count": null,
   "metadata": {},
   "outputs": [],
   "source": []
  }
 ],
 "metadata": {
  "kernelspec": {
   "display_name": "Python 3",
   "language": "python",
   "name": "python3"
  },
  "language_info": {
   "codemirror_mode": {
    "name": "ipython",
    "version": 3
   },
   "file_extension": ".py",
   "mimetype": "text/x-python",
   "name": "python",
   "nbconvert_exporter": "python",
   "pygments_lexer": "ipython3",
   "version": "3.7.3"
  }
 },
 "nbformat": 4,
 "nbformat_minor": 2
}
