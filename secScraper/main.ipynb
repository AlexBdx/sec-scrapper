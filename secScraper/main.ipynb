{
 "cells": [
  {
   "cell_type": "markdown",
   "metadata": {},
   "source": [
    "# Configuration"
   ]
  },
  {
   "cell_type": "code",
   "execution_count": 1,
   "metadata": {},
   "outputs": [
    {
     "name": "stderr",
     "output_type": "stream",
     "text": [
      "[nltk_data] Downloading package stopwords to /home/alex/nltk_data...\n",
      "[nltk_data]   Package stopwords is already up-to-date!\n",
      "[nltk_data] Downloading package punkt to /home/alex/nltk_data...\n",
      "[nltk_data]   Package punkt is already up-to-date!\n",
      "[nltk_data] Downloading package wordnet to /home/alex/nltk_data...\n",
      "[nltk_data]   Package wordnet is already up-to-date!\n"
     ]
    },
    {
     "name": "stdout",
     "output_type": "stream",
     "text": [
      "[INFO] Running python 3.7.3 (>= python 3.6)\n"
     ]
    }
   ],
   "source": [
    "from secScraper import *\n",
    "import sys\n",
    "\n",
    "if sys.version_info[0] < 3 or sys.version_info[1] < 6:\n",
    "    raise Exception(\"Must be using Python >= 3.6 due to reliance on ordered default dict.\")\n",
    "else:\n",
    "    version = \"[INFO] Running python {}.{}.{}\".format(*sys.version_info[:3])\n",
    "    if display.run_from_ipython():\n",
    "        %load_ext autoreload\n",
    "        %autoreload 2\n",
    "        %matplotlib notebook\n",
    "        version += \" for ipython\" if display.run_from_ipython() else \"\"\n",
    "    print(\"[INFO] Running python {}.{}.{} (>= python 3.6)\".format(*sys.version_info[:3]))"
   ]
  },
  {
   "cell_type": "markdown",
   "metadata": {},
   "source": [
    "## Packages to import"
   ]
  },
  {
   "cell_type": "code",
   "execution_count": 2,
   "metadata": {},
   "outputs": [],
   "source": [
    "import glob\n",
    "import numpy as np\n",
    "import matplotlib\n",
    "import matplotlib.pyplot as plt\n",
    "plt.ioff()\n",
    "\n",
    "import os\n",
    "import csv\n",
    "from datetime import datetime\n",
    "import re\n",
    "from tqdm import tqdm\n",
    "import multiprocessing as mp\n",
    "from collections import OrderedDict\n",
    "import time\n",
    "import pandas as pd\n",
    "import argparse\n",
    "import psycopg2\n",
    "import ast\n",
    "import copy\n",
    "\n",
    "# Spark\n",
    "# import findspark\n",
    "# findspark.init('/home/alex/spark-2.4.4-bin-hadoop2.7')\n",
    "import pyspark"
   ]
  },
  {
   "cell_type": "markdown",
   "metadata": {},
   "source": [
    "### Set the nb of processes to use based on cmd line arguments/setting"
   ]
  },
  {
   "cell_type": "code",
   "execution_count": 3,
   "metadata": {},
   "outputs": [],
   "source": [
    "if display.run_from_ipython():\n",
    "    nb_processes_requested = mp.cpu_count()  # From IPython, fixed setting\n",
    "    nb_processes_requested = 1 # From IPython, fixed setting\n",
    "else:\n",
    "    ap = argparse.ArgumentParser()\n",
    "    ap.add_argument(\"-p\", \"--processes\", type=int, default=1, help=\"Number of processes launched to process the reports.\")\n",
    "    args = vars(ap.parse_args())\n",
    "    nb_processes_requested = args[\"processes\"]\n",
    "    if not 1 <= nb_processes_requested <= mp.cpu_count():\n",
    "        raise ValueError('[ERROR] Number of processes requested is incorrect.\\\n",
    "                         \\n{} CPUs are available on this machine, please select a number of processes between 1 and {}'\n",
    "                         .format(mp.cpu_count()))"
   ]
  },
  {
   "cell_type": "markdown",
   "metadata": {},
   "source": [
    "## Settings dictionary"
   ]
  },
  {
   "cell_type": "code",
   "execution_count": 4,
   "metadata": {},
   "outputs": [],
   "source": [
    "home = os.path.expanduser(\"~\")\n",
    "_s = {\n",
    "    'path_stage_1_data': os.path.join(home, 'Desktop/filtered_text_data/nd_data/'),\n",
    "    'path_stock_database': os.path.join(home, 'Desktop/Insight project/Database/Ticker_stock_price.csv'),\n",
    "    'path_filtered_stock_data': os.path.join(home, 'Desktop/Insight project/Database/filtered_stock_data.csv'),\n",
    "    'path_stock_indexes': os.path.join(home, 'Desktop/Insight project/Database/Indexes/'),\n",
    "    'path_filtered_index_data': os.path.join(home, 'Desktop/Insight project/Database/Indexes/filtered_index_data.csv'),\n",
    "    'path_lookup': os.path.join(home, 'Desktop/Insight project/Database/lookup.csv'),\n",
    "    'path_filtered_lookup': os.path.join(home, 'Desktop/Insight project/Database/filtered_lookup.csv'),\n",
    "    'path_master_dictionary': os.path.join(home, 'Desktop/Insight project/Database/LoughranMcDonald_MasterDictionary_2018.csv'),\n",
    "    'path_dump_crsp': os.path.join(home, 'Desktop/Insight project/Database/dump_crsp_merged.txt'),\n",
    "    'path_output_folder': os.path.join(home, 'Desktop/Insight project/Outputs'),\n",
    "    'path_dump_cik_scores': os.path.join(home, 'Desktop/Insight project/Outputs/dump_cik_scores.csv'),\n",
    "    'path_dump_pf_values': os.path.join(home, 'Desktop/Insight project/Outputs/dump_pf_values.csv'),\n",
    "    'path_dump_master_dict': os.path.join(home, 'Desktop/Insight project/Outputs/dump_master_dict.csv'),\n",
    "    'metrics': ['diff_jaccard', 'diff_sk_cosine_tf_idf', 'diff_gfg_editDistDP', 'sing_LoughranMcDonald'],\n",
    "    'stop_words': False,\n",
    "    'lemmatize': False,\n",
    "    'differentiation_mode': 'yearly',\n",
    "    'time_range': [(2012, 1), (2014, 4)],\n",
    "    'bin_count': 5,\n",
    "    'tax_rate': 0.005,\n",
    "    'histogram_date_span_ratio': 0.5,\n",
    "    'report_type': ['10-K', '10-Q'],\n",
    "    'sections_to_parse_10k': [],\n",
    "    'sections_to_parse_10q': [],\n",
    "    'type_daily_price': 'closing'\n",
    "}"
   ]
  },
  {
   "cell_type": "code",
   "execution_count": 5,
   "metadata": {},
   "outputs": [],
   "source": [
    "_s['pf_init_value'] = 100.0  # In points\n",
    "_s['epsilon'] = 0.0001  # Rounding error\n",
    "# Calculated settings\n",
    "_s['list_qtr'] = qtrs.create_qtr_list(_s['time_range'])\n",
    "\n",
    "if _s['bin_count'] == 5:\n",
    "    _s['bin_labels'] = ['Q'+str(n) for n in range(1, _s['bin_count']+1)]\n",
    "elif _s['bin_count'] == 10:\n",
    "    _s['bin_labels'] = ['D'+str(n) for n in range(1, _s['bin_count']+1)]\n",
    "else:\n",
    "    raise ValueError('[ERROR] This type of bin has not been implemented yet.')\n",
    "\n",
    "# Create diff metrics and sing metrics\n",
    "_s['diff_metrics'] = [m for m in _s['metrics'] if m[:4] == 'diff']\n",
    "_s['sing_metrics'] = [m for m in _s['metrics'] if m[:4] == 'sing']\n",
    "# Reports considered to calculate the differences\n",
    "if _s['differentiation_mode'] == 'quarterly':\n",
    "    _s['lag'] = 1\n",
    "    _s['sections_to_parse_10k'] = ['1a', '3', '7', '7a', '9a']\n",
    "    _s['sections_to_parse_10q'] = ['_i_2', '_i_3', '_i_4', 'ii_1', 'ii_1a']\n",
    "elif _s['differentiation_mode'] == 'yearly':\n",
    "    _s['lag'] = 4\n",
    "    _s['sections_to_parse_10k'] = ['1a', '3', '7', '7a', '9a']\n",
    "    _s['sections_to_parse_10q'] = ['_i_2', '_i_3', '_i_4', 'ii_1', 'ii_1a']\n",
    "\n",
    "_s['common_quarterly_sections'] = {\n",
    "        '10-K': ['1a', '3', '7', '7a', '9a'],\n",
    "        '10-Q': ['ii_1a', 'ii_1', '_i_2', '_i_3', '_i_4']\n",
    "}  # Exhibits are not taken into account\n",
    "\"\"\"_s['common_yearly_sections'] = {\n",
    "    '10-K': ['1', '1a', '1b', '2', '3', '4', '5', '6', '7', '7a', '8', '9', '9a', '9b', '10', '11', '12', '13', '14', '15'],\n",
    "    '10-Q': ['_i_1', '_i_2', '_i_3', '_i_4', 'ii_1', 'ii_1a', 'ii_2', 'ii_3', 'ii_4', 'ii_5', 'ii_6']\n",
    "}\"\"\"\n",
    "_s['common_yearly_sections'] = {\n",
    "    '10-K': ['7'],\n",
    "    '10-Q': ['_i_2']\n",
    "}  # Take into account "
   ]
  },
  {
   "cell_type": "code",
   "execution_count": 6,
   "metadata": {},
   "outputs": [],
   "source": [
    "# Transfer s to a read only dict\n",
    "read_only_dict = pre_processing.ReadOnlyDict()\n",
    "for key in _s:  # Brute force copy\n",
    "    read_only_dict[key] = _s[key]\n",
    "s = read_only_dict  # Copy back\n",
    "s.set_read_state(read_only=True)  # Set as read only"
   ]
  },
  {
   "cell_type": "markdown",
   "metadata": {},
   "source": [
    "# Load external tables"
   ]
  },
  {
   "cell_type": "code",
   "execution_count": 7,
   "metadata": {},
   "outputs": [],
   "source": [
    "connector = psycopg2.connect(host=\"localhost\", dbname=\"postgres\", user=\"postgres\", password=\"1\")"
   ]
  },
  {
   "cell_type": "code",
   "execution_count": 8,
   "metadata": {},
   "outputs": [
    {
     "name": "stderr",
     "output_type": "stream",
     "text": [
      "\r",
      "  0%|          | 0/34 [00:00<?, ?it/s]"
     ]
    },
    {
     "name": "stdout",
     "output_type": "stream",
     "text": [
      "[INFO] Deleted table settings\n",
      "[INFO] Creating the following table:\n",
      "CREATE TABLE settings(IDX integer PRIMARY KEY,KEY text,VALUE text)\n"
     ]
    },
    {
     "name": "stderr",
     "output_type": "stream",
     "text": [
      "100%|██████████| 34/34 [00:00<00:00, 974.25it/s]\n"
     ]
    }
   ],
   "source": [
    "postgres.settings_to_postgres(connector, s)"
   ]
  },
  {
   "cell_type": "markdown",
   "metadata": {},
   "source": [
    "## Extract the list of CIK for which we have complete data"
   ]
  },
  {
   "cell_type": "markdown",
   "metadata": {},
   "source": [
    "The main problem in our case is that we have 3 different database to play with:\n",
    "1. The SEC provides information based on the CIK of the entity\n",
    "2. Given that the CIK is used by no one else, we use a lookup table to transform that into tickers. But we do not have all the correspondances, so the list of useful CIK is shrunk.\n",
    "3. Finally, we only have stock prices for so many tickers. So that shrinks the CIK list even further.\n",
    "\n",
    "We end up with a reduced list of CIK that we can play with."
   ]
  },
  {
   "cell_type": "markdown",
   "metadata": {},
   "source": [
    "### Load the sentiment analysis dictionary"
   ]
  },
  {
   "cell_type": "code",
   "execution_count": 9,
   "metadata": {},
   "outputs": [
    {
     "name": "stdout",
     "output_type": "stream",
     "text": [
      " ...Loading Master Dictionary 85000\n",
      "Master Dictionary loaded from file: \n",
      "  /home/alex/Desktop/Insight project/Database/LoughranMcDonald_MasterDictionary_2018.csv\n",
      "  86,486 words loaded in master_dictionary.\n",
      "\n"
     ]
    }
   ],
   "source": [
    "lm_dictionary = Load_MasterDictionary.load_masterdictionary(s['path_master_dictionary'], True)"
   ]
  },
  {
   "cell_type": "markdown",
   "metadata": {},
   "source": [
    "### Find all the unique CIK from the SEC filings"
   ]
  },
  {
   "cell_type": "code",
   "execution_count": 10,
   "metadata": {},
   "outputs": [
    {
     "name": "stdout",
     "output_type": "stream",
     "text": [
      "[INFO] Loaded 395,773 10-X\n",
      "[INFO] Shrunk to 350,283 ['10-K', '10-Q']\n"
     ]
    },
    {
     "name": "stderr",
     "output_type": "stream",
     "text": [
      " 21%|██        | 72355/350283 [00:00<00:00, 723543.79it/s]"
     ]
    },
    {
     "name": "stdout",
     "output_type": "stream",
     "text": [
      "[INFO] Found 18,009 unique CIK in master index\n"
     ]
    },
    {
     "name": "stderr",
     "output_type": "stream",
     "text": [
      "100%|██████████| 350283/350283 [00:00<00:00, 862314.02it/s]"
     ]
    },
    {
     "name": "stdout",
     "output_type": "stream",
     "text": [
      "[INFO] cik_path contains data on 18,009 CIK numbers\n"
     ]
    },
    {
     "name": "stderr",
     "output_type": "stream",
     "text": [
      "\n"
     ]
    }
   ],
   "source": [
    "cik_path = pre_processing.load_cik_path(s)"
   ]
  },
  {
   "cell_type": "markdown",
   "metadata": {},
   "source": [
    "### Get the largest {CIK: ticker} possible given our lookup table"
   ]
  },
  {
   "cell_type": "code",
   "execution_count": 11,
   "metadata": {
    "scrolled": true
   },
   "outputs": [
    {
     "name": "stdout",
     "output_type": "stream",
     "text": [
      "SELECT * FROM lookup;\n",
      "[INFO] Loaded 13,738 CIK/Tickers correspondances.\n"
     ]
    }
   ],
   "source": [
    "lookup, reverse_lookup = postgres.retrieve_lookup(connector)\n",
    "print(\"[INFO] Loaded {:,} CIK/Tickers correspondances.\".format(len(lookup)))"
   ]
  },
  {
   "cell_type": "code",
   "execution_count": 12,
   "metadata": {},
   "outputs": [
    {
     "name": "stdout",
     "output_type": "stream",
     "text": [
      "[INFO] Intersected SEC & lookup.\n",
      "cik_path: 9,547 CIK | lookup: 9,547 CIK\n"
     ]
    }
   ],
   "source": [
    "cik_path, lookup = pre_processing.intersection_sec_lookup(cik_path, lookup)\n",
    "print(\"[INFO] Intersected SEC & lookup.\")\n",
    "print(\"cik_path: {:,} CIK | lookup: {:,} CIK\"\n",
    "      .format(len(cik_path), len(lookup)))"
   ]
  },
  {
   "cell_type": "code",
   "execution_count": 13,
   "metadata": {},
   "outputs": [
    {
     "data": {
      "text/plain": [
       "'MHK'"
      ]
     },
     "execution_count": 13,
     "metadata": {},
     "output_type": "execute_result"
    }
   ],
   "source": [
    "lookup[851968]"
   ]
  },
  {
   "cell_type": "markdown",
   "metadata": {},
   "source": [
    "### Load stock data and drop all CIKs for which we don't have data"
   ]
  },
  {
   "cell_type": "code",
   "execution_count": 14,
   "metadata": {
    "scrolled": true
   },
   "outputs": [
    {
     "name": "stdout",
     "output_type": "stream",
     "text": [
      "SELECT * FROM stock_data;\n"
     ]
    },
    {
     "name": "stderr",
     "output_type": "stream",
     "text": [
      "100%|██████████| 2285837/2285837 [00:02<00:00, 792048.37it/s]\n"
     ]
    }
   ],
   "source": [
    "# Load all stock prices\n",
    "stock_data = postgres.retrieve_all_stock_data(connector, 'stock_data')"
   ]
  },
  {
   "cell_type": "code",
   "execution_count": 15,
   "metadata": {},
   "outputs": [
    {
     "name": "stdout",
     "output_type": "stream",
     "text": [
      "3389\n"
     ]
    },
    {
     "ename": "KeyboardInterrupt",
     "evalue": "",
     "output_type": "error",
     "traceback": [
      "\u001b[0;31m---------------------------------------------------------------------------\u001b[0m",
      "\u001b[0;31mKeyboardInterrupt\u001b[0m                         Traceback (most recent call last)",
      "\u001b[0;32m<ipython-input-15-3aa2afdbef23>\u001b[0m in \u001b[0;36m<module>\u001b[0;34m\u001b[0m\n\u001b[0;32m----> 1\u001b[0;31m \u001b[0mlookup\u001b[0m\u001b[0;34m,\u001b[0m \u001b[0mstock_data\u001b[0m \u001b[0;34m=\u001b[0m \u001b[0mpre_processing\u001b[0m\u001b[0;34m.\u001b[0m\u001b[0mintersection_lookup_stock\u001b[0m\u001b[0;34m(\u001b[0m\u001b[0mlookup\u001b[0m\u001b[0;34m,\u001b[0m \u001b[0mstock_data\u001b[0m\u001b[0;34m)\u001b[0m\u001b[0;34m\u001b[0m\u001b[0;34m\u001b[0m\u001b[0m\n\u001b[0m\u001b[1;32m      2\u001b[0m \u001b[0mprint\u001b[0m\u001b[0;34m(\u001b[0m\u001b[0;34m\"[INFO] Intersected lookup & stock data.\"\u001b[0m\u001b[0;34m)\u001b[0m\u001b[0;34m\u001b[0m\u001b[0;34m\u001b[0m\u001b[0m\n\u001b[1;32m      3\u001b[0m print(\"lookup: {:,} tickers | stock_data: {:,} tickers\"\n\u001b[1;32m      4\u001b[0m       .format(len(lookup.values()), len(stock_data)))\n",
      "\u001b[0;32m~/Desktop/Custom_packages/secScraper/secScraper/pre_processing.py\u001b[0m in \u001b[0;36mintersection_lookup_stock\u001b[0;34m(lookup, stock)\u001b[0m\n\u001b[1;32m    270\u001b[0m \u001b[0;34m\u001b[0m\u001b[0m\n\u001b[1;32m    271\u001b[0m     \u001b[0;31m# 3. Return a new intersection dictionary\u001b[0m\u001b[0;34m\u001b[0m\u001b[0;34m\u001b[0m\u001b[0;34m\u001b[0m\u001b[0m\n\u001b[0;32m--> 272\u001b[0;31m     \u001b[0minter_lookup\u001b[0m \u001b[0;34m=\u001b[0m \u001b[0;34m{\u001b[0m\u001b[0mk\u001b[0m\u001b[0;34m:\u001b[0m \u001b[0mv\u001b[0m \u001b[0;32mfor\u001b[0m \u001b[0mk\u001b[0m\u001b[0;34m,\u001b[0m \u001b[0mv\u001b[0m \u001b[0;32min\u001b[0m \u001b[0mlookup\u001b[0m\u001b[0;34m.\u001b[0m\u001b[0mitems\u001b[0m\u001b[0;34m(\u001b[0m\u001b[0;34m)\u001b[0m \u001b[0;32mif\u001b[0m \u001b[0mv\u001b[0m \u001b[0;32min\u001b[0m \u001b[0mintersection_tickers\u001b[0m\u001b[0;34m}\u001b[0m\u001b[0;34m\u001b[0m\u001b[0;34m\u001b[0m\u001b[0m\n\u001b[0m\u001b[1;32m    273\u001b[0m     \u001b[0minter_stock\u001b[0m \u001b[0;34m=\u001b[0m \u001b[0;34m{\u001b[0m\u001b[0mk\u001b[0m\u001b[0;34m:\u001b[0m \u001b[0mstock\u001b[0m\u001b[0;34m[\u001b[0m\u001b[0mk\u001b[0m\u001b[0;34m]\u001b[0m \u001b[0;32mfor\u001b[0m \u001b[0mk\u001b[0m \u001b[0;32min\u001b[0m \u001b[0mstock\u001b[0m\u001b[0;34m.\u001b[0m\u001b[0mkeys\u001b[0m\u001b[0;34m(\u001b[0m\u001b[0;34m)\u001b[0m \u001b[0;32mif\u001b[0m \u001b[0mk\u001b[0m \u001b[0;32min\u001b[0m \u001b[0mintersection_tickers\u001b[0m\u001b[0;34m}\u001b[0m\u001b[0;34m\u001b[0m\u001b[0;34m\u001b[0m\u001b[0m\n\u001b[1;32m    274\u001b[0m \u001b[0;34m\u001b[0m\u001b[0m\n",
      "\u001b[0;32m~/Desktop/Custom_packages/secScraper/secScraper/pre_processing.py\u001b[0m in \u001b[0;36m<dictcomp>\u001b[0;34m(.0)\u001b[0m\n\u001b[1;32m    270\u001b[0m \u001b[0;34m\u001b[0m\u001b[0m\n\u001b[1;32m    271\u001b[0m     \u001b[0;31m# 3. Return a new intersection dictionary\u001b[0m\u001b[0;34m\u001b[0m\u001b[0;34m\u001b[0m\u001b[0;34m\u001b[0m\u001b[0m\n\u001b[0;32m--> 272\u001b[0;31m     \u001b[0minter_lookup\u001b[0m \u001b[0;34m=\u001b[0m \u001b[0;34m{\u001b[0m\u001b[0mk\u001b[0m\u001b[0;34m:\u001b[0m \u001b[0mv\u001b[0m \u001b[0;32mfor\u001b[0m \u001b[0mk\u001b[0m\u001b[0;34m,\u001b[0m \u001b[0mv\u001b[0m \u001b[0;32min\u001b[0m \u001b[0mlookup\u001b[0m\u001b[0;34m.\u001b[0m\u001b[0mitems\u001b[0m\u001b[0;34m(\u001b[0m\u001b[0;34m)\u001b[0m \u001b[0;32mif\u001b[0m \u001b[0mv\u001b[0m \u001b[0;32min\u001b[0m \u001b[0mintersection_tickers\u001b[0m\u001b[0;34m}\u001b[0m\u001b[0;34m\u001b[0m\u001b[0;34m\u001b[0m\u001b[0m\n\u001b[0m\u001b[1;32m    273\u001b[0m     \u001b[0minter_stock\u001b[0m \u001b[0;34m=\u001b[0m \u001b[0;34m{\u001b[0m\u001b[0mk\u001b[0m\u001b[0;34m:\u001b[0m \u001b[0mstock\u001b[0m\u001b[0;34m[\u001b[0m\u001b[0mk\u001b[0m\u001b[0;34m]\u001b[0m \u001b[0;32mfor\u001b[0m \u001b[0mk\u001b[0m \u001b[0;32min\u001b[0m \u001b[0mstock\u001b[0m\u001b[0;34m.\u001b[0m\u001b[0mkeys\u001b[0m\u001b[0;34m(\u001b[0m\u001b[0;34m)\u001b[0m \u001b[0;32mif\u001b[0m \u001b[0mk\u001b[0m \u001b[0;32min\u001b[0m \u001b[0mintersection_tickers\u001b[0m\u001b[0;34m}\u001b[0m\u001b[0;34m\u001b[0m\u001b[0;34m\u001b[0m\u001b[0m\n\u001b[1;32m    274\u001b[0m \u001b[0;34m\u001b[0m\u001b[0m\n",
      "\u001b[0;31mKeyboardInterrupt\u001b[0m: "
     ]
    }
   ],
   "source": [
    "lookup, stock_data = pre_processing.intersection_lookup_stock(lookup, stock_data)\n",
    "print(\"[INFO] Intersected lookup & stock data.\")\n",
    "print(\"lookup: {:,} tickers | stock_data: {:,} tickers\"\n",
    "      .format(len(lookup.values()), len(stock_data)))"
   ]
  },
  {
   "cell_type": "markdown",
   "metadata": {},
   "source": [
    "### Load stock indexes - will serve as benchmark later on"
   ]
  },
  {
   "cell_type": "code",
   "execution_count": null,
   "metadata": {},
   "outputs": [],
   "source": [
    "index_data = postgres.retrieve_all_stock_data(connector, 'index_data')\n",
    "print(\"[INFO] Loaded the following index data:\", list(index_data.keys()))"
   ]
  },
  {
   "cell_type": "markdown",
   "metadata": {},
   "source": [
    "## Back propagate these intersection all the way to cik_path"
   ]
  },
  {
   "cell_type": "markdown",
   "metadata": {},
   "source": [
    "Technically, we have just done it for lookup. So we only need to re-run an intersection for lookup and sec."
   ]
  },
  {
   "cell_type": "code",
   "execution_count": null,
   "metadata": {},
   "outputs": [],
   "source": [
    "cik_path, lookup = pre_processing.intersection_sec_lookup(cik_path, lookup)\n",
    "print(\"[INFO] Intersected SEC & lookup.\")\n",
    "print(\"cik_path: {:,} CIK | lookup: {:,} CIK\"\n",
    "      .format(len(cik_path), len(lookup)))"
   ]
  },
  {
   "cell_type": "markdown",
   "metadata": {},
   "source": [
    "## Sanity check"
   ]
  },
  {
   "cell_type": "markdown",
   "metadata": {},
   "source": [
    "At this point, cik_path and lookup should have the same number of keys as the CIK is unique in the path database.\n",
    "\n",
    "However, multiple CIK can redirect to the same ticker if the company changed its ticker over time. That should be a very limited amount of cases though."
   ]
  },
  {
   "cell_type": "code",
   "execution_count": null,
   "metadata": {},
   "outputs": [],
   "source": [
    "assert cik_path.keys() == lookup.keys()\n",
    "assert len(set(lookup.values())) == len(set(stock_data.keys()))"
   ]
  },
  {
   "cell_type": "markdown",
   "metadata": {},
   "source": [
    "At that point, we have a {CIK: ticker} for which the stock is known, which will enable comparison and all down the road."
   ]
  },
  {
   "cell_type": "markdown",
   "metadata": {},
   "source": [
    "## Review all CIKs: make sure there is only one submission per quarter"
   ]
  },
  {
   "cell_type": "markdown",
   "metadata": {},
   "source": [
    "In this section, the goal is to build a list of CIK that will successfully be parsed for the time_range considered.\n",
    "It should be trivial for a vast majority of the CIK, but ideally there should be only one document per quarter for each CIK from the moment they are listed to the moment they are delisted."
   ]
  },
  {
   "cell_type": "code",
   "execution_count": null,
   "metadata": {
    "scrolled": true
   },
   "outputs": [],
   "source": [
    "# Create the list of quarters to consider\n",
    "cik_path = pre_processing.review_cik_publications(cik_path, s)\n",
    "print(\"[INFO] Removed all the CIK that did not have one report per quarter.\")\n",
    "print(\"cik_dict: {:,} CIK\".format(len(cik_path)))"
   ]
  },
  {
   "cell_type": "code",
   "execution_count": null,
   "metadata": {},
   "outputs": [],
   "source": [
    "print(\"[INFO] We are left with {:,} CIKs that meet our requirements:\".format(len(cik_path)))\n",
    "print(\"- The ticker can be looked up in the CIK/ticker tabke\")\n",
    "print(\"- The stock data is available for that ticker\")\n",
    "print(\"- There is one and only one report per quarter\")"
   ]
  },
  {
   "cell_type": "markdown",
   "metadata": {},
   "source": [
    "## Dump all the data to postgres\n",
    "This is done so that the Flask webapp can retrieve the settings that were used at a later time."
   ]
  },
  {
   "cell_type": "code",
   "execution_count": null,
   "metadata": {},
   "outputs": [],
   "source": [
    "print(list(cik_path.keys()).index(10456))  # Find BAX"
   ]
  },
  {
   "cell_type": "markdown",
   "metadata": {},
   "source": [
    "connector = psycopg2.connect(host=\"localhost\", dbname=\"postgres\", user=\"postgres\", password=\"1\")"
   ]
  },
  {
   "cell_type": "markdown",
   "metadata": {},
   "source": [
    "postgres.settings_to_postgres(connector, s)"
   ]
  },
  {
   "cell_type": "markdown",
   "metadata": {},
   "source": [
    "header_lookup = (('CIK', 'integer'), ('TICKER', 'text'))\n",
    "postgres.lookup_to_postgres(connector, lookup, header_lookup)"
   ]
  },
  {
   "cell_type": "markdown",
   "metadata": {},
   "source": [
    "header = (('TICKER', 'text'), ('TIMESTAMP', 'date'), \n",
    "          ('ASK', 'float'), ('MARKET_CAP', 'float'))\n",
    "path = os.path.join(home, 'Desktop/Insight project/Database/stock_data_filtered.csv')\n",
    "postgres.stock_data_csv_to_postgres(connector, path, header)"
   ]
  },
  {
   "cell_type": "markdown",
   "metadata": {},
   "source": [
    "stock_data_2 = postgres.retrieve_stock_data(connector)"
   ]
  },
  {
   "cell_type": "markdown",
   "metadata": {},
   "source": [
    "# Parse files"
   ]
  },
  {
   "cell_type": "markdown",
   "metadata": {},
   "source": [
    "Now we have a list of CIK that should make it until the end. It is time to open the relevant reports and start parsing. This step takes a lot of time and can get arbitrarily long as the metrics get fancier.\n",
    "\n",
    "You do not want to keep in RAM all the parsed data. However, there are only ~100 quarters for which we have data and the stage 2 files are no more than 1 Mb in size (Apple seems to top out at ~ 325 kb). So 100 Mb per core + others, that's definitely doable. More cores will use more RAM, but the usage remains reasonable.\n",
    "\n",
    "We use multiprocessing to go through N CIK at once but a single core is dedicated to going through a given CIK for the specified time_range. Such a core can be running for a while if the company has been in business for the whole time_range and publish a lot of text data in its 10-K."
   ]
  },
  {
   "cell_type": "code",
   "execution_count": null,
   "metadata": {},
   "outputs": [],
   "source": [
    "try:\n",
    "    sc.stop()\n",
    "except:\n",
    "    pass\n",
    "nb_processes_requested = 8"
   ]
  },
  {
   "cell_type": "code",
   "execution_count": null,
   "metadata": {},
   "outputs": [],
   "source": [
    "nb_processes_requested = 8"
   ]
  },
  {
   "cell_type": "code",
   "execution_count": null,
   "metadata": {
    "scrolled": true
   },
   "outputs": [],
   "source": [
    "# Processing the reports will be done in parrallel in a random order\n",
    "# Settings in s are cast to dict for pickling - the custom class is not supported\n",
    "nb_cik_to_process = 100\n",
    "cik_path = {k: cik_path[k] for k in cik_path.keys() if k in list(cik_path.keys())[:nb_cik_to_process]}\n",
    "\n",
    "# print(list(cik_path.keys()).index(10456))  # Find BAX\n",
    "cik_scores = {k: 0 for k in cik_path.keys()}  # Organized by ticker\n",
    "data_to_process = ([k, v, {**s}, lm_dictionary] for k, v in cik_path.items())\n",
    "assert cik_path.keys() == cik_scores.keys()\n",
    "#print(data_to_process)\n",
    "#result = process_cik(data_to_process[0])\n",
    "#cik_perf[result[0]] = result[1]\n",
    "#print(cik_perf)\n",
    "#assert 0\n",
    "processing_stats = [0, 0, 0, 0, 0, 0]\n",
    "#qtr_metric_result = {key: [] for key in s['list_qtr']}\n",
    "if nb_processes_requested > 1:\n",
    "    with mp.Pool(processes=nb_processes_requested) as p:\n",
    "    #with mp.Pool(processes=min(mp.cpu_count(), 1)) as p:\n",
    "        print(\"[INFO] Starting a pool of {} workers\".format(nb_processes_requested))\n",
    "\n",
    "        with tqdm(total=nb_cik_to_process) as pbar:\n",
    "            for i, value in tqdm(enumerate(p.imap_unordered(processing.process_cik, data_to_process))):\n",
    "                pbar.update()\n",
    "                #qtr = list_qtr[i]\n",
    "                # Each quarter gets a few metrics\n",
    "                if value[1] == {}:\n",
    "                    # The parsing failed\n",
    "                    del cik_scores[value[0]]\n",
    "                else:\n",
    "                    cik_scores[value[0]] = value[1]\n",
    "                processing_stats[value[2]] += 1\n",
    "\n",
    "elif nb_processes_requested == 1:\n",
    "    print(\"[INFO] Running on {} core (multiprocessing is off)\".format(nb_processes_requested))\n",
    "    # print(list(data_to_process))\n",
    "    with tqdm(total=nb_cik_to_process) as pbar:\n",
    "        for i, value in tqdm(enumerate(map(processing.process_cik, data_to_process))):\n",
    "            pbar.update()\n",
    "            #qtr = list_qtr[i]\n",
    "            # Each quarter gets a few metrics\n",
    "            if value[1] == {}:\n",
    "                # The parsing failed\n",
    "                del cik_scores[value[0]]\n",
    "            else:\n",
    "                cik_scores[value[0]] = value[1]\n",
    "            processing_stats[value[2]] += 1\n",
    "\n",
    "elif nb_processes_requested == 0:\n",
    "    # Spark mode!!\n",
    "    print(\"[INFO] Running with Spark\")\n",
    "    sc = pyspark.SparkContext(appName=\"model_calculations\")\n",
    "    print(\"[INFO] Context started\")\n",
    "    spark_result = sc.parallelize(data_to_process).map(processing.process_cik)\n",
    "    spark_result = spark_result.take(nb_cik_to_process)\n",
    "    sc.stop()\n",
    "    \n",
    "    # Process the result\n",
    "    with tqdm(total=nb_cik_to_process) as pbar:\n",
    "        for i, value in tqdm(enumerate(spark_result)):\n",
    "            pbar.update()\n",
    "            #qtr = list_qtr[i]\n",
    "            # Each quarter gets a few metrics\n",
    "            if value[1] == {}:\n",
    "                # The parsing failed\n",
    "                del cik_scores[value[0]]\n",
    "            else:\n",
    "                cik_scores[value[0]] = value[1]\n",
    "            processing_stats[value[2]] += 1\n",
    "           \n",
    "        #qtr_metric_result[value['0']['qtr']] = value\n",
    "\n",
    "print(\"[INFO] {} CIK were successfully processed - {}/{} CIK failed.\".format(len(cik_scores), len(cik_path)-len(cik_scores), len(cik_path)))\n",
    "print(\"Detailed stats and error codes:\", processing_stats)"
   ]
  },
  {
   "cell_type": "markdown",
   "metadata": {},
   "source": [
    "# Post-processing - Welcome to the gettho"
   ]
  },
  {
   "cell_type": "markdown",
   "metadata": {},
   "source": [
    "## Flip the result dictionary to present a per qtr view"
   ]
  },
  {
   "cell_type": "code",
   "execution_count": null,
   "metadata": {},
   "outputs": [],
   "source": [
    "# Reorganize the dict to display the data per quarter instead\n",
    "qtr_scores = {qtr: {} for qtr in s['list_qtr']}\n",
    "\n",
    "for cik in tqdm(cik_scores):\n",
    "    for qtr in cik_scores[cik]:\n",
    "        qtr_scores[qtr][cik] = cik_scores[cik][qtr]\n",
    "\n",
    "assert list(qtr_scores.keys()) == s['list_qtr']"
   ]
  },
  {
   "cell_type": "markdown",
   "metadata": {},
   "source": [
    "## Create a separate dictionary for each metric"
   ]
  },
  {
   "cell_type": "code",
   "execution_count": null,
   "metadata": {},
   "outputs": [],
   "source": [
    "# Create the new empty master dictionary\n",
    "master_dict = {m: 0 for m in s['metrics']}\n",
    "for m in s['metrics']:\n",
    "    master_dict[m] = {qtr: 0 for qtr in s['list_qtr']}\n",
    "# master_dict"
   ]
  },
  {
   "cell_type": "code",
   "execution_count": null,
   "metadata": {},
   "outputs": [],
   "source": [
    "# Populate it\n",
    "for m in s['metrics']:\n",
    "    for qtr in s['list_qtr']:\n",
    "        #master_dict[m][qtr] = {cik: qtr_scores[qtr][cik][m] for cik in qtr_scores[qtr].keys()}\n",
    "        master_dict[m][qtr] = [(cik, qtr_scores[qtr][cik][m]) for cik in qtr_scores[qtr].keys()]"
   ]
  },
  {
   "cell_type": "code",
   "execution_count": null,
   "metadata": {},
   "outputs": [],
   "source": [
    "# Display the length for all qtr\n",
    "for qtr in s['list_qtr']:\n",
    "    print(\"qtr: {} length: {}\".format(qtr, len(master_dict[s['metrics'][0]][qtr])))"
   ]
  },
  {
   "cell_type": "markdown",
   "metadata": {},
   "source": [
    "## For each metric, split each qtr into 5 quintiles\n",
    "\n",
    "For each metric and for each quarter, make quintiles containing all the (cik, score) tuples. \n",
    "\n",
    "Now at this point the portfolio is not balanced, it is just the list of companies we would like to invest in. We need to weigh each investment by the relative market cap. "
   ]
  },
  {
   "cell_type": "code",
   "execution_count": null,
   "metadata": {},
   "outputs": [],
   "source": [
    "# Populate it\n",
    "# The two zeros are respectively nb shares unbalanced & balanced\n",
    "for m in s['metrics']:\n",
    "    for qtr in s['list_qtr']:\n",
    "        #master_dict[m][qtr] = {cik: qtr_scores[qtr][cik][m] for cik in qtr_scores[qtr].keys()}\n",
    "        master_dict[m][qtr] = [[cik, qtr_scores[qtr][cik][m], 0, 0] for cik in qtr_scores[qtr].keys()]\n",
    "# master_dict"
   ]
  },
  {
   "cell_type": "code",
   "execution_count": null,
   "metadata": {
    "scrolled": true
   },
   "outputs": [],
   "source": [
    "# Reorganize each quarter \n",
    "for m in s['metrics'][:-1]:\n",
    "    for qtr in s['list_qtr'][s['lag']:]:  # There cannot be a report for the first few qtr\n",
    "        #print(master_dict[m][qtr])\n",
    "        try:\n",
    "            #print(master_dict[m][qtr])\n",
    "            #assert 0\n",
    "            master_dict[m][qtr] = post_processing.make_quintiles(master_dict[m][qtr], s)\n",
    "        except:\n",
    "            #print(master_dict[m][qtr])\n",
    "            raise\n",
    "        assert len(master_dict[m][qtr].keys()) == 5"
   ]
  },
  {
   "cell_type": "code",
   "execution_count": null,
   "metadata": {},
   "outputs": [],
   "source": [
    "pf_scores = {m: 0 for m in s['metrics'][:-1]}\n",
    "for m in s['metrics']:\n",
    "    pf_scores[m] = {q: {qtr: 0 for qtr in s['list_qtr'][s['lag']:]} for q in s['bin_labels']}"
   ]
  },
  {
   "cell_type": "code",
   "execution_count": null,
   "metadata": {},
   "outputs": [],
   "source": [
    "for m in s['metrics'][:-1]:\n",
    "    for mod_bin in s['bin_labels']:\n",
    "        for qtr in s['list_qtr'][s['lag']:]:\n",
    "            pf_scores[m][mod_bin][qtr] = master_dict[m][qtr][mod_bin]\n",
    "# pf_scores['diff_jaccard']['Q1']"
   ]
  },
  {
   "cell_type": "code",
   "execution_count": null,
   "metadata": {},
   "outputs": [],
   "source": [
    "post_processing.dump_master_dict(master_dict, s)"
   ]
  },
  {
   "cell_type": "code",
   "execution_count": null,
   "metadata": {},
   "outputs": [],
   "source": [
    "del master_dict"
   ]
  },
  {
   "cell_type": "markdown",
   "metadata": {},
   "source": [
    "## Create a virtual portfolio\n",
    "\n",
    "Re-calculate the value of the portfolio at the end of each quarter."
   ]
  },
  {
   "cell_type": "markdown",
   "metadata": {},
   "source": [
    "### Remove all the CIK for which we do not have stock data for this time period"
   ]
  },
  {
   "cell_type": "code",
   "execution_count": null,
   "metadata": {},
   "outputs": [],
   "source": [
    "pf_scores = post_processing.remove_cik_without_price(pf_scores, lookup, stock_data, s)"
   ]
  },
  {
   "cell_type": "code",
   "execution_count": null,
   "metadata": {},
   "outputs": [],
   "source": [
    "# Create the new empty master dictionary\n",
    "pf_values = {m: 0 for m in s['metrics'][:-1]}\n",
    "for m in s['metrics'][:-1]:\n",
    "    pf_values[m] = {q: {qtr: [0, s['tax_rate'], 0] for qtr in s['list_qtr']} for q in s['bin_labels']}"
   ]
  },
  {
   "cell_type": "markdown",
   "metadata": {},
   "source": [
    "## Initialize the portfolio with an equal amount for all bins"
   ]
  },
  {
   "cell_type": "code",
   "execution_count": null,
   "metadata": {},
   "outputs": [],
   "source": [
    "for m in s['metrics'][:-1]:\n",
    "    for mod_bin in s['bin_labels']:\n",
    "        pf_values[m][mod_bin][s['list_qtr'][s['lag']]] = [s['pf_init_value'], s['tax_rate'], s['pf_init_value']]\n",
    "#print(pf_values['diff_jaccard'])"
   ]
  },
  {
   "cell_type": "markdown",
   "metadata": {},
   "source": [
    "## Calculate the value of the portfolio"
   ]
  },
  {
   "cell_type": "code",
   "execution_count": null,
   "metadata": {
    "scrolled": false
   },
   "outputs": [],
   "source": [
    "pf_scores = post_processing.calculate_portfolio_value(\n",
    "    pf_scores, pf_values, lookup, stock_data, s, balancing='balanced')"
   ]
  },
  {
   "cell_type": "code",
   "execution_count": null,
   "metadata": {},
   "outputs": [],
   "source": [
    "post_processing.dump_pf_values(pf_values, s)"
   ]
  },
  {
   "cell_type": "code",
   "execution_count": null,
   "metadata": {},
   "outputs": [],
   "source": [
    "header_pf_values = (('METRIC', 'text'),  ('QUINTILE', 'text'),\n",
    "                    ('QUARTER', 'text'), ('PF_VALUE', 'float'),\n",
    "                    ('TAX_RATE', 'float'), ('PF_VALUE_POST_TAX', 'float'))\n",
    "header_cik_scores = (('CIK', 'integer'), ('QTR', 'text'), \n",
    "                     ('METRIC', 'text'), ('SCORE', 'float'), \n",
    "                     ('TYPE', 'text'), ('PUBLISHED', 'date'))"
   ]
  },
  {
   "cell_type": "code",
   "execution_count": null,
   "metadata": {},
   "outputs": [],
   "source": [
    "postgres.pf_values_to_postgres(connector, pf_values, header_pf_values, s)"
   ]
  },
  {
   "cell_type": "code",
   "execution_count": null,
   "metadata": {},
   "outputs": [],
   "source": [
    "postgres.cik_scores_to_postgres(connector, cik_scores, header_cik_scores, s)"
   ]
  },
  {
   "cell_type": "code",
   "execution_count": null,
   "metadata": {},
   "outputs": [],
   "source": [
    "del pf_values"
   ]
  },
  {
   "cell_type": "code",
   "execution_count": null,
   "metadata": {},
   "outputs": [],
   "source": [
    "pf_values = postgres.retrieve_pf_values(connector, 'pf_values', s)"
   ]
  },
  {
   "cell_type": "code",
   "execution_count": null,
   "metadata": {
    "scrolled": false
   },
   "outputs": [],
   "source": [
    "index_name = 'RUT'\n",
    "diff_method = 'diff_sk_cosine_tf_idf'\n",
    "#diff_method = 'diff_jaccard'\n",
    "# diff_method='diff_gfg_editDistDP'\n",
    "benchmark, bin_data = display.diff_vs_benchmark(pf_values, index_name, index_data, diff_method, s, norm_by_index=True)\n",
    "display.plot_diff_vs_benchmark(benchmark, bin_data, index_name, s)"
   ]
  },
  {
   "cell_type": "code",
   "execution_count": null,
   "metadata": {},
   "outputs": [],
   "source": [
    "# Output the data for the pf value\n",
    "for qtr in s['list_qtr'][s['lag']:]:\n",
    "    print(qtr, pf_values['diff_jaccard']['Q5'][qtr][0])"
   ]
  },
  {
   "cell_type": "code",
   "execution_count": null,
   "metadata": {},
   "outputs": [],
   "source": [
    "post_processing.dump_cik_scores(cik_scores, s)"
   ]
  },
  {
   "cell_type": "code",
   "execution_count": null,
   "metadata": {
    "scrolled": false
   },
   "outputs": [],
   "source": [
    "# [DEBUG] Show the Apple data for that time period\n",
    "# extracted_cik_scores = cik_scores[data_to_process[0][0]]\n",
    "data_to_process = ([k, v, {**s}, lm_dictionary] for k, v in cik_path.items())\n",
    "cik = next(data_to_process)[0]\n",
    "extracted_cik_scores = cik_scores[cik]\n",
    "# extracted_cik_scores"
   ]
  },
  {
   "cell_type": "code",
   "execution_count": null,
   "metadata": {},
   "outputs": [],
   "source": [
    "#ticker = lookup[320193]\n",
    "ticker = lookup[cik]\n",
    "start_date = qtrs.qtr_to_day(s['time_range'][0], 'first', date_format='datetime')\n",
    "stop_date = qtrs.qtr_to_day(s['time_range'][1], 'last', date_format='datetime')\n",
    "\n",
    "#print(s['time_range'], start_date)\n",
    "#print(s['time_range'], stop_date)\n",
    "extracted_stock_data = {k: v for k, v in stock_data[ticker].items() if start_date <= k <= stop_date}\n",
    "#print(extracted_data)\n"
   ]
  },
  {
   "cell_type": "code",
   "execution_count": null,
   "metadata": {},
   "outputs": [],
   "source": [
    "pf_scores"
   ]
  },
  {
   "cell_type": "markdown",
   "metadata": {},
   "source": [
    "# Display the data"
   ]
  },
  {
   "cell_type": "markdown",
   "metadata": {},
   "source": [
    "## For a given ticker"
   ]
  },
  {
   "cell_type": "markdown",
   "metadata": {},
   "source": [
    "### Metrics vs stock price"
   ]
  },
  {
   "cell_type": "code",
   "execution_count": null,
   "metadata": {
    "scrolled": false
   },
   "outputs": [],
   "source": [
    "benchmark, metric_data = display.diff_vs_stock(extracted_cik_scores, extracted_stock_data, ticker, s, method='diff')\n",
    "display.plot_diff_vs_stock(benchmark, metric_data, ticker, s)"
   ]
  },
  {
   "cell_type": "markdown",
   "metadata": {},
   "source": [
    "### Sentiment vs stock price"
   ]
  },
  {
   "cell_type": "code",
   "execution_count": null,
   "metadata": {},
   "outputs": [],
   "source": [
    "benchmark, metric_data = display.diff_vs_stock(extracted_cik_scores, extracted_stock_data, ticker, s, method='sentiment')\n",
    "display.plot_diff_vs_stock(benchmark, metric_data, ticker, s, method='sentiment')"
   ]
  },
  {
   "cell_type": "code",
   "execution_count": null,
   "metadata": {},
   "outputs": [],
   "source": []
  },
  {
   "cell_type": "code",
   "execution_count": null,
   "metadata": {},
   "outputs": [],
   "source": []
  },
  {
   "cell_type": "code",
   "execution_count": null,
   "metadata": {},
   "outputs": [],
   "source": []
  },
  {
   "cell_type": "code",
   "execution_count": null,
   "metadata": {},
   "outputs": [],
   "source": []
  }
 ],
 "metadata": {
  "kernelspec": {
   "display_name": "Python 3",
   "language": "python",
   "name": "python3"
  },
  "language_info": {
   "codemirror_mode": {
    "name": "ipython",
    "version": 3
   },
   "file_extension": ".py",
   "mimetype": "text/x-python",
   "name": "python",
   "nbconvert_exporter": "python",
   "pygments_lexer": "ipython3",
   "version": "3.7.3"
  }
 },
 "nbformat": 4,
 "nbformat_minor": 2
}
