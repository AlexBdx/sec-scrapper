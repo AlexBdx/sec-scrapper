{
 "cells": [
  {
   "cell_type": "markdown",
   "metadata": {},
   "source": [
    "# Configuration"
   ]
  },
  {
   "cell_type": "code",
   "execution_count": 1,
   "metadata": {},
   "outputs": [
    {
     "name": "stdout",
     "output_type": "stream",
     "text": [
      "[INFO] Running python 3.7.3\n"
     ]
    }
   ],
   "source": [
    "import sys\n",
    "if sys.version_info[0] < 3 or sys.version_info[1] < 6:\n",
    "    raise Exception(\"Must be using Python >= 3.6 due to reliance on ordered default dict.\")\n",
    "else:\n",
    "    print(\"[INFO] Running python {}.{}.{}\".format(*sys.version_info[:3]))"
   ]
  },
  {
   "cell_type": "markdown",
   "metadata": {},
   "source": [
    "## Packages to import"
   ]
  },
  {
   "cell_type": "code",
   "execution_count": 2,
   "metadata": {},
   "outputs": [
    {
     "name": "stdout",
     "output_type": "stream",
     "text": [
      "[INFO] Running python 3.7.3 for ipython\n"
     ]
    }
   ],
   "source": [
    "def run_from_ipython():\n",
    "    try:\n",
    "        __IPYTHON__\n",
    "        return True\n",
    "    except NameError:\n",
    "        return False\n",
    "from platform import python_version\n",
    "\n",
    "version = \"[INFO] Running python {}\".format(python_version())\n",
    "version += \" for ipython\" if run_from_ipython() else \"\"\n",
    "print(version)"
   ]
  },
  {
   "cell_type": "code",
   "execution_count": 3,
   "metadata": {},
   "outputs": [],
   "source": [
    "if run_from_ipython():\n",
    "    %load_ext autoreload\n",
    "    %autoreload 2\n",
    "    %matplotlib notebook\n",
    "\n",
    "from secScraper import *\n",
    "\n",
    "import glob\n",
    "import numpy as np\n",
    "import matplotlib\n",
    "import matplotlib.pyplot as plt\n",
    "plt.ioff()\n",
    "\n",
    "import os\n",
    "import csv\n",
    "from datetime import datetime\n",
    "import re\n",
    "from tqdm import tqdm\n",
    "import multiprocessing as mp\n",
    "from collections import OrderedDict\n",
    "import time\n",
    "import pandas as pd\n",
    "import argparse\n",
    "import psycopg2\n",
    "import ast\n",
    "\n",
    "# Spark\n",
    "#import findspark\n",
    "#findspark.init('/home/alex/spark-2.4.4-bin-hadoop2.7')\n",
    "import pyspark"
   ]
  },
  {
   "cell_type": "markdown",
   "metadata": {},
   "source": [
    "### Set the nb of processes to use based on cmd line arguments/setting"
   ]
  },
  {
   "cell_type": "code",
   "execution_count": 4,
   "metadata": {},
   "outputs": [],
   "source": [
    "if run_from_ipython():\n",
    "    nb_processes_requested = mp.cpu_count()  # From IPython, fixed setting\n",
    "    nb_processes_requested = 1 # From IPython, fixed setting\n",
    "else:\n",
    "    ap = argparse.ArgumentParser()\n",
    "    ap.add_argument(\"-p\", \"--processes\", type=int, default=1, help=\"Number of processes launched to process the reports.\")\n",
    "    args = vars(ap.parse_args())\n",
    "    nb_processes_requested = args[\"processes\"]\n",
    "    if not 1 <= nb_processes_requested <= mp.cpu_count():\n",
    "        raise ValueError('[ERROR] Number of processes requested is incorrect.\\\n",
    "                         \\n{} CPUs are available on this machine, please select a number of processes between 1 and {}'\n",
    "                         .format(mp.cpu_count()))"
   ]
  },
  {
   "cell_type": "markdown",
   "metadata": {},
   "source": [
    "## Settings dictionary"
   ]
  },
  {
   "cell_type": "code",
   "execution_count": 5,
   "metadata": {},
   "outputs": [],
   "source": [
    "home = os.path.expanduser(\"~\")\n",
    "_s = {\n",
    "    'path_stage_1_data': os.path.join(home, 'Desktop/filtered_text_data/nd_data/'),\n",
    "    'path_stock_database': os.path.join(home, 'Desktop/Insight project/Database/Ticker_stock_price.csv'),\n",
    "    'path_stock_indexes': os.path.join(home, 'Desktop/Insight project/Database/Indexes/'),\n",
    "    'path_cik_ticker_lookup': os.path.join(home, 'Desktop/Insight project/Database/cik_ticker.csv'),\n",
    "    'path_master_dictionary': os.path.join(home, 'Desktop/Insight project/Database/LoughranMcDonald_MasterDictionary_2018.csv'),\n",
    "    'path_dump_crsp': os.path.join(home, 'Desktop/Insight project/Database/dump_crsp_merged.txt'),\n",
    "    'path_output_folder': os.path.join(home, 'Desktop/Insight project/Outputs'),\n",
    "    'path_dump_cik_scores': os.path.join(home, 'Desktop/Insight project/Outputs/dump_cik_scores.csv'),\n",
    "    'path_dump_pf_values': os.path.join(home, 'Desktop/Insight project/Outputs/dump_pf_values.csv'),\n",
    "    'path_dump_master_dict': os.path.join(home, 'Desktop/Insight project/Outputs/dump_master_dict.csv'),\n",
    "    'metrics': ['diff_jaccard', 'diff_cosine_tf', 'diff_cosine_tf_idf', 'diff_minEdit', 'diff_simple', 'sing_LoughranMcDonald'],\n",
    "    'differentiation_mode': 'monthly',\n",
    "    'time_range': [(2010, 1), (2012, 4)],\n",
    "    'bin_count': 5,\n",
    "    'tax_rate': 0.005,\n",
    "    'report_type': ['10-K', '10-Q'],\n",
    "    'sections_to_parse_10k': [],\n",
    "    'sections_to_parse_10q': [],\n",
    "    'type_daily_price': 'closing'\n",
    "}"
   ]
  },
  {
   "cell_type": "code",
   "execution_count": 6,
   "metadata": {},
   "outputs": [],
   "source": [
    "_s['pf_init_value'] = 1000000\n",
    "_s['epsilon'] = 0.0001  # Rounding error\n",
    "# Calculated settings\n",
    "_s['list_qtr'] = qtrs.create_qtr_list(_s['time_range'])\n",
    "\n",
    "if _s['bin_count'] == 5:\n",
    "    _s['bin_labels'] = ['Q'+str(n) for n in range(1, _s['bin_count']+1)]\n",
    "elif _s['bin_count'] == 10:\n",
    "    _s['bin_labels'] = ['D'+str(n) for n in range(1, _s['bin_count']+1)]\n",
    "else:\n",
    "    raise ValueError('[ERROR] This type of bin has not been implemented yet.')\n",
    "\n",
    "# Reports considered to calculate the differences\n",
    "if _s['differentiation_mode'] == 'monthly':\n",
    "    _s['lag'] = 1\n",
    "    _s['sections_to_parse_10k'] = ['1a', '3', '7', '7a', '9a']\n",
    "    _s['sections_to_parse_10q'] = ['_i_2', '_i_3', '_i_4', 'ii_1', 'ii_1a']\n",
    "elif _s['differentiation_mode'] == 'yearly':\n",
    "    _s['lag'] = 4\n",
    "    _s['sections_to_parse_10k'] = ['1a', '3', '7', '7a', '9a']\n",
    "    _s['sections_to_parse_10q'] = ['_i_2', '_i_3', '_i_4', 'ii_1', 'ii_1a']\n",
    "\n",
    "_s['intersection_table'] = {\n",
    "        '10-K': ['1a', '3', '7', '7a', '9a'],\n",
    "        '10-Q': ['ii_1a', 'ii_1', '_i_2', '_i_3', '_i_4']\n",
    "}  # Exhibits are not taken into account\n",
    "_s['straight_table'] = {\n",
    "    '10-K': ['1', '1a', '1b', '2', '3', '4', '5', '6', '7', '7a', '8', '9', '9a', '9b', '10', '11', '12', '13', '14', '15'],\n",
    "    '10-Q': ['_i_1', '_i_2', '_i_3', '_i_4', 'ii_1', 'ii_1a', 'ii_2', 'ii_3', 'ii_4', 'ii_5', 'ii_6']\n",
    "}"
   ]
  },
  {
   "cell_type": "code",
   "execution_count": 7,
   "metadata": {},
   "outputs": [],
   "source": [
    "# Transfer s to a read only dict\n",
    "read_only_dict = pre_processing.ReadOnlyDict()\n",
    "for key in _s:  # Brute force copy\n",
    "    read_only_dict[key] = _s[key]\n",
    "s = read_only_dict  # Copy back\n",
    "s.set_read_state(read_only=True)  # Set as read only"
   ]
  },
  {
   "cell_type": "markdown",
   "metadata": {},
   "source": [
    "# Load external tables"
   ]
  },
  {
   "cell_type": "code",
   "execution_count": 64,
   "metadata": {},
   "outputs": [],
   "source": [
    "connector = psycopg2.connect(host=\"localhost\", dbname=\"postgres\", user=\"postgres\", password=\"1\")"
   ]
  },
  {
   "cell_type": "markdown",
   "metadata": {},
   "source": [
    "## Extract the list of CIK for which we have complete data"
   ]
  },
  {
   "cell_type": "markdown",
   "metadata": {},
   "source": [
    "The main problem in our case is that we have 3 different database to play with:\n",
    "1. The SEC provides information based on the CIK of the entity\n",
    "2. Given that the CIK is used by no one else, we use a lookup table to transform that into tickers. But we do not have all the correspondances, so the list of useful CIK is shrunk.\n",
    "3. Finally, we only have stock prices for so many tickers. So that shrinks the CIK list even further.\n",
    "\n",
    "We end up with a reduced list of CIK that we can play with."
   ]
  },
  {
   "cell_type": "markdown",
   "metadata": {},
   "source": [
    "### Load the sentiment analysis dictionary"
   ]
  },
  {
   "cell_type": "code",
   "execution_count": 8,
   "metadata": {},
   "outputs": [
    {
     "name": "stdout",
     "output_type": "stream",
     "text": [
      " ...Loading Master Dictionary 85000\n",
      "Master Dictionary loaded from file: \n",
      "  /home/alex/Desktop/Insight project/Database/LoughranMcDonald_MasterDictionary_2018.csv\n",
      "  86,486 words loaded in master_dictionary.\n",
      "\n"
     ]
    }
   ],
   "source": [
    "lm_dictionary = Load_MasterDictionary.load_masterdictionary(s['path_master_dictionary'], True)"
   ]
  },
  {
   "cell_type": "markdown",
   "metadata": {},
   "source": [
    "### Find all the unique CIK from the SEC filings"
   ]
  },
  {
   "cell_type": "code",
   "execution_count": 9,
   "metadata": {},
   "outputs": [
    {
     "name": "stdout",
     "output_type": "stream",
     "text": [
      "[INFO] Loaded 306,198 10-X\n",
      "[INFO] Shrunk to 276,841 ['10-K', '10-Q']\n"
     ]
    },
    {
     "name": "stderr",
     "output_type": "stream",
     "text": [
      " 34%|███▍      | 94958/276841 [00:00<00:00, 949576.38it/s]"
     ]
    },
    {
     "name": "stdout",
     "output_type": "stream",
     "text": [
      "[INFO] Found 14,549 unique CIK in master index\n"
     ]
    },
    {
     "name": "stderr",
     "output_type": "stream",
     "text": [
      "100%|██████████| 276841/276841 [00:00<00:00, 982018.45it/s]"
     ]
    },
    {
     "name": "stdout",
     "output_type": "stream",
     "text": [
      "[INFO] cik_path contains data on 14,549 CIK numbers\n"
     ]
    },
    {
     "name": "stderr",
     "output_type": "stream",
     "text": [
      "\n"
     ]
    }
   ],
   "source": [
    "cik_path = pre_processing.load_cik_path(s)"
   ]
  },
  {
   "cell_type": "markdown",
   "metadata": {},
   "source": [
    "### Get the largest {CIK: ticker} possible given our lookup table"
   ]
  },
  {
   "cell_type": "code",
   "execution_count": 10,
   "metadata": {
    "scrolled": true
   },
   "outputs": [
    {
     "name": "stdout",
     "output_type": "stream",
     "text": [
      "[INFO] Loaded 13,738 CIK/Tickers correspondances.\n"
     ]
    }
   ],
   "source": [
    "lookup = pre_processing.load_lookup(s)\n",
    "print(\"[INFO] Loaded {:,} CIK/Tickers correspondances.\".format(len(lookup)))"
   ]
  },
  {
   "cell_type": "code",
   "execution_count": 11,
   "metadata": {},
   "outputs": [
    {
     "name": "stdout",
     "output_type": "stream",
     "text": [
      "[INFO] Intersected SEC & lookup.\n",
      "cik_path: 8,207 CIK | lookup: 8,207 CIK\n"
     ]
    }
   ],
   "source": [
    "cik_path, lookup = pre_processing.intersection_sec_lookup(cik_path, lookup)\n",
    "print(\"[INFO] Intersected SEC & lookup.\")\n",
    "print(\"cik_path: {:,} CIK | lookup: {:,} CIK\"\n",
    "      .format(len(cik_path), len(lookup)))"
   ]
  },
  {
   "cell_type": "markdown",
   "metadata": {},
   "source": [
    "### Load stock data and drop all CIKs for which we don't have data"
   ]
  },
  {
   "cell_type": "code",
   "execution_count": 12,
   "metadata": {
    "scrolled": true
   },
   "outputs": [
    {
     "name": "stderr",
     "output_type": "stream",
     "text": [
      "  0%|          | 59848/30563446 [00:00<00:50, 598477.72it/s]"
     ]
    },
    {
     "name": "stdout",
     "output_type": "stream",
     "text": [
      "[INFO] Loading data from (2010, 1) to (2012, 4)\n",
      "[INFO] Starting the mapping\n"
     ]
    },
    {
     "name": "stderr",
     "output_type": "stream",
     "text": [
      "100%|██████████| 30563446/30563446 [01:06<00:00, 462638.63it/s]\n"
     ]
    }
   ],
   "source": [
    "# Load all stock prices\n",
    "stock_data = pre_processing.load_stock_data(s)"
   ]
  },
  {
   "cell_type": "code",
   "execution_count": 62,
   "metadata": {},
   "outputs": [
    {
     "data": {
      "text/plain": [
       "{datetime.date(2010, 1, 4): (3.25, 57310500.0),\n",
       " datetime.date(2010, 1, 5): (2.94, 51843960.0),\n",
       " datetime.date(2010, 1, 6): (2.79, 49198860.0),\n",
       " datetime.date(2010, 1, 7): (2.76, 48669840.0),\n",
       " datetime.date(2010, 1, 8): (2.94, 51843960.0),\n",
       " datetime.date(2010, 1, 11): (2.85, 50256900.0),\n",
       " datetime.date(2010, 1, 12): (2.84, 50080560.0),\n",
       " datetime.date(2010, 1, 13): (2.83, 49904220.0),\n",
       " datetime.date(2010, 1, 14): (2.85, 50256900.0),\n",
       " datetime.date(2010, 1, 15): (2.89, 50962260.0),\n",
       " datetime.date(2010, 1, 19): (2.81, 49551540.0),\n",
       " datetime.date(2010, 1, 20): (2.85, 50256900.0),\n",
       " datetime.date(2010, 1, 21): (3.15, 55547100.0),\n",
       " datetime.date(2010, 1, 22): (3.22, 56781480.0),\n",
       " datetime.date(2010, 1, 25): (3.2, 56428800.0),\n",
       " datetime.date(2010, 1, 26): (3.94, 69477960.0),\n",
       " datetime.date(2010, 1, 27): (3.97, 70006980.0),\n",
       " datetime.date(2010, 1, 28): (3.97, 70006980.0),\n",
       " datetime.date(2010, 1, 29): (3.92, 69125280.0),\n",
       " datetime.date(2010, 2, 1): (3.89, 68596260.0),\n",
       " datetime.date(2010, 2, 2): (3.96, 69830640.0),\n",
       " datetime.date(2010, 2, 3): (4.0, 70536000.0),\n",
       " datetime.date(2010, 2, 4): (3.97, 70006980.0),\n",
       " datetime.date(2010, 2, 5): (4.0, 70536000.0),\n",
       " datetime.date(2010, 2, 8): (4.04, 71241360.0),\n",
       " datetime.date(2010, 2, 9): (4.13, 72828420.0),\n",
       " datetime.date(2010, 2, 10): (4.14, 73004760.0),\n",
       " datetime.date(2010, 2, 11): (4.29, 75649860.0),\n",
       " datetime.date(2010, 2, 12): (4.5, 79353000.0),\n",
       " datetime.date(2010, 2, 16): (4.82, 84995880.0),\n",
       " datetime.date(2010, 2, 17): (4.89, 86230260.0),\n",
       " datetime.date(2010, 2, 18): (4.95, 87288300.0),\n",
       " datetime.date(2010, 2, 19): (4.93, 86935620.0),\n",
       " datetime.date(2010, 2, 22): (4.74, 83585160.0),\n",
       " datetime.date(2010, 2, 23): (4.43, 78118620.0),\n",
       " datetime.date(2010, 2, 24): (4.38, 77236920.0),\n",
       " datetime.date(2010, 2, 25): (4.5, 79353000.0),\n",
       " datetime.date(2010, 2, 26): (4.63, 81645420.0),\n",
       " datetime.date(2010, 3, 1): (4.55, 80234700.0),\n",
       " datetime.date(2010, 3, 2): (4.69, 82703460.0),\n",
       " datetime.date(2010, 3, 3): (4.74, 83585160.0),\n",
       " datetime.date(2010, 3, 4): (4.69, 82703460.0),\n",
       " datetime.date(2010, 3, 5): (4.8, 84643200.0),\n",
       " datetime.date(2010, 3, 8): (4.83, 85172220.0),\n",
       " datetime.date(2010, 3, 9): (4.88, 86053920.0),\n",
       " datetime.date(2010, 3, 10): (4.86, 85701240.0),\n",
       " datetime.date(2010, 3, 11): (4.88, 86302800.0),\n",
       " datetime.date(2010, 3, 12): (4.83, 85418550.0),\n",
       " datetime.date(2010, 3, 15): (4.76, 84180600.0),\n",
       " datetime.date(2010, 3, 16): (4.67, 82588950.0),\n",
       " datetime.date(2010, 3, 17): (4.8, 84888000.0),\n",
       " datetime.date(2010, 3, 18): (4.78, 84534300.0),\n",
       " datetime.date(2010, 3, 19): (4.96, 87717600.0),\n",
       " datetime.date(2010, 3, 22): (4.88, 86302800.0),\n",
       " datetime.date(2010, 3, 23): (4.75, 84003750.0),\n",
       " datetime.date(2010, 3, 24): (4.82, 85241700.0),\n",
       " datetime.date(2010, 3, 25): (4.96, 87717600.0),\n",
       " datetime.date(2010, 3, 26): (4.97, 87894450.0),\n",
       " datetime.date(2010, 3, 29): (5.0, 88430000.0),\n",
       " datetime.date(2010, 3, 30): (5.0, 88430000.0),\n",
       " datetime.date(2010, 3, 31): (5.0, 88195000.0),\n",
       " datetime.date(2010, 4, 1): (4.85, 85549150.0),\n",
       " datetime.date(2010, 4, 5): (4.88, 86078320.0),\n",
       " datetime.date(2010, 4, 6): (4.94, 87136660.0),\n",
       " datetime.date(2010, 4, 7): (5.49, 96838110.0),\n",
       " datetime.date(2010, 4, 8): (5.55, 97896450.0),\n",
       " datetime.date(2010, 4, 9): (5.65, 99660350.0),\n",
       " datetime.date(2010, 4, 12): (5.71, 100718690.0),\n",
       " datetime.date(2010, 4, 13): (5.64, 99483960.0),\n",
       " datetime.date(2010, 4, 14): (5.62, 99131180.0),\n",
       " datetime.date(2010, 4, 15): (5.55, 97896450.0),\n",
       " datetime.date(2010, 4, 16): (5.45, 96132550.0),\n",
       " datetime.date(2010, 4, 19): (5.54, 97720060.0),\n",
       " datetime.date(2010, 4, 20): (5.6, 98778400.0),\n",
       " datetime.date(2010, 4, 21): (5.6, 98778400.0),\n",
       " datetime.date(2010, 4, 22): (5.58, 98425620.0),\n",
       " datetime.date(2010, 4, 23): (5.81, 102482590.0),\n",
       " datetime.date(2010, 4, 26): (6.17, 108832630.0),\n",
       " datetime.date(2010, 4, 27): (6.04, 106539560.0),\n",
       " datetime.date(2010, 4, 28): (5.95, 104952050.0),\n",
       " datetime.date(2010, 4, 29): (6.32, 111478480.0),\n",
       " datetime.date(2010, 4, 30): (6.32, 111478480.0),\n",
       " datetime.date(2010, 5, 3): (5.47, 96485330.0),\n",
       " datetime.date(2010, 5, 4): (5.75, 101424250.0),\n",
       " datetime.date(2010, 5, 5): (5.46, 96308940.0),\n",
       " datetime.date(2010, 5, 6): (5.44, 96211840.0),\n",
       " datetime.date(2010, 5, 7): (5.33, 94266380.0),\n",
       " datetime.date(2010, 5, 10): (5.47, 96742420.0),\n",
       " datetime.date(2010, 5, 11): (5.48, 96919280.0),\n",
       " datetime.date(2010, 5, 12): (5.45, 96388700.0),\n",
       " datetime.date(2010, 5, 13): (5.41, 95681260.0),\n",
       " datetime.date(2010, 5, 14): (5.2, 91967200.0),\n",
       " datetime.date(2010, 5, 17): (5.5, 97273000.0),\n",
       " datetime.date(2010, 5, 18): (5.03, 88960580.0),\n",
       " datetime.date(2010, 5, 19): (5.02, 88783720.0),\n",
       " datetime.date(2010, 5, 20): (4.84, 85600240.0),\n",
       " datetime.date(2010, 5, 21): (4.68, 82770480.0),\n",
       " datetime.date(2010, 5, 24): (4.51, 79763860.0),\n",
       " datetime.date(2010, 5, 25): (4.44, 78525840.0),\n",
       " datetime.date(2010, 5, 26): (4.39, 77641540.0),\n",
       " datetime.date(2010, 5, 27): (4.39, 77641540.0),\n",
       " datetime.date(2010, 5, 28): (4.45, 78702700.0),\n",
       " datetime.date(2010, 6, 1): (4.4, 77818400.0),\n",
       " datetime.date(2010, 6, 2): (4.5, 79587000.0),\n",
       " datetime.date(2010, 6, 3): (4.53, 80117580.0),\n",
       " datetime.date(2010, 6, 4): (4.59, 81178740.0),\n",
       " datetime.date(2010, 6, 7): (4.72, 83477920.0),\n",
       " datetime.date(2010, 6, 8): (4.61, 81532460.0),\n",
       " datetime.date(2010, 6, 9): (4.69, 82947340.0),\n",
       " datetime.date(2010, 6, 10): (4.64, 82063040.0),\n",
       " datetime.date(2010, 6, 11): (4.53, 80117580.0),\n",
       " datetime.date(2010, 6, 14): (4.45, 78702700.0),\n",
       " datetime.date(2010, 6, 15): (4.41, 77995260.0),\n",
       " datetime.date(2010, 6, 16): (4.38, 77464680.0),\n",
       " datetime.date(2010, 6, 17): (4.49, 79410140.0),\n",
       " datetime.date(2010, 6, 18): (4.11, 72689460.0),\n",
       " datetime.date(2010, 6, 21): (4.17, 73750620.0),\n",
       " datetime.date(2010, 6, 22): (4.14, 73220040.0),\n",
       " datetime.date(2010, 6, 23): (4.01, 70920860.0),\n",
       " datetime.date(2010, 6, 24): (3.96, 70036560.0),\n",
       " datetime.date(2010, 6, 25): (3.81, 67383660.0),\n",
       " datetime.date(2010, 6, 28): (3.8, 67206800.0),\n",
       " datetime.date(2010, 6, 29): (3.76, 66499360.0),\n",
       " datetime.date(2010, 6, 30): (3.77, 66499030.0),\n",
       " datetime.date(2010, 7, 1): (3.76, 66322640.0),\n",
       " datetime.date(2010, 7, 2): (3.66, 64558740.0),\n",
       " datetime.date(2010, 7, 6): (3.68, 64911520.0),\n",
       " datetime.date(2010, 7, 7): (3.7, 65264300.0),\n",
       " datetime.date(2010, 7, 8): (3.55, 62618450.0),\n",
       " datetime.date(2010, 7, 9): (3.55, 62618450.0),\n",
       " datetime.date(2010, 7, 12): (3.56, 62794840.0),\n",
       " datetime.date(2010, 7, 13): (3.7, 65264300.0),\n",
       " datetime.date(2010, 7, 14): (3.5, 61736500.0),\n",
       " datetime.date(2010, 7, 15): (3.5, 61736500.0),\n",
       " datetime.date(2010, 7, 16): (3.4, 59972600.0),\n",
       " datetime.date(2010, 7, 19): (3.11, 54857290.0),\n",
       " datetime.date(2010, 7, 20): (3.02, 53269780.0),\n",
       " datetime.date(2010, 7, 21): (3.07, 54151730.0),\n",
       " datetime.date(2010, 7, 22): (3.3, 58208700.0),\n",
       " datetime.date(2010, 7, 23): (3.4, 59972600.0),\n",
       " datetime.date(2010, 7, 26): (3.43, 60501770.0),\n",
       " datetime.date(2010, 7, 27): (3.41, 60148990.0),\n",
       " datetime.date(2010, 7, 28): (3.33, 58737870.0),\n",
       " datetime.date(2010, 7, 29): (3.35, 59090650.0),\n",
       " datetime.date(2010, 7, 30): (3.09, 54504510.0),\n",
       " datetime.date(2010, 8, 2): (3.3, 58208700.0),\n",
       " datetime.date(2010, 8, 3): (3.2, 56444800.0),\n",
       " datetime.date(2010, 8, 4): (3.27, 57679530.0),\n",
       " datetime.date(2010, 8, 5): (3.6, 63500400.0),\n",
       " datetime.date(2010, 8, 6): (3.49, 61560110.0),\n",
       " datetime.date(2010, 8, 9): (3.43, 60501770.0),\n",
       " datetime.date(2010, 8, 10): (3.23, 56973970.0),\n",
       " datetime.date(2010, 8, 11): (3.2, 56444800.0),\n",
       " datetime.date(2010, 8, 12): (3.3, 58208700.0),\n",
       " datetime.date(2010, 8, 13): (3.54, 62442060.0),\n",
       " datetime.date(2010, 8, 16): (3.42, 60325380.0),\n",
       " datetime.date(2010, 8, 17): (3.19, 56268410.0),\n",
       " datetime.date(2010, 8, 18): (3.3, 58208700.0),\n",
       " datetime.date(2010, 8, 19): (3.25, 57326750.0),\n",
       " datetime.date(2010, 8, 20): (3.12, 55033680.0),\n",
       " datetime.date(2010, 8, 23): (3.22, 56797580.0),\n",
       " datetime.date(2010, 8, 24): (3.21, 56621190.0),\n",
       " datetime.date(2010, 8, 25): (3.24, 57150360.0),\n",
       " datetime.date(2010, 8, 26): (3.2, 56444800.0),\n",
       " datetime.date(2010, 8, 27): (3.21, 56621190.0),\n",
       " datetime.date(2010, 8, 30): (3.1, 54680900.0),\n",
       " datetime.date(2010, 8, 31): (3.15, 55562850.0),\n",
       " datetime.date(2010, 9, 1): (3.22, 56797580.0),\n",
       " datetime.date(2010, 9, 2): (3.24, 57150360.0),\n",
       " datetime.date(2010, 9, 3): (3.37, 59443430.0),\n",
       " datetime.date(2010, 9, 7): (3.31, 58385090.0),\n",
       " datetime.date(2010, 9, 8): (3.29, 58032310.0),\n",
       " datetime.date(2010, 9, 9): (3.18, 56092020.0),\n",
       " datetime.date(2010, 9, 10): (3.22, 56797580.0),\n",
       " datetime.date(2010, 9, 13): (3.18, 56092020.0),\n",
       " datetime.date(2010, 9, 14): (3.22, 56797580.0),\n",
       " datetime.date(2010, 9, 15): (3.14, 55386460.0),\n",
       " datetime.date(2010, 9, 16): (3.22, 56797580.0),\n",
       " datetime.date(2010, 9, 17): (3.04, 53622560.0),\n",
       " datetime.date(2010, 9, 20): (3.14, 55386460.0),\n",
       " datetime.date(2010, 9, 21): (3.12, 55033680.0),\n",
       " datetime.date(2010, 9, 22): (3.1, 54680900.0),\n",
       " datetime.date(2010, 9, 23): (3.03, 53446170.0),\n",
       " datetime.date(2010, 9, 24): (2.98, 52564220.0),\n",
       " datetime.date(2010, 9, 27): (2.99, 52740610.0),\n",
       " datetime.date(2010, 9, 28): (3.01, 53093390.0),\n",
       " datetime.date(2010, 9, 29): (3.04, 53622560.0),\n",
       " datetime.date(2010, 9, 30): (3.1, 54680900.0),\n",
       " datetime.date(2010, 10, 1): (3.08, 54328120.0),\n",
       " datetime.date(2010, 10, 4): (3.06, 53975340.0),\n",
       " datetime.date(2010, 10, 5): (3.14, 55386460.0),\n",
       " datetime.date(2010, 10, 6): (3.27, 57679530.0),\n",
       " datetime.date(2010, 10, 7): (3.08, 54328120.0),\n",
       " datetime.date(2010, 10, 8): (3.05, 53798950.0),\n",
       " datetime.date(2010, 10, 11): (3.04, 53622560.0),\n",
       " datetime.date(2010, 10, 12): (3.01, 53093390.0),\n",
       " datetime.date(2010, 10, 13): (3.04, 53622560.0),\n",
       " datetime.date(2010, 10, 14): (3.07, 54151730.0),\n",
       " datetime.date(2010, 10, 15): (3.03, 53446170.0),\n",
       " datetime.date(2010, 10, 18): (3.05, 53798950.0),\n",
       " datetime.date(2010, 10, 19): (3.01, 53093390.0),\n",
       " datetime.date(2010, 10, 20): (3.1, 54680900.0),\n",
       " datetime.date(2010, 10, 21): (3.06, 53975340.0),\n",
       " datetime.date(2010, 10, 22): (3.03, 53446170.0),\n",
       " datetime.date(2010, 10, 25): (2.98, 52564220.0),\n",
       " datetime.date(2010, 10, 26): (2.99, 52740610.0),\n",
       " datetime.date(2010, 10, 27): (3.05, 53798950.0),\n",
       " datetime.date(2010, 10, 28): (3.07, 54151730.0),\n",
       " datetime.date(2010, 10, 29): (2.9, 51153100.0),\n",
       " datetime.date(2010, 11, 1): (2.99, 52740610.0),\n",
       " datetime.date(2010, 11, 2): (3.1, 54680900.0),\n",
       " datetime.date(2010, 11, 3): (3.0, 52917000.0),\n",
       " datetime.date(2010, 11, 4): (2.95, 52035050.0),\n",
       " datetime.date(2010, 11, 5): (2.96, 52211440.0),\n",
       " datetime.date(2010, 11, 8): (2.96, 52211440.0),\n",
       " datetime.date(2010, 11, 9): (2.91, 51332400.0),\n",
       " datetime.date(2010, 11, 10): (2.8, 49392000.0),\n",
       " datetime.date(2010, 11, 11): (2.77, 48862800.0),\n",
       " datetime.date(2010, 11, 12): (2.65, 46746000.0),\n",
       " datetime.date(2010, 11, 15): (2.74, 48333600.0),\n",
       " datetime.date(2010, 11, 16): (2.66, 46922400.0),\n",
       " datetime.date(2010, 11, 17): (2.67, 47098800.0),\n",
       " datetime.date(2010, 11, 18): (2.71, 47804400.0),\n",
       " datetime.date(2010, 11, 19): (2.6, 45864000.0),\n",
       " datetime.date(2010, 11, 22): (2.6, 45864000.0),\n",
       " datetime.date(2010, 11, 23): (2.57, 45334800.0),\n",
       " datetime.date(2010, 11, 24): (2.57, 45334800.0),\n",
       " datetime.date(2010, 11, 26): (2.57, 45334800.0),\n",
       " datetime.date(2010, 11, 29): (2.55, 44982000.0),\n",
       " datetime.date(2010, 11, 30): (2.57, 45334800.0),\n",
       " datetime.date(2010, 12, 1): (2.56, 45158400.0),\n",
       " datetime.date(2010, 12, 2): (2.57, 45334800.0),\n",
       " datetime.date(2010, 12, 3): (2.6, 45864000.0),\n",
       " datetime.date(2010, 12, 6): (2.54, 44805600.0),\n",
       " datetime.date(2010, 12, 7): (2.55, 44982000.0),\n",
       " datetime.date(2010, 12, 8): (2.56, 45158400.0),\n",
       " datetime.date(2010, 12, 9): (2.56, 45158400.0),\n",
       " datetime.date(2010, 12, 10): (2.5, 44100000.0),\n",
       " datetime.date(2010, 12, 13): (2.55, 44982000.0),\n",
       " datetime.date(2010, 12, 14): (2.48, 43747200.0),\n",
       " datetime.date(2010, 12, 15): (2.43, 42865200.0),\n",
       " datetime.date(2010, 12, 16): (2.46, 43394400.0),\n",
       " datetime.date(2010, 12, 17): (2.5, 44100000.0),\n",
       " datetime.date(2010, 12, 20): (2.46, 43394400.0),\n",
       " datetime.date(2010, 12, 21): (2.46, 43394400.0),\n",
       " datetime.date(2010, 12, 22): (2.52, 44452800.0),\n",
       " datetime.date(2010, 12, 23): (2.6, 45864000.0),\n",
       " datetime.date(2010, 12, 27): (2.79, 49215600.0),\n",
       " datetime.date(2010, 12, 28): (2.78, 49039200.0),\n",
       " datetime.date(2010, 12, 29): (2.69, 47451600.0),\n",
       " datetime.date(2010, 12, 30): (2.69, 47451600.0),\n",
       " datetime.date(2010, 12, 31): (2.68, 47272520.0),\n",
       " datetime.date(2011, 1, 3): (2.66, 46919740.0),\n",
       " datetime.date(2011, 1, 4): (2.59, 45685010.0),\n",
       " datetime.date(2011, 1, 5): (2.71, 47801690.0),\n",
       " datetime.date(2011, 1, 6): (2.76, 48683640.0),\n",
       " datetime.date(2011, 1, 7): (2.65, 46743350.0),\n",
       " datetime.date(2011, 1, 10): (2.66, 46919740.0),\n",
       " datetime.date(2011, 1, 11): (2.7, 47625300.0),\n",
       " datetime.date(2011, 1, 12): (2.79, 49212810.0),\n",
       " datetime.date(2011, 1, 13): (2.69, 47448910.0),\n",
       " datetime.date(2011, 1, 14): (2.77, 48860030.0),\n",
       " datetime.date(2011, 1, 18): (2.7, 47625300.0),\n",
       " datetime.date(2011, 1, 19): (2.65, 46743350.0),\n",
       " datetime.date(2011, 1, 20): (2.6, 45861400.0),\n",
       " datetime.date(2011, 1, 21): (2.64, 46566960.0),\n",
       " datetime.date(2011, 1, 24): (2.69, 47448910.0),\n",
       " datetime.date(2011, 1, 25): (2.71, 47801690.0),\n",
       " datetime.date(2011, 1, 26): (2.78, 49036420.0),\n",
       " datetime.date(2011, 1, 27): (2.78, 49036420.0),\n",
       " datetime.date(2011, 1, 28): (2.7, 47625300.0),\n",
       " datetime.date(2011, 1, 31): (2.8, 49389200.0),\n",
       " datetime.date(2011, 2, 1): (2.61, 46037790.0),\n",
       " datetime.date(2011, 2, 2): (2.7, 47625300.0),\n",
       " datetime.date(2011, 2, 3): (2.66, 46919740.0),\n",
       " datetime.date(2011, 2, 4): (2.66, 46919740.0),\n",
       " datetime.date(2011, 2, 7): (2.66, 46919740.0),\n",
       " datetime.date(2011, 2, 8): (2.67, 47096130.0),\n",
       " datetime.date(2011, 2, 9): (2.63, 46390570.0),\n",
       " datetime.date(2011, 2, 10): (2.65, 46743350.0),\n",
       " datetime.date(2011, 2, 11): (2.67, 47096130.0),\n",
       " datetime.date(2011, 2, 14): (2.68, 47272520.0),\n",
       " datetime.date(2011, 2, 15): (2.7, 47625300.0),\n",
       " datetime.date(2011, 2, 16): (2.71, 47801690.0),\n",
       " datetime.date(2011, 2, 17): (2.7, 47625300.0),\n",
       " datetime.date(2011, 2, 18): (2.67, 47096130.0),\n",
       " datetime.date(2011, 2, 22): (2.66, 46919740.0),\n",
       " datetime.date(2011, 2, 23): (2.62, 46214180.0),\n",
       " datetime.date(2011, 2, 24): (2.63, 46390570.0),\n",
       " datetime.date(2011, 2, 25): (2.64, 46566960.0),\n",
       " datetime.date(2011, 2, 28): (2.63, 46390570.0),\n",
       " datetime.date(2011, 3, 1): (2.62, 46214180.0),\n",
       " datetime.date(2011, 3, 2): (2.61, 46037790.0),\n",
       " datetime.date(2011, 3, 3): (2.63, 46390570.0),\n",
       " datetime.date(2011, 3, 4): (2.64, 46566960.0),\n",
       " datetime.date(2011, 3, 7): (2.56, 45155840.0),\n",
       " datetime.date(2011, 3, 8): (2.55, 44979450.0),\n",
       " datetime.date(2011, 3, 9): (2.59, 45685010.0),\n",
       " datetime.date(2011, 3, 10): (2.59, 45685010.0),\n",
       " datetime.date(2011, 3, 11): (2.58, 45508620.0),\n",
       " datetime.date(2011, 3, 14): (2.53, 44626670.0),\n",
       " datetime.date(2011, 3, 15): (2.49, 43921110.0),\n",
       " datetime.date(2011, 3, 16): (2.48, 43744720.0),\n",
       " datetime.date(2011, 3, 17): (2.42, 42686380.0),\n",
       " datetime.date(2011, 3, 18): (2.35, 41451650.0),\n",
       " datetime.date(2011, 3, 21): (2.39, 42157210.0),\n",
       " datetime.date(2011, 3, 22): (2.38, 41980820.0),\n",
       " datetime.date(2011, 3, 23): (2.38, 41980820.0),\n",
       " datetime.date(2011, 3, 24): (2.4, 43152000.0),\n",
       " datetime.date(2011, 3, 25): (2.69, 48366200.0),\n",
       " datetime.date(2011, 3, 28): (2.7, 48546000.0),\n",
       " datetime.date(2011, 3, 29): (2.7, 48546000.0),\n",
       " datetime.date(2011, 3, 30): (2.53, 45489400.0),\n",
       " datetime.date(2011, 3, 31): (2.4, 43046400.0),\n",
       " datetime.date(2011, 4, 1): (2.75, 49324000.0),\n",
       " datetime.date(2011, 4, 4): (2.6, 46748000.0),\n",
       " datetime.date(2011, 4, 5): (2.53, 45489400.0),\n",
       " datetime.date(2011, 4, 6): (2.58, 46388400.0),\n",
       " datetime.date(2011, 4, 7): (2.6, 46748000.0),\n",
       " datetime.date(2011, 4, 8): (2.59, 46568200.0),\n",
       " datetime.date(2011, 4, 11): (2.62, 47107600.0),\n",
       " datetime.date(2011, 4, 12): (2.52, 45309600.0),\n",
       " datetime.date(2011, 4, 13): (2.57, 46208600.0),\n",
       " datetime.date(2011, 4, 14): (2.62, 47107600.0),\n",
       " datetime.date(2011, 4, 15): (2.61, 46927800.0),\n",
       " datetime.date(2011, 4, 18): (2.58, 46388400.0),\n",
       " datetime.date(2011, 4, 19): (2.54, 45669200.0),\n",
       " datetime.date(2011, 4, 20): (2.61, 46927800.0),\n",
       " datetime.date(2011, 4, 21): (2.5, 44950000.0),\n",
       " datetime.date(2011, 4, 25): (2.55, 45849000.0),\n",
       " datetime.date(2011, 4, 26): (2.52, 45309600.0),\n",
       " datetime.date(2011, 4, 27): (2.54, 45669200.0),\n",
       " datetime.date(2011, 4, 28): (2.52, 45309600.0),\n",
       " datetime.date(2011, 4, 29): (2.54, 45669200.0),\n",
       " datetime.date(2011, 5, 2): (2.46, 44230800.0),\n",
       " datetime.date(2011, 5, 3): (2.53, 45489400.0),\n",
       " datetime.date(2011, 5, 4): (2.49, 44770200.0),\n",
       " datetime.date(2011, 5, 5): (2.47, 44410600.0),\n",
       " datetime.date(2011, 5, 6): (2.46, 44230800.0),\n",
       " datetime.date(2011, 5, 9): (2.45, 44058350.0),\n",
       " datetime.date(2011, 5, 10): (2.43, 43698690.0),\n",
       " datetime.date(2011, 5, 11): (2.46, 44238180.0),\n",
       " datetime.date(2011, 5, 12): (2.46, 44238180.0),\n",
       " datetime.date(2011, 5, 13): (2.48, 44597840.0),\n",
       " datetime.date(2011, 5, 16): (2.45, 44058350.0),\n",
       " datetime.date(2011, 5, 17): (2.57, 46216310.0),\n",
       " datetime.date(2011, 5, 18): (2.53, 45496990.0),\n",
       " datetime.date(2011, 5, 19): (2.48, 44597840.0),\n",
       " datetime.date(2011, 5, 20): (2.49, 44777670.0),\n",
       " datetime.date(2011, 5, 23): (2.5, 44957500.0),\n",
       " datetime.date(2011, 5, 24): (2.48, 44597840.0),\n",
       " datetime.date(2011, 5, 25): (2.46, 44238180.0),\n",
       " datetime.date(2011, 5, 26): (2.43, 43698690.0),\n",
       " datetime.date(2011, 5, 27): (2.45, 44058350.0),\n",
       " datetime.date(2011, 5, 31): (2.5, 44957500.0),\n",
       " datetime.date(2011, 6, 1): (2.47, 44418010.0),\n",
       " datetime.date(2011, 6, 2): (2.52, 45317160.0),\n",
       " datetime.date(2011, 6, 3): (2.5, 44957500.0),\n",
       " datetime.date(2011, 6, 6): (2.46, 44238180.0),\n",
       " datetime.date(2011, 6, 7): (2.44, 43878520.0),\n",
       " datetime.date(2011, 6, 8): (2.3, 41360900.0),\n",
       " datetime.date(2011, 6, 9): (2.4, 43159200.0),\n",
       " datetime.date(2011, 6, 10): (2.4, 43159200.0),\n",
       " datetime.date(2011, 6, 13): (2.42, 43518860.0),\n",
       " datetime.date(2011, 6, 14): (2.43, 43698690.0),\n",
       " datetime.date(2011, 6, 15): (2.43, 43698690.0),\n",
       " datetime.date(2011, 6, 16): (2.41, 43339030.0),\n",
       " datetime.date(2011, 6, 17): (2.52, 45317160.0),\n",
       " datetime.date(2011, 6, 20): (2.45, 44058350.0),\n",
       " datetime.date(2011, 6, 21): (2.56, 46036480.0),\n",
       " datetime.date(2011, 6, 22): (2.6, 46755800.0),\n",
       " datetime.date(2011, 6, 23): (2.63, 47295290.0),\n",
       " datetime.date(2011, 6, 24): (2.67, 48014610.0),\n",
       " datetime.date(2011, 6, 27): (2.67, 48014610.0),\n",
       " datetime.date(2011, 6, 28): (2.61, 46935630.0),\n",
       " datetime.date(2011, 6, 29): (2.66, 47834780.0),\n",
       " datetime.date(2011, 6, 30): (2.6, 46675200.0),\n",
       " datetime.date(2011, 7, 1): (2.57, 46136640.0),\n",
       " datetime.date(2011, 7, 5): (2.59, 46495680.0),\n",
       " datetime.date(2011, 7, 6): (2.54, 45598080.0),\n",
       " datetime.date(2011, 7, 7): (2.59, 46495680.0),\n",
       " datetime.date(2011, 7, 8): (2.51, 45059520.0),\n",
       " datetime.date(2011, 7, 11): (2.49, 44700480.0),\n",
       " datetime.date(2011, 7, 12): (2.43, 43623360.0),\n",
       " datetime.date(2011, 7, 13): (2.5, 44880000.0),\n",
       " datetime.date(2011, 7, 14): (2.48, 44520960.0),\n",
       " datetime.date(2011, 7, 15): (2.4, 43084800.0),\n",
       " datetime.date(2011, 7, 18): (2.44, 43802880.0),\n",
       " datetime.date(2011, 7, 19): (2.5, 44880000.0),\n",
       " datetime.date(2011, 7, 20): (2.34, 42007680.0),\n",
       " datetime.date(2011, 7, 21): (2.42, 43443840.0),\n",
       " datetime.date(2011, 7, 22): (2.33, 41828160.0),\n",
       " datetime.date(2011, 7, 25): (2.4, 43084800.0),\n",
       " datetime.date(2011, 7, 26): (2.38, 42725760.0),\n",
       " datetime.date(2011, 7, 27): (2.37, 42546240.0),\n",
       " datetime.date(2011, 7, 28): (2.34, 42007680.0),\n",
       " datetime.date(2011, 7, 29): (2.39, 42905280.0),\n",
       " datetime.date(2011, 8, 1): (2.4, 43084800.0),\n",
       " datetime.date(2011, 8, 2): (2.44, 43802880.0),\n",
       " datetime.date(2011, 8, 3): (2.4, 43084800.0),\n",
       " datetime.date(2011, 8, 4): (2.4, 43084800.0),\n",
       " datetime.date(2011, 8, 5): (2.45, 43982400.0),\n",
       " datetime.date(2011, 8, 8): (2.4, 43084800.0),\n",
       " datetime.date(2011, 8, 9): (2.39, 42905280.0),\n",
       " datetime.date(2011, 8, 10): (2.4, 43152000.0),\n",
       " datetime.date(2011, 8, 11): (2.39, 42972200.0),\n",
       " datetime.date(2011, 8, 12): (2.4, 43152000.0),\n",
       " datetime.date(2011, 8, 15): (2.39, 42972200.0),\n",
       " datetime.date(2011, 8, 16): (2.4, 43152000.0),\n",
       " datetime.date(2011, 8, 17): (2.4, 43152000.0),\n",
       " datetime.date(2011, 8, 18): (2.4, 43152000.0),\n",
       " datetime.date(2011, 8, 19): (2.31, 41533800.0),\n",
       " datetime.date(2011, 8, 22): (2.31, 41533800.0),\n",
       " datetime.date(2011, 8, 23): (2.35, 42253000.0),\n",
       " datetime.date(2011, 8, 24): (2.37, 42612600.0),\n",
       " datetime.date(2011, 8, 25): (2.37, 42612600.0),\n",
       " datetime.date(2011, 8, 26): (2.34, 42073200.0),\n",
       " datetime.date(2011, 8, 29): (2.36, 42432800.0),\n",
       " datetime.date(2011, 8, 30): (2.33, 41893400.0),\n",
       " datetime.date(2011, 8, 31): (2.38, 42792400.0),\n",
       " datetime.date(2011, 9, 1): (2.35, 42253000.0),\n",
       " datetime.date(2011, 9, 2): (2.38, 42792400.0),\n",
       " datetime.date(2011, 9, 6): (2.35, 42253000.0),\n",
       " datetime.date(2011, 9, 7): (2.34, 42073200.0),\n",
       " datetime.date(2011, 9, 8): (2.3, 41354000.0),\n",
       " datetime.date(2011, 9, 9): (2.36, 42432800.0),\n",
       " datetime.date(2011, 9, 12): (2.34, 42073200.0),\n",
       " datetime.date(2011, 9, 13): (2.33, 41893400.0),\n",
       " datetime.date(2011, 9, 14): (2.33, 41893400.0),\n",
       " datetime.date(2011, 9, 15): (2.35, 42253000.0),\n",
       " datetime.date(2011, 9, 16): (2.39, 42972200.0),\n",
       " datetime.date(2011, 9, 19): (2.4, 43152000.0),\n",
       " datetime.date(2011, 9, 20): (2.37, 42612600.0),\n",
       " datetime.date(2011, 9, 21): (2.35, 42253000.0),\n",
       " datetime.date(2011, 9, 22): (2.35, 42253000.0),\n",
       " datetime.date(2011, 9, 23): (2.34, 42073200.0),\n",
       " datetime.date(2011, 9, 26): (2.35, 42253000.0),\n",
       " datetime.date(2011, 9, 27): (2.35, 42253000.0),\n",
       " datetime.date(2011, 9, 28): (2.4, 43152000.0),\n",
       " datetime.date(2011, 9, 29): (2.33, 41893400.0),\n",
       " datetime.date(2011, 9, 30): (2.35, 42191900.0),\n",
       " datetime.date(2011, 10, 3): (2.35, 42191900.0),\n",
       " datetime.date(2011, 10, 4): (2.33, 41832820.0),\n",
       " datetime.date(2011, 10, 5): (2.32, 41653280.0),\n",
       " datetime.date(2011, 10, 6): (2.35, 42191900.0),\n",
       " datetime.date(2011, 10, 7): (2.35, 42191900.0),\n",
       " datetime.date(2011, 10, 10): (2.31, 41473740.0),\n",
       " datetime.date(2011, 10, 11): (2.31, 41473740.0),\n",
       " datetime.date(2011, 10, 12): (2.32, 41653280.0),\n",
       " datetime.date(2011, 10, 13): (2.3, 41294200.0),\n",
       " datetime.date(2011, 10, 14): (2.23, 40037420.0),\n",
       " datetime.date(2011, 10, 17): (2.15, 38601100.0),\n",
       " datetime.date(2011, 10, 18): (2.06, 36985240.0),\n",
       " datetime.date(2011, 10, 19): (1.93, 34651220.0),\n",
       " datetime.date(2011, 10, 20): (1.71, 30701340.0),\n",
       " datetime.date(2011, 10, 21): (1.64, 29444560.0),\n",
       " datetime.date(2011, 10, 24): (1.57, 28187780.0),\n",
       " datetime.date(2011, 10, 25): (1.49, 26751460.0),\n",
       " datetime.date(2011, 10, 26): (1.55, 27828700.0),\n",
       " datetime.date(2011, 10, 27): (1.63, 29265020.0),\n",
       " datetime.date(2011, 10, 28): (1.63, 29265020.0),\n",
       " datetime.date(2011, 10, 31): (1.57, 28187780.0),\n",
       " datetime.date(2011, 11, 1): (1.54, 27649160.0),\n",
       " datetime.date(2011, 11, 2): (1.57, 28187780.0),\n",
       " datetime.date(2011, 11, 3): (1.57, 28187780.0),\n",
       " datetime.date(2011, 11, 4): (1.5, 26931000.0),\n",
       " datetime.date(2011, 11, 7): (1.54, 27649160.0),\n",
       " datetime.date(2011, 11, 8): (1.58, 28367320.0),\n",
       " datetime.date(2011, 11, 9): (1.59, 28546860.0),\n",
       " datetime.date(2011, 11, 10): (1.59, 28586610.0),\n",
       " datetime.date(2011, 11, 11): (1.57, 28227030.0),\n",
       " datetime.date(2011, 11, 14): (1.51, 27148290.0),\n",
       " datetime.date(2011, 11, 15): (1.47, 26429130.0),\n",
       " datetime.date(2011, 11, 16): (1.55, 27867450.0),\n",
       " datetime.date(2011, 11, 17): (1.61, 28946190.0),\n",
       " datetime.date(2011, 11, 18): (1.74, 31283460.0),\n",
       " datetime.date(2011, 11, 21): (1.66, 29845140.0),\n",
       " datetime.date(2011, 11, 22): (1.62, 29125980.0),\n",
       " datetime.date(2011, 11, 23): (1.62, 29125980.0),\n",
       " datetime.date(2011, 11, 25): (1.65, 29665350.0),\n",
       " datetime.date(2011, 11, 28): (1.79, 32182410.0),\n",
       " datetime.date(2011, 11, 29): (1.62, 29125980.0),\n",
       " datetime.date(2011, 11, 30): (1.73, 31103670.0),\n",
       " datetime.date(2011, 12, 1): (1.69, 30384510.0),\n",
       " datetime.date(2011, 12, 2): (1.58, 28406820.0),\n",
       " datetime.date(2011, 12, 5): (1.54, 27687660.0),\n",
       " datetime.date(2011, 12, 6): (1.54, 27687660.0),\n",
       " datetime.date(2011, 12, 7): (1.53, 27507870.0),\n",
       " datetime.date(2011, 12, 8): (1.47, 26429130.0),\n",
       " datetime.date(2011, 12, 9): (1.47, 26429130.0),\n",
       " datetime.date(2011, 12, 12): (1.45, 26069550.0),\n",
       " datetime.date(2011, 12, 13): (1.47, 26429130.0),\n",
       " datetime.date(2011, 12, 14): (1.5, 26968500.0),\n",
       " datetime.date(2011, 12, 15): (1.49, 26788710.0),\n",
       " datetime.date(2011, 12, 16): (1.5, 26968500.0),\n",
       " datetime.date(2011, 12, 19): (1.42, 25530180.0),\n",
       " datetime.date(2011, 12, 20): (1.46, 26249340.0),\n",
       " datetime.date(2011, 12, 21): (1.45, 26069550.0),\n",
       " datetime.date(2011, 12, 22): (1.41, 25350390.0),\n",
       " datetime.date(2011, 12, 23): (1.4, 25170600.0),\n",
       " datetime.date(2011, 12, 27): (1.33, 23912070.0),\n",
       " datetime.date(2011, 12, 28): (1.3, 23372700.0),\n",
       " datetime.date(2011, 12, 29): (1.29, 23192910.0),\n",
       " datetime.date(2011, 12, 30): (1.24, 22280320.0),\n",
       " datetime.date(2012, 1, 3): (1.19, 21381920.0),\n",
       " datetime.date(2012, 1, 4): (1.15, 20663200.0),\n",
       " datetime.date(2012, 1, 5): (1.26, 22639680.0),\n",
       " datetime.date(2012, 1, 6): (1.29, 23178720.0),\n",
       " datetime.date(2012, 1, 9): (1.35, 24256800.0),\n",
       " datetime.date(2012, 1, 10): (1.27, 22819360.0),\n",
       " datetime.date(2012, 1, 11): (1.26, 22639680.0),\n",
       " datetime.date(2012, 1, 12): (1.28, 22999040.0),\n",
       " datetime.date(2012, 1, 13): (1.57, 28209760.0),\n",
       " datetime.date(2012, 1, 17): (1.41, 25334880.0),\n",
       " datetime.date(2012, 1, 18): (1.39, 24975520.0),\n",
       " datetime.date(2012, 1, 19): (1.3, 23358400.0),\n",
       " datetime.date(2012, 1, 20): (1.3, 23358400.0),\n",
       " datetime.date(2012, 1, 23): (1.31, 23538080.0),\n",
       " datetime.date(2012, 1, 24): (1.32, 23717760.0),\n",
       " datetime.date(2012, 1, 25): (1.3, 23358400.0),\n",
       " datetime.date(2012, 1, 26): (1.3, 23358400.0),\n",
       " datetime.date(2012, 1, 27): (1.43, 25694240.0),\n",
       " datetime.date(2012, 1, 30): (1.3, 23358400.0),\n",
       " datetime.date(2012, 1, 31): (1.29, 23178720.0),\n",
       " datetime.date(2012, 2, 1): (1.39, 24975520.0),\n",
       " datetime.date(2012, 2, 2): (1.35, 24256800.0),\n",
       " datetime.date(2012, 2, 3): (1.34, 24077120.0),\n",
       " datetime.date(2012, 2, 6): (1.36, 24436480.0),\n",
       " datetime.date(2012, 2, 7): (1.47, 26412960.0),\n",
       " datetime.date(2012, 2, 8): (1.39, 24975520.0),\n",
       " datetime.date(2012, 2, 9): (1.4, 25155200.0),\n",
       " datetime.date(2012, 2, 10): (1.4, 25155200.0),\n",
       " datetime.date(2012, 2, 13): (1.4, 25155200.0),\n",
       " datetime.date(2012, 2, 14): (1.4, 25155200.0),\n",
       " datetime.date(2012, 2, 15): (1.37, 24616160.0),\n",
       " datetime.date(2012, 2, 16): (1.4, 25155200.0),\n",
       " datetime.date(2012, 2, 17): (1.4, 25155200.0),\n",
       " datetime.date(2012, 2, 21): (1.4, 25155200.0),\n",
       " datetime.date(2012, 2, 22): (1.4, 25155200.0),\n",
       " datetime.date(2012, 2, 23): (1.42, 25514560.0),\n",
       " datetime.date(2012, 2, 24): (1.4, 25155200.0),\n",
       " datetime.date(2012, 2, 27): (1.4, 25155200.0),\n",
       " datetime.date(2012, 2, 28): (1.45, 26053600.0),\n",
       " datetime.date(2012, 2, 29): (1.45, 26053600.0),\n",
       " datetime.date(2012, 3, 1): (1.39, 24975520.0),\n",
       " datetime.date(2012, 3, 2): (1.41, 25334880.0),\n",
       " datetime.date(2012, 3, 5): (1.4, 25155200.0),\n",
       " datetime.date(2012, 3, 6): (1.34, 24077120.0),\n",
       " datetime.date(2012, 3, 7): (1.33, 23897440.0),\n",
       " datetime.date(2012, 3, 8): (1.35, 24256800.0),\n",
       " datetime.date(2012, 3, 9): (1.33, 23897440.0),\n",
       " datetime.date(2012, 3, 12): (1.33, 23897440.0),\n",
       " datetime.date(2012, 3, 13): (1.33, 23897440.0),\n",
       " datetime.date(2012, 3, 14): (1.32, 23717760.0),\n",
       " datetime.date(2012, 3, 15): (1.36, 24436480.0),\n",
       " datetime.date(2012, 3, 16): (1.42, 25514560.0),\n",
       " datetime.date(2012, 3, 19): (1.45, 26053600.0),\n",
       " datetime.date(2012, 3, 20): (1.5, 26952000.0),\n",
       " datetime.date(2012, 3, 21): (1.5, 26952000.0),\n",
       " datetime.date(2012, 3, 22): (1.22, 21920960.0),\n",
       " datetime.date(2012, 3, 23): (1.31, 23538080.0),\n",
       " datetime.date(2012, 3, 26): (1.23, 22100640.0),\n",
       " datetime.date(2012, 3, 27): (1.21, 21741280.0),\n",
       " datetime.date(2012, 3, 28): (1.26, 22639680.0),\n",
       " datetime.date(2012, 3, 29): (1.24, 22280320.0),\n",
       " datetime.date(2012, 3, 30): (1.45, 26033300.0),\n",
       " datetime.date(2012, 4, 2): (1.58, 28367320.0),\n",
       " datetime.date(2012, 4, 3): (1.55, 27828700.0),\n",
       " datetime.date(2012, 4, 4): (1.66, 29803640.0),\n",
       " datetime.date(2012, 4, 5): (1.74, 31239960.0),\n",
       " datetime.date(2012, 4, 9): (1.7, 30521800.0),\n",
       " datetime.date(2012, 4, 10): (1.65, 29647200.0),\n",
       " datetime.date(2012, 4, 11): (1.67, 30006560.0),\n",
       " datetime.date(2012, 4, 12): (1.64, 29467520.0),\n",
       " datetime.date(2012, 4, 13): (1.84, 33061120.0),\n",
       " datetime.date(2012, 4, 16): (1.84, 33061120.0),\n",
       " datetime.date(2012, 4, 17): (1.87, 33600160.0),\n",
       " datetime.date(2012, 4, 18): (1.86, 33420480.0),\n",
       " datetime.date(2012, 4, 19): (1.86, 33420480.0),\n",
       " datetime.date(2012, 4, 20): (1.82, 32701760.0),\n",
       " datetime.date(2012, 4, 23): (1.75, 31444000.0),\n",
       " datetime.date(2012, 4, 24): (1.71, 30725280.0),\n",
       " datetime.date(2012, 4, 25): (1.98, 35576640.0),\n",
       " datetime.date(2012, 4, 26): (2.17, 38990560.0),\n",
       " datetime.date(2012, 4, 27): (2.23, 40068640.0),\n",
       " datetime.date(2012, 4, 30): (2.12, 38092160.0),\n",
       " datetime.date(2012, 5, 1): (2.3, 41326400.0),\n",
       " datetime.date(2012, 5, 2): (2.12, 38092160.0),\n",
       " datetime.date(2012, 5, 3): (2.16, 38810880.0),\n",
       " datetime.date(2012, 5, 4): (2.05, 36834400.0),\n",
       " datetime.date(2012, 5, 7): (1.99, 35756320.0),\n",
       " datetime.date(2012, 5, 8): (1.95, 35037600.0),\n",
       " datetime.date(2012, 5, 9): (2.04, 36654720.0),\n",
       " datetime.date(2012, 5, 10): (2.06, 37014080.0),\n",
       " datetime.date(2012, 5, 11): (2.1, 37732800.0),\n",
       " datetime.date(2012, 5, 14): (2.0, 35936000.0),\n",
       " datetime.date(2012, 5, 15): (2.0, 35936000.0),\n",
       " datetime.date(2012, 5, 16): (2.08, 37373440.0),\n",
       " datetime.date(2012, 5, 17): (2.11, 37912480.0),\n",
       " datetime.date(2012, 5, 18): (1.63, 29287840.0),\n",
       " datetime.date(2012, 5, 21): (1.65, 29647200.0),\n",
       " datetime.date(2012, 5, 22): (1.7, 30545600.0),\n",
       " datetime.date(2012, 5, 23): (1.96, 35217280.0),\n",
       " datetime.date(2012, 5, 24): (1.94, 34857920.0),\n",
       " datetime.date(2012, 5, 25): (1.95, 35037600.0),\n",
       " datetime.date(2012, 5, 29): (2.99, 53724320.0),\n",
       " datetime.date(2012, 5, 30): (2.96, 53185280.0),\n",
       " datetime.date(2012, 5, 31): (2.94, 52825920.0),\n",
       " datetime.date(2012, 6, 1): (2.88, 51747840.0),\n",
       " datetime.date(2012, 6, 4): (2.86, 51388480.0),\n",
       " datetime.date(2012, 6, 5): (2.78, 49951040.0),\n",
       " datetime.date(2012, 6, 6): (2.87, 51568160.0),\n",
       " datetime.date(2012, 6, 7): (2.89, 51927520.0),\n",
       " datetime.date(2012, 6, 8): (2.88, 51747840.0),\n",
       " datetime.date(2012, 6, 11): (2.88, 51747840.0),\n",
       " datetime.date(2012, 6, 12): (2.89, 51927520.0),\n",
       " datetime.date(2012, 6, 13): (2.86, 51388480.0),\n",
       " datetime.date(2012, 6, 14): (2.91, 52286880.0),\n",
       " datetime.date(2012, 6, 15): (2.95, 53005600.0),\n",
       " datetime.date(2012, 6, 18): (2.96, 53185280.0),\n",
       " datetime.date(2012, 6, 19): (2.98, 53544640.0),\n",
       " datetime.date(2012, 6, 20): (2.99, 53724320.0),\n",
       " datetime.date(2012, 6, 21): (2.9, 52107200.0),\n",
       " datetime.date(2012, 6, 22): (2.94, 52825920.0),\n",
       " datetime.date(2012, 6, 25): (2.91, 52286880.0),\n",
       " datetime.date(2012, 6, 26): (2.91, 52286880.0),\n",
       " datetime.date(2012, 6, 27): (2.97, 53364960.0),\n",
       " datetime.date(2012, 6, 28): (2.96, 53185280.0),\n",
       " datetime.date(2012, 6, 29): (2.99, 53700400.0),\n",
       " datetime.date(2012, 7, 2): (3.02, 54239200.0),\n",
       " datetime.date(2012, 7, 3): (3.1, 55676000.0),\n",
       " datetime.date(2012, 7, 5): (3.1, 55676000.0),\n",
       " datetime.date(2012, 7, 6): (3.11, 55855600.0),\n",
       " datetime.date(2012, 7, 9): (3.1, 55676000.0),\n",
       " datetime.date(2012, 7, 10): (3.1, 55676000.0),\n",
       " datetime.date(2012, 7, 11): (3.1, 55676000.0),\n",
       " datetime.date(2012, 7, 12): (3.09, 55496400.0),\n",
       " datetime.date(2012, 7, 13): (3.19, 57292400.0),\n",
       " datetime.date(2012, 7, 16): (3.14, 56394400.0),\n",
       " datetime.date(2012, 7, 17): (3.15, 56574000.0),\n",
       " datetime.date(2012, 7, 18): (3.19, 57292400.0),\n",
       " datetime.date(2012, 7, 19): (3.11, 55855600.0),\n",
       " datetime.date(2012, 7, 20): (3.14, 56394400.0),\n",
       " datetime.date(2012, 7, 23): (3.09, 55496400.0),\n",
       " datetime.date(2012, 7, 24): (3.07, 55137200.0),\n",
       " datetime.date(2012, 7, 25): (3.03, 54418800.0),\n",
       " datetime.date(2012, 7, 26): (2.98, 53520800.0),\n",
       " datetime.date(2012, 7, 27): (3.0, 53880000.0),\n",
       " datetime.date(2012, 7, 30): (3.0, 53880000.0),\n",
       " datetime.date(2012, 7, 31): (2.97, 53341200.0),\n",
       " datetime.date(2012, 8, 1): (2.93, 52622800.0),\n",
       " datetime.date(2012, 8, 2): (2.91, 52263600.0),\n",
       " datetime.date(2012, 8, 3): (2.97, 53341200.0),\n",
       " datetime.date(2012, 8, 6): (2.98, 53520800.0),\n",
       " datetime.date(2012, 8, 7): (2.98, 53520800.0),\n",
       " datetime.date(2012, 8, 8): (2.98, 53520800.0),\n",
       " datetime.date(2012, 8, 9): (2.94, 52802400.0),\n",
       " datetime.date(2012, 8, 10): (2.94, 52802400.0),\n",
       " datetime.date(2012, 8, 13): (2.91, 52263600.0),\n",
       " datetime.date(2012, 8, 14): (2.92, 52463640.0),\n",
       " datetime.date(2012, 8, 15): (2.95, 53002650.0),\n",
       " datetime.date(2012, 8, 16): (2.94, 52822980.0),\n",
       " datetime.date(2012, 8, 17): (3.0, 53901000.0),\n",
       " datetime.date(2012, 8, 20): (2.99, 53721330.0),\n",
       " datetime.date(2012, 8, 21): (2.95, 53002650.0),\n",
       " datetime.date(2012, 8, 22): (2.94, 52822980.0),\n",
       " datetime.date(2012, 8, 23): (2.91, 52283970.0),\n",
       " datetime.date(2012, 8, 24): (2.93, 52643310.0),\n",
       " datetime.date(2012, 8, 27): (2.91, 52283970.0),\n",
       " datetime.date(2012, 8, 28): (2.94, 52822980.0),\n",
       " datetime.date(2012, 8, 29): (2.99, 53721330.0),\n",
       " datetime.date(2012, 8, 30): (2.95, 53002650.0),\n",
       " datetime.date(2012, 8, 31): (2.93, 52643310.0),\n",
       " datetime.date(2012, 9, 4): (2.97, 53361990.0),\n",
       " datetime.date(2012, 9, 5): (2.99, 53721330.0),\n",
       " datetime.date(2012, 9, 6): (3.04, 54619680.0),\n",
       " datetime.date(2012, 9, 7): (3.05, 54799350.0),\n",
       " datetime.date(2012, 9, 10): (3.03, 54440010.0),\n",
       " datetime.date(2012, 9, 11): (3.04, 54619680.0),\n",
       " datetime.date(2012, 9, 12): (3.06, 54979020.0),\n",
       " datetime.date(2012, 9, 13): (3.12, 56057040.0),\n",
       " datetime.date(2012, 9, 14): (3.17, 56955390.0),\n",
       " datetime.date(2012, 9, 17): (3.12, 56057040.0),\n",
       " datetime.date(2012, 9, 18): (3.14, 56416380.0),\n",
       " datetime.date(2012, 9, 19): (3.15, 56596050.0),\n",
       " datetime.date(2012, 9, 20): (3.11, 55877370.0),\n",
       " datetime.date(2012, 9, 21): (3.14, 56416380.0),\n",
       " datetime.date(2012, 9, 24): (3.14, 56416380.0),\n",
       " datetime.date(2012, 9, 25): (3.09, 55518030.0),\n",
       " datetime.date(2012, 9, 26): (3.09, 55518030.0),\n",
       " datetime.date(2012, 9, 27): (3.07, 55158690.0),\n",
       " datetime.date(2012, 9, 28): (3.01, 54062610.0),\n",
       " datetime.date(2012, 10, 1): (2.99, 53703390.0),\n",
       " datetime.date(2012, 10, 2): (3.0, 53883000.0),\n",
       " datetime.date(2012, 10, 3): (3.02, 54242220.0),\n",
       " datetime.date(2012, 10, 4): (3.06, 54960660.0),\n",
       " datetime.date(2012, 10, 5): (3.04, 54601440.0),\n",
       " datetime.date(2012, 10, 8): (3.04, 54601440.0),\n",
       " datetime.date(2012, 10, 9): (2.99, 53703390.0),\n",
       " datetime.date(2012, 10, 10): (3.0, 53883000.0),\n",
       " datetime.date(2012, 10, 11): (3.0, 53883000.0),\n",
       " datetime.date(2012, 10, 12): (2.95, 52984950.0),\n",
       " datetime.date(2012, 10, 15): (2.95, 52984950.0),\n",
       " datetime.date(2012, 10, 16): (2.9, 52086900.0),\n",
       " datetime.date(2012, 10, 17): (2.89, 51907290.0),\n",
       " datetime.date(2012, 10, 18): (2.89, 51907290.0),\n",
       " datetime.date(2012, 10, 19): (2.87, 51548070.0),\n",
       " datetime.date(2012, 10, 22): (2.84, 51009240.0),\n",
       " datetime.date(2012, 10, 23): (2.87, 51548070.0),\n",
       " datetime.date(2012, 10, 24): (2.79, 50111190.0),\n",
       " datetime.date(2012, 10, 25): (2.87, 51548070.0),\n",
       " datetime.date(2012, 10, 26): (2.83, 50829630.0),\n",
       " datetime.date(2012, 10, 31): (2.87, 51548070.0),\n",
       " datetime.date(2012, 11, 1): (2.9, 52086900.0),\n",
       " datetime.date(2012, 11, 2): (2.84, 51009240.0),\n",
       " datetime.date(2012, 11, 5): (2.83, 50829630.0),\n",
       " datetime.date(2012, 11, 6): (2.89, 51907290.0),\n",
       " datetime.date(2012, 11, 7): (2.79, 50111190.0),\n",
       " datetime.date(2012, 11, 8): (2.7, 48508200.0),\n",
       " datetime.date(2012, 11, 9): (2.71, 48687860.0),\n",
       " datetime.date(2012, 11, 12): (2.72, 48867520.0),\n",
       " datetime.date(2012, 11, 13): (2.63, 47250580.0),\n",
       " datetime.date(2012, 11, 14): (2.59, 46531940.0),\n",
       " datetime.date(2012, 11, 15): (2.57, 46172620.0),\n",
       " datetime.date(2012, 11, 16): (2.6, 46711600.0),\n",
       " datetime.date(2012, 11, 19): (2.64, 47430240.0),\n",
       " datetime.date(2012, 11, 20): (2.69, 48328540.0),\n",
       " datetime.date(2012, 11, 21): (2.65, 47609900.0),\n",
       " datetime.date(2012, 11, 23): (2.74, 49226840.0),\n",
       " datetime.date(2012, 11, 26): (2.7, 48508200.0),\n",
       " datetime.date(2012, 11, 27): (2.71, 48687860.0),\n",
       " datetime.date(2012, 11, 28): (2.69, 48328540.0),\n",
       " datetime.date(2012, 11, 29): (2.75, 49406500.0),\n",
       " datetime.date(2012, 11, 30): (2.75, 49406500.0)}"
      ]
     },
     "execution_count": 62,
     "metadata": {},
     "output_type": "execute_result"
    }
   ],
   "source": [
    "stock_data['BTFG']"
   ]
  },
  {
   "cell_type": "code",
   "execution_count": 60,
   "metadata": {},
   "outputs": [
    {
     "data": {
      "text/plain": [
       "dict_keys(['BTFG', 'AEPI', 'JJSF', 'DGSE', 'PLXS', 'RMCF', 'HGR', 'KDE', 'AMCE', 'ORCL', 'MSFT', 'ACUR', 'AYE', 'TROW', 'OSIP', 'HON', 'EMC', 'AMRC', 'XRIT', 'TECD', 'RGEN', 'AT', 'LSBX', 'BWC', 'BEAM', 'BWINB', 'INDB', 'DMC', 'TSTF', 'SIGM', 'TKLC', 'HGIC', 'HVT', 'NHTB', 'LLTC', 'CY', 'AMFI', 'TMP', 'BCPC', 'GENZ', 'XOMA', 'ADPT', 'DJCO', 'AMAG', 'TCB', 'ASTE', 'NAVG', 'WERN', 'SKYW', 'PATR', 'REFR', 'AMWD', 'MDCI', 'TWMC', 'ADM', 'AAN', 'VIVO', 'CLFD', 'PDEX', 'FEP', 'WTS', 'FNB', 'HNBC', 'TGX', 'LAKE', 'PTSI', 'ACET', 'BRLI', 'CYAN', 'FSYS', 'HLS', 'FISV', 'CEBK', 'SED', 'FCNCA', 'RWC', 'BKSC', 'HTLD', 'TSFG', 'CYTR', 'RENT', 'OSUR', 'BWS', 'BC', 'DXYN', 'UIS', 'WSFS', 'ITIC', 'CERN', 'FFKT', 'WBS', 'MKL', 'CMVT', 'CDR', 'ACMP', 'FLIC', 'FBP', 'NWK', 'PMD', 'EPG', 'STSA', 'DELL', 'ASBI', 'SYNO', 'PARL', 'AVD', 'PLAB', 'AIM', 'JEN', 'MESA', 'CRMT', 'AGII', 'OFG', 'CFNB', 'CATO', 'FBNC', 'ICCC', 'WSBC', 'KO', 'SAFM', 'CNBKA', 'ECT', 'AIRT', 'UBSI', 'ENV', 'CCC', 'CMRG', 'SKS', 'SWTX', 'KOOL', 'WASH', 'CDNS', 'ED', 'SUR', 'XETA', 'CHCO', 'ALAN', 'BRY', 'EBIX', 'CECE', 'FSBI', 'FFKY', 'FICO', 'CNMD', 'CELG', 'HBNC', 'ATU', 'ATRI', 'SNFCA', 'ACO', 'XRAY', 'FAST', 'CPF', 'APPA', 'LABL', 'AIRM', 'CRK', 'HARL', 'NAII', 'GDOT', 'DTE', 'ALEX', 'MATX', 'IMKTA', 'DD', 'CBM', 'AIN', 'RBPAA', 'IIVI', 'ETN', 'JOUT', 'TIGR', 'SIVB', 'ALCO', 'MITK', 'CLH', 'CYBE', 'MFLR', 'CTBI', 'FFHS', 'XOM', 'DISK', 'IPAR', 'MGM', 'MXIM', 'NOIZ', 'TEAM', 'PTEC', 'ADG', 'WM', 'BMC', 'KKR', 'CHFC', 'COKE', 'MCP', 'OXF', 'DY', 'QUAD', 'RLD', 'CBP', 'VRNG', 'OINK', 'PEOP', 'QLIK', 'THTI', 'GMT', 'GORO', 'IL', 'GD', 'REE', 'GE', 'LH', 'NVLS', 'ONB', 'PKY', 'PBCT', 'PDE', 'SIG', 'ELMD', 'GMAN', 'MDMD', 'PATH', 'PSTB', 'RP', 'TSRX', 'COR', 'HBP', 'WSB', 'GR', 'CBRX', 'FRBK', 'DRL', 'GNCMA', 'EAR', 'TORM', 'LWAY', 'LNN', 'LOGC', 'MEAS', 'MGPI', 'PWX', 'PPHM', 'CFD', 'RNO', 'AMRS', 'CHTR', 'FULL', 'KEYP', 'SQI', 'CCG', 'EFC', 'EXAM', 'TOWR', 'BOX', 'LYB', 'AEGR', 'BBRG', 'BODY', 'NETE', 'HRZN', 'KEYW', 'NFEC', 'NTSP', 'PACB', 'STND', 'VRA', 'ARX', 'BAH', 'GM', 'HHC', 'IPHI', 'PCYG', 'SEMG', 'TPLM', 'ANAC', 'GNOM', 'LPLA', 'PRMW', 'SPBC', 'SUNH', 'TFM', 'ZGNX', 'IR', 'ABH', 'CTP', 'FXCM', 'FLT', 'FRF', 'GCAP', 'INFU', 'MMI', 'QRE', 'SWFT', 'TRGP', 'WD', 'AAC', 'ACNB', 'CPGI', 'CTEK', 'DYSL', 'HFBL', 'LEDS', 'IBM', 'RNET', 'UNXL', 'VTUS', 'ANCB', 'FRP', 'OFED', 'NAV', 'WBKC', 'AAT', 'BKU', 'DMD', 'IBIO', 'MCC', 'NLSN', 'AND', 'IFT', 'KMI', 'NPTN', 'INN', 'ITT', 'ACRX', 'BGMD', 'ECYT', 'EPOC', 'FLDM', 'GEVO', 'KIPS', 'MEDH', 'PCOM', 'PCRX', 'SUNS', 'SWSH', 'TBOW', 'TRNX', 'USCR', 'APO', 'BONE', 'FCL', 'FF', 'HCA', 'HII', 'MX', 'EOX', 'ALD', 'CSOD', 'SREV', 'AL', 'UAN', 'ELLI', 'KSU', 'GNC', 'MDGN', 'APTS', 'SDT', 'STAG', 'TMS', 'TLLP', 'FRNK', 'GSVC', 'MKTG', 'PFLT', 'SGNT', 'STBZ', 'SVVC', 'ZIP', 'ACTV', 'LNKD', 'LPR', 'NGL', 'NMFC', 'RLJ', 'ECOL', 'RVM', 'LG', 'THR', 'UAM', 'FSL', 'KOS', 'AMPE', 'EAGL', 'FFN', 'RPXC', 'SAVE', 'SZYM', 'WIFI', 'MITT', 'RATE', 'LODE', 'FIO', 'GSJK', 'MPC', 'P', 'TAOM', 'VHS', 'AMCX', 'AWAY', 'FBNK', 'FDUS', 'KIOR', 'AMID', 'AMTG', 'CJES', 'OILT', 'SARA', 'SXC', 'SYRG', 'TEA', 'WAIR', 'CHEF', 'DNKN', 'FRAN', 'HCOM', 'HZNP', 'IROQ', 'SIBC', 'SKUL', 'TNGO', 'Z', 'PER', 'AMBT', 'CARB', 'FES', 'MNGL', 'MTGE', 'PLMT', 'FBHS', 'ARCP', 'FMNB', 'LCNB', 'PBSK', 'STB', 'XLS', 'GNE', 'XYL', 'ASBB', 'BLMT', 'LMOS', 'UBNT', 'ZLTQ', 'AM', 'CHKR', 'DDMG', 'NDRO', 'IMPV', 'INVN', 'LRE', 'MN', 'VAC', 'RNF', 'DLPH', 'ACHC', 'ANGI', 'CLVS', 'GRPN', 'IMI', 'MFRM', 'NLNK', 'NTK', 'RECV', 'OSH', 'BCEI', 'ETAK', 'LPI', 'RRMS', 'RSE', 'SN', 'WPX', 'KORS', 'CNDO', 'JIVE', 'MCEP', 'MEMP', 'SGYP', 'TRIP', 'ZNGA', 'GWRE', 'POST', 'PVG', 'RLGT', 'VSTM', 'WEBK', 'ARP', 'EPAM', 'FX', 'GSE', 'GWAY', 'MTDR', 'PRLB', 'RNDY', 'SLCA', 'BCOV', 'BV', 'CCXI', 'CEMP', 'CERE', 'CUI', 'CZR', 'HLSS', 'HMST', 'SSH', 'SYNC', 'ALSN', 'BNNY', 'DWRE', 'ET', 'MM', 'NSM', 'RM', 'NL', 'RXN', 'SIR', 'TAGS', 'VNTV', 'VCRA', 'YELP', 'ARCT', 'ENPH', 'GALT', 'MACK', 'MTSI', 'PAMT', 'PRSS', 'ACRE', 'EDG', 'FET', 'BLOX', 'MRC', 'MPO', 'NCQ', 'OAK', 'PSX', 'SDR', 'TUMI', 'CLIR', 'DCIN', 'EAC', 'ENVI', 'FRGI', 'PFPT', 'SPLK', 'TCPC', 'EVER', 'IMUC', 'ROYT', 'PDH', 'TLYS', 'WAGE', 'WMC', 'ADNC', 'CG', 'FB', 'IRG', 'SCGQ', 'SUPN', 'TROV', 'YOD', 'BKW', 'EQM', 'NOW', 'USMI', 'TROX', 'EXA', 'HOTR', 'TSRO', 'AMAC', 'EGL', 'ANAT', 'NGVC', 'NTI', 'PANW', 'CHUY', 'DFRG', 'DRTX', 'EOPN', 'FIVE', 'FSBW', 'GTWN', 'HBMD', 'HPTX', 'HTBI', 'KYAK', 'PGRX', 'TAX', 'GMED', 'HCLP', 'BLMN', 'ELOQ', 'HPAC', 'MNGA', 'PFMT', 'PSMI', 'SFBC', 'TTS', 'USMD', 'ADT', 'HY', 'NBHC', 'SRC', 'SMLP', 'SUSP', 'TRLA', 'PNR', 'CBF', 'KRFT', 'LFVN', 'QLYS', 'BGH', 'AMPH', 'BERY', 'OLN', 'JMI', 'LGP', 'LOCK', 'MPLX', 'CTF', 'PBYI', 'RLGY', 'SSTK', 'WWAV', 'WDAY', 'FLTX', 'AMBA', 'CNSI', 'CUNB', 'FANG', 'HBK', 'ICPT', 'KYTH', 'LNCO', 'LPTN', 'MCBK', 'MRCC', 'RGLS', 'RLJE', 'SHOS', 'ALDW', 'DKL', 'GEMS', 'RH', 'PCG', 'RKUS', 'SXE', 'SCM', 'ATOS', 'CHMG', 'MEIL', 'OFS', 'PBCP', 'WHLR', 'AMS', 'AMSWA', 'PEP', 'MO', 'COP', 'PVH', 'PW', 'AMGN', 'ALOG', 'ANLY', 'ANEN', 'SLB', 'SNSTA', 'APOG', 'CVX', 'AAPL', 'SUN', 'AMAT', 'TPL', 'ARSD', 'TKR', 'TR', 'ARDNA', 'MRO', 'AROW', 'VMC', 'ARTW', 'ASBC', 'FL', 'ATRO', 'ALOT', 'GAS', 'RSH', 'TXN', 'AAME', 'EIX', 'ATW', 'AVHI', 'AZZ', 'BSDM', 'GT', 'BPOP', 'BOH', 'UVV', 'HSY', 'GRAN', 'KR', 'CBMX', 'CVS', 'BSET', 'GIS', 'LO', 'MHP', 'SPA', 'BNHN', 'CCK', 'KMB', 'BRK', 'UTX', 'UGI', 'BGG', 'SVNT', 'AP', 'CW', 'FWLT', 'SPEX', 'PG', 'JCP', 'SO', 'SCX', 'CAT', 'BOBE', 'BCO', 'CL', 'BRC', 'FMC', 'BRID', 'DE', 'BMY', 'WAG', 'BA', 'VVI', 'WEN', 'MTZ', 'SNV', 'ACXM', 'CR', 'BDK', 'CPY', 'CSPI', 'CVBF', 'LUK', 'ABT', 'CACH', 'CACI', 'CALM', 'CRS', 'DOW', 'CAMP', 'CWT', 'GY', 'GCO', 'FOE', 'LMT', 'MWV', 'NEM', 'WGL', 'CSWC', 'CAH', 'IP', 'CASY', 'EXC', 'CAW', 'CNP', 'IDA', 'PFE', 'CBE', 'EMR', 'JNJ', 'GLW', 'ISR', 'CRDN', 'CHG', 'PPG', 'PPL', 'MMM', 'MRK', 'CHRS', 'MSI', 'CMN', 'HSH', 'DPL', 'CHTT', 'CKP', 'FE', 'EDE', 'HNZ', 'SCG', 'PGN', 'CPK', 'CMS', 'EAT', 'CHD', 'CINF', 'POM', 'WEC', 'TXT', 'CTAS', 'PEG', 'CIA', 'HAL', 'MDU', 'FTR', 'CYN', 'XEL', 'CLC', 'ETR', 'WR', 'CLDA', 'AEP', 'CRV', 'NEE', 'CEG', 'ALE', 'ASH', 'EQT', 'GXP', 'OGE', 'CDE', 'PBI', 'COHR', 'AA', 'NOC', 'RTN', 'CMRO', 'AVA', 'AEE', 'CMA', 'TEG', 'CBSH', 'OKE', 'HSC', 'CPB', 'WHR', 'JCS', 'CAR', 'HRS', 'NFG', 'CA', 'F', 'DOV', 'CMTL', 'MEE', 'DIS', 'CTWS', 'EGN', 'SNS', 'SJI', 'CTO', 'GAP', 'L', 'K', 'VAR', 'STL', 'CSL', 'CLF', 'CTB', 'CRRC', 'CUZ', 'CBRL', 'MAYS', 'R', 'CRED', 'AVT', 'IRF', 'STR', 'HPQ', 'BAX', 'CFR', 'CFI', 'DUK', 'MSB', 'XRX', 'PNW', 'NC', 'APD', 'MUR', 'VNO', 'HES', 'CTS', 'DAIO', 'ALK', 'DWSN', 'DXR', 'NBR', 'COGO', 'ARW', 'DGAS', 'AIT', 'DCAI', 'AOI', 'DNEX', 'CAS', 'CVR', 'DBLE', 'COHU', 'CMC', 'OMC', 'DBRN', 'ASNA', 'LCRD', 'CUO', 'FLS', 'DYNT', 'DRCO', 'CUB', 'COBR', 'EMCI', 'EML', 'EV', 'EDUC', 'ESP', 'ELRC', 'ESIO', 'ELSE', 'ELMG', 'GV', 'ELX', 'ENER', 'HL', 'HEI', 'FPP', 'HP', 'WFT', 'HFC', 'HRL', 'ATO', 'ENZN', 'ENZ', 'NGA', 'ESCA', 'CNVR', 'KINS', 'BOOM', 'LGL', 'MAM', 'MAS', 'FARM', 'NPK', 'NBS', 'NR', 'FITB', 'NUE', 'SGK', 'OXY', 'OXM', 'IDC', 'RF', 'PLL', 'PKE', 'FAF', 'CLGX', 'FMER', 'PBY', 'TRMK', 'FFCH', 'MTB', 'FFBC', 'VPF', 'FMBI', 'ROG', 'ROL', 'SEB', 'SRCE', 'FHN', 'SHW', 'FLXS', 'SCL', 'FLOW', 'FONR', 'TE', 'LDR', 'FST', 'TSO', 'FORD', 'TOD', 'FSTR', 'FELE', 'BEN', 'VAL', 'FFEX', 'FUL', 'WEYS', 'AJG', 'BYI', 'WMB', 'WOC', 'HRG', 'CHMT', 'TNB', 'GNTX', 'RRD', 'WFC', 'AXR', 'GEOI', 'NI', 'SKY', 'WSC', 'PAS', 'GIGA', 'S', 'SMP', 'GRZ', 'GLDC', 'ABL', 'APA', 'MAT', 'GGG', 'BDX', 'B', 'GTN', 'WEDC', 'WY', 'CSC', 'IFF', 'AVP', 'DBD', 'GYRO', 'TJX', 'TXI', 'CMI', 'HE', 'AMOT', 'HWKN', 'HCSG', 'SLI', 'PH', 'HELE', 'IIN', 'HRLY', 'OMX', 'WMK', 'FRM', 'ACV', 'PNK', 'PKI', 'WWW', 'BRN', 'HNI', 'HH', 'JCI', 'NEU', 'SJM', 'MDP', 'JBHT', 'HBAN', 'HURC', 'ATI', 'CYPB', 'SYNL', 'SWK', 'MCD', 'SXI', 'VFC', 'AMIC', 'IG', 'LZ', 'IMMU', 'BMS', 'IHC', 'KMT', 'NU', 'PFIN', 'INSU', 'TFX', 'IDTI', 'PULS', 'AVY', 'ADP', 'CVM', 'DIOD', 'SVU', 'VHI', 'FRX', 'IGT', 'IDCC', 'TYC', 'ISH', 'RDC', 'INPH', 'CDI', 'IVC', 'MMC', 'SII', 'SWKS', 'ISRL', 'WSO', 'AXE', 'EPHC', 'SFE', 'ITG', 'GFF', 'CLX', 'GPC', 'CBT', 'HST', 'JOB', 'BCR', 'KLAC', 'ANTP', 'RAD', 'PNRG', 'KTII', 'KAMN', 'KCLI', 'CKR', 'KDN', 'LB', 'DFZ', 'NYT', 'EBF', 'KEQU', 'KTCC', 'CNA', 'BNE', 'CBB', 'FSS', 'KBALB', 'HNRG', 'ABM', 'SGC', 'GRB', 'JPM', 'GCI', 'FOH', 'KOSS', 'KLIC', 'LSI', 'LZB', 'UNS', 'LRCX', 'MCO', 'LANC', 'LNCE', 'HUM', 'UNP', 'LAWS', 'LNC', 'SIF', 'TGT', 'ARL', 'ALX', 'HRB', 'DDS', 'LXU', 'BK', 'DHR', 'PCH', 'FNP', 'PNY', 'RRC', 'AMN', 'BNI', 'SVT', 'URS', 'TPC', 'TDW', 'FUR', 'MTSC', 'PEI', 'ESL', 'MGEE', 'LLY', 'ADCT', 'SMTC', 'MEG', 'WGO', 'MTW', 'TER', 'MCS', 'OSG', 'SCI', 'VVC', 'PIR', 'MI', 'CCUR', 'MLP', 'MXWL', 'SYY', 'MKC', 'MSW', 'RHI', 'JEC', 'THC', 'SUP', 'WRE', 'EFX', 'BKR', 'GWW', 'LEN', 'HRC', 'MENT', 'WTR', 'MCY', 'HAS', 'IPG', 'MLAB', 'BMI', 'WPO', 'SIEB', 'MCRS', 'ATX', 'GRC', 'MU', 'MSCC', 'UIL', 'PLA', 'MSEX', 'FDO', 'HWG', 'MLHR', 'PHM', 'MIL', 'SJW', 'BDL', 'MSA', 'FAC', 'AIR', 'MOCO', 'MOD', 'HTSI', 'MOLX', 'TRN', 'MNR', 'SPW', 'RT', 'PNM', 'AFP', 'MTRN', 'HMG', 'INTG', 'WMT', 'IHT', 'NSSC', 'NAFC', 'FTO', 'LPX', 'CAG', 'ITW', 'CGL', 'NPBC', 'NSEC', 'NTSC', 'NWLI', 'BRT', 'NTY', 'NATR', 'TRC', 'GLT', 'FRS', 'NYM', 'GDP', 'NEWP', 'BLL', 'NKE', 'NOBH', 'VSH', 'NDSN', 'JWN', 'AFL', 'BOTA', 'NTRS', 'TEX', 'NWN', 'FRT', 'FRD', 'GPX', 'ASEI', 'PKD', 'LUV', 'BEZ', 'OICO', 'RBC', 'LNT', 'NEWT', 'OII', 'GPS', 'KEX', 'BRS', 'AXP', 'ODC', 'CB', 'TAP', 'CRWS', 'UDR', 'INTC', 'ORI', 'BAC', 'TRV', 'WLB', 'YRCW', 'TWIN', 'SXT', 'VIRC', 'OLP', 'LDL', 'ORBT', 'ACU', 'MDT', 'OTTR', 'OMI', 'SNA', 'DII', 'PNC', 'GHM', 'PCAR', 'MPR', 'TTC', 'CTL', 'FDX', 'AFG', 'UWN', 'ADI', 'BWL', 'LEG', 'NWL', 'PRX', 'PTC', 'PAR', 'SWX', 'BZC', 'AMD', 'PKOH', 'DCI', 'LOW', 'AE', 'PATK', 'BIO', 'HXL', 'PAYX', 'VII', 'DLX', 'PMFG', 'NBL', 'BRE', 'BKH', 'PVA', 'RAVN', 'PENX', 'KENT', 'TMO', 'CSX', 'FEIM', 'NLCI', 'TMK', 'PDCE', 'PBT', 'GTY', 'PHII', 'RYL', 'SJT', 'TIII', 'WST', 'CYBI', 'MTR', 'KEG', 'AGYS', 'DCO', 'STS', 'PDC', 'BRO', 'CV', 'DRAM', 'NRT', 'OCR', 'POWL', 'SWN', 'TDS', 'UNT', 'PPD', 'WGA', 'PCP', 'PLFE', 'LUB', 'WMS', 'CI', 'CHE', 'ICOC', 'LTD', 'NSC', 'PGR', 'NJR', 'PL', 'CNL', 'MDR', 'PSA', 'AGX', 'PDO', 'AMPL', 'STZ', 'KWR', 'D', 'QSII', 'KEY', 'ASYS', 'BLT', 'QUIX', 'RCMT', 'HOV', 'TRA', 'RLI', 'UNF', 'RPM', 'LM', 'MYE', 'AOS', 'BLC', 'COO', 'RAND', 'USLM', 'TISI', 'VZ', 'HCN', 'KID', 'T', 'TIN', 'USB', 'HD', 'MDC', 'SLM', 'CTT', 'WDC', 'REXI', 'RES', 'SFY', 'JAX', 'AIG', 'RELL', 'MASC', 'NUHC', 'ITI', 'RBN', 'UTL', 'BIG', 'HCP', 'CSS', 'RGLD', 'CMO', 'STI', 'NEON', 'WRI', 'SEIC', 'SIGI', 'NHP', 'CHYR', 'VRX', 'WTM', 'CFS', 'STJ', 'TOF', 'TMR', 'REX', 'CVC', 'MS', 'SHLM', 'VGZ', 'MYL', 'SBCF', 'RJF', 'HOG', 'KBH', 'BDN', 'TOL', 'ARG', 'APC', 'BPL', 'CCE', 'C', 'SIAL', 'ECL', 'SYMM', 'CWH', 'SFD', 'UNM', 'SON', 'VSR', 'Y', 'AWR', 'BLD', 'BBT', 'CHP', 'SWWC', 'EEI', 'TINY', 'SPAN', 'SPAR', 'SEH', 'INS', 'SPEC', 'SPIR', 'STAA', 'NHC', 'SMSC', 'SR', 'OBCI', 'SPF', 'STT', 'UHT', 'STC', 'SF', 'SYK', 'RGR', 'SUPX', 'SUSQ', 'STRN', 'TELOZ', 'TRR', 'TSRI', 'TAYD', 'TCCO', 'SSY', 'VOXX', 'BHI', 'FUN', 'IOT', 'INT', 'TIF', 'TBL', 'CBS', 'ABMD', 'WGNR', 'IEP', 'CCL', 'MBI', 'PII', 'SCHW', 'CSH', 'HAR', 'VGR', 'PXD', 'TLAB', 'MNI', 'DX', 'SEV', 'AB', 'PCE', 'MAN', 'BID', 'USM', 'ACI', 'DRE', 'MTH', 'BEC', 'RPT', 'CEC', 'FSII', 'CALC', 'BTUI', 'TNC', 'MIDD', 'SPLS', 'SUBK', 'ADBE', 'MRTN', 'AFAM', 'ZQK', 'PVSA', 'NBN', 'ODP', 'ALTR', 'MERC', 'IEX', 'PCL', 'MAG', 'CRUS', 'FRME', 'SYMC', 'AGN', 'TG', 'CGNX', 'URRE', 'TECH', 'CLRO', 'PRST', 'CKXE', 'HNR', 'USHS', 'CFFC', 'VTR', 'EOG', 'EA', 'DGII', 'SFI', 'ZIXI', 'LSCC', 'PBCI', 'ACF', 'IMGN', 'PXG', 'GIII', 'GSBC', 'TRCR', 'NEOG', 'HALL', 'WMCO', 'SURG', 'CBC', 'MFRI', 'CSCO', 'THO', 'COG', 'SUG', 'HOLX', 'DFG', 'THOR', 'JOE', 'TTI', 'VICR', 'COMS', 'GVA', 'KMPR', 'BEAV', 'ORB', 'RTI', 'SWY', 'TYL', 'KSWS', 'XLNX', 'ESBF', 'ACAT', 'ICON', 'WTSLA', 'TRH', 'CHUX', 'BHE', 'TRMB', 'BJS', 'EXPO', 'PRK', 'MTRX', 'AN', 'BDCO', 'MOC', 'WCBO', 'FFI', 'OUTD', 'GTIM', 'ATSI', 'ISYS', 'AVNR', 'MDNU', 'MRX', 'MMSI', 'PLCC', 'SAVB', 'FHCO', 'ATK', 'ESE', 'LUFK', 'CATY', 'CVA', 'NRIM', 'TRGL', 'ZAZA', 'HRT', 'TBAC', 'HMA', 'SONC', 'MLI', 'DORM', 'ATML', 'PICO', 'QDEL', 'PSB', 'AZO', 'IO', 'REGN', 'CVH', 'UAHC', 'PMCS', 'CEPH', 'JNY', 'TSS', 'ISIS', 'ANN', 'RVI', 'HBHC', 'LCUT', 'PNRA', 'HNT', 'DV', 'IDXX', 'OSTE', 'RGS', 'AES', 'RHB', 'CRVL', 'STFC', 'DIN', 'ALKS', 'VRTX', 'MNRO', 'PRGS', 'ABK', 'HWAY', 'ZBRA', 'EZPW', 'MTG', 'HAE', 'PRA', 'FIZZ', 'BIIB', 'GTSI', 'BONT', 'FCFS', 'JOEZ', 'AAON', 'AEY', 'API', 'AXAS', 'BOKF', 'STRL', 'ISIG', 'MEDW', 'TRNS', 'NSFC', 'NTN', 'RTK', 'ROCM', 'SMTS', 'THQI', 'VIFL', 'VVTV', 'ZOOM', 'ODFL', 'SWS', 'STEI', 'WTNY', 'NHI', 'ASGR', 'ATNI', 'WRLD', 'WNC', 'HMN', 'KIM', 'OI', 'JBSS', 'VTSS', 'AMSC', 'QCOM', 'IBNK', 'PRGO', 'PERF', 'TTEK', 'ARCI', 'ONTY', 'BSTC', 'WETF', 'WTT', 'PHX', 'OFC', 'MSFG', 'AHPI', 'TTES', 'AMLN', 'SPNC', 'GILD', 'ABAX', 'WFMI', 'MSON', 'DUSA', 'PDLI', 'SMG', 'ACFN', 'ROP', 'POWR', 'IUSA', 'SCHL', 'SNPS', 'ELY', 'CRT', 'THFF', 'BTX', 'SCLN', 'NBTB', 'TWX', 'FRED', 'LNCR', 'USAK', 'STEM', 'AERG', 'ICUI', 'JACK', 'VCI', 'CBK', 'EP', 'UQM', 'MHK', 'NCS', 'ASUR', 'HFFC', 'KOPN', 'MW', 'TRST', 'AGCO', 'CRC', 'RNST', 'STBA', 'SMRT', 'MEDQ', 'VLNC', 'BKE', 'PNBC', 'ABFS', 'ADAT', 'BSX', 'KSS', 'PANL', 'USPH', 'DWCH', 'FC', 'FCF', 'STE', 'BBBY', 'CACC', 'DHI', 'ESRX', 'FINL', 'NYER', 'COLB', 'FCEL', 'SBUX', 'TECUA', 'TSN', 'LMLP', 'SPN', 'PX', 'CENT', 'ABCW', 'WIRE', 'ZOLL', 'STRS', 'PNNW', 'KMP', 'HITK', 'FBN', 'OHI', 'LAYN', 'CHIO', 'PRCP', 'LTC', 'FUNC', 'ESMC', 'EQS', 'ISLE', 'CASB', 'CVU', 'CAKE', 'ASGN', 'LFUS', 'CCU', 'EFII', 'UNAM', 'MFE', 'INMD', 'KEM', 'EPIC', 'SBIB', 'MTX', 'CPSS', 'HCC', 'PDCO', 'RDN', 'UFI', 'BAMM', 'QCOR', 'ZOLT', 'NAVB', 'STLY', 'BIOL', 'SATC', 'KAI', 'LGND', 'TCO', 'CKH', 'CPWR', 'MNTG', 'HMSY', 'SM', 'BBOX', 'PQ', 'PESI', 'PMTI', 'PVFC', 'RSCR', 'SHFL', 'TUTR', 'AHCI', 'UVE', 'ULBI', 'VPS', 'VSCI', 'STKL', 'NGAS', 'OPY', 'DDD', 'QLTI', 'UFCS', 'UG', 'OFIX', 'COT', 'STU', 'CHMP', 'UMBF', 'CAPS', 'IACI', 'EGY', 'WTU', 'CREE', 'CRY', 'CHK', 'CYBX', 'GLBL', 'IEC', 'NATH', 'PEBO', 'RCKY', 'RMTR', 'UEIC', 'DDR', 'ELS', 'ALG', 'APSG', 'AVID', 'UAMY', 'CHS', 'GYMB', 'INTU', 'JAH', 'LSTR', 'MCHP', 'DEST', 'PSUN', 'SCON', 'SCVL', 'SYBT', 'UBCP', 'VICL', 'RPRX', 'CHDN', 'SGA', 'ETH', 'USEG', 'ACE', 'RELV', 'GBR', 'BANF', 'CVBK', 'FOSL', 'JBL', 'ORLY', 'SANM', 'TCBK', 'AMRN', 'GGP', 'MSL', 'ATR', 'RCL', 'ANIK', 'CWEI', 'GABC', 'PERY', 'TWI', 'RGA', 'XTO', 'HR', 'AKR', 'RIG', 'SKT', 'USG', 'ALDA', 'ARGN', 'BBSI', 'BELM', 'DPTR', 'FLIR', 'CXPO', 'PZZA', 'USTR', 'SHLO', 'WAYN', 'CHKE', 'NSYS', 'ALL', 'LBY', 'SGMS', 'FDEF', 'GTCB', 'KTEC', 'PETM', 'SGY', 'PPS', 'CPT', 'ACTL', 'ATRM', 'FLL', 'WINA', 'INOD', 'LNY', 'MCRI', 'OXGN', 'TGIS', 'BWA', 'EQR', 'BFS', 'ARRS', 'CASH', 'UUU', 'DYII', 'FTEK', 'GMCR', 'MOV', 'PZZI', 'UTEK', 'GSS', 'UHS', 'CAL', 'CLP', 'TLF', 'BKS', 'BDC', 'ZLC', 'ATVI', 'DECK', 'IT', 'PTN', 'LNET', 'OMG', 'PRE', 'QCRH', 'RVSB', 'UBSH', 'BYD', 'LXP', 'UTMD', 'CBL', 'REG', 'NVR', 'NYNY', 'CNTY', 'ASCA', 'AF', 'ESYS', 'ATMI', 'HOLL', 'FFIN', 'FSNM', 'ITRI', 'FWRD', 'MACE', 'MATK', 'OSBC', 'PTEN', 'NYCB', 'ROCK', 'VSEC', 'SCHN', 'UFPI', 'JDSU', 'URBN', 'WMAR', 'WVFC', 'AEC', 'HHS', 'INCY', 'MHO', 'NFX', 'TLB', 'TRU', 'FBSI', 'HGSI', 'NADX', 'NAVR', 'OKSB', 'PLNR', 'PCC', 'PRKR', 'SHAW', 'SHOO', 'TQNT', 'UFPT', 'MED', 'ARWR', 'VLY', 'CYT', 'EMN', 'SPG', 'SUI', 'CACB', 'CGI', 'MLNK', 'VMI', 'SFN', 'TFCO', 'WRLS', 'HAIN', 'AGM', 'VALU', 'GRT', 'MAA', 'PLT', 'ALB', 'BZH', 'MLM', 'RYN', 'BPFH', 'DAKT', 'DSPG', 'ARTX', 'MINI', 'QLGC', 'SGMA', 'SNIC', 'TSCO', 'RGCO', 'EMMS', 'AKS', 'BCRX', 'BSMD', 'CBR', 'CPRT', 'FLEX', 'LARK', 'MPAA', 'NNBR', 'PHC', 'GPIC', 'RKT', 'SCSC', 'NEXS', 'ZEUS', 'AVB', 'MAC', 'PLD', 'ADC', 'EXP', 'AEO', 'BOOT', 'CELL', 'GDI', 'DARA', 'SMBC', 'VVUS', 'ABCB', 'DSCI', 'SYPR', 'NKTR', 'SSCC', 'JOSB', 'MERX', 'MMR', 'NPSP', 'PENN', 'PSSI', 'PULB', 'SSD', 'TGEN', 'CPD', 'AVCA', 'BTH', 'CGX', 'HMNF', 'IMAX', 'MBND', 'LJPC', 'AAI', 'KCP', 'ESS', 'FGP', 'FR', 'HIW', 'LRY', 'AIV', 'GBX', 'HME', 'FCH', 'EEE', 'MATW', 'RFMI', 'THRD', 'CLI', 'ADTN', 'AMED', 'CHDX', 'METR', 'EFOI', 'FFFD', 'MLR', 'PNBK', 'VLGEA', 'WAVX', 'RS', 'TGE', 'PONE', 'ARIA', 'SIRI', 'CPE', 'DAR', 'TIXC', 'MTSN', 'TESS', 'WVVI', 'AZPN', 'CARV', 'CETV', 'CVTI', 'DUCK', 'KNX', 'LION', 'SSYS', 'O', 'COF', 'MCK', 'UHAL', 'HDSN', 'SPPR', 'NWBI', 'ROYL', 'TBUS', 'VECO', 'MSN', 'ESI', 'APOL', 'CAFI', 'MCRL', 'MIND', 'SWC', 'USAP', 'FKFS', 'NSIT', 'RCII', 'SMIT', 'WEST', 'BRKS', 'INTL', 'ISSI', 'LSBI', 'STRT', 'ACIW', 'TRK', 'WDFC', 'FWV', 'HTCO', 'DLTR', 'MACC', 'NATI', 'COVR', 'APU', 'MDCA', 'PMI', 'TSH', 'ANAD', 'ABC', 'MBFI', 'CBIN', 'SKIL', 'GFED', 'HAUP', 'IBKC', 'JXSB', 'MALL', 'CONM', 'WAFD', 'CBZ', 'TAIT', 'CWCO', 'WSCI', 'HDNG', 'HLIT', 'ISNS', 'AWBC', 'WEX', 'BGP', 'DRI', 'SYX', 'HA', 'MFW', 'SSS', 'WAB', 'LECO', 'MMUS', 'DISH', 'WPP', 'FEIC', 'RMD', 'SBGI', 'SCKT', 'TXCC', 'FCX', 'WFR', 'ATEA', 'CAM', 'GVP', 'PHHM', 'WSTG', 'IVZ', 'AVX', 'HPT', 'GTI', 'WABC', 'AMIE', 'DSCO', 'CNLG', 'DIT', 'BREW', 'IART', 'DNR', 'KFRC', 'RWT', 'CNU', 'BTN', 'CITP', 'DIGA', 'AUBN', 'GSIG', 'CVO', 'ACGL', 'SENEA', 'SMSI', 'CRAY', 'THG', 'DO', 'RE', 'DVA', 'APAC', 'ERIE', 'LCRY', 'MYGN', 'PCYC', 'POOL', 'RICK', 'RSYS', 'CLRX', 'WLT', 'NMRX', 'CCF', 'ADAM', 'ADVS', 'AEIS', 'ASFI', 'ZANE', 'OPK', 'FCFC', 'FFIC', 'BANR', 'HSIC', 'IVAC', 'NTAP', 'NWPX', 'PRXL', 'SNDK', 'SSTI', 'VTNC', 'SAM', 'BKI', 'ESC', 'IMH', 'PRM', 'EL', 'LXK', 'MIG', 'SWM', 'WAT', 'CLB', 'ADEP', 'DIAL', 'CDTI', 'CTXS', 'EME', 'RDEN', 'IPXL', 'KNSY', 'LTRE', 'ACCL', 'SGU', 'ASTC', 'TLGD', 'NUAN', 'WSTL', 'XATA', 'ZRAN', 'BDR', 'HIG', 'MSM', 'NVAX', 'SCCO', 'BYFC', 'IDRA', 'LCAV', 'PPDI', 'PTIX', 'EE', 'REV', 'SPH', 'WSM', 'WL', 'ALXN', 'ANDE', 'ARTC', 'CMCO', 'CPTS', 'CSGS', 'SPDE', 'DGIT', 'IRM', 'IRIX', 'LNDC', 'LPTH', 'BAGL', 'OVBC', 'DST', 'GEF', 'BBX', 'CENX', 'HUBG', 'IDT', 'JDAS', 'ELNK', 'SGRP', 'PRGX', 'PGI', 'SUPG', 'PSS', 'CASA', 'CPWM', 'CRR', 'FFDF', 'FLDR', 'MTXX', 'TCX', 'JCTCF', 'KVHI', 'STRM', 'OCCF', 'PLCM', 'EPM', 'SAPE', 'SASR', 'DF', 'SYKE', 'YHOO', 'NDN', 'TUP', 'ARTNA', 'EXAC', 'FFBH', 'FCN', 'JAKK', 'MGAM', 'NBIX', 'ONXX', 'PFBI', 'PCBC', 'SONE', 'SRZ', 'TAXI', 'ULGX', 'FDS', 'WOR', 'IMN', 'AFFX', 'ANSS', 'BVSN', 'CCBP', 'ELGX', 'CNAF', 'CNBC', 'ENMD', 'FLML', 'FXEN', 'GWR', 'TBI', 'PROV', 'TIE', 'UNFY', 'FFG', 'RNR', 'CASS', 'GERN', 'HEB', 'OCFC', 'PEGA', 'STRA', 'STRC', 'VSNT', 'DCOM', 'GES', 'SGB', 'LVB', 'WG', 'AWRE', 'CSV', 'DDMX', 'ETFC', 'FPIC', 'IDSA', 'LAMR', 'BIOS', 'MVIS', 'PFED', 'PURE', 'SNBC', 'SRCL', 'SRSL', 'TACT', 'TTEC', 'CYMI', 'DDRX', 'FMFC', 'HOTT', 'SPPI', 'NMTI', 'PRLS', 'RSTI', 'EDGW', 'WLFC', 'ANF', 'OCN', 'USNA', 'RX', 'CRN', 'DVD', 'NOV', 'TGI', 'PAG', 'ARQL', 'PBIO', 'BITS', 'BKBK', 'CBST', 'BJRI', 'ZNT', 'HIBB', 'NCI', 'OPMR', 'ZION', 'TRUE', 'VOXW', 'TMRK', 'ZIGO', 'GEL', 'IM', 'NUS', 'SSP', 'DAVE', 'FORR', 'CWBC', 'ISCA', 'PLUS', 'SEAC', 'STLD', 'STNR', 'UNFI', 'VPHM', 'ATAC', 'DPW', 'FMAR', 'FUEL', 'CMKG', 'LAD', 'IGTE', 'SNAK', 'PWAV', 'RIVR', 'TESO', 'MWW', 'VSAT', 'WHRT', 'CVD', 'DEL', 'NCR', 'DGX', 'TEN', 'ROK', 'NSP', 'CMT', 'SCBT', 'KRC', 'UNTY', 'ETP', 'WWD', 'CERS', 'BPHX', 'CWTR', 'SNHY', 'EFJI', 'ASTM', 'CCBG', 'CIEN', 'EPIQ', 'OVRL', 'ERES', 'RADS', 'HGRD', 'SLGN', 'DTPI', 'CPBK', 'PTX', 'RAH', 'MTN', 'ALTI', 'AMTD', 'CTIC', 'EEFT', 'EMKR', 'LOGI', 'ROVI', 'WTFC', 'CBI', 'ALV', 'TNH', 'LNG', 'CVLY', 'SCLD', 'FBC', 'GIFI', 'GSLA', 'MEAD', 'FSBK', 'TTWO', 'ARE', 'APH', 'BGC', 'KNL', 'WNI', 'AMZN', 'BEXP', 'GLF', 'PBHC', 'RMBS', 'SRPT', 'INTT', 'KMG', 'PPBI', 'Q', 'RCRC', 'RFMD', 'SLP', 'TIBB', 'BXP', 'FIX', 'MMS', 'RL', 'SVLF', 'SRT', 'EGP', 'INXI', 'CLRT', 'DXPE', 'EGHT', 'HSKA', 'OZRK', 'BFLY', 'QGLY', 'SIRO', 'SYNM', 'TRBR', 'ONSM', 'CTV', 'BJ', 'CXW', 'JLL', 'AME', 'SLG', 'VLO', 'ACAS', 'AEHR', 'CRZO', 'GCOM', 'KNDL', 'LKFN', 'QADI', 'SYNT', 'HMNA', 'BHB', 'HILL', 'YUM', 'MTOR', 'RLRN', 'FARO', 'HRBR', 'PLCE', 'PSMT', 'PVSW', 'SIGA', 'STRZ', 'VCBI', 'NLY', 'CAC', 'CSU', 'DRQ', 'RHP', 'GPI', 'TUC', 'APFC', 'SRI', 'FDP', 'ACMR', 'ANNB', 'CHRW', 'CWST', 'IRET', 'TRAD', 'OSIS', 'PSEM', 'ROAC', 'INVE', 'GEVA', 'PWER', 'CHH', 'AMCC', 'BASI', 'CTHR', 'CTIB', 'GMTC', 'IBCA', 'NANX', 'OYOG', 'CDZI', 'PGNX', 'ECTE', 'RNWK', 'ARKR', 'YDNT', 'AMB', 'AMG', 'EPR', 'HYC', 'MTD', 'SAH', 'ADSK', 'INGR', 'DTG', 'MPB', 'RPI', 'URI', 'AMSG', 'CBKN', 'ENCO', 'DEPO', 'NICK', 'OMNI', 'POWI', 'TIER', 'CECO', 'CFFI', 'DENN', 'EVBS', 'HFWA', 'MRCY', 'MRGE', 'BBCN', 'RMTI', 'TSBK', 'VRSN', 'WSCC', 'ACY', 'WEL', 'WPC', 'MDS', 'RAS', 'BXS', 'PWR', 'SCS', 'SBBX', 'ASI', 'BDMS', 'HFBC', 'MBHI', 'NOOF', 'NUTR', 'PMACA', 'BARI', 'BRKL', 'COLM', 'CWLZ', 'IBOC', 'LDSH', 'NWFL', 'PCCC', 'SHPGY', 'SRDX', 'ANH', 'CIX', 'GRA', 'WAC', 'MAR', 'BBY', 'WDR', 'MFA', 'RLH', 'LHO', 'OME', 'SOFO', 'ADPI', 'BRCM', 'CBAN', 'PAET', 'CRAI', 'DEAR', 'FTBK', 'CSBC', 'GRIF', 'LVLT', 'MANH', 'FNFG', 'NOVB', 'SONO', 'UMPQ', 'EQY', 'HWK', 'LLL', 'SHS', 'HW', 'AMKR', 'AXTI', 'EVOL', 'INOC', 'JFBC', 'PDII', 'SBSI', 'WCN', 'FII', 'EEP', 'AMT', 'AWX', 'ENG', 'BMTC', 'HZO', 'SRE', 'BEBE', 'CMLS', 'COBZ', 'CTSH', 'AMTC', 'PEIX', 'GSIC', 'KG', 'LMIA', 'MIPS', 'SCHS', 'CASM', 'ULTI', 'WBCO', 'HAST', 'MSTR', 'EPD', 'RSG', 'USU', 'ACTU', 'ADGF', 'BCSB', 'BELFB', 'CEDC', 'CFNL', 'CITZ', 'ELON', 'PCO', 'RBCAA', 'CSGP', 'CVV', 'UCFC', 'HTBK', 'CVG', 'SAL', 'UBA', 'XL', 'ERI', 'DRIV', 'ECLP', 'PPCO', 'CCI', 'EBAY', 'BUSE', 'CCNE', 'SBP', 'LGF', 'PRSP', 'FNHC', 'WIBC', 'RFIL', 'SCSS', 'CNXT', 'ECBE', 'CNQR', 'MCBI', 'ONFC', 'PFCB', 'INSP', 'AXL', 'ARJ', 'ETM', 'HT', 'ALNC', 'CSNT', 'FCAP', 'FPFC', 'LACO', 'NVDA', 'PBNY', 'SMHG', 'DLM', 'GBL', 'KFY', 'MFI', 'CRBC', 'AMRI', 'COCO', 'EPAY', 'EWBC', 'EXBD', 'LIFE', 'MTEX', 'PRVT', 'PBG', 'KWK', 'ABTL', 'MKSI', 'PCLN', 'STST', 'VARI', 'VSEA', 'CNX', 'HGT', 'JEF', 'SFG', 'TREX', 'AETI', 'AMNB', 'DHIL', 'CFFN', 'EXTR', 'HSII', 'INFA', 'PLXT', 'TUES', 'GS', 'KT', 'WCC', 'ALOY', 'BRCD', 'NLS', 'EDGR', 'CBU', 'LPNT', 'TCP', 'TST', 'TWTC', 'RUBO', 'RAI', 'SKX', 'WSII', 'CYBS', 'DITC', 'FFIV', 'FISI', 'WEBM', 'JNPR', 'ORCC', 'MEET', 'UPIP', 'PTRY', 'SBAC', 'STMP', 'UBET', 'UTHR', 'ARBA', 'BSRR', 'IDSY', 'PVTB', 'HBC', 'LII', 'BERK', 'QTM', 'ATCO', 'HK', 'COST', 'BMRN', 'EGOV', 'FNLC', 'GCBC', 'HCBK', 'INSW', 'JCOM', 'ECPG', 'MDRX', 'PRFT', 'SCIL', 'TIBX', 'ARTG', 'DSCM', 'MBWM', 'SALM', 'KCG', 'BBI', 'DVN', 'FCS', 'LAB', 'NST', 'DTLK', 'FLWS', 'ICGE', 'LIOX', 'LOOK', 'NOVA', 'NTCT', 'QSFT', 'QUOT', 'RHT', 'ARLP', 'MCZ', 'OMN', 'EGAN', 'INAP', 'KEYN', 'TIVO', 'VTIV', 'UNTD', 'ININ', 'BLK', 'CIR', 'CIZN', 'MSO', 'SNH', 'PTV', 'AKAM', 'ATGN', 'BSQR', 'CRDS', 'EGBN', 'GAIA', 'NAVI', 'PLUG', 'ROME', 'SBSA', 'SCMR', 'SIMG', 'WWE', 'PCTI', 'QUIK', 'ALSK', 'BCSI', 'CLCT', 'FNSR', 'IMMR', 'EXE', 'OPTV', 'RMKR', 'RTEC', 'SMMX', 'SNWL', 'TMNG', 'DW', 'KTOS', 'A', 'IDN', 'TDY', 'UPS', 'HTRN', 'TGC', 'BMRC', 'CALP', 'BGCP', 'FBSS', 'CHSI', 'HPOL', 'XOXO', 'GKNT', 'MAXY', 'MCBC', 'NKSH', 'NTWK', 'PFSW', 'EDAC', 'MFSF', 'APL', 'RDI', 'IPT', 'PKG', 'RGCI', 'AGEN', 'ANPI', 'BBGI', 'VRNM', 'MATR', 'EONC', 'ISIL', 'LBAI', 'MCCC', 'SQNM', 'SVVS', 'CHRD', 'LNBB', 'EW', 'EMAN', 'ENR', 'EXAR', 'EXPD', 'IIIN', 'ALTH', 'ASIA', 'IKNX', 'GTIV', 'ITMN', 'LMNX', 'ONVI', 'PALM', 'SLAB', 'SLTC', 'STSI', 'UTSI', 'WBSN', 'APT', 'NWD', 'LTS', 'MET', 'GBCI', 'HANS', 'RPTP', 'CCMP', 'EXEL', 'HSTM', 'KKD', 'LPSN', 'NEXM', 'ONNN', 'OPOF', 'SABA', 'SGMO', 'FULT', 'ULCM', 'VDSI', 'VCLK', 'CLSN', 'CRWN', 'GNBT', 'ORCH', 'PFBX', 'PHMD', 'PXLW', 'OTIX', 'SONS', 'BHLB', 'CRL', 'CYH', 'DLA', 'MVC', 'JNS', 'VC', 'CPHD', 'CPST', 'DNDN', 'PACW', 'INSM', 'ISRG', 'IGOI', 'MRVL', 'PCBK', 'PMBC', 'QBAK', 'ROIAK', 'NNN', 'NTRI', 'USBI', 'ACLS', 'ARNA', 'INFI', 'ENDP', 'ENTG', 'ILMN', 'KERX', 'NENG', 'OVTI', 'PTIE', 'SMTX', 'SOHU', 'SPRT', 'VASC', 'MSII', 'EVC', 'ACPW', 'AMMD', 'BRKR', 'CPKI', 'CRIS', 'DYAX', 'ISPH', 'ISSC', 'ISTA', 'LTRX', 'MDCO', 'OPNT', 'PIII', 'RTIX', 'SPTN', 'TELK', 'TSYS', 'TUNE', 'VIRL', 'VITA', 'DNB', 'PNS', 'POL', 'GB', 'VRML', 'DRRX', 'MBRG', 'STEC', 'TTMI', 'VTAL', 'COH', 'JKHY', 'MON', 'AMRB', 'ENWV', 'OPLK', 'POZN', 'SHEN', 'UTK', 'XXIA', 'ICAD', 'ADLR', 'AFOP', 'ARRY', 'BCON', 'BKMU', 'HTCH', 'CWBS', 'ESLR', 'GORX', 'UNTK', 'NVTL', 'RIGL', 'SLXP', 'UTIW', 'EPL', 'PGC', 'ACAP', 'GNVC', 'GRMN', 'HBIO', 'RECN', 'AET', 'LIME', 'FLR', 'YORW', 'ALGN', 'EXAS', 'HAFC', 'BLUD', 'PEET', 'ENT', 'EQU', 'MCF', 'GPN', 'UPL', 'ICH', 'MPX', 'OIS', 'MMP', 'ATRS', 'ATPG', 'CSFL', 'IBCP', 'FLO', 'ERB', 'FCBC', 'GMXR', 'SGEN', 'UBOH', 'NS', 'DGICA', 'FCZA', 'SHBI', 'FSCI', 'MROE', 'UBFO', 'GLPW', 'KMR', 'BTU', 'GEN', 'RVP', 'ADS', 'FIS', 'FTI', 'MDLZ', 'PNX', 'COL', 'WSH', 'GMR', 'GLBZ', 'MOSY', 'REVU', 'TASR', 'BABY', 'EVBN', 'MDTH', 'PDFS', 'WMGI', 'AIQ', 'KFS', 'ZMH', 'ACN', 'FALC', 'FBMI', 'GCFB', 'GLAD', 'JOYG', 'ALTE', 'MFNC', 'OMCL', 'BG', 'PLPC', 'SURW', 'TOFC', 'CCRN', 'CHFN', 'DCTH', 'ODSY', 'WLP', 'PVR', 'PFG', 'ABCO', 'AGP', 'KND', 'LAVA', 'MCGC', 'PWOD', 'WOOF', 'AHS', 'AYI', 'AAP', 'AQQ', 'HBE', 'ALR', 'WTW', 'FVE', 'PRU', 'WFD', 'ABVA', 'CCBD', 'CNC', 'FCCY', 'LWSN', 'SCMF', 'UNB', 'SSI', 'SYNA', 'CCOI', 'GME', 'SXL', 'MANT', 'ZGEN', 'TCI', 'EPAX', 'UCBI', 'ABG', 'CQB', 'DDE', 'KEI', 'JBLU', 'XJT', 'LCI', 'CKEC', 'CPSI', 'NFLX', 'OSTK', 'PNFP', 'VRNT', 'ARO', 'NPO', 'TVL', 'MWE', 'RGC', 'SRX', 'SNT', 'BGFV', 'HOFT', 'PACR', 'SVBI', 'WTBA', 'HEW', 'NBBC', 'WHG', 'BDSI', 'CVGW', 'KIRK', 'QTWW', 'RRGB', 'LYTS', 'CAE', 'LF', 'BANC', 'MCBF', 'PSYS', 'ARB', 'GPRO', 'KMX', 'XEC', 'CLFC', 'CMCSA', 'GRNB', 'JAXB', 'TAYC', 'WYNN', 'DKS', 'EEQ', 'NGS', 'NRP', 'NCT', 'OFI', 'MRH', 'PTP', 'COSI', 'MMLP', 'OTIV', 'CEVA', 'PKBK', 'PRAA', 'SAFT', 'VBFC', 'SOMH', 'FSI', 'SWHC', 'ANGN', 'ACTG', 'BOFL', 'CLBH', 'EQIX', 'OLCB', 'XTEX', 'CME', 'PXP', 'STX', 'BBNK', 'FCCO', 'VMED', 'BHS', 'LGN', 'PFS', 'NVEC', 'LOJN', 'ACTI', 'IPCC', 'NIHD', 'ENH', 'DMLP', 'HSON', 'MPAC', 'WBNK', 'IAX', 'IPSU', 'ARD', 'CUK', 'HTLF', 'MBTF', 'CJBK', 'OPHC', 'FORM', 'HSWI', 'SHLD', 'NBTF', 'ATC', 'MPG', 'MSPD', 'MOH', 'AXS', 'MPET', 'CVCO', 'DTSI', 'IPAS', 'JFBI', 'MNRK', 'NTGR', 'PRWT', 'BRD', 'AHT', 'CSE', 'GPK', 'MHS', 'RAE', 'ATBC', 'BNCN', 'GOOD', 'PRSC', 'STBK', 'TCBI', 'UVSP', 'FCFL', 'CNO', 'JRN', 'NFP', 'MXC', 'PAA', 'MITI', 'LKQ', 'CRI', 'FMD', 'FPO', 'TIV', 'LPHI', 'CIDM', 'BVX', 'JAS', 'OMEX', 'SNX', 'WLL', 'BWLD', 'CALD', 'CONN', 'MRLN', 'MGRC', 'NXST', 'PNCL', 'QLTY', 'TICC', 'TSRA', 'XPRT', 'ZHNE', 'KNOL', 'MIGP', 'MSHL', 'OLBK', 'TZOO', 'INDM', 'GBLI', 'AEL', 'CKX', 'CMP', 'DTV', 'HYTM', 'KRO', 'NNI', 'NG', 'PJC', 'TPX', 'UTI', 'AHL', 'KSP', 'BKOR', 'CHEV', 'GLBC', 'MGLN', 'PETS', 'PRPX', 'XTXI', 'AACC', 'ATHR', 'BKRS', 'DIET', 'DVAX', 'GTXI', 'HTH', 'AIZ', 'KCI', 'TRW', 'TIK', 'GIW', 'LSE', 'HOS', 'MGN', 'NRG', 'IFMI', 'TNS', 'ANDS', 'CSBK', 'CUTR', 'CVCY', 'DDIC', 'DSTI', 'KFED', 'SMPL', 'MBVT', 'MCHX', 'SBRA', 'UCTT', 'CYCC', 'ZILG', 'ANX', 'ABR', 'HSP', 'AGO', 'AINV', 'CORT', 'CYTK', 'INTX', 'NAL', 'SMTB', 'GNW', 'GGR', 'GHL', 'XPO', 'ACAD', 'ALNY', 'ANGO', 'ATLS', 'CRTX', 'NILE', 'NUVA', 'RJET', 'STAN', 'XIDE', 'CBG', 'CAB', 'END', 'IRC', 'JTX', 'LTM', 'MGI', 'NYMT', 'CRM', 'SSE', 'BEE', 'BBBB', 'BOCH', 'DRAD', 'MFLX', 'MNTA', 'SNMX', 'WCAA', 'INHX', 'DPZ', 'ENS', 'GKK', 'HEP', 'WCG', 'AFFM', 'ANCX', 'AUXL', 'BLKB', 'BUCY', 'IDIX', 'MNKD', 'MSSR', 'NETL', 'NURO', 'PFWD', 'PSEC', 'QCCO', 'XBKS', 'VLTR', 'ACC', 'BMR', 'CNS', 'EXR', 'KRG', 'WLK', 'CAAS', 'CVGI', 'GOOG', 'RNOW', 'STXS', 'NEN', 'SOCB', 'SNTS', 'ALY', 'PRS', 'DYN', 'BECN', 'OCLR', 'COGT', 'SFST', 'HEOP', 'NSTC', 'STON', 'BBW', 'DLR', 'DWA', 'NANO', 'ANSW', 'MOS', 'NWY', 'NRF', 'SHO', 'CUBE', 'ACFC', 'ADES', 'ARCC', 'CLMS', 'HURN', 'LOCM', 'NVSL', 'PSBH', 'SIFI', 'THRX', 'TPGI', 'TWGP', 'TXRH', 'HALO', 'IWA', 'NLC', 'NP', 'NWS', 'ORA', 'CPNO', 'MKTX', 'MPWR', 'NGPC', 'USMO', 'ZIPR', 'ABBC', 'ARBX', 'ATLO', 'BCAR', 'CHCI', 'CSCD', 'HOME', 'ORNG', 'OSHC', 'TEAR', 'TBBK', 'WOLF', 'WRES', 'AEA', 'BBG', 'BXC', 'IBI', 'LVS', 'MDH', 'MIC', 'NLP', 'SMA', 'HLF', 'CE', 'EDR', 'PHH', 'WTI', 'CZNC', 'DLLR', 'GFIG', 'NE', 'JRCC', 'COOL', 'NATL', 'OXPS', 'PSDV', 'SMMF', 'ARC', 'DLB', 'HUN', 'MBR', 'NASB', 'PBH', 'SVR', 'MNTX', 'CSHB', 'EBTC', 'EFSC', 'ICGN', 'KRNY', 'NDAQ', 'THLD', 'UACL', 'NOVL', 'GGN', 'MEA', 'RGN', 'BOFI', 'CMFB', 'KFFB', 'PBIP', 'RCNI', 'WPCS', 'ACW', 'PAY', 'BFSB', 'DXCM', 'FFCO', 'NCOC', 'RAIL', 'CFW', 'JVA', 'DRH', 'DNE', 'HDY', 'PZZ', 'TRX', 'TSTC', 'TLP', 'WMG', 'XRM', 'LAZ', 'OPTC', 'CTRN', 'MORN', 'PLBC', 'RCKB', 'ZUMZ', 'ATSG', 'BFIN', 'BLDR', 'COBK', 'EGLE', 'EVVV', 'GAIN', 'HBOS', 'HTGC', 'KNXA', 'LEAP', 'LHCG', 'LINC', 'MEND', 'NRGP', 'PEDH', 'TBSI', 'VLCM', 'XNPT', 'DSW', 'FSP', 'OSK', 'KFN', 'NSR', 'THS', 'WAL', 'XFN', 'ALJ', 'AOB', 'FTK', 'ITC', 'MFB', 'MPW', 'TIS', 'JMBA', 'CNSL', 'DISCA', 'DMND', 'EXPE', 'HITT', 'PSBC', 'SWSI', 'UBNK', 'CF', 'DRC', 'EPE', 'RMX', 'FRZ', 'ROC', 'STN', 'WPZ', 'AATI', 'ATRC', 'BRNC', 'FSGI', 'HOKU', 'KONA', 'MWIV', 'OFLX', 'ROLL', 'RUTH', 'TRLG', 'UEPS', 'UNCA', 'AMP', 'GCA', 'GLP', 'HRZ', 'LCC', 'CBOU', 'CSCX', 'GHDX', 'IKAN', 'TLEO', 'TRXI', 'VPRT', 'WBMD', 'BXG', 'CSA', 'PIP', 'TAL', 'UPI', 'ACLI', 'GBNK', 'FBIZ', 'HERO', 'ISBC', 'LEGC', 'MELA', 'NCIT', 'NXTM', 'PTEK', 'TRMA', 'WSBF', 'AMSF', 'CBEY', 'ZLCS', 'DOVR', 'FNSC', 'IRBT', 'JSDA', 'SPWR', 'UDRL', 'CALL', 'PEBK', 'WWWW', 'BWP', 'BKD', 'CCO', 'IHS', 'ICE', 'ICO', 'DLIA', 'BCBP', 'CORE', 'CRMH', 'CYNO', 'CYTX', 'LORL', 'NEBS', 'SOMX', 'TRAK', 'VOCS', 'BAS', 'LYV', 'DPM', 'EMS', 'FXE', 'PTI', 'VIA', 'CXG', 'CMG', 'GST', 'WNR', 'ARII', 'CLMT', 'HEES', 'LINE', 'MGYR', 'RGP', 'ACOR', 'CRDC', 'CROX', 'ORCD', 'LQDT', 'MHGC', 'NHWK', 'NTLS', 'ROSE', 'TWPG', 'UAL', 'XCO', 'ETE', 'HS', 'KOP', 'ME', 'MRT', 'RSO', 'SMOD', 'GPOR', 'APP', 'MDVN', 'NYX', 'THI', 'TDG', 'ALXA', 'AMTY', 'GNET', 'GPRE', 'UCBA', 'CPII', 'LSBK', 'TRGT', 'VNDA', 'VYFC', 'ROX', 'CPX', 'GLA', 'IGC', 'POR', 'ZZ', 'HOT', 'USO', 'BKC', 'DK', 'DCP', 'MA', 'MWA', 'VG', 'AHGP', 'BAYN', 'BMTI', 'CBAK', 'CHTP', 'CODI', 'FBMS', 'LINTA', 'TSPT', 'PNSN', 'VRTB', 'VSCP', 'GROW', 'GFN', 'JCG', 'KOG', 'ATEC', 'CLUB', 'CTCM', 'EIHI', 'GOLF', 'HIL', 'HOMB', 'HWCC', 'LOOP', 'LUNA', 'NCBC', 'PGTI', 'PRXI', 'CSII', 'SNCR', 'SXCI', 'TWLL', 'VOLC', 'VRGY', 'VRTA', 'HUSA', 'SDS', 'NSH', 'WIN', 'WYN', 'AWH', 'CBLI', 'CBNK', 'FCLF', 'GMET', 'KALU', 'LBCP', 'NECB', 'NFSB', 'ROMA', 'ENA', 'EVR', 'HBI', 'GMO', 'MHR', 'XPL', 'URZ', 'AYR', 'ASTI', 'BJGP', 'HMPR', 'INWK', 'OSIR', 'BCF', 'KED', 'WU', 'BARE', 'CVLT', 'DIVX', 'GEOY', 'ICFI', 'OPXA', 'PBIB', 'RVBD', 'SFLY', 'WCRX', 'EVEP', 'ACHN', 'APKT', 'BBEP', 'CADX', 'EHTH', 'EROC', 'EXLS', 'FXCB', 'LMAT', 'SUSS', 'TDBK', 'TRBN', 'EXLP', 'VPFG', 'AWI', 'ALC', 'DEI', 'ESA', 'FMR', 'OC', 'ROST', 'EBS', 'HTZ', 'KBW', 'KBR', 'SPR', 'VQ', 'AFSI', 'CPLA', 'CPRX', 'CZFC', 'CZWI', 'FACE', 'FSLR', 'GSAT', 'HNSN', 'IPHS', 'MBLX', 'NLST', 'ORBC', 'RNIN', 'SONA', 'SLTM', 'WLDN', 'ADK', 'DVR', 'DCT', 'SE', 'UPG', 'AFFY', 'AIMC', 'ALGT', 'CPSL', 'DBTK', 'GLDD', 'GUID', 'HLYS', 'IPGP', 'ISLN', 'KCAP', 'MNOV', 'NEWS', 'OMPI', 'TAST', 'SBH', 'DEP', 'EIG', 'GLG', 'HF', 'MVO', 'TA', 'ZN', 'AHII', 'ALLB', 'AVAV', 'FRPT', 'HBNK', 'HRBN', 'LGCY', 'MSBF', 'OCLS', 'ORIT', 'OSBK', 'WAVE', 'FIG', 'GPR', 'III', 'ARAY', 'PSID', 'ESGR', 'MIPI', 'MLNX', 'NCMI', 'NGLS', 'OPTR', 'OPXT', 'PRTS', 'SDXC', 'SLRY', 'SNTA', 'TCAP', 'AVNW', 'ADY', 'CEP', 'BR', 'CQP', 'UFS', 'SFNC', 'GNV', 'TWC', 'FSR', 'ARUN', 'BBND', 'CCIX', 'CLWR', 'COIN', 'FCAL', 'FIRE', 'GLUU', 'GSIT', 'RLOG', 'SENO', 'SMCI', 'SSFN', 'SUMR', 'USAT', 'VSBN', 'CNK', 'DAL', 'UNG', 'ARCW', 'CMSB', 'COMV', 'ESSA', 'OPTT', 'OREX', 'PNNT', 'TFSL', 'DLGC', 'VRUS', 'ACM', 'ANV', 'CAP', 'CLR', 'HQS', 'JMP', 'RRR', 'SKH', 'SLH', 'TRS', 'BIOD', 'CAVM', 'CLNE', 'ENOC', 'FOLD', 'GLRE', 'HLCS', 'IBKR', 'NGSX', 'PINN', 'PODD', 'TTGT', 'TOMO', 'TWER', 'AUTH', 'BIOF', 'BLIN', 'FBRC', 'FCVA', 'INFN', 'JAZZ', 'LLNW', 'TSTR', 'RGDX', 'SCOR', 'BZ', 'BX', 'BWY', 'DFS', 'AEN', 'PPO', 'PRO', 'SEP', 'VTG', 'ZBB', 'COV', 'TEL', 'INB', 'DHX', 'HGG', 'NZ', 'OWW', 'PMC', 'LOV', 'WBC', 'MF', 'VR', 'AIRV', 'BNCL', 'EBTX', 'LABC', 'LULU', 'REXX', 'BKEP', 'SHOR', 'TYPE', 'VOLT', 'AMIN', 'DMAN', 'EXXI', 'FEED', 'MASI', 'MELI', 'PTSX', 'SCMP', 'VRTU', 'ZINC', 'CXO', 'DM', 'EXH', 'THM', 'CUR', 'PZG', 'CMLP', 'IVA', 'VMW', 'G', 'CAEI', 'DUF', 'ENP', 'TDC', 'UEC', 'ATHN', 'IFLG', 'BFED', 'CAST', 'CTCT', 'FFNW', 'FGXI', 'GXDX', 'LPSB', 'MAIN', 'MAPP', 'THMD', 'SAAS', 'ULTA', 'ABAT', 'CVI', 'CML', 'DFT', 'NBY', 'PCX', 'PZN', 'VNR', 'ZEP', 'ABII', 'CIM', 'EPB', 'ES', 'HEK', 'TRCI', 'LL', 'MSCI', 'OZM', 'SD', 'TC', 'APEI', 'AREX', 'ARYX', 'BFRM', 'ENSG', 'ETRM', 'ICXT', 'INET', 'NFBK', 'NSPH', 'PROJ', 'RBCN', 'SDBT', 'SFSF', 'SYMX', 'TNDM', 'IQNT', 'VRAD', 'CATM', 'ENTR', 'MDAS', 'MEMS', 'OESX', 'ORN', 'PSTI', 'SATS', 'TITN', 'ARR', 'WLBC', 'GIA', 'IDI', 'LRN', 'LIA', 'N', 'KW', 'SOA', 'GTS', 'USL', 'DGLY', 'DNBK', 'EBSB', 'IPCM', 'AHC', 'CPN', 'SHZ', 'GCC', 'GRH', 'MDW', 'RMG', 'SSN', 'WMZ', 'ARST', 'CBNJ', 'LIVE', 'MAKO', 'DAN', 'LEI', 'UGA', 'FU', 'TRT', 'BEAT', 'HCCI', 'KNDI', 'MOFG', 'RXII', 'GALE', 'IRDM', 'HI', 'PM', 'TLL', 'V', 'AWK', 'BPW', 'DPS', 'GTE', 'HTS', 'IPI', 'NX', 'HTM', 'UHN', 'FDML', 'WHX', 'EAG', 'CSKI', 'CFX', 'UNH', 'PSE', 'RNN', 'VRS', 'WES', 'AGNC', 'CHLN', 'CNIT', 'MHLD', 'MLVF', 'RSOL', 'SINO', 'UMH', 'BKJ', 'FSC', 'HPJ', 'LPS', 'SNI', 'BDGE', 'CPEX', 'RHIE', 'JBT', 'PED', 'URG', 'CRA', 'CTFO', 'ERII', 'SNEN', 'GTAT', 'WUHN', 'RAX', 'HSNI', 'IILG', 'TKTM', 'TREE', 'ASCMA', 'GRMH', 'HCI', 'MYRG', 'MHH', 'CFL', 'TPI', 'CHBT', 'ASRV', 'DMRC', 'FSFG', 'HBCP', 'BKYF', 'LOPE', 'CLW', 'FACT', 'FCTY', 'VRTS', 'DNBF', 'VIDE', 'HEAT', 'OVLY', 'PRB', 'MJN', 'SVM', 'SAPX', 'NIV', 'BPI', 'RST', 'ORRF', 'TOBC', 'XWES', 'ABVT', 'DGI', 'SWI', 'UTA', 'OPEN', 'SMED', 'MDSO', 'MYRX', 'NEP', 'CYS', 'GOV', 'IVR', 'UPRO', 'CEU', 'PMT', 'ASPS', 'DEER', 'GSM', 'LOGM', 'TBNK', 'CFN', 'CMFO', 'CNGL', 'EM', 'SIHI', 'STWD', 'FBR', 'AVGO', 'CPIX', 'CRTP', 'HAWK', 'ALN', 'ARI', 'ART', 'CLNY', 'CXS', 'PUDA', 'REN', 'SEM', 'DNO', 'AONE', 'CAGC', 'HVB', 'LIWA', 'VITC', 'YONG', 'ZSTN', 'ADGE', 'AV', 'DOLE', 'CPI', 'MG', 'SPU', 'TWO', 'VSI', 'ADUS', 'AGAM', 'ECHO', 'EDMC', 'FCEC', 'LTBR', 'OMER', 'PMIC', 'TLCR', 'VRSK', 'YUII', 'AOL', 'CLD', 'DG', 'DYP', 'H', 'LEA', 'STRI', 'UNL', 'ACOM', 'ARCL', 'CADC', 'COWN', 'CVVT', 'CXDC', 'EMCF', 'FTNT', 'GTEC', 'ICLK', 'RUE', 'ZAGG', 'CIT', 'CIE', 'ESV', 'KAR', 'KRA', 'PEB', 'PPC', 'TMH', 'TAT', 'ABCD', 'CBPO', 'SPMD', 'WWAY', 'CLU', 'CHSP', 'CHC', 'SYA', 'TW', 'AFCB', 'AMCF', 'CELM', 'ESSX', 'MSG', 'OABC', 'OBAF', 'OXBT', 'CNAM', 'DEXO', 'GNRC', 'GRM', 'PDM', 'TRNO', 'IRWD', 'LLEN', 'QNST', 'SLRC', 'UNIS', 'VIAS', 'CALX', 'CHGS', 'CNET', 'MXL', 'PBTH', 'SPB', 'ST', 'BALT', 'ANTH', 'AVEO', 'CREG', 'FIBK', 'FNGN', 'MERU', 'PSTR', 'SSNC', 'CLDT', 'EXL', 'GGS', 'MUSA', 'PNG', 'PRI', 'ALIM', 'AOSL', 'BSPM', 'CDXS', 'CERP', 'CJJD', 'CNST', 'CNVO', 'DVOX', 'GBDC', 'GPRC', 'OCZ', 'SPSC', 'TCRD', 'TNGN', 'EBMT', 'AH', 'CRMD', 'PLOW', 'EXPR', 'NKA', 'NOR', 'RRTS', 'CODE', 'FURX', 'GNMK', 'JNGW', 'LMNR', 'MILL', 'NAUH', 'RLOC', 'TNAV', 'TPCG', 'CIL', 'ONE', 'HPP', 'OAS', 'QEP', 'BNO', 'VPG', 'FN', 'BSFT', 'CBOE', 'CYDE', 'MOTR', 'SANW', 'TSLA'])"
      ]
     },
     "execution_count": 60,
     "metadata": {},
     "output_type": "execute_result"
    }
   ],
   "source": [
    "header_stock_data = (('TICKER', 'text'), ('DATE', 'date'),\n",
    "                    ('ASK', 'float'), ('SHROUT', 'integer'))\n",
    "postgres.stock_data_to_postgres(connector, stock_data, header_stock_data)"
   ]
  },
  {
   "cell_type": "code",
   "execution_count": 13,
   "metadata": {},
   "outputs": [],
   "source": [
    "path = os.path.join(home, 'Desktop/Insight project/Database/stock_data_filtered.csv')"
   ]
  },
  {
   "cell_type": "code",
   "execution_count": 14,
   "metadata": {},
   "outputs": [],
   "source": [
    "header = ['IDX', 'TICKER', 'TIMESTAMP', 'ASK', 'MARKET_CAP']"
   ]
  },
  {
   "cell_type": "code",
   "execution_count": 15,
   "metadata": {
    "scrolled": true
   },
   "outputs": [
    {
     "name": "stderr",
     "output_type": "stream",
     "text": [
      "100%|██████████| 5178/5178 [00:07<00:00, 660.67it/s]\n"
     ]
    }
   ],
   "source": [
    "with open(path, 'w') as f:\n",
    "    out = csv.writer(f, delimiter=';')\n",
    "    out.writerow(header)\n",
    "    idx = 0\n",
    "    for ticker in tqdm(stock_data):\n",
    "        for ts in stock_data[ticker]:\n",
    "            #print(ts)\n",
    "            out.writerow([idx, ticker, ts, stock_data[ticker][ts][0], stock_data[ticker][ts][1]])\n",
    "            idx += 1"
   ]
  },
  {
   "cell_type": "code",
   "execution_count": 16,
   "metadata": {},
   "outputs": [
    {
     "name": "stdout",
     "output_type": "stream",
     "text": [
      "4668\n",
      "[INFO] Intersected lookup & stock data.\n",
      "lookup: 4,791 tickers | stock_data: 4,668 tickers\n"
     ]
    }
   ],
   "source": [
    "lookup, stock_data = pre_processing.intersection_lookup_stock(lookup, stock_data)\n",
    "print(\"[INFO] Intersected lookup & stock data.\")\n",
    "print(\"lookup: {:,} tickers | stock_data: {:,} tickers\"\n",
    "      .format(len(lookup.values()), len(stock_data)))"
   ]
  },
  {
   "cell_type": "markdown",
   "metadata": {},
   "source": [
    "### Load stock indexes - will serve as benchmark later on"
   ]
  },
  {
   "cell_type": "code",
   "execution_count": 17,
   "metadata": {},
   "outputs": [
    {
     "name": "stdout",
     "output_type": "stream",
     "text": [
      "[INFO] Loaded the following index data: ['IXIC', 'SPX', 'DJI', 'RUT']\n"
     ]
    }
   ],
   "source": [
    "index_data = pre_processing.load_index_data(s)\n",
    "print(\"[INFO] Loaded the following index data:\", list(index_data.keys()))"
   ]
  },
  {
   "cell_type": "code",
   "execution_count": 21,
   "metadata": {},
   "outputs": [
    {
     "name": "stderr",
     "output_type": "stream",
     "text": [
      "\r",
      "  0%|          | 0/4 [00:00<?, ?it/s]"
     ]
    },
    {
     "name": "stdout",
     "output_type": "stream",
     "text": [
      "[INFO] Deleted table index_data\n",
      "[INFO] Creating the following table:\n",
      "CREATE TABLE index_data(IDX integer PRIMARY KEY,DATE date,ASK float)\n"
     ]
    },
    {
     "name": "stderr",
     "output_type": "stream",
     "text": [
      "100%|██████████| 4/4 [00:38<00:00,  9.47s/it]\n"
     ]
    }
   ],
   "source": [
    "header_index_data = (('DATE', 'date'), ('ASK', 'float'))\n",
    "postgres.index_data_to_postgres(connector, index_data, header_index_data)"
   ]
  },
  {
   "cell_type": "markdown",
   "metadata": {},
   "source": [
    "## Back propagate these intersection all the way to cik_path"
   ]
  },
  {
   "cell_type": "markdown",
   "metadata": {},
   "source": [
    "Technically, we have just done it for lookup. So we only need to re-run an intersection for lookup and sec."
   ]
  },
  {
   "cell_type": "code",
   "execution_count": 22,
   "metadata": {},
   "outputs": [
    {
     "name": "stdout",
     "output_type": "stream",
     "text": [
      "[INFO] Intersected SEC & lookup.\n",
      "cik_path: 4,791 CIK | lookup: 4,791 CIK\n"
     ]
    }
   ],
   "source": [
    "cik_path, lookup = pre_processing.intersection_sec_lookup(cik_path, lookup)\n",
    "print(\"[INFO] Intersected SEC & lookup.\")\n",
    "print(\"cik_path: {:,} CIK | lookup: {:,} CIK\"\n",
    "      .format(len(cik_path), len(lookup)))"
   ]
  },
  {
   "cell_type": "markdown",
   "metadata": {},
   "source": [
    "## Sanity check"
   ]
  },
  {
   "cell_type": "markdown",
   "metadata": {},
   "source": [
    "At this point, cik_path and lookup should have the same number of keys as the CIK is unique in the path database.\n",
    "\n",
    "However, multiple CIK can redirect to the same ticker if the company changed its ticker over time. That should be a very limited amount of cases though."
   ]
  },
  {
   "cell_type": "code",
   "execution_count": 23,
   "metadata": {},
   "outputs": [],
   "source": [
    "assert cik_path.keys() == lookup.keys()\n",
    "assert len(set(lookup.values())) == len(set(stock_data.keys()))"
   ]
  },
  {
   "cell_type": "markdown",
   "metadata": {},
   "source": [
    "At that point, we have a {CIK: ticker} for which the stock is known, which will enable comparison and all down the road."
   ]
  },
  {
   "cell_type": "markdown",
   "metadata": {},
   "source": [
    "## Review all CIKs: make sure there is only one submission per quarter"
   ]
  },
  {
   "cell_type": "markdown",
   "metadata": {},
   "source": [
    "In this section, the goal is to build a list of CIK that will successfully be parsed for the time_range considered.\n",
    "It should be trivial for a vast majority of the CIK, but ideally there should be only one document per quarter for each CIK from the moment they are listed to the moment they are delisted."
   ]
  },
  {
   "cell_type": "code",
   "execution_count": 24,
   "metadata": {
    "scrolled": true
   },
   "outputs": [
    {
     "name": "stderr",
     "output_type": "stream",
     "text": [
      "100%|██████████| 4791/4791 [00:00<00:00, 10081.72it/s]\n"
     ]
    },
    {
     "name": "stdout",
     "output_type": "stream",
     "text": [
      "\n",
      "[INFO] 1387 CIKs caused trouble\n",
      "[INFO] Removed all the CIK that did not have one report per quarter.\n",
      "cik_dict: 3,404 CIK\n"
     ]
    }
   ],
   "source": [
    "# Create the list of quarters to consider\n",
    "cik_path = pre_processing.review_cik_publications(cik_path, s)\n",
    "print(\"[INFO] Removed all the CIK that did not have one report per quarter.\")\n",
    "print(\"cik_dict: {:,} CIK\".format(len(cik_path)))"
   ]
  },
  {
   "cell_type": "code",
   "execution_count": 25,
   "metadata": {},
   "outputs": [
    {
     "name": "stdout",
     "output_type": "stream",
     "text": [
      "[INFO] We are left with 3,404 CIKs that meet our requirements:\n",
      "- The ticker can be looked up in the CIK/ticker tabke\n",
      "- The stock data is available for that ticker\n",
      "- There is one and only one report per quarter\n"
     ]
    }
   ],
   "source": [
    "print(\"[INFO] We are left with {:,} CIKs that meet our requirements:\".format(len(cik_path)))\n",
    "print(\"- The ticker can be looked up in the CIK/ticker tabke\")\n",
    "print(\"- The stock data is available for that ticker\")\n",
    "print(\"- There is one and only one report per quarter\")"
   ]
  },
  {
   "cell_type": "markdown",
   "metadata": {},
   "source": [
    "## Dump all the data to postgres\n",
    "This is done so that the Flask webapp can retrieve the settings that were used at a later time."
   ]
  },
  {
   "cell_type": "markdown",
   "metadata": {},
   "source": [
    "postgres.settings_to_postgres(connector, s)"
   ]
  },
  {
   "cell_type": "markdown",
   "metadata": {},
   "source": [
    "header_lookup = (('CIK', 'integer'), ('TICKER', 'text'))\n",
    "postgres.lookup_to_postgres(connector, lookup, header_lookup)"
   ]
  },
  {
   "cell_type": "code",
   "execution_count": 65,
   "metadata": {},
   "outputs": [
    {
     "name": "stdout",
     "output_type": "stream",
     "text": [
      "[INFO] Deleted table stock_data\n",
      "[INFO] Creating the following table:\n",
      "CREATE TABLE stock_data(IDX integer PRIMARY KEY,TICKER text,TIMESTAMP date,ASK float,MARKET_CAP float)\n"
     ]
    }
   ],
   "source": [
    "header = (('TICKER', 'text'), ('TIMESTAMP', 'date'), \n",
    "          ('ASK', 'float'), ('MARKET_CAP', 'float'))\n",
    "path = os.path.join(home, 'Desktop/Insight project/Database/stock_data_filtered.csv')\n",
    "postgres.stock_data_csv_to_postgres(connector, path, header)"
   ]
  },
  {
   "cell_type": "markdown",
   "metadata": {},
   "source": [
    "stock_data_2 = postgres.retrieve_stock_data(connector)"
   ]
  },
  {
   "cell_type": "markdown",
   "metadata": {},
   "source": [
    "# Parse files"
   ]
  },
  {
   "cell_type": "markdown",
   "metadata": {},
   "source": [
    "Now we have a list of CIK that should make it until the end. It is time to open the relevant reports and start parsing. This step takes a lot of time and can get arbitrarily long as the metrics get fancier.\n",
    "\n",
    "You do not want to keep in RAM all the parsed data. However, there are only ~100 quarters for which we have data and the stage 2 files are no more than 1 Mb in size (Apple seems to top out at ~ 325 kb). So 100 Mb per core + others, that's definitely doable. More cores will use more RAM, but the usage remains reasonable.\n",
    "\n",
    "We use multiprocessing to go through N CIK at once but a single core is dedicated to going through a given CIK for the specified time_range. Such a core can be running for a while if the company has been in business for the whole time_range and publish a lot of text data in its 10-K."
   ]
  },
  {
   "cell_type": "code",
   "execution_count": 26,
   "metadata": {},
   "outputs": [],
   "source": [
    "try:\n",
    "    sc.stop()\n",
    "except:\n",
    "    pass\n",
    "nb_processes_requested = 8"
   ]
  },
  {
   "cell_type": "code",
   "execution_count": 27,
   "metadata": {
    "scrolled": true
   },
   "outputs": [
    {
     "name": "stderr",
     "output_type": "stream",
     "text": [
      "  0%|          | 0/100 [00:00<?, ?it/s]\n"
     ]
    },
    {
     "name": "stdout",
     "output_type": "stream",
     "text": [
      "[INFO] Starting a pool of 8 workers\n"
     ]
    },
    {
     "name": "stderr",
     "output_type": "stream",
     "text": [
      "0it [00:00, ?it/s]\u001b[A"
     ]
    },
    {
     "name": "stdout",
     "output_type": "stream",
     "text": [
      "[INFO] Comparing current qtr (2010, 2) to qtr (2010, 1) from 1 quarter ago.\n",
      "{'diff_jaccard': 0.3860537945783969, 'diff_cosine_tf': 0.801119807207378, 'diff_cosine_tf_idf': 0.7755372337509133, 'diff_minEdit': 0.844539146155044, 'diff_simple': 0.7422182867262703, 'sing_LoughranMcDonald': -0.0016647563700913082, '0': {'type': '10-Q', 'published': datetime.date(2010, 5, 3), 'qtr': (2010, 2)}}\n",
      "[INFO] Comparing current qtr (2010, 3) to qtr (2010, 2) from 1 quarter ago.\n",
      "{'diff_jaccard': 0.849773016926045, 'diff_cosine_tf': 0.991424873394707, 'diff_cosine_tf_idf': 0.9897739952229097, 'diff_minEdit': 1.0, 'diff_simple': 1.0, 'sing_LoughranMcDonald': -0.001411784041286702, '0': {'type': '10-Q', 'published': datetime.date(2010, 8, 6), 'qtr': (2010, 3)}}\n",
      "[INFO] Comparing current qtr (2010, 4) to qtr (2010, 3) from 1 quarter ago.\n",
      "{'diff_jaccard': 0.8165114586808954, 'diff_cosine_tf': 0.9931562811226052, 'diff_cosine_tf_idf': 0.9899288855527351, 'diff_minEdit': 0.9067664632595982, 'diff_simple': 0.9384658657513348, 'sing_LoughranMcDonald': -0.0014076586028811098, '0': {'type': '10-Q', 'published': datetime.date(2010, 11, 5), 'qtr': (2010, 4)}}\n",
      "[INFO] Comparing current qtr (2011, 1) to qtr (2010, 4) from 1 quarter ago.\n",
      "{'diff_jaccard': 0.41236167365596277, 'diff_cosine_tf': 0.8279085411059357, 'diff_cosine_tf_idf': 0.8058722656848446, 'diff_minEdit': 0.8128048820666377, 'diff_simple': 0.6970855061908231, 'sing_LoughranMcDonald': -0.0004537035102381284, '0': {'type': '10-K', 'published': datetime.date(2011, 3, 1), 'qtr': (2011, 1)}}\n",
      "[INFO] Comparing current qtr (2011, 2) to qtr (2011, 1) from 1 quarter ago.\n",
      "{'diff_jaccard': 0.43690289183124215, 'diff_cosine_tf': 0.81674737638574, 'diff_cosine_tf_idf': 0.794404626584928, 'diff_minEdit': 0.8720833298485368, 'diff_simple': 0.7149774436090225, 'sing_LoughranMcDonald': -0.0016021846816970792, '0': {'type': '10-Q', 'published': datetime.date(2011, 5, 6), 'qtr': (2011, 2)}}\n",
      "[INFO] Comparing current qtr (2011, 3) to qtr (2011, 2) from 1 quarter ago.\n",
      "{'diff_jaccard': 0.007364173705985902, 'diff_cosine_tf': 0.18529001984530077, 'diff_cosine_tf_idf': 0.14210598589584436, 'diff_minEdit': 0.951403690347548, 'diff_simple': 0.4351857521227574, 'sing_LoughranMcDonald': 0.0, '0': {'type': '10-Q', 'published': datetime.date(2011, 8, 5), 'qtr': (2011, 3)}}\n",
      "[INFO] Comparing current qtr (2011, 4) to qtr (2011, 3) from 1 quarter ago.\n",
      "{'diff_jaccard': 0.7944444444444445, 'diff_cosine_tf': 0.8666666666666665, 'diff_cosine_tf_idf': 0.7958954792317016, 'diff_minEdit': 0.9333333333333333, 'diff_simple': 0.9784072871572871, 'sing_LoughranMcDonald': 0.0, '0': {'type': '10-Q', 'published': datetime.date(2011, 11, 4), 'qtr': (2011, 4)}}\n",
      "[INFO] Comparing current qtr (2012, 1) to qtr (2011, 4) from 1 quarter ago.\n",
      "{'diff_jaccard': 0.0033951072484146357, 'diff_cosine_tf': 0.21843150951778897, 'diff_cosine_tf_idf': 0.16705801680901938, 'diff_minEdit': 0.9436247713765054, 'diff_simple': 0.591554928287782, 'sing_LoughranMcDonald': -0.0005732673239786244, '0': {'type': '10-K', 'published': datetime.date(2012, 2, 29), 'qtr': (2012, 1)}}\n",
      "[INFO] Comparing current qtr (2012, 2) to qtr (2012, 1) from 1 quarter ago.\n",
      "[INFO] Comparing current qtr (2012, 4) to qtr (2012, 3) from 1 quarter ago.\n",
      "[INFO] Comparing current qtr (2010, 2) to qtr (2010, 1) from 1 quarter ago.\n",
      "{'diff_jaccard': 0.0033951072484146357, 'diff_cosine_tf': 0.2180516454896506, 'diff_cosine_tf_idf': 0.16665950125145867, 'diff_minEdit': 0.9436247713765054, 'diff_simple': 0.591554928287782, 'sing_LoughranMcDonald': 0.0, '0': {'type': '10-Q', 'published': datetime.date(2012, 5, 4), 'qtr': (2012, 2)}}\n",
      "[INFO] Comparing current qtr (2012, 3) to qtr (2012, 2) from 1 quarter ago.\n",
      "{'diff_jaccard': 0.7217171717171718, 'diff_cosine_tf': 0.8399999999999999, 'diff_cosine_tf_idf': 0.7464359212312635, 'diff_minEdit': 0.9166666666666667, 'diff_simple': 0.9732124819624819, 'sing_LoughranMcDonald': 0.0, '0': {'type': '10-Q', 'published': datetime.date(2012, 8, 3), 'qtr': (2012, 3)}}\n",
      "{'diff_jaccard': 0.6300540749157397, 'diff_cosine_tf': 0.9787998176942219, 'diff_cosine_tf_idf': 0.9692360224146678, 'diff_minEdit': 0.8987704491766189, 'diff_simple': 0.8026429298067143, 'sing_LoughranMcDonald': -0.0009937336547038362, '0': {'type': '10-Q', 'published': datetime.date(2012, 11, 30), 'qtr': (2012, 4)}}\n"
     ]
    },
    {
     "name": "stderr",
     "output_type": "stream",
     "text": [
      "  1%|          | 1/100 [00:04<07:19,  4.44s/it]\n",
      "1it [00:04,  4.19s/it]\u001b[A"
     ]
    },
    {
     "name": "stdout",
     "output_type": "stream",
     "text": [
      "[INFO] Comparing current qtr (2012, 4) to qtr (2012, 3) from 1 quarter ago.\n",
      "{'diff_jaccard': 0.7217171717171718, 'diff_cosine_tf': 0.8399999999999999, 'diff_cosine_tf_idf': 0.7464359212312635, 'diff_minEdit': 0.9166666666666667, 'diff_simple': 0.9732124819624819, 'sing_LoughranMcDonald': 0.0, '0': {'type': '10-Q', 'published': datetime.date(2012, 11, 2), 'qtr': (2012, 4)}}\n",
      "{'diff_jaccard': 0.23276236455665106, 'diff_cosine_tf': 0.5720100602546653, 'diff_cosine_tf_idf': 0.5606708666171527, 'diff_minEdit': 0.7224201606056532, 'diff_simple': 0.6032467853344146, 'sing_LoughranMcDonald': -0.0015815906323559327, '0': {'type': '10-Q', 'published': datetime.date(2010, 5, 14), 'qtr': (2010, 2)}}\n",
      "[INFO] Comparing current qtr (2010, 3) to qtr (2010, 2) from 1 quarter ago.\n"
     ]
    },
    {
     "name": "stderr",
     "output_type": "stream",
     "text": [
      "\r",
      "  2%|▏         | 2/100 [00:05<05:21,  3.28s/it]"
     ]
    },
    {
     "name": "stdout",
     "output_type": "stream",
     "text": [
      "{'diff_jaccard': 0.7674770704370789, 'diff_cosine_tf': 0.9807262342971406, 'diff_cosine_tf_idf': 0.9784421144168743, 'diff_minEdit': 1.0, 'diff_simple': 1.0, 'sing_LoughranMcDonald': -0.0016215781496927884, '0': {'type': '10-Q', 'published': datetime.date(2010, 8, 13), 'qtr': (2010, 3)}}\n",
      "[INFO] Comparing current qtr (2010, 4) to qtr (2010, 3) from 1 quarter ago.\n",
      "[INFO] Comparing current qtr (2010, 2) to qtr (2010, 1) from 1 quarter ago.\n",
      "{'diff_jaccard': 0.5813189197503261, 'diff_cosine_tf': 0.9434701912622426, 'diff_cosine_tf_idf': 0.9321592950521267, 'diff_minEdit': 0.991436795394579, 'diff_simple': 0.9771959153255856, 'sing_LoughranMcDonald': -0.0017205719201292757, '0': {'type': '10-Q', 'published': datetime.date(2010, 11, 12), 'qtr': (2010, 4)}}\n",
      "[INFO] Comparing current qtr (2011, 1) to qtr (2010, 4) from 1 quarter ago.\n",
      "{'diff_jaccard': 0.0014269945956714484, 'diff_cosine_tf': 0.0786638084494358, 'diff_cosine_tf_idf': 0.047711975611118215, 'diff_minEdit': 0.6664487788555444, 'diff_simple': 0.19672614059412982, 'sing_LoughranMcDonald': -0.00011607148581765074, '0': {'type': '10-Q', 'published': datetime.date(2010, 4, 29), 'qtr': (2010, 2)}}\n",
      "[INFO] Comparing current qtr (2010, 3) to qtr (2010, 2) from 1 quarter ago.\n",
      "[INFO] Comparing current qtr (2012, 3) to qtr (2012, 2) from 1 quarter ago.\n",
      "{'diff_jaccard': 0.25246420781697043, 'diff_cosine_tf': 0.5733583883350557, 'diff_cosine_tf_idf': 0.5635641067471582, 'diff_minEdit': 0.7434140446313067, 'diff_simple': 0.5851820757043488, 'sing_LoughranMcDonald': -0.000838477762063663, '0': {'type': '10-K', 'published': datetime.date(2011, 3, 25), 'qtr': (2011, 1)}}\n",
      "[INFO] Comparing current qtr (2011, 2) to qtr (2011, 1) from 1 quarter ago.\n",
      "{'diff_jaccard': 0.7587935197809754, 'diff_cosine_tf': 0.9835338090110507, 'diff_cosine_tf_idf': 0.9819500463665346, 'diff_minEdit': 1.0, 'diff_simple': 1.0, 'sing_LoughranMcDonald': -8.748622823215817e-05, '0': {'type': '10-Q', 'published': datetime.date(2010, 7, 28), 'qtr': (2010, 3)}}\n",
      "[INFO] Comparing current qtr (2010, 4) to qtr (2010, 3) from 1 quarter ago.\n",
      "{'diff_jaccard': 0.7940826390670686, 'diff_cosine_tf': 0.9906773244431994, 'diff_cosine_tf_idf': 0.9901337572138124, 'diff_minEdit': 1.0, 'diff_simple': 1.0, 'sing_LoughranMcDonald': -0.0004663935107191081, '0': {'type': '10-Q', 'published': datetime.date(2012, 8, 7), 'qtr': (2012, 3)}}\n",
      "[INFO] Comparing current qtr (2012, 4) to qtr (2012, 3) from 1 quarter ago.\n",
      "{'diff_jaccard': 0.25631596258275097, 'diff_cosine_tf': 0.5596544214296582, 'diff_cosine_tf_idf': 0.5495127069217072, 'diff_minEdit': 0.7214905081436932, 'diff_simple': 0.5945268588528967, 'sing_LoughranMcDonald': -0.0019277605261291118, '0': {'type': '10-Q', 'published': datetime.date(2011, 5, 13), 'qtr': (2011, 2)}}\n",
      "[INFO] Comparing current qtr (2011, 3) to qtr (2011, 2) from 1 quarter ago.\n",
      "{'diff_jaccard': 0.8615444777408954, 'diff_cosine_tf': 0.9919963167277485, 'diff_cosine_tf_idf': 0.9906835336909767, 'diff_minEdit': 1.0, 'diff_simple': 1.0, 'sing_LoughranMcDonald': -8.025467822756782e-05, '0': {'type': '10-Q', 'published': datetime.date(2010, 11, 3), 'qtr': (2010, 4)}}\n",
      "[INFO] Comparing current qtr (2011, 1) to qtr (2010, 4) from 1 quarter ago.\n"
     ]
    },
    {
     "name": "stderr",
     "output_type": "stream",
     "text": [
      "\n",
      "2it [00:04,  3.10s/it]\u001b[A"
     ]
    },
    {
     "name": "stdout",
     "output_type": "stream",
     "text": [
      "{'diff_jaccard': 0.057775567688266125, 'diff_cosine_tf': 0.6252866772318253, 'diff_cosine_tf_idf': 0.5260838656893679, 'diff_minEdit': 0.8722689219377792, 'diff_simple': 0.7872004960727574, 'sing_LoughranMcDonald': 0.00025072791882523146, '0': {'type': '10-K', 'published': datetime.date(2011, 2, 25), 'qtr': (2011, 1)}}\n",
      "{'diff_jaccard': 0.8134297667949074, 'diff_cosine_tf': 0.9938677316429787, 'diff_cosine_tf_idf': 0.9935633610452812, 'diff_minEdit': 0.9392802556620814, 'diff_simple': 0.9908920383493123, 'sing_LoughranMcDonald': -0.0004679442549336972, '0': {'type': '10-Q', 'published': datetime.date(2012, 11, 6), 'qtr': (2012, 4)}}\n",
      "{'diff_jaccard': 0.8007364198422311, 'diff_cosine_tf': 0.9830802790753731, 'diff_cosine_tf_idf': 0.981173716905914, 'diff_minEdit': 1.0, 'diff_simple': 1.0, 'sing_LoughranMcDonald': -0.0015930599359247966, '0': {'type': '10-Q', 'published': datetime.date(2011, 8, 12), 'qtr': (2011, 3)}}\n",
      "[INFO] Comparing current qtr (2011, 2) to qtr (2011, 1) from 1 quarter ago.\n",
      "[INFO] Comparing current qtr (2010, 2) to qtr (2010, 1) from 1 quarter ago.\n",
      "[INFO] Comparing current qtr (2011, 4) to qtr (2011, 3) from 1 quarter ago.\n",
      "{'diff_jaccard': 0.09436152670348606, 'diff_cosine_tf': 0.5892269373599464, 'diff_cosine_tf_idf': 0.4850901081150065, 'diff_minEdit': 0.8730414541351553, 'diff_simple': 0.7835860542335362, 'sing_LoughranMcDonald': -0.00010177791075301348, '0': {'type': '10-Q', 'published': datetime.date(2011, 4, 28), 'qtr': (2011, 2)}}\n",
      "{'diff_jaccard': 0.008968268866131298, 'diff_cosine_tf': 0.3363879695576387, 'diff_cosine_tf_idf': 0.2566075545618522, 'diff_minEdit': 0.9404836525457421, 'diff_simple': 0.676108589170253, 'sing_LoughranMcDonald': -0.0006202763891788644, '0': {'type': '10-Q', 'published': datetime.date(2010, 5, 3), 'qtr': (2010, 2)}}\n",
      "[INFO] Comparing current qtr (2011, 3) to qtr (2011, 2) from 1 quarter ago.\n",
      "[INFO] Comparing current qtr (2010, 3) to qtr (2010, 2) from 1 quarter ago.\n",
      "{'diff_jaccard': 0.7926596952954889, 'diff_cosine_tf': 0.9870359163439102, 'diff_cosine_tf_idf': 0.9837180298828397, 'diff_minEdit': 1.0, 'diff_simple': 1.0, 'sing_LoughranMcDonald': -0.0015625664569176869, '0': {'type': '10-Q', 'published': datetime.date(2011, 11, 10), 'qtr': (2011, 4)}}\n",
      "[INFO] Comparing current qtr (2012, 1) to qtr (2011, 4) from 1 quarter ago.\n",
      "{'diff_jaccard': 0.7023822196202666, 'diff_cosine_tf': 0.9712736685471567, 'diff_cosine_tf_idf': 0.961703938364612, 'diff_minEdit': 0.9999999999999999, 'diff_simple': 0.9999999999999999, 'sing_LoughranMcDonald': -0.0006375374734888966, '0': {'type': '10-Q', 'published': datetime.date(2010, 7, 29), 'qtr': (2010, 3)}}\n",
      "[INFO] Comparing current qtr (2010, 4) to qtr (2010, 3) from 1 quarter ago.\n",
      "{'diff_jaccard': 0.7619917162991239, 'diff_cosine_tf': 0.9571730269254265, 'diff_cosine_tf_idf': 0.9534597026826629, 'diff_minEdit': 1.0, 'diff_simple': 1.0, 'sing_LoughranMcDonald': -8.227737734501934e-05, '0': {'type': '10-Q', 'published': datetime.date(2011, 7, 27), 'qtr': (2011, 3)}}\n",
      "[INFO] Comparing current qtr (2011, 4) to qtr (2011, 3) from 1 quarter ago.\n",
      "{'diff_jaccard': 0.25806277212846934, 'diff_cosine_tf': 0.5596192440297667, 'diff_cosine_tf_idf': 0.5465058560392592, 'diff_minEdit': 0.7399906710076954, 'diff_simple': 0.5840108332829202, 'sing_LoughranMcDonald': -0.0010178718326804147, '0': {'type': '10-K', 'published': datetime.date(2012, 3, 28), 'qtr': (2012, 1)}}\n",
      "[INFO] Comparing current qtr (2012, 2) to qtr (2012, 1) from 1 quarter ago.\n",
      "{'diff_jaccard': 0.8160364705295963, 'diff_cosine_tf': 0.976827158175406, 'diff_cosine_tf_idf': 0.9645796929589325, 'diff_minEdit': 0.9995646281732524, 'diff_simple': 0.99885279523652, 'sing_LoughranMcDonald': -9.135807784610715e-05, '0': {'type': '10-Q', 'published': datetime.date(2011, 10, 27), 'qtr': (2011, 4)}}\n",
      "[INFO] Comparing current qtr (2012, 1) to qtr (2011, 4) from 1 quarter ago.\n",
      "{'diff_jaccard': 0.5658001315806525, 'diff_cosine_tf': 0.9607810269175046, 'diff_cosine_tf_idf': 0.9449865412473256, 'diff_minEdit': 1.0, 'diff_simple': 1.0, 'sing_LoughranMcDonald': -0.0003641880202369704, '0': {'type': '10-Q', 'published': datetime.date(2010, 10, 28), 'qtr': (2010, 4)}}\n",
      "[INFO] Comparing current qtr (2011, 1) to qtr (2010, 4) from 1 quarter ago.\n",
      "{'diff_jaccard': 0.2363984846979322, 'diff_cosine_tf': 0.5395571513885434, 'diff_cosine_tf_idf': 0.5278187787581594, 'diff_minEdit': 0.7171989255848442, 'diff_simple': 0.5933917250325593, 'sing_LoughranMcDonald': -0.0027215704181528313, '0': {'type': '10-Q', 'published': datetime.date(2012, 5, 15), 'qtr': (2012, 2)}}\n",
      "[INFO] Comparing current qtr (2012, 3) to qtr (2012, 2) from 1 quarter ago.\n",
      "{'diff_jaccard': 0.07781264717990999, 'diff_cosine_tf': 0.5992716507232946, 'diff_cosine_tf_idf': 0.49657545182160856, 'diff_minEdit': 0.8438292017280206, 'diff_simple': 0.7894013840830449, 'sing_LoughranMcDonald': 0.0, '0': {'type': '10-K', 'published': datetime.date(2012, 2, 24), 'qtr': (2012, 1)}}\n",
      "[INFO] Comparing current qtr (2012, 2) to qtr (2012, 1) from 1 quarter ago.\n",
      "{'diff_jaccard': 0.006181273234830973, 'diff_cosine_tf': 0.23226081584236968, 'diff_cosine_tf_idf': 0.17109051836044153, 'diff_minEdit': 0.9310634378625714, 'diff_simple': 0.5417138779952839, 'sing_LoughranMcDonald': 0.0, '0': {'type': '10-K', 'published': datetime.date(2011, 2, 24), 'qtr': (2011, 1)}}\n",
      "[INFO] Comparing current qtr (2011, 2) to qtr (2011, 1) from 1 quarter ago.\n",
      "{'diff_jaccard': 0.6510813327488576, 'diff_cosine_tf': 0.9624306228538935, 'diff_cosine_tf_idf': 0.95671373092321, 'diff_minEdit': 1.0, 'diff_simple': 1.0, 'sing_LoughranMcDonald': -0.0017594243648834365, '0': {'type': '10-Q', 'published': datetime.date(2012, 9, 24), 'qtr': (2012, 3)}}\n",
      "[INFO] Comparing current qtr (2012, 4) to qtr (2012, 3) from 1 quarter ago.\n",
      "{'diff_jaccard': 0.08820513859038505, 'diff_cosine_tf': 0.6120348005174874, 'diff_cosine_tf_idf': 0.5081849396624549, 'diff_minEdit': 0.8447094848218377, 'diff_simple': 0.7895347287028397, 'sing_LoughranMcDonald': -0.00012611965470218215, '0': {'type': '10-Q', 'published': datetime.date(2012, 4, 26), 'qtr': (2012, 2)}}\n",
      "[INFO] Comparing current qtr (2012, 3) to qtr (2012, 2) from 1 quarter ago.\n",
      "{'diff_jaccard': 0.009461977953146959, 'diff_cosine_tf': 0.37274892712292557, 'diff_cosine_tf_idf': 0.28352904902334497, 'diff_minEdit': 0.9413914764131431, 'diff_simple': 0.7570168938757853, 'sing_LoughranMcDonald': -0.00039823167846782525, '0': {'type': '10-Q', 'published': datetime.date(2011, 4, 28), 'qtr': (2011, 2)}}\n",
      "[INFO] Comparing current qtr (2011, 3) to qtr (2011, 2) from 1 quarter ago.\n",
      "{'diff_jaccard': 0.6390080149847885, 'diff_cosine_tf': 0.9763900790806668, 'diff_cosine_tf_idf': 0.9693749453499055, 'diff_minEdit': 1.0, 'diff_simple': 1.0, 'sing_LoughranMcDonald': -0.0010837399024741425, '0': {'type': '10-Q', 'published': datetime.date(2012, 11, 14), 'qtr': (2012, 4)}}\n",
      "{'diff_jaccard': 0.8362952312188306, 'diff_cosine_tf': 0.9648353687672948, 'diff_cosine_tf_idf': 0.9572619713261508, 'diff_minEdit': 1.0, 'diff_simple': 1.0, 'sing_LoughranMcDonald': -8.463122594784699e-05, '0': {'type': '10-Q', 'published': datetime.date(2012, 7, 31), 'qtr': (2012, 3)}}\n",
      "[INFO] Comparing current qtr (2012, 4) to qtr (2012, 3) from 1 quarter ago.\n",
      "{'diff_jaccard': 0.6722946426516486, 'diff_cosine_tf': 0.9593888982098205, 'diff_cosine_tf_idf': 0.9515419976048499, 'diff_minEdit': 1.0, 'diff_simple': 1.0, 'sing_LoughranMcDonald': -0.0005647955989554632, '0': {'type': '10-Q', 'published': datetime.date(2011, 8, 1), 'qtr': (2011, 3)}}\n",
      "[INFO] Comparing current qtr (2011, 4) to qtr (2011, 3) from 1 quarter ago.\n"
     ]
    },
    {
     "name": "stderr",
     "output_type": "stream",
     "text": [
      "  4%|▍         | 4/100 [00:05<03:49,  2.39s/it]\n",
      "4it [00:05,  2.27s/it]\u001b[A"
     ]
    },
    {
     "name": "stdout",
     "output_type": "stream",
     "text": [
      "{'diff_jaccard': 0.6315610713014862, 'diff_cosine_tf': 0.9528539526605745, 'diff_cosine_tf_idf': 0.942433069958026, 'diff_minEdit': 0.9999189792798313, 'diff_simple': 0.9999773141983528, 'sing_LoughranMcDonald': -0.0001316399355698108, '0': {'type': '10-Q', 'published': datetime.date(2012, 10, 25), 'qtr': (2012, 4)}}\n",
      "{'diff_jaccard': 0.6943321152995425, 'diff_cosine_tf': 0.9724728156379844, 'diff_cosine_tf_idf': 0.9626765772182617, 'diff_minEdit': 1.0, 'diff_simple': 1.0, 'sing_LoughranMcDonald': -0.0004512524302679506, '0': {'type': '10-Q', 'published': datetime.date(2011, 10, 31), 'qtr': (2011, 4)}}\n",
      "[INFO] Comparing current qtr (2012, 1) to qtr (2011, 4) from 1 quarter ago.\n",
      "{'diff_jaccard': 0.006136519387537108, 'diff_cosine_tf': 0.3173558920238464, 'diff_cosine_tf_idf': 0.23471971690704677, 'diff_minEdit': 0.9429582585938879, 'diff_simple': 0.6831513544542338, 'sing_LoughranMcDonald': 0.0, '0': {'type': '10-K', 'published': datetime.date(2012, 2, 27), 'qtr': (2012, 1)}}\n",
      "[INFO] Comparing current qtr (2012, 2) to qtr (2012, 1) from 1 quarter ago.\n",
      "{'diff_jaccard': 0.008218042675979094, 'diff_cosine_tf': 0.3901794928878568, 'diff_cosine_tf_idf': 0.28891319432145574, 'diff_minEdit': 0.9549486567131688, 'diff_simple': 0.7898503583579995, 'sing_LoughranMcDonald': -0.0004052797858587496, '0': {'type': '10-Q', 'published': datetime.date(2012, 4, 26), 'qtr': (2012, 2)}}\n",
      "[INFO] Comparing current qtr (2012, 3) to qtr (2012, 2) from 1 quarter ago.\n",
      "[INFO] Comparing current qtr (2010, 2) to qtr (2010, 1) from 1 quarter ago.\n",
      "{'diff_jaccard': 0.6331683473557512, 'diff_cosine_tf': 0.8751710281000219, 'diff_cosine_tf_idf': 0.8595175181881289, 'diff_minEdit': 1.0, 'diff_simple': 1.0, 'sing_LoughranMcDonald': -0.0002727749004535562, '0': {'type': '10-Q', 'published': datetime.date(2012, 7, 31), 'qtr': (2012, 3)}}\n",
      "[INFO] Comparing current qtr (2012, 4) to qtr (2012, 3) from 1 quarter ago.\n"
     ]
    },
    {
     "name": "stderr",
     "output_type": "stream",
     "text": [
      "  5%|▌         | 5/100 [00:06<02:52,  1.81s/it]\n",
      "5it [00:05,  1.73s/it]\u001b[A"
     ]
    },
    {
     "name": "stdout",
     "output_type": "stream",
     "text": [
      "{'diff_jaccard': 0.006799448806233028, 'diff_cosine_tf': 0.28310510490733964, 'diff_cosine_tf_idf': 0.21671498697845026, 'diff_minEdit': 0.9557130133393559, 'diff_simple': 0.62207160810011, 'sing_LoughranMcDonald': 0.0, '0': {'type': '10-Q', 'published': datetime.date(2012, 10, 24), 'qtr': (2012, 4)}}\n",
      "{'diff_jaccard': 0.23979162555265054, 'diff_cosine_tf': 0.8489382178576539, 'diff_cosine_tf_idf': 0.8266530459639843, 'diff_minEdit': 0.7963698076921925, 'diff_simple': 0.5912339217105629, 'sing_LoughranMcDonald': -0.0031169712684809936, '0': {'type': '10-Q', 'published': datetime.date(2010, 5, 17), 'qtr': (2010, 2)}}\n"
     ]
    },
    {
     "name": "stderr",
     "output_type": "stream",
     "text": [
      "\r",
      "  6%|▌         | 6/100 [00:06<02:14,  1.43s/it]"
     ]
    },
    {
     "name": "stdout",
     "output_type": "stream",
     "text": [
      "[INFO] Comparing current qtr (2010, 3) to qtr (2010, 2) from 1 quarter ago.\n",
      "{'diff_jaccard': 0.7161852412155307, 'diff_cosine_tf': 0.9671925439119831, 'diff_cosine_tf_idf': 0.9571053487380847, 'diff_minEdit': 0.9957909710890758, 'diff_simple': 0.9928236057068741, 'sing_LoughranMcDonald': -0.00251480669668803, '0': {'type': '10-Q', 'published': datetime.date(2010, 8, 13), 'qtr': (2010, 3)}}\n",
      "[INFO] Comparing current qtr (2010, 4) to qtr (2010, 3) from 1 quarter ago.\n",
      "{'diff_jaccard': 0.01391655306259937, 'diff_cosine_tf': 0.39555094961323, 'diff_cosine_tf_idf': 0.30558551885745666, 'diff_minEdit': 0.9535362033176746, 'diff_simple': 0.7512382626233444, 'sing_LoughranMcDonald': 0.0, '0': {'type': '10-Q', 'published': datetime.date(2010, 11, 12), 'qtr': (2010, 4)}}\n",
      "[INFO] Comparing current qtr (2011, 1) to qtr (2010, 4) from 1 quarter ago.\n",
      "{'diff_jaccard': 0.0041423439023364, 'diff_cosine_tf': 0.22797490418859814, 'diff_cosine_tf_idf': 0.17683583402948994, 'diff_minEdit': 0.9345534600489792, 'diff_simple': 0.49589497386936515, 'sing_LoughranMcDonald': -0.0008573683531651659, '0': {'type': '10-K', 'published': datetime.date(2011, 3, 14), 'qtr': (2011, 1)}}\n",
      "[INFO] Comparing current qtr (2011, 2) to qtr (2011, 1) from 1 quarter ago.\n",
      "{'diff_jaccard': 0.004144184121435754, 'diff_cosine_tf': 0.22700663364315704, 'diff_cosine_tf_idf': 0.1760908023492605, 'diff_minEdit': 0.936712117062048, 'diff_simple': 0.49521947575643205, 'sing_LoughranMcDonald': 0.0, '0': {'type': '10-Q', 'published': datetime.date(2011, 5, 11), 'qtr': (2011, 2)}}\n",
      "[INFO] Comparing current qtr (2011, 3) to qtr (2011, 2) from 1 quarter ago.\n",
      "{'diff_jaccard': 0.7226295210166178, 'diff_cosine_tf': 0.7868742386113403, 'diff_cosine_tf_idf': 0.6870054375555968, 'diff_minEdit': 0.903225806451613, 'diff_simple': 0.948586895293464, 'sing_LoughranMcDonald': 0.0, '0': {'type': '10-Q', 'published': datetime.date(2011, 8, 10), 'qtr': (2011, 3)}}\n",
      "[INFO] Comparing current qtr (2011, 4) to qtr (2011, 3) from 1 quarter ago.\n",
      "{'diff_jaccard': 0.010676479377476882, 'diff_cosine_tf': 0.408100689139124, 'diff_cosine_tf_idf': 0.31801135776548856, 'diff_minEdit': 0.9567838081280005, 'diff_simple': 0.7431350138713875, 'sing_LoughranMcDonald': -0.0023249659883436027, '0': {'type': '10-Q', 'published': datetime.date(2011, 11, 9), 'qtr': (2011, 4)}}\n",
      "[INFO] Comparing current qtr (2012, 1) to qtr (2011, 4) from 1 quarter ago.\n",
      "{'diff_jaccard': 0.2482578475134309, 'diff_cosine_tf': 0.8493113645211108, 'diff_cosine_tf_idf': 0.8233827238790496, 'diff_minEdit': 0.7648922295493774, 'diff_simple': 0.6426374293587409, 'sing_LoughranMcDonald': -0.0008396978066534236, '0': {'type': '10-K', 'published': datetime.date(2012, 3, 14), 'qtr': (2012, 1)}}\n",
      "[INFO] Comparing current qtr (2012, 2) to qtr (2012, 1) from 1 quarter ago.\n",
      "{'diff_jaccard': 0.28100200436397443, 'diff_cosine_tf': 0.914697031290542, 'diff_cosine_tf_idf': 0.8963705992779487, 'diff_minEdit': 0.8040748461466081, 'diff_simple': 0.6325149024566474, 'sing_LoughranMcDonald': -0.001154990037766551, '0': {'type': '10-Q', 'published': datetime.date(2012, 5, 9), 'qtr': (2012, 2)}}\n",
      "[INFO] Comparing current qtr (2012, 3) to qtr (2012, 2) from 1 quarter ago.\n",
      "{'diff_jaccard': 0.7477284842347768, 'diff_cosine_tf': 0.9378466987346725, 'diff_cosine_tf_idf': 0.9342055860308777, 'diff_minEdit': 0.9930463086255363, 'diff_simple': 0.9772667781988688, 'sing_LoughranMcDonald': -0.0003643184812325361, '0': {'type': '10-Q', 'published': datetime.date(2012, 8, 9), 'qtr': (2012, 3)}}\n",
      "[INFO] Comparing current qtr (2012, 4) to qtr (2012, 3) from 1 quarter ago.\n",
      "{'diff_jaccard': 0.8467006236808937, 'diff_cosine_tf': 0.980182110505539, 'diff_cosine_tf_idf': 0.975131727010176, 'diff_minEdit': 0.9946675908018736, 'diff_simple': 0.9843227169575085, 'sing_LoughranMcDonald': -0.00035413223239211613, '0': {'type': '10-Q', 'published': datetime.date(2012, 11, 7), 'qtr': (2012, 4)}}\n"
     ]
    },
    {
     "name": "stderr",
     "output_type": "stream",
     "text": [
      "\n",
      "  7%|▋         | 7/100 [00:07<01:49,  1.18s/it]"
     ]
    },
    {
     "name": "stdout",
     "output_type": "stream",
     "text": [
      "[INFO] Comparing current qtr (2010, 2) to qtr (2010, 1) from 1 quarter ago.\n"
     ]
    },
    {
     "name": "stderr",
     "output_type": "stream",
     "text": [
      "\n"
     ]
    },
    {
     "name": "stdout",
     "output_type": "stream",
     "text": [
      "{'diff_jaccard': 0.02813983545478716, 'diff_cosine_tf': 0.40278891626086166, 'diff_cosine_tf_idf': 0.33764900614785087, 'diff_minEdit': 0.5874725896509647, 'diff_simple': 0.3198509058441692, 'sing_LoughranMcDonald': -0.0004120140604825729, '0': {'type': '10-Q', 'published': datetime.date(2010, 5, 6), 'qtr': (2010, 2)}}\n",
      "[INFO] Comparing current qtr (2010, 3) to qtr (2010, 2) from 1 quarter ago.\n",
      "{'diff_jaccard': 0.6997931529754196, 'diff_cosine_tf': 0.9510660419064216, 'diff_cosine_tf_idf': 0.9246621323393246, 'diff_minEdit': 1.0, 'diff_simple': 1.0, 'sing_LoughranMcDonald': -0.00013051161419977983, '0': {'type': '10-Q', 'published': datetime.date(2010, 8, 5), 'qtr': (2010, 3)}}\n",
      "[INFO] Comparing current qtr (2010, 4) to qtr (2010, 3) from 1 quarter ago.\n",
      "{'diff_jaccard': 0.7905335570616423, 'diff_cosine_tf': 0.9653759955511614, 'diff_cosine_tf_idf': 0.9448199509906019, 'diff_minEdit': 1.0, 'diff_simple': 1.0, 'sing_LoughranMcDonald': -7.624456138259145e-05, '0': {'type': '10-Q', 'published': datetime.date(2010, 11, 4), 'qtr': (2010, 4)}}\n",
      "[INFO] Comparing current qtr (2011, 1) to qtr (2010, 4) from 1 quarter ago.\n",
      "{'diff_jaccard': 0.014539846553421215, 'diff_cosine_tf': 0.3009623031432633, 'diff_cosine_tf_idf': 0.221953071498978, 'diff_minEdit': 0.9553793172280567, 'diff_simple': 0.7617125278079928, 'sing_LoughranMcDonald': 0.0, '0': {'type': '10-K', 'published': datetime.date(2011, 2, 25), 'qtr': (2011, 1)}}\n",
      "[INFO] Comparing current qtr (2011, 2) to qtr (2011, 1) from 1 quarter ago.\n",
      "{'diff_jaccard': 0.01606745973925641, 'diff_cosine_tf': 0.3083718972569204, 'diff_cosine_tf_idf': 0.22780006095959393, 'diff_minEdit': 0.9536202014995804, 'diff_simple': 0.7320350329551335, 'sing_LoughranMcDonald': -0.00010819379375733224, '0': {'type': '10-Q', 'published': datetime.date(2011, 5, 5), 'qtr': (2011, 2)}}\n",
      "[INFO] Comparing current qtr (2011, 3) to qtr (2011, 2) from 1 quarter ago.\n",
      "{'diff_jaccard': 0.7635257883480688, 'diff_cosine_tf': 0.9468478377581133, 'diff_cosine_tf_idf': 0.921537745673759, 'diff_minEdit': 1.0, 'diff_simple': 1.0, 'sing_LoughranMcDonald': -5.553891059731727e-05, '0': {'type': '10-Q', 'published': datetime.date(2011, 8, 4), 'qtr': (2011, 3)}}\n",
      "[INFO] Comparing current qtr (2011, 4) to qtr (2011, 3) from 1 quarter ago.\n",
      "{'diff_jaccard': 0.8079802394547622, 'diff_cosine_tf': 0.961858423990335, 'diff_cosine_tf_idf': 0.9287087618043757, 'diff_minEdit': 1.0, 'diff_simple': 1.0, 'sing_LoughranMcDonald': -0.0001649878815437902, '0': {'type': '10-Q', 'published': datetime.date(2011, 11, 7), 'qtr': (2011, 4)}}\n",
      "[INFO] Comparing current qtr (2012, 1) to qtr (2011, 4) from 1 quarter ago.\n",
      "{'diff_jaccard': 0.0256565057340768, 'diff_cosine_tf': 0.42514172859273763, 'diff_cosine_tf_idf': 0.3619353809318746, 'diff_minEdit': 0.5708061020294447, 'diff_simple': 0.2928342348833728, 'sing_LoughranMcDonald': -0.00021106031368912703, '0': {'type': '10-K', 'published': datetime.date(2012, 2, 27), 'qtr': (2012, 1)}}\n",
      "[INFO] Comparing current qtr (2012, 2) to qtr (2012, 1) from 1 quarter ago.\n"
     ]
    },
    {
     "name": "stderr",
     "output_type": "stream",
     "text": [
      "7it [00:07,  1.23s/it]\u001b[A"
     ]
    },
    {
     "name": "stdout",
     "output_type": "stream",
     "text": [
      "{'diff_jaccard': 0.026459162255798793, 'diff_cosine_tf': 0.43483605161797684, 'diff_cosine_tf_idf': 0.37235627105737773, 'diff_minEdit': 0.5874571580624396, 'diff_simple': 0.31830699474852475, 'sing_LoughranMcDonald': -0.0007636173811229666, '0': {'type': '10-Q', 'published': datetime.date(2012, 5, 7), 'qtr': (2012, 2)}}\n",
      "[INFO] Comparing current qtr (2012, 3) to qtr (2012, 2) from 1 quarter ago.\n"
     ]
    },
    {
     "name": "stderr",
     "output_type": "stream",
     "text": [
      "\r",
      "  8%|▊         | 8/100 [00:08<01:44,  1.14s/it]"
     ]
    },
    {
     "name": "stdout",
     "output_type": "stream",
     "text": [
      "{'diff_jaccard': 0.8019866496881459, 'diff_cosine_tf': 0.9579201422186562, 'diff_cosine_tf_idf': 0.9438773770926842, 'diff_minEdit': 1.0, 'diff_simple': 1.0, 'sing_LoughranMcDonald': -0.0006814447387397063, '0': {'type': '10-Q', 'published': datetime.date(2012, 8, 3), 'qtr': (2012, 3)}}\n"
     ]
    },
    {
     "name": "stderr",
     "output_type": "stream",
     "text": [
      "\n"
     ]
    },
    {
     "name": "stdout",
     "output_type": "stream",
     "text": [
      "[INFO] Comparing current qtr (2012, 4) to qtr (2012, 3) from 1 quarter ago.\n",
      "{'diff_jaccard': 0.7282278894322793, 'diff_cosine_tf': 0.9699981693018556, 'diff_cosine_tf_idf': 0.9511141568238223, 'diff_minEdit': 1.0, 'diff_simple': 1.0, 'sing_LoughranMcDonald': -0.0007748417286284709, '0': {'type': '10-Q', 'published': datetime.date(2012, 11, 8), 'qtr': (2012, 4)}}\n"
     ]
    },
    {
     "name": "stderr",
     "output_type": "stream",
     "text": [
      "8it [00:08,  1.02s/it]\u001b[A"
     ]
    },
    {
     "name": "stdout",
     "output_type": "stream",
     "text": [
      "[INFO] Comparing current qtr (2010, 2) to qtr (2010, 1) from 1 quarter ago.\n",
      "{'diff_jaccard': 0.0038830225383650503, 'diff_cosine_tf': 0.059254866931442836, 'diff_cosine_tf_idf': 0.03437572186058513, 'diff_minEdit': 0.5500506783459332, 'diff_simple': 0.23413693949923306, 'sing_LoughranMcDonald': 0.00026361509441788077, '0': {'type': '10-Q', 'published': datetime.date(2010, 5, 7), 'qtr': (2010, 2)}}\n",
      "[INFO] Comparing current qtr (2010, 3) to qtr (2010, 2) from 1 quarter ago.\n",
      "[INFO] Comparing current qtr (2010, 2) to qtr (2010, 1) from 1 quarter ago.\n",
      "[INFO] Comparing current qtr (2010, 2) to qtr (2010, 1) from 1 quarter ago.\n",
      "{'diff_jaccard': 0.021890058737573326, 'diff_cosine_tf': 0.09420557945305891, 'diff_cosine_tf_idf': 0.06149226868469172, 'diff_minEdit': 0.6900884132154491, 'diff_simple': 0.13847733190299763, 'sing_LoughranMcDonald': 0.0, '0': {'type': '10-Q', 'published': datetime.date(2010, 8, 5), 'qtr': (2010, 3)}}\n",
      "[INFO] Comparing current qtr (2010, 4) to qtr (2010, 3) from 1 quarter ago.\n",
      "This is the res {'_i_1': [(6476, 6498)], '_i_2': [(29598, 29622)], '_i_3': [(64460, 64485)], '_i_4': [(65862, 65884)], 'ii_1': [(67300, 67318)], 'ii_1a': [], 'ii_2': [(67891, 67916)], 'ii_4': [(68040, 68057)], 'ii_5': [(68088, 68110)], 'ii_6': [(68175, 68197)]}\n",
      "[WARNING] /home/alex/Desktop/filtered_text_data/nd_data/2012/QTR2/20120504_10-Q_edgar_data_1171486_0001193125-12-210830_1.txt failed parsing\n"
     ]
    },
    {
     "name": "stderr",
     "output_type": "stream",
     "text": [
      "  9%|▉         | 9/100 [00:08<01:30,  1.00it/s]\n",
      "9it [00:08,  1.08it/s]\u001b[A"
     ]
    },
    {
     "name": "stdout",
     "output_type": "stream",
     "text": [
      "{'diff_jaccard': 1.0, 'diff_cosine_tf': 0.9999999999999999, 'diff_cosine_tf_idf': 0.9999999999999999, 'diff_minEdit': 1.0, 'diff_simple': 1.0, 'sing_LoughranMcDonald': 0.0, '0': {'type': '10-Q', 'published': datetime.date(2010, 11, 4), 'qtr': (2010, 4)}}\n",
      "[INFO] Comparing current qtr (2011, 1) to qtr (2010, 4) from 1 quarter ago.\n",
      "{'diff_jaccard': 0.020793024098900204, 'diff_cosine_tf': 0.3720756289996961, 'diff_cosine_tf_idf': 0.32053879098052995, 'diff_minEdit': 0.6943824233670123, 'diff_simple': 0.6020676382482334, 'sing_LoughranMcDonald': -0.0001546644065347483, '0': {'type': '10-Q', 'published': datetime.date(2010, 5, 4), 'qtr': (2010, 2)}}\n",
      "[INFO] Comparing current qtr (2010, 3) to qtr (2010, 2) from 1 quarter ago.\n",
      "{'diff_jaccard': 0.2755687908933065, 'diff_cosine_tf': 0.7346819789772654, 'diff_cosine_tf_idf': 0.721416538129546, 'diff_minEdit': 0.8243259904190772, 'diff_simple': 0.6945051174768063, 'sing_LoughranMcDonald': -0.00044268957344010575, '0': {'type': '10-Q', 'published': datetime.date(2010, 5, 5), 'qtr': (2010, 2)}}\n",
      "[INFO] Comparing current qtr (2010, 3) to qtr (2010, 2) from 1 quarter ago.\n",
      "{'diff_jaccard': 0.0030728246864351137, 'diff_cosine_tf': 0.036366554235226556, 'diff_cosine_tf_idf': 0.020476315282356418, 'diff_minEdit': 0.6531023421721656, 'diff_simple': 0.203315376636537, 'sing_LoughranMcDonald': -0.001020625569442279, '0': {'type': '10-K', 'published': datetime.date(2011, 3, 15), 'qtr': (2011, 1)}}\n",
      "[INFO] Comparing current qtr (2011, 2) to qtr (2011, 1) from 1 quarter ago.\n",
      "{'diff_jaccard': 0.6774543330658476, 'diff_cosine_tf': 0.9771730222257657, 'diff_cosine_tf_idf': 0.9728239573580431, 'diff_minEdit': 0.9364668297667936, 'diff_simple': 0.9834774820232646, 'sing_LoughranMcDonald': -0.0005748987066827593, '0': {'type': '10-Q', 'published': datetime.date(2010, 8, 3), 'qtr': (2010, 3)}}\n",
      "{'diff_jaccard': 0.6593978598907008, 'diff_cosine_tf': 0.9010289195111253, 'diff_cosine_tf_idf': 0.894809280225952, 'diff_minEdit': 0.9683185944021248, 'diff_simple': 0.9315341766974056, 'sing_LoughranMcDonald': -0.0031750517674612173, '0': {'type': '10-Q', 'published': datetime.date(2010, 8, 6), 'qtr': (2010, 3)}}\n",
      "[INFO] Comparing current qtr (2010, 4) to qtr (2010, 3) from 1 quarter ago.\n",
      "[INFO] Comparing current qtr (2010, 4) to qtr (2010, 3) from 1 quarter ago.\n",
      "[ERROR] Here is full_sect: |[]|\n",
      "{'diff_jaccard': 0.33777877812359125, 'diff_cosine_tf': 0.8401788652378013, 'diff_cosine_tf_idf': 0.7983554519795855, 'diff_minEdit': 0.8102018678630707, 'diff_simple': 0.7156953473740975, 'sing_LoughranMcDonald': -0.0014933038753480155, '0': {'type': '10-Q', 'published': datetime.date(2011, 5, 6), 'qtr': (2011, 2)}}\n",
      "[ERROR] Original res: {'1': [], '1a': [], '1b': [], '2': [], '3': [], '4': [], '5': [], '6': [], '7': [], '7a': [], '8': [], '9': [], '9a': [], '9b': [], '10': [], '11': [], '12': [], '13': [], '14': [], '15': []}\n",
      "[WARNING] /home/alex/Desktop/filtered_text_data/nd_data/2010/QTR1/20100319_10-K_edgar_data_1122342_0001122342-10-000005_1.txt failed parsing\n",
      "[INFO] Comparing current qtr (2011, 3) to qtr (2011, 2) from 1 quarter ago.\n",
      "{'diff_jaccard': 0.6962933947449134, 'diff_cosine_tf': 0.925255721422148, 'diff_cosine_tf_idf': 0.915775928146068, 'diff_minEdit': 0.8637986893454089, 'diff_simple': 0.859116926937105, 'sing_LoughranMcDonald': -0.002411423476669549, '0': {'type': '10-Q', 'published': datetime.date(2010, 11, 5), 'qtr': (2010, 4)}}\n",
      "[INFO] Comparing current qtr (2011, 1) to qtr (2010, 4) from 1 quarter ago.\n",
      "{'diff_jaccard': 0.704748363618401, 'diff_cosine_tf': 0.973693181725649, 'diff_cosine_tf_idf': 0.9672442186799444, 'diff_minEdit': 0.9988765015988247, 'diff_simple': 0.9976406533575318, 'sing_LoughranMcDonald': -0.00087043507490425, '0': {'type': '10-Q', 'published': datetime.date(2011, 8, 4), 'qtr': (2011, 3)}}\n",
      "[INFO] Comparing current qtr (2011, 4) to qtr (2011, 3) from 1 quarter ago.\n",
      "{'diff_jaccard': 0.7118282722363796, 'diff_cosine_tf': 0.989967159537529, 'diff_cosine_tf_idf': 0.9827686529111012, 'diff_minEdit': 1.0, 'diff_simple': 1.0, 'sing_LoughranMcDonald': -0.0005713423824487837, '0': {'type': '10-Q', 'published': datetime.date(2010, 11, 9), 'qtr': (2010, 4)}}\n",
      "[INFO] Comparing current qtr (2011, 1) to qtr (2010, 4) from 1 quarter ago.\n",
      "{'diff_jaccard': 0.7182365050016453, 'diff_cosine_tf': 0.980506116931093, 'diff_cosine_tf_idf': 0.9715147044566398, 'diff_minEdit': 1.0, 'diff_simple': 1.0, 'sing_LoughranMcDonald': -0.0008862042413091232, '0': {'type': '10-Q', 'published': datetime.date(2011, 11, 4), 'qtr': (2011, 4)}}\n",
      "[INFO] Comparing current qtr (2012, 1) to qtr (2011, 4) from 1 quarter ago.\n",
      "{'diff_jaccard': 0.2935507224291902, 'diff_cosine_tf': 0.898048775496517, 'diff_cosine_tf_idf': 0.8793148011324069, 'diff_minEdit': 0.8552047822579067, 'diff_simple': 0.7941856906006887, 'sing_LoughranMcDonald': -0.0015795466854305427, '0': {'type': '10-K', 'published': datetime.date(2011, 2, 25), 'qtr': (2011, 1)}}\n",
      "[INFO] Comparing current qtr (2011, 2) to qtr (2011, 1) from 1 quarter ago.\n",
      "{'diff_jaccard': 0.03956117940536018, 'diff_cosine_tf': 0.5546191562145415, 'diff_cosine_tf_idf': 0.47892095620677677, 'diff_minEdit': 0.848349532272353, 'diff_simple': 0.6322888901491522, 'sing_LoughranMcDonald': -0.000969123049185274, '0': {'type': '10-K', 'published': datetime.date(2011, 2, 24), 'qtr': (2011, 1)}}\n",
      "[INFO] Comparing current qtr (2011, 2) to qtr (2011, 1) from 1 quarter ago.\n",
      "{'diff_jaccard': 0.34078715857018643, 'diff_cosine_tf': 0.8484800373486316, 'diff_cosine_tf_idf': 0.8165129231581103, 'diff_minEdit': 0.8197065056088223, 'diff_simple': 0.7259359358202228, 'sing_LoughranMcDonald': -0.0009015942916509738, '0': {'type': '10-K', 'published': datetime.date(2012, 3, 13), 'qtr': (2012, 1)}}\n",
      "[INFO] Comparing current qtr (2012, 2) to qtr (2012, 1) from 1 quarter ago.\n",
      "[INFO] Comparing current qtr (2010, 2) to qtr (2010, 1) from 1 quarter ago.\n",
      "{'diff_jaccard': 0.2732026399843377, 'diff_cosine_tf': 0.7239661156387076, 'diff_cosine_tf_idf': 0.7089478857342048, 'diff_minEdit': 0.8205216699099039, 'diff_simple': 0.7097969910424295, 'sing_LoughranMcDonald': -0.0020183588869644303, '0': {'type': '10-Q', 'published': datetime.date(2011, 5, 5), 'qtr': (2011, 2)}}\n",
      "[INFO] Comparing current qtr (2011, 3) to qtr (2011, 2) from 1 quarter ago.\n",
      "{'diff_jaccard': 0.3221825344665213, 'diff_cosine_tf': 0.844181864443793, 'diff_cosine_tf_idf': 0.8081346300676032, 'diff_minEdit': 0.804080829739074, 'diff_simple': 0.7153138342314748, 'sing_LoughranMcDonald': -0.0013495875798270505, '0': {'type': '10-Q', 'published': datetime.date(2012, 5, 8), 'qtr': (2012, 2)}}\n",
      "{'diff_jaccard': 0.3266935013733569, 'diff_cosine_tf': 0.9241453941554791, 'diff_cosine_tf_idf': 0.9052540537864218, 'diff_minEdit': 0.9399653158590849, 'diff_simple': 0.9333615006035844, 'sing_LoughranMcDonald': -0.0003392702396332936, '0': {'type': '10-Q', 'published': datetime.date(2010, 5, 13), 'qtr': (2010, 2)}}\n",
      "[INFO] Comparing current qtr (2010, 3) to qtr (2010, 2) from 1 quarter ago.\n",
      "[INFO] Comparing current qtr (2012, 3) to qtr (2012, 2) from 1 quarter ago.\n",
      "{'diff_jaccard': 0.024641689910655483, 'diff_cosine_tf': 0.4679878275849931, 'diff_cosine_tf_idf': 0.38458726966513257, 'diff_minEdit': 0.7325867068574441, 'diff_simple': 0.6528857878336269, 'sing_LoughranMcDonald': -0.0006304478206358888, '0': {'type': '10-Q', 'published': datetime.date(2011, 5, 9), 'qtr': (2011, 2)}}\n",
      "[INFO] Comparing current qtr (2011, 3) to qtr (2011, 2) from 1 quarter ago.\n",
      "[INFO] Comparing current qtr (2010, 2) to qtr (2010, 1) from 1 quarter ago.\n",
      "{'diff_jaccard': 0.0639259611247974, 'diff_cosine_tf': 0.6302873153523751, 'diff_cosine_tf_idf': 0.5743821280293244, 'diff_minEdit': 0.6467733688467221, 'diff_simple': 0.5235591958206874, 'sing_LoughranMcDonald': -0.0008717633405172598, '0': {'type': '10-Q', 'published': datetime.date(2011, 8, 3), 'qtr': (2011, 3)}}\n",
      "[INFO] Comparing current qtr (2011, 4) to qtr (2011, 3) from 1 quarter ago.\n"
     ]
    },
    {
     "name": "stderr",
     "output_type": "stream",
     "text": [
      " 10%|█         | 10/100 [00:09<01:19,  1.13it/s]\n",
      "10it [00:09,  1.21it/s]\u001b[A"
     ]
    },
    {
     "name": "stdout",
     "output_type": "stream",
     "text": [
      "{'diff_jaccard': 0.7085330776605945, 'diff_cosine_tf': 0.9590137408308428, 'diff_cosine_tf_idf': 0.9498495082947558, 'diff_minEdit': 1.0, 'diff_simple': 1.0, 'sing_LoughranMcDonald': -0.0010935884360732432, '0': {'type': '10-Q', 'published': datetime.date(2012, 8, 9), 'qtr': (2012, 3)}}\n",
      "[INFO] Comparing current qtr (2012, 4) to qtr (2012, 3) from 1 quarter ago.\n"
     ]
    },
    {
     "name": "stderr",
     "output_type": "stream",
     "text": [
      "\r",
      " 11%|█         | 11/100 [00:10<01:11,  1.25it/s]"
     ]
    },
    {
     "name": "stdout",
     "output_type": "stream",
     "text": [
      "{'diff_jaccard': 0.061177510024700815, 'diff_cosine_tf': 0.6242334544691605, 'diff_cosine_tf_idf': 0.5675637619559952, 'diff_minEdit': 0.7355078956952494, 'diff_simple': 0.5192221884175944, 'sing_LoughranMcDonald': -0.0016417580386797576, '0': {'type': '10-Q', 'published': datetime.date(2011, 11, 2), 'qtr': (2011, 4)}}\n",
      "[INFO] Comparing current qtr (2012, 1) to qtr (2011, 4) from 1 quarter ago.\n",
      "{'diff_jaccard': 0.7326448047865067, 'diff_cosine_tf': 0.9851481834701358, 'diff_cosine_tf_idf': 0.9829105405059909, 'diff_minEdit': 0.9976902840326393, 'diff_simple': 0.9986141704195836, 'sing_LoughranMcDonald': -0.00046675215350763756, '0': {'type': '10-Q', 'published': datetime.date(2011, 8, 9), 'qtr': (2011, 3)}}\n",
      "{'diff_jaccard': 0.8132252504638676, 'diff_cosine_tf': 0.9760194583059744, 'diff_cosine_tf_idf': 0.9631350216876738, 'diff_minEdit': 0.9999999999999999, 'diff_simple': 0.9999999999999999, 'sing_LoughranMcDonald': -0.00030668348051121467, '0': {'type': '10-Q', 'published': datetime.date(2010, 8, 10), 'qtr': (2010, 3)}}\n",
      "[INFO] Comparing current qtr (2011, 4) to qtr (2011, 3) from 1 quarter ago.\n",
      "[INFO] Comparing current qtr (2010, 4) to qtr (2010, 3) from 1 quarter ago.\n",
      "{'diff_jaccard': 0.6946465664448184, 'diff_cosine_tf': 0.9674931779623078, 'diff_cosine_tf_idf': 0.9594017124511434, 'diff_minEdit': 1.0, 'diff_simple': 1.0, 'sing_LoughranMcDonald': -0.0009841906460213593, '0': {'type': '10-Q', 'published': datetime.date(2012, 11, 7), 'qtr': (2012, 4)}}\n",
      "{'diff_jaccard': 0.6953845548471734, 'diff_cosine_tf': 0.9126127224603933, 'diff_cosine_tf_idf': 0.8976748145630685, 'diff_minEdit': 0.9764284476284015, 'diff_simple': 0.9542738874318132, 'sing_LoughranMcDonald': -0.0004364008630738822, '0': {'type': '10-Q', 'published': datetime.date(2010, 11, 5), 'qtr': (2010, 4)}}\n",
      "[INFO] Comparing current qtr (2011, 1) to qtr (2010, 4) from 1 quarter ago.\n",
      "{'diff_jaccard': 0.263723452345757, 'diff_cosine_tf': 0.7062592439928066, 'diff_cosine_tf_idf': 0.6936803094356502, 'diff_minEdit': 0.7874856704201689, 'diff_simple': 0.6924916221672699, 'sing_LoughranMcDonald': -0.0014453608383000255, '0': {'type': '10-K', 'published': datetime.date(2012, 2, 24), 'qtr': (2012, 1)}}\n",
      "[INFO] Comparing current qtr (2012, 2) to qtr (2012, 1) from 1 quarter ago.\n",
      "{'diff_jaccard': 0.4263516989721402, 'diff_cosine_tf': 0.9365949504819888, 'diff_cosine_tf_idf': 0.9211346860177241, 'diff_minEdit': 0.9320182079470005, 'diff_simple': 0.9316582452246042, 'sing_LoughranMcDonald': -0.00042522335875835215, '0': {'type': '10-K', 'published': datetime.date(2011, 3, 14), 'qtr': (2011, 1)}}\n",
      "[INFO] Comparing current qtr (2011, 2) to qtr (2011, 1) from 1 quarter ago.\n",
      "{'diff_jaccard': 0.8087303248916945, 'diff_cosine_tf': 0.9893763048572543, 'diff_cosine_tf_idf': 0.9872559200891612, 'diff_minEdit': 0.9984759095378565, 'diff_simple': 0.9956106194690265, 'sing_LoughranMcDonald': -4.894717619140553e-05, '0': {'type': '10-Q', 'published': datetime.date(2011, 11, 3), 'qtr': (2011, 4)}}\n",
      "[INFO] Comparing current qtr (2012, 1) to qtr (2011, 4) from 1 quarter ago.\n",
      "{'diff_jaccard': 0.7523783026312917, 'diff_cosine_tf': 0.9892394958084767, 'diff_cosine_tf_idf': 0.9881572007099936, 'diff_minEdit': 0.9645377369206383, 'diff_simple': 0.9869229203447493, 'sing_LoughranMcDonald': -0.000118317579200641, '0': {'type': '10-Q', 'published': datetime.date(2010, 5, 4), 'qtr': (2010, 2)}}\n",
      "[INFO] Comparing current qtr (2010, 3) to qtr (2010, 2) from 1 quarter ago.\n",
      "{'diff_jaccard': 0.2625614654356241, 'diff_cosine_tf': 0.6977065362843143, 'diff_cosine_tf_idf': 0.6855979695016776, 'diff_minEdit': 0.8599206163165398, 'diff_simple': 0.6672865684730832, 'sing_LoughranMcDonald': -0.0018942104854523852, '0': {'type': '10-Q', 'published': datetime.date(2012, 5, 3), 'qtr': (2012, 2)}}\n",
      "[INFO] Comparing current qtr (2012, 3) to qtr (2012, 2) from 1 quarter ago.\n",
      "{'diff_jaccard': 0.3780387155534017, 'diff_cosine_tf': 0.9313908441683828, 'diff_cosine_tf_idf': 0.9123600839236511, 'diff_minEdit': 0.9328916094799704, 'diff_simple': 0.9280710157921069, 'sing_LoughranMcDonald': -0.0004367162622975641, '0': {'type': '10-Q', 'published': datetime.date(2011, 5, 9), 'qtr': (2011, 2)}}\n",
      "[INFO] Comparing current qtr (2011, 3) to qtr (2011, 2) from 1 quarter ago.\n",
      "{'diff_jaccard': 0.8321030700647282, 'diff_cosine_tf': 0.9875250863814675, 'diff_cosine_tf_idf': 0.9837447396248055, 'diff_minEdit': 1.0, 'diff_simple': 1.0, 'sing_LoughranMcDonald': -0.0018140226325141767, '0': {'type': '10-Q', 'published': datetime.date(2012, 8, 1), 'qtr': (2012, 3)}}\n",
      "[INFO] Comparing current qtr (2012, 4) to qtr (2012, 3) from 1 quarter ago.\n",
      "{'diff_jaccard': 0.040319137350235554, 'diff_cosine_tf': 0.6052766560141303, 'diff_cosine_tf_idf': 0.5369173968522934, 'diff_minEdit': 0.8870913826121933, 'diff_simple': 0.6147338682873558, 'sing_LoughranMcDonald': -0.0008457107655509406, '0': {'type': '10-K', 'published': datetime.date(2012, 2, 28), 'qtr': (2012, 1)}}\n",
      "[INFO] Comparing current qtr (2012, 2) to qtr (2012, 1) from 1 quarter ago.\n",
      "{'diff_jaccard': 0.8454359365477966, 'diff_cosine_tf': 0.9778702689281028, 'diff_cosine_tf_idf': 0.9626597623248616, 'diff_minEdit': 0.9999999999999999, 'diff_simple': 0.9999999999999999, 'sing_LoughranMcDonald': -0.00040506757278988936, '0': {'type': '10-Q', 'published': datetime.date(2011, 8, 8), 'qtr': (2011, 3)}}\n",
      "[INFO] Comparing current qtr (2011, 4) to qtr (2011, 3) from 1 quarter ago.\n",
      "{'diff_jaccard': 0.813280107820436, 'diff_cosine_tf': 0.9895007269954188, 'diff_cosine_tf_idf': 0.9834947731160235, 'diff_minEdit': 1.0, 'diff_simple': 1.0, 'sing_LoughranMcDonald': -0.00168992450231807, '0': {'type': '10-Q', 'published': datetime.date(2012, 11, 1), 'qtr': (2012, 4)}}\n",
      "{'diff_jaccard': 0.7752655549656005, 'diff_cosine_tf': 0.9631921740178377, 'diff_cosine_tf_idf': 0.9477137453206429, 'diff_minEdit': 0.934443399707209, 'diff_simple': 0.9478632214142039, 'sing_LoughranMcDonald': 3.9103957019151706e-05, '0': {'type': '10-Q', 'published': datetime.date(2011, 11, 7), 'qtr': (2011, 4)}}\n"
     ]
    },
    {
     "name": "stderr",
     "output_type": "stream",
     "text": [
      "\n"
     ]
    },
    {
     "name": "stdout",
     "output_type": "stream",
     "text": [
      "[INFO] Comparing current qtr (2012, 1) to qtr (2011, 4) from 1 quarter ago.\n"
     ]
    },
    {
     "name": "stderr",
     "output_type": "stream",
     "text": [
      "\r",
      "11it [00:10,  1.31it/s]"
     ]
    },
    {
     "name": "stdout",
     "output_type": "stream",
     "text": [
      "{'diff_jaccard': 0.014767453070639657, 'diff_cosine_tf': 0.3409887944121792, 'diff_cosine_tf_idf': 0.2520173320267983, 'diff_minEdit': 0.9596049029211564, 'diff_simple': 0.7498051388893787, 'sing_LoughranMcDonald': 0.0, '0': {'type': '10-K', 'published': datetime.date(2012, 3, 15), 'qtr': (2012, 1)}}\n",
      "[INFO] Comparing current qtr (2012, 2) to qtr (2012, 1) from 1 quarter ago.\n",
      "{'diff_jaccard': 0.018675776817088246, 'diff_cosine_tf': 0.46776562298394214, 'diff_cosine_tf_idf': 0.38595340411027046, 'diff_minEdit': 0.7460540718044908, 'diff_simple': 0.6883513719854493, 'sing_LoughranMcDonald': -0.0003336508675749383, '0': {'type': '10-Q', 'published': datetime.date(2012, 5, 4), 'qtr': (2012, 2)}}\n",
      "[INFO] Comparing current qtr (2012, 3) to qtr (2012, 2) from 1 quarter ago.\n",
      "{'diff_jaccard': 0.016645132022109103, 'diff_cosine_tf': 0.36144700588875817, 'diff_cosine_tf_idf': 0.268887825522885, 'diff_minEdit': 0.9597153472742165, 'diff_simple': 0.7505419111448789, 'sing_LoughranMcDonald': -3.896874815352128e-05, '0': {'type': '10-Q', 'published': datetime.date(2012, 5, 2), 'qtr': (2012, 2)}}\n",
      "[INFO] Comparing current qtr (2012, 3) to qtr (2012, 2) from 1 quarter ago.\n",
      "[INFO] Comparing current qtr (2010, 2) to qtr (2010, 1) from 1 quarter ago.\n",
      "{'diff_jaccard': 0.9005886241431174, 'diff_cosine_tf': 0.9967040018056017, 'diff_cosine_tf_idf': 0.9963132257872046, 'diff_minEdit': 1.0, 'diff_simple': 1.0, 'sing_LoughranMcDonald': -0.000109725385657726, '0': {'type': '10-Q', 'published': datetime.date(2010, 8, 6), 'qtr': (2010, 3)}}\n",
      "[INFO] Comparing current qtr (2010, 4) to qtr (2010, 3) from 1 quarter ago.\n",
      "{'diff_jaccard': 0.830075949271376, 'diff_cosine_tf': 0.9639866363790468, 'diff_cosine_tf_idf': 0.9471174693047992, 'diff_minEdit': 1.0, 'diff_simple': 1.0, 'sing_LoughranMcDonald': -0.00016819601964612963, '0': {'type': '10-Q', 'published': datetime.date(2012, 8, 3), 'qtr': (2012, 3)}}\n",
      "[INFO] Comparing current qtr (2012, 4) to qtr (2012, 3) from 1 quarter ago.\n",
      "{'diff_jaccard': 0.23517945409619, 'diff_cosine_tf': 0.7734093319519603, 'diff_cosine_tf_idf': 0.7445485273900172, 'diff_minEdit': 0.7323647056453834, 'diff_simple': 0.7237098400569543, 'sing_LoughranMcDonald': -0.00043723290628512276, '0': {'type': '10-Q', 'published': datetime.date(2010, 5, 17), 'qtr': (2010, 2)}}\n",
      "[INFO] Comparing current qtr (2010, 3) to qtr (2010, 2) from 1 quarter ago.\n",
      "{'diff_jaccard': 0.8584613896442703, 'diff_cosine_tf': 0.9776927781454697, 'diff_cosine_tf_idf': 0.9634301551185188, 'diff_minEdit': 1.0, 'diff_simple': 1.0, 'sing_LoughranMcDonald': 5.682778320217086e-05, '0': {'type': '10-Q', 'published': datetime.date(2012, 11, 2), 'qtr': (2012, 4)}}\n",
      "{'diff_jaccard': 0.7772132281918013, 'diff_cosine_tf': 0.9855955316771894, 'diff_cosine_tf_idf': 0.9839490310254778, 'diff_minEdit': 0.9984419978039588, 'diff_simple': 0.9955129536754014, 'sing_LoughranMcDonald': -9.845351948027576e-05, '0': {'type': '10-Q', 'published': datetime.date(2012, 8, 2), 'qtr': (2012, 3)}}\n",
      "[INFO] Comparing current qtr (2012, 4) to qtr (2012, 3) from 1 quarter ago.\n",
      "{'diff_jaccard': 0.7739041441409324, 'diff_cosine_tf': 0.9495527217652149, 'diff_cosine_tf_idf': 0.94224186556742, 'diff_minEdit': 1.0, 'diff_simple': 1.0, 'sing_LoughranMcDonald': -0.0006447621930020009, '0': {'type': '10-Q', 'published': datetime.date(2010, 8, 10), 'qtr': (2010, 3)}}\n",
      "[INFO] Comparing current qtr (2010, 4) to qtr (2010, 3) from 1 quarter ago.\n",
      "{'diff_jaccard': 0.7727945240180986, 'diff_cosine_tf': 0.9706532002701889, 'diff_cosine_tf_idf': 0.9630051060272512, 'diff_minEdit': 0.9918156854865717, 'diff_simple': 0.9908160745536339, 'sing_LoughranMcDonald': -0.0024330283341800736, '0': {'type': '10-Q', 'published': datetime.date(2010, 11, 15), 'qtr': (2010, 4)}}\n",
      "{'diff_jaccard': 0.8071197604987385, 'diff_cosine_tf': 0.9906833884779943, 'diff_cosine_tf_idf': 0.9886998261698328, 'diff_minEdit': 1.0, 'diff_simple': 1.0, 'sing_LoughranMcDonald': -0.0001447403148537185, '0': {'type': '10-Q', 'published': datetime.date(2012, 11, 6), 'qtr': (2012, 4)}}\n",
      "{'diff_jaccard': 0.9159288604863836, 'diff_cosine_tf': 0.9982237931304362, 'diff_cosine_tf_idf': 0.9980520100887073, 'diff_minEdit': 1.0, 'diff_simple': 1.0, 'sing_LoughranMcDonald': -0.0001112392315250207, '0': {'type': '10-Q', 'published': datetime.date(2010, 11, 5), 'qtr': (2010, 4)}}\n",
      "[INFO] Comparing current qtr (2011, 1) to qtr (2010, 4) from 1 quarter ago.\n"
     ]
    },
    {
     "name": "stderr",
     "output_type": "stream",
     "text": [
      " 12%|█▏        | 12/100 [00:10<01:02,  1.41it/s]\n",
      "12it [00:10,  1.47it/s]\u001b[A"
     ]
    },
    {
     "name": "stdout",
     "output_type": "stream",
     "text": [
      "{'diff_jaccard': 0.7068157651230558, 'diff_cosine_tf': 0.9884875547654789, 'diff_cosine_tf_idf': 0.9873269655950045, 'diff_minEdit': 0.9629954657766393, 'diff_simple': 0.9862385221407226, 'sing_LoughranMcDonald': -0.0001545374114425234, '0': {'type': '10-K', 'published': datetime.date(2011, 2, 25), 'qtr': (2011, 1)}}\n",
      "[INFO] Comparing current qtr (2011, 2) to qtr (2011, 1) from 1 quarter ago.\n"
     ]
    },
    {
     "name": "stderr",
     "output_type": "stream",
     "text": [
      "\r",
      " 16%|█▌        | 16/100 [00:11<00:44,  1.87it/s]"
     ]
    },
    {
     "name": "stdout",
     "output_type": "stream",
     "text": [
      "{'diff_jaccard': 0.7319909332516568, 'diff_cosine_tf': 0.9773403131669759, 'diff_cosine_tf_idf': 0.974912779120439, 'diff_minEdit': 0.9279556755153432, 'diff_simple': 0.9724044073222838, 'sing_LoughranMcDonald': -0.0004696877888746722, '0': {'type': '10-Q', 'published': datetime.date(2011, 5, 10), 'qtr': (2011, 2)}}\n"
     ]
    },
    {
     "name": "stderr",
     "output_type": "stream",
     "text": [
      "\n",
      "16it [00:10,  1.95it/s]\u001b[A"
     ]
    },
    {
     "name": "stdout",
     "output_type": "stream",
     "text": [
      "[INFO] Comparing current qtr (2012, 3) to qtr (2012, 2) from 1 quarter ago.\n",
      "{'diff_jaccard': 0.9426158908161277, 'diff_cosine_tf': 0.995452252467058, 'diff_cosine_tf_idf': 0.9937148978819779, 'diff_minEdit': 1.0, 'diff_simple': 1.0, 'sing_LoughranMcDonald': -0.00036571964912387046, '0': {'type': '10-Q', 'published': datetime.date(2012, 8, 8), 'qtr': (2012, 3)}}\n",
      "[INFO] Comparing current qtr (2012, 4) to qtr (2012, 3) from 1 quarter ago.\n"
     ]
    },
    {
     "name": "stderr",
     "output_type": "stream",
     "text": [
      "\r",
      " 17%|█▋        | 17/100 [00:12<01:08,  1.20it/s]"
     ]
    },
    {
     "name": "stdout",
     "output_type": "stream",
     "text": [
      "{'diff_jaccard': 0.9678918543443745, 'diff_cosine_tf': 0.9979084722883192, 'diff_cosine_tf_idf': 0.9962762866622842, 'diff_minEdit': 1.0, 'diff_simple': 1.0, 'sing_LoughranMcDonald': -0.0003661353041612954, '0': {'type': '10-Q', 'published': datetime.date(2012, 11, 2), 'qtr': (2012, 4)}}\n"
     ]
    },
    {
     "name": "stderr",
     "output_type": "stream",
     "text": [
      "\n",
      "17it [00:12,  1.22it/s]\u001b[A"
     ]
    },
    {
     "name": "stdout",
     "output_type": "stream",
     "text": [
      "[INFO] Comparing current qtr (2010, 2) to qtr (2010, 1) from 1 quarter ago.\n",
      "{'diff_jaccard': 0.008288806156516325, 'diff_cosine_tf': 0.06535922345460415, 'diff_cosine_tf_idf': 0.03896029027958956, 'diff_minEdit': 0.5844421172251417, 'diff_simple': 0.21523284369537116, 'sing_LoughranMcDonald': -0.0008297217136353489, '0': {'type': '10-Q', 'published': datetime.date(2010, 5, 13), 'qtr': (2010, 2)}}\n"
     ]
    },
    {
     "name": "stderr",
     "output_type": "stream",
     "text": [
      "\r",
      " 18%|█▊        | 18/100 [00:13<01:04,  1.28it/s]"
     ]
    },
    {
     "name": "stdout",
     "output_type": "stream",
     "text": [
      "[INFO] Comparing current qtr (2010, 3) to qtr (2010, 2) from 1 quarter ago.\n"
     ]
    },
    {
     "name": "stderr",
     "output_type": "stream",
     "text": [
      "\n"
     ]
    },
    {
     "name": "stdout",
     "output_type": "stream",
     "text": [
      "{'diff_jaccard': 0.25321323859574263, 'diff_cosine_tf': 0.31795043687242863, 'diff_cosine_tf_idf': 0.2920879421687883, 'diff_minEdit': 0.6954346729443417, 'diff_simple': 0.4205040746147495, 'sing_LoughranMcDonald': -0.008635487566136368, '0': {'type': '10-Q', 'published': datetime.date(2010, 8, 16), 'qtr': (2010, 3)}}\n",
      "[INFO] Comparing current qtr (2010, 4) to qtr (2010, 3) from 1 quarter ago.\n",
      "{'diff_jaccard': 0.6593857659898352, 'diff_cosine_tf': 0.7971748063943194, 'diff_cosine_tf_idf': 0.7537184824568111, 'diff_minEdit': 0.9051416297489596, 'diff_simple': 0.7671952131637996, 'sing_LoughranMcDonald': -0.010494002218751988, '0': {'type': '10-Q', 'published': datetime.date(2010, 11, 3), 'qtr': (2010, 4)}}\n"
     ]
    },
    {
     "name": "stderr",
     "output_type": "stream",
     "text": [
      "18it [00:13,  1.30it/s]\u001b[A"
     ]
    },
    {
     "name": "stdout",
     "output_type": "stream",
     "text": [
      "[INFO] Comparing current qtr (2010, 2) to qtr (2010, 1) from 1 quarter ago.\n",
      "{'diff_jaccard': 0.10655371776699496, 'diff_cosine_tf': 0.3205032169320547, 'diff_cosine_tf_idf': 0.236391315801481, 'diff_minEdit': 0.8924179841428098, 'diff_simple': 0.5175281032908151, 'sing_LoughranMcDonald': 0.0, '0': {'type': '10-Q', 'published': datetime.date(2010, 5, 7), 'qtr': (2010, 2)}}\n"
     ]
    },
    {
     "name": "stderr",
     "output_type": "stream",
     "text": [
      "\r",
      " 19%|█▉        | 19/100 [00:14<01:09,  1.17it/s]"
     ]
    },
    {
     "name": "stdout",
     "output_type": "stream",
     "text": [
      "[INFO] Comparing current qtr (2010, 3) to qtr (2010, 2) from 1 quarter ago.\n"
     ]
    },
    {
     "name": "stderr",
     "output_type": "stream",
     "text": [
      "\n"
     ]
    },
    {
     "name": "stdout",
     "output_type": "stream",
     "text": [
      "{'diff_jaccard': 0.7558823529411764, 'diff_cosine_tf': 0.8529411764705881, 'diff_cosine_tf_idf': 0.7651478411571525, 'diff_minEdit': 0.8802521008403362, 'diff_simple': 0.969484479838447, 'sing_LoughranMcDonald': 0.0, '0': {'type': '10-Q', 'published': datetime.date(2010, 8, 6), 'qtr': (2010, 3)}}\n"
     ]
    },
    {
     "name": "stderr",
     "output_type": "stream",
     "text": [
      "\r",
      "19it [00:14,  1.18it/s]"
     ]
    },
    {
     "name": "stdout",
     "output_type": "stream",
     "text": [
      "[INFO] Comparing current qtr (2010, 4) to qtr (2010, 3) from 1 quarter ago.\n"
     ]
    },
    {
     "name": "stderr",
     "output_type": "stream",
     "text": [
      "\u001b[A"
     ]
    },
    {
     "name": "stdout",
     "output_type": "stream",
     "text": [
      "{'diff_jaccard': 0.7558823529411764, 'diff_cosine_tf': 0.8529411764705881, 'diff_cosine_tf_idf': 0.7651478411571525, 'diff_minEdit': 0.9243697478991596, 'diff_simple': 0.9753668327796234, 'sing_LoughranMcDonald': 0.0, '0': {'type': '10-Q', 'published': datetime.date(2010, 11, 5), 'qtr': (2010, 4)}}\n",
      "[INFO] Comparing current qtr (2011, 1) to qtr (2010, 4) from 1 quarter ago.\n",
      "{'diff_jaccard': 0.10958815918057467, 'diff_cosine_tf': 0.32354723929149404, 'diff_cosine_tf_idf': 0.23844249835681341, 'diff_minEdit': 0.8876533554645886, 'diff_simple': 0.5214415311847833, 'sing_LoughranMcDonald': -0.0254232623081767, '0': {'type': '10-K', 'published': datetime.date(2011, 2, 25), 'qtr': (2011, 1)}}\n",
      "[INFO] Comparing current qtr (2011, 2) to qtr (2011, 1) from 1 quarter ago.\n",
      "{'diff_jaccard': 0.11476414261742768, 'diff_cosine_tf': 0.356403293596704, 'diff_cosine_tf_idf': 0.26411038624533817, 'diff_minEdit': 0.8843969150438087, 'diff_simple': 0.5298143375167733, 'sing_LoughranMcDonald': 0.0, '0': {'type': '10-Q', 'published': datetime.date(2011, 5, 6), 'qtr': (2011, 2)}}\n",
      "[INFO] Comparing current qtr (2011, 3) to qtr (2011, 2) from 1 quarter ago.\n",
      "{'diff_jaccard': 0.7558823529411764, 'diff_cosine_tf': 0.8529411764705881, 'diff_cosine_tf_idf': 0.7651478411571525, 'diff_minEdit': 0.9243697478991596, 'diff_simple': 0.9507336655592469, 'sing_LoughranMcDonald': 0.0, '0': {'type': '10-Q', 'published': datetime.date(2011, 8, 5), 'qtr': (2011, 3)}}\n",
      "[INFO] Comparing current qtr (2011, 4) to qtr (2011, 3) from 1 quarter ago.\n",
      "{'diff_jaccard': 0.7558823529411764, 'diff_cosine_tf': 0.8529411764705881, 'diff_cosine_tf_idf': 0.7651478411571525, 'diff_minEdit': 0.9243697478991596, 'diff_simple': 0.9753668327796234, 'sing_LoughranMcDonald': 0.0, '0': {'type': '10-Q', 'published': datetime.date(2011, 11, 4), 'qtr': (2011, 4)}}\n",
      "[INFO] Comparing current qtr (2012, 1) to qtr (2011, 4) from 1 quarter ago.\n",
      "{'diff_jaccard': 0.10833884158079732, 'diff_cosine_tf': 0.31010388630085245, 'diff_cosine_tf_idf': 0.22692800668448887, 'diff_minEdit': 0.8934101538569966, 'diff_simple': 0.5072661400928213, 'sing_LoughranMcDonald': -0.024368493245343008, '0': {'type': '10-K', 'published': datetime.date(2012, 2, 22), 'qtr': (2012, 1)}}\n",
      "[INFO] Comparing current qtr (2012, 2) to qtr (2012, 1) from 1 quarter ago.\n",
      "{'diff_jaccard': 0.10833884158079732, 'diff_cosine_tf': 0.31010388630085245, 'diff_cosine_tf_idf': 0.22692800668448887, 'diff_minEdit': 0.8934101538569966, 'diff_simple': 0.5072661400928213, 'sing_LoughranMcDonald': 0.0, '0': {'type': '10-Q', 'published': datetime.date(2012, 5, 4), 'qtr': (2012, 2)}}\n",
      "[INFO] Comparing current qtr (2012, 3) to qtr (2012, 2) from 1 quarter ago.\n",
      "{'diff_jaccard': 0.7558823529411764, 'diff_cosine_tf': 0.8529411764705881, 'diff_cosine_tf_idf': 0.7651478411571525, 'diff_minEdit': 0.9243697478991596, 'diff_simple': 0.9710776170933489, 'sing_LoughranMcDonald': 0.0, '0': {'type': '10-Q', 'published': datetime.date(2012, 8, 3), 'qtr': (2012, 3)}}\n",
      "[INFO] Comparing current qtr (2012, 4) to qtr (2012, 3) from 1 quarter ago.\n",
      "{'diff_jaccard': 0.7558823529411764, 'diff_cosine_tf': 0.8529411764705881, 'diff_cosine_tf_idf': 0.7651478411571525, 'diff_minEdit': 0.9243697478991596, 'diff_simple': 0.9753668327796234, 'sing_LoughranMcDonald': 0.0, '0': {'type': '10-Q', 'published': datetime.date(2012, 11, 2), 'qtr': (2012, 4)}}\n",
      "This is the res {'_i_1': [(180315, 180349)], '_i_2': [], '_i_3': [(268887, 268924)], '_i_4': [(269201, 269234)], 'ii_1': [(271279, 271309)], 'ii_1a': [(271529, 271559)], 'ii_6': [(271776, 271809)]}\n",
      "[WARNING] /home/alex/Desktop/filtered_text_data/nd_data/2010/QTR2/20100507_10-Q_edgar_data_49196_0000950123-10-046488_1.txt failed parsing\n"
     ]
    },
    {
     "name": "stderr",
     "output_type": "stream",
     "text": [
      "\r",
      " 20%|██        | 20/100 [00:16<01:28,  1.11s/it]"
     ]
    },
    {
     "name": "stdout",
     "output_type": "stream",
     "text": [
      "[INFO] Comparing current qtr (2010, 2) to qtr (2010, 1) from 1 quarter ago.\n"
     ]
    },
    {
     "name": "stderr",
     "output_type": "stream",
     "text": [
      "\n"
     ]
    },
    {
     "name": "stdout",
     "output_type": "stream",
     "text": [
      "{'diff_jaccard': 0.4209660164340713, 'diff_cosine_tf': 0.9341015201003188, 'diff_cosine_tf_idf': 0.9175029508554644, 'diff_minEdit': 0.7640948197497753, 'diff_simple': 0.6932824868073877, 'sing_LoughranMcDonald': -0.0015693721788335524, '0': {'type': '10-Q', 'published': datetime.date(2010, 5, 10), 'qtr': (2010, 2)}}\n",
      "[INFO] Comparing current qtr (2010, 3) to qtr (2010, 2) from 1 quarter ago.\n"
     ]
    },
    {
     "name": "stderr",
     "output_type": "stream",
     "text": [
      "20it [00:15,  1.11s/it]\u001b[A"
     ]
    },
    {
     "name": "stdout",
     "output_type": "stream",
     "text": [
      "{'diff_jaccard': 0.8546979293983199, 'diff_cosine_tf': 0.9758017064028953, 'diff_cosine_tf_idf': 0.9738823649537018, 'diff_minEdit': 0.9911024607257055, 'diff_simple': 0.9865518108678603, 'sing_LoughranMcDonald': -0.0007071341118999433, '0': {'type': '10-Q', 'published': datetime.date(2010, 8, 10), 'qtr': (2010, 3)}}\n",
      "[INFO] Comparing current qtr (2010, 4) to qtr (2010, 3) from 1 quarter ago.\n",
      "{'diff_jaccard': 0.0090022631103305, 'diff_cosine_tf': 0.4184283735497204, 'diff_cosine_tf_idf': 0.3267375888703006, 'diff_minEdit': 0.9591606236792216, 'diff_simple': 0.8036130931275353, 'sing_LoughranMcDonald': 0.0, '0': {'type': '10-Q', 'published': datetime.date(2010, 11, 9), 'qtr': (2010, 4)}}\n",
      "[INFO] Comparing current qtr (2011, 1) to qtr (2010, 4) from 1 quarter ago.\n",
      "{'diff_jaccard': 0.003567728489922968, 'diff_cosine_tf': 0.24965652774381858, 'diff_cosine_tf_idf': 0.19032383958557988, 'diff_minEdit': 0.8753854621047996, 'diff_simple': 0.5492634824822386, 'sing_LoughranMcDonald': -0.0005713557996139089, '0': {'type': '10-K', 'published': datetime.date(2011, 2, 28), 'qtr': (2011, 1)}}\n",
      "[INFO] Comparing current qtr (2011, 2) to qtr (2011, 1) from 1 quarter ago.\n",
      "{'diff_jaccard': 0.44258587383079745, 'diff_cosine_tf': 0.8243574004945259, 'diff_cosine_tf_idf': 0.8031306671979082, 'diff_minEdit': 0.7678895556226234, 'diff_simple': 0.697371505861136, 'sing_LoughranMcDonald': -0.0011698977067033157, '0': {'type': '10-Q', 'published': datetime.date(2011, 5, 6), 'qtr': (2011, 2)}}\n",
      "[INFO] Comparing current qtr (2011, 3) to qtr (2011, 2) from 1 quarter ago.\n",
      "{'diff_jaccard': 0.710358336283055, 'diff_cosine_tf': 0.990567903918644, 'diff_cosine_tf_idf': 0.9889696673569197, 'diff_minEdit': 0.999214600377596, 'diff_simple': 0.99935859030837, 'sing_LoughranMcDonald': -0.0010916125233762688, '0': {'type': '10-Q', 'published': datetime.date(2011, 8, 11), 'qtr': (2011, 3)}}\n",
      "[INFO] Comparing current qtr (2011, 4) to qtr (2011, 3) from 1 quarter ago.\n",
      "[INFO] Comparing current qtr (2011, 1) to qtr (2010, 4) from 1 quarter ago.\n",
      "{'diff_jaccard': 0.008144157303805431, 'diff_cosine_tf': 0.4344126754889045, 'diff_cosine_tf_idf': 0.34020038246984313, 'diff_minEdit': 0.9602239781523094, 'diff_simple': 0.8146398508024912, 'sing_LoughranMcDonald': 0.0, '0': {'type': '10-Q', 'published': datetime.date(2011, 11, 10), 'qtr': (2011, 4)}}\n",
      "[INFO] Comparing current qtr (2012, 1) to qtr (2011, 4) from 1 quarter ago.\n",
      "[INFO] Comparing current qtr (2010, 2) to qtr (2010, 1) from 1 quarter ago.\n",
      "{'diff_jaccard': 1.0, 'diff_cosine_tf': 0.9999999999999999, 'diff_cosine_tf_idf': 0.9999999999999999, 'diff_minEdit': 1.0, 'diff_simple': 1.0, 'sing_LoughranMcDonald': 0.0, '0': {'type': '10-Q', 'published': datetime.date(2010, 5, 17), 'qtr': (2010, 2)}}\n",
      "[INFO] Comparing current qtr (2010, 3) to qtr (2010, 2) from 1 quarter ago.\n",
      "{'diff_jaccard': 1.0, 'diff_cosine_tf': 0.9999999999999999, 'diff_cosine_tf_idf': 0.9999999999999999, 'diff_minEdit': 1.0, 'diff_simple': 1.0, 'sing_LoughranMcDonald': 0.0, '0': {'type': '10-Q', 'published': datetime.date(2010, 8, 16), 'qtr': (2010, 3)}}\n",
      "[INFO] Comparing current qtr (2010, 4) to qtr (2010, 3) from 1 quarter ago.\n",
      "{'diff_jaccard': 0.0034771161229277697, 'diff_cosine_tf': 0.2569698161952818, 'diff_cosine_tf_idf': 0.1975623638581084, 'diff_minEdit': 0.8752956917974286, 'diff_simple': 0.5540882187196171, 'sing_LoughranMcDonald': -0.000494974158906265, '0': {'type': '10-K', 'published': datetime.date(2012, 3, 23), 'qtr': (2012, 1)}}\n",
      "{'diff_jaccard': 1.0, 'diff_cosine_tf': 0.9999999999999999, 'diff_cosine_tf_idf': 0.9999999999999999, 'diff_minEdit': 1.0, 'diff_simple': 1.0, 'sing_LoughranMcDonald': 0.0, '0': {'type': '10-Q', 'published': datetime.date(2010, 11, 15), 'qtr': (2010, 4)}}\n",
      "[INFO] Comparing current qtr (2012, 2) to qtr (2012, 1) from 1 quarter ago.\n",
      "[INFO] Comparing current qtr (2011, 1) to qtr (2010, 4) from 1 quarter ago.\n",
      "{'diff_jaccard': 0.004327208317704897, 'diff_cosine_tf': 0.06513140180190513, 'diff_cosine_tf_idf': 0.03693332220602125, 'diff_minEdit': 0.5954676361149828, 'diff_simple': 0.20092888917165783, 'sing_LoughranMcDonald': -0.0006032212097995923, '0': {'type': '10-K', 'published': datetime.date(2011, 3, 31), 'qtr': (2011, 1)}}\n",
      "[INFO] Comparing current qtr (2011, 2) to qtr (2011, 1) from 1 quarter ago.\n",
      "{'diff_jaccard': 0.3492764461580395, 'diff_cosine_tf': 0.7861024679654448, 'diff_cosine_tf_idf': 0.746504832831185, 'diff_minEdit': 0.7396999292939421, 'diff_simple': 0.6157888617326721, 'sing_LoughranMcDonald': -0.00031603072101633515, '0': {'type': '10-K', 'published': datetime.date(2011, 3, 11), 'qtr': (2011, 1)}}\n",
      "[INFO] Comparing current qtr (2011, 2) to qtr (2011, 1) from 1 quarter ago.\n",
      "{'diff_jaccard': 0.018059989020593976, 'diff_cosine_tf': 0.4216970280407094, 'diff_cosine_tf_idf': 0.32496117870435065, 'diff_minEdit': 0.8746141663621034, 'diff_simple': 0.7275453930615453, 'sing_LoughranMcDonald': 0.0, '0': {'type': '10-Q', 'published': datetime.date(2011, 5, 16), 'qtr': (2011, 2)}}\n",
      "[INFO] Comparing current qtr (2011, 3) to qtr (2011, 2) from 1 quarter ago.\n",
      "{'diff_jaccard': 0.7928550207961973, 'diff_cosine_tf': 0.8955954192380707, 'diff_cosine_tf_idf': 0.8291360427593231, 'diff_minEdit': 0.9390756302521008, 'diff_simple': 0.9793599302466084, 'sing_LoughranMcDonald': 0.0, '0': {'type': '10-Q', 'published': datetime.date(2011, 8, 15), 'qtr': (2011, 3)}}\n",
      "[INFO] Comparing current qtr (2011, 4) to qtr (2011, 3) from 1 quarter ago.\n",
      "{'diff_jaccard': 0.334174944702113, 'diff_cosine_tf': 0.7925124330430073, 'diff_cosine_tf_idf': 0.7672511892549999, 'diff_minEdit': 0.7595103674126747, 'diff_simple': 0.6869748628704471, 'sing_LoughranMcDonald': -0.0017104110341126047, '0': {'type': '10-Q', 'published': datetime.date(2012, 5, 10), 'qtr': (2012, 2)}}\n",
      "[INFO] Comparing current qtr (2012, 3) to qtr (2012, 2) from 1 quarter ago.\n",
      "{'diff_jaccard': 0.9084967320261439, 'diff_cosine_tf': 0.9369747899159662, 'diff_cosine_tf_idf': 0.9026691750136624, 'diff_minEdit': 0.9684873949579832, 'diff_simple': 0.9905695611577964, 'sing_LoughranMcDonald': 0.0, '0': {'type': '10-Q', 'published': datetime.date(2011, 11, 14), 'qtr': (2011, 4)}}\n",
      "[INFO] Comparing current qtr (2012, 1) to qtr (2011, 4) from 1 quarter ago.\n",
      "{'diff_jaccard': 0.4967765894236483, 'diff_cosine_tf': 0.6141059144332227, 'diff_cosine_tf_idf': 0.5337319287961428, 'diff_minEdit': 0.8808823529411766, 'diff_simple': 0.7129330223900882, 'sing_LoughranMcDonald': 0.0, '0': {'type': '10-K', 'published': datetime.date(2012, 3, 26), 'qtr': (2012, 1)}}\n",
      "{'diff_jaccard': 0.011471043613647711, 'diff_cosine_tf': 0.41142684896596177, 'diff_cosine_tf_idf': 0.31760891804889074, 'diff_minEdit': 0.9262020289442098, 'diff_simple': 0.7919865981863855, 'sing_LoughranMcDonald': 0.0, '0': {'type': '10-Q', 'published': datetime.date(2012, 8, 10), 'qtr': (2012, 3)}}\n",
      "[INFO] Comparing current qtr (2012, 2) to qtr (2012, 1) from 1 quarter ago.\n",
      "{'diff_jaccard': 0.3341151877145833, 'diff_cosine_tf': 0.7540885858008907, 'diff_cosine_tf_idf': 0.7242501878809346, 'diff_minEdit': 0.7386961492700097, 'diff_simple': 0.6439751629774683, 'sing_LoughranMcDonald': -0.0015630915479360307, '0': {'type': '10-Q', 'published': datetime.date(2011, 5, 10), 'qtr': (2011, 2)}}\n",
      "[INFO] Comparing current qtr (2011, 3) to qtr (2011, 2) from 1 quarter ago.\n",
      "[INFO] Comparing current qtr (2012, 4) to qtr (2012, 3) from 1 quarter ago.\n",
      "{'diff_jaccard': 0.4967765894236483, 'diff_cosine_tf': 0.6256677202259155, 'diff_cosine_tf_idf': 0.5548325731915134, 'diff_minEdit': 0.8661764705882353, 'diff_simple': 0.7205887820965944, 'sing_LoughranMcDonald': 0.0, '0': {'type': '10-Q', 'published': datetime.date(2012, 5, 15), 'qtr': (2012, 2)}}\n",
      "[INFO] Comparing current qtr (2012, 3) to qtr (2012, 2) from 1 quarter ago.\n",
      "{'diff_jaccard': 1.0, 'diff_cosine_tf': 0.9999999999999999, 'diff_cosine_tf_idf': 0.9999999999999999, 'diff_minEdit': 1.0, 'diff_simple': 1.0, 'sing_LoughranMcDonald': 0.0, '0': {'type': '10-Q', 'published': datetime.date(2012, 8, 14), 'qtr': (2012, 3)}}\n",
      "[INFO] Comparing current qtr (2012, 4) to qtr (2012, 3) from 1 quarter ago.\n",
      "{'diff_jaccard': 0.904793360863883, 'diff_cosine_tf': 0.9721900847445321, 'diff_cosine_tf_idf': 0.9712232678781871, 'diff_minEdit': 0.993916990920882, 'diff_simple': 0.9900238651102464, 'sing_LoughranMcDonald': -0.001292384586950701, '0': {'type': '10-Q', 'published': datetime.date(2011, 8, 5), 'qtr': (2011, 3)}}\n"
     ]
    },
    {
     "name": "stdout",
     "output_type": "stream",
     "text": [
      "{'diff_jaccard': 0.005101822272779949, 'diff_cosine_tf': 0.008344255283315553, 'diff_cosine_tf_idf': 0.006841927990313681, 'diff_minEdit': 0.9499653709831473, 'diff_simple': 0.23129326670172187, 'sing_LoughranMcDonald': -0.0003593238728580246, '0': {'type': '10-Q', 'published': datetime.date(2012, 11, 9), 'qtr': (2012, 4)}}\n",
      "{'diff_jaccard': 0.7928550207961973, 'diff_cosine_tf': 0.9378618087231845, 'diff_cosine_tf_idf': 0.9024308567343072, 'diff_minEdit': 0.9390756302521008, 'diff_simple': 0.9767215460992202, 'sing_LoughranMcDonald': 0.0, '0': {'type': '10-Q', 'published': datetime.date(2012, 11, 14), 'qtr': (2012, 4)}}\n"
     ]
    },
    {
     "name": "stderr",
     "output_type": "stream",
     "text": [
      " 21%|██        | 21/100 [00:18<01:55,  1.47s/it]\n",
      "21it [00:18,  1.46s/it]\u001b[A"
     ]
    },
    {
     "name": "stdout",
     "output_type": "stream",
     "text": [
      "[INFO] Comparing current qtr (2011, 4) to qtr (2011, 3) from 1 quarter ago.\n",
      "{'diff_jaccard': 0.8685855277865213, 'diff_cosine_tf': 0.9818494034839458, 'diff_cosine_tf_idf': 0.9814578490113331, 'diff_minEdit': 1.0, 'diff_simple': 1.0, 'sing_LoughranMcDonald': -0.00123812865478965, '0': {'type': '10-Q', 'published': datetime.date(2011, 11, 4), 'qtr': (2011, 4)}}\n",
      "[INFO] Comparing current qtr (2012, 1) to qtr (2011, 4) from 1 quarter ago.\n",
      "{'diff_jaccard': 0.3374352234183491, 'diff_cosine_tf': 0.7588937598148343, 'diff_cosine_tf_idf': 0.7305660288757924, 'diff_minEdit': 0.7559214582037003, 'diff_simple': 0.6529929036505963, 'sing_LoughranMcDonald': -0.0003562472456683352, '0': {'type': '10-K', 'published': datetime.date(2012, 3, 12), 'qtr': (2012, 1)}}\n",
      "[INFO] Comparing current qtr (2012, 2) to qtr (2012, 1) from 1 quarter ago.\n",
      "{'diff_jaccard': 0.024030516219349672, 'diff_cosine_tf': 0.32615247203025927, 'diff_cosine_tf_idf': 0.2756308402020796, 'diff_minEdit': 0.6191996596816165, 'diff_simple': 0.3390604785996576, 'sing_LoughranMcDonald': -0.028930534254808345, '0': {'type': '10-Q', 'published': datetime.date(2012, 5, 8), 'qtr': (2012, 2)}}\n",
      "[INFO] Comparing current qtr (2012, 3) to qtr (2012, 2) from 1 quarter ago.\n"
     ]
    },
    {
     "name": "stderr",
     "output_type": "stream",
     "text": [
      "\r",
      " 23%|██▎       | 23/100 [00:20<01:42,  1.33s/it]"
     ]
    },
    {
     "name": "stdout",
     "output_type": "stream",
     "text": [
      "[INFO] Comparing current qtr (2010, 2) to qtr (2010, 1) from 1 quarter ago.\n",
      "{'diff_jaccard': 0.08912546433736063, 'diff_cosine_tf': 0.17412033171130137, 'diff_cosine_tf_idf': 0.14332019126364234, 'diff_minEdit': 0.6869237261314486, 'diff_simple': 0.28303143388881324, 'sing_LoughranMcDonald': -0.0016004478251382698, '0': {'type': '10-Q', 'published': datetime.date(2012, 8, 7), 'qtr': (2012, 3)}}\n",
      "[INFO] Comparing current qtr (2012, 4) to qtr (2012, 3) from 1 quarter ago.\n",
      "{'diff_jaccard': 0.15294461561556844, 'diff_cosine_tf': 0.7467813466948373, 'diff_cosine_tf_idf': 0.7162636490666479, 'diff_minEdit': 0.7227132183426309, 'diff_simple': 0.42031957252375246, 'sing_LoughranMcDonald': -7.591477691582562e-05, '0': {'type': '10-Q', 'published': datetime.date(2010, 5, 6), 'qtr': (2010, 2)}}\n",
      "{'diff_jaccard': 0.8532770291062439, 'diff_cosine_tf': 0.9825564810326178, 'diff_cosine_tf_idf': 0.9764245397663635, 'diff_minEdit': 0.9961799203701712, 'diff_simple': 0.9925508447218337, 'sing_LoughranMcDonald': -0.0009419915912183745, '0': {'type': '10-Q', 'published': datetime.date(2012, 11, 5), 'qtr': (2012, 4)}}\n",
      "[INFO] Comparing current qtr (2010, 3) to qtr (2010, 2) from 1 quarter ago.\n",
      "{'diff_jaccard': 0.684979157934687, 'diff_cosine_tf': 0.9737272097428952, 'diff_cosine_tf_idf': 0.9662056273153494, 'diff_minEdit': 0.5159890270322881, 'diff_simple': 0.6108203121644419, 'sing_LoughranMcDonald': -5.2728650903855955e-05, '0': {'type': '10-Q', 'published': datetime.date(2010, 8, 6), 'qtr': (2010, 3)}}\n",
      "[INFO] Comparing current qtr (2010, 4) to qtr (2010, 3) from 1 quarter ago.\n",
      "[INFO] Comparing current qtr (2010, 2) to qtr (2010, 1) from 1 quarter ago.\n",
      "This is the res {'_i_1': [(5550, 5575)], '_i_2': [(50177, 50198)], '_i_3': [(95772, 95795)], '_i_4': [(98295, 98314)], 'ii_1': [(103386, 103402)], 'ii_1a': [(103633, 103649)], 'ii_2': [], 'ii_3': [(5315, 5335)], 'ii_6': [(5461, 5481), (108852, 108871)]}\n",
      "[WARNING] /home/alex/Desktop/filtered_text_data/nd_data/2010/QTR4/20101105_10-Q_edgar_data_1441849_0001104659-10-056176_1.txt failed parsing\n"
     ]
    },
    {
     "name": "stderr",
     "output_type": "stream",
     "text": [
      "\n"
     ]
    },
    {
     "name": "stdout",
     "output_type": "stream",
     "text": [
      "{'diff_jaccard': 0.28998287006262363, 'diff_cosine_tf': 0.9021116818994437, 'diff_cosine_tf_idf': 0.8901849675226916, 'diff_minEdit': 0.831586014969344, 'diff_simple': 0.8191522588191834, 'sing_LoughranMcDonald': -0.0008155536774299935, '0': {'type': '10-Q', 'published': datetime.date(2010, 4, 30), 'qtr': (2010, 2)}}\n",
      "{'diff_jaccard': 0.7763092255416367, 'diff_cosine_tf': 0.9838046705340614, 'diff_cosine_tf_idf': 0.9749247503774627, 'diff_minEdit': 0.6671800198178194, 'diff_simple': 0.5907844852224259, 'sing_LoughranMcDonald': -3.698317948040899e-05, '0': {'type': '10-Q', 'published': datetime.date(2010, 11, 8), 'qtr': (2010, 4)}}\n"
     ]
    },
    {
     "name": "stderr",
     "output_type": "stream",
     "text": [
      "\r",
      "23it [00:21,  1.33s/it]"
     ]
    },
    {
     "name": "stdout",
     "output_type": "stream",
     "text": [
      "[INFO] Comparing current qtr (2011, 1) to qtr (2010, 4) from 1 quarter ago.\n"
     ]
    },
    {
     "name": "stderr",
     "output_type": "stream",
     "text": [
      "\u001b[A"
     ]
    },
    {
     "name": "stdout",
     "output_type": "stream",
     "text": [
      "[INFO] Comparing current qtr (2010, 3) to qtr (2010, 2) from 1 quarter ago.\n",
      "{'diff_jaccard': 0.7310563793970319, 'diff_cosine_tf': 0.9365053676291505, 'diff_cosine_tf_idf': 0.9141630020905861, 'diff_minEdit': 1.0, 'diff_simple': 1.0, 'sing_LoughranMcDonald': -0.0005133718065923828, '0': {'type': '10-Q', 'published': datetime.date(2010, 7, 26), 'qtr': (2010, 3)}}\n",
      "[INFO] Comparing current qtr (2010, 4) to qtr (2010, 3) from 1 quarter ago.\n",
      "{'diff_jaccard': 0.13874321380422622, 'diff_cosine_tf': 0.6881714401554185, 'diff_cosine_tf_idf': 0.6457628674026953, 'diff_minEdit': 0.5132410939927678, 'diff_simple': 0.5161409244016367, 'sing_LoughranMcDonald': -0.0005970788714216193, '0': {'type': '10-K', 'published': datetime.date(2011, 3, 3), 'qtr': (2011, 1)}}\n",
      "[INFO] Comparing current qtr (2011, 2) to qtr (2011, 1) from 1 quarter ago.\n",
      "{'diff_jaccard': 0.6586889195793183, 'diff_cosine_tf': 0.9632883203930065, 'diff_cosine_tf_idf': 0.9457191310386974, 'diff_minEdit': 1.0, 'diff_simple': 1.0, 'sing_LoughranMcDonald': -0.0005156559110430726, '0': {'type': '10-Q', 'published': datetime.date(2010, 10, 29), 'qtr': (2010, 4)}}\n",
      "[INFO] Comparing current qtr (2011, 1) to qtr (2010, 4) from 1 quarter ago.\n",
      "[INFO] Comparing current qtr (2011, 4) to qtr (2011, 3) from 1 quarter ago.\n",
      "{'diff_jaccard': 0.1460212218157774, 'diff_cosine_tf': 0.7056003435378626, 'diff_cosine_tf_idf': 0.6710732170370051, 'diff_minEdit': 0.707690578756214, 'diff_simple': 0.43317512311620104, 'sing_LoughranMcDonald': -4.330997539366068e-05, '0': {'type': '10-Q', 'published': datetime.date(2011, 5, 5), 'qtr': (2011, 2)}}\n",
      "[INFO] Comparing current qtr (2011, 3) to qtr (2011, 2) from 1 quarter ago.\n",
      "{'diff_jaccard': 0.5650718802857774, 'diff_cosine_tf': 0.9594381213912873, 'diff_cosine_tf_idf': 0.95293997438164, 'diff_minEdit': 0.9891297695908938, 'diff_simple': 0.9779644900706833, 'sing_LoughranMcDonald': -0.0010764972914606423, '0': {'type': '10-Q', 'published': datetime.date(2011, 11, 14), 'qtr': (2011, 4)}}\n",
      "[INFO] Comparing current qtr (2012, 1) to qtr (2011, 4) from 1 quarter ago.\n"
     ]
    },
    {
     "name": "stderr",
     "output_type": "stream",
     "text": [
      " 24%|██▍       | 24/100 [00:21<01:34,  1.24s/it]\n",
      "24it [00:21,  1.23s/it]\u001b[A"
     ]
    },
    {
     "name": "stdout",
     "output_type": "stream",
     "text": [
      "{'diff_jaccard': 0.7469215058947096, 'diff_cosine_tf': 0.9813159620947531, 'diff_cosine_tf_idf': 0.9810962810992148, 'diff_minEdit': 0.9999314411079115, 'diff_simple': 0.9999719831931572, 'sing_LoughranMcDonald': -5.473580731162745e-05, '0': {'type': '10-Q', 'published': datetime.date(2011, 8, 5), 'qtr': (2011, 3)}}\n",
      "[INFO] Comparing current qtr (2011, 4) to qtr (2011, 3) from 1 quarter ago.\n",
      "{'diff_jaccard': 0.30667434748245753, 'diff_cosine_tf': 0.8918004030401036, 'diff_cosine_tf_idf': 0.8801806295080178, 'diff_minEdit': 0.8173005292046469, 'diff_simple': 0.8447165861072232, 'sing_LoughranMcDonald': -0.0006566129914063224, '0': {'type': '10-K', 'published': datetime.date(2011, 2, 18), 'qtr': (2011, 1)}}\n",
      "[INFO] Comparing current qtr (2011, 2) to qtr (2011, 1) from 1 quarter ago.\n",
      "{'diff_jaccard': 0.003204060651034419, 'diff_cosine_tf': 0.008731618186704121, 'diff_cosine_tf_idf': 0.006757578350923511, 'diff_minEdit': 0.944325138506737, 'diff_simple': 0.1667854388307204, 'sing_LoughranMcDonald': 0.0, '0': {'type': '10-Q', 'published': datetime.date(2011, 11, 4), 'qtr': (2011, 4)}}\n",
      "[INFO] Comparing current qtr (2012, 1) to qtr (2011, 4) from 1 quarter ago.\n",
      "{'diff_jaccard': 0.24492913054448498, 'diff_cosine_tf': 0.6185152606079586, 'diff_cosine_tf_idf': 0.5554990544720666, 'diff_minEdit': 0.7497996607101596, 'diff_simple': 0.4974016400995117, 'sing_LoughranMcDonald': -0.00010470077029565948, '0': {'type': '10-K', 'published': datetime.date(2012, 3, 19), 'qtr': (2012, 1)}}\n",
      "[INFO] Comparing current qtr (2012, 2) to qtr (2012, 1) from 1 quarter ago.\n",
      "{'diff_jaccard': 0.004581908120937694, 'diff_cosine_tf': 0.21141566305628298, 'diff_cosine_tf_idf': 0.15855624774309138, 'diff_minEdit': 0.9271292300786563, 'diff_simple': 0.5523985170550263, 'sing_LoughranMcDonald': -0.0006373738695427572, '0': {'type': '10-K', 'published': datetime.date(2012, 2, 27), 'qtr': (2012, 1)}}\n",
      "[INFO] Comparing current qtr (2012, 2) to qtr (2012, 1) from 1 quarter ago.\n",
      "{'diff_jaccard': 0.26425358075691713, 'diff_cosine_tf': 0.6858696774385615, 'diff_cosine_tf_idf': 0.669937473277542, 'diff_minEdit': 0.8778143695071808, 'diff_simple': 0.7740982859570515, 'sing_LoughranMcDonald': -0.0005334315519174979, '0': {'type': '10-Q', 'published': datetime.date(2011, 4, 29), 'qtr': (2011, 2)}}\n",
      "[INFO] Comparing current qtr (2011, 3) to qtr (2011, 2) from 1 quarter ago.\n",
      "{'diff_jaccard': 0.33644155802096737, 'diff_cosine_tf': 0.6405237934065333, 'diff_cosine_tf_idf': 0.5895605313391445, 'diff_minEdit': 0.7206537791967768, 'diff_simple': 0.5020440077900183, 'sing_LoughranMcDonald': -0.0007689070575220345, '0': {'type': '10-Q', 'published': datetime.date(2012, 5, 9), 'qtr': (2012, 2)}}\n",
      "[INFO] Comparing current qtr (2012, 3) to qtr (2012, 2) from 1 quarter ago.\n",
      "{'diff_jaccard': 0.694236780597542, 'diff_cosine_tf': 0.9320084579490586, 'diff_cosine_tf_idf': 0.9164370365147462, 'diff_minEdit': 1.0, 'diff_simple': 1.0, 'sing_LoughranMcDonald': -0.00034421862551852806, '0': {'type': '10-Q', 'published': datetime.date(2011, 7, 26), 'qtr': (2011, 3)}}\n",
      "[INFO] Comparing current qtr (2011, 4) to qtr (2011, 3) from 1 quarter ago.\n",
      "{'diff_jaccard': 0.27204144687090526, 'diff_cosine_tf': 0.8022423411985846, 'diff_cosine_tf_idf': 0.7646160951746777, 'diff_minEdit': 0.7679244724225258, 'diff_simple': 0.6915008095653258, 'sing_LoughranMcDonald': -0.0030143368569769593, '0': {'type': '10-Q', 'published': datetime.date(2012, 5, 4), 'qtr': (2012, 2)}}\n",
      "[INFO] Comparing current qtr (2012, 3) to qtr (2012, 2) from 1 quarter ago.\n",
      "{'diff_jaccard': 0.770662392681578, 'diff_cosine_tf': 0.9438221588771012, 'diff_cosine_tf_idf': 0.9204247619176078, 'diff_minEdit': 1.0, 'diff_simple': 1.0, 'sing_LoughranMcDonald': -0.002387415761190605, '0': {'type': '10-Q', 'published': datetime.date(2012, 8, 6), 'qtr': (2012, 3)}}\n",
      "[ERROR] Here is full_sect: |[]|\n",
      "{'diff_jaccard': 0.8837204091969086, 'diff_cosine_tf': 0.9653873253550284, 'diff_cosine_tf_idf': 0.9589791007108955, 'diff_minEdit': 0.9934380260611112, 'diff_simple': 0.973172792031772, 'sing_LoughranMcDonald': -0.0001646681674048225, '0': {'type': '10-Q', 'published': datetime.date(2012, 8, 1), 'qtr': (2012, 3)}}\n",
      "[INFO] Comparing current qtr (2012, 4) to qtr (2012, 3) from 1 quarter ago.\n",
      "[INFO] Comparing current qtr (2012, 4) to qtr (2012, 3) from 1 quarter ago.\n",
      "[ERROR] Original res: {'1': [], '1a': [], '1b': [], '2': [], '3': [], '4': [], '5': [], '6': [], '7': [], '7a': [], '8': [], '9': [], '9a': [], '9b': [], '10': [], '11': [], '12': [], '13': [], '14': [], '15': []}\n",
      "[WARNING] /home/alex/Desktop/filtered_text_data/nd_data/2010/QTR1/20100303_10-K_edgar_data_892986_0001047469-10-001756_1.txt failed parsing\n"
     ]
    },
    {
     "name": "stderr",
     "output_type": "stream",
     "text": [
      " 25%|██▌       | 25/100 [00:22<01:31,  1.22s/it]\n",
      "25it [00:22,  1.21s/it]\u001b[A"
     ]
    },
    {
     "name": "stdout",
     "output_type": "stream",
     "text": [
      "{'diff_jaccard': 0.7131930906134781, 'diff_cosine_tf': 0.9656250918069852, 'diff_cosine_tf_idf': 0.9599870133249632, 'diff_minEdit': 1.0, 'diff_simple': 1.0, 'sing_LoughranMcDonald': -0.0003011560930296799, '0': {'type': '10-Q', 'published': datetime.date(2011, 10, 28), 'qtr': (2011, 4)}}\n",
      "[INFO] Comparing current qtr (2010, 2) to qtr (2010, 1) from 1 quarter ago.\n",
      "[INFO] Comparing current qtr (2012, 1) to qtr (2011, 4) from 1 quarter ago.\n",
      "{'diff_jaccard': 0.7117141906691301, 'diff_cosine_tf': 0.9622693471151943, 'diff_cosine_tf_idf': 0.93220812085105, 'diff_minEdit': 1.0, 'diff_simple': 1.0, 'sing_LoughranMcDonald': -0.0022884476599558745, '0': {'type': '10-Q', 'published': datetime.date(2012, 11, 6), 'qtr': (2012, 4)}}\n",
      "{'diff_jaccard': 0.31239073511326115, 'diff_cosine_tf': 0.7618124392365414, 'diff_cosine_tf_idf': 0.704058408683431, 'diff_minEdit': 0.7778265039724671, 'diff_simple': 0.8034275031159119, 'sing_LoughranMcDonald': -0.0025932700538114292, '0': {'type': '10-Q', 'published': datetime.date(2010, 5, 17), 'qtr': (2010, 2)}}\n",
      "[INFO] Comparing current qtr (2010, 3) to qtr (2010, 2) from 1 quarter ago.\n",
      "{'diff_jaccard': 0.846434400921266, 'diff_cosine_tf': 0.9828314101237053, 'diff_cosine_tf_idf': 0.9807569033477376, 'diff_minEdit': 0.996129926718162, 'diff_simple': 0.9770117647058824, 'sing_LoughranMcDonald': -0.00015140728644658113, '0': {'type': '10-Q', 'published': datetime.date(2012, 10, 29), 'qtr': (2012, 4)}}\n",
      "{'diff_jaccard': 0.5744900771817613, 'diff_cosine_tf': 0.8873209599696766, 'diff_cosine_tf_idf': 0.855541397393472, 'diff_minEdit': 0.9736754829616119, 'diff_simple': 0.9457617564488237, 'sing_LoughranMcDonald': -0.002132154230085959, '0': {'type': '10-Q', 'published': datetime.date(2010, 8, 16), 'qtr': (2010, 3)}}\n",
      "[INFO] Comparing current qtr (2010, 4) to qtr (2010, 3) from 1 quarter ago.\n",
      "{'diff_jaccard': 0.6934639775031037, 'diff_cosine_tf': 0.9667793951297996, 'diff_cosine_tf_idf': 0.9421672637315553, 'diff_minEdit': 1.0, 'diff_simple': 1.0, 'sing_LoughranMcDonald': -0.00200043392625744, '0': {'type': '10-Q', 'published': datetime.date(2010, 11, 15), 'qtr': (2010, 4)}}\n",
      "[INFO] Comparing current qtr (2011, 1) to qtr (2010, 4) from 1 quarter ago.\n",
      "{'diff_jaccard': 0.37774475789017825, 'diff_cosine_tf': 0.7838496449199889, 'diff_cosine_tf_idf': 0.7361941490815527, 'diff_minEdit': 0.829066446116023, 'diff_simple': 0.8307540947565132, 'sing_LoughranMcDonald': -0.0015813216676382185, '0': {'type': '10-K', 'published': datetime.date(2011, 3, 31), 'qtr': (2011, 1)}}\n",
      "[INFO] Comparing current qtr (2011, 2) to qtr (2011, 1) from 1 quarter ago.\n",
      "{'diff_jaccard': 0.31668547759999716, 'diff_cosine_tf': 0.7157511856281128, 'diff_cosine_tf_idf': 0.7090907904628693, 'diff_minEdit': 0.8943089832832359, 'diff_simple': 0.7939191650534408, 'sing_LoughranMcDonald': -0.0006391603552107852, '0': {'type': '10-K', 'published': datetime.date(2012, 2, 21), 'qtr': (2012, 1)}}\n",
      "[INFO] Comparing current qtr (2012, 2) to qtr (2012, 1) from 1 quarter ago.\n",
      "{'diff_jaccard': 0.3391672877323212, 'diff_cosine_tf': 0.77176100588755, 'diff_cosine_tf_idf': 0.7253383637080104, 'diff_minEdit': 0.7730195642529459, 'diff_simple': 0.8043425036198499, 'sing_LoughranMcDonald': -0.004936154307907794, '0': {'type': '10-Q', 'published': datetime.date(2011, 5, 16), 'qtr': (2011, 2)}}\n",
      "[INFO] Comparing current qtr (2011, 3) to qtr (2011, 2) from 1 quarter ago.\n",
      "{'diff_jaccard': 0.706675937480545, 'diff_cosine_tf': 0.9121574619648932, 'diff_cosine_tf_idf': 0.8868417428747712, 'diff_minEdit': 0.998883009994121, 'diff_simple': 0.9994135802469135, 'sing_LoughranMcDonald': -0.0026808844325743003, '0': {'type': '10-Q', 'published': datetime.date(2011, 8, 15), 'qtr': (2011, 3)}}\n",
      "[INFO] Comparing current qtr (2011, 4) to qtr (2011, 3) from 1 quarter ago.\n",
      "{'diff_jaccard': 0.6295672438657208, 'diff_cosine_tf': 0.9479494869841056, 'diff_cosine_tf_idf': 0.9185765677664236, 'diff_minEdit': 0.9912542182227221, 'diff_simple': 0.9901122776319626, 'sing_LoughranMcDonald': -0.0036894515384046354, '0': {'type': '10-Q', 'published': datetime.date(2011, 11, 14), 'qtr': (2011, 4)}}\n",
      "[INFO] Comparing current qtr (2012, 1) to qtr (2011, 4) from 1 quarter ago.\n",
      "{'diff_jaccard': 0.30516240877786793, 'diff_cosine_tf': 0.7106535843758655, 'diff_cosine_tf_idf': 0.7035990076534252, 'diff_minEdit': 0.9290690146485805, 'diff_simple': 0.7899080116004205, 'sing_LoughranMcDonald': -0.0003504647720306684, '0': {'type': '10-Q', 'published': datetime.date(2012, 4, 27), 'qtr': (2012, 2)}}\n",
      "[INFO] Comparing current qtr (2012, 3) to qtr (2012, 2) from 1 quarter ago.\n"
     ]
    },
    {
     "name": "stderr",
     "output_type": "stream",
     "text": [
      " 26%|██▌       | 26/100 [00:23<01:25,  1.15s/it]\n",
      "26it [00:23,  1.15s/it]\u001b[A"
     ]
    },
    {
     "name": "stdout",
     "output_type": "stream",
     "text": [
      "{'diff_jaccard': 0.43220670362045754, 'diff_cosine_tf': 0.8224287913466541, 'diff_cosine_tf_idf': 0.7807121557864434, 'diff_minEdit': 0.8364526064526064, 'diff_simple': 0.8274328205128205, 'sing_LoughranMcDonald': -0.002674981421515741, '0': {'type': '10-K', 'published': datetime.date(2012, 3, 30), 'qtr': (2012, 1)}}\n",
      "[INFO] Comparing current qtr (2012, 2) to qtr (2012, 1) from 1 quarter ago.\n"
     ]
    },
    {
     "name": "stderr",
     "output_type": "stream",
     "text": [
      "\r",
      " 28%|██▊       | 28/100 [00:24<01:08,  1.05it/s]"
     ]
    },
    {
     "name": "stdout",
     "output_type": "stream",
     "text": [
      "{'diff_jaccard': 0.791529729403699, 'diff_cosine_tf': 0.9445284672285694, 'diff_cosine_tf_idf': 0.9416917178353975, 'diff_minEdit': 1.0, 'diff_simple': 1.0, 'sing_LoughranMcDonald': -0.00026772866083199704, '0': {'type': '10-Q', 'published': datetime.date(2012, 7, 26), 'qtr': (2012, 3)}}\n"
     ]
    },
    {
     "name": "stderr",
     "output_type": "stream",
     "text": [
      "\n"
     ]
    },
    {
     "name": "stdout",
     "output_type": "stream",
     "text": [
      "[INFO] Comparing current qtr (2012, 4) to qtr (2012, 3) from 1 quarter ago.\n",
      "[INFO] Comparing current qtr (2010, 2) to qtr (2010, 1) from 1 quarter ago.\n",
      "{'diff_jaccard': 0.361524330198716, 'diff_cosine_tf': 0.7946945929639104, 'diff_cosine_tf_idf': 0.7487954172117114, 'diff_minEdit': 0.8066798213081187, 'diff_simple': 0.8147494004796163, 'sing_LoughranMcDonald': -0.0035984707637191173, '0': {'type': '10-Q', 'published': datetime.date(2012, 5, 15), 'qtr': (2012, 2)}}\n",
      "[INFO] Comparing current qtr (2012, 3) to qtr (2012, 2) from 1 quarter ago.\n",
      "{'diff_jaccard': 0.7074423768260111, 'diff_cosine_tf': 0.9533824396578762, 'diff_cosine_tf_idf': 0.9347358809930684, 'diff_minEdit': 0.9985448789952007, 'diff_simple': 0.9994907076483203, 'sing_LoughranMcDonald': -0.0025059161516924363, '0': {'type': '10-Q', 'published': datetime.date(2012, 8, 14), 'qtr': (2012, 3)}}\n",
      "[INFO] Comparing current qtr (2012, 4) to qtr (2012, 3) from 1 quarter ago.\n",
      "{'diff_jaccard': 0.4680554741930605, 'diff_cosine_tf': 0.9519991132225242, 'diff_cosine_tf_idf': 0.9475658751756671, 'diff_minEdit': 0.9887930283280514, 'diff_simple': 0.9690631700271425, 'sing_LoughranMcDonald': -0.0007993716804339325, '0': {'type': '10-Q', 'published': datetime.date(2010, 5, 5), 'qtr': (2010, 2)}}\n",
      "[INFO] Comparing current qtr (2010, 3) to qtr (2010, 2) from 1 quarter ago.\n",
      "{'diff_jaccard': 0.7242245494232862, 'diff_cosine_tf': 0.9691208138605408, 'diff_cosine_tf_idf': 0.9635587200784772, 'diff_minEdit': 1.0, 'diff_simple': 1.0, 'sing_LoughranMcDonald': -0.0002570223768305236, '0': {'type': '10-Q', 'published': datetime.date(2012, 10, 25), 'qtr': (2012, 4)}}\n",
      "{'diff_jaccard': 0.7214477496602494, 'diff_cosine_tf': 0.9670535534354416, 'diff_cosine_tf_idf': 0.9508339379172941, 'diff_minEdit': 0.9987333507443197, 'diff_simple': 0.9995566727605119, 'sing_LoughranMcDonald': -0.0025362601015297063, '0': {'type': '10-Q', 'published': datetime.date(2012, 11, 21), 'qtr': (2012, 4)}}\n",
      "{'diff_jaccard': 0.743069873208043, 'diff_cosine_tf': 0.9752086421113071, 'diff_cosine_tf_idf': 0.9705609232280703, 'diff_minEdit': 0.7681953955713152, 'diff_simple': 0.8557003849443969, 'sing_LoughranMcDonald': -0.0004473021111101451, '0': {'type': '10-Q', 'published': datetime.date(2010, 8, 5), 'qtr': (2010, 3)}}\n",
      "[INFO] Comparing current qtr (2010, 4) to qtr (2010, 3) from 1 quarter ago.\n",
      "{'diff_jaccard': 0.07152613835286921, 'diff_cosine_tf': 0.12065501599160128, 'diff_cosine_tf_idf': 0.09922911997996636, 'diff_minEdit': 0.6286009972716154, 'diff_simple': 0.2699599755529845, 'sing_LoughranMcDonald': -0.00963949091074144, '0': {'type': '10-Q', 'published': datetime.date(2010, 11, 4), 'qtr': (2010, 4)}}\n",
      "[INFO] Comparing current qtr (2011, 1) to qtr (2010, 4) from 1 quarter ago.\n",
      "{'diff_jaccard': 0.021919745335004015, 'diff_cosine_tf': 0.13566249682285347, 'diff_cosine_tf_idf': 0.1040634692661704, 'diff_minEdit': 0.6747781856933479, 'diff_simple': 0.24230951735200243, 'sing_LoughranMcDonald': -0.00024759541893098585, '0': {'type': '10-K', 'published': datetime.date(2011, 2, 22), 'qtr': (2011, 1)}}\n",
      "[INFO] Comparing current qtr (2011, 2) to qtr (2011, 1) from 1 quarter ago.\n"
     ]
    },
    {
     "name": "stderr",
     "output_type": "stream",
     "text": [
      "\r",
      "28it [00:24,  1.05it/s]"
     ]
    },
    {
     "name": "stdout",
     "output_type": "stream",
     "text": [
      "{'diff_jaccard': 0.440030982412213, 'diff_cosine_tf': 0.9501223289737799, 'diff_cosine_tf_idf': 0.943464686477926, 'diff_minEdit': 0.7682992637684958, 'diff_simple': 0.8338775253507565, 'sing_LoughranMcDonald': -0.0005678053529456512, '0': {'type': '10-Q', 'published': datetime.date(2011, 5, 2), 'qtr': (2011, 2)}}\n",
      "[INFO] Comparing current qtr (2011, 3) to qtr (2011, 2) from 1 quarter ago.\n"
     ]
    },
    {
     "name": "stderr",
     "output_type": "stream",
     "text": [
      "\u001b[A"
     ]
    },
    {
     "name": "stdout",
     "output_type": "stream",
     "text": [
      "{'diff_jaccard': 0.6776643880514235, 'diff_cosine_tf': 0.985605328845187, 'diff_cosine_tf_idf': 0.9803069938714243, 'diff_minEdit': 1.0, 'diff_simple': 1.0, 'sing_LoughranMcDonald': -0.0004447538297225756, '0': {'type': '10-Q', 'published': datetime.date(2011, 8, 4), 'qtr': (2011, 3)}}\n"
     ]
    },
    {
     "name": "stderr",
     "output_type": "stream",
     "text": [
      "\r",
      " 29%|██▉       | 29/100 [00:25<01:03,  1.11it/s]"
     ]
    },
    {
     "name": "stdout",
     "output_type": "stream",
     "text": [
      "[INFO] Comparing current qtr (2011, 4) to qtr (2011, 3) from 1 quarter ago.\n",
      "{'diff_jaccard': 0.7234151600621428, 'diff_cosine_tf': 0.9875244055955089, 'diff_cosine_tf_idf': 0.9808405733252965, 'diff_minEdit': 1.0, 'diff_simple': 1.0, 'sing_LoughranMcDonald': -0.00040296697572956414, '0': {'type': '10-Q', 'published': datetime.date(2011, 11, 2), 'qtr': (2011, 4)}}\n",
      "[INFO] Comparing current qtr (2012, 1) to qtr (2011, 4) from 1 quarter ago.\n",
      "[ERROR] Here is full_sect: |[]|\n",
      "[ERROR] Original res: {'_i_1': [], '_i_2': [], '_i_3': [], '_i_4': [], 'ii_1': [], 'ii_1a': [], 'ii_2': [], 'ii_3': [], 'ii_4': [], 'ii_5': [], 'ii_6': []}\n",
      "[WARNING] /home/alex/Desktop/filtered_text_data/nd_data/2010/QTR2/20100507_10-Q_edgar_data_712770_0001144204-10-025286_1.txt failed parsing\n",
      "{'diff_jaccard': 0.4933273485015761, 'diff_cosine_tf': 0.9531039559917055, 'diff_cosine_tf_idf': 0.9430097635202823, 'diff_minEdit': 0.7688638152983709, 'diff_simple': 0.8299775038030202, 'sing_LoughranMcDonald': -0.00020793994517815948, '0': {'type': '10-K', 'published': datetime.date(2012, 2, 17), 'qtr': (2012, 1)}}\n",
      "[INFO] Comparing current qtr (2012, 2) to qtr (2012, 1) from 1 quarter ago.\n"
     ]
    },
    {
     "name": "stderr",
     "output_type": "stream",
     "text": [
      "\n",
      "29it [00:25,  1.11it/s]\u001b[A"
     ]
    },
    {
     "name": "stdout",
     "output_type": "stream",
     "text": [
      "{'diff_jaccard': 0.47871948719308094, 'diff_cosine_tf': 0.9537544380867004, 'diff_cosine_tf_idf': 0.9453960186834537, 'diff_minEdit': 0.7695850228980994, 'diff_simple': 0.8286544537434, 'sing_LoughranMcDonald': -0.0005320454992959022, '0': {'type': '10-Q', 'published': datetime.date(2012, 5, 2), 'qtr': (2012, 2)}}\n",
      "[INFO] Comparing current qtr (2012, 3) to qtr (2012, 2) from 1 quarter ago.\n",
      "{'diff_jaccard': 0.6917135022762823, 'diff_cosine_tf': 0.9834495473562099, 'diff_cosine_tf_idf': 0.9798131378825795, 'diff_minEdit': 0.7021010609317577, 'diff_simple': 0.8464165469692617, 'sing_LoughranMcDonald': -0.00039174048534912776, '0': {'type': '10-Q', 'published': datetime.date(2012, 7, 31), 'qtr': (2012, 3)}}\n",
      "[INFO] Comparing current qtr (2012, 4) to qtr (2012, 3) from 1 quarter ago.\n",
      "{'diff_jaccard': 0.8082075745293789, 'diff_cosine_tf': 0.9925242045356992, 'diff_cosine_tf_idf': 0.9885515923231818, 'diff_minEdit': 0.9355705770490756, 'diff_simple': 0.9903355865573614, 'sing_LoughranMcDonald': -0.000407394969386067, '0': {'type': '10-Q', 'published': datetime.date(2012, 10, 29), 'qtr': (2012, 4)}}\n"
     ]
    },
    {
     "name": "stderr",
     "output_type": "stream",
     "text": [
      " 31%|███       | 31/100 [00:26<00:52,  1.32it/s]\n",
      "31it [00:25,  1.33it/s]\u001b[A"
     ]
    },
    {
     "name": "stdout",
     "output_type": "stream",
     "text": [
      "[INFO] Comparing current qtr (2010, 2) to qtr (2010, 1) from 1 quarter ago.\n",
      "{'diff_jaccard': 0.19301697384705196, 'diff_cosine_tf': 0.7563131536794276, 'diff_cosine_tf_idf': 0.7255571341315256, 'diff_minEdit': 0.7505802823399397, 'diff_simple': 0.6795117433300377, 'sing_LoughranMcDonald': 0.0001118736787428029, '0': {'type': '10-Q', 'published': datetime.date(2010, 5, 10), 'qtr': (2010, 2)}}\n"
     ]
    },
    {
     "name": "stderr",
     "output_type": "stream",
     "text": [
      "\r",
      " 32%|███▏      | 32/100 [00:27<00:53,  1.27it/s]"
     ]
    },
    {
     "name": "stdout",
     "output_type": "stream",
     "text": [
      "[INFO] Comparing current qtr (2010, 3) to qtr (2010, 2) from 1 quarter ago.\n",
      "{'diff_jaccard': 0.798577130835144, 'diff_cosine_tf': 0.9715206322503023, 'diff_cosine_tf_idf': 0.9674215986225694, 'diff_minEdit': 1.0, 'diff_simple': 1.0, 'sing_LoughranMcDonald': -0.00011582074126669378, '0': {'type': '10-Q', 'published': datetime.date(2010, 8, 5), 'qtr': (2010, 3)}}\n",
      "[INFO] Comparing current qtr (2010, 4) to qtr (2010, 3) from 1 quarter ago.\n",
      "[ERROR] Here is full_sect: |[]|\n",
      "[ERROR] Original res: {'_i_1': [], '_i_2': [], '_i_3': [], '_i_4': [], 'ii_1': [], 'ii_1a': [], 'ii_2': [], 'ii_3': [], 'ii_4': [], 'ii_5': [], 'ii_6': []}\n",
      "[WARNING] /home/alex/Desktop/filtered_text_data/nd_data/2010/QTR4/20101109_10-Q_edgar_data_712771_0001144204-10-058480_1.txt failed parsing\n",
      "{'diff_jaccard': 0.7525200692841428, 'diff_cosine_tf': 0.9777754376821605, 'diff_cosine_tf_idf': 0.9696933661971792, 'diff_minEdit': 1.0, 'diff_simple': 1.0, 'sing_LoughranMcDonald': 2.6559818136771923e-05, '0': {'type': '10-Q', 'published': datetime.date(2010, 11, 4), 'qtr': (2010, 4)}}\n",
      "[INFO] Comparing current qtr (2011, 1) to qtr (2010, 4) from 1 quarter ago.\n"
     ]
    },
    {
     "name": "stderr",
     "output_type": "stream",
     "text": [
      "\n",
      "32it [00:26,  1.27it/s]\u001b[A"
     ]
    },
    {
     "name": "stdout",
     "output_type": "stream",
     "text": [
      "{'diff_jaccard': 0.2368617419321985, 'diff_cosine_tf': 0.6821664963117104, 'diff_cosine_tf_idf': 0.6423555165720836, 'diff_minEdit': 0.7154179912676589, 'diff_simple': 0.5954700135518666, 'sing_LoughranMcDonald': -0.0004652706599510337, '0': {'type': '10-K', 'published': datetime.date(2011, 3, 3), 'qtr': (2011, 1)}}\n",
      "[INFO] Comparing current qtr (2011, 2) to qtr (2011, 1) from 1 quarter ago.\n",
      "[INFO] Comparing current qtr (2010, 2) to qtr (2010, 1) from 1 quarter ago.\n",
      "{'diff_jaccard': 0.21457097215067972, 'diff_cosine_tf': 0.660025784182319, 'diff_cosine_tf_idf': 0.6178104529311151, 'diff_minEdit': 0.7220639827046988, 'diff_simple': 0.587559596472232, 'sing_LoughranMcDonald': -1.9778003636745974e-05, '0': {'type': '10-Q', 'published': datetime.date(2011, 5, 10), 'qtr': (2011, 2)}}\n",
      "{'diff_jaccard': 0.0043791067041527776, 'diff_cosine_tf': 0.27462396236624886, 'diff_cosine_tf_idf': 0.207296854753463, 'diff_minEdit': 0.9032823550120629, 'diff_simple': 0.5530404364765593, 'sing_LoughranMcDonald': 0.0, '0': {'type': '10-Q', 'published': datetime.date(2010, 5, 7), 'qtr': (2010, 2)}}\n",
      "[INFO] Comparing current qtr (2011, 3) to qtr (2011, 2) from 1 quarter ago.\n",
      "[INFO] Comparing current qtr (2010, 3) to qtr (2010, 2) from 1 quarter ago.\n",
      "{'diff_jaccard': 0.7217171717171718, 'diff_cosine_tf': 0.8399999999999999, 'diff_cosine_tf_idf': 0.7464359212312635, 'diff_minEdit': 0.9166666666666667, 'diff_simple': 0.9695399045399046, 'sing_LoughranMcDonald': 0.0, '0': {'type': '10-Q', 'published': datetime.date(2010, 8, 6), 'qtr': (2010, 3)}}\n",
      "[INFO] Comparing current qtr (2010, 4) to qtr (2010, 3) from 1 quarter ago.\n",
      "{'diff_jaccard': 0.778676523058616, 'diff_cosine_tf': 0.9768904299186234, 'diff_cosine_tf_idf': 0.9725643427425557, 'diff_minEdit': 1.0, 'diff_simple': 1.0, 'sing_LoughranMcDonald': 5.159207910925435e-05, '0': {'type': '10-Q', 'published': datetime.date(2011, 8, 4), 'qtr': (2011, 3)}}\n",
      "[INFO] Comparing current qtr (2011, 4) to qtr (2011, 3) from 1 quarter ago.\n",
      "{'diff_jaccard': 0.7217171717171718, 'diff_cosine_tf': 0.8399999999999999, 'diff_cosine_tf_idf': 0.7464359212312635, 'diff_minEdit': 0.9166666666666667, 'diff_simple': 0.9743018093018093, 'sing_LoughranMcDonald': 0.0, '0': {'type': '10-Q', 'published': datetime.date(2010, 11, 5), 'qtr': (2010, 4)}}\n",
      "[INFO] Comparing current qtr (2011, 1) to qtr (2010, 4) from 1 quarter ago.\n",
      "{'diff_jaccard': 0.779737651973138, 'diff_cosine_tf': 0.9875529318805408, 'diff_cosine_tf_idf': 0.9801120339910084, 'diff_minEdit': 1.0, 'diff_simple': 1.0, 'sing_LoughranMcDonald': -2.26846640655218e-06, '0': {'type': '10-Q', 'published': datetime.date(2011, 11, 3), 'qtr': (2011, 4)}}\n",
      "[INFO] Comparing current qtr (2012, 1) to qtr (2011, 4) from 1 quarter ago.\n",
      "{'diff_jaccard': 0.003855417384055193, 'diff_cosine_tf': 0.21860741653284643, 'diff_cosine_tf_idf': 0.16308932918952518, 'diff_minEdit': 0.8991980810918163, 'diff_simple': 0.48968131576051893, 'sing_LoughranMcDonald': -0.0004173343488206702, '0': {'type': '10-K', 'published': datetime.date(2011, 3, 11), 'qtr': (2011, 1)}}\n",
      "[INFO] Comparing current qtr (2011, 2) to qtr (2011, 1) from 1 quarter ago.\n",
      "{'diff_jaccard': 0.27600716169536244, 'diff_cosine_tf': 0.780362284257333, 'diff_cosine_tf_idf': 0.7493089288275712, 'diff_minEdit': 0.7929035628869835, 'diff_simple': 0.7578910415926058, 'sing_LoughranMcDonald': -0.0021491494356738632, '0': {'type': '10-Q', 'published': datetime.date(2011, 5, 9), 'qtr': (2011, 2)}}\n",
      "{'diff_jaccard': 0.24580850623614003, 'diff_cosine_tf': 0.7160593815258433, 'diff_cosine_tf_idf': 0.6758415956658939, 'diff_minEdit': 0.7205025610817475, 'diff_simple': 0.6239243003698824, 'sing_LoughranMcDonald': -0.0005919470372339293, '0': {'type': '10-K', 'published': datetime.date(2012, 3, 8), 'qtr': (2012, 1)}}\n"
     ]
    },
    {
     "name": "stderr",
     "output_type": "stream",
     "text": [
      "\r",
      " 33%|███▎      | 33/100 [00:28<01:08,  1.03s/it]"
     ]
    },
    {
     "name": "stdout",
     "output_type": "stream",
     "text": [
      "[INFO] Comparing current qtr (2011, 3) to qtr (2011, 2) from 1 quarter ago.\n"
     ]
    },
    {
     "name": "stderr",
     "output_type": "stream",
     "text": [
      "\n"
     ]
    },
    {
     "name": "stdout",
     "output_type": "stream",
     "text": [
      "[INFO] Comparing current qtr (2012, 2) to qtr (2012, 1) from 1 quarter ago.\n",
      "{'diff_jaccard': 0.011893621930395448, 'diff_cosine_tf': 0.4468925428318583, 'diff_cosine_tf_idf': 0.3512250578388602, 'diff_minEdit': 0.9171587443766384, 'diff_simple': 0.7871803969879212, 'sing_LoughranMcDonald': 0.0, '0': {'type': '10-Q', 'published': datetime.date(2011, 8, 8), 'qtr': (2011, 3)}}\n",
      "[INFO] Comparing current qtr (2011, 4) to qtr (2011, 3) from 1 quarter ago.\n",
      "{'diff_jaccard': 0.7944444444444445, 'diff_cosine_tf': 0.8666666666666665, 'diff_cosine_tf_idf': 0.7958954792317016, 'diff_minEdit': 0.9333333333333333, 'diff_simple': 0.9794300144300144, 'sing_LoughranMcDonald': 0.0, '0': {'type': '10-Q', 'published': datetime.date(2011, 11, 7), 'qtr': (2011, 4)}}\n",
      "[INFO] Comparing current qtr (2012, 1) to qtr (2011, 4) from 1 quarter ago.\n",
      "{'diff_jaccard': 0.22411116779365703, 'diff_cosine_tf': 0.6957227610224817, 'diff_cosine_tf_idf': 0.6519763435832154, 'diff_minEdit': 0.708920617883415, 'diff_simple': 0.6172369757291568, 'sing_LoughranMcDonald': -0.0001049548465574619, '0': {'type': '10-Q', 'published': datetime.date(2012, 5, 4), 'qtr': (2012, 2)}}\n",
      "[INFO] Comparing current qtr (2012, 3) to qtr (2012, 2) from 1 quarter ago.\n",
      "{'diff_jaccard': 0.7011182766462905, 'diff_cosine_tf': 0.9775592839009768, 'diff_cosine_tf_idf': 0.9702969261104415, 'diff_minEdit': 0.9398379473328831, 'diff_simple': 0.9915773126266036, 'sing_LoughranMcDonald': 1.1179026873085763e-05, '0': {'type': '10-Q', 'published': datetime.date(2012, 8, 8), 'qtr': (2012, 3)}}\n",
      "[INFO] Comparing current qtr (2012, 4) to qtr (2012, 3) from 1 quarter ago.\n",
      "{'diff_jaccard': 0.002649010577008467, 'diff_cosine_tf': 0.03121927299213756, 'diff_cosine_tf_idf': 0.019264096989799334, 'diff_minEdit': 0.8764634912107812, 'diff_simple': 0.1915024981047754, 'sing_LoughranMcDonald': -0.001173166994654374, '0': {'type': '10-K', 'published': datetime.date(2012, 3, 13), 'qtr': (2012, 1)}}\n",
      "[INFO] Comparing current qtr (2012, 2) to qtr (2012, 1) from 1 quarter ago.\n",
      "{'diff_jaccard': 0.002649010577008467, 'diff_cosine_tf': 0.03121927299213756, 'diff_cosine_tf_idf': 0.019264096989799334, 'diff_minEdit': 0.8815558482725743, 'diff_simple': 0.18987661877372305, 'sing_LoughranMcDonald': 0.0, '0': {'type': '10-Q', 'published': datetime.date(2012, 5, 8), 'qtr': (2012, 2)}}\n",
      "[INFO] Comparing current qtr (2012, 3) to qtr (2012, 2) from 1 quarter ago.\n",
      "{'diff_jaccard': 0.6444791462075338, 'diff_cosine_tf': 0.9830592165953903, 'diff_cosine_tf_idf': 0.9744019288808391, 'diff_minEdit': 0.9380610412926391, 'diff_simple': 0.9913285457809695, 'sing_LoughranMcDonald': -9.75767933436801e-05, '0': {'type': '10-Q', 'published': datetime.date(2012, 11, 7), 'qtr': (2012, 4)}}\n",
      "{'diff_jaccard': 0.012479519143501771, 'diff_cosine_tf': 0.4158837736625391, 'diff_cosine_tf_idf': 0.3244738228160763, 'diff_minEdit': 0.9145665082542602, 'diff_simple': 0.7638554206026719, 'sing_LoughranMcDonald': -0.0012566930128717047, '0': {'type': '10-Q', 'published': datetime.date(2012, 8, 9), 'qtr': (2012, 3)}}\n"
     ]
    },
    {
     "name": "stderr",
     "output_type": "stream",
     "text": [
      "33it [00:28,  1.03s/it]\u001b[A"
     ]
    },
    {
     "name": "stdout",
     "output_type": "stream",
     "text": [
      "[INFO] Comparing current qtr (2010, 2) to qtr (2010, 1) from 1 quarter ago.\n",
      "{'diff_jaccard': 0.48543993529240137, 'diff_cosine_tf': 0.9141033564828126, 'diff_cosine_tf_idf': 0.9054073749627015, 'diff_minEdit': 0.7349373502369162, 'diff_simple': 0.707592196395547, 'sing_LoughranMcDonald': -0.0017315128241753787, '0': {'type': '10-Q', 'published': datetime.date(2010, 4, 30), 'qtr': (2010, 2)}}\n",
      "[INFO] Comparing current qtr (2010, 3) to qtr (2010, 2) from 1 quarter ago.\n"
     ]
    },
    {
     "name": "stderr",
     "output_type": "stream",
     "text": [
      "\r",
      " 35%|███▌      | 35/100 [00:31<01:14,  1.14s/it]"
     ]
    },
    {
     "name": "stdout",
     "output_type": "stream",
     "text": [
      "{'diff_jaccard': 0.8067538662877853, 'diff_cosine_tf': 0.9449180295339331, 'diff_cosine_tf_idf': 0.9233701671126042, 'diff_minEdit': 1.0, 'diff_simple': 1.0, 'sing_LoughranMcDonald': -0.0014091613882521216, '0': {'type': '10-Q', 'published': datetime.date(2010, 7, 30), 'qtr': (2010, 3)}}\n"
     ]
    },
    {
     "name": "stderr",
     "output_type": "stream",
     "text": [
      "\n"
     ]
    },
    {
     "name": "stdout",
     "output_type": "stream",
     "text": [
      "[INFO] Comparing current qtr (2010, 4) to qtr (2010, 3) from 1 quarter ago.\n",
      "[INFO] Comparing current qtr (2010, 2) to qtr (2010, 1) from 1 quarter ago.\n",
      "{'diff_jaccard': 0.8608586699094068, 'diff_cosine_tf': 0.970892772379689, 'diff_cosine_tf_idf': 0.9576276963649686, 'diff_minEdit': 1.0, 'diff_simple': 1.0, 'sing_LoughranMcDonald': -0.0013770842400366542, '0': {'type': '10-Q', 'published': datetime.date(2010, 10, 28), 'qtr': (2010, 4)}}\n",
      "[INFO] Comparing current qtr (2011, 1) to qtr (2010, 4) from 1 quarter ago.\n",
      "{'diff_jaccard': 0.03881106959101679, 'diff_cosine_tf': 0.09770651934144339, 'diff_cosine_tf_idf': 0.07663519358793622, 'diff_minEdit': 0.6219905997065853, 'diff_simple': 0.23723567478737764, 'sing_LoughranMcDonald': -0.0007416271953017971, '0': {'type': '10-Q', 'published': datetime.date(2010, 4, 22), 'qtr': (2010, 2)}}\n",
      "[INFO] Comparing current qtr (2010, 3) to qtr (2010, 2) from 1 quarter ago.\n",
      "[INFO] Comparing current qtr (2011, 3) to qtr (2011, 2) from 1 quarter ago.\n",
      "{'diff_jaccard': 0.8129855803995951, 'diff_cosine_tf': 0.9866581221815138, 'diff_cosine_tf_idf': 0.9817729423705739, 'diff_minEdit': 0.9993206714030967, 'diff_simple': 0.9997463839904894, 'sing_LoughranMcDonald': -0.0006393558439753299, '0': {'type': '10-Q', 'published': datetime.date(2010, 7, 22), 'qtr': (2010, 3)}}\n",
      "[INFO] Comparing current qtr (2010, 4) to qtr (2010, 3) from 1 quarter ago.\n",
      "This is the res {'_i_1': [(3882, 3900)], '_i_2': [(48090, 48109)], '_i_3': [(87597, 87618)], '_i_4': [(93398, 93415)], 'ii_1a': [], 'ii_6': [(96091, 96108)]}\n",
      "[WARNING] /home/alex/Desktop/filtered_text_data/nd_data/2010/QTR2/20100511_10-Q_edgar_data_1114200_0000950123-10-047843_1.txt failed parsing\n",
      "{'diff_jaccard': 0.49252005019981887, 'diff_cosine_tf': 0.9048772300767485, 'diff_cosine_tf_idf': 0.894570052011177, 'diff_minEdit': 0.7364015535348811, 'diff_simple': 0.7133366862058201, 'sing_LoughranMcDonald': -0.0006274160392116626, '0': {'type': '10-K', 'published': datetime.date(2011, 2, 24), 'qtr': (2011, 1)}}\n",
      "[INFO] Comparing current qtr (2011, 2) to qtr (2011, 1) from 1 quarter ago.\n",
      "{'diff_jaccard': 0.8131187637252695, 'diff_cosine_tf': 0.9885513572325332, 'diff_cosine_tf_idf': 0.9848799317695537, 'diff_minEdit': 0.9997846768194808, 'diff_simple': 0.9999397095094548, 'sing_LoughranMcDonald': -0.0006373435792446809, '0': {'type': '10-Q', 'published': datetime.date(2010, 10, 21), 'qtr': (2010, 4)}}\n",
      "[INFO] Comparing current qtr (2011, 1) to qtr (2010, 4) from 1 quarter ago.\n"
     ]
    },
    {
     "name": "stderr",
     "output_type": "stream",
     "text": [
      "35it [00:31,  1.14s/it]\u001b[A"
     ]
    },
    {
     "name": "stdout",
     "output_type": "stream",
     "text": [
      "{'diff_jaccard': 0.9101946701902061, 'diff_cosine_tf': 0.9926811031605771, 'diff_cosine_tf_idf': 0.9915705014684835, 'diff_minEdit': 0.9964079770110528, 'diff_simple': 0.9941809227579057, 'sing_LoughranMcDonald': -0.0011558254074413828, '0': {'type': '10-Q', 'published': datetime.date(2011, 8, 10), 'qtr': (2011, 3)}}\n",
      "[INFO] Comparing current qtr (2011, 4) to qtr (2011, 3) from 1 quarter ago.\n",
      "{'diff_jaccard': 0.48545380144134725, 'diff_cosine_tf': 0.9144437456972586, 'diff_cosine_tf_idf': 0.9050526761549512, 'diff_minEdit': 0.7363584449408691, 'diff_simple': 0.7025735105642829, 'sing_LoughranMcDonald': -0.0008089992355024345, '0': {'type': '10-Q', 'published': datetime.date(2011, 4, 28), 'qtr': (2011, 2)}}\n",
      "[INFO] Comparing current qtr (2011, 3) to qtr (2011, 2) from 1 quarter ago.\n",
      "{'diff_jaccard': 0.3189325047004246, 'diff_cosine_tf': 0.6351915698428423, 'diff_cosine_tf_idf': 0.6250116204748181, 'diff_minEdit': 0.808182267382889, 'diff_simple': 0.5748925155742739, 'sing_LoughranMcDonald': -0.0002860577628578654, '0': {'type': '10-K', 'published': datetime.date(2011, 2, 9), 'qtr': (2011, 1)}}\n",
      "[INFO] Comparing current qtr (2011, 2) to qtr (2011, 1) from 1 quarter ago.\n",
      "{'diff_jaccard': 0.8974223327427651, 'diff_cosine_tf': 0.9570542331042169, 'diff_cosine_tf_idf': 0.9393425216957912, 'diff_minEdit': 1.0, 'diff_simple': 1.0, 'sing_LoughranMcDonald': -0.0006986166836214058, '0': {'type': '10-Q', 'published': datetime.date(2011, 7, 27), 'qtr': (2011, 3)}}\n",
      "{'diff_jaccard': 0.8797623262578469, 'diff_cosine_tf': 0.9950075354302682, 'diff_cosine_tf_idf': 0.9939665202378506, 'diff_minEdit': 1.0, 'diff_simple': 1.0, 'sing_LoughranMcDonald': -0.0011938401299109867, '0': {'type': '10-Q', 'published': datetime.date(2011, 11, 10), 'qtr': (2011, 4)}}\n",
      "[INFO] Comparing current qtr (2012, 1) to qtr (2011, 4) from 1 quarter ago.\n",
      "[INFO] Comparing current qtr (2011, 4) to qtr (2011, 3) from 1 quarter ago.\n",
      "{'diff_jaccard': 0.3252580606533651, 'diff_cosine_tf': 0.6243519026624303, 'diff_cosine_tf_idf': 0.6152350565117667, 'diff_minEdit': 0.7655990662787592, 'diff_simple': 0.5780070528608932, 'sing_LoughranMcDonald': -0.0006680022378016133, '0': {'type': '10-Q', 'published': datetime.date(2011, 4, 26), 'qtr': (2011, 2)}}\n",
      "[INFO] Comparing current qtr (2011, 3) to qtr (2011, 2) from 1 quarter ago.\n",
      "{'diff_jaccard': 0.8747657544730807, 'diff_cosine_tf': 0.9714594596179655, 'diff_cosine_tf_idf': 0.9580349272763394, 'diff_minEdit': 1.0, 'diff_simple': 1.0, 'sing_LoughranMcDonald': -0.0006938972916554058, '0': {'type': '10-Q', 'published': datetime.date(2011, 10, 26), 'qtr': (2011, 4)}}\n",
      "[INFO] Comparing current qtr (2012, 1) to qtr (2011, 4) from 1 quarter ago.\n",
      "{'diff_jaccard': 0.7722376011827016, 'diff_cosine_tf': 0.9804207794198015, 'diff_cosine_tf_idf': 0.9731590058027018, 'diff_minEdit': 1.0, 'diff_simple': 1.0, 'sing_LoughranMcDonald': -0.0004808288846215884, '0': {'type': '10-Q', 'published': datetime.date(2011, 7, 26), 'qtr': (2011, 3)}}\n",
      "[INFO] Comparing current qtr (2011, 4) to qtr (2011, 3) from 1 quarter ago.\n",
      "{'diff_jaccard': 0.7025302956526912, 'diff_cosine_tf': 0.9776737224781314, 'diff_cosine_tf_idf': 0.9743095303938283, 'diff_minEdit': 0.8870340419799044, 'diff_simple': 0.8861438685618549, 'sing_LoughranMcDonald': -0.00025307245872270844, '0': {'type': '10-K', 'published': datetime.date(2012, 3, 28), 'qtr': (2012, 1)}}\n",
      "{'diff_jaccard': 0.8086029163216794, 'diff_cosine_tf': 0.9884009041311919, 'diff_cosine_tf_idf': 0.981461351301047, 'diff_minEdit': 1.0, 'diff_simple': 1.0, 'sing_LoughranMcDonald': -0.0005222940452929113, '0': {'type': '10-Q', 'published': datetime.date(2011, 10, 25), 'qtr': (2011, 4)}}\n",
      "[INFO] Comparing current qtr (2012, 2) to qtr (2012, 1) from 1 quarter ago.\n",
      "[INFO] Comparing current qtr (2012, 1) to qtr (2011, 4) from 1 quarter ago.\n",
      "{'diff_jaccard': 0.5155164703851184, 'diff_cosine_tf': 0.9579297391216882, 'diff_cosine_tf_idf': 0.9498923631677683, 'diff_minEdit': 0.9089544315722297, 'diff_simple': 0.9405572131279736, 'sing_LoughranMcDonald': -0.00020264511103237616, '0': {'type': '10-K', 'published': datetime.date(2012, 2, 13), 'qtr': (2012, 1)}}\n",
      "[INFO] Comparing current qtr (2012, 2) to qtr (2012, 1) from 1 quarter ago.\n",
      "{'diff_jaccard': 0.4654586544204789, 'diff_cosine_tf': 0.9063690514894994, 'diff_cosine_tf_idf': 0.8889802339412153, 'diff_minEdit': 0.7755136352661263, 'diff_simple': 0.6854487993762539, 'sing_LoughranMcDonald': -0.0003198885390680838, '0': {'type': '10-K', 'published': datetime.date(2012, 2, 17), 'qtr': (2012, 1)}}\n",
      "[INFO] Comparing current qtr (2012, 2) to qtr (2012, 1) from 1 quarter ago.\n",
      "{'diff_jaccard': 0.7125388735955437, 'diff_cosine_tf': 0.977928156405295, 'diff_cosine_tf_idf': 0.9748926090140362, 'diff_minEdit': 0.8901351442524663, 'diff_simple': 0.9088929389374537, 'sing_LoughranMcDonald': -0.000388460313019078, '0': {'type': '10-Q', 'published': datetime.date(2012, 5, 10), 'qtr': (2012, 2)}}\n",
      "[INFO] Comparing current qtr (2012, 3) to qtr (2012, 2) from 1 quarter ago.\n",
      "{'diff_jaccard': 0.5245879003598461, 'diff_cosine_tf': 0.958354739987925, 'diff_cosine_tf_idf': 0.9521560984361835, 'diff_minEdit': 0.9526682212267252, 'diff_simple': 0.9473749672697953, 'sing_LoughranMcDonald': -0.0005025614256597411, '0': {'type': '10-Q', 'published': datetime.date(2012, 4, 24), 'qtr': (2012, 2)}}\n",
      "[INFO] Comparing current qtr (2012, 3) to qtr (2012, 2) from 1 quarter ago.\n",
      "{'diff_jaccard': 0.005723147749476034, 'diff_cosine_tf': 0.18836457979585253, 'diff_cosine_tf_idf': 0.14352046657994497, 'diff_minEdit': 0.9458249022592293, 'diff_simple': 0.3984639486537542, 'sing_LoughranMcDonald': 0.0, '0': {'type': '10-Q', 'published': datetime.date(2012, 8, 8), 'qtr': (2012, 3)}}\n",
      "[INFO] Comparing current qtr (2012, 4) to qtr (2012, 3) from 1 quarter ago.\n",
      "{'diff_jaccard': 0.7217171717171718, 'diff_cosine_tf': 0.8399999999999999, 'diff_cosine_tf_idf': 0.7464359212312635, 'diff_minEdit': 0.9166666666666667, 'diff_simple': 0.9513731165475352, 'sing_LoughranMcDonald': 0.0, '0': {'type': '10-Q', 'published': datetime.date(2012, 11, 8), 'qtr': (2012, 4)}}\n"
     ]
    },
    {
     "name": "stderr",
     "output_type": "stream",
     "text": [
      " 36%|███▌      | 36/100 [00:32<01:18,  1.23s/it]\n",
      "36it [00:32,  1.23s/it]\u001b[A"
     ]
    },
    {
     "name": "stdout",
     "output_type": "stream",
     "text": [
      "{'diff_jaccard': 0.4565858512364021, 'diff_cosine_tf': 0.9189156832794303, 'diff_cosine_tf_idf': 0.9097048045850092, 'diff_minEdit': 0.7792264487872108, 'diff_simple': 0.6797436714391549, 'sing_LoughranMcDonald': -0.0008266425773617923, '0': {'type': '10-Q', 'published': datetime.date(2012, 4, 26), 'qtr': (2012, 2)}}\n",
      "[INFO] Comparing current qtr (2012, 3) to qtr (2012, 2) from 1 quarter ago.\n",
      "{'diff_jaccard': 0.7020318032598897, 'diff_cosine_tf': 0.9821070375926538, 'diff_cosine_tf_idf': 0.9768497752755795, 'diff_minEdit': 0.8598962595111124, 'diff_simple': 0.8656587003752716, 'sing_LoughranMcDonald': -0.0003179258778169536, '0': {'type': '10-Q', 'published': datetime.date(2012, 7, 24), 'qtr': (2012, 3)}}\n",
      "[INFO] Comparing current qtr (2012, 4) to qtr (2012, 3) from 1 quarter ago.\n"
     ]
    },
    {
     "name": "stderr",
     "output_type": "stream",
     "text": [
      "\r",
      " 37%|███▋      | 37/100 [00:33<01:13,  1.16s/it]"
     ]
    },
    {
     "name": "stdout",
     "output_type": "stream",
     "text": [
      "{'diff_jaccard': 0.8816733802938679, 'diff_cosine_tf': 0.9517821571048247, 'diff_cosine_tf_idf': 0.9370412317454051, 'diff_minEdit': 1.0, 'diff_simple': 1.0, 'sing_LoughranMcDonald': -0.0007160551852574311, '0': {'type': '10-Q', 'published': datetime.date(2012, 7, 26), 'qtr': (2012, 3)}}\n",
      "[INFO] Comparing current qtr (2012, 4) to qtr (2012, 3) from 1 quarter ago.\n",
      "[INFO] Comparing current qtr (2011, 1) to qtr (2010, 4) from 1 quarter ago.\n",
      "{'diff_jaccard': 0.7714999362063935, 'diff_cosine_tf': 0.9864147316309132, 'diff_cosine_tf_idf': 0.9779376910507104, 'diff_minEdit': 0.8891852530303406, 'diff_simple': 0.8423228210015596, 'sing_LoughranMcDonald': -0.00025059653875859634, '0': {'type': '10-Q', 'published': datetime.date(2012, 10, 23), 'qtr': (2012, 4)}}\n",
      "{'diff_jaccard': 0.8481945908441416, 'diff_cosine_tf': 0.9693919284155131, 'diff_cosine_tf_idf': 0.9531359388845893, 'diff_minEdit': 0.9999999999999999, 'diff_simple': 0.9999999999999999, 'sing_LoughranMcDonald': -0.000696227841622768, '0': {'type': '10-Q', 'published': datetime.date(2012, 11, 2), 'qtr': (2012, 4)}}\n",
      "{'diff_jaccard': 0.7169452901606637, 'diff_cosine_tf': 0.9867735929048583, 'diff_cosine_tf_idf': 0.9851167088358186, 'diff_minEdit': 0.8315191886823778, 'diff_simple': 0.43440888658367915, 'sing_LoughranMcDonald': -0.0006176362635570037, '0': {'type': '10-K', 'published': datetime.date(2011, 2, 28), 'qtr': (2011, 1)}}\n",
      "[INFO] Comparing current qtr (2011, 2) to qtr (2011, 1) from 1 quarter ago.\n"
     ]
    },
    {
     "name": "stderr",
     "output_type": "stream",
     "text": [
      "\n"
     ]
    },
    {
     "name": "stdout",
     "output_type": "stream",
     "text": [
      "{'diff_jaccard': 0.7649758813863531, 'diff_cosine_tf': 0.9897114913347785, 'diff_cosine_tf_idf': 0.9879428442201017, 'diff_minEdit': 0.9003040494467124, 'diff_simple': 0.9321709500237336, 'sing_LoughranMcDonald': -0.0008314166672243802, '0': {'type': '10-Q', 'published': datetime.date(2011, 5, 9), 'qtr': (2011, 2)}}\n",
      "[INFO] Comparing current qtr (2011, 3) to qtr (2011, 2) from 1 quarter ago.\n",
      "{'diff_jaccard': 0.8857219992855362, 'diff_cosine_tf': 0.9896736897189239, 'diff_cosine_tf_idf': 0.9876241968919783, 'diff_minEdit': 1.0, 'diff_simple': 1.0, 'sing_LoughranMcDonald': -0.0007480239712417668, '0': {'type': '10-Q', 'published': datetime.date(2011, 8, 9), 'qtr': (2011, 3)}}\n",
      "[INFO] Comparing current qtr (2011, 4) to qtr (2011, 3) from 1 quarter ago.\n"
     ]
    },
    {
     "name": "stderr",
     "output_type": "stream",
     "text": [
      "\r",
      "37it [00:34,  1.16s/it]"
     ]
    },
    {
     "name": "stdout",
     "output_type": "stream",
     "text": [
      "{'diff_jaccard': 0.8991345919832432, 'diff_cosine_tf': 0.9967920445003874, 'diff_cosine_tf_idf': 0.9956166352546241, 'diff_minEdit': 1.0000000000000002, 'diff_simple': 1.0000000000000002, 'sing_LoughranMcDonald': -0.000701183229485235, '0': {'type': '10-Q', 'published': datetime.date(2011, 11, 8), 'qtr': (2011, 4)}}\n"
     ]
    },
    {
     "name": "stderr",
     "output_type": "stream",
     "text": [
      "\u001b[A"
     ]
    },
    {
     "name": "stdout",
     "output_type": "stream",
     "text": [
      "[INFO] Comparing current qtr (2012, 1) to qtr (2011, 4) from 1 quarter ago.\n",
      "[INFO] Comparing current qtr (2011, 3) to qtr (2011, 2) from 1 quarter ago.\n",
      "{'diff_jaccard': 0.8448730208413127, 'diff_cosine_tf': 0.9883036622629892, 'diff_cosine_tf_idf': 0.9840592128231365, 'diff_minEdit': 0.9999126179657462, 'diff_simple': 0.9999631695558103, 'sing_LoughranMcDonald': -0.0019506740369274965, '0': {'type': '10-Q', 'published': datetime.date(2011, 8, 12), 'qtr': (2011, 3)}}\n",
      "[INFO] Comparing current qtr (2011, 4) to qtr (2011, 3) from 1 quarter ago.\n",
      "{'diff_jaccard': 0.01183696364350292, 'diff_cosine_tf': 0.41447226001686505, 'diff_cosine_tf_idf': 0.3183958751267032, 'diff_minEdit': 0.9580597365308754, 'diff_simple': 0.8199333813942252, 'sing_LoughranMcDonald': 0.0, '0': {'type': '10-Q', 'published': datetime.date(2011, 11, 10), 'qtr': (2011, 4)}}\n",
      "[INFO] Comparing current qtr (2012, 1) to qtr (2011, 4) from 1 quarter ago.\n",
      "{'diff_jaccard': 0.7822976915111072, 'diff_cosine_tf': 0.9909912368114437, 'diff_cosine_tf_idf': 0.9899770187582433, 'diff_minEdit': 0.9019289577854983, 'diff_simple': 0.9347713853967068, 'sing_LoughranMcDonald': -0.0006296491453955356, '0': {'type': '10-K', 'published': datetime.date(2012, 2, 24), 'qtr': (2012, 1)}}\n"
     ]
    },
    {
     "name": "stderr",
     "output_type": "stream",
     "text": [
      " 38%|███▊      | 38/100 [00:35<01:26,  1.40s/it]\n"
     ]
    },
    {
     "name": "stdout",
     "output_type": "stream",
     "text": [
      "[INFO] Comparing current qtr (2012, 2) to qtr (2012, 1) from 1 quarter ago.\n"
     ]
    },
    {
     "name": "stderr",
     "output_type": "stream",
     "text": [
      "38it [00:35,  1.40s/it]\u001b[A"
     ]
    },
    {
     "name": "stdout",
     "output_type": "stream",
     "text": [
      "{'diff_jaccard': 0.003169378416077342, 'diff_cosine_tf': 0.14304253147164814, 'diff_cosine_tf_idf': 0.11063517047731776, 'diff_minEdit': 0.8963281639102134, 'diff_simple': 0.3588178179988729, 'sing_LoughranMcDonald': -0.00049774924765289, '0': {'type': '10-K', 'published': datetime.date(2012, 3, 6), 'qtr': (2012, 1)}}\n",
      "[INFO] Comparing current qtr (2012, 2) to qtr (2012, 1) from 1 quarter ago.\n",
      "{'diff_jaccard': 0.3881179587602823, 'diff_cosine_tf': 0.6382347610182832, 'diff_cosine_tf_idf': 0.5921658569306917, 'diff_minEdit': 0.6822596970908728, 'diff_simple': 0.652351537185903, 'sing_LoughranMcDonald': -0.0025088183306124522, '0': {'type': '10-Q', 'published': datetime.date(2012, 5, 14), 'qtr': (2012, 2)}}\n",
      "[INFO] Comparing current qtr (2012, 3) to qtr (2012, 2) from 1 quarter ago.\n",
      "{'diff_jaccard': 0.8918363935759631, 'diff_cosine_tf': 0.987038073144308, 'diff_cosine_tf_idf': 0.9812431659153846, 'diff_minEdit': 1.0, 'diff_simple': 1.0, 'sing_LoughranMcDonald': -0.0021911369799878268, '0': {'type': '10-Q', 'published': datetime.date(2012, 8, 13), 'qtr': (2012, 3)}}\n",
      "[INFO] Comparing current qtr (2012, 4) to qtr (2012, 3) from 1 quarter ago.\n",
      "{'diff_jaccard': 0.8285490390452879, 'diff_cosine_tf': 0.991896115289482, 'diff_cosine_tf_idf': 0.9906163460784797, 'diff_minEdit': 0.9033919838285759, 'diff_simple': 0.9370183252736065, 'sing_LoughranMcDonald': -0.0008282319585054319, '0': {'type': '10-Q', 'published': datetime.date(2012, 5, 7), 'qtr': (2012, 2)}}\n",
      "[INFO] Comparing current qtr (2012, 3) to qtr (2012, 2) from 1 quarter ago.\n",
      "{'diff_jaccard': 0.9130768280116917, 'diff_cosine_tf': 0.9937204682513198, 'diff_cosine_tf_idf': 0.9920174527274177, 'diff_minEdit': 1.0, 'diff_simple': 1.0, 'sing_LoughranMcDonald': -0.00215185407547083, '0': {'type': '10-Q', 'published': datetime.date(2012, 11, 14), 'qtr': (2012, 4)}}\n"
     ]
    },
    {
     "name": "stderr",
     "output_type": "stream",
     "text": [
      " 39%|███▉      | 39/100 [00:36<01:11,  1.17s/it]\n",
      "39it [00:36,  1.17s/it]\u001b[A"
     ]
    },
    {
     "name": "stdout",
     "output_type": "stream",
     "text": [
      "{'diff_jaccard': 0.8678848138208828, 'diff_cosine_tf': 0.9810454824381147, 'diff_cosine_tf_idf': 0.9795937924267295, 'diff_minEdit': 0.9505445954314389, 'diff_simple': 0.7817495871035897, 'sing_LoughranMcDonald': -0.0005244854425718204, '0': {'type': '10-Q', 'published': datetime.date(2012, 8, 7), 'qtr': (2012, 3)}}\n",
      "[INFO] Comparing current qtr (2012, 4) to qtr (2012, 3) from 1 quarter ago.\n"
     ]
    },
    {
     "name": "stderr",
     "output_type": "stream",
     "text": [
      "\r",
      " 40%|████      | 40/100 [00:37<01:07,  1.13s/it]"
     ]
    },
    {
     "name": "stdout",
     "output_type": "stream",
     "text": [
      "[ERROR] Here is full_sect: |[]|\n"
     ]
    },
    {
     "name": "stderr",
     "output_type": "stream",
     "text": [
      "\n"
     ]
    },
    {
     "name": "stdout",
     "output_type": "stream",
     "text": [
      "[ERROR] Original res: {'_i_1': [], '_i_2': [], '_i_3': [], '_i_4': [], 'ii_1': [], 'ii_1a': [], 'ii_2': [], 'ii_3': [], 'ii_4': [], 'ii_5': [], 'ii_6': []}\n",
      "[WARNING] /home/alex/Desktop/filtered_text_data/nd_data/2010/QTR2/20100430_10-Q_edgar_data_82020_0000950123-10-041427_1.txt failed parsing\n"
     ]
    },
    {
     "name": "stderr",
     "output_type": "stream",
     "text": [
      "40it [00:37,  1.13s/it]\u001b[A"
     ]
    },
    {
     "name": "stdout",
     "output_type": "stream",
     "text": [
      "{'diff_jaccard': 0.8831749258226443, 'diff_cosine_tf': 0.9842585559815853, 'diff_cosine_tf_idf': 0.982896970744958, 'diff_minEdit': 0.9965215821878755, 'diff_simple': 0.9894362034194317, 'sing_LoughranMcDonald': -0.0006967102045376446, '0': {'type': '10-Q', 'published': datetime.date(2012, 11, 9), 'qtr': (2012, 4)}}\n",
      "[INFO] Comparing current qtr (2010, 2) to qtr (2010, 1) from 1 quarter ago.\n"
     ]
    },
    {
     "name": "stderr",
     "output_type": "stream",
     "text": [
      "\r",
      " 41%|████      | 41/100 [00:38<01:03,  1.07s/it]"
     ]
    },
    {
     "name": "stdout",
     "output_type": "stream",
     "text": [
      "This is the res {'_i_3': [(68383, 68404)], '_i_4': [(72560, 72577)], 'ii_1a': [(75328, 75342)], 'ii_5': [], 'ii_6': [(153877, 153894)]}\n",
      "[WARNING] /home/alex/Desktop/filtered_text_data/nd_data/2010/QTR3/20100722_10-Q_edgar_data_901219_0000950123-10-067270_1.txt failed parsing\n"
     ]
    },
    {
     "name": "stderr",
     "output_type": "stream",
     "text": [
      "\n",
      "41it [00:38,  1.08s/it]\u001b[A"
     ]
    },
    {
     "name": "stdout",
     "output_type": "stream",
     "text": [
      "{'diff_jaccard': 0.33497526800011324, 'diff_cosine_tf': 0.8760470509632919, 'diff_cosine_tf_idf': 0.8634964226049816, 'diff_minEdit': 0.801690069926358, 'diff_simple': 0.7067603719708655, 'sing_LoughranMcDonald': -0.0005472028192717783, '0': {'type': '10-Q', 'published': datetime.date(2010, 5, 7), 'qtr': (2010, 2)}}\n"
     ]
    },
    {
     "name": "stderr",
     "output_type": "stream",
     "text": [
      "\r",
      " 42%|████▏     | 42/100 [00:39<00:59,  1.03s/it]"
     ]
    },
    {
     "name": "stdout",
     "output_type": "stream",
     "text": [
      "[INFO] Comparing current qtr (2010, 3) to qtr (2010, 2) from 1 quarter ago.\n"
     ]
    },
    {
     "name": "stderr",
     "output_type": "stream",
     "text": [
      "\n"
     ]
    },
    {
     "name": "stdout",
     "output_type": "stream",
     "text": [
      "{'diff_jaccard': 0.7144410988795387, 'diff_cosine_tf': 0.9432372412267478, 'diff_cosine_tf_idf': 0.9387682875466483, 'diff_minEdit': 1.0, 'diff_simple': 1.0, 'sing_LoughranMcDonald': -0.000434232415165593, '0': {'type': '10-Q', 'published': datetime.date(2010, 8, 6), 'qtr': (2010, 3)}}\n",
      "[INFO] Comparing current qtr (2010, 4) to qtr (2010, 3) from 1 quarter ago.\n",
      "{'diff_jaccard': 0.6961151061318082, 'diff_cosine_tf': 0.9636765303990075, 'diff_cosine_tf_idf': 0.9560152758585603, 'diff_minEdit': 1.0, 'diff_simple': 1.0, 'sing_LoughranMcDonald': -0.00046541604531876953, '0': {'type': '10-Q', 'published': datetime.date(2010, 11, 5), 'qtr': (2010, 4)}}\n",
      "[INFO] Comparing current qtr (2011, 1) to qtr (2010, 4) from 1 quarter ago.\n"
     ]
    },
    {
     "name": "stderr",
     "output_type": "stream",
     "text": [
      "42it [00:39,  1.02s/it]\u001b[A"
     ]
    },
    {
     "name": "stdout",
     "output_type": "stream",
     "text": [
      "[ERROR] Here is full_sect: |[]|\n",
      "[ERROR] Original res: {'_i_1': [], '_i_2': [], '_i_3': [], '_i_4': [], 'ii_1': [], 'ii_1a': [], 'ii_2': [], 'ii_3': [], 'ii_4': [], 'ii_5': [], 'ii_6': []}\n"
     ]
    },
    {
     "name": "stderr",
     "output_type": "stream",
     "text": [
      "\r",
      " 43%|████▎     | 43/100 [00:40<00:57,  1.02s/it]"
     ]
    },
    {
     "name": "stdout",
     "output_type": "stream",
     "text": [
      "{'diff_jaccard': 0.3392436929354477, 'diff_cosine_tf': 0.8728351379759356, 'diff_cosine_tf_idf': 0.8520653098887434, 'diff_minEdit': 0.7930451351939798, 'diff_simple': 0.7048770514997171, 'sing_LoughranMcDonald': -0.0003770419962841446, '0': {'type': '10-K', 'published': datetime.date(2011, 3, 1), 'qtr': (2011, 1)}}\n",
      "[WARNING] /home/alex/Desktop/filtered_text_data/nd_data/2010/QTR2/20100506_10-Q_edgar_data_1089638_0001144204-10-025007_1.txt failed parsing\n",
      "[INFO] Comparing current qtr (2011, 2) to qtr (2011, 1) from 1 quarter ago.\n"
     ]
    },
    {
     "name": "stderr",
     "output_type": "stream",
     "text": [
      "\n",
      "43it [00:40,  1.01s/it]\u001b[A"
     ]
    },
    {
     "name": "stdout",
     "output_type": "stream",
     "text": [
      "This is the res {'1': [(231317, 231336)], '1a': [], '1b': [(121705, 121725)], '2': [(121750, 121769), (231342, 231363)], '3': [(5377, 5396), (204218, 204232)], '5': [(5509, 5529), (208048, 208063)], '6': [(5652, 5674), (230680, 230697)], '7': [(5706, 5730), (231074, 231095), (231469, 231488)], '7a': [(5827, 5854), (261627, 261649)], '8': [(5918, 5941), (36499, 36518), (261714, 261732)], '9': [(5992, 6013), (261987, 262003)], '9a': [(6111, 6134)], '9b': [(6166, 6186), (267075, 267090)], '10': [(6244, 6268), (267122, 267141)], '11': [(6330, 6354), (267722, 267741)], '12': [(6384, 6407), (267885, 267903)], '13': [(6510, 6532), (268116, 268133)], '14': [(6619, 6643), (268330, 268349)], '15': [(6719, 6742), (268519, 268537)]}\n",
      "[WARNING] /home/alex/Desktop/filtered_text_data/nd_data/2012/QTR1/20120309_10-K_edgar_data_1319009_0001144204-12-014022_1.txt failed parsing\n",
      "{'diff_jaccard': 0.31311628490354615, 'diff_cosine_tf': 0.859541819049537, 'diff_cosine_tf_idf': 0.8433017843467123, 'diff_minEdit': 0.7877809139605426, 'diff_simple': 0.6931216734168179, 'sing_LoughranMcDonald': -0.000637271437260256, '0': {'type': '10-Q', 'published': datetime.date(2011, 5, 10), 'qtr': (2011, 2)}}\n"
     ]
    },
    {
     "name": "stderr",
     "output_type": "stream",
     "text": [
      "\r",
      " 44%|████▍     | 44/100 [00:41<00:58,  1.04s/it]"
     ]
    },
    {
     "name": "stdout",
     "output_type": "stream",
     "text": [
      "[INFO] Comparing current qtr (2011, 3) to qtr (2011, 2) from 1 quarter ago.\n"
     ]
    },
    {
     "name": "stderr",
     "output_type": "stream",
     "text": [
      "\n"
     ]
    },
    {
     "name": "stdout",
     "output_type": "stream",
     "text": [
      "{'diff_jaccard': 0.6992858409381002, 'diff_cosine_tf': 0.9283629355017973, 'diff_cosine_tf_idf': 0.9218704992966047, 'diff_minEdit': 0.9354442691058402, 'diff_simple': 0.9908828676994877, 'sing_LoughranMcDonald': -0.0007899062921849754, '0': {'type': '10-Q', 'published': datetime.date(2011, 8, 9), 'qtr': (2011, 3)}}\n"
     ]
    },
    {
     "name": "stderr",
     "output_type": "stream",
     "text": [
      "\r",
      "44it [00:41,  1.04s/it]"
     ]
    },
    {
     "name": "stdout",
     "output_type": "stream",
     "text": [
      "[INFO] Comparing current qtr (2011, 4) to qtr (2011, 3) from 1 quarter ago.\n"
     ]
    },
    {
     "name": "stderr",
     "output_type": "stream",
     "text": [
      "\u001b[A"
     ]
    },
    {
     "name": "stdout",
     "output_type": "stream",
     "text": [
      "{'diff_jaccard': 0.6617709456246089, 'diff_cosine_tf': 0.9599551294387919, 'diff_cosine_tf_idf': 0.94082893485009, 'diff_minEdit': 0.9332516134438106, 'diff_simple': 0.9905277695036421, 'sing_LoughranMcDonald': -0.0008897981424661889, '0': {'type': '10-Q', 'published': datetime.date(2011, 11, 9), 'qtr': (2011, 4)}}\n",
      "[INFO] Comparing current qtr (2012, 1) to qtr (2011, 4) from 1 quarter ago.\n",
      "[INFO] Comparing current qtr (2010, 2) to qtr (2010, 1) from 1 quarter ago.\n",
      "{'diff_jaccard': 0.8120598552571887, 'diff_cosine_tf': 0.9877864502367878, 'diff_cosine_tf_idf': 0.9844041931402837, 'diff_minEdit': 0.8872048009275247, 'diff_simple': 0.9477940447236062, 'sing_LoughranMcDonald': -0.0003699962858103285, '0': {'type': '10-Q', 'published': datetime.date(2010, 5, 10), 'qtr': (2010, 2)}}\n",
      "[INFO] Comparing current qtr (2010, 3) to qtr (2010, 2) from 1 quarter ago.\n",
      "{'diff_jaccard': 0.32936688170754097, 'diff_cosine_tf': 0.8557227466749144, 'diff_cosine_tf_idf': 0.8405183937702353, 'diff_minEdit': 0.7865638921642755, 'diff_simple': 0.6947929136463441, 'sing_LoughranMcDonald': -0.0003240135578440655, '0': {'type': '10-K', 'published': datetime.date(2012, 2, 29), 'qtr': (2012, 1)}}\n",
      "[INFO] Comparing current qtr (2012, 2) to qtr (2012, 1) from 1 quarter ago.\n",
      "{'diff_jaccard': 0.9137293714467303, 'diff_cosine_tf': 0.9933812405371362, 'diff_cosine_tf_idf': 0.9921410443560795, 'diff_minEdit': 0.9976224963788023, 'diff_simple': 0.9961365566155538, 'sing_LoughranMcDonald': -0.0005284538595699593, '0': {'type': '10-Q', 'published': datetime.date(2010, 8, 6), 'qtr': (2010, 3)}}\n",
      "[INFO] Comparing current qtr (2010, 4) to qtr (2010, 3) from 1 quarter ago.\n",
      "{'diff_jaccard': 0.28720054975225673, 'diff_cosine_tf': 0.8587379962703425, 'diff_cosine_tf_idf': 0.8439753580798489, 'diff_minEdit': 0.7826830967321322, 'diff_simple': 0.6850232187648296, 'sing_LoughranMcDonald': -0.0014162734395462616, '0': {'type': '10-Q', 'published': datetime.date(2012, 5, 9), 'qtr': (2012, 2)}}\n",
      "[INFO] Comparing current qtr (2012, 3) to qtr (2012, 2) from 1 quarter ago.\n",
      "[INFO] Comparing current qtr (2010, 2) to qtr (2010, 1) from 1 quarter ago.\n",
      "{'diff_jaccard': 0.6671528623121534, 'diff_cosine_tf': 0.9406634788038977, 'diff_cosine_tf_idf': 0.916269855062047, 'diff_minEdit': 0.9907530647125848, 'diff_simple': 0.9906007622490276, 'sing_LoughranMcDonald': -0.0009636298290448952, '0': {'type': '10-Q', 'published': datetime.date(2012, 8, 3), 'qtr': (2012, 3)}}\n",
      "[INFO] Comparing current qtr (2012, 4) to qtr (2012, 3) from 1 quarter ago.\n",
      "{'diff_jaccard': 0.874811830421923, 'diff_cosine_tf': 0.9955147149463055, 'diff_cosine_tf_idf': 0.9946705498944972, 'diff_minEdit': 1.0, 'diff_simple': 1.0, 'sing_LoughranMcDonald': -0.00048014084329602263, '0': {'type': '10-Q', 'published': datetime.date(2010, 11, 9), 'qtr': (2010, 4)}}\n",
      "[INFO] Comparing current qtr (2011, 1) to qtr (2010, 4) from 1 quarter ago.\n",
      "This is the res {'1a': [(145018, 145034)], '5': [], '6': [(143905, 143922), (145243, 145261)], '7': [(88086, 88106), (144263, 144284)], '8': [(144364, 144384), (145277, 145297)], '9': [(197804, 197820)]}\n",
      "[WARNING] /home/alex/Desktop/filtered_text_data/nd_data/2010/QTR1/20100325_10-K_edgar_data_1114220_0001144204-10-015670_1.txt failed parsing\n"
     ]
    },
    {
     "name": "stderr",
     "output_type": "stream",
     "text": [
      " 45%|████▌     | 45/100 [00:42<01:04,  1.17s/it]\n",
      "45it [00:42,  1.17s/it]\u001b[A"
     ]
    },
    {
     "name": "stdout",
     "output_type": "stream",
     "text": [
      "{'diff_jaccard': 0.7177129621692407, 'diff_cosine_tf': 0.9677908990547021, 'diff_cosine_tf_idf': 0.9533408866008054, 'diff_minEdit': 1.0, 'diff_simple': 1.0, 'sing_LoughranMcDonald': -0.000989557557638322, '0': {'type': '10-Q', 'published': datetime.date(2012, 11, 9), 'qtr': (2012, 4)}}\n",
      "{'diff_jaccard': 0.7614543724761647, 'diff_cosine_tf': 0.987809063534147, 'diff_cosine_tf_idf': 0.9850727754798146, 'diff_minEdit': 0.9277476353063505, 'diff_simple': 0.9386552697231196, 'sing_LoughranMcDonald': -0.0005159839908955676, '0': {'type': '10-K', 'published': datetime.date(2011, 3, 1), 'qtr': (2011, 1)}}\n"
     ]
    },
    {
     "name": "stderr",
     "output_type": "stream",
     "text": [
      "\r",
      " 46%|████▌     | 46/100 [00:43<01:01,  1.15s/it]"
     ]
    },
    {
     "name": "stdout",
     "output_type": "stream",
     "text": [
      "[INFO] Comparing current qtr (2011, 2) to qtr (2011, 1) from 1 quarter ago.\n"
     ]
    },
    {
     "name": "stderr",
     "output_type": "stream",
     "text": [
      "\n"
     ]
    },
    {
     "name": "stdout",
     "output_type": "stream",
     "text": [
      "{'diff_jaccard': 0.7505976575168207, 'diff_cosine_tf': 0.9894915261332227, 'diff_cosine_tf_idf': 0.9882604522715904, 'diff_minEdit': 0.7824883331208645, 'diff_simple': 0.5944477683211146, 'sing_LoughranMcDonald': -0.00039412389943585974, '0': {'type': '10-Q', 'published': datetime.date(2010, 5, 10), 'qtr': (2010, 2)}}\n",
      "[INFO] Comparing current qtr (2010, 3) to qtr (2010, 2) from 1 quarter ago.\n",
      "{'diff_jaccard': 0.790316139117008, 'diff_cosine_tf': 0.9882259151041548, 'diff_cosine_tf_idf': 0.9863448337284886, 'diff_minEdit': 0.8925291965549088, 'diff_simple': 0.9524457394303383, 'sing_LoughranMcDonald': -0.0005262488561875064, '0': {'type': '10-Q', 'published': datetime.date(2011, 5, 6), 'qtr': (2011, 2)}}\n",
      "[INFO] Comparing current qtr (2011, 3) to qtr (2011, 2) from 1 quarter ago.\n"
     ]
    },
    {
     "name": "stderr",
     "output_type": "stream",
     "text": [
      "46it [00:43,  1.15s/it]\u001b[A"
     ]
    },
    {
     "name": "stdout",
     "output_type": "stream",
     "text": [
      "[INFO] Comparing current qtr (2010, 2) to qtr (2010, 1) from 1 quarter ago.\n",
      "{'diff_jaccard': 0.8697832654234912, 'diff_cosine_tf': 0.9958885481891298, 'diff_cosine_tf_idf': 0.9953170621878065, 'diff_minEdit': 0.9994113403206115, 'diff_simple': 0.9991994228360316, 'sing_LoughranMcDonald': -0.0003774290969610678, '0': {'type': '10-Q', 'published': datetime.date(2010, 8, 6), 'qtr': (2010, 3)}}\n",
      "[INFO] Comparing current qtr (2010, 4) to qtr (2010, 3) from 1 quarter ago.\n",
      "{'diff_jaccard': 0.9416171611564611, 'diff_cosine_tf': 0.9971968614721218, 'diff_cosine_tf_idf': 0.9963966100666856, 'diff_minEdit': 0.9497750678694303, 'diff_simple': 0.9919758056359111, 'sing_LoughranMcDonald': -0.0005048774724006376, '0': {'type': '10-Q', 'published': datetime.date(2011, 8, 5), 'qtr': (2011, 3)}}\n",
      "{'diff_jaccard': 0.30816012323115144, 'diff_cosine_tf': 0.8390986144102681, 'diff_cosine_tf_idf': 0.8237038418109747, 'diff_minEdit': 0.833929107848793, 'diff_simple': 0.7238684835368646, 'sing_LoughranMcDonald': -0.0009077899626382366, '0': {'type': '10-Q', 'published': datetime.date(2010, 5, 7), 'qtr': (2010, 2)}}\n",
      "[INFO] Comparing current qtr (2010, 3) to qtr (2010, 2) from 1 quarter ago.\n",
      "[INFO] Comparing current qtr (2011, 4) to qtr (2011, 3) from 1 quarter ago.\n",
      "{'diff_jaccard': 0.7045384411104435, 'diff_cosine_tf': 0.962138634041093, 'diff_cosine_tf_idf': 0.9531170059865439, 'diff_minEdit': 1.0, 'diff_simple': 1.0, 'sing_LoughranMcDonald': -0.0007444799439493737, '0': {'type': '10-Q', 'published': datetime.date(2010, 8, 6), 'qtr': (2010, 3)}}\n",
      "[INFO] Comparing current qtr (2010, 4) to qtr (2010, 3) from 1 quarter ago.\n",
      "{'diff_jaccard': 0.6043505886504298, 'diff_cosine_tf': 0.9700892151893143, 'diff_cosine_tf_idf': 0.9682953274848293, 'diff_minEdit': 1.0, 'diff_simple': 1.0, 'sing_LoughranMcDonald': -0.000583848193652699, '0': {'type': '10-Q', 'published': datetime.date(2010, 11, 8), 'qtr': (2010, 4)}}\n",
      "[INFO] Comparing current qtr (2011, 1) to qtr (2010, 4) from 1 quarter ago.\n",
      "{'diff_jaccard': 0.9551891449826965, 'diff_cosine_tf': 0.9980210236995608, 'diff_cosine_tf_idf': 0.9975985250329883, 'diff_minEdit': 0.949565595580354, 'diff_simple': 0.9919418410965504, 'sing_LoughranMcDonald': -0.0005034599039665242, '0': {'type': '10-Q', 'published': datetime.date(2011, 11, 4), 'qtr': (2011, 4)}}\n",
      "[INFO] Comparing current qtr (2012, 1) to qtr (2011, 4) from 1 quarter ago.\n",
      "{'diff_jaccard': 0.8180992322582907, 'diff_cosine_tf': 0.9946780468265423, 'diff_cosine_tf_idf': 0.9935290349550442, 'diff_minEdit': 0.9728964043619216, 'diff_simple': 0.9943773747222022, 'sing_LoughranMcDonald': -0.00032492537739330703, '0': {'type': '10-Q', 'published': datetime.date(2010, 11, 3), 'qtr': (2010, 4)}}\n",
      "[INFO] Comparing current qtr (2011, 1) to qtr (2010, 4) from 1 quarter ago.\n",
      "{'diff_jaccard': 0.360013774604922, 'diff_cosine_tf': 0.8490350264022343, 'diff_cosine_tf_idf': 0.8363417886811405, 'diff_minEdit': 0.8693938696337258, 'diff_simple': 0.7226788833271851, 'sing_LoughranMcDonald': -0.0006943084394199185, '0': {'type': '10-K', 'published': datetime.date(2011, 3, 15), 'qtr': (2011, 1)}}\n",
      "[INFO] Comparing current qtr (2011, 2) to qtr (2011, 1) from 1 quarter ago.\n",
      "{'diff_jaccard': 0.33207501456017496, 'diff_cosine_tf': 0.8293242110846674, 'diff_cosine_tf_idf': 0.815203904515711, 'diff_minEdit': 0.8323843798139222, 'diff_simple': 0.7194505627784027, 'sing_LoughranMcDonald': -0.0009077113776322399, '0': {'type': '10-Q', 'published': datetime.date(2011, 5, 10), 'qtr': (2011, 2)}}\n",
      "[INFO] Comparing current qtr (2011, 3) to qtr (2011, 2) from 1 quarter ago.\n",
      "{'diff_jaccard': 0.7598204743205406, 'diff_cosine_tf': 0.9872943107551682, 'diff_cosine_tf_idf': 0.9838904506726993, 'diff_minEdit': 0.9275299522804142, 'diff_simple': 0.9370068299062705, 'sing_LoughranMcDonald': -0.0004240220323927306, '0': {'type': '10-K', 'published': datetime.date(2012, 2, 29), 'qtr': (2012, 1)}}\n",
      "[INFO] Comparing current qtr (2012, 2) to qtr (2012, 1) from 1 quarter ago.\n",
      "{'diff_jaccard': 0.6602497974468525, 'diff_cosine_tf': 0.9525969910444315, 'diff_cosine_tf_idf': 0.9484840898856348, 'diff_minEdit': 0.9907776995121443, 'diff_simple': 0.9843484386006106, 'sing_LoughranMcDonald': -0.0011755997638868156, '0': {'type': '10-Q', 'published': datetime.date(2011, 8, 5), 'qtr': (2011, 3)}}\n",
      "[INFO] Comparing current qtr (2011, 4) to qtr (2011, 3) from 1 quarter ago.\n",
      "{'diff_jaccard': 0.688872299472762, 'diff_cosine_tf': 0.9687514475550412, 'diff_cosine_tf_idf': 0.9510685175736859, 'diff_minEdit': 0.9284241115054261, 'diff_simple': 0.9751990433575066, 'sing_LoughranMcDonald': -0.0008849297218015892, '0': {'type': '10-Q', 'published': datetime.date(2011, 11, 7), 'qtr': (2011, 4)}}\n",
      "[INFO] Comparing current qtr (2012, 1) to qtr (2011, 4) from 1 quarter ago.\n",
      "{'diff_jaccard': 0.7526987372400462, 'diff_cosine_tf': 0.9929253253855366, 'diff_cosine_tf_idf': 0.9923805216475441, 'diff_minEdit': 0.862225397636574, 'diff_simple': 0.5411670323474254, 'sing_LoughranMcDonald': -0.00031555471928264, '0': {'type': '10-K', 'published': datetime.date(2011, 2, 25), 'qtr': (2011, 1)}}\n",
      "[INFO] Comparing current qtr (2011, 2) to qtr (2011, 1) from 1 quarter ago.\n",
      "{'diff_jaccard': 0.007667037101452379, 'diff_cosine_tf': 0.38243519889545186, 'diff_cosine_tf_idf': 0.28958911654178143, 'diff_minEdit': 0.9252929462637974, 'diff_simple': 0.8170990252268149, 'sing_LoughranMcDonald': 0.0, '0': {'type': '10-K', 'published': datetime.date(2012, 3, 13), 'qtr': (2012, 1)}}\n",
      "[INFO] Comparing current qtr (2012, 2) to qtr (2012, 1) from 1 quarter ago.\n",
      "{'diff_jaccard': 0.008309632105914367, 'diff_cosine_tf': 0.3869083765296808, 'diff_cosine_tf_idf': 0.29325268581629516, 'diff_minEdit': 0.9576218579570689, 'diff_simple': 0.816564131476702, 'sing_LoughranMcDonald': -0.0006238228314334861, '0': {'type': '10-Q', 'published': datetime.date(2012, 5, 7), 'qtr': (2012, 2)}}\n",
      "[INFO] Comparing current qtr (2012, 3) to qtr (2012, 2) from 1 quarter ago.\n",
      "{'diff_jaccard': 0.845388063809903, 'diff_cosine_tf': 0.9884619601352861, 'diff_cosine_tf_idf': 0.9863887493670334, 'diff_minEdit': 0.8805378861791764, 'diff_simple': 0.9324754144921362, 'sing_LoughranMcDonald': -0.0004058940874701686, '0': {'type': '10-Q', 'published': datetime.date(2012, 5, 8), 'qtr': (2012, 2)}}\n",
      "[INFO] Comparing current qtr (2012, 3) to qtr (2012, 2) from 1 quarter ago.\n",
      "{'diff_jaccard': 0.6253488575235063, 'diff_cosine_tf': 0.9620897888209636, 'diff_cosine_tf_idf': 0.9481627828207363, 'diff_minEdit': 0.9355677265652004, 'diff_simple': 0.9876029611051084, 'sing_LoughranMcDonald': -0.0011551328992372874, '0': {'type': '10-Q', 'published': datetime.date(2012, 8, 6), 'qtr': (2012, 3)}}\n",
      "[INFO] Comparing current qtr (2012, 4) to qtr (2012, 3) from 1 quarter ago.\n",
      "{'diff_jaccard': 0.6988174811185558, 'diff_cosine_tf': 0.9826335844546861, 'diff_cosine_tf_idf': 0.9809456632974182, 'diff_minEdit': 1.0, 'diff_simple': 1.0, 'sing_LoughranMcDonald': -0.000993673631724048, '0': {'type': '10-Q', 'published': datetime.date(2012, 11, 8), 'qtr': (2012, 4)}}\n"
     ]
    },
    {
     "name": "stderr",
     "output_type": "stream",
     "text": [
      " 47%|████▋     | 47/100 [00:46<01:24,  1.59s/it]\n",
      "47it [00:46,  1.59s/it]\u001b[A"
     ]
    },
    {
     "name": "stdout",
     "output_type": "stream",
     "text": [
      "{'diff_jaccard': 0.7339617027116572, 'diff_cosine_tf': 0.9877689222514184, 'diff_cosine_tf_idf': 0.9865012241118983, 'diff_minEdit': 0.7635732001306886, 'diff_simple': 0.5909501693659364, 'sing_LoughranMcDonald': -0.00035183959407314745, '0': {'type': '10-Q', 'published': datetime.date(2011, 5, 6), 'qtr': (2011, 2)}}\n",
      "[INFO] Comparing current qtr (2011, 3) to qtr (2011, 2) from 1 quarter ago.\n",
      "{'diff_jaccard': 0.917958734908008, 'diff_cosine_tf': 0.998211814315011, 'diff_cosine_tf_idf': 0.9977562162252966, 'diff_minEdit': 1.0, 'diff_simple': 1.0, 'sing_LoughranMcDonald': -0.00038352156124355055, '0': {'type': '10-Q', 'published': datetime.date(2012, 8, 8), 'qtr': (2012, 3)}}\n",
      "[INFO] Comparing current qtr (2012, 4) to qtr (2012, 3) from 1 quarter ago.\n",
      "[INFO] Comparing current qtr (2010, 2) to qtr (2010, 1) from 1 quarter ago.\n",
      "{'diff_jaccard': 0.8840601561108397, 'diff_cosine_tf': 0.9959938900433561, 'diff_cosine_tf_idf': 0.995251994171611, 'diff_minEdit': 0.997164577275084, 'diff_simple': 0.99938679245283, 'sing_LoughranMcDonald': -0.0002912920367837957, '0': {'type': '10-Q', 'published': datetime.date(2011, 8, 5), 'qtr': (2011, 3)}}\n",
      "[INFO] Comparing current qtr (2011, 4) to qtr (2011, 3) from 1 quarter ago.\n",
      "{'diff_jaccard': 0.9659442577573719, 'diff_cosine_tf': 0.9993315514619975, 'diff_cosine_tf_idf': 0.9989997357558866, 'diff_minEdit': 1.0, 'diff_simple': 1.0, 'sing_LoughranMcDonald': -0.0003700758444647485, '0': {'type': '10-Q', 'published': datetime.date(2012, 10, 25), 'qtr': (2012, 4)}}\n"
     ]
    },
    {
     "name": "stderr",
     "output_type": "stream",
     "text": [
      " 48%|████▊     | 48/100 [00:47<01:16,  1.47s/it]\n",
      "48it [00:47,  1.47s/it]"
     ]
    },
    {
     "name": "stdout",
     "output_type": "stream",
     "text": [
      "{'diff_jaccard': 0.0026016434587383197, 'diff_cosine_tf': 0.22172105713812315, 'diff_cosine_tf_idf': 0.16812103239235135, 'diff_minEdit': 0.9256257202540379, 'diff_simple': 0.5361947274476814, 'sing_LoughranMcDonald': 0.0, '0': {'type': '10-Q', 'published': datetime.date(2010, 5, 5), 'qtr': (2010, 2)}}\n"
     ]
    },
    {
     "name": "stderr",
     "output_type": "stream",
     "text": [
      "\u001b[A"
     ]
    },
    {
     "name": "stdout",
     "output_type": "stream",
     "text": [
      "[INFO] Comparing current qtr (2010, 3) to qtr (2010, 2) from 1 quarter ago.\n",
      "{'diff_jaccard': 0.7217171717171718, 'diff_cosine_tf': 0.8399999999999999, 'diff_cosine_tf_idf': 0.7464359212312635, 'diff_minEdit': 0.8833333333333334, 'diff_simple': 0.9628682880427066, 'sing_LoughranMcDonald': 0.0, '0': {'type': '10-Q', 'published': datetime.date(2010, 8, 4), 'qtr': (2010, 3)}}\n",
      "[INFO] Comparing current qtr (2010, 4) to qtr (2010, 3) from 1 quarter ago.\n",
      "{'diff_jaccard': 0.7217171717171718, 'diff_cosine_tf': 0.8399999999999999, 'diff_cosine_tf_idf': 0.7464359212312635, 'diff_minEdit': 0.8666666666666667, 'diff_simple': 0.973155755742965, 'sing_LoughranMcDonald': 0.0, '0': {'type': '10-Q', 'published': datetime.date(2010, 11, 3), 'qtr': (2010, 4)}}\n",
      "[INFO] Comparing current qtr (2011, 1) to qtr (2010, 4) from 1 quarter ago.\n",
      "{'diff_jaccard': 0.3817510548523207, 'diff_cosine_tf': 0.5798962385648523, 'diff_cosine_tf_idf': 0.4778080409061846, 'diff_minEdit': 0.9089813140446051, 'diff_simple': 0.6370351787633821, 'sing_LoughranMcDonald': 0.0, '0': {'type': '10-K', 'published': datetime.date(2011, 2, 24), 'qtr': (2011, 1)}}\n",
      "[INFO] Comparing current qtr (2011, 2) to qtr (2011, 1) from 1 quarter ago.\n",
      "{'diff_jaccard': 0.3817510548523207, 'diff_cosine_tf': 0.5798962385648523, 'diff_cosine_tf_idf': 0.4778080409061846, 'diff_minEdit': 0.9101868595539482, 'diff_simple': 0.6331008647024858, 'sing_LoughranMcDonald': 0.0, '0': {'type': '10-Q', 'published': datetime.date(2011, 5, 4), 'qtr': (2011, 2)}}\n",
      "[INFO] Comparing current qtr (2011, 3) to qtr (2011, 2) from 1 quarter ago.\n",
      "{'diff_jaccard': 0.7217171717171718, 'diff_cosine_tf': 0.8399999999999999, 'diff_cosine_tf_idf': 0.7464359212312635, 'diff_minEdit': 0.8833333333333333, 'diff_simple': 0.9617271843143936, 'sing_LoughranMcDonald': 0.0, '0': {'type': '10-Q', 'published': datetime.date(2011, 8, 4), 'qtr': (2011, 3)}}\n",
      "[INFO] Comparing current qtr (2011, 4) to qtr (2011, 3) from 1 quarter ago.\n",
      "{'diff_jaccard': 0.7217171717171718, 'diff_cosine_tf': 0.8399999999999999, 'diff_cosine_tf_idf': 0.7464359212312635, 'diff_minEdit': 0.9166666666666667, 'diff_simple': 0.973155755742965, 'sing_LoughranMcDonald': 0.0, '0': {'type': '10-Q', 'published': datetime.date(2011, 11, 4), 'qtr': (2011, 4)}}\n",
      "[INFO] Comparing current qtr (2012, 1) to qtr (2011, 4) from 1 quarter ago.\n",
      "{'diff_jaccard': 0.9070795621729834, 'diff_cosine_tf': 0.9978050023172508, 'diff_cosine_tf_idf': 0.9971575690732826, 'diff_minEdit': 0.9993786584526797, 'diff_simple': 0.9997483566733353, 'sing_LoughranMcDonald': -0.00026523919037126385, '0': {'type': '10-Q', 'published': datetime.date(2011, 11, 3), 'qtr': (2011, 4)}}\n",
      "[INFO] Comparing current qtr (2012, 1) to qtr (2011, 4) from 1 quarter ago.\n",
      "{'diff_jaccard': 0.587933061205978, 'diff_cosine_tf': 0.8286723890544077, 'diff_cosine_tf_idf': 0.7947476951500374, 'diff_minEdit': 0.7012828029660775, 'diff_simple': 0.5326100354767617, 'sing_LoughranMcDonald': -0.0005735012985862858, '0': {'type': '10-K', 'published': datetime.date(2012, 2, 21), 'qtr': (2012, 1)}}\n",
      "[INFO] Comparing current qtr (2012, 2) to qtr (2012, 1) from 1 quarter ago.\n",
      "{'diff_jaccard': 0.002120097009162838, 'diff_cosine_tf': 0.18057813461414476, 'diff_cosine_tf_idf': 0.13269779876261337, 'diff_minEdit': 0.947574289828446, 'diff_simple': 0.47572212933438107, 'sing_LoughranMcDonald': -0.00015295200828954316, '0': {'type': '10-K', 'published': datetime.date(2012, 3, 14), 'qtr': (2012, 1)}}\n",
      "[INFO] Comparing current qtr (2012, 2) to qtr (2012, 1) from 1 quarter ago.\n",
      "[INFO] Comparing current qtr (2010, 2) to qtr (2010, 1) from 1 quarter ago.\n",
      "[INFO] Comparing current qtr (2010, 2) to qtr (2010, 1) from 1 quarter ago.\n",
      "{'diff_jaccard': 0.06398503251880726, 'diff_cosine_tf': 0.3044631337744003, 'diff_cosine_tf_idf': 0.2540960020734357, 'diff_minEdit': 0.6494456372710159, 'diff_simple': 0.3777771455788268, 'sing_LoughranMcDonald': -0.012121468935078015, '0': {'type': '10-Q', 'published': datetime.date(2010, 5, 6), 'qtr': (2010, 2)}}\n",
      "[INFO] Comparing current qtr (2010, 3) to qtr (2010, 2) from 1 quarter ago.\n",
      "{'diff_jaccard': 0.002176985717078012, 'diff_cosine_tf': 0.1813072003496099, 'diff_cosine_tf_idf': 0.13733191846032944, 'diff_minEdit': 0.9469756537507854, 'diff_simple': 0.47619936368999866, 'sing_LoughranMcDonald': 0.0, '0': {'type': '10-Q', 'published': datetime.date(2012, 5, 2), 'qtr': (2012, 2)}}\n",
      "[INFO] Comparing current qtr (2012, 3) to qtr (2012, 2) from 1 quarter ago.\n",
      "{'diff_jaccard': 0.8442273007059766, 'diff_cosine_tf': 0.9380556526998518, 'diff_cosine_tf_idf': 0.9228974028515451, 'diff_minEdit': 1.0, 'diff_simple': 1.0, 'sing_LoughranMcDonald': -0.005262772350932851, '0': {'type': '10-Q', 'published': datetime.date(2010, 8, 5), 'qtr': (2010, 3)}}\n",
      "{'diff_jaccard': 0.7217171717171718, 'diff_cosine_tf': 0.8399999999999999, 'diff_cosine_tf_idf': 0.7464359212312635, 'diff_minEdit': 0.9166666666666667, 'diff_simple': 0.9628682880427066, 'sing_LoughranMcDonald': 0.0, '0': {'type': '10-Q', 'published': datetime.date(2012, 8, 1), 'qtr': (2012, 3)}}\n",
      "[INFO] Comparing current qtr (2010, 4) to qtr (2010, 3) from 1 quarter ago.\n",
      "[INFO] Comparing current qtr (2012, 4) to qtr (2012, 3) from 1 quarter ago.\n",
      "{'diff_jaccard': 0.7217171717171718, 'diff_cosine_tf': 0.8399999999999999, 'diff_cosine_tf_idf': 0.7464359212312635, 'diff_minEdit': 0.9166666666666667, 'diff_simple': 0.9563008277252464, 'sing_LoughranMcDonald': 0.0, '0': {'type': '10-Q', 'published': datetime.date(2012, 11, 1), 'qtr': (2012, 4)}}\n"
     ]
    },
    {
     "name": "stderr",
     "output_type": "stream",
     "text": [
      " 49%|████▉     | 49/100 [00:49<01:19,  1.56s/it]\n",
      "49it [00:49,  1.56s/it]\u001b[A"
     ]
    },
    {
     "name": "stdout",
     "output_type": "stream",
     "text": [
      "{'diff_jaccard': 0.9631760032939976, 'diff_cosine_tf': 0.9964392482866722, 'diff_cosine_tf_idf': 0.9930594362103271, 'diff_minEdit': 1.0, 'diff_simple': 1.0, 'sing_LoughranMcDonald': -0.0052415281398910125, '0': {'type': '10-Q', 'published': datetime.date(2010, 10, 29), 'qtr': (2010, 4)}}\n",
      "[INFO] Comparing current qtr (2011, 1) to qtr (2010, 4) from 1 quarter ago.\n",
      "{'diff_jaccard': 0.0020390611280748172, 'diff_cosine_tf': 0.14318932106252671, 'diff_cosine_tf_idf': 0.10831570894952423, 'diff_minEdit': 0.9476515110491269, 'diff_simple': 0.4098219947841433, 'sing_LoughranMcDonald': 0.0, '0': {'type': '10-Q', 'published': datetime.date(2010, 5, 7), 'qtr': (2010, 2)}}\n",
      "[INFO] Comparing current qtr (2010, 3) to qtr (2010, 2) from 1 quarter ago.\n",
      "{'diff_jaccard': 0.6401280057933298, 'diff_cosine_tf': 0.8363448197212345, 'diff_cosine_tf_idf': 0.8043764323297258, 'diff_minEdit': 0.7840940844626892, 'diff_simple': 0.4782658423846747, 'sing_LoughranMcDonald': -0.0003026035987452315, '0': {'type': '10-Q', 'published': datetime.date(2012, 4, 27), 'qtr': (2012, 2)}}\n",
      "[INFO] Comparing current qtr (2012, 3) to qtr (2012, 2) from 1 quarter ago.\n",
      "[INFO] Comparing current qtr (2010, 2) to qtr (2010, 1) from 1 quarter ago.\n",
      "{'diff_jaccard': 0.007586717580939128, 'diff_cosine_tf': 0.36244582442043005, 'diff_cosine_tf_idf': 0.2745482594064576, 'diff_minEdit': 0.9590264689140501, 'diff_simple': 0.7971192916797945, 'sing_LoughranMcDonald': -0.0008726393976833603, '0': {'type': '10-Q', 'published': datetime.date(2010, 8, 6), 'qtr': (2010, 3)}}\n",
      "[INFO] Comparing current qtr (2010, 4) to qtr (2010, 3) from 1 quarter ago.\n",
      "{'diff_jaccard': 0.08441568573726803, 'diff_cosine_tf': 0.42864057051458465, 'diff_cosine_tf_idf': 0.3908803367034801, 'diff_minEdit': 0.6596643204182999, 'diff_simple': 0.3675734504015924, 'sing_LoughranMcDonald': -0.0005865996071842778, '0': {'type': '10-K', 'published': datetime.date(2011, 3, 15), 'qtr': (2011, 1)}}\n",
      "[INFO] Comparing current qtr (2011, 2) to qtr (2011, 1) from 1 quarter ago.\n",
      "{'diff_jaccard': 0.4274519153112795, 'diff_cosine_tf': 0.8207910203093732, 'diff_cosine_tf_idf': 0.794254161916549, 'diff_minEdit': 0.8154817806089045, 'diff_simple': 0.8051396128261847, 'sing_LoughranMcDonald': -0.00022369339510798554, '0': {'type': '10-Q', 'published': datetime.date(2010, 5, 19), 'qtr': (2010, 2)}}\n",
      "{'diff_jaccard': 0.8164868776247793, 'diff_cosine_tf': 0.9863243714090136, 'diff_cosine_tf_idf': 0.9779711186925525, 'diff_minEdit': 0.9986570730776068, 'diff_simple': 0.999811990230865, 'sing_LoughranMcDonald': -0.0008518353836754801, '0': {'type': '10-Q', 'published': datetime.date(2010, 11, 8), 'qtr': (2010, 4)}}\n",
      "[INFO] Comparing current qtr (2011, 1) to qtr (2010, 4) from 1 quarter ago.\n",
      "{'diff_jaccard': 0.36670818613560013, 'diff_cosine_tf': 0.7795602767574398, 'diff_cosine_tf_idf': 0.7514187263645304, 'diff_minEdit': 0.8303627357481846, 'diff_simple': 0.7178729632910905, 'sing_LoughranMcDonald': -0.0018276060217167745, '0': {'type': '10-Q', 'published': datetime.date(2011, 4, 28), 'qtr': (2011, 2)}}\n",
      "[INFO] Comparing current qtr (2011, 3) to qtr (2011, 2) from 1 quarter ago.\n",
      "{'diff_jaccard': 0.2411259832969853, 'diff_cosine_tf': 0.3074604996947787, 'diff_cosine_tf_idf': 0.2805535257831067, 'diff_minEdit': 0.6845529073859206, 'diff_simple': 0.41094469442199094, 'sing_LoughranMcDonald': -0.011878782466729049, '0': {'type': '10-Q', 'published': datetime.date(2011, 7, 28), 'qtr': (2011, 3)}}\n",
      "[INFO] Comparing current qtr (2011, 4) to qtr (2011, 3) from 1 quarter ago.\n",
      "This is the res {'1': [(10401, 10422)], '4': [(23836, 23860)], '6': [(25607, 25629)], '7a': [(47395, 47418)], '10': [], '12': [(7429, 7488)], '14': [(7741, 7790)], '15': [(7862, 7898)]}\n",
      "[WARNING] /home/alex/Desktop/filtered_text_data/nd_data/2010/QTR1/20100224_10-K_edgar_data_1024126_0001354488-10-000553_1.txt failed parsing\n",
      "{'diff_jaccard': 0.8586115276936532, 'diff_cosine_tf': 0.9779316844671261, 'diff_cosine_tf_idf': 0.968470542925846, 'diff_minEdit': 1.0, 'diff_simple': 1.0, 'sing_LoughranMcDonald': -0.010877696342420867, '0': {'type': '10-Q', 'published': datetime.date(2011, 11, 3), 'qtr': (2011, 4)}}\n",
      "[INFO] Comparing current qtr (2012, 1) to qtr (2011, 4) from 1 quarter ago.\n",
      "{'diff_jaccard': 0.8802200464127328, 'diff_cosine_tf': 0.9964732654345451, 'diff_cosine_tf_idf': 0.9958892089338371, 'diff_minEdit': 1.0, 'diff_simple': 1.0, 'sing_LoughranMcDonald': -0.00030420355077023006, '0': {'type': '10-Q', 'published': datetime.date(2012, 8, 8), 'qtr': (2012, 3)}}\n",
      "[INFO] Comparing current qtr (2012, 4) to qtr (2012, 3) from 1 quarter ago.\n",
      "[INFO] Comparing current qtr (2010, 2) to qtr (2010, 1) from 1 quarter ago.\n"
     ]
    },
    {
     "name": "stderr",
     "output_type": "stream",
     "text": [
      " 50%|█████     | 50/100 [00:50<01:08,  1.38s/it]\n",
      "50it [00:50,  1.38s/it]\u001b[A"
     ]
    },
    {
     "name": "stdout",
     "output_type": "stream",
     "text": [
      "{'diff_jaccard': 0.07291723872849924, 'diff_cosine_tf': 0.3225915286165156, 'diff_cosine_tf_idf': 0.27652239518890753, 'diff_minEdit': 0.6602341192245217, 'diff_simple': 0.36523664578600695, 'sing_LoughranMcDonald': -0.0005789378085672731, '0': {'type': '10-K', 'published': datetime.date(2012, 3, 14), 'qtr': (2012, 1)}}\n",
      "[INFO] Comparing current qtr (2012, 2) to qtr (2012, 1) from 1 quarter ago.\n"
     ]
    },
    {
     "name": "stderr",
     "output_type": "stream",
     "text": [
      "\r",
      " 52%|█████▏    | 52/100 [00:51<00:52,  1.09s/it]"
     ]
    },
    {
     "name": "stdout",
     "output_type": "stream",
     "text": [
      "{'diff_jaccard': 0.0037078393244757376, 'diff_cosine_tf': 0.2458344774208755, 'diff_cosine_tf_idf': 0.1858157410929983, 'diff_minEdit': 0.7926854715365867, 'diff_simple': 0.5857118102400838, 'sing_LoughranMcDonald': 0.0, '0': {'type': '10-Q', 'published': datetime.date(2010, 5, 7), 'qtr': (2010, 2)}}\n"
     ]
    },
    {
     "name": "stderr",
     "output_type": "stream",
     "text": [
      "\n"
     ]
    },
    {
     "name": "stdout",
     "output_type": "stream",
     "text": [
      "[INFO] Comparing current qtr (2010, 3) to qtr (2010, 2) from 1 quarter ago.\n",
      "{'diff_jaccard': 0.6318414918414919, 'diff_cosine_tf': 0.7692307692307692, 'diff_cosine_tf_idf': 0.7003763297470764, 'diff_minEdit': 0.8307692307692307, 'diff_simple': 0.8818567805241057, 'sing_LoughranMcDonald': 0.0, '0': {'type': '10-Q', 'published': datetime.date(2010, 8, 6), 'qtr': (2010, 3)}}\n",
      "[INFO] Comparing current qtr (2010, 4) to qtr (2010, 3) from 1 quarter ago.\n",
      "{'diff_jaccard': 0.7297979797979798, 'diff_cosine_tf': 0.8451612903225805, 'diff_cosine_tf_idf': 0.7537471838541572, 'diff_minEdit': 0.903225806451613, 'diff_simple': 0.9682270914854991, 'sing_LoughranMcDonald': 0.0, '0': {'type': '10-Q', 'published': datetime.date(2010, 11, 5), 'qtr': (2010, 4)}}\n",
      "[INFO] Comparing current qtr (2011, 1) to qtr (2010, 4) from 1 quarter ago.\n",
      "{'diff_jaccard': 0.003902420662011609, 'diff_cosine_tf': 0.22642880822175865, 'diff_cosine_tf_idf': 0.17055434417923185, 'diff_minEdit': 0.9447019903891192, 'diff_simple': 0.5350298915323018, 'sing_LoughranMcDonald': 0.0, '0': {'type': '10-Q', 'published': datetime.date(2012, 5, 3), 'qtr': (2012, 2)}}\n",
      "[INFO] Comparing current qtr (2012, 3) to qtr (2012, 2) from 1 quarter ago.\n",
      "{'diff_jaccard': 0.44278058007566207, 'diff_cosine_tf': 0.7661459970543729, 'diff_cosine_tf_idf': 0.6518071401567331, 'diff_minEdit': 0.8360655737704918, 'diff_simple': 0.8836484152299002, 'sing_LoughranMcDonald': 0.0, '0': {'type': '10-Q', 'published': datetime.date(2012, 8, 7), 'qtr': (2012, 3)}}\n",
      "[INFO] Comparing current qtr (2012, 4) to qtr (2012, 3) from 1 quarter ago.\n",
      "{'diff_jaccard': 0.21653623489326226, 'diff_cosine_tf': 0.9093994667303793, 'diff_cosine_tf_idf': 0.891344829758782, 'diff_minEdit': 0.913485763155247, 'diff_simple': 0.5511761243585873, 'sing_LoughranMcDonald': -0.00023795968683358666, '0': {'type': '10-K', 'published': datetime.date(2011, 3, 1), 'qtr': (2011, 1)}}\n",
      "[INFO] Comparing current qtr (2011, 2) to qtr (2011, 1) from 1 quarter ago.\n",
      "{'diff_jaccard': 0.007634585145910404, 'diff_cosine_tf': 0.35061841146413536, 'diff_cosine_tf_idf': 0.256909571056068, 'diff_minEdit': 0.8766568273427556, 'diff_simple': 0.8059622196039179, 'sing_LoughranMcDonald': -0.0013345298102310373, '0': {'type': '10-Q', 'published': datetime.date(2012, 11, 9), 'qtr': (2012, 4)}}\n",
      "{'diff_jaccard': 0.8468371462662565, 'diff_cosine_tf': 0.9955613587512124, 'diff_cosine_tf_idf': 0.9944574766328204, 'diff_minEdit': 0.9409379766545628, 'diff_simple': 0.9880247355387279, 'sing_LoughranMcDonald': -0.0002591881145138981, '0': {'type': '10-Q', 'published': datetime.date(2012, 11, 9), 'qtr': (2012, 4)}}\n",
      "{'diff_jaccard': 0.0033878517379540437, 'diff_cosine_tf': 0.23503124730806807, 'diff_cosine_tf_idf': 0.17804977277998102, 'diff_minEdit': 0.9319970554430228, 'diff_simple': 0.5542109429220695, 'sing_LoughranMcDonald': -0.0002936926725981208, '0': {'type': '10-K', 'published': datetime.date(2011, 3, 11), 'qtr': (2011, 1)}}\n",
      "[INFO] Comparing current qtr (2011, 2) to qtr (2011, 1) from 1 quarter ago.\n",
      "{'diff_jaccard': 0.003219082811484107, 'diff_cosine_tf': 0.3008929250479785, 'diff_cosine_tf_idf': 0.22003137872057593, 'diff_minEdit': 0.6402752499886913, 'diff_simple': 0.5932025704110351, 'sing_LoughranMcDonald': 0.0, '0': {'type': '10-Q', 'published': datetime.date(2011, 5, 10), 'qtr': (2011, 2)}}\n",
      "[INFO] Comparing current qtr (2011, 3) to qtr (2011, 2) from 1 quarter ago.\n",
      "{'diff_jaccard': 0.5987854737854739, 'diff_cosine_tf': 0.712794263518901, 'diff_cosine_tf_idf': 0.6274248962705088, 'diff_minEdit': 0.9166666666666666, 'diff_simple': 0.7990647388673704, 'sing_LoughranMcDonald': 0.0, '0': {'type': '10-Q', 'published': datetime.date(2011, 8, 9), 'qtr': (2011, 3)}}\n",
      "[INFO] Comparing current qtr (2011, 4) to qtr (2011, 3) from 1 quarter ago.\n",
      "{'diff_jaccard': 0.9416666666666667, 'diff_cosine_tf': 0.9666666666666665, 'diff_cosine_tf_idf': 0.9422079444641002, 'diff_minEdit': 0.9833333333333334, 'diff_simple': 0.9951388888888888, 'sing_LoughranMcDonald': 0.0, '0': {'type': '10-Q', 'published': datetime.date(2011, 11, 8), 'qtr': (2011, 4)}}\n",
      "[INFO] Comparing current qtr (2012, 1) to qtr (2011, 4) from 1 quarter ago.\n"
     ]
    },
    {
     "name": "stderr",
     "output_type": "stream",
     "text": [
      "52it [00:51,  1.09s/it]\u001b[A"
     ]
    },
    {
     "name": "stdout",
     "output_type": "stream",
     "text": [
      "{'diff_jaccard': 0.34771760209581903, 'diff_cosine_tf': 0.7856341076728118, 'diff_cosine_tf_idf': 0.7639542473991403, 'diff_minEdit': 0.7150252560949176, 'diff_simple': 0.6768608363590835, 'sing_LoughranMcDonald': -0.0008778034701817113, '0': {'type': '10-Q', 'published': datetime.date(2011, 5, 6), 'qtr': (2011, 2)}}\n",
      "[INFO] Comparing current qtr (2011, 3) to qtr (2011, 2) from 1 quarter ago.\n"
     ]
    },
    {
     "name": "stderr",
     "output_type": "stream",
     "text": [
      "\r",
      " 54%|█████▍    | 54/100 [00:52<00:40,  1.13it/s]"
     ]
    },
    {
     "name": "stdout",
     "output_type": "stream",
     "text": [
      "{'diff_jaccard': 0.003285949565579749, 'diff_cosine_tf': 0.37076896080248894, 'diff_cosine_tf_idf': 0.27253785468024405, 'diff_minEdit': 0.9582633099829726, 'diff_simple': 0.8371809473243979, 'sing_LoughranMcDonald': -0.00033406372007843633, '0': {'type': '10-K', 'published': datetime.date(2012, 2, 29), 'qtr': (2012, 1)}}\n",
      "[INFO] Comparing current qtr (2012, 2) to qtr (2012, 1) from 1 quarter ago.\n",
      "{'diff_jaccard': 0.8414834214523454, 'diff_cosine_tf': 0.9732517499605248, 'diff_cosine_tf_idf': 0.9723418757786736, 'diff_minEdit': 1.0, 'diff_simple': 1.0, 'sing_LoughranMcDonald': -0.0007381172465530151, '0': {'type': '10-Q', 'published': datetime.date(2011, 8, 5), 'qtr': (2011, 3)}}\n"
     ]
    },
    {
     "name": "stderr",
     "output_type": "stream",
     "text": [
      "\n"
     ]
    },
    {
     "name": "stdout",
     "output_type": "stream",
     "text": [
      "[INFO] Comparing current qtr (2011, 4) to qtr (2011, 3) from 1 quarter ago.\n",
      "{'diff_jaccard': 0.10906326970400265, 'diff_cosine_tf': 0.8365085151801028, 'diff_cosine_tf_idf': 0.7996853628068438, 'diff_minEdit': 0.7711904498089094, 'diff_simple': 0.8336679745967591, 'sing_LoughranMcDonald': -0.01012278151003907, '0': {'type': '10-Q', 'published': datetime.date(2012, 5, 8), 'qtr': (2012, 2)}}\n",
      "[INFO] Comparing current qtr (2012, 3) to qtr (2012, 2) from 1 quarter ago.\n",
      "{'diff_jaccard': 0.8339423228014362, 'diff_cosine_tf': 0.9831647353618815, 'diff_cosine_tf_idf': 0.9814284255163508, 'diff_minEdit': 1.0, 'diff_simple': 1.0, 'sing_LoughranMcDonald': -0.0007118523148114867, '0': {'type': '10-Q', 'published': datetime.date(2011, 11, 4), 'qtr': (2011, 4)}}\n",
      "[INFO] Comparing current qtr (2012, 1) to qtr (2011, 4) from 1 quarter ago.\n",
      "{'diff_jaccard': 0.9779851464820579, 'diff_cosine_tf': 0.99786147371457, 'diff_cosine_tf_idf': 0.9960638569179577, 'diff_minEdit': 1.0, 'diff_simple': 1.0, 'sing_LoughranMcDonald': -0.010910696993576129, '0': {'type': '10-Q', 'published': datetime.date(2012, 8, 7), 'qtr': (2012, 3)}}\n",
      "[INFO] Comparing current qtr (2012, 4) to qtr (2012, 3) from 1 quarter ago.\n",
      "{'diff_jaccard': 0.9838190271228033, 'diff_cosine_tf': 0.9995053104457368, 'diff_cosine_tf_idf': 0.9990241989166871, 'diff_minEdit': 1.0, 'diff_simple': 1.0, 'sing_LoughranMcDonald': -0.010910696993576129, '0': {'type': '10-Q', 'published': datetime.date(2012, 11, 7), 'qtr': (2012, 4)}}\n",
      "{'diff_jaccard': 0.3305971671008746, 'diff_cosine_tf': 0.7543835547768248, 'diff_cosine_tf_idf': 0.7301731018882325, 'diff_minEdit': 0.7285890225463723, 'diff_simple': 0.7051539980856848, 'sing_LoughranMcDonald': -0.0002343196616799434, '0': {'type': '10-K', 'published': datetime.date(2012, 3, 7), 'qtr': (2012, 1)}}\n",
      "[INFO] Comparing current qtr (2012, 2) to qtr (2012, 1) from 1 quarter ago.\n",
      "{'diff_jaccard': 0.2996065509086658, 'diff_cosine_tf': 0.7486231522918542, 'diff_cosine_tf_idf': 0.7229351514616589, 'diff_minEdit': 0.731690993061643, 'diff_simple': 0.6856128323611849, 'sing_LoughranMcDonald': -0.0009137393496487849, '0': {'type': '10-Q', 'published': datetime.date(2012, 5, 4), 'qtr': (2012, 2)}}\n",
      "[INFO] Comparing current qtr (2012, 3) to qtr (2012, 2) from 1 quarter ago.\n"
     ]
    },
    {
     "name": "stderr",
     "output_type": "stream",
     "text": [
      "54it [00:51,  1.13it/s]\u001b[A"
     ]
    },
    {
     "name": "stdout",
     "output_type": "stream",
     "text": [
      "{'diff_jaccard': 0.8496317370249554, 'diff_cosine_tf': 0.964691404433665, 'diff_cosine_tf_idf': 0.9626626390257601, 'diff_minEdit': 1.0, 'diff_simple': 1.0, 'sing_LoughranMcDonald': -0.0007439347008944506, '0': {'type': '10-Q', 'published': datetime.date(2012, 8, 14), 'qtr': (2012, 3)}}\n",
      "[INFO] Comparing current qtr (2012, 4) to qtr (2012, 3) from 1 quarter ago.\n",
      "{'diff_jaccard': 0.7204987031278215, 'diff_cosine_tf': 0.9261637176418739, 'diff_cosine_tf_idf': 0.916872826424495, 'diff_minEdit': 0.9712738717593086, 'diff_simple': 0.9369244347885124, 'sing_LoughranMcDonald': -0.001377332004644263, '0': {'type': '10-Q', 'published': datetime.date(2012, 11, 14), 'qtr': (2012, 4)}}\n",
      "[WARNING] /home/alex/Desktop/filtered_text_data/nd_data/2010/QTR2/20100507_10-Q_edgar_data_1065087_0001144204-10-025377_1.txt failed parsing\n"
     ]
    },
    {
     "name": "stderr",
     "output_type": "stream",
     "text": [
      " 55%|█████▌    | 55/100 [00:52<00:38,  1.16it/s]\n",
      "55it [00:52,  1.16it/s]\u001b[A"
     ]
    },
    {
     "name": "stdout",
     "output_type": "stream",
     "text": [
      "This is the res {'1': [(8666, 8683)], '1a': [(20219, 20234)], '1b': [(59323, 59344)], '3': [(296181, 296197)], '4': [], '5': [(73655, 73670)], '6': [(79539, 79556)], '7': [(80663, 80682)], '7a': [(315954, 315976)], '8': [(325021, 325039)], '9': [(501806, 501822)], '9b': [(504864, 504879)], '10': [(504953, 504972)], '11': [(505543, 505562)], '12': [(505950, 505968)], '13': [(506396, 506413)], '14': [(506777, 506796)], '15': [(507179, 507197)]}\n",
      "[WARNING] /home/alex/Desktop/filtered_text_data/nd_data/2010/QTR1/20100312_10-K_edgar_data_1056903_0001104659-10-014038_1.txt failed parsing\n"
     ]
    },
    {
     "name": "stderr",
     "output_type": "stream",
     "text": [
      " 57%|█████▋    | 57/100 [00:56<00:45,  1.07s/it]\n",
      "57it [00:55,  1.07s/it]\u001b[A"
     ]
    },
    {
     "name": "stdout",
     "output_type": "stream",
     "text": [
      "[INFO] Comparing current qtr (2010, 2) to qtr (2010, 1) from 1 quarter ago.\n",
      "[ERROR] Original res: {'_i_1': [], '_i_2': [], '_i_3': [], '_i_4': [], 'ii_1': [], 'ii_1a': [], 'ii_2': [], 'ii_3': [], 'ii_4': [], 'ii_5': [], 'ii_6': []}\n",
      "{'diff_jaccard': 0.420770680830274, 'diff_cosine_tf': 0.9529702464085145, 'diff_cosine_tf_idf': 0.9477353726121619, 'diff_minEdit': 0.8053262994208648, 'diff_simple': 0.7516783293004599, 'sing_LoughranMcDonald': -0.0017219047976185368, '0': {'type': '10-Q', 'published': datetime.date(2010, 5, 6), 'qtr': (2010, 2)}}\n",
      "[INFO] Comparing current qtr (2010, 3) to qtr (2010, 2) from 1 quarter ago.\n",
      "{'diff_jaccard': 0.7708079011703424, 'diff_cosine_tf': 0.9892013670357936, 'diff_cosine_tf_idf': 0.987041216808049, 'diff_minEdit': 0.9187553728081532, 'diff_simple': 0.9848343362575219, 'sing_LoughranMcDonald': -0.0013944947160968231, '0': {'type': '10-Q', 'published': datetime.date(2010, 8, 5), 'qtr': (2010, 3)}}\n",
      "[INFO] Comparing current qtr (2010, 4) to qtr (2010, 3) from 1 quarter ago.\n",
      "[ERROR] Here is full_sect: |[]|\n",
      "[WARNING] /home/alex/Desktop/filtered_text_data/nd_data/2011/QTR2/20110429_10-Q_edgar_data_1065088_0001065088-11-000006_1.txt failed parsing\n"
     ]
    },
    {
     "name": "stderr",
     "output_type": "stream",
     "text": [
      " 58%|█████▊    | 58/100 [00:57<00:45,  1.09s/it]\n",
      "58it [00:56,  1.09s/it]\u001b[A"
     ]
    },
    {
     "name": "stdout",
     "output_type": "stream",
     "text": [
      "{'diff_jaccard': 0.773010393330308, 'diff_cosine_tf': 0.991707141248516, 'diff_cosine_tf_idf': 0.9882225680370937, 'diff_minEdit': 1.0, 'diff_simple': 1.0, 'sing_LoughranMcDonald': -0.0014380163083160568, '0': {'type': '10-Q', 'published': datetime.date(2010, 11, 4), 'qtr': (2010, 4)}}\n",
      "[INFO] Comparing current qtr (2011, 1) to qtr (2010, 4) from 1 quarter ago.\n",
      "[ERROR] Here is full_sect: |[]|\n",
      "[ERROR] Original res: {'1': [], '1a': [], '1b': [], '2': [], '3': [], '4': [], '5': [], '6': [], '7': [], '7a': [], '8': [], '9': [], '9a': [], '9b': [], '10': [], '11': [], '12': [], '13': [], '14': [], '15': []}\n",
      "[WARNING] /home/alex/Desktop/filtered_text_data/nd_data/2012/QTR1/20120330_10-K_edgar_data_1294476_0001193125-12-143089_1.txt failed parsing\n",
      "{'diff_jaccard': 0.4596183975897179, 'diff_cosine_tf': 0.9636501975251305, 'diff_cosine_tf_idf': 0.9593324696178184, 'diff_minEdit': 0.766130883770538, 'diff_simple': 0.7556989624690166, 'sing_LoughranMcDonald': -0.0004966830511218804, '0': {'type': '10-K', 'published': datetime.date(2011, 2, 17), 'qtr': (2011, 1)}}\n",
      "[INFO] Comparing current qtr (2011, 2) to qtr (2011, 1) from 1 quarter ago.\n",
      "[INFO] Comparing current qtr (2010, 2) to qtr (2010, 1) from 1 quarter ago.\n"
     ]
    },
    {
     "name": "stderr",
     "output_type": "stream",
     "text": [
      " 59%|█████▉    | 59/100 [00:58<00:45,  1.12s/it]\n",
      "59it [00:58,  1.12s/it]\u001b[A"
     ]
    },
    {
     "name": "stdout",
     "output_type": "stream",
     "text": [
      "{'diff_jaccard': 0.430088679572406, 'diff_cosine_tf': 0.9537996379538135, 'diff_cosine_tf_idf': 0.9490384157258708, 'diff_minEdit': 0.8292131549707307, 'diff_simple': 0.7592182901273811, 'sing_LoughranMcDonald': -0.0017082481688747775, '0': {'type': '10-Q', 'published': datetime.date(2011, 4, 28), 'qtr': (2011, 2)}}\n",
      "[INFO] Comparing current qtr (2011, 3) to qtr (2011, 2) from 1 quarter ago.\n",
      "{'diff_jaccard': 0.28610501128326743, 'diff_cosine_tf': 0.9269741906916551, 'diff_cosine_tf_idf': 0.918688378208017, 'diff_minEdit': 0.8885567593983507, 'diff_simple': 0.8754147997216285, 'sing_LoughranMcDonald': -0.0006224880963143146, '0': {'type': '10-Q', 'published': datetime.date(2010, 5, 7), 'qtr': (2010, 2)}}\n",
      "[INFO] Comparing current qtr (2010, 3) to qtr (2010, 2) from 1 quarter ago.\n",
      "{'diff_jaccard': 0.6983779679612248, 'diff_cosine_tf': 0.9865376968380853, 'diff_cosine_tf_idf': 0.9845171652381307, 'diff_minEdit': 1.0, 'diff_simple': 1.0, 'sing_LoughranMcDonald': -0.0014296827847138224, '0': {'type': '10-Q', 'published': datetime.date(2011, 7, 28), 'qtr': (2011, 3)}}\n",
      "[INFO] Comparing current qtr (2010, 2) to qtr (2010, 1) from 1 quarter ago.\n",
      "[INFO] Comparing current qtr (2011, 4) to qtr (2011, 3) from 1 quarter ago.\n",
      "{'diff_jaccard': 0.008830452583355217, 'diff_cosine_tf': 0.3677851544567561, 'diff_cosine_tf_idf': 0.279593960410102, 'diff_minEdit': 0.9588364848792004, 'diff_simple': 0.7682730854727348, 'sing_LoughranMcDonald': 0.0, '0': {'type': '10-Q', 'published': datetime.date(2010, 8, 5), 'qtr': (2010, 3)}}\n",
      "[INFO] Comparing current qtr (2010, 4) to qtr (2010, 3) from 1 quarter ago.\n",
      "{'diff_jaccard': 0.0075330998379338505, 'diff_cosine_tf': 0.32836633201353643, 'diff_cosine_tf_idf': 0.24978783562997806, 'diff_minEdit': 0.9576462693260346, 'diff_simple': 0.704634103352046, 'sing_LoughranMcDonald': -0.0007771744809682747, '0': {'type': '10-Q', 'published': datetime.date(2010, 11, 8), 'qtr': (2010, 4)}}\n",
      "[INFO] Comparing current qtr (2011, 1) to qtr (2010, 4) from 1 quarter ago.\n",
      "{'diff_jaccard': 0.575640240742929, 'diff_cosine_tf': 0.9702273233299602, 'diff_cosine_tf_idf': 0.9652120240932458, 'diff_minEdit': 0.9258182365497235, 'diff_simple': 0.9020800722456351, 'sing_LoughranMcDonald': -0.000980463681030247, '0': {'type': '10-Q', 'published': datetime.date(2011, 11, 9), 'qtr': (2011, 4)}}\n",
      "[INFO] Comparing current qtr (2012, 1) to qtr (2011, 4) from 1 quarter ago.\n",
      "{'diff_jaccard': 0.7856560919863335, 'diff_cosine_tf': 0.9778712998377878, 'diff_cosine_tf_idf': 0.9749328237405613, 'diff_minEdit': 0.9947287312967145, 'diff_simple': 0.9946167250250695, 'sing_LoughranMcDonald': -0.0004108543651868478, '0': {'type': '10-Q', 'published': datetime.date(2010, 5, 4), 'qtr': (2010, 2)}}\n",
      "[INFO] Comparing current qtr (2010, 3) to qtr (2010, 2) from 1 quarter ago.\n",
      "{'diff_jaccard': 0.30243052598829834, 'diff_cosine_tf': 0.8914274741810028, 'diff_cosine_tf_idf': 0.8840036392426507, 'diff_minEdit': 0.8750149441608672, 'diff_simple': 0.8503300617957107, 'sing_LoughranMcDonald': -0.00011366405731709136, '0': {'type': '10-K', 'published': datetime.date(2011, 3, 7), 'qtr': (2011, 1)}}\n",
      "[INFO] Comparing current qtr (2011, 2) to qtr (2011, 1) from 1 quarter ago.\n",
      "{'diff_jaccard': 0.6736006232626451, 'diff_cosine_tf': 0.9845063489071597, 'diff_cosine_tf_idf': 0.9820698076984443, 'diff_minEdit': 0.832365403082792, 'diff_simple': 0.8555170961765203, 'sing_LoughranMcDonald': -0.0004892094160612858, '0': {'type': '10-K', 'published': datetime.date(2012, 2, 29), 'qtr': (2012, 1)}}\n",
      "[INFO] Comparing current qtr (2012, 2) to qtr (2012, 1) from 1 quarter ago.\n",
      "{'diff_jaccard': 0.35772258592349687, 'diff_cosine_tf': 0.929430758434216, 'diff_cosine_tf_idf': 0.9230107519125292, 'diff_minEdit': 0.8801108009229097, 'diff_simple': 0.8812657834857729, 'sing_LoughranMcDonald': -0.0008875129790762078, '0': {'type': '10-Q', 'published': datetime.date(2011, 5, 6), 'qtr': (2011, 2)}}\n",
      "[INFO] Comparing current qtr (2011, 3) to qtr (2011, 2) from 1 quarter ago.\n",
      "{'diff_jaccard': 0.9142572046388925, 'diff_cosine_tf': 0.9903677217370884, 'diff_cosine_tf_idf': 0.9885772865817406, 'diff_minEdit': 0.9999999999999999, 'diff_simple': 0.9999999999999999, 'sing_LoughranMcDonald': -0.0003794910253888421, '0': {'type': '10-Q', 'published': datetime.date(2010, 8, 4), 'qtr': (2010, 3)}}\n",
      "[INFO] Comparing current qtr (2010, 4) to qtr (2010, 3) from 1 quarter ago.\n",
      "{'diff_jaccard': 0.44806877220691654, 'diff_cosine_tf': 0.8987748860665219, 'diff_cosine_tf_idf': 0.8880014018960878, 'diff_minEdit': 0.8526453988425996, 'diff_simple': 0.8799268074645211, 'sing_LoughranMcDonald': -0.0018351751451968312, '0': {'type': '10-Q', 'published': datetime.date(2012, 4, 26), 'qtr': (2012, 2)}}\n",
      "[INFO] Comparing current qtr (2012, 3) to qtr (2012, 2) from 1 quarter ago.\n",
      "{'diff_jaccard': 0.8548979633818695, 'diff_cosine_tf': 0.9739066271739578, 'diff_cosine_tf_idf': 0.9579189119217957, 'diff_minEdit': 0.9987459407121599, 'diff_simple': 0.995654684567634, 'sing_LoughranMcDonald': -0.0007835955786634414, '0': {'type': '10-Q', 'published': datetime.date(2011, 8, 5), 'qtr': (2011, 3)}}\n",
      "[INFO] Comparing current qtr (2011, 4) to qtr (2011, 3) from 1 quarter ago.\n",
      "{'diff_jaccard': 0.002965552273465654, 'diff_cosine_tf': 0.12291042928591002, 'diff_cosine_tf_idf': 0.09525585190289405, 'diff_minEdit': 0.9258780870090928, 'diff_simple': 0.3463587298426626, 'sing_LoughranMcDonald': 0.0, '0': {'type': '10-Q', 'published': datetime.date(2010, 11, 4), 'qtr': (2010, 4)}}\n",
      "[INFO] Comparing current qtr (2011, 1) to qtr (2010, 4) from 1 quarter ago.\n",
      "{'diff_jaccard': 0.7789157428722397, 'diff_cosine_tf': 0.9839058696785277, 'diff_cosine_tf_idf': 0.9821843817715236, 'diff_minEdit': 1.0, 'diff_simple': 1.0, 'sing_LoughranMcDonald': -0.0006853926706736048, '0': {'type': '10-Q', 'published': datetime.date(2011, 11, 8), 'qtr': (2011, 4)}}\n",
      "[INFO] Comparing current qtr (2012, 1) to qtr (2011, 4) from 1 quarter ago.\n",
      "{'diff_jaccard': 0.5413647052041126, 'diff_cosine_tf': 0.900215065977308, 'diff_cosine_tf_idf': 0.8928512446211272, 'diff_minEdit': 0.9151079856526666, 'diff_simple': 0.9261439475178199, 'sing_LoughranMcDonald': -0.0008545247918086957, '0': {'type': '10-Q', 'published': datetime.date(2012, 7, 26), 'qtr': (2012, 3)}}\n",
      "[INFO] Comparing current qtr (2012, 4) to qtr (2012, 3) from 1 quarter ago.\n",
      "{'diff_jaccard': 0.0038170577310467162, 'diff_cosine_tf': 0.21014911810029968, 'diff_cosine_tf_idf': 0.1635038637862326, 'diff_minEdit': 0.938611131685205, 'diff_simple': 0.45330292569332303, 'sing_LoughranMcDonald': -0.0002429339831652367, '0': {'type': '10-K', 'published': datetime.date(2011, 2, 24), 'qtr': (2011, 1)}}\n",
      "[INFO] Comparing current qtr (2011, 2) to qtr (2011, 1) from 1 quarter ago.\n",
      "{'diff_jaccard': 0.8439126358798988, 'diff_cosine_tf': 0.9910568094499244, 'diff_cosine_tf_idf': 0.9876782357925492, 'diff_minEdit': 0.9962508950709305, 'diff_simple': 0.9907976515377382, 'sing_LoughranMcDonald': -0.0002772817071145251, '0': {'type': '10-Q', 'published': datetime.date(2012, 10, 25), 'qtr': (2012, 4)}}\n"
     ]
    },
    {
     "name": "stderr",
     "output_type": "stream",
     "text": [
      " 60%|██████    | 60/100 [01:00<01:01,  1.55s/it]\n",
      "60it [01:00,  1.55s/it]\u001b[A"
     ]
    },
    {
     "name": "stdout",
     "output_type": "stream",
     "text": [
      "{'diff_jaccard': 0.7579718203702281, 'diff_cosine_tf': 0.9608528010676448, 'diff_cosine_tf_idf': 0.9541038663006011, 'diff_minEdit': 0.9886507931516072, 'diff_simple': 0.9878733983080197, 'sing_LoughranMcDonald': -0.0001650895516006721, '0': {'type': '10-Q', 'published': datetime.date(2011, 5, 5), 'qtr': (2011, 2)}}\n",
      "[INFO] Comparing current qtr (2011, 3) to qtr (2011, 2) from 1 quarter ago.\n",
      "{'diff_jaccard': 0.28130422346868666, 'diff_cosine_tf': 0.8744318970138747, 'diff_cosine_tf_idf': 0.8658537995400019, 'diff_minEdit': 0.7950176468013433, 'diff_simple': 0.7924937030439653, 'sing_LoughranMcDonald': -9.07872386021232e-05, '0': {'type': '10-K', 'published': datetime.date(2012, 3, 2), 'qtr': (2012, 1)}}\n",
      "[INFO] Comparing current qtr (2012, 2) to qtr (2012, 1) from 1 quarter ago.\n",
      "[INFO] Comparing current qtr (2010, 2) to qtr (2010, 1) from 1 quarter ago.\n",
      "{'diff_jaccard': 0.9347498369961191, 'diff_cosine_tf': 0.9881913063895211, 'diff_cosine_tf_idf': 0.9849162565636236, 'diff_minEdit': 0.9999472601656032, 'diff_simple': 0.999985232846369, 'sing_LoughranMcDonald': -0.00015393230984939708, '0': {'type': '10-Q', 'published': datetime.date(2011, 8, 5), 'qtr': (2011, 3)}}\n",
      "[INFO] Comparing current qtr (2010, 2) to qtr (2010, 1) from 1 quarter ago.\n",
      "[INFO] Comparing current qtr (2011, 4) to qtr (2011, 3) from 1 quarter ago.\n",
      "{'diff_jaccard': 0.003991122329130142, 'diff_cosine_tf': 0.05976640421420766, 'diff_cosine_tf_idf': 0.033837243909300777, 'diff_minEdit': 0.627404737334746, 'diff_simple': 0.19873830740288573, 'sing_LoughranMcDonald': -0.0012939989627308343, '0': {'type': '10-Q', 'published': datetime.date(2010, 4, 26), 'qtr': (2010, 2)}}\n",
      "{'diff_jaccard': 0.25399462956461055, 'diff_cosine_tf': 0.8607150237554032, 'diff_cosine_tf_idf': 0.8512687275427189, 'diff_minEdit': 0.7792019178169208, 'diff_simple': 0.7924555549666393, 'sing_LoughranMcDonald': -0.0008425406836664337, '0': {'type': '10-Q', 'published': datetime.date(2012, 5, 3), 'qtr': (2012, 2)}}\n",
      "[INFO] Comparing current qtr (2010, 3) to qtr (2010, 2) from 1 quarter ago.\n",
      "[INFO] Comparing current qtr (2012, 3) to qtr (2012, 2) from 1 quarter ago.\n",
      "{'diff_jaccard': 0.10386731532693798, 'diff_cosine_tf': 0.32892980176085784, 'diff_cosine_tf_idf': 0.27954334467574926, 'diff_minEdit': 0.6087539905378675, 'diff_simple': 0.4490395836920545, 'sing_LoughranMcDonald': -0.002111826077713963, '0': {'type': '10-Q', 'published': datetime.date(2010, 5, 12), 'qtr': (2010, 2)}}\n",
      "[INFO] Comparing current qtr (2010, 3) to qtr (2010, 2) from 1 quarter ago.\n",
      "{'diff_jaccard': 0.8058185052792703, 'diff_cosine_tf': 0.9578881443964303, 'diff_cosine_tf_idf': 0.9407687445480578, 'diff_minEdit': 1.0, 'diff_simple': 1.0, 'sing_LoughranMcDonald': -0.0010052932453411588, '0': {'type': '10-Q', 'published': datetime.date(2010, 7, 20), 'qtr': (2010, 3)}}\n",
      "[INFO] Comparing current qtr (2010, 4) to qtr (2010, 3) from 1 quarter ago.\n",
      "{'diff_jaccard': 0.8343550601229283, 'diff_cosine_tf': 0.9714080366954537, 'diff_cosine_tf_idf': 0.9585553951978041, 'diff_minEdit': 1.0, 'diff_simple': 1.0, 'sing_LoughranMcDonald': -0.0007758844108894172, '0': {'type': '10-Q', 'published': datetime.date(2012, 8, 3), 'qtr': (2012, 3)}}\n",
      "[INFO] Comparing current qtr (2012, 4) to qtr (2012, 3) from 1 quarter ago.\n",
      "{'diff_jaccard': 0.8065980024724927, 'diff_cosine_tf': 0.9759408059464405, 'diff_cosine_tf_idf': 0.9688100948701803, 'diff_minEdit': 0.9506672436104492, 'diff_simple': 0.9456867560929529, 'sing_LoughranMcDonald': -0.0019640887397735646, '0': {'type': '10-Q', 'published': datetime.date(2010, 8, 11), 'qtr': (2010, 3)}}\n",
      "{'diff_jaccard': 0.7270648044332884, 'diff_cosine_tf': 0.9766938219992795, 'diff_cosine_tf_idf': 0.9728755779626358, 'diff_minEdit': 0.9999999999999999, 'diff_simple': 0.9999999999999999, 'sing_LoughranMcDonald': -0.001203054398013121, '0': {'type': '10-Q', 'published': datetime.date(2010, 10, 27), 'qtr': (2010, 4)}}\n",
      "[INFO] Comparing current qtr (2010, 4) to qtr (2010, 3) from 1 quarter ago.\n",
      "[INFO] Comparing current qtr (2011, 1) to qtr (2010, 4) from 1 quarter ago.\n",
      "{'diff_jaccard': 0.9007440749262177, 'diff_cosine_tf': 0.991498717674431, 'diff_cosine_tf_idf': 0.9846684309343694, 'diff_minEdit': 0.9975817308199268, 'diff_simple': 0.9983072115739487, 'sing_LoughranMcDonald': -0.00017996975559197564, '0': {'type': '10-Q', 'published': datetime.date(2011, 11, 4), 'qtr': (2011, 4)}}\n",
      "[INFO] Comparing current qtr (2012, 1) to qtr (2011, 4) from 1 quarter ago.\n",
      "{'diff_jaccard': 0.06733856069633824, 'diff_cosine_tf': 0.5512782084374424, 'diff_cosine_tf_idf': 0.4814123746958476, 'diff_minEdit': 0.6671355585841028, 'diff_simple': 0.604343423102604, 'sing_LoughranMcDonald': -0.0008826093960450401, '0': {'type': '10-K', 'published': datetime.date(2011, 2, 14), 'qtr': (2011, 1)}}\n",
      "[INFO] Comparing current qtr (2011, 2) to qtr (2011, 1) from 1 quarter ago.\n",
      "{'diff_jaccard': 0.8168373035216403, 'diff_cosine_tf': 0.9853000338516159, 'diff_cosine_tf_idf': 0.9784961946526151, 'diff_minEdit': 1.0, 'diff_simple': 1.0, 'sing_LoughranMcDonald': -0.0007644430046929398, '0': {'type': '10-Q', 'published': datetime.date(2012, 11, 2), 'qtr': (2012, 4)}}\n"
     ]
    },
    {
     "name": "stderr",
     "output_type": "stream",
     "text": [
      " 61%|██████    | 61/100 [01:02<00:55,  1.43s/it]\n",
      "61it [01:01,  1.43s/it]\u001b[A"
     ]
    },
    {
     "name": "stdout",
     "output_type": "stream",
     "text": [
      "{'diff_jaccard': 0.7101752221803698, 'diff_cosine_tf': 0.958972885245778, 'diff_cosine_tf_idf': 0.9453161244854008, 'diff_minEdit': 0.9766631818420914, 'diff_simple': 0.9716811319762243, 'sing_LoughranMcDonald': -0.0011194945380037758, '0': {'type': '10-Q', 'published': datetime.date(2010, 11, 15), 'qtr': (2010, 4)}}\n",
      "[INFO] Comparing current qtr (2011, 1) to qtr (2010, 4) from 1 quarter ago.\n",
      "{'diff_jaccard': 0.06777464438912878, 'diff_cosine_tf': 0.5891859576926971, 'diff_cosine_tf_idf': 0.51753342011622, 'diff_minEdit': 0.7431964980328462, 'diff_simple': 0.5785696615315418, 'sing_LoughranMcDonald': -0.0011773085449717662, '0': {'type': '10-Q', 'published': datetime.date(2011, 4, 27), 'qtr': (2011, 2)}}\n",
      "[INFO] Comparing current qtr (2011, 3) to qtr (2011, 2) from 1 quarter ago.\n",
      "{'diff_jaccard': 0.6801574615876577, 'diff_cosine_tf': 0.958972474837039, 'diff_cosine_tf_idf': 0.9480676667654191, 'diff_minEdit': 1.0, 'diff_simple': 1.0, 'sing_LoughranMcDonald': -0.0014397313776882388, '0': {'type': '10-Q', 'published': datetime.date(2011, 7, 21), 'qtr': (2011, 3)}}\n",
      "[INFO] Comparing current qtr (2011, 4) to qtr (2011, 3) from 1 quarter ago.\n",
      "{'diff_jaccard': 0.7199749232542052, 'diff_cosine_tf': 0.9650186253984739, 'diff_cosine_tf_idf': 0.9580026649047899, 'diff_minEdit': 0.9897836478718453, 'diff_simple': 0.9882444673775942, 'sing_LoughranMcDonald': -0.0002768800358524509, '0': {'type': '10-K', 'published': datetime.date(2012, 2, 17), 'qtr': (2012, 1)}}\n",
      "[INFO] Comparing current qtr (2012, 2) to qtr (2012, 1) from 1 quarter ago.\n",
      "{'diff_jaccard': 0.7489391518114259, 'diff_cosine_tf': 0.9782146339627976, 'diff_cosine_tf_idf': 0.9734528804971643, 'diff_minEdit': 0.9999999999999999, 'diff_simple': 0.9999999999999999, 'sing_LoughranMcDonald': -0.001156497970574381, '0': {'type': '10-Q', 'published': datetime.date(2011, 11, 2), 'qtr': (2011, 4)}}\n",
      "[INFO] Comparing current qtr (2012, 1) to qtr (2011, 4) from 1 quarter ago.\n",
      "{'diff_jaccard': 0.34984182079557735, 'diff_cosine_tf': 0.9335557209095716, 'diff_cosine_tf_idf': 0.9253588178895406, 'diff_minEdit': 0.7930017146998808, 'diff_simple': 0.693388621285104, 'sing_LoughranMcDonald': -0.0002904414511727425, '0': {'type': '10-K', 'published': datetime.date(2011, 3, 17), 'qtr': (2011, 1)}}\n",
      "[INFO] Comparing current qtr (2011, 2) to qtr (2011, 1) from 1 quarter ago.\n",
      "{'diff_jaccard': 0.06649589977770977, 'diff_cosine_tf': 0.5543743484779036, 'diff_cosine_tf_idf': 0.48436954211704014, 'diff_minEdit': 0.6823251349770469, 'diff_simple': 0.5927590309322951, 'sing_LoughranMcDonald': -0.0009002370137209576, '0': {'type': '10-K', 'published': datetime.date(2012, 2, 22), 'qtr': (2012, 1)}}\n",
      "[INFO] Comparing current qtr (2012, 2) to qtr (2012, 1) from 1 quarter ago.\n",
      "{'diff_jaccard': 0.07428777053717608, 'diff_cosine_tf': 0.5780197905606723, 'diff_cosine_tf_idf': 0.5041985911120324, 'diff_minEdit': 0.7133684276255031, 'diff_simple': 0.5498759366171232, 'sing_LoughranMcDonald': -0.0014759139591108404, '0': {'type': '10-Q', 'published': datetime.date(2012, 4, 26), 'qtr': (2012, 2)}}\n",
      "[INFO] Comparing current qtr (2012, 3) to qtr (2012, 2) from 1 quarter ago.\n",
      "{'diff_jaccard': 0.24979042152466738, 'diff_cosine_tf': 0.8666214125620922, 'diff_cosine_tf_idf': 0.8496740689641372, 'diff_minEdit': 0.812475723588593, 'diff_simple': 0.6948410074513945, 'sing_LoughranMcDonald': -0.0015009726453751062, '0': {'type': '10-Q', 'published': datetime.date(2011, 5, 11), 'qtr': (2011, 2)}}\n",
      "[INFO] Comparing current qtr (2011, 3) to qtr (2011, 2) from 1 quarter ago.\n",
      "{'diff_jaccard': 0.7774214713656796, 'diff_cosine_tf': 0.9745652912074004, 'diff_cosine_tf_idf': 0.9706994078752663, 'diff_minEdit': 1.0, 'diff_simple': 1.0, 'sing_LoughranMcDonald': -0.0013991704177427659, '0': {'type': '10-Q', 'published': datetime.date(2012, 7, 24), 'qtr': (2012, 3)}}\n",
      "[INFO] Comparing current qtr (2012, 4) to qtr (2012, 3) from 1 quarter ago.\n",
      "{'diff_jaccard': 0.599084516241159, 'diff_cosine_tf': 0.874874268857019, 'diff_cosine_tf_idf': 0.8455280588128019, 'diff_minEdit': 0.9110508651885609, 'diff_simple': 0.8808775874992791, 'sing_LoughranMcDonald': -0.0004895369821511844, '0': {'type': '10-Q', 'published': datetime.date(2012, 5, 3), 'qtr': (2012, 2)}}\n",
      "[INFO] Comparing current qtr (2012, 3) to qtr (2012, 2) from 1 quarter ago.\n",
      "{'diff_jaccard': 0.8171977268104107, 'diff_cosine_tf': 0.9720081702424119, 'diff_cosine_tf_idf': 0.9610220993280868, 'diff_minEdit': 0.9940477335693397, 'diff_simple': 0.9914922271817763, 'sing_LoughranMcDonald': -0.001705827814678952, '0': {'type': '10-Q', 'published': datetime.date(2011, 8, 9), 'qtr': (2011, 3)}}\n",
      "{'diff_jaccard': 0.8356625660956363, 'diff_cosine_tf': 0.9859985421458949, 'diff_cosine_tf_idf': 0.977730065318832, 'diff_minEdit': 1.0, 'diff_simple': 1.0, 'sing_LoughranMcDonald': -0.001291470888590233, '0': {'type': '10-Q', 'published': datetime.date(2012, 10, 23), 'qtr': (2012, 4)}}\n",
      "[INFO] Comparing current qtr (2011, 4) to qtr (2011, 3) from 1 quarter ago.\n"
     ]
    },
    {
     "name": "stderr",
     "output_type": "stream",
     "text": [
      " 62%|██████▏   | 62/100 [01:03<00:51,  1.36s/it]\n",
      "62it [01:03,  1.36s/it]\u001b[A"
     ]
    },
    {
     "name": "stdout",
     "output_type": "stream",
     "text": [
      "{'diff_jaccard': 0.7928655409888309, 'diff_cosine_tf': 0.975295517091103, 'diff_cosine_tf_idf': 0.9637787095964325, 'diff_minEdit': 0.9947282903051092, 'diff_simple': 0.9984712041884817, 'sing_LoughranMcDonald': -0.0016982299910854584, '0': {'type': '10-Q', 'published': datetime.date(2011, 11, 9), 'qtr': (2011, 4)}}\n",
      "[INFO] Comparing current qtr (2012, 1) to qtr (2011, 4) from 1 quarter ago.\n"
     ]
    },
    {
     "name": "stderr",
     "output_type": "stream",
     "text": [
      "\r",
      " 63%|██████▎   | 63/100 [01:04<00:47,  1.27s/it]"
     ]
    },
    {
     "name": "stdout",
     "output_type": "stream",
     "text": [
      "{'diff_jaccard': 0.8908608211187066, 'diff_cosine_tf': 0.9916940568528256, 'diff_cosine_tf_idf': 0.9890178336236137, 'diff_minEdit': 0.8429131072966453, 'diff_simple': 0.8747793055307543, 'sing_LoughranMcDonald': -0.00045082351763967856, '0': {'type': '10-Q', 'published': datetime.date(2012, 8, 3), 'qtr': (2012, 3)}}\n",
      "[INFO] Comparing current qtr (2012, 4) to qtr (2012, 3) from 1 quarter ago.\n",
      "{'diff_jaccard': 0.002743059221421255, 'diff_cosine_tf': 0.11219398585805192, 'diff_cosine_tf_idf': 0.08730637625052924, 'diff_minEdit': 0.9418554396875354, 'diff_simple': 0.32110949390663507, 'sing_LoughranMcDonald': 0.0, '0': {'type': '10-Q', 'published': datetime.date(2012, 11, 7), 'qtr': (2012, 4)}}\n",
      "{'diff_jaccard': 0.22771311326070126, 'diff_cosine_tf': 0.804459888064423, 'diff_cosine_tf_idf': 0.7827413213069027, 'diff_minEdit': 0.7872075755821156, 'diff_simple': 0.7427614742696945, 'sing_LoughranMcDonald': -0.0003409643797968531, '0': {'type': '10-K', 'published': datetime.date(2012, 3, 9), 'qtr': (2012, 1)}}\n",
      "[INFO] Comparing current qtr (2012, 2) to qtr (2012, 1) from 1 quarter ago.\n"
     ]
    },
    {
     "name": "stderr",
     "output_type": "stream",
     "text": [
      "\n",
      "63it [01:04,  1.27s/it]\u001b[A"
     ]
    },
    {
     "name": "stdout",
     "output_type": "stream",
     "text": [
      "{'diff_jaccard': 0.18519196404450447, 'diff_cosine_tf': 0.8468719669799061, 'diff_cosine_tf_idf': 0.8263299941951687, 'diff_minEdit': 0.804989681949832, 'diff_simple': 0.6890223139347894, 'sing_LoughranMcDonald': -0.0010276084684427134, '0': {'type': '10-Q', 'published': datetime.date(2012, 5, 9), 'qtr': (2012, 2)}}\n",
      "[INFO] Comparing current qtr (2012, 3) to qtr (2012, 2) from 1 quarter ago.\n"
     ]
    },
    {
     "name": "stderr",
     "output_type": "stream",
     "text": [
      "\r",
      " 64%|██████▍   | 64/100 [01:05<00:42,  1.17s/it]"
     ]
    },
    {
     "name": "stdout",
     "output_type": "stream",
     "text": [
      "{'diff_jaccard': 0.6714847951112514, 'diff_cosine_tf': 0.9336664294354543, 'diff_cosine_tf_idf': 0.9121518943179348, 'diff_minEdit': 0.9689762936401215, 'diff_simple': 0.968709099058718, 'sing_LoughranMcDonald': -0.002048678148911076, '0': {'type': '10-Q', 'published': datetime.date(2012, 8, 8), 'qtr': (2012, 3)}}\n",
      "[INFO] Comparing current qtr (2010, 2) to qtr (2010, 1) from 1 quarter ago.\n"
     ]
    },
    {
     "name": "stderr",
     "output_type": "stream",
     "text": [
      "\n",
      "64it [01:05,  1.17s/it]\u001b[A"
     ]
    },
    {
     "name": "stdout",
     "output_type": "stream",
     "text": [
      "{'diff_jaccard': 0.51259867499046, 'diff_cosine_tf': 0.9546364886873007, 'diff_cosine_tf_idf': 0.9489665206409503, 'diff_minEdit': 0.8800602601044072, 'diff_simple': 0.8818183072359799, 'sing_LoughranMcDonald': -0.0007914036488130052, '0': {'type': '10-Q', 'published': datetime.date(2010, 5, 6), 'qtr': (2010, 2)}}\n",
      "[INFO] Comparing current qtr (2010, 3) to qtr (2010, 2) from 1 quarter ago.\n",
      "{'diff_jaccard': 0.7418022627340061, 'diff_cosine_tf': 0.9756998231167537, 'diff_cosine_tf_idf': 0.970122342422004, 'diff_minEdit': 0.9889784220161459, 'diff_simple': 0.9770751177935836, 'sing_LoughranMcDonald': -0.0005908041754873882, '0': {'type': '10-Q', 'published': datetime.date(2010, 8, 5), 'qtr': (2010, 3)}}\n",
      "[INFO] Comparing current qtr (2010, 4) to qtr (2010, 3) from 1 quarter ago.\n",
      "{'diff_jaccard': 0.6495733469473515, 'diff_cosine_tf': 0.8840499075720276, 'diff_cosine_tf_idf': 0.875861219550609, 'diff_minEdit': 0.9461774878030167, 'diff_simple': 0.9362818836287371, 'sing_LoughranMcDonald': -0.0006439919096832223, '0': {'type': '10-Q', 'published': datetime.date(2010, 11, 4), 'qtr': (2010, 4)}}\n",
      "[INFO] Comparing current qtr (2011, 1) to qtr (2010, 4) from 1 quarter ago.\n",
      "{'diff_jaccard': 0.42801443544383444, 'diff_cosine_tf': 0.8765681829533913, 'diff_cosine_tf_idf': 0.8679008782261481, 'diff_minEdit': 0.8604736903654591, 'diff_simple': 0.8092000445542095, 'sing_LoughranMcDonald': -0.0004742613604636989, '0': {'type': '10-K', 'published': datetime.date(2011, 2, 24), 'qtr': (2011, 1)}}\n",
      "[INFO] Comparing current qtr (2011, 2) to qtr (2011, 1) from 1 quarter ago.\n",
      "{'diff_jaccard': 0.48163517256002114, 'diff_cosine_tf': 0.9541092177247988, 'diff_cosine_tf_idf': 0.9484499892875425, 'diff_minEdit': 0.8753891171709625, 'diff_simple': 0.8373827979081061, 'sing_LoughranMcDonald': -0.0009276872450414594, '0': {'type': '10-Q', 'published': datetime.date(2011, 5, 6), 'qtr': (2011, 2)}}\n",
      "[INFO] Comparing current qtr (2011, 3) to qtr (2011, 2) from 1 quarter ago.\n",
      "{'diff_jaccard': 0.6920097354342598, 'diff_cosine_tf': 0.951459419400598, 'diff_cosine_tf_idf': 0.9454996164066862, 'diff_minEdit': 0.9460426193651394, 'diff_simple': 0.9338145808434353, 'sing_LoughranMcDonald': -0.00017798749225764247, '0': {'type': '10-Q', 'published': datetime.date(2011, 8, 8), 'qtr': (2011, 3)}}\n",
      "[INFO] Comparing current qtr (2011, 4) to qtr (2011, 3) from 1 quarter ago.\n",
      "[INFO] Comparing current qtr (2010, 2) to qtr (2010, 1) from 1 quarter ago.\n",
      "{'diff_jaccard': 0.0042176131468602334, 'diff_cosine_tf': 0.2861616924127804, 'diff_cosine_tf_idf': 0.21492562816778496, 'diff_minEdit': 0.9109235706076558, 'diff_simple': 0.6728495450894548, 'sing_LoughranMcDonald': 0.0, '0': {'type': '10-Q', 'published': datetime.date(2010, 5, 10), 'qtr': (2010, 2)}}\n",
      "[INFO] Comparing current qtr (2010, 3) to qtr (2010, 2) from 1 quarter ago.\n",
      "{'diff_jaccard': 0.7217171717171718, 'diff_cosine_tf': 0.8399999999999999, 'diff_cosine_tf_idf': 0.7464359212312635, 'diff_minEdit': 0.9166666666666667, 'diff_simple': 0.9579867354867355, 'sing_LoughranMcDonald': 0.0, '0': {'type': '10-Q', 'published': datetime.date(2010, 8, 5), 'qtr': (2010, 3)}}\n",
      "[INFO] Comparing current qtr (2010, 4) to qtr (2010, 3) from 1 quarter ago.\n",
      "{'diff_jaccard': 0.6577071335236205, 'diff_cosine_tf': 0.9851205542333334, 'diff_cosine_tf_idf': 0.9813340033416865, 'diff_minEdit': 0.9804176531739217, 'diff_simple': 0.9667277205835912, 'sing_LoughranMcDonald': -0.0003126911799696518, '0': {'type': '10-Q', 'published': datetime.date(2011, 11, 3), 'qtr': (2011, 4)}}\n",
      "[INFO] Comparing current qtr (2012, 1) to qtr (2011, 4) from 1 quarter ago.\n",
      "{'diff_jaccard': 0.6611111111111111, 'diff_cosine_tf': 0.8399999999999999, 'diff_cosine_tf_idf': 0.7464359212312635, 'diff_minEdit': 0.9, 'diff_simple': 0.9592367802448447, 'sing_LoughranMcDonald': 0.0, '0': {'type': '10-Q', 'published': datetime.date(2010, 11, 4), 'qtr': (2010, 4)}}\n",
      "[INFO] Comparing current qtr (2011, 1) to qtr (2010, 4) from 1 quarter ago.\n",
      "{'diff_jaccard': 0.0040393387047138055, 'diff_cosine_tf': 0.28734592389318536, 'diff_cosine_tf_idf': 0.2155902690060326, 'diff_minEdit': 0.8859884136511308, 'diff_simple': 0.6849178009260714, 'sing_LoughranMcDonald': -0.00038293434682120276, '0': {'type': '10-K', 'published': datetime.date(2011, 3, 4), 'qtr': (2011, 1)}}\n",
      "[INFO] Comparing current qtr (2011, 2) to qtr (2011, 1) from 1 quarter ago.\n",
      "{'diff_jaccard': 0.4331614989404035, 'diff_cosine_tf': 0.959463339020125, 'diff_cosine_tf_idf': 0.9544721553690407, 'diff_minEdit': 0.8539333343846758, 'diff_simple': 0.799964280645314, 'sing_LoughranMcDonald': -0.00020826636342205607, '0': {'type': '10-K', 'published': datetime.date(2012, 2, 22), 'qtr': (2012, 1)}}\n",
      "[INFO] Comparing current qtr (2012, 2) to qtr (2012, 1) from 1 quarter ago.\n",
      "[INFO] Comparing current qtr (2010, 2) to qtr (2010, 1) from 1 quarter ago.\n",
      "[INFO] Comparing current qtr (2012, 3) to qtr (2012, 2) from 1 quarter ago.\n",
      "{'diff_jaccard': 0.0040393387047138055, 'diff_cosine_tf': 0.287583836576115, 'diff_cosine_tf_idf': 0.21577104949998915, 'diff_minEdit': 0.8859884136511308, 'diff_simple': 0.6849178009260714, 'sing_LoughranMcDonald': 0.0, '0': {'type': '10-Q', 'published': datetime.date(2011, 5, 9), 'qtr': (2011, 2)}}\n",
      "[INFO] Comparing current qtr (2011, 3) to qtr (2011, 2) from 1 quarter ago.\n",
      "{'diff_jaccard': 0.7217171717171718, 'diff_cosine_tf': 0.8399999999999999, 'diff_cosine_tf_idf': 0.7464359212312635, 'diff_minEdit': 0.9166666666666667, 'diff_simple': 0.9516197691197692, 'sing_LoughranMcDonald': 0.0, '0': {'type': '10-Q', 'published': datetime.date(2011, 8, 5), 'qtr': (2011, 3)}}\n",
      "{'diff_jaccard': 0.4451732845585403, 'diff_cosine_tf': 0.9469324467027195, 'diff_cosine_tf_idf': 0.9415111132533983, 'diff_minEdit': 0.8330601947869533, 'diff_simple': 0.7738155273493085, 'sing_LoughranMcDonald': -0.00039966421295047614, '0': {'type': '10-Q', 'published': datetime.date(2012, 5, 4), 'qtr': (2012, 2)}}\n",
      "[INFO] Comparing current qtr (2011, 4) to qtr (2011, 3) from 1 quarter ago.\n",
      "[INFO] Comparing current qtr (2012, 3) to qtr (2012, 2) from 1 quarter ago.\n",
      "[INFO] Comparing current qtr (2010, 2) to qtr (2010, 1) from 1 quarter ago.\n",
      "{'diff_jaccard': 0.7217171717171718, 'diff_cosine_tf': 0.8399999999999999, 'diff_cosine_tf_idf': 0.7464359212312635, 'diff_minEdit': 0.9166666666666667, 'diff_simple': 0.9732124819624819, 'sing_LoughranMcDonald': 0.0, '0': {'type': '10-Q', 'published': datetime.date(2011, 11, 9), 'qtr': (2011, 4)}}\n",
      "[INFO] Comparing current qtr (2012, 1) to qtr (2011, 4) from 1 quarter ago.\n",
      "{'diff_jaccard': 0.5008818342151675, 'diff_cosine_tf': 0.699245392138346, 'diff_cosine_tf_idf': 0.6073997606380773, 'diff_minEdit': 0.873015873015873, 'diff_simple': 0.7953358058617903, 'sing_LoughranMcDonald': 0.0, '0': {'type': '10-K', 'published': datetime.date(2012, 3, 12), 'qtr': (2012, 1)}}\n",
      "[INFO] Comparing current qtr (2012, 2) to qtr (2012, 1) from 1 quarter ago.\n",
      "{'diff_jaccard': 0.759564453475086, 'diff_cosine_tf': 0.9826998022605574, 'diff_cosine_tf_idf': 0.9794259126139925, 'diff_minEdit': 0.9999999999999999, 'diff_simple': 0.9999999999999999, 'sing_LoughranMcDonald': -0.0007427239670916389, '0': {'type': '10-Q', 'published': datetime.date(2012, 8, 7), 'qtr': (2012, 3)}}\n",
      "{'diff_jaccard': 0.5146923783287419, 'diff_cosine_tf': 0.6544361352949398, 'diff_cosine_tf_idf': 0.6024563996638748, 'diff_minEdit': 0.8181818181818182, 'diff_simple': 0.7528780070177687, 'sing_LoughranMcDonald': 0.0, '0': {'type': '10-Q', 'published': datetime.date(2012, 5, 9), 'qtr': (2012, 2)}}\n",
      "[INFO] Comparing current qtr (2012, 3) to qtr (2012, 2) from 1 quarter ago.\n",
      "[INFO] Comparing current qtr (2012, 4) to qtr (2012, 3) from 1 quarter ago.\n",
      "{'diff_jaccard': 0.43865342435585586, 'diff_cosine_tf': 0.8636081804762228, 'diff_cosine_tf_idf': 0.8464978443122384, 'diff_minEdit': 0.837938645225156, 'diff_simple': 0.8547930261217398, 'sing_LoughranMcDonald': -0.0009436604006201722, '0': {'type': '10-Q', 'published': datetime.date(2010, 5, 6), 'qtr': (2010, 2)}}\n",
      "[INFO] Comparing current qtr (2010, 3) to qtr (2010, 2) from 1 quarter ago.\n",
      "{'diff_jaccard': 0.23487643203580263, 'diff_cosine_tf': 0.6459621908993198, 'diff_cosine_tf_idf': 0.5909583462655958, 'diff_minEdit': 0.8268337696298589, 'diff_simple': 0.5883258631000396, 'sing_LoughranMcDonald': -0.001926976385140956, '0': {'type': '10-Q', 'published': datetime.date(2010, 5, 10), 'qtr': (2010, 2)}}\n"
     ]
    },
    {
     "name": "stdout",
     "output_type": "stream",
     "text": [
      "{'diff_jaccard': 0.7727272727272727, 'diff_cosine_tf': 0.9151515151515149, 'diff_cosine_tf_idf': 0.8499603008434203, 'diff_minEdit': 0.9393939393939394, 'diff_simple': 0.9837217482745342, 'sing_LoughranMcDonald': 0.0, '0': {'type': '10-Q', 'published': datetime.date(2012, 8, 9), 'qtr': (2012, 3)}}\n",
      "[INFO] Comparing current qtr (2012, 4) to qtr (2012, 3) from 1 quarter ago.\n",
      "[INFO] Comparing current qtr (2010, 3) to qtr (2010, 2) from 1 quarter ago.\n",
      "{'diff_jaccard': 0.7874196510560146, 'diff_cosine_tf': 0.8848484848484847, 'diff_cosine_tf_idf': 0.8097237509813753, 'diff_minEdit': 0.9393939393939394, 'diff_simple': 0.980037260719079, 'sing_LoughranMcDonald': 0.0, '0': {'type': '10-Q', 'published': datetime.date(2012, 11, 5), 'qtr': (2012, 4)}}\n"
     ]
    },
    {
     "name": "stderr",
     "output_type": "stream",
     "text": [
      " 65%|██████▌   | 65/100 [01:08<01:02,  1.78s/it]\n",
      "65it [01:08,  1.78s/it]\u001b[A"
     ]
    },
    {
     "name": "stdout",
     "output_type": "stream",
     "text": [
      "{'diff_jaccard': 0.6840008689747853, 'diff_cosine_tf': 0.9697284083101441, 'diff_cosine_tf_idf': 0.961368808587535, 'diff_minEdit': 0.99978931844517, 'diff_simple': 0.9999662909512271, 'sing_LoughranMcDonald': -0.00039252347465619573, '0': {'type': '10-Q', 'published': datetime.date(2012, 8, 3), 'qtr': (2012, 3)}}\n",
      "[INFO] Comparing current qtr (2012, 4) to qtr (2012, 3) from 1 quarter ago.\n",
      "{'diff_jaccard': 0.8607413945597854, 'diff_cosine_tf': 0.9807989901939356, 'diff_cosine_tf_idf': 0.9737399543815833, 'diff_minEdit': 0.9995592200788219, 'diff_simple': 0.9986618373675001, 'sing_LoughranMcDonald': -0.0016459102502826082, '0': {'type': '10-Q', 'published': datetime.date(2010, 8, 9), 'qtr': (2010, 3)}}\n",
      "[INFO] Comparing current qtr (2010, 4) to qtr (2010, 3) from 1 quarter ago.\n"
     ]
    },
    {
     "name": "stderr",
     "output_type": "stream",
     "text": [
      "\r",
      " 66%|██████▌   | 66/100 [01:09<00:51,  1.52s/it]"
     ]
    },
    {
     "name": "stdout",
     "output_type": "stream",
     "text": [
      "{'diff_jaccard': 0.8650175746648388, 'diff_cosine_tf': 0.9721897804672817, 'diff_cosine_tf_idf': 0.970754016164967, 'diff_minEdit': 1.0, 'diff_simple': 1.0, 'sing_LoughranMcDonald': -0.0008157083224065086, '0': {'type': '10-Q', 'published': datetime.date(2010, 8, 6), 'qtr': (2010, 3)}}\n",
      "[INFO] Comparing current qtr (2010, 4) to qtr (2010, 3) from 1 quarter ago.\n",
      "{'diff_jaccard': 0.86319044435856, 'diff_cosine_tf': 0.9585081176810627, 'diff_cosine_tf_idf': 0.9410520553479139, 'diff_minEdit': 1.0, 'diff_simple': 1.0, 'sing_LoughranMcDonald': -0.0016055385147998756, '0': {'type': '10-Q', 'published': datetime.date(2010, 11, 8), 'qtr': (2010, 4)}}\n",
      "[INFO] Comparing current qtr (2011, 1) to qtr (2010, 4) from 1 quarter ago.\n",
      "[INFO] Comparing current qtr (2010, 2) to qtr (2010, 1) from 1 quarter ago.\n",
      "{'diff_jaccard': 0.8533801703274816, 'diff_cosine_tf': 0.9933173231979033, 'diff_cosine_tf_idf': 0.9916351321456655, 'diff_minEdit': 1.0, 'diff_simple': 1.0, 'sing_LoughranMcDonald': -0.0008323172231444099, '0': {'type': '10-Q', 'published': datetime.date(2012, 11, 6), 'qtr': (2012, 4)}}\n",
      "{'diff_jaccard': 0.7625556271982801, 'diff_cosine_tf': 0.9700313587560607, 'diff_cosine_tf_idf': 0.9563767758732987, 'diff_minEdit': 0.9770883237312141, 'diff_simple': 0.9632645888251409, 'sing_LoughranMcDonald': -0.00040437263147214834, '0': {'type': '10-Q', 'published': datetime.date(2012, 11, 2), 'qtr': (2012, 4)}}\n",
      "{'diff_jaccard': 0.018603578305519897, 'diff_cosine_tf': 0.16310821876719006, 'diff_cosine_tf_idf': 0.11541260831723409, 'diff_minEdit': 0.7565972222222223, 'diff_simple': 0.23615202839383576, 'sing_LoughranMcDonald': -0.05084348297644696, '0': {'type': '10-Q', 'published': datetime.date(2010, 5, 17), 'qtr': (2010, 2)}}\n",
      "[INFO] Comparing current qtr (2010, 3) to qtr (2010, 2) from 1 quarter ago.\n",
      "{'diff_jaccard': 0.19959964811427716, 'diff_cosine_tf': 0.6227394257350423, 'diff_cosine_tf_idf': 0.5629478092754713, 'diff_minEdit': 0.7659863228107807, 'diff_simple': 0.6034897210388203, 'sing_LoughranMcDonald': -0.000799248560395307, '0': {'type': '10-K', 'published': datetime.date(2011, 3, 11), 'qtr': (2011, 1)}}\n",
      "[INFO] Comparing current qtr (2011, 2) to qtr (2011, 1) from 1 quarter ago.\n",
      "{'diff_jaccard': 0.049817886470233386, 'diff_cosine_tf': 0.15126280375092277, 'diff_cosine_tf_idf': 0.10677220331685977, 'diff_minEdit': 0.6465648159001811, 'diff_simple': 0.23728916015422075, 'sing_LoughranMcDonald': -0.0014296113138076213, '0': {'type': '10-Q', 'published': datetime.date(2010, 8, 13), 'qtr': (2010, 3)}}\n",
      "[INFO] Comparing current qtr (2010, 4) to qtr (2010, 3) from 1 quarter ago.\n",
      "{'diff_jaccard': 0.8804747274575124, 'diff_cosine_tf': 0.9733696489913439, 'diff_cosine_tf_idf': 0.9696366281022923, 'diff_minEdit': 1.0, 'diff_simple': 1.0, 'sing_LoughranMcDonald': -0.0008009786821626443, '0': {'type': '10-Q', 'published': datetime.date(2010, 11, 5), 'qtr': (2010, 4)}}\n",
      "[INFO] Comparing current qtr (2011, 1) to qtr (2010, 4) from 1 quarter ago.\n",
      "{'diff_jaccard': 0.23775613264668, 'diff_cosine_tf': 0.628914824299978, 'diff_cosine_tf_idf': 0.5746142211399822, 'diff_minEdit': 0.7598626189736088, 'diff_simple': 0.6021637671421443, 'sing_LoughranMcDonald': -0.0018558580477886252, '0': {'type': '10-Q', 'published': datetime.date(2011, 5, 10), 'qtr': (2011, 2)}}\n",
      "{'diff_jaccard': 0.7458562277377249, 'diff_cosine_tf': 0.9740979034659799, 'diff_cosine_tf_idf': 0.9592320978647917, 'diff_minEdit': 0.7800708544185029, 'diff_simple': 0.8451070446118883, 'sing_LoughranMcDonald': -0.0014631775438521063, '0': {'type': '10-Q', 'published': datetime.date(2010, 11, 12), 'qtr': (2010, 4)}}\n",
      "[INFO] Comparing current qtr (2011, 3) to qtr (2011, 2) from 1 quarter ago.\n",
      "[INFO] Comparing current qtr (2011, 1) to qtr (2010, 4) from 1 quarter ago.\n",
      "{'diff_jaccard': 0.00949087798521974, 'diff_cosine_tf': 0.43943400828899826, 'diff_cosine_tf_idf': 0.34217043030757116, 'diff_minEdit': 0.9229552072627613, 'diff_simple': 0.8087978484207707, 'sing_LoughranMcDonald': 0.0, '0': {'type': '10-K', 'published': datetime.date(2011, 3, 1), 'qtr': (2011, 1)}}\n",
      "[INFO] Comparing current qtr (2011, 2) to qtr (2011, 1) from 1 quarter ago.\n",
      "{'diff_jaccard': 0.6636519479571014, 'diff_cosine_tf': 0.9489524066820813, 'diff_cosine_tf_idf': 0.9385878398897061, 'diff_minEdit': 0.9981971153846153, 'diff_simple': 0.9945266272189349, 'sing_LoughranMcDonald': -0.0013039184109241162, '0': {'type': '10-Q', 'published': datetime.date(2011, 8, 11), 'qtr': (2011, 3)}}\n",
      "[INFO] Comparing current qtr (2011, 4) to qtr (2011, 3) from 1 quarter ago.\n",
      "{'diff_jaccard': 0.009025742660289137, 'diff_cosine_tf': 0.41331766159080086, 'diff_cosine_tf_idf': 0.30784309440394475, 'diff_minEdit': 0.9230092333075973, 'diff_simple': 0.8048719638530797, 'sing_LoughranMcDonald': -0.0014566550853752271, '0': {'type': '10-Q', 'published': datetime.date(2011, 5, 12), 'qtr': (2011, 2)}}\n",
      "[INFO] Comparing current qtr (2011, 3) to qtr (2011, 2) from 1 quarter ago.\n",
      "{'diff_jaccard': 0.751819418683728, 'diff_cosine_tf': 0.9579518966017916, 'diff_cosine_tf_idf': 0.9395958969846137, 'diff_minEdit': 0.9982701505833916, 'diff_simple': 0.9938244375827084, 'sing_LoughranMcDonald': -0.0012066859565763631, '0': {'type': '10-Q', 'published': datetime.date(2011, 11, 9), 'qtr': (2011, 4)}}\n",
      "[INFO] Comparing current qtr (2012, 1) to qtr (2011, 4) from 1 quarter ago.\n",
      "{'diff_jaccard': 0.8538388515782662, 'diff_cosine_tf': 0.9711576199733336, 'diff_cosine_tf_idf': 0.9621151532514951, 'diff_minEdit': 1.0, 'diff_simple': 1.0, 'sing_LoughranMcDonald': -0.001206120801659279, '0': {'type': '10-Q', 'published': datetime.date(2011, 8, 11), 'qtr': (2011, 3)}}\n",
      "[INFO] Comparing current qtr (2011, 4) to qtr (2011, 3) from 1 quarter ago.\n",
      "{'diff_jaccard': 0.49891142679379413, 'diff_cosine_tf': 0.9145959483719591, 'diff_cosine_tf_idf': 0.8977600824463507, 'diff_minEdit': 0.9532222163253965, 'diff_simple': 0.8966795703087196, 'sing_LoughranMcDonald': -0.0004498327587174236, '0': {'type': '10-K', 'published': datetime.date(2011, 3, 11), 'qtr': (2011, 1)}}\n",
      "[INFO] Comparing current qtr (2011, 2) to qtr (2011, 1) from 1 quarter ago.\n",
      "[INFO] Comparing current qtr (2010, 2) to qtr (2010, 1) from 1 quarter ago.\n"
     ]
    },
    {
     "name": "stderr",
     "output_type": "stream",
     "text": [
      "\n",
      "66it [01:09,  1.52s/it]\u001b[A"
     ]
    },
    {
     "name": "stdout",
     "output_type": "stream",
     "text": [
      "{'diff_jaccard': 0.03251919241867454, 'diff_cosine_tf': 0.4205526092197782, 'diff_cosine_tf_idf': 0.34521801702788474, 'diff_minEdit': 0.6015920693062801, 'diff_simple': 0.34832744022939505, 'sing_LoughranMcDonald': -0.010098267516800555, '0': {'type': '10-Q', 'published': datetime.date(2010, 4, 23), 'qtr': (2010, 2)}}\n",
      "[INFO] Comparing current qtr (2010, 3) to qtr (2010, 2) from 1 quarter ago.\n"
     ]
    },
    {
     "name": "stderr",
     "output_type": "stream",
     "text": [
      "\r",
      " 68%|██████▊   | 68/100 [01:10<00:38,  1.19s/it]"
     ]
    },
    {
     "name": "stdout",
     "output_type": "stream",
     "text": [
      "{'diff_jaccard': 0.8030230591502517, 'diff_cosine_tf': 0.9524656299308067, 'diff_cosine_tf_idf': 0.9302632809491284, 'diff_minEdit': 0.9920463320463321, 'diff_simple': 0.9868764478764479, 'sing_LoughranMcDonald': -0.0006103954165721698, '0': {'type': '10-Q', 'published': datetime.date(2011, 11, 10), 'qtr': (2011, 4)}}\n"
     ]
    },
    {
     "name": "stderr",
     "output_type": "stream",
     "text": [
      "\n"
     ]
    },
    {
     "name": "stdout",
     "output_type": "stream",
     "text": [
      "[INFO] Comparing current qtr (2012, 1) to qtr (2011, 4) from 1 quarter ago.\n",
      "{'diff_jaccard': 0.9518514465346559, 'diff_cosine_tf': 0.9855959524881396, 'diff_cosine_tf_idf': 0.9777569561641788, 'diff_minEdit': 1.0, 'diff_simple': 1.0, 'sing_LoughranMcDonald': -0.009402900202618275, '0': {'type': '10-Q', 'published': datetime.date(2010, 7, 28), 'qtr': (2010, 3)}}\n",
      "{'diff_jaccard': 0.22887989744948262, 'diff_cosine_tf': 0.6791790320436007, 'diff_cosine_tf_idf': 0.6176257726129779, 'diff_minEdit': 0.7552997344847265, 'diff_simple': 0.5958880637463965, 'sing_LoughranMcDonald': -0.00046063566891552853, '0': {'type': '10-K', 'published': datetime.date(2012, 3, 15), 'qtr': (2012, 1)}}\n",
      "[INFO] Comparing current qtr (2012, 2) to qtr (2012, 1) from 1 quarter ago.\n",
      "[INFO] Comparing current qtr (2010, 4) to qtr (2010, 3) from 1 quarter ago.\n",
      "{'diff_jaccard': 0.008331991157827467, 'diff_cosine_tf': 0.39795927517205637, 'diff_cosine_tf_idf': 0.30632879556416037, 'diff_minEdit': 0.9219151330429526, 'diff_simple': 0.7758815230386931, 'sing_LoughranMcDonald': 0.0, '0': {'type': '10-K', 'published': datetime.date(2012, 3, 15), 'qtr': (2012, 1)}}\n",
      "[INFO] Comparing current qtr (2012, 2) to qtr (2012, 1) from 1 quarter ago.\n",
      "{'diff_jaccard': 0.8978774657722937, 'diff_cosine_tf': 0.9431760616170761, 'diff_cosine_tf_idf': 0.9188033945512304, 'diff_minEdit': 0.9461971142088531, 'diff_simple': 0.9602836879432625, 'sing_LoughranMcDonald': -0.0183603712448835, '0': {'type': '10-Q', 'published': datetime.date(2010, 10, 28), 'qtr': (2010, 4)}}\n",
      "[INFO] Comparing current qtr (2011, 1) to qtr (2010, 4) from 1 quarter ago.\n",
      "{'diff_jaccard': 0.011583483581177233, 'diff_cosine_tf': 0.43904886903617846, 'diff_cosine_tf_idf': 0.3403772732042763, 'diff_minEdit': 0.9223709307919835, 'diff_simple': 0.8169891845124043, 'sing_LoughranMcDonald': -0.00170773494837904, '0': {'type': '10-Q', 'published': datetime.date(2012, 5, 10), 'qtr': (2012, 2)}}\n",
      "[INFO] Comparing current qtr (2012, 3) to qtr (2012, 2) from 1 quarter ago.\n",
      "{'diff_jaccard': 0.18603891727275906, 'diff_cosine_tf': 0.4688088733650871, 'diff_cosine_tf_idf': 0.45639444073881796, 'diff_minEdit': 0.8074198807821222, 'diff_simple': 0.5695063825954911, 'sing_LoughranMcDonald': -0.0011871463572354624, '0': {'type': '10-Q', 'published': datetime.date(2012, 5, 14), 'qtr': (2012, 2)}}\n",
      "[INFO] Comparing current qtr (2012, 3) to qtr (2012, 2) from 1 quarter ago.\n",
      "{'diff_jaccard': 0.4781486180814814, 'diff_cosine_tf': 0.9000478319605855, 'diff_cosine_tf_idf': 0.8811502043874977, 'diff_minEdit': 0.937131933990209, 'diff_simple': 0.8967077675459133, 'sing_LoughranMcDonald': -0.001104230941743364, '0': {'type': '10-Q', 'published': datetime.date(2011, 5, 6), 'qtr': (2011, 2)}}\n",
      "[INFO] Comparing current qtr (2011, 3) to qtr (2011, 2) from 1 quarter ago.\n",
      "{'diff_jaccard': 0.06295670499525129, 'diff_cosine_tf': 0.4194854185923853, 'diff_cosine_tf_idf': 0.3410035229457067, 'diff_minEdit': 0.6761864005867229, 'diff_simple': 0.30756147847931226, 'sing_LoughranMcDonald': -0.0014689444831203745, '0': {'type': '10-K', 'published': datetime.date(2011, 2, 24), 'qtr': (2011, 1)}}\n",
      "[INFO] Comparing current qtr (2011, 2) to qtr (2011, 1) from 1 quarter ago.\n",
      "{'diff_jaccard': 0.770497342304074, 'diff_cosine_tf': 0.9701399127072857, 'diff_cosine_tf_idf': 0.9602646185785687, 'diff_minEdit': 0.9392569632786603, 'diff_simple': 0.9908885444917991, 'sing_LoughranMcDonald': -0.0014848655937311766, '0': {'type': '10-Q', 'published': datetime.date(2012, 8, 10), 'qtr': (2012, 3)}}\n",
      "[INFO] Comparing current qtr (2012, 4) to qtr (2012, 3) from 1 quarter ago.\n",
      "{'diff_jaccard': 0.7408626035508061, 'diff_cosine_tf': 0.9841024531627132, 'diff_cosine_tf_idf': 0.9792542868010987, 'diff_minEdit': 0.9998576917603528, 'diff_simple': 0.9995342639429731, 'sing_LoughranMcDonald': -0.0010202599334415928, '0': {'type': '10-Q', 'published': datetime.date(2012, 8, 14), 'qtr': (2012, 3)}}\n",
      "[INFO] Comparing current qtr (2012, 4) to qtr (2012, 3) from 1 quarter ago.\n",
      "{'diff_jaccard': 0.06275846253604897, 'diff_cosine_tf': 0.386914621944728, 'diff_cosine_tf_idf': 0.31225690096159053, 'diff_minEdit': 0.6494598244470202, 'diff_simple': 0.3874294370229007, 'sing_LoughranMcDonald': -0.019755836777289003, '0': {'type': '10-Q', 'published': datetime.date(2011, 4, 28), 'qtr': (2011, 2)}}\n",
      "[INFO] Comparing current qtr (2011, 3) to qtr (2011, 2) from 1 quarter ago.\n",
      "{'diff_jaccard': 0.7846768810262047, 'diff_cosine_tf': 0.9783759340745831, 'diff_cosine_tf_idf': 0.9639129505073738, 'diff_minEdit': 1.0, 'diff_simple': 1.0, 'sing_LoughranMcDonald': -0.001376598098596185, '0': {'type': '10-Q', 'published': datetime.date(2012, 11, 9), 'qtr': (2012, 4)}}\n",
      "{'diff_jaccard': 0.9787519932098246, 'diff_cosine_tf': 0.9996251312040791, 'diff_cosine_tf_idf': 0.9992599317203614, 'diff_minEdit': 1.0, 'diff_simple': 1.0, 'sing_LoughranMcDonald': -0.019755836777289003, '0': {'type': '10-Q', 'published': datetime.date(2011, 7, 28), 'qtr': (2011, 3)}}\n",
      "[INFO] Comparing current qtr (2011, 4) to qtr (2011, 3) from 1 quarter ago.\n",
      "{'diff_jaccard': 0.47467740584990387, 'diff_cosine_tf': 0.8306616178266693, 'diff_cosine_tf_idf': 0.8138438574201069, 'diff_minEdit': 0.9407580580978909, 'diff_simple': 0.8886728608550971, 'sing_LoughranMcDonald': -0.0007798103800028659, '0': {'type': '10-Q', 'published': datetime.date(2012, 11, 14), 'qtr': (2012, 4)}}\n"
     ]
    },
    {
     "name": "stderr",
     "output_type": "stream",
     "text": [
      "\r",
      "68it [01:10,  1.20s/it]"
     ]
    },
    {
     "name": "stdout",
     "output_type": "stream",
     "text": [
      "{'diff_jaccard': 0.9845535990114305, 'diff_cosine_tf': 0.9996251312040791, 'diff_cosine_tf_idf': 0.9992599317203614, 'diff_minEdit': 1.0, 'diff_simple': 1.0, 'sing_LoughranMcDonald': -0.019755836777289003, '0': {'type': '10-Q', 'published': datetime.date(2011, 10, 27), 'qtr': (2011, 4)}}\n"
     ]
    },
    {
     "name": "stderr",
     "output_type": "stream",
     "text": [
      "\u001b[A"
     ]
    },
    {
     "name": "stdout",
     "output_type": "stream",
     "text": [
      "[INFO] Comparing current qtr (2012, 1) to qtr (2011, 4) from 1 quarter ago.\n",
      "{'diff_jaccard': 0.8667429573171092, 'diff_cosine_tf': 0.9823404047621879, 'diff_cosine_tf_idf': 0.9759401070895218, 'diff_minEdit': 1.0, 'diff_simple': 1.0, 'sing_LoughranMcDonald': -0.000895482031954418, '0': {'type': '10-Q', 'published': datetime.date(2011, 8, 9), 'qtr': (2011, 3)}}\n",
      "[INFO] Comparing current qtr (2011, 4) to qtr (2011, 3) from 1 quarter ago.\n",
      "{'diff_jaccard': 0.053152817508862575, 'diff_cosine_tf': 0.37935877541684737, 'diff_cosine_tf_idf': 0.30510664331158327, 'diff_minEdit': 0.6658923986020003, 'diff_simple': 0.29514913353655414, 'sing_LoughranMcDonald': -0.0011135929744656528, '0': {'type': '10-K', 'published': datetime.date(2012, 2, 23), 'qtr': (2012, 1)}}\n",
      "[INFO] Comparing current qtr (2012, 2) to qtr (2012, 1) from 1 quarter ago.\n",
      "{'diff_jaccard': 0.004542455098596002, 'diff_cosine_tf': 0.04308970233649044, 'diff_cosine_tf_idf': 0.027482154986283962, 'diff_minEdit': 0.8984380926294969, 'diff_simple': 0.18187671849368287, 'sing_LoughranMcDonald': 0.0, '0': {'type': '10-Q', 'published': datetime.date(2012, 4, 26), 'qtr': (2012, 2)}}\n",
      "[INFO] Comparing current qtr (2012, 3) to qtr (2012, 2) from 1 quarter ago.\n",
      "{'diff_jaccard': 0.8806547958431057, 'diff_cosine_tf': 0.9917168218096696, 'diff_cosine_tf_idf': 0.9876462661006772, 'diff_minEdit': 0.9987715975812171, 'diff_simple': 0.9983668186671398, 'sing_LoughranMcDonald': -0.0003955160214434383, '0': {'type': '10-Q', 'published': datetime.date(2011, 11, 4), 'qtr': (2011, 4)}}\n",
      "[INFO] Comparing current qtr (2012, 1) to qtr (2011, 4) from 1 quarter ago.\n",
      "{'diff_jaccard': 0.6607054148037755, 'diff_cosine_tf': 0.8402810304449647, 'diff_cosine_tf_idf': 0.746532377637128, 'diff_minEdit': 0.8992974238875879, 'diff_simple': 0.9547457178420524, 'sing_LoughranMcDonald': 0.0, '0': {'type': '10-Q', 'published': datetime.date(2012, 7, 26), 'qtr': (2012, 3)}}\n",
      "[INFO] Comparing current qtr (2012, 4) to qtr (2012, 3) from 1 quarter ago.\n",
      "{'diff_jaccard': 0.7217171717171718, 'diff_cosine_tf': 0.8399999999999999, 'diff_cosine_tf_idf': 0.7464359212312635, 'diff_minEdit': 0.9166666666666667, 'diff_simple': 0.9732124819624819, 'sing_LoughranMcDonald': 0.0, '0': {'type': '10-Q', 'published': datetime.date(2012, 10, 25), 'qtr': (2012, 4)}}\n",
      "{'diff_jaccard': 0.5504243790885788, 'diff_cosine_tf': 0.9070947798570139, 'diff_cosine_tf_idf': 0.890788842137856, 'diff_minEdit': 0.9487000377367999, 'diff_simple': 0.8868982224734823, 'sing_LoughranMcDonald': -0.00047095205991056285, '0': {'type': '10-K', 'published': datetime.date(2012, 3, 15), 'qtr': (2012, 1)}}\n",
      "[INFO] Comparing current qtr (2012, 2) to qtr (2012, 1) from 1 quarter ago.\n",
      "{'diff_jaccard': 0.4422381093491363, 'diff_cosine_tf': 0.9358352781548153, 'diff_cosine_tf_idf': 0.9195557189751276, 'diff_minEdit': 0.9272283067224095, 'diff_simple': 0.880769282504831, 'sing_LoughranMcDonald': -0.0007623032461254637, '0': {'type': '10-Q', 'published': datetime.date(2012, 5, 10), 'qtr': (2012, 2)}}\n",
      "[INFO] Comparing current qtr (2012, 3) to qtr (2012, 2) from 1 quarter ago.\n",
      "{'diff_jaccard': 0.7871565515000479, 'diff_cosine_tf': 0.9718923358595046, 'diff_cosine_tf_idf': 0.9567405644890873, 'diff_minEdit': 1.0, 'diff_simple': 1.0, 'sing_LoughranMcDonald': -0.000477279020902978, '0': {'type': '10-Q', 'published': datetime.date(2012, 8, 9), 'qtr': (2012, 3)}}\n",
      "[INFO] Comparing current qtr (2012, 4) to qtr (2012, 3) from 1 quarter ago.\n"
     ]
    },
    {
     "name": "stderr",
     "output_type": "stream",
     "text": [
      "\r",
      " 71%|███████   | 71/100 [01:11<00:27,  1.04it/s]"
     ]
    },
    {
     "name": "stdout",
     "output_type": "stream",
     "text": [
      "{'diff_jaccard': 0.7624513870160481, 'diff_cosine_tf': 0.981797735113939, 'diff_cosine_tf_idf': 0.9741093290330534, 'diff_minEdit': 1.0, 'diff_simple': 1.0, 'sing_LoughranMcDonald': -0.0004431529593835802, '0': {'type': '10-Q', 'published': datetime.date(2012, 11, 9), 'qtr': (2012, 4)}}\n"
     ]
    },
    {
     "name": "stderr",
     "output_type": "stream",
     "text": [
      "\n",
      "71it [01:11,  1.04it/s]\u001b[A"
     ]
    },
    {
     "name": "stdout",
     "output_type": "stream",
     "text": [
      "[INFO] Comparing current qtr (2010, 2) to qtr (2010, 1) from 1 quarter ago.\n",
      "{'diff_jaccard': 0.4224287683015383, 'diff_cosine_tf': 0.8622017948927764, 'diff_cosine_tf_idf': 0.8389057247653852, 'diff_minEdit': 0.8966627485334723, 'diff_simple': 0.8464949295290477, 'sing_LoughranMcDonald': -0.0010667726653353787, '0': {'type': '10-Q', 'published': datetime.date(2010, 4, 29), 'qtr': (2010, 2)}}\n",
      "[INFO] Comparing current qtr (2010, 3) to qtr (2010, 2) from 1 quarter ago.\n",
      "[INFO] Comparing current qtr (2010, 2) to qtr (2010, 1) from 1 quarter ago.\n",
      "{'diff_jaccard': 0.7284407977594125, 'diff_cosine_tf': 0.97471083468773, 'diff_cosine_tf_idf': 0.9690020514793676, 'diff_minEdit': 0.9925252392580166, 'diff_simple': 0.992805542785841, 'sing_LoughranMcDonald': -0.001343334194975417, '0': {'type': '10-Q', 'published': datetime.date(2010, 7, 23), 'qtr': (2010, 3)}}\n",
      "[INFO] Comparing current qtr (2010, 4) to qtr (2010, 3) from 1 quarter ago.\n",
      "{'diff_jaccard': 0.06704926084057623, 'diff_cosine_tf': 0.20902387484652346, 'diff_cosine_tf_idf': 0.19301331250554724, 'diff_minEdit': 0.6209802086626355, 'diff_simple': 0.3189949979304711, 'sing_LoughranMcDonald': 0.0, '0': {'type': '10-Q', 'published': datetime.date(2010, 5, 6), 'qtr': (2010, 2)}}\n",
      "[INFO] Comparing current qtr (2010, 3) to qtr (2010, 2) from 1 quarter ago.\n",
      "{'diff_jaccard': 0.9769607843137254, 'diff_cosine_tf': 0.9985875668327224, 'diff_cosine_tf_idf': 0.9975351368062357, 'diff_minEdit': 1.0, 'diff_simple': 1.0, 'sing_LoughranMcDonald': 0.0, '0': {'type': '10-Q', 'published': datetime.date(2010, 8, 4), 'qtr': (2010, 3)}}\n",
      "[INFO] Comparing current qtr (2010, 4) to qtr (2010, 3) from 1 quarter ago.\n",
      "{'diff_jaccard': 0.9771285796655775, 'diff_cosine_tf': 0.9979324707105253, 'diff_cosine_tf_idf': 0.9969017156570842, 'diff_minEdit': 1.0, 'diff_simple': 1.0, 'sing_LoughranMcDonald': 0.0, '0': {'type': '10-Q', 'published': datetime.date(2010, 11, 5), 'qtr': (2010, 4)}}\n",
      "[INFO] Comparing current qtr (2011, 1) to qtr (2010, 4) from 1 quarter ago.\n",
      "{'diff_jaccard': 0.7077303443459193, 'diff_cosine_tf': 0.990514996101753, 'diff_cosine_tf_idf': 0.98727572199397, 'diff_minEdit': 0.9948171631345194, 'diff_simple': 0.9941952227106616, 'sing_LoughranMcDonald': -0.0013467201605400012, '0': {'type': '10-Q', 'published': datetime.date(2010, 10, 27), 'qtr': (2010, 4)}}\n",
      "{'diff_jaccard': 0.06907588647107389, 'diff_cosine_tf': 0.2148604191074274, 'diff_cosine_tf_idf': 0.1983184408212561, 'diff_minEdit': 0.7214949375407546, 'diff_simple': 0.2838576580766129, 'sing_LoughranMcDonald': -0.0007922105970001013, '0': {'type': '10-K', 'published': datetime.date(2011, 3, 1), 'qtr': (2011, 1)}}\n"
     ]
    },
    {
     "name": "stderr",
     "output_type": "stream",
     "text": [
      "\r",
      " 72%|███████▏  | 72/100 [01:13<00:38,  1.38s/it]"
     ]
    },
    {
     "name": "stdout",
     "output_type": "stream",
     "text": [
      "[INFO] Comparing current qtr (2011, 1) to qtr (2010, 4) from 1 quarter ago.\n",
      "[INFO] Comparing current qtr (2011, 2) to qtr (2011, 1) from 1 quarter ago.\n",
      "{'diff_jaccard': 0.13104323819616484, 'diff_cosine_tf': 0.7034945092664115, 'diff_cosine_tf_idf': 0.6634525664235795, 'diff_minEdit': 0.6212145894685761, 'diff_simple': 0.27763440042020565, 'sing_LoughranMcDonald': -0.0010151611206629127, '0': {'type': '10-Q', 'published': datetime.date(2011, 5, 9), 'qtr': (2011, 2)}}\n",
      "[INFO] Comparing current qtr (2011, 3) to qtr (2011, 2) from 1 quarter ago.\n",
      "{'diff_jaccard': 0.1539919138285691, 'diff_cosine_tf': 0.8726407827063274, 'diff_cosine_tf_idf': 0.8398644937968092, 'diff_minEdit': 0.8488114735956797, 'diff_simple': 0.28185449957947856, 'sing_LoughranMcDonald': -0.012033582089552238, '0': {'type': '10-Q', 'published': datetime.date(2011, 8, 3), 'qtr': (2011, 3)}}\n",
      "[INFO] Comparing current qtr (2011, 4) to qtr (2011, 3) from 1 quarter ago.\n",
      "{'diff_jaccard': 0.4609303733908452, 'diff_cosine_tf': 0.8878270314708255, 'diff_cosine_tf_idf': 0.8689882198645055, 'diff_minEdit': 0.8635638090595086, 'diff_simple': 0.857172406588432, 'sing_LoughranMcDonald': -0.0006929804512505264, '0': {'type': '10-K', 'published': datetime.date(2011, 2, 24), 'qtr': (2011, 1)}}\n",
      "{'diff_jaccard': 0.8105167900964795, 'diff_cosine_tf': 0.8545618140147562, 'diff_cosine_tf_idf': 0.8490220161564251, 'diff_minEdit': 0.9320261437908496, 'diff_simple': 0.8844185002245172, 'sing_LoughranMcDonald': 0.0, '0': {'type': '10-Q', 'published': datetime.date(2011, 11, 9), 'qtr': (2011, 4)}}\n",
      "[INFO] Comparing current qtr (2011, 2) to qtr (2011, 1) from 1 quarter ago.\n",
      "[INFO] Comparing current qtr (2012, 1) to qtr (2011, 4) from 1 quarter ago.\n",
      "{'diff_jaccard': 0.013549682167949148, 'diff_cosine_tf': 0.18572023021550935, 'diff_cosine_tf_idf': 0.11742045305700718, 'diff_minEdit': 0.8876004947433519, 'diff_simple': 0.24725302188755569, 'sing_LoughranMcDonald': 0.0, '0': {'type': '10-K', 'published': datetime.date(2012, 3, 2), 'qtr': (2012, 1)}}\n",
      "[INFO] Comparing current qtr (2012, 2) to qtr (2012, 1) from 1 quarter ago.\n",
      "{'diff_jaccard': 0.013830532212885153, 'diff_cosine_tf': 0.18716368673069753, 'diff_cosine_tf_idf': 0.11840038294394996, 'diff_minEdit': 0.8653724747474748, 'diff_simple': 0.2551705477007514, 'sing_LoughranMcDonald': 0.0, '0': {'type': '10-Q', 'published': datetime.date(2012, 5, 10), 'qtr': (2012, 2)}}\n",
      "[INFO] Comparing current qtr (2012, 3) to qtr (2012, 2) from 1 quarter ago.\n",
      "[INFO] Comparing current qtr (2010, 2) to qtr (2010, 1) from 1 quarter ago.\n",
      "{'diff_jaccard': 0.4139146256711592, 'diff_cosine_tf': 0.8292697827941177, 'diff_cosine_tf_idf': 0.805839318592135, 'diff_minEdit': 0.9027310720119591, 'diff_simple': 0.8586959751206902, 'sing_LoughranMcDonald': -0.0003791627353921053, '0': {'type': '10-Q', 'published': datetime.date(2011, 4, 28), 'qtr': (2011, 2)}}\n",
      "{'diff_jaccard': 0.9692913385826771, 'diff_cosine_tf': 0.998905506013231, 'diff_cosine_tf_idf': 0.9978406514714686, 'diff_minEdit': 1.0, 'diff_simple': 1.0, 'sing_LoughranMcDonald': 0.0, '0': {'type': '10-Q', 'published': datetime.date(2012, 8, 8), 'qtr': (2012, 3)}}\n",
      "[INFO] Comparing current qtr (2011, 3) to qtr (2011, 2) from 1 quarter ago.\n",
      "[INFO] Comparing current qtr (2012, 4) to qtr (2012, 3) from 1 quarter ago.\n",
      "{'diff_jaccard': 0.42224576982617534, 'diff_cosine_tf': 0.7293757123379834, 'diff_cosine_tf_idf': 0.7167359192473703, 'diff_minEdit': 0.8084842726221841, 'diff_simple': 0.7869090668122604, 'sing_LoughranMcDonald': -0.005332912578370092, '0': {'type': '10-Q', 'published': datetime.date(2010, 5, 10), 'qtr': (2010, 2)}}\n",
      "[INFO] Comparing current qtr (2010, 3) to qtr (2010, 2) from 1 quarter ago.\n",
      "{'diff_jaccard': 0.9609967314755534, 'diff_cosine_tf': 0.9992703311281523, 'diff_cosine_tf_idf': 0.9985603305747932, 'diff_minEdit': 1.0, 'diff_simple': 1.0, 'sing_LoughranMcDonald': 0.0, '0': {'type': '10-Q', 'published': datetime.date(2012, 11, 7), 'qtr': (2012, 4)}}\n",
      "{'diff_jaccard': 0.9812097882087278, 'diff_cosine_tf': 0.9989699546783479, 'diff_cosine_tf_idf': 0.9983492123829046, 'diff_minEdit': 1.0, 'diff_simple': 1.0, 'sing_LoughranMcDonald': -0.005307868956686139, '0': {'type': '10-Q', 'published': datetime.date(2010, 8, 6), 'qtr': (2010, 3)}}\n",
      "[INFO] Comparing current qtr (2010, 4) to qtr (2010, 3) from 1 quarter ago.\n"
     ]
    },
    {
     "name": "stderr",
     "output_type": "stream",
     "text": [
      "\n",
      "72it [01:13,  1.38s/it]\u001b[A"
     ]
    },
    {
     "name": "stdout",
     "output_type": "stream",
     "text": [
      "{'diff_jaccard': 0.8025625243982044, 'diff_cosine_tf': 0.98009901391061, 'diff_cosine_tf_idf': 0.9739379884205115, 'diff_minEdit': 1.0, 'diff_simple': 1.0, 'sing_LoughranMcDonald': -0.007038800358067223, '0': {'type': '10-Q', 'published': datetime.date(2010, 11, 5), 'qtr': (2010, 4)}}\n",
      "{'diff_jaccard': 0.7098379745635632, 'diff_cosine_tf': 0.9815341905145161, 'diff_cosine_tf_idf': 0.9796593241583738, 'diff_minEdit': 0.7396904038402254, 'diff_simple': 0.8521588283466408, 'sing_LoughranMcDonald': -0.0013926179865039923, '0': {'type': '10-Q', 'published': datetime.date(2011, 8, 1), 'qtr': (2011, 3)}}\n",
      "[INFO] Comparing current qtr (2011, 4) to qtr (2011, 3) from 1 quarter ago.\n",
      "[INFO] Comparing current qtr (2011, 1) to qtr (2010, 4) from 1 quarter ago.\n",
      "{'diff_jaccard': 0.37925006568358566, 'diff_cosine_tf': 0.6934718877714079, 'diff_cosine_tf_idf': 0.6778817864538382, 'diff_minEdit': 0.8273488681052219, 'diff_simple': 0.7682026953003623, 'sing_LoughranMcDonald': -0.002122126098303081, '0': {'type': '10-K', 'published': datetime.date(2011, 3, 1), 'qtr': (2011, 1)}}\n",
      "{'diff_jaccard': 0.7724194342571826, 'diff_cosine_tf': 0.9938404399541692, 'diff_cosine_tf_idf': 0.9916134087234558, 'diff_minEdit': 0.996874802901293, 'diff_simple': 0.9819530905077263, 'sing_LoughranMcDonald': -0.001525269003412719, '0': {'type': '10-Q', 'published': datetime.date(2011, 10, 31), 'qtr': (2011, 4)}}\n",
      "[INFO] Comparing current qtr (2011, 2) to qtr (2011, 1) from 1 quarter ago.\n",
      "[INFO] Comparing current qtr (2012, 1) to qtr (2011, 4) from 1 quarter ago.\n",
      "{'diff_jaccard': 0.18966609743619453, 'diff_cosine_tf': 0.7231285826046183, 'diff_cosine_tf_idf': 0.705272105800962, 'diff_minEdit': 0.5713892550559461, 'diff_simple': 0.3319586349688022, 'sing_LoughranMcDonald': -0.0002455241393355533, '0': {'type': '10-Q', 'published': datetime.date(2011, 5, 10), 'qtr': (2011, 2)}}\n",
      "[INFO] Comparing current qtr (2011, 3) to qtr (2011, 2) from 1 quarter ago.\n",
      "{'diff_jaccard': 0.42830016836771406, 'diff_cosine_tf': 0.85360561676165, 'diff_cosine_tf_idf': 0.8315472210522147, 'diff_minEdit': 0.8846420894745634, 'diff_simple': 0.8769475923033466, 'sing_LoughranMcDonald': -0.0008582535769489344, '0': {'type': '10-K', 'published': datetime.date(2012, 2, 29), 'qtr': (2012, 1)}}\n",
      "{'diff_jaccard': 0.2541538154811601, 'diff_cosine_tf': 0.8906974807329596, 'diff_cosine_tf_idf': 0.8773479060738715, 'diff_minEdit': 0.5224850204982656, 'diff_simple': 0.3962586165051779, 'sing_LoughranMcDonald': -0.004187813551706719, '0': {'type': '10-Q', 'published': datetime.date(2011, 8, 9), 'qtr': (2011, 3)}}\n",
      "[INFO] Comparing current qtr (2011, 4) to qtr (2011, 3) from 1 quarter ago.\n",
      "[INFO] Comparing current qtr (2012, 2) to qtr (2012, 1) from 1 quarter ago.\n",
      "{'diff_jaccard': 0.9757674021262128, 'diff_cosine_tf': 0.9992051623437115, 'diff_cosine_tf_idf': 0.9986408855705704, 'diff_minEdit': 1.0, 'diff_simple': 1.0, 'sing_LoughranMcDonald': -0.004097427427837187, '0': {'type': '10-Q', 'published': datetime.date(2011, 11, 9), 'qtr': (2011, 4)}}\n",
      "[INFO] Comparing current qtr (2012, 1) to qtr (2011, 4) from 1 quarter ago.\n",
      "{'diff_jaccard': 0.43664455879243236, 'diff_cosine_tf': 0.8489887643690898, 'diff_cosine_tf_idf': 0.8268413987726045, 'diff_minEdit': 0.9042449045613841, 'diff_simple': 0.8598508889990791, 'sing_LoughranMcDonald': -0.002113859210715848, '0': {'type': '10-Q', 'published': datetime.date(2012, 4, 24), 'qtr': (2012, 2)}}\n",
      "[INFO] Comparing current qtr (2012, 3) to qtr (2012, 2) from 1 quarter ago.\n",
      "{'diff_jaccard': 0.5070906509112372, 'diff_cosine_tf': 0.7492599575273584, 'diff_cosine_tf_idf': 0.740180280860573, 'diff_minEdit': 0.8181269468945888, 'diff_simple': 0.7865192472103788, 'sing_LoughranMcDonald': -0.0022332398847733667, '0': {'type': '10-K', 'published': datetime.date(2012, 2, 29), 'qtr': (2012, 1)}}\n",
      "[INFO] Comparing current qtr (2012, 2) to qtr (2012, 1) from 1 quarter ago.\n",
      "{'diff_jaccard': 0.5534406582061171, 'diff_cosine_tf': 0.7535974169315762, 'diff_cosine_tf_idf': 0.745341971254205, 'diff_minEdit': 0.8080396878049438, 'diff_simple': 0.7936306262789734, 'sing_LoughranMcDonald': -0.0038110679189253802, '0': {'type': '10-Q', 'published': datetime.date(2012, 5, 10), 'qtr': (2012, 2)}}\n",
      "[INFO] Comparing current qtr (2012, 3) to qtr (2012, 2) from 1 quarter ago.\n",
      "{'diff_jaccard': 0.9603461515185892, 'diff_cosine_tf': 0.9988419159016044, 'diff_cosine_tf_idf': 0.9981380713153476, 'diff_minEdit': 1.0, 'diff_simple': 1.0, 'sing_LoughranMcDonald': -0.0038529456082401813, '0': {'type': '10-Q', 'published': datetime.date(2012, 8, 9), 'qtr': (2012, 3)}}\n",
      "[INFO] Comparing current qtr (2012, 4) to qtr (2012, 3) from 1 quarter ago.\n",
      "{'diff_jaccard': 0.7325779843117595, 'diff_cosine_tf': 0.9548699877335031, 'diff_cosine_tf_idf': 0.9497633875213319, 'diff_minEdit': 0.8031687869526882, 'diff_simple': 0.8207711693501437, 'sing_LoughranMcDonald': -0.0011509441961345354, '0': {'type': '10-Q', 'published': datetime.date(2012, 7, 27), 'qtr': (2012, 3)}}\n",
      "[INFO] Comparing current qtr (2012, 4) to qtr (2012, 3) from 1 quarter ago.\n",
      "{'diff_jaccard': 0.9900915349925493, 'diff_cosine_tf': 0.9997064146920978, 'diff_cosine_tf_idf': 0.9994205351461354, 'diff_minEdit': 0.9999999999999999, 'diff_simple': 0.9999999999999999, 'sing_LoughranMcDonald': -0.0038518011374681464, '0': {'type': '10-Q', 'published': datetime.date(2012, 11, 9), 'qtr': (2012, 4)}}\n"
     ]
    },
    {
     "name": "stderr",
     "output_type": "stream",
     "text": [
      " 73%|███████▎  | 73/100 [01:15<00:37,  1.39s/it]\n",
      "73it [01:15,  1.39s/it]\u001b[A"
     ]
    },
    {
     "name": "stdout",
     "output_type": "stream",
     "text": [
      "[ERROR] Here is full_sect: |[]|\n",
      "{'diff_jaccard': 0.7255540126953984, 'diff_cosine_tf': 0.9536687595459006, 'diff_cosine_tf_idf': 0.9492075997118175, 'diff_minEdit': 0.9849201242894978, 'diff_simple': 0.9606367291667013, 'sing_LoughranMcDonald': -0.002022163253712793, '0': {'type': '10-Q', 'published': datetime.date(2012, 10, 25), 'qtr': (2012, 4)}}\n",
      "[ERROR] Original res: {'1': [], '1a': [], '1b': [], '2': [], '3': [], '4': [], '5': [], '6': [], '7': [], '7a': [], '8': [], '9': [], '9a': [], '9b': [], '10': [], '11': [], '12': [], '13': [], '14': [], '15': []}\n",
      "[WARNING] /home/alex/Desktop/filtered_text_data/nd_data/2010/QTR1/20100330_10-K_edgar_data_745651_0001096906-10-000346_1.txt failed parsing\n",
      "[WARNING] /home/alex/Desktop/filtered_text_data/nd_data/2010/QTR4/20101112_10-Q_edgar_data_1474735_0001474735-10-000013_1.txt failed parsing\n",
      "This is the res {'_i_1': [(4677, 4727)], '_i_2': [], '_i_3': [(4349, 4373)], '_i_4': [(4428, 4447)], 'ii_1': [(4501, 4518)], 'ii_1a': [(4539, 4556)], 'ii_6': [(4573, 4593)]}\n"
     ]
    },
    {
     "name": "stderr",
     "output_type": "stream",
     "text": [
      " 75%|███████▌  | 75/100 [01:16<00:26,  1.08s/it]\n",
      " 76%|███████▌  | 76/100 [01:16<00:21,  1.10it/s]\n"
     ]
    },
    {
     "name": "stdout",
     "output_type": "stream",
     "text": [
      "[INFO] Comparing current qtr (2010, 2) to qtr (2010, 1) from 1 quarter ago.\n"
     ]
    },
    {
     "name": "stderr",
     "output_type": "stream",
     "text": [
      "\r",
      "76it [01:17,  1.10it/s]"
     ]
    },
    {
     "name": "stdout",
     "output_type": "stream",
     "text": [
      "This is the res {'_i_2': [(32928, 32947)], '_i_3': [(90270, 90291)], 'ii_1': [(97181, 97210)], 'ii_1a': [], 'ii_6': [(100094, 100129)]}\n"
     ]
    },
    {
     "name": "stderr",
     "output_type": "stream",
     "text": [
      "\u001b[A"
     ]
    },
    {
     "name": "stdout",
     "output_type": "stream",
     "text": [
      "[WARNING] /home/alex/Desktop/filtered_text_data/nd_data/2010/QTR2/20100514_10-Q_edgar_data_909494_0001104659-10-028433_1.txt failed parsing\n"
     ]
    },
    {
     "name": "stderr",
     "output_type": "stream",
     "text": [
      "\r",
      " 77%|███████▋  | 77/100 [01:17<00:19,  1.17it/s]"
     ]
    },
    {
     "name": "stdout",
     "output_type": "stream",
     "text": [
      "{'diff_jaccard': 0.004154205449703254, 'diff_cosine_tf': 0.2864171859524502, 'diff_cosine_tf_idf': 0.21941953658012114, 'diff_minEdit': 0.9429059377837711, 'diff_simple': 0.6371153411241498, 'sing_LoughranMcDonald': 0.0, '0': {'type': '10-Q', 'published': datetime.date(2010, 4, 30), 'qtr': (2010, 2)}}\n"
     ]
    },
    {
     "name": "stderr",
     "output_type": "stream",
     "text": [
      "\n"
     ]
    },
    {
     "name": "stdout",
     "output_type": "stream",
     "text": [
      "[INFO] Comparing current qtr (2010, 3) to qtr (2010, 2) from 1 quarter ago.\n"
     ]
    },
    {
     "name": "stderr",
     "output_type": "stream",
     "text": [
      "\r",
      "77it [01:17,  1.17it/s]"
     ]
    },
    {
     "name": "stdout",
     "output_type": "stream",
     "text": [
      "{'diff_jaccard': 0.7217171717171718, 'diff_cosine_tf': 0.8399999999999999, 'diff_cosine_tf_idf': 0.7464359212312635, 'diff_minEdit': 0.9166666666666667, 'diff_simple': 0.9730891556763649, 'sing_LoughranMcDonald': 0.0, '0': {'type': '10-Q', 'published': datetime.date(2010, 7, 30), 'qtr': (2010, 3)}}\n"
     ]
    },
    {
     "name": "stderr",
     "output_type": "stream",
     "text": [
      "\u001b[A"
     ]
    },
    {
     "name": "stdout",
     "output_type": "stream",
     "text": [
      "[INFO] Comparing current qtr (2010, 4) to qtr (2010, 3) from 1 quarter ago.\n",
      "[INFO] Comparing current qtr (2010, 2) to qtr (2010, 1) from 1 quarter ago.\n",
      "{'diff_jaccard': 0.7944444444444445, 'diff_cosine_tf': 0.8666666666666665, 'diff_cosine_tf_idf': 0.7958954792317016, 'diff_minEdit': 0.9333333333333333, 'diff_simple': 0.9716172942045035, 'sing_LoughranMcDonald': 0.0, '0': {'type': '10-Q', 'published': datetime.date(2010, 11, 1), 'qtr': (2010, 4)}}\n",
      "[INFO] Comparing current qtr (2011, 1) to qtr (2010, 4) from 1 quarter ago.\n",
      "{'diff_jaccard': 0.005310527093584398, 'diff_cosine_tf': 0.34070909194154964, 'diff_cosine_tf_idf': 0.2604396024921343, 'diff_minEdit': 0.9472946425226074, 'diff_simple': 0.6983400035587898, 'sing_LoughranMcDonald': 0.0, '0': {'type': '10-Q', 'published': datetime.date(2010, 4, 28), 'qtr': (2010, 2)}}\n",
      "[INFO] Comparing current qtr (2010, 3) to qtr (2010, 2) from 1 quarter ago.\n",
      "{'diff_jaccard': 0.7297979797979798, 'diff_cosine_tf': 0.8405529953917048, 'diff_cosine_tf_idf': 0.7466257225460292, 'diff_minEdit': 0.9170506912442397, 'diff_simple': 0.9734737932318576, 'sing_LoughranMcDonald': 0.0, '0': {'type': '10-Q', 'published': datetime.date(2010, 7, 28), 'qtr': (2010, 3)}}\n",
      "[INFO] Comparing current qtr (2010, 4) to qtr (2010, 3) from 1 quarter ago.\n",
      "{'diff_jaccard': 0.7297979797979798, 'diff_cosine_tf': 0.8405529953917048, 'diff_cosine_tf_idf': 0.7466257225460292, 'diff_minEdit': 0.9170506912442397, 'diff_simple': 0.9734737932318576, 'sing_LoughranMcDonald': 0.0, '0': {'type': '10-Q', 'published': datetime.date(2010, 10, 27), 'qtr': (2010, 4)}}\n",
      "[INFO] Comparing current qtr (2011, 1) to qtr (2010, 4) from 1 quarter ago.\n",
      "{'diff_jaccard': 0.004214918611037565, 'diff_cosine_tf': 0.28041074963832635, 'diff_cosine_tf_idf': 0.2151202327680577, 'diff_minEdit': 0.9464835928821858, 'diff_simple': 0.627631918837117, 'sing_LoughranMcDonald': -0.0005571672498855159, '0': {'type': '10-K', 'published': datetime.date(2011, 2, 10), 'qtr': (2011, 1)}}\n",
      "[INFO] Comparing current qtr (2011, 2) to qtr (2011, 1) from 1 quarter ago.\n",
      "{'diff_jaccard': 0.005321412882527302, 'diff_cosine_tf': 0.328702057206318, 'diff_cosine_tf_idf': 0.2515854769812201, 'diff_minEdit': 0.9552426583432654, 'diff_simple': 0.6752310994276917, 'sing_LoughranMcDonald': -0.0006501581646708764, '0': {'type': '10-K', 'published': datetime.date(2011, 2, 23), 'qtr': (2011, 1)}}\n",
      "[INFO] Comparing current qtr (2011, 2) to qtr (2011, 1) from 1 quarter ago.\n",
      "{'diff_jaccard': 0.004214918611037565, 'diff_cosine_tf': 0.28078320053739236, 'diff_cosine_tf_idf': 0.21520914100011182, 'diff_minEdit': 0.94246688206091, 'diff_simple': 0.6302535482775766, 'sing_LoughranMcDonald': 0.0, '0': {'type': '10-Q', 'published': datetime.date(2011, 4, 29), 'qtr': (2011, 2)}}\n",
      "[INFO] Comparing current qtr (2011, 3) to qtr (2011, 2) from 1 quarter ago.\n"
     ]
    },
    {
     "name": "stderr",
     "output_type": "stream",
     "text": [
      "\r",
      " 78%|███████▊  | 78/100 [01:18<00:19,  1.16it/s]"
     ]
    },
    {
     "name": "stdout",
     "output_type": "stream",
     "text": [
      "{'diff_jaccard': 0.7217171717171718, 'diff_cosine_tf': 0.8399999999999999, 'diff_cosine_tf_idf': 0.7464359212312635, 'diff_minEdit': 0.9, 'diff_simple': 0.9683272509144601, 'sing_LoughranMcDonald': 0.0, '0': {'type': '10-Q', 'published': datetime.date(2011, 7, 29), 'qtr': (2011, 3)}}\n",
      "[INFO] Comparing current qtr (2011, 4) to qtr (2011, 3) from 1 quarter ago.\n",
      "{'diff_jaccard': 0.7217171717171718, 'diff_cosine_tf': 0.8399999999999999, 'diff_cosine_tf_idf': 0.7464359212312635, 'diff_minEdit': 0.9166666666666667, 'diff_simple': 0.9628016879761065, 'sing_LoughranMcDonald': 0.0, '0': {'type': '10-Q', 'published': datetime.date(2011, 10, 27), 'qtr': (2011, 4)}}\n",
      "[INFO] Comparing current qtr (2012, 1) to qtr (2011, 4) from 1 quarter ago.\n",
      "{'diff_jaccard': 0.005321412882527302, 'diff_cosine_tf': 0.32961221833907905, 'diff_cosine_tf_idf': 0.2522902943485526, 'diff_minEdit': 0.9492235921683297, 'diff_simple': 0.6778877907049046, 'sing_LoughranMcDonald': 0.0, '0': {'type': '10-Q', 'published': datetime.date(2011, 4, 27), 'qtr': (2011, 2)}}\n",
      "[INFO] Comparing current qtr (2011, 3) to qtr (2011, 2) from 1 quarter ago.\n",
      "{'diff_jaccard': 0.7297979797979798, 'diff_cosine_tf': 0.8405529953917048, 'diff_cosine_tf_idf': 0.7466257225460292, 'diff_minEdit': 0.9170506912442397, 'diff_simple': 0.9734737932318576, 'sing_LoughranMcDonald': 0.0, '0': {'type': '10-Q', 'published': datetime.date(2011, 7, 27), 'qtr': (2011, 3)}}\n",
      "[INFO] Comparing current qtr (2011, 4) to qtr (2011, 3) from 1 quarter ago.\n",
      "{'diff_jaccard': 0.7016890213611525, 'diff_cosine_tf': 0.8402810304449647, 'diff_cosine_tf_idf': 0.746532377637128, 'diff_minEdit': 0.8992974238875879, 'diff_simple': 0.96769036973955, 'sing_LoughranMcDonald': 0.0, '0': {'type': '10-Q', 'published': datetime.date(2011, 10, 26), 'qtr': (2011, 4)}}\n",
      "[INFO] Comparing current qtr (2012, 1) to qtr (2011, 4) from 1 quarter ago.\n",
      "{'diff_jaccard': 0.005299405712422658, 'diff_cosine_tf': 0.33408923388299905, 'diff_cosine_tf_idf': 0.25596047822522405, 'diff_minEdit': 0.9543937539820634, 'diff_simple': 0.678917045889203, 'sing_LoughranMcDonald': -0.00034038526020835233, '0': {'type': '10-K', 'published': datetime.date(2012, 2, 29), 'qtr': (2012, 1)}}\n",
      "[INFO] Comparing current qtr (2012, 2) to qtr (2012, 1) from 1 quarter ago.\n",
      "{'diff_jaccard': 0.004088492377571877, 'diff_cosine_tf': 0.2614870891520934, 'diff_cosine_tf_idf': 0.19958199086056316, 'diff_minEdit': 0.9464328691048867, 'diff_simple': 0.6082282484374348, 'sing_LoughranMcDonald': -0.000554175760850669, '0': {'type': '10-K', 'published': datetime.date(2012, 2, 13), 'qtr': (2012, 1)}}\n",
      "[INFO] Comparing current qtr (2012, 2) to qtr (2012, 1) from 1 quarter ago.\n",
      "{'diff_jaccard': 0.005297507611179201, 'diff_cosine_tf': 0.3340777476421441, 'diff_cosine_tf_idf': 0.25594958110783983, 'diff_minEdit': 0.9467472115124325, 'diff_simple': 0.6821414919958468, 'sing_LoughranMcDonald': 0.0, '0': {'type': '10-Q', 'published': datetime.date(2012, 4, 25), 'qtr': (2012, 2)}}\n",
      "[INFO] Comparing current qtr (2012, 3) to qtr (2012, 2) from 1 quarter ago.\n",
      "{'diff_jaccard': 0.7297979797979798, 'diff_cosine_tf': 0.8405529953917048, 'diff_cosine_tf_idf': 0.7466257225460292, 'diff_minEdit': 0.9170506912442397, 'diff_simple': 0.9630347251314992, 'sing_LoughranMcDonald': 0.0, '0': {'type': '10-Q', 'published': datetime.date(2012, 7, 25), 'qtr': (2012, 3)}}\n",
      "[INFO] Comparing current qtr (2012, 4) to qtr (2012, 3) from 1 quarter ago.\n",
      "{'diff_jaccard': 0.7297979797979798, 'diff_cosine_tf': 0.8405529953917048, 'diff_cosine_tf_idf': 0.7466257225460292, 'diff_minEdit': 0.8502304147465438, 'diff_simple': 0.9734737932318576, 'sing_LoughranMcDonald': 0.0, '0': {'type': '10-Q', 'published': datetime.date(2012, 10, 24), 'qtr': (2012, 4)}}\n",
      "{'diff_jaccard': 0.003984057824788113, 'diff_cosine_tf': 0.2631443155888102, 'diff_cosine_tf_idf': 0.20086942442981873, 'diff_minEdit': 0.9426087215103047, 'diff_simple': 0.6107241955854137, 'sing_LoughranMcDonald': 0.0, '0': {'type': '10-Q', 'published': datetime.date(2012, 4, 27), 'qtr': (2012, 2)}}\n",
      "[INFO] Comparing current qtr (2012, 3) to qtr (2012, 2) from 1 quarter ago.\n",
      "{'diff_jaccard': 0.7217171717171718, 'diff_cosine_tf': 0.8399999999999999, 'diff_cosine_tf_idf': 0.7464359212312635, 'diff_minEdit': 0.9166666666666667, 'diff_simple': 0.9730891556763649, 'sing_LoughranMcDonald': 0.0, '0': {'type': '10-Q', 'published': datetime.date(2012, 7, 27), 'qtr': (2012, 3)}}\n",
      "[INFO] Comparing current qtr (2012, 4) to qtr (2012, 3) from 1 quarter ago.\n",
      "{'diff_jaccard': 0.7217171717171718, 'diff_cosine_tf': 0.8399999999999999, 'diff_cosine_tf_idf': 0.7464359212312635, 'diff_minEdit': 0.9166666666666667, 'diff_simple': 0.9730891556763649, 'sing_LoughranMcDonald': 0.0, '0': {'type': '10-Q', 'published': datetime.date(2012, 10, 25), 'qtr': (2012, 4)}}\n"
     ]
    },
    {
     "name": "stderr",
     "output_type": "stream",
     "text": [
      "\n",
      " 79%|███████▉  | 79/100 [01:18<00:17,  1.19it/s]\n",
      "79it [01:18,  1.19it/s]\u001b[A"
     ]
    },
    {
     "name": "stdout",
     "output_type": "stream",
     "text": [
      "[INFO] Comparing current qtr (2010, 2) to qtr (2010, 1) from 1 quarter ago.\n",
      "{'diff_jaccard': 0.5655694879832811, 'diff_cosine_tf': 0.7182216249912478, 'diff_cosine_tf_idf': 0.6753514834508162, 'diff_minEdit': 0.8620689655172414, 'diff_simple': 0.8169966304340756, 'sing_LoughranMcDonald': 0.0, '0': {'type': '10-Q', 'published': datetime.date(2010, 5, 5), 'qtr': (2010, 2)}}\n",
      "[INFO] Comparing current qtr (2010, 3) to qtr (2010, 2) from 1 quarter ago.\n",
      "{'diff_jaccard': 0.7217171717171718, 'diff_cosine_tf': 0.8399999999999999, 'diff_cosine_tf_idf': 0.7464359212312635, 'diff_minEdit': 0.9166666666666667, 'diff_simple': 0.973279082029082, 'sing_LoughranMcDonald': 0.0, '0': {'type': '10-Q', 'published': datetime.date(2010, 7, 26), 'qtr': (2010, 3)}}\n",
      "[INFO] Comparing current qtr (2010, 4) to qtr (2010, 3) from 1 quarter ago.\n",
      "{'diff_jaccard': 0.0700287431408414, 'diff_cosine_tf': 0.31919456390780443, 'diff_cosine_tf_idf': 0.2331919458698423, 'diff_minEdit': 0.8296064400715564, 'diff_simple': 0.7137541383795325, 'sing_LoughranMcDonald': -0.005868143771446382, '0': {'type': '10-Q', 'published': datetime.date(2010, 11, 3), 'qtr': (2010, 4)}}\n",
      "[INFO] Comparing current qtr (2011, 1) to qtr (2010, 4) from 1 quarter ago.\n",
      "[INFO] Comparing current qtr (2010, 2) to qtr (2010, 1) from 1 quarter ago.\n",
      "{'diff_jaccard': 0.021406890780875647, 'diff_cosine_tf': 0.3327219777685993, 'diff_cosine_tf_idf': 0.2889905083991373, 'diff_minEdit': 0.7234609192777804, 'diff_simple': 0.5766461588738239, 'sing_LoughranMcDonald': -0.00123393379042588, '0': {'type': '10-K', 'published': datetime.date(2011, 3, 2), 'qtr': (2011, 1)}}\n",
      "[INFO] Comparing current qtr (2011, 2) to qtr (2011, 1) from 1 quarter ago.\n",
      "{'diff_jaccard': 0.23738837859656575, 'diff_cosine_tf': 0.7391671984062003, 'diff_cosine_tf_idf': 0.6987356926208832, 'diff_minEdit': 0.7996478124946371, 'diff_simple': 0.7458647177373956, 'sing_LoughranMcDonald': 5.416545135640766e-05, '0': {'type': '10-Q', 'published': datetime.date(2011, 5, 5), 'qtr': (2011, 2)}}\n",
      "[INFO] Comparing current qtr (2011, 3) to qtr (2011, 2) from 1 quarter ago.\n",
      "{'diff_jaccard': 0.6059509624631907, 'diff_cosine_tf': 0.9585852492524533, 'diff_cosine_tf_idf': 0.9506669878261351, 'diff_minEdit': 0.7680781314178418, 'diff_simple': 0.7449669124598223, 'sing_LoughranMcDonald': -0.001529894948747652, '0': {'type': '10-Q', 'published': datetime.date(2010, 4, 28), 'qtr': (2010, 2)}}\n",
      "[INFO] Comparing current qtr (2010, 3) to qtr (2010, 2) from 1 quarter ago.\n",
      "{'diff_jaccard': 0.6584651415807958, 'diff_cosine_tf': 0.9784483376495061, 'diff_cosine_tf_idf': 0.9713506395537866, 'diff_minEdit': 0.8363733338966223, 'diff_simple': 0.8442274138695843, 'sing_LoughranMcDonald': 8.579442898765523e-05, '0': {'type': '10-Q', 'published': datetime.date(2011, 8, 11), 'qtr': (2011, 3)}}\n",
      "[INFO] Comparing current qtr (2011, 4) to qtr (2011, 3) from 1 quarter ago.\n",
      "{'diff_jaccard': 0.7361637142352122, 'diff_cosine_tf': 0.9810688561208231, 'diff_cosine_tf_idf': 0.9730510477491734, 'diff_minEdit': 0.9999999999999999, 'diff_simple': 0.9999999999999999, 'sing_LoughranMcDonald': 0.00013336462308490574, '0': {'type': '10-Q', 'published': datetime.date(2011, 11, 7), 'qtr': (2011, 4)}}\n",
      "[INFO] Comparing current qtr (2012, 1) to qtr (2011, 4) from 1 quarter ago.\n",
      "{'diff_jaccard': 0.7746068716949001, 'diff_cosine_tf': 0.9917844655595159, 'diff_cosine_tf_idf': 0.9896265755549196, 'diff_minEdit': 0.9965942240584243, 'diff_simple': 0.9955554623962438, 'sing_LoughranMcDonald': -0.001138788886883105, '0': {'type': '10-Q', 'published': datetime.date(2010, 8, 6), 'qtr': (2010, 3)}}\n",
      "{'diff_jaccard': 0.2811858068784759, 'diff_cosine_tf': 0.7748420477958354, 'diff_cosine_tf_idf': 0.7380060489898611, 'diff_minEdit': 0.9142622529667216, 'diff_simple': 0.873958099147236, 'sing_LoughranMcDonald': -0.0008492879346466242, '0': {'type': '10-K', 'published': datetime.date(2012, 2, 27), 'qtr': (2012, 1)}}\n"
     ]
    },
    {
     "name": "stderr",
     "output_type": "stream",
     "text": [
      "\r",
      " 80%|████████  | 80/100 [01:20<00:22,  1.11s/it]"
     ]
    },
    {
     "name": "stdout",
     "output_type": "stream",
     "text": [
      "[INFO] Comparing current qtr (2012, 2) to qtr (2012, 1) from 1 quarter ago.\n",
      "{'diff_jaccard': 0.24084578701075257, 'diff_cosine_tf': 0.7450357768141191, 'diff_cosine_tf_idf': 0.7022953284419292, 'diff_minEdit': 0.9309855893823658, 'diff_simple': 0.8841219003366365, 'sing_LoughranMcDonald': -0.0036360504441866823, '0': {'type': '10-Q', 'published': datetime.date(2012, 5, 8), 'qtr': (2012, 2)}}\n",
      "[INFO] Comparing current qtr (2012, 3) to qtr (2012, 2) from 1 quarter ago.\n",
      "{'diff_jaccard': 0.7561940643490431, 'diff_cosine_tf': 0.9717165749647284, 'diff_cosine_tf_idf': 0.9637770559826814, 'diff_minEdit': 1.0, 'diff_simple': 1.0, 'sing_LoughranMcDonald': -0.002053689392701962, '0': {'type': '10-Q', 'published': datetime.date(2012, 8, 7), 'qtr': (2012, 3)}}\n",
      "[INFO] Comparing current qtr (2012, 4) to qtr (2012, 3) from 1 quarter ago.\n",
      "{'diff_jaccard': 0.6955382545244613, 'diff_cosine_tf': 0.9654747592514996, 'diff_cosine_tf_idf': 0.9496171922577354, 'diff_minEdit': 0.9993186026416492, 'diff_simple': 0.9994889519812369, 'sing_LoughranMcDonald': -0.0015364916282061309, '0': {'type': '10-Q', 'published': datetime.date(2012, 11, 7), 'qtr': (2012, 4)}}\n"
     ]
    },
    {
     "name": "stderr",
     "output_type": "stream",
     "text": [
      "\n",
      "80it [01:20,  1.11s/it]\u001b[A"
     ]
    },
    {
     "name": "stdout",
     "output_type": "stream",
     "text": [
      "[INFO] Comparing current qtr (2010, 2) to qtr (2010, 1) from 1 quarter ago.\n",
      "{'diff_jaccard': 0.44531392462369396, 'diff_cosine_tf': 0.870922756716235, 'diff_cosine_tf_idf': 0.8498881570197231, 'diff_minEdit': 0.863313160109101, 'diff_simple': 0.6343761798224148, 'sing_LoughranMcDonald': -0.0007000819214003464, '0': {'type': '10-Q', 'published': datetime.date(2010, 5, 14), 'qtr': (2010, 2)}}\n",
      "[INFO] Comparing current qtr (2010, 3) to qtr (2010, 2) from 1 quarter ago.\n",
      "{'diff_jaccard': 0.805530171606809, 'diff_cosine_tf': 0.9843762890524733, 'diff_cosine_tf_idf': 0.9814723994212738, 'diff_minEdit': 0.9996160035108251, 'diff_simple': 0.9997542422469281, 'sing_LoughranMcDonald': -0.0007283323072700991, '0': {'type': '10-Q', 'published': datetime.date(2010, 8, 13), 'qtr': (2010, 3)}}\n",
      "[INFO] Comparing current qtr (2010, 4) to qtr (2010, 3) from 1 quarter ago.\n",
      "{'diff_jaccard': 0.7775042057567145, 'diff_cosine_tf': 0.9896484868222194, 'diff_cosine_tf_idf': 0.9860107903453289, 'diff_minEdit': 0.9996251345499204, 'diff_simple': 0.9996901112279342, 'sing_LoughranMcDonald': -0.0007915641976555903, '0': {'type': '10-Q', 'published': datetime.date(2010, 11, 12), 'qtr': (2010, 4)}}\n",
      "[INFO] Comparing current qtr (2011, 1) to qtr (2010, 4) from 1 quarter ago.\n",
      "{'diff_jaccard': 0.4503082840839063, 'diff_cosine_tf': 0.8712178813038414, 'diff_cosine_tf_idf': 0.8508267853445626, 'diff_minEdit': 0.8665711032847685, 'diff_simple': 0.6512694884838905, 'sing_LoughranMcDonald': -0.00034625571119041506, '0': {'type': '10-K', 'published': datetime.date(2011, 3, 14), 'qtr': (2011, 1)}}\n",
      "[INFO] Comparing current qtr (2011, 2) to qtr (2011, 1) from 1 quarter ago.\n",
      "{'diff_jaccard': 0.44807999014472677, 'diff_cosine_tf': 0.876327892627314, 'diff_cosine_tf_idf': 0.8567362543185849, 'diff_minEdit': 0.8611461779466719, 'diff_simple': 0.6435262236585202, 'sing_LoughranMcDonald': -0.0007581307903142949, '0': {'type': '10-Q', 'published': datetime.date(2011, 5, 10), 'qtr': (2011, 2)}}\n",
      "[INFO] Comparing current qtr (2011, 3) to qtr (2011, 2) from 1 quarter ago.\n",
      "[INFO] Comparing current qtr (2010, 2) to qtr (2010, 1) from 1 quarter ago.\n",
      "{'diff_jaccard': 0.005774545557612069, 'diff_cosine_tf': 0.05460324992419133, 'diff_cosine_tf_idf': 0.03447501361689534, 'diff_minEdit': 0.6467733626297236, 'diff_simple': 0.19934091650813107, 'sing_LoughranMcDonald': -6.059711611228423e-05, '0': {'type': '10-Q', 'published': datetime.date(2010, 4, 28), 'qtr': (2010, 2)}}\n",
      "[INFO] Comparing current qtr (2010, 3) to qtr (2010, 2) from 1 quarter ago.\n",
      "{'diff_jaccard': 0.6586670909186838, 'diff_cosine_tf': 0.9509257326037847, 'diff_cosine_tf_idf': 0.941380064878686, 'diff_minEdit': 0.9984407390444969, 'diff_simple': 0.9963409342910861, 'sing_LoughranMcDonald': -0.0006274368903352114, '0': {'type': '10-Q', 'published': datetime.date(2011, 8, 9), 'qtr': (2011, 3)}}\n",
      "[INFO] Comparing current qtr (2011, 4) to qtr (2011, 3) from 1 quarter ago.\n",
      "{'diff_jaccard': 0.11309322396070022, 'diff_cosine_tf': 0.2391905473692863, 'diff_cosine_tf_idf': 0.21374757376130848, 'diff_minEdit': 0.7611549522324038, 'diff_simple': 0.3478211755040564, 'sing_LoughranMcDonald': -0.001625265783426702, '0': {'type': '10-Q', 'published': datetime.date(2010, 8, 9), 'qtr': (2010, 3)}}\n",
      "[INFO] Comparing current qtr (2010, 4) to qtr (2010, 3) from 1 quarter ago.\n",
      "{'diff_jaccard': 0.021275380117391995, 'diff_cosine_tf': 0.21259830552417514, 'diff_cosine_tf_idf': 0.15311666371031957, 'diff_minEdit': 0.8343692927135817, 'diff_simple': 0.5191651549070047, 'sing_LoughranMcDonald': 0.0, '0': {'type': '10-Q', 'published': datetime.date(2010, 10, 27), 'qtr': (2010, 4)}}\n",
      "[INFO] Comparing current qtr (2011, 1) to qtr (2010, 4) from 1 quarter ago.\n",
      "{'diff_jaccard': 0.003846361836795467, 'diff_cosine_tf': 0.2361063898446191, 'diff_cosine_tf_idf': 0.18241204416719434, 'diff_minEdit': 0.9305469814178985, 'diff_simple': 0.5117759576606239, 'sing_LoughranMcDonald': -0.0003162221256786409, '0': {'type': '10-K', 'published': datetime.date(2011, 3, 1), 'qtr': (2011, 1)}}\n",
      "[INFO] Comparing current qtr (2011, 2) to qtr (2011, 1) from 1 quarter ago.\n",
      "{'diff_jaccard': 0.7181345588208691, 'diff_cosine_tf': 0.9623757208248226, 'diff_cosine_tf_idf': 0.9540062577147228, 'diff_minEdit': 0.9971660766523934, 'diff_simple': 0.9981862890575318, 'sing_LoughranMcDonald': -0.0006330628782905562, '0': {'type': '10-Q', 'published': datetime.date(2011, 11, 8), 'qtr': (2011, 4)}}\n",
      "[INFO] Comparing current qtr (2012, 1) to qtr (2011, 4) from 1 quarter ago.\n",
      "[INFO] Comparing current qtr (2010, 2) to qtr (2010, 1) from 1 quarter ago.\n",
      "{'diff_jaccard': 0.004313869404057946, 'diff_cosine_tf': 0.23692813482820194, 'diff_cosine_tf_idf': 0.1834519491327398, 'diff_minEdit': 0.9492111068882033, 'diff_simple': 0.5149180423903419, 'sing_LoughranMcDonald': 0.0, '0': {'type': '10-Q', 'published': datetime.date(2011, 4, 29), 'qtr': (2011, 2)}}\n",
      "[INFO] Comparing current qtr (2011, 3) to qtr (2011, 2) from 1 quarter ago.\n",
      "[INFO] Comparing current qtr (2010, 2) to qtr (2010, 1) from 1 quarter ago.\n",
      "{'diff_jaccard': 0.7944444444444445, 'diff_cosine_tf': 0.8666666666666665, 'diff_cosine_tf_idf': 0.7958954792317016, 'diff_minEdit': 0.9, 'diff_simple': 0.9731042568542568, 'sing_LoughranMcDonald': 0.0, '0': {'type': '10-Q', 'published': datetime.date(2011, 8, 5), 'qtr': (2011, 3)}}\n",
      "[INFO] Comparing current qtr (2011, 4) to qtr (2011, 3) from 1 quarter ago.\n",
      "{'diff_jaccard': 0.7217171717171718, 'diff_cosine_tf': 0.8399999999999999, 'diff_cosine_tf_idf': 0.7464359212312635, 'diff_minEdit': 0.9, 'diff_simple': 0.973279082029082, 'sing_LoughranMcDonald': 0.0, '0': {'type': '10-Q', 'published': datetime.date(2011, 11, 3), 'qtr': (2011, 4)}}\n",
      "[INFO] Comparing current qtr (2012, 1) to qtr (2011, 4) from 1 quarter ago.\n",
      "{'diff_jaccard': 0.3325307346341138, 'diff_cosine_tf': 0.8021656077060821, 'diff_cosine_tf_idf': 0.7811093234534501, 'diff_minEdit': 0.6842981528778986, 'diff_simple': 0.6841897259588104, 'sing_LoughranMcDonald': -0.0016713564473626716, '0': {'type': '10-Q', 'published': datetime.date(2010, 5, 10), 'qtr': (2010, 2)}}\n",
      "[INFO] Comparing current qtr (2010, 3) to qtr (2010, 2) from 1 quarter ago.\n",
      "{'diff_jaccard': 0.5684275760932476, 'diff_cosine_tf': 0.9287915168024243, 'diff_cosine_tf_idf': 0.9220458395315936, 'diff_minEdit': 0.809298548972763, 'diff_simple': 0.8057076646931176, 'sing_LoughranMcDonald': -0.000282526611490828, '0': {'type': '10-Q', 'published': datetime.date(2010, 5, 6), 'qtr': (2010, 2)}}\n",
      "[INFO] Comparing current qtr (2010, 3) to qtr (2010, 2) from 1 quarter ago.\n",
      "{'diff_jaccard': 0.004065226216315869, 'diff_cosine_tf': 0.258432847672276, 'diff_cosine_tf_idf': 0.20127706152271552, 'diff_minEdit': 0.9517569580912797, 'diff_simple': 0.5349536274699535, 'sing_LoughranMcDonald': -0.0002605646554613046, '0': {'type': '10-K', 'published': datetime.date(2012, 2, 28), 'qtr': (2012, 1)}}\n",
      "[INFO] Comparing current qtr (2012, 2) to qtr (2012, 1) from 1 quarter ago.\n",
      "{'diff_jaccard': 0.8104397399853623, 'diff_cosine_tf': 0.9910064494003981, 'diff_cosine_tf_idf': 0.9900217503008883, 'diff_minEdit': 1.0, 'diff_simple': 1.0, 'sing_LoughranMcDonald': -0.0016991443631170432, '0': {'type': '10-Q', 'published': datetime.date(2010, 8, 9), 'qtr': (2010, 3)}}\n",
      "[INFO] Comparing current qtr (2010, 4) to qtr (2010, 3) from 1 quarter ago.\n",
      "{'diff_jaccard': 0.46624913668306756, 'diff_cosine_tf': 0.8773351427189039, 'diff_cosine_tf_idf': 0.855264464081292, 'diff_minEdit': 0.884359627872211, 'diff_simple': 0.6922949944166626, 'sing_LoughranMcDonald': -0.000282396763194983, '0': {'type': '10-K', 'published': datetime.date(2012, 3, 9), 'qtr': (2012, 1)}}\n",
      "[INFO] Comparing current qtr (2012, 2) to qtr (2012, 1) from 1 quarter ago.\n",
      "{'diff_jaccard': 0.7630980678363019, 'diff_cosine_tf': 0.9769019152415354, 'diff_cosine_tf_idf': 0.9722927412231211, 'diff_minEdit': 1.0, 'diff_simple': 1.0, 'sing_LoughranMcDonald': -0.0002504479727948054, '0': {'type': '10-Q', 'published': datetime.date(2010, 8, 5), 'qtr': (2010, 3)}}\n",
      "[INFO] Comparing current qtr (2010, 4) to qtr (2010, 3) from 1 quarter ago.\n",
      "{'diff_jaccard': 0.28280711934697766, 'diff_cosine_tf': 0.7622407103266307, 'diff_cosine_tf_idf': 0.7275343901829817, 'diff_minEdit': 0.8433920562147156, 'diff_simple': 0.6752645881006865, 'sing_LoughranMcDonald': -0.00014474307949239584, '0': {'type': '10-Q', 'published': datetime.date(2012, 4, 27), 'qtr': (2012, 2)}}\n"
     ]
    },
    {
     "name": "stdout",
     "output_type": "stream",
     "text": [
      "[INFO] Comparing current qtr (2012, 3) to qtr (2012, 2) from 1 quarter ago.\n",
      "{'diff_jaccard': 0.512087651574892, 'diff_cosine_tf': 0.8024840147913211, 'diff_cosine_tf_idf': 0.7796078937435416, 'diff_minEdit': 0.9059675098301513, 'diff_simple': 0.7833491426486684, 'sing_LoughranMcDonald': -0.0007625931998052718, '0': {'type': '10-Q', 'published': datetime.date(2010, 11, 9), 'qtr': (2010, 4)}}\n",
      "[INFO] Comparing current qtr (2011, 1) to qtr (2010, 4) from 1 quarter ago.\n",
      "{'diff_jaccard': 0.03749286146748524, 'diff_cosine_tf': 0.34001203587862927, 'diff_cosine_tf_idf': 0.2979156590702702, 'diff_minEdit': 0.7322860194813591, 'diff_simple': 0.2721084506912835, 'sing_LoughranMcDonald': -0.007659403130439562, '0': {'type': '10-Q', 'published': datetime.date(2012, 5, 8), 'qtr': (2012, 2)}}\n",
      "[INFO] Comparing current qtr (2012, 3) to qtr (2012, 2) from 1 quarter ago.\n",
      "{'diff_jaccard': 0.00411282770913903, 'diff_cosine_tf': 0.2445598908858522, 'diff_cosine_tf_idf': 0.1878625317230517, 'diff_minEdit': 0.8996704848764245, 'diff_simple': 0.5057975784183728, 'sing_LoughranMcDonald': 0.0, '0': {'type': '10-K', 'published': datetime.date(2011, 3, 15), 'qtr': (2011, 1)}}\n",
      "[INFO] Comparing current qtr (2011, 2) to qtr (2011, 1) from 1 quarter ago.\n",
      "{'diff_jaccard': 0.6960381929302895, 'diff_cosine_tf': 0.9807892026070677, 'diff_cosine_tf_idf': 0.9786927229011286, 'diff_minEdit': 0.9964151905686657, 'diff_simple': 0.9974189372094393, 'sing_LoughranMcDonald': -9.787445923946268e-05, '0': {'type': '10-Q', 'published': datetime.date(2012, 8, 2), 'qtr': (2012, 3)}}\n",
      "[INFO] Comparing current qtr (2012, 4) to qtr (2012, 3) from 1 quarter ago.\n",
      "{'diff_jaccard': 0.7933507750610697, 'diff_cosine_tf': 0.9870219903226307, 'diff_cosine_tf_idf': 0.9851615094927937, 'diff_minEdit': 1.0, 'diff_simple': 1.0, 'sing_LoughranMcDonald': -0.00023452621987667233, '0': {'type': '10-Q', 'published': datetime.date(2010, 11, 8), 'qtr': (2010, 4)}}\n",
      "{'diff_jaccard': 0.008430545672662916, 'diff_cosine_tf': 0.4724380045253467, 'diff_cosine_tf_idf': 0.37154495053913356, 'diff_minEdit': 0.8881642130668967, 'diff_simple': 0.8158389558978494, 'sing_LoughranMcDonald': -0.0013152564161184647, '0': {'type': '10-Q', 'published': datetime.date(2011, 5, 10), 'qtr': (2011, 2)}}\n",
      "[INFO] Comparing current qtr (2011, 1) to qtr (2010, 4) from 1 quarter ago.\n",
      "[INFO] Comparing current qtr (2011, 3) to qtr (2011, 2) from 1 quarter ago.\n",
      "{'diff_jaccard': 0.00933470207388306, 'diff_cosine_tf': 0.4719668177884293, 'diff_cosine_tf_idf': 0.37147752254972266, 'diff_minEdit': 0.8833309433806141, 'diff_simple': 0.8186706992034005, 'sing_LoughranMcDonald': 0.0, '0': {'type': '10-Q', 'published': datetime.date(2011, 8, 2), 'qtr': (2011, 3)}}\n",
      "[INFO] Comparing current qtr (2011, 4) to qtr (2011, 3) from 1 quarter ago.\n",
      "{'diff_jaccard': 0.7568137648683377, 'diff_cosine_tf': 0.9908503451313242, 'diff_cosine_tf_idf': 0.9890348372423775, 'diff_minEdit': 0.9965544834078607, 'diff_simple': 0.9967841845140033, 'sing_LoughranMcDonald': -0.00010425004598406143, '0': {'type': '10-Q', 'published': datetime.date(2012, 11, 1), 'qtr': (2012, 4)}}\n"
     ]
    },
    {
     "name": "stderr",
     "output_type": "stream",
     "text": [
      " 82%|████████▏ | 82/100 [01:25<00:27,  1.54s/it]\n",
      "82it [01:25,  1.54s/it]\u001b[A"
     ]
    },
    {
     "name": "stdout",
     "output_type": "stream",
     "text": [
      "{'diff_jaccard': 0.11340305460715112, 'diff_cosine_tf': 0.1872314868530556, 'diff_cosine_tf_idf': 0.1593091798948582, 'diff_minEdit': 0.5345457569311195, 'diff_simple': 0.3589627998054431, 'sing_LoughranMcDonald': -0.000520719198075848, '0': {'type': '10-Q', 'published': datetime.date(2012, 8, 7), 'qtr': (2012, 3)}}\n",
      "[INFO] Comparing current qtr (2012, 4) to qtr (2012, 3) from 1 quarter ago.\n",
      "[INFO] Comparing current qtr (2011, 3) to qtr (2011, 2) from 1 quarter ago.\n",
      "{'diff_jaccard': 0.00909651544503619, 'diff_cosine_tf': 0.47380908489642276, 'diff_cosine_tf_idf': 0.37306454165877756, 'diff_minEdit': 0.9181199735772704, 'diff_simple': 0.8201390874341726, 'sing_LoughranMcDonald': -0.0018600096978893086, '0': {'type': '10-Q', 'published': datetime.date(2011, 11, 1), 'qtr': (2011, 4)}}\n"
     ]
    },
    {
     "name": "stderr",
     "output_type": "stream",
     "text": [
      "\r",
      " 83%|████████▎ | 83/100 [01:26<00:23,  1.38s/it]"
     ]
    },
    {
     "name": "stdout",
     "output_type": "stream",
     "text": [
      "[INFO] Comparing current qtr (2012, 1) to qtr (2011, 4) from 1 quarter ago.\n"
     ]
    },
    {
     "name": "stderr",
     "output_type": "stream",
     "text": [
      "\n"
     ]
    },
    {
     "name": "stdout",
     "output_type": "stream",
     "text": [
      "{'diff_jaccard': 0.5747780444206723, 'diff_cosine_tf': 0.9333282498286973, 'diff_cosine_tf_idf': 0.9250046412141246, 'diff_minEdit': 0.7731883500073182, 'diff_simple': 0.8156734819685606, 'sing_LoughranMcDonald': -0.0002554853753763682, '0': {'type': '10-K', 'published': datetime.date(2011, 3, 8), 'qtr': (2011, 1)}}\n"
     ]
    },
    {
     "name": "stderr",
     "output_type": "stream",
     "text": [
      "\r",
      "83it [01:26,  1.38s/it]"
     ]
    },
    {
     "name": "stdout",
     "output_type": "stream",
     "text": [
      "[INFO] Comparing current qtr (2011, 2) to qtr (2011, 1) from 1 quarter ago.\n",
      "{'diff_jaccard': 0.7991336981095758, 'diff_cosine_tf': 0.98986409824501, 'diff_cosine_tf_idf': 0.9865956130632956, 'diff_minEdit': 0.9994097091046468, 'diff_simple': 0.9995844352096713, 'sing_LoughranMcDonald': -0.0005310358780665279, '0': {'type': '10-Q', 'published': datetime.date(2012, 11, 8), 'qtr': (2012, 4)}}\n",
      "{'diff_jaccard': 0.2925444550850154, 'diff_cosine_tf': 0.7719854029792215, 'diff_cosine_tf_idf': 0.7446070564592119, 'diff_minEdit': 0.7408939658565034, 'diff_simple': 0.6452365422721268, 'sing_LoughranMcDonald': -0.0008041887238108397, '0': {'type': '10-K', 'published': datetime.date(2012, 3, 13), 'qtr': (2012, 1)}}\n",
      "[INFO] Comparing current qtr (2012, 2) to qtr (2012, 1) from 1 quarter ago.\n",
      "{'diff_jaccard': 0.5537586409160703, 'diff_cosine_tf': 0.926806079480706, 'diff_cosine_tf_idf': 0.9185337103275059, 'diff_minEdit': 0.8385243160033627, 'diff_simple': 0.8744703815261045, 'sing_LoughranMcDonald': -0.00033194790443492704, '0': {'type': '10-Q', 'published': datetime.date(2011, 5, 5), 'qtr': (2011, 2)}}\n",
      "{'diff_jaccard': 0.29912446344962185, 'diff_cosine_tf': 0.767035031895244, 'diff_cosine_tf_idf': 0.7393783568925507, 'diff_minEdit': 0.7606054295509067, 'diff_simple': 0.6332879352973222, 'sing_LoughranMcDonald': -0.0019710035944613975, '0': {'type': '10-Q', 'published': datetime.date(2012, 5, 4), 'qtr': (2012, 2)}}\n",
      "[INFO] Comparing current qtr (2012, 3) to qtr (2012, 2) from 1 quarter ago.\n"
     ]
    },
    {
     "name": "stderr",
     "output_type": "stream",
     "text": [
      "\u001b[A"
     ]
    },
    {
     "name": "stdout",
     "output_type": "stream",
     "text": [
      "{'diff_jaccard': 0.8194869580993374, 'diff_cosine_tf': 0.9788568548197479, 'diff_cosine_tf_idf': 0.9750393312769382, 'diff_minEdit': 1.0, 'diff_simple': 1.0, 'sing_LoughranMcDonald': -0.0002695736690250868, '0': {'type': '10-Q', 'published': datetime.date(2011, 8, 9), 'qtr': (2011, 3)}}\n",
      "{'diff_jaccard': 0.5269261833383582, 'diff_cosine_tf': 0.7493228650360719, 'diff_cosine_tf_idf': 0.7185782391247112, 'diff_minEdit': 0.872538975222894, 'diff_simple': 0.7204837353396769, 'sing_LoughranMcDonald': -0.0010888176570733176, '0': {'type': '10-Q', 'published': datetime.date(2012, 8, 7), 'qtr': (2012, 3)}}\n"
     ]
    },
    {
     "name": "stderr",
     "output_type": "stream",
     "text": [
      "\r",
      " 84%|████████▍ | 84/100 [01:27<00:19,  1.24s/it]"
     ]
    },
    {
     "name": "stdout",
     "output_type": "stream",
     "text": [
      "[INFO] Comparing current qtr (2012, 4) to qtr (2012, 3) from 1 quarter ago.\n"
     ]
    },
    {
     "name": "stderr",
     "output_type": "stream",
     "text": [
      "\n"
     ]
    },
    {
     "name": "stdout",
     "output_type": "stream",
     "text": [
      "[INFO] Comparing current qtr (2011, 4) to qtr (2011, 3) from 1 quarter ago.\n"
     ]
    },
    {
     "name": "stderr",
     "output_type": "stream",
     "text": [
      "\r",
      "84it [01:27,  1.24s/it]"
     ]
    },
    {
     "name": "stdout",
     "output_type": "stream",
     "text": [
      "{'diff_jaccard': 0.8024445407820275, 'diff_cosine_tf': 0.9847688382048728, 'diff_cosine_tf_idf': 0.9745665813602911, 'diff_minEdit': 0.9998723916359589, 'diff_simple': 0.9997575441083218, 'sing_LoughranMcDonald': -0.0002736600925003539, '0': {'type': '10-Q', 'published': datetime.date(2011, 11, 7), 'qtr': (2011, 4)}}\n"
     ]
    },
    {
     "name": "stderr",
     "output_type": "stream",
     "text": [
      "\u001b[A"
     ]
    },
    {
     "name": "stdout",
     "output_type": "stream",
     "text": [
      "[INFO] Comparing current qtr (2012, 1) to qtr (2011, 4) from 1 quarter ago.\n",
      "{'diff_jaccard': 0.7696900756236358, 'diff_cosine_tf': 0.9704288625403035, 'diff_cosine_tf_idf': 0.9673163496809644, 'diff_minEdit': 0.9889523349954426, 'diff_simple': 0.985723017532572, 'sing_LoughranMcDonald': -0.0006818390374425132, '0': {'type': '10-Q', 'published': datetime.date(2012, 11, 6), 'qtr': (2012, 4)}}\n",
      "{'diff_jaccard': 0.5585471192832835, 'diff_cosine_tf': 0.8984926638934155, 'diff_cosine_tf_idf': 0.8817252310207733, 'diff_minEdit': 0.8059216993951819, 'diff_simple': 0.8529620428987366, 'sing_LoughranMcDonald': -0.00028344272953165185, '0': {'type': '10-K', 'published': datetime.date(2012, 3, 7), 'qtr': (2012, 1)}}\n",
      "[INFO] Comparing current qtr (2012, 2) to qtr (2012, 1) from 1 quarter ago.\n",
      "{'diff_jaccard': 0.5394487260327285, 'diff_cosine_tf': 0.8892904518936507, 'diff_cosine_tf_idf': 0.8767101429461606, 'diff_minEdit': 0.7993310356949537, 'diff_simple': 0.8497885728668514, 'sing_LoughranMcDonald': -0.0003206513865947993, '0': {'type': '10-Q', 'published': datetime.date(2012, 5, 8), 'qtr': (2012, 2)}}\n",
      "[INFO] Comparing current qtr (2012, 3) to qtr (2012, 2) from 1 quarter ago.\n",
      "{'diff_jaccard': 0.8152137549227324, 'diff_cosine_tf': 0.9703058374804447, 'diff_cosine_tf_idf': 0.9651034295338612, 'diff_minEdit': 1.0, 'diff_simple': 1.0, 'sing_LoughranMcDonald': -0.0002880229654124264, '0': {'type': '10-Q', 'published': datetime.date(2012, 8, 7), 'qtr': (2012, 3)}}\n",
      "[INFO] Comparing current qtr (2012, 4) to qtr (2012, 3) from 1 quarter ago.\n",
      "{'diff_jaccard': 0.7946104559313047, 'diff_cosine_tf': 0.9845840874836496, 'diff_cosine_tf_idf': 0.9779592360240672, 'diff_minEdit': 0.9999999999999999, 'diff_simple': 0.9999999999999999, 'sing_LoughranMcDonald': -0.00024743437135359186, '0': {'type': '10-Q', 'published': datetime.date(2012, 11, 7), 'qtr': (2012, 4)}}\n"
     ]
    },
    {
     "name": "stderr",
     "output_type": "stream",
     "text": [
      " 85%|████████▌ | 85/100 [01:28<00:18,  1.21s/it]\n",
      "85it [01:28,  1.21s/it]\u001b[A"
     ]
    },
    {
     "name": "stdout",
     "output_type": "stream",
     "text": [
      "[INFO] Comparing current qtr (2010, 2) to qtr (2010, 1) from 1 quarter ago.\n",
      "{'diff_jaccard': 0.47028264877001835, 'diff_cosine_tf': 0.8400428721213844, 'diff_cosine_tf_idf': 0.8159594764550744, 'diff_minEdit': 0.8431730857362835, 'diff_simple': 0.7919667660250979, 'sing_LoughranMcDonald': -0.0010420314425881151, '0': {'type': '10-Q', 'published': datetime.date(2010, 5, 5), 'qtr': (2010, 2)}}\n",
      "[INFO] Comparing current qtr (2010, 3) to qtr (2010, 2) from 1 quarter ago.\n",
      "This is the res {'_i_1': [(5090, 5108)], '_i_2': [], '_i_3': [(4535, 4556), (158699, 158723)], '_i_4': [(4614, 4631), (161030, 161049)], 'ii_1': [(165805, 165864)], 'ii_1a': [(166214, 166262)], 'ii_2': [(4767, 4788), (167839, 167905)], 'ii_3': [(4847, 4864), (169512, 169574)], 'ii_5': [(169694, 169753)], 'ii_6': [(4976, 4995), (169810, 169872)]}\n",
      "[WARNING] /home/alex/Desktop/filtered_text_data/nd_data/2010/QTR3/20100805_10-Q_edgar_data_1130713_0001104659-10-042456_1.txt failed parsing\n"
     ]
    },
    {
     "name": "stderr",
     "output_type": "stream",
     "text": [
      " 86%|████████▌ | 86/100 [01:30<00:17,  1.25s/it]\n",
      "86it [01:29,  1.25s/it]\u001b[A"
     ]
    },
    {
     "name": "stdout",
     "output_type": "stream",
     "text": [
      "{'diff_jaccard': 0.8497546097836858, 'diff_cosine_tf': 0.9867711823253975, 'diff_cosine_tf_idf': 0.9859147785673805, 'diff_minEdit': 1.0, 'diff_simple': 1.0, 'sing_LoughranMcDonald': -0.0010272055691647965, '0': {'type': '10-Q', 'published': datetime.date(2010, 8, 3), 'qtr': (2010, 3)}}\n",
      "[INFO] Comparing current qtr (2010, 4) to qtr (2010, 3) from 1 quarter ago.\n",
      "[INFO] Comparing current qtr (2010, 2) to qtr (2010, 1) from 1 quarter ago.\n",
      "{'diff_jaccard': 0.8490834229355081, 'diff_cosine_tf': 0.9917238901971044, 'diff_cosine_tf_idf': 0.9888147146638926, 'diff_minEdit': 0.9996230456200471, 'diff_simple': 0.9996041979010495, 'sing_LoughranMcDonald': -0.0008970118349309808, '0': {'type': '10-Q', 'published': datetime.date(2010, 11, 4), 'qtr': (2010, 4)}}\n",
      "[INFO] Comparing current qtr (2011, 1) to qtr (2010, 4) from 1 quarter ago.\n",
      "{'diff_jaccard': 0.504357968533653, 'diff_cosine_tf': 0.8428584799868218, 'diff_cosine_tf_idf': 0.819556455383232, 'diff_minEdit': 0.7992827743154383, 'diff_simple': 0.8091143888147597, 'sing_LoughranMcDonald': -0.000430494886614389, '0': {'type': '10-K', 'published': datetime.date(2011, 2, 25), 'qtr': (2011, 1)}}\n",
      "[INFO] Comparing current qtr (2011, 2) to qtr (2011, 1) from 1 quarter ago.\n",
      "{'diff_jaccard': 0.7575533916381435, 'diff_cosine_tf': 0.9858518224633731, 'diff_cosine_tf_idf': 0.9843015915518264, 'diff_minEdit': 0.787276063886184, 'diff_simple': 0.6002104837077514, 'sing_LoughranMcDonald': -0.00039585738078865446, '0': {'type': '10-Q', 'published': datetime.date(2010, 5, 6), 'qtr': (2010, 2)}}\n",
      "[INFO] Comparing current qtr (2010, 3) to qtr (2010, 2) from 1 quarter ago.\n",
      "{'diff_jaccard': 0.46560805457201915, 'diff_cosine_tf': 0.8375364041309328, 'diff_cosine_tf_idf': 0.813312405092361, 'diff_minEdit': 0.8431246012504785, 'diff_simple': 0.7918700897192512, 'sing_LoughranMcDonald': -0.0009050013631541452, '0': {'type': '10-Q', 'published': datetime.date(2011, 5, 5), 'qtr': (2011, 2)}}\n",
      "[INFO] Comparing current qtr (2011, 3) to qtr (2011, 2) from 1 quarter ago.\n",
      "{'diff_jaccard': 0.8624394624205309, 'diff_cosine_tf': 0.9899826916209613, 'diff_cosine_tf_idf': 0.9890089147305207, 'diff_minEdit': 0.9980430158767056, 'diff_simple': 0.9996868825402729, 'sing_LoughranMcDonald': -0.00042936445874709354, '0': {'type': '10-Q', 'published': datetime.date(2010, 8, 9), 'qtr': (2010, 3)}}\n",
      "[INFO] Comparing current qtr (2010, 4) to qtr (2010, 3) from 1 quarter ago.\n",
      "{'diff_jaccard': 0.9192242720000193, 'diff_cosine_tf': 0.988358068224948, 'diff_cosine_tf_idf': 0.9881699323180991, 'diff_minEdit': 0.9999999999999999, 'diff_simple': 0.9999999999999999, 'sing_LoughranMcDonald': -0.0008502029857473657, '0': {'type': '10-Q', 'published': datetime.date(2011, 8, 5), 'qtr': (2011, 3)}}\n",
      "[INFO] Comparing current qtr (2011, 4) to qtr (2011, 3) from 1 quarter ago.\n",
      "{'diff_jaccard': 0.8929592405240052, 'diff_cosine_tf': 0.9790508449682468, 'diff_cosine_tf_idf': 0.977949991908456, 'diff_minEdit': 0.9936485257825692, 'diff_simple': 0.9889024284241666, 'sing_LoughranMcDonald': -0.0009254182018424924, '0': {'type': '10-Q', 'published': datetime.date(2011, 11, 4), 'qtr': (2011, 4)}}\n",
      "[INFO] Comparing current qtr (2012, 1) to qtr (2011, 4) from 1 quarter ago.\n",
      "{'diff_jaccard': 0.8280783903304322, 'diff_cosine_tf': 0.992239025688206, 'diff_cosine_tf_idf': 0.9912271240070613, 'diff_minEdit': 0.965996404491562, 'diff_simple': 0.9952394966288187, 'sing_LoughranMcDonald': -0.00041245190943415026, '0': {'type': '10-Q', 'published': datetime.date(2010, 11, 8), 'qtr': (2010, 4)}}\n",
      "[INFO] Comparing current qtr (2011, 1) to qtr (2010, 4) from 1 quarter ago.\n",
      "{'diff_jaccard': 0.5107998321507502, 'diff_cosine_tf': 0.8490126772203382, 'diff_cosine_tf_idf': 0.8241011327008358, 'diff_minEdit': 0.7960701772734403, 'diff_simple': 0.8110965852638184, 'sing_LoughranMcDonald': -0.0004856459798537615, '0': {'type': '10-K', 'published': datetime.date(2012, 2, 23), 'qtr': (2012, 1)}}\n",
      "[INFO] Comparing current qtr (2012, 2) to qtr (2012, 1) from 1 quarter ago.\n",
      "{'diff_jaccard': 0.7127948955035202, 'diff_cosine_tf': 0.9841740575847078, 'diff_cosine_tf_idf': 0.9816417175166272, 'diff_minEdit': 0.8818955782427944, 'diff_simple': 0.9063887917378156, 'sing_LoughranMcDonald': -0.0002956978210997439, '0': {'type': '10-K', 'published': datetime.date(2011, 3, 10), 'qtr': (2011, 1)}}\n",
      "[INFO] Comparing current qtr (2011, 2) to qtr (2011, 1) from 1 quarter ago.\n",
      "{'diff_jaccard': 0.46364424774095747, 'diff_cosine_tf': 0.8350239370261449, 'diff_cosine_tf_idf': 0.8097517421858199, 'diff_minEdit': 0.8364280573417496, 'diff_simple': 0.7808525285949938, 'sing_LoughranMcDonald': -0.0006112498847525439, '0': {'type': '10-Q', 'published': datetime.date(2012, 5, 8), 'qtr': (2012, 2)}}\n",
      "[INFO] Comparing current qtr (2012, 3) to qtr (2012, 2) from 1 quarter ago.\n",
      "[INFO] Comparing current qtr (2010, 2) to qtr (2010, 1) from 1 quarter ago.\n",
      "This is the res {'_i_1': [(4003, 4038)], '_i_2': [(38269, 38305)], '_i_3': [(84063, 84099)], '_i_4': [], 'ii_1': [(84640, 84670)], 'ii_1a': [(85400, 85430)], 'ii_2': [(86366, 86403)], 'ii_3': [(86557, 86590)], 'ii_5': [(86680, 86710)], 'ii_6': [(86767, 86800)]}\n",
      "[WARNING] /home/alex/Desktop/filtered_text_data/nd_data/2011/QTR2/20110516_10-Q_edgar_data_16614_0000950123-11-050561_1.txt failed parsing\n"
     ]
    },
    {
     "name": "stderr",
     "output_type": "stream",
     "text": [
      " 87%|████████▋ | 87/100 [01:32<00:21,  1.63s/it]\n",
      "87it [01:32,  1.63s/it]\u001b[A"
     ]
    },
    {
     "name": "stdout",
     "output_type": "stream",
     "text": [
      "[INFO] Comparing current qtr (2010, 2) to qtr (2010, 1) from 1 quarter ago.\n",
      "{'diff_jaccard': 0.8290093030363467, 'diff_cosine_tf': 0.9881626913556241, 'diff_cosine_tf_idf': 0.9876329986492995, 'diff_minEdit': 0.9912026328529582, 'diff_simple': 0.9730800565300524, 'sing_LoughranMcDonald': -0.0005613258722374375, '0': {'type': '10-Q', 'published': datetime.date(2012, 8, 14), 'qtr': (2012, 3)}}\n",
      "[INFO] Comparing current qtr (2012, 4) to qtr (2012, 3) from 1 quarter ago.\n",
      "{'diff_jaccard': 0.7220570369184276, 'diff_cosine_tf': 0.9842890373172011, 'diff_cosine_tf_idf': 0.9812397123220011, 'diff_minEdit': 0.8906950623851885, 'diff_simple': 0.9204793889935133, 'sing_LoughranMcDonald': -0.000342120173315773, '0': {'type': '10-Q', 'published': datetime.date(2011, 5, 9), 'qtr': (2011, 2)}}\n",
      "[INFO] Comparing current qtr (2011, 3) to qtr (2011, 2) from 1 quarter ago.\n",
      "{'diff_jaccard': 0.12739218620962256, 'diff_cosine_tf': 0.6441202298340019, 'diff_cosine_tf_idf': 0.5986648727764405, 'diff_minEdit': 0.777463268927284, 'diff_simple': 0.5738034100054276, 'sing_LoughranMcDonald': -0.0006528562696790105, '0': {'type': '10-Q', 'published': datetime.date(2010, 5, 5), 'qtr': (2010, 2)}}\n",
      "[INFO] Comparing current qtr (2010, 3) to qtr (2010, 2) from 1 quarter ago.\n",
      "{'diff_jaccard': 0.0026134643199125594, 'diff_cosine_tf': 0.08159122102551959, 'diff_cosine_tf_idf': 0.04883727149990846, 'diff_minEdit': 0.5460101615237049, 'diff_simple': 0.2378954682329184, 'sing_LoughranMcDonald': -0.0014324171422540441, '0': {'type': '10-Q', 'published': datetime.date(2010, 4, 22), 'qtr': (2010, 2)}}\n",
      "[INFO] Comparing current qtr (2010, 3) to qtr (2010, 2) from 1 quarter ago.\n",
      "{'diff_jaccard': 0.8713606989799737, 'diff_cosine_tf': 0.9903227254193427, 'diff_cosine_tf_idf': 0.9892480909194066, 'diff_minEdit': 0.9999999999999999, 'diff_simple': 0.9999999999999999, 'sing_LoughranMcDonald': -0.0005968817848292287, '0': {'type': '10-Q', 'published': datetime.date(2012, 11, 9), 'qtr': (2012, 4)}}\n",
      "{'diff_jaccard': 0.7027383571761511, 'diff_cosine_tf': 0.9677306995501095, 'diff_cosine_tf_idf': 0.9618804710233312, 'diff_minEdit': 0.9999999999999999, 'diff_simple': 0.9999999999999999, 'sing_LoughranMcDonald': -0.0004743236255812288, '0': {'type': '10-Q', 'published': datetime.date(2010, 8, 4), 'qtr': (2010, 3)}}\n",
      "[INFO] Comparing current qtr (2010, 4) to qtr (2010, 3) from 1 quarter ago.\n",
      "{'diff_jaccard': 0.6658227554690258, 'diff_cosine_tf': 0.9558076869167244, 'diff_cosine_tf_idf': 0.9440151334630538, 'diff_minEdit': 0.9929696919684404, 'diff_simple': 0.9981721199117946, 'sing_LoughranMcDonald': -0.0011014436425004223, '0': {'type': '10-Q', 'published': datetime.date(2010, 7, 23), 'qtr': (2010, 3)}}\n",
      "[INFO] Comparing current qtr (2010, 4) to qtr (2010, 3) from 1 quarter ago.\n",
      "{'diff_jaccard': 0.6915731472536688, 'diff_cosine_tf': 0.9806690284391535, 'diff_cosine_tf_idf': 0.9733113734462804, 'diff_minEdit': 0.999891333876664, 'diff_simple': 0.9999674001629991, 'sing_LoughranMcDonald': -0.000477197297898609, '0': {'type': '10-Q', 'published': datetime.date(2010, 11, 9), 'qtr': (2010, 4)}}\n",
      "{'diff_jaccard': 0.8976548727893834, 'diff_cosine_tf': 0.990682788805739, 'diff_cosine_tf_idf': 0.9902091801399661, 'diff_minEdit': 1.0, 'diff_simple': 1.0, 'sing_LoughranMcDonald': -0.0003067858732953487, '0': {'type': '10-Q', 'published': datetime.date(2011, 8, 8), 'qtr': (2011, 3)}}\n",
      "[INFO] Comparing current qtr (2011, 1) to qtr (2010, 4) from 1 quarter ago.\n",
      "[INFO] Comparing current qtr (2011, 4) to qtr (2011, 3) from 1 quarter ago.\n",
      "{'diff_jaccard': 0.522349723604354, 'diff_cosine_tf': 0.9503271046497227, 'diff_cosine_tf_idf': 0.936984744549241, 'diff_minEdit': 0.9954159705174526, 'diff_simple': 0.9935193283190485, 'sing_LoughranMcDonald': -0.0023397028536944363, '0': {'type': '10-Q', 'published': datetime.date(2010, 10, 21), 'qtr': (2010, 4)}}\n",
      "[INFO] Comparing current qtr (2011, 1) to qtr (2010, 4) from 1 quarter ago.\n",
      "[INFO] Comparing current qtr (2010, 2) to qtr (2010, 1) from 1 quarter ago.\n"
     ]
    },
    {
     "name": "stderr",
     "output_type": "stream",
     "text": [
      " 88%|████████▊ | 88/100 [01:33<00:17,  1.46s/it]\n",
      "88it [01:33,  1.46s/it]\u001b[A"
     ]
    },
    {
     "name": "stdout",
     "output_type": "stream",
     "text": [
      "{'diff_jaccard': 0.0022868539133277443, 'diff_cosine_tf': 0.15314666465411617, 'diff_cosine_tf_idf': 0.11431703250245784, 'diff_minEdit': 0.8118716477296387, 'diff_simple': 0.3843095430865022, 'sing_LoughranMcDonald': 0.0, '0': {'type': '10-Q', 'published': datetime.date(2010, 5, 7), 'qtr': (2010, 2)}}\n",
      "[INFO] Comparing current qtr (2010, 3) to qtr (2010, 2) from 1 quarter ago.\n",
      "{'diff_jaccard': 0.9011799988949805, 'diff_cosine_tf': 0.9931003994103557, 'diff_cosine_tf_idf': 0.9918819771281898, 'diff_minEdit': 1.0, 'diff_simple': 1.0, 'sing_LoughranMcDonald': -0.00036326147316584426, '0': {'type': '10-Q', 'published': datetime.date(2011, 11, 8), 'qtr': (2011, 4)}}\n",
      "[INFO] Comparing current qtr (2012, 1) to qtr (2011, 4) from 1 quarter ago.\n",
      "{'diff_jaccard': 0.2509932018182613, 'diff_cosine_tf': 0.9005014880625355, 'diff_cosine_tf_idf': 0.8877926904014131, 'diff_minEdit': 0.7061702305127079, 'diff_simple': 0.6213023455884215, 'sing_LoughranMcDonald': -0.00040033141593009275, '0': {'type': '10-K', 'published': datetime.date(2011, 2, 22), 'qtr': (2011, 1)}}\n",
      "[INFO] Comparing current qtr (2011, 2) to qtr (2011, 1) from 1 quarter ago.\n",
      "{'diff_jaccard': 0.0031463747059647038, 'diff_cosine_tf': 0.05923089753381475, 'diff_cosine_tf_idf': 0.03439991133483698, 'diff_minEdit': 0.7764715527615679, 'diff_simple': 0.17566016164470882, 'sing_LoughranMcDonald': -0.00045010696313257985, '0': {'type': '10-Q', 'published': datetime.date(2010, 8, 9), 'qtr': (2010, 3)}}\n",
      "[INFO] Comparing current qtr (2010, 4) to qtr (2010, 3) from 1 quarter ago.\n",
      "{'diff_jaccard': 0.1332623299713713, 'diff_cosine_tf': 0.6372934721374307, 'diff_cosine_tf_idf': 0.5932389540078331, 'diff_minEdit': 0.7711897497411162, 'diff_simple': 0.5631221606152745, 'sing_LoughranMcDonald': -0.0003174781275905156, '0': {'type': '10-K', 'published': datetime.date(2011, 3, 9), 'qtr': (2011, 1)}}\n",
      "[INFO] Comparing current qtr (2011, 2) to qtr (2011, 1) from 1 quarter ago.\n",
      "{'diff_jaccard': 0.22302080391510823, 'diff_cosine_tf': 0.8035137166218536, 'diff_cosine_tf_idf': 0.7781704182246828, 'diff_minEdit': 0.8362393072252785, 'diff_simple': 0.7822699435509639, 'sing_LoughranMcDonald': -0.002003697671235617, '0': {'type': '10-Q', 'published': datetime.date(2011, 4, 21), 'qtr': (2011, 2)}}\n",
      "[INFO] Comparing current qtr (2011, 3) to qtr (2011, 2) from 1 quarter ago.\n",
      "{'diff_jaccard': 0.6408965612822947, 'diff_cosine_tf': 0.982004987366201, 'diff_cosine_tf_idf': 0.9792031189161978, 'diff_minEdit': 0.8887296920773988, 'diff_simple': 0.91997860020141, 'sing_LoughranMcDonald': -0.00028881312989732344, '0': {'type': '10-K', 'published': datetime.date(2012, 3, 12), 'qtr': (2012, 1)}}\n",
      "[INFO] Comparing current qtr (2012, 2) to qtr (2012, 1) from 1 quarter ago.\n",
      "{'diff_jaccard': 0.6805917190646164, 'diff_cosine_tf': 0.9758114057649808, 'diff_cosine_tf_idf': 0.9731826717858502, 'diff_minEdit': 0.9269116855142703, 'diff_simple': 0.9473911947861867, 'sing_LoughranMcDonald': -0.00028450177771779234, '0': {'type': '10-Q', 'published': datetime.date(2010, 11, 9), 'qtr': (2010, 4)}}\n",
      "[INFO] Comparing current qtr (2011, 1) to qtr (2010, 4) from 1 quarter ago.\n",
      "{'diff_jaccard': 0.6009380357828661, 'diff_cosine_tf': 0.8969772569189318, 'diff_cosine_tf_idf': 0.8783602699718397, 'diff_minEdit': 0.9959176020901878, 'diff_simple': 0.9925972517902071, 'sing_LoughranMcDonald': -0.001447432897646108, '0': {'type': '10-Q', 'published': datetime.date(2011, 7, 26), 'qtr': (2011, 3)}}\n",
      "[INFO] Comparing current qtr (2011, 4) to qtr (2011, 3) from 1 quarter ago.\n",
      "{'diff_jaccard': 0.12323977054598387, 'diff_cosine_tf': 0.6403611867716104, 'diff_cosine_tf_idf': 0.5897389978178937, 'diff_minEdit': 0.7629092771690286, 'diff_simple': 0.555810248923549, 'sing_LoughranMcDonald': -0.0004966226112077495, '0': {'type': '10-Q', 'published': datetime.date(2011, 5, 9), 'qtr': (2011, 2)}}\n",
      "[INFO] Comparing current qtr (2011, 3) to qtr (2011, 2) from 1 quarter ago.\n",
      "{'diff_jaccard': 0.11157890656616959, 'diff_cosine_tf': 0.35274762187493586, 'diff_cosine_tf_idf': 0.31011450543023794, 'diff_minEdit': 0.686841476601202, 'diff_simple': 0.49819322617862283, 'sing_LoughranMcDonald': -0.005991058470202734, '0': {'type': '10-Q', 'published': datetime.date(2011, 10, 27), 'qtr': (2011, 4)}}\n",
      "[INFO] Comparing current qtr (2012, 1) to qtr (2011, 4) from 1 quarter ago.\n",
      "{'diff_jaccard': 0.766535741984437, 'diff_cosine_tf': 0.9565997327613662, 'diff_cosine_tf_idf': 0.9456773390154312, 'diff_minEdit': 1.0, 'diff_simple': 1.0, 'sing_LoughranMcDonald': -0.0004108922180462904, '0': {'type': '10-Q', 'published': datetime.date(2011, 8, 8), 'qtr': (2011, 3)}}\n",
      "[INFO] Comparing current qtr (2011, 4) to qtr (2011, 3) from 1 quarter ago.\n",
      "{'diff_jaccard': 0.7685104407573563, 'diff_cosine_tf': 0.9878854222583098, 'diff_cosine_tf_idf': 0.9864655004840134, 'diff_minEdit': 0.8888197092242573, 'diff_simple': 0.9194211059804033, 'sing_LoughranMcDonald': -0.00032568251439368833, '0': {'type': '10-Q', 'published': datetime.date(2012, 5, 7), 'qtr': (2012, 2)}}\n",
      "[INFO] Comparing current qtr (2012, 3) to qtr (2012, 2) from 1 quarter ago.\n",
      "{'diff_jaccard': 0.03155995953931339, 'diff_cosine_tf': 0.21821807635861767, 'diff_cosine_tf_idf': 0.16057429299702908, 'diff_minEdit': 0.838874301861493, 'diff_simple': 0.8006823214554168, 'sing_LoughranMcDonald': -0.03544423440453686, '0': {'type': '10-Q', 'published': datetime.date(2011, 11, 4), 'qtr': (2011, 4)}}\n",
      "[INFO] Comparing current qtr (2012, 1) to qtr (2011, 4) from 1 quarter ago.\n",
      "{'diff_jaccard': 0.1363430584375908, 'diff_cosine_tf': 0.7352281391915823, 'diff_cosine_tf_idf': 0.6960101643798394, 'diff_minEdit': 0.6948113399709244, 'diff_simple': 0.4621815563704708, 'sing_LoughranMcDonald': -0.0001413989074956512, '0': {'type': '10-K', 'published': datetime.date(2011, 3, 31), 'qtr': (2011, 1)}}\n",
      "[INFO] Comparing current qtr (2011, 2) to qtr (2011, 1) from 1 quarter ago.\n",
      "{'diff_jaccard': 0.09915318778386999, 'diff_cosine_tf': 0.36584698628872425, 'diff_cosine_tf_idf': 0.32148610139767847, 'diff_minEdit': 0.6167095900045183, 'diff_simple': 0.349192379152555, 'sing_LoughranMcDonald': -0.0004606906472016239, '0': {'type': '10-K', 'published': datetime.date(2012, 2, 22), 'qtr': (2012, 1)}}\n",
      "[INFO] Comparing current qtr (2012, 2) to qtr (2012, 1) from 1 quarter ago.\n",
      "{'diff_jaccard': 0.8796565868555095, 'diff_cosine_tf': 0.9893097863193999, 'diff_cosine_tf_idf': 0.9878720889222051, 'diff_minEdit': 1.0, 'diff_simple': 1.0, 'sing_LoughranMcDonald': -0.0003263027948177262, '0': {'type': '10-Q', 'published': datetime.date(2012, 8, 6), 'qtr': (2012, 3)}}\n",
      "[INFO] Comparing current qtr (2012, 4) to qtr (2012, 3) from 1 quarter ago.\n",
      "{'diff_jaccard': 0.031150347727126833, 'diff_cosine_tf': 0.5156437129413165, 'diff_cosine_tf_idf': 0.448260495173282, 'diff_minEdit': 0.7163682374144078, 'diff_simple': 0.4786074048559541, 'sing_LoughranMcDonald': -0.0005574573861683343, '0': {'type': '10-Q', 'published': datetime.date(2011, 5, 10), 'qtr': (2011, 2)}}\n",
      "[INFO] Comparing current qtr (2011, 3) to qtr (2011, 2) from 1 quarter ago.\n",
      "{'diff_jaccard': 0.30042422690505904, 'diff_cosine_tf': 0.9311769891527063, 'diff_cosine_tf_idf': 0.9204835630248052, 'diff_minEdit': 0.833178819380394, 'diff_simple': 0.7875368333679187, 'sing_LoughranMcDonald': -0.000721734924464471, '0': {'type': '10-Q', 'published': datetime.date(2012, 4, 27), 'qtr': (2012, 2)}}\n",
      "[INFO] Comparing current qtr (2012, 3) to qtr (2012, 2) from 1 quarter ago.\n",
      "{'diff_jaccard': 0.005199975992906391, 'diff_cosine_tf': 0.09684385227841319, 'diff_cosine_tf_idf': 0.0703447507018783, 'diff_minEdit': 0.8759362004593095, 'diff_simple': 0.40016103150054294, 'sing_LoughranMcDonald': -0.0003775549669381155, '0': {'type': '10-K', 'published': datetime.date(2012, 3, 14), 'qtr': (2012, 1)}}\n",
      "[INFO] Comparing current qtr (2012, 2) to qtr (2012, 1) from 1 quarter ago.\n",
      "{'diff_jaccard': 0.91474146179806, 'diff_cosine_tf': 0.9935865465881847, 'diff_cosine_tf_idf': 0.9931527524575459, 'diff_minEdit': 1.0, 'diff_simple': 1.0, 'sing_LoughranMcDonald': -0.0003052803129856079, '0': {'type': '10-Q', 'published': datetime.date(2012, 11, 9), 'qtr': (2012, 4)}}\n"
     ]
    },
    {
     "name": "stderr",
     "output_type": "stream",
     "text": [
      " 89%|████████▉ | 89/100 [01:35<00:18,  1.67s/it]\n",
      "89it [01:35,  1.67s/it]\u001b[A"
     ]
    },
    {
     "name": "stdout",
     "output_type": "stream",
     "text": [
      "{'diff_jaccard': 0.6261206383907617, 'diff_cosine_tf': 0.9063746105344102, 'diff_cosine_tf_idf': 0.8811074363355453, 'diff_minEdit': 0.9840002168936949, 'diff_simple': 0.9777069688718816, 'sing_LoughranMcDonald': -0.0014672339422912794, '0': {'type': '10-Q', 'published': datetime.date(2012, 7, 26), 'qtr': (2012, 3)}}\n",
      "[INFO] Comparing current qtr (2012, 4) to qtr (2012, 3) from 1 quarter ago.\n",
      "{'diff_jaccard': 0.7695328790844771, 'diff_cosine_tf': 0.9669712295310988, 'diff_cosine_tf_idf': 0.9636899702276365, 'diff_minEdit': 0.8672049461655993, 'diff_simple': 0.9254109853425131, 'sing_LoughranMcDonald': -0.00039732102109171004, '0': {'type': '10-Q', 'published': datetime.date(2011, 8, 9), 'qtr': (2011, 3)}}\n",
      "[INFO] Comparing current qtr (2011, 4) to qtr (2011, 3) from 1 quarter ago.\n"
     ]
    },
    {
     "name": "stderr",
     "output_type": "stream",
     "text": [
      "\r",
      " 90%|█████████ | 90/100 [01:36<00:14,  1.42s/it]"
     ]
    },
    {
     "name": "stdout",
     "output_type": "stream",
     "text": [
      "{'diff_jaccard': 0.6739432211381136, 'diff_cosine_tf': 0.9478104464608805, 'diff_cosine_tf_idf': 0.9314205533758853, 'diff_minEdit': 1.0, 'diff_simple': 1.0, 'sing_LoughranMcDonald': -0.0005312044472478358, '0': {'type': '10-Q', 'published': datetime.date(2012, 10, 25), 'qtr': (2012, 4)}}\n",
      "{'diff_jaccard': 0.15297931505024182, 'diff_cosine_tf': 0.8189176421650328, 'diff_cosine_tf_idf': 0.7971550788533754, 'diff_minEdit': 0.7485450197632744, 'diff_simple': 0.5700798759665582, 'sing_LoughranMcDonald': -0.0002533895994299094, '0': {'type': '10-Q', 'published': datetime.date(2012, 5, 10), 'qtr': (2012, 2)}}\n",
      "[INFO] Comparing current qtr (2012, 3) to qtr (2012, 2) from 1 quarter ago.\n",
      "[INFO] Comparing current qtr (2010, 2) to qtr (2010, 1) from 1 quarter ago.\n",
      "{'diff_jaccard': 0.10963763759060807, 'diff_cosine_tf': 0.6147866877527456, 'diff_cosine_tf_idf': 0.5651190740497729, 'diff_minEdit': 0.7820241067343687, 'diff_simple': 0.5904917723201414, 'sing_LoughranMcDonald': -0.000693471947150794, '0': {'type': '10-Q', 'published': datetime.date(2011, 11, 8), 'qtr': (2011, 4)}}\n",
      "[INFO] Comparing current qtr (2012, 1) to qtr (2011, 4) from 1 quarter ago.\n",
      "{'diff_jaccard': 0.7043622944511363, 'diff_cosine_tf': 0.9516045400633443, 'diff_cosine_tf_idf': 0.9402309809139858, 'diff_minEdit': 1.0, 'diff_simple': 1.0, 'sing_LoughranMcDonald': -0.0004564188862891744, '0': {'type': '10-Q', 'published': datetime.date(2012, 8, 8), 'qtr': (2012, 3)}}\n",
      "[INFO] Comparing current qtr (2012, 4) to qtr (2012, 3) from 1 quarter ago.\n",
      "{'diff_jaccard': 0.7143953067420244, 'diff_cosine_tf': 0.9690647500491821, 'diff_cosine_tf_idf': 0.9616859681349383, 'diff_minEdit': 0.9291370603564088, 'diff_simple': 0.9633874811841445, 'sing_LoughranMcDonald': -0.00028110160646221006, '0': {'type': '10-Q', 'published': datetime.date(2012, 11, 7), 'qtr': (2012, 4)}}\n",
      "{'diff_jaccard': 0.4388838800441568, 'diff_cosine_tf': 0.875693044253264, 'diff_cosine_tf_idf': 0.8619085606003092, 'diff_minEdit': 0.803817267631201, 'diff_simple': 0.7655287841482002, 'sing_LoughranMcDonald': -0.0008097229911591234, '0': {'type': '10-Q', 'published': datetime.date(2010, 5, 7), 'qtr': (2010, 2)}}\n",
      "[INFO] Comparing current qtr (2010, 3) to qtr (2010, 2) from 1 quarter ago.\n"
     ]
    },
    {
     "name": "stderr",
     "output_type": "stream",
     "text": [
      "\n",
      "90it [01:36,  1.43s/it]"
     ]
    },
    {
     "name": "stdout",
     "output_type": "stream",
     "text": [
      "{'diff_jaccard': 0.6981423735097574, 'diff_cosine_tf': 0.9811899564176193, 'diff_cosine_tf_idf': 0.9755569658832988, 'diff_minEdit': 0.9357673546477234, 'diff_simple': 0.9842041064374701, 'sing_LoughranMcDonald': -0.0007953420993820827, '0': {'type': '10-Q', 'published': datetime.date(2010, 8, 9), 'qtr': (2010, 3)}}\n"
     ]
    },
    {
     "name": "stderr",
     "output_type": "stream",
     "text": [
      "\u001b[A"
     ]
    },
    {
     "name": "stdout",
     "output_type": "stream",
     "text": [
      "[INFO] Comparing current qtr (2010, 4) to qtr (2010, 3) from 1 quarter ago.\n"
     ]
    },
    {
     "name": "stderr",
     "output_type": "stream",
     "text": [
      "\r",
      " 91%|█████████ | 91/100 [01:37<00:11,  1.25s/it]"
     ]
    },
    {
     "name": "stdout",
     "output_type": "stream",
     "text": [
      "[ERROR] Here is full_sect: |[]|\n",
      "[ERROR] Original res: {'1': [], '1a': [], '1b': [], '2': [], '3': [], '4': [], '5': [], '6': [], '7': [], '7a': [], '8': [], '9': [], '9a': [], '9b': [], '10': [], '11': [], '12': [], '13': [], '14': [], '15': []}\n",
      "[WARNING] /home/alex/Desktop/filtered_text_data/nd_data/2012/QTR1/20120330_10-K_edgar_data_1433833_0001193125-12-142600_1.txt failed parsing\n",
      "{'diff_jaccard': 0.28843853083728044, 'diff_cosine_tf': 0.9470796369753136, 'diff_cosine_tf_idf': 0.9404403424147769, 'diff_minEdit': 0.7801467660961952, 'diff_simple': 0.5221548251666221, 'sing_LoughranMcDonald': -0.00013886021525634048, '0': {'type': '10-K', 'published': datetime.date(2012, 2, 29), 'qtr': (2012, 1)}}\n",
      "[INFO] Comparing current qtr (2012, 2) to qtr (2012, 1) from 1 quarter ago.\n",
      "{'diff_jaccard': 0.772512597244451, 'diff_cosine_tf': 0.974787959192428, 'diff_cosine_tf_idf': 0.9689188878987576, 'diff_minEdit': 0.9834559677450206, 'diff_simple': 0.9787816269491025, 'sing_LoughranMcDonald': -0.000831959947934356, '0': {'type': '10-Q', 'published': datetime.date(2010, 11, 8), 'qtr': (2010, 4)}}\n",
      "[INFO] Comparing current qtr (2011, 1) to qtr (2010, 4) from 1 quarter ago.\n"
     ]
    },
    {
     "name": "stderr",
     "output_type": "stream",
     "text": [
      "\n"
     ]
    },
    {
     "name": "stdout",
     "output_type": "stream",
     "text": [
      "{'diff_jaccard': 0.20442206418652106, 'diff_cosine_tf': 0.6563220215594723, 'diff_cosine_tf_idf': 0.6167038889736299, 'diff_minEdit': 0.7043959507954355, 'diff_simple': 0.5513166413027557, 'sing_LoughranMcDonald': -0.0007180452620508142, '0': {'type': '10-Q', 'published': datetime.date(2012, 5, 9), 'qtr': (2012, 2)}}\n"
     ]
    },
    {
     "name": "stderr",
     "output_type": "stream",
     "text": [
      "\r",
      "91it [01:37,  1.24s/it]"
     ]
    },
    {
     "name": "stdout",
     "output_type": "stream",
     "text": [
      "[INFO] Comparing current qtr (2012, 3) to qtr (2012, 2) from 1 quarter ago.\n"
     ]
    },
    {
     "name": "stderr",
     "output_type": "stream",
     "text": [
      "\u001b[A"
     ]
    },
    {
     "name": "stdout",
     "output_type": "stream",
     "text": [
      "[INFO] Comparing current qtr (2010, 2) to qtr (2010, 1) from 1 quarter ago.\n",
      "{'diff_jaccard': 0.7376175997796424, 'diff_cosine_tf': 0.9848808921757439, 'diff_cosine_tf_idf': 0.9832234575044302, 'diff_minEdit': 1.0, 'diff_simple': 1.0, 'sing_LoughranMcDonald': -0.0005907349511143145, '0': {'type': '10-Q', 'published': datetime.date(2012, 8, 8), 'qtr': (2012, 3)}}\n",
      "[INFO] Comparing current qtr (2012, 4) to qtr (2012, 3) from 1 quarter ago.\n",
      "{'diff_jaccard': 0.7210208797393759, 'diff_cosine_tf': 0.9899170128940142, 'diff_cosine_tf_idf': 0.9881012132883934, 'diff_minEdit': 0.9999999999999999, 'diff_simple': 0.9999999999999999, 'sing_LoughranMcDonald': -0.0005338423373874837, '0': {'type': '10-Q', 'published': datetime.date(2012, 11, 8), 'qtr': (2012, 4)}}\n",
      "{'diff_jaccard': 0.41749035152700104, 'diff_cosine_tf': 0.912915664100292, 'diff_cosine_tf_idf': 0.9002202041176638, 'diff_minEdit': 0.6938988162560813, 'diff_simple': 0.7660219206910971, 'sing_LoughranMcDonald': -0.0017464541025536402, '0': {'type': '10-Q', 'published': datetime.date(2010, 5, 17), 'qtr': (2010, 2)}}\n",
      "[INFO] Comparing current qtr (2010, 3) to qtr (2010, 2) from 1 quarter ago.\n",
      "{'diff_jaccard': 0.45471638848625623, 'diff_cosine_tf': 0.963143370325123, 'diff_cosine_tf_idf': 0.9554392076775041, 'diff_minEdit': 0.8158082134555031, 'diff_simple': 0.7507472093147466, 'sing_LoughranMcDonald': -0.000399949070393093, '0': {'type': '10-K', 'published': datetime.date(2011, 2, 28), 'qtr': (2011, 1)}}\n",
      "[INFO] Comparing current qtr (2011, 2) to qtr (2011, 1) from 1 quarter ago.\n",
      "{'diff_jaccard': 0.7163168012685035, 'diff_cosine_tf': 0.9674243736834729, 'diff_cosine_tf_idf': 0.9624431035438641, 'diff_minEdit': 0.9976994017450758, 'diff_simple': 0.9947546359787729, 'sing_LoughranMcDonald': -0.001630973102543738, '0': {'type': '10-Q', 'published': datetime.date(2010, 8, 16), 'qtr': (2010, 3)}}\n",
      "[INFO] Comparing current qtr (2010, 4) to qtr (2010, 3) from 1 quarter ago.\n",
      "{'diff_jaccard': 0.14974598189852828, 'diff_cosine_tf': 0.413798783225506, 'diff_cosine_tf_idf': 0.39106214815369594, 'diff_minEdit': 0.6382207664364532, 'diff_simple': 0.36356227831369864, 'sing_LoughranMcDonald': -0.003426677560058818, '0': {'type': '10-Q', 'published': datetime.date(2011, 5, 10), 'qtr': (2011, 2)}}\n",
      "[INFO] Comparing current qtr (2011, 3) to qtr (2011, 2) from 1 quarter ago.\n",
      "{'diff_jaccard': 0.7935779999042459, 'diff_cosine_tf': 0.9838300785938473, 'diff_cosine_tf_idf': 0.9823182186909797, 'diff_minEdit': 0.9999999999999999, 'diff_simple': 0.9999999999999999, 'sing_LoughranMcDonald': -0.0013221975131817501, '0': {'type': '10-Q', 'published': datetime.date(2010, 11, 3), 'qtr': (2010, 4)}}\n",
      "[INFO] Comparing current qtr (2011, 1) to qtr (2010, 4) from 1 quarter ago.\n",
      "{'diff_jaccard': 0.17394541259515695, 'diff_cosine_tf': 0.234826545597056, 'diff_cosine_tf_idf': 0.21160733741548962, 'diff_minEdit': 0.6955010505758551, 'diff_simple': 0.35567885981555836, 'sing_LoughranMcDonald': -4.787237042461624e-05, '0': {'type': '10-Q', 'published': datetime.date(2011, 8, 9), 'qtr': (2011, 3)}}\n",
      "[INFO] Comparing current qtr (2011, 4) to qtr (2011, 3) from 1 quarter ago.\n",
      "{'diff_jaccard': 0.8072627138194477, 'diff_cosine_tf': 0.9812153139932149, 'diff_cosine_tf_idf': 0.9773227330485534, 'diff_minEdit': 0.9866051374015727, 'diff_simple': 0.9826927701683877, 'sing_LoughranMcDonald': -0.0006257478874969527, '0': {'type': '10-Q', 'published': datetime.date(2011, 11, 9), 'qtr': (2011, 4)}}\n",
      "[INFO] Comparing current qtr (2012, 1) to qtr (2011, 4) from 1 quarter ago.\n",
      "{'diff_jaccard': 0.33403630718013233, 'diff_cosine_tf': 0.8599519651391838, 'diff_cosine_tf_idf': 0.8365177022202342, 'diff_minEdit': 0.7494836943132961, 'diff_simple': 0.7678891802373724, 'sing_LoughranMcDonald': -0.0008264296483883728, '0': {'type': '10-K', 'published': datetime.date(2011, 3, 23), 'qtr': (2011, 1)}}\n",
      "[INFO] Comparing current qtr (2011, 2) to qtr (2011, 1) from 1 quarter ago.\n",
      "{'diff_jaccard': 0.25343270199485274, 'diff_cosine_tf': 0.6818328562832697, 'diff_cosine_tf_idf': 0.6475487878052103, 'diff_minEdit': 0.7157035081132733, 'diff_simple': 0.6600082197707117, 'sing_LoughranMcDonald': -0.0008415395105519832, '0': {'type': '10-Q', 'published': datetime.date(2011, 5, 10), 'qtr': (2011, 2)}}\n",
      "[INFO] Comparing current qtr (2011, 3) to qtr (2011, 2) from 1 quarter ago.\n",
      "{'diff_jaccard': 0.680147153994137, 'diff_cosine_tf': 0.8984033140571648, 'diff_cosine_tf_idf': 0.8937412408393487, 'diff_minEdit': 0.94080886307411, 'diff_simple': 0.9911213294611165, 'sing_LoughranMcDonald': 5.052579414630077e-06, '0': {'type': '10-Q', 'published': datetime.date(2011, 8, 11), 'qtr': (2011, 3)}}\n",
      "[INFO] Comparing current qtr (2011, 4) to qtr (2011, 3) from 1 quarter ago.\n",
      "{'diff_jaccard': 0.43955134555966235, 'diff_cosine_tf': 0.9256068144615985, 'diff_cosine_tf_idf': 0.9131178720541249, 'diff_minEdit': 0.7844963206897174, 'diff_simple': 0.7551948450444923, 'sing_LoughranMcDonald': -0.00026431083636090964, '0': {'type': '10-K', 'published': datetime.date(2012, 2, 29), 'qtr': (2012, 1)}}\n",
      "[INFO] Comparing current qtr (2012, 2) to qtr (2012, 1) from 1 quarter ago.\n",
      "{'diff_jaccard': 0.8085816567778724, 'diff_cosine_tf': 0.9455625808105409, 'diff_cosine_tf_idf': 0.9394838533929116, 'diff_minEdit': 1.0, 'diff_simple': 1.0, 'sing_LoughranMcDonald': -0.0006277912162548038, '0': {'type': '10-Q', 'published': datetime.date(2011, 11, 10), 'qtr': (2011, 4)}}\n",
      "[INFO] Comparing current qtr (2012, 1) to qtr (2011, 4) from 1 quarter ago.\n",
      "{'diff_jaccard': 0.4171928684634247, 'diff_cosine_tf': 0.8458818616985133, 'diff_cosine_tf_idf': 0.8274877139898571, 'diff_minEdit': 0.738412871447484, 'diff_simple': 0.7643931842672415, 'sing_LoughranMcDonald': -0.0005952234668915663, '0': {'type': '10-Q', 'published': datetime.date(2012, 5, 10), 'qtr': (2012, 2)}}\n",
      "[INFO] Comparing current qtr (2012, 3) to qtr (2012, 2) from 1 quarter ago.\n",
      "{'diff_jaccard': 0.24990183665736818, 'diff_cosine_tf': 0.683631521622315, 'diff_cosine_tf_idf': 0.6507545925393436, 'diff_minEdit': 0.7113870536283657, 'diff_simple': 0.6738003584508688, 'sing_LoughranMcDonald': -0.0004389518833126114, '0': {'type': '10-K', 'published': datetime.date(2012, 3, 13), 'qtr': (2012, 1)}}\n",
      "[INFO] Comparing current qtr (2012, 2) to qtr (2012, 1) from 1 quarter ago.\n",
      "{'diff_jaccard': 0.7265777105756231, 'diff_cosine_tf': 0.9532364845048177, 'diff_cosine_tf_idf': 0.9448950104559912, 'diff_minEdit': 0.9278831659418358, 'diff_simple': 0.9699250556039068, 'sing_LoughranMcDonald': -0.0006296887617302548, '0': {'type': '10-Q', 'published': datetime.date(2012, 8, 9), 'qtr': (2012, 3)}}\n",
      "[INFO] Comparing current qtr (2012, 4) to qtr (2012, 3) from 1 quarter ago.\n",
      "This is the res {'1': [(133065, 133083)], '7': [], '13': [(108399, 108418), (156795, 156814)]}\n",
      "[WARNING] /home/alex/Desktop/filtered_text_data/nd_data/2010/QTR1/20100331_10-K_edgar_data_1089787_0000950159-10-000256_1.txt failed parsing\n"
     ]
    },
    {
     "name": "stderr",
     "output_type": "stream",
     "text": [
      " 94%|█████████▍| 94/100 [01:39<00:06,  1.04s/it]\n",
      "94it [01:38,  1.03s/it]\u001b[A"
     ]
    },
    {
     "name": "stdout",
     "output_type": "stream",
     "text": [
      "{'diff_jaccard': 0.0019268204717078337, 'diff_cosine_tf': 0.05192169875711063, 'diff_cosine_tf_idf': 0.029284825783551932, 'diff_minEdit': 0.6012965016013796, 'diff_simple': 0.21382320693435944, 'sing_LoughranMcDonald': 0.0, '0': {'type': '10-Q', 'published': datetime.date(2012, 11, 9), 'qtr': (2012, 4)}}\n",
      "[INFO] Comparing current qtr (2010, 2) to qtr (2010, 1) from 1 quarter ago.\n",
      "{'diff_jaccard': 0.20720162826737432, 'diff_cosine_tf': 0.6490061659017732, 'diff_cosine_tf_idf': 0.6086879685309043, 'diff_minEdit': 0.7052521810888321, 'diff_simple': 0.6584038091909837, 'sing_LoughranMcDonald': -0.0012607140240965807, '0': {'type': '10-Q', 'published': datetime.date(2012, 5, 10), 'qtr': (2012, 2)}}\n",
      "[INFO] Comparing current qtr (2012, 3) to qtr (2012, 2) from 1 quarter ago.\n",
      "{'diff_jaccard': 0.11491072402817573, 'diff_cosine_tf': 0.5655982691644281, 'diff_cosine_tf_idf': 0.5127010511123503, 'diff_minEdit': 0.5921043039796965, 'diff_simple': 0.546454964476522, 'sing_LoughranMcDonald': -0.001294551525947217, '0': {'type': '10-Q', 'published': datetime.date(2010, 6, 3), 'qtr': (2010, 2)}}\n",
      "[INFO] Comparing current qtr (2010, 3) to qtr (2010, 2) from 1 quarter ago.\n",
      "{'diff_jaccard': 0.6749982828928984, 'diff_cosine_tf': 0.8885577550976024, 'diff_cosine_tf_idf': 0.8798024598665881, 'diff_minEdit': 0.9938859699325986, 'diff_simple': 0.9990489330389993, 'sing_LoughranMcDonald': -0.00035484001315704315, '0': {'type': '10-Q', 'published': datetime.date(2012, 8, 9), 'qtr': (2012, 3)}}\n",
      "[INFO] Comparing current qtr (2012, 4) to qtr (2012, 3) from 1 quarter ago.\n",
      "{'diff_jaccard': 0.7343572191306929, 'diff_cosine_tf': 0.9858104400103903, 'diff_cosine_tf_idf': 0.9830419890621679, 'diff_minEdit': 0.9340734539337888, 'diff_simple': 0.9778632031004504, 'sing_LoughranMcDonald': -0.0011967858374999669, '0': {'type': '10-Q', 'published': datetime.date(2010, 9, 2), 'qtr': (2010, 3)}}\n",
      "[INFO] Comparing current qtr (2010, 4) to qtr (2010, 3) from 1 quarter ago.\n",
      "{'diff_jaccard': 0.7826813327353728, 'diff_cosine_tf': 0.9625788825017697, 'diff_cosine_tf_idf': 0.9589568861914722, 'diff_minEdit': 1.0, 'diff_simple': 1.0, 'sing_LoughranMcDonald': -0.00033000740008034575, '0': {'type': '10-Q', 'published': datetime.date(2012, 11, 9), 'qtr': (2012, 4)}}\n"
     ]
    },
    {
     "name": "stderr",
     "output_type": "stream",
     "text": [
      " 96%|█████████▌| 96/100 [01:39<00:03,  1.27it/s]\n",
      "96it [01:39,  1.27it/s]\u001b[A"
     ]
    },
    {
     "name": "stdout",
     "output_type": "stream",
     "text": [
      "{'diff_jaccard': 0.7437976441936331, 'diff_cosine_tf': 0.9813658602969688, 'diff_cosine_tf_idf': 0.9780936276607776, 'diff_minEdit': 0.9952172486524491, 'diff_simple': 0.9943760442102558, 'sing_LoughranMcDonald': -0.001065273736387849, '0': {'type': '10-Q', 'published': datetime.date(2010, 12, 3), 'qtr': (2010, 4)}}\n",
      "[INFO] Comparing current qtr (2011, 1) to qtr (2010, 4) from 1 quarter ago.\n",
      "{'diff_jaccard': 0.061912677066039735, 'diff_cosine_tf': 0.5196840907851071, 'diff_cosine_tf_idf': 0.44166470900553956, 'diff_minEdit': 0.7352067823844847, 'diff_simple': 0.69301020864629, 'sing_LoughranMcDonald': -0.0008709849744508916, '0': {'type': '10-K', 'published': datetime.date(2011, 3, 31), 'qtr': (2011, 1)}}\n",
      "[INFO] Comparing current qtr (2011, 2) to qtr (2011, 1) from 1 quarter ago.\n",
      "[INFO] Comparing current qtr (2010, 2) to qtr (2010, 1) from 1 quarter ago.\n",
      "{'diff_jaccard': 0.3408834594181414, 'diff_cosine_tf': 0.828871051207185, 'diff_cosine_tf_idf': 0.8139454163308034, 'diff_minEdit': 0.7076814485683723, 'diff_simple': 0.7775205443172313, 'sing_LoughranMcDonald': -0.0013453314113706781, '0': {'type': '10-Q', 'published': datetime.date(2011, 6, 3), 'qtr': (2011, 2)}}\n",
      "{'diff_jaccard': 0.0048065756573044734, 'diff_cosine_tf': 0.27076566313577977, 'diff_cosine_tf_idf': 0.20827793454198276, 'diff_minEdit': 0.951582102088985, 'diff_simple': 0.5863749572163302, 'sing_LoughranMcDonald': 0.0, '0': {'type': '10-Q', 'published': datetime.date(2010, 5, 10), 'qtr': (2010, 2)}}\n",
      "[INFO] Comparing current qtr (2010, 3) to qtr (2010, 2) from 1 quarter ago.\n",
      "[INFO] Comparing current qtr (2011, 3) to qtr (2011, 2) from 1 quarter ago.\n",
      "{'diff_jaccard': 0.946969696969697, 'diff_cosine_tf': 0.9696969696969695, 'diff_cosine_tf_idf': 0.9474617676946365, 'diff_minEdit': 0.984848484848485, 'diff_simple': 0.9903581267217632, 'sing_LoughranMcDonald': 0.0, '0': {'type': '10-Q', 'published': datetime.date(2010, 8, 9), 'qtr': (2010, 3)}}\n",
      "[INFO] Comparing current qtr (2010, 4) to qtr (2010, 3) from 1 quarter ago.\n",
      "{'diff_jaccard': 1.0, 'diff_cosine_tf': 0.9999999999999998, 'diff_cosine_tf_idf': 0.9999999999999998, 'diff_minEdit': 1.0, 'diff_simple': 1.0, 'sing_LoughranMcDonald': 0.0, '0': {'type': '10-Q', 'published': datetime.date(2010, 11, 4), 'qtr': (2010, 4)}}\n",
      "[INFO] Comparing current qtr (2011, 1) to qtr (2010, 4) from 1 quarter ago.\n",
      "{'diff_jaccard': 0.7079385680018859, 'diff_cosine_tf': 0.973838898724483, 'diff_cosine_tf_idf': 0.9695254118269611, 'diff_minEdit': 0.9890939426618104, 'diff_simple': 0.9953649256312693, 'sing_LoughranMcDonald': -0.0012500524294747429, '0': {'type': '10-Q', 'published': datetime.date(2011, 9, 2), 'qtr': (2011, 3)}}\n",
      "[INFO] Comparing current qtr (2011, 4) to qtr (2011, 3) from 1 quarter ago.\n",
      "{'diff_jaccard': 0.7623449006866384, 'diff_cosine_tf': 0.9867850660409291, 'diff_cosine_tf_idf': 0.9808568688599616, 'diff_minEdit': 0.9951032787933602, 'diff_simple': 0.994344287006331, 'sing_LoughranMcDonald': -0.0011845450047545624, '0': {'type': '10-Q', 'published': datetime.date(2011, 12, 2), 'qtr': (2011, 4)}}\n",
      "[INFO] Comparing current qtr (2012, 1) to qtr (2011, 4) from 1 quarter ago.\n",
      "{'diff_jaccard': 0.0048214021687283, 'diff_cosine_tf': 0.2538554617653457, 'diff_cosine_tf_idf': 0.19541836453787073, 'diff_minEdit': 0.9290063937928519, 'diff_simple': 0.5567344920479812, 'sing_LoughranMcDonald': -7.989513273758536e-05, '0': {'type': '10-K', 'published': datetime.date(2011, 3, 10), 'qtr': (2011, 1)}}\n",
      "[INFO] Comparing current qtr (2011, 2) to qtr (2011, 1) from 1 quarter ago.\n",
      "{'diff_jaccard': 0.0048214021687283, 'diff_cosine_tf': 0.2535497817876888, 'diff_cosine_tf_idf': 0.1949094071416953, 'diff_minEdit': 0.9300389496723466, 'diff_simple': 0.556433329916462, 'sing_LoughranMcDonald': 0.0, '0': {'type': '10-Q', 'published': datetime.date(2011, 5, 9), 'qtr': (2011, 2)}}\n",
      "[INFO] Comparing current qtr (2011, 3) to qtr (2011, 2) from 1 quarter ago.\n",
      "{'diff_jaccard': 0.3579813618000146, 'diff_cosine_tf': 0.8171684190697022, 'diff_cosine_tf_idf': 0.8045229458225044, 'diff_minEdit': 0.7671568158637985, 'diff_simple': 0.7416678420024481, 'sing_LoughranMcDonald': -0.0007888956206623575, '0': {'type': '10-K', 'published': datetime.date(2012, 3, 30), 'qtr': (2012, 1)}}\n",
      "[INFO] Comparing current qtr (2012, 2) to qtr (2012, 1) from 1 quarter ago.\n",
      "{'diff_jaccard': 0.8278236914600551, 'diff_cosine_tf': 0.9151515151515149, 'diff_cosine_tf_idf': 0.8499603008434203, 'diff_minEdit': 0.9545454545454547, 'diff_simple': 0.9860978667796849, 'sing_LoughranMcDonald': 0.0, '0': {'type': '10-Q', 'published': datetime.date(2011, 7, 28), 'qtr': (2011, 3)}}\n",
      "[INFO] Comparing current qtr (2011, 4) to qtr (2011, 3) from 1 quarter ago.\n",
      "{'diff_jaccard': 0.7874196510560146, 'diff_cosine_tf': 0.8848484848484847, 'diff_cosine_tf_idf': 0.8097237509813753, 'diff_minEdit': 0.9393939393939394, 'diff_simple': 0.980037260719079, 'sing_LoughranMcDonald': 0.0, '0': {'type': '10-Q', 'published': datetime.date(2011, 11, 1), 'qtr': (2011, 4)}}\n",
      "[INFO] Comparing current qtr (2012, 1) to qtr (2011, 4) from 1 quarter ago.\n",
      "{'diff_jaccard': 0.3436440416322274, 'diff_cosine_tf': 0.792491860480535, 'diff_cosine_tf_idf': 0.7783307772992165, 'diff_minEdit': 0.691318921809736, 'diff_simple': 0.7350242947629847, 'sing_LoughranMcDonald': -0.0014518441202107416, '0': {'type': '10-Q', 'published': datetime.date(2012, 6, 4), 'qtr': (2012, 2)}}\n",
      "[INFO] Comparing current qtr (2012, 3) to qtr (2012, 2) from 1 quarter ago.\n",
      "{'diff_jaccard': 0.005418094020025737, 'diff_cosine_tf': 0.23568397645034828, 'diff_cosine_tf_idf': 0.18041727063446966, 'diff_minEdit': 0.9291294606179256, 'diff_simple': 0.5274349210652366, 'sing_LoughranMcDonald': -0.00010974849753901492, '0': {'type': '10-K', 'published': datetime.date(2012, 3, 9), 'qtr': (2012, 1)}}\n",
      "[INFO] Comparing current qtr (2012, 2) to qtr (2012, 1) from 1 quarter ago.\n",
      "{'diff_jaccard': 0.5043432060188363, 'diff_cosine_tf': 0.9284151246364825, 'diff_cosine_tf_idf': 0.9162837357423211, 'diff_minEdit': 0.8683565587673148, 'diff_simple': 0.8809118559802614, 'sing_LoughranMcDonald': -0.0015946323175276144, '0': {'type': '10-Q', 'published': datetime.date(2012, 8, 31), 'qtr': (2012, 3)}}\n",
      "[INFO] Comparing current qtr (2012, 4) to qtr (2012, 3) from 1 quarter ago.\n",
      "{'diff_jaccard': 0.7519261165091174, 'diff_cosine_tf': 0.9842773788313899, 'diff_cosine_tf_idf': 0.9770181403185652, 'diff_minEdit': 1.0, 'diff_simple': 1.0, 'sing_LoughranMcDonald': -0.0015453731264438947, '0': {'type': '10-Q', 'published': datetime.date(2012, 11, 30), 'qtr': (2012, 4)}}\n"
     ]
    },
    {
     "name": "stderr",
     "output_type": "stream",
     "text": [
      " 97%|█████████▋| 97/100 [01:40<00:02,  1.22it/s]\n",
      "97it [01:40,  1.22it/s]\u001b[A"
     ]
    },
    {
     "name": "stdout",
     "output_type": "stream",
     "text": [
      "{'diff_jaccard': 0.24816262697156777, 'diff_cosine_tf': 0.6144475250282003, 'diff_cosine_tf_idf': 0.5896626892668129, 'diff_minEdit': 0.6857100006336674, 'diff_simple': 0.5591848119566786, 'sing_LoughranMcDonald': -0.00019663559174784242, '0': {'type': '10-Q', 'published': datetime.date(2012, 5, 10), 'qtr': (2012, 2)}}\n",
      "[INFO] Comparing current qtr (2012, 3) to qtr (2012, 2) from 1 quarter ago.\n",
      "{'diff_jaccard': 0.010739738330102033, 'diff_cosine_tf': 0.2774895321367496, 'diff_cosine_tf_idf': 0.2105866480986192, 'diff_minEdit': 0.8517215124473712, 'diff_simple': 0.5701743955824344, 'sing_LoughranMcDonald': 0.0, '0': {'type': '10-Q', 'published': datetime.date(2012, 8, 7), 'qtr': (2012, 3)}}\n",
      "[INFO] Comparing current qtr (2012, 4) to qtr (2012, 3) from 1 quarter ago.\n",
      "{'diff_jaccard': 0.946969696969697, 'diff_cosine_tf': 0.9696969696969695, 'diff_cosine_tf_idf': 0.9474617676946365, 'diff_minEdit': 0.984848484848485, 'diff_simple': 0.9955808080808082, 'sing_LoughranMcDonald': 0.0, '0': {'type': '10-Q', 'published': datetime.date(2012, 11, 6), 'qtr': (2012, 4)}}\n"
     ]
    },
    {
     "name": "stderr",
     "output_type": "stream",
     "text": [
      " 98%|█████████▊| 98/100 [01:40<00:01,  1.61it/s]\n",
      "98it [01:40,  1.61it/s]\u001b[A"
     ]
    },
    {
     "name": "stdout",
     "output_type": "stream",
     "text": [
      "[ERROR] Here is full_sect: |[]|\n",
      "[ERROR] Original res: {'_i_1': [], '_i_2': [], '_i_3': [], '_i_4': [], 'ii_1': [], 'ii_1a': [], 'ii_2': [], 'ii_3': [], 'ii_4': [], 'ii_5': [], 'ii_6': []}\n",
      "[WARNING] /home/alex/Desktop/filtered_text_data/nd_data/2010/QTR3/20100809_10-Q_edgar_data_925956_0001144204-10-042213_1.txt failed parsing\n"
     ]
    },
    {
     "name": "stderr",
     "output_type": "stream",
     "text": [
      " 99%|█████████▉| 99/100 [01:40<00:00,  2.15it/s]\n",
      "99it [01:40,  2.15it/s]\u001b[A"
     ]
    },
    {
     "name": "stdout",
     "output_type": "stream",
     "text": [
      "[INFO] Comparing current qtr (2010, 2) to qtr (2010, 1) from 1 quarter ago.\n",
      "{'diff_jaccard': 0.3671473016278017, 'diff_cosine_tf': 0.7993699029970367, 'diff_cosine_tf_idf': 0.7742491874771383, 'diff_minEdit': 0.8337173516781511, 'diff_simple': 0.6617693810730882, 'sing_LoughranMcDonald': -0.0004572320174941018, '0': {'type': '10-Q', 'published': datetime.date(2010, 5, 3), 'qtr': (2010, 2)}}\n",
      "[INFO] Comparing current qtr (2010, 3) to qtr (2010, 2) from 1 quarter ago.\n",
      "{'diff_jaccard': 0.7646877434952636, 'diff_cosine_tf': 0.9879342130959314, 'diff_cosine_tf_idf': 0.9852023975107672, 'diff_minEdit': 0.9965115059103309, 'diff_simple': 0.9976278240190251, 'sing_LoughranMcDonald': -0.00038252200538510593, '0': {'type': '10-Q', 'published': datetime.date(2010, 7, 30), 'qtr': (2010, 3)}}\n",
      "[INFO] Comparing current qtr (2010, 4) to qtr (2010, 3) from 1 quarter ago.\n",
      "{'diff_jaccard': 0.7505800687486953, 'diff_cosine_tf': 0.9927558294593333, 'diff_cosine_tf_idf': 0.9871843684351894, 'diff_minEdit': 0.9966893873707182, 'diff_simple': 0.997086660886232, 'sing_LoughranMcDonald': -0.0003743736430097534, '0': {'type': '10-Q', 'published': datetime.date(2010, 11, 4), 'qtr': (2010, 4)}}\n",
      "[INFO] Comparing current qtr (2011, 1) to qtr (2010, 4) from 1 quarter ago.\n",
      "{'diff_jaccard': 0.3712271612105105, 'diff_cosine_tf': 0.7712346363807653, 'diff_cosine_tf_idf': 0.7436762450011709, 'diff_minEdit': 0.7695412292965195, 'diff_simple': 0.6557461337974525, 'sing_LoughranMcDonald': -0.00041939111928141637, '0': {'type': '10-K', 'published': datetime.date(2011, 2, 28), 'qtr': (2011, 1)}}\n",
      "[INFO] Comparing current qtr (2011, 2) to qtr (2011, 1) from 1 quarter ago.\n",
      "{'diff_jaccard': 0.3461023745457529, 'diff_cosine_tf': 0.7485584603846852, 'diff_cosine_tf_idf': 0.7193781163088523, 'diff_minEdit': 0.7660630537223286, 'diff_simple': 0.6739895182309912, 'sing_LoughranMcDonald': -0.0005786234008103592, '0': {'type': '10-Q', 'published': datetime.date(2011, 5, 6), 'qtr': (2011, 2)}}\n",
      "[INFO] Comparing current qtr (2011, 3) to qtr (2011, 2) from 1 quarter ago.\n",
      "{'diff_jaccard': 0.7588817351090074, 'diff_cosine_tf': 0.9837309946923948, 'diff_cosine_tf_idf': 0.9781247659621467, 'diff_minEdit': 0.9994871531873429, 'diff_simple': 0.9996512641673931, 'sing_LoughranMcDonald': -0.0003858704211933801, '0': {'type': '10-Q', 'published': datetime.date(2011, 8, 5), 'qtr': (2011, 3)}}\n",
      "[INFO] Comparing current qtr (2011, 4) to qtr (2011, 3) from 1 quarter ago.\n",
      "{'diff_jaccard': 0.021593138710389873, 'diff_cosine_tf': 0.6167629702797419, 'diff_cosine_tf_idf': 0.5516660086258944, 'diff_minEdit': 0.708432665220937, 'diff_simple': 0.5025587714504863, 'sing_LoughranMcDonald': -0.00013410517744147043, '0': {'type': '10-Q', 'published': datetime.date(2011, 11, 9), 'qtr': (2011, 4)}}\n",
      "[INFO] Comparing current qtr (2012, 1) to qtr (2011, 4) from 1 quarter ago.\n",
      "{'diff_jaccard': 0.1737650952428699, 'diff_cosine_tf': 0.7078219977914681, 'diff_cosine_tf_idf': 0.6648502187294191, 'diff_minEdit': 0.7083546989809908, 'diff_simple': 0.5074842063333098, 'sing_LoughranMcDonald': -0.00042349376274594056, '0': {'type': '10-K', 'published': datetime.date(2012, 2, 28), 'qtr': (2012, 1)}}\n",
      "[INFO] Comparing current qtr (2012, 2) to qtr (2012, 1) from 1 quarter ago.\n",
      "{'diff_jaccard': 0.010040228427666156, 'diff_cosine_tf': 0.4158199269296314, 'diff_cosine_tf_idf': 0.3296021875955032, 'diff_minEdit': 0.7458602220826436, 'diff_simple': 0.5264839980251719, 'sing_LoughranMcDonald': -0.0001680490877777105, '0': {'type': '10-Q', 'published': datetime.date(2012, 5, 9), 'qtr': (2012, 2)}}\n",
      "[INFO] Comparing current qtr (2012, 3) to qtr (2012, 2) from 1 quarter ago.\n",
      "{'diff_jaccard': 0.7738915434880831, 'diff_cosine_tf': 0.9872625551907401, 'diff_cosine_tf_idf': 0.9869470102158787, 'diff_minEdit': 0.9412716482532099, 'diff_simple': 0.9601002050508712, 'sing_LoughranMcDonald': -0.00012988418006187237, '0': {'type': '10-Q', 'published': datetime.date(2012, 8, 9), 'qtr': (2012, 3)}}\n",
      "[INFO] Comparing current qtr (2012, 4) to qtr (2012, 3) from 1 quarter ago.\n",
      "{'diff_jaccard': 0.8383820279163596, 'diff_cosine_tf': 0.9935076990029558, 'diff_cosine_tf_idf': 0.9933098119012489, 'diff_minEdit': 0.9412651335507602, 'diff_simple': 0.9800150317625786, 'sing_LoughranMcDonald': -0.00013103976552823805, '0': {'type': '10-Q', 'published': datetime.date(2012, 11, 7), 'qtr': (2012, 4)}}\n"
     ]
    },
    {
     "name": "stderr",
     "output_type": "stream",
     "text": [
      "100%|██████████| 100/100 [01:42<00:00,  1.07it/s]\n",
      "100it [01:42,  1.07it/s]\u001b[A"
     ]
    },
    {
     "name": "stdout",
     "output_type": "stream",
     "text": [
      "[INFO] 26 CIK failed to be processed.\n",
      "Detailed stats and error codes: [74, 26, 0, 0, 0, 0]\n"
     ]
    },
    {
     "name": "stderr",
     "output_type": "stream",
     "text": [
      "\n"
     ]
    }
   ],
   "source": [
    "# Processing the reports will be done in parrallel in a random order\n",
    "# Settings in s are cast to dict for pickling - the custom class is not supported\n",
    "nb_cik_to_process = 100\n",
    "cik_path = {k: v for k, v in cik_path.items() if k in list(cik_path.keys())[:nb_cik_to_process]}\n",
    "cik_scores = {k: 0 for k in cik_path.keys()}  # Organized by ticker\n",
    "data_to_process = ([k, v, {**s}, lm_dictionary] for k, v in cik_path.items())\n",
    "assert cik_path.keys() == cik_scores.keys()\n",
    "#print(data_to_process)\n",
    "#result = process_cik(data_to_process[0])\n",
    "#cik_perf[result[0]] = result[1]\n",
    "#print(cik_perf)\n",
    "#assert 0\n",
    "processing_stats = [0, 0, 0, 0, 0, 0]\n",
    "#qtr_metric_result = {key: [] for key in s['list_qtr']}\n",
    "if nb_processes_requested > 1:\n",
    "    with mp.Pool(processes=nb_processes_requested) as p:\n",
    "    #with mp.Pool(processes=min(mp.cpu_count(), 1)) as p:\n",
    "        print(\"[INFO] Starting a pool of {} workers\".format(nb_processes_requested))\n",
    "\n",
    "        with tqdm(total=nb_cik_to_process) as pbar:\n",
    "            for i, value in tqdm(enumerate(p.imap_unordered(processing.process_cik, data_to_process))):\n",
    "                pbar.update()\n",
    "                #qtr = list_qtr[i]\n",
    "                # Each quarter gets a few metrics\n",
    "                if value[1] == {}:\n",
    "                    # The parsing failed\n",
    "                    del cik_scores[value[0]]\n",
    "                else:\n",
    "                    cik_scores[value[0]] = value[1]\n",
    "                processing_stats[value[2]] += 1\n",
    "\n",
    "elif nb_processes_requested == 1:\n",
    "    print(\"[INFO] Running on {} core (multiprocessing is off)\".format(nb_processes_requested))\n",
    "    with tqdm(total=nb_cik_to_process) as pbar:\n",
    "        for i, value in tqdm(enumerate(map(processing.process_cik, data_to_process))):\n",
    "            pbar.update()\n",
    "            #qtr = list_qtr[i]\n",
    "            # Each quarter gets a few metrics\n",
    "            if value[1] == {}:\n",
    "                # The parsing failed\n",
    "                del cik_scores[value[0]]\n",
    "            else:\n",
    "                cik_scores[value[0]] = value[1]\n",
    "            processing_stats[value[2]] += 1\n",
    "\n",
    "elif nb_processes_requested == 0:\n",
    "    # Spark mode!!\n",
    "    print(\"[INFO] Running with Spark\")\n",
    "    sc = pyspark.SparkContext(appName=\"model_calculations\")\n",
    "    print(\"[INFO] Context started\")\n",
    "    spark_result = sc.parallelize(data_to_process).map(processing.process_cik)\n",
    "    spark_result = spark_result.take(nb_cik_to_process)\n",
    "    sc.stop()\n",
    "    \n",
    "    # Process the result\n",
    "    with tqdm(total=nb_cik_to_process) as pbar:\n",
    "        for i, value in tqdm(enumerate(spark_result)):\n",
    "            pbar.update()\n",
    "            #qtr = list_qtr[i]\n",
    "            # Each quarter gets a few metrics\n",
    "            if value[1] == {}:\n",
    "                # The parsing failed\n",
    "                del cik_scores[value[0]]\n",
    "            else:\n",
    "                cik_scores[value[0]] = value[1]\n",
    "            processing_stats[value[2]] += 1\n",
    "           \n",
    "        #qtr_metric_result[value['0']['qtr']] = value\n",
    "print(\"[INFO] {} CIK failed to be processed.\".format(sum(processing_stats[1:])))\n",
    "print(\"Detailed stats and error codes:\", processing_stats)"
   ]
  },
  {
   "cell_type": "markdown",
   "metadata": {},
   "source": [
    "# Post-processing - Welcome to the gettho"
   ]
  },
  {
   "cell_type": "markdown",
   "metadata": {},
   "source": [
    "## Flip the result dictionary to present a per qtr view"
   ]
  },
  {
   "cell_type": "code",
   "execution_count": 28,
   "metadata": {
    "scrolled": true
   },
   "outputs": [
    {
     "name": "stderr",
     "output_type": "stream",
     "text": [
      "100%|██████████| 74/74 [00:00<00:00, 102706.32it/s]\n"
     ]
    }
   ],
   "source": [
    "# Reorganize the dict to display the data per quarter instead\n",
    "qtr_scores = {qtr: {} for qtr in s['list_qtr']}\n",
    "for c in cik_path.keys():\n",
    "    if c in cik_scores.keys():\n",
    "        if cik_scores[c] == 0:\n",
    "            del cik_scores[c]\n",
    "\n",
    "for cik in tqdm(cik_scores):\n",
    "    for qtr in cik_scores[cik]:\n",
    "        qtr_scores[qtr][cik] = cik_scores[cik][qtr]\n",
    "\n",
    "assert list(qtr_scores.keys()) == s['list_qtr']"
   ]
  },
  {
   "cell_type": "markdown",
   "metadata": {},
   "source": [
    "## Create a separate dictionary for each metric"
   ]
  },
  {
   "cell_type": "code",
   "execution_count": 29,
   "metadata": {
    "scrolled": true
   },
   "outputs": [],
   "source": [
    "# Create the new empty master dictionary\n",
    "master_dict = {m: 0 for m in s['metrics']}\n",
    "for m in s['metrics']:\n",
    "    master_dict[m] = {qtr: 0 for qtr in s['list_qtr']}\n",
    "# master_dict"
   ]
  },
  {
   "cell_type": "code",
   "execution_count": 30,
   "metadata": {},
   "outputs": [],
   "source": [
    "# Populate it\n",
    "for m in s['metrics']:\n",
    "    for qtr in s['list_qtr']:\n",
    "        #master_dict[m][qtr] = {cik: qtr_scores[qtr][cik][m] for cik in qtr_scores[qtr].keys()}\n",
    "        master_dict[m][qtr] = [(cik, qtr_scores[qtr][cik][m]) for cik in qtr_scores[qtr].keys()]"
   ]
  },
  {
   "cell_type": "code",
   "execution_count": 31,
   "metadata": {},
   "outputs": [
    {
     "name": "stdout",
     "output_type": "stream",
     "text": [
      "qtr: (2010, 1) length: 0\n",
      "qtr: (2010, 2) length: 65\n",
      "qtr: (2010, 3) length: 64\n",
      "qtr: (2010, 4) length: 63\n",
      "qtr: (2011, 1) length: 63\n",
      "qtr: (2011, 2) length: 63\n",
      "qtr: (2011, 3) length: 64\n",
      "qtr: (2011, 4) length: 65\n",
      "qtr: (2012, 1) length: 65\n",
      "qtr: (2012, 2) length: 65\n",
      "qtr: (2012, 3) length: 68\n",
      "qtr: (2012, 4) length: 67\n"
     ]
    }
   ],
   "source": [
    "# Display the length for all qtr\n",
    "for qtr in s['list_qtr']:\n",
    "    print(\"qtr: {} length: {}\".format(qtr, len(master_dict[s['metrics'][0]][qtr])))"
   ]
  },
  {
   "cell_type": "markdown",
   "metadata": {},
   "source": [
    "## For each metric, split each qtr into 5 quintiles\n",
    "\n",
    "For each metric and for each quarter, make quintiles containing all the (cik, score) tuples. \n",
    "\n",
    "Now at this point the portfolio is not balanced, it is just the list of companies we would like to invest in. We need to weigh each investment by the relative market cap. "
   ]
  },
  {
   "cell_type": "code",
   "execution_count": 32,
   "metadata": {},
   "outputs": [],
   "source": [
    "# Populate it\n",
    "# The two zeros are respectively nb shares unbalanced & balanced\n",
    "for m in s['metrics']:\n",
    "    for qtr in s['list_qtr']:\n",
    "        #master_dict[m][qtr] = {cik: qtr_scores[qtr][cik][m] for cik in qtr_scores[qtr].keys()}\n",
    "        master_dict[m][qtr] = [[cik, qtr_scores[qtr][cik][m], 0, 0] for cik in qtr_scores[qtr].keys()]\n",
    "# master_dict"
   ]
  },
  {
   "cell_type": "code",
   "execution_count": 33,
   "metadata": {
    "scrolled": true
   },
   "outputs": [],
   "source": [
    "# Reorganize each quarter \n",
    "for m in s['metrics'][:-1]:\n",
    "    for qtr in s['list_qtr'][s['lag']:]:  # There cannot be a report for the first few qtr\n",
    "        #print(master_dict[m][qtr])\n",
    "        try:\n",
    "            master_dict[m][qtr] = post_processing.make_quintiles(master_dict[m][qtr], s)\n",
    "        except:\n",
    "            #print(master_dict[m][qtr])\n",
    "            raise\n",
    "        assert len(master_dict[m][qtr].keys()) == 5"
   ]
  },
  {
   "cell_type": "code",
   "execution_count": 34,
   "metadata": {},
   "outputs": [],
   "source": [
    "pf_scores = {m: 0 for m in s['metrics'][:-1]}\n",
    "for m in s['metrics']:\n",
    "    pf_scores[m] = {q: {qtr: 0 for qtr in s['list_qtr'][s['lag']:]} for q in s['bin_labels']}"
   ]
  },
  {
   "cell_type": "code",
   "execution_count": 35,
   "metadata": {},
   "outputs": [],
   "source": [
    "for m in s['metrics'][:-1]:\n",
    "    for mod_bin in s['bin_labels']:\n",
    "        for qtr in s['list_qtr'][s['lag']:]:\n",
    "            pf_scores[m][mod_bin][qtr] = master_dict[m][qtr][mod_bin]\n",
    "# pf_scores['diff_jaccard']['Q1']"
   ]
  },
  {
   "cell_type": "code",
   "execution_count": 36,
   "metadata": {},
   "outputs": [
    {
     "name": "stderr",
     "output_type": "stream",
     "text": [
      "100%|██████████| 5/5 [00:00<00:00, 541.62it/s]\n"
     ]
    }
   ],
   "source": [
    "post_processing.dump_master_dict(master_dict, s)"
   ]
  },
  {
   "cell_type": "code",
   "execution_count": 37,
   "metadata": {},
   "outputs": [],
   "source": [
    "del master_dict"
   ]
  },
  {
   "cell_type": "markdown",
   "metadata": {},
   "source": [
    "## Create a virtual portfolio\n",
    "\n",
    "Re-calculate the value of the portfolio at the end of each quarter."
   ]
  },
  {
   "cell_type": "markdown",
   "metadata": {},
   "source": [
    "### Remove all the CIK for which we do not have stock data for this time period"
   ]
  },
  {
   "cell_type": "code",
   "execution_count": 38,
   "metadata": {},
   "outputs": [],
   "source": [
    "pf_scores = post_processing.remove_cik_without_price(pf_scores, lookup, stock_data, s)"
   ]
  },
  {
   "cell_type": "code",
   "execution_count": 39,
   "metadata": {},
   "outputs": [],
   "source": [
    "# Create the new empty master dictionary\n",
    "tax_rate = 0.005\n",
    "pf_values = {m: 0 for m in s['metrics'][:-1]}\n",
    "for m in s['metrics'][:-1]:\n",
    "    pf_values[m] = {q: {qtr: [0, tax_rate, 0] for qtr in s['list_qtr'][1:]} for q in s['bin_labels']}"
   ]
  },
  {
   "cell_type": "markdown",
   "metadata": {},
   "source": [
    "## Initialize the portfolio with an equal amount for all bins"
   ]
  },
  {
   "cell_type": "code",
   "execution_count": 40,
   "metadata": {},
   "outputs": [],
   "source": [
    "for m in s['metrics'][:-1]:\n",
    "    for mod_bin in s['bin_labels']:\n",
    "        pf_values[m][mod_bin][s['list_qtr'][s['lag']]] = [s['pf_init_value'], tax_rate, s['pf_init_value']]\n",
    "#print(pf_values['diff_jaccard'])"
   ]
  },
  {
   "cell_type": "markdown",
   "metadata": {},
   "source": [
    "## Calculate the value of the portfolio"
   ]
  },
  {
   "cell_type": "code",
   "execution_count": 42,
   "metadata": {
    "scrolled": false
   },
   "outputs": [],
   "source": [
    "pf_scores = post_processing.calculate_portfolio_value(pf_scores, pf_values, lookup, stock_data, s)"
   ]
  },
  {
   "cell_type": "code",
   "execution_count": 43,
   "metadata": {},
   "outputs": [
    {
     "name": "stderr",
     "output_type": "stream",
     "text": [
      "100%|██████████| 5/5 [00:00<00:00, 4445.00it/s]\n"
     ]
    }
   ],
   "source": [
    "post_processing.dump_pf_values(pf_values, s)"
   ]
  },
  {
   "cell_type": "code",
   "execution_count": 44,
   "metadata": {},
   "outputs": [
    {
     "data": {
      "text/plain": [
       "dict_keys(['diff_jaccard', 'diff_cosine_tf', 'diff_cosine_tf_idf', 'diff_minEdit', 'diff_simple'])"
      ]
     },
     "execution_count": 44,
     "metadata": {},
     "output_type": "execute_result"
    }
   ],
   "source": [
    "pf_values.keys()"
   ]
  },
  {
   "cell_type": "code",
   "execution_count": 45,
   "metadata": {},
   "outputs": [],
   "source": [
    "header_pf_values = (('METRIC', 'text'),  ('QUINTILE', 'text'),\n",
    "                    ('QUARTER', 'text'), ('PF_VALUE', 'float'),\n",
    "                    ('TAX_RATE', 'float'), ('PF_VALUE_POST_TAX', 'float'))\n",
    "header_cik_scores = (('CIK', 'integer'), ('QTR', 'text'), \n",
    "                     ('METRIC', 'text'), ('SCORE', 'float'), \n",
    "                     ('TYPE', 'text'), ('PUBLISHED', 'date'))"
   ]
  },
  {
   "cell_type": "code",
   "execution_count": 46,
   "metadata": {},
   "outputs": [
    {
     "name": "stderr",
     "output_type": "stream",
     "text": [
      " 40%|████      | 2/5 [00:00<00:00, 17.69it/s]"
     ]
    },
    {
     "name": "stdout",
     "output_type": "stream",
     "text": [
      "[INFO] Deleted table pf_values\n",
      "[INFO] Creating the following table:\n",
      "CREATE TABLE pf_values(IDX integer PRIMARY KEY,METRIC text,QUINTILE text,QUARTER text,PF_VALUE float,TAX_RATE float,PF_VALUE_POST_TAX float)\n"
     ]
    },
    {
     "name": "stderr",
     "output_type": "stream",
     "text": [
      "100%|██████████| 5/5 [00:00<00:00, 16.25it/s]\n"
     ]
    }
   ],
   "source": [
    "postgres.pf_values_to_postgres(connector, pf_values, header_pf_values, s)"
   ]
  },
  {
   "cell_type": "code",
   "execution_count": 47,
   "metadata": {},
   "outputs": [
    {
     "name": "stderr",
     "output_type": "stream",
     "text": [
      "  4%|▍         | 3/74 [00:00<00:04, 16.59it/s]"
     ]
    },
    {
     "name": "stdout",
     "output_type": "stream",
     "text": [
      "[INFO] Deleted table cik_scores\n",
      "[INFO] Creating the following table:\n",
      "CREATE TABLE cik_scores(IDX integer PRIMARY KEY,CIK integer,QTR text,METRIC text,SCORE float,TYPE text,PUBLISHED date)\n"
     ]
    },
    {
     "name": "stderr",
     "output_type": "stream",
     "text": [
      "100%|██████████| 74/74 [00:04<00:00, 15.06it/s]\n"
     ]
    }
   ],
   "source": [
    "postgres.cik_scores_to_postgres(connector, cik_scores, header_cik_scores, s)"
   ]
  },
  {
   "cell_type": "code",
   "execution_count": 50,
   "metadata": {},
   "outputs": [],
   "source": [
    "del pf_values"
   ]
  },
  {
   "cell_type": "code",
   "execution_count": 51,
   "metadata": {},
   "outputs": [
    {
     "name": "stdout",
     "output_type": "stream",
     "text": [
      "SELECT * FROM pf_values;\n"
     ]
    }
   ],
   "source": [
    "pf_values = postgres.retrieve_pf_values(connector, 'pf_values', s)"
   ]
  },
  {
   "cell_type": "code",
   "execution_count": 52,
   "metadata": {
    "scrolled": false
   },
   "outputs": [
    {
     "name": "stderr",
     "output_type": "stream",
     "text": [
      "/home/alex/anaconda3/lib/python3.7/site-packages/pandas/plotting/_converter.py:129: FutureWarning: Using an implicitly registered datetime converter for a matplotlib plotting method. The converter was registered by pandas on import. Future versions of pandas will require you to explicitly register matplotlib converters.\n",
      "\n",
      "To register the converters:\n",
      "\t>>> from pandas.plotting import register_matplotlib_converters\n",
      "\t>>> register_matplotlib_converters()\n",
      "  warnings.warn(msg, FutureWarning)\n"
     ]
    },
    {
     "data": {
      "application/javascript": [
       "/* Put everything inside the global mpl namespace */\n",
       "window.mpl = {};\n",
       "\n",
       "\n",
       "mpl.get_websocket_type = function() {\n",
       "    if (typeof(WebSocket) !== 'undefined') {\n",
       "        return WebSocket;\n",
       "    } else if (typeof(MozWebSocket) !== 'undefined') {\n",
       "        return MozWebSocket;\n",
       "    } else {\n",
       "        alert('Your browser does not have WebSocket support.' +\n",
       "              'Please try Chrome, Safari or Firefox ≥ 6. ' +\n",
       "              'Firefox 4 and 5 are also supported but you ' +\n",
       "              'have to enable WebSockets in about:config.');\n",
       "    };\n",
       "}\n",
       "\n",
       "mpl.figure = function(figure_id, websocket, ondownload, parent_element) {\n",
       "    this.id = figure_id;\n",
       "\n",
       "    this.ws = websocket;\n",
       "\n",
       "    this.supports_binary = (this.ws.binaryType != undefined);\n",
       "\n",
       "    if (!this.supports_binary) {\n",
       "        var warnings = document.getElementById(\"mpl-warnings\");\n",
       "        if (warnings) {\n",
       "            warnings.style.display = 'block';\n",
       "            warnings.textContent = (\n",
       "                \"This browser does not support binary websocket messages. \" +\n",
       "                    \"Performance may be slow.\");\n",
       "        }\n",
       "    }\n",
       "\n",
       "    this.imageObj = new Image();\n",
       "\n",
       "    this.context = undefined;\n",
       "    this.message = undefined;\n",
       "    this.canvas = undefined;\n",
       "    this.rubberband_canvas = undefined;\n",
       "    this.rubberband_context = undefined;\n",
       "    this.format_dropdown = undefined;\n",
       "\n",
       "    this.image_mode = 'full';\n",
       "\n",
       "    this.root = $('<div/>');\n",
       "    this._root_extra_style(this.root)\n",
       "    this.root.attr('style', 'display: inline-block');\n",
       "\n",
       "    $(parent_element).append(this.root);\n",
       "\n",
       "    this._init_header(this);\n",
       "    this._init_canvas(this);\n",
       "    this._init_toolbar(this);\n",
       "\n",
       "    var fig = this;\n",
       "\n",
       "    this.waiting = false;\n",
       "\n",
       "    this.ws.onopen =  function () {\n",
       "            fig.send_message(\"supports_binary\", {value: fig.supports_binary});\n",
       "            fig.send_message(\"send_image_mode\", {});\n",
       "            if (mpl.ratio != 1) {\n",
       "                fig.send_message(\"set_dpi_ratio\", {'dpi_ratio': mpl.ratio});\n",
       "            }\n",
       "            fig.send_message(\"refresh\", {});\n",
       "        }\n",
       "\n",
       "    this.imageObj.onload = function() {\n",
       "            if (fig.image_mode == 'full') {\n",
       "                // Full images could contain transparency (where diff images\n",
       "                // almost always do), so we need to clear the canvas so that\n",
       "                // there is no ghosting.\n",
       "                fig.context.clearRect(0, 0, fig.canvas.width, fig.canvas.height);\n",
       "            }\n",
       "            fig.context.drawImage(fig.imageObj, 0, 0);\n",
       "        };\n",
       "\n",
       "    this.imageObj.onunload = function() {\n",
       "        fig.ws.close();\n",
       "    }\n",
       "\n",
       "    this.ws.onmessage = this._make_on_message_function(this);\n",
       "\n",
       "    this.ondownload = ondownload;\n",
       "}\n",
       "\n",
       "mpl.figure.prototype._init_header = function() {\n",
       "    var titlebar = $(\n",
       "        '<div class=\"ui-dialog-titlebar ui-widget-header ui-corner-all ' +\n",
       "        'ui-helper-clearfix\"/>');\n",
       "    var titletext = $(\n",
       "        '<div class=\"ui-dialog-title\" style=\"width: 100%; ' +\n",
       "        'text-align: center; padding: 3px;\"/>');\n",
       "    titlebar.append(titletext)\n",
       "    this.root.append(titlebar);\n",
       "    this.header = titletext[0];\n",
       "}\n",
       "\n",
       "\n",
       "\n",
       "mpl.figure.prototype._canvas_extra_style = function(canvas_div) {\n",
       "\n",
       "}\n",
       "\n",
       "\n",
       "mpl.figure.prototype._root_extra_style = function(canvas_div) {\n",
       "\n",
       "}\n",
       "\n",
       "mpl.figure.prototype._init_canvas = function() {\n",
       "    var fig = this;\n",
       "\n",
       "    var canvas_div = $('<div/>');\n",
       "\n",
       "    canvas_div.attr('style', 'position: relative; clear: both; outline: 0');\n",
       "\n",
       "    function canvas_keyboard_event(event) {\n",
       "        return fig.key_event(event, event['data']);\n",
       "    }\n",
       "\n",
       "    canvas_div.keydown('key_press', canvas_keyboard_event);\n",
       "    canvas_div.keyup('key_release', canvas_keyboard_event);\n",
       "    this.canvas_div = canvas_div\n",
       "    this._canvas_extra_style(canvas_div)\n",
       "    this.root.append(canvas_div);\n",
       "\n",
       "    var canvas = $('<canvas/>');\n",
       "    canvas.addClass('mpl-canvas');\n",
       "    canvas.attr('style', \"left: 0; top: 0; z-index: 0; outline: 0\")\n",
       "\n",
       "    this.canvas = canvas[0];\n",
       "    this.context = canvas[0].getContext(\"2d\");\n",
       "\n",
       "    var backingStore = this.context.backingStorePixelRatio ||\n",
       "\tthis.context.webkitBackingStorePixelRatio ||\n",
       "\tthis.context.mozBackingStorePixelRatio ||\n",
       "\tthis.context.msBackingStorePixelRatio ||\n",
       "\tthis.context.oBackingStorePixelRatio ||\n",
       "\tthis.context.backingStorePixelRatio || 1;\n",
       "\n",
       "    mpl.ratio = (window.devicePixelRatio || 1) / backingStore;\n",
       "\n",
       "    var rubberband = $('<canvas/>');\n",
       "    rubberband.attr('style', \"position: absolute; left: 0; top: 0; z-index: 1;\")\n",
       "\n",
       "    var pass_mouse_events = true;\n",
       "\n",
       "    canvas_div.resizable({\n",
       "        start: function(event, ui) {\n",
       "            pass_mouse_events = false;\n",
       "        },\n",
       "        resize: function(event, ui) {\n",
       "            fig.request_resize(ui.size.width, ui.size.height);\n",
       "        },\n",
       "        stop: function(event, ui) {\n",
       "            pass_mouse_events = true;\n",
       "            fig.request_resize(ui.size.width, ui.size.height);\n",
       "        },\n",
       "    });\n",
       "\n",
       "    function mouse_event_fn(event) {\n",
       "        if (pass_mouse_events)\n",
       "            return fig.mouse_event(event, event['data']);\n",
       "    }\n",
       "\n",
       "    rubberband.mousedown('button_press', mouse_event_fn);\n",
       "    rubberband.mouseup('button_release', mouse_event_fn);\n",
       "    // Throttle sequential mouse events to 1 every 20ms.\n",
       "    rubberband.mousemove('motion_notify', mouse_event_fn);\n",
       "\n",
       "    rubberband.mouseenter('figure_enter', mouse_event_fn);\n",
       "    rubberband.mouseleave('figure_leave', mouse_event_fn);\n",
       "\n",
       "    canvas_div.on(\"wheel\", function (event) {\n",
       "        event = event.originalEvent;\n",
       "        event['data'] = 'scroll'\n",
       "        if (event.deltaY < 0) {\n",
       "            event.step = 1;\n",
       "        } else {\n",
       "            event.step = -1;\n",
       "        }\n",
       "        mouse_event_fn(event);\n",
       "    });\n",
       "\n",
       "    canvas_div.append(canvas);\n",
       "    canvas_div.append(rubberband);\n",
       "\n",
       "    this.rubberband = rubberband;\n",
       "    this.rubberband_canvas = rubberband[0];\n",
       "    this.rubberband_context = rubberband[0].getContext(\"2d\");\n",
       "    this.rubberband_context.strokeStyle = \"#000000\";\n",
       "\n",
       "    this._resize_canvas = function(width, height) {\n",
       "        // Keep the size of the canvas, canvas container, and rubber band\n",
       "        // canvas in synch.\n",
       "        canvas_div.css('width', width)\n",
       "        canvas_div.css('height', height)\n",
       "\n",
       "        canvas.attr('width', width * mpl.ratio);\n",
       "        canvas.attr('height', height * mpl.ratio);\n",
       "        canvas.attr('style', 'width: ' + width + 'px; height: ' + height + 'px;');\n",
       "\n",
       "        rubberband.attr('width', width);\n",
       "        rubberband.attr('height', height);\n",
       "    }\n",
       "\n",
       "    // Set the figure to an initial 600x600px, this will subsequently be updated\n",
       "    // upon first draw.\n",
       "    this._resize_canvas(600, 600);\n",
       "\n",
       "    // Disable right mouse context menu.\n",
       "    $(this.rubberband_canvas).bind(\"contextmenu\",function(e){\n",
       "        return false;\n",
       "    });\n",
       "\n",
       "    function set_focus () {\n",
       "        canvas.focus();\n",
       "        canvas_div.focus();\n",
       "    }\n",
       "\n",
       "    window.setTimeout(set_focus, 100);\n",
       "}\n",
       "\n",
       "mpl.figure.prototype._init_toolbar = function() {\n",
       "    var fig = this;\n",
       "\n",
       "    var nav_element = $('<div/>')\n",
       "    nav_element.attr('style', 'width: 100%');\n",
       "    this.root.append(nav_element);\n",
       "\n",
       "    // Define a callback function for later on.\n",
       "    function toolbar_event(event) {\n",
       "        return fig.toolbar_button_onclick(event['data']);\n",
       "    }\n",
       "    function toolbar_mouse_event(event) {\n",
       "        return fig.toolbar_button_onmouseover(event['data']);\n",
       "    }\n",
       "\n",
       "    for(var toolbar_ind in mpl.toolbar_items) {\n",
       "        var name = mpl.toolbar_items[toolbar_ind][0];\n",
       "        var tooltip = mpl.toolbar_items[toolbar_ind][1];\n",
       "        var image = mpl.toolbar_items[toolbar_ind][2];\n",
       "        var method_name = mpl.toolbar_items[toolbar_ind][3];\n",
       "\n",
       "        if (!name) {\n",
       "            // put a spacer in here.\n",
       "            continue;\n",
       "        }\n",
       "        var button = $('<button/>');\n",
       "        button.addClass('ui-button ui-widget ui-state-default ui-corner-all ' +\n",
       "                        'ui-button-icon-only');\n",
       "        button.attr('role', 'button');\n",
       "        button.attr('aria-disabled', 'false');\n",
       "        button.click(method_name, toolbar_event);\n",
       "        button.mouseover(tooltip, toolbar_mouse_event);\n",
       "\n",
       "        var icon_img = $('<span/>');\n",
       "        icon_img.addClass('ui-button-icon-primary ui-icon');\n",
       "        icon_img.addClass(image);\n",
       "        icon_img.addClass('ui-corner-all');\n",
       "\n",
       "        var tooltip_span = $('<span/>');\n",
       "        tooltip_span.addClass('ui-button-text');\n",
       "        tooltip_span.html(tooltip);\n",
       "\n",
       "        button.append(icon_img);\n",
       "        button.append(tooltip_span);\n",
       "\n",
       "        nav_element.append(button);\n",
       "    }\n",
       "\n",
       "    var fmt_picker_span = $('<span/>');\n",
       "\n",
       "    var fmt_picker = $('<select/>');\n",
       "    fmt_picker.addClass('mpl-toolbar-option ui-widget ui-widget-content');\n",
       "    fmt_picker_span.append(fmt_picker);\n",
       "    nav_element.append(fmt_picker_span);\n",
       "    this.format_dropdown = fmt_picker[0];\n",
       "\n",
       "    for (var ind in mpl.extensions) {\n",
       "        var fmt = mpl.extensions[ind];\n",
       "        var option = $(\n",
       "            '<option/>', {selected: fmt === mpl.default_extension}).html(fmt);\n",
       "        fmt_picker.append(option)\n",
       "    }\n",
       "\n",
       "    // Add hover states to the ui-buttons\n",
       "    $( \".ui-button\" ).hover(\n",
       "        function() { $(this).addClass(\"ui-state-hover\");},\n",
       "        function() { $(this).removeClass(\"ui-state-hover\");}\n",
       "    );\n",
       "\n",
       "    var status_bar = $('<span class=\"mpl-message\"/>');\n",
       "    nav_element.append(status_bar);\n",
       "    this.message = status_bar[0];\n",
       "}\n",
       "\n",
       "mpl.figure.prototype.request_resize = function(x_pixels, y_pixels) {\n",
       "    // Request matplotlib to resize the figure. Matplotlib will then trigger a resize in the client,\n",
       "    // which will in turn request a refresh of the image.\n",
       "    this.send_message('resize', {'width': x_pixels, 'height': y_pixels});\n",
       "}\n",
       "\n",
       "mpl.figure.prototype.send_message = function(type, properties) {\n",
       "    properties['type'] = type;\n",
       "    properties['figure_id'] = this.id;\n",
       "    this.ws.send(JSON.stringify(properties));\n",
       "}\n",
       "\n",
       "mpl.figure.prototype.send_draw_message = function() {\n",
       "    if (!this.waiting) {\n",
       "        this.waiting = true;\n",
       "        this.ws.send(JSON.stringify({type: \"draw\", figure_id: this.id}));\n",
       "    }\n",
       "}\n",
       "\n",
       "\n",
       "mpl.figure.prototype.handle_save = function(fig, msg) {\n",
       "    var format_dropdown = fig.format_dropdown;\n",
       "    var format = format_dropdown.options[format_dropdown.selectedIndex].value;\n",
       "    fig.ondownload(fig, format);\n",
       "}\n",
       "\n",
       "\n",
       "mpl.figure.prototype.handle_resize = function(fig, msg) {\n",
       "    var size = msg['size'];\n",
       "    if (size[0] != fig.canvas.width || size[1] != fig.canvas.height) {\n",
       "        fig._resize_canvas(size[0], size[1]);\n",
       "        fig.send_message(\"refresh\", {});\n",
       "    };\n",
       "}\n",
       "\n",
       "mpl.figure.prototype.handle_rubberband = function(fig, msg) {\n",
       "    var x0 = msg['x0'] / mpl.ratio;\n",
       "    var y0 = (fig.canvas.height - msg['y0']) / mpl.ratio;\n",
       "    var x1 = msg['x1'] / mpl.ratio;\n",
       "    var y1 = (fig.canvas.height - msg['y1']) / mpl.ratio;\n",
       "    x0 = Math.floor(x0) + 0.5;\n",
       "    y0 = Math.floor(y0) + 0.5;\n",
       "    x1 = Math.floor(x1) + 0.5;\n",
       "    y1 = Math.floor(y1) + 0.5;\n",
       "    var min_x = Math.min(x0, x1);\n",
       "    var min_y = Math.min(y0, y1);\n",
       "    var width = Math.abs(x1 - x0);\n",
       "    var height = Math.abs(y1 - y0);\n",
       "\n",
       "    fig.rubberband_context.clearRect(\n",
       "        0, 0, fig.canvas.width, fig.canvas.height);\n",
       "\n",
       "    fig.rubberband_context.strokeRect(min_x, min_y, width, height);\n",
       "}\n",
       "\n",
       "mpl.figure.prototype.handle_figure_label = function(fig, msg) {\n",
       "    // Updates the figure title.\n",
       "    fig.header.textContent = msg['label'];\n",
       "}\n",
       "\n",
       "mpl.figure.prototype.handle_cursor = function(fig, msg) {\n",
       "    var cursor = msg['cursor'];\n",
       "    switch(cursor)\n",
       "    {\n",
       "    case 0:\n",
       "        cursor = 'pointer';\n",
       "        break;\n",
       "    case 1:\n",
       "        cursor = 'default';\n",
       "        break;\n",
       "    case 2:\n",
       "        cursor = 'crosshair';\n",
       "        break;\n",
       "    case 3:\n",
       "        cursor = 'move';\n",
       "        break;\n",
       "    }\n",
       "    fig.rubberband_canvas.style.cursor = cursor;\n",
       "}\n",
       "\n",
       "mpl.figure.prototype.handle_message = function(fig, msg) {\n",
       "    fig.message.textContent = msg['message'];\n",
       "}\n",
       "\n",
       "mpl.figure.prototype.handle_draw = function(fig, msg) {\n",
       "    // Request the server to send over a new figure.\n",
       "    fig.send_draw_message();\n",
       "}\n",
       "\n",
       "mpl.figure.prototype.handle_image_mode = function(fig, msg) {\n",
       "    fig.image_mode = msg['mode'];\n",
       "}\n",
       "\n",
       "mpl.figure.prototype.updated_canvas_event = function() {\n",
       "    // Called whenever the canvas gets updated.\n",
       "    this.send_message(\"ack\", {});\n",
       "}\n",
       "\n",
       "// A function to construct a web socket function for onmessage handling.\n",
       "// Called in the figure constructor.\n",
       "mpl.figure.prototype._make_on_message_function = function(fig) {\n",
       "    return function socket_on_message(evt) {\n",
       "        if (evt.data instanceof Blob) {\n",
       "            /* FIXME: We get \"Resource interpreted as Image but\n",
       "             * transferred with MIME type text/plain:\" errors on\n",
       "             * Chrome.  But how to set the MIME type?  It doesn't seem\n",
       "             * to be part of the websocket stream */\n",
       "            evt.data.type = \"image/png\";\n",
       "\n",
       "            /* Free the memory for the previous frames */\n",
       "            if (fig.imageObj.src) {\n",
       "                (window.URL || window.webkitURL).revokeObjectURL(\n",
       "                    fig.imageObj.src);\n",
       "            }\n",
       "\n",
       "            fig.imageObj.src = (window.URL || window.webkitURL).createObjectURL(\n",
       "                evt.data);\n",
       "            fig.updated_canvas_event();\n",
       "            fig.waiting = false;\n",
       "            return;\n",
       "        }\n",
       "        else if (typeof evt.data === 'string' && evt.data.slice(0, 21) == \"data:image/png;base64\") {\n",
       "            fig.imageObj.src = evt.data;\n",
       "            fig.updated_canvas_event();\n",
       "            fig.waiting = false;\n",
       "            return;\n",
       "        }\n",
       "\n",
       "        var msg = JSON.parse(evt.data);\n",
       "        var msg_type = msg['type'];\n",
       "\n",
       "        // Call the  \"handle_{type}\" callback, which takes\n",
       "        // the figure and JSON message as its only arguments.\n",
       "        try {\n",
       "            var callback = fig[\"handle_\" + msg_type];\n",
       "        } catch (e) {\n",
       "            console.log(\"No handler for the '\" + msg_type + \"' message type: \", msg);\n",
       "            return;\n",
       "        }\n",
       "\n",
       "        if (callback) {\n",
       "            try {\n",
       "                // console.log(\"Handling '\" + msg_type + \"' message: \", msg);\n",
       "                callback(fig, msg);\n",
       "            } catch (e) {\n",
       "                console.log(\"Exception inside the 'handler_\" + msg_type + \"' callback:\", e, e.stack, msg);\n",
       "            }\n",
       "        }\n",
       "    };\n",
       "}\n",
       "\n",
       "// from http://stackoverflow.com/questions/1114465/getting-mouse-location-in-canvas\n",
       "mpl.findpos = function(e) {\n",
       "    //this section is from http://www.quirksmode.org/js/events_properties.html\n",
       "    var targ;\n",
       "    if (!e)\n",
       "        e = window.event;\n",
       "    if (e.target)\n",
       "        targ = e.target;\n",
       "    else if (e.srcElement)\n",
       "        targ = e.srcElement;\n",
       "    if (targ.nodeType == 3) // defeat Safari bug\n",
       "        targ = targ.parentNode;\n",
       "\n",
       "    // jQuery normalizes the pageX and pageY\n",
       "    // pageX,Y are the mouse positions relative to the document\n",
       "    // offset() returns the position of the element relative to the document\n",
       "    var x = e.pageX - $(targ).offset().left;\n",
       "    var y = e.pageY - $(targ).offset().top;\n",
       "\n",
       "    return {\"x\": x, \"y\": y};\n",
       "};\n",
       "\n",
       "/*\n",
       " * return a copy of an object with only non-object keys\n",
       " * we need this to avoid circular references\n",
       " * http://stackoverflow.com/a/24161582/3208463\n",
       " */\n",
       "function simpleKeys (original) {\n",
       "  return Object.keys(original).reduce(function (obj, key) {\n",
       "    if (typeof original[key] !== 'object')\n",
       "        obj[key] = original[key]\n",
       "    return obj;\n",
       "  }, {});\n",
       "}\n",
       "\n",
       "mpl.figure.prototype.mouse_event = function(event, name) {\n",
       "    var canvas_pos = mpl.findpos(event)\n",
       "\n",
       "    if (name === 'button_press')\n",
       "    {\n",
       "        this.canvas.focus();\n",
       "        this.canvas_div.focus();\n",
       "    }\n",
       "\n",
       "    var x = canvas_pos.x * mpl.ratio;\n",
       "    var y = canvas_pos.y * mpl.ratio;\n",
       "\n",
       "    this.send_message(name, {x: x, y: y, button: event.button,\n",
       "                             step: event.step,\n",
       "                             guiEvent: simpleKeys(event)});\n",
       "\n",
       "    /* This prevents the web browser from automatically changing to\n",
       "     * the text insertion cursor when the button is pressed.  We want\n",
       "     * to control all of the cursor setting manually through the\n",
       "     * 'cursor' event from matplotlib */\n",
       "    event.preventDefault();\n",
       "    return false;\n",
       "}\n",
       "\n",
       "mpl.figure.prototype._key_event_extra = function(event, name) {\n",
       "    // Handle any extra behaviour associated with a key event\n",
       "}\n",
       "\n",
       "mpl.figure.prototype.key_event = function(event, name) {\n",
       "\n",
       "    // Prevent repeat events\n",
       "    if (name == 'key_press')\n",
       "    {\n",
       "        if (event.which === this._key)\n",
       "            return;\n",
       "        else\n",
       "            this._key = event.which;\n",
       "    }\n",
       "    if (name == 'key_release')\n",
       "        this._key = null;\n",
       "\n",
       "    var value = '';\n",
       "    if (event.ctrlKey && event.which != 17)\n",
       "        value += \"ctrl+\";\n",
       "    if (event.altKey && event.which != 18)\n",
       "        value += \"alt+\";\n",
       "    if (event.shiftKey && event.which != 16)\n",
       "        value += \"shift+\";\n",
       "\n",
       "    value += 'k';\n",
       "    value += event.which.toString();\n",
       "\n",
       "    this._key_event_extra(event, name);\n",
       "\n",
       "    this.send_message(name, {key: value,\n",
       "                             guiEvent: simpleKeys(event)});\n",
       "    return false;\n",
       "}\n",
       "\n",
       "mpl.figure.prototype.toolbar_button_onclick = function(name) {\n",
       "    if (name == 'download') {\n",
       "        this.handle_save(this, null);\n",
       "    } else {\n",
       "        this.send_message(\"toolbar_button\", {name: name});\n",
       "    }\n",
       "};\n",
       "\n",
       "mpl.figure.prototype.toolbar_button_onmouseover = function(tooltip) {\n",
       "    this.message.textContent = tooltip;\n",
       "};\n",
       "mpl.toolbar_items = [[\"Home\", \"Reset original view\", \"fa fa-home icon-home\", \"home\"], [\"Back\", \"Back to previous view\", \"fa fa-arrow-left icon-arrow-left\", \"back\"], [\"Forward\", \"Forward to next view\", \"fa fa-arrow-right icon-arrow-right\", \"forward\"], [\"\", \"\", \"\", \"\"], [\"Pan\", \"Pan axes with left mouse, zoom with right\", \"fa fa-arrows icon-move\", \"pan\"], [\"Zoom\", \"Zoom to rectangle\", \"fa fa-square-o icon-check-empty\", \"zoom\"], [\"\", \"\", \"\", \"\"], [\"Download\", \"Download plot\", \"fa fa-floppy-o icon-save\", \"download\"]];\n",
       "\n",
       "mpl.extensions = [\"eps\", \"jpeg\", \"pdf\", \"png\", \"ps\", \"raw\", \"svg\", \"tif\"];\n",
       "\n",
       "mpl.default_extension = \"png\";var comm_websocket_adapter = function(comm) {\n",
       "    // Create a \"websocket\"-like object which calls the given IPython comm\n",
       "    // object with the appropriate methods. Currently this is a non binary\n",
       "    // socket, so there is still some room for performance tuning.\n",
       "    var ws = {};\n",
       "\n",
       "    ws.close = function() {\n",
       "        comm.close()\n",
       "    };\n",
       "    ws.send = function(m) {\n",
       "        //console.log('sending', m);\n",
       "        comm.send(m);\n",
       "    };\n",
       "    // Register the callback with on_msg.\n",
       "    comm.on_msg(function(msg) {\n",
       "        //console.log('receiving', msg['content']['data'], msg);\n",
       "        // Pass the mpl event to the overridden (by mpl) onmessage function.\n",
       "        ws.onmessage(msg['content']['data'])\n",
       "    });\n",
       "    return ws;\n",
       "}\n",
       "\n",
       "mpl.mpl_figure_comm = function(comm, msg) {\n",
       "    // This is the function which gets called when the mpl process\n",
       "    // starts-up an IPython Comm through the \"matplotlib\" channel.\n",
       "\n",
       "    var id = msg.content.data.id;\n",
       "    // Get hold of the div created by the display call when the Comm\n",
       "    // socket was opened in Python.\n",
       "    var element = $(\"#\" + id);\n",
       "    var ws_proxy = comm_websocket_adapter(comm)\n",
       "\n",
       "    function ondownload(figure, format) {\n",
       "        window.open(figure.imageObj.src);\n",
       "    }\n",
       "\n",
       "    var fig = new mpl.figure(id, ws_proxy,\n",
       "                           ondownload,\n",
       "                           element.get(0));\n",
       "\n",
       "    // Call onopen now - mpl needs it, as it is assuming we've passed it a real\n",
       "    // web socket which is closed, not our websocket->open comm proxy.\n",
       "    ws_proxy.onopen();\n",
       "\n",
       "    fig.parent_element = element.get(0);\n",
       "    fig.cell_info = mpl.find_output_cell(\"<div id='\" + id + \"'></div>\");\n",
       "    if (!fig.cell_info) {\n",
       "        console.error(\"Failed to find cell for figure\", id, fig);\n",
       "        return;\n",
       "    }\n",
       "\n",
       "    var output_index = fig.cell_info[2]\n",
       "    var cell = fig.cell_info[0];\n",
       "\n",
       "};\n",
       "\n",
       "mpl.figure.prototype.handle_close = function(fig, msg) {\n",
       "    var width = fig.canvas.width/mpl.ratio\n",
       "    fig.root.unbind('remove')\n",
       "\n",
       "    // Update the output cell to use the data from the current canvas.\n",
       "    fig.push_to_output();\n",
       "    var dataURL = fig.canvas.toDataURL();\n",
       "    // Re-enable the keyboard manager in IPython - without this line, in FF,\n",
       "    // the notebook keyboard shortcuts fail.\n",
       "    IPython.keyboard_manager.enable()\n",
       "    $(fig.parent_element).html('<img src=\"' + dataURL + '\" width=\"' + width + '\">');\n",
       "    fig.close_ws(fig, msg);\n",
       "}\n",
       "\n",
       "mpl.figure.prototype.close_ws = function(fig, msg){\n",
       "    fig.send_message('closing', msg);\n",
       "    // fig.ws.close()\n",
       "}\n",
       "\n",
       "mpl.figure.prototype.push_to_output = function(remove_interactive) {\n",
       "    // Turn the data on the canvas into data in the output cell.\n",
       "    var width = this.canvas.width/mpl.ratio\n",
       "    var dataURL = this.canvas.toDataURL();\n",
       "    this.cell_info[1]['text/html'] = '<img src=\"' + dataURL + '\" width=\"' + width + '\">';\n",
       "}\n",
       "\n",
       "mpl.figure.prototype.updated_canvas_event = function() {\n",
       "    // Tell IPython that the notebook contents must change.\n",
       "    IPython.notebook.set_dirty(true);\n",
       "    this.send_message(\"ack\", {});\n",
       "    var fig = this;\n",
       "    // Wait a second, then push the new image to the DOM so\n",
       "    // that it is saved nicely (might be nice to debounce this).\n",
       "    setTimeout(function () { fig.push_to_output() }, 1000);\n",
       "}\n",
       "\n",
       "mpl.figure.prototype._init_toolbar = function() {\n",
       "    var fig = this;\n",
       "\n",
       "    var nav_element = $('<div/>')\n",
       "    nav_element.attr('style', 'width: 100%');\n",
       "    this.root.append(nav_element);\n",
       "\n",
       "    // Define a callback function for later on.\n",
       "    function toolbar_event(event) {\n",
       "        return fig.toolbar_button_onclick(event['data']);\n",
       "    }\n",
       "    function toolbar_mouse_event(event) {\n",
       "        return fig.toolbar_button_onmouseover(event['data']);\n",
       "    }\n",
       "\n",
       "    for(var toolbar_ind in mpl.toolbar_items){\n",
       "        var name = mpl.toolbar_items[toolbar_ind][0];\n",
       "        var tooltip = mpl.toolbar_items[toolbar_ind][1];\n",
       "        var image = mpl.toolbar_items[toolbar_ind][2];\n",
       "        var method_name = mpl.toolbar_items[toolbar_ind][3];\n",
       "\n",
       "        if (!name) { continue; };\n",
       "\n",
       "        var button = $('<button class=\"btn btn-default\" href=\"#\" title=\"' + name + '\"><i class=\"fa ' + image + ' fa-lg\"></i></button>');\n",
       "        button.click(method_name, toolbar_event);\n",
       "        button.mouseover(tooltip, toolbar_mouse_event);\n",
       "        nav_element.append(button);\n",
       "    }\n",
       "\n",
       "    // Add the status bar.\n",
       "    var status_bar = $('<span class=\"mpl-message\" style=\"text-align:right; float: right;\"/>');\n",
       "    nav_element.append(status_bar);\n",
       "    this.message = status_bar[0];\n",
       "\n",
       "    // Add the close button to the window.\n",
       "    var buttongrp = $('<div class=\"btn-group inline pull-right\"></div>');\n",
       "    var button = $('<button class=\"btn btn-mini btn-primary\" href=\"#\" title=\"Stop Interaction\"><i class=\"fa fa-power-off icon-remove icon-large\"></i></button>');\n",
       "    button.click(function (evt) { fig.handle_close(fig, {}); } );\n",
       "    button.mouseover('Stop Interaction', toolbar_mouse_event);\n",
       "    buttongrp.append(button);\n",
       "    var titlebar = this.root.find($('.ui-dialog-titlebar'));\n",
       "    titlebar.prepend(buttongrp);\n",
       "}\n",
       "\n",
       "mpl.figure.prototype._root_extra_style = function(el){\n",
       "    var fig = this\n",
       "    el.on(\"remove\", function(){\n",
       "\tfig.close_ws(fig, {});\n",
       "    });\n",
       "}\n",
       "\n",
       "mpl.figure.prototype._canvas_extra_style = function(el){\n",
       "    // this is important to make the div 'focusable\n",
       "    el.attr('tabindex', 0)\n",
       "    // reach out to IPython and tell the keyboard manager to turn it's self\n",
       "    // off when our div gets focus\n",
       "\n",
       "    // location in version 3\n",
       "    if (IPython.notebook.keyboard_manager) {\n",
       "        IPython.notebook.keyboard_manager.register_events(el);\n",
       "    }\n",
       "    else {\n",
       "        // location in version 2\n",
       "        IPython.keyboard_manager.register_events(el);\n",
       "    }\n",
       "\n",
       "}\n",
       "\n",
       "mpl.figure.prototype._key_event_extra = function(event, name) {\n",
       "    var manager = IPython.notebook.keyboard_manager;\n",
       "    if (!manager)\n",
       "        manager = IPython.keyboard_manager;\n",
       "\n",
       "    // Check for shift+enter\n",
       "    if (event.shiftKey && event.which == 13) {\n",
       "        this.canvas_div.blur();\n",
       "        event.shiftKey = false;\n",
       "        // Send a \"J\" for go to next cell\n",
       "        event.which = 74;\n",
       "        event.keyCode = 74;\n",
       "        manager.command_mode();\n",
       "        manager.handle_keydown(event);\n",
       "    }\n",
       "}\n",
       "\n",
       "mpl.figure.prototype.handle_save = function(fig, msg) {\n",
       "    fig.ondownload(fig, null);\n",
       "}\n",
       "\n",
       "\n",
       "mpl.find_output_cell = function(html_output) {\n",
       "    // Return the cell and output element which can be found *uniquely* in the notebook.\n",
       "    // Note - this is a bit hacky, but it is done because the \"notebook_saving.Notebook\"\n",
       "    // IPython event is triggered only after the cells have been serialised, which for\n",
       "    // our purposes (turning an active figure into a static one), is too late.\n",
       "    var cells = IPython.notebook.get_cells();\n",
       "    var ncells = cells.length;\n",
       "    for (var i=0; i<ncells; i++) {\n",
       "        var cell = cells[i];\n",
       "        if (cell.cell_type === 'code'){\n",
       "            for (var j=0; j<cell.output_area.outputs.length; j++) {\n",
       "                var data = cell.output_area.outputs[j];\n",
       "                if (data.data) {\n",
       "                    // IPython >= 3 moved mimebundle to data attribute of output\n",
       "                    data = data.data;\n",
       "                }\n",
       "                if (data['text/html'] == html_output) {\n",
       "                    return [cell, data, j];\n",
       "                }\n",
       "            }\n",
       "        }\n",
       "    }\n",
       "}\n",
       "\n",
       "// Register the function which deals with the matplotlib target/channel.\n",
       "// The kernel may be null if the page has been refreshed.\n",
       "if (IPython.notebook.kernel != null) {\n",
       "    IPython.notebook.kernel.comm_manager.register_target('matplotlib', mpl.mpl_figure_comm);\n",
       "}\n"
      ],
      "text/plain": [
       "<IPython.core.display.Javascript object>"
      ]
     },
     "metadata": {},
     "output_type": "display_data"
    },
    {
     "data": {
      "text/html": [
       "<img src=\"data:image/png;base64,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\" width=\"1000\">"
      ],
      "text/plain": [
       "<IPython.core.display.HTML object>"
      ]
     },
     "metadata": {},
     "output_type": "display_data"
    }
   ],
   "source": [
    "index_name = 'SPX'\n",
    "display.diff_vs_benchmark(pf_values, index_name, index_data, s)"
   ]
  },
  {
   "cell_type": "code",
   "execution_count": null,
   "metadata": {},
   "outputs": [],
   "source": [
    "# Output the data for the pf value\n",
    "for qtr in s['list_qtr'][s['lag']:]:\n",
    "    print(qtr, pf_values['diff_jaccard']['Q5'][qtr][0])"
   ]
  },
  {
   "cell_type": "code",
   "execution_count": 53,
   "metadata": {},
   "outputs": [
    {
     "name": "stderr",
     "output_type": "stream",
     "text": [
      "100%|██████████| 74/74 [00:00<00:00, 6846.48it/s]\n"
     ]
    }
   ],
   "source": [
    "post_processing.dump_cik_scores(cik_scores, s)"
   ]
  },
  {
   "cell_type": "code",
   "execution_count": 54,
   "metadata": {},
   "outputs": [],
   "source": [
    "del cik_scores"
   ]
  },
  {
   "cell_type": "code",
   "execution_count": 55,
   "metadata": {
    "scrolled": true
   },
   "outputs": [
    {
     "name": "stdout",
     "output_type": "stream",
     "text": [
      "SELECT * FROM cik_scores WHERE cik = '851968';\n"
     ]
    }
   ],
   "source": [
    "cik_scores = postgres.retrieve_cik_scores(connector, 851968, s)"
   ]
  },
  {
   "cell_type": "code",
   "execution_count": 56,
   "metadata": {
    "scrolled": true
   },
   "outputs": [],
   "source": [
    "# [DEBUG] Show the Apple data for that time period\n",
    "# extracted_cik_scores = cik_scores[data_to_process[0][0]]\n",
    "data_to_process = ([k, v, {**s}, lm_dictionary] for k, v in cik_path.items())\n",
    "cik = next(data_to_process)[0]\n",
    "extracted_cik_scores = cik_scores[cik]\n",
    "# extracted_cik_scores"
   ]
  },
  {
   "cell_type": "code",
   "execution_count": 57,
   "metadata": {},
   "outputs": [],
   "source": [
    "#ticker = lookup[320193]\n",
    "ticker = lookup[cik]\n",
    "start_date = qtrs.qtr_to_day(s['time_range'][0], 'first', date_format='datetime')\n",
    "stop_date = qtrs.qtr_to_day(s['time_range'][1], 'last', date_format='datetime')\n",
    "\n",
    "#print(s['time_range'], start_date)\n",
    "#print(s['time_range'], stop_date)\n",
    "extracted_stock_data = {k: v for k, v in stock_data[ticker].items() if start_date <= k <= stop_date}\n",
    "#print(extracted_data)\n"
   ]
  },
  {
   "cell_type": "markdown",
   "metadata": {},
   "source": [
    "# Display the data"
   ]
  },
  {
   "cell_type": "markdown",
   "metadata": {},
   "source": [
    "## For a given ticker"
   ]
  },
  {
   "cell_type": "markdown",
   "metadata": {},
   "source": [
    "### Metrics vs stock price"
   ]
  },
  {
   "cell_type": "code",
   "execution_count": 58,
   "metadata": {
    "scrolled": false
   },
   "outputs": [
    {
     "name": "stdout",
     "output_type": "stream",
     "text": [
      "[INFO] Publication dates: 2010-05-03\n",
      "[INFO] Publication dates: 2010-08-06\n",
      "[INFO] Publication dates: 2010-11-05\n",
      "[INFO] Publication dates: 2011-03-01\n",
      "[INFO] Publication dates: 2011-05-06\n",
      "[INFO] Publication dates: 2011-08-05\n",
      "[INFO] Publication dates: 2011-11-04\n",
      "[INFO] Publication dates: 2012-02-29\n",
      "[INFO] Publication dates: 2012-05-04\n",
      "[INFO] Publication dates: 2012-08-03\n",
      "[INFO] Publication dates: 2012-11-02\n"
     ]
    },
    {
     "data": {
      "application/javascript": [
       "/* Put everything inside the global mpl namespace */\n",
       "window.mpl = {};\n",
       "\n",
       "\n",
       "mpl.get_websocket_type = function() {\n",
       "    if (typeof(WebSocket) !== 'undefined') {\n",
       "        return WebSocket;\n",
       "    } else if (typeof(MozWebSocket) !== 'undefined') {\n",
       "        return MozWebSocket;\n",
       "    } else {\n",
       "        alert('Your browser does not have WebSocket support.' +\n",
       "              'Please try Chrome, Safari or Firefox ≥ 6. ' +\n",
       "              'Firefox 4 and 5 are also supported but you ' +\n",
       "              'have to enable WebSockets in about:config.');\n",
       "    };\n",
       "}\n",
       "\n",
       "mpl.figure = function(figure_id, websocket, ondownload, parent_element) {\n",
       "    this.id = figure_id;\n",
       "\n",
       "    this.ws = websocket;\n",
       "\n",
       "    this.supports_binary = (this.ws.binaryType != undefined);\n",
       "\n",
       "    if (!this.supports_binary) {\n",
       "        var warnings = document.getElementById(\"mpl-warnings\");\n",
       "        if (warnings) {\n",
       "            warnings.style.display = 'block';\n",
       "            warnings.textContent = (\n",
       "                \"This browser does not support binary websocket messages. \" +\n",
       "                    \"Performance may be slow.\");\n",
       "        }\n",
       "    }\n",
       "\n",
       "    this.imageObj = new Image();\n",
       "\n",
       "    this.context = undefined;\n",
       "    this.message = undefined;\n",
       "    this.canvas = undefined;\n",
       "    this.rubberband_canvas = undefined;\n",
       "    this.rubberband_context = undefined;\n",
       "    this.format_dropdown = undefined;\n",
       "\n",
       "    this.image_mode = 'full';\n",
       "\n",
       "    this.root = $('<div/>');\n",
       "    this._root_extra_style(this.root)\n",
       "    this.root.attr('style', 'display: inline-block');\n",
       "\n",
       "    $(parent_element).append(this.root);\n",
       "\n",
       "    this._init_header(this);\n",
       "    this._init_canvas(this);\n",
       "    this._init_toolbar(this);\n",
       "\n",
       "    var fig = this;\n",
       "\n",
       "    this.waiting = false;\n",
       "\n",
       "    this.ws.onopen =  function () {\n",
       "            fig.send_message(\"supports_binary\", {value: fig.supports_binary});\n",
       "            fig.send_message(\"send_image_mode\", {});\n",
       "            if (mpl.ratio != 1) {\n",
       "                fig.send_message(\"set_dpi_ratio\", {'dpi_ratio': mpl.ratio});\n",
       "            }\n",
       "            fig.send_message(\"refresh\", {});\n",
       "        }\n",
       "\n",
       "    this.imageObj.onload = function() {\n",
       "            if (fig.image_mode == 'full') {\n",
       "                // Full images could contain transparency (where diff images\n",
       "                // almost always do), so we need to clear the canvas so that\n",
       "                // there is no ghosting.\n",
       "                fig.context.clearRect(0, 0, fig.canvas.width, fig.canvas.height);\n",
       "            }\n",
       "            fig.context.drawImage(fig.imageObj, 0, 0);\n",
       "        };\n",
       "\n",
       "    this.imageObj.onunload = function() {\n",
       "        fig.ws.close();\n",
       "    }\n",
       "\n",
       "    this.ws.onmessage = this._make_on_message_function(this);\n",
       "\n",
       "    this.ondownload = ondownload;\n",
       "}\n",
       "\n",
       "mpl.figure.prototype._init_header = function() {\n",
       "    var titlebar = $(\n",
       "        '<div class=\"ui-dialog-titlebar ui-widget-header ui-corner-all ' +\n",
       "        'ui-helper-clearfix\"/>');\n",
       "    var titletext = $(\n",
       "        '<div class=\"ui-dialog-title\" style=\"width: 100%; ' +\n",
       "        'text-align: center; padding: 3px;\"/>');\n",
       "    titlebar.append(titletext)\n",
       "    this.root.append(titlebar);\n",
       "    this.header = titletext[0];\n",
       "}\n",
       "\n",
       "\n",
       "\n",
       "mpl.figure.prototype._canvas_extra_style = function(canvas_div) {\n",
       "\n",
       "}\n",
       "\n",
       "\n",
       "mpl.figure.prototype._root_extra_style = function(canvas_div) {\n",
       "\n",
       "}\n",
       "\n",
       "mpl.figure.prototype._init_canvas = function() {\n",
       "    var fig = this;\n",
       "\n",
       "    var canvas_div = $('<div/>');\n",
       "\n",
       "    canvas_div.attr('style', 'position: relative; clear: both; outline: 0');\n",
       "\n",
       "    function canvas_keyboard_event(event) {\n",
       "        return fig.key_event(event, event['data']);\n",
       "    }\n",
       "\n",
       "    canvas_div.keydown('key_press', canvas_keyboard_event);\n",
       "    canvas_div.keyup('key_release', canvas_keyboard_event);\n",
       "    this.canvas_div = canvas_div\n",
       "    this._canvas_extra_style(canvas_div)\n",
       "    this.root.append(canvas_div);\n",
       "\n",
       "    var canvas = $('<canvas/>');\n",
       "    canvas.addClass('mpl-canvas');\n",
       "    canvas.attr('style', \"left: 0; top: 0; z-index: 0; outline: 0\")\n",
       "\n",
       "    this.canvas = canvas[0];\n",
       "    this.context = canvas[0].getContext(\"2d\");\n",
       "\n",
       "    var backingStore = this.context.backingStorePixelRatio ||\n",
       "\tthis.context.webkitBackingStorePixelRatio ||\n",
       "\tthis.context.mozBackingStorePixelRatio ||\n",
       "\tthis.context.msBackingStorePixelRatio ||\n",
       "\tthis.context.oBackingStorePixelRatio ||\n",
       "\tthis.context.backingStorePixelRatio || 1;\n",
       "\n",
       "    mpl.ratio = (window.devicePixelRatio || 1) / backingStore;\n",
       "\n",
       "    var rubberband = $('<canvas/>');\n",
       "    rubberband.attr('style', \"position: absolute; left: 0; top: 0; z-index: 1;\")\n",
       "\n",
       "    var pass_mouse_events = true;\n",
       "\n",
       "    canvas_div.resizable({\n",
       "        start: function(event, ui) {\n",
       "            pass_mouse_events = false;\n",
       "        },\n",
       "        resize: function(event, ui) {\n",
       "            fig.request_resize(ui.size.width, ui.size.height);\n",
       "        },\n",
       "        stop: function(event, ui) {\n",
       "            pass_mouse_events = true;\n",
       "            fig.request_resize(ui.size.width, ui.size.height);\n",
       "        },\n",
       "    });\n",
       "\n",
       "    function mouse_event_fn(event) {\n",
       "        if (pass_mouse_events)\n",
       "            return fig.mouse_event(event, event['data']);\n",
       "    }\n",
       "\n",
       "    rubberband.mousedown('button_press', mouse_event_fn);\n",
       "    rubberband.mouseup('button_release', mouse_event_fn);\n",
       "    // Throttle sequential mouse events to 1 every 20ms.\n",
       "    rubberband.mousemove('motion_notify', mouse_event_fn);\n",
       "\n",
       "    rubberband.mouseenter('figure_enter', mouse_event_fn);\n",
       "    rubberband.mouseleave('figure_leave', mouse_event_fn);\n",
       "\n",
       "    canvas_div.on(\"wheel\", function (event) {\n",
       "        event = event.originalEvent;\n",
       "        event['data'] = 'scroll'\n",
       "        if (event.deltaY < 0) {\n",
       "            event.step = 1;\n",
       "        } else {\n",
       "            event.step = -1;\n",
       "        }\n",
       "        mouse_event_fn(event);\n",
       "    });\n",
       "\n",
       "    canvas_div.append(canvas);\n",
       "    canvas_div.append(rubberband);\n",
       "\n",
       "    this.rubberband = rubberband;\n",
       "    this.rubberband_canvas = rubberband[0];\n",
       "    this.rubberband_context = rubberband[0].getContext(\"2d\");\n",
       "    this.rubberband_context.strokeStyle = \"#000000\";\n",
       "\n",
       "    this._resize_canvas = function(width, height) {\n",
       "        // Keep the size of the canvas, canvas container, and rubber band\n",
       "        // canvas in synch.\n",
       "        canvas_div.css('width', width)\n",
       "        canvas_div.css('height', height)\n",
       "\n",
       "        canvas.attr('width', width * mpl.ratio);\n",
       "        canvas.attr('height', height * mpl.ratio);\n",
       "        canvas.attr('style', 'width: ' + width + 'px; height: ' + height + 'px;');\n",
       "\n",
       "        rubberband.attr('width', width);\n",
       "        rubberband.attr('height', height);\n",
       "    }\n",
       "\n",
       "    // Set the figure to an initial 600x600px, this will subsequently be updated\n",
       "    // upon first draw.\n",
       "    this._resize_canvas(600, 600);\n",
       "\n",
       "    // Disable right mouse context menu.\n",
       "    $(this.rubberband_canvas).bind(\"contextmenu\",function(e){\n",
       "        return false;\n",
       "    });\n",
       "\n",
       "    function set_focus () {\n",
       "        canvas.focus();\n",
       "        canvas_div.focus();\n",
       "    }\n",
       "\n",
       "    window.setTimeout(set_focus, 100);\n",
       "}\n",
       "\n",
       "mpl.figure.prototype._init_toolbar = function() {\n",
       "    var fig = this;\n",
       "\n",
       "    var nav_element = $('<div/>')\n",
       "    nav_element.attr('style', 'width: 100%');\n",
       "    this.root.append(nav_element);\n",
       "\n",
       "    // Define a callback function for later on.\n",
       "    function toolbar_event(event) {\n",
       "        return fig.toolbar_button_onclick(event['data']);\n",
       "    }\n",
       "    function toolbar_mouse_event(event) {\n",
       "        return fig.toolbar_button_onmouseover(event['data']);\n",
       "    }\n",
       "\n",
       "    for(var toolbar_ind in mpl.toolbar_items) {\n",
       "        var name = mpl.toolbar_items[toolbar_ind][0];\n",
       "        var tooltip = mpl.toolbar_items[toolbar_ind][1];\n",
       "        var image = mpl.toolbar_items[toolbar_ind][2];\n",
       "        var method_name = mpl.toolbar_items[toolbar_ind][3];\n",
       "\n",
       "        if (!name) {\n",
       "            // put a spacer in here.\n",
       "            continue;\n",
       "        }\n",
       "        var button = $('<button/>');\n",
       "        button.addClass('ui-button ui-widget ui-state-default ui-corner-all ' +\n",
       "                        'ui-button-icon-only');\n",
       "        button.attr('role', 'button');\n",
       "        button.attr('aria-disabled', 'false');\n",
       "        button.click(method_name, toolbar_event);\n",
       "        button.mouseover(tooltip, toolbar_mouse_event);\n",
       "\n",
       "        var icon_img = $('<span/>');\n",
       "        icon_img.addClass('ui-button-icon-primary ui-icon');\n",
       "        icon_img.addClass(image);\n",
       "        icon_img.addClass('ui-corner-all');\n",
       "\n",
       "        var tooltip_span = $('<span/>');\n",
       "        tooltip_span.addClass('ui-button-text');\n",
       "        tooltip_span.html(tooltip);\n",
       "\n",
       "        button.append(icon_img);\n",
       "        button.append(tooltip_span);\n",
       "\n",
       "        nav_element.append(button);\n",
       "    }\n",
       "\n",
       "    var fmt_picker_span = $('<span/>');\n",
       "\n",
       "    var fmt_picker = $('<select/>');\n",
       "    fmt_picker.addClass('mpl-toolbar-option ui-widget ui-widget-content');\n",
       "    fmt_picker_span.append(fmt_picker);\n",
       "    nav_element.append(fmt_picker_span);\n",
       "    this.format_dropdown = fmt_picker[0];\n",
       "\n",
       "    for (var ind in mpl.extensions) {\n",
       "        var fmt = mpl.extensions[ind];\n",
       "        var option = $(\n",
       "            '<option/>', {selected: fmt === mpl.default_extension}).html(fmt);\n",
       "        fmt_picker.append(option)\n",
       "    }\n",
       "\n",
       "    // Add hover states to the ui-buttons\n",
       "    $( \".ui-button\" ).hover(\n",
       "        function() { $(this).addClass(\"ui-state-hover\");},\n",
       "        function() { $(this).removeClass(\"ui-state-hover\");}\n",
       "    );\n",
       "\n",
       "    var status_bar = $('<span class=\"mpl-message\"/>');\n",
       "    nav_element.append(status_bar);\n",
       "    this.message = status_bar[0];\n",
       "}\n",
       "\n",
       "mpl.figure.prototype.request_resize = function(x_pixels, y_pixels) {\n",
       "    // Request matplotlib to resize the figure. Matplotlib will then trigger a resize in the client,\n",
       "    // which will in turn request a refresh of the image.\n",
       "    this.send_message('resize', {'width': x_pixels, 'height': y_pixels});\n",
       "}\n",
       "\n",
       "mpl.figure.prototype.send_message = function(type, properties) {\n",
       "    properties['type'] = type;\n",
       "    properties['figure_id'] = this.id;\n",
       "    this.ws.send(JSON.stringify(properties));\n",
       "}\n",
       "\n",
       "mpl.figure.prototype.send_draw_message = function() {\n",
       "    if (!this.waiting) {\n",
       "        this.waiting = true;\n",
       "        this.ws.send(JSON.stringify({type: \"draw\", figure_id: this.id}));\n",
       "    }\n",
       "}\n",
       "\n",
       "\n",
       "mpl.figure.prototype.handle_save = function(fig, msg) {\n",
       "    var format_dropdown = fig.format_dropdown;\n",
       "    var format = format_dropdown.options[format_dropdown.selectedIndex].value;\n",
       "    fig.ondownload(fig, format);\n",
       "}\n",
       "\n",
       "\n",
       "mpl.figure.prototype.handle_resize = function(fig, msg) {\n",
       "    var size = msg['size'];\n",
       "    if (size[0] != fig.canvas.width || size[1] != fig.canvas.height) {\n",
       "        fig._resize_canvas(size[0], size[1]);\n",
       "        fig.send_message(\"refresh\", {});\n",
       "    };\n",
       "}\n",
       "\n",
       "mpl.figure.prototype.handle_rubberband = function(fig, msg) {\n",
       "    var x0 = msg['x0'] / mpl.ratio;\n",
       "    var y0 = (fig.canvas.height - msg['y0']) / mpl.ratio;\n",
       "    var x1 = msg['x1'] / mpl.ratio;\n",
       "    var y1 = (fig.canvas.height - msg['y1']) / mpl.ratio;\n",
       "    x0 = Math.floor(x0) + 0.5;\n",
       "    y0 = Math.floor(y0) + 0.5;\n",
       "    x1 = Math.floor(x1) + 0.5;\n",
       "    y1 = Math.floor(y1) + 0.5;\n",
       "    var min_x = Math.min(x0, x1);\n",
       "    var min_y = Math.min(y0, y1);\n",
       "    var width = Math.abs(x1 - x0);\n",
       "    var height = Math.abs(y1 - y0);\n",
       "\n",
       "    fig.rubberband_context.clearRect(\n",
       "        0, 0, fig.canvas.width, fig.canvas.height);\n",
       "\n",
       "    fig.rubberband_context.strokeRect(min_x, min_y, width, height);\n",
       "}\n",
       "\n",
       "mpl.figure.prototype.handle_figure_label = function(fig, msg) {\n",
       "    // Updates the figure title.\n",
       "    fig.header.textContent = msg['label'];\n",
       "}\n",
       "\n",
       "mpl.figure.prototype.handle_cursor = function(fig, msg) {\n",
       "    var cursor = msg['cursor'];\n",
       "    switch(cursor)\n",
       "    {\n",
       "    case 0:\n",
       "        cursor = 'pointer';\n",
       "        break;\n",
       "    case 1:\n",
       "        cursor = 'default';\n",
       "        break;\n",
       "    case 2:\n",
       "        cursor = 'crosshair';\n",
       "        break;\n",
       "    case 3:\n",
       "        cursor = 'move';\n",
       "        break;\n",
       "    }\n",
       "    fig.rubberband_canvas.style.cursor = cursor;\n",
       "}\n",
       "\n",
       "mpl.figure.prototype.handle_message = function(fig, msg) {\n",
       "    fig.message.textContent = msg['message'];\n",
       "}\n",
       "\n",
       "mpl.figure.prototype.handle_draw = function(fig, msg) {\n",
       "    // Request the server to send over a new figure.\n",
       "    fig.send_draw_message();\n",
       "}\n",
       "\n",
       "mpl.figure.prototype.handle_image_mode = function(fig, msg) {\n",
       "    fig.image_mode = msg['mode'];\n",
       "}\n",
       "\n",
       "mpl.figure.prototype.updated_canvas_event = function() {\n",
       "    // Called whenever the canvas gets updated.\n",
       "    this.send_message(\"ack\", {});\n",
       "}\n",
       "\n",
       "// A function to construct a web socket function for onmessage handling.\n",
       "// Called in the figure constructor.\n",
       "mpl.figure.prototype._make_on_message_function = function(fig) {\n",
       "    return function socket_on_message(evt) {\n",
       "        if (evt.data instanceof Blob) {\n",
       "            /* FIXME: We get \"Resource interpreted as Image but\n",
       "             * transferred with MIME type text/plain:\" errors on\n",
       "             * Chrome.  But how to set the MIME type?  It doesn't seem\n",
       "             * to be part of the websocket stream */\n",
       "            evt.data.type = \"image/png\";\n",
       "\n",
       "            /* Free the memory for the previous frames */\n",
       "            if (fig.imageObj.src) {\n",
       "                (window.URL || window.webkitURL).revokeObjectURL(\n",
       "                    fig.imageObj.src);\n",
       "            }\n",
       "\n",
       "            fig.imageObj.src = (window.URL || window.webkitURL).createObjectURL(\n",
       "                evt.data);\n",
       "            fig.updated_canvas_event();\n",
       "            fig.waiting = false;\n",
       "            return;\n",
       "        }\n",
       "        else if (typeof evt.data === 'string' && evt.data.slice(0, 21) == \"data:image/png;base64\") {\n",
       "            fig.imageObj.src = evt.data;\n",
       "            fig.updated_canvas_event();\n",
       "            fig.waiting = false;\n",
       "            return;\n",
       "        }\n",
       "\n",
       "        var msg = JSON.parse(evt.data);\n",
       "        var msg_type = msg['type'];\n",
       "\n",
       "        // Call the  \"handle_{type}\" callback, which takes\n",
       "        // the figure and JSON message as its only arguments.\n",
       "        try {\n",
       "            var callback = fig[\"handle_\" + msg_type];\n",
       "        } catch (e) {\n",
       "            console.log(\"No handler for the '\" + msg_type + \"' message type: \", msg);\n",
       "            return;\n",
       "        }\n",
       "\n",
       "        if (callback) {\n",
       "            try {\n",
       "                // console.log(\"Handling '\" + msg_type + \"' message: \", msg);\n",
       "                callback(fig, msg);\n",
       "            } catch (e) {\n",
       "                console.log(\"Exception inside the 'handler_\" + msg_type + \"' callback:\", e, e.stack, msg);\n",
       "            }\n",
       "        }\n",
       "    };\n",
       "}\n",
       "\n",
       "// from http://stackoverflow.com/questions/1114465/getting-mouse-location-in-canvas\n",
       "mpl.findpos = function(e) {\n",
       "    //this section is from http://www.quirksmode.org/js/events_properties.html\n",
       "    var targ;\n",
       "    if (!e)\n",
       "        e = window.event;\n",
       "    if (e.target)\n",
       "        targ = e.target;\n",
       "    else if (e.srcElement)\n",
       "        targ = e.srcElement;\n",
       "    if (targ.nodeType == 3) // defeat Safari bug\n",
       "        targ = targ.parentNode;\n",
       "\n",
       "    // jQuery normalizes the pageX and pageY\n",
       "    // pageX,Y are the mouse positions relative to the document\n",
       "    // offset() returns the position of the element relative to the document\n",
       "    var x = e.pageX - $(targ).offset().left;\n",
       "    var y = e.pageY - $(targ).offset().top;\n",
       "\n",
       "    return {\"x\": x, \"y\": y};\n",
       "};\n",
       "\n",
       "/*\n",
       " * return a copy of an object with only non-object keys\n",
       " * we need this to avoid circular references\n",
       " * http://stackoverflow.com/a/24161582/3208463\n",
       " */\n",
       "function simpleKeys (original) {\n",
       "  return Object.keys(original).reduce(function (obj, key) {\n",
       "    if (typeof original[key] !== 'object')\n",
       "        obj[key] = original[key]\n",
       "    return obj;\n",
       "  }, {});\n",
       "}\n",
       "\n",
       "mpl.figure.prototype.mouse_event = function(event, name) {\n",
       "    var canvas_pos = mpl.findpos(event)\n",
       "\n",
       "    if (name === 'button_press')\n",
       "    {\n",
       "        this.canvas.focus();\n",
       "        this.canvas_div.focus();\n",
       "    }\n",
       "\n",
       "    var x = canvas_pos.x * mpl.ratio;\n",
       "    var y = canvas_pos.y * mpl.ratio;\n",
       "\n",
       "    this.send_message(name, {x: x, y: y, button: event.button,\n",
       "                             step: event.step,\n",
       "                             guiEvent: simpleKeys(event)});\n",
       "\n",
       "    /* This prevents the web browser from automatically changing to\n",
       "     * the text insertion cursor when the button is pressed.  We want\n",
       "     * to control all of the cursor setting manually through the\n",
       "     * 'cursor' event from matplotlib */\n",
       "    event.preventDefault();\n",
       "    return false;\n",
       "}\n",
       "\n",
       "mpl.figure.prototype._key_event_extra = function(event, name) {\n",
       "    // Handle any extra behaviour associated with a key event\n",
       "}\n",
       "\n",
       "mpl.figure.prototype.key_event = function(event, name) {\n",
       "\n",
       "    // Prevent repeat events\n",
       "    if (name == 'key_press')\n",
       "    {\n",
       "        if (event.which === this._key)\n",
       "            return;\n",
       "        else\n",
       "            this._key = event.which;\n",
       "    }\n",
       "    if (name == 'key_release')\n",
       "        this._key = null;\n",
       "\n",
       "    var value = '';\n",
       "    if (event.ctrlKey && event.which != 17)\n",
       "        value += \"ctrl+\";\n",
       "    if (event.altKey && event.which != 18)\n",
       "        value += \"alt+\";\n",
       "    if (event.shiftKey && event.which != 16)\n",
       "        value += \"shift+\";\n",
       "\n",
       "    value += 'k';\n",
       "    value += event.which.toString();\n",
       "\n",
       "    this._key_event_extra(event, name);\n",
       "\n",
       "    this.send_message(name, {key: value,\n",
       "                             guiEvent: simpleKeys(event)});\n",
       "    return false;\n",
       "}\n",
       "\n",
       "mpl.figure.prototype.toolbar_button_onclick = function(name) {\n",
       "    if (name == 'download') {\n",
       "        this.handle_save(this, null);\n",
       "    } else {\n",
       "        this.send_message(\"toolbar_button\", {name: name});\n",
       "    }\n",
       "};\n",
       "\n",
       "mpl.figure.prototype.toolbar_button_onmouseover = function(tooltip) {\n",
       "    this.message.textContent = tooltip;\n",
       "};\n",
       "mpl.toolbar_items = [[\"Home\", \"Reset original view\", \"fa fa-home icon-home\", \"home\"], [\"Back\", \"Back to previous view\", \"fa fa-arrow-left icon-arrow-left\", \"back\"], [\"Forward\", \"Forward to next view\", \"fa fa-arrow-right icon-arrow-right\", \"forward\"], [\"\", \"\", \"\", \"\"], [\"Pan\", \"Pan axes with left mouse, zoom with right\", \"fa fa-arrows icon-move\", \"pan\"], [\"Zoom\", \"Zoom to rectangle\", \"fa fa-square-o icon-check-empty\", \"zoom\"], [\"\", \"\", \"\", \"\"], [\"Download\", \"Download plot\", \"fa fa-floppy-o icon-save\", \"download\"]];\n",
       "\n",
       "mpl.extensions = [\"eps\", \"jpeg\", \"pdf\", \"png\", \"ps\", \"raw\", \"svg\", \"tif\"];\n",
       "\n",
       "mpl.default_extension = \"png\";var comm_websocket_adapter = function(comm) {\n",
       "    // Create a \"websocket\"-like object which calls the given IPython comm\n",
       "    // object with the appropriate methods. Currently this is a non binary\n",
       "    // socket, so there is still some room for performance tuning.\n",
       "    var ws = {};\n",
       "\n",
       "    ws.close = function() {\n",
       "        comm.close()\n",
       "    };\n",
       "    ws.send = function(m) {\n",
       "        //console.log('sending', m);\n",
       "        comm.send(m);\n",
       "    };\n",
       "    // Register the callback with on_msg.\n",
       "    comm.on_msg(function(msg) {\n",
       "        //console.log('receiving', msg['content']['data'], msg);\n",
       "        // Pass the mpl event to the overridden (by mpl) onmessage function.\n",
       "        ws.onmessage(msg['content']['data'])\n",
       "    });\n",
       "    return ws;\n",
       "}\n",
       "\n",
       "mpl.mpl_figure_comm = function(comm, msg) {\n",
       "    // This is the function which gets called when the mpl process\n",
       "    // starts-up an IPython Comm through the \"matplotlib\" channel.\n",
       "\n",
       "    var id = msg.content.data.id;\n",
       "    // Get hold of the div created by the display call when the Comm\n",
       "    // socket was opened in Python.\n",
       "    var element = $(\"#\" + id);\n",
       "    var ws_proxy = comm_websocket_adapter(comm)\n",
       "\n",
       "    function ondownload(figure, format) {\n",
       "        window.open(figure.imageObj.src);\n",
       "    }\n",
       "\n",
       "    var fig = new mpl.figure(id, ws_proxy,\n",
       "                           ondownload,\n",
       "                           element.get(0));\n",
       "\n",
       "    // Call onopen now - mpl needs it, as it is assuming we've passed it a real\n",
       "    // web socket which is closed, not our websocket->open comm proxy.\n",
       "    ws_proxy.onopen();\n",
       "\n",
       "    fig.parent_element = element.get(0);\n",
       "    fig.cell_info = mpl.find_output_cell(\"<div id='\" + id + \"'></div>\");\n",
       "    if (!fig.cell_info) {\n",
       "        console.error(\"Failed to find cell for figure\", id, fig);\n",
       "        return;\n",
       "    }\n",
       "\n",
       "    var output_index = fig.cell_info[2]\n",
       "    var cell = fig.cell_info[0];\n",
       "\n",
       "};\n",
       "\n",
       "mpl.figure.prototype.handle_close = function(fig, msg) {\n",
       "    var width = fig.canvas.width/mpl.ratio\n",
       "    fig.root.unbind('remove')\n",
       "\n",
       "    // Update the output cell to use the data from the current canvas.\n",
       "    fig.push_to_output();\n",
       "    var dataURL = fig.canvas.toDataURL();\n",
       "    // Re-enable the keyboard manager in IPython - without this line, in FF,\n",
       "    // the notebook keyboard shortcuts fail.\n",
       "    IPython.keyboard_manager.enable()\n",
       "    $(fig.parent_element).html('<img src=\"' + dataURL + '\" width=\"' + width + '\">');\n",
       "    fig.close_ws(fig, msg);\n",
       "}\n",
       "\n",
       "mpl.figure.prototype.close_ws = function(fig, msg){\n",
       "    fig.send_message('closing', msg);\n",
       "    // fig.ws.close()\n",
       "}\n",
       "\n",
       "mpl.figure.prototype.push_to_output = function(remove_interactive) {\n",
       "    // Turn the data on the canvas into data in the output cell.\n",
       "    var width = this.canvas.width/mpl.ratio\n",
       "    var dataURL = this.canvas.toDataURL();\n",
       "    this.cell_info[1]['text/html'] = '<img src=\"' + dataURL + '\" width=\"' + width + '\">';\n",
       "}\n",
       "\n",
       "mpl.figure.prototype.updated_canvas_event = function() {\n",
       "    // Tell IPython that the notebook contents must change.\n",
       "    IPython.notebook.set_dirty(true);\n",
       "    this.send_message(\"ack\", {});\n",
       "    var fig = this;\n",
       "    // Wait a second, then push the new image to the DOM so\n",
       "    // that it is saved nicely (might be nice to debounce this).\n",
       "    setTimeout(function () { fig.push_to_output() }, 1000);\n",
       "}\n",
       "\n",
       "mpl.figure.prototype._init_toolbar = function() {\n",
       "    var fig = this;\n",
       "\n",
       "    var nav_element = $('<div/>')\n",
       "    nav_element.attr('style', 'width: 100%');\n",
       "    this.root.append(nav_element);\n",
       "\n",
       "    // Define a callback function for later on.\n",
       "    function toolbar_event(event) {\n",
       "        return fig.toolbar_button_onclick(event['data']);\n",
       "    }\n",
       "    function toolbar_mouse_event(event) {\n",
       "        return fig.toolbar_button_onmouseover(event['data']);\n",
       "    }\n",
       "\n",
       "    for(var toolbar_ind in mpl.toolbar_items){\n",
       "        var name = mpl.toolbar_items[toolbar_ind][0];\n",
       "        var tooltip = mpl.toolbar_items[toolbar_ind][1];\n",
       "        var image = mpl.toolbar_items[toolbar_ind][2];\n",
       "        var method_name = mpl.toolbar_items[toolbar_ind][3];\n",
       "\n",
       "        if (!name) { continue; };\n",
       "\n",
       "        var button = $('<button class=\"btn btn-default\" href=\"#\" title=\"' + name + '\"><i class=\"fa ' + image + ' fa-lg\"></i></button>');\n",
       "        button.click(method_name, toolbar_event);\n",
       "        button.mouseover(tooltip, toolbar_mouse_event);\n",
       "        nav_element.append(button);\n",
       "    }\n",
       "\n",
       "    // Add the status bar.\n",
       "    var status_bar = $('<span class=\"mpl-message\" style=\"text-align:right; float: right;\"/>');\n",
       "    nav_element.append(status_bar);\n",
       "    this.message = status_bar[0];\n",
       "\n",
       "    // Add the close button to the window.\n",
       "    var buttongrp = $('<div class=\"btn-group inline pull-right\"></div>');\n",
       "    var button = $('<button class=\"btn btn-mini btn-primary\" href=\"#\" title=\"Stop Interaction\"><i class=\"fa fa-power-off icon-remove icon-large\"></i></button>');\n",
       "    button.click(function (evt) { fig.handle_close(fig, {}); } );\n",
       "    button.mouseover('Stop Interaction', toolbar_mouse_event);\n",
       "    buttongrp.append(button);\n",
       "    var titlebar = this.root.find($('.ui-dialog-titlebar'));\n",
       "    titlebar.prepend(buttongrp);\n",
       "}\n",
       "\n",
       "mpl.figure.prototype._root_extra_style = function(el){\n",
       "    var fig = this\n",
       "    el.on(\"remove\", function(){\n",
       "\tfig.close_ws(fig, {});\n",
       "    });\n",
       "}\n",
       "\n",
       "mpl.figure.prototype._canvas_extra_style = function(el){\n",
       "    // this is important to make the div 'focusable\n",
       "    el.attr('tabindex', 0)\n",
       "    // reach out to IPython and tell the keyboard manager to turn it's self\n",
       "    // off when our div gets focus\n",
       "\n",
       "    // location in version 3\n",
       "    if (IPython.notebook.keyboard_manager) {\n",
       "        IPython.notebook.keyboard_manager.register_events(el);\n",
       "    }\n",
       "    else {\n",
       "        // location in version 2\n",
       "        IPython.keyboard_manager.register_events(el);\n",
       "    }\n",
       "\n",
       "}\n",
       "\n",
       "mpl.figure.prototype._key_event_extra = function(event, name) {\n",
       "    var manager = IPython.notebook.keyboard_manager;\n",
       "    if (!manager)\n",
       "        manager = IPython.keyboard_manager;\n",
       "\n",
       "    // Check for shift+enter\n",
       "    if (event.shiftKey && event.which == 13) {\n",
       "        this.canvas_div.blur();\n",
       "        event.shiftKey = false;\n",
       "        // Send a \"J\" for go to next cell\n",
       "        event.which = 74;\n",
       "        event.keyCode = 74;\n",
       "        manager.command_mode();\n",
       "        manager.handle_keydown(event);\n",
       "    }\n",
       "}\n",
       "\n",
       "mpl.figure.prototype.handle_save = function(fig, msg) {\n",
       "    fig.ondownload(fig, null);\n",
       "}\n",
       "\n",
       "\n",
       "mpl.find_output_cell = function(html_output) {\n",
       "    // Return the cell and output element which can be found *uniquely* in the notebook.\n",
       "    // Note - this is a bit hacky, but it is done because the \"notebook_saving.Notebook\"\n",
       "    // IPython event is triggered only after the cells have been serialised, which for\n",
       "    // our purposes (turning an active figure into a static one), is too late.\n",
       "    var cells = IPython.notebook.get_cells();\n",
       "    var ncells = cells.length;\n",
       "    for (var i=0; i<ncells; i++) {\n",
       "        var cell = cells[i];\n",
       "        if (cell.cell_type === 'code'){\n",
       "            for (var j=0; j<cell.output_area.outputs.length; j++) {\n",
       "                var data = cell.output_area.outputs[j];\n",
       "                if (data.data) {\n",
       "                    // IPython >= 3 moved mimebundle to data attribute of output\n",
       "                    data = data.data;\n",
       "                }\n",
       "                if (data['text/html'] == html_output) {\n",
       "                    return [cell, data, j];\n",
       "                }\n",
       "            }\n",
       "        }\n",
       "    }\n",
       "}\n",
       "\n",
       "// Register the function which deals with the matplotlib target/channel.\n",
       "// The kernel may be null if the page has been refreshed.\n",
       "if (IPython.notebook.kernel != null) {\n",
       "    IPython.notebook.kernel.comm_manager.register_target('matplotlib', mpl.mpl_figure_comm);\n",
       "}\n"
      ],
      "text/plain": [
       "<IPython.core.display.Javascript object>"
      ]
     },
     "metadata": {},
     "output_type": "display_data"
    },
    {
     "data": {
      "text/html": [
       "<img src=\"data:image/png;base64,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\" width=\"1000\">"
      ],
      "text/plain": [
       "<IPython.core.display.HTML object>"
      ]
     },
     "metadata": {},
     "output_type": "display_data"
    }
   ],
   "source": [
    "display.diff_vs_stock(extracted_cik_scores, extracted_stock_data, ticker, s, method='diff')"
   ]
  },
  {
   "cell_type": "markdown",
   "metadata": {},
   "source": [
    "### Sentiment vs stock price"
   ]
  },
  {
   "cell_type": "code",
   "execution_count": 59,
   "metadata": {},
   "outputs": [
    {
     "name": "stdout",
     "output_type": "stream",
     "text": [
      "[INFO] Publication dates: 2010-05-03\n",
      "[INFO] Publication dates: 2010-08-06\n",
      "[INFO] Publication dates: 2010-11-05\n",
      "[INFO] Publication dates: 2011-03-01\n",
      "[INFO] Publication dates: 2011-05-06\n",
      "[INFO] Publication dates: 2011-08-05\n",
      "[INFO] Publication dates: 2011-11-04\n",
      "[INFO] Publication dates: 2012-02-29\n",
      "[INFO] Publication dates: 2012-05-04\n",
      "[INFO] Publication dates: 2012-08-03\n",
      "[INFO] Publication dates: 2012-11-02\n"
     ]
    },
    {
     "data": {
      "application/javascript": [
       "/* Put everything inside the global mpl namespace */\n",
       "window.mpl = {};\n",
       "\n",
       "\n",
       "mpl.get_websocket_type = function() {\n",
       "    if (typeof(WebSocket) !== 'undefined') {\n",
       "        return WebSocket;\n",
       "    } else if (typeof(MozWebSocket) !== 'undefined') {\n",
       "        return MozWebSocket;\n",
       "    } else {\n",
       "        alert('Your browser does not have WebSocket support.' +\n",
       "              'Please try Chrome, Safari or Firefox ≥ 6. ' +\n",
       "              'Firefox 4 and 5 are also supported but you ' +\n",
       "              'have to enable WebSockets in about:config.');\n",
       "    };\n",
       "}\n",
       "\n",
       "mpl.figure = function(figure_id, websocket, ondownload, parent_element) {\n",
       "    this.id = figure_id;\n",
       "\n",
       "    this.ws = websocket;\n",
       "\n",
       "    this.supports_binary = (this.ws.binaryType != undefined);\n",
       "\n",
       "    if (!this.supports_binary) {\n",
       "        var warnings = document.getElementById(\"mpl-warnings\");\n",
       "        if (warnings) {\n",
       "            warnings.style.display = 'block';\n",
       "            warnings.textContent = (\n",
       "                \"This browser does not support binary websocket messages. \" +\n",
       "                    \"Performance may be slow.\");\n",
       "        }\n",
       "    }\n",
       "\n",
       "    this.imageObj = new Image();\n",
       "\n",
       "    this.context = undefined;\n",
       "    this.message = undefined;\n",
       "    this.canvas = undefined;\n",
       "    this.rubberband_canvas = undefined;\n",
       "    this.rubberband_context = undefined;\n",
       "    this.format_dropdown = undefined;\n",
       "\n",
       "    this.image_mode = 'full';\n",
       "\n",
       "    this.root = $('<div/>');\n",
       "    this._root_extra_style(this.root)\n",
       "    this.root.attr('style', 'display: inline-block');\n",
       "\n",
       "    $(parent_element).append(this.root);\n",
       "\n",
       "    this._init_header(this);\n",
       "    this._init_canvas(this);\n",
       "    this._init_toolbar(this);\n",
       "\n",
       "    var fig = this;\n",
       "\n",
       "    this.waiting = false;\n",
       "\n",
       "    this.ws.onopen =  function () {\n",
       "            fig.send_message(\"supports_binary\", {value: fig.supports_binary});\n",
       "            fig.send_message(\"send_image_mode\", {});\n",
       "            if (mpl.ratio != 1) {\n",
       "                fig.send_message(\"set_dpi_ratio\", {'dpi_ratio': mpl.ratio});\n",
       "            }\n",
       "            fig.send_message(\"refresh\", {});\n",
       "        }\n",
       "\n",
       "    this.imageObj.onload = function() {\n",
       "            if (fig.image_mode == 'full') {\n",
       "                // Full images could contain transparency (where diff images\n",
       "                // almost always do), so we need to clear the canvas so that\n",
       "                // there is no ghosting.\n",
       "                fig.context.clearRect(0, 0, fig.canvas.width, fig.canvas.height);\n",
       "            }\n",
       "            fig.context.drawImage(fig.imageObj, 0, 0);\n",
       "        };\n",
       "\n",
       "    this.imageObj.onunload = function() {\n",
       "        fig.ws.close();\n",
       "    }\n",
       "\n",
       "    this.ws.onmessage = this._make_on_message_function(this);\n",
       "\n",
       "    this.ondownload = ondownload;\n",
       "}\n",
       "\n",
       "mpl.figure.prototype._init_header = function() {\n",
       "    var titlebar = $(\n",
       "        '<div class=\"ui-dialog-titlebar ui-widget-header ui-corner-all ' +\n",
       "        'ui-helper-clearfix\"/>');\n",
       "    var titletext = $(\n",
       "        '<div class=\"ui-dialog-title\" style=\"width: 100%; ' +\n",
       "        'text-align: center; padding: 3px;\"/>');\n",
       "    titlebar.append(titletext)\n",
       "    this.root.append(titlebar);\n",
       "    this.header = titletext[0];\n",
       "}\n",
       "\n",
       "\n",
       "\n",
       "mpl.figure.prototype._canvas_extra_style = function(canvas_div) {\n",
       "\n",
       "}\n",
       "\n",
       "\n",
       "mpl.figure.prototype._root_extra_style = function(canvas_div) {\n",
       "\n",
       "}\n",
       "\n",
       "mpl.figure.prototype._init_canvas = function() {\n",
       "    var fig = this;\n",
       "\n",
       "    var canvas_div = $('<div/>');\n",
       "\n",
       "    canvas_div.attr('style', 'position: relative; clear: both; outline: 0');\n",
       "\n",
       "    function canvas_keyboard_event(event) {\n",
       "        return fig.key_event(event, event['data']);\n",
       "    }\n",
       "\n",
       "    canvas_div.keydown('key_press', canvas_keyboard_event);\n",
       "    canvas_div.keyup('key_release', canvas_keyboard_event);\n",
       "    this.canvas_div = canvas_div\n",
       "    this._canvas_extra_style(canvas_div)\n",
       "    this.root.append(canvas_div);\n",
       "\n",
       "    var canvas = $('<canvas/>');\n",
       "    canvas.addClass('mpl-canvas');\n",
       "    canvas.attr('style', \"left: 0; top: 0; z-index: 0; outline: 0\")\n",
       "\n",
       "    this.canvas = canvas[0];\n",
       "    this.context = canvas[0].getContext(\"2d\");\n",
       "\n",
       "    var backingStore = this.context.backingStorePixelRatio ||\n",
       "\tthis.context.webkitBackingStorePixelRatio ||\n",
       "\tthis.context.mozBackingStorePixelRatio ||\n",
       "\tthis.context.msBackingStorePixelRatio ||\n",
       "\tthis.context.oBackingStorePixelRatio ||\n",
       "\tthis.context.backingStorePixelRatio || 1;\n",
       "\n",
       "    mpl.ratio = (window.devicePixelRatio || 1) / backingStore;\n",
       "\n",
       "    var rubberband = $('<canvas/>');\n",
       "    rubberband.attr('style', \"position: absolute; left: 0; top: 0; z-index: 1;\")\n",
       "\n",
       "    var pass_mouse_events = true;\n",
       "\n",
       "    canvas_div.resizable({\n",
       "        start: function(event, ui) {\n",
       "            pass_mouse_events = false;\n",
       "        },\n",
       "        resize: function(event, ui) {\n",
       "            fig.request_resize(ui.size.width, ui.size.height);\n",
       "        },\n",
       "        stop: function(event, ui) {\n",
       "            pass_mouse_events = true;\n",
       "            fig.request_resize(ui.size.width, ui.size.height);\n",
       "        },\n",
       "    });\n",
       "\n",
       "    function mouse_event_fn(event) {\n",
       "        if (pass_mouse_events)\n",
       "            return fig.mouse_event(event, event['data']);\n",
       "    }\n",
       "\n",
       "    rubberband.mousedown('button_press', mouse_event_fn);\n",
       "    rubberband.mouseup('button_release', mouse_event_fn);\n",
       "    // Throttle sequential mouse events to 1 every 20ms.\n",
       "    rubberband.mousemove('motion_notify', mouse_event_fn);\n",
       "\n",
       "    rubberband.mouseenter('figure_enter', mouse_event_fn);\n",
       "    rubberband.mouseleave('figure_leave', mouse_event_fn);\n",
       "\n",
       "    canvas_div.on(\"wheel\", function (event) {\n",
       "        event = event.originalEvent;\n",
       "        event['data'] = 'scroll'\n",
       "        if (event.deltaY < 0) {\n",
       "            event.step = 1;\n",
       "        } else {\n",
       "            event.step = -1;\n",
       "        }\n",
       "        mouse_event_fn(event);\n",
       "    });\n",
       "\n",
       "    canvas_div.append(canvas);\n",
       "    canvas_div.append(rubberband);\n",
       "\n",
       "    this.rubberband = rubberband;\n",
       "    this.rubberband_canvas = rubberband[0];\n",
       "    this.rubberband_context = rubberband[0].getContext(\"2d\");\n",
       "    this.rubberband_context.strokeStyle = \"#000000\";\n",
       "\n",
       "    this._resize_canvas = function(width, height) {\n",
       "        // Keep the size of the canvas, canvas container, and rubber band\n",
       "        // canvas in synch.\n",
       "        canvas_div.css('width', width)\n",
       "        canvas_div.css('height', height)\n",
       "\n",
       "        canvas.attr('width', width * mpl.ratio);\n",
       "        canvas.attr('height', height * mpl.ratio);\n",
       "        canvas.attr('style', 'width: ' + width + 'px; height: ' + height + 'px;');\n",
       "\n",
       "        rubberband.attr('width', width);\n",
       "        rubberband.attr('height', height);\n",
       "    }\n",
       "\n",
       "    // Set the figure to an initial 600x600px, this will subsequently be updated\n",
       "    // upon first draw.\n",
       "    this._resize_canvas(600, 600);\n",
       "\n",
       "    // Disable right mouse context menu.\n",
       "    $(this.rubberband_canvas).bind(\"contextmenu\",function(e){\n",
       "        return false;\n",
       "    });\n",
       "\n",
       "    function set_focus () {\n",
       "        canvas.focus();\n",
       "        canvas_div.focus();\n",
       "    }\n",
       "\n",
       "    window.setTimeout(set_focus, 100);\n",
       "}\n",
       "\n",
       "mpl.figure.prototype._init_toolbar = function() {\n",
       "    var fig = this;\n",
       "\n",
       "    var nav_element = $('<div/>')\n",
       "    nav_element.attr('style', 'width: 100%');\n",
       "    this.root.append(nav_element);\n",
       "\n",
       "    // Define a callback function for later on.\n",
       "    function toolbar_event(event) {\n",
       "        return fig.toolbar_button_onclick(event['data']);\n",
       "    }\n",
       "    function toolbar_mouse_event(event) {\n",
       "        return fig.toolbar_button_onmouseover(event['data']);\n",
       "    }\n",
       "\n",
       "    for(var toolbar_ind in mpl.toolbar_items) {\n",
       "        var name = mpl.toolbar_items[toolbar_ind][0];\n",
       "        var tooltip = mpl.toolbar_items[toolbar_ind][1];\n",
       "        var image = mpl.toolbar_items[toolbar_ind][2];\n",
       "        var method_name = mpl.toolbar_items[toolbar_ind][3];\n",
       "\n",
       "        if (!name) {\n",
       "            // put a spacer in here.\n",
       "            continue;\n",
       "        }\n",
       "        var button = $('<button/>');\n",
       "        button.addClass('ui-button ui-widget ui-state-default ui-corner-all ' +\n",
       "                        'ui-button-icon-only');\n",
       "        button.attr('role', 'button');\n",
       "        button.attr('aria-disabled', 'false');\n",
       "        button.click(method_name, toolbar_event);\n",
       "        button.mouseover(tooltip, toolbar_mouse_event);\n",
       "\n",
       "        var icon_img = $('<span/>');\n",
       "        icon_img.addClass('ui-button-icon-primary ui-icon');\n",
       "        icon_img.addClass(image);\n",
       "        icon_img.addClass('ui-corner-all');\n",
       "\n",
       "        var tooltip_span = $('<span/>');\n",
       "        tooltip_span.addClass('ui-button-text');\n",
       "        tooltip_span.html(tooltip);\n",
       "\n",
       "        button.append(icon_img);\n",
       "        button.append(tooltip_span);\n",
       "\n",
       "        nav_element.append(button);\n",
       "    }\n",
       "\n",
       "    var fmt_picker_span = $('<span/>');\n",
       "\n",
       "    var fmt_picker = $('<select/>');\n",
       "    fmt_picker.addClass('mpl-toolbar-option ui-widget ui-widget-content');\n",
       "    fmt_picker_span.append(fmt_picker);\n",
       "    nav_element.append(fmt_picker_span);\n",
       "    this.format_dropdown = fmt_picker[0];\n",
       "\n",
       "    for (var ind in mpl.extensions) {\n",
       "        var fmt = mpl.extensions[ind];\n",
       "        var option = $(\n",
       "            '<option/>', {selected: fmt === mpl.default_extension}).html(fmt);\n",
       "        fmt_picker.append(option)\n",
       "    }\n",
       "\n",
       "    // Add hover states to the ui-buttons\n",
       "    $( \".ui-button\" ).hover(\n",
       "        function() { $(this).addClass(\"ui-state-hover\");},\n",
       "        function() { $(this).removeClass(\"ui-state-hover\");}\n",
       "    );\n",
       "\n",
       "    var status_bar = $('<span class=\"mpl-message\"/>');\n",
       "    nav_element.append(status_bar);\n",
       "    this.message = status_bar[0];\n",
       "}\n",
       "\n",
       "mpl.figure.prototype.request_resize = function(x_pixels, y_pixels) {\n",
       "    // Request matplotlib to resize the figure. Matplotlib will then trigger a resize in the client,\n",
       "    // which will in turn request a refresh of the image.\n",
       "    this.send_message('resize', {'width': x_pixels, 'height': y_pixels});\n",
       "}\n",
       "\n",
       "mpl.figure.prototype.send_message = function(type, properties) {\n",
       "    properties['type'] = type;\n",
       "    properties['figure_id'] = this.id;\n",
       "    this.ws.send(JSON.stringify(properties));\n",
       "}\n",
       "\n",
       "mpl.figure.prototype.send_draw_message = function() {\n",
       "    if (!this.waiting) {\n",
       "        this.waiting = true;\n",
       "        this.ws.send(JSON.stringify({type: \"draw\", figure_id: this.id}));\n",
       "    }\n",
       "}\n",
       "\n",
       "\n",
       "mpl.figure.prototype.handle_save = function(fig, msg) {\n",
       "    var format_dropdown = fig.format_dropdown;\n",
       "    var format = format_dropdown.options[format_dropdown.selectedIndex].value;\n",
       "    fig.ondownload(fig, format);\n",
       "}\n",
       "\n",
       "\n",
       "mpl.figure.prototype.handle_resize = function(fig, msg) {\n",
       "    var size = msg['size'];\n",
       "    if (size[0] != fig.canvas.width || size[1] != fig.canvas.height) {\n",
       "        fig._resize_canvas(size[0], size[1]);\n",
       "        fig.send_message(\"refresh\", {});\n",
       "    };\n",
       "}\n",
       "\n",
       "mpl.figure.prototype.handle_rubberband = function(fig, msg) {\n",
       "    var x0 = msg['x0'] / mpl.ratio;\n",
       "    var y0 = (fig.canvas.height - msg['y0']) / mpl.ratio;\n",
       "    var x1 = msg['x1'] / mpl.ratio;\n",
       "    var y1 = (fig.canvas.height - msg['y1']) / mpl.ratio;\n",
       "    x0 = Math.floor(x0) + 0.5;\n",
       "    y0 = Math.floor(y0) + 0.5;\n",
       "    x1 = Math.floor(x1) + 0.5;\n",
       "    y1 = Math.floor(y1) + 0.5;\n",
       "    var min_x = Math.min(x0, x1);\n",
       "    var min_y = Math.min(y0, y1);\n",
       "    var width = Math.abs(x1 - x0);\n",
       "    var height = Math.abs(y1 - y0);\n",
       "\n",
       "    fig.rubberband_context.clearRect(\n",
       "        0, 0, fig.canvas.width, fig.canvas.height);\n",
       "\n",
       "    fig.rubberband_context.strokeRect(min_x, min_y, width, height);\n",
       "}\n",
       "\n",
       "mpl.figure.prototype.handle_figure_label = function(fig, msg) {\n",
       "    // Updates the figure title.\n",
       "    fig.header.textContent = msg['label'];\n",
       "}\n",
       "\n",
       "mpl.figure.prototype.handle_cursor = function(fig, msg) {\n",
       "    var cursor = msg['cursor'];\n",
       "    switch(cursor)\n",
       "    {\n",
       "    case 0:\n",
       "        cursor = 'pointer';\n",
       "        break;\n",
       "    case 1:\n",
       "        cursor = 'default';\n",
       "        break;\n",
       "    case 2:\n",
       "        cursor = 'crosshair';\n",
       "        break;\n",
       "    case 3:\n",
       "        cursor = 'move';\n",
       "        break;\n",
       "    }\n",
       "    fig.rubberband_canvas.style.cursor = cursor;\n",
       "}\n",
       "\n",
       "mpl.figure.prototype.handle_message = function(fig, msg) {\n",
       "    fig.message.textContent = msg['message'];\n",
       "}\n",
       "\n",
       "mpl.figure.prototype.handle_draw = function(fig, msg) {\n",
       "    // Request the server to send over a new figure.\n",
       "    fig.send_draw_message();\n",
       "}\n",
       "\n",
       "mpl.figure.prototype.handle_image_mode = function(fig, msg) {\n",
       "    fig.image_mode = msg['mode'];\n",
       "}\n",
       "\n",
       "mpl.figure.prototype.updated_canvas_event = function() {\n",
       "    // Called whenever the canvas gets updated.\n",
       "    this.send_message(\"ack\", {});\n",
       "}\n",
       "\n",
       "// A function to construct a web socket function for onmessage handling.\n",
       "// Called in the figure constructor.\n",
       "mpl.figure.prototype._make_on_message_function = function(fig) {\n",
       "    return function socket_on_message(evt) {\n",
       "        if (evt.data instanceof Blob) {\n",
       "            /* FIXME: We get \"Resource interpreted as Image but\n",
       "             * transferred with MIME type text/plain:\" errors on\n",
       "             * Chrome.  But how to set the MIME type?  It doesn't seem\n",
       "             * to be part of the websocket stream */\n",
       "            evt.data.type = \"image/png\";\n",
       "\n",
       "            /* Free the memory for the previous frames */\n",
       "            if (fig.imageObj.src) {\n",
       "                (window.URL || window.webkitURL).revokeObjectURL(\n",
       "                    fig.imageObj.src);\n",
       "            }\n",
       "\n",
       "            fig.imageObj.src = (window.URL || window.webkitURL).createObjectURL(\n",
       "                evt.data);\n",
       "            fig.updated_canvas_event();\n",
       "            fig.waiting = false;\n",
       "            return;\n",
       "        }\n",
       "        else if (typeof evt.data === 'string' && evt.data.slice(0, 21) == \"data:image/png;base64\") {\n",
       "            fig.imageObj.src = evt.data;\n",
       "            fig.updated_canvas_event();\n",
       "            fig.waiting = false;\n",
       "            return;\n",
       "        }\n",
       "\n",
       "        var msg = JSON.parse(evt.data);\n",
       "        var msg_type = msg['type'];\n",
       "\n",
       "        // Call the  \"handle_{type}\" callback, which takes\n",
       "        // the figure and JSON message as its only arguments.\n",
       "        try {\n",
       "            var callback = fig[\"handle_\" + msg_type];\n",
       "        } catch (e) {\n",
       "            console.log(\"No handler for the '\" + msg_type + \"' message type: \", msg);\n",
       "            return;\n",
       "        }\n",
       "\n",
       "        if (callback) {\n",
       "            try {\n",
       "                // console.log(\"Handling '\" + msg_type + \"' message: \", msg);\n",
       "                callback(fig, msg);\n",
       "            } catch (e) {\n",
       "                console.log(\"Exception inside the 'handler_\" + msg_type + \"' callback:\", e, e.stack, msg);\n",
       "            }\n",
       "        }\n",
       "    };\n",
       "}\n",
       "\n",
       "// from http://stackoverflow.com/questions/1114465/getting-mouse-location-in-canvas\n",
       "mpl.findpos = function(e) {\n",
       "    //this section is from http://www.quirksmode.org/js/events_properties.html\n",
       "    var targ;\n",
       "    if (!e)\n",
       "        e = window.event;\n",
       "    if (e.target)\n",
       "        targ = e.target;\n",
       "    else if (e.srcElement)\n",
       "        targ = e.srcElement;\n",
       "    if (targ.nodeType == 3) // defeat Safari bug\n",
       "        targ = targ.parentNode;\n",
       "\n",
       "    // jQuery normalizes the pageX and pageY\n",
       "    // pageX,Y are the mouse positions relative to the document\n",
       "    // offset() returns the position of the element relative to the document\n",
       "    var x = e.pageX - $(targ).offset().left;\n",
       "    var y = e.pageY - $(targ).offset().top;\n",
       "\n",
       "    return {\"x\": x, \"y\": y};\n",
       "};\n",
       "\n",
       "/*\n",
       " * return a copy of an object with only non-object keys\n",
       " * we need this to avoid circular references\n",
       " * http://stackoverflow.com/a/24161582/3208463\n",
       " */\n",
       "function simpleKeys (original) {\n",
       "  return Object.keys(original).reduce(function (obj, key) {\n",
       "    if (typeof original[key] !== 'object')\n",
       "        obj[key] = original[key]\n",
       "    return obj;\n",
       "  }, {});\n",
       "}\n",
       "\n",
       "mpl.figure.prototype.mouse_event = function(event, name) {\n",
       "    var canvas_pos = mpl.findpos(event)\n",
       "\n",
       "    if (name === 'button_press')\n",
       "    {\n",
       "        this.canvas.focus();\n",
       "        this.canvas_div.focus();\n",
       "    }\n",
       "\n",
       "    var x = canvas_pos.x * mpl.ratio;\n",
       "    var y = canvas_pos.y * mpl.ratio;\n",
       "\n",
       "    this.send_message(name, {x: x, y: y, button: event.button,\n",
       "                             step: event.step,\n",
       "                             guiEvent: simpleKeys(event)});\n",
       "\n",
       "    /* This prevents the web browser from automatically changing to\n",
       "     * the text insertion cursor when the button is pressed.  We want\n",
       "     * to control all of the cursor setting manually through the\n",
       "     * 'cursor' event from matplotlib */\n",
       "    event.preventDefault();\n",
       "    return false;\n",
       "}\n",
       "\n",
       "mpl.figure.prototype._key_event_extra = function(event, name) {\n",
       "    // Handle any extra behaviour associated with a key event\n",
       "}\n",
       "\n",
       "mpl.figure.prototype.key_event = function(event, name) {\n",
       "\n",
       "    // Prevent repeat events\n",
       "    if (name == 'key_press')\n",
       "    {\n",
       "        if (event.which === this._key)\n",
       "            return;\n",
       "        else\n",
       "            this._key = event.which;\n",
       "    }\n",
       "    if (name == 'key_release')\n",
       "        this._key = null;\n",
       "\n",
       "    var value = '';\n",
       "    if (event.ctrlKey && event.which != 17)\n",
       "        value += \"ctrl+\";\n",
       "    if (event.altKey && event.which != 18)\n",
       "        value += \"alt+\";\n",
       "    if (event.shiftKey && event.which != 16)\n",
       "        value += \"shift+\";\n",
       "\n",
       "    value += 'k';\n",
       "    value += event.which.toString();\n",
       "\n",
       "    this._key_event_extra(event, name);\n",
       "\n",
       "    this.send_message(name, {key: value,\n",
       "                             guiEvent: simpleKeys(event)});\n",
       "    return false;\n",
       "}\n",
       "\n",
       "mpl.figure.prototype.toolbar_button_onclick = function(name) {\n",
       "    if (name == 'download') {\n",
       "        this.handle_save(this, null);\n",
       "    } else {\n",
       "        this.send_message(\"toolbar_button\", {name: name});\n",
       "    }\n",
       "};\n",
       "\n",
       "mpl.figure.prototype.toolbar_button_onmouseover = function(tooltip) {\n",
       "    this.message.textContent = tooltip;\n",
       "};\n",
       "mpl.toolbar_items = [[\"Home\", \"Reset original view\", \"fa fa-home icon-home\", \"home\"], [\"Back\", \"Back to previous view\", \"fa fa-arrow-left icon-arrow-left\", \"back\"], [\"Forward\", \"Forward to next view\", \"fa fa-arrow-right icon-arrow-right\", \"forward\"], [\"\", \"\", \"\", \"\"], [\"Pan\", \"Pan axes with left mouse, zoom with right\", \"fa fa-arrows icon-move\", \"pan\"], [\"Zoom\", \"Zoom to rectangle\", \"fa fa-square-o icon-check-empty\", \"zoom\"], [\"\", \"\", \"\", \"\"], [\"Download\", \"Download plot\", \"fa fa-floppy-o icon-save\", \"download\"]];\n",
       "\n",
       "mpl.extensions = [\"eps\", \"jpeg\", \"pdf\", \"png\", \"ps\", \"raw\", \"svg\", \"tif\"];\n",
       "\n",
       "mpl.default_extension = \"png\";var comm_websocket_adapter = function(comm) {\n",
       "    // Create a \"websocket\"-like object which calls the given IPython comm\n",
       "    // object with the appropriate methods. Currently this is a non binary\n",
       "    // socket, so there is still some room for performance tuning.\n",
       "    var ws = {};\n",
       "\n",
       "    ws.close = function() {\n",
       "        comm.close()\n",
       "    };\n",
       "    ws.send = function(m) {\n",
       "        //console.log('sending', m);\n",
       "        comm.send(m);\n",
       "    };\n",
       "    // Register the callback with on_msg.\n",
       "    comm.on_msg(function(msg) {\n",
       "        //console.log('receiving', msg['content']['data'], msg);\n",
       "        // Pass the mpl event to the overridden (by mpl) onmessage function.\n",
       "        ws.onmessage(msg['content']['data'])\n",
       "    });\n",
       "    return ws;\n",
       "}\n",
       "\n",
       "mpl.mpl_figure_comm = function(comm, msg) {\n",
       "    // This is the function which gets called when the mpl process\n",
       "    // starts-up an IPython Comm through the \"matplotlib\" channel.\n",
       "\n",
       "    var id = msg.content.data.id;\n",
       "    // Get hold of the div created by the display call when the Comm\n",
       "    // socket was opened in Python.\n",
       "    var element = $(\"#\" + id);\n",
       "    var ws_proxy = comm_websocket_adapter(comm)\n",
       "\n",
       "    function ondownload(figure, format) {\n",
       "        window.open(figure.imageObj.src);\n",
       "    }\n",
       "\n",
       "    var fig = new mpl.figure(id, ws_proxy,\n",
       "                           ondownload,\n",
       "                           element.get(0));\n",
       "\n",
       "    // Call onopen now - mpl needs it, as it is assuming we've passed it a real\n",
       "    // web socket which is closed, not our websocket->open comm proxy.\n",
       "    ws_proxy.onopen();\n",
       "\n",
       "    fig.parent_element = element.get(0);\n",
       "    fig.cell_info = mpl.find_output_cell(\"<div id='\" + id + \"'></div>\");\n",
       "    if (!fig.cell_info) {\n",
       "        console.error(\"Failed to find cell for figure\", id, fig);\n",
       "        return;\n",
       "    }\n",
       "\n",
       "    var output_index = fig.cell_info[2]\n",
       "    var cell = fig.cell_info[0];\n",
       "\n",
       "};\n",
       "\n",
       "mpl.figure.prototype.handle_close = function(fig, msg) {\n",
       "    var width = fig.canvas.width/mpl.ratio\n",
       "    fig.root.unbind('remove')\n",
       "\n",
       "    // Update the output cell to use the data from the current canvas.\n",
       "    fig.push_to_output();\n",
       "    var dataURL = fig.canvas.toDataURL();\n",
       "    // Re-enable the keyboard manager in IPython - without this line, in FF,\n",
       "    // the notebook keyboard shortcuts fail.\n",
       "    IPython.keyboard_manager.enable()\n",
       "    $(fig.parent_element).html('<img src=\"' + dataURL + '\" width=\"' + width + '\">');\n",
       "    fig.close_ws(fig, msg);\n",
       "}\n",
       "\n",
       "mpl.figure.prototype.close_ws = function(fig, msg){\n",
       "    fig.send_message('closing', msg);\n",
       "    // fig.ws.close()\n",
       "}\n",
       "\n",
       "mpl.figure.prototype.push_to_output = function(remove_interactive) {\n",
       "    // Turn the data on the canvas into data in the output cell.\n",
       "    var width = this.canvas.width/mpl.ratio\n",
       "    var dataURL = this.canvas.toDataURL();\n",
       "    this.cell_info[1]['text/html'] = '<img src=\"' + dataURL + '\" width=\"' + width + '\">';\n",
       "}\n",
       "\n",
       "mpl.figure.prototype.updated_canvas_event = function() {\n",
       "    // Tell IPython that the notebook contents must change.\n",
       "    IPython.notebook.set_dirty(true);\n",
       "    this.send_message(\"ack\", {});\n",
       "    var fig = this;\n",
       "    // Wait a second, then push the new image to the DOM so\n",
       "    // that it is saved nicely (might be nice to debounce this).\n",
       "    setTimeout(function () { fig.push_to_output() }, 1000);\n",
       "}\n",
       "\n",
       "mpl.figure.prototype._init_toolbar = function() {\n",
       "    var fig = this;\n",
       "\n",
       "    var nav_element = $('<div/>')\n",
       "    nav_element.attr('style', 'width: 100%');\n",
       "    this.root.append(nav_element);\n",
       "\n",
       "    // Define a callback function for later on.\n",
       "    function toolbar_event(event) {\n",
       "        return fig.toolbar_button_onclick(event['data']);\n",
       "    }\n",
       "    function toolbar_mouse_event(event) {\n",
       "        return fig.toolbar_button_onmouseover(event['data']);\n",
       "    }\n",
       "\n",
       "    for(var toolbar_ind in mpl.toolbar_items){\n",
       "        var name = mpl.toolbar_items[toolbar_ind][0];\n",
       "        var tooltip = mpl.toolbar_items[toolbar_ind][1];\n",
       "        var image = mpl.toolbar_items[toolbar_ind][2];\n",
       "        var method_name = mpl.toolbar_items[toolbar_ind][3];\n",
       "\n",
       "        if (!name) { continue; };\n",
       "\n",
       "        var button = $('<button class=\"btn btn-default\" href=\"#\" title=\"' + name + '\"><i class=\"fa ' + image + ' fa-lg\"></i></button>');\n",
       "        button.click(method_name, toolbar_event);\n",
       "        button.mouseover(tooltip, toolbar_mouse_event);\n",
       "        nav_element.append(button);\n",
       "    }\n",
       "\n",
       "    // Add the status bar.\n",
       "    var status_bar = $('<span class=\"mpl-message\" style=\"text-align:right; float: right;\"/>');\n",
       "    nav_element.append(status_bar);\n",
       "    this.message = status_bar[0];\n",
       "\n",
       "    // Add the close button to the window.\n",
       "    var buttongrp = $('<div class=\"btn-group inline pull-right\"></div>');\n",
       "    var button = $('<button class=\"btn btn-mini btn-primary\" href=\"#\" title=\"Stop Interaction\"><i class=\"fa fa-power-off icon-remove icon-large\"></i></button>');\n",
       "    button.click(function (evt) { fig.handle_close(fig, {}); } );\n",
       "    button.mouseover('Stop Interaction', toolbar_mouse_event);\n",
       "    buttongrp.append(button);\n",
       "    var titlebar = this.root.find($('.ui-dialog-titlebar'));\n",
       "    titlebar.prepend(buttongrp);\n",
       "}\n",
       "\n",
       "mpl.figure.prototype._root_extra_style = function(el){\n",
       "    var fig = this\n",
       "    el.on(\"remove\", function(){\n",
       "\tfig.close_ws(fig, {});\n",
       "    });\n",
       "}\n",
       "\n",
       "mpl.figure.prototype._canvas_extra_style = function(el){\n",
       "    // this is important to make the div 'focusable\n",
       "    el.attr('tabindex', 0)\n",
       "    // reach out to IPython and tell the keyboard manager to turn it's self\n",
       "    // off when our div gets focus\n",
       "\n",
       "    // location in version 3\n",
       "    if (IPython.notebook.keyboard_manager) {\n",
       "        IPython.notebook.keyboard_manager.register_events(el);\n",
       "    }\n",
       "    else {\n",
       "        // location in version 2\n",
       "        IPython.keyboard_manager.register_events(el);\n",
       "    }\n",
       "\n",
       "}\n",
       "\n",
       "mpl.figure.prototype._key_event_extra = function(event, name) {\n",
       "    var manager = IPython.notebook.keyboard_manager;\n",
       "    if (!manager)\n",
       "        manager = IPython.keyboard_manager;\n",
       "\n",
       "    // Check for shift+enter\n",
       "    if (event.shiftKey && event.which == 13) {\n",
       "        this.canvas_div.blur();\n",
       "        event.shiftKey = false;\n",
       "        // Send a \"J\" for go to next cell\n",
       "        event.which = 74;\n",
       "        event.keyCode = 74;\n",
       "        manager.command_mode();\n",
       "        manager.handle_keydown(event);\n",
       "    }\n",
       "}\n",
       "\n",
       "mpl.figure.prototype.handle_save = function(fig, msg) {\n",
       "    fig.ondownload(fig, null);\n",
       "}\n",
       "\n",
       "\n",
       "mpl.find_output_cell = function(html_output) {\n",
       "    // Return the cell and output element which can be found *uniquely* in the notebook.\n",
       "    // Note - this is a bit hacky, but it is done because the \"notebook_saving.Notebook\"\n",
       "    // IPython event is triggered only after the cells have been serialised, which for\n",
       "    // our purposes (turning an active figure into a static one), is too late.\n",
       "    var cells = IPython.notebook.get_cells();\n",
       "    var ncells = cells.length;\n",
       "    for (var i=0; i<ncells; i++) {\n",
       "        var cell = cells[i];\n",
       "        if (cell.cell_type === 'code'){\n",
       "            for (var j=0; j<cell.output_area.outputs.length; j++) {\n",
       "                var data = cell.output_area.outputs[j];\n",
       "                if (data.data) {\n",
       "                    // IPython >= 3 moved mimebundle to data attribute of output\n",
       "                    data = data.data;\n",
       "                }\n",
       "                if (data['text/html'] == html_output) {\n",
       "                    return [cell, data, j];\n",
       "                }\n",
       "            }\n",
       "        }\n",
       "    }\n",
       "}\n",
       "\n",
       "// Register the function which deals with the matplotlib target/channel.\n",
       "// The kernel may be null if the page has been refreshed.\n",
       "if (IPython.notebook.kernel != null) {\n",
       "    IPython.notebook.kernel.comm_manager.register_target('matplotlib', mpl.mpl_figure_comm);\n",
       "}\n"
      ],
      "text/plain": [
       "<IPython.core.display.Javascript object>"
      ]
     },
     "metadata": {},
     "output_type": "display_data"
    },
    {
     "data": {
      "text/html": [
       "<img src=\"data:image/png;base64,iVBORw0KGgoAAAANSUhEUgAAA+gAAAH0CAYAAACuKActAAAgAElEQVR4nOzdd3gU5cI28EknJJBACB2SUANKV0AEIl0QBBFFjkrzoKLywpEPUQ/HwFHAQhEsWFBENIhSVEIiRAQMGIQUIBBAEAhVeocQktzfHzkzzs7Ozs722d37d11zKdmZ2dnyzM49TxNARERERERERB4nePoAiIiIiIiIiIgBnYiIiIiIiMgQGNCJiIiIiIiIDIABnYiIiIiIiMgAGNCJiIiIiIiIDIABnYiIiIiIiMgAGNCJiIiIiIiIDIABnYiIiIiIiMgAGNCJiIiIiIiIDIABnYiIiIiIiMgAGNCJiIiIiIiIDIABnYiIiIiIiMgAGNCJiIiIiIiIDIABnYiIiIiIiMgAGNCJiIiIiIiIDIABnYiIiIiIiMgAGNCJiIiIiIiIDIABnYiIiIiIiMgAGNCJiIiIiIiIDIABnYiIiIiIiMgAGNCJiIiIiIiIDIABnYiIiIiIiMgAGNCJiIiIiIiIDIABnYiIiIiIiMgAGNCJiIiIiIiIDIABnYiIiIiIiMgAGNCJiIiIiIiIDIABnYiIiIiIiMgAGNCJiIiIiIiIDIABnQwlKSkJgiAgKSnJ04eCuLg4CIKAESNGmD12+PBhCIIAQRCwaNEitx+bGq3jJfJ1ixYtksrk4cOHXfIc1s5P4vMnJye75PldbcSIERAEAXFxcZ4+FDPJycnS+0v28aX3MD8/H48//jjq1q2LkJAQ6XXl5eV5+tCcwpVl0UjXWUSkzvvP0mQo165dw8cff4x+/fqhTp06CAsLQ0REBBISEtCxY0c888wzWLp0KU6ePKm6vZF+OBjQibwHA7rjGNB9m6+8h9nZ2QgPD5dei3xhQLfOSNdZznL79m2z78Jvv/2ma9v77rvPZLvXX39dc/89evTQtd+MjAyn7fP27dt45JFHpPU7deqEy5cv6zoO8k7efZYmQ/n9998RHx+v+qOpXGrUqKG6DyP9cPhSQDfi8RI5EwO64xjQfZuvvIe9evWCIAioXLkyPvzwQ2zbtg35+fnIz8/HzZs3PX14Ftny/jOg20YtoI8dO9bqdkePHkVAQIChA/qtW7cwaNAgad2uXbvi6tWruo6BvJd3n6XJMA4cOIDKlStLJ5AHH3wQX375JbZu3Yrc3FysW7cO77zzDnr37o2QkBCLAd1beFvg9bbjJbKVOwK6NQzoRK5VXFyM0NBQCIKA//f//p+nD8cmRrlB4usBvUKFChAEAVWrVsWtW7c0t5sxY4bJNkYL6EVFRXjggQek9bp3747r16/ren7ybgzo5BSPPvqodAL5/PPPNdc9c+YM3n//fTcdmWt4W+D1tuMlshUDuuMY0MnoTp48KZWzTz75xNOHYxMGdNeRh91BgwZJN3FWrVqluV2zZs0gCAKGDh1quIB+48YN9OnTR1qnT58+hm4hQs7FgE4OKykpQcWKFSEIAu666y5PH45beFvg9bbjJbIVA7rjGNDJ6Lz5t4wB3XXkYfepp56SmoQPHjzY4jbZ2dnSNqmpqYYK6NevX0f37t2lx/v374+ioiJdz0u+gQGdHHbq1CnpJPLYY485tC+tHw61H+YVK1agV69eiI2NRcWKFdGyZUvMnz8fxcXF0nZlZWX4+uuvkZSUhNjYWISHh6NNmzZYsGABysrKLB6Lo3268/Pz8frrr6N3796oU6cOQkNDERERgUaNGmH48OHIysrSfC+UP+aXLl3Cf//7X7Ru3RpRUVFmz23peJX9stQWMVC0adMGgiAgMTFR89gA4Ny5c9Jd6jFjxlhdX83KlSsxcOBA6f2JjIxEQkICOnfujClTpuD333/X3H7z5s146qmn0KRJE1SqVAkRERFo2rQpBg4ciMWLF2sOovLjjz/i4Ycflp67atWq6NixI2bOnKnZv0sZBIuKijB37lx06NABMTExFgPa7du3sXDhQvTt2xe1atVCaGgoYmJi0KVLF8ydO9fqnfHs7GyMHj0ajRs3RsWKFREWFoa6deuibdu2eO655/DDDz9ofp/VNGjQAIIg4N5777W67qlTpxAUFARBEPDiiy+aPb5+/Xo89thjiI+PR4UKFRAeHo64uDh06NABEydOxPr16206NqULFy5g8uTJaNq0KSpUqIDY2Fj06NED3377LQDrAf3WrVv48ccf8fzzz+Ouu+5CdHQ0goODUbVqVbRv3x7Jyck4e/as5jHY2wfd3eUKAK5cuYJZs2ahW7duqFGjBkJDQ1GrVi20b98eL730EnJycsy20RvQd+3ahTFjxqBRo0YIDw9HZGQkmjdvjgkTJli9OVJSUoJFixahd+/eqFGjBkJCQhAVFYVGjRqhe/fumD59Ovbs2WO2nbVwozz/7d27F//85z8RFxeH0NBQVK9eHYMGDbJ63gXKm1G/++67uOuuuxAZGYmoqCi0a9cOc+bMwa1bt5wSEpXfpX379mHMmDGIj49HWFgYatasiSFDhmgOdGXpN1E8xwQFBZl8V/UGxFu3bkmDvdauXRuhoaGIjY1F27Zt8fzzz+PXX3/VPNesW7cOjz/+uHQuqFSpElq2bIlJkyZZHCDWGvmxW/sdkzt8+DAmTJiA5s2bIzIyEuHh4WjUqBGefvpp7Nq1S/M5lftdv349hgwZgrp16yI4OFj3jSz5uUlrkZcdvWXRnnKuJ6B//fXXCA4OhiAI6NixIy5cuGC2TllZGZYtW4aHHnoIdevWRVhYGKKjo3H33Xfj9ddfx6VLlyzu//HHH4cgCGjYsCEA4Pjx45g0aRKaNWuGyMhICIKAzMxMzdcupwzoK1asgCAICA0NVT12APi///s/CIKAu+++GwcOHDBMQL969Sq6du0qPTZ48GCTa1ryDwzo5LDz589LJ5JWrVo5tC9bAvrYsWMt/tANHjwYJSUlKCoqwpAhQyyup3UB7EhA37Bhg64f5Jdfftni88svSP744w/VAficHdA/+OAD6W/WLmTnzZune12lkpISkxFJLS3t2rVT3f7GjRsYNmyYXRdsN2/exEMPPaS5Xe3atS2OBiy/2Nq+fTtat25t9XkPHjyI5s2baz5n48aN8ccff6g+55w5cxAYGGj19do6cMyUKVMgCAICAgKsBqu5c+dKz6O86PvXv/5l9dhiYmJsOja5PXv2oFatWhb3PXr0aKsBXbzgtXaMmzdvtngc9gZ0d5UrUUZGBqpVq2b19SrpCQUzZszQ/C6GhYVh8eLFqttevXoVXbp0sXpcDz/8sNm2tgT0FStWSK26lEtQUBC++eYbi6/v4sWLaN++vcVja9++PfLy8qR/OyOgp6WlISIiQvX5AgMDMXv2bNV9yH+HPv/8czz55JNm29sa0PPy8pCQkGD1M1IrY9euXbN6bo2MjMTq1attfr/sCeiLFy9GWFiYxfWDgoIwY8YMi88p3++rr75qtr2nA7q95dzaeey9996TBk7r1asXrl27ZrbOX3/9hXvuuUfzeWvWrIlt27apPoc8oG/evFm6uS1fHAnot27dQpUqVSAIAj766CPV9atXrw5BEDB//nzDBPTLly+bvK+PPvoobt++rft9IN/BgE5OIV4cCYKAN998E6WlpXbtR29A79ChAwRBQL9+/bBy5Urk5OTg+++/l/4uCAI+/fRTjBs3DoIg4B//+AdSU1ORk5ODb775BomJidJ66enpmq/JnoCekZGBiIgIPProo/joo4+wceNG5Obm4qeffsLs2bNN3i9LffblFyQtW7ZESEgIxo0bh4yMDGRnZ2Pp0qUmtSuWjjc/Px9r166V9vXGG29II96Ky+nTpwGU19KL09c8/fTT6h/S/4jBtFmzZprrqXnvvfek4+ncuTO++OILZGZmIi8vD+vXr8e8efNw//33o3379mbblpaWSqP4CkJ5sJ07dy4yMzORk5OD1NRUvPrqq2jUqJFqQJePl9CqVSt8+eWX2L59O9auXYtRo0ZJFyZVq1bF8ePHzbaXX2y1bNkSAQEBGD58ONasWYOcnBysWrUKaWlp0vonT55EjRo1IAgCKlWqhIkTJyI9PR25ubnYsGEDXnnlFSlMNGjQwKzWYefOnVIgSkhIwOzZs7F+/Xrk5eUhMzNTujCPjIy0OaDv3btXei3Tp0/XXPeuu+6CIJjXAq9evdrk/ViwYAE2btyIvLw8bNy4ER999BEefvhh1K5d26ZjE126dAl169aVnmPo0KFIS0tDdnY2UlJSpOO6++67NcPD448/jgYNGmDixIlYtmwZsrKysH37dixfvhzPPvusVGsdGxsrlQclewO6u8oVAPzyyy9SzVdQUBBGjhyJVatWIScnB1u2bMGnn36KwYMHIyQkxGxba6FAfqMhNjYWs2bNQlZWFjZv3oypU6dKITMgIABr1qwx237ixInS9v3798fSpUuxZcsW5OTk4KeffsJbb72FLl26YMiQIWbb6g3obdq0QYUKFZCQkID3338fW7duRVZWFqZOnSoNBFW5cmWcOXNGdT/yPp/33HMPli5diuzsbKSnp0uhQv4742hAb9y4MaKjoxEVFYUZM2bgt99+w2+//Ybp06ebDLy6YsUKs33If4datmwJQRDQpUsXpKSkIDs7Gz///DMWLlyo+z3cs2ePVHspCAIeeughLFu2DNu3b8fWrVuxePFiPPHEE4iIiDArYyUlJejWrZv0+Q8bNgzfffcdsrOzkZWVhXnz5qF+/foQhPJazezsbJver9OnT1v9LZOX29TUVOlcHhkZieTkZGRmZiIrKwuzZ882CbYffvih6nMq39sWLVrg888/x7Zt27Bp0ybMmzdP17FfvHgR+fn5JpUKyt/g/Px8k1pSa2XRkXKudR6bNm2adIwPP/yw6iBrV65cQdOmTaXPcuzYsfjxxx+Rk5ODzMxMvPHGG6hatSoEofym57Fjx8z2IZal2NhY1KxZE5UqVcJ//vMfbNq0Cdu2bcPChQst3rBWowzoAPDMM89AENRbiIlN2oODg3HmzBlDBPQLFy6Y/I498cQTKCkp0f0ekG9hQCenmDVrlsmdz7i4OLzwwgv4+uuvcfDgQd370RvQBUHAhAkTzNa5fv26VNNcrVo1BAQE4N133zVb79SpU6hUqRIEoXzEeTWOBPSzZ8/i4sWLFl/nrVu3pJAZFxenehKWX0wFBgZi3bp1Fvfn6PHKDR8+XLqIvXHjhuo68hqkWbNmae5PjViL1qFDB827w+fPnzf727vvvmtyAWmpX1ZpaSlOnDhh8jd5P7MePXqoXnx88skn0jqPPvqo2ePK2pDPPvtM87X2798fgiCgXr16+PPPP1XXyc3NlcLNlClTTB77z3/+A0EQEBERgb/++svi81y6dMmuG2Nt27aFIAi44447LK7zxx9/WLzQEGvt4uLiNG8QqH2Werz44ovSc6vVdhUXF6N3794mn4laQD948KBms9xdu3ZJ4UT5GYgcmWbNHeXqxo0bUkuDihUrYsOGDRbXPXr0qNnftELBmTNnpBtJtWvXVt1e/j2uU6eOWbPMevXqQRAE1QAup/Zd0RvQBaG85Y1a89qvvvpKWmfOnDlmj69cuVJ6fODAgarnZeVvnaMBXRAEREVFoaCgwGyd3bt3SyG9du3aZucr5W/i8OHDNb/j1t5DsStGYGAgli5danE/586dM/sOi+9LSEiIyQ1KuQsXLuCOO+6AIJTfmLWHnt+y4uJi1KlTRwrnaq2hjhw5YlJW1Lq3yN/bHj16ONwH2FnTrDlaztXOY2VlZVKTb0EQ8M9//tPi78mzzz4LQRBQpUoV5Obmqq5z6NAh6cb0yJEjzR4XA7oglN+4ttbdwBq1gL5lyxbpb4cOHTJZXxwUrn///gBgU0Dv2LGj6g0W5fLpp5/q3mfbtm2l8icIAkaNGmV3RRf5BgZ0corS0lKMHj3a5AdNvtSoUQNDhw7Fjz/+qHkBoTeg16tXz2KfHPmPYMeOHS0+l3jBXKVKFdXHXT2v+I4dO6R9qNUmyF/H6NGjre7PWcf766+/Sut+9dVXquuILRNCQkIs1jZqady4MQRBwL/+9S+btistLZUuvOrUqWNzjXHfvn2l41a7cBH17NkTglB+d13ZZ1Ie0Lt37675fPn5+dK6P/zwg+a6L730knQhLjdmzBgIQnnNoCvMnj1bOsYdO3aoriP/LipvMog3mh566CGnH1tRUZHUTLFly5YWL1iOHTuGkJAQzYCux4QJEyAIAu68807Vxx0J6O4oVx999JH0HHPnzrV5e61Q8NZbb0n71gpvb7zxhrSeOD6ASPyM9NY8ytkS0Hfu3Km6TllZGWrXrm3x+yrWnleoUMHizbCysjLpppazArrWzRj5+658P+Xn9ejoaFy5ckXzObXew59++kl6bPz48Ta9luLiYikwWjunp6WlSc9z4MABm54H0PdbtmzZMmmdmTNnWtyX/IbN22+/bfa4+FhgYKBTBp50VkB3tJwrz2O3b9826R4xadIki9v+9ddfUreBDz74QPN55s+fD0Eo7/aiHGNFHtC1uhnopRbQAaBhw4YQBAH//e9/pb9dvnxZatG0bNkyALYFdHsWW/b55JNP2jyeDPkeBnRyqvT0dPTq1Uuzj+Jdd91lsVZdb0DXuoAQBwex9uMlDyZqtd3ODOhFRUUoLCzEnj17pLur8toytVpY+Y+5ngG2nHm8YvM1taZct27dkvqLDRo0yOq+1IgDoDRq1MjqwFxyOTk50uuYOnWqTc95+/ZtqQawX79+muvKL/BSUlJMHpMHdGu152JYqVixotWmavLaffnNg9dee026yLE2aJ49Tp48KZXXl156SXWdJk2aQBDKm/wqiTe6YmJibGoto4e8BsRSP1yRfK5YPRfTFy5cwMGDB7F7926pTE6dOlW6IFe7AehIQAdcX64GDBggfd/smStXKxSIN2Kio6M1Byz666+/pPdB2ZxfbOLcqVMnm49Pb0Bv0aKF5n7E74lyvJTbt29LF+3W3n/5eAyOBvSAgADNc+CZM2ekptrK91N+Xn/yySetPqfWeyjeHBIEAUeOHLHptWzevFna1tq4CdeuXZPW/fLLL216HkDfb5l4UzMgIEDzRtetW7ekAVd79+5t9rj4PF26dLH5ONU4K6A7Ws7l57GbN29K+xME7RsaAPDFF19I61r77ZZXQigHO5QH9MLCQptfg5KlgC6+540bN5b+9tlnn0EQyluuiDcOPB3QxTIuCOVd3ZSt/8j/MKCTS1y4cAGrV69GcnIy+vfvL/0IikutWrVUR3PVG9C17tyuX79eWk+tH6RIPEkrA5HI0cB77do1zJgxAy1btpRGv7a0vPXWW2bby3/M9YRYZwb0t99+W/rRUF6sfffdd9K+fvzxR6v7UiN/76OiojBq1CikpKSo9lWTW7hwobTdL7/8YtNz7t+/X9p22rRpmuseOXJEWvfVV181eUw5SJwWcaoXWxf5wDp79+6Vah6Dg4PRv39/LFiwALt373baXXaxxUC9evXM9rlt2zbpuN5//32zbX/++Wfp8QoVKmDo0KH4/PPP7aodU5LXFP3666+a68r7TloK6Lt27cKoUaNQs2ZNq5+B2oW9owHd1eVK7KvftWtXu7bXCgViDWm3bt2s7kfsZtSpUyeTv4vdNQRBQPXq1fH8889j5cqVFvuDy+kN6I888ojmfsSawgYNGpj8fd++fZoX03KZmZk2nU/ViN8l5XGoEQdtU76f8vP6O++8Y3U/Wu9h586dIQgC6tevr/9F/I+825Eti1qttTV6fsvEQbYSEhKs7u++++6DIJi3XAL+Ls/PP/+8zcepxlkB3dFyLn732rZtK90sDwwMxMcff2x12xdeeMGuz3rlypUm+xEDelRUlF2vQclSQD948KD0961bt5q8fvl6nu6Dft9995kMnJuYmGhXKyryHQzo5BZFRUX4/PPPpeaqypOjyNZp1tTIR1DX6ptlbdRnRwLv4cOHdY2EKy5qtcHyH3M9A4U4M6CfPn1aCoXKMCs2E69Vq5ZDo4u++uqr0iA38qVhw4aYOHGian/tN998U1pv7969Nj1fVlaWtK3aqK5yRUVF0rrPPvusyWPy7421GuNOnTrZdTGzceNGk/0sX77cpOyIS7Vq1fDEE09YDa/WyF+T8rnHjx8PQfh7MB0177//vlT7KF/q1KmDZ555xmLTeWtmzpwp7Wvfvn2a68rDvFp5Xrhwoer3zdKiVovoaEB3dbkSB0EbOnSoXdtrhQKxWaueqTQ7duwoXWTKFRcXY/To0Sa1RYJQfsPizjvvxGuvvWaxabmt06zZ+hrl5wdrQUUe5h0N6FrdsESW3k/5eV0+GJwlWu+hOHBqhw4d9L+I/1Eb4dze3z1r9PyWiS1V9Ly3jz32GASh/Oaikvg8lsaksJWzArqj5VzevUJcnnvuOV3bygdZtWVRdusRA3p8fLxdr0HJUkAH/v4dfv7551FYWCidf+S/dZ4O6D169EBxcbE0Zo0glHfrsnfsFvJ+DOjkVvJ+blWqVDHrU+orAV2sjQgICMDo0aOxbt06HDt2zGSQmdLSUs0Lelt+zB09XjUPP/wwBKG8FkKsVT1x4oTUGmDy5Mm69qPlyJEjmD59Orp37242LVJISAgWLFhgsr48oFsLbEq2XIDrDejWmlKLoz0nJCToGlRGXNSmtbl06RI+/vhjDB48GLGxsWYXQCNGjLB7UBl5nzx5M9qSkhKpttlat4DTp09j7ty56Nevn1mLmYCAAPz73/+2+bhmzJgh7WP//v2a6y5YsMDi57J3714pnFevXh3vvPMOcnJycP78eZPm2vKWHWqfraMBHXBtuRIv3PWEaDV6AvqwYcOs7kf83lua933Pnj2YMmUKOnXqJI2eLy6RkZH4/vvvzbbx1YCu1m1EydL7aet5XU9A1xNqlSZPniztd+PGjbrPc/bUENoS0PW8t+JgYVoBXas828LZAd3eci5+9+644w7pvbI2/aBIPH+Fh4fb9JumHLRROQ+6o7QCuvjbEBMTI30G9evXN2ktZoSADpRfe8hnqbnrrrtw+fJlW94K8hEM6OR24ki+giCY1cj5QkCXT12lbB4td+7cOUMH9PT0dLP3UV6jaS0w2aq4uBibN2/G+PHjpQuQgIAAk1FijdbE3VpA79evHwShvK+gs+cy3bNnD2bOnCkNeiUIguqMBXqJNSNVqlSRRotet26dtO+vv/5a975KS0uRk5ODf//734iOjpb2oRa8tDiribsYIIKCglRHyxbJR+h2VUB3ZbkyehN3NTdu3EBGRgZGjRol3aQIDw836wLl6oDu7U3cHQ3ojjRxF7tuCIJ5X2Nn80QTd6MFdGc1cU9KSsKJEyekQVuDg4Px3XffaW779NNPW7x+s4U7A/qFCxekG4HitYXyd90oAR0on41I7HogCOXTxKndtCffxoBObiefQ/bcuXMmj/lCQF++fLn0mNbUIfLWBK4O6PLAqfeCsrS0VBrUafjw4QD+rplQm1fUmeTTHcl/SHNzc6W/u3KQuG+//VZ6Hq1B4qwF9H//+9/Susqm485y9OhRaWorPYHIkh9++EE6VnHE+ZEjR0IQyqd4s/cCQT6w3z/+8Q+btrVlkDh500Dl5yI+1rZtW819iM1dXRnQXVmuHnzwQemGkKcGiTt9+rTFQc2smTNnjvQefvLJJyaPuTqg3759W7p4HzhwoOY+nD1InPJ3UE7vIHGOBnT5FFu2DhInDyL2NFu3hTMHiSsuLtY1SJyzAro4CKWjAd3Rcq48jx0/fhyNGjWSQvqqVassbitvqWRpNgo93BnQAWDw4MHS44Jg3kXOSAEdKJ9rXn6t3L17d7OR8Mm3MaCTW12/fl2af7xy5cpmA1L5QkD/5ptvpMfEQUnUyAcQc3VAl4+sbK3/tZx4QVGxYkWT6XE+//xz3fuwx+XLl6Xnkl+UlpaWSi0w6tat67Jp1sR5tYOCgjSnWbMW0OUDrFm7KeAIcf7UJk2a2L2P4uJiVK1aFYJQPv/7zZs3pTmYH3/8cYeOT+w/r3YRrEU+zVrr1q0tDop3/Phxk6bSys/l/vvvhyBYbnINAKdOnTLpR++qgA64rlzJ59311DRr8m4JymnBrNm5c6e0rXLqJVcHdODvcu/uadbU5mQXyWuntaZZczSgy8OErdOs3bx5Uzp31KxZ06VNcp05zVpKSoq0ntY0a84K6PIuWtbmVNf6njpaztXOY0ePHkWDBg2k30dL04IWFhZK3YXatm2ra3wcNe4O6D/88APCwsIQFham2vXBaAEdAC5evIjWrVtL6/Tt21dq3Ua+jwGdHHb16lW0b98eq1ev1uwDq5wr/YknnjBbxxcCurzGcOzYsarP/eGHH0rruCOg3759WwowWnOcKh09elSagkvsixwZGWlzMFZasmSJZpNv+YjWygsscW5VQSify9jSD1ZpaanZVCXyqcx69uypuq28H/Kjjz5q9rgtAR34+6JfEAS89tprmusePnzYrMZ+1apVqtMAio4ePSoFyz59+lg9Hi3PPPMMBKG8ibH8fUhLS7O4zTfffIMbN25YfHz79u3Sfp555hmbj+nFF1+Utleb7eD27dvSjRdLn4s4hVRgYKDqNFDXr19Ht27dNPcBOC+gu6pc3bx5E3Xq1JHCv1arDbUZE7RCwZkzZ6QWKLVr11a9wbVjxw5ERkZCEMoHCJTXtJ8/fx4//PCD5swD77zzjsWbAO4I6PIpOgcOHKgaPuTdIJwV0KtUqaI6pkZBQYFUw1urVi2z85UzAzoAtGvXTionWjdhzp8/b1bm5Tdm+vbtq9ni5sqVK3jvvfesHq8aPa+5uLhY6vpTqVIl1UEqjx49Kq1TsWJF1ZlSnB3QFy9eLO1zz549mutqfU8dLeeWzmOFhYVS95TQ0FCkpqaq7lN+HTdmzBjNkP7XX3+pTkfq7oBujREDOgCcPXsWzZs3l9YbPHiw07vLkTExoJPDrl69Kp086tSpg+effx5fffUVMglDVWMAACAASURBVDMzsWPHDmzcuBFz585FixYtpPWioqJsvgD2loBeVlaGO++8U3p82LBhSE1NRU5ODr7//nsMGTIEglDenNVdAR2A9HwxMTFISUlBQUEBDhw4gAMHDmiOFCrWPorL6NGjdR2PFkEQUKNGDYwdOxZLlizBb7/9htzcXKSnp+PFF1+UAmdkZKTZBUZpaanJICpNmjTBu+++i82bNyM3NxdpaWl47bXX0LhxY9X3VT6VSevWrbFkyRJkZ2cjIyMDTz31lNSctGrVqjh+/LjZ9rYG9BMnTkj9dwWhfJTkjz/+WHrNGRkZmD17Nnr16oWgoCA8/PDDJtsnJSWhYsWKeOSRR7BgwQJs3LgReXl5+OWXX/D222+bjOlgax9vJXnfWrHveGxsrOYFQVxcHKKjozFixAh89tlnyMzMlF5XcnKyVLMWFBSE7Oxsm4/p0qVLUp9LsTylp6cjJycHS5cuxd133w1BEKT/qn0u8pYMVapUwcyZM7Fp0yb8/vvv+PDDD6U+mPIy6cqADrimXAHAL7/8ItVwBQUFYeTIkfjhhx+Qk5OD3377DYsWLcIjjzyC0NBQs221QgEAfPDBB9LxVq9eHXPmzMHWrVuxZcsWTJs2TQrnAQEBZlNciufM+Ph4vPjii1i2bBm2bt2K7OxsrF69Gk8//bR006Ju3bpmAc8dAR0wvaF2zz33YNmyZcjJycFPP/2EJ554AoIgoH379tI6X3zxhebzWSJ+lxo3boyoqChER0dj5syZyMrKQlZWFmbOnGky2OLy5cvN9uHsgF5QUCB9hmIY+Pbbb5GdnY3ff/8dX3/9NUaOHInIyEiz8lFSUoIePXpI29avXx8zZszAhg0bkJeXh19//RWffvopHn/8cURERCAmJsaet033a05NTZXO5ZGRkZg2bRo2b96MrVu3Ys6cOahevbq0nw8//FB1H84O6PIQ2Lt3b2zatAl//PGH9DssP89a+546Us61zmNHjhyRylJYWBjS09PN1rl8+TKaNWsmvZY77rgD8+bNQ2ZmpvTb9N5772HgwIEIDQ1VnRmAAV3/Pk+dOiX9RglCeVcxeweEJe/BgE4Ou3nzpq55hcWlcePGFi/UfSGgA0BeXp7qtFji0qJFC5w8edKtAV1+waJctC5A5H3qBUHAli1bdB2PFj3fk+joaKxdu1Z1++vXr0s3OrQWtdd18+ZNPPTQQ5rb1a5dG3l5earPbWtAB8oveuQBUmsZNWqUybZqU+Iol6CgILMmwfYoKyuTvkfi8sILL2huo1xfbalQoQIWL15s93Ht3r1b8xwzatQoq5+LfBA5tWXixIlW9+HMgO6KciX66aefNM8/ls4r1kIBAEyfPl0K0mpLWFiY6mctP2dqLXXq1DEZGFLkroB+8eJFkwCuXNq0aYPs7Gzp33pGvlYj/y6lpqaazWIhLoGBgZg1a5bqPpwd0AEgOzvb5KafpUWtfNy4cQPDhw/X9TnrGcDN0df8xRdfSLMP2HPetKU866U1TZn8PdVTFu0t59bOY4cOHZK+AxUqVMC6devM1jl79qzJzSytpVevXmbbM6Dbts+jR4+a/NaOHj1aszUSeT8GdHKK0tJSqRalb9++aNCgASIiIhAUFITKlSsjMTERQ4cORUpKimYfGl8J6EB5c7Fnn30WcXFxCAkJQdWqVdG+fXvMmjVLGuxD6wLA2QEdKL/rPnDgQNSuXVuaj9naBYh8IJ2mTZvqOhZr9u3bh/feew+DBg1C8+bNERMTg+DgYFSpUgUdO3bE1KlTdU3B88svv+DJJ59EQkICwsPDUalSJSQmJmLw4MFISUnRbGb5448/YvDgwahduzZCQ0NRpUoVdOjQATNnztRsamxPQAfKw++qVavw2GOPISEhARUrVkRISAhiY2PRqVMnTJw4EZs2bTL70T19+rRUc9W6dWvUrFkTwcHBiIyMxJ133onnnntOczBCW73yyismF1fWRmUuLCzEwoULMXToULRo0QKxsbEIDg5G5cqV0bZtW0yaNAmHDh1y+LjOnz+Pl156CY0bN0ZYWBiqVauGbt26SV0C9Hwua9asQe/evVGlShWEhoaibt26GDx4sHQB6s6A7opyJXfx4kXMmDEDnTp1QkxMDEJCQlCnTh106NABr776KvLz88220RMKgPK+4mPGjEHDhg0RHh6OiIgINGvWDOPHj7f43peVlWHHjh1455130LdvXzRt2hTR0dEIDg5GtWrVkJSUhFmzZuHKlSuq27sroAPln827776Ldu3aITIyEpUqVULr1q0xc+ZM3Lx5E3l5edKxqNUw6qH8LhUUFGDUqFGIi4tDaGgoqlevjocffliz/LkioAPlQXv+/Pno3r07qlevjpCQENSsWRPt2rXD+PHjVbuJyGVnZ2Ps2LG44447EBUVheDgYERHR6N169Z46qmnsHz5cqt9sC2x9TUfPnwY48ePR7NmzRAREYHw8HA0bNgQY8aMsXredEVALy4uxttvv4327dsjKirK5GaXrQEdsK+cWzuPAcDBgwellkvh4eFYv3696noZGRkYOXIkGjdujMjISAQHByMmJgZ33303XnjhBaSnp6s2gWdAt32ff/75p9S1QRCs3zwn78aATkSa5D9can2Aich2LFfea8mSJdJnd/DgQbv2oSckERGRf2JAJyJNr776KgShfPqVU6dOefpwiHwCy5X36tevHwShfHwGe5uZMqATEZElDOhEZNHly5dRrVo1CIKAIUOGePpwiHwCy5VxHT9+XHNWgoULF0q15xMnTrT7eRjQiYjIEgZ0IjJx+vRpHDhwAL/++qs0Km9AQAC2b9/u6UMj8losV95h0aJFiI2Nxbhx47BixQpkZ2dj27ZtWLp0KQYNGiSF8xo1aqhOzaUXAzoREVnCgE5EJsTBaeTLc8895+nDIvJqLFfeQT5QoKWlVq1aqiPN24IBnYiILGFAJyITYpAIDQ1Fs2bNMGfOHM15sInIOpYr73D27FksWLAAAwcORJMmTVClShVppPkuXbrg7bfftjjSvC0Y0ImIyBIGdCIiIiIiIiIDYED3M7dv38a2bdtQWFiIY8eOceHChQsXLly4cOHCxU+XwsJCbNu2ja26DIQB3c9s27bNav86Lly4cOHChQsXLly4+M+ybds2T8cU+h8GdD9TWFgoFUJP37HjwoULFy5cuHDhwoWL5xax8q6wsNDTMYX+hwHdzxw7dgyCIODYsWOePhQiIiIiIvIgZgPjYUD3MyyEREREREQEMBsYEQO6n2EhJCIiIiIigNnAiBjQ/QwLIRERERERAcwGRsSA7mdYCImIiMgoSktLcfPmTS5cuLhoKSkp0SyDzAbGw4DuZ1gIiYiIyAhu3bqFffv2oaCggAsXLi5cTp48ibKyMtVyyGxgPAzofoaFkIiIiDytrKwMR44cwYEDB3D9+nWP1zJy4eKLy40bN3Du3DkppKthNjAeBnQ/w0JIREREnlZcXIyCggJcunTJ04dC5PPEkK7W3J3ZwHgY0P0MCyERERF52s2bN1FQUIAbN254+lCIfN6NGzdQUFCAmzdvmj3GbGA8DOh+hoWQiIiIPE0M6GqBgYicS6u8MRsYDwO6n2EhJCIiIk9jQCdyHwZ078KA7mdYCImIiMjTfDGgjxgxAgMHDvT0Ybjdhg0bIAgCLl686OlD8UmHDx+GIAjIy8uzuI61z4AB3bswoPsZFkIiIiLyNEuBIW5yqlsXZ7p06ZLbQ6ogCFi1apVbn1PJ0wFdfP7o6Giz79Pvv/8OQRAgCPojz4gRI6RtgoODUb16dfTs2ROfffYZSktLnX34VjGg+x8GdD/DQkhERESe5osB3RO8NaAXFxc7/fnr1auHlJQUk8eeeeYZ1K9f3+aAfv/99+PUqVM4fvw4cnJyMH36dERGRqJv3764ffu2045dDwZ0/8OA7mdYCImIiMjTvDmgf/fdd7jzzjtRoUIFVK1aFT169MC1a9fMmrgnJSVh3LhxmDRpEqpUqYIaNWogOTnZZF979+7Fvffei7CwMDRr1gwZGRk2hW5r6y5fvhzNmzdHaGgo4uLiMGvWLKvbR0VFYdGiRdK/t2zZglatWiEsLAzt2rXDqlWrTAKjGA5//vlntGvXDuHh4bjnnnuwb98+aR/Jyclo1aoVPvvsMyQkJCAgIABlZWVIT0/Hvffei6ioKFStWhUPPPAADh48KG0nhtMVK1bgvvvuQ3h4OFq2bInffvtNWkd8/ilTpqBnz57S32/cuIGoqCj85z//MQvomzdvRteuXREeHo7o6Gj07t0bFy5cAGC5q8L69eshCAI+/fRT6W+FhYV48MEHERERgUqVKuGRRx7BX3/9Zfa6v/zyS8TFxaFy5coYOnQorly5Iq2j9z2QB/Q1a9agcePGqFChAu677z4sWrSIAd2HMKD7GRZCIiIi8jRvDegnT55EcHAw5syZg8OHD2PXrl344IMPcPXqVdWAXrlyZUydOhV//PEHFi9ejICAAKxbtw4AUFpaiqZNm6JXr17YsWMHMjMz0b59e6cF9OzsbAQGBuK///0v9u/fj0WLFiE8PNwkfFsL6FeuXEHVqlXxxBNPYM+ePUhLS0OTJk1UA3qHDh2wceNG7NmzB126dEGnTp2kfSYnJyMiIgJ9+vRBbm4udu7cibKyMixfvhwrVqzAH3/8gby8PAwYMAAtWrSQmpKL4TQxMRGpqanYv38/hgwZgri4OKkmW3z+/fv3IywsDIWFhQCAJUuWoFWrVtINBVFeXh7CwsIwduxY7NixA7t378Z7772Hs2fPAtAeS6BVq1bo2bsP9p68jLNXbqJNmzbo3LkzsrOzsXXrVrRt2xZJSUkmrzsyMhKDBw9Gfn4+fv31V9SsWROvvvqqtI7e90B8v48ePYqwsDCMHz8e+/btw1dffYUaNWowoPsQBnQ/w0JIREREnuatAT0nJweCIODIkSNmj6kF9M6dO5usc/fdd2Py5MkAymtOg4ODcerUKelxZ9ag/+Mf/0CvXr1M/jZp0iQ0b95cc3t5QF+wYAFiYmJMPqdPP/3UYg26aM2aNRAEQdouOTkZISEhOHPmjObrOXPmDARBQH5+PoC/w+nChQuldfbs2QNBELB3716T57948SIGDRqEadOmAQC6deuGefPmmQX0YcOG4d5777V4DFoBfejQoWjYuCl2HruIhUtXISgoCEePHjU7tm3btkmvu2LFiiY15pMmTUKHDh1sfg/E9/uVV15Bs2bNUFZWJm0zefJkBnQfwoDuZ1gIiYiIyNO8NaCXlJSgR48eqFSpEoYMGYJPPvnEYtPopKQkPPfccybbP/jggxg1ahQA4N1330VCQoLJ45cvX3ZaQG/Tpg2mTp1q8rfvv/8eISEhKCkpsbi9PKBPmDAB3bp1M3l8586dqgFdHr5zc3MhCIJUm52cnIxGjRqZHePBgwcxbNgwJCQkoFKlSoiIiIAgCFizZg2Av8OpGHgB4MKFCxAEAZs2bTJ5/osXL+LHH39EQkIC/vzzT1SoUAHnzp0zC+jNmjXDa6+9ZuEd1Q7ojz76KJomNsPuE5fw8n/fRP24OLN1oqOjsXjxYul1y2+IAMCcOXNMPne974H4fg8aNEj6Dom+//57BnQfwoDuZ1gIiYiIyNO8NaADQFlZGTZv3ozXXnsNLVq0QGxsLA4dOqQa0MePH2+y7cCBAzFixAgAwNy5c9GgQQOTx50Z0Fu3bi3VJotWrVplEtADAgKwcuVKk3UqVqwoBfTx48eje/fuJo/v2LFDNaDLw2FeXh4EQcDhw4cB/N0XW6lZs2bo3bs3fv75ZxQUFGD37t0mr0mt//XFixchCAI2bNhg9vwlJSWoVasW7rvvPjzyyCPSa5YH9LZt29od0Fu0aIEHHngAe09exktTZ6Ju/TizdaKiovDll19Kr/vOFi2x9+RlnLtaBKD8c4+TBXtb34OBAwcyoPs4BnQ/w0JIREREnubNAV2upKQEderUwezZs20O6GITd/mgYj///LPLm7jfcccd0r+rV6+ODz74QPr3H3/8AUEQTJq4V6tWDUVFRdI6CxcudEpAP3fuHARBwK+//ir9LTMz06GADgAvvfQSBEFAeno6APOAPnLkSLuauK9MTYcgCJj/4cc4d7VIs4n79u3bpded2LwFdh67iL0nLwMwDej2vAdiE3e5l19+mQHdhzCg+xkWQiIiIvI0bw3oW7duxfTp07F9+3YUFhbi22+/RWhoKNLS0mwO6CUlJWjatCn69OmDnTt3YvPmzejQoQMEQcD333+v63gEQcCcOXOQl5dnsly9ehU5OTkmg8R98cUXZoPEPfbYY2jWrBlycnKwfft2dO/eHSEhIdI6ly9fRtWqVTF8+HAUFBTgp59+QmJiIgRBwI4dOwDYH9BLS0sRExODJ554AgcOHMD69etx9913OxzQb926hbNnz0p9tJUBff/+/QgNDcXYsWOxc+dO7N27Fx9++KHJIHFq06xVjIhE1559sPtYeZeGsrIytGnTBl26dEFOTg5+//13tGvXzmyQOK0adHveg8LCQoSGhuJf//oX9u3bh6+//ho1a9ZkQPchDOh+hoWQiIiIPM1bA3pBQQH69OmD2NhYhIWFoUmTJnjvvfcAqPdB1wrowN/TrIWGhiIxMRGrV6+GIAj46aefdB2PIAiqixhexWnWQkJCUL9+fbzzzjsm2584cQK9e/dGREQEGjdujLS0NNVp1lq2bInQ0FC0a9cOKSkpEARBmkbNkSbuGRkZaNasGcLCwtCyZUts3LjR4YCupAzoALBx40Z06tQJYWFhiI6ORp8+faTtR4wYIb2PwcHBiI2NRc+ePTH/w4+x5/hFnLtahHNXi7D7xCVkbMvH/f36q06zdu5qEca+OBlNm98phXMAeOPNd1C7bj3sPnEJ564W2fUerF69Go0aNUJYWBi6dOmCzz//nAHdhzCg+xkWQiIiIvI0rcDgzzZv3gxBEEzmwTaar776CiEhIbhx44anD8Vj9p68jJ3HLpo0Xde7jp5tnY0B3bswoPsZFkIiIiLyNAb0citXrsS6detw+PBhZGRkoHnz5pr9oz1h8eLFyMzMxKFDh7Bq1SrUqVMHjz/+uKcPy+3OXS2SmqqLNehiLbil9eXrnLtahPzjl7Dz2EXsOqa9rbMxoHsXBnQ/w0JIREREnsaAXm7x4sVSU+U6depgxIgROHfuHABg+vTpiIiIUF3uv/9+tx3jW2+9hbi4OISFhSE+Ph4TJkzA9evX3fb8RiHWfMtrveWhXe/25QFdvSm6qzCgexcGdD/DQkhERESexoBu3fnz53HgwAHV5fjx454+PL+jFsbF0J1//BJ2HbuIwnOWb1zIa9C11nMFBnTvwoDuZ1gIiYiIyNMY0MmbWKopF/+urBm3pWbdHRjQvQsDup9hISQiIiJPEwODPw80Rt5DrXm7XOG56yY16NbWd7cbN24woHsRBnQ/w0JIREREnlZcXIyCggJcunTJ04dCXspZtdR69mPrOkarQT937hwKCgpQUlJi9hizgfEwoPsZFkIiIiLytLKyMhw5cgQHDhzA9evXcfPmTS5cbFr2FJ7FjsOnsafwrOZ6J89dxp7Cs/jz5AXsKTyLk+cu27UfZx2PO5cbN25I4fzkyZOqZZHZwHgY0P0MCyEREREZwa1bt7Bv3z4UFBRw4WLzsi1vF37JysW2vF2a6/2SlYt1W3KQsSUH67bk4JesXJPHN2/fgYwtOfj5txxsy9ule7/2Ho8nlpMnT6KsrEy1HDIbGA8Dup9hISQiIiKjKC0t9XgtIxfvXpZlHcSgeRuwLOug5uP//i5Hdb1B8zag0xvp6PRGOvq8k4HO08v/v/P0dIv7tPdYPLGoNWuXYzYwHgZ0P8NCSERERES+otPM9YibnIoGL6diSdYR6e9Lso6g1dS1aDV1rcnflY8nTklD4pQ0ad24yanS0mnmeruOxdbtPInZwHgY0P0MCyERERER+YolWUfQ4GXzQC2GZUuBWe1xtdCuFu4tGZeSiwYvp2JcSq7jL8xNmA2MhwHdz7AQEhEREZG3W5J1BJ1mrseSrCMmwVoM1eNSchE/ORWJU9I1a9CVIVxeI29rbThr0MkZGND9DAshEREREXk7ZRhW1ogrH5cHei3ieuNScnWtr7atLdt4GrOB8TCg+xkWQiIiIiLyNmo15vLab/nfxqXkmj1uqa+6v2M2MB4GdD/DQkhERERE3kYM2K2mrlVtfi4P8GpNzeV91eMme1c/cVdiNjAeBnQ/w0JIRERERN5EXjueOCUNcZNTET85VbXvuDykK2vKl2QdkQJ6g5dT3f0yDInZwHgY0P0MCyEREREReRN5+BanQms1da3JOnr7f3vjSOuuxGxgPAzofoaFkIiIiIi8ibL/ubcNxGZkzAbGw4BuIHFxcRAEwWx57rnnAABJSUlmjw0dOtSm52AhJCIiIiIigNnAiBjQDeTMmTM4deqUtGRkZEAQBGzYsAFAeUAfM2aMyTqXLl2y6TlYCImIiIiICGA2MCIGdAMbP348GjZsiLKyMgDlAX38+PEO7ZOFkIiIiIiIAGYDI2JAN6hbt24hJiYG06dPl/6WlJSEatWqISYmBs2bN8fEiRNx5coVzf0UFRXh8uXL0lJQUMBCSEREREQux/7ixseAbjwM6Aa1bNkyBAUF4cSJE9LfPvnkE2RkZCA/Px9Lly5FfHw8evbsqbmf5ORk1X7tLIRERERErsNwCtX5yG3F99G1GNCNhwHdoHr37o3+/ftrrpOdnQ1BEJCTk2NxHdagExEREbmfM8KpN5PPXW5LuFZu5+/vo6sxoBsPA7oBHTlyBIGBgfj+++811ysrK0NISAi++eYb3ftmISQiIiJyLjFIjkvJlf5rTzj1JfYGa3E7ca7zxClpiJ/MectdhdnAeBjQDSg5ORk1a9bE7du3NdfLz8+HIAjYtGmT7n2zEBIRERE5lxgqG7ycavJff631VdaC21KbPi4lF/GTU5E4JR2tpq6Vwrq/vpeuxmxgPAzoBlNaWor69etj8uTJJn8/ePAgpk2bhu3bt+Pw4cNYs2YNEhMT0aZNG5SUlOjePwshERERkXPJa9DFWl9vrT0fl5KLBi/bXmMtfw/kNyrkzdTFWnFLfcqXZB0xublhbzN50o/ZwHgY0A1m7dq1EAQB+/fvN/n70aNH0bVrV1StWhWhoaFo2LAh/u///g/nz5+3af8shERERESuI69Nt7X22Ajk4VoPMYCLtd3i9vKa7yVZR5A4Jc3k7+J70uiVNVITduV7R67HbGA8DOh+hoWQiIiIyHWUtcDy2mNvaKatVoOuNZK6GMwbvbIGDV5OxYD5mSb98cVt5O9Dg5fLm7DLA7u8tp3h3H2YDYyHAd3PsBASERERuZY8aHpTDbryuMX/1xrwTd5PXOsmhPJ9kG/HQeA8h9nAeBjQ/QwLIREREZF7eUvNsDyIi/8vhmpLNxjkLQZsaZruLe+Jr2M2MB4GdD/DQkhERETkXp6ey1tvGFarQRdrurWOnWHbezEbGA8Dup9hISQiIiJyHj3hVG0dceA0sXm3K0KuuE/5AG2tpq416R+u9bxazfMZyn0Ds4HxMKD7GRZCIiIiIuext3ZcOWiaK2rZxX3GT041G5BNrSm7MnBrHZOnWwWQczAbGA8Dup9hISQiIiJyHntrkp1Vg26tBlxtfnaxBl38e/lj6VJQt2XfrEH3bswGxsOA7mdYCImIjIsXvETeyday66z1lVO62UpeCy72NZcHdOVz8xzle5gNjIcB3c+wEBIRGZelC2QiMhZ5zbQ9A6lZKutqc5AD5s3JlQO4xf9vX7YEZ2X/ckvhW21kdzZr9x3MBsbDgO5nWAiJiIxHbSAnzgtMZFxiUBVrr9X6b2ttI5Z1ZUCXT1cmpwzPyn7jem4QKOm9IcgadN/GbGA8DOh+hoWQiMh45Bfb4gW6/CLdUq0akTdS1j47GvashUa1kcgdCZry/Q2Yn6m7bMqbo1sK9GplXS0gK987S6PEa71GttghgNnAiBjQ/QwLIRGR8SgvwOUDRwGWa9XUticyAq3vpBgMxcWR5tLKPthqzysfLV0sV/Gyf9tabhxp8m1P33O9I65rHaczjsXR7ciYmA2MhwHdz7AQEhF5D7GmrtEra1SbvCv7obJfKBmFPByKgThxSrpJ/2vxppMjTaflfbDV+nYrn0/eLN3eGwTubPItbxa/JOuIVMMujrhu6diV77kzKd9z8m7MBsbDgO5nWAiJiLyHvOZPeSGup7kskafIm2Irw7Fyyi9xXXvCshgWE6ek/W8ch3TpucRm6PL/F6cYUz6/UVnre27p2K21unGE/IYHbwp6P2YD42FA9zMshERE3kPe11U+b7G81tzRGkgivdT6clsjv8mkDHXyUG7PvsVjUk4RJq8hF4O7t5YLZbm29D4p13PluBX2flZkTMwGxsOA7mdYCH0DL8SJ/I9y1Og4RfNVZVNYImfTatFhiVZzcEu1w/bUyiqfJ15Wi+5M7vj9lT+H2nui9TeWf7IVs4HxMKD7GRZC32DpIobBnch3qTUZljdfVQ4mReRsruzXDNg3gJql9V31e+iOecCVLQv0jM7O8k/2YjYwHgZ0P8NC6N3EJmsD5meqXni448KBiDzPUvNV3qQjV1L7jXFmc2dlLbi1/br6N8+eqctc9by2bOes6evIPzAbGA8Dup9hIfQuyh9pTrVE5HtYbsmoLDVJl4+HIO9yITYnt7f/s9r0ZVqtxZwZRNX2KR5D/P9em7eUUd6sJ1swGxgPA7qfYSH0LsrRWgfMz7TpoocX/kTG58yLaZZ5cibllGUieXCVD/4mrmfvCOJqNejiSOtqNwWcGUCVr0l8XmfN124PzlNO7sBsYDwM6H6GhdC7aM1xbOkH2NrgMkRkO2uDWzlz345gmSdnsjTftfidTZyStVAlbAAAIABJREFUZjJSuhiibb2ZLKesyRafQwzO8vDvzACqnC89XuW/7p4tgeWZ3IHZwHgY0P0MC6H30Br5FrD8w21tcBkisp28NYv8It6REaJdMVURyzw5k7WBx5w5CrtIOVuBvEbb1f2r5c+tnNbQma9RL5ZncgdmA+NhQPczLITew9pFgFYNOucnJXIusVlt4pR01Sa99rBnyiq9nHFhz3BAgG3fA2f8/qj1c3fX99Daa+XvK/kiZgPjYUD3MyyE3sOeJrXKJvFi33VeSJA9GND+pqxBT5ySJvVRdSSIJE5JQ/xk+5oC6zlePYNbWfqcla+ZocR3uDJoemJkdXdhk3PyRcwGxsOA7mdYCL2DWjhXa2ZoqXmhGMzV+q6Td/HkxailAaL8jaUwoyfAKj8/5ejWrrrgl58z5J+h3nOLfF15k36eS7yT8jus/EydOZ2Yq89Zriwzem+C80YV+RJmA+NhQPczLITGZK0fn7xfnKV+6GohghcT3s/dNTby75HYnFs5QJQ/0DPYolqAFfvJimNHKMOvPDS7esCpJVlHpP674nlBeTyWatrVRtNmDbr3UnanUI6joNbqyoi1xd5c809kVMwGxsOA7mdYCI1JeWGgrGVzZMR2hnTv5s7PT63W1RXTGdlzXO6++WRL8255EJYHdfH/xbLcaupaNHpljVtro9XOEfIbfcqbDGKfX9aY+xZlGVLrDqW80WTEmzKuDNH8rSR/xWxgPAzofoaF0JiUtVX2hCJr/Uh5oe193H3BqFabKr+wF0Omsy7a9dSGKcOvWMMn1u7b0vxezwBQypkT9D6PvNw2eNl0fmh5OPbE2BDKQbeU4Vz+ucrDuXjs5LvUbuDIR0432u8GQzSR8zEbGA8Dup9hITQma7VcerZzZB0yJnf3AVe23BDJv5PyWmFbv5/Kf+vp26wMDfJ5mZXvjbXvurWbVcoxHOR9dfV8BvLnV2sF46kaSUuvW/m5dpq53uT9dvbAdWRsyptx/N0g8g/MBsbDgO5nWAiNSdmXXO+FEWvHfYOl8ObqgK68ILc2WJhY06q3dk35vVb2h46XBW+177t4fPLR0tX+Jq4rHr8YsNVqjNWa+coflzdNt7U8GpVaf3L5KPTy98kXXi8REenHbGA8DOh+hoXQeBypWbP3YpoX4cagNsiYWv9gV/ezltei6qkZl9cO6w3Rak28rT2ftZpf8e/K5uXy91O5vfhY4pQ0s0Cv7IPvi+VD/jk4qxsNeY7ez4SfHRFZwmxgPAzofoaF0HjUmtW66zlZ8+458hpkMcjGq4R0cV1nfjcs9T22p+WGMvA1eNl8gDS10K7n+dRet9oNLWWzbGVgN+1TnmbSRF4ZVi018/cVllog6GHtvOHr750R6f394DmfiCxhNjAeBnQ/w0JoLPKw4c45y1mb4nnKGmUAJgN0uWK6I2WNvXJqLVv2Iw/2yrCr/Lf8uB19LWrbqw2sKIbFAfMzzUarljd/Vw7mRpZZO2/4eusDI1KWaUvliud8IrKE2cB4GND9DAuhsdjb99wZeMHmPrbWBMubacu/G44O3KTWvNvesKz23RWPT/lfva0B9LxOS9sr/64cAM1SDSNrffVTfj4D5mcifnIqEqekSwPjcXo299E7qBvP9USkhdnAeBjQ/QwLobG468JJ7XnY5NF99L7XysG8nP2ZyWuRHR1V3Jnf3b+bn6eb1Lw7Mjies25q0N+UNz3UWkkwDLrvPVCOIcHm7URkD2YD42FA9zMshO6jp6bQmeFGa19qo4FbC4PkPGIz8EavrEGrqWsxYH6mXbW2jn5ORv2cxQChbBrvzNHrjfravYn8poc8pCdOSedI8NDf3NyZz6ecVcFSax1//DyISB9mA+NhQPczLIS2s7emUW3wHldcwOmpHZE3bVYbIErPPniRZz/lQGryWi9SD356RpO3BWsRnctSlwL5wIHuHPjSCOQ3mvT8XthzThVv9ondCpT74feciGzFbGA8DOh+hoXQdvJwJc7XrKwRlY+GLb9oUs6pLA/K7qxBV94YUGuWau0mBC/8bKNsoSC/MeJIDbq7p+RzN1cdp7e8fm+l1iJHPP85syWEkS3JMp2ZwVoLKntu1FobO4JdO4jIVswGxsOA7mdYCPWTX+jEK2o9lU1x5RdN8po/5ajGrgjotr4mtRr0JVnmo2CrbWdvf2V/oLwwFvtTOzOc6O1zqrUtb7CQu6h1rfFF8psT8hkSLJU3ZQsDtRu8lqjVoKvx11YMRGQ7ZgPjYUD3MyyE+igDq7KvX+KUNNUadOU81soRotX6DBqBfPAntQs5a4/7O/n3RXnzxtmtJeTfH7XuE5Zac/AGC7mbv7Ra0JrRQK0ZuqXuAc6cSlFspSPeKDTKbw0RGQ+zgfEwoPsZFkJtyqaZYpN25eNqF10AdE0zZMSwa+1C2loNuycY5eJf/t6UXxCnmdRyu2LAKPHGj/ziW22EbTHAu2vQKiJ/pGdAUHlrArVB3PRMl6aH8jzAGnQisobZwHgY0P0MC6E25WBe1ppmKpsN6wnfRgmWtrLUPN5TjNJkW96kVd7fXHyPXPF5azWRHZeSK7XwEAO8OO855/omd/PW852ziGVVLIPyri9qN3sdvZlmtPM0ERkfs4HxMKD7GRZCbcraUFtH4fX1i1H5DQxP1cwYYRAktfEJ3NnPVtlcVnkMygDPGnTyFPlNS18duMxaDbpatxTlGBW2jgCvxSg3L4nIOzAbGA8DuoEkJydDEASTpUaNGtLjZWVlSE5ORq1atVChQgUkJSVh9+7dNj0HC6E6rf6B9Dd57bCnQp8RLj6VzUg92V1BedME8L8bR2Rc8htIRht7w1msnZPUWlYpB9DT041IbzlmeSciWzAbGA8DuoEkJyfjjjvuwKlTp6TlzJkz0uNvvvkmKlWqhBUrViA/Px9Dhw5FrVq1cOXKFd3PwUKozgihz9Nsvahz90WgWs25p4/BCDWCHACOjM7Ts1e4it7m5GrnKWt/U7vJZrRxQIjINzAbGA8DuoEkJyejVatWqo+VlZWhZs2aePPNN6W/FRUVISoqCh999JHu52AhVMcaB9tvUrgyGKp9HmrH5+4bK7yRQ2Q7X23R4czR15WUNexGHFyUiHwDs4HxMKAbSHJyMipWrIhatWohPj4eQ4cOxZ9//gkA+PPPPyEIAnJzTQd5evDBBzF8+HCL+ywqKsLly5elpaCggIWQVKldRGsFcEfm5LZGLQirHY87L/RZU03kHN54o0utdlvP/OX2nqPUmsD7wk0NIjIeBnTjYUA3kLS0NCxfvhy7du1CRkYGkpKSUKNGDZw7dw5btmyBIAg4ceKEyTZjxoxB7969Le5TrV+7EQuhEQb+IlPWaofEwOrM+b61Lnw93cTTG0MFkRE5K2yKgzQmTkl3+W+GvAbblvE37D1vcDR2InIXBnTjYUA3sGvXrqFGjRqYPXu2FNBPnjxpss4///lP9OnTx+I+vKUGXTnoFkOQ5+mtMZZPM+boZye/mLU0Erm7mniKc40PmJ9puH7nRN7KWeF8SdYRkykxXf2bIb9BaMtI6468Xlc2oSciEjGgGw8DusH17NkTzz77rN1N3JWMWAjlQZDhx/PsHSzOGZ+dshmp2vREzvyOaL1W8WJcOUK6sukpEennrJYo8vAqr0F3ZVPwcSm5bg3M7FZDRO5gxGzg7xjQDayoqAh16tTBtGnTpEHi3nrrLenxW7duefUgccom0mLgEWsux6XkWtkDuYKrm3JbuoDWGrVYXmuuPD57L8gtNZkX9zdgfiYDOpGTOeuGnqURz115/lIO1MZ+4UTkC4yUDagcA7qBTJw4ERs3bsShQ4ewdetW9O/fH5UqVcKRI+U//m+++SaioqKwcuVK5OfnY9iwYV49zZq8BkQeeOQ1l+6ePosXWq7v+2hpNGLlhbWl9ZSflb0X5Gr7V4Z2Tw9MR+SrnBmk5ftyZvm0Nvo8x6UgIl9gpGxA5RjQDUSc1zwkJAS1a9fG4MGDsWfPHunxsrIyJCcno2bNmggLC0PXrl2Rn59v03MYqRBaCoLKZoSuDkSeHnzMiFzZ99FazbWtQdiRGnRLU7lxKiMi17HWdNuT3WzkrAVw3qwjIl9gpGxA5RjQ/Yy3FEL5BZwtI+baum95M2aGsr/Z2/fR3lDtjgtda8/hzhGhifyZteBrbzcSZ9dosw84EfkDb8kG/oQB3c94UyFUjuLtjJpUee2tcuEFmOO0LpC1QrkjF9bK/Voaw8Ba33V5f3cich1r41AkTkm3K6A7+0YfW1cRkT/wpmzgLxjQ/Yw3FUJLgwBZWlfPhZRyULoB8zM5IJ0TadU4WZo2zdFuDMrgbSloW+s/ysEJiTxDLJvymnNL5xF7zhX2nl/Y5YWI/IE3ZQN/wYDuZ7y1EFq7UNJ7IcURuF1PrTZcrcuC3pYR1ihvCqgFbbULdPYfJTIG8Zwhn1/cUqsaPa1tlGVbPOfE29hSiucIIvIH3poNfBkDup/x1kK4JOuIyXzYao+7ckAx0k9r8DWt2nJn1KLL50qXh3b5DRxnDyRFRPYTb7CJ53et6RP19glXhnhlyylLN+t4biAif+St2cCXMaD7GW8uhOJFVuKUNIsXUfLaU0ujxJNrKS+i9Y7Y7MhggMp9yMcZEL8r8qbvbLZKZAy2jDWid6wKtfEutAYdld/Ac9fsIURERuHN2cBXMaD7GW8uhHqCnHiBFa8IaRzkx32UU7RZ6lag1u/U0QtieU2YeDEu1orJ/8uBn4iMwZbWT4lT0hA/Wf84EWo3B7Vq5uU3cznHORH5C2/OBr6KAd3P+EIh1KoZF8OXOAqwuNja95Dsp7wothTQbR2l315qz8/aMSLjU5vpwZYadHnTdmvbWJvlgYjIV/lCNvA1Ph/QAwMDnboEBQV5+iU5xFcKofxiTatPOvsUep4r+pzbggMDEhmbpXOBcuwKvXOSy2/+qW1jqQk8u0MRkT/ylWzgS3w+oAcEBDh1CQwM9PRLcoivFELloHGs7SBL+N0gMjZLzcnFFlED5mfaVIatlXnlTTu1PuhERP7CV7KBL/GLgN6lSxen7Ktz584M6Aai1vyRF1ZERN7FWg26s4OzMqCzxRUR+TNfyga+ggHdBgzoxsMLKyIi3+Sq8ztb1RAR/c3XsoEv8PmAPmHCBMyfP98p+5o/fz4mTJjglH15iq8VQtacExGRrWzp005E5Mt8LRv4Ap8P6GTK1woha0KIiMhWWqPC83eFiPyJr2UDX8CA7mdYCImIyN9p1aCzZRYR+RNmA+NhQPczLIRERESWsQadiPwJs4HxMKAr7N+/H99++y1Wr16NCxcuePpwnI6FkIiIiIiIAGYDI/KrgH7w4EF89tlnyMjIMHustLQUo0ePRmBgoLRUrFgR77//vgeO1HVYCImIiIiICGA2MCK/CugvvvgiAgMDMW/ePLPH3nzzTQQEBCA0NBQPPPAAunXrhoCAAAQGBmLdunUeOFrXYCEkIiIiIiKA2cCI/Cqgt2/fHsHBwWZN10tKShAbG4vAwECsXbtW+vtHH32EgIAA9OvXz92H6jIshEREREREBDAbGJFfBfRatWqhadOmZn/PzMxEQEAAOnfubPZYQkICYmNj3XF4bsFCSEREREREALOBEfl8QJ82bZq0BAcHo169eiZ/mzZtGh588EEEBATgnnvuMXusWbNmCAoKMvnbpk2bPP2y7MZCSEREREREALOBEfl8QB85cqS0BAYGokaNGiZ/GzlyJOrVq4fAwED07dvX7LEmTZogKCjI5G8//PCDp1+W3VgIiYiIiIgIYDYwIp8P6HIxMTGoWrUqbt++Lf2trKwMdevWRVBQEM6ePWu2zaOPPoratWu78zBdioWQiIiIiIgAZgMj8quA3q9fPwQGBmLChAkoKysDALz++usICAhA165dVbdp2LAhOnTo4M7DdCkWQiIiIiIiApgNjMivAnpmZiaCg4MRGBiIiIgIREVFITAwEEFBQfjll1/M1t++fTsCAgLw8ssve+BoXYOFkIiIiIiIAGYDI/KrgA4AqampSExMREBAAAICAlCvXj2kpKSorjtgwAAEBARg586dbj5K12EhJCIiIiIigNnAiPwuoIvOnz+P06dPa65TWFiIwsJCNx2Re7AQEhERERERwGxgRH4b0P0VCyEREREREQHMBkbEgO5nWAiJiIiIiAhgNjAiBnQ/w0JIREREREQAs4ER+XxAT0hIwNChQ52yr0ceeQQNGjRwyr48hYWQiIiIiIgAZgMj8vmAHhAQgC5dujhlX507d0ZgYKBT9uUpLIRERERERAQwGxiRXwT0li1bYtOmTQ4vLVq0YEAnIiIiIiKfwGxgPH4R0AMDA52yiPvyZiyEREREREQEMBsYkc8H9KSkJNx3331OXbwZCyEREREREQHMBkbk8wGdTLEQEhERERERwGxgRAzofoaFkIiIiIiIAGYDI2JA9zMshEREREREBDAbGBEDup9hISQiIiIiIoDZwIgY0P0MCyEREREREQHMBkbEgO5nWAiJiIiIiAhgNjAiBnQ/w0JIREREREQAs4ERMaAbyIwZM3DXXXchMjISsbGxGDhwIPbt22eyTlJSEgRBMFmGDh2q+zlYCImIiIiICGA2MCIGdAPp06cPFi1ahN27d2PHjh144IEHUL9+fVy7dk1aJykpCWPGjMGpU6ek5dKlS7qfg4WQiIiIiIgAZgMjYkAHUFpaijNnzqCwsNDTh2LizJkzEAQBmzZtkv6WlJSE8ePH271PFkIiIiIiIgKYDYzIrwP6mjVr0LNnT1SsWBGBgYEICgoyefyNN97AsGHDcObMGY8c34EDByAIAvLz86W/JSUloVq1aoiJiUHz5s0xceJEXLlyxeI+ioqKcPnyZWkpKChgISQiIiIiIgZ0A/LbgD5p0iQEBgYiICAAYWFhCAsLQ2BgoMk6n332GQIDA/Hxxx+7/fjKysowYMAAdO7c2eTvn3zyCTIyMpCfn4+lS5ciPj4ePXv2tLif5ORksz7rLIRERERERMSAbjx+GdCXL1+OgIAA1K1bF2vWrEFJSQk6d+5sFtAvXLiAwMBAPPDAA24/xueeew5xcXFWC0t2djYEQUBOTo7q46xBJyIiIiIiNQzoxuOXAb1bt24IDAxEVlaW9De1gA4ADRs2RJMmTdx5eHjhhRdQt25dHDp0yOq6ZWVlCAkJwTfffKNr3yyEREREREQEMBsYkV8G9OjoaMTFxZn8zVJA79ixIyIiItxyXGVlZXj++edR+/+3d+dxUlVn/sdv3aY3mrXZZG1A9kFAFg2oNBiX4JrkFVFjCHFUggElyi8xxmCrEZQ4EnU0iWICKBoI6qjRCKMGcAIR2tAJxAZZgiCIEVFasaEB+f7+yFQNRXU3DdRyTj+f9+t1//DWrarznONz637pWtq10/r16+t0nzVr1iR8kVxtaEIAAAAAEtnARSYDen5+vvr37x+3r6aA3q9fPzVp0iQt47r++uvVtGlTLVmyJO5n1CorKyVJGzdu1J133qnS0lJt3rxZL7/8snr16qVTTz1VBw8erNNz0IQAAAAAJLKBi0wG9B49eqigoED79++P7asuoO/evVs5OTk69dRT0zKu6r7MLQgCzZo1S5K0detWDR8+XIWFhcrJydHJJ5+sG2+8Ubt27arzc9CEAAAAACSygYtMBvQbbrhBYRhq+vTpsX3VBfSbb75ZYRhqypQp6R5iytCEAAAAACSygYtMBvRt27apadOmysrK0v/7f/9Pa9eujQX0L774Qn/729909dVXKxKJqHXr1vroo48yPeSkoQkBAAAASGQDF5kM6JK0ZMkSFRYWKgzDardIJKIWLVpo2bJlmR5qUtGEAAAAACSygYvMBnRJev/993XzzTerS5cuikQisa19+/a64YYbtG3btkwPMeloQgAAAAAS2cBFpgP64fbs2aPt27eroqIi00NJKZoQAAAAgEQ2cBEB3RiaEAAAAIBENnCRyYD+6aefaunSpVq3bl2tx61bt05Lly7VZ599lqaRpR5NCAAAAEAiG7jIZED/2c9+pjAM9fjjj9d63OOPP64wDDVjxow0jSz1aEIAAAAAEtnARSYD+rBhw5Sbm6u9e/fWelxlZaVycnJ05plnpmlkqUcTAgAAAJDIBi4yGdDbtGmj7t271+nYHj16qG3btikeUfrQhAAAAAAksoGLTAb03NxcDRkypE7HDhkyRLm5uSkeUfrQhAAAAAAksoGLTAb0Tp06qVmzZjp48GCtxx04cEDNmjVT+/bt0zSy1KMJAQAAAEhkAxeZDOhXXXWVwjDUAw88UOtxDz30kCKRiK644oo0jSz1aEIAAAAAEtnARSYDemlpqcIwVHZ2tqZOnao9e/bE3b5nzx5NmzZN2dnZysrK0ooVKzI00uSjCQEAAABIZAMXmQzokjR9+nRFIhGFYai8vDwNHDhQZ599tgYOHKi8vDyFYahIJKLp06dneqhJRRMCAAAAkMgGLjIb0CXp+eefV58+fRSJRBK2U045RS+88EKmh5h0NCEAAAAAiWzgItMBPWrjxo36/e9/r6eeekovvviiNm3alOkhpQxNCAAAAEAiG7iIgG4MTQgAAABAIhu4iIBuDE0IAAAAQCIbuKjeB/SlS5dq6dKlKi0tTdh3LFt9QRMCAAAAkMgGLqr3AT36Te29e/dO2FfXLSsrK4MVJBdNCAAAAEAiG7io3gf04uJijRgxQt/+9rcT9h3LVl/QhAAAAAAksoGL6n1ARzyaEAAAAIBENnARAd0YmhAAAACARDZwkcmAHolE1KJFC+3bty/TQ0k7mhAAAACARDZwkcmA3rhxY5122mmZHkZG0IQAAAAAJLKBi0wG9CFDhqioqCjTw8gImhAAAACARDZwkcmA/thjjykSieill17K9FDSjiYEAAAAIJENXGQyoEvS9ddfr8aNG+uBBx7Qrl27Mj2ctKEJAQAAAEhkAxeZDOhdunRRly5d1KBBA4VhqDAM1bp169j+I7euXbtmeshJQxMCAAAAkMgGLjIZ0CORyDFtYRhmeshJQxMCAAAAkMgGLjIZ0N99991j3uoLmhAAAACARDZwkcmAbhlNCAAAAEAiG7iIgG4MTQgAAABAIhu4yHxA37x5sx599FFNnjxZ48aN0+TJk/Xoo4/qH//4R6aHlhI0IQAAAACJbOAiswF9586dGj16tLKysmLf5B79QrgwDJWVlaXRo0frn//8Z6aHmlQ0IQAAAACJbOAikwH9448/Vo8ePWKh/KyzztK4ceM0ZcoUffe739Xw4cNjYb179+716nfSaUIAAAAAEtnARSYD+oQJExSJRDRgwACtXr262mPWrFmjU089VWEYauLEiWkeYerQhAAAAAAksoGLTAb09u3bKycn56j/I7733nvKzs5W+/bt0zSy1KMJAQAAAEhkAxeZDOh5eXkaOHBgnY4dOHCg8vPzUzyi9KEJAQAAAEhkAxeZDOg9evRQz54963Rsz5491aNHjxSPKH1oQgAAAAAS2cBFJgP6HXfcoTAMtXTp0lqPW7p0qSKRiO666640jSz1aEIAAAAAEtnARSYD+oEDB3TRRRepWbNmevDBB7Vnz5642z///HM99NBDat68uS6++GIdPHgwQyNNPpoQAAAAgEQ2cJHJgD5y5EiNGDFC2dnZCsNQeXl56tatm4YNG6bu3bsrLy9PYRgqJydHI0aM0MiRIxO2s88+O2Pjf+SRR9S5c2fl5uZq4MCBeuONN+p8X5oQAAAAgEQ2cJHJgB6JRE54C8MwI2OfN2+esrOzNXPmTJWXl2vSpEkqKCjQli1b6nR/mhAAAACARDZwkcmAvmTJkqRsmXDaaadp/Pjxcft69eqlH/3oR3W6P00IAAAAQCIbuMhkQPdVVVWVsrKy9Nxzz8Xtv/HGGzV8+PBq77Nv3z5VVFTEtvLycpoQAAAAAAHdQQR0j2zfvl1BEGjZsmVx+6dOnVrjT8GVlJQoCIKEjSb0S9EtL8Vtllis3Vq9yeDbnPk2XiAdLJ7vgUwjoLuHgO6RaEBfvnx53P677767xt915y/o9YPlixaLtVurNxl8mzPfxgukg8XzPZBpBHT3ENA9cjxvcT8STegnyxctFmu3Vm8y+DZnvo0XSAeL53sg08gG7iGge+a0007T9ddfH7evd+/efElcPWf5osVi7dbqTQbf5sy38QLpYPF8D2Qa2cA9BHTPRH9m7de//rXKy8v1/e9/XwUFBXr33XfrdH+a0E+WL1os1m6t3mTwbc58Gy+QDhbP90CmkQ3cQ0D30COPPKKioiLl5ORo4MCBWrp0aZ3vSxP6yfJFi8XardWbDL7NmW/jBdLB4vkeyDSygXsI6MbQhH6yfNFisXZr9SaDb3Pm23iBdLB4vgcyjWzgHpMBvaqq6piO37hxY4pGkn40oZ8sX7RYrN1avcng25z5Nl4gHSye74FMIxu4x2RAv+SSS3Tw4ME6Hbt27Vq1b98+xSNKH5rQT5YvWizWbq3eZPBtznwbL5AOFs/3QKaRDdxjMqBHIhFdddVVRz3u73//u9q0aaMwDNMwqvSgCf1k+aLFYu3W6k0G3+bMt/EC6WDxfA9kGtnAPSYD+hlnnKEwDDV+/PgajykrK1OrVq0UiUR00003pXF0qUUT+snyRYvF2q3Vmwy+zZlv4wXSweL5Hsg0soF7TAb0iooKnXrqqQrDULfcckvC7StXrlRhYaEikUi1t/uMJvST5YsWi7VbqzcZfJsz38YLpIPF8z2QaWQD95gM6JK0c+dO9erVS2EYaurUqbH9y5YtU9OmTRWJRHT77bdncISpQRP6yfJFi8XardWbDL7NmW/jBdLB4vkeyDSygXvMBnRJ2rZtmzp37qwwDPXwww9ryZIlatSokSKRSFxor09oQj9ZvmixWLu1epPBtznzbbxAOlg83wOZRjZwj+mALv1SkY7EAAAgAElEQVTrJ9Tatm2rrKws5efnKxKJ6L777sv0sFKGJvST5YsWi7VbqzcZfJsz38YLpIPF8z2QaWQD95gP6JL09ttvq0WLFgrDUP/5n/+Z6eGkFE3oJ8sXLRZrt1ZvMvg2Z76NF0gHi+d7INPIBu6p9wF95MiRddq6dOmipk2bVnvb2WefnekykoYm9JPlixaLtVurNxl8mzPfxgukg8XzPZBpZAP31PuAHolETnjjd9CRaZYvWizWbq3eZPBtznwbL5AOFs/3QKaRDdxT7wP6kiVLkrLVFzShnyxftFis3Vq9yeDbnPk2XiAdLJ7vgUwjG7in3gd0xKMJ/WT5osVi7dbqTQbf5sy38QLpYPF8D2Qa2cA9BHRjaEI/Wb5osVi7tXqTwbc58228QDpYPN8DmUY2cI/JgP7BBx9ozpw5WrZsWa3H/elPf9KcOXP0z3/+M00jSz2a0E+WL1os1m6t3mTwbc58Gy+QDhbP90CmkQ3cYzKgl5SUKAxDzZ8/v9bj5s+frzAM9dOf/jRNI0s9mtBPli9aLNZurd5k8G3OfBsvkA4Wz/dAppEN3GMyoA8aNEj5+fk6ePBgrccdOHBA+fn5GjJkSJpGlno0oZ8sX7RYrN1avcng25z5Nl4gHSye74FMIxu4x2RAb9Gihfr06VOnY/v06aPWrVuneETpQxP6yfJFi8XardWbDL7NmW/jBdLB4vkeyDSygXtMBvT8/HwNHjy4TscOGjRIeXl5KR5R+tCEfrJ80WKxdmv1JoNvc+bbeIF0sHi+BzKNbOAekwG9W7duKigoUGVlZa3HVVZWqqCgQJ07d07TyFKPJvST5YsWi7VbqzcZfJsz38YLpIPF8z2QaWQD95gM6Nddd53CMNStt95a63E//vGPFYlEdM0116RpZKlHE/rJ8kWLxdqt1ZsMvs2Zb+MF0sHi+R7INLKBe0wG9HfeeUe5ubkKw1DXXXed1q9fH3f7+vXrNW7cOIVhqNzcXK1duzZDI00+mtBPli9aLNZurd5k8G3OfBsvkA4Wz/dAppEN3GMyoEvS3LlzlZOTozAMFYahCgsL1bVrVxUWFioMQ0UiEeXk5Gju3LmZHmpS0YR+snzRYrF2a/Umg29z5tt4gXSweL4HMo1s4B6zAV2SSktLdcEFFygnJ0eRSCS25ebm6uKLL9Zbb72V6SEmHU3oJ8sXLRZrt1ZvMvg2Z76NF0gHi+d7INPIBu4xHdCj9u7dqzVr1mjZsmVavXq19u7dm+khpQxN6CfLFy0Wa7dWbzL4Nme+jRdIB4vneyDTyAbuIaAbQxP6yfJFi8XardWbDL7NmW/jBdLB4vkeyDSygXsI6PrXz6mtWbNGy5cv15o1a47682s+own9ZPmixWLt1upNBt/mzLfxAulg8XwPZBrZwD2mA/rChQtVXFys7Ozs2JfFhWGo7OxsjRw5UosWLcr0EJOOJvST5YsWi7VbqzcZfJsz38YLpIPF8z2QaWQD95gN6CUlJbFva49+MVyHDh2Um5sb2xeGoUpKSjI91KSiCf1k+aLFYu3W6k0G3+bMt/EC6WDxfA9kGtnAPSYD+iuvvKJIJKIGDRpowoQJ1f4O+oQJE2J/WV+4cGGGRpp8NKGfLF+0WKzdWr3J4Nuc+TZeIB0snu+BTCMbuMdkQB81apTCMNQTTzxR63FPPvmkIpGIRo0alaaRpR5N6CfLFy0Wa7dWbzL4Nme+jRdIB4vneyDTyAbuMRnQW7ZsqU6dOtXp2E6dOqlFixYpHlH60IR+snzRYrF2a/Umg29z5tt4gXSweL4HMo1s4B6TAT03N1dDhgyp07FDhgxRXl5eikeUPjShnyxftFis3Vq9yeDbnPk2XiAdLJ7vgUwjG7jHZEDv0qWLGjdurD179tR63J49e9SoUSN16dIlTSNLPZrQT5YvWizWbq3eZPBtznwbL5AOFs/3QKaRDdxjMqCPHz9ekUhEV155paqqqqo9pqqqSldccYXCMNT111+f5hGmDk3oJ8sXLRZrt1ZvMvg2Z76NF0gHi+d7INPIBu4xGdC3bt2q5s2bKwxDtW3bVrfffrvmzZunP/7xj5o3b55uv/12tW3bVmEYqnnz5tq6dWumh5w0NKGfLF+0WKzdWr3J4Nuc+TZeIB0snu+BTCMbuMdkQJekN998U506dYr93vmRWyQSUVFRkVasWJHpoSYVTegnyxctFmu3Vm8y+DZnvo0XSAeL53sg08gG7jEb0CWpsrJSjz/+uEaPHq0BAwaoW7duGjBggEaPHq1f//rXqqyszPQQk44m9JPlixaLtVur1yLWGEhk8XwPZBrZwD2mA7pFNKGfLF+0WKzdWr0WscZAIovneyDTyAbuMRnQ58yZo4ULF9bp2EWLFmnOnDkpHlH60IR+snzRYrF2a/VaxBoDiSye74FMIxu4x2RAj0QiGj58eJ2OHTFihMIwTPGI0ocm9JPlixaLtVur1yLWGEhk8XwPZBrZwD1mA/pZZ51Vp2OLi4sJ6Mg4yxctFmu3Vq9FrDGQyOL5Hsg0soF7COhH0bNnTzVu3DjFI5I2b96sf//3f1fnzp2Vl5enrl276vbbb4/7nfbNmzcrCIKE7ZVXXqnz89CEfrJ80WKxdmv1WsQaA4ksnu+BTCMbuMdEQN+yZYuWLl0a2yKRiPr16xe378ht4cKFuvXWWxWJRPSlL30p5WN85ZVX9J3vfEeLFi3Spk2b9MILL6h169aaPHly7JhoQH/ttde0Y8eO2HZ4iD8amtBPli9aLNZurV6LWGMgkcXzPZBpZAP3mAjod9xxR8JvnFf32+fV/RZ6JBLRvHnzMjLun/3sZ+rSpUvsv6MBvays7Lgfkyb0k+WLFou1W6vXItYYSGTxfA9kGtnAPSYC+uzZszVixIjYFolE1KxZs7h9h28jR47UBRdcoIkTJ+p//ud/Mjbu2267TYMGDYr9dzSgd+zYUa1atdKwYcO0YMGCWh9j3759qqioiG3l5eU0oYcsX7RYrN1avRaxxkAii+d7INMI6O4xEdCPdCyfQc+UjRs3qkmTJpo5c2Zs386dOzVjxgytWLFCpaWlmjJlisIw1JNPPlnj45SUlFT7uXWa0C+WL1os1m6tXotYYyCRxfM9kGkEdPeYDOhLliw5obeJH4uaAvLhW2lpadx9tm/frm7duumaa6456uNPnDhRp5xySo238xf0+sHyRYvF2q3VaxFrDCSyeL4HMo2A7h6TAT2ddu7cqbVr19a67d27N3b89u3b1aNHD40ZM0ZffPHFUR9/7ty5ysvLq/N4aEI/Wb5osVi7tXotYo2BRBbP90CmkQ3cQ0D/X++8847GjRunAQMGqE+fPrr00kv1wgsvpHUM27ZtU/fu3XXFFVfo4MGDdbrP5MmT475I7mhoQj9ZvmixWLu1ei1ijQEALiAbuMdEQF+0aJFatWqliy66qNrblyxZooKCgrhvbo9+0/stt9ySljFG39Z+9tlna9u2bXE/oxY1e/ZsPfXUUyovL9e6det03333KTs7WzNmzKjz89CEfrIYUqMs1m6tXotYYwCAC8gG7jER0H/wgx8oDEM98cQTCbdVVVWpqKhIkUhEjRo10g9/+EP96le/0pgxY2I/t7Zs2bKUj3HWrFk1fkY9avbs2erdu7caNmyoxo0ba9CgQbV+QVx1aEI/WQypURZrt1avRawxAMAFZAP3mAjow4YNU1ZWlioqKhJumz9/viKRiLKyshKC+JQpUxSJRHT11Vena6gpRxP6yWJIjbJYu7V6LWKNAQAuIBu4x0RA79Spk3r06FHtbVdffbUikYi+/OUvJ9y2e/du5ebmqmfPnqkeYtrQhH6yGFKjLNZurV6LWGMAgAvIBu4xEdDz8/P1pS99qdrbevXqpTAMdf/991d7e48ePdSoUaNUDi+taEI/WQypURZrt1avRawxAMAFZAP3mAjoBQUF6tq1a8L+ioqK2OfM//SnP1V739NPP/2YfsbMdTShnyyG1CiLtVur1yLWGADgArKBe0wE9L59+yo7Ozvhf7xnn31WkUhEeXl52rdvX7X37dq1qzp37pyOYaYFTegniyE1ymLt1uq1iDUGALiAbOAeEwH9pptuUiQS0SWXXKK9e/dK+tdfzwcPHqwwDGv8+bVdu3YpEonozDPPTOdwU4om9JPFkBplsXZr9VrEGgMAXEA2cI+JgL5161Y1adJEYRiqWbNmOu2009S8efPY29uXLFlS7f1mzpypSCSStt9CTwea0E8WQ2qUxdqt1WsRawwAcAHZwD0mArokvf7662rZsqUikUhsy8rK0rRp02q8T//+/WsN8D6iCf1kMaRGWazdWr0WscYAABeQDdxjJqBL0qeffqp58+Zp2rRpevjhh7V+/foaj/3oo4/0wAMP6MEHH9TBgwfTOMrUogn9ZDGkRlms3Vq9FrHGAAAXkA3cYyqggyb0lcWQGmWxdmv1WsQaAwBcQDZwDwHdGJrQTxZDapTF2q3VaxFrDABwAdnAPQR0Y2hCP1kMqVEWa7dWr0WsMQDABWQD9xDQjaEJ/WQxpEZZrN1avRaxxgAAF5AN3ENAN4Ym9JPFkBplsXZr9VrEGgMAXEA2cA8B3Ria0E8WQ2qUxdqt1WsRawwAcAHZwD0EdGNoQj9ZDKlRFmu3Vq9FrDEAwAVkA/cQ0I2hCf1kMaRGWazdWr0WscYAABeQDdxDQDeGJvSTxZAaZbF2a/VaxBoDAFxANnAPAd0YmtBPFkNqlMXardVrEWsMAHAB2cA9BHRjaEI/WQypURZrt1avRawxAMAFZAP3ENCNoQn9ZDGkRlms3Vq9FrHGAAAXkA3cQ0A3hib0k8WQGmWxdmv1WsQaAwBcQDZwDwHdGJrQTxZDapTF2q3VaxFrDABwAdnAPQR0Y2hCP1kMqVEWa7dWr0WsMQDABWQD9xDQjaEJ/WQxpEZZrN1avRaxxgAAF5AN3ENAN4Ym9JPFkBplsXZr9VrEGgMAXEA2cA8B3Ria0E8WQ2qUxdqt1WsRawwAcAHZwD0EdGNoQj9ZDKlRFmu3Vq9FrDEAwAVkA/cQ0I2hCf1kMaRGWazdWr0WscYAABeQDdxDQDeGJvSTxZAaZbF2a/VaxBoDAFxANnAPAd0YmtBPFkNqlMXardVrEWsMAHAB2cA9BHRjaEI/WQypURZrt1avRawxAMAFZAP3ENCNoQn9ZDGkRlms3Vq9FrHGAAAXkA3cQ0A3hib0k8WQGmWxdmv1WsQaAwBcQDZwDwHdGJrQTxZDapTF2q3VaxFrDABwAdnAPQR0Y2hCP1kMqVEWa7dWr0WsMQDABWQD9xDQjaEJ/WQxpEZZrN1avRaxxgAAF5AN3ENAN4Ym9JPFkBplsXZr9VrEGgMAXEA2cA8B3Ria0E8WQ2qUxdqt1WsRawwAcAHZwD0EdGNoQj9ZDKlRFmu3Vq9FrDEAwAVkA/cQ0I2hCf1kMaRGWazdWr0WscYAABeQDdxDQDeGJvSTxZAaZbF2a/VaxBoDAFxANnAPAd0YmtBPFkNqlMXardVrEWsMAHAB2cA9BHSHFBUVKQiCuO2WW26JO2bLli266KKL1LBhQ7Vo0UI33HCDqqqq6vwcNKGfLIbUKIu1W6vXItYYAOACsoF7COgOKSoq0l133aUdO3bEts8++yx2+8GDB9W3b1+NHDlSq1at0quvvqp27dpp4sSJdX4OmtBPFkNqlMXardVrEWsMAHAB2cA9BHSHFBUV6ec//3mNt//hD39QGIbavn17bN9vf/tb5ebmqqKiok7PQRP6yWJIjbJYu7V6LWKNAQAuIBu4h4DukKKiIp100kkqLCxU//79dffdd8e9fX3KlCnq169f3H0+/vhjBUGgP/7xj9U+5r59+1RRURHbysvLaUIPWQypURZrt1avRawxAMAFBHT3ENAdMmPGDC1ZskR/+9vfNHPmTLVs2VLXXHNN7PbrrrtO5557bsL9cnJy9PTTT1f7mCUlJQmfa6cJ/WMxpEZZrN1avRaxxgAAFxDQ3UNAT7GaAvLhW2lpabX3feaZZxQEgT766CNJ/wro5513XsJx2dnZ+u1vf1vtY/AX9PrBYkiNsli7tXotYo0BAC4goLuHgJ5iO3fu1Nq1a2vd9u7dW+19t23bpiAI9Oabb0o6vre4H4km9JPFkBplsXZr9VrEGgMAXEA2cA8B3WG///3vFQSBtmzZIun/viTu/fffjx0zb948viTOAIshNcpi7dbqtYg1BgC4gGzgHgK6I5YvX64ZM2aorKxM//jHPzR//ny1a9dOl1xySeyY6M+sffnLX9aqVav02muvqUOHDvzMmgEWQ2qUxdqt1WsRawwAcAHZwD0EdEf85S9/0emnn66mTZsqLy9PPXv2VElJiT7//PO447Zs2aILL7xQ+fn5Kiws1MSJE7Vv3746Pw9N6CeLITXKYu3W6rWINQYAuIBs4B4CujE0oZ8shtQoi7Vbq9ci1hgA4AKygXsI6MbQhH6yGFKjLNZurV6LWGMAgAvIBu4hoBtDE/rJYkiNsli7tXotYo0BAC4gG7iHgG4MTegniyE1ymLt1uq1iDUGALiAbOAeAroxNKGfLIbUKIu1W6vXItYYAOACsoF7COjG0IR+shhSoyzWbq1ei1hjAIALyAbuIaAbQxP6yWJIjbJYu7V6LWKNAQAuIBu4h4BuDE3oJ4shNcpi7dbqtYg1BgC4gGzgHgK6MTShnyyG1CiLtVur1yLWGADgArKBewjoxtCEfrIYUqMs1m6tXotYYwCAC8gG7iGgG0MT+sliSI2yWLu1ei1ijQEALiAbuIeAbgxN6CeLITXKYu3W6rWINQYAuIBs4B4CujE0oZ8shtQoi7Vbq9ci1hgA4AKygXsI6MbQhH6yGFKjLNZurV6LWGMAgAvIBu4hoBtDE/rJYkiNsli7tXotYo0BAC4gG7iHgG4MTegniyE1ymLt1uq1iDUGALiAbOAeAroxNKGfLIbUKIu1W6vXItYYAOACsoF7COjG0IR+shhSoyzWbq1ei1hjAIALyAbuIaAbQxP6yWJIjbJYu7V6LWKNAQAuIBu4h4BuDE3oJ4shNcpi7dbqtYg1BgC4gGzgHgK6MTShnyyG1CiLtVur1yLWGADgArKBewjoxtCEfrIYUqMs1m6tXotYYwCAC8gG7iGgG0MT+sliSI2yWLu1ei1ijQEALiAbuIeAbgxN6CeLITXKYu3W6rWINQYAuIBs4B4CujE0oZ8shtQoi7Vbq9ci1hgA4AKygXsI6MbQhH6yGFKB+ox+BgC4gGzgHgK6MTShnwjoQP1CPwMAXEA2cA8B3Ria0E8EdKB+oZ8BAC4gG7iHgG4MTegnAjpQv9DPAAAXkA3cQ0A3hib0EwEdqF/oZwCAC8gG7iGgG0MT+omADtQv9DMAwAVkA/cQ0I2hCf1EQAfqF/oZAOACsoF7COjG0IR+IqAD9Qv9DABwAdnAPQR0Y2hCPxHQgfqFfgYAuIBs4B4CujE0oZ8I6ED9Qj8DAFxANnAPAd0YmtBPBHSgfqGfAQAuIBu4h4BuDE3oJwI6UL/QzwAAF5AN3ENAN4Ym9BMBHahf6GcAgAvIBu4hoBtDE/qJgA7UL/QzAMAFZAP3ENCNoQn9REAH6hf6GQDgArKBewjoxtCEfiKgA/UL/QwAcAHZwD0EdGNoQj8R0IH6hX4GALiAbOAeAroxNKGfCOhA/UI/AwBcQDZwDwHdEYsXL1YQBNVuK1eulCRt3ry52ttfeeWVOj8PTegnAjoAAACSjWzgHgK6I6qqqrRjx4647dprr1Xnzp116NAhSf8X0F977bW446qqqur8PDShnwjoAAAASDaygXsI6I7av3+/Wrdurbvuuiu2LxrQy8rKjvtxaUI/EdABAACQbGQD9xDQHfXMM88oDENt3bo1ti8a0Dt27KhWrVpp2LBhWrBgQa2Ps2/fPlVUVMS28vJymtBDBHQAAAAkGwHdPQR0R40aNUqjRo2K27dz507NmDFDK1asUGlpqaZMmaIwDPXkk0/W+DglJSXVfm6dJvQLAR0AAADJRkB3DwE9xWoKyIdvpaWlcfd57733FIahnnnmmaM+/sSJE3XKKafUeDt/Qa8fCOgAAABINgK6ewjoKbZz506tXbu21m3v3r1x97nrrrvUqlUr7d+//6iPP3fuXOXl5dV5PDShnwjoAAAASDaygXsI6I45dOiQunTposmTJ9fp+MmTJ6tLly51fnyaEAAAAIBENnARAd0xr732moIgUHl5ecJts2fP1lNPPaXy8nKtW7dO9913n7KzszVjxow6Pz5NCAAAAEAiG7iIgO6YK6+8UsOGDav2ttmzZ6t3795q2LChGjdurEGDBtX6BXHVoQkBAAAASGQDFxHQjaEJAQAAAEhkAxcR0I2hCQEAAABIZAMXEdCNoQkBAAAASGQDFxHQjaEJAQAAAEhkAxcR0I2hCQEAAABIZAMXEdCNoQkBAAAASGQDFxHQjaEJAQAAAEhkAxcR0I2hCQEAAABIZAMXEdCNoQkBAAAASGQDFxHQjaEJAQAAAEhkAxcR0I2hCQEAAABIZAMXEdCNoQkBAAAASGQDFxHQjaEJAQAAAEhkAxcR0I3ZsmWLgiDQypUr9d5777GxsbGxsbGxsbGxGd1WrlypIAi0ZcuWTMcU/C8CujHRJmRjY2NjY2NjY2NjYwuCf/3xDm4goBtz4MABrVy5Ulu2bMnYv9SVl5crCAKVl5dn/F8NfdyYP+bRlY05ZO4yvTGPzGGmN+aPeXRlO9453LJli1auXKkDBw5kOqbgfxHQkXYVFRUKgkAVFRWZHoqXmL/kYB5PHHN4/Ji75GAeTxxzeGKYv+RgHk8cc1h/ENCRdpxATgzzlxzM44ljDo8fc5cczOOJYw5PDPOXHMzjiWMO6w8COtKOE8iJYf6Sg3k8cczh8WPukoN5PHHM4Ylh/pKDeTxxzGH9QUBH2u3bt08lJSXat29fpofiJeYvOZjHE8ccHj/mLjmYxxPHHJ4Y5i85mMcTxxzWHwR0AAAAAAAcQEAHAAAAAMABBHQAAAAAABxAQAcAAAAAwAEEdAAAAAAAHEBAhyRp2rRpGjx4sBo1aqRWrVrp0ksv1bp16+KO2bdvnyZOnKgWLVqoYcOGuvjii/Xee+/FHXPjjTdq4MCBysnJUf/+/at9rtWrV2v48OHKy8tTu3btdOedd+rQoUNHHeMjjzyizp07Kzc3VwMHDtQbb7wRd/ujjz6q4uJiNW7cWEEQ6JNPPjnGWTh+9WH+iouLFQRB3Hb55Zcf40ycmPowjxs3btRXv/pVtWzZUo0bN9Zll12mDz744Bhn4vilaw737t2rsWPHqm/fvsrKytKll15a5zE+88wz6t27t3JyctS7d28999xzcbc/++yzOu+889SiRQsFQaCysrJjmIHjVx/mbuzYsQl9fPrppx/DLJy4+jCPH3zwgcaOHau2bdsqPz9f559/vtavX38Ms3Bi0jWHixcv1iWXXKKTTjpJDRs2VP/+/TV37tw6jdHl12Spfsxhpl+X68McWnlNXrdunUaMGKHWrVsrNzdXXbp00W233ab9+/cfdYyu97JFBHRIks4//3zNmjVLf//73/XXv/5VF154oTp16qQ9e/bEjhk/frzat2+vV199VatWrdLIkSPVv39/HTx4MHbMDTfcoIcfflhjxoyp9gRSUVGhNm3a6IorrtCaNWv07LPPqnHjxvqP//iPWsc3b948ZWdna+bMmSovL9ekSZNUUFCgLVu2xI75+c9/rnvuuUf33HNP2k8g9WH+iouLdd1112nHjh2xbffu3UmYnbrzfR737Nmjrl276mtf+5pWr16t1atX69JLL9WQIUP0xRdfJGmWapeuOdyzZ4/Gjx+vxx57TOeff36dw9Hy5cuVlZWladOmae3atZo2bZoaNGigN998M3bME088oTvvvFMzZ85Ma0CvD3M3duxYfeUrX4nr4127dp3ArBw73+fx0KFD+tKXvqSzzjpLK1eu1Lp16zRu3LiEGlIpXXM4depU/eQnP9GyZcu0ceNGPfjggwrDUC+++GKt43P9NVmqH3OY6ddl3+fQ0mvypk2b9Jvf/EZ//etf9e677+qFF15Q69atdeutt9Y6Ph962SICOqr14YcfKggCLV26VJK0e/duZWdna968ebFjtm/frjAMtXDhwoT7l5SUVHsC+cUvfqGmTZvG/UbjPffco3bt2tX618vTTjtN48ePj9vXq1cv/ehHP0o4dvHixRk/gfg4f8XFxZo0aVLdi0wD3+Zx0aJFCsNQFRUVsds//vhjBUGgV199tY5VJ1eq5vBwY8eOrXM4Gj16tL7yla/E7Tv//PN1xRVXJBy7efPmtAb0I/k4d8fyeOni2zy+8847CoJAf//732O3Hzx4UIWFhZo5c2adniPZ0jGHURdccIGuvvrqWo/x7TVZ8nMOXXtd9m0Orb4mR910000688wzaz3Gx162gICOam3YsEFBEGjNmjWSpNdff11BEOjjjz+OO65fv366/fbbE+5f0wlkzJgxuuSSS+L2rVq1SkEQ6B//+Ee1Y6mqqlJWVlbCWxBvvPFGDR8+POF4F04gPs5fcXGxWrZsqRYtWqhPnz6aPHmyPv3007oVnCK+zeOLL76orKysuOBfWVmpMAxVUlJy9IJTIFVzeLhjCUcdO3bUjBkz4vbNmDFDnTp1Sjg20wHdx7kbO3asmjZtqlatWql79+669tpr9c9//rNOj58qvs3j6tWrFQSBNm7cGHfMSSedpLFjx9bpOZItHXMYdcYZZ2jy5Mk13u7ja7Lk5xy69rrs2xxafU2OPk/v3r1122231XiMr71sAQEdCQ4dOqSLL7447l/dnnrqKeXk5CQce+6552rcuHEJ+2s6gZx77rm67rrr4vZt375dQRBo+fLl1Y4nevuyZcvi9k+dOlU9evRIOD7TJy3PAh4AABHXSURBVBBf5++xxx7Tq6++qjVr1ui3v/2tOnfurHPOOaf2YlPIx3n88MMP1aRJE02aNEmff/659uzZowkTJigIgmrHl2qpnMPDHUs4ys7O1lNPPRW3r6YxZTKg+zp38+bN00svvaQ1a9boxRdfVP/+/fVv//ZvcReo6eTjPO7fv19FRUW67LLL9PHHH6uqqir21s7zzjuvTs+RTOmaQ0lasGCBcnJy4t49cCTfXpMlf+fQpddlH+fQ4mvy0KFDlZubG6uxtrfy+9jLVhDQkeB73/ueioqK4r6goqYTyDnnnKPvfve7CftrC0ZHnnC2bdumIAj05z//WW+88YYKCgpi29y5c2sMTnfffbd69uyZ8ByZPoH4Pn9Rb731loIg0F/+8pej1pwKvs7jokWL1LVrV0UiEWVlZelb3/qWBg4cqOuvv/6Y5+BEpXIOD1ddONqyZUvcHE6dOlXSv8LR008/HXfs3LlzlZubm/C4mQzovs9d1Pvvv6/s7Gw9++yztY4jVXydx7feekv9+/dXEATKysrS+eefr1GjRmnUqFFHLzrJ0jWHixcvVkFBgebMmRPbVx9ekyX/5zAqk6/Lvs6htdfkrVu36u2339bTTz+t9u3ba/r06ZLqTy9bQUBHnIkTJ6pDhw4Jb/NN11uLKysrtWHDhtj26aefevUWnPowf1GHDh1K+FxUutSHedy5c2fs/8E2bdroZz/7Wd2KT5JUz+HhqgtHBw4ciJvD6BeV+fAW9/owd4fr1q2b7r333lqPSYX6MI+7d+/Whx9+KOlfn9X83ve+V+s4ki1dc7hkyRI1atRIjz76aNx+31+Tpfoxh1GZel2uD3No6TU56sknn1R+fr4OHjxYL3rZEgI6JP3rpD9hwgS1a9eu2p+SiX6Jxfz582P73n///eP6cq5mzZqpqqoqtu/ee++t05dzHfmvnb1793bmSyzq0/xFrVmzJu6LTNKhPs7j66+/rkgkkvCzKqmSrjk83LF+QdeRf4X8yle+4sSXxNWnuYv66KOPlJubG/fXqFSrj/O4fv16hWGoRYsW1ek5TlQ65zD6F8uHH364zuNz/TVZql9zGJXu1+X6OIcWXpOjnnjiCTVo0EAHDhyo8RgfetkiAjokSddff72aNm2qJUuWxP2cR2VlZeyY8ePHq0OHDnrttde0atUqnX322Qk/A7FhwwaVlZXpu9/9rnr06KGysjKVlZXFgtDu3bvVpk0bXXnllVqzZo2ee+45NWnSpM4/b/XrX/9a5eXl+v73v6+CggK9++67sWN27NihsrKy2E8zvfHGGyorK0vLTwz5Pn8bN27UnXfeqdLSUm3evFkvv/yyevXqpVNPPTVufKnm+zxK0m9+8xv9+c9/1saNG/Xkk0+qsLBQN998c5JnqmbpmkNJevvtt1VWVqaLL75YI0aMiB1Tm2XLlikrK0v33nuv1q5dq3vvvTfhp8J27dqlsrIyvfzyywqCQPPmzVNZWZl27NiRxJlK5PvcffbZZ5o8ebKWL1+uzZs3a/HixRo6dKjat2+f1i+W8n0eJel3v/udFi9erE2bNun5559XUVGRvv71rydxlmqXrjlcvHixGjZsqFtvvfWYfprP9ddkyf85dOF12fc5lOy8Js+dO1fz589XeXm5Nm3apN/97ndq3769rrrqqlrH50MvW0RAhyQpCIJqt1mzZsWO2bt3ryZOnKjCwkLl5+froosu0tatW+Mep7i4uNrH2bx5c+yY1atX66yzzlJubq5OOukk3XHHHbX+1TLqkUceUVFRkXJycjRw4MCEf0EuKSk5ag2p4vv8bd26VcOHD1dhYaFycnJ08skn68Ybb0z7ydf3eZSkW265RW3atFF2dra6d++u+++/v06PmyzpnMOioqJqjzmaBQsWqGfPnsrOzlavXr0SPh89a9asah831d+66/vcVVZW6rzzzlOrVq2UnZ2tTp06aezYsQnjSzXf51GSHnzwQXXo0CE2jz/5yU/i/mEg1dI1h2PHjq329uLi4qOO0eXXZMn/OXThddn3OZTsvCbPmzdPAwcOVKNGjVRQUKA+ffpo2rRp2rt371HH6HovW0RABwAAAADAAQR0AAAAAAAcQEAHAAAAAMABBHQAAAAAABxAQAcAAAAAwAEEdAAAAAAAHEBABwAAAADAAQR0AAAAAAAcQEAHAJi2ePFiBUGg4uLiTA/lhBQXFysIAi1evDgjzz927FgFQaBZs2Yl7THry9oAAFBXBHQAgNeKiorqFAyjAbakpCRuf7JCYFlZmUpKSvRf//VfJ/Q4x4uAXrfHKykpydgcAQBwNAR0AIDXTjSgr1ixQj179tSYMWNOaByzZs1SEAQaO3bsCT3O8RozZox69uypFStWZOT5fQjoJSUl1f4/AACAKwjoAACvnWhAT5ZMB/RMI6ADAHDiCOgAAK8R0N1AQAcA4MQR0AEAXkvlZ9DXrFmjb37zm+rQoYOys7PVtGlTdevWTVdeeaVeeeWVhDFUtx35uPv379dDDz2kIUOGqHHjxmrYsKH69eunu+++W59//nnCGDZv3qwgCFRUVCRJeuyxxzR48GA1atRIQfB/L+NH+wz6ypUrddVVV6ljx47KyclR69atNXToUE2fPl27d++OHXfw4EE9//zzuvrqq9WnTx81adJE+fn56tWrl37wgx9o586d1T7+iQT05557TkOHDlXDhg1VWFioCy+8UKWlpbWuzX//939rwoQJ6tevn5o3b67c3Fx17dpV48eP15YtWxKOr2l9jvxHlU2bNunee+9VcXGxOnTooJycHLVs2VLnn3++XnrppWOuDQCAY0FABwB4LVUBfcWKFcrPz1cQBGratKn69++vvn37qmnTpgqCQJdeemns2G984xvq3r27giBQ69atdcYZZ8S2iRMnxo6rrKzU2WefHQuGvXv3Vr9+/RSGoYIg0IABA/TRRx/FjePwgD5+/HgFQaCOHTtq8ODBatasWUJ91QX06dOnKxKJKAgCNWnSRIMGDdLJJ5+s7OzshPu89957CoJAYRiqbdu2GjhwoHr16qW8vDwFQaDOnTvrgw8+SHiO4w3o06dPj81H27ZtNWjQIDVq1Ei5ubn66U9/WmNAz8rKUiQSUevWrTVgwAD17dtXBQUFCoJALVq00Ntvvx13/BlnnKGOHTvG5u/wNZo6dWrsuGuuuUZBEKhRo0bq0aOHBg8erLZt28bGeO+99x5TfQAAHAsCOgDAa6kK6BdddJGCINCPf/xjVVVVxd1WWlqqp556Km5fXd7iPnnyZAVBoHbt2ukvf/lLbP+GDRvUq1cvBUGg0aNHx90nGtCzsrJUUFCgF154IXZbZWVlQn1HBvTnn38+dv/7779f+/fvj932+eef67HHHlN5eXls3+7duzV79mzt2rUr7nE++eQTTZw4UUEQ6Dvf+U5CbccT0FetWhUL2g8//LAOHTokSfrss890+eWXx/4BobqA/uijj2r79u1x+yorKzV16lQFQaARI0Yk3Kcub3H/wx/+oDfffDM2lqg33nhDbdu2VVZWljZu3FjnGgEAOBYEdACA12p7e3l1W10Des+ePRUEgSoqKuo0jqMF9IqKCjVs2FBBEFT7U2wrV65UEASKRCJxATAa0IMg0P3331/j89cU0Pv06aMgCHTXXXfVqY6j6dixoxo2bKgDBw7E7T+egP6tb31LQRDosssuS7ht7969at269XF9Bv3MM89UEATatm1b3P4T/Qz6448/riAI4v7iDgBAMhHQAQBeiwb07t27x71t+citSZMmxxTQzznnHAVBoJkzZ9ZpHEcL6C+//LKCIFCnTp0S/jobNXToUAVBoF/+8pexfYcH9Jo+/y1VH9A3bNigIAiUk5OjTz/9tE51RL3++uv6/ve/rwsuuEBnnXVWwjwe/ld36fgCejSA//GPf6z29h/96Ee1BvTS0lLdcsstuvjiizV8+PDYGKOP+4c//CHu+LoG9A8//FAPPPCArrzySn35y1+OPW7fvn2rfZcDAADJQkAHAHgtVW9xf+mll2LBuFevXpo0aZIWLFiQ8BnxqKMF9J///OcKgkDnnXdejWO89tprFQSBbrrppti+aEBv2bJlneo7PKC/+OKLsc+211VVVZW++tWvHvWdCH/605/i7nesAf2TTz6JPdaOHTuqPWbOnDnVrs2hQ4f0ve9976hjnDt3btz96hLQFy1aFPuegZq2c845p041AgBwrAjoAACvpfJb3F9++WUNGzYs9iVuQRCoQYMGuuyyyxLePn20gB79wrNvfetbNY7xtttuUxAEuvbaa2P7jvwW96PVd3hAnzt3bo2fx67JnXfeqSAIdNJJJ+mJJ57Qu+++q3379sVuP+OMM6p9K/2xBvTol9EFQaCDBw9We8zChQurXZtocC8oKNAvfvELbdiwIe7z+FdddVW1YzlaQP/kk0/UvHlzBUGgb3/723rzzTf1ySef6IsvvpAkvfrqq8f1lnsAAOqKgA4A8FoqA3rUrl279Pzzz+uGG25Qy5YtFQSBTj311LgvXEv1X9CPJ6C/8MILx/wX9B49eigIAi1cuLDa2zt16pSUgF6Xv6A/8cQT1a7NeeedpyAI9Ktf/ara+w0fPvy4AvrTTz+tIAg0dOjQaj+G8Jvf/IaADgBIKQI6AMBr6Qjoh/vggw9ib4Fevnx5bP/s2bPr9Bn0jh07Htdn0I8noG/cuPGYP4Oek5OjIAiqPf6jjz5SVlZWUgK69H+fQa/pt9tvvfXWatcm+o8Iq1evTrjP/v371apVq2rHcscdd9Qa0KdNm6YgCHTzzTdXe/ukSZMI6ACAlCKgAwC8lu6ALkkDBgxQEAR65plnYvvmz59f6xeIHe1b3EtLSxUENX+L+/EEdEmxLza7++6761Rb9B8fNmzYkHBbNDAnK6BH34p++eWXJ9y2b98+tWnTptq16d+/v4Ig0Kuvvppwv0cffTQ2xiPHEv3N9R/+8IfVjif6Loerrroq4baPPvpIjRo1IqADAFKKgA4A8FqqAvrll1+ul156KeE30BcsWBD77e5NmzbF9kcDdpcuXfT5559XO4bo76C3b99eq1atiu3fuHFj7OfQjgyrJxrQo7+D3qBBAz344IMJv4M+c+bMuG9kv/DCCxUEgS655BJ99tlnkv71pWxz5sxRdna28vLykhbQ33rrLYVhqEgkol/+8pexdxbs2bNH3/zmN2v8HfQJEyYoCAKdfvrp+vDDD2P7X3nlFTVp0iQ2xiPHsmDBAgVBoDPPPDPhZ+Ki4wmCQNnZ2XHh//3331dxcXHscQnoAIBUIaADALyWqoAe/Utybm6u+vbtqyFDhqht27axv85OmTIl7vgvvvhC3bt3VxAEatGihYYOHari4mJNmjQpdkxlZaVGjhwZe4w+ffqof//+sbeN9+/fP+Fb4k80oEvSPffco0gkoiAI1LRpUw0ePFjdu3ePBeDD7/PWW28pNzdXQRCoSZMmGjRokNq1a6cgCDRmzJgan+d4Arr0f28rD4JA7dq10+DBg9W4cWPl5ubGvljvyLXZsmWLCgsLFQSB8vPzNWDAAHXu3FlBEGjkyJE1fklcRUVF7Evg2rZtqzPOOEPFxcW65557Ysd84xvfiI2nW7duGjBggBo0aKDGjRvrgQceIKADAFKKgA4A8FqqAvrzzz+vcePGqW/fviosLFRubq5OPvlkfe1rX9PSpUurfY7169frG9/4hlq3bh0L3Uc+7v79+/Xggw9q8ODBKigoUH5+vk455RTdfffd1f7lPRkBXZL+/Oc/a/To0Wrbtq2ys7PVpk0bDRs2TPfdd58qKirijl2xYoXOPfdcNWrUSAUFBRowYIAeeughHTp0KOkBXZKeeeYZnX766crPz1fz5s11wQUXqLS0tNaPH7zzzjv6+te/rqZNmyovL0+9evXSnXfeqaqqqlrHUlpaqlGjRqmwsDD27fyHf29AVVWVpkyZos6dOys7O1snnXSSrrjiCq1bt+64Pg4BAMCxIKADAAAAAOAAAjoAAAAAAA4goAMAAAAA4AACOgAAAAAADiCgAwAAAADgAAI6AAAAAAAOIKADAAAAAOAAAjoAAAAAAA74/+u15uH/FD1fAAAAAElFTkSuQmCC\" width=\"1000\">"
      ],
      "text/plain": [
       "<IPython.core.display.HTML object>"
      ]
     },
     "metadata": {},
     "output_type": "display_data"
    }
   ],
   "source": [
    "display.diff_vs_stock(extracted_cik_scores, extracted_stock_data, ticker, s, method='sentiment')"
   ]
  },
  {
   "cell_type": "code",
   "execution_count": null,
   "metadata": {},
   "outputs": [],
   "source": []
  }
 ],
 "metadata": {
  "kernelspec": {
   "display_name": "Python 3",
   "language": "python",
   "name": "python3"
  },
  "language_info": {
   "codemirror_mode": {
    "name": "ipython",
    "version": 3
   },
   "file_extension": ".py",
   "mimetype": "text/x-python",
   "name": "python",
   "nbconvert_exporter": "python",
   "pygments_lexer": "ipython3",
   "version": "3.7.3"
  }
 },
 "nbformat": 4,
 "nbformat_minor": 2
}
