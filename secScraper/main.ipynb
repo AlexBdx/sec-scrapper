{
 "cells": [
  {
   "cell_type": "markdown",
   "metadata": {},
   "source": [
    "# Configuration"
   ]
  },
  {
   "cell_type": "markdown",
   "metadata": {},
   "source": [
    "## Packages to import"
   ]
  },
  {
   "cell_type": "code",
   "execution_count": 1,
   "metadata": {},
   "outputs": [
    {
     "name": "stdout",
     "output_type": "stream",
     "text": [
      "[INFO] Running python 3.7.3 for ipython\n"
     ]
    }
   ],
   "source": [
    "def run_from_ipython():\n",
    "    try:\n",
    "        __IPYTHON__\n",
    "        return True\n",
    "    except NameError:\n",
    "        return False\n",
    "from platform import python_version\n",
    "\n",
    "version = \"[INFO] Running python {}\".format(python_version())\n",
    "version += \" for ipython\" if run_from_ipython() else \"\"\n",
    "print(version)"
   ]
  },
  {
   "cell_type": "code",
   "execution_count": 2,
   "metadata": {},
   "outputs": [],
   "source": [
    "if run_from_ipython():\n",
    "    %load_ext autoreload\n",
    "    %autoreload 2\n",
    "    %matplotlib notebook\n",
    "\n",
    "from secScraper import *\n",
    "\n",
    "import glob\n",
    "import numpy as np\n",
    "import matplotlib\n",
    "import matplotlib.pyplot as plt\n",
    "plt.ioff()\n",
    "\n",
    "import os\n",
    "import csv\n",
    "from datetime import datetime\n",
    "import re\n",
    "from tqdm import tqdm\n",
    "import multiprocessing as mp\n",
    "from collections import OrderedDict\n",
    "import time\n",
    "import pandas as pd\n",
    "import argparse\n",
    "\n",
    "# Spark\n",
    "#import findspark\n",
    "#findspark.init('/home/alex/spark-2.4.4-bin-hadoop2.7')\n",
    "import pyspark"
   ]
  },
  {
   "cell_type": "markdown",
   "metadata": {},
   "source": [
    "### Set the nb of processes to use based on cmd line arguments/setting"
   ]
  },
  {
   "cell_type": "code",
   "execution_count": 3,
   "metadata": {},
   "outputs": [],
   "source": [
    "if run_from_ipython():\n",
    "    nb_processes_requested = mp.cpu_count()  # From IPython, fixed setting\n",
    "    nb_processes_requested = 1 # From IPython, fixed setting\n",
    "else:\n",
    "    ap = argparse.ArgumentParser()\n",
    "    ap.add_argument(\"-p\", \"--processes\", type=int, default=1, help=\"Number of processes launched to process the reports.\")\n",
    "    args = vars(ap.parse_args())\n",
    "    nb_processes_requested = args[\"processes\"]\n",
    "    if not 1 <= nb_processes_requested <= mp.cpu_count():\n",
    "        raise ValueError('[ERROR] Number of processes requested is incorrect.\\\n",
    "                         \\n{} CPUs are available on this machine, please select a number of processes between 1 and {}'\n",
    "                         .format(mp.cpu_count()))"
   ]
  },
  {
   "cell_type": "markdown",
   "metadata": {},
   "source": [
    "## Settings dictionary"
   ]
  },
  {
   "cell_type": "code",
   "execution_count": 4,
   "metadata": {},
   "outputs": [],
   "source": [
    "home = os.path.expanduser(\"~\")\n",
    "_s = {\n",
    "    'path_stage_1_data': os.path.join(home, 'Desktop/filtered_text_data/nd_data/'),\n",
    "    'path_stock_database': os.path.join(home, 'Desktop/Insight project/Database/Ticker_stock_price.csv'),\n",
    "    'path_stock_indexes': os.path.join(home, 'Desktop/Insight project/Database/Indexes/'),\n",
    "    'path_cik_ticker_lookup': os.path.join(home, 'Desktop/Insight project/Database/cik_ticker.csv'),\n",
    "    'path_master_dictionary': os.path.join(home, 'Desktop/Insight project/Database/LoughranMcDonald_MasterDictionary_2018.csv'),\n",
    "    'path_dump_crsp': os.path.join(home, 'Desktop/Insight project/Database/dump_crsp_merged.txt'),\n",
    "    'path_output_folder': os.path.join(home, 'Desktop/Insight project/Outputs'),\n",
    "    'path_dump_cik_scores': os.path.join(home, 'Desktop/Insight project/Outputs/dump_cik_scores.csv'),\n",
    "    'path_dump_pf_values': os.path.join(home, 'Desktop/Insight project/Outputs/dump_pf_values.csv'),\n",
    "    'path_dump_master_dict': os.path.join(home, 'Desktop/Insight project/Outputs/dump_master_dict.csv'),\n",
    "    'metrics': ['diff_jaccard', 'diff_cosine_tf', 'diff_cosine_tf_idf', 'diff_minEdit', 'diff_simple', 'sing_LoughranMcDonald'],\n",
    "    'differentiation_mode': 'monthly',\n",
    "    'time_range': [(2010, 1), (2012, 4)],\n",
    "    'bin_count': 5,\n",
    "    'report_type': ['10-K', '10-Q'],\n",
    "    'sections_to_parse_10k': [],\n",
    "    'sections_to_parse_10q': [],\n",
    "    'type_daily_price': 'closing'\n",
    "}"
   ]
  },
  {
   "cell_type": "code",
   "execution_count": 5,
   "metadata": {},
   "outputs": [],
   "source": [
    "_s['pf_init_value'] = 1000000\n",
    "_s['epsilon'] = 0.0001  # Rounding error\n",
    "# Calculated settings\n",
    "_s['list_qtr'] = qtrs.create_qtr_list(_s['time_range'])\n",
    "\n",
    "if _s['bin_count'] == 5:\n",
    "    _s['bin_labels'] = ['Q'+str(n) for n in range(1, _s['bin_count']+1)]\n",
    "elif _s['bin_count'] == 10:\n",
    "    _s['bin_labels'] = ['D'+str(n) for n in range(1, _s['bin_count']+1)]\n",
    "else:\n",
    "    raise ValueError('[ERROR] This type of bin has not been implemented yet.')\n",
    "\n",
    "# Reports considered to calculate the differences\n",
    "if _s['differentiation_mode'] == 'monthly':\n",
    "    _s['lag'] = 1\n",
    "    _s['sections_to_parse_10k'] = ['1a', '3', '7', '7a', '9a']\n",
    "    _s['sections_to_parse_10q'] = ['_i_2', '_i_3', '_i_4', 'ii_1', 'ii_1a']\n",
    "elif _s['differentiation_mode'] == 'yearly':\n",
    "    _s['lag'] = 4\n",
    "    _s['sections_to_parse_10k'] = ['1a', '3', '7', '7a', '9a']\n",
    "    _s['sections_to_parse_10q'] = ['_i_2', '_i_3', '_i_4', 'ii_1', 'ii_1a']\n",
    "\n",
    "_s['intersection_table'] = {\n",
    "        '10-K': ['1a', '3', '7', '7a', '9a'],\n",
    "        '10-Q': ['ii_1a', 'ii_1', '_i_2', '_i_3', '_i_4']\n",
    "}  # Exhibits are not taken into account\n",
    "_s['straight_table'] = {\n",
    "    '10-K': ['1', '1a', '1b', '2', '3', '4', '5', '6', '7', '7a', '8', '9', '9a', '9b', '10', '11', '12', '13', '14', '15'],\n",
    "    '10-Q': ['_i_1', '_i_2', '_i_3', '_i_4', 'ii_1', 'ii_1a', 'ii_2', 'ii_3', 'ii_4', 'ii_5', 'ii_6']\n",
    "}"
   ]
  },
  {
   "cell_type": "code",
   "execution_count": 6,
   "metadata": {},
   "outputs": [],
   "source": [
    "# Transfer s to a read only dict\n",
    "read_only_dict = pre_processing.ReadOnlyDict()\n",
    "for key in _s:  # Brute force copy\n",
    "    read_only_dict[key] = _s[key]\n",
    "s = read_only_dict  # Copy back\n",
    "s.set_read_state(read_only=True)  # Set as read only"
   ]
  },
  {
   "cell_type": "markdown",
   "metadata": {},
   "source": [
    "# Load external tables"
   ]
  },
  {
   "cell_type": "markdown",
   "metadata": {},
   "source": [
    "## Extract the list of CIK for which we have complete data"
   ]
  },
  {
   "cell_type": "markdown",
   "metadata": {},
   "source": [
    "The main problem in our case is that we have 3 different database to play with:\n",
    "1. The SEC provides information based on the CIK of the entity\n",
    "2. Given that the CIK is used by no one else, we use a lookup table to transform that into tickers. But we do not have all the correspondances, so the list of useful CIK is shrunk.\n",
    "3. Finally, we only have stock prices for so many tickers. So that shrinks the CIK list even further.\n",
    "\n",
    "We end up with a reduced list of CIK that we can play with."
   ]
  },
  {
   "cell_type": "markdown",
   "metadata": {},
   "source": [
    "### Load the sentiment analysis dictionary"
   ]
  },
  {
   "cell_type": "code",
   "execution_count": 8,
   "metadata": {},
   "outputs": [
    {
     "name": "stdout",
     "output_type": "stream",
     "text": [
      " ...Loading Master Dictionary 85000\n",
      "Master Dictionary loaded from file: \n",
      "  /home/alex/Desktop/Insight project/Database/LoughranMcDonald_MasterDictionary_2018.csv\n",
      "  86,486 words loaded in master_dictionary.\n",
      "\n"
     ]
    }
   ],
   "source": [
    "lm_dictionary = Load_MasterDictionary.load_masterdictionary(s['path_master_dictionary'], True)"
   ]
  },
  {
   "cell_type": "markdown",
   "metadata": {},
   "source": [
    "### Find all the unique CIK from the SEC filings"
   ]
  },
  {
   "cell_type": "code",
   "execution_count": null,
   "metadata": {},
   "outputs": [],
   "source": [
    "cik_path = pre_processing.load_cik_path(s)"
   ]
  },
  {
   "cell_type": "markdown",
   "metadata": {},
   "source": [
    "### Get the largest {CIK: ticker} possible given our lookup table"
   ]
  },
  {
   "cell_type": "code",
   "execution_count": null,
   "metadata": {
    "scrolled": true
   },
   "outputs": [],
   "source": [
    "lookup = pre_processing.load_lookup(s)\n",
    "print(\"[INFO] Loaded {:,} CIK/Tickers correspondances.\".format(len(lookup)))"
   ]
  },
  {
   "cell_type": "code",
   "execution_count": null,
   "metadata": {},
   "outputs": [],
   "source": [
    "cik_path, lookup = pre_processing.intersection_sec_lookup(cik_path, lookup)\n",
    "print(\"[INFO] Intersected SEC & lookup.\")\n",
    "print(\"cik_path: {:,} CIK | lookup: {:,} CIK\"\n",
    "      .format(len(cik_path), len(lookup)))"
   ]
  },
  {
   "cell_type": "markdown",
   "metadata": {},
   "source": [
    "### Load stock data and drop all CIKs for which we don't have data"
   ]
  },
  {
   "cell_type": "code",
   "execution_count": null,
   "metadata": {
    "scrolled": true
   },
   "outputs": [],
   "source": [
    "# Load all stock prices\n",
    "stock_data = pre_processing.load_stock_data(s)"
   ]
  },
  {
   "cell_type": "code",
   "execution_count": null,
   "metadata": {},
   "outputs": [],
   "source": [
    "lookup, stock_data = pre_processing.intersection_lookup_stock(lookup, stock_data)\n",
    "print(\"[INFO] Intersected lookup & stock data.\")\n",
    "print(\"lookup: {:,} tickers | stock_data: {:,} tickers\"\n",
    "      .format(len(lookup.values()), len(stock_data)))"
   ]
  },
  {
   "cell_type": "markdown",
   "metadata": {},
   "source": [
    "### Load stock indexes - will serve as benchmark later on"
   ]
  },
  {
   "cell_type": "code",
   "execution_count": null,
   "metadata": {},
   "outputs": [],
   "source": [
    "index_data = pre_processing.load_index_data(s)\n",
    "print(\"[INFO] Loaded the following index data:\", list(index_data.keys()))"
   ]
  },
  {
   "cell_type": "markdown",
   "metadata": {},
   "source": [
    "## Back propagate these intersection all the way to cik_path"
   ]
  },
  {
   "cell_type": "markdown",
   "metadata": {},
   "source": [
    "Technically, we have just done it for lookup. So we only need to re-run an intersection for lookup and sec."
   ]
  },
  {
   "cell_type": "code",
   "execution_count": null,
   "metadata": {},
   "outputs": [],
   "source": [
    "cik_path, lookup = pre_processing.intersection_sec_lookup(cik_path, lookup)\n",
    "print(\"[INFO] Intersected SEC & lookup.\")\n",
    "print(\"cik_path: {:,} CIK | lookup: {:,} CIK\"\n",
    "      .format(len(cik_path), len(lookup)))"
   ]
  },
  {
   "cell_type": "markdown",
   "metadata": {},
   "source": [
    "## Sanity check"
   ]
  },
  {
   "cell_type": "markdown",
   "metadata": {},
   "source": [
    "At this point, cik_path and lookup should have the same number of keys as the CIK is unique in the path database.\n",
    "\n",
    "However, multiple CIK can redirect to the same ticker if the company changed its ticker over time. That should be a very limited amount of cases though."
   ]
  },
  {
   "cell_type": "code",
   "execution_count": null,
   "metadata": {},
   "outputs": [],
   "source": [
    "assert cik_path.keys() == lookup.keys()\n",
    "assert len(set(lookup.values())) == len(set(stock_data.keys()))"
   ]
  },
  {
   "cell_type": "markdown",
   "metadata": {},
   "source": [
    "At that point, we have a {CIK: ticker} for which the stock is known, which will enable comparison and all down the road."
   ]
  },
  {
   "cell_type": "markdown",
   "metadata": {},
   "source": [
    "## Review all CIKs: make sure there is only one submission per quarter"
   ]
  },
  {
   "cell_type": "markdown",
   "metadata": {},
   "source": [
    "In this section, the goal is to build a list of CIK that will successfully be parsed for the time_range considered.\n",
    "It should be trivial for a vast majority of the CIK, but ideally there should be only one document per quarter for each CIK from the moment they are listed to the moment they are delisted."
   ]
  },
  {
   "cell_type": "code",
   "execution_count": null,
   "metadata": {
    "scrolled": true
   },
   "outputs": [],
   "source": [
    "# Create the list of quarters to consider\n",
    "cik_path = pre_processing.review_cik_publications(cik_path, s)\n",
    "print(\"[INFO] Removed all the CIK that did not have one report per quarter.\")\n",
    "print(\"cik_dict: {:,} CIK\".format(len(cik_path)))"
   ]
  },
  {
   "cell_type": "code",
   "execution_count": null,
   "metadata": {},
   "outputs": [],
   "source": [
    "print(\"[INFO] We are left with {:,} CIKs that meet our requirements:\".format(len(cik_path)))\n",
    "print(\"- The ticker can be looked up in the CIK/ticker tabke\")\n",
    "print(\"- The stock data is available for that ticker\")\n",
    "print(\"- There is one and only one report per quarter\")"
   ]
  },
  {
   "cell_type": "code",
   "execution_count": null,
   "metadata": {
    "scrolled": true
   },
   "outputs": [],
   "source": [
    "\"\"\"\n",
    "# [USER SETTINGS]\n",
    "example = 'apple'  # Debug\n",
    "# Examples of companies\n",
    "example_companies = {\n",
    "    'apple': ['AAPL', 320193],\n",
    "    'baxter': ['BAX', 10456],\n",
    "    'facebook': ['FB', 1326801],\n",
    "    'google': ['GOOGL', 1652044],\n",
    "    'microsoft': ['MSFT', 789019],\n",
    "    'amazon': ['AMZN', 1018724],\n",
    "    'johnson': ['JNJ', 200406],\n",
    "    'jpmorgan': ['JPM', 19617]\n",
    "}\n",
    "\n",
    "# [DEBUG]: isolate a subset of companies\n",
    "company = 'apple'\n",
    "cik_path = {\n",
    "    example_companies['apple'][1]: cik_path[example_companies['apple'][1]],\n",
    "    example_companies['microsoft'][1]: cik_path[example_companies['microsoft'][1]],\n",
    "    example_companies['jpmorgan'][1]: cik_path[example_companies['jpmorgan'][1]],\n",
    "    example_companies['amazon'][1]: cik_path[example_companies['amazon'][1]],\n",
    "    example_companies['johnson'][1]: cik_path[example_companies['johnson'][1]],\n",
    "    \n",
    "}\n",
    "cik_path.keys()\n",
    "\"\"\""
   ]
  },
  {
   "cell_type": "markdown",
   "metadata": {},
   "source": [
    "# Parse files"
   ]
  },
  {
   "cell_type": "markdown",
   "metadata": {},
   "source": [
    "Now we have a list of CIK that should make it until the end. It is time to open the relevant reports and start parsing. This step takes a lot of time and can get arbitrarily long as the metrics get fancier.\n",
    "\n",
    "You do not want to keep in RAM all the parsed data. However, there are only ~100 quarters for which we have data and the stage 2 files are no more than 1 Mb in size (Apple seems to top out at ~ 325 kb). So 100 Mb per core + others, that's definitely doable. More cores will use more RAM, but the usage remains reasonable.\n",
    "\n",
    "We use multiprocessing to go through N CIK at once but a single core is dedicated to going through a given CIK for the specified time_range. Such a core can be running for a while if the company has been in business for the whole time_range and publish a lot of text data in its 10-K."
   ]
  },
  {
   "cell_type": "code",
   "execution_count": null,
   "metadata": {},
   "outputs": [],
   "source": [
    "try:\n",
    "    sc.stop()\n",
    "except:\n",
    "    pass\n",
    "nb_processes_requested = 0"
   ]
  },
  {
   "cell_type": "code",
   "execution_count": null,
   "metadata": {
    "scrolled": true
   },
   "outputs": [],
   "source": [
    "# Processing the reports will be done in parrallel in a random order\n",
    "# Settings in s are cast to dict for pickling - the custom class is not supported\n",
    "nb_cik_to_process = 100\n",
    "cik_path = {k: v for k, v in cik_path.items() if k in list(cik_path.keys())[:nb_cik_to_process]}\n",
    "cik_scores = {k: 0 for k in cik_path.keys()}  # Organized by ticker\n",
    "data_to_process = ([k, v, {**s}, lm_dictionary] for k, v in cik_path.items())\n",
    "assert cik_path.keys() == cik_scores.keys()\n",
    "#print(data_to_process)\n",
    "#result = process_cik(data_to_process[0])\n",
    "#cik_perf[result[0]] = result[1]\n",
    "#print(cik_perf)\n",
    "#assert 0\n",
    "processing_stats = [0, 0, 0, 0, 0, 0]\n",
    "#qtr_metric_result = {key: [] for key in s['list_qtr']}\n",
    "if nb_processes_requested > 1:\n",
    "    with mp.Pool(processes=nb_processes_requested) as p:\n",
    "    #with mp.Pool(processes=min(mp.cpu_count(), 1)) as p:\n",
    "        print(\"[INFO] Starting a pool of {} workers\".format(nb_processes_requested))\n",
    "\n",
    "        with tqdm(total=nb_cik_to_process) as pbar:\n",
    "            for i, value in tqdm(enumerate(p.imap_unordered(processing.process_cik, data_to_process))):\n",
    "                pbar.update()\n",
    "                #qtr = list_qtr[i]\n",
    "                # Each quarter gets a few metrics\n",
    "                if value[1] == {}:\n",
    "                    # The parsing failed\n",
    "                    del cik_scores[value[0]]\n",
    "                else:\n",
    "                    cik_scores[value[0]] = value[1]\n",
    "                processing_stats[value[2]] += 1\n",
    "\n",
    "elif nb_processes_requested == 1:\n",
    "    print(\"[INFO] Running on {} core (multiprocessing is off)\".format(nb_processes_requested))\n",
    "    with tqdm(total=nb_cik_to_process) as pbar:\n",
    "        for i, value in tqdm(enumerate(map(processing.process_cik, data_to_process))):\n",
    "            pbar.update()\n",
    "            #qtr = list_qtr[i]\n",
    "            # Each quarter gets a few metrics\n",
    "            if value[1] == {}:\n",
    "                # The parsing failed\n",
    "                del cik_scores[value[0]]\n",
    "            else:\n",
    "                cik_scores[value[0]] = value[1]\n",
    "            processing_stats[value[2]] += 1\n",
    "\n",
    "elif nb_processes_requested == 0:\n",
    "    # Spark mode!!\n",
    "    print(\"[INFO] Running with Spark\")\n",
    "    sc = pyspark.SparkContext(appName=\"model_calculations\")\n",
    "    print(\"[INFO] Context started\")\n",
    "    spark_result = sc.parallelize(data_to_process).map(processing.process_cik)\n",
    "    spark_result = spark_result.take(nb_cik_to_process)\n",
    "    sc.stop()\n",
    "    \n",
    "    # Process the result\n",
    "    with tqdm(total=nb_cik_to_process) as pbar:\n",
    "        for i, value in tqdm(enumerate(spark_result)):\n",
    "            pbar.update()\n",
    "            #qtr = list_qtr[i]\n",
    "            # Each quarter gets a few metrics\n",
    "            if value[1] == {}:\n",
    "                # The parsing failed\n",
    "                del cik_scores[value[0]]\n",
    "            else:\n",
    "                cik_scores[value[0]] = value[1]\n",
    "            processing_stats[value[2]] += 1\n",
    "           \n",
    "        #qtr_metric_result[value['0']['qtr']] = value\n",
    "print(\"[INFO] {} CIK failed to be processed.\".format(sum(processing_stats[1:])))\n",
    "print(\"Detailed stats and error codes:\", processing_stats)"
   ]
  },
  {
   "cell_type": "markdown",
   "metadata": {},
   "source": [
    "# Post-processing - Welcome to the gettho"
   ]
  },
  {
   "cell_type": "markdown",
   "metadata": {},
   "source": [
    "## Flip the result dictionary to present a per qtr view"
   ]
  },
  {
   "cell_type": "code",
   "execution_count": null,
   "metadata": {
    "scrolled": true
   },
   "outputs": [],
   "source": [
    "# Reorganize the dict to display the data per quarter instead\n",
    "qtr_scores = {qtr: {} for qtr in s['list_qtr']}\n",
    "for c in cik_path.keys():\n",
    "    if c in cik_scores.keys():\n",
    "        if cik_scores[c] == 0:\n",
    "            del cik_scores[c]\n",
    "\n",
    "for cik in tqdm(cik_scores):\n",
    "    for qtr in cik_scores[cik]:\n",
    "        qtr_scores[qtr][cik] = cik_scores[cik][qtr]\n",
    "\n",
    "assert list(qtr_scores.keys()) == s['list_qtr']"
   ]
  },
  {
   "cell_type": "markdown",
   "metadata": {},
   "source": [
    "## Create a separate dictionary for each metric"
   ]
  },
  {
   "cell_type": "code",
   "execution_count": null,
   "metadata": {
    "scrolled": true
   },
   "outputs": [],
   "source": [
    "# Create the new empty master dictionary\n",
    "master_dict = {m: 0 for m in s['metrics']}\n",
    "for m in s['metrics']:\n",
    "    master_dict[m] = {qtr: 0 for qtr in s['list_qtr']}\n",
    "# master_dict"
   ]
  },
  {
   "cell_type": "code",
   "execution_count": null,
   "metadata": {},
   "outputs": [],
   "source": [
    "# Populate it\n",
    "for m in s['metrics']:\n",
    "    for qtr in s['list_qtr']:\n",
    "        #master_dict[m][qtr] = {cik: qtr_scores[qtr][cik][m] for cik in qtr_scores[qtr].keys()}\n",
    "        master_dict[m][qtr] = [(cik, qtr_scores[qtr][cik][m]) for cik in qtr_scores[qtr].keys()]"
   ]
  },
  {
   "cell_type": "code",
   "execution_count": null,
   "metadata": {},
   "outputs": [],
   "source": [
    "# Display the length for all qtr\n",
    "for qtr in s['list_qtr']:\n",
    "    print(\"qtr: {} length: {}\".format(qtr, len(master_dict[s['metrics'][0]][qtr])))"
   ]
  },
  {
   "cell_type": "markdown",
   "metadata": {},
   "source": [
    "## For each metric, split each qtr into 5 quintiles\n",
    "\n",
    "For each metric and for each quarter, make quintiles containing all the (cik, score) tuples. \n",
    "\n",
    "Now at this point the portfolio is not balanced, it is just the list of companies we would like to invest in. We need to weigh each investment by the relative market cap. "
   ]
  },
  {
   "cell_type": "code",
   "execution_count": null,
   "metadata": {},
   "outputs": [],
   "source": [
    "# Populate it\n",
    "# The two zeros are respectively nb shares unbalanced & balanced\n",
    "for m in s['metrics']:\n",
    "    for qtr in s['list_qtr']:\n",
    "        #master_dict[m][qtr] = {cik: qtr_scores[qtr][cik][m] for cik in qtr_scores[qtr].keys()}\n",
    "        master_dict[m][qtr] = [[cik, qtr_scores[qtr][cik][m], 0, 0] for cik in qtr_scores[qtr].keys()]\n",
    "# master_dict"
   ]
  },
  {
   "cell_type": "code",
   "execution_count": null,
   "metadata": {
    "scrolled": true
   },
   "outputs": [],
   "source": [
    "# Reorganize each quarter \n",
    "for m in s['metrics'][:-1]:\n",
    "    for qtr in s['list_qtr'][s['lag']:]:  # There cannot be a report for the first few qtr\n",
    "        #print(master_dict[m][qtr])\n",
    "        try:\n",
    "            master_dict[m][qtr] = post_processing.make_quintiles(master_dict[m][qtr], s)\n",
    "        except:\n",
    "            #print(master_dict[m][qtr])\n",
    "            raise\n",
    "        assert len(master_dict[m][qtr].keys()) == 5"
   ]
  },
  {
   "cell_type": "code",
   "execution_count": null,
   "metadata": {},
   "outputs": [],
   "source": [
    "pf_scores = {m: 0 for m in s['metrics'][:-1]}\n",
    "for m in s['metrics']:\n",
    "    pf_scores[m] = {q: {qtr: 0 for qtr in s['list_qtr'][s['lag']:]} for q in s['bin_labels']}"
   ]
  },
  {
   "cell_type": "code",
   "execution_count": null,
   "metadata": {},
   "outputs": [],
   "source": [
    "for m in s['metrics'][:-1]:\n",
    "    for mod_bin in s['bin_labels']:\n",
    "        for qtr in s['list_qtr'][s['lag']:]:\n",
    "            pf_scores[m][mod_bin][qtr] = master_dict[m][qtr][mod_bin]\n",
    "# pf_scores['diff_jaccard']['Q1']"
   ]
  },
  {
   "cell_type": "code",
   "execution_count": null,
   "metadata": {},
   "outputs": [],
   "source": [
    "post_processing.dump_master_dict(master_dict, s)"
   ]
  },
  {
   "cell_type": "code",
   "execution_count": null,
   "metadata": {},
   "outputs": [],
   "source": [
    "del master_dict"
   ]
  },
  {
   "cell_type": "markdown",
   "metadata": {},
   "source": [
    "## Create a virtual portfolio\n",
    "\n",
    "Re-calculate the value of the portfolio at the end of each quarter."
   ]
  },
  {
   "cell_type": "markdown",
   "metadata": {},
   "source": [
    "### Remove all the CIK for which we do not have stock data for this time period"
   ]
  },
  {
   "cell_type": "code",
   "execution_count": null,
   "metadata": {},
   "outputs": [],
   "source": [
    "pf_scores = post_processing.remove_cik_without_price(pf_scores, lookup, stock_data, s)"
   ]
  },
  {
   "cell_type": "code",
   "execution_count": null,
   "metadata": {},
   "outputs": [],
   "source": [
    "# Create the new empty master dictionary\n",
    "tax_rate = 0.005\n",
    "pf_values = {m: 0 for m in s['metrics'][:-1]}\n",
    "for m in s['metrics'][:-1]:\n",
    "    pf_values[m] = {q: {qtr: [0, tax_rate, 0] for qtr in s['list_qtr'][1:]} for q in s['bin_labels']}"
   ]
  },
  {
   "cell_type": "markdown",
   "metadata": {},
   "source": [
    "## Initialize the portfolio with an equal amount for all bins"
   ]
  },
  {
   "cell_type": "code",
   "execution_count": null,
   "metadata": {},
   "outputs": [],
   "source": [
    "for m in s['metrics'][:-1]:\n",
    "    for mod_bin in s['bin_labels']:\n",
    "        pf_values[m][mod_bin][s['list_qtr'][s['lag']]] = [s['pf_init_value'], tax_rate, s['pf_init_value']]\n",
    "#print(pf_values['diff_jaccard'])"
   ]
  },
  {
   "cell_type": "markdown",
   "metadata": {},
   "source": [
    "## Calculate the value of the portfolio"
   ]
  },
  {
   "cell_type": "code",
   "execution_count": null,
   "metadata": {
    "scrolled": false
   },
   "outputs": [],
   "source": [
    "pf_scores = post_processing.calculate_portfolio_value(pf_scores, pf_values, lookup, stock_data, s)"
   ]
  },
  {
   "cell_type": "code",
   "execution_count": null,
   "metadata": {},
   "outputs": [],
   "source": [
    "post_processing.dump_pf_values(pf_values, s)"
   ]
  },
  {
   "cell_type": "code",
   "execution_count": null,
   "metadata": {
    "scrolled": false
   },
   "outputs": [],
   "source": [
    "index_name = 'SPX'\n",
    "display.diff_vs_benchmark(pf_values, index_name, index_data, s)"
   ]
  },
  {
   "cell_type": "code",
   "execution_count": null,
   "metadata": {},
   "outputs": [],
   "source": [
    "# Output the data for the pf value\n",
    "for qtr in s['list_qtr'][s['lag']:]:\n",
    "    print(qtr, pf_values['diff_jaccard']['Q5'][qtr][0])"
   ]
  },
  {
   "cell_type": "code",
   "execution_count": null,
   "metadata": {
    "scrolled": true
   },
   "outputs": [],
   "source": [
    "# [DEBUG] Show the Apple data for that time period\n",
    "# extracted_cik_scores = cik_scores[data_to_process[0][0]]\n",
    "data_to_process = ([k, v, {**s}, lm_dictionary] for k, v in cik_path.items())\n",
    "cik = next(data_to_process)[0]\n",
    "extracted_cik_scores = cik_scores[cik]\n",
    "# extracted_cik_scores"
   ]
  },
  {
   "cell_type": "code",
   "execution_count": null,
   "metadata": {},
   "outputs": [],
   "source": [
    "post_processing.dump_cik_scores(cik_scores, s)"
   ]
  },
  {
   "cell_type": "code",
   "execution_count": null,
   "metadata": {},
   "outputs": [],
   "source": [
    "#ticker = lookup[320193]\n",
    "ticker = lookup[cik]\n",
    "start_date = qtrs.qtr_to_day(s['time_range'][0], 'first', date_format='datetime')\n",
    "stop_date = qtrs.qtr_to_day(s['time_range'][1], 'last', date_format='datetime')\n",
    "\n",
    "#print(s['time_range'], start_date)\n",
    "#print(s['time_range'], stop_date)\n",
    "extracted_stock_data = {k: v for k, v in stock_data[ticker].items() if start_date <= k <= stop_date}\n",
    "#print(extracted_data)\n"
   ]
  },
  {
   "cell_type": "markdown",
   "metadata": {},
   "source": [
    "# Display the data"
   ]
  },
  {
   "cell_type": "markdown",
   "metadata": {},
   "source": [
    "## For a given ticker"
   ]
  },
  {
   "cell_type": "markdown",
   "metadata": {},
   "source": [
    "### Metrics vs stock price"
   ]
  },
  {
   "cell_type": "code",
   "execution_count": null,
   "metadata": {
    "scrolled": false
   },
   "outputs": [],
   "source": [
    "display.diff_vs_stock(extracted_cik_scores, extracted_stock_data, ticker, s, method='diff')"
   ]
  },
  {
   "cell_type": "markdown",
   "metadata": {},
   "source": [
    "### Sentiment vs stock price"
   ]
  },
  {
   "cell_type": "code",
   "execution_count": null,
   "metadata": {},
   "outputs": [],
   "source": [
    "display.diff_vs_stock(extracted_cik_scores, extracted_stock_data, ticker, s, method='sentiment')"
   ]
  },
  {
   "cell_type": "code",
   "execution_count": null,
   "metadata": {},
   "outputs": [],
   "source": []
  }
 ],
 "metadata": {
  "kernelspec": {
   "display_name": "Python 3",
   "language": "python",
   "name": "python3"
  },
  "language_info": {
   "codemirror_mode": {
    "name": "ipython",
    "version": 3
   },
   "file_extension": ".py",
   "mimetype": "text/x-python",
   "name": "python",
   "nbconvert_exporter": "python",
   "pygments_lexer": "ipython3",
   "version": "3.7.3"
  }
 },
 "nbformat": 4,
 "nbformat_minor": 2
}
