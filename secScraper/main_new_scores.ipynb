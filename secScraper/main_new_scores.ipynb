{
 "cells": [
  {
   "cell_type": "markdown",
   "metadata": {},
   "source": [
    "# Configuration"
   ]
  },
  {
   "cell_type": "code",
   "execution_count": 1,
   "metadata": {},
   "outputs": [
    {
     "name": "stderr",
     "output_type": "stream",
     "text": [
      "[nltk_data] Error loading stopwords: <urlopen error [Errno -2] Name or\n",
      "[nltk_data]     service not known>\n",
      "[nltk_data] Error loading punkt: <urlopen error [Errno -2] Name or\n",
      "[nltk_data]     service not known>\n",
      "[nltk_data] Error loading wordnet: <urlopen error [Errno -2] Name or\n",
      "[nltk_data]     service not known>\n"
     ]
    },
    {
     "name": "stdout",
     "output_type": "stream",
     "text": [
      "[INFO] Running python 3.7.3 (>= python 3.6)\n"
     ]
    }
   ],
   "source": [
    "from secScraper import *\n",
    "import sys\n",
    "\n",
    "if sys.version_info[0] < 3 or sys.version_info[1] < 6:\n",
    "    raise Exception(\"Must be using Python >= 3.6 due to reliance on ordered default dict.\")\n",
    "else:\n",
    "    version = \"[INFO] Running python {}.{}.{}\".format(*sys.version_info[:3])\n",
    "    if display.run_from_ipython():\n",
    "        %load_ext autoreload\n",
    "        %autoreload 2\n",
    "        %matplotlib notebook\n",
    "        version += \" for ipython\" if display.run_from_ipython() else \"\"\n",
    "    print(\"[INFO] Running python {}.{}.{} (>= python 3.6)\".format(*sys.version_info[:3]))"
   ]
  },
  {
   "cell_type": "markdown",
   "metadata": {},
   "source": [
    "## Packages to import"
   ]
  },
  {
   "cell_type": "code",
   "execution_count": 2,
   "metadata": {},
   "outputs": [],
   "source": [
    "import glob\n",
    "import numpy as np\n",
    "import matplotlib\n",
    "import matplotlib.pyplot as plt\n",
    "plt.ioff()\n",
    "\n",
    "import os\n",
    "import csv\n",
    "from datetime import datetime\n",
    "import re\n",
    "from tqdm import tqdm\n",
    "import multiprocessing as mp\n",
    "from collections import OrderedDict\n",
    "import time\n",
    "import pandas as pd\n",
    "import argparse\n",
    "import psycopg2\n",
    "import ast\n",
    "import copy\n",
    "\n",
    "# Spark\n",
    "# import findspark\n",
    "# findspark.init('/home/alex/spark-2.4.4-bin-hadoop2.7')\n",
    "import pyspark"
   ]
  },
  {
   "cell_type": "markdown",
   "metadata": {},
   "source": [
    "### Set the nb of processes to use based on cmd line arguments/setting"
   ]
  },
  {
   "cell_type": "code",
   "execution_count": 3,
   "metadata": {},
   "outputs": [],
   "source": [
    "if display.run_from_ipython():\n",
    "    nb_processes_requested = mp.cpu_count()  # From IPython, fixed setting\n",
    "    nb_processes_requested = 1 # From IPython, fixed setting\n",
    "else:\n",
    "    ap = argparse.ArgumentParser()\n",
    "    ap.add_argument(\"-p\", \"--processes\", type=int, default=1, help=\"Number of processes launched to process the reports.\")\n",
    "    args = vars(ap.parse_args())\n",
    "    nb_processes_requested = args[\"processes\"]\n",
    "    if not 1 <= nb_processes_requested <= mp.cpu_count():\n",
    "        raise ValueError('[ERROR] Number of processes requested is incorrect.\\\n",
    "                         \\n{} CPUs are available on this machine, please select a number of processes between 1 and {}'\n",
    "                         .format(mp.cpu_count()))"
   ]
  },
  {
   "cell_type": "markdown",
   "metadata": {},
   "source": [
    "## Settings dictionary"
   ]
  },
  {
   "cell_type": "code",
   "execution_count": 4,
   "metadata": {},
   "outputs": [],
   "source": [
    "home = os.path.expanduser(\"~\")\n",
    "_s = {\n",
    "    'path_stage_1_data': os.path.join(home, 'Desktop/filtered_text_data/nd_data/'),\n",
    "    'path_stock_database': os.path.join(home, 'Desktop/Insight project/Database/Ticker_stock_price.csv'),\n",
    "    'path_filtered_stock_data': os.path.join(home, 'Desktop/Insight project/Database/filtered_stock_data.csv'),\n",
    "    'path_stock_indexes': os.path.join(home, 'Desktop/Insight project/Database/Indexes/'),\n",
    "    'path_filtered_index_data': os.path.join(home, 'Desktop/Insight project/Database/Indexes/filtered_index_data.csv'),\n",
    "    'path_lookup': os.path.join(home, 'Desktop/Insight project/Database/lookup.csv'),\n",
    "    'path_filtered_lookup': os.path.join(home, 'Desktop/Insight project/Database/filtered_lookup.csv'),\n",
    "    'path_master_dictionary': os.path.join(home, 'Desktop/Insight project/Database/LoughranMcDonald_MasterDictionary_2018.csv'),\n",
    "    'path_dump_crsp': os.path.join(home, 'Desktop/Insight project/Database/dump_crsp_merged.txt'),\n",
    "    'path_output_folder': os.path.join(home, 'Desktop/Insight project/Outputs'),\n",
    "    'path_dump_cik_scores': os.path.join(home, 'Desktop/Insight project/Outputs/dump_cik_scores.csv'),\n",
    "    'path_dump_pf_values': os.path.join(home, 'Desktop/Insight project/Outputs/dump_pf_values.csv'),\n",
    "    'path_dump_master_dict': os.path.join(home, 'Desktop/Insight project/Outputs/dump_master_dict.csv'),\n",
    "    'metrics': ['diff_sk_cosine_tf', 'diff_jaccard'],\n",
    "    'stop_words': False,\n",
    "    'lemmatize': False,\n",
    "    'differentiation_mode': 'quarterly',\n",
    "    'pf_balancing': 'unbalanced',\n",
    "    'time_range': [(2012, 1), (2014, 4)],\n",
    "    'bin_count': 5,\n",
    "    'tax_rate': 0,\n",
    "    'histogram_date_span_ratio': 0.5,\n",
    "    'report_type': ['10-K', '10-Q'],\n",
    "    'sections_to_parse_10k': [],\n",
    "    'sections_to_parse_10q': [],\n",
    "    'type_daily_price': 'closing'\n",
    "}"
   ]
  },
  {
   "cell_type": "code",
   "execution_count": 5,
   "metadata": {},
   "outputs": [],
   "source": [
    "_s['pf_init_value'] = 100.0  # In points\n",
    "_s['epsilon'] = 0.001  # Rounding error\n",
    "# Calculated settings\n",
    "_s['list_qtr'] = qtrs.create_qtr_list(_s['time_range'])\n",
    "\n",
    "if _s['bin_count'] == 5:\n",
    "    _s['bin_labels'] = ['Q'+str(n) for n in range(1, _s['bin_count']+1)]\n",
    "elif _s['bin_count'] == 10:\n",
    "    _s['bin_labels'] = ['D'+str(n) for n in range(1, _s['bin_count']+1)]\n",
    "else:\n",
    "    raise ValueError('[ERROR] This type of bin has not been implemented yet.')\n",
    "\n",
    "# Create diff metrics and sing metrics\n",
    "_s['diff_metrics'] = [m for m in _s['metrics'] if m[:4] == 'diff']\n",
    "_s['sing_metrics'] = [m for m in _s['metrics'] if m[:4] == 'sing']\n",
    "# Reports considered to calculate the differences\n",
    "if _s['differentiation_mode'] == 'quarterly':\n",
    "    _s['lag'] = 1\n",
    "    _s['sections_to_parse_10k'] = ['1a', '3', '7', '7a', '9a']\n",
    "    _s['sections_to_parse_10q'] = ['_i_2', '_i_3', '_i_4', 'ii_1', 'ii_1a']\n",
    "elif _s['differentiation_mode'] == 'yearly':\n",
    "    _s['lag'] = 4\n",
    "    _s['sections_to_parse_10k'] = ['1a', '3', '7', '7a', '9a']\n",
    "    _s['sections_to_parse_10q'] = ['_i_2', '_i_3', '_i_4', 'ii_1', 'ii_1a']\n",
    "\n",
    "_s['common_quarterly_sections'] = {\n",
    "        '10-K': ['1a', '3', '7', '7a', '9a'],\n",
    "        '10-Q': ['ii_1a', 'ii_1', '_i_2', '_i_3', '_i_4']\n",
    "}  # Exhibits are not taken into account\n",
    "\"\"\"_s['common_yearly_sections'] = {\n",
    "    '10-K': ['1', '1a', '1b', '2', '3', '4', '5', '6', '7', '7a', '8', '9', '9a', '9b', '10', '11', '12', '13', '14', '15'],\n",
    "    '10-Q': ['_i_1', '_i_2', '_i_3', '_i_4', 'ii_1', 'ii_1a', 'ii_2', 'ii_3', 'ii_4', 'ii_5', 'ii_6']\n",
    "}\"\"\"\n",
    "_s['common_yearly_sections'] = {\n",
    "    '10-K': ['7'],\n",
    "    '10-Q': ['_i_2']\n",
    "}  # Take into account "
   ]
  },
  {
   "cell_type": "code",
   "execution_count": 6,
   "metadata": {},
   "outputs": [],
   "source": [
    "# Transfer s to a read only dict\n",
    "read_only_dict = pre_processing.ReadOnlyDict()\n",
    "for key in _s:  # Brute force copy\n",
    "    read_only_dict[key] = _s[key]\n",
    "s = read_only_dict  # Copy back\n",
    "s.set_read_state(read_only=True)  # Set as read only"
   ]
  },
  {
   "cell_type": "markdown",
   "metadata": {},
   "source": [
    "# Load external tables"
   ]
  },
  {
   "cell_type": "code",
   "execution_count": 7,
   "metadata": {},
   "outputs": [],
   "source": [
    "connector = psycopg2.connect(host=\"localhost\", dbname=\"postgres\", user=\"postgres\", password=\"1\")"
   ]
  },
  {
   "cell_type": "code",
   "execution_count": 8,
   "metadata": {},
   "outputs": [
    {
     "name": "stderr",
     "output_type": "stream",
     "text": [
      "100%|██████████| 35/35 [00:00<00:00, 1347.78it/s]"
     ]
    },
    {
     "name": "stdout",
     "output_type": "stream",
     "text": [
      "[INFO] Deleted table settings\n",
      "[INFO] Creating the following table:\n",
      "CREATE TABLE settings(IDX integer PRIMARY KEY,KEY text,VALUE text)\n"
     ]
    },
    {
     "name": "stderr",
     "output_type": "stream",
     "text": [
      "\n"
     ]
    }
   ],
   "source": [
    "postgres.settings_to_postgres(connector, s)"
   ]
  },
  {
   "cell_type": "markdown",
   "metadata": {},
   "source": [
    "## Extract the list of CIK for which we have complete data"
   ]
  },
  {
   "cell_type": "markdown",
   "metadata": {},
   "source": [
    "The main problem in our case is that we have 3 different database to play with:\n",
    "1. The SEC provides information based on the CIK of the entity\n",
    "2. Given that the CIK is used by no one else, we use a lookup table to transform that into tickers. But we do not have all the correspondances, so the list of useful CIK is shrunk.\n",
    "3. Finally, we only have stock prices for so many tickers. So that shrinks the CIK list even further.\n",
    "\n",
    "We end up with a reduced list of CIK that we can play with."
   ]
  },
  {
   "cell_type": "markdown",
   "metadata": {},
   "source": [
    "### Load the sentiment analysis dictionary"
   ]
  },
  {
   "cell_type": "code",
   "execution_count": 9,
   "metadata": {},
   "outputs": [
    {
     "name": "stdout",
     "output_type": "stream",
     "text": [
      " ...Loading Master Dictionary 85000\n",
      "Master Dictionary loaded from file: \n",
      "  /home/alex/Desktop/Insight project/Database/LoughranMcDonald_MasterDictionary_2018.csv\n",
      "  86,486 words loaded in master_dictionary.\n",
      "\n"
     ]
    }
   ],
   "source": [
    "lm_dictionary = Load_MasterDictionary.load_masterdictionary(s['path_master_dictionary'], True)"
   ]
  },
  {
   "cell_type": "markdown",
   "metadata": {},
   "source": [
    "### Find all the unique CIK from the SEC filings"
   ]
  },
  {
   "cell_type": "code",
   "execution_count": 10,
   "metadata": {},
   "outputs": [
    {
     "name": "stdout",
     "output_type": "stream",
     "text": [
      "[INFO] Loaded 395,773 10-X\n",
      "[INFO] Shrunk to 350,283 ['10-K', '10-Q']\n"
     ]
    },
    {
     "name": "stderr",
     "output_type": "stream",
     "text": [
      " 56%|█████▌    | 194629/350283 [00:00<00:00, 955082.81it/s]"
     ]
    },
    {
     "name": "stdout",
     "output_type": "stream",
     "text": [
      "[INFO] Found 18,009 unique CIK in master index\n"
     ]
    },
    {
     "name": "stderr",
     "output_type": "stream",
     "text": [
      "100%|██████████| 350283/350283 [00:00<00:00, 996443.65it/s]"
     ]
    },
    {
     "name": "stdout",
     "output_type": "stream",
     "text": [
      "[INFO] cik_path contains data on 18,009 CIK numbers\n"
     ]
    },
    {
     "name": "stderr",
     "output_type": "stream",
     "text": [
      "\n"
     ]
    }
   ],
   "source": [
    "cik_path = pre_processing.load_cik_path(s)"
   ]
  },
  {
   "cell_type": "markdown",
   "metadata": {},
   "source": [
    "### Get the largest {CIK: ticker} possible given our lookup table"
   ]
  },
  {
   "cell_type": "code",
   "execution_count": 11,
   "metadata": {
    "scrolled": true
   },
   "outputs": [
    {
     "name": "stdout",
     "output_type": "stream",
     "text": [
      "SELECT * FROM lookup;\n",
      "[INFO] Loaded 13,738 CIK/Tickers correspondances.\n"
     ]
    }
   ],
   "source": [
    "lookup, reverse_lookup = postgres.retrieve_lookup(connector)\n",
    "print(\"[INFO] Loaded {:,} CIK/Tickers correspondances.\".format(len(lookup)))"
   ]
  },
  {
   "cell_type": "code",
   "execution_count": 12,
   "metadata": {},
   "outputs": [
    {
     "name": "stdout",
     "output_type": "stream",
     "text": [
      "[INFO] Intersected SEC & lookup.\n",
      "cik_path: 9,547 CIK | lookup: 9,547 CIK\n"
     ]
    }
   ],
   "source": [
    "cik_path, lookup = pre_processing.intersection_sec_lookup(cik_path, lookup)\n",
    "print(\"[INFO] Intersected SEC & lookup.\")\n",
    "print(\"cik_path: {:,} CIK | lookup: {:,} CIK\"\n",
    "      .format(len(cik_path), len(lookup)))"
   ]
  },
  {
   "cell_type": "code",
   "execution_count": 13,
   "metadata": {},
   "outputs": [
    {
     "data": {
      "text/plain": [
       "'MHK'"
      ]
     },
     "execution_count": 13,
     "metadata": {},
     "output_type": "execute_result"
    }
   ],
   "source": [
    "lookup[851968]"
   ]
  },
  {
   "cell_type": "markdown",
   "metadata": {},
   "source": [
    "### Load stock data and drop all CIKs for which we don't have data"
   ]
  },
  {
   "cell_type": "code",
   "execution_count": 14,
   "metadata": {
    "scrolled": true
   },
   "outputs": [
    {
     "name": "stdout",
     "output_type": "stream",
     "text": [
      "SELECT * FROM stock_data;\n"
     ]
    },
    {
     "name": "stderr",
     "output_type": "stream",
     "text": [
      "100%|██████████| 2285837/2285837 [00:02<00:00, 850796.25it/s] \n"
     ]
    }
   ],
   "source": [
    "# Load all stock prices\n",
    "stock_data = postgres.retrieve_all_stock_data(connector, 'stock_data')"
   ]
  },
  {
   "cell_type": "code",
   "execution_count": 15,
   "metadata": {},
   "outputs": [
    {
     "name": "stdout",
     "output_type": "stream",
     "text": [
      "3389\n",
      "[INFO] Intersected lookup & stock data.\n",
      "lookup: 3,524 tickers | stock_data: 3,389 tickers\n"
     ]
    }
   ],
   "source": [
    "lookup, stock_data = pre_processing.intersection_lookup_stock(lookup, stock_data)\n",
    "print(\"[INFO] Intersected lookup & stock data.\")\n",
    "print(\"lookup: {:,} tickers | stock_data: {:,} tickers\"\n",
    "      .format(len(lookup.values()), len(stock_data)))"
   ]
  },
  {
   "cell_type": "markdown",
   "metadata": {},
   "source": [
    "### Load stock indexes - will serve as benchmark later on"
   ]
  },
  {
   "cell_type": "code",
   "execution_count": 16,
   "metadata": {},
   "outputs": [
    {
     "name": "stderr",
     "output_type": "stream",
     "text": [
      "100%|██████████| 26373/26373 [00:00<00:00, 1286102.38it/s]"
     ]
    },
    {
     "name": "stdout",
     "output_type": "stream",
     "text": [
      "SELECT * FROM index_data;\n",
      "[INFO] Loaded the following index data: ['IXIC', 'SPX', 'DJI', 'RUT']\n"
     ]
    },
    {
     "name": "stderr",
     "output_type": "stream",
     "text": [
      "\n"
     ]
    }
   ],
   "source": [
    "index_data = postgres.retrieve_all_stock_data(connector, 'index_data')\n",
    "print(\"[INFO] Loaded the following index data:\", list(index_data.keys()))"
   ]
  },
  {
   "cell_type": "markdown",
   "metadata": {},
   "source": [
    "## Back propagate these intersection all the way to cik_path"
   ]
  },
  {
   "cell_type": "markdown",
   "metadata": {},
   "source": [
    "Technically, we have just done it for lookup. So we only need to re-run an intersection for lookup and sec."
   ]
  },
  {
   "cell_type": "code",
   "execution_count": 17,
   "metadata": {},
   "outputs": [
    {
     "name": "stdout",
     "output_type": "stream",
     "text": [
      "[INFO] Intersected SEC & lookup.\n",
      "cik_path: 3,524 CIK | lookup: 3,524 CIK\n"
     ]
    }
   ],
   "source": [
    "cik_path, lookup = pre_processing.intersection_sec_lookup(cik_path, lookup)\n",
    "print(\"[INFO] Intersected SEC & lookup.\")\n",
    "print(\"cik_path: {:,} CIK | lookup: {:,} CIK\"\n",
    "      .format(len(cik_path), len(lookup)))"
   ]
  },
  {
   "cell_type": "markdown",
   "metadata": {},
   "source": [
    "## Sanity check"
   ]
  },
  {
   "cell_type": "markdown",
   "metadata": {},
   "source": [
    "At this point, cik_path and lookup should have the same number of keys as the CIK is unique in the path database.\n",
    "\n",
    "However, multiple CIK can redirect to the same ticker if the company changed its ticker over time. That should be a very limited amount of cases though."
   ]
  },
  {
   "cell_type": "code",
   "execution_count": 18,
   "metadata": {},
   "outputs": [],
   "source": [
    "assert cik_path.keys() == lookup.keys()\n",
    "assert len(set(lookup.values())) == len(set(stock_data.keys()))"
   ]
  },
  {
   "cell_type": "markdown",
   "metadata": {},
   "source": [
    "At that point, we have a {CIK: ticker} for which the stock is known, which will enable comparison and all down the road."
   ]
  },
  {
   "cell_type": "markdown",
   "metadata": {},
   "source": [
    "## Review all CIKs: make sure there is only one submission per quarter"
   ]
  },
  {
   "cell_type": "markdown",
   "metadata": {},
   "source": [
    "In this section, the goal is to build a list of CIK that will successfully be parsed for the time_range considered.\n",
    "It should be trivial for a vast majority of the CIK, but ideally there should be only one document per quarter for each CIK from the moment they are listed to the moment they are delisted."
   ]
  },
  {
   "cell_type": "code",
   "execution_count": 19,
   "metadata": {
    "scrolled": true
   },
   "outputs": [
    {
     "name": "stderr",
     "output_type": "stream",
     "text": [
      "100%|██████████| 3524/3524 [00:00<00:00, 9335.02it/s]"
     ]
    },
    {
     "name": "stdout",
     "output_type": "stream",
     "text": [
      "\n",
      "[INFO] 945 CIKs caused trouble\n",
      "[INFO] Removed all the CIK that did not have one report per quarter.\n",
      "cik_dict: 2,579 CIK\n"
     ]
    },
    {
     "name": "stderr",
     "output_type": "stream",
     "text": [
      "\n"
     ]
    }
   ],
   "source": [
    "# Create the list of quarters to consider\n",
    "cik_path = pre_processing.review_cik_publications(cik_path, s)\n",
    "print(\"[INFO] Removed all the CIK that did not have one report per quarter.\")\n",
    "print(\"cik_dict: {:,} CIK\".format(len(cik_path)))"
   ]
  },
  {
   "cell_type": "code",
   "execution_count": 20,
   "metadata": {},
   "outputs": [
    {
     "name": "stdout",
     "output_type": "stream",
     "text": [
      "[INFO] We are left with 2,579 CIKs that meet our requirements:\n",
      "- The ticker can be looked up in the CIK/ticker tabke\n",
      "- The stock data is available for that ticker\n",
      "- There is one and only one report per quarter\n"
     ]
    }
   ],
   "source": [
    "print(\"[INFO] We are left with {:,} CIKs that meet our requirements:\".format(len(cik_path)))\n",
    "print(\"- The ticker can be looked up in the CIK/ticker tabke\")\n",
    "print(\"- The stock data is available for that ticker\")\n",
    "print(\"- There is one and only one report per quarter\")"
   ]
  },
  {
   "cell_type": "markdown",
   "metadata": {},
   "source": [
    "## Dump all the data to postgres\n",
    "This is done so that the Flask webapp can retrieve the settings that were used at a later time."
   ]
  },
  {
   "cell_type": "code",
   "execution_count": 21,
   "metadata": {},
   "outputs": [
    {
     "name": "stdout",
     "output_type": "stream",
     "text": [
      "680\n"
     ]
    }
   ],
   "source": [
    "print(list(cik_path.keys()).index(10456))  # Find BAX"
   ]
  },
  {
   "cell_type": "markdown",
   "metadata": {},
   "source": [
    "connector = psycopg2.connect(host=\"localhost\", dbname=\"postgres\", user=\"postgres\", password=\"1\")"
   ]
  },
  {
   "cell_type": "markdown",
   "metadata": {},
   "source": [
    "postgres.settings_to_postgres(connector, s)"
   ]
  },
  {
   "cell_type": "markdown",
   "metadata": {},
   "source": [
    "header_lookup = (('CIK', 'integer'), ('TICKER', 'text'))\n",
    "postgres.lookup_to_postgres(connector, lookup, header_lookup)"
   ]
  },
  {
   "cell_type": "markdown",
   "metadata": {},
   "source": [
    "header = (('TICKER', 'text'), ('TIMESTAMP', 'date'), \n",
    "          ('ASK', 'float'), ('MARKET_CAP', 'float'))\n",
    "path = os.path.join(home, 'Desktop/Insight project/Database/stock_data_filtered.csv')\n",
    "postgres.stock_data_csv_to_postgres(connector, path, header)"
   ]
  },
  {
   "cell_type": "markdown",
   "metadata": {},
   "source": [
    "stock_data_2 = postgres.retrieve_stock_data(connector)"
   ]
  },
  {
   "cell_type": "markdown",
   "metadata": {},
   "source": [
    "# Parse files"
   ]
  },
  {
   "cell_type": "markdown",
   "metadata": {},
   "source": [
    "Now we have a list of CIK that should make it until the end. It is time to open the relevant reports and start parsing. This step takes a lot of time and can get arbitrarily long as the metrics get fancier.\n",
    "\n",
    "You do not want to keep in RAM all the parsed data. However, there are only ~100 quarters for which we have data and the stage 2 files are no more than 1 Mb in size (Apple seems to top out at ~ 325 kb). So 100 Mb per core + others, that's definitely doable. More cores will use more RAM, but the usage remains reasonable.\n",
    "\n",
    "We use multiprocessing to go through N CIK at once but a single core is dedicated to going through a given CIK for the specified time_range. Such a core can be running for a while if the company has been in business for the whole time_range and publish a lot of text data in its 10-K."
   ]
  },
  {
   "cell_type": "code",
   "execution_count": 22,
   "metadata": {},
   "outputs": [],
   "source": [
    "try:\n",
    "    sc.stop()\n",
    "except:\n",
    "    pass\n",
    "nb_processes_requested = 8"
   ]
  },
  {
   "cell_type": "code",
   "execution_count": 23,
   "metadata": {},
   "outputs": [],
   "source": [
    "nb_processes_requested = 8"
   ]
  },
  {
   "cell_type": "code",
   "execution_count": 24,
   "metadata": {
    "scrolled": true
   },
   "outputs": [
    {
     "name": "stderr",
     "output_type": "stream",
     "text": [
      "  0%|          | 0/100 [00:00<?, ?it/s]\n"
     ]
    },
    {
     "name": "stdout",
     "output_type": "stream",
     "text": [
      "[INFO] Starting a pool of 8 workers\n"
     ]
    },
    {
     "name": "stderr",
     "output_type": "stream",
     "text": [
      "  1%|          | 1/100 [00:02<04:55,  2.98s/it]\n",
      "  2%|▏         | 2/100 [00:04<03:58,  2.44s/it]\n",
      "2it [00:03,  2.26s/it]\u001b[A"
     ]
    },
    {
     "name": "stdout",
     "output_type": "stream",
     "text": [
      "[ERROR] list index out of range in parser.clean_first_markers (10-Q)\n",
      "This is the res\n",
      " {'_i_1': [(6476, 6498)], '_i_2': [(29598, 29622)], '_i_3': [(64460, 64485)], '_i_4': [(65862, 65884)], 'ii_1': [(67300, 67318)], 'ii_1a': [], 'ii_2': [(67891, 67916)], 'ii_4': [(68040, 68057)], 'ii_5': [(68088, 68110)], 'ii_6': [(68175, 68197)]}\n"
     ]
    },
    {
     "name": "stderr",
     "output_type": "stream",
     "text": [
      "  3%|▎         | 3/100 [00:05<03:27,  2.14s/it]\n",
      "3it [00:05,  2.02s/it]\u001b[A"
     ]
    },
    {
     "name": "stdout",
     "output_type": "stream",
     "text": [
      "[WARNING] /home/alex/Desktop/filtered_text_data/nd_data/2012/QTR2/20120504_10-Q_edgar_data_1171486_0001193125-12-210830_1.txt failed parsing\n"
     ]
    },
    {
     "name": "stderr",
     "output_type": "stream",
     "text": [
      "  4%|▍         | 4/100 [00:07<03:08,  1.96s/it]\n",
      "  5%|▌         | 5/100 [00:08<02:38,  1.67s/it]\n",
      "  7%|▋         | 7/100 [00:09<02:13,  1.43s/it]\n",
      "  8%|▊         | 8/100 [00:10<01:57,  1.28s/it]\n",
      "  9%|▉         | 9/100 [00:11<01:46,  1.17s/it]\n",
      " 10%|█         | 10/100 [00:12<01:40,  1.11s/it]\n",
      " 11%|█         | 11/100 [00:13<01:32,  1.04s/it]\n",
      " 12%|█▏        | 12/100 [00:15<01:46,  1.21s/it]\n",
      " 13%|█▎        | 13/100 [00:18<02:49,  1.95s/it]\n",
      " 14%|█▍        | 14/100 [00:19<02:22,  1.66s/it]\n",
      " 15%|█▌        | 15/100 [00:20<02:01,  1.43s/it]\n",
      " 16%|█▌        | 16/100 [00:22<02:07,  1.52s/it]\n",
      " 17%|█▋        | 17/100 [00:23<02:05,  1.51s/it]\n",
      " 18%|█▊        | 18/100 [00:25<02:11,  1.60s/it]\n",
      "18it [00:25,  1.60s/it]\u001b[A"
     ]
    },
    {
     "name": "stdout",
     "output_type": "stream",
     "text": [
      "[ERROR] Here is full_sect: |[]|\n",
      "[ERROR] Original res: {'1': [], '1a': [], '1b': [], '2': [], '3': [], '4': [], '5': [], '6': [], '7': [], '7a': [], '8': [], '9': [], '9a': [], '9b': [], '10': [], '11': [], '12': [], '13': [], '14': [], '15': []}\n"
     ]
    },
    {
     "name": "stderr",
     "output_type": "stream",
     "text": [
      "\r",
      " 19%|█▉        | 19/100 [00:26<01:53,  1.40s/it]"
     ]
    },
    {
     "name": "stdout",
     "output_type": "stream",
     "text": [
      "[WARNING] /home/alex/Desktop/filtered_text_data/nd_data/2012/QTR1/20120306_10-K_edgar_data_892986_0001047469-12-002166_1.txt failed parsing\n"
     ]
    },
    {
     "name": "stderr",
     "output_type": "stream",
     "text": [
      "\n",
      " 21%|██        | 21/100 [00:28<01:39,  1.26s/it]\n",
      "21it [00:28,  1.26s/it]\u001b[A"
     ]
    },
    {
     "name": "stdout",
     "output_type": "stream",
     "text": [
      "[ERROR] list index out of range in parser.clean_first_markers (10-Q)\n",
      "This is the res\n"
     ]
    },
    {
     "name": "stderr",
     "output_type": "stream",
     "text": [
      "\r",
      " 22%|██▏       | 22/100 [00:29<01:28,  1.13s/it]"
     ]
    },
    {
     "name": "stdout",
     "output_type": "stream",
     "text": [
      " {'_i_1': [(4105, 4128)], '_i_2': [(35180, 35202)], '_i_3': [(50226, 50249)], '_i_4': [(52879, 52899)], 'ii_1a': [], 'ii_6': [(53608, 53629)]}\n",
      "[WARNING] /home/alex/Desktop/filtered_text_data/nd_data/2012/QTR2/20120509_10-Q_edgar_data_712770_0001104659-12-035186_1.txt failed parsing\n"
     ]
    },
    {
     "name": "stderr",
     "output_type": "stream",
     "text": [
      "\n",
      " 24%|██▍       | 24/100 [00:31<01:18,  1.03s/it]\n",
      " 25%|██▌       | 25/100 [00:32<01:27,  1.17s/it]\n",
      " 26%|██▌       | 26/100 [00:34<01:39,  1.34s/it]\n",
      " 27%|██▋       | 27/100 [00:37<02:12,  1.81s/it]\n",
      " 28%|██▊       | 28/100 [00:39<02:13,  1.85s/it]\n",
      " 29%|██▉       | 29/100 [00:40<01:51,  1.57s/it]\n",
      " 30%|███       | 30/100 [00:42<01:55,  1.65s/it]\n",
      " 31%|███       | 31/100 [00:44<02:15,  1.97s/it]\n",
      "31it [00:44,  1.95s/it]\u001b[A"
     ]
    },
    {
     "name": "stdout",
     "output_type": "stream",
     "text": [
      "[ERROR] list index out of range in parser.clean_first_markers (10-K)\n",
      "This is the res\n"
     ]
    },
    {
     "name": "stderr",
     "output_type": "stream",
     "text": [
      "\r",
      " 32%|███▏      | 32/100 [00:45<01:51,  1.64s/it]"
     ]
    },
    {
     "name": "stdout",
     "output_type": "stream",
     "text": [
      " {'1': [(231317, 231336)], '1a': [], '1b': [(121705, 121725)], '2': [(121750, 121769), (231342, 231363)], '3': [(5377, 5396), (204218, 204232)], '5': [(5509, 5529), (208048, 208063)], '6': [(5652, 5674), (230680, 230697)], '7': [(5706, 5730), (231074, 231095), (231469, 231488)], '7a': [(5827, 5854), (261627, 261649)], '8': [(5918, 5941), (36499, 36518), (261714, 261732)], '9': [(5992, 6013), (261987, 262003)], '9a': [(6111, 6134)], '9b': [(6166, 6186), (267075, 267090)], '10': [(6244, 6268), (267122, 267141)], '11': [(6330, 6354), (267722, 267741)], '12': [(6384, 6407), (267885, 267903)], '13': [(6510, 6532), (268116, 268133)], '14': [(6619, 6643), (268330, 268349)], '15': [(6719, 6742), (268519, 268537)]}\n",
      "[WARNING] /home/alex/Desktop/filtered_text_data/nd_data/2012/QTR1/20120309_10-K_edgar_data_1319009_0001144204-12-014022_1.txt failed parsing\n"
     ]
    },
    {
     "name": "stderr",
     "output_type": "stream",
     "text": [
      "\n",
      " 33%|███▎      | 33/100 [00:46<01:34,  1.41s/it]\n",
      "33it [00:46,  1.40s/it]\u001b[A"
     ]
    },
    {
     "name": "stdout",
     "output_type": "stream",
     "text": [
      "[ERROR] Here is full_sect: |[]|\n",
      "[ERROR] Original res: {'_i_1': [], '_i_2': [], '_i_3': [], '_i_4': [], 'ii_1': [], 'ii_1a': [], 'ii_2': [], 'ii_3': [], 'ii_4': [], 'ii_5': [], 'ii_6': []}\n",
      "[WARNING] /home/alex/Desktop/filtered_text_data/nd_data/2012/QTR2/20120501_10-Q_edgar_data_82020_0001104659-12-031348_1.txt failed parsing\n"
     ]
    },
    {
     "name": "stderr",
     "output_type": "stream",
     "text": [
      " 34%|███▍      | 34/100 [00:47<01:22,  1.25s/it]\n",
      " 35%|███▌      | 35/100 [00:48<01:14,  1.15s/it]\n",
      " 36%|███▌      | 36/100 [00:51<01:44,  1.63s/it]\n",
      " 37%|███▋      | 37/100 [00:52<01:30,  1.44s/it]\n",
      " 38%|███▊      | 38/100 [00:53<01:26,  1.40s/it]\n",
      " 39%|███▉      | 39/100 [00:56<01:50,  1.81s/it]\n",
      " 40%|████      | 40/100 [00:58<01:51,  1.86s/it]\n",
      " 41%|████      | 41/100 [00:59<01:41,  1.72s/it]\n",
      " 42%|████▏     | 42/100 [01:00<01:25,  1.48s/it]\n"
     ]
    },
    {
     "name": "stdout",
     "output_type": "stream",
     "text": [
      "[ERROR] Here is full_sect: |[]|\n",
      "[ERROR] Original res: {'_i_1': [], '_i_2': [], '_i_3': [], '_i_4': [], 'ii_1': [], 'ii_1a': [], 'ii_2': [], 'ii_3': [], 'ii_4': [], 'ii_5': [], 'ii_6': []}\n"
     ]
    },
    {
     "name": "stderr",
     "output_type": "stream",
     "text": [
      "\r",
      "42it [01:00,  1.49s/it]"
     ]
    },
    {
     "name": "stdout",
     "output_type": "stream",
     "text": [
      "[WARNING] /home/alex/Desktop/filtered_text_data/nd_data/2012/QTR2/20120420_10-Q_edgar_data_1065088_0001065088-12-000037_1.txt failed parsing\n"
     ]
    },
    {
     "name": "stderr",
     "output_type": "stream",
     "text": [
      " 43%|████▎     | 43/100 [01:01<01:12,  1.28s/it]\n",
      "43it [01:00,  1.27s/it]\u001b[A"
     ]
    },
    {
     "name": "stdout",
     "output_type": "stream",
     "text": [
      "[ERROR] list index out of range in parser.clean_first_markers (10-K)\n",
      "This is the res\n"
     ]
    },
    {
     "name": "stderr",
     "output_type": "stream",
     "text": [
      "\r",
      " 46%|████▌     | 46/100 [01:02<00:56,  1.05s/it]"
     ]
    },
    {
     "name": "stdout",
     "output_type": "stream",
     "text": [
      " {'1': [(9333, 9353)], '1a': [(25142, 25160)], '1b': [(65382, 65406)], '3': [(251900, 251916)], '5': [], '6': [(87118, 87138)], '7': [(88778, 88800)], '7a': [(267461, 267486)], '8': [(272349, 272370)], '9': [(431923, 431942)], '9a': [(432047, 432068)], '9b': [(434449, 434467)], '10': [(434573, 434595)], '11': [(435174, 435196)], '12': [(435591, 435612)], '13': [(436081, 436101)], '14': [(436471, 436493)], '15': [(436898, 436919)]}\n",
      "[WARNING] /home/alex/Desktop/filtered_text_data/nd_data/2012/QTR1/20120312_10-K_edgar_data_1056903_0001104659-12-017424_1.txt failed parsing\n"
     ]
    },
    {
     "name": "stderr",
     "output_type": "stream",
     "text": [
      "\n",
      " 47%|████▋     | 47/100 [01:05<01:14,  1.41s/it]\n",
      " 48%|████▊     | 48/100 [01:06<01:17,  1.49s/it]\n",
      " 49%|████▉     | 49/100 [01:11<02:02,  2.41s/it]\n",
      " 50%|█████     | 50/100 [01:12<01:38,  1.98s/it]\n",
      " 51%|█████     | 51/100 [01:13<01:23,  1.71s/it]\n",
      " 52%|█████▏    | 52/100 [01:14<01:11,  1.49s/it]\n",
      " 53%|█████▎    | 53/100 [01:15<01:00,  1.29s/it]\n",
      " 54%|█████▍    | 54/100 [01:15<00:53,  1.17s/it]\n",
      "54it [01:15,  1.16s/it]\u001b[A"
     ]
    },
    {
     "name": "stdout",
     "output_type": "stream",
     "text": [
      "[ERROR] list index out of range in parser.clean_first_markers (10-K)\n"
     ]
    },
    {
     "name": "stderr",
     "output_type": "stream",
     "text": [
      "\r",
      " 55%|█████▌    | 55/100 [01:16<00:47,  1.05s/it]"
     ]
    },
    {
     "name": "stdout",
     "output_type": "stream",
     "text": [
      "This is the res\n"
     ]
    },
    {
     "name": "stderr",
     "output_type": "stream",
     "text": [
      "\n"
     ]
    },
    {
     "name": "stdout",
     "output_type": "stream",
     "text": [
      " {'1': [(10171, 10200)], '1a': [(126961, 126978)], '1b': [(285435, 285458)], '2': [(285485, 285516)], '3': [(286210, 286236)], '5': [(287342, 287368)], '6': [(303300, 303320)], '7': [(304313, 304334)], '7a': [(360731, 360764)], '8': [(362655, 362685)], '9': [(362853, 362880)], '9b': [(365776, 365802)], '10': [(368178, 368207)], '11': [], '12': [(416989, 417018)], '13': [(394140, 394158), (424567, 424586)], '14': [(429294, 429325)], '15': [(430344, 430374)]}\n",
      "[WARNING] /home/alex/Desktop/filtered_text_data/nd_data/2014/QTR1/20140324_10-K_edgar_data_1515673_0001564590-14-000963_1.txt failed parsing\n"
     ]
    },
    {
     "name": "stderr",
     "output_type": "stream",
     "text": [
      " 59%|█████▉    | 59/100 [01:19<00:39,  1.03it/s]\n",
      " 60%|██████    | 60/100 [01:21<00:40,  1.02s/it]\n",
      " 61%|██████    | 61/100 [01:21<00:37,  1.04it/s]\n",
      "61it [01:21,  1.04it/s]\u001b[A"
     ]
    },
    {
     "name": "stdout",
     "output_type": "stream",
     "text": [
      "[ERROR] list index out of range in parser.clean_first_markers (10-Q)\n",
      "This is the res\n",
      " {'_i_1': [(4197, 4246)], '_i_2': [(34658, 34708)], '_i_3': [(74737, 74790)], '_i_4': [(75390, 75439)], 'ii_1': [(76437, 76467)], 'ii_1a': [], 'ii_6': [(4120, 4139), (77933, 77965)]}\n",
      "[WARNING] /home/alex/Desktop/filtered_text_data/nd_data/2013/QTR2/20130507_10-Q_edgar_data_1474735_0001474735-13-000014_1.txt failed parsing\n"
     ]
    },
    {
     "name": "stderr",
     "output_type": "stream",
     "text": [
      " 62%|██████▏   | 62/100 [01:23<00:46,  1.23s/it]\n",
      " 63%|██████▎   | 63/100 [01:25<00:48,  1.31s/it]\n",
      " 64%|██████▍   | 64/100 [01:26<00:50,  1.40s/it]\n",
      " 65%|██████▌   | 65/100 [01:27<00:43,  1.26s/it]\n",
      " 66%|██████▌   | 66/100 [01:28<00:39,  1.15s/it]\n",
      " 67%|██████▋   | 67/100 [01:29<00:34,  1.04s/it]\n",
      " 68%|██████▊   | 68/100 [01:36<01:27,  2.74s/it]\n",
      " 69%|██████▉   | 69/100 [01:37<01:10,  2.26s/it]\n",
      " 70%|███████   | 70/100 [01:38<00:57,  1.92s/it]\n",
      " 71%|███████   | 71/100 [01:39<00:47,  1.62s/it]\n",
      " 72%|███████▏  | 72/100 [01:41<00:51,  1.83s/it]\n",
      " 73%|███████▎  | 73/100 [01:42<00:42,  1.59s/it]\n",
      " 74%|███████▍  | 74/100 [01:44<00:41,  1.61s/it]\n",
      " 75%|███████▌  | 75/100 [01:46<00:41,  1.66s/it]\n",
      " 76%|███████▌  | 76/100 [01:47<00:38,  1.59s/it]\n",
      " 77%|███████▋  | 77/100 [01:48<00:33,  1.47s/it]\n",
      " 78%|███████▊  | 78/100 [01:51<00:41,  1.91s/it]\n",
      " 79%|███████▉  | 79/100 [01:52<00:33,  1.60s/it]\n",
      " 81%|████████  | 81/100 [01:55<00:29,  1.53s/it]\n",
      " 82%|████████▏ | 82/100 [01:56<00:26,  1.48s/it]\n",
      " 83%|████████▎ | 83/100 [01:57<00:22,  1.34s/it]\n",
      " 84%|████████▍ | 84/100 [01:59<00:22,  1.43s/it]\n",
      "84it [01:59,  1.43s/it]\u001b[A"
     ]
    },
    {
     "name": "stdout",
     "output_type": "stream",
     "text": [
      "[ERROR] list index out of range in parser.clean_first_markers (10-Q)\n",
      "This is the res\n",
      " {'_i_1': [(4651, 4672)], '_i_2': [(47471, 47490)], '_i_3': [(118506, 118527)], '_i_4': [(121108, 121126)], 'ii_1': [(123139, 123154)], 'ii_1a': [(124112, 124127)], 'ii_2': [(124321, 124343)], 'ii_5': [], 'ii_6': [(125294, 125311)]}\n",
      "[WARNING] /home/alex/Desktop/filtered_text_data/nd_data/2014/QTR3/20140801_10-Q_edgar_data_1507615_0001507615-14-000052_1.txt failed parsing\n"
     ]
    },
    {
     "name": "stderr",
     "output_type": "stream",
     "text": [
      " 85%|████████▌ | 85/100 [02:03<00:31,  2.12s/it]\n",
      " 86%|████████▌ | 86/100 [02:04<00:24,  1.78s/it]\n",
      " 87%|████████▋ | 87/100 [02:06<00:25,  1.95s/it]\n",
      " 88%|████████▊ | 88/100 [02:07<00:20,  1.68s/it]\n",
      " 89%|████████▉ | 89/100 [02:08<00:15,  1.45s/it]\n",
      " 90%|█████████ | 90/100 [02:09<00:12,  1.28s/it]\n",
      " 91%|█████████ | 91/100 [02:11<00:13,  1.45s/it]\n",
      " 92%|█████████▏| 92/100 [02:13<00:13,  1.66s/it]\n",
      " 93%|█████████▎| 93/100 [02:13<00:08,  1.24s/it]\n",
      "93it [02:13,  1.24s/it]\u001b[A"
     ]
    },
    {
     "name": "stdout",
     "output_type": "stream",
     "text": [
      "[ERROR] list index out of range in parser.clean_first_markers (10-Q)\n",
      "This is the res\n",
      " {'_i_2': [(83751, 83771)], '_i_3': [(124720, 124742)], '_i_4': [(127387, 127405)], 'ii_1': [], 'ii_1a': [(6219, 6234), (130859, 130874), (130952, 130967)], 'ii_2': [(137072, 137094)], 'ii_6': [(138278, 138296)]}\n",
      "[WARNING] /home/alex/Desktop/filtered_text_data/nd_data/2014/QTR4/20141107_10-Q_edgar_data_1319229_0001558370-14-000345_1.txt failed parsing\n"
     ]
    },
    {
     "name": "stderr",
     "output_type": "stream",
     "text": [
      " 94%|█████████▍| 94/100 [02:14<00:07,  1.17s/it]\n",
      "94it [02:14,  1.17s/it]\u001b[A"
     ]
    },
    {
     "name": "stdout",
     "output_type": "stream",
     "text": [
      "[ERROR] list index out of range in parser.clean_first_markers (10-K)\n",
      "This is the res\n",
      " {'1': [(8529, 8547), (12841, 12901)], '1a': [(8548, 8564), (53118, 53133), (53392, 53407)], '1b': [(170981, 171044)], '7': [(179133, 179153)], '7a': [], '9a': [(270004, 270065)], '9b': [(274665, 274723)], '15': [(41107, 41126), (119314, 119333), (237548, 237567), (241180, 241199), (260234, 260253), (269735, 269754)]}\n",
      "[WARNING] /home/alex/Desktop/filtered_text_data/nd_data/2014/QTR1/20140311_10-K_edgar_data_1352010_0001352010-14-000007_1.txt failed parsing\n"
     ]
    },
    {
     "name": "stderr",
     "output_type": "stream",
     "text": [
      " 95%|█████████▌| 95/100 [02:15<00:05,  1.08s/it]\n",
      "95it [02:15,  1.08s/it]\u001b[A"
     ]
    },
    {
     "name": "stdout",
     "output_type": "stream",
     "text": [
      "[ERROR] list index out of range in parser.clean_first_markers (10-K)\n",
      "This is the res\n",
      " {'1': [(8221, 8239)], '3': [(242183, 242198)], '5': [(268236, 268252)], '7': [], '15': [(269788, 269812)]}\n",
      "[WARNING] /home/alex/Desktop/filtered_text_data/nd_data/2014/QTR1/20140210_10-K_edgar_data_24741_0001308179-14-000032_1.txt failed parsing\n"
     ]
    },
    {
     "name": "stderr",
     "output_type": "stream",
     "text": [
      " 96%|█████████▌| 96/100 [02:15<00:03,  1.14it/s]\n",
      " 97%|█████████▋| 97/100 [02:16<00:02,  1.19it/s]\n",
      " 98%|█████████▊| 98/100 [02:17<00:01,  1.33it/s]\n",
      " 99%|█████████▉| 99/100 [02:17<00:00,  1.29it/s]\n",
      "100%|██████████| 100/100 [02:23<00:00,  2.14s/it]\n",
      "100it [02:22,  2.14s/it]\u001b[A"
     ]
    },
    {
     "name": "stdout",
     "output_type": "stream",
     "text": [
      "[INFO] 87 CIK were successfully processed - 13/100 CIK failed.\n",
      "Detailed stats and error codes: [87, 13, 0, 0, 0, 0]\n"
     ]
    },
    {
     "name": "stderr",
     "output_type": "stream",
     "text": [
      "\n"
     ]
    }
   ],
   "source": [
    "# Processing the reports will be done in parrallel in a random order\n",
    "# Settings in s are cast to dict for pickling - the custom class is not supported\n",
    "nb_cik_to_process = 100\n",
    "cik_path = {k: cik_path[k] for k in cik_path.keys() if k in list(cik_path.keys())[:nb_cik_to_process]}\n",
    "\n",
    "# print(list(cik_path.keys()).index(10456))  # Find BAX\n",
    "cik_scores = {k: 0 for k in cik_path.keys()}  # Organized by ticker\n",
    "data_to_process = ([k, v, {**s}, lm_dictionary] for k, v in cik_path.items())\n",
    "assert cik_path.keys() == cik_scores.keys()\n",
    "#print(data_to_process)\n",
    "#result = process_cik(data_to_process[0])\n",
    "#cik_perf[result[0]] = result[1]\n",
    "#print(cik_perf)\n",
    "#assert 0\n",
    "processing_stats = [0, 0, 0, 0, 0, 0]\n",
    "#qtr_metric_result = {key: [] for key in s['list_qtr']}\n",
    "if nb_processes_requested > 1:\n",
    "    with mp.Pool(processes=nb_processes_requested) as p:\n",
    "    #with mp.Pool(processes=min(mp.cpu_count(), 1)) as p:\n",
    "        print(\"[INFO] Starting a pool of {} workers\".format(nb_processes_requested))\n",
    "\n",
    "        with tqdm(total=nb_cik_to_process) as pbar:\n",
    "            for i, value in tqdm(enumerate(p.imap_unordered(processing.process_cik, data_to_process))):\n",
    "                pbar.update()\n",
    "                #qtr = list_qtr[i]\n",
    "                # Each quarter gets a few metrics\n",
    "                if value[1] == {}:\n",
    "                    # The parsing failed\n",
    "                    del cik_scores[value[0]]\n",
    "                else:\n",
    "                    cik_scores[value[0]] = value[1]\n",
    "                processing_stats[value[2]] += 1\n",
    "\n",
    "elif nb_processes_requested == 1:\n",
    "    print(\"[INFO] Running on {} core (multiprocessing is off)\".format(nb_processes_requested))\n",
    "    # print(list(data_to_process))\n",
    "    with tqdm(total=nb_cik_to_process) as pbar:\n",
    "        for i, value in tqdm(enumerate(map(processing.process_cik, data_to_process))):\n",
    "            pbar.update()\n",
    "            #qtr = list_qtr[i]\n",
    "            # Each quarter gets a few metrics\n",
    "            if value[1] == {}:\n",
    "                # The parsing failed\n",
    "                del cik_scores[value[0]]\n",
    "            else:\n",
    "                cik_scores[value[0]] = value[1]\n",
    "            processing_stats[value[2]] += 1\n",
    "\n",
    "elif nb_processes_requested == 0:\n",
    "    # Spark mode!!\n",
    "    print(\"[INFO] Running with Spark\")\n",
    "    sc = pyspark.SparkContext(appName=\"model_calculations\")\n",
    "    print(\"[INFO] Context started\")\n",
    "    spark_result = sc.parallelize(data_to_process).map(processing.process_cik)\n",
    "    spark_result = spark_result.take(nb_cik_to_process)\n",
    "    sc.stop()\n",
    "    \n",
    "    # Process the result\n",
    "    with tqdm(total=nb_cik_to_process) as pbar:\n",
    "        for i, value in tqdm(enumerate(spark_result)):\n",
    "            pbar.update()\n",
    "            #qtr = list_qtr[i]\n",
    "            # Each quarter gets a few metrics\n",
    "            if value[1] == {}:\n",
    "                # The parsing failed\n",
    "                del cik_scores[value[0]]\n",
    "            else:\n",
    "                cik_scores[value[0]] = value[1]\n",
    "            processing_stats[value[2]] += 1\n",
    "           \n",
    "        #qtr_metric_result[value['0']['qtr']] = value\n",
    "\n",
    "print(\"[INFO] {} CIK were successfully processed - {}/{} CIK failed.\".format(len(cik_scores), len(cik_path)-len(cik_scores), len(cik_path)))\n",
    "print(\"Detailed stats and error codes:\", processing_stats)"
   ]
  },
  {
   "cell_type": "markdown",
   "metadata": {},
   "source": [
    "# Post-processing - Welcome to the gettho"
   ]
  },
  {
   "cell_type": "markdown",
   "metadata": {},
   "source": [
    "## Flip the result dictionary to present a per qtr view"
   ]
  },
  {
   "cell_type": "code",
   "execution_count": 25,
   "metadata": {},
   "outputs": [],
   "source": [
    "def make_quintiles(qtr_data, s, winsorize = 0.01, verbose=False):\n",
    "    # 1. Isolate the non zero CIKs\n",
    "    non_zero_ciks = {cik: v for cik, v in qtr_data.items() if v != {}}\n",
    "    if verbose:\n",
    "        print(\"[INFO] Non zero ciks: {}/{}\".format(len(non_zero_ciks), len(qtr_data)))\n",
    "    sorted_ciks = sorted(non_zero_ciks, key=lambda x: non_zero_ciks[x]['total'] if non_zero_ciks[x] != {} else 0)\n",
    "\n",
    "    # 2. Winsorize to remove outliers\n",
    "    start = round(len(sorted_ciks)*winsorize)  # Output an int\n",
    "    end = len(sorted_ciks) - start  # Stays an int\n",
    "    sorted_ciks = sorted_ciks[start:end]\n",
    "    if verbose:\n",
    "        print(\"[INFO] Left with {}/{} elements after winsorizing\".format(len(sorted_ciks), len(qtr_data)))\n",
    "\n",
    "    # 3. Make quintiles/deciles\n",
    "    splits = np.linspace(0, len(sorted_ciks), s['bin_count']+1, endpoint=True, dtype=np.int)\n",
    "    quintiles = dict()\n",
    "    # Make sure bins are in increasing order: Q1 -> Q5. Otherwise, sorted_ciks' order needs to be reversed.\n",
    "    assert int(s['bin_labels'][-1][1:]) > int(s['bin_labels'][0][1:])\n",
    "    for idx, l in enumerate(s['bin_labels']):\n",
    "        quintiles[l] = {cik: qtr_data[cik] for cik in sorted_ciks[splits[idx]:splits[idx+1]]}\n",
    "    \n",
    "    # Sanity check: Verify that the quintiles worked as expected. O(N**2).\n",
    "    for idx in range(1, len(s['bin_labels'])):\n",
    "        for cik in quintiles[s['bin_labels'][idx]]:\n",
    "            for cik_previous in quintiles[s['bin_labels'][idx-1]]:\n",
    "                try:\n",
    "                    assert qtr_data[cik]['total'] >= qtr_data[cik_previous]['total']\n",
    "                except:\n",
    "                    print(cik, qtr_data[cik])\n",
    "                    print(cik_previous, qtr_data[cik_previous])\n",
    "                    raise\n",
    "     \n",
    "    return quintiles"
   ]
  },
  {
   "cell_type": "code",
   "execution_count": 26,
   "metadata": {},
   "outputs": [],
   "source": [
    "metric_scores = {m: {qtr: {cik: {} for cik in cik_scores} for qtr in s['list_qtr'][s['lag']:]} for m in s['metrics']}"
   ]
  },
  {
   "cell_type": "code",
   "execution_count": 27,
   "metadata": {},
   "outputs": [
    {
     "name": "stderr",
     "output_type": "stream",
     "text": [
      "100%|██████████| 87/87 [00:00<00:00, 2929.90it/s]"
     ]
    },
    {
     "name": "stdout",
     "output_type": "stream",
     "text": [
      "[WARNING] There is no stock data for 712771 during (2014, 3)\n",
      "[WARNING] There is no stock data for 1376339 during (2012, 2)\n",
      "[WARNING] There is no stock data for 352363 during (2012, 2)\n",
      "[WARNING] There is no stock data for 778438 during (2014, 1)\n",
      "[WARNING] There is no stock data for 1294538 during (2012, 3)\n",
      "Unique cik {712771, 778438, 1294538, 352363, 1376339}\n"
     ]
    },
    {
     "name": "stderr",
     "output_type": "stream",
     "text": [
      "\n"
     ]
    }
   ],
   "source": [
    "pnf = []\n",
    "for cik in tqdm(cik_scores):\n",
    "    for qtr in cik_scores[cik]:\n",
    "        _, _, flag_price_found = post_processing.get_share_price(cik, qtr, lookup, stock_data)\n",
    "        if not flag_price_found:\n",
    "            print(\"[WARNING] There is no stock data for {} during {}\".format(cik, qtr))\n",
    "            pnf.append(cik)\n",
    "            break  # That CIK from cik_scores will be left unpopulated and subsequently discarded\n",
    "        sections = [section for section in cik_scores[cik][qtr] if section != '0' and section != 'total']\n",
    "        for section in sections:\n",
    "            for m in s['metrics']:\n",
    "                metric_scores[m][qtr][cik][section] = cik_scores[cik][qtr][section][m]\n",
    "                metric_scores[m][qtr][cik]['total'] = cik_scores[cik][qtr]['total'][m]\n",
    "                # metric_scores[m][qtr][cik]['0'] = cik_scores[cik][qtr]['0']\n",
    "print(\"Unique cik\", set(pnf))"
   ]
  },
  {
   "cell_type": "code",
   "execution_count": 28,
   "metadata": {},
   "outputs": [
    {
     "name": "stdout",
     "output_type": "stream",
     "text": [
      "[INFO] Number of companies that do not have data for a given qtr.\n",
      "This is because they are listed later in the time_range\n",
      "(2012, 2) 19/87\n",
      "(2012, 3) 17/87\n",
      "(2012, 4) 20/87\n",
      "(2013, 1) 21/87\n",
      "(2013, 2) 20/87\n",
      "(2013, 3) 16/87\n",
      "(2013, 4) 11/87\n",
      "(2014, 1) 10/87\n",
      "(2014, 2) 10/87\n",
      "(2014, 3) 11/87\n",
      "(2014, 4) 13/87\n"
     ]
    }
   ],
   "source": [
    "print(\"[INFO] Number of companies that do not have data for a given qtr.\")\n",
    "print(\"This is because they are listed later in the time_range\")\n",
    "for qtr in s['list_qtr'][s['lag']:]:\n",
    "    print(qtr, \"{}/{}\".format(len([cik for cik in metric_scores['diff_jaccard'][qtr] \n",
    "                    if metric_scores['diff_jaccard'][qtr][cik] == {}]), len(cik_scores)))"
   ]
  },
  {
   "cell_type": "code",
   "execution_count": 29,
   "metadata": {
    "scrolled": true
   },
   "outputs": [],
   "source": [
    "# metric_scores['diff_jaccard'][(2014, 4)]  # Before\n",
    "def metrics_correlation(metric_scores):\n",
    "    data = []\n",
    "    for m in s['diff_metrics']:\n",
    "        flattened_metric = []\n",
    "        for qtr in s['list_qtr'][s['lag']:]:\n",
    "            for cik in metric_scores[m][qtr]:\n",
    "                if metric_scores[m][qtr][cik] != {}:\n",
    "                    flattened_metric.append(metric_scores[m][qtr][cik]['total'])\n",
    "        data.append(flattened_metric)\n",
    "    df = pd.DataFrame(zip(*data), columns=s['diff_metrics'])\n",
    "    return df"
   ]
  },
  {
   "cell_type": "code",
   "execution_count": 30,
   "metadata": {},
   "outputs": [],
   "source": [
    "df = metrics_correlation(metric_scores)"
   ]
  },
  {
   "cell_type": "code",
   "execution_count": 31,
   "metadata": {},
   "outputs": [
    {
     "data": {
      "text/html": [
       "<div>\n",
       "<style scoped>\n",
       "    .dataframe tbody tr th:only-of-type {\n",
       "        vertical-align: middle;\n",
       "    }\n",
       "\n",
       "    .dataframe tbody tr th {\n",
       "        vertical-align: top;\n",
       "    }\n",
       "\n",
       "    .dataframe thead th {\n",
       "        text-align: right;\n",
       "    }\n",
       "</style>\n",
       "<table border=\"1\" class=\"dataframe\">\n",
       "  <thead>\n",
       "    <tr style=\"text-align: right;\">\n",
       "      <th></th>\n",
       "      <th>diff_sk_cosine_tf</th>\n",
       "      <th>diff_jaccard</th>\n",
       "    </tr>\n",
       "  </thead>\n",
       "  <tbody>\n",
       "    <tr>\n",
       "      <th>0</th>\n",
       "      <td>0.153058</td>\n",
       "      <td>0.006886</td>\n",
       "    </tr>\n",
       "    <tr>\n",
       "      <th>1</th>\n",
       "      <td>0.663549</td>\n",
       "      <td>0.400043</td>\n",
       "    </tr>\n",
       "    <tr>\n",
       "      <th>2</th>\n",
       "      <td>0.264091</td>\n",
       "      <td>0.020048</td>\n",
       "    </tr>\n",
       "    <tr>\n",
       "      <th>3</th>\n",
       "      <td>0.592997</td>\n",
       "      <td>0.217140</td>\n",
       "    </tr>\n",
       "    <tr>\n",
       "      <th>4</th>\n",
       "      <td>0.848348</td>\n",
       "      <td>0.378089</td>\n",
       "    </tr>\n",
       "  </tbody>\n",
       "</table>\n",
       "</div>"
      ],
      "text/plain": [
       "   diff_sk_cosine_tf  diff_jaccard\n",
       "0           0.153058      0.006886\n",
       "1           0.663549      0.400043\n",
       "2           0.264091      0.020048\n",
       "3           0.592997      0.217140\n",
       "4           0.848348      0.378089"
      ]
     },
     "execution_count": 31,
     "metadata": {},
     "output_type": "execute_result"
    }
   ],
   "source": [
    "df.head()"
   ]
  },
  {
   "cell_type": "code",
   "execution_count": 32,
   "metadata": {},
   "outputs": [
    {
     "data": {
      "text/html": [
       "<div>\n",
       "<style scoped>\n",
       "    .dataframe tbody tr th:only-of-type {\n",
       "        vertical-align: middle;\n",
       "    }\n",
       "\n",
       "    .dataframe tbody tr th {\n",
       "        vertical-align: top;\n",
       "    }\n",
       "\n",
       "    .dataframe thead th {\n",
       "        text-align: right;\n",
       "    }\n",
       "</style>\n",
       "<table border=\"1\" class=\"dataframe\">\n",
       "  <thead>\n",
       "    <tr style=\"text-align: right;\">\n",
       "      <th></th>\n",
       "      <th>diff_sk_cosine_tf</th>\n",
       "      <th>diff_jaccard</th>\n",
       "    </tr>\n",
       "  </thead>\n",
       "  <tbody>\n",
       "    <tr>\n",
       "      <th>diff_sk_cosine_tf</th>\n",
       "      <td>1.000000</td>\n",
       "      <td>0.921175</td>\n",
       "    </tr>\n",
       "    <tr>\n",
       "      <th>diff_jaccard</th>\n",
       "      <td>0.921175</td>\n",
       "      <td>1.000000</td>\n",
       "    </tr>\n",
       "  </tbody>\n",
       "</table>\n",
       "</div>"
      ],
      "text/plain": [
       "                   diff_sk_cosine_tf  diff_jaccard\n",
       "diff_sk_cosine_tf           1.000000      0.921175\n",
       "diff_jaccard                0.921175      1.000000"
      ]
     },
     "execution_count": 32,
     "metadata": {},
     "output_type": "execute_result"
    }
   ],
   "source": [
    "df.corr()"
   ]
  },
  {
   "cell_type": "code",
   "execution_count": 33,
   "metadata": {},
   "outputs": [
    {
     "name": "stdout",
     "output_type": "stream",
     "text": [
      "<class 'pandas.core.frame.DataFrame'>\n",
      "RangeIndex: 789 entries, 0 to 788\n",
      "Data columns (total 2 columns):\n",
      "diff_sk_cosine_tf    789 non-null float64\n",
      "diff_jaccard         789 non-null float64\n",
      "dtypes: float64(2)\n",
      "memory usage: 12.4 KB\n"
     ]
    }
   ],
   "source": [
    "df.info()"
   ]
  },
  {
   "cell_type": "code",
   "execution_count": 34,
   "metadata": {},
   "outputs": [],
   "source": [
    "# Create the quintiles - do not re-run that cell or it will crash!\n",
    "for m in s['metrics']:\n",
    "    for qtr in s['list_qtr'][s['lag']:]:\n",
    "        metric_scores[m][qtr] = make_quintiles(metric_scores[m][qtr], s)"
   ]
  },
  {
   "cell_type": "code",
   "execution_count": 35,
   "metadata": {},
   "outputs": [
    {
     "data": {
      "text/plain": [
       "dict_keys([(2012, 2), (2012, 3), (2012, 4), (2013, 1), (2013, 2), (2013, 3), (2013, 4), (2014, 1), (2014, 2), (2014, 3), (2014, 4)])"
      ]
     },
     "execution_count": 35,
     "metadata": {},
     "output_type": "execute_result"
    }
   ],
   "source": [
    "metric_scores['diff_jaccard'].keys()"
   ]
  },
  {
   "cell_type": "code",
   "execution_count": 36,
   "metadata": {},
   "outputs": [
    {
     "name": "stdout",
     "output_type": "stream",
     "text": [
      "Unique cik set()\n"
     ]
    }
   ],
   "source": [
    "# Sanity check: Verify that there are no CIK left for which we do not have stock prices.\n",
    "pnf = []\n",
    "for m in s['metrics']:\n",
    "    for qtr in s['list_qtr'][s['lag']:]:\n",
    "        for l in s['bin_labels']:\n",
    "            for cik in metric_scores[m][qtr][l]:\n",
    "                _, _, flag_price_found = post_processing.get_share_price(cik, qtr, lookup, stock_data)\n",
    "                if not flag_price_found:\n",
    "                    print(\"[WARNING] [{}] No stock data for {} during {}\".format(m, cik, qtr))\n",
    "                    pnf.append(cik)\n",
    "print(\"Unique cik\", set(pnf))           "
   ]
  },
  {
   "cell_type": "code",
   "execution_count": 37,
   "metadata": {
    "scrolled": true
   },
   "outputs": [
    {
     "data": {
      "text/plain": [
       "{'Q1': {851968: {'1a': 0.0009041591320072332,\n",
       "   'total': 0.007628985026373538,\n",
       "   '3': 0.006920415224913495,\n",
       "   '7': 0.0072992700729927005,\n",
       "   '7a': 0.003912800447177194,\n",
       "   '9a': 0.01910828025477707},\n",
       "  1261694: {'1a': 0.0005449591280653951,\n",
       "   'total': 0.008754270599730163,\n",
       "   '3': 0.001520912547528517,\n",
       "   '7': 0.006056527590847914,\n",
       "   '7a': 0.024896265560165973,\n",
       "   '9a': 0.010752688172043012},\n",
       "  917520: {'1a': 0.0004950495049504951,\n",
       "   'total': 0.010838747068026757,\n",
       "   '3': 0.007352941176470588,\n",
       "   '7': 0.00508646998982706,\n",
       "   '7a': 0.023715415019762844,\n",
       "   '9a': 0.017543859649122806},\n",
       "  884905: {'1a': 0.0012360939431396785,\n",
       "   'total': 0.014134359135284326,\n",
       "   '3': 0.02631578947368421,\n",
       "   '7': 0.00591016548463357,\n",
       "   '7a': 0.020066889632107024,\n",
       "   '9a': 0.017142857142857144},\n",
       "  860413: {'1a': 0.013199245757385292,\n",
       "   'total': 0.014536631809069599,\n",
       "   '3': 0.021904761904761906,\n",
       "   '7': 0.00496031746031746,\n",
       "   '7a': 0.01488833746898263,\n",
       "   '9a': 0.01773049645390071},\n",
       "  1179929: {'1a': 0.010638297872340425,\n",
       "   'total': 0.015175485270155473,\n",
       "   '3': 0.006369426751592357,\n",
       "   '7': 0,\n",
       "   '7a': 0.038461538461538464,\n",
       "   '9a': 0.02040816326530612},\n",
       "  1368265: {'1a': 0.0006277463904582549,\n",
       "   'total': 0.01643647267979336,\n",
       "   '3': 0.019417475728155338,\n",
       "   '7': 0.005625,\n",
       "   '7a': 0.023178807947019868,\n",
       "   '9a': 0.03333333333333333},\n",
       "  1122388: {'1a': 0.0006958942240779402,\n",
       "   'total': 0.02051337262157823,\n",
       "   '3': 0.030303030303030304,\n",
       "   '7': 0.00517464424320828,\n",
       "   '7a': 0.037267080745341616,\n",
       "   '9a': 0.02912621359223301},\n",
       "  1056923: {'1a': 0.0625,\n",
       "   'total': 0.03225800294447278,\n",
       "   '3': 0.041666666666666664,\n",
       "   '7': 0.009879253567508232,\n",
       "   '7a': 0.047244094488188976,\n",
       "   '9a': 0},\n",
       "  811156: {'1a': 0.000664451827242525,\n",
       "   'total': 0.0813081009524238,\n",
       "   '3': 0.013513513513513514,\n",
       "   '7': 0.24242424242424243,\n",
       "   '7a': 0.13636363636363635,\n",
       "   '9a': 0.013574660633484163},\n",
       "  319654: {'1a': 0.004103967168262654,\n",
       "   'total': 0.08258318410971609,\n",
       "   '3': 0.05263157894736842,\n",
       "   '7': 0.00430416068866571,\n",
       "   '7a': 0.0196078431372549,\n",
       "   '9a': 0.33226837060702874},\n",
       "  106535: {'1a': 0.013888888888888888,\n",
       "   'total': 0.17365375818844866,\n",
       "   '3': 0.08333333333333333,\n",
       "   '7': 0.1566265060240964,\n",
       "   '7a': 0.5454545454545454,\n",
       "   '9a': 0.06896551724137931}},\n",
       " 'Q2': {1433660: {'1a': 0.016679302501895376,\n",
       "   'total': 0.19709099086069487,\n",
       "   '3': 0.0970873786407767,\n",
       "   '7': 0.4397068620919387,\n",
       "   '7a': 0.05555555555555555,\n",
       "   '9a': 0.376425855513308},\n",
       "  1171500: {'1a': 0.003178639542275906,\n",
       "   'total': 0.19988783255130027,\n",
       "   '3': 0.016129032258064516,\n",
       "   '7': 0.4818435754189944,\n",
       "   '7a': 0.19767441860465115,\n",
       "   '9a': 0.3006134969325153},\n",
       "  712771: {'1a': 0.0024390243902439024,\n",
       "   'total': 0.20285347150977126,\n",
       "   '3': 0.2575107296137339,\n",
       "   '7': 0.48250460405156537,\n",
       "   '7a': 0.0017833259028087382,\n",
       "   '9a': 0.27002967359050445},\n",
       "  352541: {'1a': 0.03225806451612903,\n",
       "   'total': 0.21135951073067205,\n",
       "   '3': 0.01818181818181818,\n",
       "   '7': 0.027106658809664112,\n",
       "   '7a': 0.3157894736842105,\n",
       "   '9a': 0.6634615384615384},\n",
       "  40987: {'1a': 0.046052631578947366,\n",
       "   'total': 0.21741996998105362,\n",
       "   '3': 1.0,\n",
       "   '7': 0.004608294930875576,\n",
       "   '7a': 0.01904761904761905,\n",
       "   '9a': 0.017391304347826087},\n",
       "  1163370: {'1a': 0.05,\n",
       "   'total': 0.21806002555818535,\n",
       "   '3': 0.01848560255954497,\n",
       "   '7': 0.0037965072133637054,\n",
       "   '7a': 1.0,\n",
       "   '9a': 0.018018018018018018},\n",
       "  1057058: {'1a': 0.0024405125076266015,\n",
       "   'total': 0.22474278783514853,\n",
       "   '3': 0.5777777777777777,\n",
       "   '7': 0.5209059233449478,\n",
       "   '7a': 0.010344827586206896,\n",
       "   '9a': 0.012244897959183673},\n",
       "  1040593: {'1a': 0.010980392156862745,\n",
       "   'total': 0.2316576596669642,\n",
       "   '3': 0.7586206896551724,\n",
       "   '7': 0.012167300380228136,\n",
       "   '7a': 0.044444444444444446,\n",
       "   '9a': 0.3320754716981132},\n",
       "  1032208: {'1a': 0.16403940886699508,\n",
       "   'total': 0.2427111612823408,\n",
       "   '3': 0.7727272727272727,\n",
       "   '7': 0.014470284237726097,\n",
       "   '7a': 0.1826086956521739,\n",
       "   '9a': 0.07971014492753623},\n",
       "  1171662: {'1a': 0.12401975021783329,\n",
       "   'total': 0.24459168470265638,\n",
       "   '3': 0.019583843329253364,\n",
       "   '7': 0.35321747299201506,\n",
       "   '7a': 0.16004540295119182,\n",
       "   '9a': 0.5660919540229885},\n",
       "  106640: {'1a': 0.044923629829290206,\n",
       "   'total': 0.260441614169283,\n",
       "   '3': 0.3695652173913043,\n",
       "   '7': 0.01843817787418655,\n",
       "   '7a': 0.2222222222222222,\n",
       "   '9a': 0.6470588235294118},\n",
       "  704532: {'1a': 0.14432989690721648,\n",
       "   'total': 0.2611157490387027,\n",
       "   '3': 0.16666666666666666,\n",
       "   '7': 0.43618739903069464,\n",
       "   '7a': 0.13074204946996468,\n",
       "   '9a': 0.42765273311897106},\n",
       "  90185: {'1a': 0.038461538461538464,\n",
       "   'total': 0.26531129868929104,\n",
       "   '3': 0.3617021276595745,\n",
       "   '7': 0.634235552304316,\n",
       "   '7a': 0.28353658536585363,\n",
       "   '9a': 0.008620689655172414}},\n",
       " 'Q3': {106532: {'1a': 0.036753445635528334,\n",
       "   'total': 0.2730632437571282,\n",
       "   '3': 0.07142857142857142,\n",
       "   '7': 0.46322827125119387,\n",
       "   '7a': 0.147239263803681,\n",
       "   '9a': 0.6466666666666666},\n",
       "  98362: {'1a': 0.03372243839169909,\n",
       "   'total': 0.28933062935105974,\n",
       "   '3': 0.43820224719101125,\n",
       "   '7': 0.6122655854029397,\n",
       "   '7a': 0.11155378486055777,\n",
       "   '9a': 0.2509090909090909},\n",
       "  1171759: {'1a': 0.0025466893039049238,\n",
       "   'total': 0.30161488082866,\n",
       "   '3': 0.020202020202020204,\n",
       "   '7': 0.5079646017699115,\n",
       "   '7a': 0.7099697885196374,\n",
       "   '9a': 0.2673913043478261},\n",
       "  1179755: {'1a': 0.041666666666666664,\n",
       "   'total': 0.30531257549994273,\n",
       "   '3': 0.8,\n",
       "   '7': 0.13892587660896583,\n",
       "   '7a': 0.04304635761589404,\n",
       "   '9a': 0.5029239766081871},\n",
       "  778438: {'1a': 0.01471571906354515,\n",
       "   'total': 0.31728406878940985,\n",
       "   '3': 0.06321839080459771,\n",
       "   '7': 0.4640625,\n",
       "   '7a': 0.6306306306306306,\n",
       "   '9a': 0.41379310344827586},\n",
       "  1212545: {'1a': 0.06060606060606061,\n",
       "   'total': 0.32117528777710963,\n",
       "   '3': 0.851063829787234,\n",
       "   '7': 0.4071933204881182,\n",
       "   '7a': 0.05042016806722689,\n",
       "   '9a': 0.23659305993690852},\n",
       "  1065280: {'1a': 0.014734144778987828,\n",
       "   'total': 0.32371552330247483,\n",
       "   '3': 0.3673469387755102,\n",
       "   '7': 0.6701916721744877,\n",
       "   '7a': 0.11538461538461539,\n",
       "   '9a': 0.450920245398773},\n",
       "  1073431: {'1a': 0.037399309551208286,\n",
       "   'total': 0.325695466498349,\n",
       "   '3': 0.87248322147651,\n",
       "   '7': 0.4071550255536627,\n",
       "   '7a': 0.04533333333333334,\n",
       "   '9a': 0.2661064425770308},\n",
       "  57528: {'1a': 0.08604407135362015,\n",
       "   'total': 0.3369142732979221,\n",
       "   '3': 0.3881278538812785,\n",
       "   '7': 0.45808383233532934,\n",
       "   '7a': 0.06363636363636363,\n",
       "   '9a': 0.6886792452830188},\n",
       "  73756: {'1a': 0.0037071362372567192,\n",
       "   'total': 0.337514761516398,\n",
       "   '3': 0.09523809523809523,\n",
       "   '7': 0.39775910364145656,\n",
       "   '7a': 0.8660287081339713,\n",
       "   '9a': 0.3248407643312102},\n",
       "  1040719: {'1a': 0.8774074074074074,\n",
       "   'total': 0.3436032363731385,\n",
       "   '3': 0.052083333333333336,\n",
       "   '7': 0.5429902583650995,\n",
       "   '7a': 0.0472972972972973,\n",
       "   '9a': 0.19823788546255505},\n",
       "  1441849: {'1a': 0.032878098128477494,\n",
       "   'total': 0.35270443817350366,\n",
       "   '3': 0.04398148148148148,\n",
       "   '7': 0.5005488474204172,\n",
       "   '7a': 0.8338870431893688,\n",
       "   '9a': 0.3522267206477733},\n",
       "  868671: {'1a': 0.052783109404990404,\n",
       "   'total': 0.35650091336814926,\n",
       "   '3': 0.6521739130434783,\n",
       "   '7': 0.6754068716094033,\n",
       "   '7a': 0.06880733944954129,\n",
       "   '9a': 0.3333333333333333}},\n",
       " 'Q4': {1138951: {'1a': 0.01954177897574124,\n",
       "   'total': 0.3881728262743639,\n",
       "   '3': 0.1076923076923077,\n",
       "   '7': 0.4526112185686654,\n",
       "   '7a': 0.8095238095238095,\n",
       "   '9a': 0.5514950166112956},\n",
       "  1466538: {'1a': 0.02962962962962963,\n",
       "   'total': 0.3882096681056325,\n",
       "   '3': 0.6374695863746959,\n",
       "   '7': 0.7177522349936143,\n",
       "   '7a': 0.043209876543209874,\n",
       "   '9a': 0.512987012987013},\n",
       "  1089819: {'1a': 0.14634146341463414,\n",
       "   'total': 0.39302059404047535,\n",
       "   '3': 0.10943396226415095,\n",
       "   '7': 0.4885145482388974,\n",
       "   '7a': 0.8359073359073359,\n",
       "   '9a': 0.3849056603773585},\n",
       "  1016125: {'1a': 0.015784586815227482,\n",
       "   'total': 0.39478956631499884,\n",
       "   '3': 0.01694915254237288,\n",
       "   '7': 0.6077127659574468,\n",
       "   '7a': 0.9396551724137931,\n",
       "   '9a': 0.39384615384615385},\n",
       "  49196: {'1a': 0.3333333333333333,\n",
       "   'total': 0.39557199906037116,\n",
       "   '3': 0.09090909090909091,\n",
       "   '7': 0.5813953488372093,\n",
       "   '7a': 0.75,\n",
       "   '9a': 0.2222222222222222},\n",
       "  1122304: {'1a': 0.6206896551724138,\n",
       "   'total': 0.3986975265379801,\n",
       "   '3': 0.08870967741935484,\n",
       "   '7': 0.01529745042492918,\n",
       "   '7a': 0.4583333333333333,\n",
       "   '9a': 0.8104575163398693},\n",
       "  1523733: {'1a': 0.02933038184836746,\n",
       "   'total': 0.39981052352264973,\n",
       "   '3': 1.0,\n",
       "   '7': 0.43044077134986225,\n",
       "   '7a': 0.1495176848874598,\n",
       "   '9a': 0.38976377952755903},\n",
       "  1532063: {'1a': 0.47641509433962265,\n",
       "   'total': 0.4066351322313684,\n",
       "   '3': 0.4344059405940594,\n",
       "   '7': 0.5449844881075491,\n",
       "   '7a': 0.02869757174392936,\n",
       "   '9a': 0.5486725663716814},\n",
       "  1114220: {'1a': 0.0018575851393188853,\n",
       "   'total': 0.41075788237697614,\n",
       "   '3': 0.12280701754385964,\n",
       "   '7': 0.7087959009393681,\n",
       "   '7a': 0.9387755102040817,\n",
       "   '9a': 0.2815533980582524},\n",
       "  1490983: {'1a': 0.01625615763546798,\n",
       "   'total': 0.4193292989468075,\n",
       "   '3': 0.7009345794392523,\n",
       "   '7': 0.5642781875658588,\n",
       "   '7a': 0.432,\n",
       "   '9a': 0.38317757009345793},\n",
       "  729237: {'1a': 0.3333333333333333,\n",
       "   'total': 0.4380808080808081,\n",
       "   '3': 0.06666666666666667,\n",
       "   '7': 0.8181818181818182,\n",
       "   '7a': 0.75,\n",
       "   '9a': 0.2222222222222222},\n",
       "  1163348: {'1a': 0.02973977695167286,\n",
       "   'total': 0.4393018347762746,\n",
       "   '3': 0.3378995433789954,\n",
       "   '7': 0.5114893617021277,\n",
       "   '7a': 0.8675324675324675,\n",
       "   '9a': 0.44984802431610943},\n",
       "  884887: {'1a': 0.03868312757201646,\n",
       "   'total': 0.46915977122765506,\n",
       "   '3': 0.6677524429967426,\n",
       "   '7': 0.5898572131954702,\n",
       "   '7a': 0.2982107355864811,\n",
       "   '9a': 0.7512953367875648}},\n",
       " 'Q5': {1507385: {'1a': 0.09491371480472298,\n",
       "   'total': 0.4710750151639434,\n",
       "   '3': 0.4264705882352941,\n",
       "   '7': 0.6658823529411765,\n",
       "   '7a': 0.9362745098039216,\n",
       "   '9a': 0.23183391003460208},\n",
       "  1392972: {'1a': 0.08859060402684564,\n",
       "   'total': 0.4743646888777741,\n",
       "   '3': 0.4857142857142857,\n",
       "   '7': 0.4645987862440998,\n",
       "   '7a': 0.9354838709677419,\n",
       "   '9a': 0.3974358974358974},\n",
       "  1278021: {'1a': 0.08875739644970414,\n",
       "   'total': 0.47647066974229413,\n",
       "   '3': 0.014925373134328358,\n",
       "   '7': 0.6714531878230902,\n",
       "   '7a': 0.8152173913043478,\n",
       "   '9a': 0.792},\n",
       "  1040426: {'1a': 0.017857142857142856,\n",
       "   'total': 0.4974311944315853,\n",
       "   '3': 0.8135593220338984,\n",
       "   '7': 0.38797169811320753,\n",
       "   '7a': 0.7229916897506925,\n",
       "   '9a': 0.5447761194029851},\n",
       "  1220754: {'1a': 0.11601513240857503,\n",
       "   'total': 0.5067075365247158,\n",
       "   '3': 0.017857142857142856,\n",
       "   '7': 0.6278766825879288,\n",
       "   '7a': 0.8805970149253731,\n",
       "   '9a': 0.8911917098445595},\n",
       "  82166: {'1a': 0.024203821656050957,\n",
       "   'total': 0.5345797881590629,\n",
       "   '3': 0.6263736263736264,\n",
       "   '7': 0.48714810281517745,\n",
       "   '7a': 0.9555555555555556,\n",
       "   '9a': 0.5796178343949044},\n",
       "  1130591: {'1a': 0.8410404624277457,\n",
       "   'total': 0.5564897582695233,\n",
       "   '3': 0.46537396121883656,\n",
       "   '7': 0.47716049382716047,\n",
       "   '7a': 0.7905405405405406,\n",
       "   '9a': 0.20833333333333334},\n",
       "  1097864: {'1a': 0.2255598033861278,\n",
       "   'total': 0.5801608875007518,\n",
       "   '3': 0.6046511627906976,\n",
       "   '7': 0.5265983406539776,\n",
       "   '7a': 0.915129151291513,\n",
       "   '9a': 0.6288659793814433},\n",
       "  737468: {'1a': 0.023191094619666047,\n",
       "   'total': 0.5930875769352366,\n",
       "   '3': 0.8,\n",
       "   '7': 0.6591393268001704,\n",
       "   '7a': 0.9032258064516129,\n",
       "   '9a': 0.5798816568047337},\n",
       "  1130713: {'1a': 0.844179651695692,\n",
       "   'total': 0.619526981806224,\n",
       "   '3': 0.6,\n",
       "   '7': 0.4731829573934837,\n",
       "   '7a': 0.7189542483660131,\n",
       "   '9a': 0.46131805157593125},\n",
       "  319655: {'1a': 0.007425742574257425,\n",
       "   'total': 0.647449460547697,\n",
       "   '3': 0.9071428571428571,\n",
       "   '7': 1.0,\n",
       "   '7a': 0.8389830508474576,\n",
       "   '9a': 0.483695652173913},\n",
       "  1065049: {'1a': 0.8270453582026283,\n",
       "   'total': 0.73099718911437,\n",
       "   '3': 0.9280575539568345,\n",
       "   '7': 0.702207413577676,\n",
       "   '7a': 0.66875,\n",
       "   '9a': 0.5289256198347108},\n",
       "  1286225: {'1a': 0.9141613924050633,\n",
       "   'total': 0.7328893671318173,\n",
       "   '3': 0.5677655677655677,\n",
       "   '7': 0.5731375747688962,\n",
       "   '7a': 0.8699186991869918,\n",
       "   '9a': 0.7394636015325671}}}"
      ]
     },
     "execution_count": 37,
     "metadata": {},
     "output_type": "execute_result"
    }
   ],
   "source": [
    "metric_scores['diff_jaccard'][(2013, 1)]  # After"
   ]
  },
  {
   "cell_type": "code",
   "execution_count": 38,
   "metadata": {},
   "outputs": [],
   "source": [
    "# Introduce the pf_values\n",
    "pf_values = {m: {qtr: {} for qtr in metric_scores[m]} for m in metric_scores}"
   ]
  },
  {
   "cell_type": "code",
   "execution_count": 39,
   "metadata": {
    "scrolled": true
   },
   "outputs": [],
   "source": [
    "# This first pass populates the pf with the relevant ciks.\n",
    "\n",
    "for m in s['metrics']:\n",
    "    for idx, qtr in enumerate(s['list_qtr'][s['lag']:]):\n",
    "        if idx == 0:  # qtr == s['list_qtr'][s['lag']]\n",
    "            data = {l: {cik: [] for cik in metric_scores[m][qtr][l]} for l in s['bin_labels']}\n",
    "            pf_values[m][qtr]['incoming_compo'] = {}  # Not useful. Will be copied later\n",
    "            pf_values[m][qtr]['incoming_value'] = {l: s['pf_init_value'] for l in s['bin_labels']}  # Not really useful\n",
    "            pf_values[m][qtr]['new_value'] = {l: s['pf_init_value'] for l in s['bin_labels']}\n",
    "            pf_values[m][qtr]['new_compo'] = data\n",
    "            \n",
    "        elif 0 < idx:  # not the first qtr\n",
    "            data = {l: {cik: [] for cik in metric_scores[m][qtr][l]} for l in s['bin_labels']}\n",
    "            previous_qtr = s['list_qtr'][s['lag']:][idx-1]\n",
    "            # No need to populate the incoming_value. They will be calculated gradually\n",
    "            # pf_values[m][qtr]['incoming_compo'] = copy.deepcopy(pf_values[m][previous_qtr]['new_compo'])\n",
    "            pf_values[m][qtr]['incoming_compo'] = {}\n",
    "            pf_values[m][qtr]['incoming_value'] = {l: 0 for l in s['bin_labels']}\n",
    "            pf_values[m][qtr]['new_value'] = {l: 0 for l in s['bin_labels']}\n",
    "            pf_values[m][qtr]['new_compo'] = data  # Common with idx == 0 case"
   ]
  },
  {
   "cell_type": "code",
   "execution_count": 40,
   "metadata": {
    "scrolled": true
   },
   "outputs": [
    {
     "data": {
      "text/plain": [
       "{'incoming_compo': {},\n",
       " 'incoming_value': {'Q1': 0, 'Q2': 0, 'Q3': 0, 'Q4': 0, 'Q5': 0},\n",
       " 'new_value': {'Q1': 0, 'Q2': 0, 'Q3': 0, 'Q4': 0, 'Q5': 0},\n",
       " 'new_compo': {'Q1': {49196: [],\n",
       "   884905: [],\n",
       "   860413: [],\n",
       "   1179929: [],\n",
       "   1368265: [],\n",
       "   1056923: [],\n",
       "   811156: [],\n",
       "   319654: [],\n",
       "   1433660: [],\n",
       "   106535: [],\n",
       "   1171500: [],\n",
       "   1171662: [],\n",
       "   712771: []},\n",
       "  'Q2': {1040719: [],\n",
       "   1163370: [],\n",
       "   40987: [],\n",
       "   1032208: [],\n",
       "   352541: [],\n",
       "   1040593: [],\n",
       "   884887: [],\n",
       "   1073431: [],\n",
       "   106640: [],\n",
       "   106532: [],\n",
       "   704532: [],\n",
       "   90185: [],\n",
       "   57528: []},\n",
       "  'Q3': {98362: [],\n",
       "   1179755: [],\n",
       "   1212545: [],\n",
       "   1065280: [],\n",
       "   1532063: [],\n",
       "   73756: [],\n",
       "   868671: [],\n",
       "   778438: [],\n",
       "   1089819: [],\n",
       "   1466593: [],\n",
       "   1441849: [],\n",
       "   1122304: [],\n",
       "   1016125: []},\n",
       "  'Q4': {1490983: [],\n",
       "   1130591: [],\n",
       "   1466538: [],\n",
       "   1163348: [],\n",
       "   729237: [],\n",
       "   1138951: [],\n",
       "   1392972: [],\n",
       "   1220754: [],\n",
       "   1556766: [],\n",
       "   1057058: [],\n",
       "   1040426: [],\n",
       "   1171759: [],\n",
       "   1507385: []},\n",
       "  'Q5': {1122388: [],\n",
       "   1523733: [],\n",
       "   1097864: [],\n",
       "   82166: [],\n",
       "   1261694: [],\n",
       "   1278021: [],\n",
       "   917520: [],\n",
       "   319655: [],\n",
       "   737468: [],\n",
       "   1130713: [],\n",
       "   1065049: [],\n",
       "   1212458: [],\n",
       "   1114220: []}}}"
      ]
     },
     "execution_count": 40,
     "metadata": {},
     "output_type": "execute_result"
    }
   ],
   "source": [
    "pf_values['diff_jaccard'][(2013, 2)]"
   ]
  },
  {
   "cell_type": "code",
   "execution_count": 41,
   "metadata": {},
   "outputs": [],
   "source": [
    "def buy_all_pf(funds, pf, lookup, stock_data, method):\n",
    "    \"\"\"\n",
    "    Allocate a given amount of money to a portfolio. Method can be balanced (weighted by market cap) or unbalanced\n",
    "    (each stock gets the same amount of money).\n",
    "    \"\"\"\n",
    "    assert type(funds) == float\n",
    "    nb_cik = len(pf)  # Nb of CIK in that bin\n",
    "    sum_market_caps = 0\n",
    "    \n",
    "    # 1. Update the share price/market_cap for everyone\n",
    "    for cik in pf:\n",
    "        ticker = lookup[cik]\n",
    "        share_price, market_cap, flag_price_found = post_processing.get_share_price(cik, qtr, lookup, stock_data)\n",
    "        pf[cik] = [ticker, share_price, market_cap, 0, 0, 0]  # [..., share_count, $, $/funds]\n",
    "        sum_market_caps += market_cap  # Needed to balance pf\n",
    "    \n",
    "    # 2. Second pass where we split the funds accordingly\n",
    "    for cik in pf:\n",
    "        # 2.1. Calculate the $/shares to purchase\n",
    "        share_price = pf[cik][1]\n",
    "        market_cap = pf[cik][2]\n",
    "        if method == 'balanced':\n",
    "            value = funds*(market_cap/sum_market_caps)  # $ amount depends on your mc\n",
    "        elif method == 'unbalanced':\n",
    "            value = funds*(1/nb_cik)  # $ amount is equal for all stocks\n",
    "        share_count = value/share_price\n",
    "        \n",
    "        # 2.2. Buy the shares -> populate the pf line with the new values\n",
    "        # pf[cik][3:] = [share_count, $, $/funds]\n",
    "        # $ is how much funds we have put in that stock\n",
    "        # $/funds is the ratio of funds in that stock to the total value of the pf\n",
    "        pf[cik][3:] = share_count, value, value/funds\n",
    "    \n",
    "    return pf"
   ]
  },
  {
   "cell_type": "code",
   "execution_count": 42,
   "metadata": {},
   "outputs": [],
   "source": [
    "def sell_all_pf(pf, lookup, stock_data):\n",
    "    \"\"\"\n",
    "    Sell all the stocks in a portfolio. In practice, we just collect the value of the pf with the new updated share\n",
    "    prices.\"\"\"\n",
    "    sum_stock_values = 0\n",
    "    sum_market_caps = 0\n",
    "    # I. First pass to update the stock price and the consequent value held \n",
    "    for cik in pf:\n",
    "        # 1. Update the share price for that CIK/ticker\n",
    "        share_price, market_cap, flag_price_found = post_processing.get_share_price(cik, qtr, lookup, stock_data)\n",
    "        \n",
    "        # 2. Update the value of that line given the new share_price\n",
    "        share_count = pf[cik][3]  # This is invariant at that stage!\n",
    "        updated_value = share_price*share_count\n",
    "        pf[cik][1] = share_price  # Update stock price\n",
    "        pf[cik][2] = market_cap  # Update market cap\n",
    "        pf[cik][4] = updated_value  # Update value of that line\n",
    "        sum_market_caps += market_cap\n",
    "        \n",
    "        # 3. Add that line to the total\n",
    "        sum_stock_values += updated_value\n",
    "    \n",
    "    # II. Re-update all the market_cap ratios with the new value\n",
    "    for cik in pf:\n",
    "        updated_value = pf[cik][4]  # Updated value of that line in our pf\n",
    "        pf[cik][5] = updated_value/sum_stock_values  # This ratio might have gone up or done.\n",
    "        # pf[cik][5] can be useful to see what is our biggest exposure after a qtr. Might have changed.\n",
    "    \n",
    "    return pf, sum_stock_values"
   ]
  },
  {
   "cell_type": "code",
   "execution_count": 43,
   "metadata": {},
   "outputs": [],
   "source": [
    "# Populate the pf for each cik and get overall values\n",
    "for m in s['metrics']:\n",
    "    for idx, qtr in enumerate(s['list_qtr'][s['lag']:]):\n",
    "        if qtr == s['list_qtr'][s['lag']]:  # First quarter\n",
    "            # Perform a new_compo only. Then copy to incoming_compo (not really necessary though)\n",
    "            for l in s['bin_labels']:\n",
    "                quintile_funds = pf_values[m][qtr]['new_value'][l]\n",
    "                assert quintile_funds == 100.0\n",
    "                pf = buy_all_pf(quintile_funds, pf_values[m][qtr]['new_compo'][l], lookup, stock_data, s['pf_balancing'])\n",
    "                pf_values[m][qtr]['new_compo'][l] = pf\n",
    "                pf_values[m][qtr]['incoming_compo'][l] = copy.deepcopy(pf)\n",
    "            #print(pf_values[m][qtr]['new_compo'])\n",
    "            # assert 0\n",
    "        else:\n",
    "            for stage in ['incoming_compo', 'new_compo']:\n",
    "                if stage == 'incoming_compo':\n",
    "                    for l in s['bin_labels']:\n",
    "                        previous_qtr = s['list_qtr'][s['lag']:][idx-1]\n",
    "                        pf_values[m][qtr][stage][l] = copy.deepcopy(pf_values[m][previous_qtr]['new_compo'][l])\n",
    "                        pf, quintile_funds = sell_all_pf(pf_values[m][qtr][stage][l], lookup, stock_data)\n",
    "                        pf_values[m][qtr][stage][l] = pf  # Update the incoming compo with the new prices\n",
    "                        pf_values[m][qtr]['incoming_value'][l] = quintile_funds\n",
    "                        pf_values[m][qtr]['new_value'][l] = quintile_funds*(1-s['tax_rate'])\n",
    "                elif stage == 'new_compo':  # Take all the new_values and buy yourself a pf\n",
    "                    for l in s['bin_labels']:\n",
    "                        quintile_funds = pf_values[m][qtr]['new_value'][l]\n",
    "                        pf = buy_all_pf(quintile_funds, pf_values[m][qtr][stage][l], lookup, stock_data, s['pf_balancing'])\n",
    "                else:\n",
    "                    raise ValueError('[ERROR] Stage {} undefined.'.format(stage))"
   ]
  },
  {
   "cell_type": "code",
   "execution_count": 44,
   "metadata": {},
   "outputs": [],
   "source": [
    "# Sanity checks\n",
    "# 1. Sum of all money invested should equate the funds\n",
    "for m in s['metrics']:\n",
    "    for qtr in s['list_qtr'][s['lag']:]:\n",
    "        for stage in ['incoming_compo', 'new_compo']:\n",
    "            for l in s['bin_labels']:\n",
    "                if stage == 'incoming_compo':\n",
    "                    declared_value = pf_values[m][qtr]['incoming_value'][l]\n",
    "                elif stage == 'new_compo':\n",
    "                    declared_value = pf_values[m][qtr]['new_value'][l]\n",
    "                calculated_pf_value = 0\n",
    "                for cik in pf_values[m][qtr][stage][l]:\n",
    "                    calculated_pf_value += pf_values[m][qtr][stage][l][cik][4]\n",
    "                try:\n",
    "                    assert declared_value - s['epsilon'] < calculated_pf_value < declared_value + s['epsilon']\n",
    "                except:\n",
    "                    print([m],[qtr],[stage],[l])\n",
    "                    print(pf_values[m][qtr]['incoming_value'])\n",
    "                    print(declared_value, calculated_pf_value)\n",
    "                    raise"
   ]
  },
  {
   "cell_type": "code",
   "execution_count": 45,
   "metadata": {},
   "outputs": [
    {
     "data": {
      "text/plain": [
       "{'incoming_compo': {'Q1': {851968: ['MHK',\n",
       "    112.32,\n",
       "    7786696320,\n",
       "    0.08873293510247535,\n",
       "    9.96648327071003,\n",
       "    0.09350608177496882],\n",
       "   1261694: ['TSRA',\n",
       "    18.39,\n",
       "    969153000,\n",
       "    0.4798685370196549,\n",
       "    8.824782395791454,\n",
       "    0.08279458279654486],\n",
       "   917520: ['IART',\n",
       "    39.01,\n",
       "    1096298030,\n",
       "    0.2087912851729458,\n",
       "    8.144948034596615,\n",
       "    0.07641634027662444],\n",
       "   884905: ['PX',\n",
       "    111.03,\n",
       "    32837566620,\n",
       "    0.07345535619090844,\n",
       "    8.155748197876564,\n",
       "    0.07651766798905896],\n",
       "   860413: ['FIBK',\n",
       "    18.8,\n",
       "    346371200,\n",
       "    0.5249609455776922,\n",
       "    9.869265776860615,\n",
       "    0.09259398202193393],\n",
       "   1179929: ['MOH',\n",
       "    30.75,\n",
       "    1394912250,\n",
       "    0.30782333927210176,\n",
       "    9.465567682617129,\n",
       "    0.0888064648017258],\n",
       "   1368265: ['CLNE',\n",
       "    12.63,\n",
       "    1117906560,\n",
       "    0.6297132439336369,\n",
       "    7.953278270881835,\n",
       "    0.07461808425061234],\n",
       "   1122388: ['ELLI',\n",
       "    23.32,\n",
       "    609748040,\n",
       "    0.29613663656334716,\n",
       "    6.905906364657255,\n",
       "    0.06479158472694801],\n",
       "   1056923: ['DTLK',\n",
       "    11.64,\n",
       "    217563240,\n",
       "    0.9353093770190785,\n",
       "    10.887001148502074,\n",
       "    0.10214242998508441],\n",
       "   811156: ['CMS',\n",
       "    27.8,\n",
       "    7392993000,\n",
       "    0.33339253600196184,\n",
       "    9.26831250085454,\n",
       "    0.08695580608335572],\n",
       "   319654: ['PBT',\n",
       "    12.53,\n",
       "    584010770,\n",
       "    0.6593409005461447,\n",
       "    8.261541483843192,\n",
       "    0.07751022628471278],\n",
       "   106535: ['WY',\n",
       "    31.32,\n",
       "    17078608080,\n",
       "    0.28364099117834146,\n",
       "    8.883635843705655,\n",
       "    0.08334674900842996]},\n",
       "  'Q2': {1433660: ['JBT',\n",
       "    20.7,\n",
       "    599016600,\n",
       "    0.5234442879899638,\n",
       "    10.83529676139225,\n",
       "    0.08049237961167646],\n",
       "   1171500: ['PTP',\n",
       "    55.94,\n",
       "    1791422560,\n",
       "    0.2067168920319186,\n",
       "    11.563742940265525,\n",
       "    0.08590380189643249],\n",
       "   712771: ['CNBC',\n",
       "    12.24,\n",
       "    200111760,\n",
       "    0.8300587379875153,\n",
       "    10.159918952967187,\n",
       "    0.07547518736173692],\n",
       "   352541: ['LNT',\n",
       "    49.89,\n",
       "    5537340990,\n",
       "    0.2144103873490126,\n",
       "    10.69693422484224,\n",
       "    0.07946452314763376],\n",
       "   40987: ['GPC',\n",
       "    77.11,\n",
       "    11941871480,\n",
       "    0.14853414494988382,\n",
       "    11.453467917085542,\n",
       "    0.08508459968878117],\n",
       "   1163370: ['NRIM',\n",
       "    22.22,\n",
       "    144718860,\n",
       "    0.4241229134502379,\n",
       "    9.424011136864285,\n",
       "    0.07000833466749254],\n",
       "   1057058: ['WCN',\n",
       "    35.63,\n",
       "    4394176640,\n",
       "    0.2831622260074438,\n",
       "    10.089070112645222,\n",
       "    0.0749488712048447],\n",
       "   1040593: ['CRZO',\n",
       "    25.52,\n",
       "    1030497600,\n",
       "    0.45804471769684946,\n",
       "    11.689301195623598,\n",
       "    0.0868365389479614],\n",
       "   1032208: ['SRE',\n",
       "    79.93,\n",
       "    19455281720,\n",
       "    0.13410676021801896,\n",
       "    10.719153344226257,\n",
       "    0.07962958275158186],\n",
       "   1171662: ['GTS',\n",
       "    17.19,\n",
       "    332145180,\n",
       "    0.49940582481601803,\n",
       "    8.58478612858735,\n",
       "    0.063773967540001],\n",
       "   106640: ['WHR',\n",
       "    116.09,\n",
       "    9123280920,\n",
       "    0.09026753296898367,\n",
       "    10.479157902369314,\n",
       "    0.07784672394887207],\n",
       "   704532: ['NANO',\n",
       "    14.14,\n",
       "    326577440,\n",
       "    0.6346547465530773,\n",
       "    8.974018116260513,\n",
       "    0.066665462770702],\n",
       "   90185: ['SIAL',\n",
       "    76.82,\n",
       "    9244134700,\n",
       "    0.12944342496903075,\n",
       "    9.943843906120941,\n",
       "    0.0738700264622837]},\n",
       "  'Q3': {106532: ['WEYS',\n",
       "    24.13,\n",
       "    260676390,\n",
       "    0.31456914579128803,\n",
       "    7.5905534879437795,\n",
       "    0.0645899245534852],\n",
       "   98362: ['TKR',\n",
       "    55.66,\n",
       "    5344083580,\n",
       "    0.1536596174118162,\n",
       "    8.552694305141689,\n",
       "    0.07277702222578893],\n",
       "   1171759: ['RRGB',\n",
       "    45.07,\n",
       "    637199660,\n",
       "    0.21240290503809833,\n",
       "    9.572998930067092,\n",
       "    0.0814590503348295],\n",
       "   1179755: ['ENH',\n",
       "    48.13,\n",
       "    2082777620,\n",
       "    0.18703900302138401,\n",
       "    9.002187215419212,\n",
       "    0.07660187020403782],\n",
       "   778438: ['BRY',\n",
       "    46.57,\n",
       "    2447113790,\n",
       "    0.21581011291037952,\n",
       "    10.050276958236374,\n",
       "    0.08552032885416985],\n",
       "   1212545: ['WAL',\n",
       "    13.65,\n",
       "    1186799250,\n",
       "    0.6836598041471278,\n",
       "    9.331956326608294,\n",
       "    0.07940795832997007],\n",
       "   1065280: ['NFLX',\n",
       "    182.42999,\n",
       "    10242349358,\n",
       "    0.08188165462125147,\n",
       "    14.937669433738359,\n",
       "    0.12710837796776073],\n",
       "   1073431: ['LIFE',\n",
       "    64.56,\n",
       "    11064228240,\n",
       "    0.14842259735424249,\n",
       "    9.582162885189895,\n",
       "    0.08153702872875472],\n",
       "   57528: ['LNCE',\n",
       "    25.07,\n",
       "    1733715850,\n",
       "    0.30208223904175413,\n",
       "    7.573201732776776,\n",
       "    0.06444227411417436],\n",
       "   73756: ['OII',\n",
       "    66.3,\n",
       "    7173328500,\n",
       "    0.13477515280324415,\n",
       "    8.935592630855087,\n",
       "    0.07603520017141115],\n",
       "   1040719: ['WAC',\n",
       "    35.44,\n",
       "    1307275280,\n",
       "    0.16854431860629412,\n",
       "    5.973210651407063,\n",
       "    0.050827548469191935],\n",
       "   1441849: ['CLD',\n",
       "    18.38,\n",
       "    1123275320,\n",
       "    0.3919839251665634,\n",
       "    7.204664544561434,\n",
       "    0.06130629869159279],\n",
       "   868671: ['GBCI',\n",
       "    18.61,\n",
       "    1340273590,\n",
       "    0.4950020395335971,\n",
       "    9.211987955720241,\n",
       "    0.07838711735483282]},\n",
       "  'Q4': {1138951: ['LF',\n",
       "    8.33,\n",
       "    516576620,\n",
       "    0.8986658293700696,\n",
       "    7.48588635865268,\n",
       "    0.06195907888313401],\n",
       "   1466538: ['COWN',\n",
       "    2.73,\n",
       "    315729960,\n",
       "    3.1148974962229503,\n",
       "    8.503670164688653,\n",
       "    0.07038305756820573],\n",
       "   1089819: ['CNL',\n",
       "    47.04,\n",
       "    2864030400,\n",
       "    0.19013600961866745,\n",
       "    8.943997892462116,\n",
       "    0.07402755590980992],\n",
       "   1016125: ['ULTI',\n",
       "    102.67,\n",
       "    2837080110,\n",
       "    0.07890989821880909,\n",
       "    8.101679250125128,\n",
       "    0.06705586482275942],\n",
       "   49196: ['HBAN',\n",
       "    7.33,\n",
       "    6148096140,\n",
       "    1.1900141119512335,\n",
       "    8.722803440602542,\n",
       "    0.07219677678297508],\n",
       "   1122304: ['AET',\n",
       "    52.39,\n",
       "    17183920000,\n",
       "    0.16904632898420766,\n",
       "    8.85633717548264,\n",
       "    0.07330200692094428],\n",
       "   1523733: ['PDH',\n",
       "    13.35,\n",
       "    1867104300,\n",
       "    0.5616661433562934,\n",
       "    7.498243013806516,\n",
       "    0.062061352272646975],\n",
       "   1532063: ['ESRX',\n",
       "    57.79,\n",
       "    47245000910,\n",
       "    0.1405174823062474,\n",
       "    8.120505302478037,\n",
       "    0.06721168402798201],\n",
       "   1114220: ['KERX',\n",
       "    6.94,\n",
       "    567122920,\n",
       "    2.792283112685573,\n",
       "    19.37844480203788,\n",
       "    0.16039123927310348],\n",
       "   1490983: ['CCG',\n",
       "    14.0,\n",
       "    855120000,\n",
       "    0.6259721949975664,\n",
       "    8.76361072996593,\n",
       "    0.07253452998139902],\n",
       "   729237: ['PKY',\n",
       "    18.56,\n",
       "    1245580160,\n",
       "    0.5463586803298116,\n",
       "    10.140417106921303,\n",
       "    0.0839300616298294],\n",
       "   1163348: ['AWH',\n",
       "    93.03,\n",
       "    3222280110,\n",
       "    0.09783997892028037,\n",
       "    9.102053238953683,\n",
       "    0.0753357461777336],\n",
       "   884887: ['RCL',\n",
       "    32.61,\n",
       "    7147101090,\n",
       "    0.22085855128586454,\n",
       "    7.202197357432042,\n",
       "    0.05961104574947707]},\n",
       "  'Q5': {1507385: ['ARCP',\n",
       "    14.5,\n",
       "    2237669000,\n",
       "    0.6641254261599503,\n",
       "    9.629818679319278,\n",
       "    0.07902953534773528],\n",
       "   1392972: ['PRO',\n",
       "    27.14,\n",
       "    749688220,\n",
       "    0.46138879038488284,\n",
       "    12.522091771045721,\n",
       "    0.10276570382085301],\n",
       "   1278021: ['MKTX',\n",
       "    37.29,\n",
       "    1398598740,\n",
       "    0.2464134339821057,\n",
       "    9.188756953192721,\n",
       "    0.07540985106953495],\n",
       "   1040426: ['SYNT',\n",
       "    66.63,\n",
       "    2776005690,\n",
       "    0.16344898411438852,\n",
       "    10.890605811541706,\n",
       "    0.08937650288160223],\n",
       "   1220754: ['PRSC',\n",
       "    18.39,\n",
       "    239787210,\n",
       "    0.5160304437811284,\n",
       "    9.489799861134951,\n",
       "    0.07788043560769442],\n",
       "   82166: ['RAVN',\n",
       "    32.93,\n",
       "    1196445690,\n",
       "    0.3312008521264862,\n",
       "    10.90644406052519,\n",
       "    0.08950648346582389],\n",
       "   1130591: ['XNPT',\n",
       "    7.09,\n",
       "    336080180,\n",
       "    1.0801072529445384,\n",
       "    7.657960423376776,\n",
       "    0.06284698332592012],\n",
       "   1097864: ['ONNN',\n",
       "    8.1,\n",
       "    3647446200,\n",
       "    1.2120063747423788,\n",
       "    9.817251635413268,\n",
       "    0.08056775116697722],\n",
       "   737468: ['WASH',\n",
       "    26.95,\n",
       "    442653750,\n",
       "    0.33034345347083327,\n",
       "    8.902756071038956,\n",
       "    0.07306271270916322],\n",
       "   1130713: ['OSTK',\n",
       "    12.28,\n",
       "    290422000,\n",
       "    0.5951023971919608,\n",
       "    7.307857437517278,\n",
       "    0.05997377488682967],\n",
       "   319655: ['SJT',\n",
       "    14.79,\n",
       "    689347110,\n",
       "    0.6426249627231174,\n",
       "    9.504423198674907,\n",
       "    0.07800044571478996],\n",
       "   1065049: ['LEAP',\n",
       "    5.82,\n",
       "    460094280,\n",
       "    1.321373813883333,\n",
       "    7.6903955968009985,\n",
       "    0.06311317075581892],\n",
       "   1286225: ['RP',\n",
       "    20.37,\n",
       "    1560158670,\n",
       "    0.40955923804912114,\n",
       "    8.342721679060599,\n",
       "    0.06846664924725704]}},\n",
       " 'incoming_value': {'Q1': 106.58647097089695,\n",
       "  'Q2': 134.61270263925022,\n",
       "  'Q3': 117.51915705766531,\n",
       "  'Q4': 120.81984583360915,\n",
       "  'Q5': 121.85088317864236},\n",
       " 'new_value': {'Q1': 106.58647097089695,\n",
       "  'Q2': 134.61270263925022,\n",
       "  'Q3': 117.51915705766531,\n",
       "  'Q4': 120.81984583360915,\n",
       "  'Q5': 121.85088317864236},\n",
       " 'new_compo': {'Q1': {49196: ['HBAN',\n",
       "    7.33,\n",
       "    6148096140,\n",
       "    1.1185483363511068,\n",
       "    8.198959305453613,\n",
       "    0.07692307692307693],\n",
       "   884905: ['PX',\n",
       "    111.03,\n",
       "    32837566620,\n",
       "    0.07384454026347485,\n",
       "    8.198959305453613,\n",
       "    0.07692307692307693],\n",
       "   860413: ['FIBK',\n",
       "    18.8,\n",
       "    346371200,\n",
       "    0.4361148566730645,\n",
       "    8.198959305453613,\n",
       "    0.07692307692307693],\n",
       "   1179929: ['MOH',\n",
       "    30.75,\n",
       "    1394912250,\n",
       "    0.2666328229415809,\n",
       "    8.198959305453613,\n",
       "    0.07692307692307693],\n",
       "   1368265: ['CLNE',\n",
       "    12.63,\n",
       "    1117906560,\n",
       "    0.6491654240264143,\n",
       "    8.198959305453613,\n",
       "    0.07692307692307693],\n",
       "   1056923: ['DTLK',\n",
       "    11.64,\n",
       "    217563240,\n",
       "    0.7043779472039186,\n",
       "    8.198959305453613,\n",
       "    0.07692307692307693],\n",
       "   811156: ['CMS',\n",
       "    27.8,\n",
       "    7392993000,\n",
       "    0.294926593721353,\n",
       "    8.198959305453613,\n",
       "    0.07692307692307693],\n",
       "   319654: ['PBT',\n",
       "    12.53,\n",
       "    584010770,\n",
       "    0.6543463132844065,\n",
       "    8.198959305453613,\n",
       "    0.07692307692307693],\n",
       "   1433660: ['JBT',\n",
       "    20.7,\n",
       "    599016600,\n",
       "    0.39608499060162383,\n",
       "    8.198959305453613,\n",
       "    0.07692307692307693],\n",
       "   106535: ['WY',\n",
       "    31.32,\n",
       "    17078608080,\n",
       "    0.26178030988038353,\n",
       "    8.198959305453613,\n",
       "    0.07692307692307693],\n",
       "   1171500: ['PTP',\n",
       "    55.94,\n",
       "    1791422560,\n",
       "    0.14656702369420116,\n",
       "    8.198959305453613,\n",
       "    0.07692307692307693],\n",
       "   1171662: ['GTS',\n",
       "    17.19,\n",
       "    332145180,\n",
       "    0.4769609834469815,\n",
       "    8.198959305453613,\n",
       "    0.07692307692307693],\n",
       "   712771: ['CNBC',\n",
       "    12.24,\n",
       "    200111760,\n",
       "    0.6698496164586285,\n",
       "    8.198959305453613,\n",
       "    0.07692307692307693]},\n",
       "  'Q2': {1040719: ['WAC',\n",
       "    35.44,\n",
       "    1307275280,\n",
       "    0.2921789864543546,\n",
       "    10.354823279942325,\n",
       "    0.07692307692307693],\n",
       "   1163370: ['NRIM',\n",
       "    22.22,\n",
       "    144718860,\n",
       "    0.46601364896230085,\n",
       "    10.354823279942325,\n",
       "    0.07692307692307693],\n",
       "   40987: ['GPC',\n",
       "    77.11,\n",
       "    11941871480,\n",
       "    0.13428638671952178,\n",
       "    10.354823279942325,\n",
       "    0.07692307692307693],\n",
       "   1032208: ['SRE',\n",
       "    79.93,\n",
       "    19455281720,\n",
       "    0.12954864606458558,\n",
       "    10.354823279942325,\n",
       "    0.07692307692307693],\n",
       "   352541: ['LNT',\n",
       "    49.89,\n",
       "    5537340990,\n",
       "    0.2075530823800827,\n",
       "    10.354823279942325,\n",
       "    0.07692307692307693],\n",
       "   1040593: ['CRZO',\n",
       "    25.52,\n",
       "    1030497600,\n",
       "    0.405753263320624,\n",
       "    10.354823279942325,\n",
       "    0.07692307692307693],\n",
       "   884887: ['RCL',\n",
       "    32.61,\n",
       "    7147101090,\n",
       "    0.31753521250973094,\n",
       "    10.354823279942325,\n",
       "    0.07692307692307693],\n",
       "   1073431: ['LIFE',\n",
       "    64.56,\n",
       "    11064228240,\n",
       "    0.16039069516639287,\n",
       "    10.354823279942325,\n",
       "    0.07692307692307693],\n",
       "   106640: ['WHR',\n",
       "    116.09,\n",
       "    9123280920,\n",
       "    0.08919651373884335,\n",
       "    10.354823279942325,\n",
       "    0.07692307692307693],\n",
       "   106532: ['WEYS',\n",
       "    24.13,\n",
       "    260676390,\n",
       "    0.4291265346018369,\n",
       "    10.354823279942325,\n",
       "    0.07692307692307693],\n",
       "   704532: ['NANO',\n",
       "    14.14,\n",
       "    326577440,\n",
       "    0.7323071626550441,\n",
       "    10.354823279942325,\n",
       "    0.07692307692307693],\n",
       "   90185: ['SIAL',\n",
       "    76.82,\n",
       "    9244134700,\n",
       "    0.13479332569568245,\n",
       "    10.354823279942325,\n",
       "    0.07692307692307693],\n",
       "   57528: ['LNCE',\n",
       "    25.07,\n",
       "    1733715850,\n",
       "    0.41303642919594435,\n",
       "    10.354823279942325,\n",
       "    0.07692307692307693]},\n",
       "  'Q3': {98362: ['TKR',\n",
       "    55.66,\n",
       "    5344083580,\n",
       "    0.16241349547757722,\n",
       "    9.039935158281947,\n",
       "    0.07692307692307693],\n",
       "   1179755: ['ENH',\n",
       "    48.13,\n",
       "    2082777620,\n",
       "    0.1878232943752742,\n",
       "    9.039935158281947,\n",
       "    0.07692307692307693],\n",
       "   1212545: ['WAL',\n",
       "    13.65,\n",
       "    1186799250,\n",
       "    0.6622663119620474,\n",
       "    9.039935158281947,\n",
       "    0.07692307692307693],\n",
       "   1065280: ['NFLX',\n",
       "    182.42999,\n",
       "    10242349358,\n",
       "    0.04955290058549007,\n",
       "    9.039935158281947,\n",
       "    0.07692307692307693],\n",
       "   1532063: ['ESRX',\n",
       "    57.79,\n",
       "    47245000910,\n",
       "    0.1564273258051903,\n",
       "    9.039935158281947,\n",
       "    0.07692307692307693],\n",
       "   73756: ['OII',\n",
       "    66.3,\n",
       "    7173328500,\n",
       "    0.13634894658042154,\n",
       "    9.039935158281947,\n",
       "    0.07692307692307693],\n",
       "   868671: ['GBCI',\n",
       "    18.61,\n",
       "    1340273590,\n",
       "    0.4857568596605023,\n",
       "    9.039935158281947,\n",
       "    0.07692307692307693],\n",
       "   778438: ['BRY',\n",
       "    46.57,\n",
       "    2447113790,\n",
       "    0.19411499158861814,\n",
       "    9.039935158281947,\n",
       "    0.07692307692307693],\n",
       "   1089819: ['CNL',\n",
       "    47.04,\n",
       "    2864030400,\n",
       "    0.19217549231041556,\n",
       "    9.039935158281947,\n",
       "    0.07692307692307693],\n",
       "   1466593: ['OTTR',\n",
       "    31.03,\n",
       "    1123689390,\n",
       "    0.29132888038291804,\n",
       "    9.039935158281947,\n",
       "    0.07692307692307693],\n",
       "   1441849: ['CLD',\n",
       "    18.38,\n",
       "    1123275320,\n",
       "    0.49183542754526377,\n",
       "    9.039935158281947,\n",
       "    0.07692307692307693],\n",
       "   1122304: ['AET',\n",
       "    52.39,\n",
       "    17183920000,\n",
       "    0.17255077606951608,\n",
       "    9.039935158281947,\n",
       "    0.07692307692307693],\n",
       "   1016125: ['ULTI',\n",
       "    102.67,\n",
       "    2837080110,\n",
       "    0.08804845776061115,\n",
       "    9.039935158281947,\n",
       "    0.07692307692307693]},\n",
       "  'Q4': {1490983: ['CCG',\n",
       "    14.0,\n",
       "    855120000,\n",
       "    0.6638453067780723,\n",
       "    9.293834294893012,\n",
       "    0.07692307692307693],\n",
       "   1130591: ['XNPT',\n",
       "    7.09,\n",
       "    336080180,\n",
       "    1.3108369950483796,\n",
       "    9.293834294893012,\n",
       "    0.07692307692307693],\n",
       "   1466538: ['COWN',\n",
       "    2.73,\n",
       "    315729960,\n",
       "    3.4043349065542166,\n",
       "    9.293834294893012,\n",
       "    0.07692307692307693],\n",
       "   1163348: ['AWH',\n",
       "    93.03,\n",
       "    3222280110,\n",
       "    0.09990147581310342,\n",
       "    9.293834294893012,\n",
       "    0.07692307692307693],\n",
       "   729237: ['PKY',\n",
       "    18.56,\n",
       "    1245580160,\n",
       "    0.5007453822679425,\n",
       "    9.293834294893012,\n",
       "    0.07692307692307693],\n",
       "   1138951: ['LF',\n",
       "    8.33,\n",
       "    516576620,\n",
       "    1.11570639794634,\n",
       "    9.293834294893012,\n",
       "    0.07692307692307693],\n",
       "   1392972: ['PRO',\n",
       "    27.14,\n",
       "    749688220,\n",
       "    0.3424404677558221,\n",
       "    9.293834294893012,\n",
       "    0.07692307692307693],\n",
       "   1220754: ['PRSC',\n",
       "    18.39,\n",
       "    239787210,\n",
       "    0.5053743499126162,\n",
       "    9.293834294893012,\n",
       "    0.07692307692307693],\n",
       "   1556766: ['ALDW',\n",
       "    26.02,\n",
       "    1626276020,\n",
       "    0.3571804110258652,\n",
       "    9.293834294893012,\n",
       "    0.07692307692307693],\n",
       "   1057058: ['WCN',\n",
       "    35.63,\n",
       "    4394176640,\n",
       "    0.26084294961810306,\n",
       "    9.293834294893012,\n",
       "    0.07692307692307693],\n",
       "   1040426: ['SYNT',\n",
       "    66.63,\n",
       "    2776005690,\n",
       "    0.13948423075030786,\n",
       "    9.293834294893012,\n",
       "    0.07692307692307693],\n",
       "   1171759: ['RRGB',\n",
       "    45.07,\n",
       "    637199660,\n",
       "    0.20620888162620393,\n",
       "    9.293834294893012,\n",
       "    0.07692307692307693],\n",
       "   1507385: ['ARCP',\n",
       "    14.5,\n",
       "    2237669000,\n",
       "    0.6409540893029664,\n",
       "    9.293834294893012,\n",
       "    0.07692307692307693]},\n",
       "  'Q5': {1122388: ['ELLI',\n",
       "    23.32,\n",
       "    609748040,\n",
       "    0.4019358859303416,\n",
       "    9.373144859895566,\n",
       "    0.07692307692307693],\n",
       "   1523733: ['PDH',\n",
       "    13.35,\n",
       "    1867104300,\n",
       "    0.7021082292056604,\n",
       "    9.373144859895566,\n",
       "    0.07692307692307693],\n",
       "   1097864: ['ONNN',\n",
       "    8.1,\n",
       "    3647446200,\n",
       "    1.1571783777648847,\n",
       "    9.373144859895566,\n",
       "    0.07692307692307693],\n",
       "   82166: ['RAVN',\n",
       "    32.93,\n",
       "    1196445690,\n",
       "    0.2846384712995921,\n",
       "    9.373144859895566,\n",
       "    0.07692307692307693],\n",
       "   1261694: ['TSRA',\n",
       "    18.39,\n",
       "    969153000,\n",
       "    0.5096870505652836,\n",
       "    9.373144859895566,\n",
       "    0.07692307692307693],\n",
       "   1278021: ['MKTX',\n",
       "    37.29,\n",
       "    1398598740,\n",
       "    0.25135813515407796,\n",
       "    9.373144859895566,\n",
       "    0.07692307692307693],\n",
       "   917520: ['IART',\n",
       "    39.01,\n",
       "    1096298030,\n",
       "    0.24027543860280867,\n",
       "    9.373144859895566,\n",
       "    0.07692307692307693],\n",
       "   319655: ['SJT',\n",
       "    14.79,\n",
       "    689347110,\n",
       "    0.6337488072951701,\n",
       "    9.373144859895566,\n",
       "    0.07692307692307693],\n",
       "   737468: ['WASH',\n",
       "    26.95,\n",
       "    442653750,\n",
       "    0.34779758292747925,\n",
       "    9.373144859895566,\n",
       "    0.07692307692307693],\n",
       "   1130713: ['OSTK',\n",
       "    12.28,\n",
       "    290422000,\n",
       "    0.7632854120436129,\n",
       "    9.373144859895566,\n",
       "    0.07692307692307693],\n",
       "   1065049: ['LEAP',\n",
       "    5.82,\n",
       "    460094280,\n",
       "    1.6105059896727776,\n",
       "    9.373144859895566,\n",
       "    0.07692307692307693],\n",
       "   1212458: ['PFPT',\n",
       "    16.75,\n",
       "    570337500,\n",
       "    0.5595907379042129,\n",
       "    9.373144859895566,\n",
       "    0.07692307692307693],\n",
       "   1114220: ['KERX',\n",
       "    6.94,\n",
       "    567122920,\n",
       "    1.3505972420598797,\n",
       "    9.373144859895566,\n",
       "    0.07692307692307693]}}}"
      ]
     },
     "execution_count": 45,
     "metadata": {},
     "output_type": "execute_result"
    }
   ],
   "source": [
    "pf_values['diff_jaccard'][(2013, 2)]"
   ]
  },
  {
   "cell_type": "code",
   "execution_count": 46,
   "metadata": {},
   "outputs": [],
   "source": [
    "def diff_vs_benchmark_ns(pf_values, index_name, index_data, diff_method, s, norm_by_index=False):\n",
    "    \"\"\"\n",
    "    Plot a portfolio vs an index.\n",
    "\n",
    "    :param pf_values: Value of the portfolio over time.\n",
    "    :param index_name: Name of the index.\n",
    "    :param index_data: Daily value of the index.\n",
    "    :param s: Settings dictionary.\n",
    "    :return: void\n",
    "    \"\"\"\n",
    "\n",
    "    \"\"\"Display an index\"\"\"\n",
    "    benchmark_x = []\n",
    "    benchmark_y = []\n",
    "    for qtr in s['list_qtr'][s['lag']:]:\n",
    "        qtr_start_date = \"{}{}{}\".format(str(qtr[0]), str((qtr[1]-1)*3+1).zfill(2), '01')\n",
    "        qtr_start_date = datetime.strptime(qtr_start_date, '%Y%m%d').date()\n",
    "        # days, _ = zip(*index_data[index_name])\n",
    "        days, prices = zip(*index_data[index_name].items())\n",
    "        \n",
    "        # Find the nearest daily price\n",
    "        for _ in range(7):\n",
    "            try:\n",
    "                idx = days.index(qtr_start_date)\n",
    "                break\n",
    "            except ValueError:  # The stock exchange was closed that day. Move to the next one.\n",
    "                qtr_start_date = qtr_start_date.strftime('%Y%m%d')\n",
    "                day = str(int(qtr_start_date[7]) + 1)\n",
    "                qtr_start_date = qtr_start_date[:7] + day\n",
    "                qtr_start_date = datetime.strptime(qtr_start_date, '%Y%m%d').date()\n",
    "        try:\n",
    "            benchmark_x.append(qtr_start_date)\n",
    "            benchmark_y.append(prices[idx][0])  # Only one entry per timestamp\n",
    "            \n",
    "        except KeyError:\n",
    "            raise KeyError('[ERROR] The stock exchange should not have been shut down for more than 7 days.')\n",
    "    benchmark_y = [value*s['pf_init_value']/benchmark_y[0] for value in benchmark_y]\n",
    "    \n",
    "    \"\"\"Norm by index or not?\"\"\"\n",
    "    if norm_by_index:\n",
    "        norm = benchmark_y\n",
    "        benchmark_y = [-s['pf_init_value']]*len(norm)  # Nullify the index data\n",
    "    else:\n",
    "        norm = [1]*len(benchmark_y)\n",
    "        # plt.plot_date(benchmark_x, benchmark_y, label=index_name, linestyle='-.', linewidth=2, ms=10, marker=',')\n",
    "    benchmark = zip(benchmark_x, benchmark_y)  # Zip for plotting\n",
    "    \n",
    "    \"\"\"Display all the quintiles/deciles\"\"\"\n",
    "    bin_data = dict()\n",
    "    for l in s['bin_labels']:\n",
    "        x = list()\n",
    "        y = list()\n",
    "        for qtr in s['list_qtr'][s['lag']:]:\n",
    "            # Assign the quarterly value to tghe first day of the quarter\n",
    "            start = \"{}{}{}\".format(str(qtr[0]), str(((qtr[1])-1)*3+1).zfill(2), '01')\n",
    "            x.append(datetime.strptime(start, '%Y%m%d').date())\n",
    "            y.append(pf_values[diff_method][qtr]['incoming_value'][l])  # Use value before taxes\n",
    "        # Divide each value by the norm. \n",
    "        # It is 1 if not norm_by_index, or the value of the index otherwise\n",
    "        y = [qx_value/benchmark_value for qx_value, benchmark_value in zip(y, norm)]\n",
    "        # plt.plot_date(x, y, label=l, linestyle='-')\n",
    "        \n",
    "        # Zip the resulting plot data \n",
    "        bin_data[l] = zip(x, y)\n",
    "    \n",
    "    # Actually plot now that all the data is available\n",
    "    return benchmark, bin_data"
   ]
  },
  {
   "cell_type": "code",
   "execution_count": 47,
   "metadata": {},
   "outputs": [
    {
     "data": {
      "text/plain": [
       "dict_keys(['IXIC', 'SPX', 'DJI', 'RUT'])"
      ]
     },
     "execution_count": 47,
     "metadata": {},
     "output_type": "execute_result"
    }
   ],
   "source": [
    "index_data.keys()"
   ]
  },
  {
   "cell_type": "code",
   "execution_count": 48,
   "metadata": {},
   "outputs": [
    {
     "name": "stderr",
     "output_type": "stream",
     "text": [
      "/home/alex/anaconda3/lib/python3.7/site-packages/pandas/plotting/_converter.py:129: FutureWarning: Using an implicitly registered datetime converter for a matplotlib plotting method. The converter was registered by pandas on import. Future versions of pandas will require you to explicitly register matplotlib converters.\n",
      "\n",
      "To register the converters:\n",
      "\t>>> from pandas.plotting import register_matplotlib_converters\n",
      "\t>>> register_matplotlib_converters()\n",
      "  warnings.warn(msg, FutureWarning)\n"
     ]
    },
    {
     "data": {
      "image/png": "[encoded data removed]",
      "text/plain": [
       "<Figure size 1080x720 with 8 Axes>"
      ]
     },
     "metadata": {
      "needs_background": "light"
     },
     "output_type": "display_data"
    }
   ],
   "source": [
    "ylim = [0.7, 1.4]\n",
    "fig, ax = plt.subplots(len(s['diff_metrics']), len(index_data), figsize=(15, 10))\n",
    "for idx_x, m in enumerate(s['diff_metrics']):\n",
    "    for idx_y, index_name in enumerate(index_data):\n",
    "        benchmark, bin_data = diff_vs_benchmark_ns(pf_values, index_name, index_data, m, s, norm_by_index=True)\n",
    "        display.update_ax_diff_vs_benchmark(ax[idx_x, idx_y], benchmark, bin_data, index_name, s, ylim, m)\n",
    "\n",
    "start = s['time_range'][0]   \n",
    "end = s['time_range'][1]\n",
    "plt.savefig(os.path.join(s['path_output_folder'], '{}Q{}_{}Q{}_{}_{}_sw-{}_lem-{}.png'\n",
    "                         .format(str(start[0])[2:], start[1], \n",
    "                                 str(end[0])[2:], end[1],\n",
    "                                 s['differentiation_mode'][0], s['pf_balancing'][0],\n",
    "                                 int(s['stop_words']), int(s['lemmatize']))))\n",
    "if display.run_from_ipython():\n",
    "    plt.show()\n",
    "else:\n",
    "    plt.close(fig)"
   ]
  },
  {
   "cell_type": "code",
   "execution_count": 49,
   "metadata": {},
   "outputs": [
    {
     "data": {
      "image/png": "[encoded data removed]",
      "text/plain": [
       "<Figure size 720x360 with 1 Axes>"
      ]
     },
     "metadata": {
      "needs_background": "light"
     },
     "output_type": "display_data"
    }
   ],
   "source": [
    "index_name = 'RUT'\n",
    "diff_method = 'diff_sk_cosine_tf_idf'\n",
    "diff_method = 'diff_jaccard'\n",
    "# diff_method='diff_gfg_editDistDP'\n",
    "benchmark, bin_data = diff_vs_benchmark_ns(pf_values, index_name, index_data, diff_method, s, norm_by_index=True)\n",
    "display.plot_diff_vs_benchmark(benchmark, bin_data, index_name, s)"
   ]
  },
  {
   "cell_type": "markdown",
   "metadata": {},
   "source": [
    "# Display the data"
   ]
  },
  {
   "cell_type": "markdown",
   "metadata": {},
   "source": [
    "## For a given ticker"
   ]
  },
  {
   "cell_type": "markdown",
   "metadata": {},
   "source": [
    "### Metrics vs stock price"
   ]
  },
  {
   "cell_type": "code",
   "execution_count": 50,
   "metadata": {
    "scrolled": false
   },
   "outputs": [
    {
     "ename": "NameError",
     "evalue": "name 'extracted_cik_scores' is not defined",
     "output_type": "error",
     "traceback": [
      "\u001b[0;31m---------------------------------------------------------------------------\u001b[0m",
      "\u001b[0;31mNameError\u001b[0m                                 Traceback (most recent call last)",
      "\u001b[0;32m<ipython-input-50-4ce55deaf219>\u001b[0m in \u001b[0;36m<module>\u001b[0;34m\u001b[0m\n\u001b[0;32m----> 1\u001b[0;31m \u001b[0mbenchmark\u001b[0m\u001b[0;34m,\u001b[0m \u001b[0mmetric_data\u001b[0m \u001b[0;34m=\u001b[0m \u001b[0mdisplay\u001b[0m\u001b[0;34m.\u001b[0m\u001b[0mdiff_vs_stock\u001b[0m\u001b[0;34m(\u001b[0m\u001b[0mextracted_cik_scores\u001b[0m\u001b[0;34m,\u001b[0m \u001b[0mextracted_stock_data\u001b[0m\u001b[0;34m,\u001b[0m \u001b[0mticker\u001b[0m\u001b[0;34m,\u001b[0m \u001b[0ms\u001b[0m\u001b[0;34m,\u001b[0m \u001b[0mmethod\u001b[0m\u001b[0;34m=\u001b[0m\u001b[0;34m'diff'\u001b[0m\u001b[0;34m)\u001b[0m\u001b[0;34m\u001b[0m\u001b[0;34m\u001b[0m\u001b[0m\n\u001b[0m\u001b[1;32m      2\u001b[0m \u001b[0mdisplay\u001b[0m\u001b[0;34m.\u001b[0m\u001b[0mplot_diff_vs_stock\u001b[0m\u001b[0;34m(\u001b[0m\u001b[0mbenchmark\u001b[0m\u001b[0;34m,\u001b[0m \u001b[0mmetric_data\u001b[0m\u001b[0;34m,\u001b[0m \u001b[0mticker\u001b[0m\u001b[0;34m,\u001b[0m \u001b[0ms\u001b[0m\u001b[0;34m)\u001b[0m\u001b[0;34m\u001b[0m\u001b[0;34m\u001b[0m\u001b[0m\n",
      "\u001b[0;31mNameError\u001b[0m: name 'extracted_cik_scores' is not defined"
     ]
    }
   ],
   "source": [
    "benchmark, metric_data = display.diff_vs_stock(extracted_cik_scores, extracted_stock_data, ticker, s, method='diff')\n",
    "display.plot_diff_vs_stock(benchmark, metric_data, ticker, s)"
   ]
  },
  {
   "cell_type": "markdown",
   "metadata": {},
   "source": [
    "### Sentiment vs stock price"
   ]
  },
  {
   "cell_type": "code",
   "execution_count": null,
   "metadata": {},
   "outputs": [],
   "source": [
    "benchmark, metric_data = display.diff_vs_stock(extracted_cik_scores, extracted_stock_data, ticker, s, method='sentiment')\n",
    "display.plot_diff_vs_stock(benchmark, metric_data, ticker, s, method='sentiment')"
   ]
  },
  {
   "cell_type": "code",
   "execution_count": null,
   "metadata": {},
   "outputs": [],
   "source": []
  },
  {
   "cell_type": "code",
   "execution_count": null,
   "metadata": {},
   "outputs": [],
   "source": []
  },
  {
   "cell_type": "code",
   "execution_count": null,
   "metadata": {},
   "outputs": [],
   "source": []
  },
  {
   "cell_type": "code",
   "execution_count": null,
   "metadata": {},
   "outputs": [],
   "source": []
  },
  {
   "cell_type": "code",
   "execution_count": null,
   "metadata": {},
   "outputs": [],
   "source": []
  },
  {
   "cell_type": "code",
   "execution_count": null,
   "metadata": {},
   "outputs": [],
   "source": []
  },
  {
   "cell_type": "code",
   "execution_count": null,
   "metadata": {},
   "outputs": [],
   "source": []
  }
 ],
 "metadata": {
  "kernelspec": {
   "display_name": "Python 3",
   "language": "python",
   "name": "python3"
  },
  "language_info": {
   "codemirror_mode": {
    "name": "ipython",
    "version": 3
   },
   "file_extension": ".py",
   "mimetype": "text/x-python",
   "name": "python",
   "nbconvert_exporter": "python",
   "pygments_lexer": "ipython3",
   "version": "3.7.3"
  }
 },
 "nbformat": 4,
 "nbformat_minor": 2
}
