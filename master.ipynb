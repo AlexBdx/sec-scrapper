{
 "cells": [
  {
   "cell_type": "markdown",
   "metadata": {},
   "source": [
    "# Initialization"
   ]
  },
  {
   "cell_type": "code",
   "execution_count": 16,
   "metadata": {},
   "outputs": [],
   "source": [
    "import boto3\n",
    "import numpy as np\n",
    "import subprocess as sp"
   ]
  },
  {
   "cell_type": "code",
   "execution_count": 2,
   "metadata": {},
   "outputs": [],
   "source": [
    "client = boto3.client('ec2')\n",
    "ec2 = boto3.resource('ec2')\n",
    "\n",
    "s3 = boto3.resource('s3')"
   ]
  },
  {
   "cell_type": "code",
   "execution_count": 3,
   "metadata": {},
   "outputs": [],
   "source": [
    "time_range = [(2018, 1), (2019, 2)]"
   ]
  },
  {
   "cell_type": "markdown",
   "metadata": {},
   "source": [
    "# Get AWS started"
   ]
  },
  {
   "cell_type": "markdown",
   "metadata": {},
   "source": [
    "## Connect to S3"
   ]
  },
  {
   "cell_type": "code",
   "execution_count": 4,
   "metadata": {},
   "outputs": [
    {
     "name": "stdout",
     "output_type": "stream",
     "text": [
      "sec-data-1\n"
     ]
    }
   ],
   "source": [
    "# Print out bucket names\n",
    "for bucket in s3.buckets.all():\n",
    "    print(bucket.name)"
   ]
  },
  {
   "cell_type": "markdown",
   "metadata": {},
   "source": [
    "## EC2 detection"
   ]
  },
  {
   "cell_type": "markdown",
   "metadata": {},
   "source": [
    "### Find all the EC2 of interest based on their tags"
   ]
  },
  {
   "cell_type": "code",
   "execution_count": 5,
   "metadata": {},
   "outputs": [
    {
     "name": "stdout",
     "output_type": "stream",
     "text": [
      "[INFO] Found a stopped m4.large instance\n",
      "[INFO] Found a stopped m4.large instance\n",
      "[INFO] Found a stopped m4.large instance\n",
      "[INFO] Found a stopped m4.large instance\n",
      "[INFO] Found a stopped t2.micro instance\n",
      "[INFO] This is actually a sec_downloader instance!\n",
      "\n",
      "[INFO] Found a stopped t2.micro instance\n",
      "[INFO] This is actually a sec_downloader instance!\n",
      "\n",
      "[INFO] Found 2 instances\n"
     ]
    }
   ],
   "source": [
    "instances = []\n",
    "tag_of_interest = 'sec_downloader'\n",
    "for i in ec2.instances.all():\n",
    "    print(\"[INFO] Found a {} {} instance\".format(i.state['Name'], i.instance_type))\n",
    "    if i.tags:\n",
    "        for tag in i.tags:\n",
    "            if tag['Key'] == 'Name' and tag['Value'] == tag_of_interest:\n",
    "                if i.state['Name'] != 'terminated':\n",
    "                    print(\"[INFO] This is actually a {} instance!\\n\".format(tag_of_interest))\n",
    "                    instances.append(i)\n",
    "                break\n",
    "        \n",
    "print(\"[INFO] Found {} instances\".format(len(instances)))"
   ]
  },
  {
   "cell_type": "code",
   "execution_count": 6,
   "metadata": {},
   "outputs": [],
   "source": [
    "if len(instances) == 0:\n",
    "    raise ValueError('[ERROR] No instances with that tag were found!')"
   ]
  },
  {
   "cell_type": "markdown",
   "metadata": {},
   "source": [
    "### Instance control: turn them on if needed"
   ]
  },
  {
   "cell_type": "code",
   "execution_count": 7,
   "metadata": {},
   "outputs": [],
   "source": [
    "# Start the instances that were stopped\n",
    "def start_all_instances(client, instances):\n",
    "    nb_instances_started = 0\n",
    "    for i in instances:\n",
    "        if i.state['Name'] == 'stopped':\n",
    "            response = client.start_instances(InstanceIds=[i.id])\n",
    "            nb_instances_started += 1\n",
    "        elif i.state['Name'] != 'running':\n",
    "            print(\"[ERROR] Instance {} is neither stopped nor running. Cannot start it.\".format(i.id))\n",
    "    return nb_instances_started\n",
    "            \n",
    "# Stop the instances that were started\n",
    "def stop_all_instances(client, instances):\n",
    "    nb_instances_stopped = 0\n",
    "    for i in instances:\n",
    "        if i.state['Name'] == 'running':\n",
    "            response = client.stop_instances(InstanceIds=[i.id])\n",
    "            nb_instances_stopped += 1\n",
    "        elif i.state['Name'] != 'stopped':\n",
    "            print(\"[ERROR] Instance {} is neither stopped nor running. Cannot start it.\".format(i.id))\n",
    "    return nb_instances_stopped"
   ]
  },
  {
   "cell_type": "code",
   "execution_count": 8,
   "metadata": {},
   "outputs": [
    {
     "name": "stdout",
     "output_type": "stream",
     "text": [
      "[INFO] Number of instances restarted: 2 | Total running: 2\n"
     ]
    }
   ],
   "source": [
    "nb_instances_started = start_all_instances(client, instances)\n",
    "print(\"[INFO] Number of instances restarted: {} | Total running: {}\"\n",
    "      .format(nb_instances_started, len(instances)))"
   ]
  },
  {
   "cell_type": "markdown",
   "metadata": {},
   "source": [
    "# Setup the work to be done"
   ]
  },
  {
   "cell_type": "markdown",
   "metadata": {},
   "source": [
    "## Split the work among all the instances that we have turned on"
   ]
  },
  {
   "cell_type": "code",
   "execution_count": 9,
   "metadata": {},
   "outputs": [
    {
     "data": {
      "text/plain": [
       "True"
      ]
     },
     "execution_count": 9,
     "metadata": {},
     "output_type": "execute_result"
    }
   ],
   "source": [
    "def create_qtr_list(time_range):\n",
    "    # Sanity checks\n",
    "    assert len(time_range) == 2\n",
    "    assert 1994 <= time_range[0][0] and 1994 <= time_range[1][0]\n",
    "    assert 1 <= time_range[0][1] <= 4 and 1 <= time_range[1][1] <= 4\n",
    "    assert time_range[1][0] >= time_range[0][0]\n",
    "    if time_range[1][0] == time_range[0][0]:  # Same year\n",
    "        assert time_range[1][1] >= time_range[0][1]  # Need different QTR\n",
    "    \n",
    "    list_qtr = []\n",
    "    for year in range(time_range[0][0], time_range[1][0]+1):\n",
    "        for qtr in range(1, 5):\n",
    "            # Manage the start and end within a year\n",
    "            if year == time_range[0][0]:\n",
    "                if qtr < time_range[0][1]:\n",
    "                    continue\n",
    "            if year == time_range[1][0]:\n",
    "                if qtr > time_range[1][1]:\n",
    "                    break\n",
    "            \n",
    "            # Common case\n",
    "            list_qtr.append((year, qtr))\n",
    "    \n",
    "    # Sanity checks\n",
    "    assert list_qtr[0] == time_range[0]\n",
    "    assert list_qtr[-1] == time_range[1]\n",
    "    return list_qtr\n",
    "\n",
    "def test_create_qtr_list():\n",
    "    test_1 = create_qtr_list([(2018, 1), (2018, 4)])\n",
    "    assert test_1 == [(2018, 1), (2018, 2), (2018, 3), (2018, 4)]\n",
    "    test_2 = create_qtr_list([(2016, 2), (2017, 3)])\n",
    "    assert test_2 == [(2016, 2), (2016, 3), (2016, 4), (2017, 1), (2017, 2), (2017, 3)]\n",
    "    return True\n",
    "test_create_qtr_list()"
   ]
  },
  {
   "cell_type": "code",
   "execution_count": 10,
   "metadata": {},
   "outputs": [
    {
     "data": {
      "text/plain": [
       "True"
      ]
     },
     "execution_count": 10,
     "metadata": {},
     "output_type": "execute_result"
    }
   ],
   "source": [
    "def yearly_qtr_list(time_range):\n",
    "    year_list = []\n",
    "    if time_range[0][0] == time_range[1][0]:\n",
    "        year_list = create_qtr_list(time_range)\n",
    "    else:\n",
    "        for year in range(time_range[0][0], time_range[1][0]+1):\n",
    "            if year == time_range[0][0]:\n",
    "                year_list.append(create_qtr_list([(year, time_range[0][1]), (year, 4)]))\n",
    "            elif year == time_range[1][0]:\n",
    "                year_list.append(create_qtr_list([(year, 1), (year, time_range[1][1])]))\n",
    "            else:\n",
    "                year_list.append(create_qtr_list([(year, 1), (year, 4)]))\n",
    "    return year_list\n",
    "\n",
    "def test_yearly_qtr_list():\n",
    "    test_1 = yearly_qtr_list([(2016, 2), (2016, 2)])\n",
    "    assert test_1 == [(2016, 2)]\n",
    "    test_2 = yearly_qtr_list([(2015, 2), (2016, 3)])\n",
    "    assert test_2 == [[(2015, 2), (2015, 3), (2015, 4)], [(2016, 1), (2016, 2), (2016, 3)]]\n",
    "    return True\n",
    "test_yearly_qtr_list()"
   ]
  },
  {
   "cell_type": "code",
   "execution_count": 11,
   "metadata": {},
   "outputs": [
    {
     "data": {
      "text/plain": [
       "True"
      ]
     },
     "execution_count": 11,
     "metadata": {},
     "output_type": "execute_result"
    }
   ],
   "source": [
    "def split_work_among_instances(time_range, instances):\n",
    "    # time_range is a simple list containing the start & end tuple\n",
    "    # instances is the list of instances object from AWS\n",
    "    # returns a simple list of (time_range, IP) to distribute the work\n",
    "\n",
    "    # Create the list of quarters\n",
    "    all_qtr = create_qtr_list(time_range)\n",
    "    \n",
    "    # Do not use more instances than work packages available\n",
    "    nb_instances = min(len(all_qtr), len(instances))\n",
    "    instances = instances[:nb_instances]\n",
    "    #print(\"nb_instances:\", len(instances), \"| instances actually used:\", nb_instances)\n",
    "    \n",
    "    # Split the work equally\n",
    "    qtr_indexes = np.linspace(0, len(all_qtr), len(instances), endpoint=False)\n",
    "    #print(qtr_indexes)\n",
    "    qtr_indexes = [int(i) for i in qtr_indexes]  # Cast to int\n",
    "    #print(qtr_indexes)\n",
    "    qtr_indexes.append(len(all_qtr))  # Add the last element for the comprehension below\n",
    "    #print(qtr_indexes)\n",
    "    split_work = []\n",
    "    for i in range(len(qtr_indexes)-1):\n",
    "        split_work.append(all_qtr[qtr_indexes[i]:qtr_indexes[i+1]])\n",
    "    #split_work = [all_qtr[qtr_indexes[i]:qtr_indexes[i+1]] for i in qtr_indexes if i<len(qtr_indexes)-1]  # ignore last index to prevent overflow\n",
    "    #print(split_work)\n",
    "    \"\"\"\n",
    "    for instance_count in range(len(instances)):\n",
    "        #print(instance_count)\n",
    "        print(split_work[instance_count])\n",
    "        print()\n",
    "    \"\"\"\n",
    "    \n",
    "    return split_work\n",
    "\n",
    "def test_split_work_among_instances():\n",
    "    test_1 = split_work_among_instances([(2010, 1), (2019, 2)], [1, 2, 3, 4])\n",
    "    assert test_1 == [[(2010, 1), (2010, 2), (2010, 3), (2010, 4), (2011, 1), (2011, 2), (2011, 3), (2011, 4), (2012, 1)], \n",
    "                      [(2012, 2), (2012, 3), (2012, 4), (2013, 1), (2013, 2), (2013, 3), (2013, 4), (2014, 1), (2014, 2), (2014, 3)], \n",
    "                      [(2014, 4), (2015, 1), (2015, 2), (2015, 3), (2015, 4), (2016, 1), (2016, 2), (2016, 3), (2016, 4)], \n",
    "                      [(2017, 1), (2017, 2), (2017, 3), (2017, 4), (2018, 1), (2018, 2), (2018, 3), (2018, 4), (2019, 1), (2019, 2)]]\n",
    "    \n",
    "    # Test for 1 instance ---> more instances than work packages\n",
    "    time_range = [(2000, 1), (2002, 2)]\n",
    "    all_qtr = create_qtr_list(time_range)\n",
    "    for nb_instances in range(1, len(all_qtr)+5):  # verify that too many instances are handled properly\n",
    "        test = split_work_among_instances(time_range, [1]*nb_instances)\n",
    "        #print(test)\n",
    "        #print(\"Instances used:\", min(len(all_qtr), nb_instances))\n",
    "        assert len(test) == min(len(create_qtr_list(time_range)), nb_instances)\n",
    "        \n",
    "    return True\n",
    "\n",
    "test_split_work_among_instances()  "
   ]
  },
  {
   "cell_type": "code",
   "execution_count": 15,
   "metadata": {},
   "outputs": [
    {
     "data": {
      "text/plain": [
       "[[(2018, 1), (2018, 2), (2018, 3)], [(2018, 4), (2019, 1), (2019, 2)]]"
      ]
     },
     "execution_count": 15,
     "metadata": {},
     "output_type": "execute_result"
    }
   ],
   "source": [
    "list_of_work = split_work_among_instances(time_range, instances)\n",
    "list_of_work"
   ]
  },
  {
   "cell_type": "markdown",
   "metadata": {},
   "source": [
    "# SSH to the EC2 instances and prepare them"
   ]
  },
  {
   "cell_type": "code",
   "execution_count": 17,
   "metadata": {},
   "outputs": [
    {
     "ename": "KeyboardInterrupt",
     "evalue": "",
     "output_type": "error",
     "traceback": [
      "\u001b[0;31m---------------------------------------------------------------------------\u001b[0m",
      "\u001b[0;31mKeyboardInterrupt\u001b[0m                         Traceback (most recent call last)",
      "\u001b[0;32m<ipython-input-17-d941632eb93f>\u001b[0m in \u001b[0;36m<module>\u001b[0;34m\u001b[0m\n\u001b[1;32m      1\u001b[0m \u001b[0mbash_script\u001b[0m \u001b[0;34m=\u001b[0m \u001b[0;34m'/home/alex/Desktop/Insight project/launch_instance.sh'\u001b[0m\u001b[0;34m\u001b[0m\u001b[0;34m\u001b[0m\u001b[0m\n\u001b[1;32m      2\u001b[0m \u001b[0;32mfor\u001b[0m \u001b[0minstance_nb\u001b[0m\u001b[0;34m,\u001b[0m \u001b[0mi\u001b[0m \u001b[0;32min\u001b[0m \u001b[0menumerate\u001b[0m\u001b[0;34m(\u001b[0m\u001b[0minstances\u001b[0m\u001b[0;34m)\u001b[0m\u001b[0;34m:\u001b[0m\u001b[0;34m\u001b[0m\u001b[0;34m\u001b[0m\u001b[0m\n\u001b[0;32m----> 3\u001b[0;31m     \u001b[0msp\u001b[0m\u001b[0;34m.\u001b[0m\u001b[0mcheck_call\u001b[0m\u001b[0;34m(\u001b[0m\u001b[0;34m[\u001b[0m\u001b[0mbash_script\u001b[0m\u001b[0;34m,\u001b[0m \u001b[0;34m'-ip'\u001b[0m\u001b[0;34m,\u001b[0m \u001b[0mstr\u001b[0m\u001b[0;34m(\u001b[0m\u001b[0mi\u001b[0m\u001b[0;34m.\u001b[0m\u001b[0mpublic_ip_address\u001b[0m\u001b[0;34m)\u001b[0m\u001b[0;34m,\u001b[0m \u001b[0;34m'-tr'\u001b[0m\u001b[0;34m,\u001b[0m \u001b[0mstr\u001b[0m\u001b[0;34m(\u001b[0m\u001b[0mlist_of_work\u001b[0m\u001b[0;34m[\u001b[0m\u001b[0minstance_nb\u001b[0m\u001b[0;34m]\u001b[0m\u001b[0;34m)\u001b[0m\u001b[0;34m]\u001b[0m\u001b[0;34m)\u001b[0m\u001b[0;34m\u001b[0m\u001b[0;34m\u001b[0m\u001b[0m\n\u001b[0m",
      "\u001b[0;32m~/anaconda3/lib/python3.7/subprocess.py\u001b[0m in \u001b[0;36mcheck_call\u001b[0;34m(*popenargs, **kwargs)\u001b[0m\n\u001b[1;32m    340\u001b[0m     \u001b[0mcheck_call\u001b[0m\u001b[0;34m(\u001b[0m\u001b[0;34m[\u001b[0m\u001b[0;34m\"ls\"\u001b[0m\u001b[0;34m,\u001b[0m \u001b[0;34m\"-l\"\u001b[0m\u001b[0;34m]\u001b[0m\u001b[0;34m)\u001b[0m\u001b[0;34m\u001b[0m\u001b[0;34m\u001b[0m\u001b[0m\n\u001b[1;32m    341\u001b[0m     \"\"\"\n\u001b[0;32m--> 342\u001b[0;31m     \u001b[0mretcode\u001b[0m \u001b[0;34m=\u001b[0m \u001b[0mcall\u001b[0m\u001b[0;34m(\u001b[0m\u001b[0;34m*\u001b[0m\u001b[0mpopenargs\u001b[0m\u001b[0;34m,\u001b[0m \u001b[0;34m**\u001b[0m\u001b[0mkwargs\u001b[0m\u001b[0;34m)\u001b[0m\u001b[0;34m\u001b[0m\u001b[0;34m\u001b[0m\u001b[0m\n\u001b[0m\u001b[1;32m    343\u001b[0m     \u001b[0;32mif\u001b[0m \u001b[0mretcode\u001b[0m\u001b[0;34m:\u001b[0m\u001b[0;34m\u001b[0m\u001b[0;34m\u001b[0m\u001b[0m\n\u001b[1;32m    344\u001b[0m         \u001b[0mcmd\u001b[0m \u001b[0;34m=\u001b[0m \u001b[0mkwargs\u001b[0m\u001b[0;34m.\u001b[0m\u001b[0mget\u001b[0m\u001b[0;34m(\u001b[0m\u001b[0;34m\"args\"\u001b[0m\u001b[0;34m)\u001b[0m\u001b[0;34m\u001b[0m\u001b[0;34m\u001b[0m\u001b[0m\n",
      "\u001b[0;32m~/anaconda3/lib/python3.7/subprocess.py\u001b[0m in \u001b[0;36mcall\u001b[0;34m(timeout, *popenargs, **kwargs)\u001b[0m\n\u001b[1;32m    323\u001b[0m     \u001b[0;32mwith\u001b[0m \u001b[0mPopen\u001b[0m\u001b[0;34m(\u001b[0m\u001b[0;34m*\u001b[0m\u001b[0mpopenargs\u001b[0m\u001b[0;34m,\u001b[0m \u001b[0;34m**\u001b[0m\u001b[0mkwargs\u001b[0m\u001b[0;34m)\u001b[0m \u001b[0;32mas\u001b[0m \u001b[0mp\u001b[0m\u001b[0;34m:\u001b[0m\u001b[0;34m\u001b[0m\u001b[0;34m\u001b[0m\u001b[0m\n\u001b[1;32m    324\u001b[0m         \u001b[0;32mtry\u001b[0m\u001b[0;34m:\u001b[0m\u001b[0;34m\u001b[0m\u001b[0;34m\u001b[0m\u001b[0m\n\u001b[0;32m--> 325\u001b[0;31m             \u001b[0;32mreturn\u001b[0m \u001b[0mp\u001b[0m\u001b[0;34m.\u001b[0m\u001b[0mwait\u001b[0m\u001b[0;34m(\u001b[0m\u001b[0mtimeout\u001b[0m\u001b[0;34m=\u001b[0m\u001b[0mtimeout\u001b[0m\u001b[0;34m)\u001b[0m\u001b[0;34m\u001b[0m\u001b[0;34m\u001b[0m\u001b[0m\n\u001b[0m\u001b[1;32m    326\u001b[0m         \u001b[0;32mexcept\u001b[0m\u001b[0;34m:\u001b[0m  \u001b[0;31m# Including KeyboardInterrupt, wait handled that.\u001b[0m\u001b[0;34m\u001b[0m\u001b[0;34m\u001b[0m\u001b[0m\n\u001b[1;32m    327\u001b[0m             \u001b[0mp\u001b[0m\u001b[0;34m.\u001b[0m\u001b[0mkill\u001b[0m\u001b[0;34m(\u001b[0m\u001b[0;34m)\u001b[0m\u001b[0;34m\u001b[0m\u001b[0;34m\u001b[0m\u001b[0m\n",
      "\u001b[0;32m~/anaconda3/lib/python3.7/subprocess.py\u001b[0m in \u001b[0;36mwait\u001b[0;34m(self, timeout)\u001b[0m\n\u001b[1;32m    988\u001b[0m             \u001b[0mendtime\u001b[0m \u001b[0;34m=\u001b[0m \u001b[0m_time\u001b[0m\u001b[0;34m(\u001b[0m\u001b[0;34m)\u001b[0m \u001b[0;34m+\u001b[0m \u001b[0mtimeout\u001b[0m\u001b[0;34m\u001b[0m\u001b[0;34m\u001b[0m\u001b[0m\n\u001b[1;32m    989\u001b[0m         \u001b[0;32mtry\u001b[0m\u001b[0;34m:\u001b[0m\u001b[0;34m\u001b[0m\u001b[0;34m\u001b[0m\u001b[0m\n\u001b[0;32m--> 990\u001b[0;31m             \u001b[0;32mreturn\u001b[0m \u001b[0mself\u001b[0m\u001b[0;34m.\u001b[0m\u001b[0m_wait\u001b[0m\u001b[0;34m(\u001b[0m\u001b[0mtimeout\u001b[0m\u001b[0;34m=\u001b[0m\u001b[0mtimeout\u001b[0m\u001b[0;34m)\u001b[0m\u001b[0;34m\u001b[0m\u001b[0;34m\u001b[0m\u001b[0m\n\u001b[0m\u001b[1;32m    991\u001b[0m         \u001b[0;32mexcept\u001b[0m \u001b[0mKeyboardInterrupt\u001b[0m\u001b[0;34m:\u001b[0m\u001b[0;34m\u001b[0m\u001b[0;34m\u001b[0m\u001b[0m\n\u001b[1;32m    992\u001b[0m             \u001b[0;31m# https://bugs.python.org/issue25942\u001b[0m\u001b[0;34m\u001b[0m\u001b[0;34m\u001b[0m\u001b[0;34m\u001b[0m\u001b[0m\n",
      "\u001b[0;32m~/anaconda3/lib/python3.7/subprocess.py\u001b[0m in \u001b[0;36m_wait\u001b[0;34m(self, timeout)\u001b[0m\n\u001b[1;32m   1622\u001b[0m                         \u001b[0;32mif\u001b[0m \u001b[0mself\u001b[0m\u001b[0;34m.\u001b[0m\u001b[0mreturncode\u001b[0m \u001b[0;32mis\u001b[0m \u001b[0;32mnot\u001b[0m \u001b[0;32mNone\u001b[0m\u001b[0;34m:\u001b[0m\u001b[0;34m\u001b[0m\u001b[0;34m\u001b[0m\u001b[0m\n\u001b[1;32m   1623\u001b[0m                             \u001b[0;32mbreak\u001b[0m  \u001b[0;31m# Another thread waited.\u001b[0m\u001b[0;34m\u001b[0m\u001b[0;34m\u001b[0m\u001b[0m\n\u001b[0;32m-> 1624\u001b[0;31m                         \u001b[0;34m(\u001b[0m\u001b[0mpid\u001b[0m\u001b[0;34m,\u001b[0m \u001b[0msts\u001b[0m\u001b[0;34m)\u001b[0m \u001b[0;34m=\u001b[0m \u001b[0mself\u001b[0m\u001b[0;34m.\u001b[0m\u001b[0m_try_wait\u001b[0m\u001b[0;34m(\u001b[0m\u001b[0;36m0\u001b[0m\u001b[0;34m)\u001b[0m\u001b[0;34m\u001b[0m\u001b[0;34m\u001b[0m\u001b[0m\n\u001b[0m\u001b[1;32m   1625\u001b[0m                         \u001b[0;31m# Check the pid and loop as waitpid has been known to\u001b[0m\u001b[0;34m\u001b[0m\u001b[0;34m\u001b[0m\u001b[0;34m\u001b[0m\u001b[0m\n\u001b[1;32m   1626\u001b[0m                         \u001b[0;31m# return 0 even without WNOHANG in odd situations.\u001b[0m\u001b[0;34m\u001b[0m\u001b[0;34m\u001b[0m\u001b[0;34m\u001b[0m\u001b[0m\n",
      "\u001b[0;32m~/anaconda3/lib/python3.7/subprocess.py\u001b[0m in \u001b[0;36m_try_wait\u001b[0;34m(self, wait_flags)\u001b[0m\n\u001b[1;32m   1580\u001b[0m             \u001b[0;34m\"\"\"All callers to this function MUST hold self._waitpid_lock.\"\"\"\u001b[0m\u001b[0;34m\u001b[0m\u001b[0;34m\u001b[0m\u001b[0m\n\u001b[1;32m   1581\u001b[0m             \u001b[0;32mtry\u001b[0m\u001b[0;34m:\u001b[0m\u001b[0;34m\u001b[0m\u001b[0;34m\u001b[0m\u001b[0m\n\u001b[0;32m-> 1582\u001b[0;31m                 \u001b[0;34m(\u001b[0m\u001b[0mpid\u001b[0m\u001b[0;34m,\u001b[0m \u001b[0msts\u001b[0m\u001b[0;34m)\u001b[0m \u001b[0;34m=\u001b[0m \u001b[0mos\u001b[0m\u001b[0;34m.\u001b[0m\u001b[0mwaitpid\u001b[0m\u001b[0;34m(\u001b[0m\u001b[0mself\u001b[0m\u001b[0;34m.\u001b[0m\u001b[0mpid\u001b[0m\u001b[0;34m,\u001b[0m \u001b[0mwait_flags\u001b[0m\u001b[0;34m)\u001b[0m\u001b[0;34m\u001b[0m\u001b[0;34m\u001b[0m\u001b[0m\n\u001b[0m\u001b[1;32m   1583\u001b[0m             \u001b[0;32mexcept\u001b[0m \u001b[0mChildProcessError\u001b[0m\u001b[0;34m:\u001b[0m\u001b[0;34m\u001b[0m\u001b[0;34m\u001b[0m\u001b[0m\n\u001b[1;32m   1584\u001b[0m                 \u001b[0;31m# This happens if SIGCLD is set to be ignored or waiting\u001b[0m\u001b[0;34m\u001b[0m\u001b[0;34m\u001b[0m\u001b[0;34m\u001b[0m\u001b[0m\n",
      "\u001b[0;31mKeyboardInterrupt\u001b[0m: "
     ]
    }
   ],
   "source": [
    "bash_script = '/home/alex/Desktop/Insight project/launch_instance.sh'\n",
    "for instance_nb, i in enumerate(instances):\n",
    "    sp.check_call([bash_script, '-ip', str(i.public_ip_address), '-tr', str(list_of_work[instance_nb])])"
   ]
  },
  {
   "cell_type": "code",
   "execution_count": null,
   "metadata": {},
   "outputs": [],
   "source": []
  }
 ],
 "metadata": {
  "kernelspec": {
   "display_name": "Python 3",
   "language": "python",
   "name": "python3"
  },
  "language_info": {
   "codemirror_mode": {
    "name": "ipython",
    "version": 3
   },
   "file_extension": ".py",
   "mimetype": "text/x-python",
   "name": "python",
   "nbconvert_exporter": "python",
   "pygments_lexer": "ipython3",
   "version": "3.7.3"
  }
 },
 "nbformat": 4,
 "nbformat_minor": 2
}
