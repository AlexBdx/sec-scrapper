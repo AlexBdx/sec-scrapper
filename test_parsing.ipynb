{
 "cells": [
  {
   "cell_type": "code",
   "execution_count": 1,
   "metadata": {},
   "outputs": [],
   "source": [
    "import re"
   ]
  },
  {
   "cell_type": "code",
   "execution_count": 47,
   "metadata": {},
   "outputs": [],
   "source": [
    "path_file = '000114420418011461.html'\n",
    "#path_file = 'test.html'\n",
    "with open(path_file) as f:\n",
    "    data = f.read()\n",
    "end_toc = re.search('PART[ \\n\\t]*IV', data)\n",
    "data = data[end_toc.end():]"
   ]
  },
  {
   "cell_type": "code",
   "execution_count": 48,
   "metadata": {},
   "outputs": [
    {
     "name": "stdout",
     "output_type": "stream",
     "text": [
      "[(5459, 5465), (208474, 208480), (5034608, 5034614), (5039995, 5040001)]\n",
      "7.84 ms ± 37.9 µs per loop (mean ± std. dev. of 7 runs, 100 loops each)\n"
     ]
    }
   ],
   "source": [
    "# Non compiled version\n",
    "pattern = 'PART[ \\n\\t]*[I(II)(III)(IV)]'\n",
    "print([m.span() for m in re.finditer(pattern, data)])\n",
    "%timeit [m.span() for m in re.finditer(pattern, data)]"
   ]
  },
  {
   "cell_type": "code",
   "execution_count": 68,
   "metadata": {},
   "outputs": [
    {
     "name": "stdout",
     "output_type": "stream",
     "text": [
      "{'PART I': (5459, 5465), 'PART II': (208474, 208481), 'PART III': (5034608, 5034616), 'PART IV': (5039995, 5040002)}\n"
     ]
    }
   ],
   "source": [
    "# Compiled version\n",
    "a = re.compile('PART[ \\n\\t]*I[IV]{0,2}')\n",
    "res = {m.group(): m.span() for m in re.finditer(a, data)}\n",
    "print(res)\n",
    "# %timeit [m.span() for m in re.finditer(a, data)]"
   ]
  },
  {
   "cell_type": "code",
   "execution_count": 69,
   "metadata": {},
   "outputs": [
    {
     "data": {
      "text/plain": [
       "True"
      ]
     },
     "execution_count": 69,
     "metadata": {},
     "output_type": "execute_result"
    }
   ],
   "source": [
    "'PART I' in res"
   ]
  },
  {
   "cell_type": "code",
   "execution_count": null,
   "metadata": {},
   "outputs": [],
   "source": []
  }
 ],
 "metadata": {
  "kernelspec": {
   "display_name": "Python 3",
   "language": "python",
   "name": "python3"
  },
  "language_info": {
   "codemirror_mode": {
    "name": "ipython",
    "version": 3
   },
   "file_extension": ".py",
   "mimetype": "text/x-python",
   "name": "python",
   "nbconvert_exporter": "python",
   "pygments_lexer": "ipython3",
   "version": "3.7.3"
  }
 },
 "nbformat": 4,
 "nbformat_minor": 2
}
