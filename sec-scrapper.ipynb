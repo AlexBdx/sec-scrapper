{
 "cells": [
  {
   "cell_type": "code",
   "execution_count": 5,
   "metadata": {},
   "outputs": [],
   "source": [
    "# import our libraries\n",
    "import os\n",
    "import requests, zipfile, io\n",
    "import urllib\n",
    "from bs4 import BeautifulSoup\n",
    "from tqdm import tqdm_notebook, tqdm\n",
    "import multiprocessing as mp\n",
    "from datetime import datetime\n",
    "import time\n",
    "import csv\n",
    "import itertools\n",
    "import matplotlib\n",
    "import matplotlib.pyplot as plt\n",
    "from vaderSentiment.vaderSentiment import SentimentIntensityAnalyzer\n",
    "import numpy as np\n",
    "import argparse\n",
    "from termcolor import colored"
   ]
  },
  {
   "cell_type": "code",
   "execution_count": 2,
   "metadata": {},
   "outputs": [],
   "source": [
    "\"\"\"List of arguments to be received\"\"\"\n",
    "\"\"\"\n",
    "ap = argparse.ArgumentParser()\n",
    "ap.add_argument(\"-tr\", \"--time_range\", type=str, required=True, help=\"Temporal range of the data to download\")\n",
    "args = vars(ap.parse_args())\n",
    "time_range = args[\"time_range\"]\n",
    "\"\"\"\n",
    "# Specify the start and finish of the data collection\n",
    "# The range is specified in QTR (1 to 4 each year)\n",
    "# The range is inclusive of the min the max\n",
    "\n",
    "time_range = [(2018, 1), (2018, 4)]"
   ]
  },
  {
   "cell_type": "code",
   "execution_count": 3,
   "metadata": {},
   "outputs": [
    {
     "data": {
      "text/plain": [
       "True"
      ]
     },
     "execution_count": 3,
     "metadata": {},
     "output_type": "execute_result"
    }
   ],
   "source": [
    "\"\"\"Set up the working path\"\"\"\n",
    "home = os.path.expanduser(\"~\")\n",
    "project_root = os.path.join(home, 'Desktop/data')\n",
    "\n",
    "path_master_indexes = os.path.join(project_root, 'master_indexes')\n",
    "path_daily_data = os.path.join(project_root, 'daily_data')\n",
    "path_error_log = os.path.join(project_root, 'errors.log')\n",
    "path_download_status_log = os.path.join(project_root, 'download_status.log')\n",
    "base_url = \"https://www.sec.gov/Archives/\"\n",
    "\n",
    "# Check that the folder structure exists and we have the permission to write on it\n",
    "def test_setup_work_directory():\n",
    "    # Build the directory architecture if it does not exist yet\n",
    "    if not os.path.isdir(project_root):\n",
    "        os.makedirs(project_root)\n",
    "    path_temp_file = os.path.join(project_root, 'temp_test_setup_work_directory.temp')\n",
    "    with open(path_temp_file, 'w') as f:\n",
    "        pass\n",
    "    os.remove(path_temp_file)\n",
    "    return True\n",
    "\n",
    "test_setup_work_directory()"
   ]
  },
  {
   "cell_type": "code",
   "execution_count": 4,
   "metadata": {},
   "outputs": [],
   "source": [
    "verbose = False"
   ]
  },
  {
   "cell_type": "markdown",
   "metadata": {},
   "source": [
    "## Set the parameters of interest"
   ]
  },
  {
   "cell_type": "markdown",
   "metadata": {},
   "source": [
    "### Documents of interests"
   ]
  },
  {
   "cell_type": "code",
   "execution_count": 5,
   "metadata": {},
   "outputs": [],
   "source": [
    "doc_types = [\n",
    "    '10-K',\n",
    "    '10-Q',\n",
    "]"
   ]
  },
  {
   "cell_type": "code",
   "execution_count": 6,
   "metadata": {},
   "outputs": [],
   "source": [
    "info = {}"
   ]
  },
  {
   "cell_type": "markdown",
   "metadata": {},
   "source": [
    "## Create the list of master indexes to download"
   ]
  },
  {
   "cell_type": "code",
   "execution_count": 7,
   "metadata": {},
   "outputs": [
    {
     "data": {
      "text/plain": [
       "True"
      ]
     },
     "execution_count": 7,
     "metadata": {},
     "output_type": "execute_result"
    }
   ],
   "source": [
    "def create_qtr_list(time_range):\n",
    "    # Sanity checks\n",
    "    assert len(time_range) == 2\n",
    "    assert 1994 <= time_range[0][0] and 1994 <= time_range[1][0]\n",
    "    assert 1 <= time_range[0][1] <= 4 and 1 <= time_range[1][1] <= 4\n",
    "    assert time_range[1][0] >= time_range[0][0]\n",
    "    if time_range[1][0] == time_range[0][0]:  # Same year\n",
    "        assert time_range[1][1] >= time_range[0][1]  # Need different QTR\n",
    "    \n",
    "    list_qtr = []\n",
    "    for year in range(time_range[0][0], time_range[1][0]+1):\n",
    "        for qtr in range(1, 5):\n",
    "            # Manage the start and end within a year\n",
    "            if year == time_range[0][0]:\n",
    "                if qtr < time_range[0][1]:\n",
    "                    continue\n",
    "            if year == time_range[1][0]:\n",
    "                if qtr > time_range[1][1]:\n",
    "                    break\n",
    "            \n",
    "            # Common case\n",
    "            list_qtr.append((year, qtr))\n",
    "    \n",
    "    # Sanity checks\n",
    "    assert list_qtr[0] == time_range[0]\n",
    "    assert list_qtr[-1] == time_range[1]\n",
    "    return list_qtr\n",
    "\n",
    "def test_create_qtr_list():\n",
    "    test_1 = create_qtr_list([(2018, 1), (2018, 4)])\n",
    "    assert test_1 == [(2018, 1), (2018, 2), (2018, 3), (2018, 4)]\n",
    "    test_2 = create_qtr_list([(2016, 2), (2017, 3)])\n",
    "    assert test_2 == [(2016, 2), (2016, 3), (2016, 4), (2017, 1), (2017, 2), (2017, 3)]\n",
    "    return True\n",
    "test_create_qtr_list()"
   ]
  },
  {
   "cell_type": "code",
   "execution_count": 8,
   "metadata": {},
   "outputs": [
    {
     "data": {
      "text/plain": [
       "[(2018, 1), (2018, 2), (2018, 3), (2018, 4)]"
      ]
     },
     "execution_count": 8,
     "metadata": {},
     "output_type": "execute_result"
    }
   ],
   "source": [
    "info['quarters'] = create_qtr_list(time_range)\n",
    "info['quarters']"
   ]
  },
  {
   "cell_type": "code",
   "execution_count": 9,
   "metadata": {},
   "outputs": [
    {
     "data": {
      "text/plain": [
       "True"
      ]
     },
     "execution_count": 9,
     "metadata": {},
     "output_type": "execute_result"
    }
   ],
   "source": [
    "def yearly_qtr_list(time_range):\n",
    "    year_list = []\n",
    "    if time_range[0][0] == time_range[1][0]:\n",
    "        year_list = create_qtr_list(time_range)\n",
    "    else:\n",
    "        for year in range(time_range[0][0], time_range[1][0]+1):\n",
    "            if year == time_range[0][0]:\n",
    "                year_list.append(create_qtr_list([(year, time_range[0][1]), (year, 4)]))\n",
    "            elif year == time_range[1][0]:\n",
    "                year_list.append(create_qtr_list([(year, 1), (year, time_range[1][1])]))\n",
    "            else:\n",
    "                year_list.append(create_qtr_list([(year, 1), (year, 4)]))\n",
    "    return year_list\n",
    "\n",
    "def test_yearly_qtr_list():\n",
    "    test_1 = yearly_qtr_list([(2016, 2), (2016, 2)])\n",
    "    assert test_1 == [(2016, 2)]\n",
    "    test_2 = yearly_qtr_list([(2015, 2), (2016, 3)])\n",
    "    assert test_2 == [[(2015, 2), (2015, 3), (2015, 4)], [(2016, 1), (2016, 2), (2016, 3)]]\n",
    "    return True\n",
    "test_yearly_qtr_list()"
   ]
  },
  {
   "cell_type": "code",
   "execution_count": 10,
   "metadata": {},
   "outputs": [],
   "source": [
    "# Build the URL for the master index of a given quarter\n",
    "def qtr_to_master_url(qtr):\n",
    "    assert type(qtr) == tuple\n",
    "    url = r\"https://www.sec.gov/Archives/edgar/full-index\"\n",
    "    return '{}/{}/QTR{}/master.zip'.format(url, qtr[0], qtr[1])"
   ]
  },
  {
   "cell_type": "code",
   "execution_count": 11,
   "metadata": {},
   "outputs": [],
   "source": [
    "def master_url_to_filepath(url):\n",
    "    qtr = url.split('/')\n",
    "    return os.path.join(path_master_indexes, qtr[6], qtr[7], 'master.zip')"
   ]
  },
  {
   "cell_type": "code",
   "execution_count": 12,
   "metadata": {},
   "outputs": [],
   "source": [
    "def create_list_url_master_zip(list_qtr):\n",
    "    # Sanity checks\n",
    "    assert len(list_qtr)\n",
    "    \n",
    "    list_master_idx = []\n",
    "    for qtr in list_qtr:\n",
    "        list_master_idx.append(qtr_to_master_url(qtr))\n",
    "    return list_master_idx"
   ]
  },
  {
   "cell_type": "code",
   "execution_count": 13,
   "metadata": {},
   "outputs": [
    {
     "data": {
      "text/plain": [
       "['https://www.sec.gov/Archives/edgar/full-index/2018/QTR1/master.zip',\n",
       " 'https://www.sec.gov/Archives/edgar/full-index/2018/QTR2/master.zip',\n",
       " 'https://www.sec.gov/Archives/edgar/full-index/2018/QTR3/master.zip',\n",
       " 'https://www.sec.gov/Archives/edgar/full-index/2018/QTR4/master.zip']"
      ]
     },
     "execution_count": 13,
     "metadata": {},
     "output_type": "execute_result"
    }
   ],
   "source": [
    "info['url_master_zip'] = create_list_url_master_zip(info['quarters'])\n",
    "info['url_master_zip']"
   ]
  },
  {
   "cell_type": "markdown",
   "metadata": {},
   "source": [
    "## Download all the master indexes as zip files"
   ]
  },
  {
   "cell_type": "code",
   "execution_count": 14,
   "metadata": {},
   "outputs": [
    {
     "data": {
      "text/plain": [
       "True"
      ]
     },
     "execution_count": 14,
     "metadata": {},
     "output_type": "execute_result"
    }
   ],
   "source": [
    "def is_downloaded(filepath):\n",
    "    #expected_path = master_url_to_filepath(url_idx)\n",
    "    if os.path.isfile(filepath):\n",
    "        return True\n",
    "    else:  # Build the folder architecture if needed\n",
    "        if not os.path.isdir(os.path.split(filepath)[0]):\n",
    "            os.makedirs(os.path.split(filepath)[0])\n",
    "        return False\n",
    "\n",
    "def test_is_downloaded():\n",
    "    test_1 = is_downloaded(\"/ahsbxaksjhbxhjx.txt\")\n",
    "    assert test_1 == False\n",
    "    path_temp_file = os.path.join(home, \"temp_test_is_downloaded.temp\")\n",
    "    with open(path_temp_file, 'w') as f:\n",
    "        pass\n",
    "    test_2 = is_downloaded(path_temp_file)\n",
    "    os.remove(path_temp_file)\n",
    "    assert test_2 == True\n",
    "    return True\n",
    "test_is_downloaded()"
   ]
  },
  {
   "cell_type": "code",
   "execution_count": 15,
   "metadata": {},
   "outputs": [
    {
     "data": {
      "text/plain": [
       "['/home/alex/Desktop/data/master_indexes/2018/QTR1/master.zip',\n",
       " '/home/alex/Desktop/data/master_indexes/2018/QTR2/master.zip',\n",
       " '/home/alex/Desktop/data/master_indexes/2018/QTR3/master.zip',\n",
       " '/home/alex/Desktop/data/master_indexes/2018/QTR4/master.zip']"
      ]
     },
     "execution_count": 15,
     "metadata": {},
     "output_type": "execute_result"
    }
   ],
   "source": [
    "info['path_master_zip'] = []\n",
    "for url in info['url_master_zip']:\n",
    "    info['path_master_zip'].append(master_url_to_filepath(url))\n",
    "info['path_master_zip']  # list of all the zips we need"
   ]
  },
  {
   "cell_type": "markdown",
   "metadata": {},
   "source": [
    "def is_downloaded(url_idx):\n",
    "    expected_path = master_url_to_filepath(url_idx)\n",
    "    if os.path.isfile(expected_path):\n",
    "        return True\n",
    "    else:  # Build the folder architecture if needed\n",
    "        if not os.path.isdir(os.path.split(expected_path)[0]):\n",
    "            os.makedirs(os.path.split(expected_path)[0])\n",
    "        return False"
   ]
  },
  {
   "cell_type": "code",
   "execution_count": 16,
   "metadata": {},
   "outputs": [
    {
     "name": "stderr",
     "output_type": "stream",
     "text": [
      "100%|██████████| 4/4 [00:00<00:00, 3894.43it/s]"
     ]
    },
    {
     "name": "stdout",
     "output_type": "stream",
     "text": [
      "{'bytes_downloaded': 0, 'count_downloaded': 0}\n"
     ]
    },
    {
     "name": "stderr",
     "output_type": "stream",
     "text": [
      "\n"
     ]
    }
   ],
   "source": [
    "\"\"\"Verify that the master index zip are present. If not, download it.\"\"\"\n",
    "download_stats = {\n",
    "    'bytes_downloaded': 0,\n",
    "    'count_downloaded': 0\n",
    "}  # Number of files, bytes\n",
    "\n",
    "for n, filepath in enumerate(tqdm(info['path_master_zip'])):\n",
    "    # Check if that zip has already been downloaded\n",
    "    # print(filepath, is_downloaded(filepath))\n",
    "    # assert 0\n",
    "    if not is_downloaded(filepath):\n",
    "        #raw_idx = requests.get(url_idx)\n",
    "        (filename, headers) = urllib.request.urlretrieve(info['url_master_zip'][n], filepath)\n",
    "        if verbose:\n",
    "            print(filename, headers)\n",
    "        download_stats['bytes_downloaded'] += os.path.getsize(filepath)\n",
    "        download_stats['count_downloaded'] += 1\n",
    "    else:\n",
    "        if verbose:\n",
    "            print(\"[WARNING] Skipping {}: already downloaded.\"\n",
    "                  .format(filepath))\n",
    "\n",
    "print(download_stats)"
   ]
  },
  {
   "cell_type": "markdown",
   "metadata": {},
   "source": [
    "## Unzip all the master indexes"
   ]
  },
  {
   "cell_type": "code",
   "execution_count": 17,
   "metadata": {},
   "outputs": [],
   "source": [
    "# Create an unzipping function to be run by a pool of workers\n",
    "def unzip_file(path):\n",
    "    with zipfile.ZipFile(path, 'r') as zip_ref:\n",
    "        zip_ref.extractall(os.path.split(path)[0])"
   ]
  },
  {
   "cell_type": "code",
   "execution_count": 18,
   "metadata": {},
   "outputs": [
    {
     "name": "stdout",
     "output_type": "stream",
     "text": [
      "[WARNING] Nothing to unzip. Is this normal?.\n"
     ]
    },
    {
     "data": {
      "text/plain": [
       "['/home/alex/Desktop/data/master_indexes/2018/QTR1/master.idx',\n",
       " '/home/alex/Desktop/data/master_indexes/2018/QTR2/master.idx',\n",
       " '/home/alex/Desktop/data/master_indexes/2018/QTR3/master.idx',\n",
       " '/home/alex/Desktop/data/master_indexes/2018/QTR4/master.idx']"
      ]
     },
     "execution_count": 18,
     "metadata": {},
     "output_type": "execute_result"
    }
   ],
   "source": [
    "# 1. Build the list of zip files to extract\n",
    "files_to_unzip = []\n",
    "info['path_master_idx'] = []\n",
    "for path_master_zip in info['path_master_zip']:\n",
    "    path_master_index = path_master_zip[:-3]+'idx'  # Convert to index\n",
    "    info['path_master_idx'].append(path_master_index)\n",
    "    if not os.path.isfile(path_master_index):\n",
    "        files_to_unzip.append(path_master_zip)\n",
    "        #unzip_file(file)\n",
    "    else:\n",
    "        if verbose:\n",
    "            print(\"[WARNING] Skipping unzip of {}: already unzipped\"\n",
    "                  .format(path_master_zip))\n",
    "\n",
    "# 2. Unzip all zips using a pool\n",
    "if len(files_to_unzip):\n",
    "    t0 = time.perf_counter()\n",
    "    # Launch a pool of workers\n",
    "    pool = mp.Pool(min(mp.cpu_count(), len(files_to_unzip)))\n",
    "    #pool.map(unzip_file, files_to_unzip, chunksize=1)\n",
    "    r = list(tqdm(pool.imap(unzip_file, files_to_unzip, chunksize=1), total=len(files_to_unzip)))\n",
    "    pool.close()\n",
    "    t1 = time.perf_counter()\n",
    "    size_unzipped = download_stats['bytes_downloaded']//2**20\n",
    "    print(\"[INFO] Unzipped {} Mb in {:.3f} s ({:.1f} Mb/s)\"\n",
    "          .format(size_unzipped, t1-t0, size_unzipped/((t1-t0))))\n",
    "else:\n",
    "    print(\"[WARNING] Nothing to unzip. Is this normal?.\")\n",
    "\n",
    "info['path_master_idx']"
   ]
  },
  {
   "cell_type": "markdown",
   "metadata": {},
   "source": [
    "## Parse all the indexes"
   ]
  },
  {
   "cell_type": "code",
   "execution_count": 19,
   "metadata": {},
   "outputs": [],
   "source": [
    "def parse_index(path, doc_types):\n",
    "    # This method is bound to be run in parallel\n",
    "    # Parses one master index and returns the URL of all the interesting documents in a dictionary\n",
    "    docs = {key: [] for key in doc_types}  # Initialize an empty partial dictionary\n",
    "    with open(path, 'r', encoding=\"utf8\", errors='ignore') as f:\n",
    "        data = csv.reader(f, delimiter='|')\n",
    "        \n",
    "        for _ in range(11):  # Jump to line 12\n",
    "            next(data)\n",
    "        \n",
    "        for row in data:\n",
    "            if row[2] in doc_types:\n",
    "                date = \"\".join(row[3].split('-'))  # Format is YYYYMMDD\n",
    "                end_url = row[4]  # You get the end of the URL for that file\n",
    "                # The CIK can be accessed by parsing the end_url so no need to store it\n",
    "                docs[row[2]].append((date, end_url))    \n",
    "    return docs"
   ]
  },
  {
   "cell_type": "code",
   "execution_count": 20,
   "metadata": {},
   "outputs": [
    {
     "name": "stdout",
     "output_type": "stream",
     "text": [
      "\n",
      "[INFO] Parsed 4 indexes and merged 94489 URL in 0.821 s (115,089.9 URL/s)\n",
      "{'10-K': 7092, '10-Q': 19216, '8-K': 68181}\n",
      "\n",
      "\n",
      "[INFO] Displaying 10 sample local paths:\n",
      "\n",
      "Report type: 10-K (10/7,092)\n",
      "20180314 edgar/data/1000209/0001193125-18-082402.txt\n",
      "20180221 edgar/data/1000228/0001000228-18-000012.txt\n",
      "20180212 edgar/data/1000229/0001000229-18-000025.txt\n",
      "20180316 edgar/data/1000232/0001558370-18-002201.txt\n",
      "20180316 edgar/data/1000298/0001558370-18-002168.txt\n",
      "...\n",
      "20181129 edgar/data/933974/0001558370-18-009497.txt\n",
      "20181231 edgar/data/935419/0001493152-18-018121.txt\n",
      "20181221 edgar/data/936395/0000936395-18-000048.txt\n",
      "20181120 edgar/data/936528/0000936528-18-000072.txt\n",
      "20181226 edgar/data/945617/0001721868-18-000768.txt\n",
      "\n",
      "Report type: 10-Q (10/19,216)\n",
      "20180209 edgar/data/1000045/0001193125-18-037381.txt\n",
      "20180313 edgar/data/1000230/0001437749-18-004449.txt\n",
      "20180206 edgar/data/1001039/0001628280-18-001147.txt\n",
      "20180207 edgar/data/1001115/0001564590-18-001474.txt\n",
      "20180202 edgar/data/1001250/0001104659-18-006059.txt\n",
      "...\n",
      "20181101 edgar/data/99250/0000099250-18-000012.txt\n",
      "20181106 edgar/data/99302/0001206774-18-003116.txt\n",
      "20181109 edgar/data/99771/0000099771-18-000093.txt\n",
      "20181025 edgar/data/99780/0000099780-18-000177.txt\n",
      "20181029 edgar/data/9984/0000009984-18-000083.txt\n",
      "\n",
      "Report type: 8-K (10/68,181)\n",
      "20180109 edgar/data/1000045/0001193125-18-007253.txt\n",
      "20180205 edgar/data/1000045/0001193125-18-032199.txt\n",
      "20180207 edgar/data/1000045/0001193125-18-034693.txt\n",
      "20180220 edgar/data/1000045/0001193125-18-049706.txt\n",
      "20180205 edgar/data/1000209/0001193125-18-032155.txt\n",
      "...\n",
      "20181116 edgar/data/99780/0000099780-18-000213.txt\n",
      "20181219 edgar/data/99780/0000099780-18-000215.txt\n",
      "20181024 edgar/data/9984/0001206774-18-002990.txt\n",
      "20181026 edgar/data/9984/0000009984-18-000080.txt\n",
      "20181031 edgar/data/9984/0000898822-18-000074.txt\n"
     ]
    }
   ],
   "source": [
    "# 1. Build the list of files to download based on the parsing\n",
    "\"\"\"[TBR]\n",
    "for file in info['path_master_zip']:\n",
    "    path_index = file[:-3]+'idx'  # Switch to the idx file w/o saving it\n",
    "    \n",
    "list_master_idx = []\n",
    "for path in download_stats['file_path']:\n",
    "    list_master_idx.append(path[:-3]+'idx')\n",
    "print(list_master_idx)\n",
    "\"\"\"\n",
    "\n",
    "# 1. Create the list of URL that have the documents of importance\n",
    "doc_of_interest = {key: [] for key in doc_types}\n",
    "if len(info['path_master_idx']):\n",
    "    t0 = time.perf_counter()\n",
    "    # Launch a pool of workers\n",
    "    #pool = mp.Pool(min(mp.cpu_count(), len(list_master_idx)))\n",
    "    #pool.map(parse_index, list_master_idx, chunksize=1)\n",
    "    for master_idx in info['path_master_idx']:\n",
    "        parsed_index = parse_index(master_idx, doc_types)  # Returns a dict with all doc types\n",
    "        # Add the lists that came in the parsed_index to a general dictionary\n",
    "        for key in parsed_index:\n",
    "            doc_of_interest[key].append(parsed_index[key])\n",
    "        # Now, doc_of_interest has a lists of lists of data\n",
    "        \n",
    "    #r = list(tqdm_notebook(pool.imap(parse_index, list_master_idx, chunksize=1), total=len(list_master_idx)))\n",
    "    #pool.close()\n",
    "    #print(r)\n",
    "    \n",
    "    # Merging all the dict via comprehension\n",
    "    general_url = {key: list(itertools.chain.from_iterable(doc_of_interest[key])) for key in doc_of_interest}\n",
    "    nb_url = {key: len(value) for key, value in general_url.items()}\n",
    "    \n",
    "    t1 = time.perf_counter()\n",
    "    print()\n",
    "    print(\"[INFO] Parsed {} indexes and merged {} URL in {:.3f} s ({:,.1f} URL/s)\"\n",
    "          .format(len(info['path_master_idx']), sum(nb_url.values()), t1-t0, sum(nb_url.values())/(t1-t0)))\n",
    "else:\n",
    "    print(\"[WARNING] No URL to merge. This is unusual.\")\n",
    "\n",
    "\n",
    "# 2. Display sample URLs\n",
    "print(nb_url)\n",
    "max_display = 10\n",
    "print(\"\\n\\n[INFO] Displaying {} sample local paths:\".format(max_display))\n",
    "for key in general_url:\n",
    "    print(\"\\nReport type:\", key, \"({}/{:,})\".format(max_display, nb_url[key]))\n",
    "    for k in range(max_display//2):\n",
    "        # print(general_url[key][k])\n",
    "        print(general_url[key][k][0], general_url[key][k][1])\n",
    "    print(\"...\")\n",
    "    for k in range(len(general_url[key]) - max_display//2, len(general_url[key])):\n",
    "        print(general_url[key][k][0], general_url[key][k][1])"
   ]
  },
  {
   "cell_type": "markdown",
   "metadata": {},
   "source": [
    "## Download the documents of interest"
   ]
  },
  {
   "cell_type": "code",
   "execution_count": 21,
   "metadata": {},
   "outputs": [
    {
     "data": {
      "image/png": "[encoded data removed]",
      "text/plain": [
       "<Figure size 1080x360 with 1 Axes>"
      ]
     },
     "metadata": {
      "needs_background": "light"
     },
     "output_type": "display_data"
    }
   ],
   "source": [
    "\"\"\"Display how many documents are available for that time period\"\"\"\n",
    "# Do some stats on the document dates as a sanity check\n",
    "# Calculate the number of documents per date\n",
    "stats = {}\n",
    "for key in general_url:\n",
    "    for entry in general_url[key]:\n",
    "        datetime_date = datetime.strptime(entry[0], '%Y%m%d')\n",
    "        try:\n",
    "            stats[datetime_date] += 1\n",
    "        except:\n",
    "            stats[datetime_date] = 1\n",
    "\n",
    "assert sum(stats.values()) == sum(nb_url.values())\n",
    "\n",
    "\n",
    "# Sort the list for plotting and display\n",
    "lists = sorted(stats.items()) # sorted by key, return a list of tuples\n",
    "x, y = zip(*lists) # unpack a list of pairs into two tuples\n",
    "\n",
    "plt.figure(figsize=(15, 5))\n",
    "dates = matplotlib.dates.date2num(x)\n",
    "plt.plot_date(dates, y)\n",
    "plt.title(\"Historical repartition of relevant documents\\nTotal count: {:,} | {} to {}\"\n",
    "          .format(sum(stats.values()), time_range[0], time_range[1]), fontsize=20)\n",
    "plt.ylabel('Document count [-]', fontsize=16)\n",
    "plt.xlabel('Date [-]', fontsize=16)\n",
    "plt.show()"
   ]
  },
  {
   "cell_type": "markdown",
   "metadata": {},
   "source": [
    "def is_downloaded(filepath):\n",
    "    #expected_path = master_url_to_filepath(url_idx)\n",
    "    if os.path.isfile(filepath):\n",
    "        return True\n",
    "    else:  # Build the folder architecture if needed\n",
    "        if not os.path.isdir(os.path.split(filepath)[0]):\n",
    "            os.makedirs(os.path.split(filepath)[0])\n",
    "        return False"
   ]
  },
  {
   "cell_type": "code",
   "execution_count": 22,
   "metadata": {},
   "outputs": [],
   "source": [
    "def doc_url_to_filepath(submission_date, end_url):\n",
    "    # entry is a tuple containing the date and the end_url. \n",
    "    # The CIK can be found from the end_url\n",
    "    # The submission ID can be found from there too\n",
    "    \n",
    "    cik = end_url.split('/')[2]\n",
    "    submission_id = \"\".join(end_url.split('/')[3][:-4].split('-'))\n",
    "    #print(entry, cik, submission_id)\n",
    "    return os.path.join(path_daily_data, submission_date, cik, submission_id+'.html')"
   ]
  },
  {
   "cell_type": "code",
   "execution_count": 23,
   "metadata": {},
   "outputs": [],
   "source": [
    "def doc_url_to_FilingSummary_url(end_url):\n",
    "    # WARNING: Not all files have a filing summary. 10-Q and 10-K do.\n",
    "    # Convert a document url to the url of its xml summary\n",
    "    cik_folder = end_url.split('/')[:3]\n",
    "    submission_id = \"\".join(end_url.split('/')[3][:-4].split('-'))\n",
    "    final_url = \"/\".join([base_url.rstrip('/'), *cik_folder, submission_id, 'FilingSummary.xml'])\n",
    "    return final_url"
   ]
  },
  {
   "cell_type": "code",
   "execution_count": 24,
   "metadata": {},
   "outputs": [
    {
     "name": "stderr",
     "output_type": "stream",
     "text": [
      "100%|██████████| 7092/7092 [00:00<00:00, 117656.85it/s]\n",
      "100%|██████████| 19216/19216 [00:00<00:00, 317005.69it/s]\n",
      "100%|██████████| 68181/68181 [00:00<00:00, 394265.00it/s]"
     ]
    },
    {
     "name": "stdout",
     "output_type": "stream",
     "text": [
      "[INFO] Displaying 10 sample local paths:\n",
      "\n",
      "Report type: 10-K (10/7,092)\n",
      "/home/alex/Desktop/data/daily_data/20180314/1000209/000119312518082402.html\n",
      "/home/alex/Desktop/data/daily_data/20180221/1000228/000100022818000012.html\n",
      "/home/alex/Desktop/data/daily_data/20180212/1000229/000100022918000025.html\n",
      "/home/alex/Desktop/data/daily_data/20180316/1000232/000155837018002201.html\n",
      "/home/alex/Desktop/data/daily_data/20180316/1000298/000155837018002168.html\n",
      "...\n",
      "/home/alex/Desktop/data/daily_data/20181129/933974/000155837018009497.html\n",
      "/home/alex/Desktop/data/daily_data/20181231/935419/000149315218018121.html\n",
      "/home/alex/Desktop/data/daily_data/20181221/936395/000093639518000048.html\n",
      "/home/alex/Desktop/data/daily_data/20181120/936528/000093652818000072.html\n",
      "/home/alex/Desktop/data/daily_data/20181226/945617/000172186818000768.html\n",
      "\n",
      "Report type: 10-Q (10/19,216)\n",
      "/home/alex/Desktop/data/daily_data/20180209/1000045/000119312518037381.html\n",
      "/home/alex/Desktop/data/daily_data/20180313/1000230/000143774918004449.html\n",
      "/home/alex/Desktop/data/daily_data/20180206/1001039/000162828018001147.html\n",
      "/home/alex/Desktop/data/daily_data/20180207/1001115/000156459018001474.html\n",
      "/home/alex/Desktop/data/daily_data/20180202/1001250/000110465918006059.html\n",
      "...\n",
      "/home/alex/Desktop/data/daily_data/20181101/99250/000009925018000012.html\n",
      "/home/alex/Desktop/data/daily_data/20181106/99302/000120677418003116.html\n",
      "/home/alex/Desktop/data/daily_data/20181109/99771/000009977118000093.html\n",
      "/home/alex/Desktop/data/daily_data/20181025/99780/000009978018000177.html\n",
      "/home/alex/Desktop/data/daily_data/20181029/9984/000000998418000083.html\n",
      "\n",
      "Report type: 8-K (10/68,181)\n",
      "/home/alex/Desktop/data/daily_data/20180109/1000045/000119312518007253.html\n",
      "/home/alex/Desktop/data/daily_data/20180205/1000045/000119312518032199.html\n",
      "/home/alex/Desktop/data/daily_data/20180207/1000045/000119312518034693.html\n",
      "/home/alex/Desktop/data/daily_data/20180220/1000045/000119312518049706.html\n",
      "/home/alex/Desktop/data/daily_data/20180205/1000209/000119312518032155.html\n",
      "...\n",
      "/home/alex/Desktop/data/daily_data/20181116/99780/000009978018000213.html\n",
      "/home/alex/Desktop/data/daily_data/20181219/99780/000009978018000215.html\n",
      "/home/alex/Desktop/data/daily_data/20181024/9984/000120677418002990.html\n",
      "/home/alex/Desktop/data/daily_data/20181026/9984/000000998418000080.html\n",
      "/home/alex/Desktop/data/daily_data/20181031/9984/000089882218000074.html\n"
     ]
    },
    {
     "name": "stderr",
     "output_type": "stream",
     "text": [
      "\n"
     ]
    }
   ],
   "source": [
    "# Generate the list of local path\n",
    "general_path = {key: [] for key in doc_types}\n",
    "for file_type in doc_types:\n",
    "    for entry in tqdm(general_url[file_type]):\n",
    "        general_path[file_type].append(doc_url_to_filepath(*entry))\n",
    "    assert len(general_path[file_type]) == len(general_url[file_type])\n",
    "\n",
    "max_display = 10\n",
    "print(\"[INFO] Displaying {} sample local paths:\".format(max_display))\n",
    "for key in general_path:\n",
    "    print(\"\\nReport type:\", key, \"({}/{:,})\".format(max_display, nb_url[key]))\n",
    "    for k in range(max_display//2):\n",
    "        print(general_path[key][k])\n",
    "    print(\"...\")\n",
    "    for k in range(len(general_path[key]) - max_display//2, len(general_path[key])):\n",
    "        print(general_path[key][k])"
   ]
  },
  {
   "cell_type": "code",
   "execution_count": 1,
   "metadata": {},
   "outputs": [],
   "source": [
    "def display_download_stats(stats):\n",
    "    \"\"\"\n",
    "    Just a better way to display the downloading stats rather than dumping the dict\"\"\"\n",
    "    text = []\n",
    "    try:\n",
    "        if stats['free_space'] < 10*2**30:  # Display text in bold red if less than 10 Gb left\n",
    "            for key in stats:\n",
    "                to_append = key + \": {:,}\".format(stats[key])\n",
    "                text.append(\"{}\".format(colored(to_append, 'red', attrs=['bold'])))\n",
    "        else:\n",
    "            for key in stats:\n",
    "                text.append(key + \": {:,}\".format(stats[key])) \n",
    "    except:  \n",
    "        for key in stats:\n",
    "            text.append(key + \": {:,}\".format(stats[key]))   \n",
    "    print(\"[INFO] \" + \" | \".join(text))"
   ]
  },
  {
   "cell_type": "code",
   "execution_count": 32,
   "metadata": {},
   "outputs": [
    {
     "name": "stderr",
     "output_type": "stream",
     "text": [
      "\n",
      "\n",
      "\n",
      "\n",
      "  0%|          | 0/7092 [00:00<?, ?it/s]\u001b[A\u001b[A\u001b[A\u001b[A"
     ]
    },
    {
     "name": "stdout",
     "output_type": "stream",
     "text": [
      "[INFO] 20190913_11:56:09 request sent\n"
     ]
    },
    {
     "name": "stderr",
     "output_type": "stream",
     "text": [
      "\n",
      "\n",
      "\n",
      "\n",
      "  1%|          | 60/7092 [01:40<3:17:05,  1.68s/it]\u001b[A\u001b[A\u001b[A\u001b[A"
     ]
    },
    {
     "name": "stdout",
     "output_type": "stream",
     "text": [
      "[INFO] [10-K] Latest download speed: 39,370 kb in 100.878 s (390.3 kb/s)\n",
      "[INFO] bytes_downloaded: 40,315,488 | nb_url: 94,489 | count_downloaded: 1 | count_already_downloaded: 59 | download_failed: 0 | free_space: 105,696,911,360\n",
      "[INFO] 20190913_11:57:50 request sent\n"
     ]
    },
    {
     "name": "stderr",
     "output_type": "stream",
     "text": [
      "\n",
      "\n",
      "\n",
      "\n",
      "  1%|          | 61/7092 [02:21<26:11:25, 13.41s/it]\u001b[A\u001b[A\u001b[A\u001b[A"
     ]
    },
    {
     "name": "stdout",
     "output_type": "stream",
     "text": [
      "[INFO] [10-K] Latest download speed: 1,680 kb in 40.772 s (41.2 kb/s)\n",
      "[INFO] bytes_downloaded: 42,036,338 | nb_url: 94,489 | count_downloaded: 2 | count_already_downloaded: 59 | download_failed: 0 | free_space: 105,690,292,224\n",
      "[INFO] 20190913_11:58:30 request sent\n"
     ]
    },
    {
     "name": "stderr",
     "output_type": "stream",
     "text": [
      "\n",
      "\n",
      "\n",
      "\n",
      "  1%|          | 62/7092 [02:52<36:28:41, 18.68s/it]\u001b[A\u001b[A\u001b[A\u001b[A"
     ]
    },
    {
     "name": "stdout",
     "output_type": "stream",
     "text": [
      "[INFO] [10-K] Latest download speed: 9,929 kb in 30.968 s (320.6 kb/s)\n",
      "[INFO] bytes_downloaded: 52,204,269 | nb_url: 94,489 | count_downloaded: 3 | count_already_downloaded: 59 | download_failed: 0 | free_space: 105,672,830,976\n",
      "[INFO] 20190913_11:59:01 request sent\n"
     ]
    },
    {
     "name": "stderr",
     "output_type": "stream",
     "text": [
      "\n",
      "\n",
      "\n",
      "\n",
      "  1%|          | 63/7092 [09:45<267:12:13, 136.85s/it]\u001b[A\u001b[A\u001b[A\u001b[A"
     ]
    },
    {
     "name": "stdout",
     "output_type": "stream",
     "text": [
      "[INFO] [10-K] Latest download speed: 27,290 kb in 412.580 s (66.1 kb/s)\n",
      "[INFO] bytes_downloaded: 80,149,498 | nb_url: 94,489 | count_downloaded: 4 | count_already_downloaded: 59 | download_failed: 0 | free_space: 105,645,076,480\n",
      "[INFO] 20190913_12:05:54 request sent\n"
     ]
    },
    {
     "name": "stderr",
     "output_type": "stream",
     "text": [
      "\n",
      "\n",
      "\n",
      "\n",
      "  1%|          | 64/7092 [09:48<189:00:21, 96.82s/it] \u001b[A\u001b[A\u001b[A\u001b[A"
     ]
    },
    {
     "name": "stdout",
     "output_type": "stream",
     "text": [
      "[INFO] [10-K] Latest download speed: 14,719 kb in 3.393 s (4,338.5 kb/s)\n",
      "[INFO] bytes_downloaded: 95,222,113 | nb_url: 94,489 | count_downloaded: 5 | count_already_downloaded: 59 | download_failed: 0 | free_space: 105,629,999,104\n",
      "[INFO] 20190913_12:05:57 request sent\n"
     ]
    },
    {
     "name": "stderr",
     "output_type": "stream",
     "text": [
      "\n",
      "\n",
      "\n",
      "\n",
      "  1%|          | 65/7092 [11:34<194:30:38, 99.65s/it]\u001b[A\u001b[A\u001b[A\u001b[A"
     ]
    },
    {
     "name": "stdout",
     "output_type": "stream",
     "text": [
      "[INFO] [10-K] Latest download speed: 10,204 kb in 106.259 s (96.0 kb/s)\n",
      "[INFO] bytes_downloaded: 105,671,595 | nb_url: 94,489 | count_downloaded: 6 | count_already_downloaded: 59 | download_failed: 0 | free_space: 105,619,542,016\n",
      "[INFO] 20190913_12:07:44 request sent\n"
     ]
    },
    {
     "name": "stderr",
     "output_type": "stream",
     "text": [
      "\n",
      "\n",
      "\n",
      "\n",
      "  1%|          | 66/7092 [11:44<142:00:22, 72.76s/it]\u001b[A\u001b[A\u001b[A\u001b[A"
     ]
    },
    {
     "name": "stdout",
     "output_type": "stream",
     "text": [
      "[ERROR] [20190913_12:07:54] URL https://www.sec.gov/Archives/edgar/data/1012771/0001012771-18-000006.txt could not be downloaded\n"
     ]
    },
    {
     "ename": "AssertionError",
     "evalue": "",
     "output_type": "error",
     "traceback": [
      "\u001b[0;31m---------------------------------------------------------------------------\u001b[0m",
      "\u001b[0;31mAssertionError\u001b[0m                            Traceback (most recent call last)",
      "\u001b[0;32m<ipython-input-32-f52254bb4427>\u001b[0m in \u001b[0;36m<module>\u001b[0;34m\u001b[0m\n\u001b[1;32m     25\u001b[0m                 \u001b[0mpath_doc_old\u001b[0m \u001b[0;34m=\u001b[0m \u001b[0mdoc_url_to_filepath\u001b[0m\u001b[0;34m(\u001b[0m\u001b[0;34m*\u001b[0m\u001b[0mentry\u001b[0m\u001b[0;34m)\u001b[0m  \u001b[0;31m# [TBR]\u001b[0m\u001b[0;34m\u001b[0m\u001b[0;34m\u001b[0m\u001b[0m\n\u001b[1;32m     26\u001b[0m                 \u001b[0mpath_doc\u001b[0m \u001b[0;34m=\u001b[0m \u001b[0mgeneral_path\u001b[0m\u001b[0;34m[\u001b[0m\u001b[0mfile_type\u001b[0m\u001b[0;34m]\u001b[0m\u001b[0;34m[\u001b[0m\u001b[0mcounter\u001b[0m\u001b[0;34m]\u001b[0m\u001b[0;34m\u001b[0m\u001b[0;34m\u001b[0m\u001b[0m\n\u001b[0;32m---> 27\u001b[0;31m                 \u001b[0;32massert\u001b[0m \u001b[0mpath_doc\u001b[0m \u001b[0;34m==\u001b[0m \u001b[0mpath_doc_old\u001b[0m\u001b[0;34m\u001b[0m\u001b[0;34m\u001b[0m\u001b[0m\n\u001b[0m\u001b[1;32m     28\u001b[0m \u001b[0;34m\u001b[0m\u001b[0m\n\u001b[1;32m     29\u001b[0m                 \u001b[0;31m# Check if the file has already been downloaded\u001b[0m\u001b[0;34m\u001b[0m\u001b[0;34m\u001b[0m\u001b[0;34m\u001b[0m\u001b[0m\n",
      "\u001b[0;31mAssertionError\u001b[0m: "
     ]
    }
   ],
   "source": [
    "max_download = np.inf # No more download limits\n",
    "min_time_between_requests = 0.1  # [s]\n",
    "download_stats = {\n",
    "    'bytes_downloaded': 0,\n",
    "    'nb_url': sum(nb_url.values()),\n",
    "    'count_downloaded': 0,\n",
    "    'count_already_downloaded': 0,\n",
    "    'download_failed': 0,\n",
    "    'free_space': os.statvfs(project_root).f_frsize * os.statvfs(project_root).f_bavail\n",
    "}  # Number of files, bytes\n",
    "\n",
    "# Reset any log file that could exist\n",
    "try:\n",
    "    os.remove(path_error_log)\n",
    "except FileNotFoundError:\n",
    "    pass\n",
    "\n",
    "last_request = 0  # Initialize this timer\n",
    "for file_type in doc_types:\n",
    "    counter = 0\n",
    "    for entry in tqdm(general_url[file_type]):\n",
    "        if counter < max_download:\n",
    "            #path_doc_old = doc_url_to_filepath(*entry)  # [TBR]\n",
    "            path_doc = general_path[file_type][counter]\n",
    "            #assert path_doc == path_doc_old\n",
    "\n",
    "            # Check if the file has already been downloaded\n",
    "            if not is_downloaded(path_doc):\n",
    "                url_doc = base_url + entry[1]\n",
    "                elapsed_since_last_requests = time.perf_counter() - last_request\n",
    "                if elapsed_since_last_requests < min_time_between_requests:\n",
    "                    print(\"[WARNING] Will wait for {:.3f} s\"\n",
    "                          .format(min_time_between_requests - elapsed_since_last_requests))\n",
    "                    time.sleep(min_time_between_requests - elapsed_since_last_requests)\n",
    "                if verbose:\n",
    "                    print(\"[INFO] Time since last request: {:.3f} s\".format(elapsed_since_last_requests))\n",
    "                last_request = time.perf_counter()\n",
    "                try:\n",
    "                    dt_string = datetime.now().strftime(\"%Y%m%d_%H:%M:%S\")\n",
    "                    print(\"[INFO] {} request sent\".format(dt_string))\n",
    "                    (filename, headers) = urllib.request.urlretrieve(url_doc, path_doc)\n",
    "                except:\n",
    "                    dt_string = datetime.now().strftime(\"%Y%m%d_%H:%M:%S\")\n",
    "                    error_message = \"[ERROR] [{}] URL {} could not be downloaded\".format(dt_string, url_doc)\n",
    "                    with open(path_error_log, 'a') as f:# Send to error log\n",
    "                        f.write(error_message + \"\\n\")  \n",
    "                    print(error_message)  # For user is terminal is connected\n",
    "                    download_stats['download_failed'] += 1\n",
    "                    continue\n",
    "\n",
    "                download_time = time.perf_counter() - last_request\n",
    "                #print((filename, headers))\n",
    "                downloaded_size = os.path.getsize(path_doc)\n",
    "                download_stats['bytes_downloaded'] += downloaded_size\n",
    "                download_stats['count_downloaded'] += 1\n",
    "                download_stats['free_space'] = os.statvfs(project_root).f_frsize * os.statvfs(project_root).f_bavail\n",
    "                print(\"[INFO] [{}] Latest download speed: {:,} kb in {:.3f} s ({:,.1f} kb/s)\"\n",
    "                      .format(file_type, downloaded_size//2**10, download_time, downloaded_size/(2**10*download_time)))\n",
    "                display_download_stats(download_stats)\n",
    "            else:\n",
    "                download_stats['count_already_downloaded'] += 1\n",
    "                if verbose:\n",
    "                    print(\"[WARNING] Document at {} already downloaded\".format(path_doc))\n",
    "\n",
    "            # After each url has been processes, overwrite the log\n",
    "            with open(path_download_status_log, 'w') as g:\n",
    "                g.write(\"Working on: {}\\n\".format(time_range))\n",
    "                g.write(\"{}\\n\".format(download_stats))\n",
    "        else:\n",
    "            break\n",
    "        counter += 1"
   ]
  },
  {
   "cell_type": "markdown",
   "metadata": {},
   "source": [
    "## Parse a doc and run it through the NLP"
   ]
  },
  {
   "cell_type": "markdown",
   "metadata": {},
   "source": [
    "### Parse a doc with Vader"
   ]
  },
  {
   "cell_type": "code",
   "execution_count": null,
   "metadata": {
    "scrolled": true
   },
   "outputs": [],
   "source": [
    "analyser = SentimentIntensityAnalyzer()\n",
    "\n",
    "for file_type in doc_types:\n",
    "    counter = 0\n",
    "    for entry in tqdm(general_path[file_type]):\n",
    "        # print(entry)\n",
    "        if counter < max_download:\n",
    "            t0 = time.perf_counter()\n",
    "            with open(entry) as f:  # Load the file\n",
    "                html_doc = f.read()\n",
    "            soup = BeautifulSoup(html_doc, 'html.parser')\n",
    "            \n",
    "            text_only = soup.get_text()\n",
    "            t1 = time.perf_counter()\n",
    "            print(\"Before: {:,} byte | After: {:,} byte | Done in: {:.1f} s\"\n",
    "                  .format(len(html_doc), len(text_only), t1-t0))\n",
    "\n",
    "            # Get a few subset of the text for analysis\n",
    "            average_score = {'neg': 0, 'neu': 0, 'pos': 0, 'compound': 0}\n",
    "            length_subset = 10000\n",
    "            iterations = 100\n",
    "            \n",
    "            for _ in range(iterations):\n",
    "                if len(text_only) > length_subset:\n",
    "                    start_index = np.random.randint(len(text_only)-length_subset)\n",
    "                    score = analyser.polarity_scores(text_only[start_index:start_index+length_subset])\n",
    "                else:\n",
    "                    score = analyser.polarity_scores(text_only)\n",
    "                for key in average_score:\n",
    "                    average_score[key] += score[key]\n",
    "\n",
    "            for key in average_score:\n",
    "                    average_score[key] /= iterations\n",
    "            t2 = time.perf_counter()\n",
    "            print(average_score)\n",
    "            \"\"\"\n",
    "            print(\"Took {:.3f} s to analyze {} byte ({} byte/s) | Result: {}\"\n",
    "                  .format(t2-t1, length_subset*iterations, length_subset*iterations/(t2-t1), average_score))\n",
    "            \"\"\"\n",
    "        else:\n",
    "            break\n",
    "        counter += 1"
   ]
  },
  {
   "cell_type": "code",
   "execution_count": null,
   "metadata": {},
   "outputs": [],
   "source": []
  }
 ],
 "metadata": {
  "kernelspec": {
   "display_name": "Python 3",
   "language": "python",
   "name": "python3"
  },
  "language_info": {
   "codemirror_mode": {
    "name": "ipython",
    "version": 3
   },
   "file_extension": ".py",
   "mimetype": "text/x-python",
   "name": "python",
   "nbconvert_exporter": "python",
   "pygments_lexer": "ipython3",
   "version": "3.7.3"
  }
 },
 "nbformat": 4,
 "nbformat_minor": 2
}
