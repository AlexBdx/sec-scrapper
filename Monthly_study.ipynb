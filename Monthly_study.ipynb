{
 "cells": [
  {
   "cell_type": "markdown",
   "metadata": {},
   "source": [
    "# Configuration"
   ]
  },
  {
   "cell_type": "markdown",
   "metadata": {},
   "source": [
    "## Packages to import"
   ]
  },
  {
   "cell_type": "code",
   "execution_count": 1,
   "metadata": {},
   "outputs": [
    {
     "name": "stdout",
     "output_type": "stream",
     "text": [
      "['LICENSE', 'LoughranMcDonald_MasterDictionary_2018.csv', 'stage_2.py', 'requirements.txt', 'sec-scrapper.py', '__pycache__', 'README.md', 'Load_MasterDictionary.py', 'Monthly_study.ipynb', 'Filing metrics.py', 'Yearly_study.ipynb']\n",
      "/home/alex/Desktop/Insight project/sec-scrapper\n",
      " ...Loading Master Dictionary 85000\n",
      "Master Dictionary loaded from file: \n",
      "  LoughranMcDonald_MasterDictionary_2018.csv\n",
      "  86,486 words loaded in master_dictionary.\n",
      "\n"
     ]
    }
   ],
   "source": [
    "%load_ext autoreload\n",
    "%autoreload 2\n",
    "%matplotlib notebook\n",
    "\n",
    "from insight import *\n",
    "\n",
    "import glob\n",
    "import numpy as np\n",
    "import matplotlib\n",
    "import matplotlib.pyplot as plt\n",
    "import os\n",
    "import csv\n",
    "from datetime import datetime\n",
    "import re\n",
    "from tqdm import tqdm\n",
    "import multiprocessing as mp\n",
    "from collections import OrderedDict\n",
    "import time\n",
    "import pandas as pd"
   ]
  },
  {
   "cell_type": "markdown",
   "metadata": {},
   "source": [
    "## Settings dictionary"
   ]
  },
  {
   "cell_type": "code",
   "execution_count": 2,
   "metadata": {},
   "outputs": [],
   "source": [
    "home = os.path.expanduser(\"~\")\n",
    "_s = {\n",
    "    'path_stage_1_data': os.path.join(home, 'Desktop/filtered_text_data/nd_data/'),\n",
    "    'path_stock_database': os.path.join(home, 'Desktop/Insight project/Database/Ticker_stock_price.csv'),\n",
    "    'path_stock_indexes': os.path.join(home, 'Desktop/Insight project/Database/Indexes/'),\n",
    "    'path_cik_ticker_lookup': os.path.join(home, 'Desktop/Insight project/Database/cik_ticker.csv'),\n",
    "    'path_master_dictionary': os.path.join(home, 'Desktop/Insight project/Database/LoughranMcDonald_MasterDictionary_2018.csv'),\n",
    "    'path_dump_crsp': os.path.join(home, 'Desktop/Insight project/Database/dump_crsp_merged.txt'),\n",
    "    'metrics': ['diff_jaccard', 'diff_cosine_tf', 'diff_cosine_tf_idf', 'diff_minEdit', 'diff_simple', 'sing_LoughranMcDonald'],\n",
    "    'differentiation_mode': 'intersection',\n",
    "    'time_range': [(2010, 1), (2012, 4)],\n",
    "    'bin_count': 5,\n",
    "    'report_type': ['10-K', '10-Q'],\n",
    "    'sections_to_parse_10k': [],\n",
    "    'sections_to_parse_10q': [],\n",
    "    'type_daily_price': 'closing'\n",
    "}"
   ]
  },
  {
   "cell_type": "code",
   "execution_count": 3,
   "metadata": {},
   "outputs": [],
   "source": [
    "_s['pf_init_value'] = 1000000\n",
    "_s['epsilon'] = 0.0001  # Rounding error\n",
    "# Calculated settings\n",
    "_s['list_qtr'] = qtrs.create_qtr_list(_s['time_range'])\n",
    "\n",
    "if _s['bin_count'] == 5:\n",
    "    _s['bin_labels'] = ['Q'+str(n) for n in range(1, _s['bin_count']+1)]\n",
    "elif _s['bin_count'] == 10:\n",
    "    _s['bin_labels'] = ['D'+str(n) for n in range(1, _s['bin_count']+1)]\n",
    "else:\n",
    "    raise ValueError('[ERROR] This type of bin has not been implemented yet.')\n",
    "\n",
    "# Reports considered to calculate the differences\n",
    "if _s['differentiation_mode'] == 'intersection':\n",
    "    _s['lag'] = 1\n",
    "    _s['sections_to_parse_10k'] = ['1a', '3', '7', '7a', '9a']\n",
    "    _s['sections_to_parse_10q'] = ['_i_2', '_i_3', '_i_4', 'ii_1', 'ii_1a']\n",
    "elif _s['differentiation_mode'] == 'yearly':\n",
    "    _s['lag'] = 4\n",
    "    _s['sections_to_parse_10k'] = []\n",
    "    _s['sections_to_parse_10q'] = []\n",
    "\n",
    "_s['intersection_table'] = {\n",
    "        '10-K': ['1a', '3', '7', '7a', '9a'],\n",
    "        '10-Q': ['ii_1a', 'ii_1', '_i_2', '_i_3', '_i_4']\n",
    "}  # Exhibits are not taken into account\n",
    "_s['straight_table'] = {\n",
    "    '10-K': ['1', '1a', '1b', '2', '3', '4', '5', '6', '7', '7a', '8', '9', '9a', '9b', '10', '11', '12', '13', '14', '15'],\n",
    "    '10-Q': ['_i_1', '_i_2', '_i_3', '_i_4', 'ii_1', 'ii_1a', 'ii_2', 'ii_3', 'ii_4', 'ii_5', 'ii_6']\n",
    "}"
   ]
  },
  {
   "cell_type": "code",
   "execution_count": 4,
   "metadata": {},
   "outputs": [],
   "source": [
    "# Transfer s to a read only dict\n",
    "read_only_dict = pre_processing.ReadOnlyDict()\n",
    "for key in _s:  # Brute force copy\n",
    "    read_only_dict[key] = _s[key]\n",
    "s = read_only_dict  # Copy back\n",
    "s.set_read_state(read_only=True)  # Set as read only"
   ]
  },
  {
   "cell_type": "markdown",
   "metadata": {},
   "source": [
    "# Load external tables"
   ]
  },
  {
   "cell_type": "markdown",
   "metadata": {},
   "source": [
    "## Extract the list of CIK for which we have complete data"
   ]
  },
  {
   "cell_type": "markdown",
   "metadata": {},
   "source": [
    "The main problem in our case is that we have 3 different database to play with:\n",
    "1. The SEC provides information based on the CIK of the entity\n",
    "2. Given that the CIK is used by no one else, we use a lookup table to transform that into tickers. But we do not have all the correspondances, so the list of useful CIK is shrunk.\n",
    "3. Finally, we only have stock prices for so many tickers. So that shrinks the CIK list even further.\n",
    "\n",
    "We end up with a reduced list of CIK that we can play with."
   ]
  },
  {
   "cell_type": "markdown",
   "metadata": {},
   "source": [
    "### Find all the unique CIK from the SEC filings"
   ]
  },
  {
   "cell_type": "code",
   "execution_count": 5,
   "metadata": {},
   "outputs": [
    {
     "name": "stdout",
     "output_type": "stream",
     "text": [
      "[INFO] Loaded 306,198 10-X\n",
      "[INFO] Shrunk to 276,841 ['10-K', '10-Q']\n"
     ]
    },
    {
     "name": "stderr",
     "output_type": "stream",
     "text": [
      " 33%|███▎      | 91780/276841 [00:00<00:00, 917796.50it/s]"
     ]
    },
    {
     "name": "stdout",
     "output_type": "stream",
     "text": [
      "[INFO] Found 14,549 unique CIK in master index\n"
     ]
    },
    {
     "name": "stderr",
     "output_type": "stream",
     "text": [
      "100%|██████████| 276841/276841 [00:00<00:00, 889377.54it/s]"
     ]
    },
    {
     "name": "stdout",
     "output_type": "stream",
     "text": [
      "[INFO] cik_path contains data on 14,549 CIK numbers\n"
     ]
    },
    {
     "name": "stderr",
     "output_type": "stream",
     "text": [
      "\n"
     ]
    }
   ],
   "source": [
    "cik_path = pre_processing.load_cik_path(s)"
   ]
  },
  {
   "cell_type": "markdown",
   "metadata": {},
   "source": [
    "### Get the largest {CIK: ticker} possible given our lookup table"
   ]
  },
  {
   "cell_type": "code",
   "execution_count": 6,
   "metadata": {
    "scrolled": true
   },
   "outputs": [
    {
     "name": "stdout",
     "output_type": "stream",
     "text": [
      "[INFO] Loaded 13,738 CIK/Tickers correspondances.\n"
     ]
    }
   ],
   "source": [
    "lookup = pre_processing.load_lookup(s)\n",
    "print(\"[INFO] Loaded {:,} CIK/Tickers correspondances.\".format(len(lookup)))"
   ]
  },
  {
   "cell_type": "code",
   "execution_count": 7,
   "metadata": {},
   "outputs": [
    {
     "name": "stdout",
     "output_type": "stream",
     "text": [
      "[INFO] Intersected SEC & lookup.\n",
      "cik_path: 8,207 CIK | lookup: 8,207 CIK\n"
     ]
    }
   ],
   "source": [
    "cik_path, lookup = pre_processing.intersection_sec_lookup(cik_path, lookup)\n",
    "print(\"[INFO] Intersected SEC & lookup.\")\n",
    "print(\"cik_path: {:,} CIK | lookup: {:,} CIK\"\n",
    "      .format(len(cik_path), len(lookup)))"
   ]
  },
  {
   "cell_type": "markdown",
   "metadata": {},
   "source": [
    "### Load stock data and drop all CIKs for which we don't have data"
   ]
  },
  {
   "cell_type": "code",
   "execution_count": 8,
   "metadata": {
    "scrolled": true
   },
   "outputs": [
    {
     "name": "stderr",
     "output_type": "stream",
     "text": [
      "100%|██████████| 30563446/30563446 [01:39<00:00, 306541.16it/s]\n"
     ]
    }
   ],
   "source": [
    "# Load all stock prices\n",
    "stock_data = pre_processing.load_stock_data(s)"
   ]
  },
  {
   "cell_type": "code",
   "execution_count": 9,
   "metadata": {},
   "outputs": [
    {
     "name": "stdout",
     "output_type": "stream",
     "text": [
      "4668\n",
      "[INFO] Intersected lookup & stock data.\n",
      "lookup: 4,791 tickers | stock_data: 4,668 tickers\n"
     ]
    }
   ],
   "source": [
    "lookup, stock_data = pre_processing.intersection_lookup_stock(lookup, stock_data)\n",
    "print(\"[INFO] Intersected lookup & stock data.\")\n",
    "print(\"lookup: {:,} tickers | stock_data: {:,} tickers\"\n",
    "      .format(len(lookup.values()), len(stock_data)))"
   ]
  },
  {
   "cell_type": "markdown",
   "metadata": {},
   "source": [
    "### Load stock indexes - will serve as benchmark later on"
   ]
  },
  {
   "cell_type": "code",
   "execution_count": 10,
   "metadata": {},
   "outputs": [
    {
     "name": "stdout",
     "output_type": "stream",
     "text": [
      "[INFO] Loaded the following index data: ['IXIC', 'SPX', 'DJI', 'RUT']\n"
     ]
    }
   ],
   "source": [
    "index_data = pre_processing.load_index_data(s)\n",
    "print(\"[INFO] Loaded the following index data:\", list(index_data.keys()))"
   ]
  },
  {
   "cell_type": "markdown",
   "metadata": {},
   "source": [
    "## Back propagate these intersection all the way to cik_path"
   ]
  },
  {
   "cell_type": "markdown",
   "metadata": {},
   "source": [
    "Technically, we have just done it for lookup. So we only need to re-run an intersection for lookup and sec."
   ]
  },
  {
   "cell_type": "code",
   "execution_count": 11,
   "metadata": {},
   "outputs": [
    {
     "name": "stdout",
     "output_type": "stream",
     "text": [
      "[INFO] Intersected SEC & lookup.\n",
      "cik_path: 4,791 CIK | lookup: 4,791 CIK\n"
     ]
    }
   ],
   "source": [
    "cik_path, lookup = pre_processing.intersection_sec_lookup(cik_path, lookup)\n",
    "print(\"[INFO] Intersected SEC & lookup.\")\n",
    "print(\"cik_path: {:,} CIK | lookup: {:,} CIK\"\n",
    "      .format(len(cik_path), len(lookup)))"
   ]
  },
  {
   "cell_type": "markdown",
   "metadata": {},
   "source": [
    "## Sanity check"
   ]
  },
  {
   "cell_type": "markdown",
   "metadata": {},
   "source": [
    "At this point, cik_path and lookup should have the same number of keys as the CIK is unique in the path database.\n",
    "\n",
    "However, multiple CIK can redirect to the same ticker if the company changed its ticker over time. That should be a very limited amount of cases though."
   ]
  },
  {
   "cell_type": "code",
   "execution_count": 12,
   "metadata": {},
   "outputs": [],
   "source": [
    "assert cik_path.keys() == lookup.keys()\n",
    "assert len(set(lookup.values())) == len(set(stock_data.keys()))"
   ]
  },
  {
   "cell_type": "markdown",
   "metadata": {},
   "source": [
    "At that point, we have a {CIK: ticker} for which the stock is known, which will enable comparison and all down the road."
   ]
  },
  {
   "cell_type": "markdown",
   "metadata": {},
   "source": [
    "## Review all CIKs: make sure there is only one submission per quarter"
   ]
  },
  {
   "cell_type": "markdown",
   "metadata": {},
   "source": [
    "In this section, the goal is to build a list of CIK that will successfully be parsed for the time_range considered.\n",
    "It should be trivial for a vast majority of the CIK, but ideally there should be only one document per quarter for each CIK from the moment they are listed to the moment they are delisted."
   ]
  },
  {
   "cell_type": "code",
   "execution_count": 13,
   "metadata": {
    "scrolled": true
   },
   "outputs": [
    {
     "name": "stderr",
     "output_type": "stream",
     "text": [
      "100%|██████████| 4791/4791 [00:00<00:00, 8301.06it/s]\n"
     ]
    },
    {
     "name": "stdout",
     "output_type": "stream",
     "text": [
      "\n",
      "[INFO] 1387 CIKs caused trouble\n",
      "[INFO] Removed all the CIK that did not have one report per quarter.\n",
      "cik_dict: 3,404 CIK\n"
     ]
    }
   ],
   "source": [
    "# Create the list of quarters to consider\n",
    "cik_path = pre_processing.review_cik_publications(cik_path, s)\n",
    "print(\"[INFO] Removed all the CIK that did not have one report per quarter.\")\n",
    "print(\"cik_dict: {:,} CIK\".format(len(cik_path)))"
   ]
  },
  {
   "cell_type": "code",
   "execution_count": 14,
   "metadata": {},
   "outputs": [
    {
     "name": "stdout",
     "output_type": "stream",
     "text": [
      "[INFO] We are left with 3,404 CIKs that meet our requirements:\n",
      "- The ticker can be looked up in the CIK/ticker tabke\n",
      "- The stock data is available for that ticker\n",
      "- There is one and only one report per quarter\n"
     ]
    }
   ],
   "source": [
    "print(\"[INFO] We are left with {:,} CIKs that meet our requirements:\".format(len(cik_path)))\n",
    "print(\"- The ticker can be looked up in the CIK/ticker tabke\")\n",
    "print(\"- The stock data is available for that ticker\")\n",
    "print(\"- There is one and only one report per quarter\")"
   ]
  },
  {
   "cell_type": "code",
   "execution_count": 15,
   "metadata": {
    "scrolled": true
   },
   "outputs": [
    {
     "data": {
      "text/plain": [
       "\"\\n# [USER SETTINGS]\\nexample = 'apple'  # Debug\\n# Examples of companies\\nexample_companies = {\\n    'apple': ['AAPL', 320193],\\n    'baxter': ['BAX', 10456],\\n    'facebook': ['FB', 1326801],\\n    'google': ['GOOGL', 1652044],\\n    'microsoft': ['MSFT', 789019],\\n    'amazon': ['AMZN', 1018724],\\n    'johnson': ['JNJ', 200406],\\n    'jpmorgan': ['JPM', 19617]\\n}\\n\\n# [DEBUG]: isolate a subset of companies\\ncompany = 'apple'\\ncik_path = {\\n    example_companies['apple'][1]: cik_path[example_companies['apple'][1]],\\n    example_companies['microsoft'][1]: cik_path[example_companies['microsoft'][1]],\\n    example_companies['jpmorgan'][1]: cik_path[example_companies['jpmorgan'][1]],\\n    example_companies['amazon'][1]: cik_path[example_companies['amazon'][1]],\\n    example_companies['johnson'][1]: cik_path[example_companies['johnson'][1]],\\n    \\n}\\ncik_path.keys()\\n\""
      ]
     },
     "execution_count": 15,
     "metadata": {},
     "output_type": "execute_result"
    }
   ],
   "source": [
    "\"\"\"\n",
    "# [USER SETTINGS]\n",
    "example = 'apple'  # Debug\n",
    "# Examples of companies\n",
    "example_companies = {\n",
    "    'apple': ['AAPL', 320193],\n",
    "    'baxter': ['BAX', 10456],\n",
    "    'facebook': ['FB', 1326801],\n",
    "    'google': ['GOOGL', 1652044],\n",
    "    'microsoft': ['MSFT', 789019],\n",
    "    'amazon': ['AMZN', 1018724],\n",
    "    'johnson': ['JNJ', 200406],\n",
    "    'jpmorgan': ['JPM', 19617]\n",
    "}\n",
    "\n",
    "# [DEBUG]: isolate a subset of companies\n",
    "company = 'apple'\n",
    "cik_path = {\n",
    "    example_companies['apple'][1]: cik_path[example_companies['apple'][1]],\n",
    "    example_companies['microsoft'][1]: cik_path[example_companies['microsoft'][1]],\n",
    "    example_companies['jpmorgan'][1]: cik_path[example_companies['jpmorgan'][1]],\n",
    "    example_companies['amazon'][1]: cik_path[example_companies['amazon'][1]],\n",
    "    example_companies['johnson'][1]: cik_path[example_companies['johnson'][1]],\n",
    "    \n",
    "}\n",
    "cik_path.keys()\n",
    "\"\"\""
   ]
  },
  {
   "cell_type": "markdown",
   "metadata": {},
   "source": [
    "# Parse files"
   ]
  },
  {
   "cell_type": "markdown",
   "metadata": {},
   "source": [
    "Now we have a list of CIK that should make it until the end. It is time to open the relevant reports and start parsing. This step takes a lot of time and can get arbitrarily long as the metrics get fancier.\n",
    "\n",
    "You do not want to keep in RAM all the parsed data. However, there are only ~100 quarters for which we have data and the stage 2 files are no more than 1 Mb in size (Apple seems to top out at ~ 325 kb). So 100 Mb per core + others, that's definitely doable. More cores will use more RAM, but the usage remains reasonable.\n",
    "\n",
    "We use multiprocessing to go through N CIK at once but a single core is dedicated to going through a given CIK for the specified time_range. Such a core can be running for a while if the company has been in business for the whole time_range and publish a lot of text data in its 10-K."
   ]
  },
  {
   "cell_type": "code",
   "execution_count": 17,
   "metadata": {
    "scrolled": true
   },
   "outputs": [
    {
     "name": "stderr",
     "output_type": "stream",
     "text": [
      "\n",
      "  0%|          | 0/1000 [00:00<?, ?it/s]\u001b[A\n",
      "\n",
      "0it [00:00, ?it/s]\u001b[A\u001b[A"
     ]
    },
    {
     "name": "stdout",
     "output_type": "stream",
     "text": [
      "[INFO] Found a ToC!\n",
      "[WARNING] Section ii_1 was found to be empty.\n",
      "[INFO] Starting a pool of 8 workers\n",
      "[INFO] Found a ToC!\n",
      "[WARNING] Section ii_1 was found to be empty.\n",
      "[INFO] No ToC found\n",
      "[WARNING] Section 9a was found to be empty.\n",
      "[INFO] Found a ToC!\n",
      "[WARNING] Section ii_1 was found to be empty.\n",
      "[INFO] Comparing current qtr (2012, 3) to qtr (2012, 2) from 1 quarter ago.\n",
      "[INFO] Found a ToC!\n",
      "[WARNING] Section _i_4 was found to be empty.\n",
      "[WARNING] Section ii_1a was found to be empty.\n",
      "[INFO] Found a ToC!\n",
      "[INFO] Found a ToC!\n",
      "{'diff_jaccard': 0.7940826390670686, 'diff_cosine_tf': 0.9906773244431994, 'diff_cosine_tf_idf': 0.9901337572138124, 'diff_minEdit': 1.0, 'diff_simple': 1.0, 'sing_LoughranMcDonald': -0.0004663935107191081, '0': {'type': '10-Q', 'published': datetime.date(2012, 8, 7), 'qtr': (2012, 3)}}\n",
      "[INFO] Comparing current qtr (2012, 4) to qtr (2012, 3) from 1 quarter ago.\n",
      "[WARNING] Section _i_4 was found to be empty.\n",
      "[WARNING] Section ii_1a was found to be empty.\n",
      "[INFO] Found a ToC!\n",
      "{'diff_jaccard': 0.8134297667949074, 'diff_cosine_tf': 0.9938677316429787, 'diff_cosine_tf_idf': 0.9935633610452812, 'diff_minEdit': 0.9392802556620814, 'diff_simple': 0.9908920383493123, 'sing_LoughranMcDonald': -0.0004679442549336972, '0': {'type': '10-Q', 'published': datetime.date(2012, 11, 6), 'qtr': (2012, 4)}}\n"
     ]
    },
    {
     "name": "stderr",
     "output_type": "stream",
     "text": [
      "\n",
      "  0%|          | 1/1000 [00:00<12:29,  1.33it/s]\u001b[A\n",
      "\n",
      "1it [00:00,  1.33it/s]\u001b[A\u001b[A"
     ]
    },
    {
     "name": "stdout",
     "output_type": "stream",
     "text": [
      "[INFO] Found a ToC!\n",
      "[INFO] Found a ToC!\n",
      "[INFO] Found a ToC!\n",
      "[WARNING] Section ii_1a was found to be empty.\n",
      "[INFO] Found a ToC!\n",
      "[INFO] No ToC found\n",
      "[INFO] No ToC found\n",
      "[WARNING] Section 1a was found to be empty.\n",
      "[WARNING] Section 3 was found to be empty.\n",
      "[WARNING] Section 7 was found to be empty.\n",
      "[WARNING] Section 7a was found to be empty.\n",
      "[WARNING] Section 9a was found to be empty.\n",
      "[INFO] No ToC found\n",
      "[INFO] No ToC found\n",
      "[WARNING] Section 3 was found to be empty.\n",
      "[WARNING] Section 7 was found to be empty.\n",
      "[WARNING] Section 7a was found to be empty.\n",
      "[WARNING] Section 9a was found to be empty.\n",
      "[INFO] No ToC found\n",
      "[INFO] No ToC found\n",
      "[INFO] Found a ToC!\n",
      "[WARNING] Section ii_1 was found to be empty.\n",
      "[INFO] Found a ToC!\n",
      "[INFO] Found a ToC!\n",
      "[WARNING] Section ii_1 was found to be empty.\n",
      "[INFO] No ToC found\n",
      "[INFO] No ToC found\n",
      "[INFO] Comparing current qtr (2012, 4) to qtr (2012, 3) from 1 quarter ago.\n",
      "[INFO] No ToC found\n",
      "[INFO] Found a ToC!\n",
      "[WARNING] Section ii_1 was found to be empty.\n",
      "[INFO] Found a ToC!\n",
      "[WARNING] Section ii_1a was found to be empty.\n",
      "[INFO] Found a ToC!\n",
      "[INFO] Found a ToC!\n",
      "[WARNING] Section ii_1a was found to be empty.\n",
      "[INFO] No ToC found\n",
      "{'diff_jaccard': 0.6300540749157397, 'diff_cosine_tf': 0.9787998176942219, 'diff_cosine_tf_idf': 0.9692360224146678, 'diff_minEdit': 0.8987704491766189, 'diff_simple': 0.8026429298067143, 'sing_LoughranMcDonald': -0.0009937336547038362, '0': {'type': '10-Q', 'published': datetime.date(2012, 11, 30), 'qtr': (2012, 4)}}\n"
     ]
    },
    {
     "name": "stderr",
     "output_type": "stream",
     "text": [
      "\n",
      "  0%|          | 2/1000 [00:01<11:48,  1.41it/s]\u001b[A\n",
      "\n",
      "2it [00:01,  1.41it/s]\u001b[A\u001b[A"
     ]
    },
    {
     "name": "stdout",
     "output_type": "stream",
     "text": [
      "[INFO] Found a ToC!\n",
      "[WARNING] Section ii_1a was found to be empty.\n",
      "[INFO] Found a ToC!\n",
      "[INFO] Found a ToC!\n",
      "[INFO] No ToC found\n",
      "[INFO] No ToC found\n",
      "[INFO] Found a ToC!\n",
      "[INFO] No ToC found\n",
      "[INFO] Found a ToC!\n",
      "[WARNING] Section ii_1 was found to be empty.\n",
      "[INFO] Found a ToC!\n",
      "[WARNING] Section ii_1 was found to be empty.\n",
      "[INFO] No ToC found\n",
      "[WARNING] Section ii_1 was found to be empty.\n",
      "[INFO] No ToC found\n",
      "[INFO] Found a ToC!\n",
      "[INFO] No ToC found\n",
      "[INFO] Found a ToC!\n",
      "[WARNING] Section ii_1a was found to be empty.\n",
      "[INFO] No ToC found\n",
      "[INFO] Found a ToC!\n",
      "[WARNING] Section ii_1a was found to be empty.\n",
      "[INFO] No ToC found\n",
      "[INFO] Found a ToC!\n",
      "[WARNING] Section 3 was found to be empty.\n",
      "[WARNING] Section 7 was found to be empty.\n",
      "[WARNING] Section 7a was found to be empty.\n",
      "[WARNING] Section 9a was found to be empty.\n",
      "[INFO] Found a ToC!\n",
      "[INFO] No ToC found\n",
      "[WARNING] Section ii_1a was found to be empty.\n",
      "[INFO] Comparing current qtr (2010, 2) to qtr (2010, 1) from 1 quarter ago.\n",
      "[INFO] No ToC found\n",
      "[WARNING] Section ii_1 was found to be empty.\n",
      "[INFO] No ToC found\n",
      "[WARNING] Section ii_1 was found to be empty.\n",
      "[INFO] Found a ToC!\n",
      "{'diff_jaccard': 0.23276236455665106, 'diff_cosine_tf': 0.5720100602546653, 'diff_cosine_tf_idf': 0.5606708666171527, 'diff_minEdit': 0.7224201606056532, 'diff_simple': 0.6032467853344146, 'sing_LoughranMcDonald': -0.0015815906323559327, '0': {'type': '10-Q', 'published': datetime.date(2010, 5, 14), 'qtr': (2010, 2)}}\n",
      "[INFO] Comparing current qtr (2010, 3) to qtr (2010, 2) from 1 quarter ago.\n",
      "[INFO] Found a ToC!\n",
      "[WARNING] Section ii_1a was found to be empty.\n",
      "[INFO] Found a ToC!\n",
      "{'diff_jaccard': 0.7674770704370789, 'diff_cosine_tf': 0.9807262342971406, 'diff_cosine_tf_idf': 0.9784421144168743, 'diff_minEdit': 1.0, 'diff_simple': 1.0, 'sing_LoughranMcDonald': -0.0016215781496927884, '0': {'type': '10-Q', 'published': datetime.date(2010, 8, 13), 'qtr': (2010, 3)}}\n",
      "[INFO] Comparing current qtr (2010, 4) to qtr (2010, 3) from 1 quarter ago.\n",
      "{'diff_jaccard': 0.5813189197503261, 'diff_cosine_tf': 0.9434701912622426, 'diff_cosine_tf_idf': 0.9321592950521267, 'diff_minEdit': 0.991436795394579, 'diff_simple': 0.9771959153255856, 'sing_LoughranMcDonald': -0.0017205719201292757, '0': {'type': '10-Q', 'published': datetime.date(2010, 11, 12), 'qtr': (2010, 4)}}\n",
      "[INFO] Found a ToC!\n",
      "[INFO] Comparing current qtr (2011, 1) to qtr (2010, 4) from 1 quarter ago.\n",
      "[INFO] Found a ToC!\n",
      "[INFO] Found a ToC!\n",
      "[INFO] Found a ToC!\n",
      "[INFO] Found a ToC!\n",
      "{'diff_jaccard': 0.25246420781697043, 'diff_cosine_tf': 0.5733583883350557, 'diff_cosine_tf_idf': 0.5635641067471582, 'diff_minEdit': 0.7434140446313067, 'diff_simple': 0.5851820757043488, 'sing_LoughranMcDonald': -0.000838477762063663, '0': {'type': '10-K', 'published': datetime.date(2011, 3, 25), 'qtr': (2011, 1)}}\n",
      "[INFO] Comparing current qtr (2011, 2) to qtr (2011, 1) from 1 quarter ago.\n",
      "[INFO] No ToC found\n",
      "[INFO] No ToC found\n",
      "[WARNING] Section ii_1 was found to be empty.\n",
      "[INFO] Comparing current qtr (2010, 2) to qtr (2010, 1) from 1 quarter ago.\n",
      "[INFO] Found a ToC!\n",
      "[INFO] No ToC found\n",
      "[INFO] Found a ToC!\n",
      "[INFO] Found a ToC!\n",
      "[INFO] Comparing current qtr (2010, 2) to qtr (2010, 1) from 1 quarter ago.\n",
      "{'diff_jaccard': 0.25631596258275097, 'diff_cosine_tf': 0.5596544214296582, 'diff_cosine_tf_idf': 0.5495127069217072, 'diff_minEdit': 0.7214905081436932, 'diff_simple': 0.5945268588528967, 'sing_LoughranMcDonald': -0.0019277605261291118, '0': {'type': '10-Q', 'published': datetime.date(2011, 5, 13), 'qtr': (2011, 2)}}\n",
      "[INFO] Comparing current qtr (2011, 3) to qtr (2011, 2) from 1 quarter ago.\n",
      "{'diff_jaccard': 0.02813983545478716, 'diff_cosine_tf': 0.40278891626086166, 'diff_cosine_tf_idf': 0.33764900614785087, 'diff_minEdit': 0.5874725896509647, 'diff_simple': 0.3198509058441692, 'sing_LoughranMcDonald': -0.0004120140604825729, '0': {'type': '10-Q', 'published': datetime.date(2010, 5, 6), 'qtr': (2010, 2)}}\n",
      "[INFO] No ToC found\n",
      "[INFO] Comparing current qtr (2010, 3) to qtr (2010, 2) from 1 quarter ago.\n",
      "{'diff_jaccard': 0.8007364198422311, 'diff_cosine_tf': 0.9830802790753731, 'diff_cosine_tf_idf': 0.981173716905914, 'diff_minEdit': 1.0, 'diff_simple': 1.0, 'sing_LoughranMcDonald': -0.0015930599359247966, '0': {'type': '10-Q', 'published': datetime.date(2011, 8, 12), 'qtr': (2011, 3)}}\n",
      "[INFO] Comparing current qtr (2011, 4) to qtr (2011, 3) from 1 quarter ago.\n",
      "[INFO] Found a ToC!\n",
      "{'diff_jaccard': 0.6997931529754196, 'diff_cosine_tf': 0.9510660419064216, 'diff_cosine_tf_idf': 0.9246621323393246, 'diff_minEdit': 1.0, 'diff_simple': 1.0, 'sing_LoughranMcDonald': -0.00013051161419977983, '0': {'type': '10-Q', 'published': datetime.date(2010, 8, 5), 'qtr': (2010, 3)}}\n",
      "[INFO] Comparing current qtr (2010, 4) to qtr (2010, 3) from 1 quarter ago.\n",
      "{'diff_jaccard': 0.23979162555265054, 'diff_cosine_tf': 0.8489382178576539, 'diff_cosine_tf_idf': 0.8266530459639843, 'diff_minEdit': 0.7963698076921925, 'diff_simple': 0.5912339217105629, 'sing_LoughranMcDonald': -0.0031169712684809936, '0': {'type': '10-Q', 'published': datetime.date(2010, 5, 17), 'qtr': (2010, 2)}}\n",
      "[INFO] Comparing current qtr (2010, 3) to qtr (2010, 2) from 1 quarter ago.\n",
      "[INFO] No ToC found\n",
      "{'diff_jaccard': 0.7926596952954889, 'diff_cosine_tf': 0.9870359163439102, 'diff_cosine_tf_idf': 0.9837180298828397, 'diff_minEdit': 1.0, 'diff_simple': 1.0, 'sing_LoughranMcDonald': -0.0015625664569176869, '0': {'type': '10-Q', 'published': datetime.date(2011, 11, 10), 'qtr': (2011, 4)}}\n",
      "[INFO] Comparing current qtr (2012, 1) to qtr (2011, 4) from 1 quarter ago.\n",
      "[INFO] Comparing current qtr (2010, 2) to qtr (2010, 1) from 1 quarter ago.\n",
      "{'diff_jaccard': 0.7905335570616423, 'diff_cosine_tf': 0.9653759955511614, 'diff_cosine_tf_idf': 0.9448199509906019, 'diff_minEdit': 1.0, 'diff_simple': 1.0, 'sing_LoughranMcDonald': -7.624456138259145e-05, '0': {'type': '10-Q', 'published': datetime.date(2010, 11, 4), 'qtr': (2010, 4)}}\n",
      "[INFO] Comparing current qtr (2011, 1) to qtr (2010, 4) from 1 quarter ago.\n",
      "{'diff_jaccard': 0.7161852412155307, 'diff_cosine_tf': 0.9671925439119831, 'diff_cosine_tf_idf': 0.9571053487380847, 'diff_minEdit': 0.9957909710890758, 'diff_simple': 0.9928236057068741, 'sing_LoughranMcDonald': -0.00251480669668803, '0': {'type': '10-Q', 'published': datetime.date(2010, 8, 13), 'qtr': (2010, 3)}}\n",
      "{'diff_jaccard': 0.014539846553421215, 'diff_cosine_tf': 0.3009623031432633, 'diff_cosine_tf_idf': 0.221953071498978, 'diff_minEdit': 0.9553793172280567, 'diff_simple': 0.7617125278079928, 'sing_LoughranMcDonald': 0.0, '0': {'type': '10-K', 'published': datetime.date(2011, 2, 25), 'qtr': (2011, 1)}}\n",
      "[INFO] Comparing current qtr (2010, 4) to qtr (2010, 3) from 1 quarter ago.\n",
      "[INFO] Comparing current qtr (2011, 2) to qtr (2011, 1) from 1 quarter ago.\n",
      "{'diff_jaccard': 0.01606745973925641, 'diff_cosine_tf': 0.3083718972569204, 'diff_cosine_tf_idf': 0.22780006095959393, 'diff_minEdit': 0.9536202014995804, 'diff_simple': 0.7320350329551335, 'sing_LoughranMcDonald': -0.00010819379375733224, '0': {'type': '10-Q', 'published': datetime.date(2011, 5, 5), 'qtr': (2011, 2)}}\n",
      "{'diff_jaccard': 0.25806277212846934, 'diff_cosine_tf': 0.5596192440297667, 'diff_cosine_tf_idf': 0.5465058560392592, 'diff_minEdit': 0.7399906710076954, 'diff_simple': 0.5840108332829202, 'sing_LoughranMcDonald': -0.0010178718326804147, '0': {'type': '10-K', 'published': datetime.date(2012, 3, 28), 'qtr': (2012, 1)}}\n",
      "{'diff_jaccard': 0.01391655306259937, 'diff_cosine_tf': 0.39555094961323, 'diff_cosine_tf_idf': 0.30558551885745666, 'diff_minEdit': 0.9535362033176746, 'diff_simple': 0.7512382626233444, 'sing_LoughranMcDonald': 0.0, '0': {'type': '10-Q', 'published': datetime.date(2010, 11, 12), 'qtr': (2010, 4)}}\n",
      "[INFO] Comparing current qtr (2012, 2) to qtr (2012, 1) from 1 quarter ago.\n",
      "[INFO] Comparing current qtr (2011, 3) to qtr (2011, 2) from 1 quarter ago.\n",
      "[INFO] Comparing current qtr (2011, 1) to qtr (2010, 4) from 1 quarter ago.\n",
      "{'diff_jaccard': 0.3860537945783969, 'diff_cosine_tf': 0.801119807207378, 'diff_cosine_tf_idf': 0.7755372337509133, 'diff_minEdit': 0.844539146155044, 'diff_simple': 0.7422182867262703, 'sing_LoughranMcDonald': -0.0016647563700913082, '0': {'type': '10-Q', 'published': datetime.date(2010, 5, 3), 'qtr': (2010, 2)}}\n"
     ]
    },
    {
     "name": "stdout",
     "output_type": "stream",
     "text": [
      "[INFO] Comparing current qtr (2010, 3) to qtr (2010, 2) from 1 quarter ago.\n",
      "{'diff_jaccard': 0.7635257883480688, 'diff_cosine_tf': 0.9468478377581133, 'diff_cosine_tf_idf': 0.921537745673759, 'diff_minEdit': 1.0, 'diff_simple': 1.0, 'sing_LoughranMcDonald': -5.553891059731727e-05, '0': {'type': '10-Q', 'published': datetime.date(2011, 8, 4), 'qtr': (2011, 3)}}\n",
      "[INFO] Comparing current qtr (2011, 4) to qtr (2011, 3) from 1 quarter ago.\n",
      "{'diff_jaccard': 0.8079802394547622, 'diff_cosine_tf': 0.961858423990335, 'diff_cosine_tf_idf': 0.9287087618043757, 'diff_minEdit': 1.0, 'diff_simple': 1.0, 'sing_LoughranMcDonald': -0.0001649878815437902, '0': {'type': '10-Q', 'published': datetime.date(2011, 11, 7), 'qtr': (2011, 4)}}\n",
      "[INFO] Comparing current qtr (2012, 1) to qtr (2011, 4) from 1 quarter ago.\n",
      "{'diff_jaccard': 0.2363984846979322, 'diff_cosine_tf': 0.5395571513885434, 'diff_cosine_tf_idf': 0.5278187787581594, 'diff_minEdit': 0.7171989255848442, 'diff_simple': 0.5933917250325593, 'sing_LoughranMcDonald': -0.0027215704181528313, '0': {'type': '10-Q', 'published': datetime.date(2012, 5, 15), 'qtr': (2012, 2)}}\n",
      "[INFO] Comparing current qtr (2012, 3) to qtr (2012, 2) from 1 quarter ago.\n",
      "[INFO] Found a ToC!\n",
      "{'diff_jaccard': 0.0256565057340768, 'diff_cosine_tf': 0.42514172859273763, 'diff_cosine_tf_idf': 0.3619353809318746, 'diff_minEdit': 0.5708061020294447, 'diff_simple': 0.2928342348833728, 'sing_LoughranMcDonald': -0.00021106031368912703, '0': {'type': '10-K', 'published': datetime.date(2012, 2, 27), 'qtr': (2012, 1)}}\n",
      "[INFO] Comparing current qtr (2012, 2) to qtr (2012, 1) from 1 quarter ago.\n",
      "{'diff_jaccard': 0.0041423439023364, 'diff_cosine_tf': 0.22797490418859814, 'diff_cosine_tf_idf': 0.17683583402948994, 'diff_minEdit': 0.9345534600489792, 'diff_simple': 0.49589497386936515, 'sing_LoughranMcDonald': -0.0008573683531651659, '0': {'type': '10-K', 'published': datetime.date(2011, 3, 14), 'qtr': (2011, 1)}}\n",
      "{'diff_jaccard': 0.849773016926045, 'diff_cosine_tf': 0.991424873394707, 'diff_cosine_tf_idf': 0.9897739952229097, 'diff_minEdit': 1.0, 'diff_simple': 1.0, 'sing_LoughranMcDonald': -0.001411784041286702, '0': {'type': '10-Q', 'published': datetime.date(2010, 8, 6), 'qtr': (2010, 3)}}\n",
      "[INFO] Comparing current qtr (2011, 2) to qtr (2011, 1) from 1 quarter ago.\n",
      "[INFO] Comparing current qtr (2010, 4) to qtr (2010, 3) from 1 quarter ago.\n",
      "{'diff_jaccard': 0.6510813327488576, 'diff_cosine_tf': 0.9624306228538935, 'diff_cosine_tf_idf': 0.95671373092321, 'diff_minEdit': 1.0, 'diff_simple': 1.0, 'sing_LoughranMcDonald': -0.0017594243648834365, '0': {'type': '10-Q', 'published': datetime.date(2012, 9, 24), 'qtr': (2012, 3)}}\n",
      "[INFO] Comparing current qtr (2012, 4) to qtr (2012, 3) from 1 quarter ago.\n",
      "[INFO] Found a ToC!\n",
      "{'diff_jaccard': 0.026459162255798793, 'diff_cosine_tf': 0.43483605161797684, 'diff_cosine_tf_idf': 0.37235627105737773, 'diff_minEdit': 0.5874571580624396, 'diff_simple': 0.31830699474852475, 'sing_LoughranMcDonald': -0.0007636173811229666, '0': {'type': '10-Q', 'published': datetime.date(2012, 5, 7), 'qtr': (2012, 2)}}\n",
      "[INFO] Comparing current qtr (2012, 3) to qtr (2012, 2) from 1 quarter ago.\n",
      "[INFO] Found a ToC!\n",
      "[WARNING] Section ii_1 was found to be empty.\n",
      "[WARNING] Section ii_1a was found to be empty.\n",
      "{'diff_jaccard': 0.004144184121435754, 'diff_cosine_tf': 0.22700663364315704, 'diff_cosine_tf_idf': 0.1760908023492605, 'diff_minEdit': 0.936712117062048, 'diff_simple': 0.49521947575643205, 'sing_LoughranMcDonald': 0.0, '0': {'type': '10-Q', 'published': datetime.date(2011, 5, 11), 'qtr': (2011, 2)}}\n",
      "[INFO] Comparing current qtr (2011, 3) to qtr (2011, 2) from 1 quarter ago.\n",
      "{'diff_jaccard': 0.7226295210166178, 'diff_cosine_tf': 0.7868742386113403, 'diff_cosine_tf_idf': 0.6870054375555968, 'diff_minEdit': 0.903225806451613, 'diff_simple': 0.948586895293464, 'sing_LoughranMcDonald': 0.0, '0': {'type': '10-Q', 'published': datetime.date(2011, 8, 10), 'qtr': (2011, 3)}}\n",
      "[INFO] Comparing current qtr (2011, 4) to qtr (2011, 3) from 1 quarter ago.\n",
      "{'diff_jaccard': 0.8019866496881459, 'diff_cosine_tf': 0.9579201422186562, 'diff_cosine_tf_idf': 0.9438773770926842, 'diff_minEdit': 1.0, 'diff_simple': 1.0, 'sing_LoughranMcDonald': -0.0006814447387397063, '0': {'type': '10-Q', 'published': datetime.date(2012, 8, 3), 'qtr': (2012, 3)}}\n",
      "{'diff_jaccard': 0.6390080149847885, 'diff_cosine_tf': 0.9763900790806668, 'diff_cosine_tf_idf': 0.9693749453499055, 'diff_minEdit': 1.0, 'diff_simple': 1.0, 'sing_LoughranMcDonald': -0.0010837399024741425, '0': {'type': '10-Q', 'published': datetime.date(2012, 11, 14), 'qtr': (2012, 4)}}\n",
      "[INFO] Comparing current qtr (2012, 4) to qtr (2012, 3) from 1 quarter ago.\n"
     ]
    },
    {
     "name": "stderr",
     "output_type": "stream",
     "text": [
      "\n",
      "  0%|          | 3/1000 [00:03<18:04,  1.09s/it]\u001b[A\n",
      "\n",
      "3it [00:03,  1.09s/it]\u001b[A\u001b[A"
     ]
    },
    {
     "name": "stdout",
     "output_type": "stream",
     "text": [
      "[INFO] Found a ToC!\n",
      "{'diff_jaccard': 0.8165114586808954, 'diff_cosine_tf': 0.9931562811226052, 'diff_cosine_tf_idf': 0.9899288855527351, 'diff_minEdit': 0.9067664632595982, 'diff_simple': 0.9384658657513348, 'sing_LoughranMcDonald': -0.0014076586028811098, '0': {'type': '10-Q', 'published': datetime.date(2010, 11, 5), 'qtr': (2010, 4)}}\n",
      "[WARNING] Section ii_1a was found to be empty.\n",
      "[INFO] Comparing current qtr (2011, 1) to qtr (2010, 4) from 1 quarter ago.\n",
      "{'diff_jaccard': 0.010676479377476882, 'diff_cosine_tf': 0.408100689139124, 'diff_cosine_tf_idf': 0.31801135776548856, 'diff_minEdit': 0.9567838081280005, 'diff_simple': 0.7431350138713875, 'sing_LoughranMcDonald': -0.0023249659883436027, '0': {'type': '10-Q', 'published': datetime.date(2011, 11, 9), 'qtr': (2011, 4)}}\n",
      "[INFO] Comparing current qtr (2012, 1) to qtr (2011, 4) from 1 quarter ago.\n",
      "[INFO] Found a ToC!\n",
      "{'diff_jaccard': 0.7282278894322793, 'diff_cosine_tf': 0.9699981693018556, 'diff_cosine_tf_idf': 0.9511141568238223, 'diff_minEdit': 1.0, 'diff_simple': 1.0, 'sing_LoughranMcDonald': -0.0007748417286284709, '0': {'type': '10-Q', 'published': datetime.date(2012, 11, 8), 'qtr': (2012, 4)}}\n",
      "[INFO] Found a ToC!\n"
     ]
    },
    {
     "name": "stderr",
     "output_type": "stream",
     "text": [
      "\n",
      "  0%|          | 4/1000 [00:03<13:11,  1.26it/s]\u001b[A\n",
      "\n",
      "4it [00:03,  1.26it/s]\u001b[A\u001b[A"
     ]
    },
    {
     "name": "stdout",
     "output_type": "stream",
     "text": [
      "[INFO] No ToC found\n",
      "[INFO] Found a ToC!\n",
      "{'diff_jaccard': 0.2482578475134309, 'diff_cosine_tf': 0.8493113645211108, 'diff_cosine_tf_idf': 0.8233827238790496, 'diff_minEdit': 0.7648922295493774, 'diff_simple': 0.6426374293587409, 'sing_LoughranMcDonald': -0.0008396978066534236, '0': {'type': '10-K', 'published': datetime.date(2012, 3, 14), 'qtr': (2012, 1)}}\n",
      "[INFO] Comparing current qtr (2012, 2) to qtr (2012, 1) from 1 quarter ago.\n",
      "{'diff_jaccard': 0.41236167365596277, 'diff_cosine_tf': 0.8279085411059357, 'diff_cosine_tf_idf': 0.8058722656848446, 'diff_minEdit': 0.8128048820666377, 'diff_simple': 0.6970855061908231, 'sing_LoughranMcDonald': -0.0004537035102381284, '0': {'type': '10-K', 'published': datetime.date(2011, 3, 1), 'qtr': (2011, 1)}}\n",
      "[INFO] Comparing current qtr (2011, 2) to qtr (2011, 1) from 1 quarter ago.\n",
      "{'diff_jaccard': 0.28100200436397443, 'diff_cosine_tf': 0.914697031290542, 'diff_cosine_tf_idf': 0.8963705992779487, 'diff_minEdit': 0.8040748461466081, 'diff_simple': 0.6325149024566474, 'sing_LoughranMcDonald': -0.001154990037766551, '0': {'type': '10-Q', 'published': datetime.date(2012, 5, 9), 'qtr': (2012, 2)}}\n",
      "[INFO] Comparing current qtr (2012, 3) to qtr (2012, 2) from 1 quarter ago.\n",
      "[INFO] Found a ToC!\n",
      "[INFO] Found a ToC!\n",
      "[INFO] No ToC found\n",
      "{'diff_jaccard': 0.7477284842347768, 'diff_cosine_tf': 0.9378466987346725, 'diff_cosine_tf_idf': 0.9342055860308777, 'diff_minEdit': 0.9930463086255363, 'diff_simple': 0.9772667781988688, 'sing_LoughranMcDonald': -0.0003643184812325361, '0': {'type': '10-Q', 'published': datetime.date(2012, 8, 9), 'qtr': (2012, 3)}}\n",
      "[INFO] Found a ToC!\n",
      "[INFO] Comparing current qtr (2012, 4) to qtr (2012, 3) from 1 quarter ago.\n",
      "[WARNING] Section ii_1a was found to be empty.\n",
      "{'diff_jaccard': 0.43690289183124215, 'diff_cosine_tf': 0.81674737638574, 'diff_cosine_tf_idf': 0.794404626584928, 'diff_minEdit': 0.8720833298485368, 'diff_simple': 0.7149774436090225, 'sing_LoughranMcDonald': -0.0016021846816970792, '0': {'type': '10-Q', 'published': datetime.date(2011, 5, 6), 'qtr': (2011, 2)}}\n",
      "[INFO] Comparing current qtr (2011, 3) to qtr (2011, 2) from 1 quarter ago.\n",
      "[INFO] No ToC found\n",
      "[INFO] Comparing current qtr (2010, 2) to qtr (2010, 1) from 1 quarter ago.\n",
      "[WARNING] Section ii_1a was found to be empty.\n",
      "{'diff_jaccard': 0.8467006236808937, 'diff_cosine_tf': 0.980182110505539, 'diff_cosine_tf_idf': 0.975131727010176, 'diff_minEdit': 0.9946675908018736, 'diff_simple': 0.9843227169575085, 'sing_LoughranMcDonald': -0.00035413223239211613, '0': {'type': '10-Q', 'published': datetime.date(2012, 11, 7), 'qtr': (2012, 4)}}\n"
     ]
    },
    {
     "name": "stderr",
     "output_type": "stream",
     "text": [
      "\n",
      "  0%|          | 5/1000 [00:03<11:35,  1.43it/s]\u001b[A\n",
      "\n",
      "5it [00:03,  1.43it/s]\u001b[A\u001b[A"
     ]
    },
    {
     "name": "stdout",
     "output_type": "stream",
     "text": [
      "[INFO] Found a ToC!\n",
      "{'diff_jaccard': 0.007364173705985902, 'diff_cosine_tf': 0.18529001984530077, 'diff_cosine_tf_idf': 0.14210598589584436, 'diff_minEdit': 0.951403690347548, 'diff_simple': 0.4351857521227574, 'sing_LoughranMcDonald': 0.0, '0': {'type': '10-Q', 'published': datetime.date(2011, 8, 5), 'qtr': (2011, 3)}}\n",
      "[INFO] Comparing current qtr (2010, 2) to qtr (2010, 1) from 1 quarter ago.\n",
      "[INFO] Comparing current qtr (2011, 4) to qtr (2011, 3) from 1 quarter ago.\n",
      "{'diff_jaccard': 0.008968268866131298, 'diff_cosine_tf': 0.3363879695576387, 'diff_cosine_tf_idf': 0.2566075545618522, 'diff_minEdit': 0.9404836525457421, 'diff_simple': 0.676108589170253, 'sing_LoughranMcDonald': -0.0006202763891788644, '0': {'type': '10-Q', 'published': datetime.date(2010, 5, 3), 'qtr': (2010, 2)}}\n",
      "[INFO] Found a ToC!\n",
      "[INFO] Comparing current qtr (2010, 3) to qtr (2010, 2) from 1 quarter ago.\n",
      "{'diff_jaccard': 0.7944444444444445, 'diff_cosine_tf': 0.8666666666666665, 'diff_cosine_tf_idf': 0.7958954792317016, 'diff_minEdit': 0.9333333333333333, 'diff_simple': 0.9784072871572871, 'sing_LoughranMcDonald': 0.0, '0': {'type': '10-Q', 'published': datetime.date(2011, 11, 4), 'qtr': (2011, 4)}}\n",
      "[INFO] Comparing current qtr (2012, 1) to qtr (2011, 4) from 1 quarter ago.\n",
      "[WARNING] Section ii_1a was found to be empty.\n",
      "{'diff_jaccard': 0.0014269945956714484, 'diff_cosine_tf': 0.0786638084494358, 'diff_cosine_tf_idf': 0.047711975611118215, 'diff_minEdit': 0.6664487788555444, 'diff_simple': 0.19672614059412982, 'sing_LoughranMcDonald': -0.00011607148581765074, '0': {'type': '10-Q', 'published': datetime.date(2010, 4, 29), 'qtr': (2010, 2)}}\n",
      "[INFO] Comparing current qtr (2010, 3) to qtr (2010, 2) from 1 quarter ago.\n",
      "[INFO] No ToC found\n",
      "[WARNING] Section 1a was found to be empty.\n",
      "[INFO] Found a ToC!\n",
      "{'diff_jaccard': 0.7023822196202666, 'diff_cosine_tf': 0.9712736685471567, 'diff_cosine_tf_idf': 0.961703938364612, 'diff_minEdit': 0.9999999999999999, 'diff_simple': 0.9999999999999999, 'sing_LoughranMcDonald': -0.0006375374734888966, '0': {'type': '10-Q', 'published': datetime.date(2010, 7, 29), 'qtr': (2010, 3)}}\n",
      "[WARNING] Section 3 was found to be empty.\n",
      "[INFO] Comparing current qtr (2010, 4) to qtr (2010, 3) from 1 quarter ago.\n",
      "[WARNING] Section 7 was found to be empty.\n",
      "[INFO] No ToC found\n",
      "[INFO] No ToC found\n",
      "{'diff_jaccard': 0.0033951072484146357, 'diff_cosine_tf': 0.21843150951778897, 'diff_cosine_tf_idf': 0.16705801680901938, 'diff_minEdit': 0.9436247713765054, 'diff_simple': 0.591554928287782, 'sing_LoughranMcDonald': -0.0005732673239786244, '0': {'type': '10-K', 'published': datetime.date(2012, 2, 29), 'qtr': (2012, 1)}}\n",
      "[INFO] Comparing current qtr (2012, 2) to qtr (2012, 1) from 1 quarter ago.\n",
      "[WARNING] Section _i_3 was found to be empty.\n",
      "{'diff_jaccard': 0.7587935197809754, 'diff_cosine_tf': 0.9835338090110507, 'diff_cosine_tf_idf': 0.9819500463665346, 'diff_minEdit': 1.0, 'diff_simple': 1.0, 'sing_LoughranMcDonald': -8.748622823215817e-05, '0': {'type': '10-Q', 'published': datetime.date(2010, 7, 28), 'qtr': (2010, 3)}}\n",
      "[WARNING] Section _i_4 was found to be empty.\n",
      "[INFO] Comparing current qtr (2010, 4) to qtr (2010, 3) from 1 quarter ago.\n",
      "[WARNING] Section ii_1 was found to be empty.\n",
      "[WARNING] Section ii_1a was found to be empty.\n",
      "[INFO] Found a ToC!\n",
      "{'diff_jaccard': 0.5658001315806525, 'diff_cosine_tf': 0.9607810269175046, 'diff_cosine_tf_idf': 0.9449865412473256, 'diff_minEdit': 1.0, 'diff_simple': 1.0, 'sing_LoughranMcDonald': -0.0003641880202369704, '0': {'type': '10-Q', 'published': datetime.date(2010, 10, 28), 'qtr': (2010, 4)}}\n",
      "[INFO] Comparing current qtr (2011, 1) to qtr (2010, 4) from 1 quarter ago.\n",
      "[INFO] No ToC found\n",
      "{'diff_jaccard': 0.0033951072484146357, 'diff_cosine_tf': 0.2180516454896506, 'diff_cosine_tf_idf': 0.16665950125145867, 'diff_minEdit': 0.9436247713765054, 'diff_simple': 0.591554928287782, 'sing_LoughranMcDonald': 0.0, '0': {'type': '10-Q', 'published': datetime.date(2012, 5, 4), 'qtr': (2012, 2)}}\n",
      "[WARNING] Section _i_2 was found to be empty.\n",
      "[INFO] Comparing current qtr (2012, 3) to qtr (2012, 2) from 1 quarter ago.\n",
      "[INFO] No ToC found\n",
      "[WARNING] Section _i_3 was found to be empty.\n",
      "{'diff_jaccard': 0.7217171717171718, 'diff_cosine_tf': 0.8399999999999999, 'diff_cosine_tf_idf': 0.7464359212312635, 'diff_minEdit': 0.9166666666666667, 'diff_simple': 0.9732124819624819, 'sing_LoughranMcDonald': 0.0, '0': {'type': '10-Q', 'published': datetime.date(2012, 8, 3), 'qtr': (2012, 3)}}\n",
      "[WARNING] Section _i_4 was found to be empty.\n",
      "[INFO] Comparing current qtr (2012, 4) to qtr (2012, 3) from 1 quarter ago.\n",
      "{'diff_jaccard': 0.8615444777408954, 'diff_cosine_tf': 0.9919963167277485, 'diff_cosine_tf_idf': 0.9906835336909767, 'diff_minEdit': 1.0, 'diff_simple': 1.0, 'sing_LoughranMcDonald': -8.025467822756782e-05, '0': {'type': '10-Q', 'published': datetime.date(2010, 11, 3), 'qtr': (2010, 4)}}\n",
      "[WARNING] Section ii_1 was found to be empty.\n",
      "[INFO] Comparing current qtr (2011, 1) to qtr (2010, 4) from 1 quarter ago.\n",
      "[INFO] Found a ToC!\n",
      "[WARNING] Section ii_1a was found to be empty.\n",
      "{'diff_jaccard': 0.006181273234830973, 'diff_cosine_tf': 0.23226081584236968, 'diff_cosine_tf_idf': 0.17109051836044153, 'diff_minEdit': 0.9310634378625714, 'diff_simple': 0.5417138779952839, 'sing_LoughranMcDonald': 0.0, '0': {'type': '10-K', 'published': datetime.date(2011, 2, 24), 'qtr': (2011, 1)}}\n",
      "{'diff_jaccard': 0.7217171717171718, 'diff_cosine_tf': 0.8399999999999999, 'diff_cosine_tf_idf': 0.7464359212312635, 'diff_minEdit': 0.9166666666666667, 'diff_simple': 0.9732124819624819, 'sing_LoughranMcDonald': 0.0, '0': {'type': '10-Q', 'published': datetime.date(2012, 11, 2), 'qtr': (2012, 4)}}\n",
      "[INFO] Comparing current qtr (2011, 2) to qtr (2011, 1) from 1 quarter ago.\n"
     ]
    },
    {
     "name": "stderr",
     "output_type": "stream",
     "text": [
      "\n",
      "  1%|          | 6/1000 [00:04<10:46,  1.54it/s]\u001b[A\n",
      "\n",
      "6it [00:04,  1.54it/s]\u001b[A\u001b[A"
     ]
    },
    {
     "name": "stdout",
     "output_type": "stream",
     "text": [
      "[INFO] Found a ToC!\n",
      "[WARNING] Section ii_1a was found to be empty.\n",
      "[INFO] No ToC found\n",
      "{'diff_jaccard': 0.057775567688266125, 'diff_cosine_tf': 0.6252866772318253, 'diff_cosine_tf_idf': 0.5260838656893679, 'diff_minEdit': 0.8722689219377792, 'diff_simple': 0.7872004960727574, 'sing_LoughranMcDonald': 0.00025072791882523146, '0': {'type': '10-K', 'published': datetime.date(2011, 2, 25), 'qtr': (2011, 1)}}\n",
      "[WARNING] Section _i_2 was found to be empty.\n",
      "[WARNING] Section _i_3 was found to be empty.\n",
      "[INFO] Comparing current qtr (2011, 2) to qtr (2011, 1) from 1 quarter ago.\n",
      "[WARNING] Section _i_4 was found to be empty.\n",
      "{'diff_jaccard': 0.009461977953146959, 'diff_cosine_tf': 0.37274892712292557, 'diff_cosine_tf_idf': 0.28352904902334497, 'diff_minEdit': 0.9413914764131431, 'diff_simple': 0.7570168938757853, 'sing_LoughranMcDonald': -0.00039823167846782525, '0': {'type': '10-Q', 'published': datetime.date(2011, 4, 28), 'qtr': (2011, 2)}}\n",
      "[INFO] Comparing current qtr (2011, 3) to qtr (2011, 2) from 1 quarter ago.\n",
      "[INFO] Found a ToC!\n",
      "[WARNING] Section ii_1 was found to be empty.\n",
      "[WARNING] Section ii_1a was found to be empty.\n",
      "[WARNING] Section ii_1a was found to be empty.\n",
      "[INFO] No ToC found\n",
      "[WARNING] Section ii_1 was found to be empty.\n",
      "{'diff_jaccard': 0.09436152670348606, 'diff_cosine_tf': 0.5892269373599464, 'diff_cosine_tf_idf': 0.4850901081150065, 'diff_minEdit': 0.8730414541351553, 'diff_simple': 0.7835860542335362, 'sing_LoughranMcDonald': -0.00010177791075301348, '0': {'type': '10-Q', 'published': datetime.date(2011, 4, 28), 'qtr': (2011, 2)}}\n",
      "[INFO] Comparing current qtr (2011, 3) to qtr (2011, 2) from 1 quarter ago.\n",
      "[INFO] Found a ToC!\n",
      "[INFO] Found a ToC!\n",
      "{'diff_jaccard': 0.6722946426516486, 'diff_cosine_tf': 0.9593888982098205, 'diff_cosine_tf_idf': 0.9515419976048499, 'diff_minEdit': 1.0, 'diff_simple': 1.0, 'sing_LoughranMcDonald': -0.0005647955989554632, '0': {'type': '10-Q', 'published': datetime.date(2011, 8, 1), 'qtr': (2011, 3)}}\n",
      "[WARNING] Section ii_1a was found to be empty.\n",
      "[INFO] Comparing current qtr (2011, 4) to qtr (2011, 3) from 1 quarter ago.\n",
      "[INFO] Comparing current qtr (2010, 2) to qtr (2010, 1) from 1 quarter ago.\n",
      "{'diff_jaccard': 0.7619917162991239, 'diff_cosine_tf': 0.9571730269254265, 'diff_cosine_tf_idf': 0.9534597026826629, 'diff_minEdit': 1.0, 'diff_simple': 1.0, 'sing_LoughranMcDonald': -8.227737734501934e-05, '0': {'type': '10-Q', 'published': datetime.date(2011, 7, 27), 'qtr': (2011, 3)}}\n",
      "[INFO] Comparing current qtr (2011, 4) to qtr (2011, 3) from 1 quarter ago.\n",
      "[INFO] Found a ToC!\n",
      "[WARNING] Section 9a was found to be empty.\n",
      "{'diff_jaccard': 0.2755687908933065, 'diff_cosine_tf': 0.7346819789772654, 'diff_cosine_tf_idf': 0.721416538129546, 'diff_minEdit': 0.8243259904190772, 'diff_simple': 0.6945051174768063, 'sing_LoughranMcDonald': -0.00044268957344010575, '0': {'type': '10-Q', 'published': datetime.date(2010, 5, 5), 'qtr': (2010, 2)}}\n",
      "[INFO] Comparing current qtr (2010, 3) to qtr (2010, 2) from 1 quarter ago.\n",
      "{'diff_jaccard': 0.6943321152995425, 'diff_cosine_tf': 0.9724728156379844, 'diff_cosine_tf_idf': 0.9626765772182617, 'diff_minEdit': 1.0, 'diff_simple': 1.0, 'sing_LoughranMcDonald': -0.0004512524302679506, '0': {'type': '10-Q', 'published': datetime.date(2011, 10, 31), 'qtr': (2011, 4)}}\n",
      "[INFO] Comparing current qtr (2012, 1) to qtr (2011, 4) from 1 quarter ago.\n",
      "[INFO] No ToC found\n",
      "[INFO] No ToC found\n",
      "[WARNING] Section _i_4 was found to be empty.\n",
      "{'diff_jaccard': 0.8160364705295963, 'diff_cosine_tf': 0.976827158175406, 'diff_cosine_tf_idf': 0.9645796929589325, 'diff_minEdit': 0.9995646281732524, 'diff_simple': 0.99885279523652, 'sing_LoughranMcDonald': -9.135807784610715e-05, '0': {'type': '10-Q', 'published': datetime.date(2011, 10, 27), 'qtr': (2011, 4)}}\n",
      "[WARNING] Section ii_1 was found to be empty.\n",
      "[INFO] Found a ToC!\n",
      "[INFO] Comparing current qtr (2012, 1) to qtr (2011, 4) from 1 quarter ago.\n",
      "{'diff_jaccard': 0.6593978598907008, 'diff_cosine_tf': 0.9010289195111253, 'diff_cosine_tf_idf': 0.894809280225952, 'diff_minEdit': 0.9683185944021248, 'diff_simple': 0.9315341766974056, 'sing_LoughranMcDonald': -0.0031750517674612173, '0': {'type': '10-Q', 'published': datetime.date(2010, 8, 6), 'qtr': (2010, 3)}}\n",
      "[INFO] Comparing current qtr (2010, 4) to qtr (2010, 3) from 1 quarter ago.\n",
      "{'diff_jaccard': 0.006136519387537108, 'diff_cosine_tf': 0.3173558920238464, 'diff_cosine_tf_idf': 0.23471971690704677, 'diff_minEdit': 0.9429582585938879, 'diff_simple': 0.6831513544542338, 'sing_LoughranMcDonald': 0.0, '0': {'type': '10-K', 'published': datetime.date(2012, 2, 27), 'qtr': (2012, 1)}}\n",
      "[INFO] No ToC found\n",
      "[WARNING] Section _i_4 was found to be empty.\n",
      "[INFO] No ToC found\n",
      "[INFO] Comparing current qtr (2012, 2) to qtr (2012, 1) from 1 quarter ago.\n",
      "{'diff_jaccard': 0.07781264717990999, 'diff_cosine_tf': 0.5992716507232946, 'diff_cosine_tf_idf': 0.49657545182160856, 'diff_minEdit': 0.8438292017280206, 'diff_simple': 0.7894013840830449, 'sing_LoughranMcDonald': 0.0, '0': {'type': '10-K', 'published': datetime.date(2012, 2, 24), 'qtr': (2012, 1)}}\n",
      "[INFO] Comparing current qtr (2012, 2) to qtr (2012, 1) from 1 quarter ago.\n",
      "[INFO] No ToC found\n",
      "{'diff_jaccard': 0.6962933947449134, 'diff_cosine_tf': 0.925255721422148, 'diff_cosine_tf_idf': 0.915775928146068, 'diff_minEdit': 0.8637986893454089, 'diff_simple': 0.859116926937105, 'sing_LoughranMcDonald': -0.002411423476669549, '0': {'type': '10-Q', 'published': datetime.date(2010, 11, 5), 'qtr': (2010, 4)}}\n",
      "[INFO] Comparing current qtr (2011, 1) to qtr (2010, 4) from 1 quarter ago.\n",
      "[INFO] No ToC found\n",
      "{'diff_jaccard': 0.008218042675979094, 'diff_cosine_tf': 0.3901794928878568, 'diff_cosine_tf_idf': 0.28891319432145574, 'diff_minEdit': 0.9549486567131688, 'diff_simple': 0.7898503583579995, 'sing_LoughranMcDonald': -0.0004052797858587496, '0': {'type': '10-Q', 'published': datetime.date(2012, 4, 26), 'qtr': (2012, 2)}}\n",
      "[INFO] No ToC found\n",
      "[INFO] Comparing current qtr (2012, 3) to qtr (2012, 2) from 1 quarter ago.\n",
      "{'diff_jaccard': 0.08820513859038505, 'diff_cosine_tf': 0.6120348005174874, 'diff_cosine_tf_idf': 0.5081849396624549, 'diff_minEdit': 0.8447094848218377, 'diff_simple': 0.7895347287028397, 'sing_LoughranMcDonald': -0.00012611965470218215, '0': {'type': '10-Q', 'published': datetime.date(2012, 4, 26), 'qtr': (2012, 2)}}\n",
      "[INFO] Comparing current qtr (2012, 3) to qtr (2012, 2) from 1 quarter ago.\n",
      "[INFO] No ToC found\n",
      "{'diff_jaccard': 0.2935507224291902, 'diff_cosine_tf': 0.898048775496517, 'diff_cosine_tf_idf': 0.8793148011324069, 'diff_minEdit': 0.8552047822579067, 'diff_simple': 0.7941856906006887, 'sing_LoughranMcDonald': -0.0015795466854305427, '0': {'type': '10-K', 'published': datetime.date(2011, 2, 25), 'qtr': (2011, 1)}}\n",
      "[INFO] No ToC found\n",
      "[INFO] Comparing current qtr (2011, 2) to qtr (2011, 1) from 1 quarter ago.\n",
      "[WARNING] Section ii_1 was found to be empty.\n",
      "[INFO] No ToC found\n",
      "{'diff_jaccard': 0.8362952312188306, 'diff_cosine_tf': 0.9648353687672948, 'diff_cosine_tf_idf': 0.9572619713261508, 'diff_minEdit': 1.0, 'diff_simple': 1.0, 'sing_LoughranMcDonald': -8.463122594784699e-05, '0': {'type': '10-Q', 'published': datetime.date(2012, 7, 31), 'qtr': (2012, 3)}}\n",
      "[INFO] Comparing current qtr (2012, 4) to qtr (2012, 3) from 1 quarter ago.\n",
      "[INFO] No ToC found\n",
      "{'diff_jaccard': 0.6331683473557512, 'diff_cosine_tf': 0.8751710281000219, 'diff_cosine_tf_idf': 0.8595175181881289, 'diff_minEdit': 1.0, 'diff_simple': 1.0, 'sing_LoughranMcDonald': -0.0002727749004535562, '0': {'type': '10-Q', 'published': datetime.date(2012, 7, 31), 'qtr': (2012, 3)}}\n",
      "[INFO] Comparing current qtr (2012, 4) to qtr (2012, 3) from 1 quarter ago.\n",
      "[INFO] Found a ToC!\n",
      "[INFO] Found a ToC!\n",
      "[INFO] Found a ToC!\n",
      "{'diff_jaccard': 0.2732026399843377, 'diff_cosine_tf': 0.7239661156387076, 'diff_cosine_tf_idf': 0.7089478857342048, 'diff_minEdit': 0.8205216699099039, 'diff_simple': 0.7097969910424295, 'sing_LoughranMcDonald': -0.0020183588869644303, '0': {'type': '10-Q', 'published': datetime.date(2011, 5, 5), 'qtr': (2011, 2)}}\n",
      "[INFO] Comparing current qtr (2011, 3) to qtr (2011, 2) from 1 quarter ago.\n",
      "[INFO] No ToC found\n",
      "[INFO] No ToC found\n",
      "{'diff_jaccard': 0.006799448806233028, 'diff_cosine_tf': 0.28310510490733964, 'diff_cosine_tf_idf': 0.21671498697845026, 'diff_minEdit': 0.9557130133393559, 'diff_simple': 0.62207160810011, 'sing_LoughranMcDonald': 0.0, '0': {'type': '10-Q', 'published': datetime.date(2012, 10, 24), 'qtr': (2012, 4)}}\n"
     ]
    },
    {
     "name": "stderr",
     "output_type": "stream",
     "text": [
      "\n",
      "  1%|          | 7/1000 [00:05<11:31,  1.44it/s]\u001b[A\n",
      "\n",
      "7it [00:05,  1.44it/s]\u001b[A\u001b[A"
     ]
    },
    {
     "name": "stdout",
     "output_type": "stream",
     "text": [
      "{'diff_jaccard': 0.0639259611247974, 'diff_cosine_tf': 0.6302873153523751, 'diff_cosine_tf_idf': 0.5743821280293244, 'diff_minEdit': 0.6467733688467221, 'diff_simple': 0.5235591958206874, 'sing_LoughranMcDonald': -0.0008717633405172598, '0': {'type': '10-Q', 'published': datetime.date(2011, 8, 3), 'qtr': (2011, 3)}}\n",
      "{'diff_jaccard': 0.6315610713014862, 'diff_cosine_tf': 0.9528539526605745, 'diff_cosine_tf_idf': 0.942433069958026, 'diff_minEdit': 0.9999189792798313, 'diff_simple': 0.9999773141983528, 'sing_LoughranMcDonald': -0.0001316399355698108, '0': {'type': '10-Q', 'published': datetime.date(2012, 10, 25), 'qtr': (2012, 4)}}\n",
      "[INFO] No ToC found\n",
      "[INFO] Comparing current qtr (2011, 4) to qtr (2011, 3) from 1 quarter ago.\n",
      "[INFO] No ToC found\n",
      "[INFO] Found a ToC!\n",
      "[INFO] No ToC found\n",
      "{'diff_jaccard': 0.061177510024700815, 'diff_cosine_tf': 0.6242334544691605, 'diff_cosine_tf_idf': 0.5675637619559952, 'diff_minEdit': 0.7355078956952494, 'diff_simple': 0.5192221884175944, 'sing_LoughranMcDonald': -0.0016417580386797576, '0': {'type': '10-Q', 'published': datetime.date(2011, 11, 2), 'qtr': (2011, 4)}}\n",
      "[INFO] Comparing current qtr (2010, 2) to qtr (2010, 1) from 1 quarter ago.\n",
      "[INFO] Comparing current qtr (2012, 1) to qtr (2011, 4) from 1 quarter ago.\n",
      "[INFO] Found a ToC!\n",
      "{'diff_jaccard': 0.0038830225383650503, 'diff_cosine_tf': 0.059254866931442836, 'diff_cosine_tf_idf': 0.03437572186058513, 'diff_minEdit': 0.5500506783459332, 'diff_simple': 0.23413693949923306, 'sing_LoughranMcDonald': 0.00026361509441788077, '0': {'type': '10-Q', 'published': datetime.date(2010, 5, 7), 'qtr': (2010, 2)}}\n",
      "[INFO] Comparing current qtr (2010, 3) to qtr (2010, 2) from 1 quarter ago.\n",
      "{'diff_jaccard': 0.021890058737573326, 'diff_cosine_tf': 0.09420557945305891, 'diff_cosine_tf_idf': 0.06149226868469172, 'diff_minEdit': 0.6900884132154491, 'diff_simple': 0.13847733190299763, 'sing_LoughranMcDonald': 0.0, '0': {'type': '10-Q', 'published': datetime.date(2010, 8, 5), 'qtr': (2010, 3)}}\n",
      "[INFO] Comparing current qtr (2010, 4) to qtr (2010, 3) from 1 quarter ago.\n",
      "{'diff_jaccard': 1.0, 'diff_cosine_tf': 0.9999999999999999, 'diff_cosine_tf_idf': 0.9999999999999999, 'diff_minEdit': 1.0, 'diff_simple': 1.0, 'sing_LoughranMcDonald': 0.0, '0': {'type': '10-Q', 'published': datetime.date(2010, 11, 4), 'qtr': (2010, 4)}}\n",
      "[INFO] Comparing current qtr (2011, 1) to qtr (2010, 4) from 1 quarter ago.\n",
      "[ERROR] Here is full_sect: |[]|\n",
      "[ERROR] Original res: {'1': [], '1a': [], '1b': [], '2': [], '3': [], '4': [], '5': [], '6': [], '7': [], '7a': [], '8': [], '9': [], '9a': [], '9b': [], '10': [], '11': [], '12': [], '13': [], '14': [], '15': []}\n",
      "{'diff_jaccard': 0.263723452345757, 'diff_cosine_tf': 0.7062592439928066, 'diff_cosine_tf_idf': 0.6936803094356502, 'diff_minEdit': 0.7874856704201689, 'diff_simple': 0.6924916221672699, 'sing_LoughranMcDonald': -0.0014453608383000255, '0': {'type': '10-K', 'published': datetime.date(2012, 2, 24), 'qtr': (2012, 1)}}\n"
     ]
    },
    {
     "name": "stderr",
     "output_type": "stream",
     "text": [
      "\n",
      "  1%|          | 9/1000 [00:05<08:54,  1.86it/s]"
     ]
    },
    {
     "name": "stdout",
     "output_type": "stream",
     "text": [
      "[WARNING] /home/alex/Desktop/filtered_text_data/nd_data/2010/QTR1/20100319_10-K_edgar_data_1122342_0001122342-10-000005_1.txt failed parsing\n"
     ]
    },
    {
     "name": "stderr",
     "output_type": "stream",
     "text": [
      "\u001b[A\n",
      "\n",
      "9it [00:05,  1.86it/s]\u001b[A\u001b[A"
     ]
    },
    {
     "name": "stdout",
     "output_type": "stream",
     "text": [
      "[INFO] Comparing current qtr (2012, 2) to qtr (2012, 1) from 1 quarter ago.\n",
      "[INFO] Found a ToC!\n",
      "{'diff_jaccard': 0.0030728246864351137, 'diff_cosine_tf': 0.036366554235226556, 'diff_cosine_tf_idf': 0.020476315282356418, 'diff_minEdit': 0.6531023421721656, 'diff_simple': 0.203315376636537, 'sing_LoughranMcDonald': -0.001020625569442279, '0': {'type': '10-K', 'published': datetime.date(2011, 3, 15), 'qtr': (2011, 1)}}\n",
      "[INFO] Comparing current qtr (2011, 2) to qtr (2011, 1) from 1 quarter ago.\n",
      "[INFO] No ToC found\n",
      "{'diff_jaccard': 0.2625614654356241, 'diff_cosine_tf': 0.6977065362843143, 'diff_cosine_tf_idf': 0.6855979695016776, 'diff_minEdit': 0.8599206163165398, 'diff_simple': 0.6672865684730832, 'sing_LoughranMcDonald': -0.0018942104854523852, '0': {'type': '10-Q', 'published': datetime.date(2012, 5, 3), 'qtr': (2012, 2)}}\n",
      "[INFO] Comparing current qtr (2012, 3) to qtr (2012, 2) from 1 quarter ago.\n",
      "[INFO] Found a ToC!\n",
      "{'diff_jaccard': 0.33777877812359125, 'diff_cosine_tf': 0.8401788652378013, 'diff_cosine_tf_idf': 0.7983554519795855, 'diff_minEdit': 0.8102018678630707, 'diff_simple': 0.7156953473740975, 'sing_LoughranMcDonald': -0.0014933038753480155, '0': {'type': '10-Q', 'published': datetime.date(2011, 5, 6), 'qtr': (2011, 2)}}\n",
      "[INFO] Comparing current qtr (2011, 3) to qtr (2011, 2) from 1 quarter ago.\n",
      "[INFO] Found a ToC!\n",
      "[INFO] Found a ToC!\n",
      "This is the res {'_i_1': [(6476, 6498)], '_i_2': [(29598, 29622)], '_i_3': [(64460, 64485)], '_i_4': [(65862, 65884)], 'ii_1': [(67300, 67318)], 'ii_1a': [], 'ii_2': [(67891, 67916)], 'ii_4': [(68040, 68057)], 'ii_5': [(68088, 68110)], 'ii_6': [(68175, 68197)]}\n",
      "[WARNING] /home/alex/Desktop/filtered_text_data/nd_data/2012/QTR2/20120504_10-Q_edgar_data_1171486_0001193125-12-210830_1.txt failed parsing\n"
     ]
    },
    {
     "name": "stderr",
     "output_type": "stream",
     "text": [
      "\n",
      "  1%|          | 10/1000 [00:05<07:13,  2.28it/s]\u001b[A\n",
      "\n",
      "10it [00:05,  2.27it/s]\u001b[A\u001b[A"
     ]
    },
    {
     "name": "stdout",
     "output_type": "stream",
     "text": [
      "[INFO] Found a ToC!\n",
      "{'diff_jaccard': 0.8321030700647282, 'diff_cosine_tf': 0.9875250863814675, 'diff_cosine_tf_idf': 0.9837447396248055, 'diff_minEdit': 1.0, 'diff_simple': 1.0, 'sing_LoughranMcDonald': -0.0018140226325141767, '0': {'type': '10-Q', 'published': datetime.date(2012, 8, 1), 'qtr': (2012, 3)}}\n",
      "[INFO] Comparing current qtr (2012, 4) to qtr (2012, 3) from 1 quarter ago.\n",
      "{'diff_jaccard': 0.704748363618401, 'diff_cosine_tf': 0.973693181725649, 'diff_cosine_tf_idf': 0.9672442186799444, 'diff_minEdit': 0.9988765015988247, 'diff_simple': 0.9976406533575318, 'sing_LoughranMcDonald': -0.00087043507490425, '0': {'type': '10-Q', 'published': datetime.date(2011, 8, 4), 'qtr': (2011, 3)}}\n",
      "[INFO] Comparing current qtr (2011, 4) to qtr (2011, 3) from 1 quarter ago.\n",
      "[INFO] Found a ToC!\n",
      "[WARNING] Section 9a was found to be empty.\n",
      "[INFO] Found a ToC!\n",
      "[INFO] Comparing current qtr (2010, 2) to qtr (2010, 1) from 1 quarter ago.\n",
      "{'diff_jaccard': 0.813280107820436, 'diff_cosine_tf': 0.9895007269954188, 'diff_cosine_tf_idf': 0.9834947731160235, 'diff_minEdit': 1.0, 'diff_simple': 1.0, 'sing_LoughranMcDonald': -0.00168992450231807, '0': {'type': '10-Q', 'published': datetime.date(2012, 11, 1), 'qtr': (2012, 4)}}\n",
      "{'diff_jaccard': 0.7182365050016453, 'diff_cosine_tf': 0.980506116931093, 'diff_cosine_tf_idf': 0.9715147044566398, 'diff_minEdit': 1.0, 'diff_simple': 1.0, 'sing_LoughranMcDonald': -0.0008862042413091232, '0': {'type': '10-Q', 'published': datetime.date(2011, 11, 4), 'qtr': (2011, 4)}}\n",
      "[INFO] Comparing current qtr (2012, 1) to qtr (2011, 4) from 1 quarter ago.\n",
      "{'diff_jaccard': 0.3266935013733569, 'diff_cosine_tf': 0.9241453941554791, 'diff_cosine_tf_idf': 0.9052540537864218, 'diff_minEdit': 0.9399653158590849, 'diff_simple': 0.9333615006035844, 'sing_LoughranMcDonald': -0.0003392702396332936, '0': {'type': '10-Q', 'published': datetime.date(2010, 5, 13), 'qtr': (2010, 2)}}\n",
      "[INFO] Comparing current qtr (2010, 3) to qtr (2010, 2) from 1 quarter ago.\n",
      "[INFO] No ToC found\n",
      "[INFO] Comparing current qtr (2010, 2) to qtr (2010, 1) from 1 quarter ago.\n",
      "{'diff_jaccard': 0.8132252504638676, 'diff_cosine_tf': 0.9760194583059744, 'diff_cosine_tf_idf': 0.9631350216876738, 'diff_minEdit': 0.9999999999999999, 'diff_simple': 0.9999999999999999, 'sing_LoughranMcDonald': -0.00030668348051121467, '0': {'type': '10-Q', 'published': datetime.date(2010, 8, 10), 'qtr': (2010, 3)}}\n",
      "{'diff_jaccard': 0.34078715857018643, 'diff_cosine_tf': 0.8484800373486316, 'diff_cosine_tf_idf': 0.8165129231581103, 'diff_minEdit': 0.8197065056088223, 'diff_simple': 0.7259359358202228, 'sing_LoughranMcDonald': -0.0009015942916509738, '0': {'type': '10-K', 'published': datetime.date(2012, 3, 13), 'qtr': (2012, 1)}}\n",
      "[INFO] Comparing current qtr (2010, 4) to qtr (2010, 3) from 1 quarter ago.\n",
      "[INFO] Comparing current qtr (2012, 2) to qtr (2012, 1) from 1 quarter ago.\n",
      "[INFO] Found a ToC!\n",
      "[WARNING] Section _i_4 was found to be empty.\n",
      "[WARNING] Section ii_1 was found to be empty.\n",
      "{'diff_jaccard': 0.6953845548471734, 'diff_cosine_tf': 0.9126127224603933, 'diff_cosine_tf_idf': 0.8976748145630685, 'diff_minEdit': 0.9764284476284015, 'diff_simple': 0.9542738874318132, 'sing_LoughranMcDonald': -0.0004364008630738822, '0': {'type': '10-Q', 'published': datetime.date(2010, 11, 5), 'qtr': (2010, 4)}}\n",
      "[INFO] Comparing current qtr (2011, 1) to qtr (2010, 4) from 1 quarter ago.\n",
      "{'diff_jaccard': 0.3221825344665213, 'diff_cosine_tf': 0.844181864443793, 'diff_cosine_tf_idf': 0.8081346300676032, 'diff_minEdit': 0.804080829739074, 'diff_simple': 0.7153138342314748, 'sing_LoughranMcDonald': -0.0013495875798270505, '0': {'type': '10-Q', 'published': datetime.date(2012, 5, 8), 'qtr': (2012, 2)}}\n",
      "[INFO] Found a ToC!\n",
      "[INFO] Comparing current qtr (2012, 3) to qtr (2012, 2) from 1 quarter ago.\n",
      "[INFO] Found a ToC!\n",
      "[WARNING] Section _i_4 was found to be empty.\n",
      "[WARNING] Section ii_1 was found to be empty.\n",
      "{'diff_jaccard': 0.4263516989721402, 'diff_cosine_tf': 0.9365949504819888, 'diff_cosine_tf_idf': 0.9211346860177241, 'diff_minEdit': 0.9320182079470005, 'diff_simple': 0.9316582452246042, 'sing_LoughranMcDonald': -0.00042522335875835215, '0': {'type': '10-K', 'published': datetime.date(2011, 3, 14), 'qtr': (2011, 1)}}\n",
      "{'diff_jaccard': 0.7085330776605945, 'diff_cosine_tf': 0.9590137408308428, 'diff_cosine_tf_idf': 0.9498495082947558, 'diff_minEdit': 1.0, 'diff_simple': 1.0, 'sing_LoughranMcDonald': -0.0010935884360732432, '0': {'type': '10-Q', 'published': datetime.date(2012, 8, 9), 'qtr': (2012, 3)}}\n",
      "[INFO] Comparing current qtr (2011, 2) to qtr (2011, 1) from 1 quarter ago.\n",
      "[INFO] Comparing current qtr (2012, 4) to qtr (2012, 3) from 1 quarter ago.\n",
      "{'diff_jaccard': 0.6946465664448184, 'diff_cosine_tf': 0.9674931779623078, 'diff_cosine_tf_idf': 0.9594017124511434, 'diff_minEdit': 1.0, 'diff_simple': 1.0, 'sing_LoughranMcDonald': -0.0009841906460213593, '0': {'type': '10-Q', 'published': datetime.date(2012, 11, 7), 'qtr': (2012, 4)}}\n",
      "[INFO] Found a ToC!\n"
     ]
    },
    {
     "name": "stderr",
     "output_type": "stream",
     "text": [
      "\n",
      "  1%|          | 12/1000 [00:06<06:09,  2.67it/s]\u001b[A\n",
      "\n",
      "12it [00:06,  2.67it/s]\u001b[A\u001b[A"
     ]
    },
    {
     "name": "stdout",
     "output_type": "stream",
     "text": [
      "[WARNING] Section _i_4 was found to be empty.\n",
      "{'diff_jaccard': 0.3780387155534017, 'diff_cosine_tf': 0.9313908441683828, 'diff_cosine_tf_idf': 0.9123600839236511, 'diff_minEdit': 0.9328916094799704, 'diff_simple': 0.9280710157921069, 'sing_LoughranMcDonald': -0.0004367162622975641, '0': {'type': '10-Q', 'published': datetime.date(2011, 5, 9), 'qtr': (2011, 2)}}\n",
      "[INFO] Comparing current qtr (2011, 3) to qtr (2011, 2) from 1 quarter ago.\n",
      "[INFO] Comparing current qtr (2010, 2) to qtr (2010, 1) from 1 quarter ago.\n",
      "[INFO] Found a ToC!\n",
      "[INFO] No ToC found\n",
      "{'diff_jaccard': 0.7523783026312917, 'diff_cosine_tf': 0.9892394958084767, 'diff_cosine_tf_idf': 0.9881572007099936, 'diff_minEdit': 0.9645377369206383, 'diff_simple': 0.9869229203447493, 'sing_LoughranMcDonald': -0.000118317579200641, '0': {'type': '10-Q', 'published': datetime.date(2010, 5, 4), 'qtr': (2010, 2)}}\n",
      "{'diff_jaccard': 0.8454359365477966, 'diff_cosine_tf': 0.9778702689281028, 'diff_cosine_tf_idf': 0.9626597623248616, 'diff_minEdit': 0.9999999999999999, 'diff_simple': 0.9999999999999999, 'sing_LoughranMcDonald': -0.00040506757278988936, '0': {'type': '10-Q', 'published': datetime.date(2011, 8, 8), 'qtr': (2011, 3)}}\n",
      "[INFO] Comparing current qtr (2011, 4) to qtr (2011, 3) from 1 quarter ago.\n",
      "[INFO] Comparing current qtr (2010, 3) to qtr (2010, 2) from 1 quarter ago.\n",
      "{'diff_jaccard': 0.7752655549656005, 'diff_cosine_tf': 0.9631921740178377, 'diff_cosine_tf_idf': 0.9477137453206429, 'diff_minEdit': 0.934443399707209, 'diff_simple': 0.9478632214142039, 'sing_LoughranMcDonald': 3.9103957019151706e-05, '0': {'type': '10-Q', 'published': datetime.date(2011, 11, 7), 'qtr': (2011, 4)}}\n",
      "[INFO] Comparing current qtr (2012, 1) to qtr (2011, 4) from 1 quarter ago.\n",
      "{'diff_jaccard': 0.23517945409619, 'diff_cosine_tf': 0.7734093319519603, 'diff_cosine_tf_idf': 0.7445485273900172, 'diff_minEdit': 0.7323647056453834, 'diff_simple': 0.7237098400569543, 'sing_LoughranMcDonald': -0.00043723290628512276, '0': {'type': '10-Q', 'published': datetime.date(2010, 5, 17), 'qtr': (2010, 2)}}\n",
      "[INFO] Comparing current qtr (2010, 3) to qtr (2010, 2) from 1 quarter ago.\n",
      "[INFO] No ToC found\n",
      "{'diff_jaccard': 0.014767453070639657, 'diff_cosine_tf': 0.3409887944121792, 'diff_cosine_tf_idf': 0.2520173320267983, 'diff_minEdit': 0.9596049029211564, 'diff_simple': 0.7498051388893787, 'sing_LoughranMcDonald': 0.0, '0': {'type': '10-K', 'published': datetime.date(2012, 3, 15), 'qtr': (2012, 1)}}\n",
      "[INFO] Comparing current qtr (2012, 2) to qtr (2012, 1) from 1 quarter ago.\n",
      "{'diff_jaccard': 0.016645132022109103, 'diff_cosine_tf': 0.36144700588875817, 'diff_cosine_tf_idf': 0.268887825522885, 'diff_minEdit': 0.9597153472742165, 'diff_simple': 0.7505419111448789, 'sing_LoughranMcDonald': -3.896874815352128e-05, '0': {'type': '10-Q', 'published': datetime.date(2012, 5, 2), 'qtr': (2012, 2)}}\n",
      "[INFO] Comparing current qtr (2012, 3) to qtr (2012, 2) from 1 quarter ago.\n",
      "{'diff_jaccard': 0.7739041441409324, 'diff_cosine_tf': 0.9495527217652149, 'diff_cosine_tf_idf': 0.94224186556742, 'diff_minEdit': 1.0, 'diff_simple': 1.0, 'sing_LoughranMcDonald': -0.0006447621930020009, '0': {'type': '10-Q', 'published': datetime.date(2010, 8, 10), 'qtr': (2010, 3)}}\n",
      "[INFO] Comparing current qtr (2010, 4) to qtr (2010, 3) from 1 quarter ago.\n",
      "[INFO] Found a ToC!\n",
      "[INFO] Found a ToC!\n",
      "[INFO] Comparing current qtr (2012, 3) to qtr (2012, 2) from 1 quarter ago.\n",
      "[INFO] No ToC found\n",
      "{'diff_jaccard': 0.830075949271376, 'diff_cosine_tf': 0.9639866363790468, 'diff_cosine_tf_idf': 0.9471174693047992, 'diff_minEdit': 1.0, 'diff_simple': 1.0, 'sing_LoughranMcDonald': -0.00016819601964612963, '0': {'type': '10-Q', 'published': datetime.date(2012, 8, 3), 'qtr': (2012, 3)}}\n",
      "[INFO] Comparing current qtr (2012, 4) to qtr (2012, 3) from 1 quarter ago.\n",
      "{'diff_jaccard': 0.7727945240180986, 'diff_cosine_tf': 0.9706532002701889, 'diff_cosine_tf_idf': 0.9630051060272512, 'diff_minEdit': 0.9918156854865717, 'diff_simple': 0.9908160745536339, 'sing_LoughranMcDonald': -0.0024330283341800736, '0': {'type': '10-Q', 'published': datetime.date(2010, 11, 15), 'qtr': (2010, 4)}}\n"
     ]
    },
    {
     "name": "stderr",
     "output_type": "stream",
     "text": [
      "\n",
      "  1%|▏         | 13/1000 [00:06<06:11,  2.65it/s]\u001b[A\n",
      "\n",
      "13it [00:06,  2.65it/s]\u001b[A\u001b[A"
     ]
    },
    {
     "name": "stdout",
     "output_type": "stream",
     "text": [
      "{'diff_jaccard': 0.8584613896442703, 'diff_cosine_tf': 0.9776927781454697, 'diff_cosine_tf_idf': 0.9634301551185188, 'diff_minEdit': 1.0, 'diff_simple': 1.0, 'sing_LoughranMcDonald': 5.682778320217086e-05, '0': {'type': '10-Q', 'published': datetime.date(2012, 11, 2), 'qtr': (2012, 4)}}\n",
      "[INFO] No ToC found\n",
      "{'diff_jaccard': 0.9005886241431174, 'diff_cosine_tf': 0.9967040018056017, 'diff_cosine_tf_idf': 0.9963132257872046, 'diff_minEdit': 1.0, 'diff_simple': 1.0, 'sing_LoughranMcDonald': -0.000109725385657726, '0': {'type': '10-Q', 'published': datetime.date(2010, 8, 6), 'qtr': (2010, 3)}}\n",
      "[INFO] Comparing current qtr (2010, 4) to qtr (2010, 3) from 1 quarter ago.\n",
      "[INFO] Found a ToC!\n",
      "{'diff_jaccard': 0.9426158908161277, 'diff_cosine_tf': 0.995452252467058, 'diff_cosine_tf_idf': 0.9937148978819779, 'diff_minEdit': 1.0, 'diff_simple': 1.0, 'sing_LoughranMcDonald': -0.00036571964912387046, '0': {'type': '10-Q', 'published': datetime.date(2012, 8, 8), 'qtr': (2012, 3)}}\n",
      "[INFO] Comparing current qtr (2012, 4) to qtr (2012, 3) from 1 quarter ago.\n",
      "[INFO] No ToC found\n",
      "[WARNING] Section 1a was found to be empty.\n",
      "[INFO] No ToC found\n",
      "[WARNING] Section 3 was found to be empty.\n",
      "[WARNING] Section 7 was found to be empty.\n",
      "[WARNING] Section 7a was found to be empty.\n",
      "[WARNING] Section 9a was found to be empty.\n",
      "[INFO] No ToC found\n",
      "[WARNING] Section _i_3 was found to be empty.\n",
      "[INFO] No ToC found\n",
      "[WARNING] Section ii_1a was found to be empty.\n",
      "[INFO] No ToC found\n",
      "[WARNING] Section _i_2 was found to be empty.\n",
      "[INFO] No ToC found\n",
      "[WARNING] Section _i_2 was found to be empty.\n",
      "[WARNING] Section _i_3 was found to be empty.\n",
      "[INFO] Comparing current qtr (2010, 2) to qtr (2010, 1) from 1 quarter ago.\n",
      "{'diff_jaccard': 0.9159288604863836, 'diff_cosine_tf': 0.9982237931304362, 'diff_cosine_tf_idf': 0.9980520100887073, 'diff_minEdit': 1.0, 'diff_simple': 1.0, 'sing_LoughranMcDonald': -0.0001112392315250207, '0': {'type': '10-Q', 'published': datetime.date(2010, 11, 5), 'qtr': (2010, 4)}}\n",
      "[INFO] Comparing current qtr (2011, 1) to qtr (2010, 4) from 1 quarter ago.\n",
      "{'diff_jaccard': 0.9678918543443745, 'diff_cosine_tf': 0.9979084722883192, 'diff_cosine_tf_idf': 0.9962762866622842, 'diff_minEdit': 1.0, 'diff_simple': 1.0, 'sing_LoughranMcDonald': -0.0003661353041612954, '0': {'type': '10-Q', 'published': datetime.date(2012, 11, 2), 'qtr': (2012, 4)}}\n"
     ]
    },
    {
     "name": "stderr",
     "output_type": "stream",
     "text": [
      "\n",
      "  2%|▏         | 15/1000 [00:07<05:29,  2.99it/s]\u001b[A\n",
      "\n",
      "15it [00:07,  2.98it/s]\u001b[A\u001b[A"
     ]
    },
    {
     "name": "stdout",
     "output_type": "stream",
     "text": [
      "{'diff_jaccard': 0.008288806156516325, 'diff_cosine_tf': 0.06535922345460415, 'diff_cosine_tf_idf': 0.03896029027958956, 'diff_minEdit': 0.5844421172251417, 'diff_simple': 0.21523284369537116, 'sing_LoughranMcDonald': -0.0008297217136353489, '0': {'type': '10-Q', 'published': datetime.date(2010, 5, 13), 'qtr': (2010, 2)}}\n",
      "[INFO] Comparing current qtr (2010, 3) to qtr (2010, 2) from 1 quarter ago.\n",
      "{'diff_jaccard': 0.25321323859574263, 'diff_cosine_tf': 0.31795043687242863, 'diff_cosine_tf_idf': 0.2920879421687883, 'diff_minEdit': 0.6954346729443417, 'diff_simple': 0.4205040746147495, 'sing_LoughranMcDonald': -0.008635487566136368, '0': {'type': '10-Q', 'published': datetime.date(2010, 8, 16), 'qtr': (2010, 3)}}\n",
      "[INFO] Comparing current qtr (2010, 4) to qtr (2010, 3) from 1 quarter ago.\n",
      "{'diff_jaccard': 0.6593857659898352, 'diff_cosine_tf': 0.7971748063943194, 'diff_cosine_tf_idf': 0.7537184824568111, 'diff_minEdit': 0.9051416297489596, 'diff_simple': 0.7671952131637996, 'sing_LoughranMcDonald': -0.010494002218751988, '0': {'type': '10-Q', 'published': datetime.date(2010, 11, 3), 'qtr': (2010, 4)}}\n",
      "[INFO] No ToC found\n",
      "{'diff_jaccard': 0.7068157651230558, 'diff_cosine_tf': 0.9884875547654789, 'diff_cosine_tf_idf': 0.9873269655950045, 'diff_minEdit': 0.9629954657766393, 'diff_simple': 0.9862385221407226, 'sing_LoughranMcDonald': -0.0001545374114425234, '0': {'type': '10-K', 'published': datetime.date(2011, 2, 25), 'qtr': (2011, 1)}}\n",
      "[INFO] Found a ToC!\n",
      "[INFO] Comparing current qtr (2011, 2) to qtr (2011, 1) from 1 quarter ago.\n",
      "[INFO] No ToC found\n",
      "[INFO] No ToC found\n",
      "[INFO] No ToC found\n",
      "[INFO] No ToC found\n",
      "[INFO] Found a ToC!\n",
      "{'diff_jaccard': 0.7319909332516568, 'diff_cosine_tf': 0.9773403131669759, 'diff_cosine_tf_idf': 0.974912779120439, 'diff_minEdit': 0.9279556755153432, 'diff_simple': 0.9724044073222838, 'sing_LoughranMcDonald': -0.0004696877888746722, '0': {'type': '10-Q', 'published': datetime.date(2011, 5, 10), 'qtr': (2011, 2)}}\n"
     ]
    },
    {
     "name": "stderr",
     "output_type": "stream",
     "text": [
      "\n"
     ]
    },
    {
     "name": "stdout",
     "output_type": "stream",
     "text": [
      "[INFO] Found a ToC!\n"
     ]
    },
    {
     "name": "stderr",
     "output_type": "stream",
     "text": [
      "  2%|▏         | 17/1000 [00:07<05:21,  3.05it/s]\u001b[A\n",
      "\n",
      "17it [00:07,  3.05it/s]\u001b[A\u001b[A"
     ]
    },
    {
     "name": "stdout",
     "output_type": "stream",
     "text": [
      "[INFO] Found a ToC!\n",
      "[INFO] Found a ToC!\n",
      "[INFO] No ToC found\n",
      "[INFO] No ToC found\n",
      "[INFO] Found a ToC!\n",
      "[WARNING] Section 1a was found to be empty.\n",
      "[WARNING] Section 3 was found to be empty.\n",
      "[WARNING] Section 7 was found to be empty.\n",
      "[WARNING] Section 7a was found to be empty.\n",
      "[INFO] No ToC found\n",
      "[WARNING] Section 9a was found to be empty.\n",
      "[INFO] Found a ToC!\n",
      "[INFO] Found a ToC!\n",
      "[INFO] No ToC found\n",
      "[INFO] Found a ToC!\n",
      "This is the res {'_i_1': [(180315, 180349)], '_i_2': [], '_i_3': [(268887, 268924)], '_i_4': [(269201, 269234)], 'ii_1': [(271279, 271309)], 'ii_1a': [(271529, 271559)], 'ii_6': [(271776, 271809)]}\n",
      "[WARNING] Section _i_2 was found to be empty.\n",
      "[WARNING] Section _i_3 was found to be empty.\n",
      "[WARNING] Section _i_4 was found to be empty.\n",
      "[INFO] Found a ToC!\n",
      "[WARNING] Section ii_1 was found to be empty.\n",
      "[WARNING] /home/alex/Desktop/filtered_text_data/nd_data/2010/QTR2/20100507_10-Q_edgar_data_49196_0000950123-10-046488_1.txt failed parsing\n"
     ]
    },
    {
     "name": "stderr",
     "output_type": "stream",
     "text": [
      "\n",
      "  2%|▏         | 18/1000 [00:08<05:22,  3.04it/s]\u001b[A\n",
      "\n",
      "18it [00:08,  3.05it/s]\u001b[A\u001b[A"
     ]
    },
    {
     "name": "stdout",
     "output_type": "stream",
     "text": [
      "[WARNING] Section ii_1 was found to be empty.\n",
      "[WARNING] Section ii_1a was found to be empty.\n",
      "[INFO] No ToC found\n",
      "[INFO] Found a ToC!\n",
      "[WARNING] Section _i_2 was found to be empty.\n",
      "[WARNING] Section _i_3 was found to be empty.\n",
      "[WARNING] Section _i_4 was found to be empty.\n",
      "[WARNING] Section ii_1 was found to be empty.\n",
      "[WARNING] Section ii_1a was found to be empty.\n",
      "[INFO] Found a ToC!\n",
      "[INFO] Found a ToC!\n",
      "[WARNING] Section ii_1 was found to be empty.\n",
      "[INFO] Found a ToC!\n",
      "[WARNING] Section _i_2 was found to be empty.\n",
      "[WARNING] Section _i_3 was found to be empty.\n",
      "[WARNING] Section _i_4 was found to be empty.\n",
      "[WARNING] Section ii_1 was found to be empty.\n",
      "[INFO] No ToC found\n",
      "[WARNING] Section ii_1a was found to be empty.\n",
      "[INFO] Found a ToC!\n",
      "[INFO] Found a ToC!\n",
      "[INFO] Found a ToC!\n",
      "[WARNING] Section ii_1 was found to be empty.\n",
      "[INFO] Found a ToC!\n",
      "[INFO] No ToC found\n",
      "[WARNING] Section ii_1a was found to be empty.\n",
      "[INFO] No ToC found\n",
      "[WARNING] Section ii_1a was found to be empty.\n",
      "[INFO] No ToC found\n",
      "[WARNING] Section ii_1a was found to be empty.\n",
      "[INFO] Found a ToC!\n",
      "[INFO] Comparing current qtr (2010, 2) to qtr (2010, 1) from 1 quarter ago.\n",
      "[INFO] Found a ToC!\n",
      "[INFO] No ToC found\n",
      "[INFO] No ToC found\n",
      "[WARNING] Section ii_1a was found to be empty.\n",
      "{'diff_jaccard': 0.020793024098900204, 'diff_cosine_tf': 0.3720756289996961, 'diff_cosine_tf_idf': 0.32053879098052995, 'diff_minEdit': 0.6943824233670123, 'diff_simple': 0.6020676382482334, 'sing_LoughranMcDonald': -0.0001546644065347483, '0': {'type': '10-Q', 'published': datetime.date(2010, 5, 4), 'qtr': (2010, 2)}}\n",
      "[INFO] Comparing current qtr (2010, 3) to qtr (2010, 2) from 1 quarter ago.\n",
      "[INFO] No ToC found\n",
      "[INFO] No ToC found\n",
      "[WARNING] Section ii_1a was found to be empty.\n",
      "[INFO] No ToC found\n",
      "[WARNING] Section ii_1a was found to be empty.\n",
      "[INFO] Comparing current qtr (2010, 2) to qtr (2010, 1) from 1 quarter ago.\n",
      "[INFO] Found a ToC!\n",
      "{'diff_jaccard': 1.0, 'diff_cosine_tf': 0.9999999999999999, 'diff_cosine_tf_idf': 0.9999999999999999, 'diff_minEdit': 1.0, 'diff_simple': 1.0, 'sing_LoughranMcDonald': 0.0, '0': {'type': '10-Q', 'published': datetime.date(2010, 5, 17), 'qtr': (2010, 2)}}\n",
      "[INFO] Comparing current qtr (2010, 3) to qtr (2010, 2) from 1 quarter ago.\n",
      "{'diff_jaccard': 1.0, 'diff_cosine_tf': 0.9999999999999999, 'diff_cosine_tf_idf': 0.9999999999999999, 'diff_minEdit': 1.0, 'diff_simple': 1.0, 'sing_LoughranMcDonald': 0.0, '0': {'type': '10-Q', 'published': datetime.date(2010, 8, 16), 'qtr': (2010, 3)}}\n",
      "[INFO] Comparing current qtr (2010, 4) to qtr (2010, 3) from 1 quarter ago.\n",
      "{'diff_jaccard': 0.6774543330658476, 'diff_cosine_tf': 0.9771730222257657, 'diff_cosine_tf_idf': 0.9728239573580431, 'diff_minEdit': 0.9364668297667936, 'diff_simple': 0.9834774820232646, 'sing_LoughranMcDonald': -0.0005748987066827593, '0': {'type': '10-Q', 'published': datetime.date(2010, 8, 3), 'qtr': (2010, 3)}}\n",
      "[INFO] Comparing current qtr (2010, 4) to qtr (2010, 3) from 1 quarter ago.\n",
      "{'diff_jaccard': 1.0, 'diff_cosine_tf': 0.9999999999999999, 'diff_cosine_tf_idf': 0.9999999999999999, 'diff_minEdit': 1.0, 'diff_simple': 1.0, 'sing_LoughranMcDonald': 0.0, '0': {'type': '10-Q', 'published': datetime.date(2010, 11, 15), 'qtr': (2010, 4)}}\n",
      "[INFO] Comparing current qtr (2011, 1) to qtr (2010, 4) from 1 quarter ago.\n",
      "[INFO] No ToC found\n",
      "{'diff_jaccard': 0.004327208317704897, 'diff_cosine_tf': 0.06513140180190513, 'diff_cosine_tf_idf': 0.03693332220602125, 'diff_minEdit': 0.5954676361149828, 'diff_simple': 0.20092888917165783, 'sing_LoughranMcDonald': -0.0006032212097995923, '0': {'type': '10-K', 'published': datetime.date(2011, 3, 31), 'qtr': (2011, 1)}}\n",
      "[INFO] Comparing current qtr (2010, 2) to qtr (2010, 1) from 1 quarter ago.\n",
      "[INFO] Comparing current qtr (2011, 2) to qtr (2011, 1) from 1 quarter ago.\n",
      "{'diff_jaccard': 0.018059989020593976, 'diff_cosine_tf': 0.4216970280407094, 'diff_cosine_tf_idf': 0.32496117870435065, 'diff_minEdit': 0.8746141663621034, 'diff_simple': 0.7275453930615453, 'sing_LoughranMcDonald': 0.0, '0': {'type': '10-Q', 'published': datetime.date(2011, 5, 16), 'qtr': (2011, 2)}}\n",
      "[INFO] Comparing current qtr (2011, 3) to qtr (2011, 2) from 1 quarter ago.\n",
      "{'diff_jaccard': 0.7118282722363796, 'diff_cosine_tf': 0.989967159537529, 'diff_cosine_tf_idf': 0.9827686529111012, 'diff_minEdit': 1.0, 'diff_simple': 1.0, 'sing_LoughranMcDonald': -0.0005713423824487837, '0': {'type': '10-Q', 'published': datetime.date(2010, 11, 9), 'qtr': (2010, 4)}}\n",
      "[INFO] Comparing current qtr (2011, 1) to qtr (2010, 4) from 1 quarter ago.\n",
      "{'diff_jaccard': 0.7928550207961973, 'diff_cosine_tf': 0.8955954192380707, 'diff_cosine_tf_idf': 0.8291360427593231, 'diff_minEdit': 0.9390756302521008, 'diff_simple': 0.9793599302466084, 'sing_LoughranMcDonald': 0.0, '0': {'type': '10-Q', 'published': datetime.date(2011, 8, 15), 'qtr': (2011, 3)}}\n",
      "[INFO] No ToC found\n",
      "[INFO] Comparing current qtr (2011, 4) to qtr (2011, 3) from 1 quarter ago.\n",
      "{'diff_jaccard': 0.9084967320261439, 'diff_cosine_tf': 0.9369747899159662, 'diff_cosine_tf_idf': 0.9026691750136624, 'diff_minEdit': 0.9684873949579832, 'diff_simple': 0.9905695611577964, 'sing_LoughranMcDonald': 0.0, '0': {'type': '10-Q', 'published': datetime.date(2011, 11, 14), 'qtr': (2011, 4)}}\n",
      "{'diff_jaccard': 0.4209660164340713, 'diff_cosine_tf': 0.9341015201003188, 'diff_cosine_tf_idf': 0.9175029508554644, 'diff_minEdit': 0.7640948197497753, 'diff_simple': 0.6932824868073877, 'sing_LoughranMcDonald': -0.0015693721788335524, '0': {'type': '10-Q', 'published': datetime.date(2010, 5, 10), 'qtr': (2010, 2)}}\n",
      "[INFO] Comparing current qtr (2012, 1) to qtr (2011, 4) from 1 quarter ago.\n",
      "[INFO] Comparing current qtr (2010, 3) to qtr (2010, 2) from 1 quarter ago.\n",
      "{'diff_jaccard': 0.4967765894236483, 'diff_cosine_tf': 0.6141059144332227, 'diff_cosine_tf_idf': 0.5337319287961428, 'diff_minEdit': 0.8808823529411766, 'diff_simple': 0.7129330223900882, 'sing_LoughranMcDonald': 0.0, '0': {'type': '10-K', 'published': datetime.date(2012, 3, 26), 'qtr': (2012, 1)}}\n",
      "[INFO] Comparing current qtr (2012, 2) to qtr (2012, 1) from 1 quarter ago.\n",
      "[INFO] No ToC found\n",
      "{'diff_jaccard': 0.4967765894236483, 'diff_cosine_tf': 0.6256677202259155, 'diff_cosine_tf_idf': 0.5548325731915134, 'diff_minEdit': 0.8661764705882353, 'diff_simple': 0.7205887820965944, 'sing_LoughranMcDonald': 0.0, '0': {'type': '10-Q', 'published': datetime.date(2012, 5, 15), 'qtr': (2012, 2)}}\n",
      "[INFO] Comparing current qtr (2012, 3) to qtr (2012, 2) from 1 quarter ago.\n",
      "{'diff_jaccard': 0.03956117940536018, 'diff_cosine_tf': 0.5546191562145415, 'diff_cosine_tf_idf': 0.47892095620677677, 'diff_minEdit': 0.848349532272353, 'diff_simple': 0.6322888901491522, 'sing_LoughranMcDonald': -0.000969123049185274, '0': {'type': '10-K', 'published': datetime.date(2011, 2, 24), 'qtr': (2011, 1)}}\n",
      "[INFO] Comparing current qtr (2011, 2) to qtr (2011, 1) from 1 quarter ago.\n",
      "{'diff_jaccard': 1.0, 'diff_cosine_tf': 0.9999999999999999, 'diff_cosine_tf_idf': 0.9999999999999999, 'diff_minEdit': 1.0, 'diff_simple': 1.0, 'sing_LoughranMcDonald': 0.0, '0': {'type': '10-Q', 'published': datetime.date(2012, 8, 14), 'qtr': (2012, 3)}}\n",
      "[INFO] No ToC found\n",
      "[INFO] Comparing current qtr (2012, 4) to qtr (2012, 3) from 1 quarter ago.\n",
      "{'diff_jaccard': 0.7928550207961973, 'diff_cosine_tf': 0.9378618087231845, 'diff_cosine_tf_idf': 0.9024308567343072, 'diff_minEdit': 0.9390756302521008, 'diff_simple': 0.9767215460992202, 'sing_LoughranMcDonald': 0.0, '0': {'type': '10-Q', 'published': datetime.date(2012, 11, 14), 'qtr': (2012, 4)}}\n"
     ]
    },
    {
     "name": "stderr",
     "output_type": "stream",
     "text": [
      "\n",
      "  2%|▏         | 19/1000 [00:09<12:45,  1.28it/s]\u001b[A\n",
      "\n"
     ]
    },
    {
     "name": "stdout",
     "output_type": "stream",
     "text": [
      "{'diff_jaccard': 0.8546979293983199, 'diff_cosine_tf': 0.9758017064028953, 'diff_cosine_tf_idf': 0.9738823649537018, 'diff_minEdit': 0.9911024607257055, 'diff_simple': 0.9865518108678603, 'sing_LoughranMcDonald': -0.0007071341118999433, '0': {'type': '10-Q', 'published': datetime.date(2010, 8, 10), 'qtr': (2010, 3)}}\n"
     ]
    },
    {
     "name": "stderr",
     "output_type": "stream",
     "text": [
      "19it [00:09,  1.28it/s]\u001b[A\u001b[A"
     ]
    },
    {
     "name": "stdout",
     "output_type": "stream",
     "text": [
      "[INFO] No ToC found\n",
      "[INFO] Comparing current qtr (2010, 4) to qtr (2010, 3) from 1 quarter ago.\n",
      "{'diff_jaccard': 0.024641689910655483, 'diff_cosine_tf': 0.4679878275849931, 'diff_cosine_tf_idf': 0.38458726966513257, 'diff_minEdit': 0.7325867068574441, 'diff_simple': 0.6528857878336269, 'sing_LoughranMcDonald': -0.0006304478206358888, '0': {'type': '10-Q', 'published': datetime.date(2011, 5, 9), 'qtr': (2011, 2)}}\n",
      "[INFO] Comparing current qtr (2011, 3) to qtr (2011, 2) from 1 quarter ago.\n",
      "{'diff_jaccard': 0.0090022631103305, 'diff_cosine_tf': 0.4184283735497204, 'diff_cosine_tf_idf': 0.3267375888703006, 'diff_minEdit': 0.9591606236792216, 'diff_simple': 0.8036130931275353, 'sing_LoughranMcDonald': 0.0, '0': {'type': '10-Q', 'published': datetime.date(2010, 11, 9), 'qtr': (2010, 4)}}\n",
      "[INFO] Comparing current qtr (2011, 1) to qtr (2010, 4) from 1 quarter ago.\n",
      "[INFO] No ToC found\n",
      "[INFO] Found a ToC!\n",
      "[INFO] Found a ToC!\n",
      "[INFO] No ToC found\n",
      "[INFO] Comparing current qtr (2010, 2) to qtr (2010, 1) from 1 quarter ago.\n",
      "{'diff_jaccard': 0.7326448047865067, 'diff_cosine_tf': 0.9851481834701358, 'diff_cosine_tf_idf': 0.9829105405059909, 'diff_minEdit': 0.9976902840326393, 'diff_simple': 0.9986141704195836, 'sing_LoughranMcDonald': -0.00046675215350763756, '0': {'type': '10-Q', 'published': datetime.date(2011, 8, 9), 'qtr': (2011, 3)}}\n",
      "[INFO] Comparing current qtr (2011, 4) to qtr (2011, 3) from 1 quarter ago.\n",
      "{'diff_jaccard': 0.10655371776699496, 'diff_cosine_tf': 0.3205032169320547, 'diff_cosine_tf_idf': 0.236391315801481, 'diff_minEdit': 0.8924179841428098, 'diff_simple': 0.5175281032908151, 'sing_LoughranMcDonald': 0.0, '0': {'type': '10-Q', 'published': datetime.date(2010, 5, 7), 'qtr': (2010, 2)}}\n",
      "[INFO] Found a ToC!\n",
      "[INFO] Comparing current qtr (2010, 3) to qtr (2010, 2) from 1 quarter ago.\n",
      "[WARNING] Section ii_1 was found to be empty.\n",
      "[WARNING] Section ii_1a was found to be empty.\n",
      "{'diff_jaccard': 0.7558823529411764, 'diff_cosine_tf': 0.8529411764705881, 'diff_cosine_tf_idf': 0.7651478411571525, 'diff_minEdit': 0.8802521008403362, 'diff_simple': 0.969484479838447, 'sing_LoughranMcDonald': 0.0, '0': {'type': '10-Q', 'published': datetime.date(2010, 8, 6), 'qtr': (2010, 3)}}\n",
      "[INFO] Found a ToC!\n",
      "[WARNING] Section _i_2 was found to be empty.\n",
      "[WARNING] Section _i_3 was found to be empty.\n",
      "[WARNING] Section _i_4 was found to be empty.\n",
      "[INFO] Comparing current qtr (2010, 4) to qtr (2010, 3) from 1 quarter ago.\n",
      "[WARNING] Section ii_1 was found to be empty.\n",
      "{'diff_jaccard': 0.7558823529411764, 'diff_cosine_tf': 0.8529411764705881, 'diff_cosine_tf_idf': 0.7651478411571525, 'diff_minEdit': 0.9243697478991596, 'diff_simple': 0.9753668327796234, 'sing_LoughranMcDonald': 0.0, '0': {'type': '10-Q', 'published': datetime.date(2010, 11, 5), 'qtr': (2010, 4)}}\n",
      "[WARNING] Section ii_1a was found to be empty.\n",
      "[INFO] Comparing current qtr (2011, 1) to qtr (2010, 4) from 1 quarter ago.\n",
      "{'diff_jaccard': 0.003567728489922968, 'diff_cosine_tf': 0.24965652774381858, 'diff_cosine_tf_idf': 0.19032383958557988, 'diff_minEdit': 0.8753854621047996, 'diff_simple': 0.5492634824822386, 'sing_LoughranMcDonald': -0.0005713557996139089, '0': {'type': '10-K', 'published': datetime.date(2011, 2, 28), 'qtr': (2011, 1)}}\n",
      "[INFO] Comparing current qtr (2011, 2) to qtr (2011, 1) from 1 quarter ago.\n",
      "{'diff_jaccard': 0.10958815918057467, 'diff_cosine_tf': 0.32354723929149404, 'diff_cosine_tf_idf': 0.23844249835681341, 'diff_minEdit': 0.8876533554645886, 'diff_simple': 0.5214415311847833, 'sing_LoughranMcDonald': -0.0254232623081767, '0': {'type': '10-K', 'published': datetime.date(2011, 2, 25), 'qtr': (2011, 1)}}\n",
      "[INFO] No ToC found\n",
      "[INFO] Comparing current qtr (2011, 2) to qtr (2011, 1) from 1 quarter ago.\n",
      "[WARNING] Section ii_1 was found to be empty.\n",
      "[WARNING] Section ii_1a was found to be empty.\n",
      "{'diff_jaccard': 0.8087303248916945, 'diff_cosine_tf': 0.9893763048572543, 'diff_cosine_tf_idf': 0.9872559200891612, 'diff_minEdit': 0.9984759095378565, 'diff_simple': 0.9956106194690265, 'sing_LoughranMcDonald': -4.894717619140553e-05, '0': {'type': '10-Q', 'published': datetime.date(2011, 11, 3), 'qtr': (2011, 4)}}\n",
      "[INFO] Comparing current qtr (2012, 1) to qtr (2011, 4) from 1 quarter ago.\n",
      "{'diff_jaccard': 0.11476414261742768, 'diff_cosine_tf': 0.356403293596704, 'diff_cosine_tf_idf': 0.26411038624533817, 'diff_minEdit': 0.8843969150438087, 'diff_simple': 0.5298143375167733, 'sing_LoughranMcDonald': 0.0, '0': {'type': '10-Q', 'published': datetime.date(2011, 5, 6), 'qtr': (2011, 2)}}\n",
      "[INFO] Comparing current qtr (2011, 3) to qtr (2011, 2) from 1 quarter ago.\n",
      "{'diff_jaccard': 0.7558823529411764, 'diff_cosine_tf': 0.8529411764705881, 'diff_cosine_tf_idf': 0.7651478411571525, 'diff_minEdit': 0.9243697478991596, 'diff_simple': 0.9507336655592469, 'sing_LoughranMcDonald': 0.0, '0': {'type': '10-Q', 'published': datetime.date(2011, 8, 5), 'qtr': (2011, 3)}}\n",
      "[INFO] Comparing current qtr (2011, 4) to qtr (2011, 3) from 1 quarter ago.\n",
      "[INFO] Found a ToC!\n",
      "{'diff_jaccard': 0.7558823529411764, 'diff_cosine_tf': 0.8529411764705881, 'diff_cosine_tf_idf': 0.7651478411571525, 'diff_minEdit': 0.9243697478991596, 'diff_simple': 0.9753668327796234, 'sing_LoughranMcDonald': 0.0, '0': {'type': '10-Q', 'published': datetime.date(2011, 11, 4), 'qtr': (2011, 4)}}\n",
      "[INFO] Comparing current qtr (2012, 1) to qtr (2011, 4) from 1 quarter ago.\n",
      "[INFO] Found a ToC!\n",
      "[WARNING] Section ii_1 was found to be empty.\n",
      "[WARNING] Section ii_1a was found to be empty.\n",
      "{'diff_jaccard': 0.44258587383079745, 'diff_cosine_tf': 0.8243574004945259, 'diff_cosine_tf_idf': 0.8031306671979082, 'diff_minEdit': 0.7678895556226234, 'diff_simple': 0.697371505861136, 'sing_LoughranMcDonald': -0.0011698977067033157, '0': {'type': '10-Q', 'published': datetime.date(2011, 5, 6), 'qtr': (2011, 2)}}\n",
      "{'diff_jaccard': 0.10833884158079732, 'diff_cosine_tf': 0.31010388630085245, 'diff_cosine_tf_idf': 0.22692800668448887, 'diff_minEdit': 0.8934101538569966, 'diff_simple': 0.5072661400928213, 'sing_LoughranMcDonald': -0.024368493245343008, '0': {'type': '10-K', 'published': datetime.date(2012, 2, 22), 'qtr': (2012, 1)}}\n",
      "{'diff_jaccard': 0.040319137350235554, 'diff_cosine_tf': 0.6052766560141303, 'diff_cosine_tf_idf': 0.5369173968522934, 'diff_minEdit': 0.8870913826121933, 'diff_simple': 0.6147338682873558, 'sing_LoughranMcDonald': -0.0008457107655509406, '0': {'type': '10-K', 'published': datetime.date(2012, 2, 28), 'qtr': (2012, 1)}}\n",
      "[INFO] Comparing current qtr (2011, 3) to qtr (2011, 2) from 1 quarter ago.\n",
      "[INFO] Comparing current qtr (2012, 2) to qtr (2012, 1) from 1 quarter ago.\n",
      "[INFO] Comparing current qtr (2012, 2) to qtr (2012, 1) from 1 quarter ago.\n",
      "{'diff_jaccard': 0.10833884158079732, 'diff_cosine_tf': 0.31010388630085245, 'diff_cosine_tf_idf': 0.22692800668448887, 'diff_minEdit': 0.8934101538569966, 'diff_simple': 0.5072661400928213, 'sing_LoughranMcDonald': 0.0, '0': {'type': '10-Q', 'published': datetime.date(2012, 5, 4), 'qtr': (2012, 2)}}\n",
      "[INFO] Comparing current qtr (2012, 3) to qtr (2012, 2) from 1 quarter ago.\n",
      "[INFO] No ToC found\n",
      "This is the res {'_i_1': [(5550, 5575)], '_i_2': [(50177, 50198)], '_i_3': [(95772, 95795)], '_i_4': [(98295, 98314)], 'ii_1': [(103386, 103402)], 'ii_1a': [(103633, 103649)], 'ii_2': [], 'ii_3': [(5315, 5335)], 'ii_6': [(5461, 5481), (108852, 108871)]}\n",
      "[WARNING] /home/alex/Desktop/filtered_text_data/nd_data/2010/QTR4/20101105_10-Q_edgar_data_1441849_0001104659-10-056176_1.txt failed parsing\n",
      "{'diff_jaccard': 0.7558823529411764, 'diff_cosine_tf': 0.8529411764705881, 'diff_cosine_tf_idf': 0.7651478411571525, 'diff_minEdit': 0.9243697478991596, 'diff_simple': 0.9710776170933489, 'sing_LoughranMcDonald': 0.0, '0': {'type': '10-Q', 'published': datetime.date(2012, 8, 3), 'qtr': (2012, 3)}}\n"
     ]
    },
    {
     "name": "stderr",
     "output_type": "stream",
     "text": [
      "\n",
      "  2%|▏         | 20/1000 [00:10<13:29,  1.21it/s]\u001b[A\n",
      "\n"
     ]
    },
    {
     "name": "stdout",
     "output_type": "stream",
     "text": [
      "[INFO] Comparing current qtr (2012, 4) to qtr (2012, 3) from 1 quarter ago.\n"
     ]
    },
    {
     "name": "stderr",
     "output_type": "stream",
     "text": [
      "20it [00:10,  1.21it/s]\u001b[A\u001b[A"
     ]
    },
    {
     "name": "stdout",
     "output_type": "stream",
     "text": [
      "{'diff_jaccard': 0.7558823529411764, 'diff_cosine_tf': 0.8529411764705881, 'diff_cosine_tf_idf': 0.7651478411571525, 'diff_minEdit': 0.9243697478991596, 'diff_simple': 0.9753668327796234, 'sing_LoughranMcDonald': 0.0, '0': {'type': '10-Q', 'published': datetime.date(2012, 11, 2), 'qtr': (2012, 4)}}\n",
      "{'diff_jaccard': 0.710358336283055, 'diff_cosine_tf': 0.990567903918644, 'diff_cosine_tf_idf': 0.9889696673569197, 'diff_minEdit': 0.999214600377596, 'diff_simple': 0.99935859030837, 'sing_LoughranMcDonald': -0.0010916125233762688, '0': {'type': '10-Q', 'published': datetime.date(2011, 8, 11), 'qtr': (2011, 3)}}\n",
      "[INFO] Comparing current qtr (2011, 4) to qtr (2011, 3) from 1 quarter ago.\n",
      "[INFO] No ToC found\n",
      "{'diff_jaccard': 0.008144157303805431, 'diff_cosine_tf': 0.4344126754889045, 'diff_cosine_tf_idf': 0.34020038246984313, 'diff_minEdit': 0.9602239781523094, 'diff_simple': 0.8146398508024912, 'sing_LoughranMcDonald': 0.0, '0': {'type': '10-Q', 'published': datetime.date(2011, 11, 10), 'qtr': (2011, 4)}}\n",
      "[INFO] Comparing current qtr (2012, 1) to qtr (2011, 4) from 1 quarter ago.\n",
      "{'diff_jaccard': 0.018675776817088246, 'diff_cosine_tf': 0.46776562298394214, 'diff_cosine_tf_idf': 0.38595340411027046, 'diff_minEdit': 0.7460540718044908, 'diff_simple': 0.6883513719854493, 'sing_LoughranMcDonald': -0.0003336508675749383, '0': {'type': '10-Q', 'published': datetime.date(2012, 5, 4), 'qtr': (2012, 2)}}\n",
      "[INFO] Comparing current qtr (2012, 3) to qtr (2012, 2) from 1 quarter ago.\n",
      "[INFO] Found a ToC!\n",
      "[INFO] Found a ToC!\n",
      "[INFO] No ToC found\n",
      "[WARNING] Section 9a was found to be empty.\n",
      "{'diff_jaccard': 0.0034771161229277697, 'diff_cosine_tf': 0.2569698161952818, 'diff_cosine_tf_idf': 0.1975623638581084, 'diff_minEdit': 0.8752956917974286, 'diff_simple': 0.5540882187196171, 'sing_LoughranMcDonald': -0.000494974158906265, '0': {'type': '10-K', 'published': datetime.date(2012, 3, 23), 'qtr': (2012, 1)}}\n",
      "[INFO] Comparing current qtr (2012, 2) to qtr (2012, 1) from 1 quarter ago.\n",
      "[INFO] No ToC found\n",
      "[WARNING] Section _i_4 was found to be empty.\n",
      "[INFO] Found a ToC!\n",
      "{'diff_jaccard': 0.7772132281918013, 'diff_cosine_tf': 0.9855955316771894, 'diff_cosine_tf_idf': 0.9839490310254778, 'diff_minEdit': 0.9984419978039588, 'diff_simple': 0.9955129536754014, 'sing_LoughranMcDonald': -9.845351948027576e-05, '0': {'type': '10-Q', 'published': datetime.date(2012, 8, 2), 'qtr': (2012, 3)}}\n",
      "[INFO] Comparing current qtr (2012, 4) to qtr (2012, 3) from 1 quarter ago.\n",
      "[INFO] No ToC found\n",
      "{'diff_jaccard': 0.334174944702113, 'diff_cosine_tf': 0.7925124330430073, 'diff_cosine_tf_idf': 0.7672511892549999, 'diff_minEdit': 0.7595103674126747, 'diff_simple': 0.6869748628704471, 'sing_LoughranMcDonald': -0.0017104110341126047, '0': {'type': '10-Q', 'published': datetime.date(2012, 5, 10), 'qtr': (2012, 2)}}\n",
      "[INFO] Comparing current qtr (2012, 3) to qtr (2012, 2) from 1 quarter ago.\n",
      "[INFO] Found a ToC!\n",
      "[INFO] Found a ToC!\n",
      "[WARNING] Section 1a was found to be empty.\n",
      "{'diff_jaccard': 0.011471043613647711, 'diff_cosine_tf': 0.41142684896596177, 'diff_cosine_tf_idf': 0.31760891804889074, 'diff_minEdit': 0.9262020289442098, 'diff_simple': 0.7919865981863855, 'sing_LoughranMcDonald': 0.0, '0': {'type': '10-Q', 'published': datetime.date(2012, 8, 10), 'qtr': (2012, 3)}}\n",
      "[INFO] Comparing current qtr (2012, 4) to qtr (2012, 3) from 1 quarter ago.\n",
      "[INFO] No ToC found\n",
      "[INFO] Found a ToC!\n",
      "[INFO] Found a ToC!\n",
      "[INFO] Comparing current qtr (2010, 2) to qtr (2010, 1) from 1 quarter ago.\n",
      "{'diff_jaccard': 0.005101822272779949, 'diff_cosine_tf': 0.008344255283315553, 'diff_cosine_tf_idf': 0.006841927990313681, 'diff_minEdit': 0.9499653709831473, 'diff_simple': 0.23129326670172187, 'sing_LoughranMcDonald': -0.0003593238728580246, '0': {'type': '10-Q', 'published': datetime.date(2012, 11, 9), 'qtr': (2012, 4)}}\n"
     ]
    },
    {
     "name": "stderr",
     "output_type": "stream",
     "text": [
      "\n",
      "  2%|▏         | 22/1000 [00:11<11:50,  1.38it/s]\u001b[A\n",
      "\n",
      "22it [00:11,  1.38it/s]\u001b[A\u001b[A"
     ]
    },
    {
     "name": "stdout",
     "output_type": "stream",
     "text": [
      "{'diff_jaccard': 0.8071197604987385, 'diff_cosine_tf': 0.9906833884779943, 'diff_cosine_tf_idf': 0.9886998261698328, 'diff_minEdit': 1.0, 'diff_simple': 1.0, 'sing_LoughranMcDonald': -0.0001447403148537185, '0': {'type': '10-Q', 'published': datetime.date(2012, 11, 6), 'qtr': (2012, 4)}}\n",
      "[INFO] Found a ToC!\n",
      "[INFO] Found a ToC!\n",
      "[INFO] Found a ToC!\n",
      "[INFO] Found a ToC!\n",
      "{'diff_jaccard': 0.15294461561556844, 'diff_cosine_tf': 0.7467813466948373, 'diff_cosine_tf_idf': 0.7162636490666479, 'diff_minEdit': 0.7227132183426309, 'diff_simple': 0.42031957252375246, 'sing_LoughranMcDonald': -7.591477691582562e-05, '0': {'type': '10-Q', 'published': datetime.date(2010, 5, 6), 'qtr': (2010, 2)}}\n",
      "[INFO] Comparing current qtr (2010, 3) to qtr (2010, 2) from 1 quarter ago.\n",
      "[INFO] No ToC found\n",
      "[INFO] No ToC found\n",
      "[INFO] Found a ToC!\n",
      "[WARNING] Section _i_2 was found to be empty.\n",
      "[INFO] No ToC found\n",
      "[WARNING] Section ii_1 was found to be empty.\n",
      "[WARNING] Section ii_1a was found to be empty.\n",
      "[INFO] No ToC found\n",
      "[INFO] No ToC found\n",
      "[INFO] Found a ToC!\n",
      "{'diff_jaccard': 0.684979157934687, 'diff_cosine_tf': 0.9737272097428952, 'diff_cosine_tf_idf': 0.9662056273153494, 'diff_minEdit': 0.5159890270322881, 'diff_simple': 0.6108203121644419, 'sing_LoughranMcDonald': -5.2728650903855955e-05, '0': {'type': '10-Q', 'published': datetime.date(2010, 8, 6), 'qtr': (2010, 3)}}\n",
      "[INFO] Comparing current qtr (2010, 4) to qtr (2010, 3) from 1 quarter ago.\n",
      "[INFO] Found a ToC!\n",
      "[INFO] No ToC found\n",
      "[WARNING] Section ii_1 was found to be empty.\n",
      "[WARNING] Section ii_1a was found to be empty.\n",
      "[INFO] Found a ToC!\n",
      "[WARNING] Section _i_2 was found to be empty.\n",
      "{'diff_jaccard': 0.7763092255416367, 'diff_cosine_tf': 0.9838046705340614, 'diff_cosine_tf_idf': 0.9749247503774627, 'diff_minEdit': 0.6671800198178194, 'diff_simple': 0.5907844852224259, 'sing_LoughranMcDonald': -3.698317948040899e-05, '0': {'type': '10-Q', 'published': datetime.date(2010, 11, 8), 'qtr': (2010, 4)}}\n",
      "[INFO] Comparing current qtr (2011, 1) to qtr (2010, 4) from 1 quarter ago.\n",
      "[INFO] Found a ToC!\n",
      "[INFO] Found a ToC!\n",
      "[INFO] Comparing current qtr (2011, 4) to qtr (2011, 3) from 1 quarter ago.\n",
      "[WARNING] Section ii_1 was found to be empty.\n",
      "[WARNING] Section ii_1a was found to be empty.\n",
      "[INFO] No ToC found\n",
      "[INFO] Comparing current qtr (2010, 2) to qtr (2010, 1) from 1 quarter ago.\n",
      "[INFO] Found a ToC!\n",
      "[INFO] No ToC found\n",
      "{'diff_jaccard': 0.5650718802857774, 'diff_cosine_tf': 0.9594381213912873, 'diff_cosine_tf_idf': 0.95293997438164, 'diff_minEdit': 0.9891297695908938, 'diff_simple': 0.9779644900706833, 'sing_LoughranMcDonald': -0.0010764972914606423, '0': {'type': '10-Q', 'published': datetime.date(2011, 11, 14), 'qtr': (2011, 4)}}\n",
      "[INFO] Comparing current qtr (2012, 1) to qtr (2011, 4) from 1 quarter ago.\n",
      "[INFO] Found a ToC!\n",
      "[INFO] No ToC found\n",
      "{'diff_jaccard': 0.28998287006262363, 'diff_cosine_tf': 0.9021116818994437, 'diff_cosine_tf_idf': 0.8901849675226916, 'diff_minEdit': 0.831586014969344, 'diff_simple': 0.8191522588191834, 'sing_LoughranMcDonald': -0.0008155536774299935, '0': {'type': '10-Q', 'published': datetime.date(2010, 4, 30), 'qtr': (2010, 2)}}\n",
      "[INFO] Found a ToC!\n",
      "[INFO] Comparing current qtr (2010, 3) to qtr (2010, 2) from 1 quarter ago.\n",
      "[ERROR] Here is full_sect: |[]|\n",
      "[INFO] Comparing current qtr (2011, 1) to qtr (2010, 4) from 1 quarter ago.\n",
      "[ERROR] Original res: {'1': [], '1a': [], '1b': [], '2': [], '3': [], '4': [], '5': [], '6': [], '7': [], '7a': [], '8': [], '9': [], '9a': [], '9b': [], '10': [], '11': [], '12': [], '13': [], '14': [], '15': []}\n",
      "[INFO] No ToC found\n",
      "[INFO] Comparing current qtr (2010, 2) to qtr (2010, 1) from 1 quarter ago.\n",
      "[WARNING] /home/alex/Desktop/filtered_text_data/nd_data/2010/QTR1/20100303_10-K_edgar_data_892986_0001047469-10-001756_1.txt failed parsing\n"
     ]
    },
    {
     "name": "stderr",
     "output_type": "stream",
     "text": [
      "\n",
      "  2%|▏         | 24/1000 [00:12<11:04,  1.47it/s]\u001b[A\n",
      "\n",
      "24it [00:12,  1.47it/s]\u001b[A\u001b[A"
     ]
    },
    {
     "name": "stdout",
     "output_type": "stream",
     "text": [
      "[INFO] No ToC found\n",
      "{'diff_jaccard': 0.13874321380422622, 'diff_cosine_tf': 0.6881714401554185, 'diff_cosine_tf_idf': 0.6457628674026953, 'diff_minEdit': 0.5132410939927678, 'diff_simple': 0.5161409244016367, 'sing_LoughranMcDonald': -0.0005970788714216193, '0': {'type': '10-K', 'published': datetime.date(2011, 3, 3), 'qtr': (2011, 1)}}\n",
      "[INFO] Comparing current qtr (2011, 2) to qtr (2011, 1) from 1 quarter ago.\n",
      "{'diff_jaccard': 0.31239073511326115, 'diff_cosine_tf': 0.7618124392365414, 'diff_cosine_tf_idf': 0.704058408683431, 'diff_minEdit': 0.7778265039724671, 'diff_simple': 0.8034275031159119, 'sing_LoughranMcDonald': -0.0025932700538114292, '0': {'type': '10-Q', 'published': datetime.date(2010, 5, 17), 'qtr': (2010, 2)}}\n",
      "[INFO] Comparing current qtr (2010, 3) to qtr (2010, 2) from 1 quarter ago.\n",
      "{'diff_jaccard': 0.5744900771817613, 'diff_cosine_tf': 0.8873209599696766, 'diff_cosine_tf_idf': 0.855541397393472, 'diff_minEdit': 0.9736754829616119, 'diff_simple': 0.9457617564488237, 'sing_LoughranMcDonald': -0.002132154230085959, '0': {'type': '10-Q', 'published': datetime.date(2010, 8, 16), 'qtr': (2010, 3)}}\n",
      "[INFO] Comparing current qtr (2010, 4) to qtr (2010, 3) from 1 quarter ago.\n",
      "{'diff_jaccard': 0.7310563793970319, 'diff_cosine_tf': 0.9365053676291505, 'diff_cosine_tf_idf': 0.9141630020905861, 'diff_minEdit': 1.0, 'diff_simple': 1.0, 'sing_LoughranMcDonald': -0.0005133718065923828, '0': {'type': '10-Q', 'published': datetime.date(2010, 7, 26), 'qtr': (2010, 3)}}\n",
      "[INFO] Comparing current qtr (2010, 4) to qtr (2010, 3) from 1 quarter ago.\n",
      "{'diff_jaccard': 0.24492913054448498, 'diff_cosine_tf': 0.6185152606079586, 'diff_cosine_tf_idf': 0.5554990544720666, 'diff_minEdit': 0.7497996607101596, 'diff_simple': 0.4974016400995117, 'sing_LoughranMcDonald': -0.00010470077029565948, '0': {'type': '10-K', 'published': datetime.date(2012, 3, 19), 'qtr': (2012, 1)}}\n",
      "[INFO] Comparing current qtr (2012, 2) to qtr (2012, 1) from 1 quarter ago.\n",
      "[INFO] Found a ToC!\n",
      "{'diff_jaccard': 0.6934639775031037, 'diff_cosine_tf': 0.9667793951297996, 'diff_cosine_tf_idf': 0.9421672637315553, 'diff_minEdit': 1.0, 'diff_simple': 1.0, 'sing_LoughranMcDonald': -0.00200043392625744, '0': {'type': '10-Q', 'published': datetime.date(2010, 11, 15), 'qtr': (2010, 4)}}\n",
      "[WARNING] Section 1a was found to be empty.\n",
      "[INFO] Comparing current qtr (2011, 1) to qtr (2010, 4) from 1 quarter ago.\n",
      "[INFO] No ToC found\n",
      "{'diff_jaccard': 0.1460212218157774, 'diff_cosine_tf': 0.7056003435378626, 'diff_cosine_tf_idf': 0.6710732170370051, 'diff_minEdit': 0.707690578756214, 'diff_simple': 0.43317512311620104, 'sing_LoughranMcDonald': -4.330997539366068e-05, '0': {'type': '10-Q', 'published': datetime.date(2011, 5, 5), 'qtr': (2011, 2)}}\n",
      "[INFO] Comparing current qtr (2011, 3) to qtr (2011, 2) from 1 quarter ago.\n",
      "{'diff_jaccard': 0.6586889195793183, 'diff_cosine_tf': 0.9632883203930065, 'diff_cosine_tf_idf': 0.9457191310386974, 'diff_minEdit': 1.0, 'diff_simple': 1.0, 'sing_LoughranMcDonald': -0.0005156559110430726, '0': {'type': '10-Q', 'published': datetime.date(2010, 10, 29), 'qtr': (2010, 4)}}\n",
      "{'diff_jaccard': 0.37774475789017825, 'diff_cosine_tf': 0.7838496449199889, 'diff_cosine_tf_idf': 0.7361941490815527, 'diff_minEdit': 0.829066446116023, 'diff_simple': 0.8307540947565132, 'sing_LoughranMcDonald': -0.0015813216676382185, '0': {'type': '10-K', 'published': datetime.date(2011, 3, 31), 'qtr': (2011, 1)}}\n",
      "[INFO] Comparing current qtr (2011, 2) to qtr (2011, 1) from 1 quarter ago.\n",
      "[INFO] Comparing current qtr (2011, 1) to qtr (2010, 4) from 1 quarter ago.\n",
      "[INFO] Found a ToC!\n",
      "{'diff_jaccard': 0.3492764461580395, 'diff_cosine_tf': 0.7861024679654448, 'diff_cosine_tf_idf': 0.746504832831185, 'diff_minEdit': 0.7396999292939421, 'diff_simple': 0.6157888617326721, 'sing_LoughranMcDonald': -0.00031603072101633515, '0': {'type': '10-K', 'published': datetime.date(2011, 3, 11), 'qtr': (2011, 1)}}\n",
      "[INFO] Comparing current qtr (2011, 2) to qtr (2011, 1) from 1 quarter ago.\n",
      "{'diff_jaccard': 0.3391672877323212, 'diff_cosine_tf': 0.77176100588755, 'diff_cosine_tf_idf': 0.7253383637080104, 'diff_minEdit': 0.7730195642529459, 'diff_simple': 0.8043425036198499, 'sing_LoughranMcDonald': -0.004936154307907794, '0': {'type': '10-Q', 'published': datetime.date(2011, 5, 16), 'qtr': (2011, 2)}}\n",
      "[INFO] Comparing current qtr (2011, 3) to qtr (2011, 2) from 1 quarter ago.\n",
      "{'diff_jaccard': 0.33644155802096737, 'diff_cosine_tf': 0.6405237934065333, 'diff_cosine_tf_idf': 0.5895605313391445, 'diff_minEdit': 0.7206537791967768, 'diff_simple': 0.5020440077900183, 'sing_LoughranMcDonald': -0.0007689070575220345, '0': {'type': '10-Q', 'published': datetime.date(2012, 5, 9), 'qtr': (2012, 2)}}\n",
      "[INFO] Comparing current qtr (2012, 3) to qtr (2012, 2) from 1 quarter ago.\n",
      "{'diff_jaccard': 0.706675937480545, 'diff_cosine_tf': 0.9121574619648932, 'diff_cosine_tf_idf': 0.8868417428747712, 'diff_minEdit': 0.998883009994121, 'diff_simple': 0.9994135802469135, 'sing_LoughranMcDonald': -0.0026808844325743003, '0': {'type': '10-Q', 'published': datetime.date(2011, 8, 15), 'qtr': (2011, 3)}}\n",
      "[INFO] Comparing current qtr (2011, 4) to qtr (2011, 3) from 1 quarter ago.\n",
      "[INFO] Found a ToC!\n",
      "{'diff_jaccard': 0.7469215058947096, 'diff_cosine_tf': 0.9813159620947531, 'diff_cosine_tf_idf': 0.9810962810992148, 'diff_minEdit': 0.9999314411079115, 'diff_simple': 0.9999719831931572, 'sing_LoughranMcDonald': -5.473580731162745e-05, '0': {'type': '10-Q', 'published': datetime.date(2011, 8, 5), 'qtr': (2011, 3)}}\n",
      "[INFO] Comparing current qtr (2011, 4) to qtr (2011, 3) from 1 quarter ago.\n",
      "[INFO] No ToC found\n",
      "{'diff_jaccard': 0.6295672438657208, 'diff_cosine_tf': 0.9479494869841056, 'diff_cosine_tf_idf': 0.9185765677664236, 'diff_minEdit': 0.9912542182227221, 'diff_simple': 0.9901122776319626, 'sing_LoughranMcDonald': -0.0036894515384046354, '0': {'type': '10-Q', 'published': datetime.date(2011, 11, 14), 'qtr': (2011, 4)}}\n",
      "{'diff_jaccard': 0.8837204091969086, 'diff_cosine_tf': 0.9653873253550284, 'diff_cosine_tf_idf': 0.9589791007108955, 'diff_minEdit': 0.9934380260611112, 'diff_simple': 0.973172792031772, 'sing_LoughranMcDonald': -0.0001646681674048225, '0': {'type': '10-Q', 'published': datetime.date(2012, 8, 1), 'qtr': (2012, 3)}}\n",
      "[INFO] Comparing current qtr (2012, 4) to qtr (2012, 3) from 1 quarter ago.\n",
      "[INFO] Comparing current qtr (2012, 1) to qtr (2011, 4) from 1 quarter ago.\n",
      "[INFO] No ToC found\n",
      "{'diff_jaccard': 0.3341151877145833, 'diff_cosine_tf': 0.7540885858008907, 'diff_cosine_tf_idf': 0.7242501878809346, 'diff_minEdit': 0.7386961492700097, 'diff_simple': 0.6439751629774683, 'sing_LoughranMcDonald': -0.0015630915479360307, '0': {'type': '10-Q', 'published': datetime.date(2011, 5, 10), 'qtr': (2011, 2)}}\n",
      "[INFO] Comparing current qtr (2011, 3) to qtr (2011, 2) from 1 quarter ago.\n",
      "{'diff_jaccard': 0.003204060651034419, 'diff_cosine_tf': 0.008731618186704121, 'diff_cosine_tf_idf': 0.006757578350923511, 'diff_minEdit': 0.944325138506737, 'diff_simple': 0.1667854388307204, 'sing_LoughranMcDonald': 0.0, '0': {'type': '10-Q', 'published': datetime.date(2011, 11, 4), 'qtr': (2011, 4)}}\n",
      "{'diff_jaccard': 0.30667434748245753, 'diff_cosine_tf': 0.8918004030401036, 'diff_cosine_tf_idf': 0.8801806295080178, 'diff_minEdit': 0.8173005292046469, 'diff_simple': 0.8447165861072232, 'sing_LoughranMcDonald': -0.0006566129914063224, '0': {'type': '10-K', 'published': datetime.date(2011, 2, 18), 'qtr': (2011, 1)}}\n",
      "[INFO] Comparing current qtr (2012, 1) to qtr (2011, 4) from 1 quarter ago.\n",
      "[INFO] Comparing current qtr (2011, 2) to qtr (2011, 1) from 1 quarter ago.\n",
      "{'diff_jaccard': 0.43220670362045754, 'diff_cosine_tf': 0.8224287913466541, 'diff_cosine_tf_idf': 0.7807121557864434, 'diff_minEdit': 0.8364526064526064, 'diff_simple': 0.8274328205128205, 'sing_LoughranMcDonald': -0.002674981421515741, '0': {'type': '10-K', 'published': datetime.date(2012, 3, 30), 'qtr': (2012, 1)}}\n",
      "[INFO] Found a ToC!\n",
      "[WARNING] Section 7a was found to be empty.\n",
      "[INFO] Comparing current qtr (2012, 2) to qtr (2012, 1) from 1 quarter ago.\n",
      "{'diff_jaccard': 0.846434400921266, 'diff_cosine_tf': 0.9828314101237053, 'diff_cosine_tf_idf': 0.9807569033477376, 'diff_minEdit': 0.996129926718162, 'diff_simple': 0.9770117647058824, 'sing_LoughranMcDonald': -0.00015140728644658113, '0': {'type': '10-Q', 'published': datetime.date(2012, 10, 29), 'qtr': (2012, 4)}}\n"
     ]
    },
    {
     "name": "stderr",
     "output_type": "stream",
     "text": [
      "\n",
      "  2%|▎         | 25/1000 [00:14<13:07,  1.24it/s]\u001b[A\n",
      "\n",
      "25it [00:14,  1.24it/s]\u001b[A\u001b[A"
     ]
    },
    {
     "name": "stdout",
     "output_type": "stream",
     "text": [
      "[INFO] No ToC found\n",
      "{'diff_jaccard': 0.904793360863883, 'diff_cosine_tf': 0.9721900847445321, 'diff_cosine_tf_idf': 0.9712232678781871, 'diff_minEdit': 0.993916990920882, 'diff_simple': 0.9900238651102464, 'sing_LoughranMcDonald': -0.001292384586950701, '0': {'type': '10-Q', 'published': datetime.date(2011, 8, 5), 'qtr': (2011, 3)}}\n",
      "[INFO] Comparing current qtr (2011, 4) to qtr (2011, 3) from 1 quarter ago.\n",
      "[INFO] No ToC found\n",
      "{'diff_jaccard': 0.361524330198716, 'diff_cosine_tf': 0.7946945929639104, 'diff_cosine_tf_idf': 0.7487954172117114, 'diff_minEdit': 0.8066798213081187, 'diff_simple': 0.8147494004796163, 'sing_LoughranMcDonald': -0.0035984707637191173, '0': {'type': '10-Q', 'published': datetime.date(2012, 5, 15), 'qtr': (2012, 2)}}\n",
      "[INFO] Comparing current qtr (2012, 3) to qtr (2012, 2) from 1 quarter ago.\n",
      "{'diff_jaccard': 0.004581908120937694, 'diff_cosine_tf': 0.21141566305628298, 'diff_cosine_tf_idf': 0.15855624774309138, 'diff_minEdit': 0.9271292300786563, 'diff_simple': 0.5523985170550263, 'sing_LoughranMcDonald': -0.0006373738695427572, '0': {'type': '10-K', 'published': datetime.date(2012, 2, 27), 'qtr': (2012, 1)}}\n",
      "[INFO] Comparing current qtr (2012, 2) to qtr (2012, 1) from 1 quarter ago.\n",
      "{'diff_jaccard': 0.26425358075691713, 'diff_cosine_tf': 0.6858696774385615, 'diff_cosine_tf_idf': 0.669937473277542, 'diff_minEdit': 0.8778143695071808, 'diff_simple': 0.7740982859570515, 'sing_LoughranMcDonald': -0.0005334315519174979, '0': {'type': '10-Q', 'published': datetime.date(2011, 4, 29), 'qtr': (2011, 2)}}\n",
      "[INFO] Comparing current qtr (2011, 3) to qtr (2011, 2) from 1 quarter ago.\n",
      "[INFO] No ToC found\n",
      "{'diff_jaccard': 0.7074423768260111, 'diff_cosine_tf': 0.9533824396578762, 'diff_cosine_tf_idf': 0.9347358809930684, 'diff_minEdit': 0.9985448789952007, 'diff_simple': 0.9994907076483203, 'sing_LoughranMcDonald': -0.0025059161516924363, '0': {'type': '10-Q', 'published': datetime.date(2012, 8, 14), 'qtr': (2012, 3)}}\n",
      "[INFO] Comparing current qtr (2012, 4) to qtr (2012, 3) from 1 quarter ago.\n",
      "{'diff_jaccard': 0.8685855277865213, 'diff_cosine_tf': 0.9818494034839458, 'diff_cosine_tf_idf': 0.9814578490113331, 'diff_minEdit': 1.0, 'diff_simple': 1.0, 'sing_LoughranMcDonald': -0.00123812865478965, '0': {'type': '10-Q', 'published': datetime.date(2011, 11, 4), 'qtr': (2011, 4)}}\n",
      "[INFO] Comparing current qtr (2012, 1) to qtr (2011, 4) from 1 quarter ago.\n",
      "{'diff_jaccard': 0.27204144687090526, 'diff_cosine_tf': 0.8022423411985846, 'diff_cosine_tf_idf': 0.7646160951746777, 'diff_minEdit': 0.7679244724225258, 'diff_simple': 0.6915008095653258, 'sing_LoughranMcDonald': -0.0030143368569769593, '0': {'type': '10-Q', 'published': datetime.date(2012, 5, 4), 'qtr': (2012, 2)}}\n",
      "[INFO] Comparing current qtr (2012, 3) to qtr (2012, 2) from 1 quarter ago.\n",
      "{'diff_jaccard': 0.7214477496602494, 'diff_cosine_tf': 0.9670535534354416, 'diff_cosine_tf_idf': 0.9508339379172941, 'diff_minEdit': 0.9987333507443197, 'diff_simple': 0.9995566727605119, 'sing_LoughranMcDonald': -0.0025362601015297063, '0': {'type': '10-Q', 'published': datetime.date(2012, 11, 21), 'qtr': (2012, 4)}}\n"
     ]
    },
    {
     "name": "stderr",
     "output_type": "stream",
     "text": [
      "\n",
      "  3%|▎         | 26/1000 [00:14<11:04,  1.47it/s]\u001b[A\n",
      "\n",
      "26it [00:14,  1.46it/s]\u001b[A\u001b[A"
     ]
    },
    {
     "name": "stdout",
     "output_type": "stream",
     "text": [
      "{'diff_jaccard': 0.694236780597542, 'diff_cosine_tf': 0.9320084579490586, 'diff_cosine_tf_idf': 0.9164370365147462, 'diff_minEdit': 1.0, 'diff_simple': 1.0, 'sing_LoughranMcDonald': -0.00034421862551852806, '0': {'type': '10-Q', 'published': datetime.date(2011, 7, 26), 'qtr': (2011, 3)}}\n",
      "[INFO] Comparing current qtr (2011, 4) to qtr (2011, 3) from 1 quarter ago.\n",
      "{'diff_jaccard': 0.770662392681578, 'diff_cosine_tf': 0.9438221588771012, 'diff_cosine_tf_idf': 0.9204247619176078, 'diff_minEdit': 1.0, 'diff_simple': 1.0, 'sing_LoughranMcDonald': -0.002387415761190605, '0': {'type': '10-Q', 'published': datetime.date(2012, 8, 6), 'qtr': (2012, 3)}}\n",
      "[INFO] Comparing current qtr (2012, 4) to qtr (2012, 3) from 1 quarter ago.\n",
      "{'diff_jaccard': 0.7117141906691301, 'diff_cosine_tf': 0.9622693471151943, 'diff_cosine_tf_idf': 0.93220812085105, 'diff_minEdit': 1.0, 'diff_simple': 1.0, 'sing_LoughranMcDonald': -0.0022884476599558745, '0': {'type': '10-Q', 'published': datetime.date(2012, 11, 6), 'qtr': (2012, 4)}}\n"
     ]
    },
    {
     "name": "stderr",
     "output_type": "stream",
     "text": [
      "\n",
      "  3%|▎         | 27/1000 [00:14<09:01,  1.80it/s]\u001b[A\n",
      "\n",
      "27it [00:14,  1.80it/s]\u001b[A\u001b[A"
     ]
    },
    {
     "name": "stdout",
     "output_type": "stream",
     "text": [
      "{'diff_jaccard': 0.7131930906134781, 'diff_cosine_tf': 0.9656250918069852, 'diff_cosine_tf_idf': 0.9599870133249632, 'diff_minEdit': 1.0, 'diff_simple': 1.0, 'sing_LoughranMcDonald': -0.0003011560930296799, '0': {'type': '10-Q', 'published': datetime.date(2011, 10, 28), 'qtr': (2011, 4)}}\n",
      "[INFO] Comparing current qtr (2012, 1) to qtr (2011, 4) from 1 quarter ago.\n",
      "[INFO] No ToC found\n",
      "[WARNING] Section 1a was found to be empty.\n",
      "[WARNING] Section 3 was found to be empty.\n",
      "[WARNING] Section 7 was found to be empty.\n",
      "[WARNING] Section 7a was found to be empty.\n",
      "[WARNING] Section 9a was found to be empty.\n",
      "{'diff_jaccard': 0.3374352234183491, 'diff_cosine_tf': 0.7588937598148343, 'diff_cosine_tf_idf': 0.7305660288757924, 'diff_minEdit': 0.7559214582037003, 'diff_simple': 0.6529929036505963, 'sing_LoughranMcDonald': -0.0003562472456683352, '0': {'type': '10-K', 'published': datetime.date(2012, 3, 12), 'qtr': (2012, 1)}}\n",
      "[INFO] Comparing current qtr (2012, 2) to qtr (2012, 1) from 1 quarter ago.\n",
      "[ERROR] Here is full_sect: |[]|\n",
      "[ERROR] Original res: {'_i_1': [], '_i_2': [], '_i_3': [], '_i_4': [], 'ii_1': [], 'ii_1a': [], 'ii_2': [], 'ii_3': [], 'ii_4': [], 'ii_5': [], 'ii_6': []}\n",
      "[WARNING] /home/alex/Desktop/filtered_text_data/nd_data/2010/QTR2/20100507_10-Q_edgar_data_712770_0001144204-10-025286_1.txt failed parsing\n"
     ]
    },
    {
     "name": "stderr",
     "output_type": "stream",
     "text": [
      "\n",
      "  3%|▎         | 28/1000 [00:14<07:26,  2.18it/s]\u001b[A\n",
      "\n",
      "28it [00:14,  2.17it/s]\u001b[A\u001b[A"
     ]
    },
    {
     "name": "stdout",
     "output_type": "stream",
     "text": [
      "{'diff_jaccard': 0.024030516219349672, 'diff_cosine_tf': 0.32615247203025927, 'diff_cosine_tf_idf': 0.2756308402020796, 'diff_minEdit': 0.6191996596816165, 'diff_simple': 0.3390604785996576, 'sing_LoughranMcDonald': -0.028930534254808345, '0': {'type': '10-Q', 'published': datetime.date(2012, 5, 8), 'qtr': (2012, 2)}}\n",
      "[INFO] Comparing current qtr (2012, 3) to qtr (2012, 2) from 1 quarter ago.\n",
      "[INFO] Found a ToC!\n",
      "[WARNING] Section 7a was found to be empty.\n",
      "[INFO] Found a ToC!\n",
      "[WARNING] Section 1a was found to be empty.\n",
      "{'diff_jaccard': 0.08912546433736063, 'diff_cosine_tf': 0.17412033171130137, 'diff_cosine_tf_idf': 0.14332019126364234, 'diff_minEdit': 0.6869237261314486, 'diff_simple': 0.28303143388881324, 'sing_LoughranMcDonald': -0.0016004478251382698, '0': {'type': '10-Q', 'published': datetime.date(2012, 8, 7), 'qtr': (2012, 3)}}\n",
      "[INFO] Comparing current qtr (2012, 4) to qtr (2012, 3) from 1 quarter ago.\n",
      "[INFO] No ToC found\n",
      "{'diff_jaccard': 0.31668547759999716, 'diff_cosine_tf': 0.7157511856281128, 'diff_cosine_tf_idf': 0.7090907904628693, 'diff_minEdit': 0.8943089832832359, 'diff_simple': 0.7939191650534408, 'sing_LoughranMcDonald': -0.0006391603552107852, '0': {'type': '10-K', 'published': datetime.date(2012, 2, 21), 'qtr': (2012, 1)}}\n",
      "[INFO] Comparing current qtr (2012, 2) to qtr (2012, 1) from 1 quarter ago.\n",
      "[INFO] Found a ToC!\n",
      "[INFO] No ToC found\n",
      "[INFO] No ToC found\n",
      "[INFO] No ToC found\n",
      "[INFO] Found a ToC!\n",
      "{'diff_jaccard': 0.8532770291062439, 'diff_cosine_tf': 0.9825564810326178, 'diff_cosine_tf_idf': 0.9764245397663635, 'diff_minEdit': 0.9961799203701712, 'diff_simple': 0.9925508447218337, 'sing_LoughranMcDonald': -0.0009419915912183745, '0': {'type': '10-Q', 'published': datetime.date(2012, 11, 5), 'qtr': (2012, 4)}}\n"
     ]
    },
    {
     "name": "stderr",
     "output_type": "stream",
     "text": [
      "\n",
      "  3%|▎         | 29/1000 [00:15<07:57,  2.03it/s]\u001b[A\n",
      "\n",
      "29it [00:15,  2.03it/s]\u001b[A\u001b[A"
     ]
    },
    {
     "name": "stdout",
     "output_type": "stream",
     "text": [
      "[INFO] No ToC found\n",
      "[INFO] No ToC found\n",
      "[INFO] No ToC found\n",
      "[INFO] No ToC found\n",
      "[WARNING] Section _i_3 was found to be empty.\n",
      "[WARNING] Section ii_1a was found to be empty.\n",
      "{'diff_jaccard': 0.30516240877786793, 'diff_cosine_tf': 0.7106535843758655, 'diff_cosine_tf_idf': 0.7035990076534252, 'diff_minEdit': 0.9290690146485805, 'diff_simple': 0.7899080116004205, 'sing_LoughranMcDonald': -0.0003504647720306684, '0': {'type': '10-Q', 'published': datetime.date(2012, 4, 27), 'qtr': (2012, 2)}}\n",
      "[INFO] No ToC found\n",
      "[INFO] Comparing current qtr (2012, 3) to qtr (2012, 2) from 1 quarter ago.\n",
      "[INFO] Found a ToC!\n",
      "[INFO] No ToC found\n",
      "[INFO] Comparing current qtr (2010, 2) to qtr (2010, 1) from 1 quarter ago.\n",
      "[INFO] No ToC found\n",
      "[WARNING] Section 7 was found to be empty.\n",
      "[WARNING] Section 7a was found to be empty.\n",
      "[INFO] No ToC found\n",
      "[INFO] No ToC found\n",
      "[WARNING] Section _i_3 was found to be empty.\n",
      "[INFO] No ToC found\n",
      "[INFO] No ToC found\n",
      "[WARNING] Section ii_1a was found to be empty.\n",
      "{'diff_jaccard': 0.791529729403699, 'diff_cosine_tf': 0.9445284672285694, 'diff_cosine_tf_idf': 0.9416917178353975, 'diff_minEdit': 1.0, 'diff_simple': 1.0, 'sing_LoughranMcDonald': -0.00026772866083199704, '0': {'type': '10-Q', 'published': datetime.date(2012, 7, 26), 'qtr': (2012, 3)}}\n",
      "[INFO] Comparing current qtr (2012, 4) to qtr (2012, 3) from 1 quarter ago.\n",
      "[INFO] No ToC found\n",
      "[WARNING] Section ii_1a was found to be empty.\n",
      "[INFO] Found a ToC!\n",
      "[ERROR] Here is full_sect: |[]|\n",
      "{'diff_jaccard': 0.4680554741930605, 'diff_cosine_tf': 0.9519991132225242, 'diff_cosine_tf_idf': 0.9475658751756671, 'diff_minEdit': 0.9887930283280514, 'diff_simple': 0.9690631700271425, 'sing_LoughranMcDonald': -0.0007993716804339325, '0': {'type': '10-Q', 'published': datetime.date(2010, 5, 5), 'qtr': (2010, 2)}}\n",
      "[ERROR] Original res: {'_i_1': [], '_i_2': [], '_i_3': [], '_i_4': [], 'ii_1': [], 'ii_1a': [], 'ii_2': [], 'ii_3': [], 'ii_4': [], 'ii_5': [], 'ii_6': []}\n",
      "[WARNING] /home/alex/Desktop/filtered_text_data/nd_data/2010/QTR4/20101109_10-Q_edgar_data_712771_0001144204-10-058480_1.txt failed parsing\n"
     ]
    },
    {
     "name": "stderr",
     "output_type": "stream",
     "text": [
      "\n",
      "  3%|▎         | 30/1000 [00:16<08:13,  1.96it/s]\u001b[A\n",
      "\n",
      "30it [00:16,  1.97it/s]\u001b[A\u001b[A"
     ]
    },
    {
     "name": "stdout",
     "output_type": "stream",
     "text": [
      "[INFO] Comparing current qtr (2010, 3) to qtr (2010, 2) from 1 quarter ago.\n",
      "[INFO] Found a ToC!\n",
      "[WARNING] Section 7a was found to be empty.\n",
      "[INFO] No ToC found\n",
      "[WARNING] Section ii_1a was found to be empty.\n",
      "{'diff_jaccard': 0.7242245494232862, 'diff_cosine_tf': 0.9691208138605408, 'diff_cosine_tf_idf': 0.9635587200784772, 'diff_minEdit': 1.0, 'diff_simple': 1.0, 'sing_LoughranMcDonald': -0.0002570223768305236, '0': {'type': '10-Q', 'published': datetime.date(2012, 10, 25), 'qtr': (2012, 4)}}\n"
     ]
    },
    {
     "name": "stderr",
     "output_type": "stream",
     "text": [
      "\n",
      "  3%|▎         | 31/1000 [00:16<06:17,  2.56it/s]\u001b[A\n",
      "\n",
      "31it [00:16,  2.57it/s]\u001b[A\u001b[A"
     ]
    },
    {
     "name": "stdout",
     "output_type": "stream",
     "text": [
      "[INFO] No ToC found\n",
      "[INFO] Found a ToC!\n",
      "{'diff_jaccard': 0.743069873208043, 'diff_cosine_tf': 0.9752086421113071, 'diff_cosine_tf_idf': 0.9705609232280703, 'diff_minEdit': 0.7681953955713152, 'diff_simple': 0.8557003849443969, 'sing_LoughranMcDonald': -0.0004473021111101451, '0': {'type': '10-Q', 'published': datetime.date(2010, 8, 5), 'qtr': (2010, 3)}}\n",
      "[INFO] Comparing current qtr (2010, 4) to qtr (2010, 3) from 1 quarter ago.\n",
      "[INFO] Found a ToC!\n",
      "{'diff_jaccard': 0.07152613835286921, 'diff_cosine_tf': 0.12065501599160128, 'diff_cosine_tf_idf': 0.09922911997996636, 'diff_minEdit': 0.6286009972716154, 'diff_simple': 0.2699599755529845, 'sing_LoughranMcDonald': -0.00963949091074144, '0': {'type': '10-Q', 'published': datetime.date(2010, 11, 4), 'qtr': (2010, 4)}}\n",
      "[INFO] Comparing current qtr (2011, 1) to qtr (2010, 4) from 1 quarter ago.\n",
      "[INFO] Found a ToC!\n",
      "{'diff_jaccard': 0.021919745335004015, 'diff_cosine_tf': 0.13566249682285347, 'diff_cosine_tf_idf': 0.1040634692661704, 'diff_minEdit': 0.6747781856933479, 'diff_simple': 0.24230951735200243, 'sing_LoughranMcDonald': -0.00024759541893098585, '0': {'type': '10-K', 'published': datetime.date(2011, 2, 22), 'qtr': (2011, 1)}}\n",
      "[INFO] Comparing current qtr (2011, 2) to qtr (2011, 1) from 1 quarter ago.\n",
      "{'diff_jaccard': 0.440030982412213, 'diff_cosine_tf': 0.9501223289737799, 'diff_cosine_tf_idf': 0.943464686477926, 'diff_minEdit': 0.7682992637684958, 'diff_simple': 0.8338775253507565, 'sing_LoughranMcDonald': -0.0005678053529456512, '0': {'type': '10-Q', 'published': datetime.date(2011, 5, 2), 'qtr': (2011, 2)}}\n",
      "[INFO] Comparing current qtr (2011, 3) to qtr (2011, 2) from 1 quarter ago.\n",
      "[INFO] No ToC found\n",
      "{'diff_jaccard': 0.6776643880514235, 'diff_cosine_tf': 0.985605328845187, 'diff_cosine_tf_idf': 0.9803069938714243, 'diff_minEdit': 1.0, 'diff_simple': 1.0, 'sing_LoughranMcDonald': -0.0004447538297225756, '0': {'type': '10-Q', 'published': datetime.date(2011, 8, 4), 'qtr': (2011, 3)}}\n",
      "[INFO] Comparing current qtr (2011, 4) to qtr (2011, 3) from 1 quarter ago.\n",
      "[INFO] No ToC found\n",
      "[INFO] No ToC found\n",
      "[INFO] Found a ToC!\n",
      "[WARNING] Section 7 was found to be empty.\n",
      "[INFO] No ToC found\n",
      "[INFO] Comparing current qtr (2010, 2) to qtr (2010, 1) from 1 quarter ago.\n",
      "[INFO] Found a ToC!\n",
      "[INFO] No ToC found\n",
      "{'diff_jaccard': 0.7234151600621428, 'diff_cosine_tf': 0.9875244055955089, 'diff_cosine_tf_idf': 0.9808405733252965, 'diff_minEdit': 1.0, 'diff_simple': 1.0, 'sing_LoughranMcDonald': -0.00040296697572956414, '0': {'type': '10-Q', 'published': datetime.date(2011, 11, 2), 'qtr': (2011, 4)}}\n",
      "[INFO] Comparing current qtr (2012, 1) to qtr (2011, 4) from 1 quarter ago.\n",
      "[WARNING] Section 7a was found to be empty.\n",
      "[INFO] No ToC found\n",
      "[INFO] No ToC found\n",
      "[WARNING] Section ii_1a was found to be empty.\n",
      "[INFO] Found a ToC!\n",
      "[INFO] No ToC found\n",
      "[INFO] Comparing current qtr (2010, 2) to qtr (2010, 1) from 1 quarter ago.\n",
      "[INFO] Found a ToC!\n",
      "{'diff_jaccard': 0.19301697384705196, 'diff_cosine_tf': 0.7563131536794276, 'diff_cosine_tf_idf': 0.7255571341315256, 'diff_minEdit': 0.7505802823399397, 'diff_simple': 0.6795117433300377, 'sing_LoughranMcDonald': 0.0001118736787428029, '0': {'type': '10-Q', 'published': datetime.date(2010, 5, 10), 'qtr': (2010, 2)}}\n",
      "[INFO] No ToC found\n",
      "[INFO] Comparing current qtr (2010, 3) to qtr (2010, 2) from 1 quarter ago.\n",
      "[WARNING] Section ii_1a was found to be empty.\n",
      "{'diff_jaccard': 0.0043791067041527776, 'diff_cosine_tf': 0.27462396236624886, 'diff_cosine_tf_idf': 0.207296854753463, 'diff_minEdit': 0.9032823550120629, 'diff_simple': 0.5530404364765593, 'sing_LoughranMcDonald': 0.0, '0': {'type': '10-Q', 'published': datetime.date(2010, 5, 7), 'qtr': (2010, 2)}}\n",
      "[INFO] Found a ToC!\n",
      "[INFO] Comparing current qtr (2010, 3) to qtr (2010, 2) from 1 quarter ago.\n",
      "[INFO] No ToC found\n",
      "[WARNING] Section ii_1a was found to be empty.\n",
      "{'diff_jaccard': 0.798577130835144, 'diff_cosine_tf': 0.9715206322503023, 'diff_cosine_tf_idf': 0.9674215986225694, 'diff_minEdit': 1.0, 'diff_simple': 1.0, 'sing_LoughranMcDonald': -0.00011582074126669378, '0': {'type': '10-Q', 'published': datetime.date(2010, 8, 5), 'qtr': (2010, 3)}}\n",
      "{'diff_jaccard': 0.4933273485015761, 'diff_cosine_tf': 0.9531039559917055, 'diff_cosine_tf_idf': 0.9430097635202823, 'diff_minEdit': 0.7688638152983709, 'diff_simple': 0.8299775038030202, 'sing_LoughranMcDonald': -0.00020793994517815948, '0': {'type': '10-K', 'published': datetime.date(2012, 2, 17), 'qtr': (2012, 1)}}\n",
      "[INFO] Comparing current qtr (2010, 4) to qtr (2010, 3) from 1 quarter ago.\n",
      "[INFO] Comparing current qtr (2012, 2) to qtr (2012, 1) from 1 quarter ago.\n",
      "{'diff_jaccard': 0.7217171717171718, 'diff_cosine_tf': 0.8399999999999999, 'diff_cosine_tf_idf': 0.7464359212312635, 'diff_minEdit': 0.9166666666666667, 'diff_simple': 0.9695399045399046, 'sing_LoughranMcDonald': 0.0, '0': {'type': '10-Q', 'published': datetime.date(2010, 8, 6), 'qtr': (2010, 3)}}\n",
      "[INFO] Comparing current qtr (2010, 4) to qtr (2010, 3) from 1 quarter ago.\n",
      "{'diff_jaccard': 0.7217171717171718, 'diff_cosine_tf': 0.8399999999999999, 'diff_cosine_tf_idf': 0.7464359212312635, 'diff_minEdit': 0.9166666666666667, 'diff_simple': 0.9743018093018093, 'sing_LoughranMcDonald': 0.0, '0': {'type': '10-Q', 'published': datetime.date(2010, 11, 5), 'qtr': (2010, 4)}}\n",
      "[INFO] Comparing current qtr (2011, 1) to qtr (2010, 4) from 1 quarter ago.\n",
      "{'diff_jaccard': 0.7525200692841428, 'diff_cosine_tf': 0.9777754376821605, 'diff_cosine_tf_idf': 0.9696933661971792, 'diff_minEdit': 1.0, 'diff_simple': 1.0, 'sing_LoughranMcDonald': 2.6559818136771923e-05, '0': {'type': '10-Q', 'published': datetime.date(2010, 11, 4), 'qtr': (2010, 4)}}\n",
      "[INFO] Comparing current qtr (2011, 1) to qtr (2010, 4) from 1 quarter ago.\n",
      "[INFO] Found a ToC!\n",
      "{'diff_jaccard': 0.47871948719308094, 'diff_cosine_tf': 0.9537544380867004, 'diff_cosine_tf_idf': 0.9453960186834537, 'diff_minEdit': 0.7695850228980994, 'diff_simple': 0.8286544537434, 'sing_LoughranMcDonald': -0.0005320454992959022, '0': {'type': '10-Q', 'published': datetime.date(2012, 5, 2), 'qtr': (2012, 2)}}\n",
      "[INFO] Comparing current qtr (2012, 3) to qtr (2012, 2) from 1 quarter ago.\n",
      "{'diff_jaccard': 0.003855417384055193, 'diff_cosine_tf': 0.21860741653284643, 'diff_cosine_tf_idf': 0.16308932918952518, 'diff_minEdit': 0.8991980810918163, 'diff_simple': 0.48968131576051893, 'sing_LoughranMcDonald': -0.0004173343488206702, '0': {'type': '10-K', 'published': datetime.date(2011, 3, 11), 'qtr': (2011, 1)}}\n",
      "[INFO] Comparing current qtr (2011, 2) to qtr (2011, 1) from 1 quarter ago.\n",
      "[INFO] Found a ToC!\n",
      "{'diff_jaccard': 0.6917135022762823, 'diff_cosine_tf': 0.9834495473562099, 'diff_cosine_tf_idf': 0.9798131378825795, 'diff_minEdit': 0.7021010609317577, 'diff_simple': 0.8464165469692617, 'sing_LoughranMcDonald': -0.00039174048534912776, '0': {'type': '10-Q', 'published': datetime.date(2012, 7, 31), 'qtr': (2012, 3)}}\n",
      "[INFO] Comparing current qtr (2012, 4) to qtr (2012, 3) from 1 quarter ago.\n",
      "{'diff_jaccard': 0.2368617419321985, 'diff_cosine_tf': 0.6821664963117104, 'diff_cosine_tf_idf': 0.6423555165720836, 'diff_minEdit': 0.7154179912676589, 'diff_simple': 0.5954700135518666, 'sing_LoughranMcDonald': -0.0004652706599510337, '0': {'type': '10-K', 'published': datetime.date(2011, 3, 3), 'qtr': (2011, 1)}}\n",
      "[INFO] Comparing current qtr (2011, 2) to qtr (2011, 1) from 1 quarter ago.\n",
      "{'diff_jaccard': 0.27600716169536244, 'diff_cosine_tf': 0.780362284257333, 'diff_cosine_tf_idf': 0.7493089288275712, 'diff_minEdit': 0.7929035628869835, 'diff_simple': 0.7578910415926058, 'sing_LoughranMcDonald': -0.0021491494356738632, '0': {'type': '10-Q', 'published': datetime.date(2011, 5, 9), 'qtr': (2011, 2)}}\n",
      "[INFO] Comparing current qtr (2011, 3) to qtr (2011, 2) from 1 quarter ago.\n",
      "[INFO] No ToC found\n",
      "[INFO] Found a ToC!\n",
      "[INFO] Found a ToC!\n",
      "{'diff_jaccard': 0.011893621930395448, 'diff_cosine_tf': 0.4468925428318583, 'diff_cosine_tf_idf': 0.3512250578388602, 'diff_minEdit': 0.9171587443766384, 'diff_simple': 0.7871803969879212, 'sing_LoughranMcDonald': 0.0, '0': {'type': '10-Q', 'published': datetime.date(2011, 8, 8), 'qtr': (2011, 3)}}\n",
      "{'diff_jaccard': 0.21457097215067972, 'diff_cosine_tf': 0.660025784182319, 'diff_cosine_tf_idf': 0.6178104529311151, 'diff_minEdit': 0.7220639827046988, 'diff_simple': 0.587559596472232, 'sing_LoughranMcDonald': -1.9778003636745974e-05, '0': {'type': '10-Q', 'published': datetime.date(2011, 5, 10), 'qtr': (2011, 2)}}\n"
     ]
    },
    {
     "name": "stdout",
     "output_type": "stream",
     "text": [
      "[INFO] Comparing current qtr (2011, 3) to qtr (2011, 2) from 1 quarter ago.\n",
      "[INFO] Comparing current qtr (2011, 4) to qtr (2011, 3) from 1 quarter ago.\n",
      "{'diff_jaccard': 0.8082075745293789, 'diff_cosine_tf': 0.9925242045356992, 'diff_cosine_tf_idf': 0.9885515923231818, 'diff_minEdit': 0.9355705770490756, 'diff_simple': 0.9903355865573614, 'sing_LoughranMcDonald': -0.000407394969386067, '0': {'type': '10-Q', 'published': datetime.date(2012, 10, 29), 'qtr': (2012, 4)}}\n"
     ]
    },
    {
     "name": "stderr",
     "output_type": "stream",
     "text": [
      "\n",
      "  3%|▎         | 32/1000 [00:18<13:52,  1.16it/s]\u001b[A\n",
      "\n",
      "32it [00:18,  1.16it/s]\u001b[A\u001b[A"
     ]
    },
    {
     "name": "stdout",
     "output_type": "stream",
     "text": [
      "[INFO] Found a ToC!\n",
      "{'diff_jaccard': 0.7944444444444445, 'diff_cosine_tf': 0.8666666666666665, 'diff_cosine_tf_idf': 0.7958954792317016, 'diff_minEdit': 0.9333333333333333, 'diff_simple': 0.9794300144300144, 'sing_LoughranMcDonald': 0.0, '0': {'type': '10-Q', 'published': datetime.date(2011, 11, 7), 'qtr': (2011, 4)}}\n",
      "[WARNING] Section 1a was found to be empty.\n",
      "[INFO] Comparing current qtr (2012, 1) to qtr (2011, 4) from 1 quarter ago.\n",
      "{'diff_jaccard': 0.778676523058616, 'diff_cosine_tf': 0.9768904299186234, 'diff_cosine_tf_idf': 0.9725643427425557, 'diff_minEdit': 1.0, 'diff_simple': 1.0, 'sing_LoughranMcDonald': 5.159207910925435e-05, '0': {'type': '10-Q', 'published': datetime.date(2011, 8, 4), 'qtr': (2011, 3)}}\n",
      "[INFO] No ToC found\n",
      "[INFO] Comparing current qtr (2011, 4) to qtr (2011, 3) from 1 quarter ago.\n",
      "[INFO] Found a ToC!\n",
      "{'diff_jaccard': 0.779737651973138, 'diff_cosine_tf': 0.9875529318805408, 'diff_cosine_tf_idf': 0.9801120339910084, 'diff_minEdit': 1.0, 'diff_simple': 1.0, 'sing_LoughranMcDonald': -2.26846640655218e-06, '0': {'type': '10-Q', 'published': datetime.date(2011, 11, 3), 'qtr': (2011, 4)}}\n",
      "[INFO] Comparing current qtr (2012, 1) to qtr (2011, 4) from 1 quarter ago.\n",
      "[INFO] Found a ToC!\n",
      "{'diff_jaccard': 0.002649010577008467, 'diff_cosine_tf': 0.03121927299213756, 'diff_cosine_tf_idf': 0.019264096989799334, 'diff_minEdit': 0.8764634912107812, 'diff_simple': 0.1915024981047754, 'sing_LoughranMcDonald': -0.001173166994654374, '0': {'type': '10-K', 'published': datetime.date(2012, 3, 13), 'qtr': (2012, 1)}}\n",
      "[INFO] Comparing current qtr (2012, 2) to qtr (2012, 1) from 1 quarter ago.\n",
      "{'diff_jaccard': 0.002649010577008467, 'diff_cosine_tf': 0.03121927299213756, 'diff_cosine_tf_idf': 0.019264096989799334, 'diff_minEdit': 0.8815558482725743, 'diff_simple': 0.18987661877372305, 'sing_LoughranMcDonald': 0.0, '0': {'type': '10-Q', 'published': datetime.date(2012, 5, 8), 'qtr': (2012, 2)}}\n",
      "[INFO] Comparing current qtr (2012, 3) to qtr (2012, 2) from 1 quarter ago.\n",
      "[INFO] No ToC found\n",
      "[INFO] Comparing current qtr (2011, 3) to qtr (2011, 2) from 1 quarter ago.\n",
      "[INFO] No ToC found\n",
      "{'diff_jaccard': 0.012479519143501771, 'diff_cosine_tf': 0.4158837736625391, 'diff_cosine_tf_idf': 0.3244738228160763, 'diff_minEdit': 0.9145665082542602, 'diff_simple': 0.7638554206026719, 'sing_LoughranMcDonald': -0.0012566930128717047, '0': {'type': '10-Q', 'published': datetime.date(2012, 8, 9), 'qtr': (2012, 3)}}\n"
     ]
    },
    {
     "name": "stderr",
     "output_type": "stream",
     "text": [
      "\n",
      "  3%|▎         | 33/1000 [00:18<11:48,  1.36it/s]\u001b[A\n",
      "\n",
      "33it [00:18,  1.36it/s]\u001b[A\u001b[A"
     ]
    },
    {
     "name": "stdout",
     "output_type": "stream",
     "text": [
      "{'diff_jaccard': 0.24580850623614003, 'diff_cosine_tf': 0.7160593815258433, 'diff_cosine_tf_idf': 0.6758415956658939, 'diff_minEdit': 0.7205025610817475, 'diff_simple': 0.6239243003698824, 'sing_LoughranMcDonald': -0.0005919470372339293, '0': {'type': '10-K', 'published': datetime.date(2012, 3, 8), 'qtr': (2012, 1)}}\n",
      "[INFO] Comparing current qtr (2012, 2) to qtr (2012, 1) from 1 quarter ago.\n",
      "[INFO] Found a ToC!\n",
      "[INFO] Found a ToC!\n",
      "[INFO] Found a ToC!\n",
      "{'diff_jaccard': 0.22411116779365703, 'diff_cosine_tf': 0.6957227610224817, 'diff_cosine_tf_idf': 0.6519763435832154, 'diff_minEdit': 0.708920617883415, 'diff_simple': 0.6172369757291568, 'sing_LoughranMcDonald': -0.0001049548465574619, '0': {'type': '10-Q', 'published': datetime.date(2012, 5, 4), 'qtr': (2012, 2)}}\n",
      "[INFO] Comparing current qtr (2012, 3) to qtr (2012, 2) from 1 quarter ago.\n",
      "{'diff_jaccard': 0.9101946701902061, 'diff_cosine_tf': 0.9926811031605771, 'diff_cosine_tf_idf': 0.9915705014684835, 'diff_minEdit': 0.9964079770110528, 'diff_simple': 0.9941809227579057, 'sing_LoughranMcDonald': -0.0011558254074413828, '0': {'type': '10-Q', 'published': datetime.date(2011, 8, 10), 'qtr': (2011, 3)}}\n",
      "[INFO] Comparing current qtr (2011, 4) to qtr (2011, 3) from 1 quarter ago.\n",
      "[INFO] Found a ToC!\n",
      "[INFO] Found a ToC!\n",
      "[INFO] Found a ToC!\n",
      "[INFO] Found a ToC!\n",
      "{'diff_jaccard': 0.7011182766462905, 'diff_cosine_tf': 0.9775592839009768, 'diff_cosine_tf_idf': 0.9702969261104415, 'diff_minEdit': 0.9398379473328831, 'diff_simple': 0.9915773126266036, 'sing_LoughranMcDonald': 1.1179026873085763e-05, '0': {'type': '10-Q', 'published': datetime.date(2012, 8, 8), 'qtr': (2012, 3)}}\n",
      "[INFO] Comparing current qtr (2012, 4) to qtr (2012, 3) from 1 quarter ago.\n",
      "[INFO] Found a ToC!\n",
      "[INFO] Found a ToC!\n",
      "[INFO] Comparing current qtr (2010, 2) to qtr (2010, 1) from 1 quarter ago.\n",
      "[INFO] Comparing current qtr (2010, 2) to qtr (2010, 1) from 1 quarter ago.\n",
      "{'diff_jaccard': 0.6444791462075338, 'diff_cosine_tf': 0.9830592165953903, 'diff_cosine_tf_idf': 0.9744019288808391, 'diff_minEdit': 0.9380610412926391, 'diff_simple': 0.9913285457809695, 'sing_LoughranMcDonald': -9.75767933436801e-05, '0': {'type': '10-Q', 'published': datetime.date(2012, 11, 7), 'qtr': (2012, 4)}}\n"
     ]
    },
    {
     "name": "stderr",
     "output_type": "stream",
     "text": [
      "\n",
      "  3%|▎         | 34/1000 [00:19<10:57,  1.47it/s]\u001b[A\n",
      "\n",
      "34it [00:19,  1.47it/s]\u001b[A\u001b[A"
     ]
    },
    {
     "name": "stdout",
     "output_type": "stream",
     "text": [
      "[INFO] No ToC found\n",
      "This is the res {'_i_1': [(3882, 3900)], '_i_2': [(48090, 48109)], '_i_3': [(87597, 87618)], '_i_4': [(93398, 93415)], 'ii_1a': [], 'ii_6': [(96091, 96108)]}\n",
      "{'diff_jaccard': 0.03881106959101679, 'diff_cosine_tf': 0.09770651934144339, 'diff_cosine_tf_idf': 0.07663519358793622, 'diff_minEdit': 0.6219905997065853, 'diff_simple': 0.23723567478737764, 'sing_LoughranMcDonald': -0.0007416271953017971, '0': {'type': '10-Q', 'published': datetime.date(2010, 4, 22), 'qtr': (2010, 2)}}\n",
      "{'diff_jaccard': 0.8797623262578469, 'diff_cosine_tf': 0.9950075354302682, 'diff_cosine_tf_idf': 0.9939665202378506, 'diff_minEdit': 1.0, 'diff_simple': 1.0, 'sing_LoughranMcDonald': -0.0011938401299109867, '0': {'type': '10-Q', 'published': datetime.date(2011, 11, 10), 'qtr': (2011, 4)}}\n",
      "[WARNING] /home/alex/Desktop/filtered_text_data/nd_data/2010/QTR2/20100511_10-Q_edgar_data_1114200_0000950123-10-047843_1.txt failed parsing\n",
      "[INFO] Comparing current qtr (2012, 1) to qtr (2011, 4) from 1 quarter ago.\n",
      "[INFO] Comparing current qtr (2010, 3) to qtr (2010, 2) from 1 quarter ago.\n",
      "[INFO] Found a ToC!\n",
      "{'diff_jaccard': 0.48543993529240137, 'diff_cosine_tf': 0.9141033564828126, 'diff_cosine_tf_idf': 0.9054073749627015, 'diff_minEdit': 0.7349373502369162, 'diff_simple': 0.707592196395547, 'sing_LoughranMcDonald': -0.0017315128241753787, '0': {'type': '10-Q', 'published': datetime.date(2010, 4, 30), 'qtr': (2010, 2)}}\n",
      "[INFO] Comparing current qtr (2010, 3) to qtr (2010, 2) from 1 quarter ago.\n",
      "{'diff_jaccard': 0.8129855803995951, 'diff_cosine_tf': 0.9866581221815138, 'diff_cosine_tf_idf': 0.9817729423705739, 'diff_minEdit': 0.9993206714030967, 'diff_simple': 0.9997463839904894, 'sing_LoughranMcDonald': -0.0006393558439753299, '0': {'type': '10-Q', 'published': datetime.date(2010, 7, 22), 'qtr': (2010, 3)}}\n",
      "[INFO] Comparing current qtr (2010, 4) to qtr (2010, 3) from 1 quarter ago.\n",
      "[INFO] Found a ToC!\n",
      "[INFO] No ToC found\n",
      "{'diff_jaccard': 0.8131187637252695, 'diff_cosine_tf': 0.9885513572325332, 'diff_cosine_tf_idf': 0.9848799317695537, 'diff_minEdit': 0.9997846768194808, 'diff_simple': 0.9999397095094548, 'sing_LoughranMcDonald': -0.0006373435792446809, '0': {'type': '10-Q', 'published': datetime.date(2010, 10, 21), 'qtr': (2010, 4)}}\n",
      "[INFO] Comparing current qtr (2011, 1) to qtr (2010, 4) from 1 quarter ago.\n",
      "{'diff_jaccard': 0.8067538662877853, 'diff_cosine_tf': 0.9449180295339331, 'diff_cosine_tf_idf': 0.9233701671126042, 'diff_minEdit': 1.0, 'diff_simple': 1.0, 'sing_LoughranMcDonald': -0.0014091613882521216, '0': {'type': '10-Q', 'published': datetime.date(2010, 7, 30), 'qtr': (2010, 3)}}\n",
      "[INFO] Comparing current qtr (2010, 4) to qtr (2010, 3) from 1 quarter ago.\n",
      "{'diff_jaccard': 0.7025302956526912, 'diff_cosine_tf': 0.9776737224781314, 'diff_cosine_tf_idf': 0.9743095303938283, 'diff_minEdit': 0.8870340419799044, 'diff_simple': 0.8861438685618549, 'sing_LoughranMcDonald': -0.00025307245872270844, '0': {'type': '10-K', 'published': datetime.date(2012, 3, 28), 'qtr': (2012, 1)}}\n",
      "[INFO] Comparing current qtr (2012, 2) to qtr (2012, 1) from 1 quarter ago.\n",
      "{'diff_jaccard': 0.3189325047004246, 'diff_cosine_tf': 0.6351915698428423, 'diff_cosine_tf_idf': 0.6250116204748181, 'diff_minEdit': 0.808182267382889, 'diff_simple': 0.5748925155742739, 'sing_LoughranMcDonald': -0.0002860577628578654, '0': {'type': '10-K', 'published': datetime.date(2011, 2, 9), 'qtr': (2011, 1)}}\n",
      "{'diff_jaccard': 0.8608586699094068, 'diff_cosine_tf': 0.970892772379689, 'diff_cosine_tf_idf': 0.9576276963649686, 'diff_minEdit': 1.0, 'diff_simple': 1.0, 'sing_LoughranMcDonald': -0.0013770842400366542, '0': {'type': '10-Q', 'published': datetime.date(2010, 10, 28), 'qtr': (2010, 4)}}\n",
      "[INFO] Comparing current qtr (2011, 2) to qtr (2011, 1) from 1 quarter ago.\n",
      "[INFO] Comparing current qtr (2011, 1) to qtr (2010, 4) from 1 quarter ago.\n",
      "[INFO] Found a ToC!\n",
      "{'diff_jaccard': 0.7125388735955437, 'diff_cosine_tf': 0.977928156405295, 'diff_cosine_tf_idf': 0.9748926090140362, 'diff_minEdit': 0.8901351442524663, 'diff_simple': 0.9088929389374537, 'sing_LoughranMcDonald': -0.000388460313019078, '0': {'type': '10-Q', 'published': datetime.date(2012, 5, 10), 'qtr': (2012, 2)}}\n",
      "[INFO] Comparing current qtr (2012, 3) to qtr (2012, 2) from 1 quarter ago.\n",
      "{'diff_jaccard': 0.3252580606533651, 'diff_cosine_tf': 0.6243519026624303, 'diff_cosine_tf_idf': 0.6152350565117667, 'diff_minEdit': 0.7655990662787592, 'diff_simple': 0.5780070528608932, 'sing_LoughranMcDonald': -0.0006680022378016133, '0': {'type': '10-Q', 'published': datetime.date(2011, 4, 26), 'qtr': (2011, 2)}}\n",
      "[INFO] Comparing current qtr (2011, 3) to qtr (2011, 2) from 1 quarter ago.\n",
      "{'diff_jaccard': 0.005723147749476034, 'diff_cosine_tf': 0.18836457979585253, 'diff_cosine_tf_idf': 0.14352046657994497, 'diff_minEdit': 0.9458249022592293, 'diff_simple': 0.3984639486537542, 'sing_LoughranMcDonald': 0.0, '0': {'type': '10-Q', 'published': datetime.date(2012, 8, 8), 'qtr': (2012, 3)}}\n",
      "[INFO] Comparing current qtr (2012, 4) to qtr (2012, 3) from 1 quarter ago.\n",
      "{'diff_jaccard': 0.7217171717171718, 'diff_cosine_tf': 0.8399999999999999, 'diff_cosine_tf_idf': 0.7464359212312635, 'diff_minEdit': 0.9166666666666667, 'diff_simple': 0.9513731165475352, 'sing_LoughranMcDonald': 0.0, '0': {'type': '10-Q', 'published': datetime.date(2012, 11, 8), 'qtr': (2012, 4)}}\n"
     ]
    },
    {
     "name": "stderr",
     "output_type": "stream",
     "text": [
      "\n",
      "  4%|▎         | 36/1000 [00:20<10:06,  1.59it/s]\u001b[A\n",
      "\n",
      "36it [00:20,  1.59it/s]\u001b[A\u001b[A"
     ]
    },
    {
     "name": "stdout",
     "output_type": "stream",
     "text": [
      "{'diff_jaccard': 0.49252005019981887, 'diff_cosine_tf': 0.9048772300767485, 'diff_cosine_tf_idf': 0.894570052011177, 'diff_minEdit': 0.7364015535348811, 'diff_simple': 0.7133366862058201, 'sing_LoughranMcDonald': -0.0006274160392116626, '0': {'type': '10-K', 'published': datetime.date(2011, 2, 24), 'qtr': (2011, 1)}}\n",
      "[INFO] Found a ToC!\n",
      "[INFO] Comparing current qtr (2011, 2) to qtr (2011, 1) from 1 quarter ago.\n",
      "{'diff_jaccard': 0.7722376011827016, 'diff_cosine_tf': 0.9804207794198015, 'diff_cosine_tf_idf': 0.9731590058027018, 'diff_minEdit': 1.0, 'diff_simple': 1.0, 'sing_LoughranMcDonald': -0.0004808288846215884, '0': {'type': '10-Q', 'published': datetime.date(2011, 7, 26), 'qtr': (2011, 3)}}\n",
      "[INFO] Comparing current qtr (2011, 4) to qtr (2011, 3) from 1 quarter ago.\n",
      "[INFO] Found a ToC!\n",
      "{'diff_jaccard': 0.8086029163216794, 'diff_cosine_tf': 0.9884009041311919, 'diff_cosine_tf_idf': 0.981461351301047, 'diff_minEdit': 1.0, 'diff_simple': 1.0, 'sing_LoughranMcDonald': -0.0005222940452929113, '0': {'type': '10-Q', 'published': datetime.date(2011, 10, 25), 'qtr': (2011, 4)}}\n",
      "[INFO] Comparing current qtr (2012, 1) to qtr (2011, 4) from 1 quarter ago.\n",
      "{'diff_jaccard': 0.48545380144134725, 'diff_cosine_tf': 0.9144437456972586, 'diff_cosine_tf_idf': 0.9050526761549512, 'diff_minEdit': 0.7363584449408691, 'diff_simple': 0.7025735105642829, 'sing_LoughranMcDonald': -0.0008089992355024345, '0': {'type': '10-Q', 'published': datetime.date(2011, 4, 28), 'qtr': (2011, 2)}}\n",
      "[INFO] Comparing current qtr (2011, 3) to qtr (2011, 2) from 1 quarter ago.\n",
      "[INFO] Found a ToC!\n",
      "[WARNING] Section _i_3 was found to be empty.\n",
      "[WARNING] Section _i_4 was found to be empty.\n",
      "{'diff_jaccard': 0.5155164703851184, 'diff_cosine_tf': 0.9579297391216882, 'diff_cosine_tf_idf': 0.9498923631677683, 'diff_minEdit': 0.9089544315722297, 'diff_simple': 0.9405572131279736, 'sing_LoughranMcDonald': -0.00020264511103237616, '0': {'type': '10-K', 'published': datetime.date(2012, 2, 13), 'qtr': (2012, 1)}}\n",
      "[INFO] Comparing current qtr (2012, 2) to qtr (2012, 1) from 1 quarter ago.\n",
      "[INFO] No ToC found\n",
      "{'diff_jaccard': 0.8974223327427651, 'diff_cosine_tf': 0.9570542331042169, 'diff_cosine_tf_idf': 0.9393425216957912, 'diff_minEdit': 1.0, 'diff_simple': 1.0, 'sing_LoughranMcDonald': -0.0006986166836214058, '0': {'type': '10-Q', 'published': datetime.date(2011, 7, 27), 'qtr': (2011, 3)}}\n",
      "[INFO] Comparing current qtr (2011, 4) to qtr (2011, 3) from 1 quarter ago.\n",
      "{'diff_jaccard': 0.5245879003598461, 'diff_cosine_tf': 0.958354739987925, 'diff_cosine_tf_idf': 0.9521560984361835, 'diff_minEdit': 0.9526682212267252, 'diff_simple': 0.9473749672697953, 'sing_LoughranMcDonald': -0.0005025614256597411, '0': {'type': '10-Q', 'published': datetime.date(2012, 4, 24), 'qtr': (2012, 2)}}\n",
      "[INFO] Comparing current qtr (2012, 3) to qtr (2012, 2) from 1 quarter ago.\n",
      "{'diff_jaccard': 0.8747657544730807, 'diff_cosine_tf': 0.9714594596179655, 'diff_cosine_tf_idf': 0.9580349272763394, 'diff_minEdit': 1.0, 'diff_simple': 1.0, 'sing_LoughranMcDonald': -0.0006938972916554058, '0': {'type': '10-Q', 'published': datetime.date(2011, 10, 26), 'qtr': (2011, 4)}}\n",
      "[INFO] Comparing current qtr (2012, 1) to qtr (2011, 4) from 1 quarter ago.\n",
      "[INFO] Found a ToC!\n",
      "[INFO] Comparing current qtr (2011, 1) to qtr (2010, 4) from 1 quarter ago.\n",
      "[INFO] No ToC found\n",
      "{'diff_jaccard': 0.7020318032598897, 'diff_cosine_tf': 0.9821070375926538, 'diff_cosine_tf_idf': 0.9768497752755795, 'diff_minEdit': 0.8598962595111124, 'diff_simple': 0.8656587003752716, 'sing_LoughranMcDonald': -0.0003179258778169536, '0': {'type': '10-Q', 'published': datetime.date(2012, 7, 24), 'qtr': (2012, 3)}}\n",
      "[INFO] Comparing current qtr (2012, 4) to qtr (2012, 3) from 1 quarter ago.\n",
      "[INFO] Found a ToC!\n",
      "[INFO] Found a ToC!\n",
      "[INFO] Found a ToC!\n",
      "{'diff_jaccard': 0.7714999362063935, 'diff_cosine_tf': 0.9864147316309132, 'diff_cosine_tf_idf': 0.9779376910507104, 'diff_minEdit': 0.8891852530303406, 'diff_simple': 0.8423228210015596, 'sing_LoughranMcDonald': -0.00025059653875859634, '0': {'type': '10-Q', 'published': datetime.date(2012, 10, 23), 'qtr': (2012, 4)}}\n"
     ]
    },
    {
     "name": "stderr",
     "output_type": "stream",
     "text": [
      "\n",
      "  4%|▎         | 37/1000 [00:21<11:19,  1.42it/s]\u001b[A\n",
      "\n",
      "37it [00:21,  1.42it/s]\u001b[A\u001b[A"
     ]
    },
    {
     "name": "stdout",
     "output_type": "stream",
     "text": [
      "[INFO] No ToC found\n",
      "{'diff_jaccard': 0.4654586544204789, 'diff_cosine_tf': 0.9063690514894994, 'diff_cosine_tf_idf': 0.8889802339412153, 'diff_minEdit': 0.7755136352661263, 'diff_simple': 0.6854487993762539, 'sing_LoughranMcDonald': -0.0003198885390680838, '0': {'type': '10-K', 'published': datetime.date(2012, 2, 17), 'qtr': (2012, 1)}}\n",
      "[INFO] Comparing current qtr (2012, 2) to qtr (2012, 1) from 1 quarter ago.\n",
      "[INFO] No ToC found\n",
      "[INFO] Found a ToC!\n",
      "[INFO] No ToC found\n",
      "[INFO] Found a ToC!\n",
      "{'diff_jaccard': 0.4565858512364021, 'diff_cosine_tf': 0.9189156832794303, 'diff_cosine_tf_idf': 0.9097048045850092, 'diff_minEdit': 0.7792264487872108, 'diff_simple': 0.6797436714391549, 'sing_LoughranMcDonald': -0.0008266425773617923, '0': {'type': '10-Q', 'published': datetime.date(2012, 4, 26), 'qtr': (2012, 2)}}\n",
      "[INFO] Comparing current qtr (2012, 3) to qtr (2012, 2) from 1 quarter ago.\n",
      "{'diff_jaccard': 0.7169452901606637, 'diff_cosine_tf': 0.9867735929048583, 'diff_cosine_tf_idf': 0.9851167088358186, 'diff_minEdit': 0.8315191886823778, 'diff_simple': 0.43440888658367915, 'sing_LoughranMcDonald': -0.0006176362635570037, '0': {'type': '10-K', 'published': datetime.date(2011, 2, 28), 'qtr': (2011, 1)}}\n",
      "[INFO] Comparing current qtr (2011, 2) to qtr (2011, 1) from 1 quarter ago.\n",
      "[INFO] Found a ToC!\n",
      "{'diff_jaccard': 0.8816733802938679, 'diff_cosine_tf': 0.9517821571048247, 'diff_cosine_tf_idf': 0.9370412317454051, 'diff_minEdit': 1.0, 'diff_simple': 1.0, 'sing_LoughranMcDonald': -0.0007160551852574311, '0': {'type': '10-Q', 'published': datetime.date(2012, 7, 26), 'qtr': (2012, 3)}}\n",
      "[INFO] Comparing current qtr (2012, 4) to qtr (2012, 3) from 1 quarter ago.\n",
      "[INFO] Found a ToC!\n",
      "{'diff_jaccard': 0.8481945908441416, 'diff_cosine_tf': 0.9693919284155131, 'diff_cosine_tf_idf': 0.9531359388845893, 'diff_minEdit': 0.9999999999999999, 'diff_simple': 0.9999999999999999, 'sing_LoughranMcDonald': -0.000696227841622768, '0': {'type': '10-Q', 'published': datetime.date(2012, 11, 2), 'qtr': (2012, 4)}}\n"
     ]
    },
    {
     "name": "stderr",
     "output_type": "stream",
     "text": [
      "\n",
      "  4%|▍         | 38/1000 [00:21<11:26,  1.40it/s]\u001b[A\n",
      "\n",
      "38it [00:21,  1.40it/s]\u001b[A\u001b[A"
     ]
    },
    {
     "name": "stdout",
     "output_type": "stream",
     "text": [
      "{'diff_jaccard': 0.7649758813863531, 'diff_cosine_tf': 0.9897114913347785, 'diff_cosine_tf_idf': 0.9879428442201017, 'diff_minEdit': 0.9003040494467124, 'diff_simple': 0.9321709500237336, 'sing_LoughranMcDonald': -0.0008314166672243802, '0': {'type': '10-Q', 'published': datetime.date(2011, 5, 9), 'qtr': (2011, 2)}}\n",
      "[INFO] Comparing current qtr (2011, 3) to qtr (2011, 2) from 1 quarter ago.\n",
      "[INFO] Found a ToC!\n",
      "[INFO] Found a ToC!\n",
      "[INFO] Found a ToC!\n",
      "[INFO] Found a ToC!\n",
      "[INFO] Found a ToC!\n",
      "{'diff_jaccard': 0.8857219992855362, 'diff_cosine_tf': 0.9896736897189239, 'diff_cosine_tf_idf': 0.9876241968919783, 'diff_minEdit': 1.0, 'diff_simple': 1.0, 'sing_LoughranMcDonald': -0.0007480239712417668, '0': {'type': '10-Q', 'published': datetime.date(2011, 8, 9), 'qtr': (2011, 3)}}\n",
      "[INFO] Found a ToC!\n",
      "[INFO] Comparing current qtr (2011, 3) to qtr (2011, 2) from 1 quarter ago.\n",
      "[INFO] Comparing current qtr (2011, 4) to qtr (2011, 3) from 1 quarter ago.\n",
      "[ERROR] Here is full_sect: |[]|\n",
      "[ERROR] Original res: {'_i_1': [], '_i_2': [], '_i_3': [], '_i_4': [], 'ii_1': [], 'ii_1a': [], 'ii_2': [], 'ii_3': [], 'ii_4': [], 'ii_5': [], 'ii_6': []}\n",
      "[WARNING] /home/alex/Desktop/filtered_text_data/nd_data/2010/QTR2/20100430_10-Q_edgar_data_82020_0000950123-10-041427_1.txt failed parsing\n"
     ]
    },
    {
     "name": "stderr",
     "output_type": "stream",
     "text": [
      "\n",
      "  4%|▍         | 39/1000 [00:22<10:51,  1.48it/s]\u001b[A\n",
      "\n",
      "39it [00:22,  1.48it/s]\u001b[A\u001b[A"
     ]
    },
    {
     "name": "stdout",
     "output_type": "stream",
     "text": [
      "{'diff_jaccard': 0.8448730208413127, 'diff_cosine_tf': 0.9883036622629892, 'diff_cosine_tf_idf': 0.9840592128231365, 'diff_minEdit': 0.9999126179657462, 'diff_simple': 0.9999631695558103, 'sing_LoughranMcDonald': -0.0019506740369274965, '0': {'type': '10-Q', 'published': datetime.date(2011, 8, 12), 'qtr': (2011, 3)}}\n",
      "[INFO] Comparing current qtr (2011, 4) to qtr (2011, 3) from 1 quarter ago.\n",
      "{'diff_jaccard': 0.01183696364350292, 'diff_cosine_tf': 0.41447226001686505, 'diff_cosine_tf_idf': 0.3183958751267032, 'diff_minEdit': 0.9580597365308754, 'diff_simple': 0.8199333813942252, 'sing_LoughranMcDonald': 0.0, '0': {'type': '10-Q', 'published': datetime.date(2011, 11, 10), 'qtr': (2011, 4)}}\n",
      "[INFO] Comparing current qtr (2012, 1) to qtr (2011, 4) from 1 quarter ago.\n",
      "[INFO] Found a ToC!\n",
      "{'diff_jaccard': 0.8991345919832432, 'diff_cosine_tf': 0.9967920445003874, 'diff_cosine_tf_idf': 0.9956166352546241, 'diff_minEdit': 1.0000000000000002, 'diff_simple': 1.0000000000000002, 'sing_LoughranMcDonald': -0.000701183229485235, '0': {'type': '10-Q', 'published': datetime.date(2011, 11, 8), 'qtr': (2011, 4)}}\n",
      "[INFO] Comparing current qtr (2012, 1) to qtr (2011, 4) from 1 quarter ago.\n",
      "{'diff_jaccard': 0.003169378416077342, 'diff_cosine_tf': 0.14304253147164814, 'diff_cosine_tf_idf': 0.11063517047731776, 'diff_minEdit': 0.8963281639102134, 'diff_simple': 0.3588178179988729, 'sing_LoughranMcDonald': -0.00049774924765289, '0': {'type': '10-K', 'published': datetime.date(2012, 3, 6), 'qtr': (2012, 1)}}\n",
      "[INFO] Comparing current qtr (2012, 2) to qtr (2012, 1) from 1 quarter ago.\n",
      "{'diff_jaccard': 0.3881179587602823, 'diff_cosine_tf': 0.6382347610182832, 'diff_cosine_tf_idf': 0.5921658569306917, 'diff_minEdit': 0.6822596970908728, 'diff_simple': 0.652351537185903, 'sing_LoughranMcDonald': -0.0025088183306124522, '0': {'type': '10-Q', 'published': datetime.date(2012, 5, 14), 'qtr': (2012, 2)}}\n",
      "[INFO] Comparing current qtr (2012, 3) to qtr (2012, 2) from 1 quarter ago.\n",
      "[INFO] No ToC found\n",
      "[INFO] No ToC found\n",
      "{'diff_jaccard': 0.8918363935759631, 'diff_cosine_tf': 0.987038073144308, 'diff_cosine_tf_idf': 0.9812431659153846, 'diff_minEdit': 1.0, 'diff_simple': 1.0, 'sing_LoughranMcDonald': -0.0021911369799878268, '0': {'type': '10-Q', 'published': datetime.date(2012, 8, 13), 'qtr': (2012, 3)}}\n",
      "[INFO] Comparing current qtr (2012, 4) to qtr (2012, 3) from 1 quarter ago.\n",
      "[INFO] Found a ToC!\n",
      "[INFO] Found a ToC!\n",
      "[INFO] No ToC found\n",
      "[WARNING] Section _i_2 was found to be empty.\n",
      "[WARNING] Section ii_1 was found to be empty.\n",
      "{'diff_jaccard': 0.9130768280116917, 'diff_cosine_tf': 0.9937204682513198, 'diff_cosine_tf_idf': 0.9920174527274177, 'diff_minEdit': 1.0, 'diff_simple': 1.0, 'sing_LoughranMcDonald': -0.00215185407547083, '0': {'type': '10-Q', 'published': datetime.date(2012, 11, 14), 'qtr': (2012, 4)}}\n"
     ]
    },
    {
     "name": "stderr",
     "output_type": "stream",
     "text": [
      "\n",
      "  4%|▍         | 40/1000 [00:23<12:06,  1.32it/s]\u001b[A\n",
      "\n",
      "40it [00:23,  1.32it/s]\u001b[A\u001b[A"
     ]
    },
    {
     "name": "stdout",
     "output_type": "stream",
     "text": [
      "{'diff_jaccard': 0.7822976915111072, 'diff_cosine_tf': 0.9909912368114437, 'diff_cosine_tf_idf': 0.9899770187582433, 'diff_minEdit': 0.9019289577854983, 'diff_simple': 0.9347713853967068, 'sing_LoughranMcDonald': -0.0006296491453955356, '0': {'type': '10-K', 'published': datetime.date(2012, 2, 24), 'qtr': (2012, 1)}}\n",
      "[INFO] Comparing current qtr (2012, 2) to qtr (2012, 1) from 1 quarter ago.\n",
      "[INFO] Found a ToC!\n",
      "[INFO] Found a ToC!\n",
      "[INFO] No ToC found\n",
      "[INFO] No ToC found\n",
      "This is the res {'_i_3': [(68383, 68404)], '_i_4': [(72560, 72577)], 'ii_1a': [(75328, 75342)], 'ii_5': [], 'ii_6': [(153877, 153894)]}\n",
      "[INFO] Found a ToC!\n",
      "[WARNING] /home/alex/Desktop/filtered_text_data/nd_data/2010/QTR3/20100722_10-Q_edgar_data_901219_0000950123-10-067270_1.txt failed parsing\n"
     ]
    },
    {
     "name": "stderr",
     "output_type": "stream",
     "text": [
      "\n",
      "  4%|▍         | 41/1000 [00:23<09:43,  1.64it/s]\u001b[A\n",
      "\n",
      "41it [00:23,  1.64it/s]\u001b[A\u001b[A"
     ]
    },
    {
     "name": "stdout",
     "output_type": "stream",
     "text": [
      "[INFO] No ToC found\n",
      "[INFO] No ToC found\n",
      "{'diff_jaccard': 0.8285490390452879, 'diff_cosine_tf': 0.991896115289482, 'diff_cosine_tf_idf': 0.9906163460784797, 'diff_minEdit': 0.9033919838285759, 'diff_simple': 0.9370183252736065, 'sing_LoughranMcDonald': -0.0008282319585054319, '0': {'type': '10-Q', 'published': datetime.date(2012, 5, 7), 'qtr': (2012, 2)}}\n",
      "[INFO] Comparing current qtr (2012, 3) to qtr (2012, 2) from 1 quarter ago.\n",
      "[INFO] No ToC found\n",
      "[INFO] Found a ToC!\n",
      "[INFO] No ToC found\n",
      "[INFO] Found a ToC!\n",
      "[INFO] Found a ToC!\n",
      "{'diff_jaccard': 0.8678848138208828, 'diff_cosine_tf': 0.9810454824381147, 'diff_cosine_tf_idf': 0.9795937924267295, 'diff_minEdit': 0.9505445954314389, 'diff_simple': 0.7817495871035897, 'sing_LoughranMcDonald': -0.0005244854425718204, '0': {'type': '10-Q', 'published': datetime.date(2012, 8, 7), 'qtr': (2012, 3)}}\n",
      "[INFO] Comparing current qtr (2012, 4) to qtr (2012, 3) from 1 quarter ago.\n",
      "[INFO] Found a ToC!\n",
      "[ERROR] Here is full_sect: |[]|\n",
      "[ERROR] Original res: {'_i_1': [], '_i_2': [], '_i_3': [], '_i_4': [], 'ii_1': [], 'ii_1a': [], 'ii_2': [], 'ii_3': [], 'ii_4': [], 'ii_5': [], 'ii_6': []}\n",
      "[WARNING] /home/alex/Desktop/filtered_text_data/nd_data/2010/QTR2/20100506_10-Q_edgar_data_1089638_0001144204-10-025007_1.txt failed parsing\n"
     ]
    },
    {
     "name": "stderr",
     "output_type": "stream",
     "text": [
      "\n",
      "  4%|▍         | 42/1000 [00:24<10:56,  1.46it/s]\u001b[A\n",
      "\n",
      "42it [00:24,  1.46it/s]\u001b[A\u001b[A"
     ]
    },
    {
     "name": "stdout",
     "output_type": "stream",
     "text": [
      "[INFO] Found a ToC!\n",
      "[INFO] Comparing current qtr (2010, 2) to qtr (2010, 1) from 1 quarter ago.\n",
      "[INFO] No ToC found\n",
      "[INFO] No ToC found\n",
      "[WARNING] Section _i_3 was found to be empty.\n",
      "[INFO] No ToC found\n",
      "[WARNING] Section _i_3 was found to be empty.\n",
      "[INFO] No ToC found\n",
      "[WARNING] Section _i_3 was found to be empty.\n",
      "[INFO] Found a ToC!\n",
      "{'diff_jaccard': 0.8831749258226443, 'diff_cosine_tf': 0.9842585559815853, 'diff_cosine_tf_idf': 0.982896970744958, 'diff_minEdit': 0.9965215821878755, 'diff_simple': 0.9894362034194317, 'sing_LoughranMcDonald': -0.0006967102045376446, '0': {'type': '10-Q', 'published': datetime.date(2012, 11, 9), 'qtr': (2012, 4)}}\n"
     ]
    },
    {
     "name": "stderr",
     "output_type": "stream",
     "text": [
      "\n",
      "  4%|▍         | 43/1000 [00:24<09:52,  1.61it/s]\u001b[A"
     ]
    },
    {
     "name": "stdout",
     "output_type": "stream",
     "text": [
      "{'diff_jaccard': 0.33497526800011324, 'diff_cosine_tf': 0.8760470509632919, 'diff_cosine_tf_idf': 0.8634964226049816, 'diff_minEdit': 0.801690069926358, 'diff_simple': 0.7067603719708655, 'sing_LoughranMcDonald': -0.0005472028192717783, '0': {'type': '10-Q', 'published': datetime.date(2010, 5, 7), 'qtr': (2010, 2)}}\n"
     ]
    },
    {
     "name": "stderr",
     "output_type": "stream",
     "text": [
      "\n",
      "\n",
      "43it [00:24,  1.60it/s]\u001b[A\u001b[A"
     ]
    },
    {
     "name": "stdout",
     "output_type": "stream",
     "text": [
      "[INFO] Comparing current qtr (2010, 3) to qtr (2010, 2) from 1 quarter ago.\n",
      "{'diff_jaccard': 0.7144410988795387, 'diff_cosine_tf': 0.9432372412267478, 'diff_cosine_tf_idf': 0.9387682875466483, 'diff_minEdit': 1.0, 'diff_simple': 1.0, 'sing_LoughranMcDonald': -0.000434232415165593, '0': {'type': '10-Q', 'published': datetime.date(2010, 8, 6), 'qtr': (2010, 3)}}\n",
      "[INFO] Comparing current qtr (2010, 4) to qtr (2010, 3) from 1 quarter ago.\n",
      "[INFO] Found a ToC!\n",
      "{'diff_jaccard': 0.6961151061318082, 'diff_cosine_tf': 0.9636765303990075, 'diff_cosine_tf_idf': 0.9560152758585603, 'diff_minEdit': 1.0, 'diff_simple': 1.0, 'sing_LoughranMcDonald': -0.00046541604531876953, '0': {'type': '10-Q', 'published': datetime.date(2010, 11, 5), 'qtr': (2010, 4)}}\n",
      "[INFO] Comparing current qtr (2011, 1) to qtr (2010, 4) from 1 quarter ago.\n",
      "[INFO] Found a ToC!\n",
      "[INFO] No ToC found\n",
      "This is the res {'1a': [(145018, 145034)], '5': [], '6': [(143905, 143922), (145243, 145261)], '7': [(88086, 88106), (144263, 144284)], '8': [(144364, 144384), (145277, 145297)], '9': [(197804, 197820)]}\n",
      "[WARNING] /home/alex/Desktop/filtered_text_data/nd_data/2010/QTR1/20100325_10-K_edgar_data_1114220_0001144204-10-015670_1.txt failed parsing\n"
     ]
    },
    {
     "name": "stderr",
     "output_type": "stream",
     "text": [
      "\n",
      "  4%|▍         | 44/1000 [00:25<10:34,  1.51it/s]\u001b[A\n",
      "\n",
      "44it [00:25,  1.51it/s]\u001b[A\u001b[A"
     ]
    },
    {
     "name": "stdout",
     "output_type": "stream",
     "text": [
      "[INFO] No ToC found\n",
      "[INFO] Found a ToC!\n",
      "[WARNING] Section _i_3 was found to be empty.\n",
      "[INFO] Found a ToC!\n",
      "[INFO] No ToC found\n",
      "[WARNING] Section _i_3 was found to be empty.\n",
      "[INFO] No ToC found\n",
      "[INFO] No ToC found\n",
      "[INFO] No ToC found\n",
      "[WARNING] Section _i_3 was found to be empty.\n",
      "[INFO] Found a ToC!\n",
      "[INFO] No ToC found\n",
      "This is the res {'1': [(231317, 231336)], '1a': [], '1b': [(121705, 121725)], '2': [(121750, 121769), (231342, 231363)], '3': [(5377, 5396), (204218, 204232)], '5': [(5509, 5529), (208048, 208063)], '6': [(5652, 5674), (230680, 230697)], '7': [(5706, 5730), (231074, 231095), (231469, 231488)], '7a': [(5827, 5854), (261627, 261649)], '8': [(5918, 5941), (36499, 36518), (261714, 261732)], '9': [(5992, 6013), (261987, 262003)], '9a': [(6111, 6134)], '9b': [(6166, 6186), (267075, 267090)], '10': [(6244, 6268), (267122, 267141)], '11': [(6330, 6354), (267722, 267741)], '12': [(6384, 6407), (267885, 267903)], '13': [(6510, 6532), (268116, 268133)], '14': [(6619, 6643), (268330, 268349)], '15': [(6719, 6742), (268519, 268537)]}\n",
      "[WARNING] /home/alex/Desktop/filtered_text_data/nd_data/2012/QTR1/20120309_10-K_edgar_data_1319009_0001144204-12-014022_1.txt failed parsing\n",
      "[INFO] No ToC found\n"
     ]
    },
    {
     "name": "stderr",
     "output_type": "stream",
     "text": [
      "\n",
      "  4%|▍         | 45/1000 [00:26<09:55,  1.60it/s]\u001b[A\n",
      "\n",
      "45it [00:26,  1.61it/s]\u001b[A\u001b[A"
     ]
    },
    {
     "name": "stdout",
     "output_type": "stream",
     "text": [
      "{'diff_jaccard': 0.3392436929354477, 'diff_cosine_tf': 0.8728351379759356, 'diff_cosine_tf_idf': 0.8520653098887434, 'diff_minEdit': 0.7930451351939798, 'diff_simple': 0.7048770514997171, 'sing_LoughranMcDonald': -0.0003770419962841446, '0': {'type': '10-K', 'published': datetime.date(2011, 3, 1), 'qtr': (2011, 1)}}\n",
      "[INFO] Comparing current qtr (2011, 2) to qtr (2011, 1) from 1 quarter ago.\n",
      "[INFO] Found a ToC!\n",
      "[INFO] Found a ToC!\n",
      "[INFO] No ToC found\n",
      "[INFO] No ToC found\n",
      "{'diff_jaccard': 0.31311628490354615, 'diff_cosine_tf': 0.859541819049537, 'diff_cosine_tf_idf': 0.8433017843467123, 'diff_minEdit': 0.7877809139605426, 'diff_simple': 0.6931216734168179, 'sing_LoughranMcDonald': -0.000637271437260256, '0': {'type': '10-Q', 'published': datetime.date(2011, 5, 10), 'qtr': (2011, 2)}}\n",
      "[INFO] Comparing current qtr (2011, 3) to qtr (2011, 2) from 1 quarter ago.\n",
      "[INFO] No ToC found\n",
      "[INFO] Comparing current qtr (2010, 2) to qtr (2010, 1) from 1 quarter ago.\n",
      "[INFO] Found a ToC!\n",
      "{'diff_jaccard': 0.6992858409381002, 'diff_cosine_tf': 0.9283629355017973, 'diff_cosine_tf_idf': 0.9218704992966047, 'diff_minEdit': 0.9354442691058402, 'diff_simple': 0.9908828676994877, 'sing_LoughranMcDonald': -0.0007899062921849754, '0': {'type': '10-Q', 'published': datetime.date(2011, 8, 9), 'qtr': (2011, 3)}}\n",
      "[INFO] Comparing current qtr (2011, 4) to qtr (2011, 3) from 1 quarter ago.\n",
      "[INFO] No ToC found\n",
      "[WARNING] Section _i_3 was found to be empty.\n",
      "[WARNING] Section ii_1a was found to be empty.\n",
      "[INFO] No ToC found\n",
      "[INFO] No ToC found\n",
      "[WARNING] Section _i_2 was found to be empty.\n",
      "[INFO] No ToC found\n",
      "[WARNING] Section _i_3 was found to be empty.\n",
      "{'diff_jaccard': 0.8120598552571887, 'diff_cosine_tf': 0.9877864502367878, 'diff_cosine_tf_idf': 0.9844041931402837, 'diff_minEdit': 0.8872048009275247, 'diff_simple': 0.9477940447236062, 'sing_LoughranMcDonald': -0.0003699962858103285, '0': {'type': '10-Q', 'published': datetime.date(2010, 5, 10), 'qtr': (2010, 2)}}\n",
      "[INFO] Comparing current qtr (2010, 3) to qtr (2010, 2) from 1 quarter ago.\n",
      "[INFO] No ToC found\n",
      "[WARNING] Section _i_2 was found to be empty.\n",
      "{'diff_jaccard': 0.6617709456246089, 'diff_cosine_tf': 0.9599551294387919, 'diff_cosine_tf_idf': 0.94082893485009, 'diff_minEdit': 0.9332516134438106, 'diff_simple': 0.9905277695036421, 'sing_LoughranMcDonald': -0.0008897981424661889, '0': {'type': '10-Q', 'published': datetime.date(2011, 11, 9), 'qtr': (2011, 4)}}\n",
      "[INFO] Comparing current qtr (2012, 1) to qtr (2011, 4) from 1 quarter ago.\n",
      "[INFO] No ToC found\n",
      "[WARNING] Section _i_2 was found to be empty.\n",
      "[INFO] No ToC found\n",
      "[WARNING] Section _i_3 was found to be empty.\n",
      "[INFO] Comparing current qtr (2010, 2) to qtr (2010, 1) from 1 quarter ago.\n",
      "{'diff_jaccard': 0.9137293714467303, 'diff_cosine_tf': 0.9933812405371362, 'diff_cosine_tf_idf': 0.9921410443560795, 'diff_minEdit': 0.9976224963788023, 'diff_simple': 0.9961365566155538, 'sing_LoughranMcDonald': -0.0005284538595699593, '0': {'type': '10-Q', 'published': datetime.date(2010, 8, 6), 'qtr': (2010, 3)}}\n",
      "[INFO] Comparing current qtr (2010, 4) to qtr (2010, 3) from 1 quarter ago.\n",
      "{'diff_jaccard': 0.30816012323115144, 'diff_cosine_tf': 0.8390986144102681, 'diff_cosine_tf_idf': 0.8237038418109747, 'diff_minEdit': 0.833929107848793, 'diff_simple': 0.7238684835368646, 'sing_LoughranMcDonald': -0.0009077899626382366, '0': {'type': '10-Q', 'published': datetime.date(2010, 5, 7), 'qtr': (2010, 2)}}\n",
      "[INFO] Comparing current qtr (2010, 3) to qtr (2010, 2) from 1 quarter ago.\n",
      "[INFO] No ToC found\n",
      "[INFO] Found a ToC!\n",
      "{'diff_jaccard': 0.7045384411104435, 'diff_cosine_tf': 0.962138634041093, 'diff_cosine_tf_idf': 0.9531170059865439, 'diff_minEdit': 1.0, 'diff_simple': 1.0, 'sing_LoughranMcDonald': -0.0007444799439493737, '0': {'type': '10-Q', 'published': datetime.date(2010, 8, 6), 'qtr': (2010, 3)}}\n",
      "[INFO] Comparing current qtr (2010, 4) to qtr (2010, 3) from 1 quarter ago.\n",
      "[INFO] Found a ToC!\n",
      "{'diff_jaccard': 0.32936688170754097, 'diff_cosine_tf': 0.8557227466749144, 'diff_cosine_tf_idf': 0.8405183937702353, 'diff_minEdit': 0.7865638921642755, 'diff_simple': 0.6947929136463441, 'sing_LoughranMcDonald': -0.0003240135578440655, '0': {'type': '10-K', 'published': datetime.date(2012, 2, 29), 'qtr': (2012, 1)}}\n",
      "[INFO] Comparing current qtr (2012, 2) to qtr (2012, 1) from 1 quarter ago.\n",
      "[INFO] No ToC found\n",
      "[INFO] No ToC found\n",
      "{'diff_jaccard': 0.6043505886504298, 'diff_cosine_tf': 0.9700892151893143, 'diff_cosine_tf_idf': 0.9682953274848293, 'diff_minEdit': 1.0, 'diff_simple': 1.0, 'sing_LoughranMcDonald': -0.000583848193652699, '0': {'type': '10-Q', 'published': datetime.date(2010, 11, 8), 'qtr': (2010, 4)}}\n",
      "[INFO] Comparing current qtr (2011, 1) to qtr (2010, 4) from 1 quarter ago.\n",
      "{'diff_jaccard': 0.874811830421923, 'diff_cosine_tf': 0.9955147149463055, 'diff_cosine_tf_idf': 0.9946705498944972, 'diff_minEdit': 1.0, 'diff_simple': 1.0, 'sing_LoughranMcDonald': -0.00048014084329602263, '0': {'type': '10-Q', 'published': datetime.date(2010, 11, 9), 'qtr': (2010, 4)}}\n",
      "[INFO] Comparing current qtr (2011, 1) to qtr (2010, 4) from 1 quarter ago.\n",
      "[INFO] No ToC found\n",
      "[INFO] Found a ToC!\n",
      "[WARNING] Section 7a was found to be empty.\n",
      "{'diff_jaccard': 0.28720054975225673, 'diff_cosine_tf': 0.8587379962703425, 'diff_cosine_tf_idf': 0.8439753580798489, 'diff_minEdit': 0.7826830967321322, 'diff_simple': 0.6850232187648296, 'sing_LoughranMcDonald': -0.0014162734395462616, '0': {'type': '10-Q', 'published': datetime.date(2012, 5, 9), 'qtr': (2012, 2)}}\n",
      "{'diff_jaccard': 0.360013774604922, 'diff_cosine_tf': 0.8490350264022343, 'diff_cosine_tf_idf': 0.8363417886811405, 'diff_minEdit': 0.8693938696337258, 'diff_simple': 0.7226788833271851, 'sing_LoughranMcDonald': -0.0006943084394199185, '0': {'type': '10-K', 'published': datetime.date(2011, 3, 15), 'qtr': (2011, 1)}}\n",
      "[INFO] Comparing current qtr (2012, 3) to qtr (2012, 2) from 1 quarter ago.\n",
      "[INFO] Comparing current qtr (2011, 2) to qtr (2011, 1) from 1 quarter ago.\n",
      "[INFO] No ToC found\n",
      "[INFO] No ToC found\n",
      "[INFO] Found a ToC!\n",
      "{'diff_jaccard': 0.33207501456017496, 'diff_cosine_tf': 0.8293242110846674, 'diff_cosine_tf_idf': 0.815203904515711, 'diff_minEdit': 0.8323843798139222, 'diff_simple': 0.7194505627784027, 'sing_LoughranMcDonald': -0.0009077113776322399, '0': {'type': '10-Q', 'published': datetime.date(2011, 5, 10), 'qtr': (2011, 2)}}\n",
      "[INFO] Comparing current qtr (2011, 3) to qtr (2011, 2) from 1 quarter ago.\n",
      "[INFO] Found a ToC!\n",
      "{'diff_jaccard': 0.6671528623121534, 'diff_cosine_tf': 0.9406634788038977, 'diff_cosine_tf_idf': 0.916269855062047, 'diff_minEdit': 0.9907530647125848, 'diff_simple': 0.9906007622490276, 'sing_LoughranMcDonald': -0.0009636298290448952, '0': {'type': '10-Q', 'published': datetime.date(2012, 8, 3), 'qtr': (2012, 3)}}\n",
      "[INFO] Comparing current qtr (2012, 4) to qtr (2012, 3) from 1 quarter ago.\n",
      "[INFO] No ToC found\n",
      "{'diff_jaccard': 0.7614543724761647, 'diff_cosine_tf': 0.987809063534147, 'diff_cosine_tf_idf': 0.9850727754798146, 'diff_minEdit': 0.9277476353063505, 'diff_simple': 0.9386552697231196, 'sing_LoughranMcDonald': -0.0005159839908955676, '0': {'type': '10-K', 'published': datetime.date(2011, 3, 1), 'qtr': (2011, 1)}}\n",
      "[INFO] No ToC found\n",
      "[INFO] Comparing current qtr (2011, 2) to qtr (2011, 1) from 1 quarter ago.\n",
      "{'diff_jaccard': 0.6602497974468525, 'diff_cosine_tf': 0.9525969910444315, 'diff_cosine_tf_idf': 0.9484840898856348, 'diff_minEdit': 0.9907776995121443, 'diff_simple': 0.9843484386006106, 'sing_LoughranMcDonald': -0.0011755997638868156, '0': {'type': '10-Q', 'published': datetime.date(2011, 8, 5), 'qtr': (2011, 3)}}\n",
      "[INFO] Comparing current qtr (2011, 4) to qtr (2011, 3) from 1 quarter ago.\n",
      "[INFO] No ToC found\n",
      "[WARNING] Section _i_2 was found to be empty.\n",
      "{'diff_jaccard': 0.7177129621692407, 'diff_cosine_tf': 0.9677908990547021, 'diff_cosine_tf_idf': 0.9533408866008054, 'diff_minEdit': 1.0, 'diff_simple': 1.0, 'sing_LoughranMcDonald': -0.000989557557638322, '0': {'type': '10-Q', 'published': datetime.date(2012, 11, 9), 'qtr': (2012, 4)}}\n"
     ]
    },
    {
     "name": "stderr",
     "output_type": "stream",
     "text": [
      "\n",
      "  5%|▍         | 46/1000 [00:28<19:57,  1.25s/it]\u001b[A\n",
      "\n",
      "46it [00:28,  1.25s/it]\u001b[A\u001b[A"
     ]
    },
    {
     "name": "stdout",
     "output_type": "stream",
     "text": [
      "{'diff_jaccard': 0.688872299472762, 'diff_cosine_tf': 0.9687514475550412, 'diff_cosine_tf_idf': 0.9510685175736859, 'diff_minEdit': 0.9284241115054261, 'diff_simple': 0.9751990433575066, 'sing_LoughranMcDonald': -0.0008849297218015892, '0': {'type': '10-Q', 'published': datetime.date(2011, 11, 7), 'qtr': (2011, 4)}}\n",
      "[INFO] Comparing current qtr (2012, 1) to qtr (2011, 4) from 1 quarter ago.\n",
      "[INFO] No ToC found\n",
      "[WARNING] Section _i_2 was found to be empty.\n",
      "{'diff_jaccard': 0.007667037101452379, 'diff_cosine_tf': 0.38243519889545186, 'diff_cosine_tf_idf': 0.28958911654178143, 'diff_minEdit': 0.9252929462637974, 'diff_simple': 0.8170990252268149, 'sing_LoughranMcDonald': 0.0, '0': {'type': '10-K', 'published': datetime.date(2012, 3, 13), 'qtr': (2012, 1)}}\n",
      "[INFO] Comparing current qtr (2012, 2) to qtr (2012, 1) from 1 quarter ago.\n",
      "[INFO] Found a ToC!\n",
      "{'diff_jaccard': 0.790316139117008, 'diff_cosine_tf': 0.9882259151041548, 'diff_cosine_tf_idf': 0.9863448337284886, 'diff_minEdit': 0.8925291965549088, 'diff_simple': 0.9524457394303383, 'sing_LoughranMcDonald': -0.0005262488561875064, '0': {'type': '10-Q', 'published': datetime.date(2011, 5, 6), 'qtr': (2011, 2)}}\n",
      "[INFO] Comparing current qtr (2011, 3) to qtr (2011, 2) from 1 quarter ago.\n",
      "{'diff_jaccard': 0.008309632105914367, 'diff_cosine_tf': 0.3869083765296808, 'diff_cosine_tf_idf': 0.29325268581629516, 'diff_minEdit': 0.9576218579570689, 'diff_simple': 0.816564131476702, 'sing_LoughranMcDonald': -0.0006238228314334861, '0': {'type': '10-Q', 'published': datetime.date(2012, 5, 7), 'qtr': (2012, 2)}}\n",
      "[INFO] Comparing current qtr (2012, 3) to qtr (2012, 2) from 1 quarter ago.\n",
      "[INFO] Found a ToC!\n",
      "{'diff_jaccard': 0.6253488575235063, 'diff_cosine_tf': 0.9620897888209636, 'diff_cosine_tf_idf': 0.9481627828207363, 'diff_minEdit': 0.9355677265652004, 'diff_simple': 0.9876029611051084, 'sing_LoughranMcDonald': -0.0011551328992372874, '0': {'type': '10-Q', 'published': datetime.date(2012, 8, 6), 'qtr': (2012, 3)}}\n",
      "[INFO] Comparing current qtr (2012, 4) to qtr (2012, 3) from 1 quarter ago.\n",
      "{'diff_jaccard': 0.6988174811185558, 'diff_cosine_tf': 0.9826335844546861, 'diff_cosine_tf_idf': 0.9809456632974182, 'diff_minEdit': 1.0, 'diff_simple': 1.0, 'sing_LoughranMcDonald': -0.000993673631724048, '0': {'type': '10-Q', 'published': datetime.date(2012, 11, 8), 'qtr': (2012, 4)}}\n"
     ]
    },
    {
     "name": "stderr",
     "output_type": "stream",
     "text": [
      "\n",
      "  5%|▍         | 47/1000 [00:29<16:48,  1.06s/it]\u001b[A\n",
      "\n",
      "47it [00:29,  1.06s/it]\u001b[A\u001b[A"
     ]
    },
    {
     "name": "stdout",
     "output_type": "stream",
     "text": [
      "[INFO] No ToC found\n",
      "[INFO] Found a ToC!\n",
      "{'diff_jaccard': 0.9416171611564611, 'diff_cosine_tf': 0.9971968614721218, 'diff_cosine_tf_idf': 0.9963966100666856, 'diff_minEdit': 0.9497750678694303, 'diff_simple': 0.9919758056359111, 'sing_LoughranMcDonald': -0.0005048774724006376, '0': {'type': '10-Q', 'published': datetime.date(2011, 8, 5), 'qtr': (2011, 3)}}\n",
      "[INFO] Comparing current qtr (2010, 2) to qtr (2010, 1) from 1 quarter ago.\n",
      "[INFO] Comparing current qtr (2011, 4) to qtr (2011, 3) from 1 quarter ago.\n",
      "[INFO] Found a ToC!\n",
      "[INFO] Found a ToC!\n",
      "[INFO] Found a ToC!\n",
      "[WARNING] Section 1a was found to be empty.\n",
      "[WARNING] Section 7a was found to be empty.\n",
      "[INFO] No ToC found\n",
      "[WARNING] Section ii_1a was found to be empty.\n",
      "[INFO] Found a ToC!\n",
      "{'diff_jaccard': 0.9551891449826965, 'diff_cosine_tf': 0.9980210236995608, 'diff_cosine_tf_idf': 0.9975985250329883, 'diff_minEdit': 0.949565595580354, 'diff_simple': 0.9919418410965504, 'sing_LoughranMcDonald': -0.0005034599039665242, '0': {'type': '10-Q', 'published': datetime.date(2011, 11, 4), 'qtr': (2011, 4)}}\n",
      "[INFO] No ToC found\n",
      "[INFO] Comparing current qtr (2012, 1) to qtr (2011, 4) from 1 quarter ago.\n",
      "[INFO] Found a ToC!\n",
      "{'diff_jaccard': 0.7505976575168207, 'diff_cosine_tf': 0.9894915261332227, 'diff_cosine_tf_idf': 0.9882604522715904, 'diff_minEdit': 0.7824883331208645, 'diff_simple': 0.5944477683211146, 'sing_LoughranMcDonald': -0.00039412389943585974, '0': {'type': '10-Q', 'published': datetime.date(2010, 5, 10), 'qtr': (2010, 2)}}\n",
      "[INFO] No ToC found\n",
      "[INFO] No ToC found\n",
      "[INFO] Comparing current qtr (2010, 3) to qtr (2010, 2) from 1 quarter ago.\n",
      "[INFO] Found a ToC!\n",
      "[INFO] Found a ToC!\n",
      "[INFO] No ToC found\n",
      "[INFO] Found a ToC!\n",
      "[INFO] Comparing current qtr (2010, 2) to qtr (2010, 1) from 1 quarter ago.\n",
      "[INFO] Comparing current qtr (2010, 2) to qtr (2010, 1) from 1 quarter ago.\n",
      "[INFO] No ToC found\n",
      "[INFO] Found a ToC!\n",
      "[INFO] Comparing current qtr (2010, 2) to qtr (2010, 1) from 1 quarter ago.\n",
      "{'diff_jaccard': 0.7598204743205406, 'diff_cosine_tf': 0.9872943107551682, 'diff_cosine_tf_idf': 0.9838904506726993, 'diff_minEdit': 0.9275299522804142, 'diff_simple': 0.9370068299062705, 'sing_LoughranMcDonald': -0.0004240220323927306, '0': {'type': '10-K', 'published': datetime.date(2012, 2, 29), 'qtr': (2012, 1)}}\n",
      "[INFO] Comparing current qtr (2012, 2) to qtr (2012, 1) from 1 quarter ago.\n",
      "{'diff_jaccard': 0.06398503251880726, 'diff_cosine_tf': 0.3044631337744003, 'diff_cosine_tf_idf': 0.2540960020734357, 'diff_minEdit': 0.6494456372710159, 'diff_simple': 0.3777771455788268, 'sing_LoughranMcDonald': -0.012121468935078015, '0': {'type': '10-Q', 'published': datetime.date(2010, 5, 6), 'qtr': (2010, 2)}}\n",
      "{'diff_jaccard': 0.4274519153112795, 'diff_cosine_tf': 0.8207910203093732, 'diff_cosine_tf_idf': 0.794254161916549, 'diff_minEdit': 0.8154817806089045, 'diff_simple': 0.8051396128261847, 'sing_LoughranMcDonald': -0.00022369339510798554, '0': {'type': '10-Q', 'published': datetime.date(2010, 5, 19), 'qtr': (2010, 2)}}\n",
      "[INFO] Comparing current qtr (2010, 3) to qtr (2010, 2) from 1 quarter ago.\n"
     ]
    },
    {
     "name": "stderr",
     "output_type": "stream",
     "text": [
      "\n",
      "  5%|▍         | 48/1000 [00:30<17:51,  1.13s/it]\u001b[A\n",
      "\n",
      "48it [00:30,  1.13s/it]\u001b[A\u001b[A"
     ]
    },
    {
     "name": "stdout",
     "output_type": "stream",
     "text": [
      "{'diff_jaccard': 0.8442273007059766, 'diff_cosine_tf': 0.9380556526998518, 'diff_cosine_tf_idf': 0.9228974028515451, 'diff_minEdit': 1.0, 'diff_simple': 1.0, 'sing_LoughranMcDonald': -0.005262772350932851, '0': {'type': '10-Q', 'published': datetime.date(2010, 8, 5), 'qtr': (2010, 3)}}\n",
      "[INFO] Comparing current qtr (2010, 4) to qtr (2010, 3) from 1 quarter ago.\n",
      "{'diff_jaccard': 0.8697832654234912, 'diff_cosine_tf': 0.9958885481891298, 'diff_cosine_tf_idf': 0.9953170621878065, 'diff_minEdit': 0.9994113403206115, 'diff_simple': 0.9991994228360316, 'sing_LoughranMcDonald': -0.0003774290969610678, '0': {'type': '10-Q', 'published': datetime.date(2010, 8, 6), 'qtr': (2010, 3)}}\n",
      "[INFO] Comparing current qtr (2010, 4) to qtr (2010, 3) from 1 quarter ago.\n",
      "[INFO] No ToC found\n",
      "[INFO] Comparing current qtr (2010, 2) to qtr (2010, 1) from 1 quarter ago.\n",
      "{'diff_jaccard': 0.9631760032939976, 'diff_cosine_tf': 0.9964392482866722, 'diff_cosine_tf_idf': 0.9930594362103271, 'diff_minEdit': 1.0, 'diff_simple': 1.0, 'sing_LoughranMcDonald': -0.0052415281398910125, '0': {'type': '10-Q', 'published': datetime.date(2010, 10, 29), 'qtr': (2010, 4)}}\n",
      "{'diff_jaccard': 0.0020390611280748172, 'diff_cosine_tf': 0.14318932106252671, 'diff_cosine_tf_idf': 0.10831570894952423, 'diff_minEdit': 0.9476515110491269, 'diff_simple': 0.4098219947841433, 'sing_LoughranMcDonald': 0.0, '0': {'type': '10-Q', 'published': datetime.date(2010, 5, 7), 'qtr': (2010, 2)}}\n",
      "[INFO] Comparing current qtr (2011, 1) to qtr (2010, 4) from 1 quarter ago.\n",
      "[INFO] Comparing current qtr (2010, 3) to qtr (2010, 2) from 1 quarter ago.\n",
      "{'diff_jaccard': 0.0026016434587383197, 'diff_cosine_tf': 0.22172105713812315, 'diff_cosine_tf_idf': 0.16812103239235135, 'diff_minEdit': 0.9256257202540379, 'diff_simple': 0.5361947274476814, 'sing_LoughranMcDonald': 0.0, '0': {'type': '10-Q', 'published': datetime.date(2010, 5, 5), 'qtr': (2010, 2)}}\n",
      "[INFO] Comparing current qtr (2010, 3) to qtr (2010, 2) from 1 quarter ago.\n",
      "{'diff_jaccard': 0.845388063809903, 'diff_cosine_tf': 0.9884619601352861, 'diff_cosine_tf_idf': 0.9863887493670334, 'diff_minEdit': 0.8805378861791764, 'diff_simple': 0.9324754144921362, 'sing_LoughranMcDonald': -0.0004058940874701686, '0': {'type': '10-Q', 'published': datetime.date(2012, 5, 8), 'qtr': (2012, 2)}}\n",
      "{'diff_jaccard': 0.007586717580939128, 'diff_cosine_tf': 0.36244582442043005, 'diff_cosine_tf_idf': 0.2745482594064576, 'diff_minEdit': 0.9590264689140501, 'diff_simple': 0.7971192916797945, 'sing_LoughranMcDonald': -0.0008726393976833603, '0': {'type': '10-Q', 'published': datetime.date(2010, 8, 6), 'qtr': (2010, 3)}}\n",
      "[INFO] Comparing current qtr (2010, 4) to qtr (2010, 3) from 1 quarter ago.\n",
      "[INFO] Comparing current qtr (2012, 3) to qtr (2012, 2) from 1 quarter ago.\n",
      "{'diff_jaccard': 0.7217171717171718, 'diff_cosine_tf': 0.8399999999999999, 'diff_cosine_tf_idf': 0.7464359212312635, 'diff_minEdit': 0.8833333333333334, 'diff_simple': 0.9628682880427066, 'sing_LoughranMcDonald': 0.0, '0': {'type': '10-Q', 'published': datetime.date(2010, 8, 4), 'qtr': (2010, 3)}}\n",
      "[INFO] No ToC found\n",
      "[INFO] Comparing current qtr (2010, 4) to qtr (2010, 3) from 1 quarter ago.\n",
      "This is the res {'1': [(10401, 10422)], '4': [(23836, 23860)], '6': [(25607, 25629)], '7a': [(47395, 47418)], '10': [], '12': [(7429, 7488)], '14': [(7741, 7790)], '15': [(7862, 7898)]}\n",
      "[WARNING] /home/alex/Desktop/filtered_text_data/nd_data/2010/QTR1/20100224_10-K_edgar_data_1024126_0001354488-10-000553_1.txt failed parsing\n"
     ]
    },
    {
     "name": "stderr",
     "output_type": "stream",
     "text": [
      "\n",
      "  5%|▍         | 49/1000 [00:31<14:43,  1.08it/s]\u001b[A\n",
      "\n",
      "49it [00:31,  1.08it/s]\u001b[A\u001b[A"
     ]
    },
    {
     "name": "stdout",
     "output_type": "stream",
     "text": [
      "{'diff_jaccard': 0.7217171717171718, 'diff_cosine_tf': 0.8399999999999999, 'diff_cosine_tf_idf': 0.7464359212312635, 'diff_minEdit': 0.8666666666666667, 'diff_simple': 0.973155755742965, 'sing_LoughranMcDonald': 0.0, '0': {'type': '10-Q', 'published': datetime.date(2010, 11, 3), 'qtr': (2010, 4)}}\n",
      "[INFO] Comparing current qtr (2011, 1) to qtr (2010, 4) from 1 quarter ago.\n",
      "{'diff_jaccard': 0.08441568573726803, 'diff_cosine_tf': 0.42864057051458465, 'diff_cosine_tf_idf': 0.3908803367034801, 'diff_minEdit': 0.6596643204182999, 'diff_simple': 0.3675734504015924, 'sing_LoughranMcDonald': -0.0005865996071842778, '0': {'type': '10-K', 'published': datetime.date(2011, 3, 15), 'qtr': (2011, 1)}}\n",
      "[INFO] Comparing current qtr (2011, 2) to qtr (2011, 1) from 1 quarter ago.\n",
      "{'diff_jaccard': 0.3817510548523207, 'diff_cosine_tf': 0.5798962385648523, 'diff_cosine_tf_idf': 0.4778080409061846, 'diff_minEdit': 0.9089813140446051, 'diff_simple': 0.6370351787633821, 'sing_LoughranMcDonald': 0.0, '0': {'type': '10-K', 'published': datetime.date(2011, 2, 24), 'qtr': (2011, 1)}}\n",
      "[INFO] Comparing current qtr (2011, 2) to qtr (2011, 1) from 1 quarter ago.\n",
      "{'diff_jaccard': 0.3817510548523207, 'diff_cosine_tf': 0.5798962385648523, 'diff_cosine_tf_idf': 0.4778080409061846, 'diff_minEdit': 0.9101868595539482, 'diff_simple': 0.6331008647024858, 'sing_LoughranMcDonald': 0.0, '0': {'type': '10-Q', 'published': datetime.date(2011, 5, 4), 'qtr': (2011, 2)}}\n",
      "[INFO] Comparing current qtr (2011, 3) to qtr (2011, 2) from 1 quarter ago.\n",
      "{'diff_jaccard': 0.8164868776247793, 'diff_cosine_tf': 0.9863243714090136, 'diff_cosine_tf_idf': 0.9779711186925525, 'diff_minEdit': 0.9986570730776068, 'diff_simple': 0.999811990230865, 'sing_LoughranMcDonald': -0.0008518353836754801, '0': {'type': '10-Q', 'published': datetime.date(2010, 11, 8), 'qtr': (2010, 4)}}\n",
      "[INFO] Comparing current qtr (2011, 1) to qtr (2010, 4) from 1 quarter ago.\n",
      "[INFO] Found a ToC!\n",
      "{'diff_jaccard': 0.7217171717171718, 'diff_cosine_tf': 0.8399999999999999, 'diff_cosine_tf_idf': 0.7464359212312635, 'diff_minEdit': 0.8833333333333333, 'diff_simple': 0.9617271843143936, 'sing_LoughranMcDonald': 0.0, '0': {'type': '10-Q', 'published': datetime.date(2011, 8, 4), 'qtr': (2011, 3)}}\n",
      "[INFO] Comparing current qtr (2011, 4) to qtr (2011, 3) from 1 quarter ago.\n",
      "{'diff_jaccard': 0.7217171717171718, 'diff_cosine_tf': 0.8399999999999999, 'diff_cosine_tf_idf': 0.7464359212312635, 'diff_minEdit': 0.9166666666666667, 'diff_simple': 0.973155755742965, 'sing_LoughranMcDonald': 0.0, '0': {'type': '10-Q', 'published': datetime.date(2011, 11, 4), 'qtr': (2011, 4)}}\n",
      "[INFO] Comparing current qtr (2012, 1) to qtr (2011, 4) from 1 quarter ago.\n",
      "[INFO] Found a ToC!\n",
      "{'diff_jaccard': 0.36670818613560013, 'diff_cosine_tf': 0.7795602767574398, 'diff_cosine_tf_idf': 0.7514187263645304, 'diff_minEdit': 0.8303627357481846, 'diff_simple': 0.7178729632910905, 'sing_LoughranMcDonald': -0.0018276060217167745, '0': {'type': '10-Q', 'published': datetime.date(2011, 4, 28), 'qtr': (2011, 2)}}\n",
      "[INFO] Comparing current qtr (2011, 3) to qtr (2011, 2) from 1 quarter ago.\n",
      "{'diff_jaccard': 0.2411259832969853, 'diff_cosine_tf': 0.3074604996947787, 'diff_cosine_tf_idf': 0.2805535257831067, 'diff_minEdit': 0.6845529073859206, 'diff_simple': 0.41094469442199094, 'sing_LoughranMcDonald': -0.011878782466729049, '0': {'type': '10-Q', 'published': datetime.date(2011, 7, 28), 'qtr': (2011, 3)}}\n",
      "{'diff_jaccard': 0.8180992322582907, 'diff_cosine_tf': 0.9946780468265423, 'diff_cosine_tf_idf': 0.9935290349550442, 'diff_minEdit': 0.9728964043619216, 'diff_simple': 0.9943773747222022, 'sing_LoughranMcDonald': -0.00032492537739330703, '0': {'type': '10-Q', 'published': datetime.date(2010, 11, 3), 'qtr': (2010, 4)}}\n",
      "[INFO] Comparing current qtr (2011, 1) to qtr (2010, 4) from 1 quarter ago.\n",
      "[INFO] Comparing current qtr (2011, 4) to qtr (2011, 3) from 1 quarter ago.\n",
      "[INFO] Found a ToC!\n",
      "{'diff_jaccard': 0.917958734908008, 'diff_cosine_tf': 0.998211814315011, 'diff_cosine_tf_idf': 0.9977562162252966, 'diff_minEdit': 1.0, 'diff_simple': 1.0, 'sing_LoughranMcDonald': -0.00038352156124355055, '0': {'type': '10-Q', 'published': datetime.date(2012, 8, 8), 'qtr': (2012, 3)}}\n",
      "[INFO] Comparing current qtr (2012, 4) to qtr (2012, 3) from 1 quarter ago.\n",
      "{'diff_jaccard': 0.8586115276936532, 'diff_cosine_tf': 0.9779316844671261, 'diff_cosine_tf_idf': 0.968470542925846, 'diff_minEdit': 1.0, 'diff_simple': 1.0, 'sing_LoughranMcDonald': -0.010877696342420867, '0': {'type': '10-Q', 'published': datetime.date(2011, 11, 3), 'qtr': (2011, 4)}}\n",
      "[INFO] Comparing current qtr (2012, 1) to qtr (2011, 4) from 1 quarter ago.\n",
      "[INFO] Found a ToC!\n",
      "{'diff_jaccard': 0.07291723872849924, 'diff_cosine_tf': 0.3225915286165156, 'diff_cosine_tf_idf': 0.27652239518890753, 'diff_minEdit': 0.6602341192245217, 'diff_simple': 0.36523664578600695, 'sing_LoughranMcDonald': -0.0005789378085672731, '0': {'type': '10-K', 'published': datetime.date(2012, 3, 14), 'qtr': (2012, 1)}}\n",
      "[INFO] Comparing current qtr (2012, 2) to qtr (2012, 1) from 1 quarter ago.\n",
      "[INFO] No ToC found\n",
      "{'diff_jaccard': 0.002120097009162838, 'diff_cosine_tf': 0.18057813461414476, 'diff_cosine_tf_idf': 0.13269779876261337, 'diff_minEdit': 0.947574289828446, 'diff_simple': 0.47572212933438107, 'sing_LoughranMcDonald': -0.00015295200828954316, '0': {'type': '10-K', 'published': datetime.date(2012, 3, 14), 'qtr': (2012, 1)}}\n",
      "[INFO] Comparing current qtr (2012, 2) to qtr (2012, 1) from 1 quarter ago.\n",
      "{'diff_jaccard': 0.21653623489326226, 'diff_cosine_tf': 0.9093994667303793, 'diff_cosine_tf_idf': 0.891344829758782, 'diff_minEdit': 0.913485763155247, 'diff_simple': 0.5511761243585873, 'sing_LoughranMcDonald': -0.00023795968683358666, '0': {'type': '10-K', 'published': datetime.date(2011, 3, 1), 'qtr': (2011, 1)}}\n",
      "[INFO] Comparing current qtr (2011, 2) to qtr (2011, 1) from 1 quarter ago.\n",
      "{'diff_jaccard': 0.003902420662011609, 'diff_cosine_tf': 0.22642880822175865, 'diff_cosine_tf_idf': 0.17055434417923185, 'diff_minEdit': 0.9447019903891192, 'diff_simple': 0.5350298915323018, 'sing_LoughranMcDonald': 0.0, '0': {'type': '10-Q', 'published': datetime.date(2012, 5, 3), 'qtr': (2012, 2)}}\n",
      "[INFO] Comparing current qtr (2012, 3) to qtr (2012, 2) from 1 quarter ago.\n",
      "{'diff_jaccard': 0.44278058007566207, 'diff_cosine_tf': 0.7661459970543729, 'diff_cosine_tf_idf': 0.6518071401567331, 'diff_minEdit': 0.8360655737704918, 'diff_simple': 0.8836484152299002, 'sing_LoughranMcDonald': 0.0, '0': {'type': '10-Q', 'published': datetime.date(2012, 8, 7), 'qtr': (2012, 3)}}\n",
      "[INFO] Comparing current qtr (2012, 4) to qtr (2012, 3) from 1 quarter ago.\n",
      "{'diff_jaccard': 0.9659442577573719, 'diff_cosine_tf': 0.9993315514619975, 'diff_cosine_tf_idf': 0.9989997357558866, 'diff_minEdit': 1.0, 'diff_simple': 1.0, 'sing_LoughranMcDonald': -0.0003700758444647485, '0': {'type': '10-Q', 'published': datetime.date(2012, 10, 25), 'qtr': (2012, 4)}}\n"
     ]
    },
    {
     "name": "stderr",
     "output_type": "stream",
     "text": [
      "\n",
      "  5%|▌         | 50/1000 [00:32<15:26,  1.03it/s]\u001b[A\n",
      "\n",
      "50it [00:32,  1.03it/s]\u001b[A\u001b[A"
     ]
    },
    {
     "name": "stdout",
     "output_type": "stream",
     "text": [
      "{'diff_jaccard': 0.002176985717078012, 'diff_cosine_tf': 0.1813072003496099, 'diff_cosine_tf_idf': 0.13733191846032944, 'diff_minEdit': 0.9469756537507854, 'diff_simple': 0.47619936368999866, 'sing_LoughranMcDonald': 0.0, '0': {'type': '10-Q', 'published': datetime.date(2012, 5, 2), 'qtr': (2012, 2)}}\n",
      "[INFO] Comparing current qtr (2012, 3) to qtr (2012, 2) from 1 quarter ago.\n",
      "[INFO] Found a ToC!\n",
      "{'diff_jaccard': 0.007634585145910404, 'diff_cosine_tf': 0.35061841146413536, 'diff_cosine_tf_idf': 0.256909571056068, 'diff_minEdit': 0.8766568273427556, 'diff_simple': 0.8059622196039179, 'sing_LoughranMcDonald': -0.0013345298102310373, '0': {'type': '10-Q', 'published': datetime.date(2012, 11, 9), 'qtr': (2012, 4)}}\n"
     ]
    },
    {
     "name": "stderr",
     "output_type": "stream",
     "text": [
      "\n",
      "  5%|▌         | 51/1000 [00:32<11:25,  1.38it/s]\u001b[A\n",
      "\n",
      "51it [00:32,  1.39it/s]\u001b[A\u001b[A"
     ]
    },
    {
     "name": "stdout",
     "output_type": "stream",
     "text": [
      "{'diff_jaccard': 0.003219082811484107, 'diff_cosine_tf': 0.3008929250479785, 'diff_cosine_tf_idf': 0.22003137872057593, 'diff_minEdit': 0.6402752499886913, 'diff_simple': 0.5932025704110351, 'sing_LoughranMcDonald': 0.0, '0': {'type': '10-Q', 'published': datetime.date(2011, 5, 10), 'qtr': (2011, 2)}}\n",
      "[INFO] Comparing current qtr (2011, 3) to qtr (2011, 2) from 1 quarter ago.\n",
      "{'diff_jaccard': 0.7217171717171718, 'diff_cosine_tf': 0.8399999999999999, 'diff_cosine_tf_idf': 0.7464359212312635, 'diff_minEdit': 0.9166666666666667, 'diff_simple': 0.9628682880427066, 'sing_LoughranMcDonald': 0.0, '0': {'type': '10-Q', 'published': datetime.date(2012, 8, 1), 'qtr': (2012, 3)}}\n",
      "[INFO] Found a ToC!\n",
      "[INFO] Comparing current qtr (2012, 4) to qtr (2012, 3) from 1 quarter ago.\n",
      "{'diff_jaccard': 0.5987854737854739, 'diff_cosine_tf': 0.712794263518901, 'diff_cosine_tf_idf': 0.6274248962705088, 'diff_minEdit': 0.9166666666666666, 'diff_simple': 0.7990647388673704, 'sing_LoughranMcDonald': 0.0, '0': {'type': '10-Q', 'published': datetime.date(2011, 8, 9), 'qtr': (2011, 3)}}\n",
      "[INFO] Comparing current qtr (2011, 4) to qtr (2011, 3) from 1 quarter ago.\n",
      "{'diff_jaccard': 0.7217171717171718, 'diff_cosine_tf': 0.8399999999999999, 'diff_cosine_tf_idf': 0.7464359212312635, 'diff_minEdit': 0.9166666666666667, 'diff_simple': 0.9563008277252464, 'sing_LoughranMcDonald': 0.0, '0': {'type': '10-Q', 'published': datetime.date(2012, 11, 1), 'qtr': (2012, 4)}}\n"
     ]
    },
    {
     "name": "stderr",
     "output_type": "stream",
     "text": [
      "\n",
      "  5%|▌         | 52/1000 [00:32<08:32,  1.85it/s]\u001b[A\n",
      "\n",
      "52it [00:32,  1.84it/s]\u001b[A\u001b[A"
     ]
    },
    {
     "name": "stdout",
     "output_type": "stream",
     "text": [
      "{'diff_jaccard': 0.9416666666666667, 'diff_cosine_tf': 0.9666666666666665, 'diff_cosine_tf_idf': 0.9422079444641002, 'diff_minEdit': 0.9833333333333334, 'diff_simple': 0.9951388888888888, 'sing_LoughranMcDonald': 0.0, '0': {'type': '10-Q', 'published': datetime.date(2011, 11, 8), 'qtr': (2011, 4)}}\n",
      "[INFO] Comparing current qtr (2012, 1) to qtr (2011, 4) from 1 quarter ago.\n",
      "{'diff_jaccard': 0.7526987372400462, 'diff_cosine_tf': 0.9929253253855366, 'diff_cosine_tf_idf': 0.9923805216475441, 'diff_minEdit': 0.862225397636574, 'diff_simple': 0.5411670323474254, 'sing_LoughranMcDonald': -0.00031555471928264, '0': {'type': '10-K', 'published': datetime.date(2011, 2, 25), 'qtr': (2011, 1)}}\n",
      "[INFO] Comparing current qtr (2011, 2) to qtr (2011, 1) from 1 quarter ago.\n",
      "[INFO] No ToC found\n",
      "{'diff_jaccard': 0.003285949565579749, 'diff_cosine_tf': 0.37076896080248894, 'diff_cosine_tf_idf': 0.27253785468024405, 'diff_minEdit': 0.9582633099829726, 'diff_simple': 0.8371809473243979, 'sing_LoughranMcDonald': -0.00033406372007843633, '0': {'type': '10-K', 'published': datetime.date(2012, 2, 29), 'qtr': (2012, 1)}}\n",
      "[INFO] Comparing current qtr (2012, 2) to qtr (2012, 1) from 1 quarter ago.\n",
      "[INFO] Found a ToC!\n",
      "{'diff_jaccard': 0.10906326970400265, 'diff_cosine_tf': 0.8365085151801028, 'diff_cosine_tf_idf': 0.7996853628068438, 'diff_minEdit': 0.7711904498089094, 'diff_simple': 0.8336679745967591, 'sing_LoughranMcDonald': -0.01012278151003907, '0': {'type': '10-Q', 'published': datetime.date(2012, 5, 8), 'qtr': (2012, 2)}}\n",
      "[INFO] Comparing current qtr (2012, 3) to qtr (2012, 2) from 1 quarter ago.\n",
      "[INFO] Found a ToC!\n",
      "{'diff_jaccard': 0.7339617027116572, 'diff_cosine_tf': 0.9877689222514184, 'diff_cosine_tf_idf': 0.9865012241118983, 'diff_minEdit': 0.7635732001306886, 'diff_simple': 0.5909501693659364, 'sing_LoughranMcDonald': -0.00035183959407314745, '0': {'type': '10-Q', 'published': datetime.date(2011, 5, 6), 'qtr': (2011, 2)}}\n",
      "[INFO] Comparing current qtr (2011, 3) to qtr (2011, 2) from 1 quarter ago.\n",
      "{'diff_jaccard': 0.9779851464820579, 'diff_cosine_tf': 0.99786147371457, 'diff_cosine_tf_idf': 0.9960638569179577, 'diff_minEdit': 1.0, 'diff_simple': 1.0, 'sing_LoughranMcDonald': -0.010910696993576129, '0': {'type': '10-Q', 'published': datetime.date(2012, 8, 7), 'qtr': (2012, 3)}}\n",
      "[INFO] Comparing current qtr (2012, 4) to qtr (2012, 3) from 1 quarter ago.\n",
      "[INFO] Found a ToC!\n",
      "[WARNING] Section 1a was found to be empty.\n",
      "[WARNING] Section 7 was found to be empty.\n",
      "{'diff_jaccard': 0.9838190271228033, 'diff_cosine_tf': 0.9995053104457368, 'diff_cosine_tf_idf': 0.9990241989166871, 'diff_minEdit': 1.0, 'diff_simple': 1.0, 'sing_LoughranMcDonald': -0.010910696993576129, '0': {'type': '10-Q', 'published': datetime.date(2012, 11, 7), 'qtr': (2012, 4)}}\n",
      "[WARNING] Section 7a was found to be empty.\n"
     ]
    },
    {
     "name": "stderr",
     "output_type": "stream",
     "text": [
      "\n",
      "  5%|▌         | 53/1000 [00:33<09:45,  1.62it/s]\u001b[A\n",
      "\n",
      "53it [00:33,  1.62it/s]\u001b[A\u001b[A"
     ]
    },
    {
     "name": "stdout",
     "output_type": "stream",
     "text": [
      "[INFO] No ToC found\n",
      "[WARNING] Section 9a was found to be empty.\n",
      "[INFO] Found a ToC!\n",
      "[INFO] Comparing current qtr (2010, 2) to qtr (2010, 1) from 1 quarter ago.\n",
      "{'diff_jaccard': 0.0037078393244757376, 'diff_cosine_tf': 0.2458344774208755, 'diff_cosine_tf_idf': 0.1858157410929983, 'diff_minEdit': 0.7926854715365867, 'diff_simple': 0.5857118102400838, 'sing_LoughranMcDonald': 0.0, '0': {'type': '10-Q', 'published': datetime.date(2010, 5, 7), 'qtr': (2010, 2)}}\n",
      "[INFO] Comparing current qtr (2010, 3) to qtr (2010, 2) from 1 quarter ago.\n",
      "[INFO] No ToC found\n",
      "[WARNING] /home/alex/Desktop/filtered_text_data/nd_data/2010/QTR2/20100507_10-Q_edgar_data_1065087_0001144204-10-025377_1.txt failed parsing\n"
     ]
    },
    {
     "name": "stderr",
     "output_type": "stream",
     "text": [
      "\n",
      "  5%|▌         | 54/1000 [00:33<08:10,  1.93it/s]\u001b[A\n",
      "\n",
      "54it [00:33,  1.93it/s]\u001b[A\u001b[A"
     ]
    },
    {
     "name": "stdout",
     "output_type": "stream",
     "text": [
      "{'diff_jaccard': 0.6318414918414919, 'diff_cosine_tf': 0.7692307692307692, 'diff_cosine_tf_idf': 0.7003763297470764, 'diff_minEdit': 0.8307692307692307, 'diff_simple': 0.8818567805241057, 'sing_LoughranMcDonald': 0.0, '0': {'type': '10-Q', 'published': datetime.date(2010, 8, 6), 'qtr': (2010, 3)}}\n",
      "[INFO] Comparing current qtr (2010, 4) to qtr (2010, 3) from 1 quarter ago.\n",
      "[INFO] No ToC found\n",
      "{'diff_jaccard': 0.7297979797979798, 'diff_cosine_tf': 0.8451612903225805, 'diff_cosine_tf_idf': 0.7537471838541572, 'diff_minEdit': 0.903225806451613, 'diff_simple': 0.9682270914854991, 'sing_LoughranMcDonald': 0.0, '0': {'type': '10-Q', 'published': datetime.date(2010, 11, 5), 'qtr': (2010, 4)}}\n",
      "[INFO] Comparing current qtr (2011, 1) to qtr (2010, 4) from 1 quarter ago.\n",
      "{'diff_jaccard': 0.8840601561108397, 'diff_cosine_tf': 0.9959938900433561, 'diff_cosine_tf_idf': 0.995251994171611, 'diff_minEdit': 0.997164577275084, 'diff_simple': 0.99938679245283, 'sing_LoughranMcDonald': -0.0002912920367837957, '0': {'type': '10-Q', 'published': datetime.date(2011, 8, 5), 'qtr': (2011, 3)}}\n",
      "[INFO] Comparing current qtr (2011, 4) to qtr (2011, 3) from 1 quarter ago.\n",
      "[INFO] No ToC found\n",
      "[INFO] Found a ToC!\n",
      "[WARNING] Section 1a was found to be empty.\n",
      "[INFO] Found a ToC!\n",
      "[WARNING] Section _i_2 was found to be empty.\n",
      "[WARNING] Section _i_3 was found to be empty.\n",
      "[WARNING] Section _i_4 was found to be empty.\n",
      "[INFO] Found a ToC!\n",
      "[WARNING] Section ii_1 was found to be empty.\n",
      "[WARNING] Section ii_1a was found to be empty.\n",
      "{'diff_jaccard': 0.0033878517379540437, 'diff_cosine_tf': 0.23503124730806807, 'diff_cosine_tf_idf': 0.17804977277998102, 'diff_minEdit': 0.9319970554430228, 'diff_simple': 0.5542109429220695, 'sing_LoughranMcDonald': -0.0002936926725981208, '0': {'type': '10-K', 'published': datetime.date(2011, 3, 11), 'qtr': (2011, 1)}}\n",
      "[INFO] Comparing current qtr (2011, 2) to qtr (2011, 1) from 1 quarter ago.\n",
      "[INFO] Found a ToC!\n",
      "{'diff_jaccard': 0.34771760209581903, 'diff_cosine_tf': 0.7856341076728118, 'diff_cosine_tf_idf': 0.7639542473991403, 'diff_minEdit': 0.7150252560949176, 'diff_simple': 0.6768608363590835, 'sing_LoughranMcDonald': -0.0008778034701817113, '0': {'type': '10-Q', 'published': datetime.date(2011, 5, 6), 'qtr': (2011, 2)}}\n",
      "[INFO] Comparing current qtr (2011, 3) to qtr (2011, 2) from 1 quarter ago.\n",
      "[INFO] No ToC found\n",
      "{'diff_jaccard': 0.8414834214523454, 'diff_cosine_tf': 0.9732517499605248, 'diff_cosine_tf_idf': 0.9723418757786736, 'diff_minEdit': 1.0, 'diff_simple': 1.0, 'sing_LoughranMcDonald': -0.0007381172465530151, '0': {'type': '10-Q', 'published': datetime.date(2011, 8, 5), 'qtr': (2011, 3)}}\n",
      "[INFO] Comparing current qtr (2011, 4) to qtr (2011, 3) from 1 quarter ago.\n",
      "[INFO] Found a ToC!\n",
      "[WARNING] Section _i_2 was found to be empty.\n",
      "{'diff_jaccard': 0.9070795621729834, 'diff_cosine_tf': 0.9978050023172508, 'diff_cosine_tf_idf': 0.9971575690732826, 'diff_minEdit': 0.9993786584526797, 'diff_simple': 0.9997483566733353, 'sing_LoughranMcDonald': -0.00026523919037126385, '0': {'type': '10-Q', 'published': datetime.date(2011, 11, 3), 'qtr': (2011, 4)}}\n",
      "[WARNING] Section _i_3 was found to be empty.\n",
      "[WARNING] Section _i_4 was found to be empty.\n",
      "[INFO] Comparing current qtr (2012, 1) to qtr (2011, 4) from 1 quarter ago.\n",
      "[WARNING] Section ii_1 was found to be empty.\n",
      "[WARNING] Section ii_1a was found to be empty.\n",
      "[INFO] No ToC found\n",
      "{'diff_jaccard': 0.8339423228014362, 'diff_cosine_tf': 0.9831647353618815, 'diff_cosine_tf_idf': 0.9814284255163508, 'diff_minEdit': 1.0, 'diff_simple': 1.0, 'sing_LoughranMcDonald': -0.0007118523148114867, '0': {'type': '10-Q', 'published': datetime.date(2011, 11, 4), 'qtr': (2011, 4)}}\n",
      "[INFO] Comparing current qtr (2012, 1) to qtr (2011, 4) from 1 quarter ago.\n",
      "[INFO] No ToC found\n",
      "[INFO] No ToC found\n",
      "[WARNING] Section _i_2 was found to be empty.\n",
      "This is the res {'1': [(8666, 8683)], '1a': [(20219, 20234)], '1b': [(59323, 59344)], '3': [(296181, 296197)], '4': [], '5': [(73655, 73670)], '6': [(79539, 79556)], '7': [(80663, 80682)], '7a': [(315954, 315976)], '8': [(325021, 325039)], '9': [(501806, 501822)], '9b': [(504864, 504879)], '10': [(504953, 504972)], '11': [(505543, 505562)], '12': [(505950, 505968)], '13': [(506396, 506413)], '14': [(506777, 506796)], '15': [(507179, 507197)]}\n",
      "[WARNING] Section _i_3 was found to be empty.\n",
      "[WARNING] Section _i_4 was found to be empty.\n",
      "[WARNING] /home/alex/Desktop/filtered_text_data/nd_data/2010/QTR1/20100312_10-K_edgar_data_1056903_0001104659-10-014038_1.txt failed parsing\n"
     ]
    },
    {
     "name": "stderr",
     "output_type": "stream",
     "text": [
      "\n",
      "  6%|▌         | 55/1000 [00:34<11:43,  1.34it/s]\u001b[A\n",
      "\n",
      "55it [00:34,  1.35it/s]\u001b[A\u001b[A"
     ]
    },
    {
     "name": "stdout",
     "output_type": "stream",
     "text": [
      "[WARNING] Section ii_1 was found to be empty.\n",
      "[WARNING] Section ii_1a was found to be empty.\n",
      "{'diff_jaccard': 0.3305971671008746, 'diff_cosine_tf': 0.7543835547768248, 'diff_cosine_tf_idf': 0.7301731018882325, 'diff_minEdit': 0.7285890225463723, 'diff_simple': 0.7051539980856848, 'sing_LoughranMcDonald': -0.0002343196616799434, '0': {'type': '10-K', 'published': datetime.date(2012, 3, 7), 'qtr': (2012, 1)}}\n",
      "[INFO] Comparing current qtr (2012, 2) to qtr (2012, 1) from 1 quarter ago.\n",
      "{'diff_jaccard': 0.587933061205978, 'diff_cosine_tf': 0.8286723890544077, 'diff_cosine_tf_idf': 0.7947476951500374, 'diff_minEdit': 0.7012828029660775, 'diff_simple': 0.5326100354767617, 'sing_LoughranMcDonald': -0.0005735012985862858, '0': {'type': '10-K', 'published': datetime.date(2012, 2, 21), 'qtr': (2012, 1)}}\n",
      "[INFO] Comparing current qtr (2012, 2) to qtr (2012, 1) from 1 quarter ago.\n",
      "[INFO] Found a ToC!\n",
      "[INFO] Found a ToC!\n",
      "{'diff_jaccard': 0.2996065509086658, 'diff_cosine_tf': 0.7486231522918542, 'diff_cosine_tf_idf': 0.7229351514616589, 'diff_minEdit': 0.731690993061643, 'diff_simple': 0.6856128323611849, 'sing_LoughranMcDonald': -0.0009137393496487849, '0': {'type': '10-Q', 'published': datetime.date(2012, 5, 4), 'qtr': (2012, 2)}}\n",
      "[INFO] Comparing current qtr (2012, 3) to qtr (2012, 2) from 1 quarter ago.\n",
      "[INFO] No ToC found\n",
      "[WARNING] Section 1a was found to be empty.\n",
      "[WARNING] Section 7a was found to be empty.\n",
      "{'diff_jaccard': 0.8496317370249554, 'diff_cosine_tf': 0.964691404433665, 'diff_cosine_tf_idf': 0.9626626390257601, 'diff_minEdit': 1.0, 'diff_simple': 1.0, 'sing_LoughranMcDonald': -0.0007439347008944506, '0': {'type': '10-Q', 'published': datetime.date(2012, 8, 14), 'qtr': (2012, 3)}}\n",
      "[INFO] Comparing current qtr (2012, 4) to qtr (2012, 3) from 1 quarter ago.\n",
      "[INFO] No ToC found\n",
      "[WARNING] Section _i_3 was found to be empty.\n",
      "[WARNING] Section ii_1a was found to be empty.\n",
      "[INFO] No ToC found\n",
      "[INFO] No ToC found\n",
      "[WARNING] Section _i_3 was found to be empty.\n",
      "[WARNING] Section ii_1a was found to be empty.\n",
      "{'diff_jaccard': 0.7204987031278215, 'diff_cosine_tf': 0.9261637176418739, 'diff_cosine_tf_idf': 0.916872826424495, 'diff_minEdit': 0.9712738717593086, 'diff_simple': 0.9369244347885124, 'sing_LoughranMcDonald': -0.001377332004644263, '0': {'type': '10-Q', 'published': datetime.date(2012, 11, 14), 'qtr': (2012, 4)}}\n"
     ]
    },
    {
     "name": "stderr",
     "output_type": "stream",
     "text": [
      "\n",
      "  6%|▌         | 56/1000 [00:35<11:06,  1.42it/s]\u001b[A\n",
      "\n",
      "56it [00:35,  1.42it/s]\u001b[A\u001b[A"
     ]
    },
    {
     "name": "stdout",
     "output_type": "stream",
     "text": [
      "[INFO] No ToC found\n",
      "[WARNING] Section _i_3 was found to be empty.\n",
      "[WARNING] Section ii_1a was found to be empty.\n",
      "{'diff_jaccard': 0.6401280057933298, 'diff_cosine_tf': 0.8363448197212345, 'diff_cosine_tf_idf': 0.8043764323297258, 'diff_minEdit': 0.7840940844626892, 'diff_simple': 0.4782658423846747, 'sing_LoughranMcDonald': -0.0003026035987452315, '0': {'type': '10-Q', 'published': datetime.date(2012, 4, 27), 'qtr': (2012, 2)}}\n",
      "[INFO] Comparing current qtr (2012, 3) to qtr (2012, 2) from 1 quarter ago.\n",
      "[INFO] Found a ToC!\n",
      "[INFO] Found a ToC!\n",
      "[INFO] Found a ToC!\n",
      "[WARNING] Section 1a was found to be empty.\n",
      "[INFO] No ToC found\n",
      "[WARNING] Section 1a was found to be empty.\n",
      "[WARNING] Section 7a was found to be empty.\n",
      "[INFO] Found a ToC!\n",
      "[INFO] No ToC found\n",
      "[INFO] No ToC found\n",
      "[WARNING] Section _i_3 was found to be empty.\n",
      "[WARNING] Section ii_1a was found to be empty.\n",
      "[INFO] No ToC found\n",
      "[INFO] No ToC found\n",
      "[INFO] No ToC found\n",
      "[WARNING] Section _i_3 was found to be empty.\n",
      "[WARNING] Section ii_1a was found to be empty.\n",
      "[INFO] Found a ToC!\n",
      "[WARNING] Section 7 was found to be empty.\n",
      "[WARNING] Section 7a was found to be empty.\n",
      "{'diff_jaccard': 0.8802200464127328, 'diff_cosine_tf': 0.9964732654345451, 'diff_cosine_tf_idf': 0.9958892089338371, 'diff_minEdit': 1.0, 'diff_simple': 1.0, 'sing_LoughranMcDonald': -0.00030420355077023006, '0': {'type': '10-Q', 'published': datetime.date(2012, 8, 8), 'qtr': (2012, 3)}}\n",
      "[INFO] Comparing current qtr (2012, 4) to qtr (2012, 3) from 1 quarter ago.\n",
      "[INFO] No ToC found\n",
      "[WARNING] Section _i_3 was found to be empty.\n",
      "[INFO] No ToC found\n",
      "[WARNING] Section ii_1a was found to be empty.\n",
      "[INFO] No ToC found\n",
      "[INFO] Found a ToC!\n",
      "[INFO] No ToC found\n",
      "[INFO] No ToC found\n",
      "[INFO] Found a ToC!\n",
      "[ERROR] Here is full_sect: |[]|\n",
      "[ERROR] Original res: {'_i_1': [], '_i_2': [], '_i_3': [], '_i_4': [], 'ii_1': [], 'ii_1a': [], 'ii_2': [], 'ii_3': [], 'ii_4': [], 'ii_5': [], 'ii_6': []}\n",
      "[WARNING] /home/alex/Desktop/filtered_text_data/nd_data/2011/QTR2/20110429_10-Q_edgar_data_1065088_0001065088-11-000006_1.txt failed parsing\n"
     ]
    },
    {
     "name": "stderr",
     "output_type": "stream",
     "text": [
      "\n",
      "  6%|▌         | 57/1000 [00:36<13:26,  1.17it/s]\u001b[A\n",
      "\n",
      "57it [00:36,  1.17it/s]\u001b[A\u001b[A"
     ]
    },
    {
     "name": "stdout",
     "output_type": "stream",
     "text": [
      "[ERROR] Here is full_sect: |[]|\n",
      "[ERROR] Original res: {'1': [], '1a': [], '1b': [], '2': [], '3': [], '4': [], '5': [], '6': [], '7': [], '7a': [], '8': [], '9': [], '9a': [], '9b': [], '10': [], '11': [], '12': [], '13': [], '14': [], '15': []}\n",
      "[WARNING] /home/alex/Desktop/filtered_text_data/nd_data/2012/QTR1/20120330_10-K_edgar_data_1294476_0001193125-12-143089_1.txt failed parsing\n",
      "[INFO] No ToC found\n",
      "{'diff_jaccard': 0.8468371462662565, 'diff_cosine_tf': 0.9955613587512124, 'diff_cosine_tf_idf': 0.9944574766328204, 'diff_minEdit': 0.9409379766545628, 'diff_simple': 0.9880247355387279, 'sing_LoughranMcDonald': -0.0002591881145138981, '0': {'type': '10-Q', 'published': datetime.date(2012, 11, 9), 'qtr': (2012, 4)}}\n"
     ]
    },
    {
     "name": "stderr",
     "output_type": "stream",
     "text": [
      "\n",
      "  6%|▌         | 59/1000 [00:36<09:51,  1.59it/s]\u001b[A\n",
      "\n",
      "59it [00:36,  1.59it/s]\u001b[A\u001b[A"
     ]
    },
    {
     "name": "stdout",
     "output_type": "stream",
     "text": [
      "[INFO] No ToC found\n",
      "[INFO] Found a ToC!\n",
      "[WARNING] Section ii_1 was found to be empty.\n",
      "[INFO] No ToC found\n",
      "[INFO] Comparing current qtr (2010, 2) to qtr (2010, 1) from 1 quarter ago.\n",
      "[INFO] Found a ToC!\n",
      "{'diff_jaccard': 0.420770680830274, 'diff_cosine_tf': 0.9529702464085145, 'diff_cosine_tf_idf': 0.9477353726121619, 'diff_minEdit': 0.8053262994208648, 'diff_simple': 0.7516783293004599, 'sing_LoughranMcDonald': -0.0017219047976185368, '0': {'type': '10-Q', 'published': datetime.date(2010, 5, 6), 'qtr': (2010, 2)}}\n",
      "[INFO] Comparing current qtr (2010, 3) to qtr (2010, 2) from 1 quarter ago.\n",
      "[INFO] No ToC found\n",
      "[WARNING] Section 1a was found to be empty.\n",
      "[WARNING] Section 3 was found to be empty.\n",
      "[WARNING] Section 7 was found to be empty.\n",
      "[WARNING] Section 7a was found to be empty.\n",
      "[WARNING] Section 9a was found to be empty.\n",
      "[INFO] No ToC found\n",
      "{'diff_jaccard': 0.7708079011703424, 'diff_cosine_tf': 0.9892013670357936, 'diff_cosine_tf_idf': 0.987041216808049, 'diff_minEdit': 0.9187553728081532, 'diff_simple': 0.9848343362575219, 'sing_LoughranMcDonald': -0.0013944947160968231, '0': {'type': '10-Q', 'published': datetime.date(2010, 8, 5), 'qtr': (2010, 3)}}\n",
      "[INFO] Found a ToC!\n",
      "[INFO] Comparing current qtr (2010, 4) to qtr (2010, 3) from 1 quarter ago.\n",
      "[INFO] Found a ToC!\n",
      "[WARNING] Section 7a was found to be empty.\n",
      "[INFO] Found a ToC!\n",
      "[WARNING] Section 1a was found to be empty.\n",
      "[INFO] Found a ToC!\n",
      "[INFO] No ToC found\n",
      "[INFO] Found a ToC!\n",
      "{'diff_jaccard': 0.773010393330308, 'diff_cosine_tf': 0.991707141248516, 'diff_cosine_tf_idf': 0.9882225680370937, 'diff_minEdit': 1.0, 'diff_simple': 1.0, 'sing_LoughranMcDonald': -0.0014380163083160568, '0': {'type': '10-Q', 'published': datetime.date(2010, 11, 4), 'qtr': (2010, 4)}}\n",
      "[INFO] Comparing current qtr (2011, 1) to qtr (2010, 4) from 1 quarter ago.\n",
      "[INFO] No ToC found\n",
      "[INFO] Found a ToC!\n",
      "[INFO] Found a ToC!\n",
      "[INFO] No ToC found\n",
      "[INFO] Found a ToC!\n",
      "[INFO] Found a ToC!\n",
      "[WARNING] Section 9a was found to be empty.\n",
      "{'diff_jaccard': 0.4596183975897179, 'diff_cosine_tf': 0.9636501975251305, 'diff_cosine_tf_idf': 0.9593324696178184, 'diff_minEdit': 0.766130883770538, 'diff_simple': 0.7556989624690166, 'sing_LoughranMcDonald': -0.0004966830511218804, '0': {'type': '10-K', 'published': datetime.date(2011, 2, 17), 'qtr': (2011, 1)}}\n",
      "[INFO] Comparing current qtr (2011, 2) to qtr (2011, 1) from 1 quarter ago.\n",
      "[INFO] Found a ToC!\n",
      "[INFO] Found a ToC!\n",
      "[INFO] Comparing current qtr (2010, 2) to qtr (2010, 1) from 1 quarter ago.\n",
      "[INFO] No ToC found\n",
      "[INFO] Comparing current qtr (2010, 2) to qtr (2010, 1) from 1 quarter ago.\n",
      "[INFO] Found a ToC!\n",
      "[INFO] Found a ToC!\n",
      "{'diff_jaccard': 0.430088679572406, 'diff_cosine_tf': 0.9537996379538135, 'diff_cosine_tf_idf': 0.9490384157258708, 'diff_minEdit': 0.8292131549707307, 'diff_simple': 0.7592182901273811, 'sing_LoughranMcDonald': -0.0017082481688747775, '0': {'type': '10-Q', 'published': datetime.date(2011, 4, 28), 'qtr': (2011, 2)}}\n",
      "[INFO] Comparing current qtr (2011, 3) to qtr (2011, 2) from 1 quarter ago.\n",
      "[INFO] No ToC found\n",
      "[INFO] Found a ToC!\n",
      "{'diff_jaccard': 0.28610501128326743, 'diff_cosine_tf': 0.9269741906916551, 'diff_cosine_tf_idf': 0.918688378208017, 'diff_minEdit': 0.8885567593983507, 'diff_simple': 0.8754147997216285, 'sing_LoughranMcDonald': -0.0006224880963143146, '0': {'type': '10-Q', 'published': datetime.date(2010, 5, 7), 'qtr': (2010, 2)}}\n",
      "[INFO] Comparing current qtr (2010, 3) to qtr (2010, 2) from 1 quarter ago.\n",
      "[INFO] Found a ToC!\n",
      "{'diff_jaccard': 0.008830452583355217, 'diff_cosine_tf': 0.3677851544567561, 'diff_cosine_tf_idf': 0.279593960410102, 'diff_minEdit': 0.9588364848792004, 'diff_simple': 0.7682730854727348, 'sing_LoughranMcDonald': 0.0, '0': {'type': '10-Q', 'published': datetime.date(2010, 8, 5), 'qtr': (2010, 3)}}\n",
      "[INFO] Comparing current qtr (2010, 4) to qtr (2010, 3) from 1 quarter ago.\n",
      "[INFO] No ToC found\n",
      "[INFO] Found a ToC!\n",
      "{'diff_jaccard': 0.6983779679612248, 'diff_cosine_tf': 0.9865376968380853, 'diff_cosine_tf_idf': 0.9845171652381307, 'diff_minEdit': 1.0, 'diff_simple': 1.0, 'sing_LoughranMcDonald': -0.0014296827847138224, '0': {'type': '10-Q', 'published': datetime.date(2011, 7, 28), 'qtr': (2011, 3)}}\n",
      "[INFO] Found a ToC!\n",
      "[INFO] Comparing current qtr (2011, 4) to qtr (2011, 3) from 1 quarter ago.\n",
      "[INFO] Found a ToC!\n",
      "[WARNING] Section 7a was found to be empty.\n",
      "{'diff_jaccard': 0.7856560919863335, 'diff_cosine_tf': 0.9778712998377878, 'diff_cosine_tf_idf': 0.9749328237405613, 'diff_minEdit': 0.9947287312967145, 'diff_simple': 0.9946167250250695, 'sing_LoughranMcDonald': -0.0004108543651868478, '0': {'type': '10-Q', 'published': datetime.date(2010, 5, 4), 'qtr': (2010, 2)}}\n",
      "[INFO] Comparing current qtr (2010, 3) to qtr (2010, 2) from 1 quarter ago.\n",
      "{'diff_jaccard': 0.0075330998379338505, 'diff_cosine_tf': 0.32836633201353643, 'diff_cosine_tf_idf': 0.24978783562997806, 'diff_minEdit': 0.9576462693260346, 'diff_simple': 0.704634103352046, 'sing_LoughranMcDonald': -0.0007771744809682747, '0': {'type': '10-Q', 'published': datetime.date(2010, 11, 8), 'qtr': (2010, 4)}}\n",
      "[INFO] Comparing current qtr (2011, 1) to qtr (2010, 4) from 1 quarter ago.\n",
      "[INFO] Found a ToC!\n",
      "[INFO] No ToC found\n",
      "[INFO] No ToC found\n",
      "[WARNING] Section _i_2 was found to be empty.\n",
      "[INFO] Found a ToC!\n",
      "[INFO] No ToC found\n",
      "[INFO] Comparing current qtr (2010, 2) to qtr (2010, 1) from 1 quarter ago.\n",
      "{'diff_jaccard': 0.575640240742929, 'diff_cosine_tf': 0.9702273233299602, 'diff_cosine_tf_idf': 0.9652120240932458, 'diff_minEdit': 0.9258182365497235, 'diff_simple': 0.9020800722456351, 'sing_LoughranMcDonald': -0.000980463681030247, '0': {'type': '10-Q', 'published': datetime.date(2011, 11, 9), 'qtr': (2011, 4)}}\n",
      "[INFO] Comparing current qtr (2012, 1) to qtr (2011, 4) from 1 quarter ago.\n",
      "{'diff_jaccard': 0.10386731532693798, 'diff_cosine_tf': 0.32892980176085784, 'diff_cosine_tf_idf': 0.27954334467574926, 'diff_minEdit': 0.6087539905378675, 'diff_simple': 0.4490395836920545, 'sing_LoughranMcDonald': -0.002111826077713963, '0': {'type': '10-Q', 'published': datetime.date(2010, 5, 12), 'qtr': (2010, 2)}}\n",
      "[INFO] Comparing current qtr (2010, 3) to qtr (2010, 2) from 1 quarter ago.\n",
      "[INFO] No ToC found\n",
      "[WARNING] Section _i_2 was found to be empty.\n",
      "{'diff_jaccard': 0.30243052598829834, 'diff_cosine_tf': 0.8914274741810028, 'diff_cosine_tf_idf': 0.8840036392426507, 'diff_minEdit': 0.8750149441608672, 'diff_simple': 0.8503300617957107, 'sing_LoughranMcDonald': -0.00011366405731709136, '0': {'type': '10-K', 'published': datetime.date(2011, 3, 7), 'qtr': (2011, 1)}}\n",
      "[INFO] Comparing current qtr (2011, 2) to qtr (2011, 1) from 1 quarter ago.\n",
      "{'diff_jaccard': 0.9142572046388925, 'diff_cosine_tf': 0.9903677217370884, 'diff_cosine_tf_idf': 0.9885772865817406, 'diff_minEdit': 0.9999999999999999, 'diff_simple': 0.9999999999999999, 'sing_LoughranMcDonald': -0.0003794910253888421, '0': {'type': '10-Q', 'published': datetime.date(2010, 8, 4), 'qtr': (2010, 3)}}\n",
      "[INFO] Comparing current qtr (2010, 4) to qtr (2010, 3) from 1 quarter ago.\n",
      "{'diff_jaccard': 0.8065980024724927, 'diff_cosine_tf': 0.9759408059464405, 'diff_cosine_tf_idf': 0.9688100948701803, 'diff_minEdit': 0.9506672436104492, 'diff_simple': 0.9456867560929529, 'sing_LoughranMcDonald': -0.0019640887397735646, '0': {'type': '10-Q', 'published': datetime.date(2010, 8, 11), 'qtr': (2010, 3)}}\n",
      "[INFO] Comparing current qtr (2010, 4) to qtr (2010, 3) from 1 quarter ago.\n",
      "[INFO] Found a ToC!\n",
      "{'diff_jaccard': 0.6736006232626451, 'diff_cosine_tf': 0.9845063489071597, 'diff_cosine_tf_idf': 0.9820698076984443, 'diff_minEdit': 0.832365403082792, 'diff_simple': 0.8555170961765203, 'sing_LoughranMcDonald': -0.0004892094160612858, '0': {'type': '10-K', 'published': datetime.date(2012, 2, 29), 'qtr': (2012, 1)}}\n",
      "[INFO] Comparing current qtr (2012, 2) to qtr (2012, 1) from 1 quarter ago.\n",
      "{'diff_jaccard': 0.35772258592349687, 'diff_cosine_tf': 0.929430758434216, 'diff_cosine_tf_idf': 0.9230107519125292, 'diff_minEdit': 0.8801108009229097, 'diff_simple': 0.8812657834857729, 'sing_LoughranMcDonald': -0.0008875129790762078, '0': {'type': '10-Q', 'published': datetime.date(2011, 5, 6), 'qtr': (2011, 2)}}\n",
      "[INFO] Comparing current qtr (2011, 3) to qtr (2011, 2) from 1 quarter ago.\n"
     ]
    },
    {
     "name": "stdout",
     "output_type": "stream",
     "text": [
      "{'diff_jaccard': 0.7101752221803698, 'diff_cosine_tf': 0.958972885245778, 'diff_cosine_tf_idf': 0.9453161244854008, 'diff_minEdit': 0.9766631818420914, 'diff_simple': 0.9716811319762243, 'sing_LoughranMcDonald': -0.0011194945380037758, '0': {'type': '10-Q', 'published': datetime.date(2010, 11, 15), 'qtr': (2010, 4)}}\n",
      "[INFO] Comparing current qtr (2011, 1) to qtr (2010, 4) from 1 quarter ago.\n",
      "{'diff_jaccard': 0.002965552273465654, 'diff_cosine_tf': 0.12291042928591002, 'diff_cosine_tf_idf': 0.09525585190289405, 'diff_minEdit': 0.9258780870090928, 'diff_simple': 0.3463587298426626, 'sing_LoughranMcDonald': 0.0, '0': {'type': '10-Q', 'published': datetime.date(2010, 11, 4), 'qtr': (2010, 4)}}\n",
      "[INFO] Comparing current qtr (2011, 1) to qtr (2010, 4) from 1 quarter ago.\n",
      "[INFO] Found a ToC!\n",
      "[INFO] No ToC found\n",
      "[WARNING] Section _i_2 was found to be empty.\n",
      "{'diff_jaccard': 0.44806877220691654, 'diff_cosine_tf': 0.8987748860665219, 'diff_cosine_tf_idf': 0.8880014018960878, 'diff_minEdit': 0.8526453988425996, 'diff_simple': 0.8799268074645211, 'sing_LoughranMcDonald': -0.0018351751451968312, '0': {'type': '10-Q', 'published': datetime.date(2012, 4, 26), 'qtr': (2012, 2)}}\n",
      "{'diff_jaccard': 0.8548979633818695, 'diff_cosine_tf': 0.9739066271739578, 'diff_cosine_tf_idf': 0.9579189119217957, 'diff_minEdit': 0.9987459407121599, 'diff_simple': 0.995654684567634, 'sing_LoughranMcDonald': -0.0007835955786634414, '0': {'type': '10-Q', 'published': datetime.date(2011, 8, 5), 'qtr': (2011, 3)}}\n",
      "[INFO] Comparing current qtr (2012, 3) to qtr (2012, 2) from 1 quarter ago.\n",
      "[INFO] Comparing current qtr (2011, 4) to qtr (2011, 3) from 1 quarter ago.\n",
      "[INFO] Found a ToC!\n",
      "[INFO] Found a ToC!\n",
      "{'diff_jaccard': 0.0038170577310467162, 'diff_cosine_tf': 0.21014911810029968, 'diff_cosine_tf_idf': 0.1635038637862326, 'diff_minEdit': 0.938611131685205, 'diff_simple': 0.45330292569332303, 'sing_LoughranMcDonald': -0.0002429339831652367, '0': {'type': '10-K', 'published': datetime.date(2011, 2, 24), 'qtr': (2011, 1)}}\n",
      "[INFO] Comparing current qtr (2011, 2) to qtr (2011, 1) from 1 quarter ago.\n",
      "[INFO] Found a ToC!\n",
      "[INFO] Comparing current qtr (2010, 2) to qtr (2010, 1) from 1 quarter ago.\n",
      "{'diff_jaccard': 0.34984182079557735, 'diff_cosine_tf': 0.9335557209095716, 'diff_cosine_tf_idf': 0.9253588178895406, 'diff_minEdit': 0.7930017146998808, 'diff_simple': 0.693388621285104, 'sing_LoughranMcDonald': -0.0002904414511727425, '0': {'type': '10-K', 'published': datetime.date(2011, 3, 17), 'qtr': (2011, 1)}}\n",
      "[INFO] Comparing current qtr (2011, 2) to qtr (2011, 1) from 1 quarter ago.\n",
      "{'diff_jaccard': 0.7789157428722397, 'diff_cosine_tf': 0.9839058696785277, 'diff_cosine_tf_idf': 0.9821843817715236, 'diff_minEdit': 1.0, 'diff_simple': 1.0, 'sing_LoughranMcDonald': -0.0006853926706736048, '0': {'type': '10-Q', 'published': datetime.date(2011, 11, 8), 'qtr': (2011, 4)}}\n",
      "{'diff_jaccard': 0.003991122329130142, 'diff_cosine_tf': 0.05976640421420766, 'diff_cosine_tf_idf': 0.033837243909300777, 'diff_minEdit': 0.627404737334746, 'diff_simple': 0.19873830740288573, 'sing_LoughranMcDonald': -0.0012939989627308343, '0': {'type': '10-Q', 'published': datetime.date(2010, 4, 26), 'qtr': (2010, 2)}}\n",
      "[INFO] Comparing current qtr (2012, 1) to qtr (2011, 4) from 1 quarter ago.\n",
      "[INFO] Comparing current qtr (2010, 3) to qtr (2010, 2) from 1 quarter ago.\n",
      "{'diff_jaccard': 0.5413647052041126, 'diff_cosine_tf': 0.900215065977308, 'diff_cosine_tf_idf': 0.8928512446211272, 'diff_minEdit': 0.9151079856526666, 'diff_simple': 0.9261439475178199, 'sing_LoughranMcDonald': -0.0008545247918086957, '0': {'type': '10-Q', 'published': datetime.date(2012, 7, 26), 'qtr': (2012, 3)}}\n",
      "[INFO] Comparing current qtr (2012, 4) to qtr (2012, 3) from 1 quarter ago.\n",
      "{'diff_jaccard': 0.8058185052792703, 'diff_cosine_tf': 0.9578881443964303, 'diff_cosine_tf_idf': 0.9407687445480578, 'diff_minEdit': 1.0, 'diff_simple': 1.0, 'sing_LoughranMcDonald': -0.0010052932453411588, '0': {'type': '10-Q', 'published': datetime.date(2010, 7, 20), 'qtr': (2010, 3)}}\n",
      "[INFO] Comparing current qtr (2010, 4) to qtr (2010, 3) from 1 quarter ago.\n",
      "{'diff_jaccard': 0.7579718203702281, 'diff_cosine_tf': 0.9608528010676448, 'diff_cosine_tf_idf': 0.9541038663006011, 'diff_minEdit': 0.9886507931516072, 'diff_simple': 0.9878733983080197, 'sing_LoughranMcDonald': -0.0001650895516006721, '0': {'type': '10-Q', 'published': datetime.date(2011, 5, 5), 'qtr': (2011, 2)}}\n",
      "[INFO] Comparing current qtr (2011, 3) to qtr (2011, 2) from 1 quarter ago.\n",
      "{'diff_jaccard': 0.7270648044332884, 'diff_cosine_tf': 0.9766938219992795, 'diff_cosine_tf_idf': 0.9728755779626358, 'diff_minEdit': 0.9999999999999999, 'diff_simple': 0.9999999999999999, 'sing_LoughranMcDonald': -0.001203054398013121, '0': {'type': '10-Q', 'published': datetime.date(2010, 10, 27), 'qtr': (2010, 4)}}\n",
      "[INFO] Comparing current qtr (2011, 1) to qtr (2010, 4) from 1 quarter ago.\n",
      "{'diff_jaccard': 0.24979042152466738, 'diff_cosine_tf': 0.8666214125620922, 'diff_cosine_tf_idf': 0.8496740689641372, 'diff_minEdit': 0.812475723588593, 'diff_simple': 0.6948410074513945, 'sing_LoughranMcDonald': -0.0015009726453751062, '0': {'type': '10-Q', 'published': datetime.date(2011, 5, 11), 'qtr': (2011, 2)}}\n",
      "[INFO] Comparing current qtr (2011, 3) to qtr (2011, 2) from 1 quarter ago.\n",
      "{'diff_jaccard': 0.06733856069633824, 'diff_cosine_tf': 0.5512782084374424, 'diff_cosine_tf_idf': 0.4814123746958476, 'diff_minEdit': 0.6671355585841028, 'diff_simple': 0.604343423102604, 'sing_LoughranMcDonald': -0.0008826093960450401, '0': {'type': '10-K', 'published': datetime.date(2011, 2, 14), 'qtr': (2011, 1)}}\n",
      "[INFO] Comparing current qtr (2011, 2) to qtr (2011, 1) from 1 quarter ago.\n",
      "{'diff_jaccard': 0.8171977268104107, 'diff_cosine_tf': 0.9720081702424119, 'diff_cosine_tf_idf': 0.9610220993280868, 'diff_minEdit': 0.9940477335693397, 'diff_simple': 0.9914922271817763, 'sing_LoughranMcDonald': -0.001705827814678952, '0': {'type': '10-Q', 'published': datetime.date(2011, 8, 9), 'qtr': (2011, 3)}}\n",
      "[INFO] Comparing current qtr (2011, 4) to qtr (2011, 3) from 1 quarter ago.\n",
      "{'diff_jaccard': 0.8439126358798988, 'diff_cosine_tf': 0.9910568094499244, 'diff_cosine_tf_idf': 0.9876782357925492, 'diff_minEdit': 0.9962508950709305, 'diff_simple': 0.9907976515377382, 'sing_LoughranMcDonald': -0.0002772817071145251, '0': {'type': '10-Q', 'published': datetime.date(2012, 10, 25), 'qtr': (2012, 4)}}\n"
     ]
    },
    {
     "name": "stderr",
     "output_type": "stream",
     "text": [
      "\n",
      "  6%|▌         | 60/1000 [00:41<26:16,  1.68s/it]\u001b[A\n",
      "\n",
      "60it [00:41,  1.68s/it]\u001b[A\u001b[A"
     ]
    },
    {
     "name": "stdout",
     "output_type": "stream",
     "text": [
      "{'diff_jaccard': 0.9347498369961191, 'diff_cosine_tf': 0.9881913063895211, 'diff_cosine_tf_idf': 0.9849162565636236, 'diff_minEdit': 0.9999472601656032, 'diff_simple': 0.999985232846369, 'sing_LoughranMcDonald': -0.00015393230984939708, '0': {'type': '10-Q', 'published': datetime.date(2011, 8, 5), 'qtr': (2011, 3)}}\n",
      "[INFO] Comparing current qtr (2011, 4) to qtr (2011, 3) from 1 quarter ago.\n",
      "{'diff_jaccard': 0.06777464438912878, 'diff_cosine_tf': 0.5891859576926971, 'diff_cosine_tf_idf': 0.51753342011622, 'diff_minEdit': 0.7431964980328462, 'diff_simple': 0.5785696615315418, 'sing_LoughranMcDonald': -0.0011773085449717662, '0': {'type': '10-Q', 'published': datetime.date(2011, 4, 27), 'qtr': (2011, 2)}}\n",
      "[INFO] Comparing current qtr (2011, 3) to qtr (2011, 2) from 1 quarter ago.\n",
      "{'diff_jaccard': 0.7928655409888309, 'diff_cosine_tf': 0.975295517091103, 'diff_cosine_tf_idf': 0.9637787095964325, 'diff_minEdit': 0.9947282903051092, 'diff_simple': 0.9984712041884817, 'sing_LoughranMcDonald': -0.0016982299910854584, '0': {'type': '10-Q', 'published': datetime.date(2011, 11, 9), 'qtr': (2011, 4)}}\n",
      "[INFO] Comparing current qtr (2012, 1) to qtr (2011, 4) from 1 quarter ago.\n",
      "{'diff_jaccard': 0.28130422346868666, 'diff_cosine_tf': 0.8744318970138747, 'diff_cosine_tf_idf': 0.8658537995400019, 'diff_minEdit': 0.7950176468013433, 'diff_simple': 0.7924937030439653, 'sing_LoughranMcDonald': -9.07872386021232e-05, '0': {'type': '10-K', 'published': datetime.date(2012, 3, 2), 'qtr': (2012, 1)}}\n",
      "[INFO] Comparing current qtr (2012, 2) to qtr (2012, 1) from 1 quarter ago.\n",
      "{'diff_jaccard': 0.6801574615876577, 'diff_cosine_tf': 0.958972474837039, 'diff_cosine_tf_idf': 0.9480676667654191, 'diff_minEdit': 1.0, 'diff_simple': 1.0, 'sing_LoughranMcDonald': -0.0014397313776882388, '0': {'type': '10-Q', 'published': datetime.date(2011, 7, 21), 'qtr': (2011, 3)}}\n",
      "[INFO] Comparing current qtr (2011, 4) to qtr (2011, 3) from 1 quarter ago.\n",
      "{'diff_jaccard': 0.7489391518114259, 'diff_cosine_tf': 0.9782146339627976, 'diff_cosine_tf_idf': 0.9734528804971643, 'diff_minEdit': 0.9999999999999999, 'diff_simple': 0.9999999999999999, 'sing_LoughranMcDonald': -0.001156497970574381, '0': {'type': '10-Q', 'published': datetime.date(2011, 11, 2), 'qtr': (2011, 4)}}\n",
      "[INFO] Comparing current qtr (2012, 1) to qtr (2011, 4) from 1 quarter ago.\n",
      "{'diff_jaccard': 0.9007440749262177, 'diff_cosine_tf': 0.991498717674431, 'diff_cosine_tf_idf': 0.9846684309343694, 'diff_minEdit': 0.9975817308199268, 'diff_simple': 0.9983072115739487, 'sing_LoughranMcDonald': -0.00017996975559197564, '0': {'type': '10-Q', 'published': datetime.date(2011, 11, 4), 'qtr': (2011, 4)}}\n",
      "[INFO] Comparing current qtr (2012, 1) to qtr (2011, 4) from 1 quarter ago.\n",
      "{'diff_jaccard': 0.06649589977770977, 'diff_cosine_tf': 0.5543743484779036, 'diff_cosine_tf_idf': 0.48436954211704014, 'diff_minEdit': 0.6823251349770469, 'diff_simple': 0.5927590309322951, 'sing_LoughranMcDonald': -0.0009002370137209576, '0': {'type': '10-K', 'published': datetime.date(2012, 2, 22), 'qtr': (2012, 1)}}\n",
      "{'diff_jaccard': 0.25399462956461055, 'diff_cosine_tf': 0.8607150237554032, 'diff_cosine_tf_idf': 0.8512687275427189, 'diff_minEdit': 0.7792019178169208, 'diff_simple': 0.7924555549666393, 'sing_LoughranMcDonald': -0.0008425406836664337, '0': {'type': '10-Q', 'published': datetime.date(2012, 5, 3), 'qtr': (2012, 2)}}\n",
      "[INFO] Comparing current qtr (2012, 3) to qtr (2012, 2) from 1 quarter ago.\n",
      "[INFO] Comparing current qtr (2012, 2) to qtr (2012, 1) from 1 quarter ago.\n",
      "{'diff_jaccard': 0.22771311326070126, 'diff_cosine_tf': 0.804459888064423, 'diff_cosine_tf_idf': 0.7827413213069027, 'diff_minEdit': 0.7872075755821156, 'diff_simple': 0.7427614742696945, 'sing_LoughranMcDonald': -0.0003409643797968531, '0': {'type': '10-K', 'published': datetime.date(2012, 3, 9), 'qtr': (2012, 1)}}\n",
      "[INFO] Comparing current qtr (2012, 2) to qtr (2012, 1) from 1 quarter ago.\n",
      "{'diff_jaccard': 0.07428777053717608, 'diff_cosine_tf': 0.5780197905606723, 'diff_cosine_tf_idf': 0.5041985911120324, 'diff_minEdit': 0.7133684276255031, 'diff_simple': 0.5498759366171232, 'sing_LoughranMcDonald': -0.0014759139591108404, '0': {'type': '10-Q', 'published': datetime.date(2012, 4, 26), 'qtr': (2012, 2)}}\n",
      "[INFO] Comparing current qtr (2012, 3) to qtr (2012, 2) from 1 quarter ago.\n",
      "{'diff_jaccard': 0.8343550601229283, 'diff_cosine_tf': 0.9714080366954537, 'diff_cosine_tf_idf': 0.9585553951978041, 'diff_minEdit': 1.0, 'diff_simple': 1.0, 'sing_LoughranMcDonald': -0.0007758844108894172, '0': {'type': '10-Q', 'published': datetime.date(2012, 8, 3), 'qtr': (2012, 3)}}\n",
      "[INFO] Comparing current qtr (2012, 4) to qtr (2012, 3) from 1 quarter ago.\n",
      "[INFO] Found a ToC!\n",
      "{'diff_jaccard': 0.7774214713656796, 'diff_cosine_tf': 0.9745652912074004, 'diff_cosine_tf_idf': 0.9706994078752663, 'diff_minEdit': 1.0, 'diff_simple': 1.0, 'sing_LoughranMcDonald': -0.0013991704177427659, '0': {'type': '10-Q', 'published': datetime.date(2012, 7, 24), 'qtr': (2012, 3)}}\n",
      "[INFO] Comparing current qtr (2012, 4) to qtr (2012, 3) from 1 quarter ago.\n",
      "{'diff_jaccard': 0.18519196404450447, 'diff_cosine_tf': 0.8468719669799061, 'diff_cosine_tf_idf': 0.8263299941951687, 'diff_minEdit': 0.804989681949832, 'diff_simple': 0.6890223139347894, 'sing_LoughranMcDonald': -0.0010276084684427134, '0': {'type': '10-Q', 'published': datetime.date(2012, 5, 9), 'qtr': (2012, 2)}}\n",
      "[INFO] Comparing current qtr (2012, 3) to qtr (2012, 2) from 1 quarter ago.\n",
      "{'diff_jaccard': 0.7199749232542052, 'diff_cosine_tf': 0.9650186253984739, 'diff_cosine_tf_idf': 0.9580026649047899, 'diff_minEdit': 0.9897836478718453, 'diff_simple': 0.9882444673775942, 'sing_LoughranMcDonald': -0.0002768800358524509, '0': {'type': '10-K', 'published': datetime.date(2012, 2, 17), 'qtr': (2012, 1)}}\n",
      "[INFO] Comparing current qtr (2012, 2) to qtr (2012, 1) from 1 quarter ago.\n",
      "{'diff_jaccard': 0.8356625660956363, 'diff_cosine_tf': 0.9859985421458949, 'diff_cosine_tf_idf': 0.977730065318832, 'diff_minEdit': 1.0, 'diff_simple': 1.0, 'sing_LoughranMcDonald': -0.001291470888590233, '0': {'type': '10-Q', 'published': datetime.date(2012, 10, 23), 'qtr': (2012, 4)}}\n"
     ]
    },
    {
     "name": "stderr",
     "output_type": "stream",
     "text": [
      "\n",
      "  6%|▌         | 61/1000 [00:42<23:00,  1.47s/it]\u001b[A\n",
      "\n",
      "61it [00:42,  1.47s/it]\u001b[A\u001b[A"
     ]
    },
    {
     "name": "stdout",
     "output_type": "stream",
     "text": [
      "{'diff_jaccard': 0.8168373035216403, 'diff_cosine_tf': 0.9853000338516159, 'diff_cosine_tf_idf': 0.9784961946526151, 'diff_minEdit': 1.0, 'diff_simple': 1.0, 'sing_LoughranMcDonald': -0.0007644430046929398, '0': {'type': '10-Q', 'published': datetime.date(2012, 11, 2), 'qtr': (2012, 4)}}\n",
      "[INFO] No ToC found\n",
      "{'diff_jaccard': 0.6714847951112514, 'diff_cosine_tf': 0.9336664294354543, 'diff_cosine_tf_idf': 0.9121518943179348, 'diff_minEdit': 0.9689762936401215, 'diff_simple': 0.968709099058718, 'sing_LoughranMcDonald': -0.002048678148911076, '0': {'type': '10-Q', 'published': datetime.date(2012, 8, 8), 'qtr': (2012, 3)}}\n"
     ]
    },
    {
     "name": "stderr",
     "output_type": "stream",
     "text": [
      "\n",
      "  6%|▋         | 63/1000 [00:42<16:22,  1.05s/it]\u001b[A\n",
      "\n",
      "63it [00:42,  1.05s/it]\u001b[A\u001b[A"
     ]
    },
    {
     "name": "stdout",
     "output_type": "stream",
     "text": [
      "[INFO] Found a ToC!\n",
      "[INFO] No ToC found\n",
      "[INFO] Found a ToC!\n",
      "[INFO] No ToC found\n",
      "[INFO] Found a ToC!\n",
      "{'diff_jaccard': 0.599084516241159, 'diff_cosine_tf': 0.874874268857019, 'diff_cosine_tf_idf': 0.8455280588128019, 'diff_minEdit': 0.9110508651885609, 'diff_simple': 0.8808775874992791, 'sing_LoughranMcDonald': -0.0004895369821511844, '0': {'type': '10-Q', 'published': datetime.date(2012, 5, 3), 'qtr': (2012, 2)}}\n",
      "[INFO] Comparing current qtr (2012, 3) to qtr (2012, 2) from 1 quarter ago.\n",
      "[INFO] Found a ToC!\n",
      "[INFO] Found a ToC!\n",
      "[INFO] No ToC found\n",
      "[WARNING] Section _i_2 was found to be empty.\n",
      "[WARNING] Section _i_3 was found to be empty.\n",
      "[WARNING] Section _i_4 was found to be empty.\n",
      "[INFO] Found a ToC!\n",
      "[WARNING] Section _i_4 was found to be empty.\n",
      "[INFO] Found a ToC!\n",
      "[INFO] No ToC found\n",
      "[INFO] Found a ToC!\n",
      "[WARNING] Section _i_4 was found to be empty.\n",
      "[WARNING] Section _i_4 was found to be empty.\n",
      "[INFO] Found a ToC!\n",
      "[INFO] Comparing current qtr (2010, 2) to qtr (2010, 1) from 1 quarter ago.\n",
      "[INFO] Found a ToC!\n",
      "[WARNING] Section _i_4 was found to be empty.\n",
      "[INFO] No ToC found\n",
      "[WARNING] Section _i_4 was found to be empty.\n",
      "[INFO] Found a ToC!\n",
      "[INFO] Found a ToC!\n",
      "[INFO] No ToC found\n",
      "[WARNING] Section _i_2 was found to be empty.\n",
      "[INFO] Found a ToC!\n",
      "{'diff_jaccard': 0.51259867499046, 'diff_cosine_tf': 0.9546364886873007, 'diff_cosine_tf_idf': 0.9489665206409503, 'diff_minEdit': 0.8800602601044072, 'diff_simple': 0.8818183072359799, 'sing_LoughranMcDonald': -0.0007914036488130052, '0': {'type': '10-Q', 'published': datetime.date(2010, 5, 6), 'qtr': (2010, 2)}}\n",
      "{'diff_jaccard': 0.8908608211187066, 'diff_cosine_tf': 0.9916940568528256, 'diff_cosine_tf_idf': 0.9890178336236137, 'diff_minEdit': 0.8429131072966453, 'diff_simple': 0.8747793055307543, 'sing_LoughranMcDonald': -0.00045082351763967856, '0': {'type': '10-Q', 'published': datetime.date(2012, 8, 3), 'qtr': (2012, 3)}}\n",
      "[INFO] Comparing current qtr (2010, 3) to qtr (2010, 2) from 1 quarter ago.\n",
      "[INFO] Comparing current qtr (2012, 4) to qtr (2012, 3) from 1 quarter ago.\n",
      "[INFO] No ToC found\n",
      "[INFO] Found a ToC!\n",
      "[INFO] Found a ToC!\n",
      "[INFO] Found a ToC!\n",
      "[INFO] Found a ToC!\n",
      "[WARNING] Section _i_4 was found to be empty.\n",
      "[INFO] No ToC found\n",
      "[WARNING] Section _i_2 was found to be empty.\n",
      "[INFO] No ToC found\n",
      "[INFO] Found a ToC!\n",
      "[WARNING] Section _i_4 was found to be empty.\n",
      "{'diff_jaccard': 0.002743059221421255, 'diff_cosine_tf': 0.11219398585805192, 'diff_cosine_tf_idf': 0.08730637625052924, 'diff_minEdit': 0.9418554396875354, 'diff_simple': 0.32110949390663507, 'sing_LoughranMcDonald': 0.0, '0': {'type': '10-Q', 'published': datetime.date(2012, 11, 7), 'qtr': (2012, 4)}}\n"
     ]
    },
    {
     "name": "stderr",
     "output_type": "stream",
     "text": [
      "\n",
      "  6%|▋         | 64/1000 [00:43<17:29,  1.12s/it]"
     ]
    },
    {
     "name": "stdout",
     "output_type": "stream",
     "text": [
      "[INFO] No ToC found\n"
     ]
    },
    {
     "name": "stderr",
     "output_type": "stream",
     "text": [
      "\u001b[A\n",
      "\n",
      "64it [00:43,  1.12s/it]\u001b[A\u001b[A"
     ]
    },
    {
     "name": "stdout",
     "output_type": "stream",
     "text": [
      "[INFO] Found a ToC!\n",
      "[INFO] Found a ToC!\n",
      "[WARNING] Section _i_4 was found to be empty.\n",
      "{'diff_jaccard': 0.7418022627340061, 'diff_cosine_tf': 0.9756998231167537, 'diff_cosine_tf_idf': 0.970122342422004, 'diff_minEdit': 0.9889784220161459, 'diff_simple': 0.9770751177935836, 'sing_LoughranMcDonald': -0.0005908041754873882, '0': {'type': '10-Q', 'published': datetime.date(2010, 8, 5), 'qtr': (2010, 3)}}\n",
      "[INFO] Comparing current qtr (2010, 4) to qtr (2010, 3) from 1 quarter ago.\n",
      "[INFO] Found a ToC!\n",
      "[INFO] No ToC found\n",
      "[INFO] Found a ToC!\n",
      "[WARNING] Section ii_1 was found to be empty.\n",
      "[INFO] No ToC found\n",
      "[WARNING] Section _i_4 was found to be empty.\n",
      "[INFO] Found a ToC!\n",
      "[INFO] No ToC found\n",
      "[WARNING] Section _i_2 was found to be empty.\n",
      "[INFO] No ToC found\n",
      "{'diff_jaccard': 0.6495733469473515, 'diff_cosine_tf': 0.8840499075720276, 'diff_cosine_tf_idf': 0.875861219550609, 'diff_minEdit': 0.9461774878030167, 'diff_simple': 0.9362818836287371, 'sing_LoughranMcDonald': -0.0006439919096832223, '0': {'type': '10-Q', 'published': datetime.date(2010, 11, 4), 'qtr': (2010, 4)}}\n",
      "[INFO] Comparing current qtr (2011, 1) to qtr (2010, 4) from 1 quarter ago.\n",
      "[INFO] Found a ToC!\n",
      "[WARNING] Section _i_4 was found to be empty.\n",
      "[INFO] Found a ToC!\n",
      "[INFO] No ToC found\n",
      "[INFO] Found a ToC!\n",
      "[INFO] Found a ToC!\n",
      "[INFO] No ToC found\n",
      "[WARNING] Section _i_4 was found to be empty.\n",
      "[INFO] Found a ToC!\n",
      "[INFO] Comparing current qtr (2010, 2) to qtr (2010, 1) from 1 quarter ago.\n",
      "[INFO] Found a ToC!\n",
      "{'diff_jaccard': 0.42801443544383444, 'diff_cosine_tf': 0.8765681829533913, 'diff_cosine_tf_idf': 0.8679008782261481, 'diff_minEdit': 0.8604736903654591, 'diff_simple': 0.8092000445542095, 'sing_LoughranMcDonald': -0.0004742613604636989, '0': {'type': '10-K', 'published': datetime.date(2011, 2, 24), 'qtr': (2011, 1)}}\n",
      "[INFO] Comparing current qtr (2011, 2) to qtr (2011, 1) from 1 quarter ago.\n",
      "[INFO] Found a ToC!\n",
      "[INFO] Comparing current qtr (2012, 3) to qtr (2012, 2) from 1 quarter ago.\n",
      "[INFO] Found a ToC!\n",
      "[WARNING] Section ii_1 was found to be empty.\n",
      "{'diff_jaccard': 0.23487643203580263, 'diff_cosine_tf': 0.6459621908993198, 'diff_cosine_tf_idf': 0.5909583462655958, 'diff_minEdit': 0.8268337696298589, 'diff_simple': 0.5883258631000396, 'sing_LoughranMcDonald': -0.001926976385140956, '0': {'type': '10-Q', 'published': datetime.date(2010, 5, 10), 'qtr': (2010, 2)}}\n",
      "[INFO] Comparing current qtr (2010, 3) to qtr (2010, 2) from 1 quarter ago.\n",
      "{'diff_jaccard': 0.8607413945597854, 'diff_cosine_tf': 0.9807989901939356, 'diff_cosine_tf_idf': 0.9737399543815833, 'diff_minEdit': 0.9995592200788219, 'diff_simple': 0.9986618373675001, 'sing_LoughranMcDonald': -0.0016459102502826082, '0': {'type': '10-Q', 'published': datetime.date(2010, 8, 9), 'qtr': (2010, 3)}}\n",
      "[INFO] Comparing current qtr (2010, 4) to qtr (2010, 3) from 1 quarter ago.\n",
      "[INFO] Found a ToC!\n",
      "{'diff_jaccard': 0.759564453475086, 'diff_cosine_tf': 0.9826998022605574, 'diff_cosine_tf_idf': 0.9794259126139925, 'diff_minEdit': 0.9999999999999999, 'diff_simple': 0.9999999999999999, 'sing_LoughranMcDonald': -0.0007427239670916389, '0': {'type': '10-Q', 'published': datetime.date(2012, 8, 7), 'qtr': (2012, 3)}}\n",
      "[INFO] Comparing current qtr (2012, 4) to qtr (2012, 3) from 1 quarter ago.\n",
      "{'diff_jaccard': 0.48163517256002114, 'diff_cosine_tf': 0.9541092177247988, 'diff_cosine_tf_idf': 0.9484499892875425, 'diff_minEdit': 0.8753891171709625, 'diff_simple': 0.8373827979081061, 'sing_LoughranMcDonald': -0.0009276872450414594, '0': {'type': '10-Q', 'published': datetime.date(2011, 5, 6), 'qtr': (2011, 2)}}\n",
      "{'diff_jaccard': 0.86319044435856, 'diff_cosine_tf': 0.9585081176810627, 'diff_cosine_tf_idf': 0.9410520553479139, 'diff_minEdit': 1.0, 'diff_simple': 1.0, 'sing_LoughranMcDonald': -0.0016055385147998756, '0': {'type': '10-Q', 'published': datetime.date(2010, 11, 8), 'qtr': (2010, 4)}}\n",
      "[INFO] Comparing current qtr (2011, 3) to qtr (2011, 2) from 1 quarter ago.\n",
      "[INFO] Comparing current qtr (2011, 1) to qtr (2010, 4) from 1 quarter ago.\n",
      "[INFO] Found a ToC!\n",
      "[INFO] Found a ToC!\n",
      "[INFO] No ToC found\n",
      "[WARNING] Section ii_1 was found to be empty.\n",
      "[INFO] No ToC found\n",
      "{'diff_jaccard': 0.19959964811427716, 'diff_cosine_tf': 0.6227394257350423, 'diff_cosine_tf_idf': 0.5629478092754713, 'diff_minEdit': 0.7659863228107807, 'diff_simple': 0.6034897210388203, 'sing_LoughranMcDonald': -0.000799248560395307, '0': {'type': '10-K', 'published': datetime.date(2011, 3, 11), 'qtr': (2011, 1)}}\n",
      "[INFO] Comparing current qtr (2011, 2) to qtr (2011, 1) from 1 quarter ago.\n",
      "[INFO] Found a ToC!\n",
      "{'diff_jaccard': 0.6920097354342598, 'diff_cosine_tf': 0.951459419400598, 'diff_cosine_tf_idf': 0.9454996164066862, 'diff_minEdit': 0.9460426193651394, 'diff_simple': 0.9338145808434353, 'sing_LoughranMcDonald': -0.00017798749225764247, '0': {'type': '10-Q', 'published': datetime.date(2011, 8, 8), 'qtr': (2011, 3)}}\n",
      "[INFO] Comparing current qtr (2011, 4) to qtr (2011, 3) from 1 quarter ago.\n",
      "{'diff_jaccard': 0.8533801703274816, 'diff_cosine_tf': 0.9933173231979033, 'diff_cosine_tf_idf': 0.9916351321456655, 'diff_minEdit': 1.0, 'diff_simple': 1.0, 'sing_LoughranMcDonald': -0.0008323172231444099, '0': {'type': '10-Q', 'published': datetime.date(2012, 11, 6), 'qtr': (2012, 4)}}\n"
     ]
    },
    {
     "name": "stderr",
     "output_type": "stream",
     "text": [
      "\n",
      "  6%|▋         | 65/1000 [00:45<19:53,  1.28s/it]\u001b[A\n",
      "\n",
      "65it [00:45,  1.27s/it]\u001b[A\u001b[A"
     ]
    },
    {
     "name": "stdout",
     "output_type": "stream",
     "text": [
      "[INFO] Found a ToC!\n",
      "[WARNING] Section ii_1 was found to be empty.\n",
      "[INFO] No ToC found\n",
      "{'diff_jaccard': 0.23775613264668, 'diff_cosine_tf': 0.628914824299978, 'diff_cosine_tf_idf': 0.5746142211399822, 'diff_minEdit': 0.7598626189736088, 'diff_simple': 0.6021637671421443, 'sing_LoughranMcDonald': -0.0018558580477886252, '0': {'type': '10-Q', 'published': datetime.date(2011, 5, 10), 'qtr': (2011, 2)}}\n",
      "[WARNING] Section ii_1 was found to be empty.\n",
      "[INFO] Comparing current qtr (2011, 3) to qtr (2011, 2) from 1 quarter ago.\n",
      "{'diff_jaccard': 0.6636519479571014, 'diff_cosine_tf': 0.9489524066820813, 'diff_cosine_tf_idf': 0.9385878398897061, 'diff_minEdit': 0.9981971153846153, 'diff_simple': 0.9945266272189349, 'sing_LoughranMcDonald': -0.0013039184109241162, '0': {'type': '10-Q', 'published': datetime.date(2011, 8, 11), 'qtr': (2011, 3)}}\n",
      "[INFO] Comparing current qtr (2011, 4) to qtr (2011, 3) from 1 quarter ago.\n",
      "[INFO] No ToC found\n",
      "[WARNING] Section ii_1 was found to be empty.\n",
      "[INFO] Found a ToC!\n",
      "[WARNING] Section ii_1 was found to be empty.\n",
      "{'diff_jaccard': 0.6577071335236205, 'diff_cosine_tf': 0.9851205542333334, 'diff_cosine_tf_idf': 0.9813340033416865, 'diff_minEdit': 0.9804176531739217, 'diff_simple': 0.9667277205835912, 'sing_LoughranMcDonald': -0.0003126911799696518, '0': {'type': '10-Q', 'published': datetime.date(2011, 11, 3), 'qtr': (2011, 4)}}\n",
      "[INFO] Comparing current qtr (2010, 2) to qtr (2010, 1) from 1 quarter ago.\n",
      "{'diff_jaccard': 0.751819418683728, 'diff_cosine_tf': 0.9579518966017916, 'diff_cosine_tf_idf': 0.9395958969846137, 'diff_minEdit': 0.9982701505833916, 'diff_simple': 0.9938244375827084, 'sing_LoughranMcDonald': -0.0012066859565763631, '0': {'type': '10-Q', 'published': datetime.date(2011, 11, 9), 'qtr': (2011, 4)}}\n",
      "[INFO] Comparing current qtr (2012, 1) to qtr (2011, 4) from 1 quarter ago.\n",
      "[INFO] Comparing current qtr (2012, 1) to qtr (2011, 4) from 1 quarter ago.\n",
      "[INFO] Found a ToC!\n",
      "[INFO] No ToC found\n",
      "[INFO] No ToC found\n",
      "[WARNING] Section ii_1 was found to be empty.\n",
      "[INFO] Comparing current qtr (2010, 2) to qtr (2010, 1) from 1 quarter ago.\n",
      "{'diff_jaccard': 0.22887989744948262, 'diff_cosine_tf': 0.6791790320436007, 'diff_cosine_tf_idf': 0.6176257726129779, 'diff_minEdit': 0.7552997344847265, 'diff_simple': 0.5958880637463965, 'sing_LoughranMcDonald': -0.00046063566891552853, '0': {'type': '10-K', 'published': datetime.date(2012, 3, 15), 'qtr': (2012, 1)}}\n",
      "[INFO] Comparing current qtr (2012, 2) to qtr (2012, 1) from 1 quarter ago.\n",
      "[INFO] No ToC found\n",
      "[WARNING] Section _i_4 was found to be empty.\n",
      "[INFO] No ToC found\n",
      "{'diff_jaccard': 0.43865342435585586, 'diff_cosine_tf': 0.8636081804762228, 'diff_cosine_tf_idf': 0.8464978443122384, 'diff_minEdit': 0.837938645225156, 'diff_simple': 0.8547930261217398, 'sing_LoughranMcDonald': -0.0009436604006201722, '0': {'type': '10-Q', 'published': datetime.date(2010, 5, 6), 'qtr': (2010, 2)}}\n",
      "{'diff_jaccard': 0.0042176131468602334, 'diff_cosine_tf': 0.2861616924127804, 'diff_cosine_tf_idf': 0.21492562816778496, 'diff_minEdit': 0.9109235706076558, 'diff_simple': 0.6728495450894548, 'sing_LoughranMcDonald': 0.0, '0': {'type': '10-Q', 'published': datetime.date(2010, 5, 10), 'qtr': (2010, 2)}}\n",
      "[INFO] Comparing current qtr (2010, 3) to qtr (2010, 2) from 1 quarter ago.\n",
      "[INFO] Comparing current qtr (2010, 3) to qtr (2010, 2) from 1 quarter ago.\n",
      "[INFO] Found a ToC!\n",
      "[WARNING] Section _i_4 was found to be empty.\n",
      "{'diff_jaccard': 0.4331614989404035, 'diff_cosine_tf': 0.959463339020125, 'diff_cosine_tf_idf': 0.9544721553690407, 'diff_minEdit': 0.8539333343846758, 'diff_simple': 0.799964280645314, 'sing_LoughranMcDonald': -0.00020826636342205607, '0': {'type': '10-K', 'published': datetime.date(2012, 2, 22), 'qtr': (2012, 1)}}\n",
      "[INFO] Comparing current qtr (2012, 2) to qtr (2012, 1) from 1 quarter ago.\n",
      "{'diff_jaccard': 0.7217171717171718, 'diff_cosine_tf': 0.8399999999999999, 'diff_cosine_tf_idf': 0.7464359212312635, 'diff_minEdit': 0.9166666666666667, 'diff_simple': 0.9579867354867355, 'sing_LoughranMcDonald': 0.0, '0': {'type': '10-Q', 'published': datetime.date(2010, 8, 5), 'qtr': (2010, 3)}}\n",
      "{'diff_jaccard': 0.18603891727275906, 'diff_cosine_tf': 0.4688088733650871, 'diff_cosine_tf_idf': 0.45639444073881796, 'diff_minEdit': 0.8074198807821222, 'diff_simple': 0.5695063825954911, 'sing_LoughranMcDonald': -0.0011871463572354624, '0': {'type': '10-Q', 'published': datetime.date(2012, 5, 14), 'qtr': (2012, 2)}}\n",
      "[INFO] Comparing current qtr (2010, 4) to qtr (2010, 3) from 1 quarter ago.\n",
      "[INFO] Comparing current qtr (2012, 3) to qtr (2012, 2) from 1 quarter ago.\n",
      "{'diff_jaccard': 0.6611111111111111, 'diff_cosine_tf': 0.8399999999999999, 'diff_cosine_tf_idf': 0.7464359212312635, 'diff_minEdit': 0.9, 'diff_simple': 0.9592367802448447, 'sing_LoughranMcDonald': 0.0, '0': {'type': '10-Q', 'published': datetime.date(2010, 11, 4), 'qtr': (2010, 4)}}\n",
      "[INFO] No ToC found\n",
      "[WARNING] Section _i_4 was found to be empty.\n",
      "[INFO] Comparing current qtr (2011, 1) to qtr (2010, 4) from 1 quarter ago.\n",
      "[INFO] Comparing current qtr (2010, 2) to qtr (2010, 1) from 1 quarter ago.\n",
      "{'diff_jaccard': 0.7408626035508061, 'diff_cosine_tf': 0.9841024531627132, 'diff_cosine_tf_idf': 0.9792542868010987, 'diff_minEdit': 0.9998576917603528, 'diff_simple': 0.9995342639429731, 'sing_LoughranMcDonald': -0.0010202599334415928, '0': {'type': '10-Q', 'published': datetime.date(2012, 8, 14), 'qtr': (2012, 3)}}\n",
      "[INFO] Comparing current qtr (2012, 4) to qtr (2012, 3) from 1 quarter ago.\n",
      "{'diff_jaccard': 0.018603578305519897, 'diff_cosine_tf': 0.16310821876719006, 'diff_cosine_tf_idf': 0.11541260831723409, 'diff_minEdit': 0.7565972222222223, 'diff_simple': 0.23615202839383576, 'sing_LoughranMcDonald': -0.05084348297644696, '0': {'type': '10-Q', 'published': datetime.date(2010, 5, 17), 'qtr': (2010, 2)}}\n",
      "[INFO] Comparing current qtr (2010, 3) to qtr (2010, 2) from 1 quarter ago.\n",
      "{'diff_jaccard': 0.8650175746648388, 'diff_cosine_tf': 0.9721897804672817, 'diff_cosine_tf_idf': 0.970754016164967, 'diff_minEdit': 1.0, 'diff_simple': 1.0, 'sing_LoughranMcDonald': -0.0008157083224065086, '0': {'type': '10-Q', 'published': datetime.date(2010, 8, 6), 'qtr': (2010, 3)}}\n",
      "[INFO] Comparing current qtr (2010, 4) to qtr (2010, 3) from 1 quarter ago.\n",
      "{'diff_jaccard': 0.049817886470233386, 'diff_cosine_tf': 0.15126280375092277, 'diff_cosine_tf_idf': 0.10677220331685977, 'diff_minEdit': 0.6465648159001811, 'diff_simple': 0.23728916015422075, 'sing_LoughranMcDonald': -0.0014296113138076213, '0': {'type': '10-Q', 'published': datetime.date(2010, 8, 13), 'qtr': (2010, 3)}}\n",
      "{'diff_jaccard': 0.4451732845585403, 'diff_cosine_tf': 0.9469324467027195, 'diff_cosine_tf_idf': 0.9415111132533983, 'diff_minEdit': 0.8330601947869533, 'diff_simple': 0.7738155273493085, 'sing_LoughranMcDonald': -0.00039966421295047614, '0': {'type': '10-Q', 'published': datetime.date(2012, 5, 4), 'qtr': (2012, 2)}}\n",
      "[INFO] Comparing current qtr (2012, 3) to qtr (2012, 2) from 1 quarter ago.\n",
      "[INFO] Comparing current qtr (2010, 4) to qtr (2010, 3) from 1 quarter ago.\n",
      "{'diff_jaccard': 0.47467740584990387, 'diff_cosine_tf': 0.8306616178266693, 'diff_cosine_tf_idf': 0.8138438574201069, 'diff_minEdit': 0.9407580580978909, 'diff_simple': 0.8886728608550971, 'sing_LoughranMcDonald': -0.0007798103800028659, '0': {'type': '10-Q', 'published': datetime.date(2012, 11, 14), 'qtr': (2012, 4)}}\n"
     ]
    },
    {
     "name": "stderr",
     "output_type": "stream",
     "text": [
      "\n",
      "  7%|▋         | 66/1000 [00:46<18:48,  1.21s/it]\u001b[A\n",
      "\n",
      "66it [00:46,  1.21s/it]\u001b[A\u001b[A"
     ]
    },
    {
     "name": "stdout",
     "output_type": "stream",
     "text": [
      "{'diff_jaccard': 0.7458562277377249, 'diff_cosine_tf': 0.9740979034659799, 'diff_cosine_tf_idf': 0.9592320978647917, 'diff_minEdit': 0.7800708544185029, 'diff_simple': 0.8451070446118883, 'sing_LoughranMcDonald': -0.0014631775438521063, '0': {'type': '10-Q', 'published': datetime.date(2010, 11, 12), 'qtr': (2010, 4)}}\n",
      "[INFO] Comparing current qtr (2011, 1) to qtr (2010, 4) from 1 quarter ago.\n",
      "{'diff_jaccard': 0.00949087798521974, 'diff_cosine_tf': 0.43943400828899826, 'diff_cosine_tf_idf': 0.34217043030757116, 'diff_minEdit': 0.9229552072627613, 'diff_simple': 0.8087978484207707, 'sing_LoughranMcDonald': 0.0, '0': {'type': '10-K', 'published': datetime.date(2011, 3, 1), 'qtr': (2011, 1)}}\n",
      "[INFO] Comparing current qtr (2011, 2) to qtr (2011, 1) from 1 quarter ago.\n",
      "[INFO] No ToC found\n",
      "[INFO] Comparing current qtr (2010, 2) to qtr (2010, 1) from 1 quarter ago.\n",
      "{'diff_jaccard': 0.6840008689747853, 'diff_cosine_tf': 0.9697284083101441, 'diff_cosine_tf_idf': 0.961368808587535, 'diff_minEdit': 0.99978931844517, 'diff_simple': 0.9999662909512271, 'sing_LoughranMcDonald': -0.00039252347465619573, '0': {'type': '10-Q', 'published': datetime.date(2012, 8, 3), 'qtr': (2012, 3)}}\n",
      "{'diff_jaccard': 0.0040393387047138055, 'diff_cosine_tf': 0.28734592389318536, 'diff_cosine_tf_idf': 0.2155902690060326, 'diff_minEdit': 0.8859884136511308, 'diff_simple': 0.6849178009260714, 'sing_LoughranMcDonald': -0.00038293434682120276, '0': {'type': '10-K', 'published': datetime.date(2011, 3, 4), 'qtr': (2011, 1)}}\n",
      "[INFO] Comparing current qtr (2012, 4) to qtr (2012, 3) from 1 quarter ago.\n",
      "[INFO] Comparing current qtr (2011, 2) to qtr (2011, 1) from 1 quarter ago.\n",
      "{'diff_jaccard': 0.009025742660289137, 'diff_cosine_tf': 0.41331766159080086, 'diff_cosine_tf_idf': 0.30784309440394475, 'diff_minEdit': 0.9230092333075973, 'diff_simple': 0.8048719638530797, 'sing_LoughranMcDonald': -0.0014566550853752271, '0': {'type': '10-Q', 'published': datetime.date(2011, 5, 12), 'qtr': (2011, 2)}}\n",
      "{'diff_jaccard': 0.8804747274575124, 'diff_cosine_tf': 0.9733696489913439, 'diff_cosine_tf_idf': 0.9696366281022923, 'diff_minEdit': 1.0, 'diff_simple': 1.0, 'sing_LoughranMcDonald': -0.0008009786821626443, '0': {'type': '10-Q', 'published': datetime.date(2010, 11, 5), 'qtr': (2010, 4)}}\n",
      "[INFO] Comparing current qtr (2011, 3) to qtr (2011, 2) from 1 quarter ago.\n",
      "[INFO] Comparing current qtr (2011, 1) to qtr (2010, 4) from 1 quarter ago.\n",
      "{'diff_jaccard': 0.03251919241867454, 'diff_cosine_tf': 0.4205526092197782, 'diff_cosine_tf_idf': 0.34521801702788474, 'diff_minEdit': 0.6015920693062801, 'diff_simple': 0.34832744022939505, 'sing_LoughranMcDonald': -0.010098267516800555, '0': {'type': '10-Q', 'published': datetime.date(2010, 4, 23), 'qtr': (2010, 2)}}\n",
      "[INFO] Comparing current qtr (2010, 3) to qtr (2010, 2) from 1 quarter ago.\n",
      "{'diff_jaccard': 0.9518514465346559, 'diff_cosine_tf': 0.9855959524881396, 'diff_cosine_tf_idf': 0.9777569561641788, 'diff_minEdit': 1.0, 'diff_simple': 1.0, 'sing_LoughranMcDonald': -0.009402900202618275, '0': {'type': '10-Q', 'published': datetime.date(2010, 7, 28), 'qtr': (2010, 3)}}\n",
      "[INFO] Comparing current qtr (2010, 4) to qtr (2010, 3) from 1 quarter ago.\n",
      "{'diff_jaccard': 0.0040393387047138055, 'diff_cosine_tf': 0.287583836576115, 'diff_cosine_tf_idf': 0.21577104949998915, 'diff_minEdit': 0.8859884136511308, 'diff_simple': 0.6849178009260714, 'sing_LoughranMcDonald': 0.0, '0': {'type': '10-Q', 'published': datetime.date(2011, 5, 9), 'qtr': (2011, 2)}}\n",
      "[INFO] Comparing current qtr (2011, 3) to qtr (2011, 2) from 1 quarter ago.\n",
      "{'diff_jaccard': 0.8538388515782662, 'diff_cosine_tf': 0.9711576199733336, 'diff_cosine_tf_idf': 0.9621151532514951, 'diff_minEdit': 1.0, 'diff_simple': 1.0, 'sing_LoughranMcDonald': -0.001206120801659279, '0': {'type': '10-Q', 'published': datetime.date(2011, 8, 11), 'qtr': (2011, 3)}}\n",
      "[INFO] Found a ToC!\n",
      "[INFO] Comparing current qtr (2011, 4) to qtr (2011, 3) from 1 quarter ago.\n",
      "{'diff_jaccard': 0.7217171717171718, 'diff_cosine_tf': 0.8399999999999999, 'diff_cosine_tf_idf': 0.7464359212312635, 'diff_minEdit': 0.9166666666666667, 'diff_simple': 0.9516197691197692, 'sing_LoughranMcDonald': 0.0, '0': {'type': '10-Q', 'published': datetime.date(2011, 8, 5), 'qtr': (2011, 3)}}\n",
      "{'diff_jaccard': 0.8978774657722937, 'diff_cosine_tf': 0.9431760616170761, 'diff_cosine_tf_idf': 0.9188033945512304, 'diff_minEdit': 0.9461971142088531, 'diff_simple': 0.9602836879432625, 'sing_LoughranMcDonald': -0.0183603712448835, '0': {'type': '10-Q', 'published': datetime.date(2010, 10, 28), 'qtr': (2010, 4)}}\n",
      "[INFO] Comparing current qtr (2011, 4) to qtr (2011, 3) from 1 quarter ago.\n",
      "[INFO] Comparing current qtr (2011, 1) to qtr (2010, 4) from 1 quarter ago.\n",
      "{'diff_jaccard': 0.7625556271982801, 'diff_cosine_tf': 0.9700313587560607, 'diff_cosine_tf_idf': 0.9563767758732987, 'diff_minEdit': 0.9770883237312141, 'diff_simple': 0.9632645888251409, 'sing_LoughranMcDonald': -0.00040437263147214834, '0': {'type': '10-Q', 'published': datetime.date(2012, 11, 2), 'qtr': (2012, 4)}}\n"
     ]
    },
    {
     "name": "stderr",
     "output_type": "stream",
     "text": [
      "\n",
      "  7%|▋         | 67/1000 [00:46<15:10,  1.02it/s]\u001b[A\n",
      "\n",
      "67it [00:46,  1.02it/s]\u001b[A\u001b[A"
     ]
    },
    {
     "name": "stdout",
     "output_type": "stream",
     "text": [
      "{'diff_jaccard': 0.7217171717171718, 'diff_cosine_tf': 0.8399999999999999, 'diff_cosine_tf_idf': 0.7464359212312635, 'diff_minEdit': 0.9166666666666667, 'diff_simple': 0.9732124819624819, 'sing_LoughranMcDonald': 0.0, '0': {'type': '10-Q', 'published': datetime.date(2011, 11, 9), 'qtr': (2011, 4)}}\n",
      "[INFO] No ToC found\n",
      "[WARNING] Section _i_2 was found to be empty.\n",
      "[INFO] Comparing current qtr (2012, 1) to qtr (2011, 4) from 1 quarter ago.\n",
      "[WARNING] Section _i_3 was found to be empty.\n",
      "[WARNING] Section ii_1 was found to be empty.\n",
      "[WARNING] Section ii_1a was found to be empty.\n",
      "{'diff_jaccard': 0.5008818342151675, 'diff_cosine_tf': 0.699245392138346, 'diff_cosine_tf_idf': 0.6073997606380773, 'diff_minEdit': 0.873015873015873, 'diff_simple': 0.7953358058617903, 'sing_LoughranMcDonald': 0.0, '0': {'type': '10-K', 'published': datetime.date(2012, 3, 12), 'qtr': (2012, 1)}}\n",
      "[INFO] Comparing current qtr (2012, 2) to qtr (2012, 1) from 1 quarter ago.\n",
      "{'diff_jaccard': 0.8030230591502517, 'diff_cosine_tf': 0.9524656299308067, 'diff_cosine_tf_idf': 0.9302632809491284, 'diff_minEdit': 0.9920463320463321, 'diff_simple': 0.9868764478764479, 'sing_LoughranMcDonald': -0.0006103954165721698, '0': {'type': '10-Q', 'published': datetime.date(2011, 11, 10), 'qtr': (2011, 4)}}\n",
      "{'diff_jaccard': 0.06295670499525129, 'diff_cosine_tf': 0.4194854185923853, 'diff_cosine_tf_idf': 0.3410035229457067, 'diff_minEdit': 0.6761864005867229, 'diff_simple': 0.30756147847931226, 'sing_LoughranMcDonald': -0.0014689444831203745, '0': {'type': '10-K', 'published': datetime.date(2011, 2, 24), 'qtr': (2011, 1)}}\n",
      "[INFO] Comparing current qtr (2012, 1) to qtr (2011, 4) from 1 quarter ago.\n",
      "{'diff_jaccard': 0.5146923783287419, 'diff_cosine_tf': 0.6544361352949398, 'diff_cosine_tf_idf': 0.6024563996638748, 'diff_minEdit': 0.8181818181818182, 'diff_simple': 0.7528780070177687, 'sing_LoughranMcDonald': 0.0, '0': {'type': '10-Q', 'published': datetime.date(2012, 5, 9), 'qtr': (2012, 2)}}\n",
      "[INFO] Comparing current qtr (2011, 2) to qtr (2011, 1) from 1 quarter ago.\n",
      "[INFO] No ToC found\n",
      "[INFO] Found a ToC!\n",
      "[WARNING] Section _i_2 was found to be empty.\n",
      "[INFO] Comparing current qtr (2012, 3) to qtr (2012, 2) from 1 quarter ago.\n",
      "[WARNING] Section _i_3 was found to be empty.\n",
      "[WARNING] Section ii_1 was found to be empty.\n",
      "[WARNING] Section ii_1a was found to be empty.\n",
      "{'diff_jaccard': 0.008331991157827467, 'diff_cosine_tf': 0.39795927517205637, 'diff_cosine_tf_idf': 0.30632879556416037, 'diff_minEdit': 0.9219151330429526, 'diff_simple': 0.7758815230386931, 'sing_LoughranMcDonald': 0.0, '0': {'type': '10-K', 'published': datetime.date(2012, 3, 15), 'qtr': (2012, 1)}}\n",
      "[INFO] Comparing current qtr (2012, 2) to qtr (2012, 1) from 1 quarter ago.\n",
      "{'diff_jaccard': 0.06275846253604897, 'diff_cosine_tf': 0.386914621944728, 'diff_cosine_tf_idf': 0.31225690096159053, 'diff_minEdit': 0.6494598244470202, 'diff_simple': 0.3874294370229007, 'sing_LoughranMcDonald': -0.019755836777289003, '0': {'type': '10-Q', 'published': datetime.date(2011, 4, 28), 'qtr': (2011, 2)}}\n",
      "[INFO] Comparing current qtr (2011, 3) to qtr (2011, 2) from 1 quarter ago.\n",
      "{'diff_jaccard': 0.7727272727272727, 'diff_cosine_tf': 0.9151515151515149, 'diff_cosine_tf_idf': 0.8499603008434203, 'diff_minEdit': 0.9393939393939394, 'diff_simple': 0.9837217482745342, 'sing_LoughranMcDonald': 0.0, '0': {'type': '10-Q', 'published': datetime.date(2012, 8, 9), 'qtr': (2012, 3)}}\n",
      "[INFO] Comparing current qtr (2012, 4) to qtr (2012, 3) from 1 quarter ago.\n",
      "[INFO] Found a ToC!\n",
      "{'diff_jaccard': 0.9787519932098246, 'diff_cosine_tf': 0.9996251312040791, 'diff_cosine_tf_idf': 0.9992599317203614, 'diff_minEdit': 1.0, 'diff_simple': 1.0, 'sing_LoughranMcDonald': -0.019755836777289003, '0': {'type': '10-Q', 'published': datetime.date(2011, 7, 28), 'qtr': (2011, 3)}}\n",
      "{'diff_jaccard': 0.7874196510560146, 'diff_cosine_tf': 0.8848484848484847, 'diff_cosine_tf_idf': 0.8097237509813753, 'diff_minEdit': 0.9393939393939394, 'diff_simple': 0.980037260719079, 'sing_LoughranMcDonald': 0.0, '0': {'type': '10-Q', 'published': datetime.date(2012, 11, 5), 'qtr': (2012, 4)}}\n",
      "[WARNING] Section _i_2 was found to be empty.\n",
      "[INFO] Comparing current qtr (2011, 4) to qtr (2011, 3) from 1 quarter ago.\n"
     ]
    },
    {
     "name": "stderr",
     "output_type": "stream",
     "text": [
      "\n",
      "  7%|▋         | 68/1000 [00:46<12:02,  1.29it/s]\u001b[A\n",
      "\n"
     ]
    },
    {
     "name": "stdout",
     "output_type": "stream",
     "text": [
      "[WARNING] Section _i_3 was found to be empty.\n"
     ]
    },
    {
     "name": "stderr",
     "output_type": "stream",
     "text": [
      "\r",
      "68it [00:46,  1.29it/s]"
     ]
    },
    {
     "name": "stdout",
     "output_type": "stream",
     "text": [
      "[WARNING] Section ii_1 was found to be empty.\n"
     ]
    },
    {
     "name": "stderr",
     "output_type": "stream",
     "text": [
      "\u001b[A\u001b[A"
     ]
    },
    {
     "name": "stdout",
     "output_type": "stream",
     "text": [
      "{'diff_jaccard': 0.49891142679379413, 'diff_cosine_tf': 0.9145959483719591, 'diff_cosine_tf_idf': 0.8977600824463507, 'diff_minEdit': 0.9532222163253965, 'diff_simple': 0.8966795703087196, 'sing_LoughranMcDonald': -0.0004498327587174236, '0': {'type': '10-K', 'published': datetime.date(2011, 3, 11), 'qtr': (2011, 1)}}\n",
      "[WARNING] Section ii_1a was found to be empty.\n",
      "{'diff_jaccard': 0.011583483581177233, 'diff_cosine_tf': 0.43904886903617846, 'diff_cosine_tf_idf': 0.3403772732042763, 'diff_minEdit': 0.9223709307919835, 'diff_simple': 0.8169891845124043, 'sing_LoughranMcDonald': -0.00170773494837904, '0': {'type': '10-Q', 'published': datetime.date(2012, 5, 10), 'qtr': (2012, 2)}}\n",
      "[INFO] Comparing current qtr (2011, 2) to qtr (2011, 1) from 1 quarter ago.\n",
      "{'diff_jaccard': 0.9845535990114305, 'diff_cosine_tf': 0.9996251312040791, 'diff_cosine_tf_idf': 0.9992599317203614, 'diff_minEdit': 1.0, 'diff_simple': 1.0, 'sing_LoughranMcDonald': -0.019755836777289003, '0': {'type': '10-Q', 'published': datetime.date(2011, 10, 27), 'qtr': (2011, 4)}}\n",
      "[INFO] Comparing current qtr (2012, 3) to qtr (2012, 2) from 1 quarter ago.\n",
      "[INFO] Comparing current qtr (2012, 1) to qtr (2011, 4) from 1 quarter ago.\n",
      "[INFO] No ToC found\n",
      "{'diff_jaccard': 0.770497342304074, 'diff_cosine_tf': 0.9701399127072857, 'diff_cosine_tf_idf': 0.9602646185785687, 'diff_minEdit': 0.9392569632786603, 'diff_simple': 0.9908885444917991, 'sing_LoughranMcDonald': -0.0014848655937311766, '0': {'type': '10-Q', 'published': datetime.date(2012, 8, 10), 'qtr': (2012, 3)}}\n",
      "[INFO] Comparing current qtr (2012, 4) to qtr (2012, 3) from 1 quarter ago.\n",
      "{'diff_jaccard': 0.053152817508862575, 'diff_cosine_tf': 0.37935877541684737, 'diff_cosine_tf_idf': 0.30510664331158327, 'diff_minEdit': 0.6658923986020003, 'diff_simple': 0.29514913353655414, 'sing_LoughranMcDonald': -0.0011135929744656528, '0': {'type': '10-K', 'published': datetime.date(2012, 2, 23), 'qtr': (2012, 1)}}\n",
      "[INFO] Found a ToC!\n",
      "[INFO] Comparing current qtr (2012, 2) to qtr (2012, 1) from 1 quarter ago.\n",
      "[WARNING] Section 7 was found to be empty.\n",
      "[INFO] Found a ToC!\n",
      "[WARNING] Section _i_2 was found to be empty.\n",
      "[WARNING] Section ii_1a was found to be empty.\n",
      "{'diff_jaccard': 0.7846768810262047, 'diff_cosine_tf': 0.9783759340745831, 'diff_cosine_tf_idf': 0.9639129505073738, 'diff_minEdit': 1.0, 'diff_simple': 1.0, 'sing_LoughranMcDonald': -0.001376598098596185, '0': {'type': '10-Q', 'published': datetime.date(2012, 11, 9), 'qtr': (2012, 4)}}\n",
      "{'diff_jaccard': 0.004542455098596002, 'diff_cosine_tf': 0.04308970233649044, 'diff_cosine_tf_idf': 0.027482154986283962, 'diff_minEdit': 0.8984380926294969, 'diff_simple': 0.18187671849368287, 'sing_LoughranMcDonald': 0.0, '0': {'type': '10-Q', 'published': datetime.date(2012, 4, 26), 'qtr': (2012, 2)}}\n"
     ]
    },
    {
     "name": "stderr",
     "output_type": "stream",
     "text": [
      "\n",
      "  7%|▋         | 69/1000 [00:47<09:56,  1.56it/s]\u001b[A\n",
      "\n",
      "69it [00:47,  1.55it/s]\u001b[A\u001b[A"
     ]
    },
    {
     "name": "stdout",
     "output_type": "stream",
     "text": [
      "[INFO] Comparing current qtr (2012, 3) to qtr (2012, 2) from 1 quarter ago.\n",
      "[INFO] No ToC found\n",
      "{'diff_jaccard': 0.6607054148037755, 'diff_cosine_tf': 0.8402810304449647, 'diff_cosine_tf_idf': 0.746532377637128, 'diff_minEdit': 0.8992974238875879, 'diff_simple': 0.9547457178420524, 'sing_LoughranMcDonald': 0.0, '0': {'type': '10-Q', 'published': datetime.date(2012, 7, 26), 'qtr': (2012, 3)}}\n",
      "[INFO] Found a ToC!\n",
      "[WARNING] Section _i_2 was found to be empty.\n",
      "[INFO] Comparing current qtr (2012, 4) to qtr (2012, 3) from 1 quarter ago.\n",
      "[WARNING] Section ii_1a was found to be empty.\n",
      "{'diff_jaccard': 0.4781486180814814, 'diff_cosine_tf': 0.9000478319605855, 'diff_cosine_tf_idf': 0.8811502043874977, 'diff_minEdit': 0.937131933990209, 'diff_simple': 0.8967077675459133, 'sing_LoughranMcDonald': -0.001104230941743364, '0': {'type': '10-Q', 'published': datetime.date(2011, 5, 6), 'qtr': (2011, 2)}}\n",
      "[INFO] Comparing current qtr (2011, 3) to qtr (2011, 2) from 1 quarter ago.\n",
      "{'diff_jaccard': 0.7217171717171718, 'diff_cosine_tf': 0.8399999999999999, 'diff_cosine_tf_idf': 0.7464359212312635, 'diff_minEdit': 0.9166666666666667, 'diff_simple': 0.9732124819624819, 'sing_LoughranMcDonald': 0.0, '0': {'type': '10-Q', 'published': datetime.date(2012, 10, 25), 'qtr': (2012, 4)}}\n"
     ]
    },
    {
     "name": "stderr",
     "output_type": "stream",
     "text": [
      "\n",
      "  7%|▋         | 70/1000 [00:47<07:28,  2.07it/s]\u001b[A"
     ]
    },
    {
     "name": "stdout",
     "output_type": "stream",
     "text": [
      "[INFO] Found a ToC!\n",
      "[INFO] Found a ToC!\n",
      "[WARNING] Section _i_2 was found to be empty.\n",
      "[WARNING] Section ii_1a was found to be empty.\n",
      "[WARNING] Section _i_2 was found to be empty.\n",
      "[WARNING] Section _i_3 was found to be empty.\n",
      "[WARNING] Section ii_1 was found to be empty.\n",
      "[INFO] No ToC found\n",
      "[INFO] Found a ToC!\n",
      "[WARNING] Section _i_2 was found to be empty.\n",
      "[WARNING] Section _i_3 was found to be empty.\n",
      "{'diff_jaccard': 0.8667429573171092, 'diff_cosine_tf': 0.9823404047621879, 'diff_cosine_tf_idf': 0.9759401070895218, 'diff_minEdit': 1.0, 'diff_simple': 1.0, 'sing_LoughranMcDonald': -0.000895482031954418, '0': {'type': '10-Q', 'published': datetime.date(2011, 8, 9), 'qtr': (2011, 3)}}\n",
      "[WARNING] Section ii_1 was found to be empty.\n",
      "[INFO] Comparing current qtr (2011, 4) to qtr (2011, 3) from 1 quarter ago.\n",
      "[INFO] Found a ToC!\n",
      "[WARNING] Section _i_2 was found to be empty.\n",
      "[WARNING] Section _i_3 was found to be empty.\n",
      "[WARNING] Section ii_1 was found to be empty.\n",
      "[WARNING] Section ii_1a was found to be empty.\n",
      "{'diff_jaccard': 0.8806547958431057, 'diff_cosine_tf': 0.9917168218096696, 'diff_cosine_tf_idf': 0.9876462661006772, 'diff_minEdit': 0.9987715975812171, 'diff_simple': 0.9983668186671398, 'sing_LoughranMcDonald': -0.0003955160214434383, '0': {'type': '10-Q', 'published': datetime.date(2011, 11, 4), 'qtr': (2011, 4)}}\n",
      "[INFO] Comparing current qtr (2012, 1) to qtr (2011, 4) from 1 quarter ago.\n",
      "[INFO] Found a ToC!\n",
      "[WARNING] Section 7 was found to be empty.\n",
      "[WARNING] Section _i_2 was found to be empty.\n",
      "[WARNING] Section ii_1a was found to be empty.\n",
      "[INFO] No ToC found\n",
      "[INFO] No ToC found\n",
      "[WARNING] Section _i_2 was found to be empty.\n",
      "[WARNING] Section ii_1a was found to be empty.\n",
      "[INFO] No ToC found\n",
      "[INFO] Found a ToC!\n",
      "[WARNING] Section _i_2 was found to be empty.\n",
      "[WARNING] Section ii_1a was found to be empty.\n",
      "[INFO] No ToC found\n",
      "{'diff_jaccard': 0.5504243790885788, 'diff_cosine_tf': 0.9070947798570139, 'diff_cosine_tf_idf': 0.890788842137856, 'diff_minEdit': 0.9487000377367999, 'diff_simple': 0.8868982224734823, 'sing_LoughranMcDonald': -0.00047095205991056285, '0': {'type': '10-K', 'published': datetime.date(2012, 3, 15), 'qtr': (2012, 1)}}\n",
      "[INFO] Comparing current qtr (2012, 2) to qtr (2012, 1) from 1 quarter ago.\n",
      "[INFO] No ToC found\n",
      "[WARNING] Section _i_2 was found to be empty.\n",
      "[WARNING] Section _i_3 was found to be empty.\n",
      "[WARNING] Section ii_1 was found to be empty.\n",
      "[WARNING] Section ii_1a was found to be empty.\n",
      "[INFO] No ToC found\n",
      "[WARNING] Section _i_2 was found to be empty.\n",
      "[WARNING] Section _i_3 was found to be empty.\n",
      "[WARNING] Section ii_1 was found to be empty.\n",
      "[WARNING] Section ii_1a was found to be empty.\n",
      "[INFO] No ToC found\n",
      "[INFO] Found a ToC!\n",
      "[WARNING] Section 9a was found to be empty.\n",
      "[INFO] No ToC found\n",
      "[WARNING] Section _i_2 was found to be empty.\n",
      "{'diff_jaccard': 0.4422381093491363, 'diff_cosine_tf': 0.9358352781548153, 'diff_cosine_tf_idf': 0.9195557189751276, 'diff_minEdit': 0.9272283067224095, 'diff_simple': 0.880769282504831, 'sing_LoughranMcDonald': -0.0007623032461254637, '0': {'type': '10-Q', 'published': datetime.date(2012, 5, 10), 'qtr': (2012, 2)}}\n",
      "[WARNING] Section _i_3 was found to be empty.\n",
      "[INFO] Comparing current qtr (2012, 3) to qtr (2012, 2) from 1 quarter ago.\n",
      "[WARNING] Section ii_1 was found to be empty.\n",
      "[INFO] No ToC found\n",
      "[INFO] No ToC found\n",
      "[WARNING] Section ii_1a was found to be empty.\n",
      "[INFO] Comparing current qtr (2010, 2) to qtr (2010, 1) from 1 quarter ago.\n",
      "[WARNING] Section 7 was found to be empty.\n",
      "[INFO] No ToC found\n",
      "{'diff_jaccard': 0.06704926084057623, 'diff_cosine_tf': 0.20902387484652346, 'diff_cosine_tf_idf': 0.19301331250554724, 'diff_minEdit': 0.6209802086626355, 'diff_simple': 0.3189949979304711, 'sing_LoughranMcDonald': 0.0, '0': {'type': '10-Q', 'published': datetime.date(2010, 5, 6), 'qtr': (2010, 2)}}\n",
      "[INFO] Comparing current qtr (2010, 3) to qtr (2010, 2) from 1 quarter ago.\n",
      "{'diff_jaccard': 0.9769607843137254, 'diff_cosine_tf': 0.9985875668327224, 'diff_cosine_tf_idf': 0.9975351368062357, 'diff_minEdit': 1.0, 'diff_simple': 1.0, 'sing_LoughranMcDonald': 0.0, '0': {'type': '10-Q', 'published': datetime.date(2010, 8, 4), 'qtr': (2010, 3)}}\n",
      "[INFO] No ToC found\n",
      "[WARNING] Section _i_2 was found to be empty.\n",
      "[INFO] Comparing current qtr (2010, 4) to qtr (2010, 3) from 1 quarter ago.\n",
      "[WARNING] Section ii_1a was found to be empty.\n",
      "[INFO] No ToC found\n",
      "{'diff_jaccard': 0.9771285796655775, 'diff_cosine_tf': 0.9979324707105253, 'diff_cosine_tf_idf': 0.9969017156570842, 'diff_minEdit': 1.0, 'diff_simple': 1.0, 'sing_LoughranMcDonald': 0.0, '0': {'type': '10-Q', 'published': datetime.date(2010, 11, 5), 'qtr': (2010, 4)}}\n",
      "{'diff_jaccard': 0.7871565515000479, 'diff_cosine_tf': 0.9718923358595046, 'diff_cosine_tf_idf': 0.9567405644890873, 'diff_minEdit': 1.0, 'diff_simple': 1.0, 'sing_LoughranMcDonald': -0.000477279020902978, '0': {'type': '10-Q', 'published': datetime.date(2012, 8, 9), 'qtr': (2012, 3)}}\n",
      "[INFO] Comparing current qtr (2011, 1) to qtr (2010, 4) from 1 quarter ago.\n",
      "[INFO] Comparing current qtr (2012, 4) to qtr (2012, 3) from 1 quarter ago.\n",
      "[INFO] No ToC found\n",
      "[INFO] No ToC found\n",
      "[WARNING] Section _i_2 was found to be empty.\n",
      "[WARNING] Section ii_1a was found to be empty.\n",
      "[INFO] No ToC found\n",
      "[WARNING] Section _i_2 was found to be empty.\n",
      "{'diff_jaccard': 0.06907588647107389, 'diff_cosine_tf': 0.2148604191074274, 'diff_cosine_tf_idf': 0.1983184408212561, 'diff_minEdit': 0.7214949375407546, 'diff_simple': 0.2838576580766129, 'sing_LoughranMcDonald': -0.0007922105970001013, '0': {'type': '10-K', 'published': datetime.date(2011, 3, 1), 'qtr': (2011, 1)}}\n",
      "[WARNING] Section ii_1a was found to be empty.\n",
      "[INFO] Comparing current qtr (2010, 2) to qtr (2010, 1) from 1 quarter ago.\n",
      "[INFO] Comparing current qtr (2011, 2) to qtr (2011, 1) from 1 quarter ago.\n",
      "[INFO] No ToC found\n",
      "This is the res {'_i_1': [(4677, 4727)], '_i_2': [], '_i_3': [(4349, 4373)], '_i_4': [(4428, 4447)], 'ii_1': [(4501, 4518)], 'ii_1a': [(4539, 4556)], 'ii_6': [(4573, 4593)]}\n",
      "[WARNING] /home/alex/Desktop/filtered_text_data/nd_data/2010/QTR4/20101112_10-Q_edgar_data_1474735_0001474735-10-000013_1.txt failed parsing\n"
     ]
    },
    {
     "name": "stderr",
     "output_type": "stream",
     "text": [
      "\n",
      "  7%|▋         | 71/1000 [00:48<12:42,  1.22it/s]\u001b[A\n",
      "\n",
      "71it [00:48,  1.41it/s]\u001b[A\u001b[A"
     ]
    },
    {
     "name": "stdout",
     "output_type": "stream",
     "text": [
      "[INFO] Found a ToC!\n",
      "{'diff_jaccard': 0.42224576982617534, 'diff_cosine_tf': 0.7293757123379834, 'diff_cosine_tf_idf': 0.7167359192473703, 'diff_minEdit': 0.8084842726221841, 'diff_simple': 0.7869090668122604, 'sing_LoughranMcDonald': -0.005332912578370092, '0': {'type': '10-Q', 'published': datetime.date(2010, 5, 10), 'qtr': (2010, 2)}}\n",
      "[INFO] Comparing current qtr (2010, 3) to qtr (2010, 2) from 1 quarter ago.\n",
      "{'diff_jaccard': 0.7624513870160481, 'diff_cosine_tf': 0.981797735113939, 'diff_cosine_tf_idf': 0.9741093290330534, 'diff_minEdit': 1.0, 'diff_simple': 1.0, 'sing_LoughranMcDonald': -0.0004431529593835802, '0': {'type': '10-Q', 'published': datetime.date(2012, 11, 9), 'qtr': (2012, 4)}}\n",
      "{'diff_jaccard': 0.13104323819616484, 'diff_cosine_tf': 0.7034945092664115, 'diff_cosine_tf_idf': 0.6634525664235795, 'diff_minEdit': 0.6212145894685761, 'diff_simple': 0.27763440042020565, 'sing_LoughranMcDonald': -0.0010151611206629127, '0': {'type': '10-Q', 'published': datetime.date(2011, 5, 9), 'qtr': (2011, 2)}}\n",
      "[INFO] Comparing current qtr (2011, 3) to qtr (2011, 2) from 1 quarter ago.\n",
      "{'diff_jaccard': 0.9812097882087278, 'diff_cosine_tf': 0.9989699546783479, 'diff_cosine_tf_idf': 0.9983492123829046, 'diff_minEdit': 1.0, 'diff_simple': 1.0, 'sing_LoughranMcDonald': -0.005307868956686139, '0': {'type': '10-Q', 'published': datetime.date(2010, 8, 6), 'qtr': (2010, 3)}}\n",
      "[INFO] No ToC found\n",
      "[INFO] Comparing current qtr (2010, 4) to qtr (2010, 3) from 1 quarter ago.\n",
      "{'diff_jaccard': 0.1539919138285691, 'diff_cosine_tf': 0.8726407827063274, 'diff_cosine_tf_idf': 0.8398644937968092, 'diff_minEdit': 0.8488114735956797, 'diff_simple': 0.28185449957947856, 'sing_LoughranMcDonald': -0.012033582089552238, '0': {'type': '10-Q', 'published': datetime.date(2011, 8, 3), 'qtr': (2011, 3)}}\n",
      "[INFO] Comparing current qtr (2011, 4) to qtr (2011, 3) from 1 quarter ago.\n",
      "{'diff_jaccard': 0.8025625243982044, 'diff_cosine_tf': 0.98009901391061, 'diff_cosine_tf_idf': 0.9739379884205115, 'diff_minEdit': 1.0, 'diff_simple': 1.0, 'sing_LoughranMcDonald': -0.007038800358067223, '0': {'type': '10-Q', 'published': datetime.date(2010, 11, 5), 'qtr': (2010, 4)}}\n",
      "[INFO] Comparing current qtr (2011, 1) to qtr (2010, 4) from 1 quarter ago.\n",
      "{'diff_jaccard': 0.8105167900964795, 'diff_cosine_tf': 0.8545618140147562, 'diff_cosine_tf_idf': 0.8490220161564251, 'diff_minEdit': 0.9320261437908496, 'diff_simple': 0.8844185002245172, 'sing_LoughranMcDonald': 0.0, '0': {'type': '10-Q', 'published': datetime.date(2011, 11, 9), 'qtr': (2011, 4)}}\n",
      "[INFO] Comparing current qtr (2012, 1) to qtr (2011, 4) from 1 quarter ago.\n",
      "[INFO] No ToC found\n",
      "{'diff_jaccard': 0.013549682167949148, 'diff_cosine_tf': 0.18572023021550935, 'diff_cosine_tf_idf': 0.11742045305700718, 'diff_minEdit': 0.8876004947433519, 'diff_simple': 0.24725302188755569, 'sing_LoughranMcDonald': 0.0, '0': {'type': '10-K', 'published': datetime.date(2012, 3, 2), 'qtr': (2012, 1)}}\n",
      "[INFO] Comparing current qtr (2012, 2) to qtr (2012, 1) from 1 quarter ago.\n",
      "{'diff_jaccard': 0.37925006568358566, 'diff_cosine_tf': 0.6934718877714079, 'diff_cosine_tf_idf': 0.6778817864538382, 'diff_minEdit': 0.8273488681052219, 'diff_simple': 0.7682026953003623, 'sing_LoughranMcDonald': -0.002122126098303081, '0': {'type': '10-K', 'published': datetime.date(2011, 3, 1), 'qtr': (2011, 1)}}\n",
      "[INFO] Comparing current qtr (2011, 2) to qtr (2011, 1) from 1 quarter ago.\n",
      "[INFO] No ToC found\n",
      "{'diff_jaccard': 0.013830532212885153, 'diff_cosine_tf': 0.18716368673069753, 'diff_cosine_tf_idf': 0.11840038294394996, 'diff_minEdit': 0.8653724747474748, 'diff_simple': 0.2551705477007514, 'sing_LoughranMcDonald': 0.0, '0': {'type': '10-Q', 'published': datetime.date(2012, 5, 10), 'qtr': (2012, 2)}}\n",
      "[INFO] Comparing current qtr (2012, 3) to qtr (2012, 2) from 1 quarter ago.\n",
      "{'diff_jaccard': 0.9692913385826771, 'diff_cosine_tf': 0.998905506013231, 'diff_cosine_tf_idf': 0.9978406514714686, 'diff_minEdit': 1.0, 'diff_simple': 1.0, 'sing_LoughranMcDonald': 0.0, '0': {'type': '10-Q', 'published': datetime.date(2012, 8, 8), 'qtr': (2012, 3)}}\n",
      "[INFO] Comparing current qtr (2012, 4) to qtr (2012, 3) from 1 quarter ago.\n",
      "[INFO] No ToC found\n",
      "{'diff_jaccard': 0.9609967314755534, 'diff_cosine_tf': 0.9992703311281523, 'diff_cosine_tf_idf': 0.9985603305747932, 'diff_minEdit': 1.0, 'diff_simple': 1.0, 'sing_LoughranMcDonald': 0.0, '0': {'type': '10-Q', 'published': datetime.date(2012, 11, 7), 'qtr': (2012, 4)}}\n"
     ]
    },
    {
     "name": "stderr",
     "output_type": "stream",
     "text": [
      "\n",
      "  7%|▋         | 73/1000 [00:49<10:04,  1.53it/s]"
     ]
    },
    {
     "name": "stdout",
     "output_type": "stream",
     "text": [
      "[ERROR] Here is full_sect: |[]|\n"
     ]
    },
    {
     "name": "stderr",
     "output_type": "stream",
     "text": [
      "\u001b[A\n",
      "\n",
      "73it [00:49,  1.75it/s]\u001b[A\u001b[A"
     ]
    },
    {
     "name": "stdout",
     "output_type": "stream",
     "text": [
      "[ERROR] Original res: {'1': [], '1a': [], '1b': [], '2': [], '3': [], '4': [], '5': [], '6': [], '7': [], '7a': [], '8': [], '9': [], '9a': [], '9b': [], '10': [], '11': [], '12': [], '13': [], '14': [], '15': []}\n",
      "{'diff_jaccard': 0.18966609743619453, 'diff_cosine_tf': 0.7231285826046183, 'diff_cosine_tf_idf': 0.705272105800962, 'diff_minEdit': 0.5713892550559461, 'diff_simple': 0.3319586349688022, 'sing_LoughranMcDonald': -0.0002455241393355533, '0': {'type': '10-Q', 'published': datetime.date(2011, 5, 10), 'qtr': (2011, 2)}}\n",
      "[INFO] No ToC found\n",
      "[INFO] Comparing current qtr (2011, 3) to qtr (2011, 2) from 1 quarter ago.\n",
      "[WARNING] /home/alex/Desktop/filtered_text_data/nd_data/2010/QTR1/20100330_10-K_edgar_data_745651_0001096906-10-000346_1.txt failed parsing\n",
      "{'diff_jaccard': 0.2541538154811601, 'diff_cosine_tf': 0.8906974807329596, 'diff_cosine_tf_idf': 0.8773479060738715, 'diff_minEdit': 0.5224850204982656, 'diff_simple': 0.3962586165051779, 'sing_LoughranMcDonald': -0.004187813551706719, '0': {'type': '10-Q', 'published': datetime.date(2011, 8, 9), 'qtr': (2011, 3)}}\n",
      "[INFO] No ToC found\n",
      "[INFO] Comparing current qtr (2011, 4) to qtr (2011, 3) from 1 quarter ago.\n",
      "[INFO] No ToC found\n",
      "{'diff_jaccard': 0.9757674021262128, 'diff_cosine_tf': 0.9992051623437115, 'diff_cosine_tf_idf': 0.9986408855705704, 'diff_minEdit': 1.0, 'diff_simple': 1.0, 'sing_LoughranMcDonald': -0.004097427427837187, '0': {'type': '10-Q', 'published': datetime.date(2011, 11, 9), 'qtr': (2011, 4)}}\n",
      "[INFO] Comparing current qtr (2012, 1) to qtr (2011, 4) from 1 quarter ago.\n",
      "[INFO] No ToC found\n",
      "[INFO] Found a ToC!\n",
      "{'diff_jaccard': 0.5070906509112372, 'diff_cosine_tf': 0.7492599575273584, 'diff_cosine_tf_idf': 0.740180280860573, 'diff_minEdit': 0.8181269468945888, 'diff_simple': 0.7865192472103788, 'sing_LoughranMcDonald': -0.0022332398847733667, '0': {'type': '10-K', 'published': datetime.date(2012, 2, 29), 'qtr': (2012, 1)}}\n",
      "[INFO] Comparing current qtr (2012, 2) to qtr (2012, 1) from 1 quarter ago.\n",
      "{'diff_jaccard': 0.5534406582061171, 'diff_cosine_tf': 0.7535974169315762, 'diff_cosine_tf_idf': 0.745341971254205, 'diff_minEdit': 0.8080396878049438, 'diff_simple': 0.7936306262789734, 'sing_LoughranMcDonald': -0.0038110679189253802, '0': {'type': '10-Q', 'published': datetime.date(2012, 5, 10), 'qtr': (2012, 2)}}\n",
      "[INFO] Comparing current qtr (2012, 3) to qtr (2012, 2) from 1 quarter ago.\n",
      "{'diff_jaccard': 0.9603461515185892, 'diff_cosine_tf': 0.9988419159016044, 'diff_cosine_tf_idf': 0.9981380713153476, 'diff_minEdit': 1.0, 'diff_simple': 1.0, 'sing_LoughranMcDonald': -0.0038529456082401813, '0': {'type': '10-Q', 'published': datetime.date(2012, 8, 9), 'qtr': (2012, 3)}}\n",
      "[INFO] Comparing current qtr (2012, 4) to qtr (2012, 3) from 1 quarter ago.\n",
      "[INFO] No ToC found\n",
      "[INFO] No ToC found\n",
      "[WARNING] Section 9a was found to be empty.\n",
      "{'diff_jaccard': 0.9900915349925493, 'diff_cosine_tf': 0.9997064146920978, 'diff_cosine_tf_idf': 0.9994205351461354, 'diff_minEdit': 0.9999999999999999, 'diff_simple': 0.9999999999999999, 'sing_LoughranMcDonald': -0.0038518011374681464, '0': {'type': '10-Q', 'published': datetime.date(2012, 11, 9), 'qtr': (2012, 4)}}\n"
     ]
    },
    {
     "name": "stderr",
     "output_type": "stream",
     "text": [
      "\n",
      "  8%|▊         | 75/1000 [00:50<08:14,  1.87it/s]\u001b[A\n",
      "\n",
      "75it [00:50,  2.09it/s]\u001b[A\u001b[A"
     ]
    },
    {
     "name": "stdout",
     "output_type": "stream",
     "text": [
      "[INFO] No ToC found\n",
      "[INFO] Found a ToC!\n",
      "[WARNING] Section 9a was found to be empty.\n",
      "[INFO] No ToC found\n",
      "[INFO] No ToC found\n",
      "[INFO] No ToC found\n",
      "[INFO] Found a ToC!\n",
      "This is the res {'_i_2': [(32928, 32947)], '_i_3': [(90270, 90291)], 'ii_1': [(97181, 97210)], 'ii_1a': [], 'ii_6': [(100094, 100129)]}\n",
      "[WARNING] /home/alex/Desktop/filtered_text_data/nd_data/2010/QTR2/20100514_10-Q_edgar_data_909494_0001104659-10-028433_1.txt failed parsing\n"
     ]
    },
    {
     "name": "stderr",
     "output_type": "stream",
     "text": [
      "\n",
      "  8%|▊         | 76/1000 [00:50<07:11,  2.14it/s]\u001b[A\n",
      "\n",
      "76it [00:50,  2.35it/s]\u001b[A\u001b[A"
     ]
    },
    {
     "name": "stdout",
     "output_type": "stream",
     "text": [
      "[INFO] Found a ToC!\n",
      "[WARNING] Section _i_3 was found to be empty.\n",
      "[WARNING] Section _i_4 was found to be empty.\n",
      "[WARNING] Section ii_1 was found to be empty.\n",
      "[WARNING] Section ii_1a was found to be empty.\n",
      "[INFO] Found a ToC!\n",
      "[WARNING] Section ii_1 was found to be empty.\n",
      "[INFO] No ToC found\n",
      "[INFO] Comparing current qtr (2010, 2) to qtr (2010, 1) from 1 quarter ago.\n",
      "{'diff_jaccard': 0.4224287683015383, 'diff_cosine_tf': 0.8622017948927764, 'diff_cosine_tf_idf': 0.8389057247653852, 'diff_minEdit': 0.8966627485334723, 'diff_simple': 0.8464949295290477, 'sing_LoughranMcDonald': -0.0010667726653353787, '0': {'type': '10-Q', 'published': datetime.date(2010, 4, 29), 'qtr': (2010, 2)}}\n",
      "[INFO] Comparing current qtr (2010, 3) to qtr (2010, 2) from 1 quarter ago.\n",
      "[INFO] Found a ToC!\n",
      "[WARNING] Section 9a was found to be empty.\n",
      "[INFO] No ToC found\n",
      "{'diff_jaccard': 0.7284407977594125, 'diff_cosine_tf': 0.97471083468773, 'diff_cosine_tf_idf': 0.9690020514793676, 'diff_minEdit': 0.9925252392580166, 'diff_simple': 0.992805542785841, 'sing_LoughranMcDonald': -0.001343334194975417, '0': {'type': '10-Q', 'published': datetime.date(2010, 7, 23), 'qtr': (2010, 3)}}\n",
      "[INFO] Comparing current qtr (2010, 4) to qtr (2010, 3) from 1 quarter ago.\n",
      "[INFO] No ToC found\n",
      "[INFO] Found a ToC!\n",
      "[INFO] Found a ToC!\n",
      "[INFO] Found a ToC!\n",
      "{'diff_jaccard': 0.7077303443459193, 'diff_cosine_tf': 0.990514996101753, 'diff_cosine_tf_idf': 0.98727572199397, 'diff_minEdit': 0.9948171631345194, 'diff_simple': 0.9941952227106616, 'sing_LoughranMcDonald': -0.0013467201605400012, '0': {'type': '10-Q', 'published': datetime.date(2010, 10, 27), 'qtr': (2010, 4)}}\n",
      "[INFO] No ToC found\n",
      "[INFO] Comparing current qtr (2011, 1) to qtr (2010, 4) from 1 quarter ago.\n",
      "[INFO] No ToC found\n",
      "[INFO] Found a ToC!\n",
      "[INFO] No ToC found\n",
      "[INFO] No ToC found\n",
      "[INFO] Found a ToC!\n",
      "[INFO] No ToC found\n",
      "[INFO] No ToC found\n",
      "[INFO] Comparing current qtr (2010, 2) to qtr (2010, 1) from 1 quarter ago.\n",
      "[INFO] No ToC found\n",
      "[INFO] No ToC found\n",
      "[INFO] Comparing current qtr (2010, 2) to qtr (2010, 1) from 1 quarter ago.\n",
      "{'diff_jaccard': 0.005310527093584398, 'diff_cosine_tf': 0.34070909194154964, 'diff_cosine_tf_idf': 0.2604396024921343, 'diff_minEdit': 0.9472946425226074, 'diff_simple': 0.6983400035587898, 'sing_LoughranMcDonald': 0.0, '0': {'type': '10-Q', 'published': datetime.date(2010, 4, 28), 'qtr': (2010, 2)}}\n",
      "[INFO] Comparing current qtr (2010, 3) to qtr (2010, 2) from 1 quarter ago.\n",
      "{'diff_jaccard': 0.7297979797979798, 'diff_cosine_tf': 0.8405529953917048, 'diff_cosine_tf_idf': 0.7466257225460292, 'diff_minEdit': 0.9170506912442397, 'diff_simple': 0.9734737932318576, 'sing_LoughranMcDonald': 0.0, '0': {'type': '10-Q', 'published': datetime.date(2010, 7, 28), 'qtr': (2010, 3)}}\n",
      "[INFO] Comparing current qtr (2010, 4) to qtr (2010, 3) from 1 quarter ago.\n",
      "{'diff_jaccard': 0.4609303733908452, 'diff_cosine_tf': 0.8878270314708255, 'diff_cosine_tf_idf': 0.8689882198645055, 'diff_minEdit': 0.8635638090595086, 'diff_simple': 0.857172406588432, 'sing_LoughranMcDonald': -0.0006929804512505264, '0': {'type': '10-K', 'published': datetime.date(2011, 2, 24), 'qtr': (2011, 1)}}\n",
      "[INFO] Found a ToC!\n",
      "[INFO] Comparing current qtr (2011, 2) to qtr (2011, 1) from 1 quarter ago.\n",
      "{'diff_jaccard': 0.7297979797979798, 'diff_cosine_tf': 0.8405529953917048, 'diff_cosine_tf_idf': 0.7466257225460292, 'diff_minEdit': 0.9170506912442397, 'diff_simple': 0.9734737932318576, 'sing_LoughranMcDonald': 0.0, '0': {'type': '10-Q', 'published': datetime.date(2010, 10, 27), 'qtr': (2010, 4)}}\n",
      "[INFO] Comparing current qtr (2011, 1) to qtr (2010, 4) from 1 quarter ago.\n",
      "[INFO] No ToC found\n",
      "[INFO] Comparing current qtr (2010, 2) to qtr (2010, 1) from 1 quarter ago.\n",
      "[INFO] No ToC found\n",
      "{'diff_jaccard': 0.6059509624631907, 'diff_cosine_tf': 0.9585852492524533, 'diff_cosine_tf_idf': 0.9506669878261351, 'diff_minEdit': 0.7680781314178418, 'diff_simple': 0.7449669124598223, 'sing_LoughranMcDonald': -0.001529894948747652, '0': {'type': '10-Q', 'published': datetime.date(2010, 4, 28), 'qtr': (2010, 2)}}\n",
      "[INFO] Comparing current qtr (2010, 3) to qtr (2010, 2) from 1 quarter ago.\n",
      "[INFO] Found a ToC!\n",
      "[WARNING] Section 9a was found to be empty.\n",
      "{'diff_jaccard': 0.4139146256711592, 'diff_cosine_tf': 0.8292697827941177, 'diff_cosine_tf_idf': 0.805839318592135, 'diff_minEdit': 0.9027310720119591, 'diff_simple': 0.8586959751206902, 'sing_LoughranMcDonald': -0.0003791627353921053, '0': {'type': '10-Q', 'published': datetime.date(2011, 4, 28), 'qtr': (2011, 2)}}\n",
      "[INFO] Comparing current qtr (2011, 3) to qtr (2011, 2) from 1 quarter ago.\n",
      "[INFO] Found a ToC!\n",
      "{'diff_jaccard': 0.004154205449703254, 'diff_cosine_tf': 0.2864171859524502, 'diff_cosine_tf_idf': 0.21941953658012114, 'diff_minEdit': 0.9429059377837711, 'diff_simple': 0.6371153411241498, 'sing_LoughranMcDonald': 0.0, '0': {'type': '10-Q', 'published': datetime.date(2010, 4, 30), 'qtr': (2010, 2)}}\n",
      "[INFO] Comparing current qtr (2010, 3) to qtr (2010, 2) from 1 quarter ago.\n",
      "{'diff_jaccard': 0.7217171717171718, 'diff_cosine_tf': 0.8399999999999999, 'diff_cosine_tf_idf': 0.7464359212312635, 'diff_minEdit': 0.9166666666666667, 'diff_simple': 0.9730891556763649, 'sing_LoughranMcDonald': 0.0, '0': {'type': '10-Q', 'published': datetime.date(2010, 7, 30), 'qtr': (2010, 3)}}\n",
      "[INFO] Comparing current qtr (2010, 4) to qtr (2010, 3) from 1 quarter ago.\n",
      "{'diff_jaccard': 0.7944444444444445, 'diff_cosine_tf': 0.8666666666666665, 'diff_cosine_tf_idf': 0.7958954792317016, 'diff_minEdit': 0.9333333333333333, 'diff_simple': 0.9716172942045035, 'sing_LoughranMcDonald': 0.0, '0': {'type': '10-Q', 'published': datetime.date(2010, 11, 1), 'qtr': (2010, 4)}}\n",
      "[INFO] Comparing current qtr (2011, 1) to qtr (2010, 4) from 1 quarter ago.\n",
      "{'diff_jaccard': 0.005321412882527302, 'diff_cosine_tf': 0.328702057206318, 'diff_cosine_tf_idf': 0.2515854769812201, 'diff_minEdit': 0.9552426583432654, 'diff_simple': 0.6752310994276917, 'sing_LoughranMcDonald': -0.0006501581646708764, '0': {'type': '10-K', 'published': datetime.date(2011, 2, 23), 'qtr': (2011, 1)}}\n",
      "[INFO] Comparing current qtr (2011, 2) to qtr (2011, 1) from 1 quarter ago.\n",
      "{'diff_jaccard': 0.7098379745635632, 'diff_cosine_tf': 0.9815341905145161, 'diff_cosine_tf_idf': 0.9796593241583738, 'diff_minEdit': 0.7396904038402254, 'diff_simple': 0.8521588283466408, 'sing_LoughranMcDonald': -0.0013926179865039923, '0': {'type': '10-Q', 'published': datetime.date(2011, 8, 1), 'qtr': (2011, 3)}}\n",
      "[INFO] Comparing current qtr (2011, 4) to qtr (2011, 3) from 1 quarter ago.\n",
      "{'diff_jaccard': 0.7746068716949001, 'diff_cosine_tf': 0.9917844655595159, 'diff_cosine_tf_idf': 0.9896265755549196, 'diff_minEdit': 0.9965942240584243, 'diff_simple': 0.9955554623962438, 'sing_LoughranMcDonald': -0.001138788886883105, '0': {'type': '10-Q', 'published': datetime.date(2010, 8, 6), 'qtr': (2010, 3)}}\n"
     ]
    },
    {
     "name": "stderr",
     "output_type": "stream",
     "text": [
      "\n",
      "  8%|▊         | 77/1000 [00:52<13:00,  1.18it/s]\u001b[A\n",
      "\n",
      "77it [00:52,  1.22it/s]\u001b[A\u001b[A"
     ]
    },
    {
     "name": "stdout",
     "output_type": "stream",
     "text": [
      "[INFO] Found a ToC!\n",
      "{'diff_jaccard': 0.005321412882527302, 'diff_cosine_tf': 0.32961221833907905, 'diff_cosine_tf_idf': 0.2522902943485526, 'diff_minEdit': 0.9492235921683297, 'diff_simple': 0.6778877907049046, 'sing_LoughranMcDonald': 0.0, '0': {'type': '10-Q', 'published': datetime.date(2011, 4, 27), 'qtr': (2011, 2)}}\n",
      "[INFO] Found a ToC!\n",
      "[INFO] Comparing current qtr (2011, 3) to qtr (2011, 2) from 1 quarter ago.\n",
      "{'diff_jaccard': 0.7297979797979798, 'diff_cosine_tf': 0.8405529953917048, 'diff_cosine_tf_idf': 0.7466257225460292, 'diff_minEdit': 0.9170506912442397, 'diff_simple': 0.9734737932318576, 'sing_LoughranMcDonald': 0.0, '0': {'type': '10-Q', 'published': datetime.date(2011, 7, 27), 'qtr': (2011, 3)}}\n",
      "[INFO] Comparing current qtr (2011, 4) to qtr (2011, 3) from 1 quarter ago.\n",
      "{'diff_jaccard': 0.7016890213611525, 'diff_cosine_tf': 0.8402810304449647, 'diff_cosine_tf_idf': 0.746532377637128, 'diff_minEdit': 0.8992974238875879, 'diff_simple': 0.96769036973955, 'sing_LoughranMcDonald': 0.0, '0': {'type': '10-Q', 'published': datetime.date(2011, 10, 26), 'qtr': (2011, 4)}}\n",
      "[INFO] Found a ToC!\n",
      "[INFO] Comparing current qtr (2012, 1) to qtr (2011, 4) from 1 quarter ago.\n",
      "[INFO] Found a ToC!\n",
      "[INFO] No ToC found\n",
      "{'diff_jaccard': 0.7724194342571826, 'diff_cosine_tf': 0.9938404399541692, 'diff_cosine_tf_idf': 0.9916134087234558, 'diff_minEdit': 0.996874802901293, 'diff_simple': 0.9819530905077263, 'sing_LoughranMcDonald': -0.001525269003412719, '0': {'type': '10-Q', 'published': datetime.date(2011, 10, 31), 'qtr': (2011, 4)}}\n",
      "[INFO] Comparing current qtr (2012, 1) to qtr (2011, 4) from 1 quarter ago.\n",
      "{'diff_jaccard': 0.004214918611037565, 'diff_cosine_tf': 0.28041074963832635, 'diff_cosine_tf_idf': 0.2151202327680577, 'diff_minEdit': 0.9464835928821858, 'diff_simple': 0.627631918837117, 'sing_LoughranMcDonald': -0.0005571672498855159, '0': {'type': '10-K', 'published': datetime.date(2011, 2, 10), 'qtr': (2011, 1)}}\n",
      "[INFO] Comparing current qtr (2011, 2) to qtr (2011, 1) from 1 quarter ago.\n",
      "[INFO] Found a ToC!\n",
      "[INFO] Comparing current qtr (2010, 2) to qtr (2010, 1) from 1 quarter ago.\n",
      "{'diff_jaccard': 0.5655694879832811, 'diff_cosine_tf': 0.7182216249912478, 'diff_cosine_tf_idf': 0.6753514834508162, 'diff_minEdit': 0.8620689655172414, 'diff_simple': 0.8169966304340756, 'sing_LoughranMcDonald': 0.0, '0': {'type': '10-Q', 'published': datetime.date(2010, 5, 5), 'qtr': (2010, 2)}}\n",
      "[INFO] Found a ToC!\n",
      "[INFO] Comparing current qtr (2010, 3) to qtr (2010, 2) from 1 quarter ago.\n",
      "{'diff_jaccard': 0.005299405712422658, 'diff_cosine_tf': 0.33408923388299905, 'diff_cosine_tf_idf': 0.25596047822522405, 'diff_minEdit': 0.9543937539820634, 'diff_simple': 0.678917045889203, 'sing_LoughranMcDonald': -0.00034038526020835233, '0': {'type': '10-K', 'published': datetime.date(2012, 2, 29), 'qtr': (2012, 1)}}\n",
      "[INFO] Comparing current qtr (2012, 2) to qtr (2012, 1) from 1 quarter ago.\n",
      "{'diff_jaccard': 0.7217171717171718, 'diff_cosine_tf': 0.8399999999999999, 'diff_cosine_tf_idf': 0.7464359212312635, 'diff_minEdit': 0.9166666666666667, 'diff_simple': 0.973279082029082, 'sing_LoughranMcDonald': 0.0, '0': {'type': '10-Q', 'published': datetime.date(2010, 7, 26), 'qtr': (2010, 3)}}\n",
      "[INFO] Comparing current qtr (2010, 4) to qtr (2010, 3) from 1 quarter ago.\n",
      "{'diff_jaccard': 0.004214918611037565, 'diff_cosine_tf': 0.28078320053739236, 'diff_cosine_tf_idf': 0.21520914100011182, 'diff_minEdit': 0.94246688206091, 'diff_simple': 0.6302535482775766, 'sing_LoughranMcDonald': 0.0, '0': {'type': '10-Q', 'published': datetime.date(2011, 4, 29), 'qtr': (2011, 2)}}\n",
      "[INFO] Comparing current qtr (2011, 3) to qtr (2011, 2) from 1 quarter ago.\n",
      "[INFO] No ToC found\n",
      "{'diff_jaccard': 0.0700287431408414, 'diff_cosine_tf': 0.31919456390780443, 'diff_cosine_tf_idf': 0.2331919458698423, 'diff_minEdit': 0.8296064400715564, 'diff_simple': 0.7137541383795325, 'sing_LoughranMcDonald': -0.005868143771446382, '0': {'type': '10-Q', 'published': datetime.date(2010, 11, 3), 'qtr': (2010, 4)}}\n",
      "{'diff_jaccard': 0.7217171717171718, 'diff_cosine_tf': 0.8399999999999999, 'diff_cosine_tf_idf': 0.7464359212312635, 'diff_minEdit': 0.9, 'diff_simple': 0.9683272509144601, 'sing_LoughranMcDonald': 0.0, '0': {'type': '10-Q', 'published': datetime.date(2011, 7, 29), 'qtr': (2011, 3)}}\n",
      "[INFO] Comparing current qtr (2011, 1) to qtr (2010, 4) from 1 quarter ago.\n",
      "[INFO] Comparing current qtr (2011, 4) to qtr (2011, 3) from 1 quarter ago.\n",
      "{'diff_jaccard': 0.005297507611179201, 'diff_cosine_tf': 0.3340777476421441, 'diff_cosine_tf_idf': 0.25594958110783983, 'diff_minEdit': 0.9467472115124325, 'diff_simple': 0.6821414919958468, 'sing_LoughranMcDonald': 0.0, '0': {'type': '10-Q', 'published': datetime.date(2012, 4, 25), 'qtr': (2012, 2)}}\n",
      "[INFO] Comparing current qtr (2012, 3) to qtr (2012, 2) from 1 quarter ago.\n",
      "{'diff_jaccard': 0.7217171717171718, 'diff_cosine_tf': 0.8399999999999999, 'diff_cosine_tf_idf': 0.7464359212312635, 'diff_minEdit': 0.9166666666666667, 'diff_simple': 0.9628016879761065, 'sing_LoughranMcDonald': 0.0, '0': {'type': '10-Q', 'published': datetime.date(2011, 10, 27), 'qtr': (2011, 4)}}\n",
      "[INFO] Comparing current qtr (2012, 1) to qtr (2011, 4) from 1 quarter ago.\n",
      "{'diff_jaccard': 0.7297979797979798, 'diff_cosine_tf': 0.8405529953917048, 'diff_cosine_tf_idf': 0.7466257225460292, 'diff_minEdit': 0.9170506912442397, 'diff_simple': 0.9630347251314992, 'sing_LoughranMcDonald': 0.0, '0': {'type': '10-Q', 'published': datetime.date(2012, 7, 25), 'qtr': (2012, 3)}}\n",
      "[INFO] Comparing current qtr (2012, 4) to qtr (2012, 3) from 1 quarter ago.\n",
      "{'diff_jaccard': 0.42830016836771406, 'diff_cosine_tf': 0.85360561676165, 'diff_cosine_tf_idf': 0.8315472210522147, 'diff_minEdit': 0.8846420894745634, 'diff_simple': 0.8769475923033466, 'sing_LoughranMcDonald': -0.0008582535769489344, '0': {'type': '10-K', 'published': datetime.date(2012, 2, 29), 'qtr': (2012, 1)}}\n",
      "{'diff_jaccard': 0.7297979797979798, 'diff_cosine_tf': 0.8405529953917048, 'diff_cosine_tf_idf': 0.7466257225460292, 'diff_minEdit': 0.8502304147465438, 'diff_simple': 0.9734737932318576, 'sing_LoughranMcDonald': 0.0, '0': {'type': '10-Q', 'published': datetime.date(2012, 10, 24), 'qtr': (2012, 4)}}\n",
      "[INFO] Comparing current qtr (2012, 2) to qtr (2012, 1) from 1 quarter ago.\n"
     ]
    },
    {
     "name": "stderr",
     "output_type": "stream",
     "text": [
      "\n",
      "  8%|▊         | 78/1000 [00:52<12:03,  1.27it/s]\u001b[A\n",
      "\n",
      "78it [00:52,  1.30it/s]\u001b[A\u001b[A"
     ]
    },
    {
     "name": "stdout",
     "output_type": "stream",
     "text": [
      "[INFO] No ToC found\n",
      "{'diff_jaccard': 0.021406890780875647, 'diff_cosine_tf': 0.3327219777685993, 'diff_cosine_tf_idf': 0.2889905083991373, 'diff_minEdit': 0.7234609192777804, 'diff_simple': 0.5766461588738239, 'sing_LoughranMcDonald': -0.00123393379042588, '0': {'type': '10-K', 'published': datetime.date(2011, 3, 2), 'qtr': (2011, 1)}}\n",
      "[INFO] Comparing current qtr (2011, 2) to qtr (2011, 1) from 1 quarter ago.\n",
      "[INFO] Found a ToC!\n",
      "[WARNING] Section 1a was found to be empty.\n",
      "[WARNING] Section 3 was found to be empty.\n",
      "{'diff_jaccard': 0.43664455879243236, 'diff_cosine_tf': 0.8489887643690898, 'diff_cosine_tf_idf': 0.8268413987726045, 'diff_minEdit': 0.9042449045613841, 'diff_simple': 0.8598508889990791, 'sing_LoughranMcDonald': -0.002113859210715848, '0': {'type': '10-Q', 'published': datetime.date(2012, 4, 24), 'qtr': (2012, 2)}}\n",
      "[WARNING] Section 7 was found to be empty.\n",
      "[INFO] Comparing current qtr (2012, 3) to qtr (2012, 2) from 1 quarter ago.\n",
      "[WARNING] Section 7a was found to be empty.\n",
      "[WARNING] Section 9a was found to be empty.\n",
      "{'diff_jaccard': 0.23738837859656575, 'diff_cosine_tf': 0.7391671984062003, 'diff_cosine_tf_idf': 0.6987356926208832, 'diff_minEdit': 0.7996478124946371, 'diff_simple': 0.7458647177373956, 'sing_LoughranMcDonald': 5.416545135640766e-05, '0': {'type': '10-Q', 'published': datetime.date(2011, 5, 5), 'qtr': (2011, 2)}}\n",
      "[INFO] Comparing current qtr (2011, 3) to qtr (2011, 2) from 1 quarter ago.\n",
      "{'diff_jaccard': 0.004088492377571877, 'diff_cosine_tf': 0.2614870891520934, 'diff_cosine_tf_idf': 0.19958199086056316, 'diff_minEdit': 0.9464328691048867, 'diff_simple': 0.6082282484374348, 'sing_LoughranMcDonald': -0.000554175760850669, '0': {'type': '10-K', 'published': datetime.date(2012, 2, 13), 'qtr': (2012, 1)}}\n",
      "[INFO] Comparing current qtr (2012, 2) to qtr (2012, 1) from 1 quarter ago.\n",
      "{'diff_jaccard': 0.6584651415807958, 'diff_cosine_tf': 0.9784483376495061, 'diff_cosine_tf_idf': 0.9713506395537866, 'diff_minEdit': 0.8363733338966223, 'diff_simple': 0.8442274138695843, 'sing_LoughranMcDonald': 8.579442898765523e-05, '0': {'type': '10-Q', 'published': datetime.date(2011, 8, 11), 'qtr': (2011, 3)}}\n",
      "[INFO] Found a ToC!\n",
      "[INFO] Comparing current qtr (2011, 4) to qtr (2011, 3) from 1 quarter ago.\n",
      "[WARNING] Section _i_4 was found to be empty.\n",
      "[INFO] Found a ToC!\n",
      "[WARNING] Section ii_1 was found to be empty.\n",
      "{'diff_jaccard': 0.7325779843117595, 'diff_cosine_tf': 0.9548699877335031, 'diff_cosine_tf_idf': 0.9497633875213319, 'diff_minEdit': 0.8031687869526882, 'diff_simple': 0.8207711693501437, 'sing_LoughranMcDonald': -0.0011509441961345354, '0': {'type': '10-Q', 'published': datetime.date(2012, 7, 27), 'qtr': (2012, 3)}}\n",
      "[WARNING] Section ii_1a was found to be empty.\n",
      "[INFO] Comparing current qtr (2012, 4) to qtr (2012, 3) from 1 quarter ago.\n",
      "[INFO] Found a ToC!\n",
      "{'diff_jaccard': 0.7361637142352122, 'diff_cosine_tf': 0.9810688561208231, 'diff_cosine_tf_idf': 0.9730510477491734, 'diff_minEdit': 0.9999999999999999, 'diff_simple': 0.9999999999999999, 'sing_LoughranMcDonald': 0.00013336462308490574, '0': {'type': '10-Q', 'published': datetime.date(2011, 11, 7), 'qtr': (2011, 4)}}\n",
      "[INFO] Comparing current qtr (2012, 1) to qtr (2011, 4) from 1 quarter ago.\n",
      "{'diff_jaccard': 0.003984057824788113, 'diff_cosine_tf': 0.2631443155888102, 'diff_cosine_tf_idf': 0.20086942442981873, 'diff_minEdit': 0.9426087215103047, 'diff_simple': 0.6107241955854137, 'sing_LoughranMcDonald': 0.0, '0': {'type': '10-Q', 'published': datetime.date(2012, 4, 27), 'qtr': (2012, 2)}}\n",
      "[INFO] Comparing current qtr (2012, 3) to qtr (2012, 2) from 1 quarter ago.\n",
      "[INFO] No ToC found\n",
      "[WARNING] Section _i_2 was found to be empty.\n",
      "[WARNING] Section ii_1a was found to be empty.\n",
      "{'diff_jaccard': 0.7217171717171718, 'diff_cosine_tf': 0.8399999999999999, 'diff_cosine_tf_idf': 0.7464359212312635, 'diff_minEdit': 0.9166666666666667, 'diff_simple': 0.9730891556763649, 'sing_LoughranMcDonald': 0.0, '0': {'type': '10-Q', 'published': datetime.date(2012, 7, 27), 'qtr': (2012, 3)}}\n",
      "[INFO] Comparing current qtr (2012, 4) to qtr (2012, 3) from 1 quarter ago.\n",
      "{'diff_jaccard': 0.7255540126953984, 'diff_cosine_tf': 0.9536687595459006, 'diff_cosine_tf_idf': 0.9492075997118175, 'diff_minEdit': 0.9849201242894978, 'diff_simple': 0.9606367291667013, 'sing_LoughranMcDonald': -0.002022163253712793, '0': {'type': '10-Q', 'published': datetime.date(2012, 10, 25), 'qtr': (2012, 4)}}\n"
     ]
    },
    {
     "name": "stderr",
     "output_type": "stream",
     "text": [
      "\n",
      "  8%|▊         | 79/1000 [00:53<11:28,  1.34it/s]\u001b[A\n",
      "\n",
      "79it [00:53,  1.36it/s]\u001b[A\u001b[A"
     ]
    },
    {
     "name": "stdout",
     "output_type": "stream",
     "text": [
      "{'diff_jaccard': 0.7217171717171718, 'diff_cosine_tf': 0.8399999999999999, 'diff_cosine_tf_idf': 0.7464359212312635, 'diff_minEdit': 0.9166666666666667, 'diff_simple': 0.9730891556763649, 'sing_LoughranMcDonald': 0.0, '0': {'type': '10-Q', 'published': datetime.date(2012, 10, 25), 'qtr': (2012, 4)}}\n",
      "[INFO] No ToC found\n",
      "[INFO] No ToC found\n",
      "{'diff_jaccard': 0.2811858068784759, 'diff_cosine_tf': 0.7748420477958354, 'diff_cosine_tf_idf': 0.7380060489898611, 'diff_minEdit': 0.9142622529667216, 'diff_simple': 0.873958099147236, 'sing_LoughranMcDonald': -0.0008492879346466242, '0': {'type': '10-K', 'published': datetime.date(2012, 2, 27), 'qtr': (2012, 1)}}\n",
      "[INFO] Comparing current qtr (2012, 2) to qtr (2012, 1) from 1 quarter ago.\n",
      "{'diff_jaccard': 0.24084578701075257, 'diff_cosine_tf': 0.7450357768141191, 'diff_cosine_tf_idf': 0.7022953284419292, 'diff_minEdit': 0.9309855893823658, 'diff_simple': 0.8841219003366365, 'sing_LoughranMcDonald': -0.0036360504441866823, '0': {'type': '10-Q', 'published': datetime.date(2012, 5, 8), 'qtr': (2012, 2)}}\n",
      "[INFO] Comparing current qtr (2012, 3) to qtr (2012, 2) from 1 quarter ago.\n",
      "[INFO] No ToC found\n",
      "{'diff_jaccard': 0.7561940643490431, 'diff_cosine_tf': 0.9717165749647284, 'diff_cosine_tf_idf': 0.9637770559826814, 'diff_minEdit': 1.0, 'diff_simple': 1.0, 'sing_LoughranMcDonald': -0.002053689392701962, '0': {'type': '10-Q', 'published': datetime.date(2012, 8, 7), 'qtr': (2012, 3)}}\n",
      "[INFO] Comparing current qtr (2012, 4) to qtr (2012, 3) from 1 quarter ago.\n",
      "{'diff_jaccard': 0.6955382545244613, 'diff_cosine_tf': 0.9654747592514996, 'diff_cosine_tf_idf': 0.9496171922577354, 'diff_minEdit': 0.9993186026416492, 'diff_simple': 0.9994889519812369, 'sing_LoughranMcDonald': -0.0015364916282061309, '0': {'type': '10-Q', 'published': datetime.date(2012, 11, 7), 'qtr': (2012, 4)}}\n"
     ]
    },
    {
     "name": "stderr",
     "output_type": "stream",
     "text": [
      "\n",
      "  8%|▊         | 81/1000 [00:53<09:10,  1.67it/s]\u001b[A\n",
      "\n",
      "81it [00:53,  1.70it/s]\u001b[A\u001b[A"
     ]
    },
    {
     "name": "stdout",
     "output_type": "stream",
     "text": [
      "[INFO] Found a ToC!\n",
      "[INFO] No ToC found\n",
      "[INFO] Found a ToC!\n",
      "[INFO] Found a ToC!\n",
      "[WARNING] Section ii_1a was found to be empty.\n",
      "[INFO] No ToC found\n",
      "[INFO] No ToC found\n",
      "[INFO] No ToC found\n",
      "[WARNING] Section 1a was found to be empty.\n",
      "[INFO] No ToC found\n",
      "[WARNING] Section 3 was found to be empty.\n",
      "[WARNING] Section 7 was found to be empty.\n",
      "[WARNING] Section 7a was found to be empty.\n",
      "[WARNING] Section 9a was found to be empty.\n",
      "[INFO] No ToC found\n",
      "[INFO] Found a ToC!\n",
      "[INFO] No ToC found\n",
      "[INFO] No ToC found\n",
      "[INFO] No ToC found\n",
      "[WARNING] Section _i_2 was found to be empty.\n",
      "[INFO] Found a ToC!\n",
      "[INFO] Found a ToC!\n",
      "[INFO] Found a ToC!\n",
      "[INFO] No ToC found\n",
      "[INFO] No ToC found\n",
      "[INFO] Found a ToC!\n",
      "[INFO] Found a ToC!\n",
      "[INFO] No ToC found\n",
      "[INFO] No ToC found\n",
      "[INFO] Comparing current qtr (2010, 2) to qtr (2010, 1) from 1 quarter ago.\n",
      "[INFO] Found a ToC!\n",
      "[INFO] Found a ToC!\n",
      "[INFO] Found a ToC!\n",
      "[WARNING] Section _i_3 was found to be empty.\n",
      "[INFO] Found a ToC!\n",
      "[INFO] Comparing current qtr (2010, 2) to qtr (2010, 1) from 1 quarter ago.\n",
      "[INFO] Found a ToC!\n",
      "[INFO] No ToC found\n",
      "{'diff_jaccard': 0.44531392462369396, 'diff_cosine_tf': 0.870922756716235, 'diff_cosine_tf_idf': 0.8498881570197231, 'diff_minEdit': 0.863313160109101, 'diff_simple': 0.6343761798224148, 'sing_LoughranMcDonald': -0.0007000819214003464, '0': {'type': '10-Q', 'published': datetime.date(2010, 5, 14), 'qtr': (2010, 2)}}\n",
      "[INFO] Comparing current qtr (2010, 3) to qtr (2010, 2) from 1 quarter ago.\n",
      "[INFO] Found a ToC!\n",
      "[INFO] No ToC found\n",
      "[WARNING] Section _i_3 was found to be empty.\n",
      "[INFO] No ToC found\n",
      "[INFO] Found a ToC!\n",
      "[INFO] Comparing current qtr (2010, 2) to qtr (2010, 1) from 1 quarter ago.\n",
      "{'diff_jaccard': 0.5684275760932476, 'diff_cosine_tf': 0.9287915168024243, 'diff_cosine_tf_idf': 0.9220458395315936, 'diff_minEdit': 0.809298548972763, 'diff_simple': 0.8057076646931176, 'sing_LoughranMcDonald': -0.000282526611490828, '0': {'type': '10-Q', 'published': datetime.date(2010, 5, 6), 'qtr': (2010, 2)}}\n",
      "[INFO] Comparing current qtr (2010, 3) to qtr (2010, 2) from 1 quarter ago.\n",
      "{'diff_jaccard': 0.805530171606809, 'diff_cosine_tf': 0.9843762890524733, 'diff_cosine_tf_idf': 0.9814723994212738, 'diff_minEdit': 0.9996160035108251, 'diff_simple': 0.9997542422469281, 'sing_LoughranMcDonald': -0.0007283323072700991, '0': {'type': '10-Q', 'published': datetime.date(2010, 8, 13), 'qtr': (2010, 3)}}\n",
      "[INFO] Comparing current qtr (2010, 4) to qtr (2010, 3) from 1 quarter ago.\n",
      "[INFO] No ToC found\n",
      "[WARNING] Section _i_3 was found to be empty.\n",
      "[INFO] Found a ToC!\n",
      "[INFO] Comparing current qtr (2010, 2) to qtr (2010, 1) from 1 quarter ago.\n",
      "{'diff_jaccard': 0.3325307346341138, 'diff_cosine_tf': 0.8021656077060821, 'diff_cosine_tf_idf': 0.7811093234534501, 'diff_minEdit': 0.6842981528778986, 'diff_simple': 0.6841897259588104, 'sing_LoughranMcDonald': -0.0016713564473626716, '0': {'type': '10-Q', 'published': datetime.date(2010, 5, 10), 'qtr': (2010, 2)}}\n",
      "[INFO] Comparing current qtr (2010, 3) to qtr (2010, 2) from 1 quarter ago.\n",
      "{'diff_jaccard': 0.005774545557612069, 'diff_cosine_tf': 0.05460324992419133, 'diff_cosine_tf_idf': 0.03447501361689534, 'diff_minEdit': 0.6467733626297236, 'diff_simple': 0.19934091650813107, 'sing_LoughranMcDonald': -6.059711611228423e-05, '0': {'type': '10-Q', 'published': datetime.date(2010, 4, 28), 'qtr': (2010, 2)}}\n",
      "[INFO] Comparing current qtr (2010, 3) to qtr (2010, 2) from 1 quarter ago.\n",
      "{'diff_jaccard': 0.7630980678363019, 'diff_cosine_tf': 0.9769019152415354, 'diff_cosine_tf_idf': 0.9722927412231211, 'diff_minEdit': 1.0, 'diff_simple': 1.0, 'sing_LoughranMcDonald': -0.0002504479727948054, '0': {'type': '10-Q', 'published': datetime.date(2010, 8, 5), 'qtr': (2010, 3)}}\n",
      "[INFO] Comparing current qtr (2010, 4) to qtr (2010, 3) from 1 quarter ago.\n",
      "{'diff_jaccard': 0.11309322396070022, 'diff_cosine_tf': 0.2391905473692863, 'diff_cosine_tf_idf': 0.21374757376130848, 'diff_minEdit': 0.7611549522324038, 'diff_simple': 0.3478211755040564, 'sing_LoughranMcDonald': -0.001625265783426702, '0': {'type': '10-Q', 'published': datetime.date(2010, 8, 9), 'qtr': (2010, 3)}}\n",
      "[INFO] Comparing current qtr (2010, 4) to qtr (2010, 3) from 1 quarter ago.\n",
      "{'diff_jaccard': 0.8104397399853623, 'diff_cosine_tf': 0.9910064494003981, 'diff_cosine_tf_idf': 0.9900217503008883, 'diff_minEdit': 1.0, 'diff_simple': 1.0, 'sing_LoughranMcDonald': -0.0016991443631170432, '0': {'type': '10-Q', 'published': datetime.date(2010, 8, 9), 'qtr': (2010, 3)}}\n",
      "[INFO] Comparing current qtr (2010, 4) to qtr (2010, 3) from 1 quarter ago.\n",
      "{'diff_jaccard': 0.021275380117391995, 'diff_cosine_tf': 0.21259830552417514, 'diff_cosine_tf_idf': 0.15311666371031957, 'diff_minEdit': 0.8343692927135817, 'diff_simple': 0.5191651549070047, 'sing_LoughranMcDonald': 0.0, '0': {'type': '10-Q', 'published': datetime.date(2010, 10, 27), 'qtr': (2010, 4)}}\n",
      "[INFO] Comparing current qtr (2011, 1) to qtr (2010, 4) from 1 quarter ago.\n",
      "{'diff_jaccard': 0.7775042057567145, 'diff_cosine_tf': 0.9896484868222194, 'diff_cosine_tf_idf': 0.9860107903453289, 'diff_minEdit': 0.9996251345499204, 'diff_simple': 0.9996901112279342, 'sing_LoughranMcDonald': -0.0007915641976555903, '0': {'type': '10-Q', 'published': datetime.date(2010, 11, 12), 'qtr': (2010, 4)}}\n",
      "[INFO] Comparing current qtr (2011, 1) to qtr (2010, 4) from 1 quarter ago.\n",
      "[INFO] Found a ToC!\n",
      "{'diff_jaccard': 0.7933507750610697, 'diff_cosine_tf': 0.9870219903226307, 'diff_cosine_tf_idf': 0.9851615094927937, 'diff_minEdit': 1.0, 'diff_simple': 1.0, 'sing_LoughranMcDonald': -0.00023452621987667233, '0': {'type': '10-Q', 'published': datetime.date(2010, 11, 8), 'qtr': (2010, 4)}}\n",
      "[INFO] Comparing current qtr (2011, 1) to qtr (2010, 4) from 1 quarter ago.\n",
      "[INFO] Found a ToC!\n",
      "{'diff_jaccard': 0.512087651574892, 'diff_cosine_tf': 0.8024840147913211, 'diff_cosine_tf_idf': 0.7796078937435416, 'diff_minEdit': 0.9059675098301513, 'diff_simple': 0.7833491426486684, 'sing_LoughranMcDonald': -0.0007625931998052718, '0': {'type': '10-Q', 'published': datetime.date(2010, 11, 9), 'qtr': (2010, 4)}}\n",
      "[INFO] Comparing current qtr (2011, 1) to qtr (2010, 4) from 1 quarter ago.\n",
      "{'diff_jaccard': 0.003846361836795467, 'diff_cosine_tf': 0.2361063898446191, 'diff_cosine_tf_idf': 0.18241204416719434, 'diff_minEdit': 0.9305469814178985, 'diff_simple': 0.5117759576606239, 'sing_LoughranMcDonald': -0.0003162221256786409, '0': {'type': '10-K', 'published': datetime.date(2011, 3, 1), 'qtr': (2011, 1)}}\n",
      "[INFO] Comparing current qtr (2011, 2) to qtr (2011, 1) from 1 quarter ago.\n",
      "[INFO] Found a ToC!\n",
      "{'diff_jaccard': 0.00411282770913903, 'diff_cosine_tf': 0.2445598908858522, 'diff_cosine_tf_idf': 0.1878625317230517, 'diff_minEdit': 0.8996704848764245, 'diff_simple': 0.5057975784183728, 'sing_LoughranMcDonald': 0.0, '0': {'type': '10-K', 'published': datetime.date(2011, 3, 15), 'qtr': (2011, 1)}}\n",
      "[INFO] Comparing current qtr (2011, 2) to qtr (2011, 1) from 1 quarter ago.\n",
      "[INFO] No ToC found\n",
      "{'diff_jaccard': 0.004313869404057946, 'diff_cosine_tf': 0.23692813482820194, 'diff_cosine_tf_idf': 0.1834519491327398, 'diff_minEdit': 0.9492111068882033, 'diff_simple': 0.5149180423903419, 'sing_LoughranMcDonald': 0.0, '0': {'type': '10-Q', 'published': datetime.date(2011, 4, 29), 'qtr': (2011, 2)}}\n",
      "[INFO] Comparing current qtr (2011, 3) to qtr (2011, 2) from 1 quarter ago.\n",
      "{'diff_jaccard': 0.7944444444444445, 'diff_cosine_tf': 0.8666666666666665, 'diff_cosine_tf_idf': 0.7958954792317016, 'diff_minEdit': 0.9, 'diff_simple': 0.9731042568542568, 'sing_LoughranMcDonald': 0.0, '0': {'type': '10-Q', 'published': datetime.date(2011, 8, 5), 'qtr': (2011, 3)}}\n",
      "[INFO] Found a ToC!\n",
      "{'diff_jaccard': 0.008430545672662916, 'diff_cosine_tf': 0.4724380045253467, 'diff_cosine_tf_idf': 0.37154495053913356, 'diff_minEdit': 0.8881642130668967, 'diff_simple': 0.8158389558978494, 'sing_LoughranMcDonald': -0.0013152564161184647, '0': {'type': '10-Q', 'published': datetime.date(2011, 5, 10), 'qtr': (2011, 2)}}\n",
      "[INFO] Comparing current qtr (2011, 3) to qtr (2011, 2) from 1 quarter ago.\n",
      "[INFO] Comparing current qtr (2011, 4) to qtr (2011, 3) from 1 quarter ago.\n",
      "{'diff_jaccard': 0.7217171717171718, 'diff_cosine_tf': 0.8399999999999999, 'diff_cosine_tf_idf': 0.7464359212312635, 'diff_minEdit': 0.9, 'diff_simple': 0.973279082029082, 'sing_LoughranMcDonald': 0.0, '0': {'type': '10-Q', 'published': datetime.date(2011, 11, 3), 'qtr': (2011, 4)}}\n"
     ]
    },
    {
     "name": "stdout",
     "output_type": "stream",
     "text": [
      "[INFO] Comparing current qtr (2012, 1) to qtr (2011, 4) from 1 quarter ago.\n",
      "{'diff_jaccard': 0.00933470207388306, 'diff_cosine_tf': 0.4719668177884293, 'diff_cosine_tf_idf': 0.37147752254972266, 'diff_minEdit': 0.8833309433806141, 'diff_simple': 0.8186706992034005, 'sing_LoughranMcDonald': 0.0, '0': {'type': '10-Q', 'published': datetime.date(2011, 8, 2), 'qtr': (2011, 3)}}\n",
      "[INFO] Comparing current qtr (2011, 4) to qtr (2011, 3) from 1 quarter ago.\n",
      "{'diff_jaccard': 0.5747780444206723, 'diff_cosine_tf': 0.9333282498286973, 'diff_cosine_tf_idf': 0.9250046412141246, 'diff_minEdit': 0.7731883500073182, 'diff_simple': 0.8156734819685606, 'sing_LoughranMcDonald': -0.0002554853753763682, '0': {'type': '10-K', 'published': datetime.date(2011, 3, 8), 'qtr': (2011, 1)}}\n",
      "[INFO] Comparing current qtr (2011, 2) to qtr (2011, 1) from 1 quarter ago.\n",
      "{'diff_jaccard': 0.4503082840839063, 'diff_cosine_tf': 0.8712178813038414, 'diff_cosine_tf_idf': 0.8508267853445626, 'diff_minEdit': 0.8665711032847685, 'diff_simple': 0.6512694884838905, 'sing_LoughranMcDonald': -0.00034625571119041506, '0': {'type': '10-K', 'published': datetime.date(2011, 3, 14), 'qtr': (2011, 1)}}\n",
      "[INFO] Comparing current qtr (2011, 2) to qtr (2011, 1) from 1 quarter ago.\n",
      "{'diff_jaccard': 0.00909651544503619, 'diff_cosine_tf': 0.47380908489642276, 'diff_cosine_tf_idf': 0.37306454165877756, 'diff_minEdit': 0.9181199735772704, 'diff_simple': 0.8201390874341726, 'sing_LoughranMcDonald': -0.0018600096978893086, '0': {'type': '10-Q', 'published': datetime.date(2011, 11, 1), 'qtr': (2011, 4)}}\n",
      "[INFO] Comparing current qtr (2012, 1) to qtr (2011, 4) from 1 quarter ago.\n",
      "[INFO] Found a ToC!\n",
      "{'diff_jaccard': 0.5537586409160703, 'diff_cosine_tf': 0.926806079480706, 'diff_cosine_tf_idf': 0.9185337103275059, 'diff_minEdit': 0.8385243160033627, 'diff_simple': 0.8744703815261045, 'sing_LoughranMcDonald': -0.00033194790443492704, '0': {'type': '10-Q', 'published': datetime.date(2011, 5, 5), 'qtr': (2011, 2)}}\n",
      "[INFO] Comparing current qtr (2011, 3) to qtr (2011, 2) from 1 quarter ago.\n",
      "{'diff_jaccard': 0.004065226216315869, 'diff_cosine_tf': 0.258432847672276, 'diff_cosine_tf_idf': 0.20127706152271552, 'diff_minEdit': 0.9517569580912797, 'diff_simple': 0.5349536274699535, 'sing_LoughranMcDonald': -0.0002605646554613046, '0': {'type': '10-K', 'published': datetime.date(2012, 2, 28), 'qtr': (2012, 1)}}\n",
      "[INFO] Comparing current qtr (2012, 2) to qtr (2012, 1) from 1 quarter ago.\n",
      "{'diff_jaccard': 0.2925444550850154, 'diff_cosine_tf': 0.7719854029792215, 'diff_cosine_tf_idf': 0.7446070564592119, 'diff_minEdit': 0.7408939658565034, 'diff_simple': 0.6452365422721268, 'sing_LoughranMcDonald': -0.0008041887238108397, '0': {'type': '10-K', 'published': datetime.date(2012, 3, 13), 'qtr': (2012, 1)}}\n",
      "[INFO] Comparing current qtr (2012, 2) to qtr (2012, 1) from 1 quarter ago.\n",
      "{'diff_jaccard': 0.8194869580993374, 'diff_cosine_tf': 0.9788568548197479, 'diff_cosine_tf_idf': 0.9750393312769382, 'diff_minEdit': 1.0, 'diff_simple': 1.0, 'sing_LoughranMcDonald': -0.0002695736690250868, '0': {'type': '10-Q', 'published': datetime.date(2011, 8, 9), 'qtr': (2011, 3)}}\n",
      "[INFO] Comparing current qtr (2011, 4) to qtr (2011, 3) from 1 quarter ago.\n",
      "{'diff_jaccard': 0.44807999014472677, 'diff_cosine_tf': 0.876327892627314, 'diff_cosine_tf_idf': 0.8567362543185849, 'diff_minEdit': 0.8611461779466719, 'diff_simple': 0.6435262236585202, 'sing_LoughranMcDonald': -0.0007581307903142949, '0': {'type': '10-Q', 'published': datetime.date(2011, 5, 10), 'qtr': (2011, 2)}}\n",
      "{'diff_jaccard': 0.28280711934697766, 'diff_cosine_tf': 0.7622407103266307, 'diff_cosine_tf_idf': 0.7275343901829817, 'diff_minEdit': 0.8433920562147156, 'diff_simple': 0.6752645881006865, 'sing_LoughranMcDonald': -0.00014474307949239584, '0': {'type': '10-Q', 'published': datetime.date(2012, 4, 27), 'qtr': (2012, 2)}}\n",
      "[INFO] Comparing current qtr (2011, 3) to qtr (2011, 2) from 1 quarter ago.\n",
      "[INFO] Comparing current qtr (2012, 3) to qtr (2012, 2) from 1 quarter ago.\n",
      "{'diff_jaccard': 0.29912446344962185, 'diff_cosine_tf': 0.767035031895244, 'diff_cosine_tf_idf': 0.7393783568925507, 'diff_minEdit': 0.7606054295509067, 'diff_simple': 0.6332879352973222, 'sing_LoughranMcDonald': -0.0019710035944613975, '0': {'type': '10-Q', 'published': datetime.date(2012, 5, 4), 'qtr': (2012, 2)}}\n",
      "[INFO] Comparing current qtr (2012, 3) to qtr (2012, 2) from 1 quarter ago.\n",
      "[INFO] No ToC found\n",
      "[WARNING] Section _i_3 was found to be empty.\n",
      "{'diff_jaccard': 0.6960381929302895, 'diff_cosine_tf': 0.9807892026070677, 'diff_cosine_tf_idf': 0.9786927229011286, 'diff_minEdit': 0.9964151905686657, 'diff_simple': 0.9974189372094393, 'sing_LoughranMcDonald': -9.787445923946268e-05, '0': {'type': '10-Q', 'published': datetime.date(2012, 8, 2), 'qtr': (2012, 3)}}\n",
      "[INFO] Comparing current qtr (2012, 4) to qtr (2012, 3) from 1 quarter ago.\n",
      "{'diff_jaccard': 0.8024445407820275, 'diff_cosine_tf': 0.9847688382048728, 'diff_cosine_tf_idf': 0.9745665813602911, 'diff_minEdit': 0.9998723916359589, 'diff_simple': 0.9997575441083218, 'sing_LoughranMcDonald': -0.0002736600925003539, '0': {'type': '10-Q', 'published': datetime.date(2011, 11, 7), 'qtr': (2011, 4)}}\n",
      "[INFO] Comparing current qtr (2012, 1) to qtr (2011, 4) from 1 quarter ago.\n",
      "{'diff_jaccard': 0.5269261833383582, 'diff_cosine_tf': 0.7493228650360719, 'diff_cosine_tf_idf': 0.7185782391247112, 'diff_minEdit': 0.872538975222894, 'diff_simple': 0.7204837353396769, 'sing_LoughranMcDonald': -0.0010888176570733176, '0': {'type': '10-Q', 'published': datetime.date(2012, 8, 7), 'qtr': (2012, 3)}}\n",
      "[INFO] Comparing current qtr (2012, 4) to qtr (2012, 3) from 1 quarter ago.\n",
      "[INFO] No ToC found\n",
      "{'diff_jaccard': 0.7568137648683377, 'diff_cosine_tf': 0.9908503451313242, 'diff_cosine_tf_idf': 0.9890348372423775, 'diff_minEdit': 0.9965544834078607, 'diff_simple': 0.9967841845140033, 'sing_LoughranMcDonald': -0.00010425004598406143, '0': {'type': '10-Q', 'published': datetime.date(2012, 11, 1), 'qtr': (2012, 4)}}\n",
      "[WARNING] Section _i_3 was found to be empty.\n"
     ]
    },
    {
     "name": "stderr",
     "output_type": "stream",
     "text": [
      "\n",
      "  8%|▊         | 82/1000 [00:58<26:53,  1.76s/it]\u001b[A\n",
      "\n",
      "82it [00:58,  1.75s/it]\u001b[A\u001b[A"
     ]
    },
    {
     "name": "stdout",
     "output_type": "stream",
     "text": [
      "{'diff_jaccard': 0.6586670909186838, 'diff_cosine_tf': 0.9509257326037847, 'diff_cosine_tf_idf': 0.941380064878686, 'diff_minEdit': 0.9984407390444969, 'diff_simple': 0.9963409342910861, 'sing_LoughranMcDonald': -0.0006274368903352114, '0': {'type': '10-Q', 'published': datetime.date(2011, 8, 9), 'qtr': (2011, 3)}}\n",
      "[INFO] Comparing current qtr (2011, 4) to qtr (2011, 3) from 1 quarter ago.\n",
      "[INFO] Found a ToC!\n",
      "{'diff_jaccard': 0.5585471192832835, 'diff_cosine_tf': 0.8984926638934155, 'diff_cosine_tf_idf': 0.8817252310207733, 'diff_minEdit': 0.8059216993951819, 'diff_simple': 0.8529620428987366, 'sing_LoughranMcDonald': -0.00028344272953165185, '0': {'type': '10-K', 'published': datetime.date(2012, 3, 7), 'qtr': (2012, 1)}}\n",
      "[INFO] Comparing current qtr (2012, 2) to qtr (2012, 1) from 1 quarter ago.\n",
      "[INFO] Found a ToC!\n",
      "{'diff_jaccard': 0.7696900756236358, 'diff_cosine_tf': 0.9704288625403035, 'diff_cosine_tf_idf': 0.9673163496809644, 'diff_minEdit': 0.9889523349954426, 'diff_simple': 0.985723017532572, 'sing_LoughranMcDonald': -0.0006818390374425132, '0': {'type': '10-Q', 'published': datetime.date(2012, 11, 6), 'qtr': (2012, 4)}}\n"
     ]
    },
    {
     "name": "stderr",
     "output_type": "stream",
     "text": [
      "\n",
      "  8%|▊         | 83/1000 [00:58<20:32,  1.34s/it]\u001b[A\n",
      "\n",
      "83it [00:58,  1.34s/it]\u001b[A\u001b[A"
     ]
    },
    {
     "name": "stdout",
     "output_type": "stream",
     "text": [
      "[INFO] Found a ToC!\n",
      "{'diff_jaccard': 0.7181345588208691, 'diff_cosine_tf': 0.9623757208248226, 'diff_cosine_tf_idf': 0.9540062577147228, 'diff_minEdit': 0.9971660766523934, 'diff_simple': 0.9981862890575318, 'sing_LoughranMcDonald': -0.0006330628782905562, '0': {'type': '10-Q', 'published': datetime.date(2011, 11, 8), 'qtr': (2011, 4)}}\n",
      "[INFO] Comparing current qtr (2012, 1) to qtr (2011, 4) from 1 quarter ago.\n",
      "{'diff_jaccard': 0.5394487260327285, 'diff_cosine_tf': 0.8892904518936507, 'diff_cosine_tf_idf': 0.8767101429461606, 'diff_minEdit': 0.7993310356949537, 'diff_simple': 0.8497885728668514, 'sing_LoughranMcDonald': -0.0003206513865947993, '0': {'type': '10-Q', 'published': datetime.date(2012, 5, 8), 'qtr': (2012, 2)}}\n",
      "[INFO] Comparing current qtr (2012, 3) to qtr (2012, 2) from 1 quarter ago.\n",
      "[INFO] Found a ToC!\n",
      "[INFO] Found a ToC!\n",
      "[INFO] Found a ToC!\n",
      "{'diff_jaccard': 0.8152137549227324, 'diff_cosine_tf': 0.9703058374804447, 'diff_cosine_tf_idf': 0.9651034295338612, 'diff_minEdit': 1.0, 'diff_simple': 1.0, 'sing_LoughranMcDonald': -0.0002880229654124264, '0': {'type': '10-Q', 'published': datetime.date(2012, 8, 7), 'qtr': (2012, 3)}}\n",
      "[INFO] Comparing current qtr (2012, 4) to qtr (2012, 3) from 1 quarter ago.\n",
      "[INFO] Found a ToC!\n",
      "{'diff_jaccard': 0.7946104559313047, 'diff_cosine_tf': 0.9845840874836496, 'diff_cosine_tf_idf': 0.9779592360240672, 'diff_minEdit': 0.9999999999999999, 'diff_simple': 0.9999999999999999, 'sing_LoughranMcDonald': -0.00024743437135359186, '0': {'type': '10-Q', 'published': datetime.date(2012, 11, 7), 'qtr': (2012, 4)}}\n"
     ]
    },
    {
     "name": "stderr",
     "output_type": "stream",
     "text": [
      "\n",
      "  8%|▊         | 84/1000 [00:59<17:16,  1.13s/it]\u001b[A\n",
      "\n",
      "84it [00:59,  1.13s/it]\u001b[A\u001b[A"
     ]
    },
    {
     "name": "stdout",
     "output_type": "stream",
     "text": [
      "{'diff_jaccard': 0.46624913668306756, 'diff_cosine_tf': 0.8773351427189039, 'diff_cosine_tf_idf': 0.855264464081292, 'diff_minEdit': 0.884359627872211, 'diff_simple': 0.6922949944166626, 'sing_LoughranMcDonald': -0.000282396763194983, '0': {'type': '10-K', 'published': datetime.date(2012, 3, 9), 'qtr': (2012, 1)}}\n",
      "[INFO] Comparing current qtr (2012, 2) to qtr (2012, 1) from 1 quarter ago.\n",
      "[INFO] Found a ToC!\n",
      "[INFO] Found a ToC!\n",
      "[WARNING] Section 7a was found to be empty.\n",
      "{'diff_jaccard': 0.03749286146748524, 'diff_cosine_tf': 0.34001203587862927, 'diff_cosine_tf_idf': 0.2979156590702702, 'diff_minEdit': 0.7322860194813591, 'diff_simple': 0.2721084506912835, 'sing_LoughranMcDonald': -0.007659403130439562, '0': {'type': '10-Q', 'published': datetime.date(2012, 5, 8), 'qtr': (2012, 2)}}\n",
      "[INFO] Comparing current qtr (2012, 3) to qtr (2012, 2) from 1 quarter ago.\n",
      "[INFO] Found a ToC!\n",
      "[INFO] No ToC found\n",
      "[WARNING] Section _i_4 was found to be empty.\n",
      "[WARNING] Section ii_1 was found to be empty.\n",
      "[WARNING] Section ii_1a was found to be empty.\n",
      "[INFO] No ToC found\n",
      "[INFO] Found a ToC!\n",
      "{'diff_jaccard': 0.11340305460715112, 'diff_cosine_tf': 0.1872314868530556, 'diff_cosine_tf_idf': 0.1593091798948582, 'diff_minEdit': 0.5345457569311195, 'diff_simple': 0.3589627998054431, 'sing_LoughranMcDonald': -0.000520719198075848, '0': {'type': '10-Q', 'published': datetime.date(2012, 8, 7), 'qtr': (2012, 3)}}\n",
      "[INFO] Comparing current qtr (2012, 4) to qtr (2012, 3) from 1 quarter ago.\n",
      "[INFO] Found a ToC!\n",
      "[INFO] No ToC found\n",
      "[INFO] No ToC found\n",
      "[INFO] Found a ToC!\n",
      "[INFO] Found a ToC!\n",
      "[WARNING] Section _i_2 was found to be empty.\n",
      "{'diff_jaccard': 0.7991336981095758, 'diff_cosine_tf': 0.98986409824501, 'diff_cosine_tf_idf': 0.9865956130632956, 'diff_minEdit': 0.9994097091046468, 'diff_simple': 0.9995844352096713, 'sing_LoughranMcDonald': -0.0005310358780665279, '0': {'type': '10-Q', 'published': datetime.date(2012, 11, 8), 'qtr': (2012, 4)}}\n"
     ]
    },
    {
     "name": "stderr",
     "output_type": "stream",
     "text": [
      "\n",
      "  8%|▊         | 85/1000 [01:00<16:25,  1.08s/it]\u001b[A\n",
      "\n",
      "85it [01:00,  1.07s/it]\u001b[A\u001b[A"
     ]
    },
    {
     "name": "stdout",
     "output_type": "stream",
     "text": [
      "[INFO] No ToC found\n",
      "This is the res {'_i_1': [(5090, 5108)], '_i_2': [], '_i_3': [(4535, 4556), (158699, 158723)], '_i_4': [(4614, 4631), (161030, 161049)], 'ii_1': [(165805, 165864)], 'ii_1a': [(166214, 166262)], 'ii_2': [(4767, 4788), (167839, 167905)], 'ii_3': [(4847, 4864), (169512, 169574)], 'ii_5': [(169694, 169753)], 'ii_6': [(4976, 4995), (169810, 169872)]}\n",
      "[WARNING] /home/alex/Desktop/filtered_text_data/nd_data/2010/QTR3/20100805_10-Q_edgar_data_1130713_0001104659-10-042456_1.txt failed parsing\n",
      "[INFO] No ToC found\n",
      "[INFO] No ToC found\n",
      "[INFO] No ToC found\n",
      "[INFO] No ToC found\n",
      "[INFO] Found a ToC!\n",
      "[INFO] No ToC found\n",
      "[INFO] Found a ToC!\n",
      "[WARNING] Section _i_3 was found to be empty.\n",
      "[INFO] Found a ToC!\n",
      "[INFO] No ToC found\n",
      "[WARNING] Section _i_4 was found to be empty.\n",
      "[INFO] Found a ToC!\n",
      "[INFO] Found a ToC!\n",
      "[WARNING] Section 9a was found to be empty.\n",
      "[INFO] No ToC found\n",
      "[INFO] No ToC found\n",
      "[WARNING] Section _i_3 was found to be empty.\n",
      "[INFO] No ToC found\n",
      "[WARNING] Section _i_4 was found to be empty.\n",
      "[INFO] No ToC found\n",
      "[INFO] Found a ToC!\n",
      "[INFO] Comparing current qtr (2010, 2) to qtr (2010, 1) from 1 quarter ago.\n",
      "[INFO] No ToC found\n",
      "[WARNING] Section _i_4 was found to be empty.\n",
      "[INFO] No ToC found\n",
      "[WARNING] Section _i_3 was found to be empty.\n",
      "[INFO] Comparing current qtr (2010, 2) to qtr (2010, 1) from 1 quarter ago.\n",
      "[INFO] Found a ToC!\n",
      "[INFO] Found a ToC!\n",
      "[WARNING] Section 7a was found to be empty.\n",
      "[INFO] Found a ToC!\n",
      "{'diff_jaccard': 0.7575533916381435, 'diff_cosine_tf': 0.9858518224633731, 'diff_cosine_tf_idf': 0.9843015915518264, 'diff_minEdit': 0.787276063886184, 'diff_simple': 0.6002104837077514, 'sing_LoughranMcDonald': -0.00039585738078865446, '0': {'type': '10-Q', 'published': datetime.date(2010, 5, 6), 'qtr': (2010, 2)}}\n",
      "[INFO] Comparing current qtr (2010, 3) to qtr (2010, 2) from 1 quarter ago.\n",
      "{'diff_jaccard': 0.47028264877001835, 'diff_cosine_tf': 0.8400428721213844, 'diff_cosine_tf_idf': 0.8159594764550744, 'diff_minEdit': 0.8431730857362835, 'diff_simple': 0.7919667660250979, 'sing_LoughranMcDonald': -0.0010420314425881151, '0': {'type': '10-Q', 'published': datetime.date(2010, 5, 5), 'qtr': (2010, 2)}}\n",
      "[INFO] Comparing current qtr (2010, 3) to qtr (2010, 2) from 1 quarter ago.\n",
      "[INFO] No ToC found\n",
      "[INFO] Found a ToC!\n",
      "{'diff_jaccard': 0.8497546097836858, 'diff_cosine_tf': 0.9867711823253975, 'diff_cosine_tf_idf': 0.9859147785673805, 'diff_minEdit': 1.0, 'diff_simple': 1.0, 'sing_LoughranMcDonald': -0.0010272055691647965, '0': {'type': '10-Q', 'published': datetime.date(2010, 8, 3), 'qtr': (2010, 3)}}\n",
      "[INFO] Comparing current qtr (2010, 4) to qtr (2010, 3) from 1 quarter ago.\n",
      "[INFO] Found a ToC!\n",
      "[INFO] Found a ToC!\n",
      "{'diff_jaccard': 0.8624394624205309, 'diff_cosine_tf': 0.9899826916209613, 'diff_cosine_tf_idf': 0.9890089147305207, 'diff_minEdit': 0.9980430158767056, 'diff_simple': 0.9996868825402729, 'sing_LoughranMcDonald': -0.00042936445874709354, '0': {'type': '10-Q', 'published': datetime.date(2010, 8, 9), 'qtr': (2010, 3)}}\n",
      "[INFO] Comparing current qtr (2010, 4) to qtr (2010, 3) from 1 quarter ago.\n",
      "[INFO] Found a ToC!\n",
      "[WARNING] Section 7 was found to be empty.\n",
      "[WARNING] Section 7a was found to be empty.\n",
      "[INFO] Found a ToC!\n",
      "[INFO] No ToC found\n",
      "[INFO] Found a ToC!\n",
      "{'diff_jaccard': 0.8490834229355081, 'diff_cosine_tf': 0.9917238901971044, 'diff_cosine_tf_idf': 0.9888147146638926, 'diff_minEdit': 0.9996230456200471, 'diff_simple': 0.9996041979010495, 'sing_LoughranMcDonald': -0.0008970118349309808, '0': {'type': '10-Q', 'published': datetime.date(2010, 11, 4), 'qtr': (2010, 4)}}\n",
      "[INFO] Found a ToC!\n",
      "[INFO] Comparing current qtr (2010, 2) to qtr (2010, 1) from 1 quarter ago.\n",
      "[INFO] Comparing current qtr (2011, 1) to qtr (2010, 4) from 1 quarter ago.\n",
      "[INFO] No ToC found\n",
      "This is the res {'_i_1': [(4003, 4038)], '_i_2': [(38269, 38305)], '_i_3': [(84063, 84099)], '_i_4': [], 'ii_1': [(84640, 84670)], 'ii_1a': [(85400, 85430)], 'ii_2': [(86366, 86403)], 'ii_3': [(86557, 86590)], 'ii_5': [(86680, 86710)], 'ii_6': [(86767, 86800)]}\n",
      "[WARNING] /home/alex/Desktop/filtered_text_data/nd_data/2011/QTR2/20110516_10-Q_edgar_data_16614_0000950123-11-050561_1.txt failed parsing\n"
     ]
    },
    {
     "name": "stderr",
     "output_type": "stream",
     "text": [
      "\n",
      "  9%|▊         | 87/1000 [01:02<16:18,  1.07s/it]\u001b[A\n",
      "\n",
      "87it [01:02,  1.07s/it]\u001b[A\u001b[A"
     ]
    },
    {
     "name": "stdout",
     "output_type": "stream",
     "text": [
      "{'diff_jaccard': 0.8280783903304322, 'diff_cosine_tf': 0.992239025688206, 'diff_cosine_tf_idf': 0.9912271240070613, 'diff_minEdit': 0.965996404491562, 'diff_simple': 0.9952394966288187, 'sing_LoughranMcDonald': -0.00041245190943415026, '0': {'type': '10-Q', 'published': datetime.date(2010, 11, 8), 'qtr': (2010, 4)}}\n",
      "[INFO] Comparing current qtr (2011, 1) to qtr (2010, 4) from 1 quarter ago.\n",
      "{'diff_jaccard': 0.12739218620962256, 'diff_cosine_tf': 0.6441202298340019, 'diff_cosine_tf_idf': 0.5986648727764405, 'diff_minEdit': 0.777463268927284, 'diff_simple': 0.5738034100054276, 'sing_LoughranMcDonald': -0.0006528562696790105, '0': {'type': '10-Q', 'published': datetime.date(2010, 5, 5), 'qtr': (2010, 2)}}\n",
      "[INFO] Comparing current qtr (2010, 3) to qtr (2010, 2) from 1 quarter ago.\n",
      "{'diff_jaccard': 0.504357968533653, 'diff_cosine_tf': 0.8428584799868218, 'diff_cosine_tf_idf': 0.819556455383232, 'diff_minEdit': 0.7992827743154383, 'diff_simple': 0.8091143888147597, 'sing_LoughranMcDonald': -0.000430494886614389, '0': {'type': '10-K', 'published': datetime.date(2011, 2, 25), 'qtr': (2011, 1)}}\n",
      "[INFO] Comparing current qtr (2011, 2) to qtr (2011, 1) from 1 quarter ago.\n",
      "{'diff_jaccard': 0.7027383571761511, 'diff_cosine_tf': 0.9677306995501095, 'diff_cosine_tf_idf': 0.9618804710233312, 'diff_minEdit': 0.9999999999999999, 'diff_simple': 0.9999999999999999, 'sing_LoughranMcDonald': -0.0004743236255812288, '0': {'type': '10-Q', 'published': datetime.date(2010, 8, 4), 'qtr': (2010, 3)}}\n",
      "[INFO] Comparing current qtr (2010, 4) to qtr (2010, 3) from 1 quarter ago.\n",
      "[INFO] Found a ToC!\n",
      "{'diff_jaccard': 0.6915731472536688, 'diff_cosine_tf': 0.9806690284391535, 'diff_cosine_tf_idf': 0.9733113734462804, 'diff_minEdit': 0.999891333876664, 'diff_simple': 0.9999674001629991, 'sing_LoughranMcDonald': -0.000477197297898609, '0': {'type': '10-Q', 'published': datetime.date(2010, 11, 9), 'qtr': (2010, 4)}}\n",
      "[INFO] Comparing current qtr (2011, 1) to qtr (2010, 4) from 1 quarter ago.\n",
      "{'diff_jaccard': 0.7127948955035202, 'diff_cosine_tf': 0.9841740575847078, 'diff_cosine_tf_idf': 0.9816417175166272, 'diff_minEdit': 0.8818955782427944, 'diff_simple': 0.9063887917378156, 'sing_LoughranMcDonald': -0.0002956978210997439, '0': {'type': '10-K', 'published': datetime.date(2011, 3, 10), 'qtr': (2011, 1)}}\n",
      "{'diff_jaccard': 0.46560805457201915, 'diff_cosine_tf': 0.8375364041309328, 'diff_cosine_tf_idf': 0.813312405092361, 'diff_minEdit': 0.8431246012504785, 'diff_simple': 0.7918700897192512, 'sing_LoughranMcDonald': -0.0009050013631541452, '0': {'type': '10-Q', 'published': datetime.date(2011, 5, 5), 'qtr': (2011, 2)}}\n",
      "[INFO] Comparing current qtr (2011, 2) to qtr (2011, 1) from 1 quarter ago.\n",
      "[INFO] Comparing current qtr (2011, 3) to qtr (2011, 2) from 1 quarter ago.\n",
      "[INFO] Found a ToC!\n",
      "[INFO] No ToC found\n",
      "[WARNING] Section _i_2 was found to be empty.\n",
      "{'diff_jaccard': 0.9192242720000193, 'diff_cosine_tf': 0.988358068224948, 'diff_cosine_tf_idf': 0.9881699323180991, 'diff_minEdit': 0.9999999999999999, 'diff_simple': 0.9999999999999999, 'sing_LoughranMcDonald': -0.0008502029857473657, '0': {'type': '10-Q', 'published': datetime.date(2011, 8, 5), 'qtr': (2011, 3)}}\n",
      "[INFO] No ToC found\n",
      "[INFO] Comparing current qtr (2011, 4) to qtr (2011, 3) from 1 quarter ago.\n",
      "[INFO] No ToC found\n",
      "[INFO] No ToC found\n",
      "[WARNING] Section ii_1 was found to be empty.\n",
      "[WARNING] Section ii_1a was found to be empty.\n",
      "{'diff_jaccard': 0.7220570369184276, 'diff_cosine_tf': 0.9842890373172011, 'diff_cosine_tf_idf': 0.9812397123220011, 'diff_minEdit': 0.8906950623851885, 'diff_simple': 0.9204793889935133, 'sing_LoughranMcDonald': -0.000342120173315773, '0': {'type': '10-Q', 'published': datetime.date(2011, 5, 9), 'qtr': (2011, 2)}}\n",
      "[INFO] Comparing current qtr (2011, 3) to qtr (2011, 2) from 1 quarter ago.\n",
      "{'diff_jaccard': 0.8929592405240052, 'diff_cosine_tf': 0.9790508449682468, 'diff_cosine_tf_idf': 0.977949991908456, 'diff_minEdit': 0.9936485257825692, 'diff_simple': 0.9889024284241666, 'sing_LoughranMcDonald': -0.0009254182018424924, '0': {'type': '10-Q', 'published': datetime.date(2011, 11, 4), 'qtr': (2011, 4)}}\n",
      "[INFO] Comparing current qtr (2012, 1) to qtr (2011, 4) from 1 quarter ago.\n",
      "[INFO] No ToC found\n",
      "{'diff_jaccard': 0.1332623299713713, 'diff_cosine_tf': 0.6372934721374307, 'diff_cosine_tf_idf': 0.5932389540078331, 'diff_minEdit': 0.7711897497411162, 'diff_simple': 0.5631221606152745, 'sing_LoughranMcDonald': -0.0003174781275905156, '0': {'type': '10-K', 'published': datetime.date(2011, 3, 9), 'qtr': (2011, 1)}}\n",
      "[INFO] Comparing current qtr (2011, 2) to qtr (2011, 1) from 1 quarter ago.\n",
      "[INFO] Found a ToC!\n",
      "[INFO] Comparing current qtr (2010, 2) to qtr (2010, 1) from 1 quarter ago.\n",
      "[INFO] Found a ToC!\n",
      "[WARNING] Section 7a was found to be empty.\n",
      "[INFO] No ToC found\n",
      "{'diff_jaccard': 0.0026134643199125594, 'diff_cosine_tf': 0.08159122102551959, 'diff_cosine_tf_idf': 0.04883727149990846, 'diff_minEdit': 0.5460101615237049, 'diff_simple': 0.2378954682329184, 'sing_LoughranMcDonald': -0.0014324171422540441, '0': {'type': '10-Q', 'published': datetime.date(2010, 4, 22), 'qtr': (2010, 2)}}\n",
      "[INFO] No ToC found\n",
      "[INFO] Comparing current qtr (2010, 3) to qtr (2010, 2) from 1 quarter ago.\n",
      "{'diff_jaccard': 0.12323977054598387, 'diff_cosine_tf': 0.6403611867716104, 'diff_cosine_tf_idf': 0.5897389978178937, 'diff_minEdit': 0.7629092771690286, 'diff_simple': 0.555810248923549, 'sing_LoughranMcDonald': -0.0004966226112077495, '0': {'type': '10-Q', 'published': datetime.date(2011, 5, 9), 'qtr': (2011, 2)}}\n",
      "[INFO] Comparing current qtr (2011, 3) to qtr (2011, 2) from 1 quarter ago.\n",
      "{'diff_jaccard': 0.5107998321507502, 'diff_cosine_tf': 0.8490126772203382, 'diff_cosine_tf_idf': 0.8241011327008358, 'diff_minEdit': 0.7960701772734403, 'diff_simple': 0.8110965852638184, 'sing_LoughranMcDonald': -0.0004856459798537615, '0': {'type': '10-K', 'published': datetime.date(2012, 2, 23), 'qtr': (2012, 1)}}\n",
      "[INFO] Comparing current qtr (2012, 2) to qtr (2012, 1) from 1 quarter ago.\n",
      "[INFO] Found a ToC!\n",
      "{'diff_jaccard': 0.8976548727893834, 'diff_cosine_tf': 0.990682788805739, 'diff_cosine_tf_idf': 0.9902091801399661, 'diff_minEdit': 1.0, 'diff_simple': 1.0, 'sing_LoughranMcDonald': -0.0003067858732953487, '0': {'type': '10-Q', 'published': datetime.date(2011, 8, 8), 'qtr': (2011, 3)}}\n",
      "[INFO] Comparing current qtr (2011, 4) to qtr (2011, 3) from 1 quarter ago.\n",
      "{'diff_jaccard': 0.6658227554690258, 'diff_cosine_tf': 0.9558076869167244, 'diff_cosine_tf_idf': 0.9440151334630538, 'diff_minEdit': 0.9929696919684404, 'diff_simple': 0.9981721199117946, 'sing_LoughranMcDonald': -0.0011014436425004223, '0': {'type': '10-Q', 'published': datetime.date(2010, 7, 23), 'qtr': (2010, 3)}}\n",
      "[INFO] Comparing current qtr (2010, 4) to qtr (2010, 3) from 1 quarter ago.\n",
      "[INFO] No ToC found\n",
      "[INFO] Found a ToC!\n",
      "[WARNING] Section ii_1 was found to be empty.\n",
      "{'diff_jaccard': 0.766535741984437, 'diff_cosine_tf': 0.9565997327613662, 'diff_cosine_tf_idf': 0.9456773390154312, 'diff_minEdit': 1.0, 'diff_simple': 1.0, 'sing_LoughranMcDonald': -0.0004108922180462904, '0': {'type': '10-Q', 'published': datetime.date(2011, 8, 8), 'qtr': (2011, 3)}}\n",
      "[INFO] Comparing current qtr (2011, 4) to qtr (2011, 3) from 1 quarter ago.\n",
      "{'diff_jaccard': 0.522349723604354, 'diff_cosine_tf': 0.9503271046497227, 'diff_cosine_tf_idf': 0.936984744549241, 'diff_minEdit': 0.9954159705174526, 'diff_simple': 0.9935193283190485, 'sing_LoughranMcDonald': -0.0023397028536944363, '0': {'type': '10-Q', 'published': datetime.date(2010, 10, 21), 'qtr': (2010, 4)}}\n",
      "[INFO] Comparing current qtr (2011, 1) to qtr (2010, 4) from 1 quarter ago.\n",
      "{'diff_jaccard': 0.03155995953931339, 'diff_cosine_tf': 0.21821807635861767, 'diff_cosine_tf_idf': 0.16057429299702908, 'diff_minEdit': 0.838874301861493, 'diff_simple': 0.8006823214554168, 'sing_LoughranMcDonald': -0.03544423440453686, '0': {'type': '10-Q', 'published': datetime.date(2011, 11, 4), 'qtr': (2011, 4)}}\n",
      "{'diff_jaccard': 0.46364424774095747, 'diff_cosine_tf': 0.8350239370261449, 'diff_cosine_tf_idf': 0.8097517421858199, 'diff_minEdit': 0.8364280573417496, 'diff_simple': 0.7808525285949938, 'sing_LoughranMcDonald': -0.0006112498847525439, '0': {'type': '10-Q', 'published': datetime.date(2012, 5, 8), 'qtr': (2012, 2)}}\n"
     ]
    },
    {
     "name": "stdout",
     "output_type": "stream",
     "text": [
      "[INFO] Comparing current qtr (2012, 3) to qtr (2012, 2) from 1 quarter ago.\n",
      "[INFO] Comparing current qtr (2012, 1) to qtr (2011, 4) from 1 quarter ago.\n",
      "[INFO] Found a ToC!\n",
      "[INFO] Comparing current qtr (2010, 2) to qtr (2010, 1) from 1 quarter ago.\n",
      "{'diff_jaccard': 0.9011799988949805, 'diff_cosine_tf': 0.9931003994103557, 'diff_cosine_tf_idf': 0.9918819771281898, 'diff_minEdit': 1.0, 'diff_simple': 1.0, 'sing_LoughranMcDonald': -0.00036326147316584426, '0': {'type': '10-Q', 'published': datetime.date(2011, 11, 8), 'qtr': (2011, 4)}}\n",
      "[INFO] Comparing current qtr (2012, 1) to qtr (2011, 4) from 1 quarter ago.\n",
      "[INFO] No ToC found\n",
      "[WARNING] Section ii_1 was found to be empty.\n",
      "{'diff_jaccard': 0.8290093030363467, 'diff_cosine_tf': 0.9881626913556241, 'diff_cosine_tf_idf': 0.9876329986492995, 'diff_minEdit': 0.9912026328529582, 'diff_simple': 0.9730800565300524, 'sing_LoughranMcDonald': -0.0005613258722374375, '0': {'type': '10-Q', 'published': datetime.date(2012, 8, 14), 'qtr': (2012, 3)}}\n",
      "[INFO] Comparing current qtr (2012, 4) to qtr (2012, 3) from 1 quarter ago.\n",
      "[INFO] Found a ToC!\n",
      "{'diff_jaccard': 0.0022868539133277443, 'diff_cosine_tf': 0.15314666465411617, 'diff_cosine_tf_idf': 0.11431703250245784, 'diff_minEdit': 0.8118716477296387, 'diff_simple': 0.3843095430865022, 'sing_LoughranMcDonald': 0.0, '0': {'type': '10-Q', 'published': datetime.date(2010, 5, 7), 'qtr': (2010, 2)}}\n",
      "[INFO] Comparing current qtr (2010, 3) to qtr (2010, 2) from 1 quarter ago.\n",
      "{'diff_jaccard': 0.2509932018182613, 'diff_cosine_tf': 0.9005014880625355, 'diff_cosine_tf_idf': 0.8877926904014131, 'diff_minEdit': 0.7061702305127079, 'diff_simple': 0.6213023455884215, 'sing_LoughranMcDonald': -0.00040033141593009275, '0': {'type': '10-K', 'published': datetime.date(2011, 2, 22), 'qtr': (2011, 1)}}\n",
      "[INFO] Comparing current qtr (2011, 2) to qtr (2011, 1) from 1 quarter ago.\n",
      "[INFO] Found a ToC!\n",
      "{'diff_jaccard': 0.8713606989799737, 'diff_cosine_tf': 0.9903227254193427, 'diff_cosine_tf_idf': 0.9892480909194066, 'diff_minEdit': 0.9999999999999999, 'diff_simple': 0.9999999999999999, 'sing_LoughranMcDonald': -0.0005968817848292287, '0': {'type': '10-Q', 'published': datetime.date(2012, 11, 9), 'qtr': (2012, 4)}}\n",
      "[INFO] No ToC found\n"
     ]
    },
    {
     "name": "stderr",
     "output_type": "stream",
     "text": [
      "\n",
      "  9%|▉         | 88/1000 [01:04<22:39,  1.49s/it]\u001b[A"
     ]
    },
    {
     "name": "stdout",
     "output_type": "stream",
     "text": [
      "[WARNING] Section ii_1 was found to be empty.\n"
     ]
    },
    {
     "name": "stderr",
     "output_type": "stream",
     "text": [
      "\n",
      "\n",
      "88it [01:04,  1.49s/it]\u001b[A\u001b[A"
     ]
    },
    {
     "name": "stdout",
     "output_type": "stream",
     "text": [
      "{'diff_jaccard': 0.0031463747059647038, 'diff_cosine_tf': 0.05923089753381475, 'diff_cosine_tf_idf': 0.03439991133483698, 'diff_minEdit': 0.7764715527615679, 'diff_simple': 0.17566016164470882, 'sing_LoughranMcDonald': -0.00045010696313257985, '0': {'type': '10-Q', 'published': datetime.date(2010, 8, 9), 'qtr': (2010, 3)}}\n",
      "[INFO] Comparing current qtr (2010, 4) to qtr (2010, 3) from 1 quarter ago.\n",
      "{'diff_jaccard': 0.6408965612822947, 'diff_cosine_tf': 0.982004987366201, 'diff_cosine_tf_idf': 0.9792031189161978, 'diff_minEdit': 0.8887296920773988, 'diff_simple': 0.91997860020141, 'sing_LoughranMcDonald': -0.00028881312989732344, '0': {'type': '10-K', 'published': datetime.date(2012, 3, 12), 'qtr': (2012, 1)}}\n",
      "[INFO] Comparing current qtr (2012, 2) to qtr (2012, 1) from 1 quarter ago.\n",
      "{'diff_jaccard': 0.22302080391510823, 'diff_cosine_tf': 0.8035137166218536, 'diff_cosine_tf_idf': 0.7781704182246828, 'diff_minEdit': 0.8362393072252785, 'diff_simple': 0.7822699435509639, 'sing_LoughranMcDonald': -0.002003697671235617, '0': {'type': '10-Q', 'published': datetime.date(2011, 4, 21), 'qtr': (2011, 2)}}\n",
      "[INFO] Comparing current qtr (2011, 3) to qtr (2011, 2) from 1 quarter ago.\n",
      "{'diff_jaccard': 0.005199975992906391, 'diff_cosine_tf': 0.09684385227841319, 'diff_cosine_tf_idf': 0.0703447507018783, 'diff_minEdit': 0.8759362004593095, 'diff_simple': 0.40016103150054294, 'sing_LoughranMcDonald': -0.0003775549669381155, '0': {'type': '10-K', 'published': datetime.date(2012, 3, 14), 'qtr': (2012, 1)}}\n",
      "[INFO] Comparing current qtr (2012, 2) to qtr (2012, 1) from 1 quarter ago.\n",
      "[INFO] No ToC found\n",
      "[WARNING] Section 1a was found to be empty.\n",
      "[WARNING] Section 7a was found to be empty.\n",
      "[INFO] Found a ToC!\n",
      "{'diff_jaccard': 0.6009380357828661, 'diff_cosine_tf': 0.8969772569189318, 'diff_cosine_tf_idf': 0.8783602699718397, 'diff_minEdit': 0.9959176020901878, 'diff_simple': 0.9925972517902071, 'sing_LoughranMcDonald': -0.001447432897646108, '0': {'type': '10-Q', 'published': datetime.date(2011, 7, 26), 'qtr': (2011, 3)}}\n",
      "[INFO] No ToC found\n",
      "[INFO] Comparing current qtr (2011, 4) to qtr (2011, 3) from 1 quarter ago.\n",
      "{'diff_jaccard': 0.6805917190646164, 'diff_cosine_tf': 0.9758114057649808, 'diff_cosine_tf_idf': 0.9731826717858502, 'diff_minEdit': 0.9269116855142703, 'diff_simple': 0.9473911947861867, 'sing_LoughranMcDonald': -0.00028450177771779234, '0': {'type': '10-Q', 'published': datetime.date(2010, 11, 9), 'qtr': (2010, 4)}}\n",
      "[INFO] Comparing current qtr (2011, 1) to qtr (2010, 4) from 1 quarter ago.\n",
      "[WARNING] Section _i_3 was found to be empty.\n",
      "[WARNING] Section ii_1a was found to be empty.\n",
      "[INFO] No ToC found\n",
      "[INFO] Found a ToC!\n",
      "[WARNING] Section _i_3 was found to be empty.\n",
      "[WARNING] Section ii_1a was found to be empty.\n",
      "{'diff_jaccard': 0.7685104407573563, 'diff_cosine_tf': 0.9878854222583098, 'diff_cosine_tf_idf': 0.9864655004840134, 'diff_minEdit': 0.8888197092242573, 'diff_simple': 0.9194211059804033, 'sing_LoughranMcDonald': -0.00032568251439368833, '0': {'type': '10-Q', 'published': datetime.date(2012, 5, 7), 'qtr': (2012, 2)}}\n",
      "[INFO] Comparing current qtr (2012, 3) to qtr (2012, 2) from 1 quarter ago.\n",
      "[INFO] Comparing current qtr (2010, 2) to qtr (2010, 1) from 1 quarter ago.\n",
      "{'diff_jaccard': 0.11157890656616959, 'diff_cosine_tf': 0.35274762187493586, 'diff_cosine_tf_idf': 0.31011450543023794, 'diff_minEdit': 0.686841476601202, 'diff_simple': 0.49819322617862283, 'sing_LoughranMcDonald': -0.005991058470202734, '0': {'type': '10-Q', 'published': datetime.date(2011, 10, 27), 'qtr': (2011, 4)}}\n",
      "[INFO] Comparing current qtr (2012, 1) to qtr (2011, 4) from 1 quarter ago.\n",
      "{'diff_jaccard': 0.15297931505024182, 'diff_cosine_tf': 0.8189176421650328, 'diff_cosine_tf_idf': 0.7971550788533754, 'diff_minEdit': 0.7485450197632744, 'diff_simple': 0.5700798759665582, 'sing_LoughranMcDonald': -0.0002533895994299094, '0': {'type': '10-Q', 'published': datetime.date(2012, 5, 10), 'qtr': (2012, 2)}}\n",
      "[INFO] No ToC found\n",
      "[INFO] Comparing current qtr (2012, 3) to qtr (2012, 2) from 1 quarter ago.\n",
      "[WARNING] Section _i_3 was found to be empty.\n",
      "[WARNING] Section ii_1a was found to be empty.\n",
      "[INFO] Found a ToC!\n",
      "{'diff_jaccard': 0.41749035152700104, 'diff_cosine_tf': 0.912915664100292, 'diff_cosine_tf_idf': 0.9002202041176638, 'diff_minEdit': 0.6938988162560813, 'diff_simple': 0.7660219206910971, 'sing_LoughranMcDonald': -0.0017464541025536402, '0': {'type': '10-Q', 'published': datetime.date(2010, 5, 17), 'qtr': (2010, 2)}}\n",
      "[INFO] Comparing current qtr (2010, 3) to qtr (2010, 2) from 1 quarter ago.\n",
      "{'diff_jaccard': 0.7043622944511363, 'diff_cosine_tf': 0.9516045400633443, 'diff_cosine_tf_idf': 0.9402309809139858, 'diff_minEdit': 1.0, 'diff_simple': 1.0, 'sing_LoughranMcDonald': -0.0004564188862891744, '0': {'type': '10-Q', 'published': datetime.date(2012, 8, 8), 'qtr': (2012, 3)}}\n",
      "[INFO] Comparing current qtr (2012, 4) to qtr (2012, 3) from 1 quarter ago.\n",
      "[INFO] No ToC found\n",
      "{'diff_jaccard': 0.8796565868555095, 'diff_cosine_tf': 0.9893097863193999, 'diff_cosine_tf_idf': 0.9878720889222051, 'diff_minEdit': 1.0, 'diff_simple': 1.0, 'sing_LoughranMcDonald': -0.0003263027948177262, '0': {'type': '10-Q', 'published': datetime.date(2012, 8, 6), 'qtr': (2012, 3)}}\n",
      "[INFO] Comparing current qtr (2012, 4) to qtr (2012, 3) from 1 quarter ago.\n",
      "{'diff_jaccard': 0.7163168012685035, 'diff_cosine_tf': 0.9674243736834729, 'diff_cosine_tf_idf': 0.9624431035438641, 'diff_minEdit': 0.9976994017450758, 'diff_simple': 0.9947546359787729, 'sing_LoughranMcDonald': -0.001630973102543738, '0': {'type': '10-Q', 'published': datetime.date(2010, 8, 16), 'qtr': (2010, 3)}}\n",
      "[INFO] Comparing current qtr (2010, 4) to qtr (2010, 3) from 1 quarter ago.\n",
      "{'diff_jaccard': 0.7143953067420244, 'diff_cosine_tf': 0.9690647500491821, 'diff_cosine_tf_idf': 0.9616859681349383, 'diff_minEdit': 0.9291370603564088, 'diff_simple': 0.9633874811841445, 'sing_LoughranMcDonald': -0.00028110160646221006, '0': {'type': '10-Q', 'published': datetime.date(2012, 11, 7), 'qtr': (2012, 4)}}\n"
     ]
    },
    {
     "name": "stderr",
     "output_type": "stream",
     "text": [
      "\n",
      "  9%|▉         | 89/1000 [01:05<20:16,  1.34s/it]\u001b[A\n",
      "\n",
      "89it [01:05,  1.33s/it]\u001b[A\u001b[A"
     ]
    },
    {
     "name": "stdout",
     "output_type": "stream",
     "text": [
      "[INFO] No ToC found\n",
      "[WARNING] Section 1a was found to be empty.\n",
      "{'diff_jaccard': 0.1363430584375908, 'diff_cosine_tf': 0.7352281391915823, 'diff_cosine_tf_idf': 0.6960101643798394, 'diff_minEdit': 0.6948113399709244, 'diff_simple': 0.4621815563704708, 'sing_LoughranMcDonald': -0.0001413989074956512, '0': {'type': '10-K', 'published': datetime.date(2011, 3, 31), 'qtr': (2011, 1)}}\n",
      "{'diff_jaccard': 0.09915318778386999, 'diff_cosine_tf': 0.36584698628872425, 'diff_cosine_tf_idf': 0.32148610139767847, 'diff_minEdit': 0.6167095900045183, 'diff_simple': 0.349192379152555, 'sing_LoughranMcDonald': -0.0004606906472016239, '0': {'type': '10-K', 'published': datetime.date(2012, 2, 22), 'qtr': (2012, 1)}}\n",
      "[INFO] Comparing current qtr (2012, 2) to qtr (2012, 1) from 1 quarter ago.\n",
      "[WARNING] Section 7a was found to be empty.\n",
      "[INFO] No ToC found\n",
      "[INFO] Comparing current qtr (2011, 2) to qtr (2011, 1) from 1 quarter ago.\n",
      "[INFO] No ToC found\n",
      "[WARNING] Section _i_3 was found to be empty.\n",
      "[WARNING] Section ii_1 was found to be empty.\n",
      "[WARNING] Section ii_1a was found to be empty.\n",
      "{'diff_jaccard': 0.7935779999042459, 'diff_cosine_tf': 0.9838300785938473, 'diff_cosine_tf_idf': 0.9823182186909797, 'diff_minEdit': 0.9999999999999999, 'diff_simple': 0.9999999999999999, 'sing_LoughranMcDonald': -0.0013221975131817501, '0': {'type': '10-Q', 'published': datetime.date(2010, 11, 3), 'qtr': (2010, 4)}}\n",
      "[INFO] Comparing current qtr (2011, 1) to qtr (2010, 4) from 1 quarter ago.\n",
      "[INFO] No ToC found\n",
      "[INFO] No ToC found\n",
      "[WARNING] Section _i_3 was found to be empty.\n",
      "[WARNING] Section ii_1a was found to be empty.\n",
      "[WARNING] Section _i_2 was found to be empty.\n",
      "[WARNING] Section _i_3 was found to be empty.\n",
      "[WARNING] Section _i_4 was found to be empty.\n",
      "[WARNING] Section ii_1 was found to be empty.\n",
      "[WARNING] Section ii_1a was found to be empty.\n",
      "[INFO] Comparing current qtr (2010, 2) to qtr (2010, 1) from 1 quarter ago.\n",
      "{'diff_jaccard': 0.91474146179806, 'diff_cosine_tf': 0.9935865465881847, 'diff_cosine_tf_idf': 0.9931527524575459, 'diff_minEdit': 1.0, 'diff_simple': 1.0, 'sing_LoughranMcDonald': -0.0003052803129856079, '0': {'type': '10-Q', 'published': datetime.date(2012, 11, 9), 'qtr': (2012, 4)}}\n"
     ]
    },
    {
     "name": "stderr",
     "output_type": "stream",
     "text": [
      "\n",
      "  9%|▉         | 90/1000 [01:06<15:38,  1.03s/it]\u001b[A\n",
      "\n",
      "90it [01:06,  1.03s/it]\u001b[A\u001b[A"
     ]
    },
    {
     "name": "stdout",
     "output_type": "stream",
     "text": [
      "{'diff_jaccard': 0.30042422690505904, 'diff_cosine_tf': 0.9311769891527063, 'diff_cosine_tf_idf': 0.9204835630248052, 'diff_minEdit': 0.833178819380394, 'diff_simple': 0.7875368333679187, 'sing_LoughranMcDonald': -0.000721734924464471, '0': {'type': '10-Q', 'published': datetime.date(2012, 4, 27), 'qtr': (2012, 2)}}\n",
      "[INFO] Comparing current qtr (2012, 3) to qtr (2012, 2) from 1 quarter ago.\n",
      "[INFO] No ToC found\n",
      "[INFO] No ToC found\n",
      "[WARNING] Section _i_3 was found to be empty.\n",
      "[WARNING] Section ii_1a was found to be empty.\n",
      "[INFO] Found a ToC!\n",
      "[INFO] No ToC found\n",
      "[INFO] No ToC found\n",
      "[WARNING] Section ii_1 was found to be empty.\n",
      "{'diff_jaccard': 0.031150347727126833, 'diff_cosine_tf': 0.5156437129413165, 'diff_cosine_tf_idf': 0.448260495173282, 'diff_minEdit': 0.7163682374144078, 'diff_simple': 0.4786074048559541, 'sing_LoughranMcDonald': -0.0005574573861683343, '0': {'type': '10-Q', 'published': datetime.date(2011, 5, 10), 'qtr': (2011, 2)}}\n",
      "{'diff_jaccard': 0.33403630718013233, 'diff_cosine_tf': 0.8599519651391838, 'diff_cosine_tf_idf': 0.8365177022202342, 'diff_minEdit': 0.7494836943132961, 'diff_simple': 0.7678891802373724, 'sing_LoughranMcDonald': -0.0008264296483883728, '0': {'type': '10-K', 'published': datetime.date(2011, 3, 23), 'qtr': (2011, 1)}}\n",
      "[INFO] Comparing current qtr (2011, 2) to qtr (2011, 1) from 1 quarter ago.\n",
      "[INFO] Comparing current qtr (2011, 3) to qtr (2011, 2) from 1 quarter ago.\n",
      "{'diff_jaccard': 0.6261206383907617, 'diff_cosine_tf': 0.9063746105344102, 'diff_cosine_tf_idf': 0.8811074363355453, 'diff_minEdit': 0.9840002168936949, 'diff_simple': 0.9777069688718816, 'sing_LoughranMcDonald': -0.0014672339422912794, '0': {'type': '10-Q', 'published': datetime.date(2012, 7, 26), 'qtr': (2012, 3)}}\n",
      "[INFO] Comparing current qtr (2012, 4) to qtr (2012, 3) from 1 quarter ago.\n",
      "{'diff_jaccard': 0.4388838800441568, 'diff_cosine_tf': 0.875693044253264, 'diff_cosine_tf_idf': 0.8619085606003092, 'diff_minEdit': 0.803817267631201, 'diff_simple': 0.7655287841482002, 'sing_LoughranMcDonald': -0.0008097229911591234, '0': {'type': '10-Q', 'published': datetime.date(2010, 5, 7), 'qtr': (2010, 2)}}\n",
      "[INFO] Comparing current qtr (2010, 3) to qtr (2010, 2) from 1 quarter ago.\n",
      "[INFO] No ToC found\n",
      "[INFO] No ToC found\n",
      "[WARNING] Section ii_1 was found to be empty.\n",
      "{'diff_jaccard': 0.25343270199485274, 'diff_cosine_tf': 0.6818328562832697, 'diff_cosine_tf_idf': 0.6475487878052103, 'diff_minEdit': 0.7157035081132733, 'diff_simple': 0.6600082197707117, 'sing_LoughranMcDonald': -0.0008415395105519832, '0': {'type': '10-Q', 'published': datetime.date(2011, 5, 10), 'qtr': (2011, 2)}}\n",
      "[INFO] Comparing current qtr (2011, 3) to qtr (2011, 2) from 1 quarter ago.\n",
      "{'diff_jaccard': 0.6739432211381136, 'diff_cosine_tf': 0.9478104464608805, 'diff_cosine_tf_idf': 0.9314205533758853, 'diff_minEdit': 1.0, 'diff_simple': 1.0, 'sing_LoughranMcDonald': -0.0005312044472478358, '0': {'type': '10-Q', 'published': datetime.date(2012, 10, 25), 'qtr': (2012, 4)}}\n"
     ]
    },
    {
     "name": "stderr",
     "output_type": "stream",
     "text": [
      "\n",
      "  9%|▉         | 91/1000 [01:06<12:44,  1.19it/s]\u001b[A\n",
      "\n",
      "91it [01:06,  1.19it/s]\u001b[A\u001b[A"
     ]
    },
    {
     "name": "stdout",
     "output_type": "stream",
     "text": [
      "[INFO] No ToC found\n",
      "[INFO] No ToC found\n",
      "[WARNING] Section ii_1 was found to be empty.\n",
      "{'diff_jaccard': 0.7695328790844771, 'diff_cosine_tf': 0.9669712295310988, 'diff_cosine_tf_idf': 0.9636899702276365, 'diff_minEdit': 0.8672049461655993, 'diff_simple': 0.9254109853425131, 'sing_LoughranMcDonald': -0.00039732102109171004, '0': {'type': '10-Q', 'published': datetime.date(2011, 8, 9), 'qtr': (2011, 3)}}\n",
      "[ERROR] Here is full_sect: |[]|\n",
      "[INFO] Comparing current qtr (2011, 4) to qtr (2011, 3) from 1 quarter ago.\n",
      "[ERROR] Original res: {'1': [], '1a': [], '1b': [], '2': [], '3': [], '4': [], '5': [], '6': [], '7': [], '7a': [], '8': [], '9': [], '9a': [], '9b': [], '10': [], '11': [], '12': [], '13': [], '14': [], '15': []}\n",
      "{'diff_jaccard': 0.680147153994137, 'diff_cosine_tf': 0.8984033140571648, 'diff_cosine_tf_idf': 0.8937412408393487, 'diff_minEdit': 0.94080886307411, 'diff_simple': 0.9911213294611165, 'sing_LoughranMcDonald': 5.052579414630077e-06, '0': {'type': '10-Q', 'published': datetime.date(2011, 8, 11), 'qtr': (2011, 3)}}\n",
      "[WARNING] /home/alex/Desktop/filtered_text_data/nd_data/2012/QTR1/20120330_10-K_edgar_data_1433833_0001193125-12-142600_1.txt failed parsing\n",
      "[INFO] Comparing current qtr (2011, 4) to qtr (2011, 3) from 1 quarter ago.\n"
     ]
    },
    {
     "name": "stderr",
     "output_type": "stream",
     "text": [
      "\n",
      "  9%|▉         | 92/1000 [01:06<09:31,  1.59it/s]\u001b[A\n",
      "\n",
      "92it [01:06,  1.59it/s]\u001b[A\u001b[A"
     ]
    },
    {
     "name": "stdout",
     "output_type": "stream",
     "text": [
      "{'diff_jaccard': 0.6981423735097574, 'diff_cosine_tf': 0.9811899564176193, 'diff_cosine_tf_idf': 0.9755569658832988, 'diff_minEdit': 0.9357673546477234, 'diff_simple': 0.9842041064374701, 'sing_LoughranMcDonald': -0.0007953420993820827, '0': {'type': '10-Q', 'published': datetime.date(2010, 8, 9), 'qtr': (2010, 3)}}\n",
      "[INFO] Comparing current qtr (2010, 4) to qtr (2010, 3) from 1 quarter ago.\n",
      "{'diff_jaccard': 0.8085816567778724, 'diff_cosine_tf': 0.9455625808105409, 'diff_cosine_tf_idf': 0.9394838533929116, 'diff_minEdit': 1.0, 'diff_simple': 1.0, 'sing_LoughranMcDonald': -0.0006277912162548038, '0': {'type': '10-Q', 'published': datetime.date(2011, 11, 10), 'qtr': (2011, 4)}}\n",
      "[INFO] Comparing current qtr (2012, 1) to qtr (2011, 4) from 1 quarter ago.\n",
      "{'diff_jaccard': 0.10963763759060807, 'diff_cosine_tf': 0.6147866877527456, 'diff_cosine_tf_idf': 0.5651190740497729, 'diff_minEdit': 0.7820241067343687, 'diff_simple': 0.5904917723201414, 'sing_LoughranMcDonald': -0.000693471947150794, '0': {'type': '10-Q', 'published': datetime.date(2011, 11, 8), 'qtr': (2011, 4)}}\n",
      "[INFO] Comparing current qtr (2012, 1) to qtr (2011, 4) from 1 quarter ago.\n",
      "{'diff_jaccard': 0.772512597244451, 'diff_cosine_tf': 0.974787959192428, 'diff_cosine_tf_idf': 0.9689188878987576, 'diff_minEdit': 0.9834559677450206, 'diff_simple': 0.9787816269491025, 'sing_LoughranMcDonald': -0.000831959947934356, '0': {'type': '10-Q', 'published': datetime.date(2010, 11, 8), 'qtr': (2010, 4)}}\n",
      "[INFO] Comparing current qtr (2011, 1) to qtr (2010, 4) from 1 quarter ago.\n",
      "[INFO] No ToC found\n",
      "This is the res {'1': [(133065, 133083)], '7': [], '13': [(108399, 108418), (156795, 156814)]}\n",
      "[WARNING] /home/alex/Desktop/filtered_text_data/nd_data/2010/QTR1/20100331_10-K_edgar_data_1089787_0000950159-10-000256_1.txt failed parsing\n"
     ]
    },
    {
     "name": "stderr",
     "output_type": "stream",
     "text": [
      "\n",
      "  9%|▉         | 93/1000 [01:07<08:14,  1.83it/s]\u001b[A\n",
      "\n",
      "93it [01:07,  1.84it/s]\u001b[A\u001b[A"
     ]
    },
    {
     "name": "stdout",
     "output_type": "stream",
     "text": [
      "[INFO] Found a ToC!\n",
      "[INFO] No ToC found\n",
      "{'diff_jaccard': 0.24990183665736818, 'diff_cosine_tf': 0.683631521622315, 'diff_cosine_tf_idf': 0.6507545925393436, 'diff_minEdit': 0.7113870536283657, 'diff_simple': 0.6738003584508688, 'sing_LoughranMcDonald': -0.0004389518833126114, '0': {'type': '10-K', 'published': datetime.date(2012, 3, 13), 'qtr': (2012, 1)}}\n",
      "[INFO] Comparing current qtr (2012, 2) to qtr (2012, 1) from 1 quarter ago.\n",
      "[INFO] No ToC found\n",
      "[INFO] No ToC found\n",
      "[INFO] No ToC found\n",
      "[INFO] No ToC found\n",
      "[WARNING] Section ii_1 was found to be empty.\n",
      "[WARNING] Section ii_1a was found to be empty.\n",
      "{'diff_jaccard': 0.20720162826737432, 'diff_cosine_tf': 0.6490061659017732, 'diff_cosine_tf_idf': 0.6086879685309043, 'diff_minEdit': 0.7052521810888321, 'diff_simple': 0.6584038091909837, 'sing_LoughranMcDonald': -0.0012607140240965807, '0': {'type': '10-Q', 'published': datetime.date(2012, 5, 10), 'qtr': (2012, 2)}}\n",
      "[INFO] Comparing current qtr (2012, 3) to qtr (2012, 2) from 1 quarter ago.\n",
      "{'diff_jaccard': 0.45471638848625623, 'diff_cosine_tf': 0.963143370325123, 'diff_cosine_tf_idf': 0.9554392076775041, 'diff_minEdit': 0.8158082134555031, 'diff_simple': 0.7507472093147466, 'sing_LoughranMcDonald': -0.000399949070393093, '0': {'type': '10-K', 'published': datetime.date(2011, 2, 28), 'qtr': (2011, 1)}}\n",
      "[INFO] Comparing current qtr (2011, 2) to qtr (2011, 1) from 1 quarter ago.\n",
      "{'diff_jaccard': 0.28843853083728044, 'diff_cosine_tf': 0.9470796369753136, 'diff_cosine_tf_idf': 0.9404403424147769, 'diff_minEdit': 0.7801467660961952, 'diff_simple': 0.5221548251666221, 'sing_LoughranMcDonald': -0.00013886021525634048, '0': {'type': '10-K', 'published': datetime.date(2012, 2, 29), 'qtr': (2012, 1)}}\n",
      "[INFO] Comparing current qtr (2012, 2) to qtr (2012, 1) from 1 quarter ago.\n",
      "{'diff_jaccard': 0.6749982828928984, 'diff_cosine_tf': 0.8885577550976024, 'diff_cosine_tf_idf': 0.8798024598665881, 'diff_minEdit': 0.9938859699325986, 'diff_simple': 0.9990489330389993, 'sing_LoughranMcDonald': -0.00035484001315704315, '0': {'type': '10-Q', 'published': datetime.date(2012, 8, 9), 'qtr': (2012, 3)}}\n",
      "[INFO] Comparing current qtr (2012, 4) to qtr (2012, 3) from 1 quarter ago.\n",
      "[INFO] No ToC found\n",
      "[WARNING] Section ii_1 was found to be empty.\n",
      "{'diff_jaccard': 0.14974598189852828, 'diff_cosine_tf': 0.413798783225506, 'diff_cosine_tf_idf': 0.39106214815369594, 'diff_minEdit': 0.6382207664364532, 'diff_simple': 0.36356227831369864, 'sing_LoughranMcDonald': -0.003426677560058818, '0': {'type': '10-Q', 'published': datetime.date(2011, 5, 10), 'qtr': (2011, 2)}}\n",
      "[INFO] Comparing current qtr (2011, 3) to qtr (2011, 2) from 1 quarter ago.\n",
      "[INFO] Found a ToC!\n",
      "[WARNING] Section 9a was found to be empty.\n",
      "[INFO] No ToC found\n",
      "[WARNING] Section 1a was found to be empty.\n",
      "[WARNING] Section 7 was found to be empty.\n",
      "[WARNING] Section 7a was found to be empty.\n",
      "[INFO] No ToC found\n",
      "{'diff_jaccard': 0.7826813327353728, 'diff_cosine_tf': 0.9625788825017697, 'diff_cosine_tf_idf': 0.9589568861914722, 'diff_minEdit': 1.0, 'diff_simple': 1.0, 'sing_LoughranMcDonald': -0.00033000740008034575, '0': {'type': '10-Q', 'published': datetime.date(2012, 11, 9), 'qtr': (2012, 4)}}\n",
      "[WARNING] Section ii_1 was found to be empty.\n"
     ]
    },
    {
     "name": "stderr",
     "output_type": "stream",
     "text": [
      "\n",
      "  9%|▉         | 94/1000 [01:07<08:53,  1.70it/s]\u001b[A\n",
      "\n",
      "94it [01:07,  1.70it/s]\u001b[A\u001b[A"
     ]
    },
    {
     "name": "stdout",
     "output_type": "stream",
     "text": [
      "[INFO] Comparing current qtr (2010, 2) to qtr (2010, 1) from 1 quarter ago.\n",
      "{'diff_jaccard': 0.20442206418652106, 'diff_cosine_tf': 0.6563220215594723, 'diff_cosine_tf_idf': 0.6167038889736299, 'diff_minEdit': 0.7043959507954355, 'diff_simple': 0.5513166413027557, 'sing_LoughranMcDonald': -0.0007180452620508142, '0': {'type': '10-Q', 'published': datetime.date(2012, 5, 9), 'qtr': (2012, 2)}}\n",
      "[INFO] Comparing current qtr (2012, 3) to qtr (2012, 2) from 1 quarter ago.\n",
      "{'diff_jaccard': 0.17394541259515695, 'diff_cosine_tf': 0.234826545597056, 'diff_cosine_tf_idf': 0.21160733741548962, 'diff_minEdit': 0.6955010505758551, 'diff_simple': 0.35567885981555836, 'sing_LoughranMcDonald': -4.787237042461624e-05, '0': {'type': '10-Q', 'published': datetime.date(2011, 8, 9), 'qtr': (2011, 3)}}\n",
      "[INFO] Comparing current qtr (2011, 4) to qtr (2011, 3) from 1 quarter ago.\n",
      "[INFO] No ToC found\n",
      "[WARNING] Section _i_3 was found to be empty.\n",
      "[INFO] No ToC found\n",
      "[WARNING] Section _i_4 was found to be empty.\n",
      "{'diff_jaccard': 0.0048065756573044734, 'diff_cosine_tf': 0.27076566313577977, 'diff_cosine_tf_idf': 0.20827793454198276, 'diff_minEdit': 0.951582102088985, 'diff_simple': 0.5863749572163302, 'sing_LoughranMcDonald': 0.0, '0': {'type': '10-Q', 'published': datetime.date(2010, 5, 10), 'qtr': (2010, 2)}}\n",
      "[WARNING] Section _i_4 was found to be empty.\n",
      "[INFO] Found a ToC!\n",
      "[INFO] Comparing current qtr (2010, 3) to qtr (2010, 2) from 1 quarter ago.\n",
      "[WARNING] Section ii_1a was found to be empty.\n",
      "{'diff_jaccard': 0.946969696969697, 'diff_cosine_tf': 0.9696969696969695, 'diff_cosine_tf_idf': 0.9474617676946365, 'diff_minEdit': 0.984848484848485, 'diff_simple': 0.9903581267217632, 'sing_LoughranMcDonald': 0.0, '0': {'type': '10-Q', 'published': datetime.date(2010, 8, 9), 'qtr': (2010, 3)}}\n",
      "[INFO] Comparing current qtr (2010, 4) to qtr (2010, 3) from 1 quarter ago.\n",
      "{'diff_jaccard': 0.7376175997796424, 'diff_cosine_tf': 0.9848808921757439, 'diff_cosine_tf_idf': 0.9832234575044302, 'diff_minEdit': 1.0, 'diff_simple': 1.0, 'sing_LoughranMcDonald': -0.0005907349511143145, '0': {'type': '10-Q', 'published': datetime.date(2012, 8, 8), 'qtr': (2012, 3)}}\n",
      "[INFO] Comparing current qtr (2012, 4) to qtr (2012, 3) from 1 quarter ago.\n",
      "{'diff_jaccard': 1.0, 'diff_cosine_tf': 0.9999999999999998, 'diff_cosine_tf_idf': 0.9999999999999998, 'diff_minEdit': 1.0, 'diff_simple': 1.0, 'sing_LoughranMcDonald': 0.0, '0': {'type': '10-Q', 'published': datetime.date(2010, 11, 4), 'qtr': (2010, 4)}}\n",
      "[INFO] Found a ToC!\n",
      "[INFO] Comparing current qtr (2011, 1) to qtr (2010, 4) from 1 quarter ago.\n",
      "[WARNING] Section _i_4 was found to be empty.\n",
      "[INFO] No ToC found\n",
      "[WARNING] Section _i_4 was found to be empty.\n",
      "[INFO] Found a ToC!\n",
      "[ERROR] Here is full_sect: |[]|\n",
      "{'diff_jaccard': 0.8072627138194477, 'diff_cosine_tf': 0.9812153139932149, 'diff_cosine_tf_idf': 0.9773227330485534, 'diff_minEdit': 0.9866051374015727, 'diff_simple': 0.9826927701683877, 'sing_LoughranMcDonald': -0.0006257478874969527, '0': {'type': '10-Q', 'published': datetime.date(2011, 11, 9), 'qtr': (2011, 4)}}\n",
      "[INFO] Comparing current qtr (2012, 1) to qtr (2011, 4) from 1 quarter ago.\n",
      "[ERROR] Original res: {'_i_1': [], '_i_2': [], '_i_3': [], '_i_4': [], 'ii_1': [], 'ii_1a': [], 'ii_2': [], 'ii_3': [], 'ii_4': [], 'ii_5': [], 'ii_6': []}\n",
      "[WARNING] /home/alex/Desktop/filtered_text_data/nd_data/2010/QTR3/20100809_10-Q_edgar_data_925956_0001144204-10-042213_1.txt failed parsing\n"
     ]
    },
    {
     "name": "stderr",
     "output_type": "stream",
     "text": [
      "\n",
      " 10%|▉         | 95/1000 [01:08<07:59,  1.89it/s]\u001b[A\n",
      "\n",
      "95it [01:08,  1.89it/s]\u001b[A\u001b[A"
     ]
    },
    {
     "name": "stdout",
     "output_type": "stream",
     "text": [
      "{'diff_jaccard': 0.7210208797393759, 'diff_cosine_tf': 0.9899170128940142, 'diff_cosine_tf_idf': 0.9881012132883934, 'diff_minEdit': 0.9999999999999999, 'diff_simple': 0.9999999999999999, 'sing_LoughranMcDonald': -0.0005338423373874837, '0': {'type': '10-Q', 'published': datetime.date(2012, 11, 8), 'qtr': (2012, 4)}}\n",
      "[INFO] Found a ToC!\n",
      "[INFO] Comparing current qtr (2010, 2) to qtr (2010, 1) from 1 quarter ago.\n",
      "[INFO] No ToC found\n",
      "[WARNING] Section _i_4 was found to be empty.\n",
      "{'diff_jaccard': 0.0048214021687283, 'diff_cosine_tf': 0.2538554617653457, 'diff_cosine_tf_idf': 0.19541836453787073, 'diff_minEdit': 0.9290063937928519, 'diff_simple': 0.5567344920479812, 'sing_LoughranMcDonald': -7.989513273758536e-05, '0': {'type': '10-K', 'published': datetime.date(2011, 3, 10), 'qtr': (2011, 1)}}\n",
      "[INFO] Comparing current qtr (2011, 2) to qtr (2011, 1) from 1 quarter ago.\n",
      "{'diff_jaccard': 0.11491072402817573, 'diff_cosine_tf': 0.5655982691644281, 'diff_cosine_tf_idf': 0.5127010511123503, 'diff_minEdit': 0.5921043039796965, 'diff_simple': 0.546454964476522, 'sing_LoughranMcDonald': -0.001294551525947217, '0': {'type': '10-Q', 'published': datetime.date(2010, 6, 3), 'qtr': (2010, 2)}}\n",
      "[INFO] Comparing current qtr (2010, 3) to qtr (2010, 2) from 1 quarter ago.\n",
      "{'diff_jaccard': 0.0048214021687283, 'diff_cosine_tf': 0.2535497817876888, 'diff_cosine_tf_idf': 0.1949094071416953, 'diff_minEdit': 0.9300389496723466, 'diff_simple': 0.556433329916462, 'sing_LoughranMcDonald': 0.0, '0': {'type': '10-Q', 'published': datetime.date(2011, 5, 9), 'qtr': (2011, 2)}}\n",
      "[INFO] Comparing current qtr (2011, 3) to qtr (2011, 2) from 1 quarter ago.\n",
      "{'diff_jaccard': 0.8278236914600551, 'diff_cosine_tf': 0.9151515151515149, 'diff_cosine_tf_idf': 0.8499603008434203, 'diff_minEdit': 0.9545454545454547, 'diff_simple': 0.9860978667796849, 'sing_LoughranMcDonald': 0.0, '0': {'type': '10-Q', 'published': datetime.date(2011, 7, 28), 'qtr': (2011, 3)}}\n",
      "[INFO] Comparing current qtr (2011, 4) to qtr (2011, 3) from 1 quarter ago.\n",
      "[INFO] No ToC found\n",
      "{'diff_jaccard': 0.7874196510560146, 'diff_cosine_tf': 0.8848484848484847, 'diff_cosine_tf_idf': 0.8097237509813753, 'diff_minEdit': 0.9393939393939394, 'diff_simple': 0.980037260719079, 'sing_LoughranMcDonald': 0.0, '0': {'type': '10-Q', 'published': datetime.date(2011, 11, 1), 'qtr': (2011, 4)}}\n",
      "[INFO] Comparing current qtr (2012, 1) to qtr (2011, 4) from 1 quarter ago.\n",
      "{'diff_jaccard': 0.7343572191306929, 'diff_cosine_tf': 0.9858104400103903, 'diff_cosine_tf_idf': 0.9830419890621679, 'diff_minEdit': 0.9340734539337888, 'diff_simple': 0.9778632031004504, 'sing_LoughranMcDonald': -0.0011967858374999669, '0': {'type': '10-Q', 'published': datetime.date(2010, 9, 2), 'qtr': (2010, 3)}}\n",
      "[INFO] Comparing current qtr (2010, 4) to qtr (2010, 3) from 1 quarter ago.\n",
      "{'diff_jaccard': 0.43955134555966235, 'diff_cosine_tf': 0.9256068144615985, 'diff_cosine_tf_idf': 0.9131178720541249, 'diff_minEdit': 0.7844963206897174, 'diff_simple': 0.7551948450444923, 'sing_LoughranMcDonald': -0.00026431083636090964, '0': {'type': '10-K', 'published': datetime.date(2012, 2, 29), 'qtr': (2012, 1)}}\n",
      "[INFO] Comparing current qtr (2012, 2) to qtr (2012, 1) from 1 quarter ago.\n",
      "{'diff_jaccard': 0.7437976441936331, 'diff_cosine_tf': 0.9813658602969688, 'diff_cosine_tf_idf': 0.9780936276607776, 'diff_minEdit': 0.9952172486524491, 'diff_simple': 0.9943760442102558, 'sing_LoughranMcDonald': -0.001065273736387849, '0': {'type': '10-Q', 'published': datetime.date(2010, 12, 3), 'qtr': (2010, 4)}}\n",
      "[INFO] Comparing current qtr (2011, 1) to qtr (2010, 4) from 1 quarter ago.\n",
      "{'diff_jaccard': 0.005418094020025737, 'diff_cosine_tf': 0.23568397645034828, 'diff_cosine_tf_idf': 0.18041727063446966, 'diff_minEdit': 0.9291294606179256, 'diff_simple': 0.5274349210652366, 'sing_LoughranMcDonald': -0.00010974849753901492, '0': {'type': '10-K', 'published': datetime.date(2012, 3, 9), 'qtr': (2012, 1)}}\n",
      "[INFO] Comparing current qtr (2012, 2) to qtr (2012, 1) from 1 quarter ago.\n",
      "{'diff_jaccard': 0.4171928684634247, 'diff_cosine_tf': 0.8458818616985133, 'diff_cosine_tf_idf': 0.8274877139898571, 'diff_minEdit': 0.738412871447484, 'diff_simple': 0.7643931842672415, 'sing_LoughranMcDonald': -0.0005952234668915663, '0': {'type': '10-Q', 'published': datetime.date(2012, 5, 10), 'qtr': (2012, 2)}}\n",
      "[INFO] Comparing current qtr (2012, 3) to qtr (2012, 2) from 1 quarter ago.\n",
      "{'diff_jaccard': 0.24816262697156777, 'diff_cosine_tf': 0.6144475250282003, 'diff_cosine_tf_idf': 0.5896626892668129, 'diff_minEdit': 0.6857100006336674, 'diff_simple': 0.5591848119566786, 'sing_LoughranMcDonald': -0.00019663559174784242, '0': {'type': '10-Q', 'published': datetime.date(2012, 5, 10), 'qtr': (2012, 2)}}\n",
      "[INFO] Comparing current qtr (2012, 3) to qtr (2012, 2) from 1 quarter ago.\n",
      "{'diff_jaccard': 0.061912677066039735, 'diff_cosine_tf': 0.5196840907851071, 'diff_cosine_tf_idf': 0.44166470900553956, 'diff_minEdit': 0.7352067823844847, 'diff_simple': 0.69301020864629, 'sing_LoughranMcDonald': -0.0008709849744508916, '0': {'type': '10-K', 'published': datetime.date(2011, 3, 31), 'qtr': (2011, 1)}}\n",
      "[INFO] Comparing current qtr (2011, 2) to qtr (2011, 1) from 1 quarter ago.\n",
      "{'diff_jaccard': 0.010739738330102033, 'diff_cosine_tf': 0.2774895321367496, 'diff_cosine_tf_idf': 0.2105866480986192, 'diff_minEdit': 0.8517215124473712, 'diff_simple': 0.5701743955824344, 'sing_LoughranMcDonald': 0.0, '0': {'type': '10-Q', 'published': datetime.date(2012, 8, 7), 'qtr': (2012, 3)}}\n",
      "[INFO] Comparing current qtr (2012, 4) to qtr (2012, 3) from 1 quarter ago.\n",
      "{'diff_jaccard': 0.946969696969697, 'diff_cosine_tf': 0.9696969696969695, 'diff_cosine_tf_idf': 0.9474617676946365, 'diff_minEdit': 0.984848484848485, 'diff_simple': 0.9955808080808082, 'sing_LoughranMcDonald': 0.0, '0': {'type': '10-Q', 'published': datetime.date(2012, 11, 6), 'qtr': (2012, 4)}}\n",
      "{'diff_jaccard': 0.7265777105756231, 'diff_cosine_tf': 0.9532364845048177, 'diff_cosine_tf_idf': 0.9448950104559912, 'diff_minEdit': 0.9278831659418358, 'diff_simple': 0.9699250556039068, 'sing_LoughranMcDonald': -0.0006296887617302548, '0': {'type': '10-Q', 'published': datetime.date(2012, 8, 9), 'qtr': (2012, 3)}}\n",
      "[INFO] Comparing current qtr (2012, 4) to qtr (2012, 3) from 1 quarter ago.\n"
     ]
    },
    {
     "name": "stderr",
     "output_type": "stream",
     "text": [
      "\n",
      " 10%|▉         | 97/1000 [01:08<07:29,  2.01it/s]\u001b[A\n",
      "\n",
      "97it [01:08,  2.01it/s]\u001b[A\u001b[A"
     ]
    },
    {
     "name": "stdout",
     "output_type": "stream",
     "text": [
      "{'diff_jaccard': 0.3408834594181414, 'diff_cosine_tf': 0.828871051207185, 'diff_cosine_tf_idf': 0.8139454163308034, 'diff_minEdit': 0.7076814485683723, 'diff_simple': 0.7775205443172313, 'sing_LoughranMcDonald': -0.0013453314113706781, '0': {'type': '10-Q', 'published': datetime.date(2011, 6, 3), 'qtr': (2011, 2)}}\n",
      "[INFO] Comparing current qtr (2011, 3) to qtr (2011, 2) from 1 quarter ago.\n",
      "[INFO] No ToC found\n",
      "[WARNING] Section 1a was found to be empty.\n",
      "[WARNING] Section 7 was found to be empty.\n",
      "[WARNING] Section 9a was found to be empty.\n",
      "{'diff_jaccard': 0.0019268204717078337, 'diff_cosine_tf': 0.05192169875711063, 'diff_cosine_tf_idf': 0.029284825783551932, 'diff_minEdit': 0.6012965016013796, 'diff_simple': 0.21382320693435944, 'sing_LoughranMcDonald': 0.0, '0': {'type': '10-Q', 'published': datetime.date(2012, 11, 9), 'qtr': (2012, 4)}}\n"
     ]
    },
    {
     "name": "stderr",
     "output_type": "stream",
     "text": [
      "\n",
      " 10%|▉         | 98/1000 [01:09<06:00,  2.50it/s]\u001b[A\n",
      "\n",
      "98it [01:09,  2.51it/s]\u001b[A\u001b[A"
     ]
    },
    {
     "name": "stdout",
     "output_type": "stream",
     "text": [
      "{'diff_jaccard': 0.7079385680018859, 'diff_cosine_tf': 0.973838898724483, 'diff_cosine_tf_idf': 0.9695254118269611, 'diff_minEdit': 0.9890939426618104, 'diff_simple': 0.9953649256312693, 'sing_LoughranMcDonald': -0.0012500524294747429, '0': {'type': '10-Q', 'published': datetime.date(2011, 9, 2), 'qtr': (2011, 3)}}\n",
      "[INFO] Comparing current qtr (2011, 4) to qtr (2011, 3) from 1 quarter ago.\n",
      "[INFO] No ToC found\n",
      "[INFO] Found a ToC!\n",
      "[INFO] Found a ToC!\n",
      "{'diff_jaccard': 0.7623449006866384, 'diff_cosine_tf': 0.9867850660409291, 'diff_cosine_tf_idf': 0.9808568688599616, 'diff_minEdit': 0.9951032787933602, 'diff_simple': 0.994344287006331, 'sing_LoughranMcDonald': -0.0011845450047545624, '0': {'type': '10-Q', 'published': datetime.date(2011, 12, 2), 'qtr': (2011, 4)}}\n",
      "[INFO] No ToC found\n",
      "[INFO] Comparing current qtr (2012, 1) to qtr (2011, 4) from 1 quarter ago.\n",
      "[INFO] No ToC found\n",
      "[INFO] No ToC found\n",
      "[INFO] No ToC found\n",
      "{'diff_jaccard': 0.3579813618000146, 'diff_cosine_tf': 0.8171684190697022, 'diff_cosine_tf_idf': 0.8045229458225044, 'diff_minEdit': 0.7671568158637985, 'diff_simple': 0.7416678420024481, 'sing_LoughranMcDonald': -0.0007888956206623575, '0': {'type': '10-K', 'published': datetime.date(2012, 3, 30), 'qtr': (2012, 1)}}\n",
      "[INFO] Comparing current qtr (2012, 2) to qtr (2012, 1) from 1 quarter ago.\n",
      "[INFO] No ToC found\n",
      "[WARNING] Section _i_2 was found to be empty.\n",
      "[WARNING] Section _i_3 was found to be empty.\n",
      "[WARNING] Section _i_4 was found to be empty.\n",
      "[WARNING] Section ii_1a was found to be empty.\n",
      "[INFO] No ToC found\n",
      "[INFO] No ToC found\n",
      "{'diff_jaccard': 0.3436440416322274, 'diff_cosine_tf': 0.792491860480535, 'diff_cosine_tf_idf': 0.7783307772992165, 'diff_minEdit': 0.691318921809736, 'diff_simple': 0.7350242947629847, 'sing_LoughranMcDonald': -0.0014518441202107416, '0': {'type': '10-Q', 'published': datetime.date(2012, 6, 4), 'qtr': (2012, 2)}}\n",
      "[INFO] Comparing current qtr (2012, 3) to qtr (2012, 2) from 1 quarter ago.\n",
      "{'diff_jaccard': 0.5043432060188363, 'diff_cosine_tf': 0.9284151246364825, 'diff_cosine_tf_idf': 0.9162837357423211, 'diff_minEdit': 0.8683565587673148, 'diff_simple': 0.8809118559802614, 'sing_LoughranMcDonald': -0.0015946323175276144, '0': {'type': '10-Q', 'published': datetime.date(2012, 8, 31), 'qtr': (2012, 3)}}\n",
      "[INFO] Comparing current qtr (2012, 4) to qtr (2012, 3) from 1 quarter ago.\n",
      "[INFO] No ToC found\n",
      "[INFO] Found a ToC!\n",
      "[INFO] No ToC found\n",
      "[WARNING] Section _i_2 was found to be empty.\n",
      "[WARNING] Section _i_3 was found to be empty.\n",
      "[WARNING] Section _i_4 was found to be empty.\n",
      "[WARNING] Section ii_1 was found to be empty.\n",
      "[WARNING] Section ii_1a was found to be empty.\n",
      "[INFO] No ToC found\n",
      "{'diff_jaccard': 0.7519261165091174, 'diff_cosine_tf': 0.9842773788313899, 'diff_cosine_tf_idf': 0.9770181403185652, 'diff_minEdit': 1.0, 'diff_simple': 1.0, 'sing_LoughranMcDonald': -0.0015453731264438947, '0': {'type': '10-Q', 'published': datetime.date(2012, 11, 30), 'qtr': (2012, 4)}}\n"
     ]
    },
    {
     "name": "stderr",
     "output_type": "stream",
     "text": [
      "\n",
      " 10%|▉         | 99/1000 [01:09<07:28,  2.01it/s]\u001b[A\n",
      "\n",
      "99it [01:09,  2.01it/s]\u001b[A\u001b[A"
     ]
    },
    {
     "name": "stdout",
     "output_type": "stream",
     "text": [
      "[INFO] No ToC found\n",
      "[INFO] Found a ToC!\n",
      "[INFO] No ToC found\n",
      "[INFO] No ToC found\n",
      "[INFO] No ToC found\n",
      "[INFO] No ToC found\n",
      "[INFO] Found a ToC!\n",
      "[INFO] No ToC found\n",
      "[INFO] No ToC found\n",
      "[INFO] No ToC found\n",
      "[INFO] No ToC found\n",
      "[INFO] Found a ToC!\n",
      "[INFO] No ToC found\n",
      "[INFO] No ToC found\n",
      "[INFO] Comparing current qtr (2010, 2) to qtr (2010, 1) from 1 quarter ago.\n",
      "[INFO] No ToC found\n",
      "[INFO] No ToC found\n",
      "[INFO] No ToC found\n",
      "[INFO] No ToC found\n",
      "[INFO] Found a ToC!\n",
      "{'diff_jaccard': 0.3671473016278017, 'diff_cosine_tf': 0.7993699029970367, 'diff_cosine_tf_idf': 0.7742491874771383, 'diff_minEdit': 0.8337173516781511, 'diff_simple': 0.6617693810730882, 'sing_LoughranMcDonald': -0.0004572320174941018, '0': {'type': '10-Q', 'published': datetime.date(2010, 5, 3), 'qtr': (2010, 2)}}\n",
      "[INFO] Comparing current qtr (2010, 3) to qtr (2010, 2) from 1 quarter ago.\n",
      "[INFO] No ToC found\n",
      "[INFO] Found a ToC!\n",
      "[WARNING] Section ii_1a was found to be empty.\n",
      "[INFO] No ToC found\n",
      "[INFO] Found a ToC!\n",
      "{'diff_jaccard': 0.7646877434952636, 'diff_cosine_tf': 0.9879342130959314, 'diff_cosine_tf_idf': 0.9852023975107672, 'diff_minEdit': 0.9965115059103309, 'diff_simple': 0.9976278240190251, 'sing_LoughranMcDonald': -0.00038252200538510593, '0': {'type': '10-Q', 'published': datetime.date(2010, 7, 30), 'qtr': (2010, 3)}}\n",
      "[INFO] No ToC found\n",
      "[INFO] Comparing current qtr (2010, 4) to qtr (2010, 3) from 1 quarter ago.\n",
      "[INFO] Found a ToC!\n",
      "[WARNING] Section ii_1a was found to be empty.\n",
      "[WARNING] Section 3 was found to be empty.\n",
      "[WARNING] Section 7 was found to be empty.\n",
      "[WARNING] Section 9a was found to be empty.\n",
      "[INFO] No ToC found\n",
      "[WARNING] Section ii_1a was found to be empty.\n",
      "{'diff_jaccard': 0.7505800687486953, 'diff_cosine_tf': 0.9927558294593333, 'diff_cosine_tf_idf': 0.9871843684351894, 'diff_minEdit': 0.9966893873707182, 'diff_simple': 0.997086660886232, 'sing_LoughranMcDonald': -0.0003743736430097534, '0': {'type': '10-Q', 'published': datetime.date(2010, 11, 4), 'qtr': (2010, 4)}}\n",
      "[INFO] Comparing current qtr (2011, 1) to qtr (2010, 4) from 1 quarter ago.\n",
      "[INFO] No ToC found\n",
      "[INFO] Found a ToC!\n",
      "[WARNING] Section _i_3 was found to be empty.\n",
      "[WARNING] Section _i_4 was found to be empty.\n",
      "[INFO] No ToC found\n",
      "[INFO] No ToC found\n",
      "[INFO] No ToC found\n",
      "{'diff_jaccard': 0.3712271612105105, 'diff_cosine_tf': 0.7712346363807653, 'diff_cosine_tf_idf': 0.7436762450011709, 'diff_minEdit': 0.7695412292965195, 'diff_simple': 0.6557461337974525, 'sing_LoughranMcDonald': -0.00041939111928141637, '0': {'type': '10-K', 'published': datetime.date(2011, 2, 28), 'qtr': (2011, 1)}}\n",
      "[INFO] Comparing current qtr (2011, 2) to qtr (2011, 1) from 1 quarter ago.\n",
      "[ERROR] Here is full_sect: |[]|\n",
      "[ERROR] Original res: {'1': [], '1a': [], '1b': [], '2': [], '3': [], '4': [], '5': [], '6': [], '7': [], '7a': [], '8': [], '9': [], '9a': [], '9b': [], '10': [], '11': [], '12': [], '13': [], '14': [], '15': []}\n",
      "[WARNING] /home/alex/Desktop/filtered_text_data/nd_data/2010/QTR1/20100225_10-K_edgar_data_1089819_0001089819-10-000007_1.txt failed parsing\n"
     ]
    },
    {
     "name": "stderr",
     "output_type": "stream",
     "text": [
      "\n",
      " 10%|█         | 100/1000 [01:12<17:26,  1.16s/it]\u001b[A\n",
      "\n",
      "100it [01:12,  1.16s/it]\u001b[A\u001b[A"
     ]
    },
    {
     "name": "stdout",
     "output_type": "stream",
     "text": [
      "[INFO] Found a ToC!\n",
      "[INFO] No ToC found\n",
      "[INFO] No ToC found\n",
      "[INFO] No ToC found\n",
      "[INFO] No ToC found\n",
      "[INFO] Comparing current qtr (2010, 2) to qtr (2010, 1) from 1 quarter ago.\n",
      "[INFO] Found a ToC!\n",
      "{'diff_jaccard': 0.3461023745457529, 'diff_cosine_tf': 0.7485584603846852, 'diff_cosine_tf_idf': 0.7193781163088523, 'diff_minEdit': 0.7660630537223286, 'diff_simple': 0.6739895182309912, 'sing_LoughranMcDonald': -0.0005786234008103592, '0': {'type': '10-Q', 'published': datetime.date(2011, 5, 6), 'qtr': (2011, 2)}}\n",
      "[INFO] Comparing current qtr (2011, 3) to qtr (2011, 2) from 1 quarter ago.\n",
      "[INFO] No ToC found\n",
      "[INFO] No ToC found\n",
      "[INFO] No ToC found\n",
      "{'diff_jaccard': 0.608283423973594, 'diff_cosine_tf': 0.8962885777385186, 'diff_cosine_tf_idf': 0.878195874187382, 'diff_minEdit': 0.7970515348164225, 'diff_simple': 0.7827019989921047, 'sing_LoughranMcDonald': -0.0005225054665720255, '0': {'type': '10-Q', 'published': datetime.date(2010, 6, 9), 'qtr': (2010, 2)}}\n",
      "[INFO] Comparing current qtr (2010, 3) to qtr (2010, 2) from 1 quarter ago.\n",
      "[INFO] Found a ToC!\n",
      "[INFO] Found a ToC!\n",
      "{'diff_jaccard': 0.7588817351090074, 'diff_cosine_tf': 0.9837309946923948, 'diff_cosine_tf_idf': 0.9781247659621467, 'diff_minEdit': 0.9994871531873429, 'diff_simple': 0.9996512641673931, 'sing_LoughranMcDonald': -0.0003858704211933801, '0': {'type': '10-Q', 'published': datetime.date(2011, 8, 5), 'qtr': (2011, 3)}}\n",
      "[INFO] Found a ToC!\n",
      "[INFO] Comparing current qtr (2011, 4) to qtr (2011, 3) from 1 quarter ago.\n",
      "[WARNING] Section ii_1a was found to be empty.\n",
      "{'diff_jaccard': 0.9097120369117923, 'diff_cosine_tf': 0.972282467485654, 'diff_cosine_tf_idf': 0.968283103365293, 'diff_minEdit': 0.9892343355240882, 'diff_simple': 0.9933611735731878, 'sing_LoughranMcDonald': -0.00044190776339583007, '0': {'type': '10-Q', 'published': datetime.date(2010, 9, 8), 'qtr': (2010, 3)}}\n",
      "[INFO] Comparing current qtr (2010, 4) to qtr (2010, 3) from 1 quarter ago.\n",
      "[INFO] No ToC found\n",
      "[INFO] Found a ToC!\n",
      "[WARNING] Section _i_2 was found to be empty.\n",
      "[INFO] No ToC found\n",
      "[WARNING] Section _i_2 was found to be empty.\n",
      "[WARNING] Section _i_3 was found to be empty.\n",
      "[INFO] Found a ToC!\n",
      "[WARNING] Section ii_1a was found to be empty.\n",
      "[WARNING] Section ii_1 was found to be empty.\n",
      "[WARNING] Section ii_1a was found to be empty.\n",
      "{'diff_jaccard': 0.9021874130833488, 'diff_cosine_tf': 0.9707348679568328, 'diff_cosine_tf_idf': 0.9573073753465816, 'diff_minEdit': 0.9761191240909783, 'diff_simple': 0.9762272350993377, 'sing_LoughranMcDonald': -0.0004444529857811157, '0': {'type': '10-Q', 'published': datetime.date(2010, 12, 8), 'qtr': (2010, 4)}}\n",
      "[INFO] Comparing current qtr (2011, 1) to qtr (2010, 4) from 1 quarter ago.\n",
      "[INFO] Found a ToC!\n",
      "[INFO] Found a ToC!\n",
      "{'diff_jaccard': 0.021593138710389873, 'diff_cosine_tf': 0.6167629702797419, 'diff_cosine_tf_idf': 0.5516660086258944, 'diff_minEdit': 0.708432665220937, 'diff_simple': 0.5025587714504863, 'sing_LoughranMcDonald': -0.00013410517744147043, '0': {'type': '10-Q', 'published': datetime.date(2011, 11, 9), 'qtr': (2011, 4)}}\n",
      "[INFO] Comparing current qtr (2012, 1) to qtr (2011, 4) from 1 quarter ago.\n",
      "{'diff_jaccard': 0.5989973313506665, 'diff_cosine_tf': 0.8994996484284952, 'diff_cosine_tf_idf': 0.8733041971776799, 'diff_minEdit': 0.8245196758856512, 'diff_simple': 0.7869220281210056, 'sing_LoughranMcDonald': -0.0004023674980067219, '0': {'type': '10-K', 'published': datetime.date(2011, 3, 29), 'qtr': (2011, 1)}}\n",
      "[INFO] Found a ToC!\n",
      "[INFO] Comparing current qtr (2011, 2) to qtr (2011, 1) from 1 quarter ago.\n",
      "[WARNING] Section ii_1a was found to be empty.\n",
      "[INFO] Comparing current qtr (2010, 2) to qtr (2010, 1) from 1 quarter ago.\n",
      "{'diff_jaccard': 0.02729402922076556, 'diff_cosine_tf': 0.36624487277190865, 'diff_cosine_tf_idf': 0.26494871236617823, 'diff_minEdit': 0.6904709986916703, 'diff_simple': 0.28907357797022, 'sing_LoughranMcDonald': -0.001443293429995253, '0': {'type': '10-Q', 'published': datetime.date(2010, 5, 10), 'qtr': (2010, 2)}}\n",
      "[INFO] Comparing current qtr (2010, 3) to qtr (2010, 2) from 1 quarter ago.\n",
      "[INFO] Found a ToC!\n",
      "[INFO] Comparing current qtr (2010, 2) to qtr (2010, 1) from 1 quarter ago.\n",
      "{'diff_jaccard': 0.6285458528700244, 'diff_cosine_tf': 0.9021647380789677, 'diff_cosine_tf_idf': 0.8836706558131475, 'diff_minEdit': 0.8150237974952015, 'diff_simple': 0.7948700068870523, 'sing_LoughranMcDonald': -0.0005275963257459535, '0': {'type': '10-Q', 'published': datetime.date(2011, 6, 8), 'qtr': (2011, 2)}}\n",
      "[INFO] Comparing current qtr (2011, 3) to qtr (2011, 2) from 1 quarter ago.\n",
      "{'diff_jaccard': 0.020692643258660864, 'diff_cosine_tf': 0.055543035356992385, 'diff_cosine_tf_idf': 0.04049365986287736, 'diff_minEdit': 0.7320532228507689, 'diff_simple': 0.22752239564865426, 'sing_LoughranMcDonald': 0.0, '0': {'type': '10-Q', 'published': datetime.date(2010, 8, 9), 'qtr': (2010, 3)}}\n",
      "[INFO] Comparing current qtr (2010, 4) to qtr (2010, 3) from 1 quarter ago.\n",
      "{'diff_jaccard': 0.827459408766545, 'diff_cosine_tf': 0.9767233491311805, 'diff_cosine_tf_idf': 0.9739781004757124, 'diff_minEdit': 0.989452503789573, 'diff_simple': 0.9935682732894865, 'sing_LoughranMcDonald': -0.00038409008932255696, '0': {'type': '10-Q', 'published': datetime.date(2011, 9, 7), 'qtr': (2011, 3)}}\n",
      "[INFO] Comparing current qtr (2011, 4) to qtr (2011, 3) from 1 quarter ago.\n",
      "{'diff_jaccard': 0.001992056287549309, 'diff_cosine_tf': 0.060514026221828, 'diff_cosine_tf_idf': 0.0364645737369306, 'diff_minEdit': 0.6707391565539399, 'diff_simple': 0.1950009373524799, 'sing_LoughranMcDonald': -0.0007808220933332305, '0': {'type': '10-Q', 'published': datetime.date(2010, 11, 9), 'qtr': (2010, 4)}}\n",
      "[INFO] Comparing current qtr (2011, 1) to qtr (2010, 4) from 1 quarter ago.\n",
      "{'diff_jaccard': 0.1737650952428699, 'diff_cosine_tf': 0.7078219977914681, 'diff_cosine_tf_idf': 0.6648502187294191, 'diff_minEdit': 0.7083546989809908, 'diff_simple': 0.5074842063333098, 'sing_LoughranMcDonald': -0.00042349376274594056, '0': {'type': '10-K', 'published': datetime.date(2012, 2, 28), 'qtr': (2012, 1)}}\n",
      "[INFO] Comparing current qtr (2012, 2) to qtr (2012, 1) from 1 quarter ago.\n",
      "{'diff_jaccard': 0.25091846733399786, 'diff_cosine_tf': 0.7020409381975281, 'diff_cosine_tf_idf': 0.6922893463574582, 'diff_minEdit': 0.8058315591232939, 'diff_simple': 0.6398054721307554, 'sing_LoughranMcDonald': -0.0005574330524794392, '0': {'type': '10-Q', 'published': datetime.date(2010, 5, 6), 'qtr': (2010, 2)}}\n",
      "[INFO] Comparing current qtr (2010, 3) to qtr (2010, 2) from 1 quarter ago.\n",
      "{'diff_jaccard': 0.893812513421326, 'diff_cosine_tf': 0.9701520042338525, 'diff_cosine_tf_idf': 0.9582359831706428, 'diff_minEdit': 0.9937981107792428, 'diff_simple': 0.9942632524707996, 'sing_LoughranMcDonald': -0.00037319433700138056, '0': {'type': '10-Q', 'published': datetime.date(2011, 12, 7), 'qtr': (2011, 4)}}\n",
      "[INFO] Comparing current qtr (2012, 1) to qtr (2011, 4) from 1 quarter ago.\n",
      "{'diff_jaccard': 0.820492771372507, 'diff_cosine_tf': 0.9906878465706355, 'diff_cosine_tf_idf': 0.9860122380129742, 'diff_minEdit': 1.0, 'diff_simple': 1.0, 'sing_LoughranMcDonald': -0.0004672053584858022, '0': {'type': '10-Q', 'published': datetime.date(2010, 8, 6), 'qtr': (2010, 3)}}\n",
      "[INFO] Comparing current qtr (2010, 4) to qtr (2010, 3) from 1 quarter ago.\n",
      "{'diff_jaccard': 0.6438717764467985, 'diff_cosine_tf': 0.912281967204992, 'diff_cosine_tf_idf': 0.8910358008028333, 'diff_minEdit': 0.7260197245312163, 'diff_simple': 0.805245569240012, 'sing_LoughranMcDonald': -0.00030534506522299644, '0': {'type': '10-K', 'published': datetime.date(2012, 3, 27), 'qtr': (2012, 1)}}\n",
      "[INFO] Comparing current qtr (2012, 2) to qtr (2012, 1) from 1 quarter ago.\n",
      "{'diff_jaccard': 0.5340037912698672, 'diff_cosine_tf': 0.9463631360633669, 'diff_cosine_tf_idf': 0.9377243729741717, 'diff_minEdit': 0.9431701260513816, 'diff_simple': 0.8682680030205259, 'sing_LoughranMcDonald': -0.0005062920357741335, '0': {'type': '10-K', 'published': datetime.date(2011, 3, 11), 'qtr': (2011, 1)}}\n",
      "[INFO] Comparing current qtr (2011, 2) to qtr (2011, 1) from 1 quarter ago.\n",
      "{'diff_jaccard': 0.010040228427666156, 'diff_cosine_tf': 0.4158199269296314, 'diff_cosine_tf_idf': 0.3296021875955032, 'diff_minEdit': 0.7458602220826436, 'diff_simple': 0.5264839980251719, 'sing_LoughranMcDonald': -0.0001680490877777105, '0': {'type': '10-Q', 'published': datetime.date(2012, 5, 9), 'qtr': (2012, 2)}}\n"
     ]
    },
    {
     "name": "stdout",
     "output_type": "stream",
     "text": [
      "[INFO] Comparing current qtr (2012, 3) to qtr (2012, 2) from 1 quarter ago.\n",
      "{'diff_jaccard': 0.7796508221438875, 'diff_cosine_tf': 0.9916455956911973, 'diff_cosine_tf_idf': 0.9867008306809536, 'diff_minEdit': 0.9764749726317751, 'diff_simple': 0.9786510376633359, 'sing_LoughranMcDonald': -0.000524411930185709, '0': {'type': '10-Q', 'published': datetime.date(2010, 11, 5), 'qtr': (2010, 4)}}\n",
      "[INFO] Comparing current qtr (2011, 1) to qtr (2010, 4) from 1 quarter ago.\n",
      "{'diff_jaccard': 0.6239471437116093, 'diff_cosine_tf': 0.8984821246380026, 'diff_cosine_tf_idf': 0.885043501357936, 'diff_minEdit': 0.7423636076187546, 'diff_simple': 0.7979296378653115, 'sing_LoughranMcDonald': -0.0004551958501905106, '0': {'type': '10-Q', 'published': datetime.date(2012, 6, 6), 'qtr': (2012, 2)}}\n",
      "[INFO] Comparing current qtr (2012, 3) to qtr (2012, 2) from 1 quarter ago.\n",
      "{'diff_jaccard': 0.4688854899071757, 'diff_cosine_tf': 0.798551325886965, 'diff_cosine_tf_idf': 0.79211429555074, 'diff_minEdit': 0.8781999914847656, 'diff_simple': 0.8628192595820635, 'sing_LoughranMcDonald': -0.0006610039494037574, '0': {'type': '10-Q', 'published': datetime.date(2011, 5, 6), 'qtr': (2011, 2)}}\n",
      "[INFO] Comparing current qtr (2011, 3) to qtr (2011, 2) from 1 quarter ago.\n",
      "[INFO] No ToC found\n",
      "[INFO] Comparing current qtr (2010, 2) to qtr (2010, 1) from 1 quarter ago.\n",
      "{'diff_jaccard': 0.8882650803467553, 'diff_cosine_tf': 0.9658772947805646, 'diff_cosine_tf_idf': 0.9519576489655809, 'diff_minEdit': 0.9896723809421433, 'diff_simple': 0.9936313015809883, 'sing_LoughranMcDonald': -0.0004311291116987584, '0': {'type': '10-Q', 'published': datetime.date(2012, 9, 5), 'qtr': (2012, 3)}}\n",
      "[INFO] Comparing current qtr (2012, 4) to qtr (2012, 3) from 1 quarter ago.\n",
      "{'diff_jaccard': 0.7738915434880831, 'diff_cosine_tf': 0.9872625551907401, 'diff_cosine_tf_idf': 0.9869470102158787, 'diff_minEdit': 0.9412716482532099, 'diff_simple': 0.9601002050508712, 'sing_LoughranMcDonald': -0.00012988418006187237, '0': {'type': '10-Q', 'published': datetime.date(2012, 8, 9), 'qtr': (2012, 3)}}\n",
      "[INFO] Comparing current qtr (2012, 4) to qtr (2012, 3) from 1 quarter ago.\n",
      "{'diff_jaccard': 0.8244606723055897, 'diff_cosine_tf': 0.9827619198212113, 'diff_cosine_tf_idf': 0.9774991747979039, 'diff_minEdit': 0.9939689569866731, 'diff_simple': 0.9964256643524061, 'sing_LoughranMcDonald': -0.0005243968590650473, '0': {'type': '10-Q', 'published': datetime.date(2011, 8, 5), 'qtr': (2011, 3)}}\n",
      "[INFO] Comparing current qtr (2011, 4) to qtr (2011, 3) from 1 quarter ago.\n",
      "{'diff_jaccard': 0.042206194361543235, 'diff_cosine_tf': 0.5552709566604057, 'diff_cosine_tf_idf': 0.4781105727053512, 'diff_minEdit': 0.8481013905085405, 'diff_simple': 0.44139143195756725, 'sing_LoughranMcDonald': -0.0014272310396312062, '0': {'type': '10-Q', 'published': datetime.date(2010, 5, 4), 'qtr': (2010, 2)}}\n",
      "{'diff_jaccard': 0.8762320156555463, 'diff_cosine_tf': 0.9494107307162837, 'diff_cosine_tf_idf': 0.9313963256458062, 'diff_minEdit': 0.993322734499205, 'diff_simple': 0.9938235294117648, 'sing_LoughranMcDonald': -0.00042851559841473256, '0': {'type': '10-Q', 'published': datetime.date(2012, 12, 5), 'qtr': (2012, 4)}}\n"
     ]
    },
    {
     "name": "stderr",
     "output_type": "stream",
     "text": [
      "\n",
      " 10%|█         | 101/1000 [01:14<21:12,  1.42s/it]\u001b[A\n",
      "\n",
      "101it [01:14,  1.42s/it]\u001b[A\u001b[A"
     ]
    },
    {
     "name": "stdout",
     "output_type": "stream",
     "text": [
      "[INFO] Comparing current qtr (2010, 3) to qtr (2010, 2) from 1 quarter ago.\n",
      "{'diff_jaccard': 0.25789441696719395, 'diff_cosine_tf': 0.681311210199951, 'diff_cosine_tf_idf': 0.6710768195664446, 'diff_minEdit': 0.8213964062248236, 'diff_simple': 0.6220113581437228, 'sing_LoughranMcDonald': -0.00039823658082835205, '0': {'type': '10-K', 'published': datetime.date(2011, 2, 25), 'qtr': (2011, 1)}}\n",
      "[INFO] Comparing current qtr (2011, 2) to qtr (2011, 1) from 1 quarter ago.\n",
      "{'diff_jaccard': 0.010397872864452921, 'diff_cosine_tf': 0.3644415383350984, 'diff_cosine_tf_idf': 0.27685857830096583, 'diff_minEdit': 0.938984922032054, 'diff_simple': 0.8058191524846726, 'sing_LoughranMcDonald': 0.0, '0': {'type': '10-Q', 'published': datetime.date(2011, 11, 14), 'qtr': (2011, 4)}}\n",
      "[INFO] Comparing current qtr (2012, 1) to qtr (2011, 4) from 1 quarter ago.\n",
      "{'diff_jaccard': 0.5050203527815469, 'diff_cosine_tf': 0.6167577074774203, 'diff_cosine_tf_idf': 0.5373537620262061, 'diff_minEdit': 0.8656716417910448, 'diff_simple': 0.713713980721651, 'sing_LoughranMcDonald': 0.0, '0': {'type': '10-K', 'published': datetime.date(2012, 3, 14), 'qtr': (2012, 1)}}\n",
      "[INFO] Comparing current qtr (2012, 2) to qtr (2012, 1) from 1 quarter ago.\n",
      "{'diff_jaccard': 0.8383820279163596, 'diff_cosine_tf': 0.9935076990029558, 'diff_cosine_tf_idf': 0.9933098119012489, 'diff_minEdit': 0.9412651335507602, 'diff_simple': 0.9800150317625786, 'sing_LoughranMcDonald': -0.00013103976552823805, '0': {'type': '10-Q', 'published': datetime.date(2012, 11, 7), 'qtr': (2012, 4)}}\n"
     ]
    },
    {
     "name": "stderr",
     "output_type": "stream",
     "text": [
      "\n",
      " 10%|█         | 102/1000 [01:14<15:56,  1.07s/it]\u001b[A\n",
      "\n",
      "102it [01:14,  1.06s/it]\u001b[A\u001b[A"
     ]
    },
    {
     "name": "stdout",
     "output_type": "stream",
     "text": [
      "[INFO] Found a ToC!\n",
      "{'diff_jaccard': 0.8689245440877025, 'diff_cosine_tf': 0.9876432737253843, 'diff_cosine_tf_idf': 0.9841697630630281, 'diff_minEdit': 0.9999999999999999, 'diff_simple': 0.9999999999999999, 'sing_LoughranMcDonald': -0.001248022522536731, '0': {'type': '10-Q', 'published': datetime.date(2010, 7, 28), 'qtr': (2010, 3)}}\n",
      "{'diff_jaccard': 0.30212637991755725, 'diff_cosine_tf': 0.8369491004049842, 'diff_cosine_tf_idf': 0.8025545382831307, 'diff_minEdit': 0.7609287937062944, 'diff_simple': 0.7310574356324808, 'sing_LoughranMcDonald': -0.0008211109965998896, '0': {'type': '10-Q', 'published': datetime.date(2011, 5, 5), 'qtr': (2011, 2)}}\n",
      "{'diff_jaccard': 0.00936350563573695, 'diff_cosine_tf': 0.38245926645020467, 'diff_cosine_tf_idf': 0.29099938339990994, 'diff_minEdit': 0.959206583990275, 'diff_simple': 0.7784507302767257, 'sing_LoughranMcDonald': -0.0006697246101905218, '0': {'type': '10-Q', 'published': datetime.date(2012, 5, 11), 'qtr': (2012, 2)}}\n",
      "[INFO] Comparing current qtr (2010, 4) to qtr (2010, 3) from 1 quarter ago.\n",
      "[INFO] Comparing current qtr (2011, 3) to qtr (2011, 2) from 1 quarter ago.\n",
      "[INFO] Comparing current qtr (2012, 3) to qtr (2012, 2) from 1 quarter ago.\n",
      "[INFO] Found a ToC!\n",
      "{'diff_jaccard': 0.8376056116822735, 'diff_cosine_tf': 0.9918131445820223, 'diff_cosine_tf_idf': 0.9879552524988024, 'diff_minEdit': 1.0, 'diff_simple': 1.0, 'sing_LoughranMcDonald': -0.000683065218311643, '0': {'type': '10-Q', 'published': datetime.date(2011, 8, 5), 'qtr': (2011, 3)}}\n",
      "[INFO] Comparing current qtr (2011, 4) to qtr (2011, 3) from 1 quarter ago.\n",
      "{'diff_jaccard': 0.8584953928931188, 'diff_cosine_tf': 0.9783393344834443, 'diff_cosine_tf_idf': 0.9720623879783868, 'diff_minEdit': 0.9917733210186042, 'diff_simple': 0.9950639926111625, 'sing_LoughranMcDonald': -0.0006808785991929509, '0': {'type': '10-Q', 'published': datetime.date(2012, 8, 10), 'qtr': (2012, 3)}}\n",
      "[INFO] Comparing current qtr (2012, 4) to qtr (2012, 3) from 1 quarter ago.\n",
      "{'diff_jaccard': 0.8991245278702564, 'diff_cosine_tf': 0.991607054768535, 'diff_cosine_tf_idf': 0.9896599275109731, 'diff_minEdit': 1.0, 'diff_simple': 1.0, 'sing_LoughranMcDonald': -0.0011515271140031989, '0': {'type': '10-Q', 'published': datetime.date(2010, 11, 2), 'qtr': (2010, 4)}}\n",
      "[INFO] Comparing current qtr (2011, 1) to qtr (2010, 4) from 1 quarter ago.\n",
      "[INFO] Found a ToC!\n",
      "{'diff_jaccard': 0.040441880002120685, 'diff_cosine_tf': 0.5531228150131494, 'diff_cosine_tf_idf': 0.47439841269370475, 'diff_minEdit': 0.8492694268361702, 'diff_simple': 0.4636584905438603, 'sing_LoughranMcDonald': 0.0007724341579122701, '0': {'type': '10-K', 'published': datetime.date(2011, 2, 22), 'qtr': (2011, 1)}}\n",
      "[INFO] Comparing current qtr (2011, 2) to qtr (2011, 1) from 1 quarter ago.\n",
      "{'diff_jaccard': 0.829573950421782, 'diff_cosine_tf': 0.9941758058319468, 'diff_cosine_tf_idf': 0.9896125706621748, 'diff_minEdit': 0.998209224922565, 'diff_simple': 0.9879122682273148, 'sing_LoughranMcDonald': -0.0006764764431519619, '0': {'type': '10-Q', 'published': datetime.date(2011, 11, 3), 'qtr': (2011, 4)}}\n",
      "[INFO] Comparing current qtr (2012, 1) to qtr (2011, 4) from 1 quarter ago.\n",
      "{'diff_jaccard': 0.7279281566657944, 'diff_cosine_tf': 0.9824336602318388, 'diff_cosine_tf_idf': 0.9785441308882076, 'diff_minEdit': 0.992244305132467, 'diff_simple': 0.9940709787534576, 'sing_LoughranMcDonald': -0.000608418371180751, '0': {'type': '10-Q', 'published': datetime.date(2012, 11, 9), 'qtr': (2012, 4)}}\n"
     ]
    },
    {
     "name": "stderr",
     "output_type": "stream",
     "text": [
      "\n",
      " 10%|█         | 103/1000 [01:15<13:28,  1.11it/s]\u001b[A\n",
      "\n",
      "103it [01:15,  1.11it/s]\u001b[A\u001b[A"
     ]
    },
    {
     "name": "stdout",
     "output_type": "stream",
     "text": [
      "{'diff_jaccard': 0.016517756903472444, 'diff_cosine_tf': 0.37871775988102857, 'diff_cosine_tf_idf': 0.27668481194291217, 'diff_minEdit': 0.8990321958225479, 'diff_simple': 0.6990769464788397, 'sing_LoughranMcDonald': -0.003981371227070734, '0': {'type': '10-Q', 'published': datetime.date(2011, 5, 6), 'qtr': (2011, 2)}}\n",
      "[INFO] Found a ToC!\n",
      "[INFO] Comparing current qtr (2011, 3) to qtr (2011, 2) from 1 quarter ago.\n",
      "[INFO] Comparing current qtr (2011, 3) to qtr (2011, 2) from 1 quarter ago.\n",
      "[INFO] No ToC found\n",
      "[INFO] Found a ToC!\n",
      "idx_first_qtr: 11 | idx_last_qtr: 11 | lag: 1\n",
      "{'diff_jaccard': 0.7904278684074559, 'diff_cosine_tf': 0.9733213003177505, 'diff_cosine_tf_idf': 0.9634288213687968, 'diff_minEdit': 0.9926832966866328, 'diff_simple': 0.9746476230191827, 'sing_LoughranMcDonald': -0.003569141101241445, '0': {'type': '10-Q', 'published': datetime.date(2011, 8, 4), 'qtr': (2011, 3)}}\n",
      "[WARNING] Not enough valid reports for CIK 1540400 in this time_range. Skipping.\n"
     ]
    },
    {
     "name": "stderr",
     "output_type": "stream",
     "text": [
      "\n",
      " 10%|█         | 104/1000 [01:15<10:26,  1.43it/s]"
     ]
    },
    {
     "name": "stdout",
     "output_type": "stream",
     "text": [
      "[INFO] Comparing current qtr (2011, 4) to qtr (2011, 3) from 1 quarter ago.\n"
     ]
    },
    {
     "name": "stderr",
     "output_type": "stream",
     "text": [
      "\u001b[A\n",
      "\n",
      "104it [01:15,  1.42it/s]\u001b[A\u001b[A"
     ]
    },
    {
     "name": "stdout",
     "output_type": "stream",
     "text": [
      "{'diff_jaccard': 0.7599859596130464, 'diff_cosine_tf': 0.9863671406370155, 'diff_cosine_tf_idf': 0.9834433272019069, 'diff_minEdit': 1.0, 'diff_simple': 1.0, 'sing_LoughranMcDonald': -0.0016459552060870387, '0': {'type': '10-Q', 'published': datetime.date(2011, 8, 10), 'qtr': (2011, 3)}}\n",
      "[INFO] Comparing current qtr (2011, 4) to qtr (2011, 3) from 1 quarter ago.\n",
      "[INFO] Found a ToC!\n",
      "{'diff_jaccard': 0.3005615073512728, 'diff_cosine_tf': 0.8336626797212627, 'diff_cosine_tf_idf': 0.7984950449740079, 'diff_minEdit': 0.8151880865745105, 'diff_simple': 0.7466433780548907, 'sing_LoughranMcDonald': -0.0003983830519664457, '0': {'type': '10-K', 'published': datetime.date(2012, 2, 29), 'qtr': (2012, 1)}}\n",
      "[INFO] Comparing current qtr (2012, 2) to qtr (2012, 1) from 1 quarter ago.\n",
      "[INFO] Found a ToC!\n",
      "[WARNING] Section _i_2 was found to be empty.\n",
      "{'diff_jaccard': 0.7795471185634482, 'diff_cosine_tf': 0.9803568619316645, 'diff_cosine_tf_idf': 0.9721949483078199, 'diff_minEdit': 1.0, 'diff_simple': 1.0, 'sing_LoughranMcDonald': -0.0031104746516343543, '0': {'type': '10-Q', 'published': datetime.date(2011, 11, 3), 'qtr': (2011, 4)}}\n",
      "[INFO] Comparing current qtr (2012, 1) to qtr (2011, 4) from 1 quarter ago.\n",
      "{'diff_jaccard': 0.8419672898459782, 'diff_cosine_tf': 0.9965028352325367, 'diff_cosine_tf_idf': 0.995273205623019, 'diff_minEdit': 0.9999999999999999, 'diff_simple': 0.9999999999999999, 'sing_LoughranMcDonald': -0.0015304011842137738, '0': {'type': '10-Q', 'published': datetime.date(2011, 11, 8), 'qtr': (2011, 4)}}\n",
      "[INFO] Comparing current qtr (2012, 1) to qtr (2011, 4) from 1 quarter ago.\n",
      "[INFO] No ToC found\n",
      "{'diff_jaccard': 0.03618482119443942, 'diff_cosine_tf': 0.2991935516685805, 'diff_cosine_tf_idf': 0.24157924792400912, 'diff_minEdit': 0.6202722307935061, 'diff_simple': 0.4176516606446112, 'sing_LoughranMcDonald': -0.0034319849212551034, '0': {'type': '10-Q', 'published': datetime.date(2012, 5, 3), 'qtr': (2012, 2)}}\n",
      "[INFO] Comparing current qtr (2012, 3) to qtr (2012, 2) from 1 quarter ago.\n",
      "[INFO] Found a ToC!\n",
      "[WARNING] Section _i_3 was found to be empty.\n",
      "[INFO] No ToC found\n",
      "[WARNING] Section 1a was found to be empty.\n",
      "[INFO] Found a ToC!\n",
      "[WARNING] Section ii_1a was found to be empty.\n",
      "[WARNING] Section 3 was found to be empty.\n",
      "[WARNING] Section 7 was found to be empty.\n",
      "{'diff_jaccard': 0.35131609890867294, 'diff_cosine_tf': 0.4210072437709731, 'diff_cosine_tf_idf': 0.39793419294558174, 'diff_minEdit': 0.7719242194944229, 'diff_simple': 0.5038045996634393, 'sing_LoughranMcDonald': -0.0009169095682805223, '0': {'type': '10-Q', 'published': datetime.date(2012, 8, 9), 'qtr': (2012, 3)}}\n",
      "[INFO] Comparing current qtr (2012, 4) to qtr (2012, 3) from 1 quarter ago.\n",
      "[WARNING] Section 7a was found to be empty.\n",
      "[WARNING] Section 9a was found to be empty.\n",
      "[INFO] Found a ToC!\n",
      "{'diff_jaccard': 0.39205928456461847, 'diff_cosine_tf': 0.7828317216744628, 'diff_cosine_tf_idf': 0.7609195032496003, 'diff_minEdit': 0.7343762264996996, 'diff_simple': 0.6743054997096011, 'sing_LoughranMcDonald': -0.0010238986584856957, '0': {'type': '10-K', 'published': datetime.date(2012, 2, 29), 'qtr': (2012, 1)}}\n",
      "[INFO] Comparing current qtr (2012, 2) to qtr (2012, 1) from 1 quarter ago.\n",
      "[INFO] Found a ToC!\n",
      "[INFO] No ToC found\n",
      "[WARNING] Section ii_1 was found to be empty.\n",
      "{'diff_jaccard': 0.8325881922835643, 'diff_cosine_tf': 0.991041351834157, 'diff_cosine_tf_idf': 0.9841945401174162, 'diff_minEdit': 0.9999999999999999, 'diff_simple': 0.9999999999999999, 'sing_LoughranMcDonald': -0.0009358530652308121, '0': {'type': '10-Q', 'published': datetime.date(2012, 11, 6), 'qtr': (2012, 4)}}\n"
     ]
    },
    {
     "name": "stderr",
     "output_type": "stream",
     "text": [
      "\n",
      " 10%|█         | 105/1000 [01:16<10:25,  1.43it/s]\u001b[A\n",
      "\n",
      "105it [01:16,  1.43it/s]\u001b[A\u001b[A"
     ]
    },
    {
     "name": "stdout",
     "output_type": "stream",
     "text": [
      "{'diff_jaccard': 0.31574012516291766, 'diff_cosine_tf': 0.7441371159816444, 'diff_cosine_tf_idf': 0.718624102227934, 'diff_minEdit': 0.7096552508648419, 'diff_simple': 0.6750804212541885, 'sing_LoughranMcDonald': -0.0036820499169269143, '0': {'type': '10-Q', 'published': datetime.date(2012, 5, 7), 'qtr': (2012, 2)}}\n",
      "[INFO] Comparing current qtr (2012, 3) to qtr (2012, 2) from 1 quarter ago.\n",
      "{'diff_jaccard': 0.37866497414107503, 'diff_cosine_tf': 0.7129387625499806, 'diff_cosine_tf_idf': 0.6791461306570726, 'diff_minEdit': 0.7920539253483733, 'diff_simple': 0.7229828911480287, 'sing_LoughranMcDonald': -0.0004863041535065668, '0': {'type': '10-K', 'published': datetime.date(2012, 2, 29), 'qtr': (2012, 1)}}\n",
      "[INFO] Found a ToC!\n",
      "[INFO] Comparing current qtr (2012, 2) to qtr (2012, 1) from 1 quarter ago.\n",
      "[INFO] No ToC found\n",
      "[INFO] Found a ToC!\n",
      "[WARNING] Section ii_1 was found to be empty.\n",
      "[INFO] Found a ToC!\n",
      "[WARNING] Section ii_1a was found to be empty.\n",
      "[INFO] Found a ToC!\n",
      "[WARNING] Section _i_2 was found to be empty.\n",
      "[INFO] Comparing current qtr (2010, 2) to qtr (2010, 1) from 1 quarter ago.\n",
      "{'diff_jaccard': 0.8768375609960116, 'diff_cosine_tf': 0.972769129978622, 'diff_cosine_tf_idf': 0.9585745913888634, 'diff_minEdit': 1.0, 'diff_simple': 1.0, 'sing_LoughranMcDonald': -0.0032807485170991686, '0': {'type': '10-Q', 'published': datetime.date(2012, 8, 6), 'qtr': (2012, 3)}}\n",
      "[INFO] Comparing current qtr (2012, 4) to qtr (2012, 3) from 1 quarter ago.\n",
      "[INFO] Found a ToC!\n",
      "[INFO] Found a ToC!\n",
      "[WARNING] Section _i_2 was found to be empty.\n",
      "[WARNING] Section _i_3 was found to be empty.\n",
      "[WARNING] Section _i_4 was found to be empty.\n",
      "[WARNING] Section ii_1 was found to be empty.\n",
      "[WARNING] Section ii_1a was found to be empty.\n",
      "{'diff_jaccard': 0.8049229176799739, 'diff_cosine_tf': 0.9764608199179434, 'diff_cosine_tf_idf': 0.9623702991338029, 'diff_minEdit': 1.0, 'diff_simple': 1.0, 'sing_LoughranMcDonald': -0.00282522547091381, '0': {'type': '10-Q', 'published': datetime.date(2012, 11, 7), 'qtr': (2012, 4)}}\n"
     ]
    },
    {
     "name": "stderr",
     "output_type": "stream",
     "text": [
      "\n",
      " 11%|█         | 106/1000 [01:16<08:48,  1.69it/s]\u001b[A\n",
      "\n",
      "106it [01:16,  1.69it/s]\u001b[A\u001b[A"
     ]
    },
    {
     "name": "stdout",
     "output_type": "stream",
     "text": [
      "{'diff_jaccard': 0.40403832103185855, 'diff_cosine_tf': 0.8900441682620193, 'diff_cosine_tf_idf': 0.874801618191094, 'diff_minEdit': 0.7185411821333947, 'diff_simple': 0.7370750632555525, 'sing_LoughranMcDonald': -0.0012435094116972723, '0': {'type': '10-Q', 'published': datetime.date(2012, 5, 8), 'qtr': (2012, 2)}}\n",
      "[INFO] Found a ToC!\n",
      "[INFO] Comparing current qtr (2012, 3) to qtr (2012, 2) from 1 quarter ago.\n",
      "{'diff_jaccard': 0.00577428512252128, 'diff_cosine_tf': 0.3559689573290519, 'diff_cosine_tf_idf': 0.2714028629888687, 'diff_minEdit': 0.9205610837473142, 'diff_simple': 0.7830556182097741, 'sing_LoughranMcDonald': -0.0008825523834951829, '0': {'type': '10-Q', 'published': datetime.date(2010, 5, 10), 'qtr': (2010, 2)}}\n",
      "[INFO] Comparing current qtr (2010, 3) to qtr (2010, 2) from 1 quarter ago.\n",
      "[INFO] Found a ToC!\n",
      "[INFO] No ToC found\n",
      "[WARNING] Section 7 was found to be empty.\n",
      "[WARNING] Section 7a was found to be empty.\n",
      "[ERROR] Here is full_sect: |[]|\n",
      "[ERROR] Original res: {'_i_1': [], '_i_2': [], '_i_3': [], '_i_4': [], 'ii_1': [], 'ii_1a': [], 'ii_2': [], 'ii_3': [], 'ii_4': [], 'ii_5': [], 'ii_6': []}\n",
      "[WARNING] /home/alex/Desktop/filtered_text_data/nd_data/2010/QTR2/20100517_10-Q_edgar_data_1425715_0001144204-10-027952_1.txt failed parsing\n"
     ]
    },
    {
     "name": "stderr",
     "output_type": "stream",
     "text": [
      "\n",
      " 11%|█         | 107/1000 [01:16<07:18,  2.04it/s]\u001b[A\n",
      "\n",
      "107it [01:16,  2.04it/s]\u001b[A\u001b[A"
     ]
    },
    {
     "name": "stdout",
     "output_type": "stream",
     "text": [
      "{'diff_jaccard': 0.7799454143074839, 'diff_cosine_tf': 0.9901372961778099, 'diff_cosine_tf_idf': 0.9887476359922713, 'diff_minEdit': 1.0, 'diff_simple': 1.0, 'sing_LoughranMcDonald': -0.0009983523247752658, '0': {'type': '10-Q', 'published': datetime.date(2012, 8, 7), 'qtr': (2012, 3)}}\n",
      "[INFO] Comparing current qtr (2012, 4) to qtr (2012, 3) from 1 quarter ago.\n",
      "[INFO] No ToC found\n",
      "{'diff_jaccard': 0.6876934196204983, 'diff_cosine_tf': 0.9648603248446737, 'diff_cosine_tf_idf': 0.9551349958965685, 'diff_minEdit': 1.0, 'diff_simple': 1.0, 'sing_LoughranMcDonald': -0.0006890860571734978, '0': {'type': '10-Q', 'published': datetime.date(2010, 8, 4), 'qtr': (2010, 3)}}\n",
      "[INFO] Comparing current qtr (2010, 4) to qtr (2010, 3) from 1 quarter ago.\n",
      "[INFO] No ToC found\n",
      "{'diff_jaccard': 0.7606442712428936, 'diff_cosine_tf': 0.9869525063775109, 'diff_cosine_tf_idf': 0.9842111929743583, 'diff_minEdit': 0.9983401015109753, 'diff_simple': 0.9966138070823894, 'sing_LoughranMcDonald': -0.0007847812265855005, '0': {'type': '10-Q', 'published': datetime.date(2012, 11, 6), 'qtr': (2012, 4)}}\n"
     ]
    },
    {
     "name": "stderr",
     "output_type": "stream",
     "text": [
      "\n",
      " 11%|█         | 108/1000 [01:17<06:33,  2.27it/s]\u001b[A\n",
      "\n",
      "108it [01:17,  2.25it/s]\u001b[A\u001b[A"
     ]
    },
    {
     "name": "stdout",
     "output_type": "stream",
     "text": [
      "[INFO] No ToC found\n",
      "[INFO] Comparing current qtr (2012, 3) to qtr (2012, 2) from 1 quarter ago.\n",
      "{'diff_jaccard': 0.7470804753246199, 'diff_cosine_tf': 0.9787195160376305, 'diff_cosine_tf_idf': 0.974476027998713, 'diff_minEdit': 1.0, 'diff_simple': 1.0, 'sing_LoughranMcDonald': -0.0007135643140787558, '0': {'type': '10-Q', 'published': datetime.date(2010, 11, 4), 'qtr': (2010, 4)}}\n",
      "[INFO] Comparing current qtr (2011, 1) to qtr (2010, 4) from 1 quarter ago.\n",
      "[INFO] Found a ToC!\n",
      "{'diff_jaccard': 0.8011008154592826, 'diff_cosine_tf': 0.9727528630138694, 'diff_cosine_tf_idf': 0.9543335588103286, 'diff_minEdit': 0.9932636502964949, 'diff_simple': 0.9821981646114138, 'sing_LoughranMcDonald': -0.0017325902807443156, '0': {'type': '10-Q', 'published': datetime.date(2012, 9, 7), 'qtr': (2012, 3)}}\n",
      "{'diff_jaccard': 0.004913506555796155, 'diff_cosine_tf': 0.3475939013669809, 'diff_cosine_tf_idf': 0.26618977384482556, 'diff_minEdit': 0.9213734105266187, 'diff_simple': 0.7616045648263636, 'sing_LoughranMcDonald': 0.0, '0': {'type': '10-K', 'published': datetime.date(2011, 3, 8), 'qtr': (2011, 1)}}\n",
      "[INFO] Comparing current qtr (2012, 4) to qtr (2012, 3) from 1 quarter ago.\n",
      "[INFO] Comparing current qtr (2011, 2) to qtr (2011, 1) from 1 quarter ago.\n",
      "[INFO] Found a ToC!\n",
      "[INFO] No ToC found\n",
      "idx_first_qtr: 11 | idx_last_qtr: 11 | lag: 1\n",
      "[WARNING] Not enough valid reports for CIK 1270073 in this time_range. Skipping.\n"
     ]
    },
    {
     "name": "stderr",
     "output_type": "stream",
     "text": [
      "\n",
      " 11%|█         | 109/1000 [01:17<06:24,  2.32it/s]\u001b[A\n",
      "\n",
      "109it [01:17,  2.32it/s]\u001b[A\u001b[A"
     ]
    },
    {
     "name": "stdout",
     "output_type": "stream",
     "text": [
      "[INFO] Found a ToC!\n",
      "{'diff_jaccard': 0.00566376062529836, 'diff_cosine_tf': 0.3843671290677553, 'diff_cosine_tf_idf': 0.2942916580604037, 'diff_minEdit': 0.9192799948821145, 'diff_simple': 0.8258711228126557, 'sing_LoughranMcDonald': -0.0007779237116775433, '0': {'type': '10-Q', 'published': datetime.date(2011, 5, 9), 'qtr': (2011, 2)}}\n",
      "[INFO] Comparing current qtr (2011, 3) to qtr (2011, 2) from 1 quarter ago.\n",
      "{'diff_jaccard': 0.8254909837021966, 'diff_cosine_tf': 0.962546287003027, 'diff_cosine_tf_idf': 0.9461184593449664, 'diff_minEdit': 0.9994869286114858, 'diff_simple': 0.9995484971781075, 'sing_LoughranMcDonald': -0.0017485696548325458, '0': {'type': '10-Q', 'published': datetime.date(2012, 12, 4), 'qtr': (2012, 4)}}\n",
      "[INFO] Found a ToC!\n",
      "[INFO] No ToC found\n",
      "[INFO] No ToC found\n",
      "[INFO] Found a ToC!\n",
      "[INFO] No ToC found\n",
      "[INFO] No ToC found\n",
      "{'diff_jaccard': 0.7922349429465991, 'diff_cosine_tf': 0.9733397080964535, 'diff_cosine_tf_idf': 0.9707038715950416, 'diff_minEdit': 1.0, 'diff_simple': 1.0, 'sing_LoughranMcDonald': -0.0006341494360600024, '0': {'type': '10-Q', 'published': datetime.date(2011, 7, 27), 'qtr': (2011, 3)}}\n",
      "[INFO] Comparing current qtr (2011, 4) to qtr (2011, 3) from 1 quarter ago.\n",
      "[INFO] No ToC found\n",
      "[INFO] Found a ToC!\n",
      "[WARNING] Section ii_1a was found to be empty.\n",
      "[INFO] No ToC found\n",
      "[WARNING] Section _i_4 was found to be empty.\n",
      "[WARNING] Section ii_1 was found to be empty.\n",
      "{'diff_jaccard': 0.7499560152850204, 'diff_cosine_tf': 0.9762404445842531, 'diff_cosine_tf_idf': 0.9701362517160431, 'diff_minEdit': 0.9990248490248491, 'diff_simple': 0.9998732303732304, 'sing_LoughranMcDonald': -0.0005854002256711271, '0': {'type': '10-Q', 'published': datetime.date(2011, 10, 28), 'qtr': (2011, 4)}}\n",
      "[INFO] Comparing current qtr (2012, 1) to qtr (2011, 4) from 1 quarter ago.\n",
      "[INFO] No ToC found\n",
      "[WARNING] Section _i_2 was found to be empty.\n",
      "[WARNING] Section _i_3 was found to be empty.\n",
      "[WARNING] Section _i_4 was found to be empty.\n",
      "{'diff_jaccard': 0.005004349869468118, 'diff_cosine_tf': 0.3511397338361803, 'diff_cosine_tf_idf': 0.2667720253057959, 'diff_minEdit': 0.9237037564229433, 'diff_simple': 0.7976833750620805, 'sing_LoughranMcDonald': 0.0, '0': {'type': '10-K', 'published': datetime.date(2012, 2, 29), 'qtr': (2012, 1)}}\n",
      "[WARNING] Section ii_1 was found to be empty.\n",
      "[WARNING] Section ii_1a was found to be empty.\n",
      "[INFO] Comparing current qtr (2012, 2) to qtr (2012, 1) from 1 quarter ago.\n",
      "{'diff_jaccard': 0.02183305275346198, 'diff_cosine_tf': 0.16637510858388757, 'diff_cosine_tf_idf': 0.10819347335819635, 'diff_minEdit': 0.7608163866784556, 'diff_simple': 0.3896227214125266, 'sing_LoughranMcDonald': -0.01011736725666584, '0': {'type': '10-Q', 'published': datetime.date(2012, 5, 9), 'qtr': (2012, 2)}}\n",
      "[INFO] No ToC found\n",
      "[INFO] Comparing current qtr (2012, 3) to qtr (2012, 2) from 1 quarter ago.\n",
      "[WARNING] Section 1a was found to be empty.\n",
      "[WARNING] Section 3 was found to be empty.\n",
      "[WARNING] Section 7 was found to be empty.\n",
      "[WARNING] Section 7a was found to be empty.\n",
      "[WARNING] Section 9a was found to be empty.\n",
      "[INFO] Found a ToC!\n",
      "[WARNING] Section ii_1 was found to be empty.\n",
      "[INFO] Found a ToC!\n",
      "[WARNING] Section ii_1a was found to be empty.\n",
      "[ERROR] Here is full_sect: |[]|\n",
      "[ERROR] Original res: {'_i_1': [], '_i_2': [], '_i_3': [], '_i_4': [], 'ii_1': [], 'ii_1a': [], 'ii_2': [], 'ii_3': [], 'ii_4': [], 'ii_5': [], 'ii_6': []}\n",
      "[WARNING] /home/alex/Desktop/filtered_text_data/nd_data/2010/QTR2/20100510_10-Q_edgar_data_1016125_0001016125-10-000011_1.txt failed parsing\n"
     ]
    },
    {
     "name": "stderr",
     "output_type": "stream",
     "text": [
      "\n",
      " 11%|█         | 111/1000 [01:18<06:51,  2.16it/s]\u001b[A\n",
      "\n",
      "111it [01:18,  2.16it/s]\u001b[A\u001b[A"
     ]
    },
    {
     "name": "stdout",
     "output_type": "stream",
     "text": [
      "[INFO] Found a ToC!\n",
      "{'diff_jaccard': 0.0817815952344688, 'diff_cosine_tf': 0.17123225709037715, 'diff_cosine_tf_idf': 0.14108812646499194, 'diff_minEdit': 0.6231292978962653, 'diff_simple': 0.27471689650299347, 'sing_LoughranMcDonald': -0.0004585849562343904, '0': {'type': '10-Q', 'published': datetime.date(2012, 8, 6), 'qtr': (2012, 3)}}\n",
      "[INFO] Comparing current qtr (2012, 4) to qtr (2012, 3) from 1 quarter ago.\n",
      "[INFO] Found a ToC!\n",
      "[INFO] No ToC found\n",
      "{'diff_jaccard': 0.0969372271064527, 'diff_cosine_tf': 0.1784727648031565, 'diff_cosine_tf_idf': 0.14881119654607794, 'diff_minEdit': 0.7697025452315241, 'diff_simple': 0.21839505045752364, 'sing_LoughranMcDonald': -0.008602826003384946, '0': {'type': '10-Q', 'published': datetime.date(2012, 10, 26), 'qtr': (2012, 4)}}\n"
     ]
    },
    {
     "name": "stderr",
     "output_type": "stream",
     "text": [
      "\n",
      " 11%|█         | 112/1000 [01:18<05:50,  2.54it/s]\u001b[A\n",
      "\n",
      "112it [01:18,  2.56it/s]\u001b[A\u001b[A"
     ]
    },
    {
     "name": "stdout",
     "output_type": "stream",
     "text": [
      "[INFO] No ToC found\n",
      "[INFO] No ToC found\n",
      "[INFO] Found a ToC!\n",
      "[INFO] Found a ToC!\n",
      "[WARNING] Section ii_1 was found to be empty.\n",
      "[INFO] Found a ToC!\n",
      "[WARNING] Section ii_1 was found to be empty.\n",
      "[WARNING] Section ii_1a was found to be empty.\n",
      "[INFO] Comparing current qtr (2010, 2) to qtr (2010, 1) from 1 quarter ago.\n",
      "[INFO] Found a ToC!\n",
      "[WARNING] Section 1a was found to be empty.\n",
      "[WARNING] Section 3 was found to be empty.\n",
      "[INFO] No ToC found\n",
      "[WARNING] Section 7 was found to be empty.\n",
      "[WARNING] Section 7a was found to be empty.\n",
      "[WARNING] Section 9a was found to be empty.\n",
      "[INFO] Found a ToC!\n",
      "[WARNING] Section ii_1 was found to be empty.\n",
      "{'diff_jaccard': 0.3613046079493685, 'diff_cosine_tf': 0.8284428301933479, 'diff_cosine_tf_idf': 0.8018996124671522, 'diff_minEdit': 0.7533731545058396, 'diff_simple': 0.6857068788501026, 'sing_LoughranMcDonald': -0.0019595544858431136, '0': {'type': '10-Q', 'published': datetime.date(2010, 5, 21), 'qtr': (2010, 2)}}\n",
      "[INFO] No ToC found\n",
      "[INFO] Comparing current qtr (2010, 3) to qtr (2010, 2) from 1 quarter ago.\n",
      "[WARNING] Section ii_1 was found to be empty.\n",
      "[INFO] No ToC found\n",
      "[INFO] Found a ToC!\n",
      "[INFO] No ToC found\n",
      "[WARNING] Section _i_3 was found to be empty.\n",
      "[WARNING] Section ii_1 was found to be empty.\n",
      "[INFO] Found a ToC!\n",
      "[WARNING] Section ii_1 was found to be empty.\n",
      "{'diff_jaccard': 0.8255464520586951, 'diff_cosine_tf': 0.9842878565058447, 'diff_cosine_tf_idf': 0.9766271950000273, 'diff_minEdit': 0.9936307369633164, 'diff_simple': 0.9765611120250042, 'sing_LoughranMcDonald': -0.0017779630229908454, '0': {'type': '10-Q', 'published': datetime.date(2010, 8, 13), 'qtr': (2010, 3)}}\n",
      "[INFO] Comparing current qtr (2010, 4) to qtr (2010, 3) from 1 quarter ago.\n",
      "[INFO] Found a ToC!\n",
      "[INFO] No ToC found\n",
      "[WARNING] Section ii_1a was found to be empty.\n",
      "[WARNING] Section ii_1 was found to be empty.\n",
      "[INFO] Comparing current qtr (2010, 2) to qtr (2010, 1) from 1 quarter ago.\n",
      "[INFO] No ToC found\n",
      "[INFO] No ToC found\n",
      "{'diff_jaccard': 0.7852857035767156, 'diff_cosine_tf': 0.9725121825431252, 'diff_cosine_tf_idf': 0.9614113237146723, 'diff_minEdit': 0.9980776038609243, 'diff_simple': 0.9928102384398569, 'sing_LoughranMcDonald': -0.0016854086377588481, '0': {'type': '10-Q', 'published': datetime.date(2010, 11, 5), 'qtr': (2010, 4)}}\n",
      "[INFO] Comparing current qtr (2011, 1) to qtr (2010, 4) from 1 quarter ago.\n",
      "{'diff_jaccard': 0.003616172276149031, 'diff_cosine_tf': 0.08148864177801998, 'diff_cosine_tf_idf': 0.04970395876974203, 'diff_minEdit': 0.7215944870920743, 'diff_simple': 0.1613007801400858, 'sing_LoughranMcDonald': -0.0002348199751911127, '0': {'type': '10-Q', 'published': datetime.date(2010, 5, 10), 'qtr': (2010, 2)}}\n",
      "[INFO] Comparing current qtr (2010, 3) to qtr (2010, 2) from 1 quarter ago.\n",
      "[INFO] No ToC found\n",
      "This is the res {'_i_1': [(61175, 61194)], '_i_2': [], '_i_3': [(93136, 93157)], '_i_4': [(93401, 93418)], 'ii_1': [(94519, 94533)], 'ii_1a': [(94653, 94667)], 'ii_2': [(120370, 120391)], 'ii_3': [(120500, 120517)], 'ii_5': [(120582, 120596)], 'ii_6': [(120650, 120667)]}\n",
      "[WARNING] /home/alex/Desktop/filtered_text_data/nd_data/2010/QTR3/20100806_10-Q_edgar_data_868671_0000950123-10-074135_1.txt failed parsing\n"
     ]
    },
    {
     "name": "stderr",
     "output_type": "stream",
     "text": [
      "\n",
      " 11%|█▏        | 113/1000 [01:19<08:25,  1.75it/s]\u001b[A\n",
      "\n",
      "113it [01:19,  1.76it/s]\u001b[A\u001b[A"
     ]
    },
    {
     "name": "stdout",
     "output_type": "stream",
     "text": [
      "{'diff_jaccard': 0.7794143030448523, 'diff_cosine_tf': 0.9596324446437189, 'diff_cosine_tf_idf': 0.9570927667039413, 'diff_minEdit': 1.0, 'diff_simple': 1.0, 'sing_LoughranMcDonald': -0.0001834689627546282, '0': {'type': '10-Q', 'published': datetime.date(2010, 8, 9), 'qtr': (2010, 3)}}\n",
      "[INFO] Comparing current qtr (2010, 4) to qtr (2010, 3) from 1 quarter ago.\n",
      "{'diff_jaccard': 0.3883206855104654, 'diff_cosine_tf': 0.9246914143685645, 'diff_cosine_tf_idf': 0.9058678382836756, 'diff_minEdit': 0.8254136173925587, 'diff_simple': 0.6338110330255845, 'sing_LoughranMcDonald': -0.0009515957133119958, '0': {'type': '10-K', 'published': datetime.date(2011, 2, 25), 'qtr': (2011, 1)}}\n",
      "[INFO] Found a ToC!\n",
      "[INFO] Comparing current qtr (2011, 2) to qtr (2011, 1) from 1 quarter ago.\n",
      "{'diff_jaccard': 0.0034062278133346136, 'diff_cosine_tf': 0.09360916258113341, 'diff_cosine_tf_idf': 0.057096005417107486, 'diff_minEdit': 0.7369465329991646, 'diff_simple': 0.1504127721408946, 'sing_LoughranMcDonald': 0.0, '0': {'type': '10-Q', 'published': datetime.date(2010, 11, 8), 'qtr': (2010, 4)}}\n",
      "[INFO] Comparing current qtr (2011, 1) to qtr (2010, 4) from 1 quarter ago.\n",
      "[INFO] No ToC found\n",
      "{'diff_jaccard': 0.3255641890463619, 'diff_cosine_tf': 0.8632012506875246, 'diff_cosine_tf_idf': 0.8410420770778826, 'diff_minEdit': 0.7367271872204973, 'diff_simple': 0.6648934356351237, 'sing_LoughranMcDonald': -0.0015982646550406709, '0': {'type': '10-Q', 'published': datetime.date(2011, 5, 20), 'qtr': (2011, 2)}}\n",
      "[INFO] Comparing current qtr (2011, 3) to qtr (2011, 2) from 1 quarter ago.\n",
      "[INFO] No ToC found\n",
      "[INFO] No ToC found\n",
      "{'diff_jaccard': 0.763366134486924, 'diff_cosine_tf': 0.9660728030501875, 'diff_cosine_tf_idf': 0.9525015549645724, 'diff_minEdit': 0.9771780955728299, 'diff_simple': 0.9798448048420889, 'sing_LoughranMcDonald': -0.0015853452107878743, '0': {'type': '10-Q', 'published': datetime.date(2011, 8, 12), 'qtr': (2011, 3)}}\n",
      "[INFO] Comparing current qtr (2011, 4) to qtr (2011, 3) from 1 quarter ago.\n",
      "[INFO] Found a ToC!\n",
      "[INFO] Comparing current qtr (2010, 2) to qtr (2010, 1) from 1 quarter ago.\n",
      "{'diff_jaccard': 0.0014658313722785551, 'diff_cosine_tf': 0.06763853286431232, 'diff_cosine_tf_idf': 0.039182587174731116, 'diff_minEdit': 0.6302098767971441, 'diff_simple': 0.2060715622373968, 'sing_LoughranMcDonald': -0.00021874474933118726, '0': {'type': '10-K', 'published': datetime.date(2011, 3, 15), 'qtr': (2011, 1)}}\n",
      "[INFO] Comparing current qtr (2011, 2) to qtr (2011, 1) from 1 quarter ago.\n",
      "[INFO] No ToC found\n",
      "[INFO] Comparing current qtr (2010, 2) to qtr (2010, 1) from 1 quarter ago.\n",
      "[INFO] Found a ToC!\n",
      "{'diff_jaccard': 0.5658194851743238, 'diff_cosine_tf': 0.7139580217514561, 'diff_cosine_tf_idf': 0.6195433339421731, 'diff_minEdit': 0.9032258064516129, 'diff_simple': 0.8093653304816293, 'sing_LoughranMcDonald': 0.0, '0': {'type': '10-Q', 'published': datetime.date(2010, 5, 7), 'qtr': (2010, 2)}}\n",
      "{'diff_jaccard': 0.7031232045420157, 'diff_cosine_tf': 0.969306070016128, 'diff_cosine_tf_idf': 0.9550509304240559, 'diff_minEdit': 0.9815351621981456, 'diff_simple': 0.9773322809786898, 'sing_LoughranMcDonald': -0.0015480250060274532, '0': {'type': '10-Q', 'published': datetime.date(2011, 11, 4), 'qtr': (2011, 4)}}\n",
      "[INFO] Comparing current qtr (2012, 1) to qtr (2011, 4) from 1 quarter ago.\n",
      "[INFO] Comparing current qtr (2010, 3) to qtr (2010, 2) from 1 quarter ago.\n",
      "{'diff_jaccard': 0.7016890213611525, 'diff_cosine_tf': 0.8266681292796572, 'diff_cosine_tf_idf': 0.7271555110606721, 'diff_minEdit': 0.9016393442622952, 'diff_simple': 0.9650530181429058, 'sing_LoughranMcDonald': 0.0, '0': {'type': '10-Q', 'published': datetime.date(2010, 8, 9), 'qtr': (2010, 3)}}\n",
      "[INFO] Comparing current qtr (2010, 4) to qtr (2010, 3) from 1 quarter ago.\n",
      "{'diff_jaccard': 0.9112903225806451, 'diff_cosine_tf': 0.9404973396128813, 'diff_cosine_tf_idf': 0.9039256432949878, 'diff_minEdit': 0.967741935483871, 'diff_simple': 0.989685600748013, 'sing_LoughranMcDonald': 0.0, '0': {'type': '10-Q', 'published': datetime.date(2010, 11, 9), 'qtr': (2010, 4)}}\n",
      "[INFO] Comparing current qtr (2011, 1) to qtr (2010, 4) from 1 quarter ago.\n",
      "[INFO] Found a ToC!\n",
      "[INFO] No ToC found\n",
      "[WARNING] Section _i_3 was found to be empty.\n",
      "{'diff_jaccard': 0.563011063011063, 'diff_cosine_tf': 0.6920965367789295, 'diff_cosine_tf_idf': 0.6017983361516396, 'diff_minEdit': 0.9047619047619048, 'diff_simple': 0.8023512967121991, 'sing_LoughranMcDonald': 0.0, '0': {'type': '10-K', 'published': datetime.date(2011, 3, 16), 'qtr': (2011, 1)}}\n",
      "{'diff_jaccard': 0.37782381574836416, 'diff_cosine_tf': 0.8054275205438186, 'diff_cosine_tf_idf': 0.7751113956457061, 'diff_minEdit': 0.8748889959385056, 'diff_simple': 0.8068455544795708, 'sing_LoughranMcDonald': -0.0005216091884027893, '0': {'type': '10-Q', 'published': datetime.date(2011, 5, 10), 'qtr': (2011, 2)}}\n",
      "[INFO] Comparing current qtr (2011, 3) to qtr (2011, 2) from 1 quarter ago.\n",
      "[INFO] Comparing current qtr (2011, 2) to qtr (2011, 1) from 1 quarter ago.\n",
      "{'diff_jaccard': 0.5581609748276415, 'diff_cosine_tf': 0.6996219194254576, 'diff_cosine_tf_idf': 0.6073469412528918, 'diff_minEdit': 0.9047619047619048, 'diff_simple': 0.794525545465395, 'sing_LoughranMcDonald': 0.0, '0': {'type': '10-Q', 'published': datetime.date(2011, 5, 10), 'qtr': (2011, 2)}}\n",
      "[INFO] Comparing current qtr (2011, 3) to qtr (2011, 2) from 1 quarter ago.\n",
      "[INFO] Found a ToC!\n",
      "{'diff_jaccard': 0.004916907711936107, 'diff_cosine_tf': 0.08715900837282071, 'diff_cosine_tf_idf': 0.050916350619568486, 'diff_minEdit': 0.7292206957560544, 'diff_simple': 0.16059375517468646, 'sing_LoughranMcDonald': 0.0, '0': {'type': '10-Q', 'published': datetime.date(2011, 8, 9), 'qtr': (2011, 3)}}\n",
      "[INFO] Comparing current qtr (2011, 4) to qtr (2011, 3) from 1 quarter ago.\n",
      "{'diff_jaccard': 0.7011241446725317, 'diff_cosine_tf': 0.7924697789032094, 'diff_cosine_tf_idf': 0.6841300470160885, 'diff_minEdit': 0.903225806451613, 'diff_simple': 0.9679883639035111, 'sing_LoughranMcDonald': 0.0, '0': {'type': '10-Q', 'published': datetime.date(2011, 8, 9), 'qtr': (2011, 3)}}\n",
      "[INFO] Found a ToC!\n",
      "[INFO] Comparing current qtr (2011, 4) to qtr (2011, 3) from 1 quarter ago.\n",
      "{'diff_jaccard': 0.4123534556919033, 'diff_cosine_tf': 0.8714659258607812, 'diff_cosine_tf_idf': 0.8533738950293485, 'diff_minEdit': 0.8012051438474477, 'diff_simple': 0.6886982327147096, 'sing_LoughranMcDonald': -0.000980071616071376, '0': {'type': '10-K', 'published': datetime.date(2012, 2, 23), 'qtr': (2012, 1)}}\n",
      "[WARNING] Section _i_3 was found to be empty.\n",
      "[INFO] Comparing current qtr (2012, 2) to qtr (2012, 1) from 1 quarter ago.\n",
      "{'diff_jaccard': 0.7011241446725317, 'diff_cosine_tf': 0.7924697789032094, 'diff_cosine_tf_idf': 0.6841300470160885, 'diff_minEdit': 0.903225806451613, 'diff_simple': 0.9629611330698287, 'sing_LoughranMcDonald': 0.0, '0': {'type': '10-Q', 'published': datetime.date(2011, 11, 9), 'qtr': (2011, 4)}}\n",
      "[INFO] Comparing current qtr (2012, 1) to qtr (2011, 4) from 1 quarter ago.\n",
      "[INFO] Found a ToC!\n",
      "[WARNING] Section _i_2 was found to be empty.\n",
      "{'diff_jaccard': 0.5402175602175603, 'diff_cosine_tf': 0.6811933371710154, 'diff_cosine_tf_idf': 0.5903947609814426, 'diff_minEdit': 0.923076923076923, 'diff_simple': 0.7617552622815782, 'sing_LoughranMcDonald': 0.0, '0': {'type': '10-K', 'published': datetime.date(2012, 3, 15), 'qtr': (2012, 1)}}\n",
      "[INFO] Found a ToC!\n",
      "[INFO] Comparing current qtr (2012, 2) to qtr (2012, 1) from 1 quarter ago.\n",
      "[WARNING] Section ii_1 was found to be empty.\n",
      "{'diff_jaccard': 0.544918414918415, 'diff_cosine_tf': 0.673899504759765, 'diff_cosine_tf_idf': 0.5850168821909981, 'diff_minEdit': 0.923076923076923, 'diff_simple': 0.7682329950751005, 'sing_LoughranMcDonald': 0.0, '0': {'type': '10-Q', 'published': datetime.date(2012, 5, 9), 'qtr': (2012, 2)}}\n",
      "[INFO] Comparing current qtr (2012, 3) to qtr (2012, 2) from 1 quarter ago.\n",
      "[INFO] Found a ToC!\n",
      "{'diff_jaccard': 0.7226295210166178, 'diff_cosine_tf': 0.7741935483870965, 'diff_cosine_tf_idf': 0.6638627953155131, 'diff_minEdit': 0.903225806451613, 'diff_simple': 0.9679883639035111, 'sing_LoughranMcDonald': 0.0, '0': {'type': '10-Q', 'published': datetime.date(2012, 8, 9), 'qtr': (2012, 3)}}\n",
      "[INFO] Comparing current qtr (2012, 4) to qtr (2012, 3) from 1 quarter ago.\n"
     ]
    },
    {
     "name": "stdout",
     "output_type": "stream",
     "text": [
      "[INFO] Found a ToC!\n",
      "[WARNING] Section _i_3 was found to be empty.\n",
      "{'diff_jaccard': 0.0036181888282543224, 'diff_cosine_tf': 0.30278377485707975, 'diff_cosine_tf_idf': 0.2559878759199334, 'diff_minEdit': 0.6539191330209874, 'diff_simple': 0.25704286384118386, 'sing_LoughranMcDonald': -0.000490770746375502, '0': {'type': '10-Q', 'published': datetime.date(2010, 5, 5), 'qtr': (2010, 2)}}\n",
      "{'diff_jaccard': 0.0028095338787924016, 'diff_cosine_tf': 0.08762692018458945, 'diff_cosine_tf_idf': 0.051039881379465864, 'diff_minEdit': 0.7103606174048075, 'diff_simple': 0.16476249117952807, 'sing_LoughranMcDonald': -0.0002873802698319433, '0': {'type': '10-Q', 'published': datetime.date(2011, 11, 9), 'qtr': (2011, 4)}}\n",
      "[INFO] Comparing current qtr (2012, 1) to qtr (2011, 4) from 1 quarter ago.\n",
      "[INFO] Comparing current qtr (2010, 3) to qtr (2010, 2) from 1 quarter ago.\n",
      "{'diff_jaccard': 0.7011241446725317, 'diff_cosine_tf': 0.7924697789032094, 'diff_cosine_tf_idf': 0.6841300470160885, 'diff_minEdit': 0.903225806451613, 'diff_simple': 0.9629611330698287, 'sing_LoughranMcDonald': 0.0, '0': {'type': '10-Q', 'published': datetime.date(2012, 11, 9), 'qtr': (2012, 4)}}\n"
     ]
    },
    {
     "name": "stderr",
     "output_type": "stream",
     "text": [
      "\n",
      " 11%|█▏        | 114/1000 [01:21<10:51,  1.36it/s]\u001b[A\n",
      "\n",
      "114it [01:21,  1.36it/s]\u001b[A\u001b[A"
     ]
    },
    {
     "name": "stdout",
     "output_type": "stream",
     "text": [
      "{'diff_jaccard': 0.35963317623073315, 'diff_cosine_tf': 0.8479340776542704, 'diff_cosine_tf_idf': 0.8226094564901448, 'diff_minEdit': 0.7380344022127757, 'diff_simple': 0.6649148430066603, 'sing_LoughranMcDonald': -0.0017372441044190127, '0': {'type': '10-Q', 'published': datetime.date(2012, 5, 17), 'qtr': (2012, 2)}}\n",
      "[INFO] Comparing current qtr (2012, 3) to qtr (2012, 2) from 1 quarter ago.\n",
      "[INFO] Found a ToC!\n",
      "[INFO] Found a ToC!\n",
      "{'diff_jaccard': 0.0028095338787924016, 'diff_cosine_tf': 0.08762692018458945, 'diff_cosine_tf_idf': 0.051039881379465864, 'diff_minEdit': 0.7388348312598488, 'diff_simple': 0.14378314588864335, 'sing_LoughranMcDonald': 0.0, '0': {'type': '10-K', 'published': datetime.date(2012, 3, 15), 'qtr': (2012, 1)}}\n",
      "[INFO] Comparing current qtr (2012, 2) to qtr (2012, 1) from 1 quarter ago.\n",
      "[WARNING] Section ii_1 was found to be empty.\n",
      "{'diff_jaccard': 0.004599517690528766, 'diff_cosine_tf': 0.08161729476727729, 'diff_cosine_tf_idf': 0.05019680618837297, 'diff_minEdit': 0.7271313797710892, 'diff_simple': 0.1596135250509037, 'sing_LoughranMcDonald': -0.0010682074870097557, '0': {'type': '10-Q', 'published': datetime.date(2012, 5, 8), 'qtr': (2012, 2)}}\n",
      "[INFO] Comparing current qtr (2012, 3) to qtr (2012, 2) from 1 quarter ago.\n",
      "{'diff_jaccard': 0.8125698072184487, 'diff_cosine_tf': 0.9720830219971324, 'diff_cosine_tf_idf': 0.9573032367311967, 'diff_minEdit': 1.0, 'diff_simple': 1.0, 'sing_LoughranMcDonald': -0.0016330089249955112, '0': {'type': '10-Q', 'published': datetime.date(2012, 8, 10), 'qtr': (2012, 3)}}\n",
      "[INFO] Comparing current qtr (2012, 4) to qtr (2012, 3) from 1 quarter ago.\n",
      "[INFO] Found a ToC!\n",
      "[WARNING] Section ii_1 was found to be empty.\n",
      "[INFO] No ToC found\n",
      "{'diff_jaccard': 0.6800511447032193, 'diff_cosine_tf': 0.9442326506626745, 'diff_cosine_tf_idf': 0.9379958879537921, 'diff_minEdit': 0.9870910384068279, 'diff_simple': 0.9744900195997523, 'sing_LoughranMcDonald': -0.0006654069249372591, '0': {'type': '10-Q', 'published': datetime.date(2012, 8, 9), 'qtr': (2012, 3)}}\n",
      "[INFO] Comparing current qtr (2012, 4) to qtr (2012, 3) from 1 quarter ago.\n",
      "{'diff_jaccard': 0.6864084562523276, 'diff_cosine_tf': 0.9837845239781072, 'diff_cosine_tf_idf': 0.9821529587022514, 'diff_minEdit': 0.997375470196608, 'diff_simple': 0.993397951246103, 'sing_LoughranMcDonald': -0.0002763761081135788, '0': {'type': '10-Q', 'published': datetime.date(2010, 8, 5), 'qtr': (2010, 3)}}\n",
      "[INFO] Comparing current qtr (2010, 4) to qtr (2010, 3) from 1 quarter ago.\n",
      "{'diff_jaccard': 0.7753064600972034, 'diff_cosine_tf': 0.9349978412595306, 'diff_cosine_tf_idf': 0.9200598239843013, 'diff_minEdit': 0.9860615741118884, 'diff_simple': 0.9701300833536337, 'sing_LoughranMcDonald': -0.0004306330494202483, '0': {'type': '10-Q', 'published': datetime.date(2012, 11, 2), 'qtr': (2012, 4)}}\n"
     ]
    },
    {
     "name": "stderr",
     "output_type": "stream",
     "text": [
      "\n",
      " 12%|█▏        | 115/1000 [01:21<09:30,  1.55it/s]\u001b[A\n",
      "\n",
      "115it [01:21,  1.55it/s]\u001b[A\u001b[A"
     ]
    },
    {
     "name": "stdout",
     "output_type": "stream",
     "text": [
      "{'diff_jaccard': 0.6934884352971388, 'diff_cosine_tf': 0.9568891662711574, 'diff_cosine_tf_idf': 0.9478367787887821, 'diff_minEdit': 0.9267170399864476, 'diff_simple': 0.9676183705631407, 'sing_LoughranMcDonald': -0.001016287343091236, '0': {'type': '10-Q', 'published': datetime.date(2012, 11, 8), 'qtr': (2012, 4)}}\n",
      "{'diff_jaccard': 0.015635003731119, 'diff_cosine_tf': 0.10871910506354476, 'diff_cosine_tf_idf': 0.07302008256509446, 'diff_minEdit': 0.49067873028769704, 'diff_simple': 0.27045729178409245, 'sing_LoughranMcDonald': 0.005505131740196079, '0': {'type': '10-Q', 'published': datetime.date(2010, 10, 29), 'qtr': (2010, 4)}}\n",
      "[INFO] Comparing current qtr (2011, 1) to qtr (2010, 4) from 1 quarter ago.\n",
      "[INFO] Found a ToC!\n",
      "{'diff_jaccard': 0.48510048510048515, 'diff_cosine_tf': 0.7236980708214611, 'diff_cosine_tf_idf': 0.695043195968649, 'diff_minEdit': 0.8663003663003663, 'diff_simple': 0.8095161991008413, 'sing_LoughranMcDonald': -0.005844759659977873, '0': {'type': '10-K', 'published': datetime.date(2011, 2, 28), 'qtr': (2011, 1)}}\n",
      "[INFO] Comparing current qtr (2011, 2) to qtr (2011, 1) from 1 quarter ago.\n",
      "[INFO] Found a ToC!\n",
      "[WARNING] Section 1a was found to be empty.\n",
      "[INFO] Found a ToC!\n",
      "[WARNING] Section 9a was found to be empty.\n",
      "[WARNING] Section _i_2 was found to be empty.\n",
      "[WARNING] Section _i_3 was found to be empty.\n",
      "[INFO] Found a ToC!\n",
      "[WARNING] Section _i_4 was found to be empty.\n",
      "[WARNING] Section _i_3 was found to be empty.\n",
      "[WARNING] Section ii_1a was found to be empty.\n",
      "[ERROR] Here is full_sect: |[]|\n",
      "[ERROR] Original res: {'_i_1': [], '_i_2': [], '_i_3': [], '_i_4': [], 'ii_1': [], 'ii_1a': [], 'ii_2': [], 'ii_3': [], 'ii_4': [], 'ii_5': [], 'ii_6': []}\n",
      "[WARNING] /home/alex/Desktop/filtered_text_data/nd_data/2010/QTR2/20100430_10-Q_edgar_data_1073475_0001073475-10-000006_1.txt failed parsing\n"
     ]
    },
    {
     "name": "stderr",
     "output_type": "stream",
     "text": [
      "\n",
      " 12%|█▏        | 117/1000 [01:21<07:24,  1.99it/s]\u001b[A\n",
      "\n",
      "117it [01:21,  1.98it/s]\u001b[A\u001b[A"
     ]
    },
    {
     "name": "stdout",
     "output_type": "stream",
     "text": [
      "{'diff_jaccard': 0.04553482981872727, 'diff_cosine_tf': 0.41714815740324657, 'diff_cosine_tf_idf': 0.3173882901839578, 'diff_minEdit': 0.8409196245717522, 'diff_simple': 0.7669409251383235, 'sing_LoughranMcDonald': -0.0007537125010761517, '0': {'type': '10-Q', 'published': datetime.date(2011, 5, 5), 'qtr': (2011, 2)}}\n",
      "[INFO] Comparing current qtr (2011, 3) to qtr (2011, 2) from 1 quarter ago.\n",
      "[INFO] Found a ToC!\n",
      "[WARNING] Section _i_3 was found to be empty.\n",
      "[INFO] Found a ToC!\n",
      "[WARNING] Section ii_1a was found to be empty.\n",
      "[INFO] No ToC found\n",
      "[WARNING] Section 7 was found to be empty.\n",
      "[INFO] Found a ToC!\n",
      "[WARNING] Section 7a was found to be empty.\n",
      "[WARNING] Section 9a was found to be empty.\n",
      "[WARNING] Section _i_3 was found to be empty.\n",
      "{'diff_jaccard': 0.7286077295404356, 'diff_cosine_tf': 0.9874193363780954, 'diff_cosine_tf_idf': 0.985023023859927, 'diff_minEdit': 0.9995032714233603, 'diff_simple': 0.9991217194155406, 'sing_LoughranMcDonald': -0.0005425042693110008, '0': {'type': '10-Q', 'published': datetime.date(2011, 8, 5), 'qtr': (2011, 3)}}\n",
      "[INFO] Comparing current qtr (2011, 4) to qtr (2011, 3) from 1 quarter ago.\n",
      "[INFO] Found a ToC!\n",
      "[INFO] Found a ToC!\n",
      "[WARNING] Section ii_1 was found to be empty.\n",
      "[INFO] No ToC found\n",
      "[WARNING] Section _i_2 was found to be empty.\n",
      "[WARNING] Section ii_1 was found to be empty.\n",
      "[WARNING] Section ii_1a was found to be empty.\n",
      "[INFO] Found a ToC!\n",
      "[INFO] Found a ToC!\n",
      "[WARNING] Section _i_3 was found to be empty.\n",
      "[WARNING] Section _i_4 was found to be empty.\n",
      "[WARNING] Section ii_1a was found to be empty.\n",
      "[INFO] Comparing current qtr (2010, 2) to qtr (2010, 1) from 1 quarter ago.\n",
      "[INFO] Found a ToC!\n",
      "[INFO] Found a ToC!\n",
      "[WARNING] Section ii_1 was found to be empty.\n",
      "[INFO] Found a ToC!\n",
      "[INFO] No ToC found\n",
      "{'diff_jaccard': 0.7661155082573163, 'diff_cosine_tf': 0.9821186476996234, 'diff_cosine_tf_idf': 0.9779978010674832, 'diff_minEdit': 0.9968976256485764, 'diff_simple': 0.9980568855852275, 'sing_LoughranMcDonald': -0.0004380079424792111, '0': {'type': '10-Q', 'published': datetime.date(2011, 11, 3), 'qtr': (2011, 4)}}\n",
      "[INFO] Comparing current qtr (2012, 1) to qtr (2011, 4) from 1 quarter ago.\n",
      "[INFO] Found a ToC!\n",
      "[INFO] Found a ToC!\n",
      "[INFO] Found a ToC!\n",
      "[WARNING] Section ii_1 was found to be empty.\n",
      "{'diff_jaccard': 0.03262648193013934, 'diff_cosine_tf': 0.3998272351847889, 'diff_cosine_tf_idf': 0.3076141457772028, 'diff_minEdit': 0.8741475315400422, 'diff_simple': 0.7682966472484608, 'sing_LoughranMcDonald': -0.006464598501635538, '0': {'type': '10-K', 'published': datetime.date(2012, 2, 27), 'qtr': (2012, 1)}}\n",
      "[INFO] Comparing current qtr (2012, 2) to qtr (2012, 1) from 1 quarter ago.\n",
      "[INFO] Found a ToC!\n",
      "[INFO] Comparing current qtr (2010, 2) to qtr (2010, 1) from 1 quarter ago.\n",
      "[INFO] Found a ToC!\n",
      "[INFO] Found a ToC!\n",
      "[INFO] Found a ToC!\n",
      "{'diff_jaccard': 0.267869535432245, 'diff_cosine_tf': 0.4509419461383295, 'diff_cosine_tf_idf': 0.3624986144201879, 'diff_minEdit': 0.8590174129353234, 'diff_simple': 0.6093710021321962, 'sing_LoughranMcDonald': -0.03155555555555555, '0': {'type': '10-Q', 'published': datetime.date(2012, 5, 4), 'qtr': (2012, 2)}}\n",
      "[INFO] Comparing current qtr (2012, 3) to qtr (2012, 2) from 1 quarter ago.\n",
      "{'diff_jaccard': 0.35275100425945133, 'diff_cosine_tf': 0.7679500733489161, 'diff_cosine_tf_idf': 0.755769815897959, 'diff_minEdit': 0.6990343699763114, 'diff_simple': 0.7008893847797324, 'sing_LoughranMcDonald': -0.0006068779084220258, '0': {'type': '10-Q', 'published': datetime.date(2010, 4, 21), 'qtr': (2010, 2)}}\n",
      "[INFO] Comparing current qtr (2010, 2) to qtr (2010, 1) from 1 quarter ago.\n",
      "[INFO] Comparing current qtr (2010, 3) to qtr (2010, 2) from 1 quarter ago.\n",
      "[INFO] Found a ToC!\n",
      "[INFO] No ToC found\n",
      "[INFO] Found a ToC!\n",
      "{'diff_jaccard': 0.3614066655449396, 'diff_cosine_tf': 0.9344461044549879, 'diff_cosine_tf_idf': 0.9237433881196017, 'diff_minEdit': 0.7263993238394354, 'diff_simple': 0.5809038954644674, 'sing_LoughranMcDonald': -0.00041054725528837804, '0': {'type': '10-Q', 'published': datetime.date(2010, 5, 10), 'qtr': (2010, 2)}}\n",
      "[INFO] Comparing current qtr (2010, 3) to qtr (2010, 2) from 1 quarter ago.\n",
      "{'diff_jaccard': 0.06841515522430268, 'diff_cosine_tf': 0.2992464948330643, 'diff_cosine_tf_idf': 0.24725143397474414, 'diff_minEdit': 0.6000329573616718, 'diff_simple': 0.36381867036367094, 'sing_LoughranMcDonald': -0.00526602811281229, '0': {'type': '10-Q', 'published': datetime.date(2010, 5, 10), 'qtr': (2010, 2)}}\n",
      "[INFO] Comparing current qtr (2010, 3) to qtr (2010, 2) from 1 quarter ago.\n",
      "[INFO] Found a ToC!\n",
      "[WARNING] Section _i_2 was found to be empty.\n",
      "[INFO] No ToC found\n",
      "{'diff_jaccard': 0.32465319334375875, 'diff_cosine_tf': 0.3786247050712504, 'diff_cosine_tf_idf': 0.36037004923516863, 'diff_minEdit': 0.7236182797724448, 'diff_simple': 0.48389405869720825, 'sing_LoughranMcDonald': -0.0010942104171711331, '0': {'type': '10-Q', 'published': datetime.date(2010, 8, 9), 'qtr': (2010, 3)}}\n",
      "[INFO] Comparing current qtr (2010, 4) to qtr (2010, 3) from 1 quarter ago.\n",
      "{'diff_jaccard': 0.7625129669819148, 'diff_cosine_tf': 0.9349242429339095, 'diff_cosine_tf_idf': 0.9320135656837503, 'diff_minEdit': 0.9909305548426834, 'diff_simple': 0.99455833290561, 'sing_LoughranMcDonald': -0.0005074369977605136, '0': {'type': '10-Q', 'published': datetime.date(2010, 7, 21), 'qtr': (2010, 3)}}\n",
      "[INFO] Comparing current qtr (2010, 4) to qtr (2010, 3) from 1 quarter ago.\n",
      "{'diff_jaccard': 0.022130177007565484, 'diff_cosine_tf': 0.3871206276113066, 'diff_cosine_tf_idf': 0.2993237878027769, 'diff_minEdit': 0.8465654386330848, 'diff_simple': 0.7673469884909302, 'sing_LoughranMcDonald': -0.000514659248281226, '0': {'type': '10-Q', 'published': datetime.date(2012, 8, 3), 'qtr': (2012, 3)}}\n",
      "[INFO] Comparing current qtr (2012, 4) to qtr (2012, 3) from 1 quarter ago.\n",
      "{'diff_jaccard': 0.7480376301257327, 'diff_cosine_tf': 0.9747159519451556, 'diff_cosine_tf_idf': 0.9684071968239593, 'diff_minEdit': 1.0, 'diff_simple': 1.0, 'sing_LoughranMcDonald': -0.00029199139090374694, '0': {'type': '10-Q', 'published': datetime.date(2010, 8, 9), 'qtr': (2010, 3)}}\n",
      "[INFO] Comparing current qtr (2010, 4) to qtr (2010, 3) from 1 quarter ago.\n",
      "[INFO] Found a ToC!\n",
      "{'diff_jaccard': 0.765395062222164, 'diff_cosine_tf': 0.9819208546982857, 'diff_cosine_tf_idf': 0.971505378876975, 'diff_minEdit': 1.0, 'diff_simple': 1.0, 'sing_LoughranMcDonald': -0.00112072556433437, '0': {'type': '10-Q', 'published': datetime.date(2010, 11, 9), 'qtr': (2010, 4)}}\n",
      "[WARNING] Section _i_2 was found to be empty.\n",
      "[INFO] Comparing current qtr (2011, 1) to qtr (2010, 4) from 1 quarter ago.\n",
      "[INFO] No ToC found\n",
      "[INFO] Comparing current qtr (2010, 2) to qtr (2010, 1) from 1 quarter ago.\n",
      "{'diff_jaccard': 0.7949612440483962, 'diff_cosine_tf': 0.9838098302897764, 'diff_cosine_tf_idf': 0.9804564549778448, 'diff_minEdit': 1.0, 'diff_simple': 1.0, 'sing_LoughranMcDonald': -0.00028756747495404286, '0': {'type': '10-Q', 'published': datetime.date(2010, 11, 8), 'qtr': (2010, 4)}}\n",
      "[INFO] Comparing current qtr (2011, 1) to qtr (2010, 4) from 1 quarter ago.\n",
      "[INFO] Found a ToC!\n",
      "[WARNING] Section _i_2 was found to be empty.\n",
      "[INFO] Comparing current qtr (2012, 2) to qtr (2012, 1) from 1 quarter ago.\n",
      "{'diff_jaccard': 0.5740622627502304, 'diff_cosine_tf': 0.7483418351235465, 'diff_cosine_tf_idf': 0.7395345624216806, 'diff_minEdit': 0.9297475247157526, 'diff_simple': 0.8063601095713615, 'sing_LoughranMcDonald': -0.0005466836768121915, '0': {'type': '10-Q', 'published': datetime.date(2010, 10, 20), 'qtr': (2010, 4)}}\n",
      "[INFO] Comparing current qtr (2011, 1) to qtr (2010, 4) from 1 quarter ago.\n",
      "{'diff_jaccard': 0.27250397595590586, 'diff_cosine_tf': 0.5995942404934577, 'diff_cosine_tf_idf': 0.5668777608196625, 'diff_minEdit': 0.6639038819368395, 'diff_simple': 0.5860693282940622, 'sing_LoughranMcDonald': -0.0020758395674095723, '0': {'type': '10-Q', 'published': datetime.date(2010, 4, 28), 'qtr': (2010, 2)}}\n",
      "[INFO] Comparing current qtr (2010, 3) to qtr (2010, 2) from 1 quarter ago.\n",
      "[INFO] Found a ToC!\n",
      "{'diff_jaccard': 0.7833492179031034, 'diff_cosine_tf': 0.9861933262715662, 'diff_cosine_tf_idf': 0.9845572090636888, 'diff_minEdit': 1.0, 'diff_simple': 1.0, 'sing_LoughranMcDonald': -0.0004078005806273171, '0': {'type': '10-Q', 'published': datetime.date(2012, 11, 9), 'qtr': (2012, 4)}}\n"
     ]
    },
    {
     "name": "stdout",
     "output_type": "stream",
     "text": [
      "[INFO] Found a ToC!\n",
      "{'diff_jaccard': 0.18980844770334696, 'diff_cosine_tf': 0.7280656835013357, 'diff_cosine_tf_idf': 0.691497561075947, 'diff_minEdit': 0.6338091327575293, 'diff_simple': 0.46584997860205946, 'sing_LoughranMcDonald': -0.0006195995888505134, '0': {'type': '10-K', 'published': datetime.date(2011, 3, 16), 'qtr': (2011, 1)}}\n"
     ]
    },
    {
     "name": "stderr",
     "output_type": "stream",
     "text": [
      "\n",
      " 12%|█▏        | 118/1000 [01:23<12:47,  1.15it/s]\u001b[A\n",
      "\n",
      "118it [01:23,  1.15it/s]\u001b[A\u001b[A"
     ]
    },
    {
     "name": "stdout",
     "output_type": "stream",
     "text": [
      "[INFO] Comparing current qtr (2011, 2) to qtr (2011, 1) from 1 quarter ago.\n",
      "{'diff_jaccard': 0.6027215719125376, 'diff_cosine_tf': 0.9678228655155939, 'diff_cosine_tf_idf': 0.9562838784973035, 'diff_minEdit': 1.0, 'diff_simple': 1.0, 'sing_LoughranMcDonald': -0.0012721694925698654, '0': {'type': '10-Q', 'published': datetime.date(2010, 7, 27), 'qtr': (2010, 3)}}\n",
      "[INFO] Comparing current qtr (2010, 4) to qtr (2010, 3) from 1 quarter ago.\n",
      "[INFO] No ToC found\n",
      "[WARNING] Section _i_3 was found to be empty.\n",
      "[WARNING] Section _i_4 was found to be empty.\n",
      "[WARNING] Section ii_1 was found to be empty.\n",
      "[INFO] No ToC found\n",
      "[WARNING] Section ii_1a was found to be empty.\n",
      "{'diff_jaccard': 0.3369000718490508, 'diff_cosine_tf': 0.9328315777129809, 'diff_cosine_tf_idf': 0.9227601953239556, 'diff_minEdit': 0.7607078189009124, 'diff_simple': 0.5630962663118705, 'sing_LoughranMcDonald': -0.0006624171934291862, '0': {'type': '10-K', 'published': datetime.date(2011, 3, 10), 'qtr': (2011, 1)}}\n",
      "[INFO] Comparing current qtr (2011, 2) to qtr (2011, 1) from 1 quarter ago.\n",
      "{'diff_jaccard': 0.05775899353635947, 'diff_cosine_tf': 0.3870223770348877, 'diff_cosine_tf_idf': 0.3296425387281992, 'diff_minEdit': 0.5919034841719923, 'diff_simple': 0.3551486961609922, 'sing_LoughranMcDonald': -0.012405626244693052, '0': {'type': '10-Q', 'published': datetime.date(2012, 5, 9), 'qtr': (2012, 2)}}\n",
      "[INFO] Comparing current qtr (2012, 3) to qtr (2012, 2) from 1 quarter ago.\n",
      "{'diff_jaccard': 0.18863709551173435, 'diff_cosine_tf': 0.6801416981614125, 'diff_cosine_tf_idf': 0.6396476627419325, 'diff_minEdit': 0.6628284159650674, 'diff_simple': 0.45448181948245064, 'sing_LoughranMcDonald': -0.0020225915533256776, '0': {'type': '10-Q', 'published': datetime.date(2011, 5, 10), 'qtr': (2011, 2)}}\n",
      "[INFO] Comparing current qtr (2011, 3) to qtr (2011, 2) from 1 quarter ago.\n",
      "[INFO] No ToC found\n",
      "{'diff_jaccard': 0.9372577926046528, 'diff_cosine_tf': 0.989484444941714, 'diff_cosine_tf_idf': 0.9843471271793125, 'diff_minEdit': 0.9870749809692971, 'diff_simple': 0.9927619893428064, 'sing_LoughranMcDonald': -0.012734393401457673, '0': {'type': '10-Q', 'published': datetime.date(2012, 8, 9), 'qtr': (2012, 3)}}\n",
      "[WARNING] Section ii_1a was found to be empty.\n",
      "[INFO] No ToC found\n",
      "{'diff_jaccard': 0.7733633396235247, 'diff_cosine_tf': 0.9725899025386708, 'diff_cosine_tf_idf': 0.9651878398784098, 'diff_minEdit': 0.9997970041878036, 'diff_simple': 0.9995594990875338, 'sing_LoughranMcDonald': -0.001275314227002186, '0': {'type': '10-Q', 'published': datetime.date(2010, 10, 26), 'qtr': (2010, 4)}}\n",
      "[INFO] Comparing current qtr (2011, 1) to qtr (2010, 4) from 1 quarter ago.\n",
      "[INFO] Comparing current qtr (2012, 4) to qtr (2012, 3) from 1 quarter ago.\n",
      "{'diff_jaccard': 0.6003373663100312, 'diff_cosine_tf': 0.9294805850606532, 'diff_cosine_tf_idf': 0.9246833630419257, 'diff_minEdit': 0.801472789158196, 'diff_simple': 0.8634522611832257, 'sing_LoughranMcDonald': -0.00023957812183453555, '0': {'type': '10-K', 'published': datetime.date(2011, 2, 9), 'qtr': (2011, 1)}}\n",
      "{'diff_jaccard': 0.7089322560466651, 'diff_cosine_tf': 0.9572374968390189, 'diff_cosine_tf_idf': 0.9461395662330688, 'diff_minEdit': 0.9999999999999999, 'diff_simple': 0.9999999999999999, 'sing_LoughranMcDonald': -0.0015512485501409019, '0': {'type': '10-Q', 'published': datetime.date(2011, 8, 9), 'qtr': (2011, 3)}}\n",
      "[INFO] Comparing current qtr (2011, 4) to qtr (2011, 3) from 1 quarter ago.\n",
      "[INFO] Comparing current qtr (2011, 2) to qtr (2011, 1) from 1 quarter ago.\n",
      "{'diff_jaccard': 0.34211660930028814, 'diff_cosine_tf': 0.9341132831392985, 'diff_cosine_tf_idf': 0.923865007472981, 'diff_minEdit': 0.7190648502528457, 'diff_simple': 0.5554610330319231, 'sing_LoughranMcDonald': -0.0005614750478919264, '0': {'type': '10-Q', 'published': datetime.date(2011, 5, 9), 'qtr': (2011, 2)}}\n",
      "[INFO] Comparing current qtr (2011, 3) to qtr (2011, 2) from 1 quarter ago.\n",
      "{'diff_jaccard': 0.925652168544087, 'diff_cosine_tf': 0.9935697325746635, 'diff_cosine_tf_idf': 0.9895984800495451, 'diff_minEdit': 0.9872770769899957, 'diff_simple': 0.9928751631143975, 'sing_LoughranMcDonald': -0.01236369860105802, '0': {'type': '10-Q', 'published': datetime.date(2012, 11, 13), 'qtr': (2012, 4)}}\n"
     ]
    },
    {
     "name": "stderr",
     "output_type": "stream",
     "text": [
      "\n",
      " 12%|█▏        | 119/1000 [01:23<10:37,  1.38it/s]\u001b[A\n",
      "\n",
      "119it [01:23,  1.39it/s]\u001b[A\u001b[A"
     ]
    },
    {
     "name": "stdout",
     "output_type": "stream",
     "text": [
      "[INFO] Found a ToC!\n",
      "{'diff_jaccard': 0.7270255410585024, 'diff_cosine_tf': 0.9808378273400774, 'diff_cosine_tf_idf': 0.9704113426513408, 'diff_minEdit': 1.0, 'diff_simple': 1.0, 'sing_LoughranMcDonald': -0.0015332873437509038, '0': {'type': '10-Q', 'published': datetime.date(2011, 11, 9), 'qtr': (2011, 4)}}\n"
     ]
    },
    {
     "name": "stderr",
     "output_type": "stream",
     "text": [
      "\n",
      " 12%|█▏        | 120/1000 [01:24<07:53,  1.86it/s]\u001b[A\n",
      "\n",
      "120it [01:24,  1.86it/s]\u001b[A\u001b[A"
     ]
    },
    {
     "name": "stdout",
     "output_type": "stream",
     "text": [
      "[INFO] No ToC found\n",
      "{'diff_jaccard': 0.8578713331588645, 'diff_cosine_tf': 0.9819016985363468, 'diff_cosine_tf_idf': 0.9757934571766977, 'diff_minEdit': 1.0, 'diff_simple': 1.0, 'sing_LoughranMcDonald': -0.0004267258289215599, '0': {'type': '10-Q', 'published': datetime.date(2011, 8, 8), 'qtr': (2011, 3)}}\n",
      "[INFO] Comparing current qtr (2011, 4) to qtr (2011, 3) from 1 quarter ago.\n",
      "{'diff_jaccard': 0.38590247841024133, 'diff_cosine_tf': 0.8593783853819931, 'diff_cosine_tf_idf': 0.847549203765141, 'diff_minEdit': 0.7813676326147186, 'diff_simple': 0.5730971353743706, 'sing_LoughranMcDonald': -0.00027505280440117503, '0': {'type': '10-K', 'published': datetime.date(2011, 2, 18), 'qtr': (2011, 1)}}\n",
      "{'diff_jaccard': 0.37208525077804633, 'diff_cosine_tf': 0.7497679333186501, 'diff_cosine_tf_idf': 0.7421703257011936, 'diff_minEdit': 0.7232122852374709, 'diff_simple': 0.7288183673538656, 'sing_LoughranMcDonald': -9.94172125005901e-05, '0': {'type': '10-Q', 'published': datetime.date(2011, 4, 26), 'qtr': (2011, 2)}}\n",
      "[INFO] Comparing current qtr (2011, 3) to qtr (2011, 2) from 1 quarter ago.\n",
      "[INFO] Comparing current qtr (2011, 2) to qtr (2011, 1) from 1 quarter ago.\n",
      "[INFO] Found a ToC!\n",
      "{'diff_jaccard': 0.7360210879356845, 'diff_cosine_tf': 0.9732286926403244, 'diff_cosine_tf_idf': 0.9647614690721931, 'diff_minEdit': 0.9887635109445441, 'diff_simple': 0.9847183748845799, 'sing_LoughranMcDonald': -0.0004913686468561643, '0': {'type': '10-Q', 'published': datetime.date(2011, 11, 8), 'qtr': (2011, 4)}}\n",
      "[INFO] Comparing current qtr (2012, 1) to qtr (2011, 4) from 1 quarter ago.\n",
      "[INFO] Found a ToC!\n",
      "[WARNING] Section _i_4 was found to be empty.\n",
      "{'diff_jaccard': 0.7540903918111163, 'diff_cosine_tf': 0.952574911606325, 'diff_cosine_tf_idf': 0.9423242004248201, 'diff_minEdit': 0.9998944580902671, 'diff_simple': 0.9999662265888853, 'sing_LoughranMcDonald': -7.35104955140035e-05, '0': {'type': '10-Q', 'published': datetime.date(2011, 7, 22), 'qtr': (2011, 3)}}\n",
      "[INFO] Comparing current qtr (2011, 4) to qtr (2011, 3) from 1 quarter ago.\n",
      "{'diff_jaccard': 0.39850851567358053, 'diff_cosine_tf': 0.6646445199743096, 'diff_cosine_tf_idf': 0.6385053075244999, 'diff_minEdit': 0.6719358633882369, 'diff_simple': 0.6126365228177555, 'sing_LoughranMcDonald': -0.0013619652400593263, '0': {'type': '10-Q', 'published': datetime.date(2011, 4, 27), 'qtr': (2011, 2)}}\n",
      "[INFO] Comparing current qtr (2011, 3) to qtr (2011, 2) from 1 quarter ago.\n",
      "[INFO] Found a ToC!\n",
      "[INFO] Found a ToC!\n",
      "{'diff_jaccard': 0.0955374374253151, 'diff_cosine_tf': 0.6346224222679006, 'diff_cosine_tf_idf': 0.6210697135815547, 'diff_minEdit': 0.6660690969639232, 'diff_simple': 0.23253884969016284, 'sing_LoughranMcDonald': -0.0007741083944870673, '0': {'type': '10-K', 'published': datetime.date(2012, 3, 13), 'qtr': (2012, 1)}}\n",
      "[INFO] Comparing current qtr (2012, 2) to qtr (2012, 1) from 1 quarter ago.\n",
      "{'diff_jaccard': 0.7677407180452619, 'diff_cosine_tf': 0.9812798813638879, 'diff_cosine_tf_idf': 0.9770338745818132, 'diff_minEdit': 0.9999999999999999, 'diff_simple': 0.9999999999999999, 'sing_LoughranMcDonald': -0.0011875384295873751, '0': {'type': '10-Q', 'published': datetime.date(2011, 7, 27), 'qtr': (2011, 3)}}\n",
      "[INFO] Comparing current qtr (2011, 4) to qtr (2011, 3) from 1 quarter ago.\n",
      "{'diff_jaccard': 0.8074930631382993, 'diff_cosine_tf': 0.971092037008675, 'diff_cosine_tf_idf': 0.9580037369688952, 'diff_minEdit': 0.9999999999999999, 'diff_simple': 0.9999999999999999, 'sing_LoughranMcDonald': -8.392430013256776e-05, '0': {'type': '10-Q', 'published': datetime.date(2011, 10, 19), 'qtr': (2011, 4)}}\n",
      "[INFO] Comparing current qtr (2012, 1) to qtr (2011, 4) from 1 quarter ago.\n",
      "{'diff_jaccard': 0.12031729936497385, 'diff_cosine_tf': 0.7162293204483853, 'diff_cosine_tf_idf': 0.7028005613675818, 'diff_minEdit': 0.6272630792227204, 'diff_simple': 0.23796722920161115, 'sing_LoughranMcDonald': -0.000669849924110586, '0': {'type': '10-Q', 'published': datetime.date(2012, 5, 8), 'qtr': (2012, 2)}}\n",
      "[INFO] Comparing current qtr (2012, 3) to qtr (2012, 2) from 1 quarter ago.\n",
      "[INFO] No ToC found\n",
      "[WARNING] Section 1a was found to be empty.\n",
      "{'diff_jaccard': 0.7075385547865434, 'diff_cosine_tf': 0.9801379682347298, 'diff_cosine_tf_idf': 0.9778360443364682, 'diff_minEdit': 0.9990640599001663, 'diff_simple': 0.9994009983361065, 'sing_LoughranMcDonald': -0.0014827481876802657, '0': {'type': '10-Q', 'published': datetime.date(2011, 10, 27), 'qtr': (2011, 4)}}\n",
      "[INFO] Comparing current qtr (2012, 1) to qtr (2011, 4) from 1 quarter ago.\n",
      "{'diff_jaccard': 0.8676530084425508, 'diff_cosine_tf': 0.9827493037411204, 'diff_cosine_tf_idf': 0.9802960499691109, 'diff_minEdit': 1.0, 'diff_simple': 1.0, 'sing_LoughranMcDonald': -0.0003700556866264077, '0': {'type': '10-Q', 'published': datetime.date(2012, 8, 7), 'qtr': (2012, 3)}}\n",
      "[INFO] Comparing current qtr (2012, 4) to qtr (2012, 3) from 1 quarter ago.\n",
      "[INFO] Found a ToC!\n",
      "[INFO] Found a ToC!\n",
      "[WARNING] Section 7a was found to be empty.\n",
      "{'diff_jaccard': 0.9047881554207573, 'diff_cosine_tf': 0.9939669194907029, 'diff_cosine_tf_idf': 0.99078357436485, 'diff_minEdit': 1.0, 'diff_simple': 1.0, 'sing_LoughranMcDonald': -0.00037762131711771546, '0': {'type': '10-Q', 'published': datetime.date(2012, 11, 6), 'qtr': (2012, 4)}}\n"
     ]
    },
    {
     "name": "stderr",
     "output_type": "stream",
     "text": [
      "\n",
      " 12%|█▏        | 121/1000 [01:25<09:51,  1.49it/s]\u001b[A\n",
      "\n",
      "121it [01:25,  1.49it/s]\u001b[A\u001b[A"
     ]
    },
    {
     "name": "stdout",
     "output_type": "stream",
     "text": [
      "[WARNING] Section 9a was found to be empty.\n",
      "[INFO] Found a ToC!\n",
      "{'diff_jaccard': 0.4274792118549354, 'diff_cosine_tf': 0.8981497299366056, 'diff_cosine_tf_idf': 0.8796715926953054, 'diff_minEdit': 0.6660022363673803, 'diff_simple': 0.6487813837214044, 'sing_LoughranMcDonald': -0.0002632318356203484, '0': {'type': '10-K', 'published': datetime.date(2012, 2, 10), 'qtr': (2012, 1)}}\n",
      "{'diff_jaccard': 0.4145127926199567, 'diff_cosine_tf': 0.7467330924073269, 'diff_cosine_tf_idf': 0.7352539164456467, 'diff_minEdit': 0.7724340678636313, 'diff_simple': 0.7116214489079967, 'sing_LoughranMcDonald': -0.0002318901193895703, '0': {'type': '10-K', 'published': datetime.date(2012, 2, 8), 'qtr': (2012, 1)}}\n",
      "[INFO] Comparing current qtr (2012, 2) to qtr (2012, 1) from 1 quarter ago.\n",
      "[INFO] Comparing current qtr (2012, 2) to qtr (2012, 1) from 1 quarter ago.\n",
      "[INFO] Found a ToC!\n",
      "[INFO] Found a ToC!\n",
      "[INFO] Comparing current qtr (2010, 2) to qtr (2010, 1) from 1 quarter ago.\n",
      "[INFO] Found a ToC!\n",
      "[INFO] Found a ToC!\n",
      "{'diff_jaccard': 0.003359223055418458, 'diff_cosine_tf': 0.06733152906833949, 'diff_cosine_tf_idf': 0.04151968582204908, 'diff_minEdit': 0.5385301279576109, 'diff_simple': 0.2393185612300756, 'sing_LoughranMcDonald': 0.0, '0': {'type': '10-Q', 'published': datetime.date(2012, 4, 26), 'qtr': (2012, 2)}}\n",
      "[INFO] No ToC found\n",
      "[INFO] Comparing current qtr (2012, 3) to qtr (2012, 2) from 1 quarter ago.\n",
      "{'diff_jaccard': 0.4157411426510805, 'diff_cosine_tf': 0.6941167741095435, 'diff_cosine_tf_idf': 0.6652436292004662, 'diff_minEdit': 0.7659514997166106, 'diff_simple': 0.6051748489425982, 'sing_LoughranMcDonald': -0.0013042666437011968, '0': {'type': '10-Q', 'published': datetime.date(2012, 4, 27), 'qtr': (2012, 2)}}\n",
      "[INFO] Comparing current qtr (2012, 3) to qtr (2012, 2) from 1 quarter ago.\n",
      "[INFO] Found a ToC!\n",
      "[INFO] No ToC found\n",
      "[INFO] No ToC found\n",
      "{'diff_jaccard': 0.7408323669045485, 'diff_cosine_tf': 0.9809550744205056, 'diff_cosine_tf_idf': 0.9760326174245241, 'diff_minEdit': 0.9413342655556013, 'diff_simple': 0.9343079120649409, 'sing_LoughranMcDonald': -0.0011604634120443353, '0': {'type': '10-Q', 'published': datetime.date(2010, 5, 7), 'qtr': (2010, 2)}}\n",
      "[INFO] Comparing current qtr (2010, 3) to qtr (2010, 2) from 1 quarter ago.\n",
      "[INFO] No ToC found\n",
      "[INFO] Found a ToC!\n",
      "{'diff_jaccard': 0.008289483233509514, 'diff_cosine_tf': 0.07082373880300456, 'diff_cosine_tf_idf': 0.043022154926539685, 'diff_minEdit': 0.6323110204066423, 'diff_simple': 0.20445288238279435, 'sing_LoughranMcDonald': -7.686295854896031e-05, '0': {'type': '10-Q', 'published': datetime.date(2012, 7, 24), 'qtr': (2012, 3)}}\n",
      "[INFO] Comparing current qtr (2012, 4) to qtr (2012, 3) from 1 quarter ago.\n",
      "{'diff_jaccard': 0.7740485024250541, 'diff_cosine_tf': 0.9887222600852484, 'diff_cosine_tf_idf': 0.9868004388444047, 'diff_minEdit': 1.0, 'diff_simple': 1.0, 'sing_LoughranMcDonald': -0.0005773942827781062, '0': {'type': '10-Q', 'published': datetime.date(2012, 8, 2), 'qtr': (2012, 3)}}\n",
      "[INFO] Comparing current qtr (2012, 4) to qtr (2012, 3) from 1 quarter ago.\n",
      "[INFO] No ToC found\n",
      "[INFO] Comparing current qtr (2010, 2) to qtr (2010, 1) from 1 quarter ago.\n",
      "[INFO] Found a ToC!\n",
      "{'diff_jaccard': 0.910836432466797, 'diff_cosine_tf': 0.988273606263861, 'diff_cosine_tf_idf': 0.9829286962974135, 'diff_minEdit': 1.0, 'diff_simple': 1.0, 'sing_LoughranMcDonald': -0.0010471972836155808, '0': {'type': '10-Q', 'published': datetime.date(2010, 8, 5), 'qtr': (2010, 3)}}\n",
      "[INFO] Comparing current qtr (2010, 4) to qtr (2010, 3) from 1 quarter ago.\n",
      "{'diff_jaccard': 0.6468222351739816, 'diff_cosine_tf': 0.9229468933248239, 'diff_cosine_tf_idf': 0.9075521598632781, 'diff_minEdit': 0.979439102603227, 'diff_simple': 0.9613098086180802, 'sing_LoughranMcDonald': -9.548991942635811e-05, '0': {'type': '10-Q', 'published': datetime.date(2012, 10, 23), 'qtr': (2012, 4)}}\n",
      "{'diff_jaccard': 0.042229954793969224, 'diff_cosine_tf': 0.14083466565426309, 'diff_cosine_tf_idf': 0.1144231123257696, 'diff_minEdit': 0.6409913190630723, 'diff_simple': 0.21816845844083801, 'sing_LoughranMcDonald': -0.0021958636326190454, '0': {'type': '10-Q', 'published': datetime.date(2010, 5, 4), 'qtr': (2010, 2)}}\n"
     ]
    },
    {
     "name": "stderr",
     "output_type": "stream",
     "text": [
      "\n",
      " 12%|█▏        | 122/1000 [01:25<10:42,  1.37it/s]\u001b[A\n",
      "\n",
      "122it [01:25,  1.35it/s]\u001b[A\u001b[A"
     ]
    },
    {
     "name": "stdout",
     "output_type": "stream",
     "text": [
      "[INFO] Comparing current qtr (2010, 3) to qtr (2010, 2) from 1 quarter ago.\n",
      "{'diff_jaccard': 0.8227989487241103, 'diff_cosine_tf': 0.9944849956913762, 'diff_cosine_tf_idf': 0.9940084248659532, 'diff_minEdit': 0.9973019894894894, 'diff_simple': 0.9923511402027028, 'sing_LoughranMcDonald': -0.0006037464426456342, '0': {'type': '10-Q', 'published': datetime.date(2012, 10, 30), 'qtr': (2012, 4)}}\n",
      "{'diff_jaccard': 0.1628532589504265, 'diff_cosine_tf': 0.23466994147885512, 'diff_cosine_tf_idf': 0.2070564571084327, 'diff_minEdit': 0.7106236986560666, 'diff_simple': 0.33790113181701936, 'sing_LoughranMcDonald': -0.0014545549676134874, '0': {'type': '10-Q', 'published': datetime.date(2010, 8, 6), 'qtr': (2010, 3)}}\n",
      "[INFO] Comparing current qtr (2010, 4) to qtr (2010, 3) from 1 quarter ago.\n",
      "[INFO] No ToC found\n",
      "[INFO] Found a ToC!\n",
      "[INFO] Found a ToC!\n",
      "{'diff_jaccard': 0.8879032009439076, 'diff_cosine_tf': 0.9881871155089952, 'diff_cosine_tf_idf': 0.9819008077467692, 'diff_minEdit': 1.0, 'diff_simple': 1.0, 'sing_LoughranMcDonald': -0.0008060996083972094, '0': {'type': '10-Q', 'published': datetime.date(2010, 11, 4), 'qtr': (2010, 4)}}\n",
      "[INFO] Comparing current qtr (2011, 1) to qtr (2010, 4) from 1 quarter ago.\n",
      "[INFO] Found a ToC!\n",
      "{'diff_jaccard': 0.8100546889488259, 'diff_cosine_tf': 0.9889895934972769, 'diff_cosine_tf_idf': 0.9861593731050732, 'diff_minEdit': 1.0, 'diff_simple': 1.0, 'sing_LoughranMcDonald': -0.0014828972424410947, '0': {'type': '10-Q', 'published': datetime.date(2010, 11, 9), 'qtr': (2010, 4)}}\n",
      "[INFO] No ToC found\n",
      "[INFO] Comparing current qtr (2011, 1) to qtr (2010, 4) from 1 quarter ago.\n",
      "[INFO] No ToC found\n",
      "[INFO] No ToC found\n",
      "[INFO] No ToC found\n",
      "[WARNING] Section _i_4 was found to be empty.\n",
      "[WARNING] Section ii_1 was found to be empty.\n",
      "[WARNING] Section ii_1a was found to be empty.\n",
      "{'diff_jaccard': 0.7100064949461982, 'diff_cosine_tf': 0.9747537456015032, 'diff_cosine_tf_idf': 0.970646477661469, 'diff_minEdit': 0.9173062037037418, 'diff_simple': 0.9265917114595591, 'sing_LoughranMcDonald': -0.0007183376790220239, '0': {'type': '10-K', 'published': datetime.date(2011, 2, 28), 'qtr': (2011, 1)}}\n",
      "[INFO] Comparing current qtr (2011, 2) to qtr (2011, 1) from 1 quarter ago.\n",
      "{'diff_jaccard': 0.303916034402417, 'diff_cosine_tf': 0.7754602501076279, 'diff_cosine_tf_idf': 0.7394624040796833, 'diff_minEdit': 0.7942725866618142, 'diff_simple': 0.6277885122792773, 'sing_LoughranMcDonald': -0.0005806047788155694, '0': {'type': '10-K', 'published': datetime.date(2011, 3, 10), 'qtr': (2011, 1)}}\n",
      "[INFO] Comparing current qtr (2011, 2) to qtr (2011, 1) from 1 quarter ago.\n",
      "{'diff_jaccard': 0.7296708267287582, 'diff_cosine_tf': 0.9769964098692006, 'diff_cosine_tf_idf': 0.9718075979229462, 'diff_minEdit': 0.9357354343857738, 'diff_simple': 0.9274820045245767, 'sing_LoughranMcDonald': -0.0009351605871979656, '0': {'type': '10-Q', 'published': datetime.date(2011, 5, 5), 'qtr': (2011, 2)}}\n",
      "[INFO] Comparing current qtr (2011, 3) to qtr (2011, 2) from 1 quarter ago.\n",
      "{'diff_jaccard': 0.2146501038047116, 'diff_cosine_tf': 0.57747800583253, 'diff_cosine_tf_idf': 0.5636036521293707, 'diff_minEdit': 0.757954015647143, 'diff_simple': 0.5400383211964714, 'sing_LoughranMcDonald': 2.0524539588373313e-05, '0': {'type': '10-Q', 'published': datetime.date(2011, 5, 5), 'qtr': (2011, 2)}}\n",
      "[INFO] Comparing current qtr (2011, 3) to qtr (2011, 2) from 1 quarter ago.\n",
      "[INFO] No ToC found\n",
      "[INFO] Comparing current qtr (2010, 2) to qtr (2010, 1) from 1 quarter ago.\n",
      "{'diff_jaccard': 0.6617896346352944, 'diff_cosine_tf': 0.9034087249051422, 'diff_cosine_tf_idf': 0.8954096409646778, 'diff_minEdit': 0.977171735172023, 'diff_simple': 0.9413126863842556, 'sing_LoughranMcDonald': -0.0008768901450311089, '0': {'type': '10-Q', 'published': datetime.date(2011, 8, 8), 'qtr': (2011, 3)}}\n",
      "[INFO] Comparing current qtr (2011, 4) to qtr (2011, 3) from 1 quarter ago.\n",
      "{'diff_jaccard': 0.9132923481555715, 'diff_cosine_tf': 0.9857096964251661, 'diff_cosine_tf_idf': 0.9789642039533715, 'diff_minEdit': 1.0, 'diff_simple': 1.0, 'sing_LoughranMcDonald': -0.0009087017052070735, '0': {'type': '10-Q', 'published': datetime.date(2011, 8, 4), 'qtr': (2011, 3)}}\n",
      "[INFO] Comparing current qtr (2011, 4) to qtr (2011, 3) from 1 quarter ago.\n",
      "{'diff_jaccard': 0.8200244154896439, 'diff_cosine_tf': 0.9781654012616257, 'diff_cosine_tf_idf': 0.9693238492007724, 'diff_minEdit': 0.9973303800310173, 'diff_simple': 0.9960556884466547, 'sing_LoughranMcDonald': -0.0013051709314941872, '0': {'type': '10-Q', 'published': datetime.date(2011, 11, 7), 'qtr': (2011, 4)}}\n",
      "{'diff_jaccard': 0.3305010945964166, 'diff_cosine_tf': 0.7466071810820111, 'diff_cosine_tf_idf': 0.7128608067066369, 'diff_minEdit': 0.7634149428042559, 'diff_simple': 0.6691426832966013, 'sing_LoughranMcDonald': -0.0013666169874811574, '0': {'type': '10-Q', 'published': datetime.date(2010, 5, 10), 'qtr': (2010, 2)}}\n",
      "[INFO] Comparing current qtr (2012, 1) to qtr (2011, 4) from 1 quarter ago.\n",
      "[INFO] Comparing current qtr (2010, 3) to qtr (2010, 2) from 1 quarter ago.\n",
      "{'diff_jaccard': 0.005692109092314213, 'diff_cosine_tf': 0.1727601163642842, 'diff_cosine_tf_idf': 0.12962059610654236, 'diff_minEdit': 0.9487016054772093, 'diff_simple': 0.40183492248055136, 'sing_LoughranMcDonald': 0.0, '0': {'type': '10-Q', 'published': datetime.date(2011, 11, 4), 'qtr': (2011, 4)}}\n",
      "[INFO] Comparing current qtr (2012, 1) to qtr (2011, 4) from 1 quarter ago.\n",
      "{'diff_jaccard': 0.7479133232130035, 'diff_cosine_tf': 0.9487965820380726, 'diff_cosine_tf_idf': 0.9349009821994051, 'diff_minEdit': 0.9940407303128185, 'diff_simple': 0.9842981583687622, 'sing_LoughranMcDonald': -0.0011615522738093907, '0': {'type': '10-Q', 'published': datetime.date(2010, 8, 9), 'qtr': (2010, 3)}}\n",
      "[INFO] Comparing current qtr (2010, 4) to qtr (2010, 3) from 1 quarter ago.\n",
      "{'diff_jaccard': 0.7563316461448141, 'diff_cosine_tf': 0.936765335547821, 'diff_cosine_tf_idf': 0.9084719568463031, 'diff_minEdit': 1.0, 'diff_simple': 1.0, 'sing_LoughranMcDonald': -0.0009522611470872357, '0': {'type': '10-Q', 'published': datetime.date(2010, 11, 8), 'qtr': (2010, 4)}}\n",
      "[INFO] Comparing current qtr (2011, 1) to qtr (2010, 4) from 1 quarter ago.\n",
      "[INFO] No ToC found\n",
      "{'diff_jaccard': 0.007970664507975263, 'diff_cosine_tf': 0.4539843006754551, 'diff_cosine_tf_idf': 0.35927648190161593, 'diff_minEdit': 0.9580391287312396, 'diff_simple': 0.805203645927653, 'sing_LoughranMcDonald': -0.0011049349064329121, '0': {'type': '10-K', 'published': datetime.date(2012, 2, 27), 'qtr': (2012, 1)}}\n",
      "[INFO] Comparing current qtr (2012, 2) to qtr (2012, 1) from 1 quarter ago.\n",
      "{'diff_jaccard': 0.36424010530315437, 'diff_cosine_tf': 0.7689481207759874, 'diff_cosine_tf_idf': 0.7193569882878414, 'diff_minEdit': 0.816851871061584, 'diff_simple': 0.6871359351892989, 'sing_LoughranMcDonald': -0.001127024744204206, '0': {'type': '10-K', 'published': datetime.date(2011, 3, 11), 'qtr': (2011, 1)}}\n",
      "{'diff_jaccard': 0.2948387019928562, 'diff_cosine_tf': 0.7681681545362631, 'diff_cosine_tf_idf': 0.7267788927233881, 'diff_minEdit': 0.795264208863589, 'diff_simple': 0.6200683211919166, 'sing_LoughranMcDonald': -0.0005481846779684576, '0': {'type': '10-K', 'published': datetime.date(2012, 2, 16), 'qtr': (2012, 1)}}\n",
      "[INFO] Comparing current qtr (2011, 2) to qtr (2011, 1) from 1 quarter ago.\n",
      "[INFO] Comparing current qtr (2012, 2) to qtr (2012, 1) from 1 quarter ago.\n",
      "{'diff_jaccard': 0.35485646883283484, 'diff_cosine_tf': 0.7689891742663092, 'diff_cosine_tf_idf': 0.7301172361132516, 'diff_minEdit': 0.7688783826915291, 'diff_simple': 0.6913330747094317, 'sing_LoughranMcDonald': -0.0012277125723829422, '0': {'type': '10-Q', 'published': datetime.date(2011, 5, 10), 'qtr': (2011, 2)}}\n",
      "[INFO] Comparing current qtr (2011, 3) to qtr (2011, 2) from 1 quarter ago.\n",
      "{'diff_jaccard': 0.22987094352272122, 'diff_cosine_tf': 0.5710070181092717, 'diff_cosine_tf_idf': 0.5556509466115975, 'diff_minEdit': 0.6990617666215926, 'diff_simple': 0.5760971757114413, 'sing_LoughranMcDonald': -0.0009265178591737248, '0': {'type': '10-Q', 'published': datetime.date(2012, 5, 8), 'qtr': (2012, 2)}}\n",
      "[INFO] Comparing current qtr (2012, 3) to qtr (2012, 2) from 1 quarter ago.\n",
      "This is the res {'1': [(5325, 5346), (11275, 11301)], '1a': [(5355, 5373), (10241, 10256), (43656, 43692)], '1b': [(83789, 83823)], '2': [(83852, 83888)], '3': [(84218, 84249)], '4': [(88059, 88087)], '5': [(88157, 88206)], '6': [(94098, 94132)], '7': [(97006, 97059)], '7a': [(197839, 197888)], '8': [(201981, 202013)], '9': [(282694, 282755)], '9a': [(282847, 282899)], '9b': [(287882, 287931)], '10': [], '15': [(288446, 288500)]}\n"
     ]
    },
    {
     "name": "stdout",
     "output_type": "stream",
     "text": [
      "[WARNING] /home/alex/Desktop/filtered_text_data/nd_data/2010/QTR1/20100226_10-K_edgar_data_1016152_0001104659-10-010293_1.txt failed parsing\n"
     ]
    },
    {
     "name": "stderr",
     "output_type": "stream",
     "text": [
      "\n",
      " 12%|█▏        | 124/1000 [01:27<11:13,  1.30it/s]\u001b[A\n",
      "\n",
      "124it [01:27,  1.30it/s]\u001b[A\u001b[A"
     ]
    },
    {
     "name": "stdout",
     "output_type": "stream",
     "text": [
      "{'diff_jaccard': 0.6376771395833885, 'diff_cosine_tf': 0.9618590374409871, 'diff_cosine_tf_idf': 0.9488741743667943, 'diff_minEdit': 1.0, 'diff_simple': 1.0, 'sing_LoughranMcDonald': -0.0009894644467573284, '0': {'type': '10-Q', 'published': datetime.date(2011, 8, 9), 'qtr': (2011, 3)}}\n",
      "[INFO] Comparing current qtr (2011, 4) to qtr (2011, 3) from 1 quarter ago.\n",
      "[INFO] No ToC found\n",
      "{'diff_jaccard': 0.2959273271605957, 'diff_cosine_tf': 0.7639008767875336, 'diff_cosine_tf_idf': 0.723878163570806, 'diff_minEdit': 0.7702570659756434, 'diff_simple': 0.6240690026062135, 'sing_LoughranMcDonald': -0.0014307980031659727, '0': {'type': '10-Q', 'published': datetime.date(2012, 4, 26), 'qtr': (2012, 2)}}\n",
      "[INFO] Comparing current qtr (2012, 3) to qtr (2012, 2) from 1 quarter ago.\n",
      "{'diff_jaccard': 0.3922200476946435, 'diff_cosine_tf': 0.8838744524064128, 'diff_cosine_tf_idf': 0.849823955320691, 'diff_minEdit': 0.8131189189773878, 'diff_simple': 0.5295181152953775, 'sing_LoughranMcDonald': -0.001887986943612536, '0': {'type': '10-Q', 'published': datetime.date(2012, 8, 2), 'qtr': (2012, 3)}}\n",
      "[INFO] Comparing current qtr (2012, 4) to qtr (2012, 3) from 1 quarter ago.\n",
      "{'diff_jaccard': 0.6178000013223343, 'diff_cosine_tf': 0.9421329247947209, 'diff_cosine_tf_idf': 0.9231882942791633, 'diff_minEdit': 0.9994883283549064, 'diff_simple': 0.9995381835408386, 'sing_LoughranMcDonald': -0.0009069111818840131, '0': {'type': '10-Q', 'published': datetime.date(2011, 11, 9), 'qtr': (2011, 4)}}\n",
      "[INFO] Comparing current qtr (2012, 1) to qtr (2011, 4) from 1 quarter ago.\n",
      "[INFO] Found a ToC!\n",
      "{'diff_jaccard': 0.8018140832724067, 'diff_cosine_tf': 0.9777285507874969, 'diff_cosine_tf_idf': 0.9716003508712866, 'diff_minEdit': 1.0, 'diff_simple': 1.0, 'sing_LoughranMcDonald': -0.0012680018826075389, '0': {'type': '10-Q', 'published': datetime.date(2012, 8, 2), 'qtr': (2012, 3)}}\n",
      "[INFO] Comparing current qtr (2012, 4) to qtr (2012, 3) from 1 quarter ago.\n",
      "{'diff_jaccard': 0.8414481998154875, 'diff_cosine_tf': 0.9733733266606727, 'diff_cosine_tf_idf': 0.9539373558289092, 'diff_minEdit': 0.9496139599232383, 'diff_simple': 0.8254123711340207, 'sing_LoughranMcDonald': -0.0016285437242171494, '0': {'type': '10-Q', 'published': datetime.date(2012, 11, 1), 'qtr': (2012, 4)}}\n"
     ]
    },
    {
     "name": "stderr",
     "output_type": "stream",
     "text": [
      "\n",
      " 12%|█▎        | 125/1000 [01:27<09:14,  1.58it/s]\u001b[A\n",
      "\n",
      "125it [01:27,  1.57it/s]\u001b[A\u001b[A"
     ]
    },
    {
     "name": "stdout",
     "output_type": "stream",
     "text": [
      "[INFO] No ToC found\n",
      "{'diff_jaccard': 0.3945667861555681, 'diff_cosine_tf': 0.8328154086984821, 'diff_cosine_tf_idf': 0.7966862015283166, 'diff_minEdit': 0.8263404152703046, 'diff_simple': 0.7002624799832904, 'sing_LoughranMcDonald': -0.0010332038453017742, '0': {'type': '10-K', 'published': datetime.date(2012, 3, 15), 'qtr': (2012, 1)}}\n",
      "[INFO] Comparing current qtr (2012, 2) to qtr (2012, 1) from 1 quarter ago.\n",
      "[INFO] Found a ToC!\n",
      "{'diff_jaccard': 0.8242496177529969, 'diff_cosine_tf': 0.9861005547614317, 'diff_cosine_tf_idf': 0.9796912191178341, 'diff_minEdit': 0.9999999999999999, 'diff_simple': 0.9999999999999999, 'sing_LoughranMcDonald': -0.001165792636073706, '0': {'type': '10-Q', 'published': datetime.date(2012, 10, 30), 'qtr': (2012, 4)}}\n"
     ]
    },
    {
     "name": "stderr",
     "output_type": "stream",
     "text": [
      "\n",
      " 13%|█▎        | 126/1000 [01:28<07:12,  2.02it/s]\u001b[A\n",
      "\n",
      "126it [01:28,  2.02it/s]\u001b[A\u001b[A"
     ]
    },
    {
     "name": "stdout",
     "output_type": "stream",
     "text": [
      "[INFO] No ToC found\n",
      "{'diff_jaccard': 0.37699457911751194, 'diff_cosine_tf': 0.7563681619795634, 'diff_cosine_tf_idf': 0.7339333922713314, 'diff_minEdit': 0.8148798324327493, 'diff_simple': 0.6807913315458021, 'sing_LoughranMcDonald': -0.0009271729934526127, '0': {'type': '10-Q', 'published': datetime.date(2012, 5, 10), 'qtr': (2012, 2)}}\n",
      "[INFO] Comparing current qtr (2012, 3) to qtr (2012, 2) from 1 quarter ago.\n",
      "{'diff_jaccard': 0.6689301949965247, 'diff_cosine_tf': 0.9700389441957891, 'diff_cosine_tf_idf': 0.9584865953320018, 'diff_minEdit': 0.9998919619706136, 'diff_simple': 0.9996464209947356, 'sing_LoughranMcDonald': -0.0007310997697395436, '0': {'type': '10-Q', 'published': datetime.date(2012, 8, 9), 'qtr': (2012, 3)}}\n",
      "[INFO] Comparing current qtr (2012, 4) to qtr (2012, 3) from 1 quarter ago.\n",
      "[INFO] Found a ToC!\n",
      "{'diff_jaccard': 0.011956076109789902, 'diff_cosine_tf': 0.4447042106240766, 'diff_cosine_tf_idf': 0.3478127961273263, 'diff_minEdit': 0.9612601790593204, 'diff_simple': 0.8184448331166476, 'sing_LoughranMcDonald': 0.0, '0': {'type': '10-Q', 'published': datetime.date(2012, 11, 9), 'qtr': (2012, 4)}}\n"
     ]
    },
    {
     "name": "stderr",
     "output_type": "stream",
     "text": [
      "\n",
      " 13%|█▎        | 127/1000 [01:28<06:13,  2.34it/s]\u001b[A\n",
      "\n",
      "127it [01:28,  2.33it/s]\u001b[A\u001b[A"
     ]
    },
    {
     "name": "stdout",
     "output_type": "stream",
     "text": [
      "[INFO] No ToC found\n",
      "[INFO] Found a ToC!\n",
      "This is the res {'1': [(9183, 9200)], '1a': [(63074, 63087)], '1b': [(98146, 98166)], '2': [(98200, 98219)], '3': [(98899, 98913)], '5': [(106960, 106975)], '6': [(110067, 110084)], '7': [(114517, 114536)], '8': [(203106, 203124)], '9': [], '9a': [(199494, 199512)], '9b': [(201489, 201504)], '10': [(201536, 201555)], '11': [(201836, 201855)], '12': [(201991, 202009)], '13': [(202216, 202233)], '14': [(202419, 202438)], '15': [(202598, 202616)]}\n",
      "[WARNING] /home/alex/Desktop/filtered_text_data/nd_data/2010/QTR1/20100309_10-K_edgar_data_1442145_0000950123-10-022607_1.txt failed parsing\n"
     ]
    },
    {
     "name": "stderr",
     "output_type": "stream",
     "text": [
      "\n",
      " 13%|█▎        | 128/1000 [01:28<05:33,  2.62it/s]\u001b[A\n",
      "\n",
      "128it [01:28,  2.58it/s]\u001b[A\u001b[A"
     ]
    },
    {
     "name": "stdout",
     "output_type": "stream",
     "text": [
      "[INFO] Found a ToC!\n",
      "[INFO] Found a ToC!\n",
      "[INFO] No ToC found\n",
      "[INFO] Found a ToC!\n",
      "[WARNING] Section _i_2 was found to be empty.\n",
      "[INFO] Found a ToC!\n",
      "[INFO] No ToC found\n",
      "[ERROR] Here is full_sect: |[]|\n",
      "[ERROR] Original res: {'_i_1': [], '_i_2': [], '_i_3': [], '_i_4': [], 'ii_1': [], 'ii_1a': [], 'ii_2': [], 'ii_3': [], 'ii_4': [], 'ii_5': [], 'ii_6': []}\n",
      "[WARNING] /home/alex/Desktop/filtered_text_data/nd_data/2010/QTR2/20100511_10-Q_edgar_data_860519_0000860519-10-000029_1.txt failed parsing\n"
     ]
    },
    {
     "name": "stderr",
     "output_type": "stream",
     "text": [
      "\n",
      " 13%|█▎        | 129/1000 [01:29<05:37,  2.58it/s]\u001b[A\n",
      "\n",
      "129it [01:29,  2.57it/s]\u001b[A\u001b[A"
     ]
    },
    {
     "name": "stdout",
     "output_type": "stream",
     "text": [
      "[INFO] Found a ToC!\n",
      "[ERROR] Here is full_sect: |[]|\n",
      "[WARNING] Section _i_2 was found to be empty.\n",
      "[ERROR] Original res: {'1': [], '1a': [], '1b': [], '2': [], '3': [], '4': [], '5': [], '6': [], '7': [], '7a': [], '8': [], '9': [], '9a': [], '9b': [], '10': [], '11': [], '12': [], '13': [], '14': [], '15': []}\n",
      "[WARNING] /home/alex/Desktop/filtered_text_data/nd_data/2010/QTR1/20100324_10-K_edgar_data_1016169_0001016169-10-000002_1.txt failed parsing\n"
     ]
    },
    {
     "name": "stderr",
     "output_type": "stream",
     "text": [
      "\n",
      " 13%|█▎        | 130/1000 [01:29<04:23,  3.30it/s]\u001b[A"
     ]
    },
    {
     "name": "stdout",
     "output_type": "stream",
     "text": [
      "[INFO] No ToC found\n",
      "[INFO] Found a ToC!\n",
      "[WARNING] Section _i_2 was found to be empty.\n",
      "[INFO] No ToC found\n",
      "[INFO] Found a ToC!\n",
      "[INFO] Found a ToC!\n",
      "[INFO] Found a ToC!\n",
      "[INFO] Found a ToC!\n",
      "[INFO] Found a ToC!\n",
      "[WARNING] Section 9a was found to be empty.\n",
      "[INFO] Found a ToC!\n",
      "[INFO] No ToC found\n",
      "[INFO] Found a ToC!\n",
      "[WARNING] Section _i_4 was found to be empty.\n",
      "[INFO] Found a ToC!\n",
      "[WARNING] Section _i_2 was found to be empty.\n",
      "[INFO] Found a ToC!\n",
      "[INFO] Found a ToC!\n",
      "[WARNING] Section _i_4 was found to be empty.\n",
      "[INFO] Found a ToC!\n",
      "[INFO] Found a ToC!\n",
      "[WARNING] Section _i_2 was found to be empty.\n",
      "[INFO] Found a ToC!\n",
      "[INFO] Found a ToC!\n",
      "[WARNING] Section _i_4 was found to be empty.\n",
      "[INFO] Found a ToC!\n",
      "[INFO] Found a ToC!\n",
      "[INFO] Found a ToC!\n",
      "[WARNING] Section _i_2 was found to be empty.\n",
      "[INFO] Found a ToC!\n",
      "[INFO] Found a ToC!\n",
      "[INFO] Comparing current qtr (2010, 2) to qtr (2010, 1) from 1 quarter ago.\n",
      "[INFO] Found a ToC!\n",
      "[INFO] Found a ToC!\n",
      "[INFO] Found a ToC!\n",
      "[INFO] Found a ToC!\n",
      "{'diff_jaccard': 0.028399731070635426, 'diff_cosine_tf': 0.5181020469169384, 'diff_cosine_tf_idf': 0.439492828360464, 'diff_minEdit': 0.7411866825878471, 'diff_simple': 0.4984498137486529, 'sing_LoughranMcDonald': -0.0003385304458737359, '0': {'type': '10-Q', 'published': datetime.date(2010, 4, 27), 'qtr': (2010, 2)}}\n",
      "[INFO] Comparing current qtr (2010, 3) to qtr (2010, 2) from 1 quarter ago.\n",
      "[INFO] Found a ToC!\n",
      "[INFO] No ToC found\n",
      "{'diff_jaccard': 0.8539182399527483, 'diff_cosine_tf': 0.9879131773204335, 'diff_cosine_tf_idf': 0.9874677073602952, 'diff_minEdit': 1.0, 'diff_simple': 1.0, 'sing_LoughranMcDonald': -0.00033405349829690396, '0': {'type': '10-Q', 'published': datetime.date(2010, 7, 21), 'qtr': (2010, 3)}}\n",
      "[INFO] Comparing current qtr (2010, 4) to qtr (2010, 3) from 1 quarter ago.\n",
      "[INFO] Found a ToC!\n",
      "[INFO] Comparing current qtr (2010, 2) to qtr (2010, 1) from 1 quarter ago.\n",
      "[INFO] No ToC found\n",
      "{'diff_jaccard': 0.8022478671722998, 'diff_cosine_tf': 0.9875017679240053, 'diff_cosine_tf_idf': 0.982904142085282, 'diff_minEdit': 0.9690873629463032, 'diff_simple': 0.9802539581119846, 'sing_LoughranMcDonald': -0.00027065707131945663, '0': {'type': '10-Q', 'published': datetime.date(2010, 10, 27), 'qtr': (2010, 4)}}\n",
      "[INFO] Comparing current qtr (2011, 1) to qtr (2010, 4) from 1 quarter ago.\n",
      "[INFO] Found a ToC!\n",
      "[WARNING] Section ii_1a was found to be empty.\n",
      "[INFO] No ToC found\n",
      "[INFO] Comparing current qtr (2010, 4) to qtr (2010, 3) from 1 quarter ago.\n",
      "{'diff_jaccard': 0.21292229515098732, 'diff_cosine_tf': 0.5871285113394139, 'diff_cosine_tf_idf': 0.559793973370192, 'diff_minEdit': 0.8243792904343363, 'diff_simple': 0.629267088223773, 'sing_LoughranMcDonald': -0.001108068807008531, '0': {'type': '10-Q', 'published': datetime.date(2010, 5, 5), 'qtr': (2010, 2)}}\n",
      "[INFO] Comparing current qtr (2010, 3) to qtr (2010, 2) from 1 quarter ago.\n",
      "{'diff_jaccard': 0.7217171717171718, 'diff_cosine_tf': 0.8399999999999999, 'diff_cosine_tf_idf': 0.7464359212312635, 'diff_minEdit': 0.9166666666666667, 'diff_simple': 0.9732124819624819, 'sing_LoughranMcDonald': 0.0, '0': {'type': '10-Q', 'published': datetime.date(2010, 11, 12), 'qtr': (2010, 4)}}\n",
      "[INFO] Comparing current qtr (2011, 1) to qtr (2010, 4) from 1 quarter ago.\n",
      "[INFO] Found a ToC!\n",
      "[INFO] Found a ToC!\n",
      "{'diff_jaccard': 0.0289217200222866, 'diff_cosine_tf': 0.5306797886916839, 'diff_cosine_tf_idf': 0.4526034957683524, 'diff_minEdit': 0.7765623718150302, 'diff_simple': 0.5488651081907049, 'sing_LoughranMcDonald': -0.0008572809233992548, '0': {'type': '10-K', 'published': datetime.date(2011, 2, 28), 'qtr': (2011, 1)}}\n",
      "[INFO] Comparing current qtr (2011, 2) to qtr (2011, 1) from 1 quarter ago.\n",
      "{'diff_jaccard': 0.8362865985519994, 'diff_cosine_tf': 0.9775784375675546, 'diff_cosine_tf_idf': 0.9729309984023735, 'diff_minEdit': 0.9955725810722543, 'diff_simple': 0.9922188112344873, 'sing_LoughranMcDonald': -0.0003729482183066503, '0': {'type': '10-Q', 'published': datetime.date(2010, 8, 9), 'qtr': (2010, 3)}}\n",
      "[INFO] Comparing current qtr (2010, 4) to qtr (2010, 3) from 1 quarter ago.\n",
      "[INFO] Found a ToC!\n",
      "[WARNING] Section _i_4 was found to be empty.\n",
      "{'diff_jaccard': 0.8184276323646134, 'diff_cosine_tf': 0.9681633483443074, 'diff_cosine_tf_idf': 0.9644241085357542, 'diff_minEdit': 1.0, 'diff_simple': 1.0, 'sing_LoughranMcDonald': -0.0006632269241072365, '0': {'type': '10-Q', 'published': datetime.date(2010, 11, 3), 'qtr': (2010, 4)}}\n",
      "[INFO] Comparing current qtr (2011, 1) to qtr (2010, 4) from 1 quarter ago.\n",
      "{'diff_jaccard': 0.2810024078744781, 'diff_cosine_tf': 0.8552311157979121, 'diff_cosine_tf_idf': 0.8283465164109678, 'diff_minEdit': 0.792786573677553, 'diff_simple': 0.7228602889831875, 'sing_LoughranMcDonald': -0.0004162720623052468, '0': {'type': '10-Q', 'published': datetime.date(2011, 4, 27), 'qtr': (2011, 2)}}\n"
     ]
    },
    {
     "name": "stderr",
     "output_type": "stream",
     "text": [
      "\n",
      " 13%|█▎        | 131/1000 [01:31<14:56,  1.03s/it]\u001b[A\n",
      "\n",
      "131it [01:31,  1.43it/s]\u001b[A\u001b[A"
     ]
    },
    {
     "name": "stdout",
     "output_type": "stream",
     "text": [
      "{'diff_jaccard': 0.0030710835568840042, 'diff_cosine_tf': 0.1629620427889778, 'diff_cosine_tf_idf': 0.12392487403277774, 'diff_minEdit': 0.9501143463698164, 'diff_simple': 0.4234153445379595, 'sing_LoughranMcDonald': -0.00016136868654169465, '0': {'type': '10-K', 'published': datetime.date(2011, 3, 11), 'qtr': (2011, 1)}}\n",
      "[INFO] Comparing current qtr (2011, 2) to qtr (2011, 1) from 1 quarter ago.\n",
      "[INFO] Found a ToC!\n",
      "[INFO] Found a ToC!\n",
      "{'diff_jaccard': 0.0030710835568840042, 'diff_cosine_tf': 0.1629620427889778, 'diff_cosine_tf_idf': 0.12392487403277774, 'diff_minEdit': 0.9501143463698164, 'diff_simple': 0.4234153445379595, 'sing_LoughranMcDonald': 0.0, '0': {'type': '10-Q', 'published': datetime.date(2011, 5, 13), 'qtr': (2011, 2)}}\n",
      "[INFO] Comparing current qtr (2011, 3) to qtr (2011, 2) from 1 quarter ago.\n",
      "[INFO] Found a ToC!\n",
      "{'diff_jaccard': 0.7217171717171718, 'diff_cosine_tf': 0.8399999999999999, 'diff_cosine_tf_idf': 0.7464359212312635, 'diff_minEdit': 0.9166666666666667, 'diff_simple': 0.9617839105339105, 'sing_LoughranMcDonald': 0.0, '0': {'type': '10-Q', 'published': datetime.date(2011, 8, 12), 'qtr': (2011, 3)}}\n",
      "[INFO] Comparing current qtr (2011, 4) to qtr (2011, 3) from 1 quarter ago.\n",
      "{'diff_jaccard': 1.0, 'diff_cosine_tf': 0.9999999999999998, 'diff_cosine_tf_idf': 0.9999999999999998, 'diff_minEdit': 1.0, 'diff_simple': 1.0, 'sing_LoughranMcDonald': 0.0, '0': {'type': '10-Q', 'published': datetime.date(2011, 11, 10), 'qtr': (2011, 4)}}\n",
      "[INFO] Comparing current qtr (2012, 1) to qtr (2011, 4) from 1 quarter ago.\n",
      "[INFO] Found a ToC!\n",
      "[INFO] Found a ToC!\n",
      "[INFO] Found a ToC!\n",
      "[INFO] Found a ToC!\n",
      "{'diff_jaccard': 0.3154867121994908, 'diff_cosine_tf': 0.9096327776126518, 'diff_cosine_tf_idf': 0.8956772871203745, 'diff_minEdit': 0.8381524154278438, 'diff_simple': 0.6218121719322571, 'sing_LoughranMcDonald': -0.0004601852107698487, '0': {'type': '10-K', 'published': datetime.date(2011, 3, 8), 'qtr': (2011, 1)}}\n",
      "[INFO] Comparing current qtr (2011, 2) to qtr (2011, 1) from 1 quarter ago.\n",
      "{'diff_jaccard': 0.0029323894315147333, 'diff_cosine_tf': 0.1717669388576568, 'diff_cosine_tf_idf': 0.1265324308779399, 'diff_minEdit': 0.9508632332292035, 'diff_simple': 0.44331220359126045, 'sing_LoughranMcDonald': -0.00016374823767173878, '0': {'type': '10-K', 'published': datetime.date(2012, 2, 29), 'qtr': (2012, 1)}}\n",
      "[INFO] Found a ToC!\n",
      "[INFO] Comparing current qtr (2012, 2) to qtr (2012, 1) from 1 quarter ago.\n",
      "[INFO] Comparing current qtr (2010, 2) to qtr (2010, 1) from 1 quarter ago.\n",
      "[INFO] No ToC found\n",
      "{'diff_jaccard': 0.0029323894315147333, 'diff_cosine_tf': 0.17198716051706348, 'diff_cosine_tf_idf': 0.12668912504884183, 'diff_minEdit': 0.9505123685559239, 'diff_simple': 0.4434437778437403, 'sing_LoughranMcDonald': 0.0, '0': {'type': '10-Q', 'published': datetime.date(2012, 5, 10), 'qtr': (2012, 2)}}\n",
      "[INFO] Comparing current qtr (2012, 3) to qtr (2012, 2) from 1 quarter ago.\n",
      "{'diff_jaccard': 0.3040992076629697, 'diff_cosine_tf': 0.8987970789343347, 'diff_cosine_tf_idf': 0.879821995146276, 'diff_minEdit': 0.9421811101176022, 'diff_simple': 0.6484237855110091, 'sing_LoughranMcDonald': -0.0012524039179564067, '0': {'type': '10-Q', 'published': datetime.date(2011, 5, 6), 'qtr': (2011, 2)}}\n",
      "[INFO] Comparing current qtr (2011, 3) to qtr (2011, 2) from 1 quarter ago.\n",
      "{'diff_jaccard': 0.541031273219184, 'diff_cosine_tf': 0.9075024904729357, 'diff_cosine_tf_idf': 0.891929704192711, 'diff_minEdit': 0.968637544717514, 'diff_simple': 0.9329029842363424, 'sing_LoughranMcDonald': -0.0007825079221382893, '0': {'type': '10-Q', 'published': datetime.date(2010, 5, 7), 'qtr': (2010, 2)}}\n",
      "[INFO] Comparing current qtr (2010, 3) to qtr (2010, 2) from 1 quarter ago.\n",
      "[INFO] Found a ToC!\n",
      "[WARNING] Section _i_2 was found to be empty.\n",
      "{'diff_jaccard': 0.7217171717171718, 'diff_cosine_tf': 0.8399999999999999, 'diff_cosine_tf_idf': 0.7464359212312635, 'diff_minEdit': 0.9166666666666667, 'diff_simple': 0.9683513708513708, 'sing_LoughranMcDonald': 0.0, '0': {'type': '10-Q', 'published': datetime.date(2012, 8, 8), 'qtr': (2012, 3)}}\n",
      "[WARNING] Section ii_1 was found to be empty.\n",
      "[INFO] Comparing current qtr (2012, 4) to qtr (2012, 3) from 1 quarter ago.\n",
      "[WARNING] Section ii_1a was found to be empty.\n",
      "{'diff_jaccard': 1.0, 'diff_cosine_tf': 0.9999999999999998, 'diff_cosine_tf_idf': 0.9999999999999998, 'diff_minEdit': 1.0, 'diff_simple': 1.0, 'sing_LoughranMcDonald': 0.0, '0': {'type': '10-Q', 'published': datetime.date(2012, 11, 7), 'qtr': (2012, 4)}}\n"
     ]
    },
    {
     "name": "stderr",
     "output_type": "stream",
     "text": [
      "\n",
      " 13%|█▎        | 132/1000 [01:32<14:49,  1.02s/it]\u001b[A\n",
      "\n",
      "132it [01:32,  1.27it/s]\u001b[A\u001b[A"
     ]
    },
    {
     "name": "stdout",
     "output_type": "stream",
     "text": [
      "[INFO] Found a ToC!\n",
      "{'diff_jaccard': 0.8555987015675381, 'diff_cosine_tf': 0.9916545527185621, 'diff_cosine_tf_idf': 0.9907023401072445, 'diff_minEdit': 0.9999999999999999, 'diff_simple': 0.9999999999999999, 'sing_LoughranMcDonald': -0.0006530810863777162, '0': {'type': '10-Q', 'published': datetime.date(2010, 7, 30), 'qtr': (2010, 3)}}\n",
      "[INFO] Comparing current qtr (2010, 4) to qtr (2010, 3) from 1 quarter ago.\n",
      "[INFO] No ToC found\n",
      "[INFO] Found a ToC!\n",
      "[INFO] Found a ToC!\n",
      "[WARNING] Section _i_2 was found to be empty.\n",
      "[INFO] Found a ToC!\n",
      "[INFO] Found a ToC!\n",
      "[INFO] No ToC found\n",
      "{'diff_jaccard': 0.42314834085003533, 'diff_cosine_tf': 0.9271698186931787, 'diff_cosine_tf_idf': 0.919648315209855, 'diff_minEdit': 0.7552557126209657, 'diff_simple': 0.6323584496124031, 'sing_LoughranMcDonald': -0.00047125197430320724, '0': {'type': '10-Q', 'published': datetime.date(2011, 8, 8), 'qtr': (2011, 3)}}\n",
      "[INFO] Comparing current qtr (2011, 4) to qtr (2011, 3) from 1 quarter ago.\n",
      "{'diff_jaccard': 0.8545770855133817, 'diff_cosine_tf': 0.9965397148283879, 'diff_cosine_tf_idf': 0.9954752769285431, 'diff_minEdit': 0.9999999999999999, 'diff_simple': 0.9999999999999999, 'sing_LoughranMcDonald': -0.0006524821490632137, '0': {'type': '10-Q', 'published': datetime.date(2010, 10, 29), 'qtr': (2010, 4)}}\n",
      "[INFO] Comparing current qtr (2011, 1) to qtr (2010, 4) from 1 quarter ago.\n",
      "[INFO] Found a ToC!\n",
      "[INFO] Comparing current qtr (2010, 2) to qtr (2010, 1) from 1 quarter ago.\n",
      "[INFO] Found a ToC!\n",
      "[INFO] Found a ToC!\n",
      "[INFO] Comparing current qtr (2010, 2) to qtr (2010, 1) from 1 quarter ago.\n",
      "{'diff_jaccard': 0.27440969359294365, 'diff_cosine_tf': 0.7557054282343092, 'diff_cosine_tf_idf': 0.729083131709849, 'diff_minEdit': 0.9961162597279154, 'diff_simple': 0.9757654607021922, 'sing_LoughranMcDonald': -0.0006060034808444107, '0': {'type': '10-Q', 'published': datetime.date(2011, 11, 8), 'qtr': (2011, 4)}}\n",
      "[INFO] Comparing current qtr (2012, 1) to qtr (2011, 4) from 1 quarter ago.\n",
      "{'diff_jaccard': 0.47578029169245706, 'diff_cosine_tf': 0.8550292478683251, 'diff_cosine_tf_idf': 0.8340922189808283, 'diff_minEdit': 0.7592328695453133, 'diff_simple': 0.6410826153066396, 'sing_LoughranMcDonald': -0.0008741858152902375, '0': {'type': '10-Q', 'published': datetime.date(2010, 4, 8), 'qtr': (2010, 2)}}\n",
      "[INFO] Found a ToC!\n",
      "[INFO] Comparing current qtr (2010, 3) to qtr (2010, 2) from 1 quarter ago.\n",
      "{'diff_jaccard': 0.5425575411845118, 'diff_cosine_tf': 0.9114950026380717, 'diff_cosine_tf_idf': 0.8967531455895006, 'diff_minEdit': 0.9610145839332234, 'diff_simple': 0.9329105063924005, 'sing_LoughranMcDonald': -0.000715906225253853, '0': {'type': '10-K', 'published': datetime.date(2011, 3, 14), 'qtr': (2011, 1)}}\n",
      "[INFO] Comparing current qtr (2011, 2) to qtr (2011, 1) from 1 quarter ago.\n",
      "[INFO] Found a ToC!\n",
      "{'diff_jaccard': 0.8469044221590054, 'diff_cosine_tf': 0.9813956828905732, 'diff_cosine_tf_idf': 0.9795645199740243, 'diff_minEdit': 1.0, 'diff_simple': 1.0, 'sing_LoughranMcDonald': -0.0006627147190257719, '0': {'type': '10-Q', 'published': datetime.date(2010, 7, 15), 'qtr': (2010, 3)}}\n",
      "[INFO] Comparing current qtr (2010, 4) to qtr (2010, 3) from 1 quarter ago.\n",
      "[INFO] Found a ToC!\n",
      "[WARNING] Section _i_2 was found to be empty.\n",
      "[INFO] Comparing current qtr (2010, 2) to qtr (2010, 1) from 1 quarter ago.\n",
      "{'diff_jaccard': 0.49794740015867306, 'diff_cosine_tf': 0.7203625763930053, 'diff_cosine_tf_idf': 0.7123230666197413, 'diff_minEdit': 0.6839454800185855, 'diff_simple': 0.6896423989014143, 'sing_LoughranMcDonald': -0.000241298523601077, '0': {'type': '10-Q', 'published': datetime.date(2010, 5, 17), 'qtr': (2010, 2)}}\n",
      "[INFO] Comparing current qtr (2010, 3) to qtr (2010, 2) from 1 quarter ago.\n",
      "[INFO] Found a ToC!\n",
      "[WARNING] Section _i_2 was found to be empty.\n",
      "{'diff_jaccard': 0.5477403781000934, 'diff_cosine_tf': 0.8977778866731879, 'diff_cosine_tf_idf': 0.8826054163369718, 'diff_minEdit': 0.965012498937386, 'diff_simple': 0.925971607388185, 'sing_LoughranMcDonald': -0.0007737058167193866, '0': {'type': '10-Q', 'published': datetime.date(2011, 5, 2), 'qtr': (2011, 2)}}\n",
      "[INFO] Comparing current qtr (2011, 3) to qtr (2011, 2) from 1 quarter ago.\n",
      "{'diff_jaccard': 0.8771281221844341, 'diff_cosine_tf': 0.9894004765601035, 'diff_cosine_tf_idf': 0.9856040393000648, 'diff_minEdit': 1.0, 'diff_simple': 1.0, 'sing_LoughranMcDonald': -0.0006656449868922933, '0': {'type': '10-Q', 'published': datetime.date(2010, 10, 14), 'qtr': (2010, 4)}}\n",
      "[INFO] Comparing current qtr (2011, 1) to qtr (2010, 4) from 1 quarter ago.\n",
      "[INFO] Found a ToC!\n",
      "{'diff_jaccard': 0.05660603218964509, 'diff_cosine_tf': 0.2617018717981211, 'diff_cosine_tf_idf': 0.21248473352280686, 'diff_minEdit': 0.62126141004468, 'diff_simple': 0.35502142764790434, 'sing_LoughranMcDonald': -0.01628250596916165, '0': {'type': '10-Q', 'published': datetime.date(2010, 5, 10), 'qtr': (2010, 2)}}\n",
      "[WARNING] Section _i_2 was found to be empty.\n",
      "[INFO] Comparing current qtr (2010, 3) to qtr (2010, 2) from 1 quarter ago.\n",
      "[WARNING] Section ii_1a was found to be empty.\n",
      "{'diff_jaccard': 0.34911827379749505, 'diff_cosine_tf': 0.8149161151942947, 'diff_cosine_tf_idf': 0.7922805593850778, 'diff_minEdit': 0.8344781553636403, 'diff_simple': 0.7315131354873868, 'sing_LoughranMcDonald': -0.00041278648705563194, '0': {'type': '10-K', 'published': datetime.date(2012, 3, 9), 'qtr': (2012, 1)}}\n",
      "[INFO] Comparing current qtr (2012, 2) to qtr (2012, 1) from 1 quarter ago.\n",
      "{'diff_jaccard': 0.8325596343332246, 'diff_cosine_tf': 0.9905181293311894, 'diff_cosine_tf_idf': 0.9890365384850444, 'diff_minEdit': 1.0, 'diff_simple': 1.0, 'sing_LoughranMcDonald': -0.0006403390968500401, '0': {'type': '10-Q', 'published': datetime.date(2011, 8, 4), 'qtr': (2011, 3)}}\n",
      "[INFO] Comparing current qtr (2011, 4) to qtr (2011, 3) from 1 quarter ago.\n",
      "{'diff_jaccard': 0.7558066374556788, 'diff_cosine_tf': 0.9320723982337557, 'diff_cosine_tf_idf': 0.9296908953476577, 'diff_minEdit': 0.984625613226534, 'diff_simple': 0.9645876784210611, 'sing_LoughranMcDonald': -0.0010708292743943585, '0': {'type': '10-Q', 'published': datetime.date(2010, 8, 10), 'qtr': (2010, 3)}}\n",
      "[INFO] Comparing current qtr (2010, 4) to qtr (2010, 3) from 1 quarter ago.\n",
      "{'diff_jaccard': 0.10603729144004388, 'diff_cosine_tf': 0.46962210746356436, 'diff_cosine_tf_idf': 0.3736073710974246, 'diff_minEdit': 0.6215034965034965, 'diff_simple': 0.4724703557312253, 'sing_LoughranMcDonald': -0.0020487375101986343, '0': {'type': '10-Q', 'published': datetime.date(2010, 8, 6), 'qtr': (2010, 3)}}\n",
      "[INFO] Comparing current qtr (2010, 4) to qtr (2010, 3) from 1 quarter ago.\n",
      "[INFO] Found a ToC!\n",
      "{'diff_jaccard': 0.5437057829488987, 'diff_cosine_tf': 0.8510756531261919, 'diff_cosine_tf_idf': 0.8318396270745272, 'diff_minEdit': 0.7371523629164102, 'diff_simple': 0.6632122460239388, 'sing_LoughranMcDonald': -0.00045085761205899554, '0': {'type': '10-K', 'published': datetime.date(2011, 2, 10), 'qtr': (2011, 1)}}\n",
      "[INFO] Comparing current qtr (2011, 2) to qtr (2011, 1) from 1 quarter ago.\n",
      "[WARNING] Section _i_2 was found to be empty.\n",
      "[WARNING] Section ii_1a was found to be empty.\n",
      "{'diff_jaccard': 0.8382375734995537, 'diff_cosine_tf': 0.9949934341913396, 'diff_cosine_tf_idf': 0.9930460173642612, 'diff_minEdit': 1.0, 'diff_simple': 1.0, 'sing_LoughranMcDonald': -0.0006427230129136928, '0': {'type': '10-Q', 'published': datetime.date(2011, 11, 3), 'qtr': (2011, 4)}}\n",
      "[INFO] Comparing current qtr (2012, 1) to qtr (2011, 4) from 1 quarter ago.\n",
      "{'diff_jaccard': 0.9925553828918362, 'diff_cosine_tf': 0.9996509513850502, 'diff_cosine_tf_idf': 0.9994171427392012, 'diff_minEdit': 1.0, 'diff_simple': 1.0, 'sing_LoughranMcDonald': -0.0020453387734238183, '0': {'type': '10-Q', 'published': datetime.date(2010, 11, 5), 'qtr': (2010, 4)}}\n",
      "[INFO] Comparing current qtr (2011, 1) to qtr (2010, 4) from 1 quarter ago.\n",
      "{'diff_jaccard': 0.3531089182017894, 'diff_cosine_tf': 0.8970204418270054, 'diff_cosine_tf_idf': 0.8865869712683353, 'diff_minEdit': 0.9454072671394881, 'diff_simple': 0.745808502185141, 'sing_LoughranMcDonald': -0.00022105917791728752, '0': {'type': '10-Q', 'published': datetime.date(2012, 5, 9), 'qtr': (2012, 2)}}\n",
      "[INFO] Comparing current qtr (2012, 3) to qtr (2012, 2) from 1 quarter ago.\n"
     ]
    },
    {
     "name": "stdout",
     "output_type": "stream",
     "text": [
      "{'diff_jaccard': 0.4969431936753502, 'diff_cosine_tf': 0.8402065031522584, 'diff_cosine_tf_idf': 0.8232277498410512, 'diff_minEdit': 0.7570326850327384, 'diff_simple': 0.6590376094897252, 'sing_LoughranMcDonald': -0.0009238540368434093, '0': {'type': '10-Q', 'published': datetime.date(2011, 4, 11), 'qtr': (2011, 2)}}\n",
      "{'diff_jaccard': 0.816596070867139, 'diff_cosine_tf': 0.9903342847768135, 'diff_cosine_tf_idf': 0.989614582368811, 'diff_minEdit': 1.0, 'diff_simple': 1.0, 'sing_LoughranMcDonald': -0.0010353478164800002, '0': {'type': '10-Q', 'published': datetime.date(2010, 11, 9), 'qtr': (2010, 4)}}\n",
      "[INFO] Comparing current qtr (2011, 3) to qtr (2011, 2) from 1 quarter ago.\n",
      "[INFO] Comparing current qtr (2011, 1) to qtr (2010, 4) from 1 quarter ago.\n",
      "[INFO] No ToC found\n",
      "[INFO] Found a ToC!\n",
      "{'diff_jaccard': 0.5308463043129298, 'diff_cosine_tf': 0.9029252784240381, 'diff_cosine_tf_idf': 0.8864091748595673, 'diff_minEdit': 0.9590616919253871, 'diff_simple': 0.9292290937656217, 'sing_LoughranMcDonald': -0.0007201231050029102, '0': {'type': '10-K', 'published': datetime.date(2012, 3, 15), 'qtr': (2012, 1)}}\n",
      "[INFO] Comparing current qtr (2012, 2) to qtr (2012, 1) from 1 quarter ago.\n",
      "{'diff_jaccard': 0.807946894156217, 'diff_cosine_tf': 0.9397408489235699, 'diff_cosine_tf_idf': 0.9338401214707439, 'diff_minEdit': 0.9938848944017816, 'diff_simple': 0.9767906068440143, 'sing_LoughranMcDonald': -0.0008030670827753713, '0': {'type': '10-Q', 'published': datetime.date(2011, 7, 11), 'qtr': (2011, 3)}}\n",
      "[INFO] Comparing current qtr (2011, 4) to qtr (2011, 3) from 1 quarter ago.\n",
      "{'diff_jaccard': 0.34757199548467327, 'diff_cosine_tf': 0.5845524531463946, 'diff_cosine_tf_idf': 0.5666961851864131, 'diff_minEdit': 0.85450969598262, 'diff_simple': 0.6618685803468103, 'sing_LoughranMcDonald': -0.0003714059237231174, '0': {'type': '10-K', 'published': datetime.date(2011, 2, 28), 'qtr': (2011, 1)}}\n",
      "[INFO] Comparing current qtr (2011, 2) to qtr (2011, 1) from 1 quarter ago.\n",
      "{'diff_jaccard': 0.8222978785728943, 'diff_cosine_tf': 0.9837992415524176, 'diff_cosine_tf_idf': 0.9817938717285212, 'diff_minEdit': 0.999621301775148, 'diff_simple': 0.9999507692307692, 'sing_LoughranMcDonald': -0.00023880819285857006, '0': {'type': '10-Q', 'published': datetime.date(2012, 8, 9), 'qtr': (2012, 3)}}\n",
      "[INFO] Comparing current qtr (2012, 4) to qtr (2012, 3) from 1 quarter ago.\n",
      "[INFO] Found a ToC!\n",
      "{'diff_jaccard': 0.8236215442676541, 'diff_cosine_tf': 0.9800303026337918, 'diff_cosine_tf_idf': 0.9742866940472706, 'diff_minEdit': 0.9957988528067397, 'diff_simple': 0.9976193499238192, 'sing_LoughranMcDonald': -0.0008272757056090737, '0': {'type': '10-Q', 'published': datetime.date(2011, 10, 11), 'qtr': (2011, 4)}}\n",
      "[INFO] Comparing current qtr (2012, 1) to qtr (2011, 4) from 1 quarter ago.\n",
      "{'diff_jaccard': 0.03316266513858042, 'diff_cosine_tf': 0.28194510504562, 'diff_cosine_tf_idf': 0.22462971206210935, 'diff_minEdit': 0.6292716817859689, 'diff_simple': 0.38985850523337606, 'sing_LoughranMcDonald': -0.028742279287855936, '0': {'type': '10-Q', 'published': datetime.date(2011, 5, 5), 'qtr': (2011, 2)}}\n",
      "[INFO] Comparing current qtr (2011, 3) to qtr (2011, 2) from 1 quarter ago.\n",
      "{'diff_jaccard': 0.954530981341145, 'diff_cosine_tf': 0.9915085676040039, 'diff_cosine_tf_idf': 0.9853749967315568, 'diff_minEdit': 0.9556135770234987, 'diff_simple': 0.6768668407310705, 'sing_LoughranMcDonald': -0.028590373056318168, '0': {'type': '10-Q', 'published': datetime.date(2011, 8, 4), 'qtr': (2011, 3)}}\n",
      "[INFO] Comparing current qtr (2011, 4) to qtr (2011, 3) from 1 quarter ago.\n",
      "{'diff_jaccard': 0.5473243734788447, 'diff_cosine_tf': 0.8877149320592908, 'diff_cosine_tf_idf': 0.8706943668357653, 'diff_minEdit': 0.9627465523710321, 'diff_simple': 0.9209328804662472, 'sing_LoughranMcDonald': -0.0007838654801167635, '0': {'type': '10-Q', 'published': datetime.date(2012, 5, 10), 'qtr': (2012, 2)}}\n",
      "[INFO] Comparing current qtr (2012, 3) to qtr (2012, 2) from 1 quarter ago.\n",
      "[INFO] Found a ToC!\n",
      "{'diff_jaccard': 0.5308537066851259, 'diff_cosine_tf': 0.9341344546520863, 'diff_cosine_tf_idf': 0.9282582097891404, 'diff_minEdit': 0.9949196672382041, 'diff_simple': 0.9939594843462247, 'sing_LoughranMcDonald': -0.0005039948697508727, '0': {'type': '10-K', 'published': datetime.date(2011, 3, 16), 'qtr': (2011, 1)}}\n",
      "[INFO] Comparing current qtr (2011, 2) to qtr (2011, 1) from 1 quarter ago.\n",
      "{'diff_jaccard': 0.9673045977718691, 'diff_cosine_tf': 0.9962724233442306, 'diff_cosine_tf_idf': 0.9935581290585764, 'diff_minEdit': 1.0, 'diff_simple': 1.0, 'sing_LoughranMcDonald': -0.028205317863016124, '0': {'type': '10-Q', 'published': datetime.date(2011, 11, 7), 'qtr': (2011, 4)}}\n",
      "[INFO] Comparing current qtr (2012, 1) to qtr (2011, 4) from 1 quarter ago.\n",
      "[INFO] Found a ToC!\n",
      "{'diff_jaccard': 0.4911879078990635, 'diff_cosine_tf': 0.8694838063687138, 'diff_cosine_tf_idf': 0.8517125748304566, 'diff_minEdit': 0.7461096653762668, 'diff_simple': 0.6785655811442965, 'sing_LoughranMcDonald': -0.0005014527601613884, '0': {'type': '10-K', 'published': datetime.date(2012, 2, 28), 'qtr': (2012, 1)}}\n",
      "[INFO] Comparing current qtr (2012, 2) to qtr (2012, 1) from 1 quarter ago.\n",
      "{'diff_jaccard': 0.8510486529673705, 'diff_cosine_tf': 0.9890279948929074, 'diff_cosine_tf_idf': 0.986473463046694, 'diff_minEdit': 1.0, 'diff_simple': 1.0, 'sing_LoughranMcDonald': -0.000624026524709685, '0': {'type': '10-Q', 'published': datetime.date(2012, 8, 2), 'qtr': (2012, 3)}}\n",
      "[INFO] Comparing current qtr (2012, 4) to qtr (2012, 3) from 1 quarter ago.\n",
      "[INFO] Found a ToC!\n",
      "[WARNING] Section ii_1a was found to be empty.\n",
      "{'diff_jaccard': 0.4275964400251291, 'diff_cosine_tf': 0.909287129068915, 'diff_cosine_tf_idf': 0.8987875554481133, 'diff_minEdit': 0.9565114477534858, 'diff_simple': 0.6986243329316577, 'sing_LoughranMcDonald': -0.0001396216334231825, '0': {'type': '10-Q', 'published': datetime.date(2012, 11, 8), 'qtr': (2012, 4)}}\n"
     ]
    },
    {
     "name": "stderr",
     "output_type": "stream",
     "text": [
      "\n",
      " 13%|█▎        | 133/1000 [01:35<21:17,  1.47s/it]\u001b[A\n",
      "\n",
      "133it [01:35,  1.31s/it]\u001b[A\u001b[A"
     ]
    },
    {
     "name": "stdout",
     "output_type": "stream",
     "text": [
      "{'diff_jaccard': 0.47927611220000155, 'diff_cosine_tf': 0.8666233776509207, 'diff_cosine_tf_idf': 0.8496768014660858, 'diff_minEdit': 0.7674705320375446, 'diff_simple': 0.6554140407445406, 'sing_LoughranMcDonald': -0.0010131412086265492, '0': {'type': '10-Q', 'published': datetime.date(2012, 4, 12), 'qtr': (2012, 2)}}\n",
      "[INFO] Comparing current qtr (2012, 3) to qtr (2012, 2) from 1 quarter ago.\n",
      "{'diff_jaccard': 0.5395828263660979, 'diff_cosine_tf': 0.9341313709279844, 'diff_cosine_tf_idf': 0.9286222250691845, 'diff_minEdit': 0.9926237074622838, 'diff_simple': 0.9946521879101557, 'sing_LoughranMcDonald': -0.0011189027420049939, '0': {'type': '10-Q', 'published': datetime.date(2011, 5, 10), 'qtr': (2011, 2)}}\n",
      "{'diff_jaccard': 0.03741576965649774, 'diff_cosine_tf': 0.26638883329644913, 'diff_cosine_tf_idf': 0.21027211907088394, 'diff_minEdit': 0.6563682350400852, 'diff_simple': 0.3473260254166622, 'sing_LoughranMcDonald': -0.00030566037407204507, '0': {'type': '10-K', 'published': datetime.date(2012, 2, 27), 'qtr': (2012, 1)}}\n",
      "[INFO] Comparing current qtr (2011, 3) to qtr (2011, 2) from 1 quarter ago.\n",
      "[INFO] Comparing current qtr (2012, 2) to qtr (2012, 1) from 1 quarter ago.\n",
      "[INFO] Found a ToC!\n",
      "[WARNING] Section ii_1a was found to be empty.\n",
      "{'diff_jaccard': 0.8402043897907505, 'diff_cosine_tf': 0.99511752176362, 'diff_cosine_tf_idf': 0.9911836853918705, 'diff_minEdit': 1.0, 'diff_simple': 1.0, 'sing_LoughranMcDonald': -0.0006338785241952378, '0': {'type': '10-Q', 'published': datetime.date(2012, 11, 9), 'qtr': (2012, 4)}}\n"
     ]
    },
    {
     "name": "stderr",
     "output_type": "stream",
     "text": [
      "\n",
      " 13%|█▎        | 134/1000 [01:35<15:37,  1.08s/it]\u001b[A\n",
      "\n",
      "134it [01:35,  1.04it/s]\u001b[A\u001b[A"
     ]
    },
    {
     "name": "stdout",
     "output_type": "stream",
     "text": [
      "{'diff_jaccard': 0.8505819772832519, 'diff_cosine_tf': 0.9561485315901295, 'diff_cosine_tf_idf': 0.9517161734704962, 'diff_minEdit': 0.9838772708526206, 'diff_simple': 0.9882596787326967, 'sing_LoughranMcDonald': -0.0008112490835817961, '0': {'type': '10-Q', 'published': datetime.date(2012, 7, 16), 'qtr': (2012, 3)}}\n",
      "[INFO] Comparing current qtr (2012, 4) to qtr (2012, 3) from 1 quarter ago.\n",
      "{'diff_jaccard': 0.02268752966460994, 'diff_cosine_tf': 0.11884308330819279, 'diff_cosine_tf_idf': 0.0919496204816864, 'diff_minEdit': 0.556421584142995, 'diff_simple': 0.2772125283960992, 'sing_LoughranMcDonald': -0.0033620227095431496, '0': {'type': '10-Q', 'published': datetime.date(2012, 5, 7), 'qtr': (2012, 2)}}\n",
      "[INFO] Comparing current qtr (2012, 3) to qtr (2012, 2) from 1 quarter ago.\n",
      "[INFO] Found a ToC!\n",
      "[WARNING] Section ii_1a was found to be empty.\n",
      "{'diff_jaccard': 0.20609805854172514, 'diff_cosine_tf': 0.388597446969716, 'diff_cosine_tf_idf': 0.36299552786260697, 'diff_minEdit': 0.7995459824728117, 'diff_simple': 0.5404112916810738, 'sing_LoughranMcDonald': -0.00521937861162095, '0': {'type': '10-Q', 'published': datetime.date(2012, 8, 7), 'qtr': (2012, 3)}}\n",
      "[INFO] Comparing current qtr (2012, 4) to qtr (2012, 3) from 1 quarter ago.\n",
      "{'diff_jaccard': 0.7772938275464195, 'diff_cosine_tf': 0.9846679289989662, 'diff_cosine_tf_idf': 0.9841823638917664, 'diff_minEdit': 0.9999999999999999, 'diff_simple': 0.9999999999999999, 'sing_LoughranMcDonald': -0.0010011202370366998, '0': {'type': '10-Q', 'published': datetime.date(2011, 8, 9), 'qtr': (2011, 3)}}\n",
      "[INFO] Comparing current qtr (2011, 4) to qtr (2011, 3) from 1 quarter ago.\n",
      "{'diff_jaccard': 0.8125548195112532, 'diff_cosine_tf': 0.9732885634363562, 'diff_cosine_tf_idf': 0.9686329162013197, 'diff_minEdit': 0.9283885895304484, 'diff_simple': 0.9838079110854231, 'sing_LoughranMcDonald': -0.0006794817891406825, '0': {'type': '10-Q', 'published': datetime.date(2012, 10, 15), 'qtr': (2012, 4)}}\n"
     ]
    },
    {
     "name": "stderr",
     "output_type": "stream",
     "text": [
      "\n",
      " 14%|█▎        | 135/1000 [01:35<11:57,  1.20it/s]\u001b[A\n",
      "\n",
      "135it [01:35,  1.34it/s]\u001b[A\u001b[A"
     ]
    },
    {
     "name": "stdout",
     "output_type": "stream",
     "text": [
      "[INFO] Found a ToC!\n",
      "{'diff_jaccard': 0.8509812455079913, 'diff_cosine_tf': 0.9821203104638904, 'diff_cosine_tf_idf': 0.9701773543941998, 'diff_minEdit': 0.9981951738949952, 'diff_simple': 0.9980643240023823, 'sing_LoughranMcDonald': -0.0058001749037890375, '0': {'type': '10-Q', 'published': datetime.date(2012, 11, 5), 'qtr': (2012, 4)}}\n"
     ]
    },
    {
     "name": "stderr",
     "output_type": "stream",
     "text": [
      "\n",
      " 14%|█▎        | 136/1000 [01:35<08:54,  1.62it/s]\u001b[A\n",
      "\n",
      "136it [01:35,  1.78it/s]\u001b[A\u001b[A"
     ]
    },
    {
     "name": "stdout",
     "output_type": "stream",
     "text": [
      "[INFO] No ToC found\n",
      "[WARNING] Section ii_1 was found to be empty.\n",
      "[WARNING] Section ii_1a was found to be empty.\n",
      "{'diff_jaccard': 0.8402228526108833, 'diff_cosine_tf': 0.9918855728089877, 'diff_cosine_tf_idf': 0.9885651549877261, 'diff_minEdit': 0.9999999999999999, 'diff_simple': 0.9999999999999999, 'sing_LoughranMcDonald': -0.0010054502413285654, '0': {'type': '10-Q', 'published': datetime.date(2011, 11, 9), 'qtr': (2011, 4)}}\n",
      "[INFO] Comparing current qtr (2012, 1) to qtr (2011, 4) from 1 quarter ago.\n",
      "[INFO] Found a ToC!\n",
      "[WARNING] Section ii_1 was found to be empty.\n",
      "[WARNING] Section ii_1a was found to be empty.\n",
      "[INFO] Found a ToC!\n",
      "[WARNING] Section ii_1 was found to be empty.\n",
      "[WARNING] Section ii_1a was found to be empty.\n",
      "[INFO] No ToC found\n",
      "This is the res {'1': [(6926, 6944)], '1a': [(55288, 55302)], '1b': [(70405, 70426)], '2': [(70456, 70476)], '3': [], '4': [(5739, 5762), (74360, 74380)], '5': [(81658, 81674)], '6': [(5952, 5973), (84487, 84505)], '7': [(5994, 6018), (85009, 85029)], '7a': [(6099, 6125), (162542, 162565)], '8': [(6177, 6199), (166444, 166463)], '9': [(6239, 6260)], '9a': [(6343, 6365), (246954, 246973)], '9b': [(6386, 6405), (247884, 247900)], '10': [(6435, 6458), (247942, 247962)], '11': [(6509, 6532), (249031, 249051)], '12': [(6551, 6574), (249607, 249625)], '13': [(6668, 6689), (250994, 251012)], '14': [(6761, 6784), (251508, 251528)], '15': [(6832, 6854), (251983, 252002)]}\n",
      "[WARNING] /home/alex/Desktop/filtered_text_data/nd_data/2010/QTR1/20100223_10-K_edgar_data_901491_0001104659-10-008891_1.txt failed parsing\n"
     ]
    },
    {
     "name": "stderr",
     "output_type": "stream",
     "text": [
      "\n",
      " 14%|█▎        | 137/1000 [01:36<08:27,  1.70it/s]\u001b[A\n",
      "\n",
      "137it [01:36,  1.82it/s]\u001b[A\u001b[A"
     ]
    },
    {
     "name": "stdout",
     "output_type": "stream",
     "text": [
      "[INFO] No ToC found\n",
      "{'diff_jaccard': 0.5196680157383691, 'diff_cosine_tf': 0.9389471184473133, 'diff_cosine_tf_idf': 0.930316028760146, 'diff_minEdit': 0.9957455167095689, 'diff_simple': 0.9949414193676774, 'sing_LoughranMcDonald': -0.0005199292556012999, '0': {'type': '10-K', 'published': datetime.date(2012, 3, 15), 'qtr': (2012, 1)}}\n",
      "[INFO] Comparing current qtr (2012, 2) to qtr (2012, 1) from 1 quarter ago.\n",
      "[INFO] Found a ToC!\n",
      "[INFO] Found a ToC!\n",
      "[INFO] Found a ToC!\n",
      "[WARNING] Section 3 was found to be empty.\n",
      "[WARNING] Section 9a was found to be empty.\n",
      "[INFO] Found a ToC!\n",
      "[INFO] Found a ToC!\n",
      "[INFO] Found a ToC!\n",
      "[WARNING] Section ii_1 was found to be empty.\n",
      "[INFO] Found a ToC!\n",
      "[WARNING] Section ii_1a was found to be empty.\n",
      "[WARNING] Section ii_1a was found to be empty.\n",
      "{'diff_jaccard': 0.5382395202678563, 'diff_cosine_tf': 0.9372481769802926, 'diff_cosine_tf_idf': 0.9311277910199078, 'diff_minEdit': 0.993761768552989, 'diff_simple': 0.995477282200917, 'sing_LoughranMcDonald': -0.0010984460400227853, '0': {'type': '10-Q', 'published': datetime.date(2012, 5, 10), 'qtr': (2012, 2)}}\n",
      "[INFO] No ToC found\n",
      "[INFO] Comparing current qtr (2012, 3) to qtr (2012, 2) from 1 quarter ago.\n",
      "[INFO] No ToC found\n",
      "[INFO] Comparing current qtr (2010, 2) to qtr (2010, 1) from 1 quarter ago.\n",
      "[INFO] Found a ToC!\n",
      "[WARNING] Section ii_1 was found to be empty.\n",
      "[INFO] Found a ToC!\n",
      "[WARNING] Section ii_1a was found to be empty.\n",
      "[INFO] Found a ToC!\n",
      "[WARNING] Section ii_1a was found to be empty.\n",
      "[INFO] Found a ToC!\n",
      "[INFO] Found a ToC!\n",
      "[WARNING] Section ii_1 was found to be empty.\n",
      "[INFO] No ToC found\n",
      "[WARNING] Section ii_1a was found to be empty.\n",
      "[INFO] No ToC found\n",
      "{'diff_jaccard': 0.8062627854081714, 'diff_cosine_tf': 0.9839796235837209, 'diff_cosine_tf_idf': 0.9832233150641544, 'diff_minEdit': 1.0, 'diff_simple': 1.0, 'sing_LoughranMcDonald': -0.0009910937719646068, '0': {'type': '10-Q', 'published': datetime.date(2012, 8, 9), 'qtr': (2012, 3)}}\n",
      "[INFO] Comparing current qtr (2012, 4) to qtr (2012, 3) from 1 quarter ago.\n",
      "[INFO] No ToC found\n",
      "[INFO] Found a ToC!\n",
      "[WARNING] Section ii_1a was found to be empty.\n",
      "{'diff_jaccard': 0.4029265078621862, 'diff_cosine_tf': 0.8203576764871203, 'diff_cosine_tf_idf': 0.8047187849518153, 'diff_minEdit': 0.7812161244130638, 'diff_simple': 0.7307818253315698, 'sing_LoughranMcDonald': -0.0017142141707318463, '0': {'type': '10-Q', 'published': datetime.date(2010, 5, 12), 'qtr': (2010, 2)}}\n",
      "[INFO] Comparing current qtr (2010, 3) to qtr (2010, 2) from 1 quarter ago.\n",
      "[INFO] Comparing current qtr (2010, 2) to qtr (2010, 1) from 1 quarter ago.\n",
      "[INFO] No ToC found\n",
      "[INFO] Found a ToC!\n",
      "[INFO] Found a ToC!\n",
      "[WARNING] Section ii_1 was found to be empty.\n",
      "[INFO] No ToC found\n",
      "{'diff_jaccard': 0.7174871075724771, 'diff_cosine_tf': 0.9843634138450457, 'diff_cosine_tf_idf': 0.9799170952489753, 'diff_minEdit': 0.9997876372190277, 'diff_simple': 0.9998640878201777, 'sing_LoughranMcDonald': -0.002323302690642533, '0': {'type': '10-Q', 'published': datetime.date(2010, 8, 10), 'qtr': (2010, 3)}}\n",
      "[INFO] Comparing current qtr (2010, 4) to qtr (2010, 3) from 1 quarter ago.\n",
      "{'diff_jaccard': 0.677391754466296, 'diff_cosine_tf': 0.7408593631636172, 'diff_cosine_tf_idf': 0.7320898077270478, 'diff_minEdit': 0.8834961592361036, 'diff_simple': 0.7812166401234132, 'sing_LoughranMcDonald': -0.0015779087904259465, '0': {'type': '10-Q', 'published': datetime.date(2010, 5, 7), 'qtr': (2010, 2)}}\n",
      "[INFO] Comparing current qtr (2010, 3) to qtr (2010, 2) from 1 quarter ago.\n",
      "{'diff_jaccard': 0.7470252154940357, 'diff_cosine_tf': 0.9708757389660063, 'diff_cosine_tf_idf': 0.967850982329551, 'diff_minEdit': 1.0, 'diff_simple': 1.0, 'sing_LoughranMcDonald': -0.0008355117116730002, '0': {'type': '10-Q', 'published': datetime.date(2012, 11, 9), 'qtr': (2012, 4)}}\n"
     ]
    },
    {
     "name": "stderr",
     "output_type": "stream",
     "text": [
      "\n",
      " 14%|█▍        | 138/1000 [01:37<10:42,  1.34it/s]\u001b[A\n",
      "\n",
      "138it [01:37,  1.39it/s]\u001b[A\u001b[A"
     ]
    },
    {
     "name": "stdout",
     "output_type": "stream",
     "text": [
      "[INFO] Found a ToC!\n",
      "[WARNING] Section ii_1 was found to be empty.\n",
      "{'diff_jaccard': 0.7779473972199267, 'diff_cosine_tf': 0.9905055056025449, 'diff_cosine_tf_idf': 0.9878084029135724, 'diff_minEdit': 1.0, 'diff_simple': 1.0, 'sing_LoughranMcDonald': -0.002113848551014543, '0': {'type': '10-Q', 'published': datetime.date(2010, 11, 9), 'qtr': (2010, 4)}}\n",
      "[INFO] Comparing current qtr (2011, 1) to qtr (2010, 4) from 1 quarter ago.\n",
      "[INFO] Found a ToC!\n",
      "[WARNING] Section 7a was found to be empty.\n",
      "{'diff_jaccard': 0.07892816344373614, 'diff_cosine_tf': 0.36619399392981367, 'diff_cosine_tf_idf': 0.34146434427877703, 'diff_minEdit': 0.8285209240256352, 'diff_simple': 0.6411468410089354, 'sing_LoughranMcDonald': -0.0006681344896020409, '0': {'type': '10-Q', 'published': datetime.date(2010, 8, 6), 'qtr': (2010, 3)}}\n",
      "[INFO] Comparing current qtr (2010, 4) to qtr (2010, 3) from 1 quarter ago.\n",
      "[WARNING] Section ii_1 was found to be empty.\n",
      "[WARNING] Section ii_1a was found to be empty.\n",
      "[INFO] Found a ToC!\n",
      "[WARNING] Section ii_1 was found to be empty.\n",
      "[WARNING] Section ii_1 was found to be empty.\n",
      "{'diff_jaccard': 0.3914572537743531, 'diff_cosine_tf': 0.8055294344629651, 'diff_cosine_tf_idf': 0.7879281980751033, 'diff_minEdit': 0.768868959786612, 'diff_simple': 0.7225031897926634, 'sing_LoughranMcDonald': -0.0005071549852851752, '0': {'type': '10-K', 'published': datetime.date(2011, 3, 1), 'qtr': (2011, 1)}}\n",
      "[INFO] Comparing current qtr (2011, 2) to qtr (2011, 1) from 1 quarter ago.\n",
      "[INFO] Found a ToC!\n",
      "This is the res {'_i_1': [(5463, 5483)], '_i_2': [], '_i_3': [(54616, 54639)], 'ii_2': [(57204, 57258)], 'ii_6': [(57724, 57743)]}\n",
      "[WARNING] /home/alex/Desktop/filtered_text_data/nd_data/2012/QTR4/20121107_10-Q_edgar_data_98677_0001104659-12-075221_1.txt failed parsing\n",
      "[INFO] Found a ToC!\n",
      "{'diff_jaccard': 0.9572738691928402, 'diff_cosine_tf': 0.9995848861175588, 'diff_cosine_tf_idf': 0.9995311840971257, 'diff_minEdit': 0.39258126003210264, 'diff_simple': 0.48031952247191007, 'sing_LoughranMcDonald': -0.000629940672330691, '0': {'type': '10-Q', 'published': datetime.date(2010, 11, 5), 'qtr': (2010, 4)}}\n",
      "[INFO] Comparing current qtr (2011, 1) to qtr (2010, 4) from 1 quarter ago.\n"
     ]
    },
    {
     "name": "stderr",
     "output_type": "stream",
     "text": [
      "\n",
      " 14%|█▍        | 139/1000 [01:38<09:39,  1.48it/s]\u001b[A\n",
      "\n",
      "139it [01:38,  1.53it/s]\u001b[A\u001b[A"
     ]
    },
    {
     "name": "stdout",
     "output_type": "stream",
     "text": [
      "{'diff_jaccard': 0.37031268534316125, 'diff_cosine_tf': 0.7998946722708711, 'diff_cosine_tf_idf': 0.7828361988941283, 'diff_minEdit': 0.7818816750943562, 'diff_simple': 0.7177937512762916, 'sing_LoughranMcDonald': -0.0016016839846878103, '0': {'type': '10-Q', 'published': datetime.date(2011, 5, 10), 'qtr': (2011, 2)}}\n",
      "[INFO] Comparing current qtr (2011, 3) to qtr (2011, 2) from 1 quarter ago.\n",
      "[INFO] No ToC found\n",
      "[WARNING] Section ii_1a was found to be empty.\n",
      "[INFO] Found a ToC!\n",
      "{'diff_jaccard': 0.7613749265576537, 'diff_cosine_tf': 0.9879222021804258, 'diff_cosine_tf_idf': 0.984874679171857, 'diff_minEdit': 1.0, 'diff_simple': 1.0, 'sing_LoughranMcDonald': -0.0013770986511432376, '0': {'type': '10-Q', 'published': datetime.date(2011, 8, 9), 'qtr': (2011, 3)}}\n",
      "[INFO] Comparing current qtr (2011, 4) to qtr (2011, 3) from 1 quarter ago.\n",
      "{'diff_jaccard': 0.0423524353018107, 'diff_cosine_tf': 0.2755224833242517, 'diff_cosine_tf_idf': 0.24563128658483444, 'diff_minEdit': 0.779736142425273, 'diff_simple': 0.5324906464842389, 'sing_LoughranMcDonald': -0.0007982629215110934, '0': {'type': '10-K', 'published': datetime.date(2011, 2, 28), 'qtr': (2011, 1)}}\n",
      "[INFO] Comparing current qtr (2011, 2) to qtr (2011, 1) from 1 quarter ago.\n",
      "[INFO] No ToC found\n",
      "[WARNING] Section ii_1a was found to be empty.\n",
      "{'diff_jaccard': 0.8229899066191827, 'diff_cosine_tf': 0.9914147610610848, 'diff_cosine_tf_idf': 0.9889584663884048, 'diff_minEdit': 0.9999999999999999, 'diff_simple': 0.9999999999999999, 'sing_LoughranMcDonald': -0.0013512545306610354, '0': {'type': '10-Q', 'published': datetime.date(2011, 11, 8), 'qtr': (2011, 4)}}\n",
      "[INFO] Comparing current qtr (2012, 1) to qtr (2011, 4) from 1 quarter ago.\n",
      "[INFO] Found a ToC!\n",
      "[INFO] No ToC found\n",
      "[INFO] Found a ToC!\n",
      "[INFO] Found a ToC!\n",
      "[WARNING] Section ii_1a was found to be empty.\n",
      "{'diff_jaccard': 0.15183689968657943, 'diff_cosine_tf': 0.5488800580648858, 'diff_cosine_tf_idf': 0.5196024031195818, 'diff_minEdit': 0.6348126243320783, 'diff_simple': 0.5139327342910887, 'sing_LoughranMcDonald': -0.0005144202289139418, '0': {'type': '10-Q', 'published': datetime.date(2011, 5, 10), 'qtr': (2011, 2)}}\n",
      "[INFO] Comparing current qtr (2011, 3) to qtr (2011, 2) from 1 quarter ago.\n",
      "[INFO] No ToC found\n",
      "[WARNING] Section 7a was found to be empty.\n",
      "[INFO] Found a ToC!\n",
      "{'diff_jaccard': 0.4230147229673957, 'diff_cosine_tf': 0.813509336511672, 'diff_cosine_tf_idf': 0.7987771237720913, 'diff_minEdit': 0.7307605623275414, 'diff_simple': 0.755119441381845, 'sing_LoughranMcDonald': -0.00040834726530478306, '0': {'type': '10-K', 'published': datetime.date(2012, 2, 28), 'qtr': (2012, 1)}}\n",
      "[INFO] Comparing current qtr (2012, 2) to qtr (2012, 1) from 1 quarter ago.\n",
      "[INFO] Found a ToC!\n",
      "[INFO] Found a ToC!\n",
      "[INFO] Comparing current qtr (2010, 2) to qtr (2010, 1) from 1 quarter ago.\n",
      "{'diff_jaccard': 0.9192848543893939, 'diff_cosine_tf': 0.996626708698325, 'diff_cosine_tf_idf': 0.9952411089222754, 'diff_minEdit': 1.0, 'diff_simple': 1.0, 'sing_LoughranMcDonald': -0.00045274992527024677, '0': {'type': '10-Q', 'published': datetime.date(2011, 8, 5), 'qtr': (2011, 3)}}\n",
      "[INFO] Comparing current qtr (2011, 4) to qtr (2011, 3) from 1 quarter ago.\n",
      "[INFO] Found a ToC!\n",
      "[WARNING] Section ii_1 was found to be empty.\n",
      "{'diff_jaccard': 0.4535202292201635, 'diff_cosine_tf': 0.8211118714737581, 'diff_cosine_tf_idf': 0.807092263299627, 'diff_minEdit': 0.752670542393821, 'diff_simple': 0.744167916041979, 'sing_LoughranMcDonald': -0.001327465706601245, '0': {'type': '10-Q', 'published': datetime.date(2012, 5, 8), 'qtr': (2012, 2)}}\n",
      "[INFO] Comparing current qtr (2012, 3) to qtr (2012, 2) from 1 quarter ago.\n",
      "[INFO] Found a ToC!\n",
      "{'diff_jaccard': 0.9129799600596712, 'diff_cosine_tf': 0.9978923831918348, 'diff_cosine_tf_idf': 0.9968923608696743, 'diff_minEdit': 1.0, 'diff_simple': 1.0, 'sing_LoughranMcDonald': -0.0004450911395167137, '0': {'type': '10-Q', 'published': datetime.date(2011, 11, 4), 'qtr': (2011, 4)}}\n",
      "[INFO] Comparing current qtr (2012, 1) to qtr (2011, 4) from 1 quarter ago.\n",
      "[INFO] No ToC found\n",
      "[WARNING] Section ii_1 was found to be empty.\n",
      "{'diff_jaccard': 0.6387990267140417, 'diff_cosine_tf': 0.9345850022224922, 'diff_cosine_tf_idf': 0.9177296773910255, 'diff_minEdit': 0.7509398455561535, 'diff_simple': 0.6262780033692831, 'sing_LoughranMcDonald': -0.0005975797362261278, '0': {'type': '10-Q', 'published': datetime.date(2010, 5, 7), 'qtr': (2010, 2)}}\n"
     ]
    },
    {
     "name": "stderr",
     "output_type": "stream",
     "text": [
      "\n",
      " 14%|█▍        | 140/1000 [01:39<12:28,  1.15it/s]\u001b[A\n",
      "\n",
      "140it [01:39,  1.17it/s]\u001b[A\u001b[A"
     ]
    },
    {
     "name": "stdout",
     "output_type": "stream",
     "text": [
      "[INFO] No ToC found\n",
      "{'diff_jaccard': 0.7477143692948484, 'diff_cosine_tf': 0.9897223576044822, 'diff_cosine_tf_idf': 0.9863398971906223, 'diff_minEdit': 0.9898718680538701, 'diff_simple': 0.9986538905564535, 'sing_LoughranMcDonald': -0.0010620834567094165, '0': {'type': '10-Q', 'published': datetime.date(2012, 8, 7), 'qtr': (2012, 3)}}\n",
      "[INFO] Comparing current qtr (2012, 4) to qtr (2012, 3) from 1 quarter ago.\n",
      "[INFO] No ToC found\n",
      "[WARNING] Section ii_1 was found to be empty.\n",
      "[WARNING] Section ii_1a was found to be empty.\n",
      "{'diff_jaccard': 0.008287113805941774, 'diff_cosine_tf': 0.40133478064330286, 'diff_cosine_tf_idf': 0.30844921512769397, 'diff_minEdit': 0.9563609487891473, 'diff_simple': 0.8006020300007918, 'sing_LoughranMcDonald': 0.0, '0': {'type': '10-Q', 'published': datetime.date(2012, 11, 6), 'qtr': (2012, 4)}}\n"
     ]
    },
    {
     "name": "stderr",
     "output_type": "stream",
     "text": [
      "\n",
      " 14%|█▍        | 141/1000 [01:39<09:34,  1.49it/s]\u001b[A\n",
      "\n",
      "141it [01:39,  1.52it/s]\u001b[A\u001b[A"
     ]
    },
    {
     "name": "stdout",
     "output_type": "stream",
     "text": [
      "{'diff_jaccard': 0.17569973560400287, 'diff_cosine_tf': 0.44214143060381683, 'diff_cosine_tf_idf': 0.42249509930283313, 'diff_minEdit': 0.6655001294466402, 'diff_simple': 0.5638272351064436, 'sing_LoughranMcDonald': -0.0003192436851054859, '0': {'type': '10-K', 'published': datetime.date(2012, 2, 24), 'qtr': (2012, 1)}}\n",
      "[INFO] Found a ToC!\n",
      "[INFO] Comparing current qtr (2012, 2) to qtr (2012, 1) from 1 quarter ago.\n",
      "[WARNING] Section _i_2 was found to be empty.\n",
      "[WARNING] Section ii_1 was found to be empty.\n",
      "[INFO] No ToC found\n",
      "[WARNING] Section ii_1 was found to be empty.\n",
      "[WARNING] Section ii_1a was found to be empty.\n",
      "[INFO] No ToC found\n",
      "[WARNING] Section ii_1 was found to be empty.\n",
      "[WARNING] Section ii_1a was found to be empty.\n",
      "[INFO] Comparing current qtr (2010, 2) to qtr (2010, 1) from 1 quarter ago.\n",
      "{'diff_jaccard': 0.14713282731424762, 'diff_cosine_tf': 0.4227390033754522, 'diff_cosine_tf_idf': 0.4002876019743927, 'diff_minEdit': 0.77244472674896, 'diff_simple': 0.5036339946279899, 'sing_LoughranMcDonald': -0.00046992158728602124, '0': {'type': '10-Q', 'published': datetime.date(2012, 5, 4), 'qtr': (2012, 2)}}\n",
      "[INFO] Comparing current qtr (2012, 3) to qtr (2012, 2) from 1 quarter ago.\n",
      "[ERROR] Here is full_sect: |[]|\n",
      "[ERROR] Original res: {'1': [], '1a': [], '1b': [], '2': [], '3': [], '4': [], '5': [], '6': [], '7': [], '7a': [], '8': [], '9': [], '9a': [], '9b': [], '10': [], '11': [], '12': [], '13': [], '14': [], '15': []}\n",
      "[WARNING] /home/alex/Desktop/filtered_text_data/nd_data/2010/QTR1/20100329_10-K_edgar_data_1229195_0001144204-10-016346_1.txt failed parsing\n"
     ]
    },
    {
     "name": "stderr",
     "output_type": "stream",
     "text": [
      "\n",
      " 14%|█▍        | 142/1000 [01:40<08:25,  1.70it/s]\u001b[A\n",
      "\n",
      "142it [01:40,  1.70it/s]\u001b[A\u001b[A"
     ]
    },
    {
     "name": "stdout",
     "output_type": "stream",
     "text": [
      "[INFO] No ToC found\n",
      "{'diff_jaccard': 0.9242068754748255, 'diff_cosine_tf': 0.9955021610211952, 'diff_cosine_tf_idf': 0.9947148765172473, 'diff_minEdit': 1.0, 'diff_simple': 1.0, 'sing_LoughranMcDonald': -0.0004118921185132828, '0': {'type': '10-Q', 'published': datetime.date(2012, 8, 3), 'qtr': (2012, 3)}}\n",
      "[INFO] Comparing current qtr (2012, 4) to qtr (2012, 3) from 1 quarter ago.\n",
      "{'diff_jaccard': 0.2583358882656838, 'diff_cosine_tf': 0.7940439365155737, 'diff_cosine_tf_idf': 0.775415193363357, 'diff_minEdit': 0.8911695372184038, 'diff_simple': 0.7581857350370534, 'sing_LoughranMcDonald': -0.0011217566047430768, '0': {'type': '10-Q', 'published': datetime.date(2010, 5, 7), 'qtr': (2010, 2)}}\n",
      "[INFO] Comparing current qtr (2010, 3) to qtr (2010, 2) from 1 quarter ago.\n",
      "{'diff_jaccard': 0.8405693448212711, 'diff_cosine_tf': 0.9904170477705861, 'diff_cosine_tf_idf': 0.9899531166263693, 'diff_minEdit': 0.9948289654731047, 'diff_simple': 0.9908989792326645, 'sing_LoughranMcDonald': -0.0009146939106981846, '0': {'type': '10-Q', 'published': datetime.date(2010, 8, 5), 'qtr': (2010, 3)}}\n",
      "[INFO] Comparing current qtr (2010, 4) to qtr (2010, 3) from 1 quarter ago.\n",
      "{'diff_jaccard': 0.9162198871311574, 'diff_cosine_tf': 0.9976696641286678, 'diff_cosine_tf_idf': 0.9965546976507456, 'diff_minEdit': 1.0, 'diff_simple': 1.0, 'sing_LoughranMcDonald': -0.00040389339134529233, '0': {'type': '10-Q', 'published': datetime.date(2012, 11, 2), 'qtr': (2012, 4)}}\n"
     ]
    },
    {
     "name": "stderr",
     "output_type": "stream",
     "text": [
      "\n",
      " 14%|█▍        | 143/1000 [01:40<07:58,  1.79it/s]\u001b[A\n",
      "\n",
      "143it [01:40,  1.81it/s]\u001b[A\u001b[A"
     ]
    },
    {
     "name": "stdout",
     "output_type": "stream",
     "text": [
      "[INFO] No ToC found\n",
      "{'diff_jaccard': 0.8226377512211533, 'diff_cosine_tf': 0.9947198152837723, 'diff_cosine_tf_idf': 0.9930495231774518, 'diff_minEdit': 0.9985357994103995, 'diff_simple': 0.9995314558113277, 'sing_LoughranMcDonald': -0.0013498035754379565, '0': {'type': '10-Q', 'published': datetime.date(2010, 11, 4), 'qtr': (2010, 4)}}\n",
      "[INFO] Comparing current qtr (2011, 1) to qtr (2010, 4) from 1 quarter ago.\n",
      "[INFO] Found a ToC!\n",
      "[WARNING] Section 9a was found to be empty.\n",
      "[INFO] Found a ToC!\n",
      "[INFO] No ToC found\n",
      "[WARNING] Section _i_4 was found to be empty.\n",
      "[INFO] Found a ToC!\n",
      "[WARNING] Section ii_1a was found to be empty.\n",
      "[INFO] No ToC found\n",
      "[WARNING] Section ii_1 was found to be empty.\n",
      "[INFO] No ToC found\n",
      "[INFO] Found a ToC!\n",
      "[INFO] No ToC found\n",
      "[INFO] No ToC found\n",
      "[WARNING] Section ii_1 was found to be empty.\n",
      "[INFO] No ToC found\n",
      "[INFO] Found a ToC!\n",
      "[WARNING] Section ii_1a was found to be empty.\n",
      "[INFO] Found a ToC!\n",
      "[INFO] Found a ToC!\n",
      "{'diff_jaccard': 0.29030546134892915, 'diff_cosine_tf': 0.8094486870642982, 'diff_cosine_tf_idf': 0.7933862894745909, 'diff_minEdit': 0.9082945127673884, 'diff_simple': 0.7489572304434541, 'sing_LoughranMcDonald': -0.0003411498972024237, '0': {'type': '10-K', 'published': datetime.date(2011, 3, 16), 'qtr': (2011, 1)}}\n",
      "[INFO] Comparing current qtr (2011, 2) to qtr (2011, 1) from 1 quarter ago.\n",
      "[INFO] No ToC found\n",
      "[WARNING] Section ii_1 was found to be empty.\n",
      "[INFO] Found a ToC!\n",
      "[WARNING] Section _i_2 was found to be empty.\n",
      "[WARNING] Section _i_3 was found to be empty.\n",
      "[INFO] No ToC found\n",
      "[WARNING] Section _i_4 was found to be empty.\n",
      "[WARNING] Section ii_1 was found to be empty.\n",
      "[WARNING] Section ii_1a was found to be empty.\n",
      "[INFO] No ToC found\n",
      "[INFO] Found a ToC!\n",
      "[INFO] Found a ToC!\n",
      "[WARNING] Section ii_1a was found to be empty.\n",
      "[INFO] Found a ToC!\n",
      "[WARNING] Section _i_2 was found to be empty.\n",
      "[INFO] No ToC found\n",
      "[WARNING] Section _i_3 was found to be empty.\n",
      "[WARNING] Section _i_4 was found to be empty.\n",
      "[INFO] No ToC found\n",
      "[WARNING] Section ii_1 was found to be empty.\n",
      "[INFO] Comparing current qtr (2010, 2) to qtr (2010, 1) from 1 quarter ago.\n",
      "[WARNING] Section ii_1a was found to be empty.\n",
      "{'diff_jaccard': 0.25305641452159894, 'diff_cosine_tf': 0.607307418278338, 'diff_cosine_tf_idf': 0.5903655085404328, 'diff_minEdit': 0.8683226529023882, 'diff_simple': 0.7303219303445126, 'sing_LoughranMcDonald': -0.0020373677455192366, '0': {'type': '10-Q', 'published': datetime.date(2011, 5, 4), 'qtr': (2011, 2)}}\n",
      "[INFO] No ToC found\n",
      "[INFO] Comparing current qtr (2011, 3) to qtr (2011, 2) from 1 quarter ago.\n",
      "[INFO] No ToC found\n",
      "[INFO] Found a ToC!\n",
      "[WARNING] Section _i_2 was found to be empty.\n",
      "[WARNING] Section _i_3 was found to be empty.\n",
      "[WARNING] Section _i_4 was found to be empty.\n",
      "[WARNING] Section ii_1 was found to be empty.\n",
      "[INFO] No ToC found\n",
      "[WARNING] Section ii_1a was found to be empty.\n",
      "[INFO] Found a ToC!\n",
      "{'diff_jaccard': 0.34136656474337507, 'diff_cosine_tf': 0.878292142013942, 'diff_cosine_tf_idf': 0.8468850420415378, 'diff_minEdit': 0.7753821279905536, 'diff_simple': 0.6855466439420522, 'sing_LoughranMcDonald': -0.0008750555541125174, '0': {'type': '10-Q', 'published': datetime.date(2010, 5, 10), 'qtr': (2010, 2)}}\n",
      "[INFO] Comparing current qtr (2010, 3) to qtr (2010, 2) from 1 quarter ago.\n",
      "[WARNING] Section _i_2 was found to be empty.\n",
      "[WARNING] Section _i_3 was found to be empty.\n",
      "[WARNING] Section _i_4 was found to be empty.\n",
      "{'diff_jaccard': 0.8371255366129391, 'diff_cosine_tf': 0.9855698372570398, 'diff_cosine_tf_idf': 0.9829604110777183, 'diff_minEdit': 0.9999999999999998, 'diff_simple': 0.9999999999999998, 'sing_LoughranMcDonald': -0.0010144130446818693, '0': {'type': '10-Q', 'published': datetime.date(2011, 8, 2), 'qtr': (2011, 3)}}\n",
      "[WARNING] Section ii_1 was found to be empty.\n",
      "[INFO] Comparing current qtr (2011, 4) to qtr (2011, 3) from 1 quarter ago.\n",
      "[INFO] No ToC found\n",
      "[WARNING] Section ii_1a was found to be empty.\n",
      "[INFO] Comparing current qtr (2010, 2) to qtr (2010, 1) from 1 quarter ago.\n",
      "{'diff_jaccard': 0.7369301302688633, 'diff_cosine_tf': 0.9648352664499459, 'diff_cosine_tf_idf': 0.9593275865322406, 'diff_minEdit': 0.9957918017693447, 'diff_simple': 0.9818205836435691, 'sing_LoughranMcDonald': -0.0007875824139851356, '0': {'type': '10-Q', 'published': datetime.date(2010, 8, 9), 'qtr': (2010, 3)}}\n",
      "[INFO] Comparing current qtr (2010, 4) to qtr (2010, 3) from 1 quarter ago.\n",
      "{'diff_jaccard': 0.7543762880077942, 'diff_cosine_tf': 0.9579017941874237, 'diff_cosine_tf_idf': 0.9536919167025786, 'diff_minEdit': 0.906697322537893, 'diff_simple': 0.8225205354680976, 'sing_LoughranMcDonald': -0.0011405430262546546, '0': {'type': '10-Q', 'published': datetime.date(2011, 11, 3), 'qtr': (2011, 4)}}\n",
      "[INFO] Comparing current qtr (2012, 1) to qtr (2011, 4) from 1 quarter ago.\n",
      "{'diff_jaccard': 0.005702600270697436, 'diff_cosine_tf': 0.35359303649062457, 'diff_cosine_tf_idf': 0.2636784482987667, 'diff_minEdit': 0.8936733679050936, 'diff_simple': 0.7999483205746213, 'sing_LoughranMcDonald': -0.0002885285294428766, '0': {'type': '10-Q', 'published': datetime.date(2010, 5, 6), 'qtr': (2010, 2)}}\n",
      "[INFO] No ToC found\n",
      "[INFO] Comparing current qtr (2010, 3) to qtr (2010, 2) from 1 quarter ago.\n",
      "{'diff_jaccard': 0.00914007190087299, 'diff_cosine_tf': 0.32520402989391667, 'diff_cosine_tf_idf': 0.23637388735378226, 'diff_minEdit': 0.9231394050076568, 'diff_simple': 0.7514124000196944, 'sing_LoughranMcDonald': 0.0, '0': {'type': '10-K', 'published': datetime.date(2012, 2, 24), 'qtr': (2012, 1)}}\n",
      "[INFO] Comparing current qtr (2012, 2) to qtr (2012, 1) from 1 quarter ago.\n",
      "{'diff_jaccard': 0.008862443988134842, 'diff_cosine_tf': 0.37890725445614093, 'diff_cosine_tf_idf': 0.2852628756638599, 'diff_minEdit': 0.9527274331657425, 'diff_simple': 0.8221175612364615, 'sing_LoughranMcDonald': -0.00014842856796495204, '0': {'type': '10-Q', 'published': datetime.date(2012, 5, 1), 'qtr': (2012, 2)}}\n",
      "[INFO] Comparing current qtr (2012, 3) to qtr (2012, 2) from 1 quarter ago.\n",
      "{'diff_jaccard': 0.7130337176522651, 'diff_cosine_tf': 0.98994681070431, 'diff_cosine_tf_idf': 0.9859963888255168, 'diff_minEdit': 1.0, 'diff_simple': 1.0, 'sing_LoughranMcDonald': -0.0006323842951149566, '0': {'type': '10-Q', 'published': datetime.date(2010, 11, 9), 'qtr': (2010, 4)}}\n",
      "[INFO] No ToC found\n"
     ]
    },
    {
     "name": "stderr",
     "output_type": "stream",
     "text": [
      "\n",
      " 14%|█▍        | 144/1000 [01:42<12:24,  1.15it/s]\u001b[A\n",
      "\n",
      "144it [01:42,  1.16it/s]\u001b[A\u001b[A"
     ]
    },
    {
     "name": "stdout",
     "output_type": "stream",
     "text": [
      "{'diff_jaccard': 0.7702421827927677, 'diff_cosine_tf': 0.9818429879424431, 'diff_cosine_tf_idf': 0.979224940697236, 'diff_minEdit': 0.8818618460277576, 'diff_simple': 0.8858246015673154, 'sing_LoughranMcDonald': -0.0005433948572361354, '0': {'type': '10-Q', 'published': datetime.date(2010, 8, 9), 'qtr': (2010, 3)}}\n",
      "[INFO] Comparing current qtr (2010, 4) to qtr (2010, 3) from 1 quarter ago.\n",
      "[INFO] Found a ToC!\n",
      "{'diff_jaccard': 0.872754171952509, 'diff_cosine_tf': 0.9878340739880959, 'diff_cosine_tf_idf': 0.9849688549327903, 'diff_minEdit': 0.9999999999999999, 'diff_simple': 0.9999999999999999, 'sing_LoughranMcDonald': -4.451325434100029e-05, '0': {'type': '10-Q', 'published': datetime.date(2012, 8, 2), 'qtr': (2012, 3)}}\n",
      "[INFO] Comparing current qtr (2012, 4) to qtr (2012, 3) from 1 quarter ago.\n",
      "[INFO] No ToC found\n",
      "[INFO] Found a ToC!\n",
      "[WARNING] Section _i_2 was found to be empty.\n",
      "[WARNING] Section _i_3 was found to be empty.\n",
      "[WARNING] Section _i_4 was found to be empty.\n",
      "[INFO] No ToC found\n",
      "[WARNING] Section ii_1 was found to be empty.\n",
      "[WARNING] Section ii_1a was found to be empty.\n",
      "{'diff_jaccard': 0.8291345305054038, 'diff_cosine_tf': 0.9947849892163713, 'diff_cosine_tf_idf': 0.9945110048171576, 'diff_minEdit': 0.849484219810561, 'diff_simple': 0.8254016949802508, 'sing_LoughranMcDonald': -0.0005177074175624964, '0': {'type': '10-Q', 'published': datetime.date(2010, 11, 9), 'qtr': (2010, 4)}}\n",
      "[INFO] Comparing current qtr (2011, 1) to qtr (2010, 4) from 1 quarter ago.\n",
      "{'diff_jaccard': 0.8711232002373716, 'diff_cosine_tf': 0.9953399349961556, 'diff_cosine_tf_idf': 0.9937214792714216, 'diff_minEdit': 0.9999999999999999, 'diff_simple': 0.9999999999999999, 'sing_LoughranMcDonald': -0.00012323793593682397, '0': {'type': '10-Q', 'published': datetime.date(2012, 11, 8), 'qtr': (2012, 4)}}\n"
     ]
    },
    {
     "name": "stderr",
     "output_type": "stream",
     "text": [
      "\n",
      " 14%|█▍        | 145/1000 [01:42<09:58,  1.43it/s]\u001b[A\n",
      "\n",
      "145it [01:42,  1.43it/s]\u001b[A\u001b[A"
     ]
    },
    {
     "name": "stdout",
     "output_type": "stream",
     "text": [
      "[INFO] No ToC found\n",
      "[INFO] Comparing current qtr (2010, 2) to qtr (2010, 1) from 1 quarter ago.\n",
      "[INFO] No ToC found\n",
      "[ERROR] Here is full_sect: |[]|\n",
      "[WARNING] Section 1a was found to be empty.\n",
      "[INFO] Found a ToC!\n",
      "[WARNING] Section 3 was found to be empty.\n",
      "[ERROR] Original res: {'_i_1': [], '_i_2': [], '_i_3': [], '_i_4': [], 'ii_1': [], 'ii_1a': [], 'ii_2': [], 'ii_3': [], 'ii_4': [], 'ii_5': [], 'ii_6': []}\n",
      "[WARNING] Section 7 was found to be empty.\n",
      "[INFO] Comparing current qtr (2010, 2) to qtr (2010, 1) from 1 quarter ago.\n",
      "[INFO] Found a ToC!\n",
      "[WARNING] /home/alex/Desktop/filtered_text_data/nd_data/2011/QTR3/20110812_10-Q_edgar_data_770460_0000950123-11-076694_1.txt failed parsing\n",
      "[WARNING] Section 7a was found to be empty.\n"
     ]
    },
    {
     "name": "stderr",
     "output_type": "stream",
     "text": [
      "\n",
      " 15%|█▍        | 146/1000 [01:42<07:31,  1.89it/s]\u001b[A\n",
      "\n",
      "146it [01:42,  1.90it/s]\u001b[A\u001b[A"
     ]
    },
    {
     "name": "stdout",
     "output_type": "stream",
     "text": [
      "[ERROR] Here is full_sect: |[]|\n",
      "[ERROR] Original res: {'_i_1': [], '_i_2': [], '_i_3': [], '_i_4': [], 'ii_1': [], 'ii_1a': [], 'ii_2': [], 'ii_3': [], 'ii_4': [], 'ii_5': [], 'ii_6': []}\n",
      "[WARNING] /home/alex/Desktop/filtered_text_data/nd_data/2010/QTR2/20100514_10-Q_edgar_data_909724_0000909724-10-000026_1.txt failed parsing\n",
      "{'diff_jaccard': 0.5171646764501652, 'diff_cosine_tf': 0.9335501101858192, 'diff_cosine_tf_idf': 0.9243383428381603, 'diff_minEdit': 0.8634374274711898, 'diff_simple': 0.7595406519144341, 'sing_LoughranMcDonald': -0.0006172034555706763, '0': {'type': '10-Q', 'published': datetime.date(2010, 5, 14), 'qtr': (2010, 2)}}\n",
      "[INFO] Comparing current qtr (2010, 3) to qtr (2010, 2) from 1 quarter ago.\n",
      "[INFO] Found a ToC!\n",
      "[WARNING] Section ii_1a was found to be empty.\n",
      "{'diff_jaccard': 0.7094673907248613, 'diff_cosine_tf': 0.9156888697212379, 'diff_cosine_tf_idf': 0.9048260920206196, 'diff_minEdit': 0.9900116312881652, 'diff_simple': 0.9661510741705588, 'sing_LoughranMcDonald': -0.0025573489840379406, '0': {'type': '10-Q', 'published': datetime.date(2010, 8, 16), 'qtr': (2010, 3)}}\n",
      "[INFO] Comparing current qtr (2010, 4) to qtr (2010, 3) from 1 quarter ago.\n",
      "{'diff_jaccard': 0.10897120329304558, 'diff_cosine_tf': 0.4018650490913704, 'diff_cosine_tf_idf': 0.3350049674997601, 'diff_minEdit': 0.8101809889314839, 'diff_simple': 0.5514004807257653, 'sing_LoughranMcDonald': -0.0008363704956254042, '0': {'type': '10-Q', 'published': datetime.date(2010, 5, 10), 'qtr': (2010, 2)}}\n",
      "[INFO] Comparing current qtr (2010, 3) to qtr (2010, 2) from 1 quarter ago.\n",
      "[INFO] Found a ToC!\n",
      "[INFO] Found a ToC!\n",
      "[WARNING] Section ii_1a was found to be empty.\n",
      "{'diff_jaccard': 0.512727016496583, 'diff_cosine_tf': 0.8216804328266307, 'diff_cosine_tf_idf': 0.7834420208983663, 'diff_minEdit': 0.9141518713870876, 'diff_simple': 0.8809177369510912, 'sing_LoughranMcDonald': -0.0030699262779153623, '0': {'type': '10-Q', 'published': datetime.date(2010, 11, 15), 'qtr': (2010, 4)}}\n",
      "[INFO] Comparing current qtr (2011, 1) to qtr (2010, 4) from 1 quarter ago.\n",
      "{'diff_jaccard': 0.38345630610892145, 'diff_cosine_tf': 0.8931367091211181, 'diff_cosine_tf_idf': 0.8814853319347842, 'diff_minEdit': 0.7980419823468297, 'diff_simple': 0.7020845498017755, 'sing_LoughranMcDonald': -0.0003803584461595221, '0': {'type': '10-K', 'published': datetime.date(2011, 3, 4), 'qtr': (2011, 1)}}\n",
      "[INFO] Comparing current qtr (2011, 2) to qtr (2011, 1) from 1 quarter ago.\n",
      "{'diff_jaccard': 0.4943475070639962, 'diff_cosine_tf': 0.8847231364870204, 'diff_cosine_tf_idf': 0.8605712751442457, 'diff_minEdit': 0.9421473666496962, 'diff_simple': 0.9336959226541606, 'sing_LoughranMcDonald': -0.0014544090669913988, '0': {'type': '10-K', 'published': datetime.date(2011, 3, 16), 'qtr': (2011, 1)}}\n",
      "[INFO] Comparing current qtr (2011, 2) to qtr (2011, 1) from 1 quarter ago.\n",
      "[INFO] Found a ToC!\n",
      "[WARNING] Section ii_1a was found to be empty.\n",
      "[INFO] Comparing current qtr (2010, 2) to qtr (2010, 1) from 1 quarter ago.\n",
      "{'diff_jaccard': 0.5742454129469331, 'diff_cosine_tf': 0.887832852570559, 'diff_cosine_tf_idf': 0.8749262333090483, 'diff_minEdit': 0.9224533608357504, 'diff_simple': 0.9248425347069356, 'sing_LoughranMcDonald': -0.0038726244156648587, '0': {'type': '10-Q', 'published': datetime.date(2011, 5, 13), 'qtr': (2011, 2)}}\n",
      "{'diff_jaccard': 0.6506718638763069, 'diff_cosine_tf': 0.9831843948540375, 'diff_cosine_tf_idf': 0.9810784140197814, 'diff_minEdit': 0.9870973310775817, 'diff_simple': 0.992632474230744, 'sing_LoughranMcDonald': -0.0005855830579648628, '0': {'type': '10-Q', 'published': datetime.date(2010, 8, 9), 'qtr': (2010, 3)}}\n",
      "[INFO] Comparing current qtr (2011, 3) to qtr (2011, 2) from 1 quarter ago.\n",
      "[INFO] Comparing current qtr (2010, 4) to qtr (2010, 3) from 1 quarter ago.\n",
      "{'diff_jaccard': 0.8820852827993457, 'diff_cosine_tf': 0.9511700783690976, 'diff_cosine_tf_idf': 0.919403614703762, 'diff_minEdit': 0.9267863891588382, 'diff_simple': 0.9851662887377174, 'sing_LoughranMcDonald': -0.0038418508926851354, '0': {'type': '10-Q', 'published': datetime.date(2011, 8, 15), 'qtr': (2011, 3)}}\n",
      "[INFO] Comparing current qtr (2011, 4) to qtr (2011, 3) from 1 quarter ago.\n",
      "{'diff_jaccard': 0.8550222804586072, 'diff_cosine_tf': 0.9634914617771636, 'diff_cosine_tf_idf': 0.9338596864401918, 'diff_minEdit': 0.9911617358917381, 'diff_simple': 0.9901099895716506, 'sing_LoughranMcDonald': -0.00045171810134092023, '0': {'type': '10-Q', 'published': datetime.date(2011, 11, 14), 'qtr': (2011, 4)}}\n",
      "[INFO] Comparing current qtr (2012, 1) to qtr (2011, 4) from 1 quarter ago.\n",
      "{'diff_jaccard': 0.3582569050779113, 'diff_cosine_tf': 0.8844401693326407, 'diff_cosine_tf_idf': 0.8703769582879631, 'diff_minEdit': 0.7485987033082024, 'diff_simple': 0.705044617548198, 'sing_LoughranMcDonald': -0.00027572233638331275, '0': {'type': '10-Q', 'published': datetime.date(2011, 5, 10), 'qtr': (2011, 2)}}\n",
      "[INFO] Comparing current qtr (2011, 3) to qtr (2011, 2) from 1 quarter ago.\n",
      "{'diff_jaccard': 0.016258007385652765, 'diff_cosine_tf': 0.3656032767695415, 'diff_cosine_tf_idf': 0.2713881397627418, 'diff_minEdit': 0.9547691365873183, 'diff_simple': 0.8090603041671982, 'sing_LoughranMcDonald': 0.0, '0': {'type': '10-K', 'published': datetime.date(2012, 3, 13), 'qtr': (2012, 1)}}\n",
      "[INFO] Comparing current qtr (2012, 2) to qtr (2012, 1) from 1 quarter ago.\n",
      "{'diff_jaccard': 0.0059154644216728135, 'diff_cosine_tf': 0.26232003578549834, 'diff_cosine_tf_idf': 0.19721501697133048, 'diff_minEdit': 0.8887426759287225, 'diff_simple': 0.6277884198389565, 'sing_LoughranMcDonald': 0.0, '0': {'type': '10-Q', 'published': datetime.date(2011, 8, 9), 'qtr': (2011, 3)}}\n",
      "[INFO] Comparing current qtr (2011, 4) to qtr (2011, 3) from 1 quarter ago.\n",
      "{'diff_jaccard': 0.314545185814288, 'diff_cosine_tf': 0.7603822187647568, 'diff_cosine_tf_idf': 0.7543300392899797, 'diff_minEdit': 0.6995398739443629, 'diff_simple': 0.7117835820849191, 'sing_LoughranMcDonald': -0.0006653414156543729, '0': {'type': '10-Q', 'published': datetime.date(2010, 5, 7), 'qtr': (2010, 2)}}\n",
      "[INFO] Comparing current qtr (2010, 3) to qtr (2010, 2) from 1 quarter ago.\n",
      "{'diff_jaccard': 0.02556578474679682, 'diff_cosine_tf': 0.21161005586255707, 'diff_cosine_tf_idf': 0.1440258442916679, 'diff_minEdit': 0.9417924181082076, 'diff_simple': 0.5384767506137742, 'sing_LoughranMcDonald': -0.0006364584701076885, '0': {'type': '10-Q', 'published': datetime.date(2011, 11, 9), 'qtr': (2011, 4)}}\n",
      "{'diff_jaccard': 0.016340403833036428, 'diff_cosine_tf': 0.36164366527378294, 'diff_cosine_tf_idf': 0.2673832239097324, 'diff_minEdit': 0.948287308734934, 'diff_simple': 0.8096653542461205, 'sing_LoughranMcDonald': -0.0031138424337482673, '0': {'type': '10-Q', 'published': datetime.date(2012, 5, 15), 'qtr': (2012, 2)}}\n",
      "[INFO] Comparing current qtr (2012, 1) to qtr (2011, 4) from 1 quarter ago.\n",
      "[INFO] Comparing current qtr (2012, 3) to qtr (2012, 2) from 1 quarter ago.\n",
      "{'diff_jaccard': 0.673795953261763, 'diff_cosine_tf': 0.9866374641445285, 'diff_cosine_tf_idf': 0.9851735299386822, 'diff_minEdit': 0.954540756061943, 'diff_simple': 0.9513895377397048, 'sing_LoughranMcDonald': -0.0005365481796696687, '0': {'type': '10-Q', 'published': datetime.date(2010, 11, 9), 'qtr': (2010, 4)}}\n",
      "[INFO] Comparing current qtr (2011, 1) to qtr (2010, 4) from 1 quarter ago.\n",
      "[INFO] No ToC found\n",
      "{'diff_jaccard': 0.8037175777950784, 'diff_cosine_tf': 0.94765856432291, 'diff_cosine_tf_idf': 0.9144472496277033, 'diff_minEdit': 0.9921252166377816, 'diff_simple': 0.9949046793760832, 'sing_LoughranMcDonald': -0.0035687865663408397, '0': {'type': '10-Q', 'published': datetime.date(2012, 8, 3), 'qtr': (2012, 3)}}\n",
      "[INFO] Comparing current qtr (2012, 4) to qtr (2012, 3) from 1 quarter ago.\n",
      "[INFO] Found a ToC!\n",
      "[INFO] No ToC found\n",
      "{'diff_jaccard': 0.596214337395483, 'diff_cosine_tf': 0.9777119631648268, 'diff_cosine_tf_idf': 0.9764730013568338, 'diff_minEdit': 0.9958302074139453, 'diff_simple': 0.9921961016823538, 'sing_LoughranMcDonald': -0.0005598734141080448, '0': {'type': '10-Q', 'published': datetime.date(2010, 8, 6), 'qtr': (2010, 3)}}\n",
      "[INFO] Comparing current qtr (2010, 4) to qtr (2010, 3) from 1 quarter ago.\n",
      "{'diff_jaccard': 0.886292864874567, 'diff_cosine_tf': 0.9649660458250122, 'diff_cosine_tf_idf': 0.9337415231647024, 'diff_minEdit': 0.9916366131528886, 'diff_simple': 0.9931230339042292, 'sing_LoughranMcDonald': -0.0035240324176102644, '0': {'type': '10-Q', 'published': datetime.date(2012, 11, 5), 'qtr': (2012, 4)}}\n"
     ]
    },
    {
     "name": "stderr",
     "output_type": "stream",
     "text": [
      "\n",
      " 15%|█▍        | 148/1000 [01:43<07:53,  1.80it/s]\u001b[A\n",
      "\n",
      "148it [01:43,  1.80it/s]\u001b[A\u001b[A"
     ]
    },
    {
     "name": "stdout",
     "output_type": "stream",
     "text": [
      "[INFO] No ToC found\n",
      "{'diff_jaccard': 0.08527465283661595, 'diff_cosine_tf': 0.390250824412417, 'diff_cosine_tf_idf': 0.3236372397492451, 'diff_minEdit': 0.832803262530194, 'diff_simple': 0.5696845386057365, 'sing_LoughranMcDonald': -0.0013358668858879101, '0': {'type': '10-K', 'published': datetime.date(2011, 3, 10), 'qtr': (2011, 1)}}\n",
      "[INFO] Comparing current qtr (2011, 2) to qtr (2011, 1) from 1 quarter ago.\n",
      "[INFO] No ToC found\n",
      "[INFO] Comparing current qtr (2010, 2) to qtr (2010, 1) from 1 quarter ago.\n",
      "[INFO] Found a ToC!\n",
      "{'diff_jaccard': 0.6690282709558181, 'diff_cosine_tf': 0.9942724569797274, 'diff_cosine_tf_idf': 0.9933973061660717, 'diff_minEdit': 0.9995122134668902, 'diff_simple': 0.9995967631326294, 'sing_LoughranMcDonald': -0.00048752163996136324, '0': {'type': '10-Q', 'published': datetime.date(2010, 11, 3), 'qtr': (2010, 4)}}\n",
      "[INFO] No ToC found\n",
      "[INFO] Comparing current qtr (2011, 1) to qtr (2010, 4) from 1 quarter ago.\n",
      "{'diff_jaccard': 0.08923287535110999, 'diff_cosine_tf': 0.5428284040150855, 'diff_cosine_tf_idf': 0.5158113028908823, 'diff_minEdit': 0.7795892854431663, 'diff_simple': 0.42861432739911104, 'sing_LoughranMcDonald': -0.0003945488044104846, '0': {'type': '10-K', 'published': datetime.date(2012, 3, 7), 'qtr': (2012, 1)}}\n",
      "[INFO] Comparing current qtr (2012, 2) to qtr (2012, 1) from 1 quarter ago.\n",
      "{'diff_jaccard': 0.2771352463817515, 'diff_cosine_tf': 0.7859144976293547, 'diff_cosine_tf_idf': 0.7608908430526169, 'diff_minEdit': 0.7001388227946266, 'diff_simple': 0.6907099629321433, 'sing_LoughranMcDonald': -0.002111519905838745, '0': {'type': '10-Q', 'published': datetime.date(2010, 4, 30), 'qtr': (2010, 2)}}\n",
      "[INFO] Comparing current qtr (2010, 3) to qtr (2010, 2) from 1 quarter ago.\n",
      "[INFO] Found a ToC!\n",
      "[INFO] No ToC found\n",
      "{'diff_jaccard': 0.1181235918931196, 'diff_cosine_tf': 0.4137295482880938, 'diff_cosine_tf_idf': 0.3532607116056677, 'diff_minEdit': 0.8594317628048698, 'diff_simple': 0.5347698011278736, 'sing_LoughranMcDonald': -0.0007874426293527702, '0': {'type': '10-Q', 'published': datetime.date(2011, 5, 10), 'qtr': (2011, 2)}}\n",
      "[INFO] Comparing current qtr (2011, 3) to qtr (2011, 2) from 1 quarter ago.\n",
      "{'diff_jaccard': 0.004967518584618854, 'diff_cosine_tf': 0.3568872209406771, 'diff_cosine_tf_idf': 0.27025368455151016, 'diff_minEdit': 0.9240021245264933, 'diff_simple': 0.821424881241682, 'sing_LoughranMcDonald': 0.0, '0': {'type': '10-K', 'published': datetime.date(2011, 3, 11), 'qtr': (2011, 1)}}\n",
      "[INFO] Comparing current qtr (2011, 2) to qtr (2011, 1) from 1 quarter ago.\n",
      "{'diff_jaccard': 0.8495307286199748, 'diff_cosine_tf': 0.9845469639709524, 'diff_cosine_tf_idf': 0.9786162995512174, 'diff_minEdit': 1.0, 'diff_simple': 1.0, 'sing_LoughranMcDonald': -0.0018782551162371253, '0': {'type': '10-Q', 'published': datetime.date(2010, 7, 30), 'qtr': (2010, 3)}}\n",
      "[INFO] Found a ToC!\n",
      "[INFO] Comparing current qtr (2010, 4) to qtr (2010, 3) from 1 quarter ago.\n",
      "[INFO] Found a ToC!\n",
      "{'diff_jaccard': 0.002504741443820925, 'diff_cosine_tf': 0.2031753123290222, 'diff_cosine_tf_idf': 0.15186671473403143, 'diff_minEdit': 0.9270742430611455, 'diff_simple': 0.6358439923302976, 'sing_LoughranMcDonald': 0.0, '0': {'type': '10-Q', 'published': datetime.date(2012, 5, 10), 'qtr': (2012, 2)}}\n",
      "[INFO] Comparing current qtr (2012, 3) to qtr (2012, 2) from 1 quarter ago.\n",
      "{'diff_jaccard': 0.006753877365817201, 'diff_cosine_tf': 0.3494508879078924, 'diff_cosine_tf_idf': 0.26355139809253425, 'diff_minEdit': 0.923906093811974, 'diff_simple': 0.8218651653120854, 'sing_LoughranMcDonald': -0.0006883923414213558, '0': {'type': '10-Q', 'published': datetime.date(2011, 5, 6), 'qtr': (2011, 2)}}\n",
      "[INFO] Found a ToC!\n",
      "[INFO] Comparing current qtr (2011, 3) to qtr (2011, 2) from 1 quarter ago.\n",
      "{'diff_jaccard': 0.8210291618467165, 'diff_cosine_tf': 0.9894885341692544, 'diff_cosine_tf_idf': 0.9846912582912135, 'diff_minEdit': 1.0, 'diff_simple': 1.0, 'sing_LoughranMcDonald': -0.001689802377348732, '0': {'type': '10-Q', 'published': datetime.date(2010, 10, 29), 'qtr': (2010, 4)}}\n",
      "{'diff_jaccard': 0.7874196510560146, 'diff_cosine_tf': 0.8409090909090908, 'diff_cosine_tf_idf': 0.7429769998617544, 'diff_minEdit': 0.9152097902097902, 'diff_simple': 0.9716549331700846, 'sing_LoughranMcDonald': 0.0, '0': {'type': '10-Q', 'published': datetime.date(2012, 8, 9), 'qtr': (2012, 3)}}\n",
      "[INFO] Comparing current qtr (2011, 1) to qtr (2010, 4) from 1 quarter ago.\n",
      "[INFO] Comparing current qtr (2012, 4) to qtr (2012, 3) from 1 quarter ago.\n",
      "[INFO] No ToC found\n",
      "[WARNING] Section _i_2 was found to be empty.\n",
      "{'diff_jaccard': 0.1724137931034483, 'diff_cosine_tf': 0.17241379310344826, 'diff_cosine_tf_idf': 0.17241379310344826, 'diff_minEdit': 0.6190686707928087, 'diff_simple': 0.38220150764726035, 'sing_LoughranMcDonald': 0.0, '0': {'type': '10-Q', 'published': datetime.date(2012, 11, 9), 'qtr': (2012, 4)}}\n"
     ]
    },
    {
     "name": "stderr",
     "output_type": "stream",
     "text": [
      "\n",
      " 15%|█▍        | 149/1000 [01:44<08:52,  1.60it/s]\u001b[A\n",
      "\n",
      "149it [01:44,  1.61it/s]\u001b[A\u001b[A"
     ]
    },
    {
     "name": "stdout",
     "output_type": "stream",
     "text": [
      "[WARNING] Section _i_3 was found to be empty.\n",
      "[WARNING] Section _i_4 was found to be empty.\n",
      "[WARNING] Section ii_1 was found to be empty.\n",
      "[WARNING] Section ii_1a was found to be empty.\n",
      "{'diff_jaccard': 0.6466253314994055, 'diff_cosine_tf': 0.9792279570505773, 'diff_cosine_tf_idf': 0.9761711566005599, 'diff_minEdit': 0.9423879606892752, 'diff_simple': 0.9051011122345805, 'sing_LoughranMcDonald': -0.00045076336252715464, '0': {'type': '10-Q', 'published': datetime.date(2011, 8, 9), 'qtr': (2011, 3)}}\n",
      "[INFO] Comparing current qtr (2011, 4) to qtr (2011, 3) from 1 quarter ago.\n",
      "[INFO] No ToC found\n",
      "[WARNING] /home/alex/Desktop/filtered_text_data/nd_data/2010/QTR3/20100729_10-Q_edgar_data_33185_0001144204-10-040132_1.txt failed parsing\n"
     ]
    },
    {
     "name": "stderr",
     "output_type": "stream",
     "text": [
      "\n"
     ]
    },
    {
     "name": "stdout",
     "output_type": "stream",
     "text": [
      "{'diff_jaccard': 0.6531144318111841, 'diff_cosine_tf': 0.9851465692773691, 'diff_cosine_tf_idf': 0.9820729335920485, 'diff_minEdit': 0.9994088345058338, 'diff_simple': 0.9996216540837337, 'sing_LoughranMcDonald': -0.00046116001872216017, '0': {'type': '10-Q', 'published': datetime.date(2011, 8, 8), 'qtr': (2011, 3)}}\n",
      "[INFO] Comparing current qtr (2011, 4) to qtr (2011, 3) from 1 quarter ago.\n"
     ]
    },
    {
     "name": "stderr",
     "output_type": "stream",
     "text": [
      " 15%|█▌        | 150/1000 [01:44<07:13,  1.96it/s]\u001b[A\n",
      "\n",
      "150it [01:44,  1.96it/s]\u001b[A\u001b[A"
     ]
    },
    {
     "name": "stdout",
     "output_type": "stream",
     "text": [
      "{'diff_jaccard': 0.3446387239294287, 'diff_cosine_tf': 0.7814422655420856, 'diff_cosine_tf_idf': 0.7568017011615638, 'diff_minEdit': 0.755324198847412, 'diff_simple': 0.6686543271635818, 'sing_LoughranMcDonald': -0.0004194694453934068, '0': {'type': '10-K', 'published': datetime.date(2011, 2, 11), 'qtr': (2011, 1)}}\n",
      "[INFO] Comparing current qtr (2011, 2) to qtr (2011, 1) from 1 quarter ago.\n",
      "{'diff_jaccard': 0.6771368795421912, 'diff_cosine_tf': 0.9921256683864466, 'diff_cosine_tf_idf': 0.9893956141872103, 'diff_minEdit': 0.9994891890000701, 'diff_simple': 0.9995777295733913, 'sing_LoughranMcDonald': -0.0004404503422937192, '0': {'type': '10-Q', 'published': datetime.date(2011, 11, 7), 'qtr': (2011, 4)}}\n",
      "[INFO] Comparing current qtr (2012, 1) to qtr (2011, 4) from 1 quarter ago.\n",
      "{'diff_jaccard': 0.3112437461274995, 'diff_cosine_tf': 0.7768509045609167, 'diff_cosine_tf_idf': 0.753873948804506, 'diff_minEdit': 0.6981147684971767, 'diff_simple': 0.6729156549775106, 'sing_LoughranMcDonald': -0.0010937231113849876, '0': {'type': '10-Q', 'published': datetime.date(2011, 4, 29), 'qtr': (2011, 2)}}\n",
      "[INFO] Comparing current qtr (2011, 3) to qtr (2011, 2) from 1 quarter ago.\n",
      "{'diff_jaccard': 0.7254259779136383, 'diff_cosine_tf': 0.994417806611705, 'diff_cosine_tf_idf': 0.9930782574390689, 'diff_minEdit': 1.0, 'diff_simple': 1.0, 'sing_LoughranMcDonald': -0.00040250825650953225, '0': {'type': '10-Q', 'published': datetime.date(2011, 11, 9), 'qtr': (2011, 4)}}\n",
      "[INFO] Comparing current qtr (2012, 1) to qtr (2011, 4) from 1 quarter ago.\n",
      "[INFO] No ToC found\n",
      "{'diff_jaccard': 0.7283393894173504, 'diff_cosine_tf': 0.959591987487254, 'diff_cosine_tf_idf': 0.9541600824744432, 'diff_minEdit': 0.9747849234211643, 'diff_simple': 0.9744531460977586, 'sing_LoughranMcDonald': -0.00210814213815493, '0': {'type': '10-Q', 'published': datetime.date(2011, 7, 29), 'qtr': (2011, 3)}}\n",
      "[INFO] Comparing current qtr (2011, 4) to qtr (2011, 3) from 1 quarter ago.\n",
      "[INFO] No ToC found\n",
      "[INFO] Found a ToC!\n",
      "{'diff_jaccard': 0.03679462935280088, 'diff_cosine_tf': 0.31547203969013893, 'diff_cosine_tf_idf': 0.2502415104688382, 'diff_minEdit': 0.8330865666790469, 'diff_simple': 0.5485836141271909, 'sing_LoughranMcDonald': -0.0011860433943638251, '0': {'type': '10-K', 'published': datetime.date(2012, 2, 29), 'qtr': (2012, 1)}}\n",
      "[INFO] Comparing current qtr (2012, 2) to qtr (2012, 1) from 1 quarter ago.\n",
      "[INFO] Found a ToC!\n",
      "[INFO] No ToC found\n",
      "This is the res {'1a': [(39823, 39837)], '2': [(87541, 87562)], '3': [(88390, 88406)], '7a': [], '9a': [(6051, 6071)], '9b': [(6099, 6116), (140753, 140770)], '10': [(140814, 140837)], '11': [(156717, 156738)], '12': [(161429, 161449)], '13': [(162569, 162588)], '15': [(164099, 164119)]}\n",
      "[WARNING] /home/alex/Desktop/filtered_text_data/nd_data/2010/QTR1/20100326_10-K_edgar_data_934306_0001144204-10-015956_1.txt failed parsing\n"
     ]
    },
    {
     "name": "stderr",
     "output_type": "stream",
     "text": [
      "\n",
      " 15%|█▌        | 151/1000 [01:45<07:48,  1.81it/s]\u001b[A\n",
      "\n",
      "151it [01:45,  1.81it/s]\u001b[A\u001b[A"
     ]
    },
    {
     "name": "stdout",
     "output_type": "stream",
     "text": [
      "[INFO] No ToC found\n",
      "{'diff_jaccard': 0.8249973825858021, 'diff_cosine_tf': 0.988605087969437, 'diff_cosine_tf_idf': 0.984740445227778, 'diff_minEdit': 1.0, 'diff_simple': 1.0, 'sing_LoughranMcDonald': -0.0018325674562417477, '0': {'type': '10-Q', 'published': datetime.date(2011, 10, 28), 'qtr': (2011, 4)}}\n",
      "[INFO] Comparing current qtr (2012, 1) to qtr (2011, 4) from 1 quarter ago.\n",
      "[INFO] No ToC found\n",
      "{'diff_jaccard': 0.33398118806628846, 'diff_cosine_tf': 0.7816949738349417, 'diff_cosine_tf_idf': 0.775571268808045, 'diff_minEdit': 0.7506311011251373, 'diff_simple': 0.7165510454164188, 'sing_LoughranMcDonald': -0.00041404928830510976, '0': {'type': '10-K', 'published': datetime.date(2012, 3, 7), 'qtr': (2012, 1)}}\n",
      "[INFO] Comparing current qtr (2012, 2) to qtr (2012, 1) from 1 quarter ago.\n",
      "[INFO] No ToC found\n",
      "[INFO] No ToC found\n",
      "[INFO] Found a ToC!\n",
      "[INFO] Found a ToC!\n",
      "[WARNING] Section _i_3 was found to be empty.\n",
      "[INFO] Found a ToC!\n",
      "[INFO] No ToC found\n",
      "{'diff_jaccard': 0.017018131827971475, 'diff_cosine_tf': 0.321452149594729, 'diff_cosine_tf_idf': 0.24745609363678364, 'diff_minEdit': 0.7979332530065132, 'diff_simple': 0.5448293004920776, 'sing_LoughranMcDonald': -0.00012040840721765897, '0': {'type': '10-Q', 'published': datetime.date(2012, 5, 10), 'qtr': (2012, 2)}}\n",
      "[INFO] Comparing current qtr (2012, 3) to qtr (2012, 2) from 1 quarter ago.\n",
      "[INFO] Found a ToC!\n",
      "{'diff_jaccard': 0.36845370185832266, 'diff_cosine_tf': 0.8133661929243822, 'diff_cosine_tf_idf': 0.7939274951853407, 'diff_minEdit': 0.7636162589762362, 'diff_simple': 0.6820981431377636, 'sing_LoughranMcDonald': -0.000690865927220772, '0': {'type': '10-K', 'published': datetime.date(2012, 2, 10), 'qtr': (2012, 1)}}\n",
      "[INFO] Comparing current qtr (2012, 2) to qtr (2012, 1) from 1 quarter ago.\n",
      "{'diff_jaccard': 0.30654429739246736, 'diff_cosine_tf': 0.7713621999423813, 'diff_cosine_tf_idf': 0.7655516088162606, 'diff_minEdit': 0.7017525391655094, 'diff_simple': 0.715657295603351, 'sing_LoughranMcDonald': -0.0006795636357869637, '0': {'type': '10-Q', 'published': datetime.date(2012, 5, 9), 'qtr': (2012, 2)}}\n",
      "[INFO] Comparing current qtr (2012, 3) to qtr (2012, 2) from 1 quarter ago.\n",
      "[INFO] Found a ToC!\n",
      "[INFO] No ToC found\n",
      "[INFO] Comparing current qtr (2010, 2) to qtr (2010, 1) from 1 quarter ago.\n",
      "[INFO] Found a ToC!\n",
      "[WARNING] Section _i_2 was found to be empty.\n",
      "[INFO] Found a ToC!\n",
      "{'diff_jaccard': 0.30496447632393997, 'diff_cosine_tf': 0.7719803510729112, 'diff_cosine_tf_idf': 0.7496386281548508, 'diff_minEdit': 0.7366203079793718, 'diff_simple': 0.6796278938224719, 'sing_LoughranMcDonald': -0.0027545838942462956, '0': {'type': '10-Q', 'published': datetime.date(2012, 4, 27), 'qtr': (2012, 2)}}\n",
      "[INFO] Comparing current qtr (2012, 3) to qtr (2012, 2) from 1 quarter ago.\n",
      "{'diff_jaccard': 0.7224720075540692, 'diff_cosine_tf': 0.9936598540005764, 'diff_cosine_tf_idf': 0.9926355889412906, 'diff_minEdit': 0.9992913160325994, 'diff_simple': 0.9994873852635802, 'sing_LoughranMcDonald': -0.0005293698177772575, '0': {'type': '10-Q', 'published': datetime.date(2012, 8, 8), 'qtr': (2012, 3)}}\n",
      "{'diff_jaccard': 0.003557483063714777, 'diff_cosine_tf': 0.250079988261913, 'diff_cosine_tf_idf': 0.18987434059632932, 'diff_minEdit': 0.9505450286477507, 'diff_simple': 0.5840263873340463, 'sing_LoughranMcDonald': 0.0, '0': {'type': '10-Q', 'published': datetime.date(2010, 5, 10), 'qtr': (2010, 2)}}\n",
      "[INFO] Comparing current qtr (2012, 4) to qtr (2012, 3) from 1 quarter ago.\n",
      "[INFO] Comparing current qtr (2010, 3) to qtr (2010, 2) from 1 quarter ago.\n",
      "{'diff_jaccard': 0.7149446142072498, 'diff_cosine_tf': 0.9663181678710691, 'diff_cosine_tf_idf': 0.9639374241515255, 'diff_minEdit': 0.9728270532232164, 'diff_simple': 0.9705695472559187, 'sing_LoughranMcDonald': -0.0006545086348860589, '0': {'type': '10-Q', 'published': datetime.date(2012, 8, 9), 'qtr': (2012, 3)}}\n",
      "{'diff_jaccard': 0.8308264653201881, 'diff_cosine_tf': 0.9830895470516572, 'diff_cosine_tf_idf': 0.9755927229830906, 'diff_minEdit': 1.0, 'diff_simple': 1.0, 'sing_LoughranMcDonald': -0.0025324872327785013, '0': {'type': '10-Q', 'published': datetime.date(2012, 7, 27), 'qtr': (2012, 3)}}\n",
      "[INFO] Comparing current qtr (2012, 4) to qtr (2012, 3) from 1 quarter ago.\n",
      "[INFO] Comparing current qtr (2012, 4) to qtr (2012, 3) from 1 quarter ago.\n",
      "[INFO] Found a ToC!\n",
      "[INFO] Comparing current qtr (2012, 3) to qtr (2012, 2) from 1 quarter ago.\n",
      "{'diff_jaccard': 0.005957237201817336, 'diff_cosine_tf': 0.38116410931804756, 'diff_cosine_tf_idf': 0.2893589353578086, 'diff_minEdit': 0.9212217197991494, 'diff_simple': 0.8195005475900461, 'sing_LoughranMcDonald': -0.00018648079573052134, '0': {'type': '10-Q', 'published': datetime.date(2010, 8, 9), 'qtr': (2010, 3)}}\n",
      "[INFO] Comparing current qtr (2010, 4) to qtr (2010, 3) from 1 quarter ago.\n",
      "{'diff_jaccard': 0.7303542019907471, 'diff_cosine_tf': 0.9957259758921612, 'diff_cosine_tf_idf': 0.9943582901223998, 'diff_minEdit': 0.9993590026966094, 'diff_simple': 0.9994231024269484, 'sing_LoughranMcDonald': -0.0005188073707485065, '0': {'type': '10-Q', 'published': datetime.date(2012, 11, 8), 'qtr': (2012, 4)}}\n"
     ]
    },
    {
     "name": "stderr",
     "output_type": "stream",
     "text": [
      "\n",
      " 15%|█▌        | 152/1000 [01:46<09:32,  1.48it/s]\u001b[A\n",
      "\n",
      "152it [01:46,  1.49it/s]\u001b[A\u001b[A"
     ]
    },
    {
     "name": "stdout",
     "output_type": "stream",
     "text": [
      "{'diff_jaccard': 0.7908451360383292, 'diff_cosine_tf': 0.9892476965683024, 'diff_cosine_tf_idf': 0.9861777982849541, 'diff_minEdit': 1.0, 'diff_simple': 1.0, 'sing_LoughranMcDonald': -0.0022588968783227854, '0': {'type': '10-Q', 'published': datetime.date(2012, 10, 26), 'qtr': (2012, 4)}}\n",
      "{'diff_jaccard': 0.6505996312942285, 'diff_cosine_tf': 0.9570815588181977, 'diff_cosine_tf_idf': 0.9471274198533458, 'diff_minEdit': 0.9983370252656586, 'diff_simple': 0.9983636910412822, 'sing_LoughranMcDonald': -0.0003014033955410799, '0': {'type': '10-Q', 'published': datetime.date(2012, 8, 6), 'qtr': (2012, 3)}}\n",
      "[INFO] Comparing current qtr (2012, 4) to qtr (2012, 3) from 1 quarter ago.\n",
      "{'diff_jaccard': 0.754758678374783, 'diff_cosine_tf': 0.9756038898313759, 'diff_cosine_tf_idf': 0.9618555419507238, 'diff_minEdit': 0.9999035784449615, 'diff_simple': 0.9999429341817119, 'sing_LoughranMcDonald': -0.00034814716981371635, '0': {'type': '10-Q', 'published': datetime.date(2012, 11, 6), 'qtr': (2012, 4)}}\n"
     ]
    },
    {
     "name": "stderr",
     "output_type": "stream",
     "text": [
      "\n",
      " 15%|█▌        | 154/1000 [01:46<07:07,  1.98it/s]\u001b[A"
     ]
    },
    {
     "name": "stdout",
     "output_type": "stream",
     "text": [
      "{'diff_jaccard': 0.7635877267424848, 'diff_cosine_tf': 0.9870584598873474, 'diff_cosine_tf_idf': 0.9851263137227045, 'diff_minEdit': 0.9890387839935113, 'diff_simple': 0.9926334566675692, 'sing_LoughranMcDonald': -8.542127727601196e-05, '0': {'type': '10-Q', 'published': datetime.date(2010, 11, 9), 'qtr': (2010, 4)}}\n"
     ]
    },
    {
     "name": "stderr",
     "output_type": "stream",
     "text": [
      "\n",
      "\n",
      "154it [01:46,  1.98it/s]"
     ]
    },
    {
     "name": "stdout",
     "output_type": "stream",
     "text": [
      "[INFO] Comparing current qtr (2011, 1) to qtr (2010, 4) from 1 quarter ago.\n"
     ]
    },
    {
     "name": "stderr",
     "output_type": "stream",
     "text": [
      "\u001b[A\u001b[A"
     ]
    },
    {
     "name": "stdout",
     "output_type": "stream",
     "text": [
      "{'diff_jaccard': 0.7476007909473084, 'diff_cosine_tf': 0.9795978824966792, 'diff_cosine_tf_idf': 0.9771339691727369, 'diff_minEdit': 0.996672264308861, 'diff_simple': 0.9904161212095199, 'sing_LoughranMcDonald': -0.00045460600026197824, '0': {'type': '10-Q', 'published': datetime.date(2012, 11, 9), 'qtr': (2012, 4)}}\n",
      "[INFO] Found a ToC!\n",
      "[INFO] Found a ToC!\n",
      "[WARNING] Section 1a was found to be empty.\n",
      "[WARNING] Section 3 was found to be empty.\n",
      "[WARNING] Section 7 was found to be empty.\n",
      "[WARNING] Section 7a was found to be empty.\n",
      "[WARNING] Section 9a was found to be empty.\n",
      "[INFO] No ToC found\n",
      "[INFO] No ToC found\n",
      "[INFO] Found a ToC!\n",
      "[WARNING] Section 7 was found to be empty.\n",
      "[INFO] No ToC found\n",
      "[INFO] Found a ToC!\n",
      "[INFO] Found a ToC!\n",
      "[INFO] No ToC found\n",
      "{'diff_jaccard': 0.40892810846123573, 'diff_cosine_tf': 0.8055031522720464, 'diff_cosine_tf_idf': 0.7791176926135177, 'diff_minEdit': 0.7670454709450666, 'diff_simple': 0.670994331281022, 'sing_LoughranMcDonald': -0.00040004068887412034, '0': {'type': '10-K', 'published': datetime.date(2011, 3, 16), 'qtr': (2011, 1)}}\n",
      "[INFO] Comparing current qtr (2011, 2) to qtr (2011, 1) from 1 quarter ago.\n",
      "[INFO] No ToC found\n",
      "This is the res {'_i_2': [(3360, 3379)], '_i_3': [(3461, 3482)], '_i_4': [(3535, 3552)], 'ii_1': [(3635, 3649)], 'ii_1a': [(3668, 3682)], 'ii_5': [], 'ii_6': [(3697, 3714)]}\n",
      "[INFO] No ToC found\n",
      "[WARNING] /home/alex/Desktop/filtered_text_data/nd_data/2011/QTR4/20111110_10-Q_edgar_data_1098146_0000950123-11-097650_1.txt failed parsing\n"
     ]
    },
    {
     "name": "stderr",
     "output_type": "stream",
     "text": [
      "\n",
      " 16%|█▌        | 156/1000 [01:47<06:14,  2.26it/s]\u001b[A\n",
      "\n",
      "156it [01:47,  2.26it/s]\u001b[A\u001b[A"
     ]
    },
    {
     "name": "stdout",
     "output_type": "stream",
     "text": [
      "[INFO] No ToC found\n",
      "[INFO] Found a ToC!\n",
      "[WARNING] Section 9a was found to be empty.\n",
      "[INFO] No ToC found\n",
      "[WARNING] Section 3 was found to be empty.\n",
      "[INFO] No ToC found\n",
      "{'diff_jaccard': 0.3614561266847812, 'diff_cosine_tf': 0.7772076401554296, 'diff_cosine_tf_idf': 0.7473873156473795, 'diff_minEdit': 0.8118803242459156, 'diff_simple': 0.6409512542845877, 'sing_LoughranMcDonald': 9.070999210488323e-05, '0': {'type': '10-Q', 'published': datetime.date(2011, 5, 10), 'qtr': (2011, 2)}}\n",
      "[INFO] Comparing current qtr (2011, 3) to qtr (2011, 2) from 1 quarter ago.\n",
      "[INFO] Found a ToC!\n",
      "[ERROR] Here is full_sect: |[]|\n",
      "[ERROR] Original res: {'1': [], '1a': [], '1b': [], '2': [], '3': [], '4': [], '5': [], '6': [], '7': [], '7a': [], '8': [], '9': [], '9a': [], '9b': [], '10': [], '11': [], '12': [], '13': [], '14': [], '15': []}\n",
      "[INFO] Found a ToC!\n",
      "[WARNING] /home/alex/Desktop/filtered_text_data/nd_data/2010/QTR1/20100301_10-K_edgar_data_106926_0000950123-10-019298_1.txt failed parsing\n"
     ]
    },
    {
     "name": "stderr",
     "output_type": "stream",
     "text": [
      "\n",
      " 16%|█▌        | 157/1000 [01:47<05:32,  2.54it/s]\u001b[A\n",
      "\n",
      "157it [01:47,  2.53it/s]\u001b[A\u001b[A"
     ]
    },
    {
     "name": "stdout",
     "output_type": "stream",
     "text": [
      "[WARNING] Section ii_1 was found to be empty.\n",
      "[INFO] No ToC found\n",
      "[WARNING] Section _i_4 was found to be empty.\n",
      "[INFO] Found a ToC!\n",
      "[INFO] Found a ToC!\n",
      "[INFO] Comparing current qtr (2010, 2) to qtr (2010, 1) from 1 quarter ago.\n",
      "[INFO] Found a ToC!\n",
      "{'diff_jaccard': 0.6245652637017433, 'diff_cosine_tf': 0.9692126501560371, 'diff_cosine_tf_idf': 0.9673218467961621, 'diff_minEdit': 0.8057223899900297, 'diff_simple': 0.8353318311892994, 'sing_LoughranMcDonald': 3.370500037349361e-05, '0': {'type': '10-Q', 'published': datetime.date(2011, 8, 9), 'qtr': (2011, 3)}}\n",
      "[INFO] Comparing current qtr (2011, 4) to qtr (2011, 3) from 1 quarter ago.\n",
      "[INFO] Found a ToC!\n",
      "[INFO] Found a ToC!\n",
      "[WARNING] Section ii_1 was found to be empty.\n",
      "[INFO] Found a ToC!\n",
      "[INFO] Found a ToC!\n",
      "{'diff_jaccard': 0.26065389381445525, 'diff_cosine_tf': 0.8297440999877271, 'diff_cosine_tf_idf': 0.8037617273077557, 'diff_minEdit': 0.8618088132137676, 'diff_simple': 0.8217107791483294, 'sing_LoughranMcDonald': -0.0014740956801701118, '0': {'type': '10-Q', 'published': datetime.date(2010, 5, 10), 'qtr': (2010, 2)}}\n",
      "[INFO] Comparing current qtr (2010, 3) to qtr (2010, 2) from 1 quarter ago.\n",
      "[INFO] Found a ToC!\n",
      "[INFO] Found a ToC!\n",
      "[WARNING] Section ii_1 was found to be empty.\n",
      "[INFO] Found a ToC!\n",
      "{'diff_jaccard': 0.6978481564742528, 'diff_cosine_tf': 0.979071453200887, 'diff_cosine_tf_idf': 0.9742984847925146, 'diff_minEdit': 0.9345190441358576, 'diff_simple': 0.9810105227993988, 'sing_LoughranMcDonald': -0.0014508060409611774, '0': {'type': '10-Q', 'published': datetime.date(2010, 8, 4), 'qtr': (2010, 3)}}\n",
      "[INFO] Comparing current qtr (2010, 4) to qtr (2010, 3) from 1 quarter ago.\n",
      "{'diff_jaccard': 0.7084388788149475, 'diff_cosine_tf': 0.9175944668891608, 'diff_cosine_tf_idf': 0.9046647953263734, 'diff_minEdit': 0.9546451753619906, 'diff_simple': 0.9364805729930173, 'sing_LoughranMcDonald': -0.00013579671747149672, '0': {'type': '10-Q', 'published': datetime.date(2011, 11, 9), 'qtr': (2011, 4)}}\n"
     ]
    },
    {
     "name": "stderr",
     "output_type": "stream",
     "text": [
      "\n",
      " 16%|█▌        | 158/1000 [01:47<05:55,  2.37it/s]\u001b[A\n",
      "\n",
      "158it [01:47,  2.38it/s]\u001b[A\u001b[A"
     ]
    },
    {
     "name": "stdout",
     "output_type": "stream",
     "text": [
      "[INFO] Found a ToC!\n",
      "{'diff_jaccard': 0.7885659489886085, 'diff_cosine_tf': 0.9880339897021303, 'diff_cosine_tf_idf': 0.9781731517438184, 'diff_minEdit': 1.0000000000000002, 'diff_simple': 1.0000000000000002, 'sing_LoughranMcDonald': -0.0014393337440826476, '0': {'type': '10-Q', 'published': datetime.date(2010, 11, 5), 'qtr': (2010, 4)}}\n",
      "[INFO] Found a ToC!\n",
      "[INFO] Comparing current qtr (2010, 2) to qtr (2010, 1) from 1 quarter ago.\n",
      "[INFO] Comparing current qtr (2011, 1) to qtr (2010, 4) from 1 quarter ago.\n",
      "[INFO] Found a ToC!\n",
      "[INFO] Found a ToC!\n",
      "{'diff_jaccard': 0.534282438844424, 'diff_cosine_tf': 0.9177585294439998, 'diff_cosine_tf_idf': 0.9016039305306808, 'diff_minEdit': 0.8995679892626458, 'diff_simple': 0.9175641025641025, 'sing_LoughranMcDonald': -0.0027468991718217635, '0': {'type': '10-Q', 'published': datetime.date(2010, 5, 7), 'qtr': (2010, 2)}}\n",
      "[INFO] Comparing current qtr (2010, 3) to qtr (2010, 2) from 1 quarter ago.\n",
      "[INFO] No ToC found\n",
      "[WARNING] Section 1a was found to be empty.\n",
      "[INFO] Found a ToC!\n",
      "[INFO] Found a ToC!\n",
      "[WARNING] Section 9a was found to be empty.\n",
      "[INFO] Found a ToC!\n",
      "{'diff_jaccard': 0.8681566892404384, 'diff_cosine_tf': 0.9880126105271654, 'diff_cosine_tf_idf': 0.9844851557772479, 'diff_minEdit': 1.0, 'diff_simple': 1.0, 'sing_LoughranMcDonald': -0.002575764803978555, '0': {'type': '10-Q', 'published': datetime.date(2010, 8, 9), 'qtr': (2010, 3)}}\n",
      "[INFO] Comparing current qtr (2010, 4) to qtr (2010, 3) from 1 quarter ago.\n",
      "[INFO] Comparing current qtr (2010, 2) to qtr (2010, 1) from 1 quarter ago.\n",
      "{'diff_jaccard': 0.0, 'diff_cosine_tf': 0.0, 'diff_cosine_tf_idf': 0.0, 'diff_minEdit': 0.5636363636363636, 'diff_simple': 0.23131276936154982, 'sing_LoughranMcDonald': 0.0, '0': {'type': '10-Q', 'published': datetime.date(2010, 4, 29), 'qtr': (2010, 2)}}\n",
      "[INFO] Found a ToC!\n",
      "[WARNING] Section _i_4 was found to be empty.\n",
      "[INFO] Comparing current qtr (2010, 3) to qtr (2010, 2) from 1 quarter ago.\n",
      "[WARNING] Section ii_1 was found to be empty.\n",
      "[INFO] No ToC found\n",
      "{'diff_jaccard': 0.2873129243000664, 'diff_cosine_tf': 0.820085499538354, 'diff_cosine_tf_idf': 0.7921268714494965, 'diff_minEdit': 0.8005144267763441, 'diff_simple': 0.819759050623404, 'sing_LoughranMcDonald': -0.000378663110156913, '0': {'type': '10-K', 'published': datetime.date(2011, 3, 14), 'qtr': (2011, 1)}}\n",
      "[INFO] Comparing current qtr (2011, 2) to qtr (2011, 1) from 1 quarter ago.\n",
      "{'diff_jaccard': 0.7597987039795768, 'diff_cosine_tf': 0.9785495942998416, 'diff_cosine_tf_idf': 0.9724548679423863, 'diff_minEdit': 0.9999999999999999, 'diff_simple': 0.9999999999999999, 'sing_LoughranMcDonald': -0.002262590796604562, '0': {'type': '10-Q', 'published': datetime.date(2010, 11, 9), 'qtr': (2010, 4)}}\n"
     ]
    },
    {
     "name": "stderr",
     "output_type": "stream",
     "text": [
      "\n",
      " 16%|█▌        | 159/1000 [01:48<06:41,  2.09it/s]\u001b[A\n",
      "\n",
      "159it [01:48,  2.09it/s]\u001b[A\u001b[A"
     ]
    },
    {
     "name": "stdout",
     "output_type": "stream",
     "text": [
      "{'diff_jaccard': 0.012716739409279441, 'diff_cosine_tf': 0.4279429064464047, 'diff_cosine_tf_idf': 0.33089625528457123, 'diff_minEdit': 0.9524414015268956, 'diff_simple': 0.7883206527120153, 'sing_LoughranMcDonald': -0.0012663411832538323, '0': {'type': '10-Q', 'published': datetime.date(2010, 7, 29), 'qtr': (2010, 3)}}\n",
      "[INFO] Comparing current qtr (2010, 4) to qtr (2010, 3) from 1 quarter ago.\n",
      "[INFO] No ToC found\n",
      "[INFO] Found a ToC!\n",
      "[INFO] Found a ToC!\n",
      "{'diff_jaccard': 0.8989080628831593, 'diff_cosine_tf': 0.9922212686211278, 'diff_cosine_tf_idf': 0.9912196355870023, 'diff_minEdit': 0.9970153270296389, 'diff_simple': 0.996537779354381, 'sing_LoughranMcDonald': -0.001297767911155982, '0': {'type': '10-Q', 'published': datetime.date(2010, 10, 28), 'qtr': (2010, 4)}}\n",
      "{'diff_jaccard': 0.25123059554267474, 'diff_cosine_tf': 0.8246260784103142, 'diff_cosine_tf_idf': 0.7987483368833904, 'diff_minEdit': 0.8562975775366981, 'diff_simple': 0.8145094967065294, 'sing_LoughranMcDonald': -0.0015768749577456714, '0': {'type': '10-Q', 'published': datetime.date(2011, 5, 9), 'qtr': (2011, 2)}}\n",
      "[INFO] Comparing current qtr (2011, 1) to qtr (2010, 4) from 1 quarter ago.\n",
      "[INFO] Comparing current qtr (2011, 3) to qtr (2011, 2) from 1 quarter ago.\n",
      "[INFO] Found a ToC!\n",
      "[INFO] Found a ToC!\n",
      "[WARNING] Section ii_1 was found to be empty.\n",
      "{'diff_jaccard': 0.7811184908980711, 'diff_cosine_tf': 0.9733250401115404, 'diff_cosine_tf_idf': 0.9639700297292879, 'diff_minEdit': 0.9351055275367487, 'diff_simple': 0.9811806029856571, 'sing_LoughranMcDonald': -0.0017708173175814456, '0': {'type': '10-Q', 'published': datetime.date(2011, 8, 4), 'qtr': (2011, 3)}}\n",
      "[INFO] Comparing current qtr (2011, 4) to qtr (2011, 3) from 1 quarter ago.\n",
      "[INFO] No ToC found\n",
      "[INFO] Comparing current qtr (2010, 2) to qtr (2010, 1) from 1 quarter ago.\n",
      "{'diff_jaccard': 0.376872650699056, 'diff_cosine_tf': 0.815153134714216, 'diff_cosine_tf_idf': 0.7819754173111296, 'diff_minEdit': 0.9139259955013951, 'diff_simple': 0.8421039967134222, 'sing_LoughranMcDonald': -0.0005974589811586669, '0': {'type': '10-K', 'published': datetime.date(2011, 3, 3), 'qtr': (2011, 1)}}\n",
      "[INFO] Comparing current qtr (2011, 2) to qtr (2011, 1) from 1 quarter ago.\n",
      "[INFO] Found a ToC!\n",
      "[WARNING] Section ii_1 was found to be empty.\n",
      "{'diff_jaccard': 0.10472798299502642, 'diff_cosine_tf': 0.19836865463052633, 'diff_cosine_tf_idf': 0.1617913507445971, 'diff_minEdit': 0.6421638545834057, 'diff_simple': 0.29661979049791604, 'sing_LoughranMcDonald': -0.02719280431777244, '0': {'type': '10-Q', 'published': datetime.date(2011, 11, 7), 'qtr': (2011, 4)}}\n",
      "[INFO] Comparing current qtr (2012, 1) to qtr (2011, 4) from 1 quarter ago.\n",
      "{'diff_jaccard': 0.3606152443413805, 'diff_cosine_tf': 0.8099755427301386, 'diff_cosine_tf_idf': 0.7753891615587308, 'diff_minEdit': 0.9072371898768963, 'diff_simple': 0.8373581362596091, 'sing_LoughranMcDonald': -0.0018788816003195196, '0': {'type': '10-Q', 'published': datetime.date(2011, 4, 28), 'qtr': (2011, 2)}}\n",
      "[INFO] Comparing current qtr (2011, 3) to qtr (2011, 2) from 1 quarter ago.\n",
      "[INFO] No ToC found\n",
      "[INFO] Found a ToC!\n",
      "[WARNING] Section ii_1 was found to be empty.\n",
      "[WARNING] Section 1a was found to be empty.\n",
      "{'diff_jaccard': 0.9024883627106401, 'diff_cosine_tf': 0.9868711326151253, 'diff_cosine_tf_idf': 0.9831711465328062, 'diff_minEdit': 1.0, 'diff_simple': 1.0, 'sing_LoughranMcDonald': -0.0017330339327866204, '0': {'type': '10-Q', 'published': datetime.date(2011, 8, 1), 'qtr': (2011, 3)}}\n",
      "[INFO] Comparing current qtr (2011, 4) to qtr (2011, 3) from 1 quarter ago.\n",
      "[INFO] Found a ToC!\n",
      "{'diff_jaccard': 0.8513989538269963, 'diff_cosine_tf': 0.9807464167406938, 'diff_cosine_tf_idf': 0.9719172251357281, 'diff_minEdit': 0.9999999999999999, 'diff_simple': 0.9999999999999999, 'sing_LoughranMcDonald': -0.0016097597679878113, '0': {'type': '10-Q', 'published': datetime.date(2011, 10, 31), 'qtr': (2011, 4)}}\n",
      "[INFO] Comparing current qtr (2012, 1) to qtr (2011, 4) from 1 quarter ago.\n",
      "[INFO] Found a ToC!\n",
      "{'diff_jaccard': 0.01868258151221401, 'diff_cosine_tf': 0.2676288106054525, 'diff_cosine_tf_idf': 0.21714290609161896, 'diff_minEdit': 0.5744473943990437, 'diff_simple': 0.2983635119525914, 'sing_LoughranMcDonald': -0.00036370169765118055, '0': {'type': '10-K', 'published': datetime.date(2012, 3, 1), 'qtr': (2012, 1)}}\n",
      "[INFO] No ToC found\n",
      "[INFO] Comparing current qtr (2012, 2) to qtr (2012, 1) from 1 quarter ago.\n",
      "[WARNING] Section _i_2 was found to be empty.\n",
      "{'diff_jaccard': 0.024729644854924925, 'diff_cosine_tf': 0.6895872200506922, 'diff_cosine_tf_idf': 0.6570638871203413, 'diff_minEdit': 0.6374795589735104, 'diff_simple': 0.45316617191559694, 'sing_LoughranMcDonald': -0.0005788332486979125, '0': {'type': '10-Q', 'published': datetime.date(2010, 5, 6), 'qtr': (2010, 2)}}\n",
      "[WARNING] Section _i_3 was found to be empty.\n",
      "[WARNING] Section _i_4 was found to be empty.\n",
      "[INFO] Comparing current qtr (2010, 3) to qtr (2010, 2) from 1 quarter ago.\n",
      "[WARNING] Section ii_1 was found to be empty.\n",
      "[INFO] Found a ToC!\n",
      "[WARNING] Section ii_1a was found to be empty.\n",
      "[WARNING] Section _i_4 was found to be empty.\n",
      "[WARNING] Section ii_1 was found to be empty.\n",
      "{'diff_jaccard': 0.4853142778475954, 'diff_cosine_tf': 0.8704326002467397, 'diff_cosine_tf_idf': 0.8443311990035636, 'diff_minEdit': 0.8920395810728339, 'diff_simple': 0.8217029098873592, 'sing_LoughranMcDonald': -0.0007901613697142257, '0': {'type': '10-K', 'published': datetime.date(2012, 3, 2), 'qtr': (2012, 1)}}\n",
      "{'diff_jaccard': 0.7152587483417815, 'diff_cosine_tf': 0.948118444869548, 'diff_cosine_tf_idf': 0.9367829257287338, 'diff_minEdit': 0.9902173223653058, 'diff_simple': 0.9584524071224445, 'sing_LoughranMcDonald': -0.0008003688362009323, '0': {'type': '10-Q', 'published': datetime.date(2010, 7, 27), 'qtr': (2010, 3)}}\n",
      "[INFO] Comparing current qtr (2012, 2) to qtr (2012, 1) from 1 quarter ago.\n",
      "[INFO] Comparing current qtr (2010, 4) to qtr (2010, 3) from 1 quarter ago.\n",
      "[INFO] No ToC found\n",
      "[INFO] No ToC found\n",
      "[INFO] Found a ToC!\n",
      "[WARNING] Section ii_1a was found to be empty.\n",
      "[INFO] Found a ToC!\n",
      "[WARNING] Section ii_1 was found to be empty.\n",
      "[WARNING] Section ii_1a was found to be empty.\n",
      "{'diff_jaccard': 0.29265370377934014, 'diff_cosine_tf': 0.8084043893710686, 'diff_cosine_tf_idf': 0.7750037646490288, 'diff_minEdit': 0.8458815947603991, 'diff_simple': 0.8023739107472934, 'sing_LoughranMcDonald': -0.0012778383868875887, '0': {'type': '10-Q', 'published': datetime.date(2012, 5, 4), 'qtr': (2012, 2)}}\n"
     ]
    },
    {
     "name": "stderr",
     "output_type": "stream",
     "text": [
      "\n",
      " 16%|█▌        | 160/1000 [01:49<09:28,  1.48it/s]\u001b[A\n",
      "\n",
      "160it [01:49,  1.48it/s]\u001b[A\u001b[A"
     ]
    },
    {
     "name": "stdout",
     "output_type": "stream",
     "text": [
      "{'diff_jaccard': 0.4890757761325868, 'diff_cosine_tf': 0.8578899908630442, 'diff_cosine_tf_idf': 0.8252153484035467, 'diff_minEdit': 0.8941352449077404, 'diff_simple': 0.8127046292503073, 'sing_LoughranMcDonald': -0.0019805153331740434, '0': {'type': '10-Q', 'published': datetime.date(2012, 5, 4), 'qtr': (2012, 2)}}\n",
      "[INFO] No ToC found\n",
      "[INFO] Comparing current qtr (2012, 3) to qtr (2012, 2) from 1 quarter ago.\n",
      "{'diff_jaccard': 0.737678705827714, 'diff_cosine_tf': 0.9906402908462965, 'diff_cosine_tf_idf': 0.9872011381360744, 'diff_minEdit': 1.0, 'diff_simple': 1.0, 'sing_LoughranMcDonald': -0.0006128257077721675, '0': {'type': '10-Q', 'published': datetime.date(2010, 11, 3), 'qtr': (2010, 4)}}\n",
      "[INFO] Comparing current qtr (2011, 1) to qtr (2010, 4) from 1 quarter ago.\n",
      "[INFO] No ToC found\n",
      "{'diff_jaccard': 0.8939793369761095, 'diff_cosine_tf': 0.9842545325193182, 'diff_cosine_tf_idf': 0.9808261801733569, 'diff_minEdit': 0.998873128705736, 'diff_simple': 0.999802797523504, 'sing_LoughranMcDonald': -0.0018143290674184852, '0': {'type': '10-Q', 'published': datetime.date(2012, 8, 3), 'qtr': (2012, 3)}}\n",
      "[INFO] Comparing current qtr (2012, 4) to qtr (2012, 3) from 1 quarter ago.\n",
      "[INFO] Found a ToC!\n",
      "[INFO] Comparing current qtr (2010, 2) to qtr (2010, 1) from 1 quarter ago.\n",
      "[INFO] No ToC found\n",
      "[WARNING] Section ii_1a was found to be empty.\n",
      "[INFO] Found a ToC!\n",
      "[INFO] No ToC found\n",
      "{'diff_jaccard': 0.016891278746297693, 'diff_cosine_tf': 0.40201305092864176, 'diff_cosine_tf_idf': 0.30333647619512416, 'diff_minEdit': 0.9387992302022615, 'diff_simple': 0.810788088218895, 'sing_LoughranMcDonald': -0.0009344873140476283, '0': {'type': '10-Q', 'published': datetime.date(2010, 5, 7), 'qtr': (2010, 2)}}\n",
      "[INFO] Comparing current qtr (2010, 3) to qtr (2010, 2) from 1 quarter ago.\n",
      "{'diff_jaccard': 0.9074748137302125, 'diff_cosine_tf': 0.9804736631034363, 'diff_cosine_tf_idf': 0.9769394906937433, 'diff_minEdit': 0.9969920887814526, 'diff_simple': 0.9995187342050325, 'sing_LoughranMcDonald': -0.0017805395093097459, '0': {'type': '10-Q', 'published': datetime.date(2012, 11, 2), 'qtr': (2012, 4)}}\n"
     ]
    },
    {
     "name": "stderr",
     "output_type": "stream",
     "text": [
      "\n",
      " 16%|█▌        | 161/1000 [01:50<07:50,  1.78it/s]\u001b[A\n",
      "\n",
      "161it [01:50,  1.78it/s]\u001b[A\u001b[A"
     ]
    },
    {
     "name": "stdout",
     "output_type": "stream",
     "text": [
      "{'diff_jaccard': 0.048086912502763694, 'diff_cosine_tf': 0.4371359254177297, 'diff_cosine_tf_idf': 0.4077401704590546, 'diff_minEdit': 0.7711900906221895, 'diff_simple': 0.5979484573024632, 'sing_LoughranMcDonald': -0.0006396094461052398, '0': {'type': '10-K', 'published': datetime.date(2011, 3, 1), 'qtr': (2011, 1)}}\n",
      "[INFO] Comparing current qtr (2011, 2) to qtr (2011, 1) from 1 quarter ago.\n",
      "{'diff_jaccard': 0.7207382549345926, 'diff_cosine_tf': 0.8981146962977142, 'diff_cosine_tf_idf': 0.8893771611907493, 'diff_minEdit': 0.9935101901400433, 'diff_simple': 0.9802003001982491, 'sing_LoughranMcDonald': -0.000885237204974283, '0': {'type': '10-Q', 'published': datetime.date(2010, 8, 11), 'qtr': (2010, 3)}}\n",
      "[INFO] No ToC found\n",
      "[INFO] Comparing current qtr (2010, 4) to qtr (2010, 3) from 1 quarter ago.\n",
      "[INFO] Found a ToC!\n",
      "{'diff_jaccard': 0.7502281137185478, 'diff_cosine_tf': 0.9616450449792989, 'diff_cosine_tf_idf': 0.9534326827869342, 'diff_minEdit': 1.0, 'diff_simple': 1.0, 'sing_LoughranMcDonald': -0.000678411566055236, '0': {'type': '10-Q', 'published': datetime.date(2010, 11, 4), 'qtr': (2010, 4)}}\n",
      "[INFO] Comparing current qtr (2011, 1) to qtr (2010, 4) from 1 quarter ago.\n",
      "{'diff_jaccard': 0.1366265832979987, 'diff_cosine_tf': 0.6698647581848257, 'diff_cosine_tf_idf': 0.6529800157987091, 'diff_minEdit': 0.8179091765233376, 'diff_simple': 0.5125979376217171, 'sing_LoughranMcDonald': -0.0007577484323045235, '0': {'type': '10-Q', 'published': datetime.date(2011, 5, 5), 'qtr': (2011, 2)}}\n",
      "[INFO] Comparing current qtr (2011, 3) to qtr (2011, 2) from 1 quarter ago.\n",
      "{'diff_jaccard': 0.01250427268546108, 'diff_cosine_tf': 0.4104732866742483, 'diff_cosine_tf_idf': 0.31258848486282104, 'diff_minEdit': 0.9540420342653269, 'diff_simple': 0.8168171159208409, 'sing_LoughranMcDonald': 0.0, '0': {'type': '10-K', 'published': datetime.date(2011, 3, 31), 'qtr': (2011, 1)}}\n",
      "[INFO] Comparing current qtr (2011, 2) to qtr (2011, 1) from 1 quarter ago.\n",
      "[INFO] Found a ToC!\n",
      "{'diff_jaccard': 0.015682726093906713, 'diff_cosine_tf': 0.39488616712870456, 'diff_cosine_tf_idf': 0.2985769027951914, 'diff_minEdit': 0.925900222986151, 'diff_simple': 0.7920951484075065, 'sing_LoughranMcDonald': -0.0003790784754800415, '0': {'type': '10-Q', 'published': datetime.date(2011, 5, 6), 'qtr': (2011, 2)}}\n",
      "[INFO] Comparing current qtr (2011, 3) to qtr (2011, 2) from 1 quarter ago.\n",
      "{'diff_jaccard': 0.769122713277201, 'diff_cosine_tf': 0.9797577617476831, 'diff_cosine_tf_idf': 0.9745463242924869, 'diff_minEdit': 1.0, 'diff_simple': 1.0, 'sing_LoughranMcDonald': -0.0006871657396091207, '0': {'type': '10-Q', 'published': datetime.date(2011, 7, 28), 'qtr': (2011, 3)}}\n",
      "[INFO] Comparing current qtr (2011, 4) to qtr (2011, 3) from 1 quarter ago.\n",
      "[INFO] No ToC found\n",
      "[WARNING] Section 1a was found to be empty.\n",
      "[WARNING] Section 3 was found to be empty.\n",
      "[WARNING] Section 7 was found to be empty.\n",
      "[WARNING] Section 7a was found to be empty.\n",
      "[WARNING] Section 9a was found to be empty.\n",
      "{'diff_jaccard': 0.7659064824235289, 'diff_cosine_tf': 0.9094602476477516, 'diff_cosine_tf_idf': 0.8898450948734669, 'diff_minEdit': 0.9929489366541567, 'diff_simple': 0.9797252628956239, 'sing_LoughranMcDonald': -0.0003036118882906204, '0': {'type': '10-Q', 'published': datetime.date(2011, 8, 8), 'qtr': (2011, 3)}}\n",
      "[INFO] Comparing current qtr (2011, 4) to qtr (2011, 3) from 1 quarter ago.\n",
      "[INFO] Found a ToC!\n",
      "[INFO] Comparing current qtr (2010, 2) to qtr (2010, 1) from 1 quarter ago.\n",
      "[INFO] No ToC found\n",
      "[WARNING] Section ii_1 was found to be empty.\n",
      "{'diff_jaccard': 0.8462795256387594, 'diff_cosine_tf': 0.9953535888085923, 'diff_cosine_tf_idf': 0.9931858022892442, 'diff_minEdit': 1.0, 'diff_simple': 1.0, 'sing_LoughranMcDonald': -0.000657862891046922, '0': {'type': '10-Q', 'published': datetime.date(2011, 11, 3), 'qtr': (2011, 4)}}\n",
      "[INFO] Comparing current qtr (2012, 1) to qtr (2011, 4) from 1 quarter ago.\n",
      "{'diff_jaccard': 0.8456646527144974, 'diff_cosine_tf': 0.9652983697789939, 'diff_cosine_tf_idf': 0.9559747752529835, 'diff_minEdit': 0.9999999999999999, 'diff_simple': 0.9999999999999999, 'sing_LoughranMcDonald': -0.00034097946979833016, '0': {'type': '10-Q', 'published': datetime.date(2011, 11, 4), 'qtr': (2011, 4)}}\n",
      "[INFO] Comparing current qtr (2012, 1) to qtr (2011, 4) from 1 quarter ago.\n",
      "[INFO] No ToC found\n",
      "[WARNING] Section ii_1 was found to be empty.\n",
      "{'diff_jaccard': 0.7981016837534834, 'diff_cosine_tf': 0.9751674312109625, 'diff_cosine_tf_idf': 0.9732294306076094, 'diff_minEdit': 0.6246213311911332, 'diff_simple': 0.47254903602325027, 'sing_LoughranMcDonald': -0.00048106673268847287, '0': {'type': '10-Q', 'published': datetime.date(2010, 5, 7), 'qtr': (2010, 2)}}\n",
      "[INFO] Comparing current qtr (2010, 3) to qtr (2010, 2) from 1 quarter ago.\n",
      "[INFO] Found a ToC!\n",
      "[INFO] No ToC found\n",
      "[WARNING] Section ii_1 was found to be empty.\n",
      "[INFO] Found a ToC!\n",
      "{'diff_jaccard': 0.3645258422771616, 'diff_cosine_tf': 0.9262330341086276, 'diff_cosine_tf_idf': 0.9189134637416779, 'diff_minEdit': 0.9349129593810446, 'diff_simple': 0.8109893383763163, 'sing_LoughranMcDonald': -0.0001362264788371285, '0': {'type': '10-K', 'published': datetime.date(2012, 2, 23), 'qtr': (2012, 1)}}\n",
      "{'diff_jaccard': 0.26416594802420146, 'diff_cosine_tf': 0.7432480176059186, 'diff_cosine_tf_idf': 0.7090972511294447, 'diff_minEdit': 0.753208889499781, 'diff_simple': 0.7787851186658115, 'sing_LoughranMcDonald': -0.00021632843080965805, '0': {'type': '10-K', 'published': datetime.date(2012, 3, 23), 'qtr': (2012, 1)}}\n",
      "[INFO] Comparing current qtr (2012, 2) to qtr (2012, 1) from 1 quarter ago.\n",
      "[INFO] Comparing current qtr (2012, 2) to qtr (2012, 1) from 1 quarter ago.\n",
      "[INFO] No ToC found\n",
      "{'diff_jaccard': 0.956677702223651, 'diff_cosine_tf': 0.9940638281104583, 'diff_cosine_tf_idf': 0.9925307193337902, 'diff_minEdit': 1.0000000000000002, 'diff_simple': 1.0000000000000002, 'sing_LoughranMcDonald': -0.00047098901772259455, '0': {'type': '10-Q', 'published': datetime.date(2010, 8, 5), 'qtr': (2010, 3)}}\n",
      "[INFO] Comparing current qtr (2010, 4) to qtr (2010, 3) from 1 quarter ago.\n",
      "[INFO] No ToC found\n",
      "{'diff_jaccard': 0.2822236640752391, 'diff_cosine_tf': 0.7884563619784103, 'diff_cosine_tf_idf': 0.7706930106101356, 'diff_minEdit': 0.9309908923848604, 'diff_simple': 0.9126497328488845, 'sing_LoughranMcDonald': -0.0009668009022343248, '0': {'type': '10-Q', 'published': datetime.date(2012, 5, 3), 'qtr': (2012, 2)}}\n",
      "{'diff_jaccard': 0.25517339340340384, 'diff_cosine_tf': 0.775246715403226, 'diff_cosine_tf_idf': 0.7413726230604056, 'diff_minEdit': 0.7792532265637889, 'diff_simple': 0.7758698020185799, 'sing_LoughranMcDonald': -0.0004686580095904999, '0': {'type': '10-Q', 'published': datetime.date(2012, 5, 9), 'qtr': (2012, 2)}}\n",
      "[INFO] Comparing current qtr (2012, 3) to qtr (2012, 2) from 1 quarter ago.\n",
      "[INFO] Comparing current qtr (2012, 3) to qtr (2012, 2) from 1 quarter ago.\n",
      "{'diff_jaccard': 0.746433989381554, 'diff_cosine_tf': 0.8617780461413148, 'diff_cosine_tf_idf': 0.8337312049455513, 'diff_minEdit': 0.9822126838376565, 'diff_simple': 0.9504402595692313, 'sing_LoughranMcDonald': -0.00028330305418812474, '0': {'type': '10-Q', 'published': datetime.date(2012, 8, 10), 'qtr': (2012, 3)}}\n",
      "[INFO] Comparing current qtr (2012, 4) to qtr (2012, 3) from 1 quarter ago.\n",
      "[INFO] No ToC found\n",
      "[INFO] No ToC found\n",
      "{'diff_jaccard': 0.702524161091022, 'diff_cosine_tf': 0.9305448106974601, 'diff_cosine_tf_idf': 0.9208049930943397, 'diff_minEdit': 0.9366534288348344, 'diff_simple': 0.8901992766470462, 'sing_LoughranMcDonald': -0.0008089184996166054, '0': {'type': '10-Q', 'published': datetime.date(2012, 8, 2), 'qtr': (2012, 3)}}\n",
      "[INFO] Comparing current qtr (2012, 4) to qtr (2012, 3) from 1 quarter ago.\n",
      "{'diff_jaccard': 0.7786299392196588, 'diff_cosine_tf': 0.9453536971030889, 'diff_cosine_tf_idf': 0.9238681433562561, 'diff_minEdit': 0.994055012828371, 'diff_simple': 0.9875114370073629, 'sing_LoughranMcDonald': -0.00033988813298963655, '0': {'type': '10-Q', 'published': datetime.date(2012, 11, 9), 'qtr': (2012, 4)}}\n"
     ]
    },
    {
     "name": "stderr",
     "output_type": "stream",
     "text": [
      "\n",
      " 16%|█▌        | 162/1000 [01:51<12:41,  1.10it/s]\u001b[A\n",
      "\n",
      "162it [01:51,  1.10it/s]\u001b[A\u001b[A"
     ]
    },
    {
     "name": "stdout",
     "output_type": "stream",
     "text": [
      "{'diff_jaccard': 0.9449340210009113, 'diff_cosine_tf': 0.9969009230176714, 'diff_cosine_tf_idf': 0.9952179810192809, 'diff_minEdit': 1.0, 'diff_simple': 1.0, 'sing_LoughranMcDonald': -0.0004556450663137588, '0': {'type': '10-Q', 'published': datetime.date(2010, 11, 4), 'qtr': (2010, 4)}}\n",
      "[INFO] No ToC found\n",
      "[INFO] Comparing current qtr (2011, 1) to qtr (2010, 4) from 1 quarter ago.\n",
      "[WARNING] Section ii_1 was found to be empty.\n",
      "[INFO] No ToC found\n",
      "[WARNING] Section ii_1 was found to be empty.\n",
      "{'diff_jaccard': 0.48998419242642827, 'diff_cosine_tf': 0.9697212902099256, 'diff_cosine_tf_idf': 0.9639221198255643, 'diff_minEdit': 0.7540036700308617, 'diff_simple': 0.749083743431479, 'sing_LoughranMcDonald': -0.0006045059667362986, '0': {'type': '10-Q', 'published': datetime.date(2012, 11, 7), 'qtr': (2012, 4)}}\n"
     ]
    },
    {
     "name": "stderr",
     "output_type": "stream",
     "text": [
      "\n",
      " 16%|█▋        | 163/1000 [01:51<09:50,  1.42it/s]\u001b[A\n",
      "\n",
      "163it [01:51,  1.42it/s]\u001b[A\u001b[A"
     ]
    },
    {
     "name": "stdout",
     "output_type": "stream",
     "text": [
      "{'diff_jaccard': 0.8058839724625914, 'diff_cosine_tf': 0.9847857920222831, 'diff_cosine_tf_idf': 0.9815848816418619, 'diff_minEdit': 0.6098574752068575, 'diff_simple': 0.48496241362459835, 'sing_LoughranMcDonald': -0.001016998310344445, '0': {'type': '10-K', 'published': datetime.date(2011, 3, 1), 'qtr': (2011, 1)}}\n",
      "[INFO] Comparing current qtr (2011, 2) to qtr (2011, 1) from 1 quarter ago.\n",
      "[INFO] No ToC found\n",
      "[WARNING] Section ii_1 was found to be empty.\n",
      "[INFO] Found a ToC!\n",
      "[INFO] No ToC found\n",
      "{'diff_jaccard': 0.8143216850797382, 'diff_cosine_tf': 0.9850877295512909, 'diff_cosine_tf_idf': 0.982083677248544, 'diff_minEdit': 0.6314296060837725, 'diff_simple': 0.46046690224452164, 'sing_LoughranMcDonald': -0.0006474445277726821, '0': {'type': '10-Q', 'published': datetime.date(2011, 5, 4), 'qtr': (2011, 2)}}\n",
      "[INFO] Comparing current qtr (2011, 3) to qtr (2011, 2) from 1 quarter ago.\n",
      "[INFO] Found a ToC!\n",
      "[INFO] No ToC found\n",
      "[INFO] Found a ToC!\n",
      "{'diff_jaccard': 0.9110443420605041, 'diff_cosine_tf': 0.9944811156331452, 'diff_cosine_tf_idf': 0.9931152805531231, 'diff_minEdit': 1.0, 'diff_simple': 1.0, 'sing_LoughranMcDonald': -0.0006032292423699269, '0': {'type': '10-Q', 'published': datetime.date(2011, 8, 5), 'qtr': (2011, 3)}}\n",
      "[INFO] Comparing current qtr (2011, 4) to qtr (2011, 3) from 1 quarter ago.\n",
      "[INFO] No ToC found\n",
      "[INFO] No ToC found\n",
      "[WARNING] Section 7 was found to be empty.\n",
      "[INFO] Found a ToC!\n",
      "[INFO] No ToC found\n",
      "[INFO] No ToC found\n",
      "[INFO] No ToC found\n",
      "[WARNING] Section ii_1 was found to be empty.\n",
      "[WARNING] Section _i_2 was found to be empty.\n",
      "[INFO] Comparing current qtr (2010, 2) to qtr (2010, 1) from 1 quarter ago.\n",
      "[INFO] No ToC found\n",
      "[INFO] No ToC found\n",
      "[INFO] No ToC found\n",
      "[WARNING] Section ii_1 was found to be empty.\n",
      "{'diff_jaccard': 0.9316829805240419, 'diff_cosine_tf': 0.9964540984929126, 'diff_cosine_tf_idf': 0.9950041324965471, 'diff_minEdit': 1.0, 'diff_simple': 1.0, 'sing_LoughranMcDonald': -0.0005516984034847261, '0': {'type': '10-Q', 'published': datetime.date(2011, 11, 7), 'qtr': (2011, 4)}}\n",
      "{'diff_jaccard': 0.22120718946900794, 'diff_cosine_tf': 0.603794243563807, 'diff_cosine_tf_idf': 0.537174909131766, 'diff_minEdit': 0.7353231922258845, 'diff_simple': 0.35325195312499996, 'sing_LoughranMcDonald': -0.007455262056841625, '0': {'type': '10-Q', 'published': datetime.date(2010, 5, 6), 'qtr': (2010, 2)}}\n"
     ]
    },
    {
     "name": "stderr",
     "output_type": "stream",
     "text": [
      "\n",
      " 16%|█▋        | 164/1000 [01:53<11:53,  1.17it/s]\u001b[A\n",
      "\n",
      "164it [01:53,  1.17it/s]\u001b[A\u001b[A"
     ]
    },
    {
     "name": "stdout",
     "output_type": "stream",
     "text": [
      "[INFO] Comparing current qtr (2012, 1) to qtr (2011, 4) from 1 quarter ago.\n",
      "[INFO] No ToC found\n",
      "[INFO] Found a ToC!\n",
      "[INFO] No ToC found\n",
      "[WARNING] Section ii_1 was found to be empty.\n",
      "[INFO] Comparing current qtr (2010, 2) to qtr (2010, 1) from 1 quarter ago.\n",
      "{'diff_jaccard': 0.1724137931034483, 'diff_cosine_tf': 0.17241379310344826, 'diff_cosine_tf_idf': 0.17241379310344826, 'diff_minEdit': 0.6551724137931035, 'diff_simple': 0.358362560855348, 'sing_LoughranMcDonald': 0.0, '0': {'type': '10-Q', 'published': datetime.date(2010, 5, 3), 'qtr': (2010, 2)}}\n",
      "[INFO] Comparing current qtr (2010, 3) to qtr (2010, 2) from 1 quarter ago.\n",
      "{'diff_jaccard': 0.7874196510560146, 'diff_cosine_tf': 0.8848484848484847, 'diff_cosine_tf_idf': 0.8097237509813753, 'diff_minEdit': 0.9393939393939394, 'diff_simple': 0.979976715203988, 'sing_LoughranMcDonald': 0.0, '0': {'type': '10-Q', 'published': datetime.date(2010, 8, 3), 'qtr': (2010, 3)}}\n",
      "[INFO] Comparing current qtr (2010, 4) to qtr (2010, 3) from 1 quarter ago.\n",
      "[INFO] Found a ToC!\n",
      "{'diff_jaccard': 1.0, 'diff_cosine_tf': 0.9999999999999998, 'diff_cosine_tf_idf': 0.9999999999999998, 'diff_minEdit': 1.0, 'diff_simple': 1.0, 'sing_LoughranMcDonald': 0.0, '0': {'type': '10-Q', 'published': datetime.date(2010, 11, 2), 'qtr': (2010, 4)}}\n",
      "[INFO] Comparing current qtr (2011, 1) to qtr (2010, 4) from 1 quarter ago.\n",
      "[INFO] Found a ToC!\n",
      "[INFO] No ToC found\n",
      "{'diff_jaccard': 0.7233061588832049, 'diff_cosine_tf': 0.9605826941098775, 'diff_cosine_tf_idf': 0.9571884704220206, 'diff_minEdit': 0.6083936037383937, 'diff_simple': 0.4900004049064985, 'sing_LoughranMcDonald': -0.001004691487633103, '0': {'type': '10-K', 'published': datetime.date(2012, 3, 14), 'qtr': (2012, 1)}}\n",
      "[INFO] No ToC found\n",
      "[INFO] Comparing current qtr (2012, 2) to qtr (2012, 1) from 1 quarter ago.\n",
      "{'diff_jaccard': 0.006208316638132055, 'diff_cosine_tf': 0.21460857175607748, 'diff_cosine_tf_idf': 0.16018309442330975, 'diff_minEdit': 0.8799398896169888, 'diff_simple': 0.5527821142559785, 'sing_LoughranMcDonald': -0.001224639272834268, '0': {'type': '10-K', 'published': datetime.date(2011, 2, 28), 'qtr': (2011, 1)}}\n",
      "[INFO] Comparing current qtr (2011, 2) to qtr (2011, 1) from 1 quarter ago.\n",
      "[INFO] No ToC found\n",
      "[INFO] Comparing current qtr (2010, 2) to qtr (2010, 1) from 1 quarter ago.\n",
      "{'diff_jaccard': 0.006208316638132055, 'diff_cosine_tf': 0.21440189098437915, 'diff_cosine_tf_idf': 0.16002656210379756, 'diff_minEdit': 0.8775665599095758, 'diff_simple': 0.5538204460029716, 'sing_LoughranMcDonald': 0.0, '0': {'type': '10-Q', 'published': datetime.date(2011, 4, 29), 'qtr': (2011, 2)}}\n",
      "[INFO] Comparing current qtr (2011, 3) to qtr (2011, 2) from 1 quarter ago.\n",
      "[INFO] No ToC found\n",
      "{'diff_jaccard': 1.0, 'diff_cosine_tf': 0.9999999999999998, 'diff_cosine_tf_idf': 0.9999999999999998, 'diff_minEdit': 1.0, 'diff_simple': 1.0, 'sing_LoughranMcDonald': 0.0, '0': {'type': '10-Q', 'published': datetime.date(2011, 7, 25), 'qtr': (2011, 3)}}\n",
      "[INFO] Comparing current qtr (2011, 4) to qtr (2011, 3) from 1 quarter ago.\n",
      "[INFO] Comparing current qtr (2012, 1) to qtr (2011, 4) from 1 quarter ago.\n",
      "{'diff_jaccard': 0.7874196510560146, 'diff_cosine_tf': 0.8848484848484847, 'diff_cosine_tf_idf': 0.8097237509813753, 'diff_minEdit': 0.9393939393939394, 'diff_simple': 0.979976715203988, 'sing_LoughranMcDonald': 0.0, '0': {'type': '10-Q', 'published': datetime.date(2011, 10, 25), 'qtr': (2011, 4)}}\n",
      "{'diff_jaccard': 0.002146265108209153, 'diff_cosine_tf': 0.07017771051751122, 'diff_cosine_tf_idf': 0.04256318056142272, 'diff_minEdit': 0.597964779582261, 'diff_simple': 0.2117466641257331, 'sing_LoughranMcDonald': 0.0, '0': {'type': '10-Q', 'published': datetime.date(2010, 4, 28), 'qtr': (2010, 2)}}\n",
      "[INFO] Comparing current qtr (2012, 1) to qtr (2011, 4) from 1 quarter ago.\n",
      "[INFO] Comparing current qtr (2010, 3) to qtr (2010, 2) from 1 quarter ago.\n",
      "{'diff_jaccard': 0.8159691679891189, 'diff_cosine_tf': 0.9854145912118771, 'diff_cosine_tf_idf': 0.9832655694675467, 'diff_minEdit': 0.6569028585514664, 'diff_simple': 0.503482696815111, 'sing_LoughranMcDonald': -0.001223307378748514, '0': {'type': '10-Q', 'published': datetime.date(2012, 5, 7), 'qtr': (2012, 2)}}\n",
      "[INFO] No ToC found\n",
      "[INFO] Comparing current qtr (2012, 3) to qtr (2012, 2) from 1 quarter ago.\n",
      "{'diff_jaccard': 0.0031570723345546166, 'diff_cosine_tf': 0.07756181072446705, 'diff_cosine_tf_idf': 0.047445743368695184, 'diff_minEdit': 0.6319032419638385, 'diff_simple': 0.19405202634079216, 'sing_LoughranMcDonald': -0.001071588973281083, '0': {'type': '10-Q', 'published': datetime.date(2010, 7, 29), 'qtr': (2010, 3)}}\n",
      "[INFO] Comparing current qtr (2010, 4) to qtr (2010, 3) from 1 quarter ago.\n",
      "{'diff_jaccard': 0.005695993782221928, 'diff_cosine_tf': 0.21733382270031382, 'diff_cosine_tf_idf': 0.1624615519523332, 'diff_minEdit': 0.8800449179974353, 'diff_simple': 0.5602317428828196, 'sing_LoughranMcDonald': -0.00115529047936563, '0': {'type': '10-K', 'published': datetime.date(2012, 2, 23), 'qtr': (2012, 1)}}\n",
      "[INFO] Comparing current qtr (2012, 2) to qtr (2012, 1) from 1 quarter ago.\n",
      "{'diff_jaccard': 0.006095652652802094, 'diff_cosine_tf': 0.21774573985219503, 'diff_cosine_tf_idf': 0.16277435524097192, 'diff_minEdit': 0.8777336264928409, 'diff_simple': 0.5612429329160797, 'sing_LoughranMcDonald': 0.0, '0': {'type': '10-Q', 'published': datetime.date(2012, 4, 25), 'qtr': (2012, 2)}}\n",
      "[INFO] Comparing current qtr (2012, 3) to qtr (2012, 2) from 1 quarter ago.\n",
      "{'diff_jaccard': 0.7874196510560146, 'diff_cosine_tf': 0.8848484848484847, 'diff_cosine_tf_idf': 0.8097237509813753, 'diff_minEdit': 0.9393939393939394, 'diff_simple': 0.9739161091433819, 'sing_LoughranMcDonald': 0.0, '0': {'type': '10-Q', 'published': datetime.date(2012, 7, 24), 'qtr': (2012, 3)}}\n",
      "[INFO] Comparing current qtr (2012, 4) to qtr (2012, 3) from 1 quarter ago.\n",
      "[INFO] Found a ToC!\n",
      "[WARNING] Section ii_1 was found to be empty.\n",
      "{'diff_jaccard': 0.937772079004406, 'diff_cosine_tf': 0.9926961555403337, 'diff_cosine_tf_idf': 0.9917377930726318, 'diff_minEdit': 1.0, 'diff_simple': 1.0, 'sing_LoughranMcDonald': -0.001159560259650178, '0': {'type': '10-Q', 'published': datetime.date(2012, 8, 6), 'qtr': (2012, 3)}}\n",
      "[INFO] Comparing current qtr (2012, 4) to qtr (2012, 3) from 1 quarter ago.\n",
      "{'diff_jaccard': 0.7874196510560146, 'diff_cosine_tf': 0.8848484848484847, 'diff_cosine_tf_idf': 0.8097237509813753, 'diff_minEdit': 0.9242424242424243, 'diff_simple': 0.9751557785648695, 'sing_LoughranMcDonald': 0.0, '0': {'type': '10-Q', 'published': datetime.date(2012, 10, 22), 'qtr': (2012, 4)}}\n"
     ]
    },
    {
     "name": "stderr",
     "output_type": "stream",
     "text": [
      "\n",
      " 16%|█▋        | 165/1000 [01:54<12:55,  1.08it/s]\u001b[A\n",
      "\n",
      "165it [01:54,  1.08it/s]\u001b[A\u001b[A"
     ]
    },
    {
     "name": "stdout",
     "output_type": "stream",
     "text": [
      "{'diff_jaccard': 0.27453462333697526, 'diff_cosine_tf': 0.7189962184287136, 'diff_cosine_tf_idf': 0.6702423194163984, 'diff_minEdit': 0.6816495972552205, 'diff_simple': 0.5602632112676057, 'sing_LoughranMcDonald': -0.0002667739541048536, '0': {'type': '10-K', 'published': datetime.date(2012, 3, 8), 'qtr': (2012, 1)}}\n",
      "{'diff_jaccard': 0.6817668445710138, 'diff_cosine_tf': 0.9837951866098072, 'diff_cosine_tf_idf': 0.9782495322833632, 'diff_minEdit': 0.9928787961209221, 'diff_simple': 0.9864875156394496, 'sing_LoughranMcDonald': -0.0009069683346750429, '0': {'type': '10-Q', 'published': datetime.date(2010, 10, 28), 'qtr': (2010, 4)}}\n",
      "[INFO] Comparing current qtr (2012, 2) to qtr (2012, 1) from 1 quarter ago.\n",
      "[INFO] Comparing current qtr (2011, 1) to qtr (2010, 4) from 1 quarter ago.\n",
      "[INFO] Found a ToC!\n",
      "[INFO] Found a ToC!\n",
      "[INFO] Found a ToC!\n",
      "[INFO] Found a ToC!\n",
      "{'diff_jaccard': 0.9346571451694003, 'diff_cosine_tf': 0.99512013857716, 'diff_cosine_tf_idf': 0.9943218526513455, 'diff_minEdit': 0.8600747547359278, 'diff_simple': 0.8368871426635958, 'sing_LoughranMcDonald': -0.0011437496404405813, '0': {'type': '10-Q', 'published': datetime.date(2012, 11, 9), 'qtr': (2012, 4)}}\n"
     ]
    },
    {
     "name": "stderr",
     "output_type": "stream",
     "text": [
      "\n",
      " 17%|█▋        | 166/1000 [01:54<10:21,  1.34it/s]\u001b[A\n",
      "\n",
      "166it [01:54,  1.34it/s]\u001b[A\u001b[A"
     ]
    },
    {
     "name": "stdout",
     "output_type": "stream",
     "text": [
      "{'diff_jaccard': 0.25057931289213026, 'diff_cosine_tf': 0.7252403460276027, 'diff_cosine_tf_idf': 0.6851179176173413, 'diff_minEdit': 0.7523019937694565, 'diff_simple': 0.5278499389444168, 'sing_LoughranMcDonald': -0.0006526663667543891, '0': {'type': '10-Q', 'published': datetime.date(2012, 5, 11), 'qtr': (2012, 2)}}\n",
      "[INFO] Comparing current qtr (2012, 3) to qtr (2012, 2) from 1 quarter ago.\n",
      "[INFO] Found a ToC!\n",
      "{'diff_jaccard': 0.3848781331981656, 'diff_cosine_tf': 0.8581890766477208, 'diff_cosine_tf_idf': 0.852100115169498, 'diff_minEdit': 0.8036945863739875, 'diff_simple': 0.8151449478775685, 'sing_LoughranMcDonald': -0.0006868576878968233, '0': {'type': '10-K', 'published': datetime.date(2011, 2, 24), 'qtr': (2011, 1)}}\n",
      "[INFO] Comparing current qtr (2011, 2) to qtr (2011, 1) from 1 quarter ago.\n",
      "[INFO] Found a ToC!\n",
      "{'diff_jaccard': 0.008892772060201903, 'diff_cosine_tf': 0.3034447269998402, 'diff_cosine_tf_idf': 0.22590967547493723, 'diff_minEdit': 0.9163136661245735, 'diff_simple': 0.7792523953156806, 'sing_LoughranMcDonald': 0.0, '0': {'type': '10-Q', 'published': datetime.date(2012, 8, 10), 'qtr': (2012, 3)}}\n",
      "[INFO] Comparing current qtr (2012, 4) to qtr (2012, 3) from 1 quarter ago.\n",
      "{'diff_jaccard': 0.771505376344086, 'diff_cosine_tf': 0.8182762305161126, 'diff_cosine_tf_idf': 0.7319941354036092, 'diff_minEdit': 0.9193548387096775, 'diff_simple': 0.9683112936619248, 'sing_LoughranMcDonald': 0.0, '0': {'type': '10-Q', 'published': datetime.date(2012, 11, 9), 'qtr': (2012, 4)}}\n"
     ]
    },
    {
     "name": "stderr",
     "output_type": "stream",
     "text": [
      "\n",
      " 17%|█▋        | 167/1000 [01:54<08:05,  1.72it/s]\u001b[A\n",
      "\n",
      "167it [01:54,  1.72it/s]\u001b[A\u001b[A"
     ]
    },
    {
     "name": "stdout",
     "output_type": "stream",
     "text": [
      "[INFO] No ToC found\n",
      "[WARNING] Section 1a was found to be empty.\n",
      "[WARNING] Section 3 was found to be empty.\n",
      "[INFO] Found a ToC!\n",
      "[WARNING] Section 7 was found to be empty.\n",
      "[WARNING] Section 7a was found to be empty.\n",
      "[WARNING] Section 9a was found to be empty.\n",
      "[INFO] Found a ToC!\n",
      "[INFO] Found a ToC!\n",
      "{'diff_jaccard': 0.3408735624697827, 'diff_cosine_tf': 0.8730969648959888, 'diff_cosine_tf_idf': 0.8593183118690363, 'diff_minEdit': 0.8243854118439586, 'diff_simple': 0.8171137139646454, 'sing_LoughranMcDonald': -0.002106268881179979, '0': {'type': '10-Q', 'published': datetime.date(2011, 4, 28), 'qtr': (2011, 2)}}\n",
      "[INFO] Comparing current qtr (2011, 3) to qtr (2011, 2) from 1 quarter ago.\n",
      "[INFO] Found a ToC!\n",
      "[INFO] Comparing current qtr (2010, 2) to qtr (2010, 1) from 1 quarter ago.\n",
      "{'diff_jaccard': 0.7010242715003043, 'diff_cosine_tf': 0.9738210487651622, 'diff_cosine_tf_idf': 0.9693689616016609, 'diff_minEdit': 1.0, 'diff_simple': 1.0, 'sing_LoughranMcDonald': -0.0016438139466642626, '0': {'type': '10-Q', 'published': datetime.date(2011, 7, 28), 'qtr': (2011, 3)}}\n",
      "[INFO] Comparing current qtr (2011, 4) to qtr (2011, 3) from 1 quarter ago.\n",
      "[INFO] No ToC found\n",
      "[WARNING] Section _i_2 was found to be empty.\n",
      "[WARNING] Section _i_3 was found to be empty.\n",
      "[WARNING] Section _i_4 was found to be empty.\n",
      "[WARNING] Section ii_1 was found to be empty.\n",
      "[WARNING] Section ii_1a was found to be empty.\n",
      "[ERROR] Here is full_sect: |[]|\n",
      "[ERROR] Original res: {'1': [], '1a': [], '1b': [], '2': [], '3': [], '4': [], '5': [], '6': [], '7': [], '7a': [], '8': [], '9': [], '9a': [], '9b': [], '10': [], '11': [], '12': [], '13': [], '14': [], '15': []}\n",
      "[WARNING] /home/alex/Desktop/filtered_text_data/nd_data/2010/QTR1/20100308_10-K_edgar_data_66004_0000914317-10-000398_1.txt failed parsing\n"
     ]
    },
    {
     "name": "stderr",
     "output_type": "stream",
     "text": [
      "\n",
      " 17%|█▋        | 168/1000 [01:55<07:19,  1.89it/s]\u001b[A\n",
      "\n",
      "168it [01:55,  1.89it/s]\u001b[A\u001b[A"
     ]
    },
    {
     "name": "stdout",
     "output_type": "stream",
     "text": [
      "[INFO] Found a ToC!\n",
      "{'diff_jaccard': 0.7667869014589471, 'diff_cosine_tf': 0.9887827085370241, 'diff_cosine_tf_idf': 0.9864794173682955, 'diff_minEdit': 1.0, 'diff_simple': 1.0, 'sing_LoughranMcDonald': -0.001604823829013911, '0': {'type': '10-Q', 'published': datetime.date(2011, 10, 27), 'qtr': (2011, 4)}}\n",
      "[INFO] Comparing current qtr (2010, 2) to qtr (2010, 1) from 1 quarter ago.\n",
      "[INFO] Comparing current qtr (2012, 1) to qtr (2011, 4) from 1 quarter ago.\n",
      "{'diff_jaccard': 0.34561350961766735, 'diff_cosine_tf': 0.8437456316113049, 'diff_cosine_tf_idf': 0.8186825087200904, 'diff_minEdit': 0.9063081522518354, 'diff_simple': 0.8023429103675576, 'sing_LoughranMcDonald': -0.0003639636217203343, '0': {'type': '10-Q', 'published': datetime.date(2010, 5, 14), 'qtr': (2010, 2)}}\n",
      "[INFO] Comparing current qtr (2010, 3) to qtr (2010, 2) from 1 quarter ago.\n",
      "[INFO] No ToC found\n",
      "[WARNING] Section _i_2 was found to be empty.\n",
      "[WARNING] Section _i_3 was found to be empty.\n",
      "[INFO] No ToC found\n",
      "[WARNING] Section 1a was found to be empty.\n",
      "[WARNING] Section _i_4 was found to be empty.\n",
      "[WARNING] Section 7a was found to be empty.\n",
      "[WARNING] Section ii_1 was found to be empty.\n",
      "[WARNING] Section ii_1a was found to be empty.\n",
      "{'diff_jaccard': 0.7029175438936214, 'diff_cosine_tf': 0.9830875672251961, 'diff_cosine_tf_idf': 0.9802053168756161, 'diff_minEdit': 0.9974412672419222, 'diff_simple': 0.9975436165522453, 'sing_LoughranMcDonald': -0.0002498427693648678, '0': {'type': '10-Q', 'published': datetime.date(2010, 8, 13), 'qtr': (2010, 3)}}\n",
      "[INFO] Comparing current qtr (2010, 4) to qtr (2010, 3) from 1 quarter ago.\n",
      "[INFO] No ToC found\n",
      "[WARNING] Section _i_2 was found to be empty.\n",
      "[WARNING] Section _i_3 was found to be empty.\n",
      "[INFO] No ToC found\n",
      "[INFO] No ToC found\n",
      "[WARNING] Section _i_2 was found to be empty.\n",
      "[WARNING] Section _i_4 was found to be empty.\n",
      "[WARNING] Section _i_3 was found to be empty.\n",
      "[WARNING] Section _i_4 was found to be empty.\n",
      "[WARNING] Section ii_1 was found to be empty.\n",
      "[WARNING] Section ii_1a was found to be empty.\n",
      "{'diff_jaccard': 0.34981346193741497, 'diff_cosine_tf': 0.8613191036190794, 'diff_cosine_tf_idf': 0.8444160789342192, 'diff_minEdit': 0.8231751698872636, 'diff_simple': 0.8029171917557625, 'sing_LoughranMcDonald': -0.00047568674690774893, '0': {'type': '10-K', 'published': datetime.date(2012, 2, 16), 'qtr': (2012, 1)}}\n",
      "{'diff_jaccard': 0.40180908586524167, 'diff_cosine_tf': 0.9084569718596206, 'diff_cosine_tf_idf': 0.8984540498553317, 'diff_minEdit': 0.7487543938109901, 'diff_simple': 0.749661078615208, 'sing_LoughranMcDonald': -0.0008431534054875071, '0': {'type': '10-Q', 'published': datetime.date(2010, 5, 7), 'qtr': (2010, 2)}}\n",
      "[INFO] Comparing current qtr (2012, 2) to qtr (2012, 1) from 1 quarter ago.\n",
      "[INFO] Comparing current qtr (2010, 3) to qtr (2010, 2) from 1 quarter ago.\n",
      "[INFO] No ToC found\n",
      "{'diff_jaccard': 0.7661194916614238, 'diff_cosine_tf': 0.9714914369454705, 'diff_cosine_tf_idf': 0.9672241277620832, 'diff_minEdit': 0.9860642580343135, 'diff_simple': 0.9826720148102437, 'sing_LoughranMcDonald': -0.0004032545271119656, '0': {'type': '10-Q', 'published': datetime.date(2010, 11, 5), 'qtr': (2010, 4)}}\n",
      "[INFO] Comparing current qtr (2011, 1) to qtr (2010, 4) from 1 quarter ago.\n",
      "[INFO] Found a ToC!\n",
      "This is the res {'_i_1': [(4989, 5007)], '_i_2': [(65303, 65322)], '_i_3': [(99793, 99814)], '_i_4': [(101543, 101560)], 'ii_1': [(105399, 105413)], 'ii_1a': [(105787, 105801), (105980, 105995)], 'ii_2': [(106689, 106710)], 'ii_5': [], 'ii_6': [(109311, 109328)]}\n",
      "[WARNING] /home/alex/Desktop/filtered_text_data/nd_data/2011/QTR4/20111114_10-Q_edgar_data_49615_0001144204-11-064521_1.txt failed parsing\n"
     ]
    },
    {
     "name": "stderr",
     "output_type": "stream",
     "text": [
      "\n",
      " 17%|█▋        | 169/1000 [01:55<07:39,  1.81it/s]\u001b[A\n",
      "\n",
      "169it [01:55,  1.81it/s]\u001b[A\u001b[A"
     ]
    },
    {
     "name": "stdout",
     "output_type": "stream",
     "text": [
      "{'diff_jaccard': 0.7863285082563354, 'diff_cosine_tf': 0.9723158928671464, 'diff_cosine_tf_idf': 0.9676921239308683, 'diff_minEdit': 0.9999240344516859, 'diff_simple': 0.9999741717135732, 'sing_LoughranMcDonald': -0.0006470071428096973, '0': {'type': '10-Q', 'published': datetime.date(2010, 8, 6), 'qtr': (2010, 3)}}\n",
      "[INFO] Comparing current qtr (2010, 4) to qtr (2010, 3) from 1 quarter ago.\n",
      "{'diff_jaccard': 0.3776415481857867, 'diff_cosine_tf': 0.8595995597628652, 'diff_cosine_tf_idf': 0.8422944920799974, 'diff_minEdit': 0.8269347463311187, 'diff_simple': 0.801351443413097, 'sing_LoughranMcDonald': -0.001733289773501121, '0': {'type': '10-Q', 'published': datetime.date(2012, 4, 26), 'qtr': (2012, 2)}}\n",
      "[INFO] Comparing current qtr (2012, 3) to qtr (2012, 2) from 1 quarter ago.\n",
      "[INFO] No ToC found\n",
      "{'diff_jaccard': 0.36913842634251687, 'diff_cosine_tf': 0.8727350020122916, 'diff_cosine_tf_idf': 0.8537465515333745, 'diff_minEdit': 0.9181307691985673, 'diff_simple': 0.8537250975382383, 'sing_LoughranMcDonald': -0.00032090081752764486, '0': {'type': '10-K', 'published': datetime.date(2011, 3, 10), 'qtr': (2011, 1)}}\n",
      "[INFO] Comparing current qtr (2011, 2) to qtr (2011, 1) from 1 quarter ago.\n",
      "{'diff_jaccard': 0.7387963259502335, 'diff_cosine_tf': 0.9825195321974937, 'diff_cosine_tf_idf': 0.981168370056439, 'diff_minEdit': 1.0, 'diff_simple': 1.0, 'sing_LoughranMcDonald': -0.0012290364877076503, '0': {'type': '10-Q', 'published': datetime.date(2012, 7, 26), 'qtr': (2012, 3)}}\n",
      "{'diff_jaccard': 0.8770263459929866, 'diff_cosine_tf': 0.9877551491160984, 'diff_cosine_tf_idf': 0.9853646021005373, 'diff_minEdit': 1.0, 'diff_simple': 1.0, 'sing_LoughranMcDonald': -0.0006357993513001745, '0': {'type': '10-Q', 'published': datetime.date(2010, 11, 5), 'qtr': (2010, 4)}}\n",
      "[INFO] Comparing current qtr (2012, 4) to qtr (2012, 3) from 1 quarter ago.\n",
      "[INFO] Found a ToC!\n",
      "[INFO] Comparing current qtr (2011, 1) to qtr (2010, 4) from 1 quarter ago.\n",
      "[INFO] No ToC found\n",
      "[WARNING] Section 9a was found to be empty.\n",
      "[INFO] Found a ToC!\n",
      "[INFO] Found a ToC!\n",
      "[INFO] Found a ToC!\n",
      "{'diff_jaccard': 0.3652365567064013, 'diff_cosine_tf': 0.8650347944483723, 'diff_cosine_tf_idf': 0.8476272769524582, 'diff_minEdit': 0.9197556718727166, 'diff_simple': 0.8351668061700347, 'sing_LoughranMcDonald': -0.0007204920647169476, '0': {'type': '10-Q', 'published': datetime.date(2011, 5, 16), 'qtr': (2011, 2)}}\n",
      "[INFO] Comparing current qtr (2011, 3) to qtr (2011, 2) from 1 quarter ago.\n",
      "[INFO] No ToC found\n",
      "[WARNING] Section _i_2 was found to be empty.\n",
      "[WARNING] Section _i_3 was found to be empty.\n",
      "[WARNING] Section _i_4 was found to be empty.\n",
      "[INFO] Found a ToC!\n",
      "{'diff_jaccard': 0.7078669412178349, 'diff_cosine_tf': 0.9845575985259485, 'diff_cosine_tf_idf': 0.9787773339480755, 'diff_minEdit': 1.0, 'diff_simple': 1.0, 'sing_LoughranMcDonald': -0.0012958223069463439, '0': {'type': '10-Q', 'published': datetime.date(2012, 10, 25), 'qtr': (2012, 4)}}\n"
     ]
    },
    {
     "name": "stderr",
     "output_type": "stream",
     "text": [
      "\n",
      " 17%|█▋        | 170/1000 [01:56<07:42,  1.79it/s]\u001b[A\n",
      "\n",
      "170it [01:56,  1.79it/s]\u001b[A\u001b[A"
     ]
    },
    {
     "name": "stdout",
     "output_type": "stream",
     "text": [
      "[INFO] No ToC found\n",
      "[INFO] Found a ToC!\n",
      "{'diff_jaccard': 0.8471747638060946, 'diff_cosine_tf': 0.9906355160311531, 'diff_cosine_tf_idf': 0.9893744775334763, 'diff_minEdit': 0.9999999999999999, 'diff_simple': 0.9999999999999999, 'sing_LoughranMcDonald': -0.0005585314111764883, '0': {'type': '10-Q', 'published': datetime.date(2011, 8, 10), 'qtr': (2011, 3)}}\n",
      "[INFO] Comparing current qtr (2011, 4) to qtr (2011, 3) from 1 quarter ago.\n",
      "[INFO] Found a ToC!\n",
      "[INFO] Found a ToC!\n",
      "{'diff_jaccard': 0.4909892355459222, 'diff_cosine_tf': 0.9231735441695494, 'diff_cosine_tf_idf': 0.9155331337553894, 'diff_minEdit': 0.7701808351484027, 'diff_simple': 0.7458508457201436, 'sing_LoughranMcDonald': -0.0003291821656628108, '0': {'type': '10-K', 'published': datetime.date(2011, 2, 25), 'qtr': (2011, 1)}}\n",
      "[INFO] Comparing current qtr (2011, 2) to qtr (2011, 1) from 1 quarter ago.\n",
      "[INFO] Found a ToC!\n",
      "[INFO] No ToC found\n",
      "[WARNING] Section ii_1 was found to be empty.\n",
      "[WARNING] Section ii_1a was found to be empty.\n",
      "{'diff_jaccard': 0.7625353002629942, 'diff_cosine_tf': 0.9908071905306529, 'diff_cosine_tf_idf': 0.9884745526724168, 'diff_minEdit': 1.0, 'diff_simple': 1.0, 'sing_LoughranMcDonald': -0.0005266798232954407, '0': {'type': '10-Q', 'published': datetime.date(2011, 11, 10), 'qtr': (2011, 4)}}\n",
      "[INFO] Comparing current qtr (2012, 1) to qtr (2011, 4) from 1 quarter ago.\n",
      "[INFO] No ToC found\n",
      "[WARNING] Section ii_1 was found to be empty.\n",
      "[WARNING] Section ii_1a was found to be empty.\n",
      "{'diff_jaccard': 0.43680570873003016, 'diff_cosine_tf': 0.8233650889341039, 'diff_cosine_tf_idf': 0.8039048660020922, 'diff_minEdit': 0.7520948286105018, 'diff_simple': 0.7351350666891778, 'sing_LoughranMcDonald': -0.0004489118528381117, '0': {'type': '10-Q', 'published': datetime.date(2011, 5, 6), 'qtr': (2011, 2)}}\n",
      "[INFO] Found a ToC!\n",
      "[INFO] Comparing current qtr (2011, 3) to qtr (2011, 2) from 1 quarter ago.\n",
      "{'diff_jaccard': 0.3800055593568117, 'diff_cosine_tf': 0.910303871128225, 'diff_cosine_tf_idf': 0.8959221791370506, 'diff_minEdit': 0.879348429076579, 'diff_simple': 0.8782527684341812, 'sing_LoughranMcDonald': -0.0003939360255228289, '0': {'type': '10-K', 'published': datetime.date(2012, 3, 15), 'qtr': (2012, 1)}}\n",
      "[INFO] Comparing current qtr (2012, 2) to qtr (2012, 1) from 1 quarter ago.\n",
      "[INFO] No ToC found\n",
      "[WARNING] Section ii_1 was found to be empty.\n",
      "[INFO] Found a ToC!\n",
      "[WARNING] Section _i_2 was found to be empty.\n",
      "[WARNING] Section _i_3 was found to be empty.\n",
      "[WARNING] Section _i_4 was found to be empty.\n",
      "{'diff_jaccard': 0.783959626687945, 'diff_cosine_tf': 0.9561367324326802, 'diff_cosine_tf_idf': 0.9508637941829331, 'diff_minEdit': 0.9909605835473746, 'diff_simple': 0.9833485286152736, 'sing_LoughranMcDonald': -0.0005913740960124223, '0': {'type': '10-Q', 'published': datetime.date(2011, 8, 5), 'qtr': (2011, 3)}}\n",
      "[INFO] Comparing current qtr (2011, 4) to qtr (2011, 3) from 1 quarter ago.\n",
      "{'diff_jaccard': 0.43068566428751043, 'diff_cosine_tf': 0.9176725952580641, 'diff_cosine_tf_idf': 0.9015916097431244, 'diff_minEdit': 0.8867387648250503, 'diff_simple': 0.8638149835087169, 'sing_LoughranMcDonald': -0.0004952708104938301, '0': {'type': '10-Q', 'published': datetime.date(2012, 5, 11), 'qtr': (2012, 2)}}\n",
      "[INFO] Comparing current qtr (2012, 3) to qtr (2012, 2) from 1 quarter ago.\n",
      "[INFO] No ToC found\n",
      "[INFO] Found a ToC!\n",
      "[WARNING] Section 9a was found to be empty.\n",
      "{'diff_jaccard': 0.7822891471030001, 'diff_cosine_tf': 0.984677782187228, 'diff_cosine_tf_idf': 0.9821279922795048, 'diff_minEdit': 1.0, 'diff_simple': 1.0, 'sing_LoughranMcDonald': -0.0006125508986665441, '0': {'type': '10-Q', 'published': datetime.date(2012, 8, 10), 'qtr': (2012, 3)}}\n",
      "[INFO] Comparing current qtr (2012, 4) to qtr (2012, 3) from 1 quarter ago.\n",
      "{'diff_jaccard': 0.8417317387499879, 'diff_cosine_tf': 0.9844155219832679, 'diff_cosine_tf_idf': 0.9783832543905191, 'diff_minEdit': 0.9401005099401375, 'diff_simple': 0.9916140713916194, 'sing_LoughranMcDonald': -0.0005032250351619964, '0': {'type': '10-Q', 'published': datetime.date(2011, 11, 4), 'qtr': (2011, 4)}}\n",
      "[INFO] Comparing current qtr (2012, 1) to qtr (2011, 4) from 1 quarter ago.\n",
      "[INFO] Found a ToC!\n",
      "[INFO] Found a ToC!\n",
      "[WARNING] Section _i_2 was found to be empty.\n",
      "[WARNING] Section _i_3 was found to be empty.\n",
      "[WARNING] Section _i_4 was found to be empty.\n",
      "[WARNING] Section ii_1 was found to be empty.\n",
      "[WARNING] Section ii_1a was found to be empty.\n",
      "{'diff_jaccard': 0.893511138742464, 'diff_cosine_tf': 0.9926558714625294, 'diff_cosine_tf_idf': 0.9903915358641057, 'diff_minEdit': 0.9996153220449278, 'diff_simple': 0.9998692094952755, 'sing_LoughranMcDonald': -0.0005868129405234583, '0': {'type': '10-Q', 'published': datetime.date(2012, 11, 9), 'qtr': (2012, 4)}}\n"
     ]
    },
    {
     "name": "stderr",
     "output_type": "stream",
     "text": [
      "\n",
      " 17%|█▋        | 171/1000 [01:57<10:13,  1.35it/s]\u001b[A\n",
      "\n",
      "171it [01:57,  1.34it/s]\u001b[A\u001b[A"
     ]
    },
    {
     "name": "stdout",
     "output_type": "stream",
     "text": [
      "[INFO] Found a ToC!\n",
      "[INFO] Found a ToC!\n",
      "[INFO] Found a ToC!\n",
      "[INFO] Comparing current qtr (2010, 2) to qtr (2010, 1) from 1 quarter ago.\n",
      "[INFO] Found a ToC!\n",
      "[WARNING] Section _i_2 was found to be empty.\n",
      "{'diff_jaccard': 0.5172757688457635, 'diff_cosine_tf': 0.9500709407959208, 'diff_cosine_tf_idf': 0.939380497967171, 'diff_minEdit': 0.7401307223241902, 'diff_simple': 0.733736681887367, 'sing_LoughranMcDonald': -0.00035445441888299137, '0': {'type': '10-K', 'published': datetime.date(2012, 2, 24), 'qtr': (2012, 1)}}\n",
      "[INFO] Comparing current qtr (2012, 2) to qtr (2012, 1) from 1 quarter ago.\n",
      "{'diff_jaccard': 0.00309048883201329, 'diff_cosine_tf': 0.04935671003596282, 'diff_cosine_tf_idf': 0.030768334786369422, 'diff_minEdit': 0.6274629914432546, 'diff_simple': 0.2105212936922459, 'sing_LoughranMcDonald': 0.0, '0': {'type': '10-Q', 'published': datetime.date(2010, 5, 14), 'qtr': (2010, 2)}}\n",
      "[INFO] Comparing current qtr (2010, 3) to qtr (2010, 2) from 1 quarter ago.\n",
      "[INFO] Found a ToC!\n",
      "{'diff_jaccard': 1.0, 'diff_cosine_tf': 0.9999999999999999, 'diff_cosine_tf_idf': 0.9999999999999999, 'diff_minEdit': 1.0, 'diff_simple': 1.0, 'sing_LoughranMcDonald': 0.0, '0': {'type': '10-Q', 'published': datetime.date(2010, 8, 13), 'qtr': (2010, 3)}}\n",
      "[INFO] Comparing current qtr (2010, 4) to qtr (2010, 3) from 1 quarter ago.\n",
      "{'diff_jaccard': 1.0, 'diff_cosine_tf': 0.9999999999999999, 'diff_cosine_tf_idf': 0.9999999999999999, 'diff_minEdit': 1.0, 'diff_simple': 1.0, 'sing_LoughranMcDonald': 0.0, '0': {'type': '10-Q', 'published': datetime.date(2010, 11, 12), 'qtr': (2010, 4)}}\n",
      "[INFO] No ToC found\n",
      "[INFO] Comparing current qtr (2011, 1) to qtr (2010, 4) from 1 quarter ago.\n",
      "[INFO] Found a ToC!\n",
      "{'diff_jaccard': 0.42811886060382326, 'diff_cosine_tf': 0.8160301598391198, 'diff_cosine_tf_idf': 0.7910743466650088, 'diff_minEdit': 0.7149527900456686, 'diff_simple': 0.7281890743550834, 'sing_LoughranMcDonald': -0.0004892399645994384, '0': {'type': '10-Q', 'published': datetime.date(2012, 5, 9), 'qtr': (2012, 2)}}\n",
      "[INFO] Comparing current qtr (2012, 3) to qtr (2012, 2) from 1 quarter ago.\n",
      "[INFO] Found a ToC!\n",
      "{'diff_jaccard': 0.0030200798592817696, 'diff_cosine_tf': 0.0536967221118535, 'diff_cosine_tf_idf': 0.033788797673134065, 'diff_minEdit': 0.6583661841854495, 'diff_simple': 0.19373697097417314, 'sing_LoughranMcDonald': -0.0012490284117622952, '0': {'type': '10-K', 'published': datetime.date(2011, 3, 18), 'qtr': (2011, 1)}}\n",
      "[INFO] Comparing current qtr (2011, 2) to qtr (2011, 1) from 1 quarter ago.\n",
      "[INFO] Found a ToC!\n",
      "[INFO] No ToC found\n",
      "[INFO] Found a ToC!\n",
      "{'diff_jaccard': 0.3255197210057766, 'diff_cosine_tf': 0.8901860670501687, 'diff_cosine_tf_idf': 0.8673224572288988, 'diff_minEdit': 0.7890899900575113, 'diff_simple': 0.6166897129687827, 'sing_LoughranMcDonald': -0.0008472789209565405, '0': {'type': '10-Q', 'published': datetime.date(2011, 5, 13), 'qtr': (2011, 2)}}\n",
      "[INFO] Comparing current qtr (2011, 3) to qtr (2011, 2) from 1 quarter ago.\n",
      "[INFO] No ToC found\n",
      "{'diff_jaccard': 0.8970976095953627, 'diff_cosine_tf': 0.991476734491841, 'diff_cosine_tf_idf': 0.9898064009857052, 'diff_minEdit': 1.0, 'diff_simple': 1.0, 'sing_LoughranMcDonald': -0.0006209537780868141, '0': {'type': '10-Q', 'published': datetime.date(2011, 8, 12), 'qtr': (2011, 3)}}\n",
      "[INFO] Comparing current qtr (2011, 4) to qtr (2011, 3) from 1 quarter ago.\n",
      "[INFO] Found a ToC!\n",
      "{'diff_jaccard': 0.5977287477876284, 'diff_cosine_tf': 0.9120128598903616, 'diff_cosine_tf_idf': 0.9027750574529878, 'diff_minEdit': 0.9717502450707036, 'diff_simple': 0.9498681020668118, 'sing_LoughranMcDonald': -0.0004977713245270689, '0': {'type': '10-Q', 'published': datetime.date(2012, 8, 7), 'qtr': (2012, 3)}}\n",
      "[INFO] Comparing current qtr (2012, 4) to qtr (2012, 3) from 1 quarter ago.\n",
      "[INFO] No ToC found\n",
      "{'diff_jaccard': 0.8413828906938737, 'diff_cosine_tf': 0.9925437318808304, 'diff_cosine_tf_idf': 0.9884959272629441, 'diff_minEdit': 0.9999999999999999, 'diff_simple': 0.9999999999999999, 'sing_LoughranMcDonald': -0.0007364006920983937, '0': {'type': '10-Q', 'published': datetime.date(2011, 11, 10), 'qtr': (2011, 4)}}\n",
      "[INFO] Comparing current qtr (2012, 1) to qtr (2011, 4) from 1 quarter ago.\n",
      "[INFO] Found a ToC!\n",
      "[INFO] Found a ToC!\n",
      "[INFO] Comparing current qtr (2010, 2) to qtr (2010, 1) from 1 quarter ago.\n",
      "[INFO] No ToC found\n",
      "[WARNING] Section ii_1 was found to be empty.\n",
      "{'diff_jaccard': 0.2914827463994974, 'diff_cosine_tf': 0.8849464026946479, 'diff_cosine_tf_idf': 0.8603747834439932, 'diff_minEdit': 0.7168348068236188, 'diff_simple': 0.6358261978502459, 'sing_LoughranMcDonald': -0.001152004182945021, '0': {'type': '10-K', 'published': datetime.date(2012, 3, 9), 'qtr': (2012, 1)}}\n",
      "[INFO] Comparing current qtr (2012, 2) to qtr (2012, 1) from 1 quarter ago.\n",
      "[INFO] No ToC found\n",
      "{'diff_jaccard': 0.549650008329253, 'diff_cosine_tf': 0.94453309546801, 'diff_cosine_tf_idf': 0.9355911799701395, 'diff_minEdit': 0.8989436214286801, 'diff_simple': 0.9086005292212237, 'sing_LoughranMcDonald': -0.00019352109350876992, '0': {'type': '10-Q', 'published': datetime.date(2012, 11, 7), 'qtr': (2012, 4)}}\n"
     ]
    },
    {
     "name": "stderr",
     "output_type": "stream",
     "text": [
      "\n",
      " 17%|█▋        | 172/1000 [01:59<13:10,  1.05it/s]\u001b[A\n",
      "\n",
      "172it [01:59,  1.05it/s]\u001b[A\u001b[A"
     ]
    },
    {
     "name": "stdout",
     "output_type": "stream",
     "text": [
      "{'diff_jaccard': 0.004841093516213438, 'diff_cosine_tf': 0.3805030888674129, 'diff_cosine_tf_idf': 0.2891660511580399, 'diff_minEdit': 0.960902802030977, 'diff_simple': 0.7990937221347595, 'sing_LoughranMcDonald': -0.0005982599420904599, '0': {'type': '10-Q', 'published': datetime.date(2010, 5, 10), 'qtr': (2010, 2)}}\n",
      "[WARNING] Section 9a was found to be empty.\n",
      "[INFO] Comparing current qtr (2010, 3) to qtr (2010, 2) from 1 quarter ago.\n",
      "{'diff_jaccard': 0.3428279266062817, 'diff_cosine_tf': 0.8947603669577039, 'diff_cosine_tf_idf': 0.8760417103335592, 'diff_minEdit': 0.658393651976221, 'diff_simple': 0.626044222820025, 'sing_LoughranMcDonald': -0.0010714327812051793, '0': {'type': '10-Q', 'published': datetime.date(2012, 5, 4), 'qtr': (2012, 2)}}\n",
      "[INFO] Comparing current qtr (2012, 3) to qtr (2012, 2) from 1 quarter ago.\n",
      "[INFO] No ToC found\n",
      "[WARNING] Section ii_1 was found to be empty.\n",
      "[INFO] Found a ToC!\n",
      "[WARNING] Section ii_1a was found to be empty.\n",
      "{'diff_jaccard': 0.695026754940012, 'diff_cosine_tf': 0.9693102009077864, 'diff_cosine_tf_idf': 0.9568858664907616, 'diff_minEdit': 0.9999999999999999, 'diff_simple': 0.9999999999999999, 'sing_LoughranMcDonald': -0.0008190336993961006, '0': {'type': '10-Q', 'published': datetime.date(2012, 8, 9), 'qtr': (2012, 3)}}\n"
     ]
    },
    {
     "name": "stderr",
     "output_type": "stream",
     "text": [
      "\n",
      " 17%|█▋        | 173/1000 [01:59<10:09,  1.36it/s]\u001b[A\n",
      "\n",
      "173it [01:59,  1.36it/s]\u001b[A\u001b[A"
     ]
    },
    {
     "name": "stdout",
     "output_type": "stream",
     "text": [
      "[INFO] No ToC found\n",
      "[WARNING] Section ii_1 was found to be empty.\n",
      "[INFO] No ToC found\n",
      "[WARNING] Section ii_1a was found to be empty.\n",
      "{'diff_jaccard': 0.7996456104261749, 'diff_cosine_tf': 0.966516775023214, 'diff_cosine_tf_idf': 0.9634962899488583, 'diff_minEdit': 0.9731716955270175, 'diff_simple': 0.9716749585406301, 'sing_LoughranMcDonald': -0.0005671318796178646, '0': {'type': '10-Q', 'published': datetime.date(2010, 8, 6), 'qtr': (2010, 3)}}\n",
      "[INFO] Comparing current qtr (2010, 4) to qtr (2010, 3) from 1 quarter ago.\n",
      "[INFO] Found a ToC!\n",
      "[INFO] Found a ToC!\n",
      "[WARNING] Section ii_1a was found to be empty.\n",
      "[INFO] Comparing current qtr (2010, 2) to qtr (2010, 1) from 1 quarter ago.\n",
      "[INFO] Found a ToC!\n",
      "[WARNING] Section 9a was found to be empty.\n",
      "{'diff_jaccard': 0.006990909703720296, 'diff_cosine_tf': 0.29233219870678, 'diff_cosine_tf_idf': 0.2162303271712731, 'diff_minEdit': 0.9199461837699834, 'diff_simple': 0.6338624431136571, 'sing_LoughranMcDonald': -0.0016869689383071816, '0': {'type': '10-Q', 'published': datetime.date(2010, 5, 7), 'qtr': (2010, 2)}}\n",
      "[INFO] Comparing current qtr (2010, 3) to qtr (2010, 2) from 1 quarter ago.\n",
      "[INFO] No ToC found\n",
      "{'diff_jaccard': 0.009436742975269018, 'diff_cosine_tf': 0.3027300108392015, 'diff_cosine_tf_idf': 0.2303191623069467, 'diff_minEdit': 0.9548961261409781, 'diff_simple': 0.6399334797394182, 'sing_LoughranMcDonald': 0.0, '0': {'type': '10-Q', 'published': datetime.date(2010, 8, 6), 'qtr': (2010, 3)}}\n",
      "[INFO] Comparing current qtr (2010, 4) to qtr (2010, 3) from 1 quarter ago.\n",
      "[INFO] No ToC found\n",
      "{'diff_jaccard': 0.8470722519534337, 'diff_cosine_tf': 0.9804596451029804, 'diff_cosine_tf_idf': 0.9761757784043052, 'diff_minEdit': 1.0, 'diff_simple': 1.0, 'sing_LoughranMcDonald': -0.0005484756887460313, '0': {'type': '10-Q', 'published': datetime.date(2010, 11, 2), 'qtr': (2010, 4)}}\n",
      "[INFO] Comparing current qtr (2011, 1) to qtr (2010, 4) from 1 quarter ago.\n",
      "[INFO] Found a ToC!\n",
      "[INFO] No ToC found\n",
      "{'diff_jaccard': 0.006541350457869317, 'diff_cosine_tf': 0.23832024748923905, 'diff_cosine_tf_idf': 0.17880330121249471, 'diff_minEdit': 0.9545798137133091, 'diff_simple': 0.5878506209298578, 'sing_LoughranMcDonald': -0.001736491702844086, '0': {'type': '10-Q', 'published': datetime.date(2010, 11, 5), 'qtr': (2010, 4)}}\n",
      "[INFO] Comparing current qtr (2011, 1) to qtr (2010, 4) from 1 quarter ago.\n",
      "{'diff_jaccard': 0.005246212764480601, 'diff_cosine_tf': 0.2320151918933176, 'diff_cosine_tf_idf': 0.1691253315807322, 'diff_minEdit': 0.9249841014574149, 'diff_simple': 0.5833188433666154, 'sing_LoughranMcDonald': 0.0, '0': {'type': '10-K', 'published': datetime.date(2011, 3, 14), 'qtr': (2011, 1)}}\n",
      "[INFO] Comparing current qtr (2011, 2) to qtr (2011, 1) from 1 quarter ago.\n",
      "{'diff_jaccard': 0.16666666666666666, 'diff_cosine_tf': 0.16666666666666663, 'diff_cosine_tf_idf': 0.16666666666666663, 'diff_minEdit': 0.5499999999999999, 'diff_simple': 0.37507782161783987, 'sing_LoughranMcDonald': 0.0, '0': {'type': '10-Q', 'published': datetime.date(2011, 5, 6), 'qtr': (2011, 2)}}\n",
      "[INFO] Comparing current qtr (2011, 3) to qtr (2011, 2) from 1 quarter ago.\n",
      "[INFO] Found a ToC!\n",
      "{'diff_jaccard': 0.011375669162620757, 'diff_cosine_tf': 0.04948361154808957, 'diff_cosine_tf_idf': 0.030246728100929345, 'diff_minEdit': 0.5721776655945935, 'diff_simple': 0.23543675767945316, 'sing_LoughranMcDonald': -0.0075269714524266165, '0': {'type': '10-Q', 'published': datetime.date(2011, 8, 5), 'qtr': (2011, 3)}}\n",
      "[INFO] Comparing current qtr (2011, 4) to qtr (2011, 3) from 1 quarter ago.\n",
      "{'diff_jaccard': 0.012188135694192588, 'diff_cosine_tf': 0.04396301350345348, 'diff_cosine_tf_idf': 0.028699827705105443, 'diff_minEdit': 0.8790146741778965, 'diff_simple': 0.2150827295301763, 'sing_LoughranMcDonald': 0.0, '0': {'type': '10-Q', 'published': datetime.date(2011, 11, 8), 'qtr': (2011, 4)}}\n",
      "[INFO] Comparing current qtr (2012, 1) to qtr (2011, 4) from 1 quarter ago.\n",
      "{'diff_jaccard': 0.4266934046345811, 'diff_cosine_tf': 0.5743178512943397, 'diff_cosine_tf_idf': 0.5072078527815475, 'diff_minEdit': 0.8382352941176471, 'diff_simple': 0.7163551549652118, 'sing_LoughranMcDonald': 0.0, '0': {'type': '10-K', 'published': datetime.date(2012, 3, 9), 'qtr': (2012, 1)}}\n",
      "[INFO] Comparing current qtr (2012, 2) to qtr (2012, 1) from 1 quarter ago.\n",
      "[INFO] Found a ToC!\n",
      "{'diff_jaccard': 0.3384368735143987, 'diff_cosine_tf': 0.8920530423313359, 'diff_cosine_tf_idf': 0.8786136721754378, 'diff_minEdit': 0.7643034652953858, 'diff_simple': 0.5724955278834298, 'sing_LoughranMcDonald': -0.000290009009553755, '0': {'type': '10-K', 'published': datetime.date(2011, 2, 28), 'qtr': (2011, 1)}}\n",
      "[INFO] Comparing current qtr (2011, 2) to qtr (2011, 1) from 1 quarter ago.\n",
      "{'diff_jaccard': 0.0066196276763854965, 'diff_cosine_tf': 0.3553103948041368, 'diff_cosine_tf_idf': 0.26780888421137594, 'diff_minEdit': 0.9114916526346766, 'diff_simple': 0.8161314447424233, 'sing_LoughranMcDonald': -0.0015092658158089422, '0': {'type': '10-Q', 'published': datetime.date(2012, 5, 7), 'qtr': (2012, 2)}}\n",
      "[INFO] Comparing current qtr (2012, 3) to qtr (2012, 2) from 1 quarter ago.\n",
      "{'diff_jaccard': 0.010372921183278452, 'diff_cosine_tf': 0.364370477315723, 'diff_cosine_tf_idf': 0.27430184286437836, 'diff_minEdit': 0.9577727978943572, 'diff_simple': 0.8235584720242154, 'sing_LoughranMcDonald': 0.0, '0': {'type': '10-Q', 'published': datetime.date(2012, 8, 6), 'qtr': (2012, 3)}}\n",
      "[INFO] Found a ToC!\n",
      "[INFO] Comparing current qtr (2012, 4) to qtr (2012, 3) from 1 quarter ago.\n",
      "[INFO] Found a ToC!\n",
      "[INFO] No ToC found\n",
      "[WARNING] Section ii_1 was found to be empty.\n",
      "[INFO] Found a ToC!\n",
      "[INFO] Found a ToC!\n",
      "[WARNING] Section _i_3 was found to be empty.\n",
      "[WARNING] Section _i_4 was found to be empty.\n",
      "[WARNING] Section ii_1 was found to be empty.\n",
      "[WARNING] Section ii_1a was found to be empty.\n",
      "{'diff_jaccard': 0.008885375871753521, 'diff_cosine_tf': 0.3664050710775282, 'diff_cosine_tf_idf': 0.2767734157979558, 'diff_minEdit': 0.9562472735108826, 'diff_simple': 0.8255828838316336, 'sing_LoughranMcDonald': -0.0014250361085623884, '0': {'type': '10-Q', 'published': datetime.date(2012, 11, 7), 'qtr': (2012, 4)}}\n"
     ]
    },
    {
     "name": "stderr",
     "output_type": "stream",
     "text": [
      "\n",
      " 17%|█▋        | 174/1000 [02:00<13:26,  1.02it/s]\u001b[A\n",
      "\n",
      "174it [02:00,  1.02it/s]\u001b[A\u001b[A"
     ]
    },
    {
     "name": "stdout",
     "output_type": "stream",
     "text": [
      "{'diff_jaccard': 0.39535269193692896, 'diff_cosine_tf': 0.8896770745678036, 'diff_cosine_tf_idf': 0.8761993096381978, 'diff_minEdit': 0.7982628364681036, 'diff_simple': 0.5463476853230128, 'sing_LoughranMcDonald': -0.0006930677925395642, '0': {'type': '10-Q', 'published': datetime.date(2011, 5, 9), 'qtr': (2011, 2)}}\n",
      "[INFO] Found a ToC!\n",
      "[INFO] No ToC found\n",
      "[INFO] Comparing current qtr (2011, 3) to qtr (2011, 2) from 1 quarter ago.\n",
      "[WARNING] Section ii_1 was found to be empty.\n",
      "[INFO] No ToC found\n",
      "[WARNING] Section 9a was found to be empty.\n",
      "[INFO] Found a ToC!\n",
      "[INFO] No ToC found\n",
      "[WARNING] Section ii_1 was found to be empty.\n",
      "[INFO] Comparing current qtr (2010, 2) to qtr (2010, 1) from 1 quarter ago.\n",
      "[ERROR] Here is full_sect: |[]|\n",
      "[ERROR] Original res: {'_i_1': [], '_i_2': [], '_i_3': [], '_i_4': [], 'ii_1': [], 'ii_1a': [], 'ii_2': [], 'ii_3': [], 'ii_4': [], 'ii_5': [], 'ii_6': []}\n",
      "[WARNING] /home/alex/Desktop/filtered_text_data/nd_data/2010/QTR2/20100430_10-Q_edgar_data_1090009_0001090009-10-000031_1.txt failed parsing\n"
     ]
    },
    {
     "name": "stderr",
     "output_type": "stream",
     "text": [
      "\n",
      " 18%|█▊        | 175/1000 [02:01<10:37,  1.30it/s]\u001b[A\n",
      "\n",
      "175it [02:01,  1.30it/s]\u001b[A\u001b[A"
     ]
    },
    {
     "name": "stdout",
     "output_type": "stream",
     "text": [
      "[INFO] Found a ToC!\n",
      "[INFO] Found a ToC!\n",
      "{'diff_jaccard': 0.7054559490555977, 'diff_cosine_tf': 0.9631571675138275, 'diff_cosine_tf_idf': 0.9587476856919532, 'diff_minEdit': 0.988440260919825, 'diff_simple': 0.9845243993064157, 'sing_LoughranMcDonald': -0.000783505509832143, '0': {'type': '10-Q', 'published': datetime.date(2011, 8, 8), 'qtr': (2011, 3)}}\n",
      "[INFO] Comparing current qtr (2011, 4) to qtr (2011, 3) from 1 quarter ago.\n",
      "{'diff_jaccard': 0.28663297977357743, 'diff_cosine_tf': 0.6531345559121284, 'diff_cosine_tf_idf': 0.6363787492091969, 'diff_minEdit': 0.7337232451389962, 'diff_simple': 0.6044151693787183, 'sing_LoughranMcDonald': -0.00011095901425391054, '0': {'type': '10-Q', 'published': datetime.date(2010, 5, 7), 'qtr': (2010, 2)}}\n",
      "[INFO] Comparing current qtr (2010, 3) to qtr (2010, 2) from 1 quarter ago.\n",
      "[INFO] Found a ToC!\n",
      "[INFO] Comparing current qtr (2010, 2) to qtr (2010, 1) from 1 quarter ago.\n",
      "{'diff_jaccard': 0.6449879494876444, 'diff_cosine_tf': 0.952588865924049, 'diff_cosine_tf_idf': 0.9490860531133715, 'diff_minEdit': 0.9999999999999999, 'diff_simple': 0.9999999999999999, 'sing_LoughranMcDonald': -5.907746975624373e-05, '0': {'type': '10-Q', 'published': datetime.date(2010, 8, 6), 'qtr': (2010, 3)}}\n",
      "[INFO] Comparing current qtr (2010, 4) to qtr (2010, 3) from 1 quarter ago.\n",
      "{'diff_jaccard': 0.7973459859293842, 'diff_cosine_tf': 0.9659522111667791, 'diff_cosine_tf_idf': 0.9597812077769616, 'diff_minEdit': 0.9705472264511488, 'diff_simple': 0.9663151281621711, 'sing_LoughranMcDonald': -0.000757427625572317, '0': {'type': '10-Q', 'published': datetime.date(2011, 11, 18), 'qtr': (2011, 4)}}\n"
     ]
    },
    {
     "name": "stderr",
     "output_type": "stream",
     "text": [
      "\n",
      " 18%|█▊        | 176/1000 [02:01<08:37,  1.59it/s]\u001b[A\n",
      "\n",
      "176it [02:01,  1.59it/s]\u001b[A\u001b[A"
     ]
    },
    {
     "name": "stdout",
     "output_type": "stream",
     "text": [
      "{'diff_jaccard': 0.4137997238800517, 'diff_cosine_tf': 0.8526726717949802, 'diff_cosine_tf_idf': 0.8281419709299227, 'diff_minEdit': 0.7507474333734431, 'diff_simple': 0.7059650665259949, 'sing_LoughranMcDonald': -0.0020559053228146854, '0': {'type': '10-Q', 'published': datetime.date(2010, 5, 7), 'qtr': (2010, 2)}}\n",
      "[INFO] Comparing current qtr (2010, 3) to qtr (2010, 2) from 1 quarter ago.\n",
      "{'diff_jaccard': 0.735566273452258, 'diff_cosine_tf': 0.954454777246363, 'diff_cosine_tf_idf': 0.9492811442549312, 'diff_minEdit': 0.991672203765227, 'diff_simple': 0.9828120007101011, 'sing_LoughranMcDonald': -0.0007793890988337957, '0': {'type': '10-Q', 'published': datetime.date(2010, 11, 8), 'qtr': (2010, 4)}}\n",
      "[INFO] Comparing current qtr (2011, 1) to qtr (2010, 4) from 1 quarter ago.\n",
      "{'diff_jaccard': 0.8164961957215421, 'diff_cosine_tf': 0.9732697652867265, 'diff_cosine_tf_idf': 0.9588042332494376, 'diff_minEdit': 0.9983616717415322, 'diff_simple': 0.999442968392121, 'sing_LoughranMcDonald': -0.0017099662079832277, '0': {'type': '10-Q', 'published': datetime.date(2010, 8, 6), 'qtr': (2010, 3)}}\n",
      "[INFO] Comparing current qtr (2010, 4) to qtr (2010, 3) from 1 quarter ago.\n",
      "[INFO] Found a ToC!\n",
      "{'diff_jaccard': 0.3066477001043238, 'diff_cosine_tf': 0.8862602635300625, 'diff_cosine_tf_idf': 0.862900134978477, 'diff_minEdit': 0.7470156435673677, 'diff_simple': 0.6399119137572389, 'sing_LoughranMcDonald': -0.0004943232560402646, '0': {'type': '10-K', 'published': datetime.date(2011, 3, 1), 'qtr': (2011, 1)}}\n",
      "[INFO] Comparing current qtr (2011, 2) to qtr (2011, 1) from 1 quarter ago.\n",
      "{'diff_jaccard': 0.7890398731183762, 'diff_cosine_tf': 0.9815671797774851, 'diff_cosine_tf_idf': 0.9730434070149475, 'diff_minEdit': 1.0, 'diff_simple': 1.0, 'sing_LoughranMcDonald': -0.0017824752617618073, '0': {'type': '10-Q', 'published': datetime.date(2010, 11, 5), 'qtr': (2010, 4)}}\n",
      "[INFO] Comparing current qtr (2011, 1) to qtr (2010, 4) from 1 quarter ago.\n",
      "[INFO] Found a ToC!\n",
      "{'diff_jaccard': 0.2812579491506093, 'diff_cosine_tf': 0.8903394740010768, 'diff_cosine_tf_idf': 0.8607396550703186, 'diff_minEdit': 0.8007241304352442, 'diff_simple': 0.7295120396200824, 'sing_LoughranMcDonald': -0.0011333633297315405, '0': {'type': '10-Q', 'published': datetime.date(2011, 5, 9), 'qtr': (2011, 2)}}\n",
      "[INFO] Comparing current qtr (2011, 3) to qtr (2011, 2) from 1 quarter ago.\n",
      "[INFO] Found a ToC!\n",
      "[INFO] Found a ToC!\n",
      "{'diff_jaccard': 0.7471963948109897, 'diff_cosine_tf': 0.9509362895953724, 'diff_cosine_tf_idf': 0.9495988651143081, 'diff_minEdit': 0.9161470648950945, 'diff_simple': 0.9805900236459858, 'sing_LoughranMcDonald': -0.0008389003777743869, '0': {'type': '10-Q', 'published': datetime.date(2011, 8, 8), 'qtr': (2011, 3)}}\n",
      "[INFO] No ToC found\n",
      "{'diff_jaccard': 0.45719904439314657, 'diff_cosine_tf': 0.8567450469932262, 'diff_cosine_tf_idf': 0.8338481861072278, 'diff_minEdit': 0.820744831274393, 'diff_simple': 0.6942212924221294, 'sing_LoughranMcDonald': -0.0006118734205610397, '0': {'type': '10-K', 'published': datetime.date(2011, 3, 8), 'qtr': (2011, 1)}}\n",
      "[INFO] Comparing current qtr (2011, 2) to qtr (2011, 1) from 1 quarter ago.\n",
      "[INFO] Comparing current qtr (2011, 4) to qtr (2011, 3) from 1 quarter ago.\n",
      "[INFO] No ToC found\n",
      "[WARNING] Section 1a was found to be empty.\n",
      "{'diff_jaccard': 0.65115371539541, 'diff_cosine_tf': 0.9564369174197488, 'diff_cosine_tf_idf': 0.946375817834128, 'diff_minEdit': 0.9976101831354397, 'diff_simple': 0.9977057758100222, 'sing_LoughranMcDonald': -0.0005208965835415897, '0': {'type': '10-Q', 'published': datetime.date(2011, 11, 9), 'qtr': (2011, 4)}}\n",
      "[WARNING] Section 9a was found to be empty.\n",
      "[INFO] No ToC found\n",
      "[INFO] Comparing current qtr (2012, 1) to qtr (2011, 4) from 1 quarter ago.\n",
      "[INFO] No ToC found\n",
      "[INFO] No ToC found\n",
      "[INFO] Found a ToC!\n",
      "{'diff_jaccard': 0.44902524204782135, 'diff_cosine_tf': 0.8632427148530464, 'diff_cosine_tf_idf': 0.8422935566285732, 'diff_minEdit': 0.7737001653249316, 'diff_simple': 0.7047398999408253, 'sing_LoughranMcDonald': -0.0018968058473046666, '0': {'type': '10-Q', 'published': datetime.date(2011, 5, 6), 'qtr': (2011, 2)}}\n",
      "[INFO] Comparing current qtr (2011, 3) to qtr (2011, 2) from 1 quarter ago.\n",
      "[INFO] No ToC found\n",
      "{'diff_jaccard': 0.7505194097153847, 'diff_cosine_tf': 0.9672066227462937, 'diff_cosine_tf_idf': 0.9560101001882508, 'diff_minEdit': 0.8776961924628344, 'diff_simple': 0.8940108638514106, 'sing_LoughranMcDonald': -0.0016337765641244839, '0': {'type': '10-Q', 'published': datetime.date(2011, 8, 5), 'qtr': (2011, 3)}}\n",
      "[INFO] Comparing current qtr (2011, 4) to qtr (2011, 3) from 1 quarter ago.\n",
      "[INFO] No ToC found\n",
      "[INFO] No ToC found\n",
      "[INFO] Found a ToC!\n",
      "{'diff_jaccard': 0.22441127662463553, 'diff_cosine_tf': 0.8922885034054048, 'diff_cosine_tf_idf': 0.8769417313822213, 'diff_minEdit': 0.7756496051711806, 'diff_simple': 0.6939809000244094, 'sing_LoughranMcDonald': -0.00039405613924123616, '0': {'type': '10-K', 'published': datetime.date(2012, 2, 29), 'qtr': (2012, 1)}}\n",
      "[INFO] Comparing current qtr (2010, 2) to qtr (2010, 1) from 1 quarter ago.\n",
      "[INFO] Comparing current qtr (2012, 2) to qtr (2012, 1) from 1 quarter ago.\n",
      "[INFO] Found a ToC!\n",
      "[WARNING] Section _i_2 was found to be empty.\n",
      "[WARNING] Section _i_3 was found to be empty.\n",
      "[WARNING] Section _i_4 was found to be empty.\n",
      "[INFO] Found a ToC!\n",
      "[INFO] No ToC found\n",
      "[INFO] No ToC found\n",
      "{'diff_jaccard': 0.7428550664982673, 'diff_cosine_tf': 0.975938002598959, 'diff_cosine_tf_idf': 0.9588257802041912, 'diff_minEdit': 0.9977099386696021, 'diff_simple': 0.9846107878597263, 'sing_LoughranMcDonald': -0.001592536000853878, '0': {'type': '10-Q', 'published': datetime.date(2011, 11, 7), 'qtr': (2011, 4)}}\n",
      "[INFO] Comparing current qtr (2012, 1) to qtr (2011, 4) from 1 quarter ago.\n",
      "[INFO] Found a ToC!\n",
      "{'diff_jaccard': 0.23260885528436898, 'diff_cosine_tf': 0.9011053273137953, 'diff_cosine_tf_idf': 0.8803697881153429, 'diff_minEdit': 0.7647931064701209, 'diff_simple': 0.6779371704829928, 'sing_LoughranMcDonald': -0.0009022255177692185, '0': {'type': '10-Q', 'published': datetime.date(2012, 5, 9), 'qtr': (2012, 2)}}\n",
      "[INFO] Comparing current qtr (2012, 3) to qtr (2012, 2) from 1 quarter ago.\n",
      "[INFO] Found a ToC!\n",
      "{'diff_jaccard': 0.713178196839166, 'diff_cosine_tf': 0.9471510310158966, 'diff_cosine_tf_idf': 0.9326455883774752, 'diff_minEdit': 0.9965464456391876, 'diff_simple': 0.9975134408602151, 'sing_LoughranMcDonald': -0.0005116782845503209, '0': {'type': '10-Q', 'published': datetime.date(2012, 8, 9), 'qtr': (2012, 3)}}\n",
      "[INFO] Comparing current qtr (2012, 4) to qtr (2012, 3) from 1 quarter ago.\n",
      "[INFO] No ToC found\n",
      "[INFO] Found a ToC!\n",
      "{'diff_jaccard': 0.41274024200530546, 'diff_cosine_tf': 0.8384938665800292, 'diff_cosine_tf_idf': 0.8134045362182092, 'diff_minEdit': 0.8629535134251112, 'diff_simple': 0.6514101767160999, 'sing_LoughranMcDonald': -0.0004998318010051661, '0': {'type': '10-K', 'published': datetime.date(2012, 3, 9), 'qtr': (2012, 1)}}\n",
      "[INFO] Comparing current qtr (2012, 2) to qtr (2012, 1) from 1 quarter ago.\n",
      "{'diff_jaccard': 0.8252684384298502, 'diff_cosine_tf': 0.9901343077949818, 'diff_cosine_tf_idf': 0.9885933792262757, 'diff_minEdit': 0.9852260543776195, 'diff_simple': 0.9817374676394446, 'sing_LoughranMcDonald': -0.0005952688383191125, '0': {'type': '10-Q', 'published': datetime.date(2010, 5, 13), 'qtr': (2010, 2)}}\n",
      "[INFO] Comparing current qtr (2010, 3) to qtr (2010, 2) from 1 quarter ago.\n",
      "{'diff_jaccard': 0.690660929645666, 'diff_cosine_tf': 0.9729731758196446, 'diff_cosine_tf_idf': 0.9584967806961174, 'diff_minEdit': 0.9970058911115427, 'diff_simple': 0.997125655467081, 'sing_LoughranMcDonald': -0.0005519623304528285, '0': {'type': '10-Q', 'published': datetime.date(2012, 11, 9), 'qtr': (2012, 4)}}\n"
     ]
    },
    {
     "name": "stderr",
     "output_type": "stream",
     "text": [
      "\n",
      " 18%|█▊        | 177/1000 [02:02<12:45,  1.08it/s]\u001b[A\n",
      "\n",
      "177it [02:02,  1.08it/s]\u001b[A\u001b[A"
     ]
    },
    {
     "name": "stdout",
     "output_type": "stream",
     "text": [
      "{'diff_jaccard': 0.35869496174653165, 'diff_cosine_tf': 0.7210353863978288, 'diff_cosine_tf_idf': 0.7109057458837438, 'diff_minEdit': 0.8117570909028196, 'diff_simple': 0.795454201756323, 'sing_LoughranMcDonald': 6.7406460460610286e-06, '0': {'type': '10-Q', 'published': datetime.date(2012, 5, 7), 'qtr': (2012, 2)}}\n",
      "[INFO] Comparing current qtr (2012, 3) to qtr (2012, 2) from 1 quarter ago.\n",
      "[INFO] No ToC found\n",
      "[INFO] Found a ToC!\n",
      "[WARNING] Section _i_2 was found to be empty.\n",
      "[WARNING] Section _i_3 was found to be empty.\n",
      "[WARNING] Section _i_4 was found to be empty.\n",
      "{'diff_jaccard': 0.609415899280518, 'diff_cosine_tf': 0.8703972482708613, 'diff_cosine_tf_idf': 0.8578174895163844, 'diff_minEdit': 0.9643467276743343, 'diff_simple': 0.9240748045198264, 'sing_LoughranMcDonald': -0.0009375114753169073, '0': {'type': '10-Q', 'published': datetime.date(2012, 8, 7), 'qtr': (2012, 3)}}\n",
      "[INFO] Comparing current qtr (2012, 4) to qtr (2012, 3) from 1 quarter ago.\n",
      "[INFO] Found a ToC!\n",
      "[INFO] No ToC found\n",
      "{'diff_jaccard': 0.9016634840219577, 'diff_cosine_tf': 0.9937570178077705, 'diff_cosine_tf_idf': 0.9922572010022583, 'diff_minEdit': 1.0000000000000002, 'diff_simple': 1.0000000000000002, 'sing_LoughranMcDonald': -0.0005289955559692701, '0': {'type': '10-Q', 'published': datetime.date(2010, 8, 6), 'qtr': (2010, 3)}}\n",
      "[INFO] Comparing current qtr (2010, 4) to qtr (2010, 3) from 1 quarter ago.\n",
      "{'diff_jaccard': 0.7462066609281841, 'diff_cosine_tf': 0.9738353281188776, 'diff_cosine_tf_idf': 0.9630118050661249, 'diff_minEdit': 1.0, 'diff_simple': 1.0, 'sing_LoughranMcDonald': -0.0008698479209680294, '0': {'type': '10-Q', 'published': datetime.date(2012, 11, 7), 'qtr': (2012, 4)}}\n"
     ]
    },
    {
     "name": "stderr",
     "output_type": "stream",
     "text": [
      "\n",
      " 18%|█▊        | 178/1000 [02:03<10:44,  1.28it/s]\u001b[A\n",
      "\n",
      "178it [02:03,  1.28it/s]\u001b[A\u001b[A"
     ]
    },
    {
     "name": "stdout",
     "output_type": "stream",
     "text": [
      "[INFO] No ToC found\n",
      "[WARNING] Section ii_1 was found to be empty.\n",
      "[INFO] Found a ToC!\n",
      "[WARNING] Section _i_2 was found to be empty.\n",
      "[WARNING] Section _i_3 was found to be empty.\n",
      "[WARNING] Section _i_4 was found to be empty.\n",
      "[INFO] No ToC found\n",
      "{'diff_jaccard': 0.8645341828836494, 'diff_cosine_tf': 0.9948887690249395, 'diff_cosine_tf_idf': 0.9935482922370232, 'diff_minEdit': 0.9799092634479889, 'diff_simple': 0.9969863895171983, 'sing_LoughranMcDonald': -0.0005041474150682107, '0': {'type': '10-Q', 'published': datetime.date(2010, 11, 5), 'qtr': (2010, 4)}}\n",
      "[INFO] Comparing current qtr (2011, 1) to qtr (2010, 4) from 1 quarter ago.\n",
      "[INFO] Found a ToC!\n",
      "[INFO] Found a ToC!\n",
      "{'diff_jaccard': 0.7303042487993646, 'diff_cosine_tf': 0.9824819835149046, 'diff_cosine_tf_idf': 0.9805718464490493, 'diff_minEdit': 0.9687480085030772, 'diff_simple': 0.9854549900186609, 'sing_LoughranMcDonald': -0.00045154052965032463, '0': {'type': '10-K', 'published': datetime.date(2011, 2, 25), 'qtr': (2011, 1)}}\n",
      "[INFO] Comparing current qtr (2011, 2) to qtr (2011, 1) from 1 quarter ago.\n",
      "[INFO] Found a ToC!\n",
      "[INFO] No ToC found\n",
      "[INFO] Found a ToC!\n",
      "[INFO] Found a ToC!\n",
      "[INFO] Found a ToC!\n",
      "[INFO] Found a ToC!\n",
      "[INFO] No ToC found\n",
      "[INFO] Found a ToC!\n",
      "[INFO] Found a ToC!\n",
      "[INFO] Comparing current qtr (2010, 2) to qtr (2010, 1) from 1 quarter ago.\n",
      "[INFO] No ToC found\n",
      "{'diff_jaccard': 0.770491346066375, 'diff_cosine_tf': 0.9757429998431483, 'diff_cosine_tf_idf': 0.9735827426108105, 'diff_minEdit': 0.9719623432850694, 'diff_simple': 0.9871760725616692, 'sing_LoughranMcDonald': -0.0004017136583767443, '0': {'type': '10-Q', 'published': datetime.date(2011, 5, 5), 'qtr': (2011, 2)}}\n",
      "[INFO] Found a ToC!\n",
      "[INFO] Comparing current qtr (2011, 3) to qtr (2011, 2) from 1 quarter ago.\n",
      "[INFO] No ToC found\n",
      "[INFO] Found a ToC!\n",
      "[INFO] Comparing current qtr (2011, 4) to qtr (2011, 3) from 1 quarter ago.\n",
      "[INFO] No ToC found\n",
      "{'diff_jaccard': 0.2557617623155673, 'diff_cosine_tf': 0.8797884535011364, 'diff_cosine_tf_idf': 0.8614007267231436, 'diff_minEdit': 0.8073756962307955, 'diff_simple': 0.739574218480436, 'sing_LoughranMcDonald': -0.00026896327905081885, '0': {'type': '10-Q', 'published': datetime.date(2010, 5, 6), 'qtr': (2010, 2)}}\n",
      "[INFO] Comparing current qtr (2010, 3) to qtr (2010, 2) from 1 quarter ago.\n",
      "[INFO] No ToC found\n",
      "{'diff_jaccard': 0.7821520603558425, 'diff_cosine_tf': 0.9815534059123051, 'diff_cosine_tf_idf': 0.9754116836537682, 'diff_minEdit': 0.9999999999999999, 'diff_simple': 0.9999999999999999, 'sing_LoughranMcDonald': -0.0011260013564221266, '0': {'type': '10-Q', 'published': datetime.date(2011, 11, 10), 'qtr': (2011, 4)}}\n",
      "[INFO] Comparing current qtr (2012, 1) to qtr (2011, 4) from 1 quarter ago.\n",
      "[INFO] No ToC found\n",
      "[WARNING] Section 1a was found to be empty.\n",
      "[WARNING] Section 3 was found to be empty.\n",
      "[INFO] No ToC found\n",
      "[WARNING] Section 7 was found to be empty.\n",
      "[WARNING] Section 7a was found to be empty.\n",
      "[WARNING] Section 9a was found to be empty.\n",
      "{'diff_jaccard': 0.6828235211011393, 'diff_cosine_tf': 0.9775922801748256, 'diff_cosine_tf_idf': 0.9731128622836654, 'diff_minEdit': 1.0, 'diff_simple': 1.0, 'sing_LoughranMcDonald': -0.0001922450607309497, '0': {'type': '10-Q', 'published': datetime.date(2010, 8, 6), 'qtr': (2010, 3)}}\n",
      "[INFO] Comparing current qtr (2010, 4) to qtr (2010, 3) from 1 quarter ago.\n",
      "[INFO] No ToC found\n",
      "[WARNING] Section _i_2 was found to be empty.\n",
      "[WARNING] Section _i_3 was found to be empty.\n",
      "{'diff_jaccard': 0.9104267502670422, 'diff_cosine_tf': 0.9946012433357259, 'diff_cosine_tf_idf': 0.9934433207340141, 'diff_minEdit': 0.997798118440112, 'diff_simple': 0.991168461443248, 'sing_LoughranMcDonald': -0.0005810684529744432, '0': {'type': '10-Q', 'published': datetime.date(2011, 8, 4), 'qtr': (2011, 3)}}\n",
      "[INFO] No ToC found\n",
      "[INFO] Comparing current qtr (2011, 4) to qtr (2011, 3) from 1 quarter ago.\n",
      "[WARNING] Section _i_4 was found to be empty.\n",
      "[WARNING] Section ii_1 was found to be empty.\n",
      "[WARNING] Section ii_1a was found to be empty.\n",
      "[ERROR] Here is full_sect: |[]|\n",
      "[ERROR] Original res: {'_i_1': [], '_i_2': [], '_i_3': [], '_i_4': [], 'ii_1': [], 'ii_1a': [], 'ii_2': [], 'ii_3': [], 'ii_4': [], 'ii_5': [], 'ii_6': []}\n",
      "{'diff_jaccard': 0.6941596983753974, 'diff_cosine_tf': 0.9885492038465775, 'diff_cosine_tf_idf': 0.9846642205940775, 'diff_minEdit': 0.9912755637258357, 'diff_simple': 0.9914999063728857, 'sing_LoughranMcDonald': -0.00016634691785755756, '0': {'type': '10-Q', 'published': datetime.date(2010, 11, 4), 'qtr': (2010, 4)}}\n",
      "[INFO] Comparing current qtr (2011, 1) to qtr (2010, 4) from 1 quarter ago.\n",
      "[WARNING] /home/alex/Desktop/filtered_text_data/nd_data/2010/QTR3/20100806_10-Q_edgar_data_729580_0001144204-10-041829_1.txt failed parsing\n"
     ]
    },
    {
     "name": "stderr",
     "output_type": "stream",
     "text": [
      "\n",
      " 18%|█▊        | 179/1000 [02:05<15:50,  1.16s/it]\u001b[A\n",
      "\n",
      "179it [02:05,  1.16s/it]\u001b[A\u001b[A"
     ]
    },
    {
     "name": "stdout",
     "output_type": "stream",
     "text": [
      "{'diff_jaccard': 0.29507939258978944, 'diff_cosine_tf': 0.7956678829529278, 'diff_cosine_tf_idf': 0.7728213011909145, 'diff_minEdit': 0.8735424514032553, 'diff_simple': 0.679207299270073, 'sing_LoughranMcDonald': -0.0003412131654382914, '0': {'type': '10-K', 'published': datetime.date(2012, 3, 15), 'qtr': (2012, 1)}}\n",
      "[INFO] Comparing current qtr (2012, 2) to qtr (2012, 1) from 1 quarter ago.\n",
      "[INFO] Found a ToC!\n",
      "[INFO] Comparing current qtr (2010, 2) to qtr (2010, 1) from 1 quarter ago.\n",
      "{'diff_jaccard': 0.2611082886057235, 'diff_cosine_tf': 0.7796399723884445, 'diff_cosine_tf_idf': 0.7585781501165723, 'diff_minEdit': 0.8036502173474551, 'diff_simple': 0.6725238152178246, 'sing_LoughranMcDonald': -0.001466772544491311, '0': {'type': '10-Q', 'published': datetime.date(2012, 5, 10), 'qtr': (2012, 2)}}\n",
      "[INFO] Comparing current qtr (2012, 3) to qtr (2012, 2) from 1 quarter ago.\n",
      "{'diff_jaccard': 0.19285514644676946, 'diff_cosine_tf': 0.805064264681197, 'diff_cosine_tf_idf': 0.7772540891296659, 'diff_minEdit': 0.7345055950280466, 'diff_simple': 0.6827942280423722, 'sing_LoughranMcDonald': -0.0001985235884735085, '0': {'type': '10-K', 'published': datetime.date(2011, 2, 25), 'qtr': (2011, 1)}}\n",
      "[INFO] Comparing current qtr (2011, 2) to qtr (2011, 1) from 1 quarter ago.\n",
      "{'diff_jaccard': 0.8048307975281315, 'diff_cosine_tf': 0.9721627130455256, 'diff_cosine_tf_idf': 0.9676245173405693, 'diff_minEdit': 1.0, 'diff_simple': 1.0, 'sing_LoughranMcDonald': -0.0011234315944814726, '0': {'type': '10-Q', 'published': datetime.date(2012, 8, 9), 'qtr': (2012, 3)}}\n",
      "[INFO] Comparing current qtr (2012, 4) to qtr (2012, 3) from 1 quarter ago.\n",
      "{'diff_jaccard': 0.8996953163220028, 'diff_cosine_tf': 0.9961692257486725, 'diff_cosine_tf_idf': 0.9951693203532682, 'diff_minEdit': 0.9991558679438621, 'diff_simple': 0.9976068856208493, 'sing_LoughranMcDonald': -0.0006163758074900895, '0': {'type': '10-Q', 'published': datetime.date(2011, 11, 4), 'qtr': (2011, 4)}}\n",
      "[INFO] Comparing current qtr (2012, 1) to qtr (2011, 4) from 1 quarter ago.\n",
      "{'diff_jaccard': 0.6272830501231789, 'diff_cosine_tf': 0.9731006490410115, 'diff_cosine_tf_idf': 0.9663945508830283, 'diff_minEdit': 0.677706927981909, 'diff_simple': 0.6381084130073047, 'sing_LoughranMcDonald': -0.0011476622183751398, '0': {'type': '10-Q', 'published': datetime.date(2010, 4, 29), 'qtr': (2010, 2)}}\n",
      "[INFO] Comparing current qtr (2010, 3) to qtr (2010, 2) from 1 quarter ago.\n",
      "{'diff_jaccard': 0.17870974205319795, 'diff_cosine_tf': 0.7844604230782324, 'diff_cosine_tf_idf': 0.751717165811773, 'diff_minEdit': 0.7273935234479629, 'diff_simple': 0.65458605664488, 'sing_LoughranMcDonald': -0.00020228771238021262, '0': {'type': '10-Q', 'published': datetime.date(2011, 5, 4), 'qtr': (2011, 2)}}\n",
      "{'diff_jaccard': 0.7522836459878792, 'diff_cosine_tf': 0.9804660816575401, 'diff_cosine_tf_idf': 0.9714447211912575, 'diff_minEdit': 0.9989992150706436, 'diff_simple': 0.9983987441130298, 'sing_LoughranMcDonald': -0.0009187703276258498, '0': {'type': '10-Q', 'published': datetime.date(2012, 11, 8), 'qtr': (2012, 4)}}\n",
      "[INFO] Comparing current qtr (2011, 3) to qtr (2011, 2) from 1 quarter ago.\n"
     ]
    },
    {
     "name": "stderr",
     "output_type": "stream",
     "text": [
      "\n",
      " 18%|█▊        | 180/1000 [02:06<13:25,  1.02it/s]\u001b[A\n",
      "\n",
      "180it [02:06,  1.02it/s]\u001b[A\u001b[A"
     ]
    },
    {
     "name": "stdout",
     "output_type": "stream",
     "text": [
      "{'diff_jaccard': 0.6509950411207666, 'diff_cosine_tf': 0.9696427317277347, 'diff_cosine_tf_idf': 0.965140998380916, 'diff_minEdit': 1.0, 'diff_simple': 1.0, 'sing_LoughranMcDonald': -0.0002756175468164846, '0': {'type': '10-Q', 'published': datetime.date(2011, 8, 4), 'qtr': (2011, 3)}}\n",
      "[INFO] Comparing current qtr (2011, 4) to qtr (2011, 3) from 1 quarter ago.\n",
      "{'diff_jaccard': 0.9150857682657533, 'diff_cosine_tf': 0.9936016419523167, 'diff_cosine_tf_idf': 0.9907891181494437, 'diff_minEdit': 1.0, 'diff_simple': 1.0, 'sing_LoughranMcDonald': -0.001077483504865699, '0': {'type': '10-Q', 'published': datetime.date(2010, 8, 3), 'qtr': (2010, 3)}}\n",
      "[INFO] Comparing current qtr (2010, 4) to qtr (2010, 3) from 1 quarter ago.\n",
      "[INFO] Found a ToC!\n",
      "{'diff_jaccard': 0.7091393231412605, 'diff_cosine_tf': 0.9752148086026783, 'diff_cosine_tf_idf': 0.9674422503977419, 'diff_minEdit': 1.0, 'diff_simple': 1.0, 'sing_LoughranMcDonald': -0.00014251687328164877, '0': {'type': '10-Q', 'published': datetime.date(2011, 11, 2), 'qtr': (2011, 4)}}\n",
      "[INFO] Comparing current qtr (2012, 1) to qtr (2011, 4) from 1 quarter ago.\n",
      "[INFO] Found a ToC!\n",
      "[WARNING] Section ii_1a was found to be empty.\n",
      "[INFO] Comparing current qtr (2010, 2) to qtr (2010, 1) from 1 quarter ago.\n",
      "{'diff_jaccard': 0.9184612073934635, 'diff_cosine_tf': 0.9954529841103668, 'diff_cosine_tf_idf': 0.9920006154934496, 'diff_minEdit': 0.932631261301403, 'diff_simple': 0.9634524592560112, 'sing_LoughranMcDonald': -0.0010870914085815623, '0': {'type': '10-Q', 'published': datetime.date(2010, 11, 3), 'qtr': (2010, 4)}}\n",
      "[INFO] Comparing current qtr (2011, 1) to qtr (2010, 4) from 1 quarter ago.\n",
      "[INFO] Found a ToC!\n",
      "{'diff_jaccard': 0.7597147331058792, 'diff_cosine_tf': 0.9792684660922059, 'diff_cosine_tf_idf': 0.9758288480184654, 'diff_minEdit': 0.958332162870697, 'diff_simple': 0.9810155276615526, 'sing_LoughranMcDonald': -0.0006093969775453679, '0': {'type': '10-K', 'published': datetime.date(2012, 2, 28), 'qtr': (2012, 1)}}\n",
      "[INFO] Comparing current qtr (2012, 2) to qtr (2012, 1) from 1 quarter ago.\n",
      "{'diff_jaccard': 0.3075161751762064, 'diff_cosine_tf': 0.7717179119136718, 'diff_cosine_tf_idf': 0.7425833620509096, 'diff_minEdit': 0.7395245773091842, 'diff_simple': 0.6914585241239696, 'sing_LoughranMcDonald': -0.0002886187357889885, '0': {'type': '10-K', 'published': datetime.date(2012, 2, 24), 'qtr': (2012, 1)}}\n",
      "{'diff_jaccard': 0.3044242746151133, 'diff_cosine_tf': 0.6435248781836354, 'diff_cosine_tf_idf': 0.6315843186436634, 'diff_minEdit': 0.746999415082772, 'diff_simple': 0.6416960230403572, 'sing_LoughranMcDonald': -0.0004917036687762418, '0': {'type': '10-Q', 'published': datetime.date(2010, 5, 4), 'qtr': (2010, 2)}}\n",
      "[INFO] Comparing current qtr (2012, 2) to qtr (2012, 1) from 1 quarter ago.\n"
     ]
    },
    {
     "name": "stderr",
     "output_type": "stream",
     "text": [
      "\n",
      " 18%|█▊        | 181/1000 [02:06<11:51,  1.15it/s]\u001b[A\n",
      "\n",
      "181it [02:06,  1.15it/s]\u001b[A\u001b[A"
     ]
    },
    {
     "name": "stdout",
     "output_type": "stream",
     "text": [
      "[INFO] Found a ToC!\n",
      "{'diff_jaccard': 0.2403563369748703, 'diff_cosine_tf': 0.7431276658012809, 'diff_cosine_tf_idf': 0.710564625416504, 'diff_minEdit': 0.7009720065760751, 'diff_simple': 0.6857858328721639, 'sing_LoughranMcDonald': -0.00032066755553936425, '0': {'type': '10-Q', 'published': datetime.date(2012, 5, 2), 'qtr': (2012, 2)}}\n",
      "[INFO] Comparing current qtr (2012, 3) to qtr (2012, 2) from 1 quarter ago.\n",
      "[INFO] Found a ToC!\n",
      "[WARNING] Section 3 was found to be empty.\n",
      "[INFO] No ToC found\n",
      "{'diff_jaccard': 0.6915881042108044, 'diff_cosine_tf': 0.9704633609336992, 'diff_cosine_tf_idf': 0.9617722441698084, 'diff_minEdit': 1.0, 'diff_simple': 1.0, 'sing_LoughranMcDonald': -0.00019910491336092443, '0': {'type': '10-Q', 'published': datetime.date(2012, 8, 1), 'qtr': (2012, 3)}}\n",
      "{'diff_jaccard': 0.6083649398585772, 'diff_cosine_tf': 0.9747979598580652, 'diff_cosine_tf_idf': 0.96866289305214, 'diff_minEdit': 0.6559866902806849, 'diff_simple': 0.6496796007084206, 'sing_LoughranMcDonald': -0.0003988689949969235, '0': {'type': '10-K', 'published': datetime.date(2011, 3, 1), 'qtr': (2011, 1)}}\n",
      "[INFO] Comparing current qtr (2011, 2) to qtr (2011, 1) from 1 quarter ago.\n",
      "[INFO] Comparing current qtr (2012, 4) to qtr (2012, 3) from 1 quarter ago.\n",
      "[INFO] No ToC found\n",
      "[INFO] No ToC found\n",
      "{'diff_jaccard': 0.7467492723200506, 'diff_cosine_tf': 0.9755487095101972, 'diff_cosine_tf_idf': 0.9716352481006758, 'diff_minEdit': 0.9557404459302106, 'diff_simple': 0.9759188733310302, 'sing_LoughranMcDonald': -0.0009786945900459494, '0': {'type': '10-Q', 'published': datetime.date(2012, 5, 7), 'qtr': (2012, 2)}}\n",
      "[INFO] Comparing current qtr (2012, 3) to qtr (2012, 2) from 1 quarter ago.\n",
      "{'diff_jaccard': 0.6948601490993978, 'diff_cosine_tf': 0.9802018118263491, 'diff_cosine_tf_idf': 0.9735722318996152, 'diff_minEdit': 1.0, 'diff_simple': 1.0, 'sing_LoughranMcDonald': -0.00028658618716101273, '0': {'type': '10-Q', 'published': datetime.date(2012, 11, 7), 'qtr': (2012, 4)}}\n"
     ]
    },
    {
     "name": "stderr",
     "output_type": "stream",
     "text": [
      "\n",
      " 18%|█▊        | 182/1000 [02:07<10:12,  1.34it/s]\u001b[A\n",
      "\n",
      "182it [02:07,  1.34it/s]\u001b[A\u001b[A"
     ]
    },
    {
     "name": "stdout",
     "output_type": "stream",
     "text": [
      "[INFO] No ToC found\n",
      "[WARNING] Section _i_4 was found to be empty.\n",
      "[ERROR] Here is full_sect: |[]|\n",
      "[ERROR] Original res: {'1': [], '1a': [], '1b': [], '2': [], '3': [], '4': [], '5': [], '6': [], '7': [], '7a': [], '8': [], '9': [], '9a': [], '9b': [], '10': [], '11': [], '12': [], '13': [], '14': [], '15': []}\n",
      "[WARNING] /home/alex/Desktop/filtered_text_data/nd_data/2010/QTR1/20100331_10-K_edgar_data_885245_0001144204-10-017178_1.txt failed parsing\n",
      "{'diff_jaccard': 0.6054841653005991, 'diff_cosine_tf': 0.9512025242628668, 'diff_cosine_tf_idf': 0.9447949578683389, 'diff_minEdit': 0.6754888769027236, 'diff_simple': 0.6040687355814461, 'sing_LoughranMcDonald': -0.0007937660975555901, '0': {'type': '10-Q', 'published': datetime.date(2011, 4, 29), 'qtr': (2011, 2)}}\n",
      "[INFO] Comparing current qtr (2011, 3) to qtr (2011, 2) from 1 quarter ago.\n",
      "[INFO] No ToC found\n",
      "[INFO] No ToC found\n",
      "[INFO] No ToC found\n",
      "{'diff_jaccard': 0.881253734214605, 'diff_cosine_tf': 0.9827193499654274, 'diff_cosine_tf_idf': 0.9793902547250966, 'diff_minEdit': 1.0, 'diff_simple': 1.0, 'sing_LoughranMcDonald': -0.0007250420299735725, '0': {'type': '10-Q', 'published': datetime.date(2012, 8, 8), 'qtr': (2012, 3)}}\n",
      "[INFO] Comparing current qtr (2012, 4) to qtr (2012, 3) from 1 quarter ago.\n",
      "[INFO] Found a ToC!\n",
      "[INFO] Comparing current qtr (2010, 2) to qtr (2010, 1) from 1 quarter ago.\n",
      "{'diff_jaccard': 0.8730859890576146, 'diff_cosine_tf': 0.974022911509858, 'diff_cosine_tf_idf': 0.9692837029850145, 'diff_minEdit': 0.9241391251474387, 'diff_simple': 0.9479363486162188, 'sing_LoughranMcDonald': -0.0009921326379057367, '0': {'type': '10-Q', 'published': datetime.date(2011, 8, 3), 'qtr': (2011, 3)}}\n",
      "[INFO] Comparing current qtr (2011, 4) to qtr (2011, 3) from 1 quarter ago.\n",
      "[INFO] Found a ToC!\n",
      "{'diff_jaccard': 0.41892000722582634, 'diff_cosine_tf': 0.8029525093551206, 'diff_cosine_tf_idf': 0.7789576961228182, 'diff_minEdit': 0.8186479944546421, 'diff_simple': 0.7223114443139733, 'sing_LoughranMcDonald': -0.0014529816626100468, '0': {'type': '10-Q', 'published': datetime.date(2010, 4, 29), 'qtr': (2010, 2)}}\n",
      "[INFO] Comparing current qtr (2010, 3) to qtr (2010, 2) from 1 quarter ago.\n",
      "[INFO] No ToC found\n",
      "[INFO] Comparing current qtr (2010, 2) to qtr (2010, 1) from 1 quarter ago.\n",
      "{'diff_jaccard': 0.6818876563943866, 'diff_cosine_tf': 0.9670878435877035, 'diff_cosine_tf_idf': 0.9625168542313666, 'diff_minEdit': 0.9995108394357624, 'diff_simple': 0.9994570317736963, 'sing_LoughranMcDonald': -0.0013496142847334637, '0': {'type': '10-Q', 'published': datetime.date(2010, 8, 9), 'qtr': (2010, 3)}}\n",
      "[INFO] Comparing current qtr (2010, 4) to qtr (2010, 3) from 1 quarter ago.\n",
      "{'diff_jaccard': 0.913114424198023, 'diff_cosine_tf': 0.9961903005911478, 'diff_cosine_tf_idf': 0.9933129119886578, 'diff_minEdit': 0.9411260570735488, 'diff_simple': 0.8837286479566054, 'sing_LoughranMcDonald': -0.0010022659805133663, '0': {'type': '10-Q', 'published': datetime.date(2011, 11, 1), 'qtr': (2011, 4)}}\n",
      "[INFO] Comparing current qtr (2012, 1) to qtr (2011, 4) from 1 quarter ago.\n",
      "{'diff_jaccard': 0.9329235387640008, 'diff_cosine_tf': 0.9929430041050027, 'diff_cosine_tf_idf': 0.9892667632849081, 'diff_minEdit': 1.0, 'diff_simple': 1.0, 'sing_LoughranMcDonald': -0.0007330121377596468, '0': {'type': '10-Q', 'published': datetime.date(2012, 10, 30), 'qtr': (2012, 4)}}\n"
     ]
    },
    {
     "name": "stderr",
     "output_type": "stream",
     "text": [
      "\n",
      " 18%|█▊        | 184/1000 [02:07<08:38,  1.57it/s]\u001b[A\n",
      "\n",
      "184it [02:07,  1.58it/s]\u001b[A\u001b[A"
     ]
    },
    {
     "name": "stdout",
     "output_type": "stream",
     "text": [
      "{'diff_jaccard': 0.004526072570465861, 'diff_cosine_tf': 0.19870708340951088, 'diff_cosine_tf_idf': 0.15310496363974935, 'diff_minEdit': 0.9414897223953733, 'diff_simple': 0.4427952437879042, 'sing_LoughranMcDonald': 0.0, '0': {'type': '10-K', 'published': datetime.date(2012, 2, 29), 'qtr': (2012, 1)}}\n",
      "[INFO] Comparing current qtr (2012, 2) to qtr (2012, 1) from 1 quarter ago.\n",
      "[INFO] No ToC found\n",
      "[WARNING] Section 1a was found to be empty.\n",
      "[WARNING] Section 3 was found to be empty.\n",
      "[WARNING] Section 7 was found to be empty.\n",
      "[WARNING] Section 7a was found to be empty.\n",
      "[WARNING] Section 9a was found to be empty.\n",
      "{'diff_jaccard': 0.6539363133108558, 'diff_cosine_tf': 0.9139144275505972, 'diff_cosine_tf_idf': 0.8973053956682131, 'diff_minEdit': 0.9672812604760308, 'diff_simple': 0.9416599706026457, 'sing_LoughranMcDonald': -0.001112412021122653, '0': {'type': '10-Q', 'published': datetime.date(2010, 11, 5), 'qtr': (2010, 4)}}\n",
      "[INFO] Comparing current qtr (2011, 1) to qtr (2010, 4) from 1 quarter ago.\n",
      "[INFO] No ToC found\n",
      "[WARNING] Section _i_2 was found to be empty.\n",
      "[WARNING] Section _i_3 was found to be empty.\n",
      "{'diff_jaccard': 0.7475043277542268, 'diff_cosine_tf': 0.9771238791079471, 'diff_cosine_tf_idf': 0.9725634443192032, 'diff_minEdit': 0.9919571877624072, 'diff_simple': 0.9850018980570797, 'sing_LoughranMcDonald': -0.0009202846498758035, '0': {'type': '10-Q', 'published': datetime.date(2010, 5, 4), 'qtr': (2010, 2)}}\n",
      "[WARNING] Section _i_4 was found to be empty.\n",
      "[WARNING] Section ii_1 was found to be empty.\n",
      "[WARNING] Section ii_1a was found to be empty.\n",
      "[INFO] Comparing current qtr (2010, 3) to qtr (2010, 2) from 1 quarter ago.\n",
      "[INFO] No ToC found\n",
      "[WARNING] Section 1a was found to be empty.\n",
      "{'diff_jaccard': 0.00441485066848116, 'diff_cosine_tf': 0.19691395652468316, 'diff_cosine_tf_idf': 0.152911237394866, 'diff_minEdit': 0.9442355661372761, 'diff_simple': 0.42183405265751595, 'sing_LoughranMcDonald': -0.0010677193846982274, '0': {'type': '10-Q', 'published': datetime.date(2012, 4, 27), 'qtr': (2012, 2)}}\n",
      "[INFO] Found a ToC!\n",
      "[INFO] Comparing current qtr (2012, 3) to qtr (2012, 2) from 1 quarter ago.\n",
      "[INFO] Found a ToC!\n",
      "[WARNING] Section 3 was found to be empty.\n",
      "[INFO] No ToC found\n",
      "[ERROR] Here is full_sect: |[]|\n",
      "[ERROR] Original res: {'_i_1': [], '_i_2': [], '_i_3': [], '_i_4': [], 'ii_1': [], 'ii_1a': [], 'ii_2': [], 'ii_3': [], 'ii_4': [], 'ii_5': [], 'ii_6': []}\n",
      "[WARNING] /home/alex/Desktop/filtered_text_data/nd_data/2010/QTR3/20100810_10-Q_edgar_data_1040896_0001144204-10-042499_1.txt failed parsing\n"
     ]
    },
    {
     "name": "stderr",
     "output_type": "stream",
     "text": [
      "\n",
      " 18%|█▊        | 185/1000 [02:08<08:20,  1.63it/s]\u001b[A\n",
      "\n",
      "185it [02:08,  1.63it/s]\u001b[A\u001b[A"
     ]
    },
    {
     "name": "stdout",
     "output_type": "stream",
     "text": [
      "{'diff_jaccard': 0.5281362346277515, 'diff_cosine_tf': 0.9480480771289104, 'diff_cosine_tf_idf': 0.9406706383041845, 'diff_minEdit': 0.7907814374916199, 'diff_simple': 0.7462747698971305, 'sing_LoughranMcDonald': -0.000546315087977263, '0': {'type': '10-K', 'published': datetime.date(2011, 3, 1), 'qtr': (2011, 1)}}\n",
      "{'diff_jaccard': 0.8903190554031913, 'diff_cosine_tf': 0.990200995279491, 'diff_cosine_tf_idf': 0.9891869125443078, 'diff_minEdit': 0.9981553421779178, 'diff_simple': 0.9986718463681007, 'sing_LoughranMcDonald': -0.001004792326388737, '0': {'type': '10-Q', 'published': datetime.date(2010, 8, 3), 'qtr': (2010, 3)}}\n",
      "[INFO] Comparing current qtr (2011, 2) to qtr (2011, 1) from 1 quarter ago.\n",
      "[INFO] Comparing current qtr (2010, 4) to qtr (2010, 3) from 1 quarter ago.\n",
      "{'diff_jaccard': 0.8707849869033341, 'diff_cosine_tf': 0.9864524269234518, 'diff_cosine_tf_idf': 0.9803014264299752, 'diff_minEdit': 0.9954558364101107, 'diff_simple': 0.9853791536495313, 'sing_LoughranMcDonald': -0.0015651706309918263, '0': {'type': '10-Q', 'published': datetime.date(2012, 7, 30), 'qtr': (2012, 3)}}\n",
      "[INFO] Comparing current qtr (2012, 4) to qtr (2012, 3) from 1 quarter ago.\n",
      "[INFO] No ToC found\n",
      "[INFO] Found a ToC!\n",
      "[WARNING] Section _i_2 was found to be empty.\n",
      "[WARNING] Section _i_3 was found to be empty.\n",
      "[WARNING] Section _i_4 was found to be empty.\n",
      "[INFO] Found a ToC!\n",
      "{'diff_jaccard': 0.3194145629277402, 'diff_cosine_tf': 0.8447004922108274, 'diff_cosine_tf_idf': 0.8197627551144127, 'diff_minEdit': 0.8284530219448872, 'diff_simple': 0.7487875854949027, 'sing_LoughranMcDonald': -0.0015502250378252572, '0': {'type': '10-Q', 'published': datetime.date(2011, 5, 3), 'qtr': (2011, 2)}}\n",
      "[INFO] Comparing current qtr (2011, 3) to qtr (2011, 2) from 1 quarter ago.\n",
      "{'diff_jaccard': 0.9143165381687138, 'diff_cosine_tf': 0.9931776019439458, 'diff_cosine_tf_idf': 0.9874119772286419, 'diff_minEdit': 1.0, 'diff_simple': 1.0, 'sing_LoughranMcDonald': -0.0016812404397113735, '0': {'type': '10-Q', 'published': datetime.date(2012, 10, 29), 'qtr': (2012, 4)}}\n"
     ]
    },
    {
     "name": "stderr",
     "output_type": "stream",
     "text": [
      "\n",
      " 19%|█▊        | 186/1000 [02:08<07:08,  1.90it/s]\u001b[A\n",
      "\n",
      "186it [02:08,  1.90it/s]\u001b[A\u001b[A"
     ]
    },
    {
     "name": "stdout",
     "output_type": "stream",
     "text": [
      "{'diff_jaccard': 0.7332231828169347, 'diff_cosine_tf': 0.9685978549919319, 'diff_cosine_tf_idf': 0.9594255985823266, 'diff_minEdit': 0.9996317179721629, 'diff_simple': 0.9997348369399572, 'sing_LoughranMcDonald': -0.0013959268811669498, '0': {'type': '10-Q', 'published': datetime.date(2011, 8, 2), 'qtr': (2011, 3)}}\n",
      "[INFO] Comparing current qtr (2011, 4) to qtr (2011, 3) from 1 quarter ago.\n",
      "{'diff_jaccard': 0.7688108554732733, 'diff_cosine_tf': 0.9847220581520703, 'diff_cosine_tf_idf': 0.9828644165543036, 'diff_minEdit': 0.9974930918029365, 'diff_simple': 0.9950645926707091, 'sing_LoughranMcDonald': -0.0006862389022190857, '0': {'type': '10-Q', 'published': datetime.date(2010, 11, 9), 'qtr': (2010, 4)}}\n",
      "[INFO] Comparing current qtr (2011, 1) to qtr (2010, 4) from 1 quarter ago.\n",
      "{'diff_jaccard': 0.7487074942614909, 'diff_cosine_tf': 0.9615951666661358, 'diff_cosine_tf_idf': 0.9548428891532714, 'diff_minEdit': 0.985449996708144, 'diff_simple': 0.9813759957864244, 'sing_LoughranMcDonald': -0.0016586562222957895, '0': {'type': '10-Q', 'published': datetime.date(2011, 11, 9), 'qtr': (2011, 4)}}\n",
      "[INFO] Comparing current qtr (2012, 1) to qtr (2011, 4) from 1 quarter ago.\n",
      "[INFO] Found a ToC!\n",
      "[WARNING] Section _i_2 was found to be empty.\n",
      "[WARNING] Section _i_3 was found to be empty.\n",
      "[WARNING] Section _i_4 was found to be empty.\n",
      "{'diff_jaccard': 0.4000587893964235, 'diff_cosine_tf': 0.9214127197281976, 'diff_cosine_tf_idf': 0.9080848903265585, 'diff_minEdit': 0.7869670993161186, 'diff_simple': 0.7765127065416949, 'sing_LoughranMcDonald': -0.0006382368304630899, '0': {'type': '10-K', 'published': datetime.date(2012, 2, 29), 'qtr': (2012, 1)}}\n",
      "[INFO] Comparing current qtr (2012, 2) to qtr (2012, 1) from 1 quarter ago.\n",
      "{'diff_jaccard': 0.7262645799681698, 'diff_cosine_tf': 0.9752948689139925, 'diff_cosine_tf_idf': 0.973427980202823, 'diff_minEdit': 0.9895922563101377, 'diff_simple': 0.9829181320393536, 'sing_LoughranMcDonald': -0.0002924311011743519, '0': {'type': '10-K', 'published': datetime.date(2011, 2, 23), 'qtr': (2011, 1)}}\n",
      "[INFO] Found a ToC!\n",
      "[INFO] Comparing current qtr (2011, 2) to qtr (2011, 1) from 1 quarter ago.\n",
      "[INFO] Found a ToC!\n",
      "[WARNING] Section 1a was found to be empty.\n",
      "[WARNING] Section 7a was found to be empty.\n",
      "[WARNING] Section 9a was found to be empty.\n",
      "This is the res {'1': [(97304, 97322), (116924, 116942)], '10': [(213250, 213270)], '11': [], '13': [(213154, 213172)]}\n",
      "[WARNING] /home/alex/Desktop/filtered_text_data/nd_data/2010/QTR1/20100302_10-K_edgar_data_786947_0001144204-10-010996_1.txt failed parsing\n"
     ]
    },
    {
     "name": "stderr",
     "output_type": "stream",
     "text": [
      "\n",
      " 19%|█▊        | 187/1000 [02:09<08:15,  1.64it/s]\u001b[A\n",
      "\n",
      "187it [02:09,  1.63it/s]\u001b[A\u001b[A"
     ]
    },
    {
     "name": "stdout",
     "output_type": "stream",
     "text": [
      "{'diff_jaccard': 0.30568721491008666, 'diff_cosine_tf': 0.8309574176029532, 'diff_cosine_tf_idf': 0.8055398111435179, 'diff_minEdit': 0.8247871065150166, 'diff_simple': 0.7543618365627632, 'sing_LoughranMcDonald': -0.0019095799670592255, '0': {'type': '10-Q', 'published': datetime.date(2012, 5, 4), 'qtr': (2012, 2)}}\n",
      "[INFO] Comparing current qtr (2012, 3) to qtr (2012, 2) from 1 quarter ago.\n",
      "[INFO] Found a ToC!\n",
      "[WARNING] Section _i_2 was found to be empty.\n",
      "[WARNING] Section _i_3 was found to be empty.\n",
      "[WARNING] Section _i_4 was found to be empty.\n",
      "[INFO] Found a ToC!\n",
      "[WARNING] Section 3 was found to be empty.\n",
      "[WARNING] Section ii_1 was found to be empty.\n",
      "[WARNING] Section ii_1a was found to be empty.\n",
      "[WARNING] Section 7 was found to be empty.\n",
      "[WARNING] Section 7a was found to be empty.\n",
      "[INFO] Found a ToC!\n",
      "[INFO] Found a ToC!\n",
      "[WARNING] Section _i_2 was found to be empty.\n",
      "[WARNING] Section _i_3 was found to be empty.\n",
      "[WARNING] Section _i_4 was found to be empty.\n",
      "[INFO] Comparing current qtr (2010, 2) to qtr (2010, 1) from 1 quarter ago.\n",
      "[INFO] Found a ToC!\n",
      "[WARNING] Section _i_2 was found to be empty.\n",
      "{'diff_jaccard': 0.7743153021838844, 'diff_cosine_tf': 0.9632304052437816, 'diff_cosine_tf_idf': 0.9583035207307811, 'diff_minEdit': 0.9996175252565219, 'diff_simple': 0.9997246181846957, 'sing_LoughranMcDonald': -0.0016478854669961266, '0': {'type': '10-Q', 'published': datetime.date(2012, 8, 3), 'qtr': (2012, 3)}}\n",
      "[INFO] Comparing current qtr (2012, 4) to qtr (2012, 3) from 1 quarter ago.\n",
      "{'diff_jaccard': 0.2870593915982617, 'diff_cosine_tf': 0.32713791411062687, 'diff_cosine_tf_idf': 0.3033771675044739, 'diff_minEdit': 0.7239728759473475, 'diff_simple': 0.45759506968275093, 'sing_LoughranMcDonald': -0.04531224254407645, '0': {'type': '10-Q', 'published': datetime.date(2010, 5, 7), 'qtr': (2010, 2)}}\n",
      "[INFO] Comparing current qtr (2010, 3) to qtr (2010, 2) from 1 quarter ago.\n",
      "[INFO] Found a ToC!\n",
      "{'diff_jaccard': 0.3033234126984127, 'diff_cosine_tf': 0.48844911429032417, 'diff_cosine_tf_idf': 0.4529331822479609, 'diff_minEdit': 1.0, 'diff_simple': 1.0, 'sing_LoughranMcDonald': -0.02443321373918187, '0': {'type': '10-Q', 'published': datetime.date(2010, 8, 6), 'qtr': (2010, 3)}}\n",
      "[INFO] Comparing current qtr (2010, 4) to qtr (2010, 3) from 1 quarter ago.\n",
      "{'diff_jaccard': 0.7695849963894177, 'diff_cosine_tf': 0.9756695984051948, 'diff_cosine_tf_idf': 0.9728907147393095, 'diff_minEdit': 0.9223646635759206, 'diff_simple': 0.9269340072266188, 'sing_LoughranMcDonald': -0.0006788961144337736, '0': {'type': '10-Q', 'published': datetime.date(2011, 5, 3), 'qtr': (2011, 2)}}\n",
      "[INFO] Comparing current qtr (2011, 3) to qtr (2011, 2) from 1 quarter ago.\n",
      "[INFO] No ToC found\n",
      "{'diff_jaccard': 0.8291381221372007, 'diff_cosine_tf': 0.9795523571928633, 'diff_cosine_tf_idf': 0.9731897265700745, 'diff_minEdit': 1.0, 'diff_simple': 1.0, 'sing_LoughranMcDonald': -0.02077594165283059, '0': {'type': '10-Q', 'published': datetime.date(2010, 11, 5), 'qtr': (2010, 4)}}\n",
      "[INFO] Comparing current qtr (2011, 1) to qtr (2010, 4) from 1 quarter ago.\n",
      "[WARNING] Section _i_3 was found to be empty.\n",
      "[WARNING] Section _i_4 was found to be empty.\n",
      "[WARNING] Section ii_1 was found to be empty.\n",
      "[WARNING] Section ii_1a was found to be empty.\n",
      "{'diff_jaccard': 0.08075085595986943, 'diff_cosine_tf': 0.3501788260747258, 'diff_cosine_tf_idf': 0.2905342213873831, 'diff_minEdit': 0.5028825328274761, 'diff_simple': 0.37635978334930886, 'sing_LoughranMcDonald': -0.0013438979405968055, '0': {'type': '10-K', 'published': datetime.date(2011, 2, 28), 'qtr': (2011, 1)}}\n",
      "[INFO] Comparing current qtr (2011, 2) to qtr (2011, 1) from 1 quarter ago.\n",
      "{'diff_jaccard': 0.7893546099030267, 'diff_cosine_tf': 0.974795430419164, 'diff_cosine_tf_idf': 0.9673381427124119, 'diff_minEdit': 0.9996444662396174, 'diff_simple': 0.9996681684903096, 'sing_LoughranMcDonald': -0.0019241944121314966, '0': {'type': '10-Q', 'published': datetime.date(2012, 11, 2), 'qtr': (2012, 4)}}\n"
     ]
    },
    {
     "name": "stderr",
     "output_type": "stream",
     "text": [
      "\n"
     ]
    },
    {
     "name": "stdout",
     "output_type": "stream",
     "text": [
      "[INFO] Found a ToC!\n"
     ]
    },
    {
     "name": "stderr",
     "output_type": "stream",
     "text": [
      " 19%|█▉        | 188/1000 [02:10<07:45,  1.74it/s]\u001b[A\n",
      "\n",
      "188it [02:10,  1.73it/s]"
     ]
    },
    {
     "name": "stdout",
     "output_type": "stream",
     "text": [
      "{'diff_jaccard': 0.09529481834425252, 'diff_cosine_tf': 0.3173917488682866, 'diff_cosine_tf_idf': 0.2436475827804186, 'diff_minEdit': 0.5058884521708521, 'diff_simple': 0.3726321801172789, 'sing_LoughranMcDonald': -0.011307584638799073, '0': {'type': '10-Q', 'published': datetime.date(2011, 5, 9), 'qtr': (2011, 2)}}\n"
     ]
    },
    {
     "name": "stderr",
     "output_type": "stream",
     "text": [
      "\u001b[A\u001b[A"
     ]
    },
    {
     "name": "stdout",
     "output_type": "stream",
     "text": [
      "[INFO] Comparing current qtr (2011, 3) to qtr (2011, 2) from 1 quarter ago.\n",
      "{'diff_jaccard': 0.9999999999999999, 'diff_cosine_tf': 1.0000000000000004, 'diff_cosine_tf_idf': 1.0000000000000002, 'diff_minEdit': 0.9999999999999999, 'diff_simple': 0.9999999999999999, 'sing_LoughranMcDonald': -0.011307584638799073, '0': {'type': '10-Q', 'published': datetime.date(2011, 8, 8), 'qtr': (2011, 3)}}\n",
      "[INFO] Comparing current qtr (2011, 4) to qtr (2011, 3) from 1 quarter ago.\n",
      "{'diff_jaccard': 0.9505208333333333, 'diff_cosine_tf': 0.9879508406756393, 'diff_cosine_tf_idf': 0.9833373198269059, 'diff_minEdit': 0.9999999999999999, 'diff_simple': 0.9999999999999999, 'sing_LoughranMcDonald': -0.010026686411526061, '0': {'type': '10-Q', 'published': datetime.date(2011, 11, 7), 'qtr': (2011, 4)}}\n",
      "[INFO] Comparing current qtr (2012, 1) to qtr (2011, 4) from 1 quarter ago.\n",
      "[INFO] Found a ToC!\n",
      "[INFO] Comparing current qtr (2010, 2) to qtr (2010, 1) from 1 quarter ago.\n",
      "{'diff_jaccard': 0.8657763550184786, 'diff_cosine_tf': 0.9861265232407942, 'diff_cosine_tf_idf': 0.9824591436779133, 'diff_minEdit': 1.0, 'diff_simple': 1.0, 'sing_LoughranMcDonald': -0.0006439704543762127, '0': {'type': '10-Q', 'published': datetime.date(2011, 8, 5), 'qtr': (2011, 3)}}\n",
      "[INFO] Comparing current qtr (2011, 4) to qtr (2011, 3) from 1 quarter ago.\n",
      "{'diff_jaccard': 0.02399522440841037, 'diff_cosine_tf': 0.08148477412768843, 'diff_cosine_tf_idf': 0.05997328885869205, 'diff_minEdit': 0.6090347470192388, 'diff_simple': 0.22798210274498354, 'sing_LoughranMcDonald': -0.000331646438492798, '0': {'type': '10-K', 'published': datetime.date(2012, 2, 28), 'qtr': (2012, 1)}}\n",
      "[INFO] Comparing current qtr (2012, 2) to qtr (2012, 1) from 1 quarter ago.\n",
      "{'diff_jaccard': 0.007818379646659164, 'diff_cosine_tf': 0.18862220349799982, 'diff_cosine_tf_idf': 0.14024686248050883, 'diff_minEdit': 0.836241765144101, 'diff_simple': 0.45396692644840597, 'sing_LoughranMcDonald': -0.044065481305219555, '0': {'type': '10-Q', 'published': datetime.date(2010, 5, 10), 'qtr': (2010, 2)}}\n",
      "[INFO] Comparing current qtr (2010, 3) to qtr (2010, 2) from 1 quarter ago.\n",
      "[INFO] Found a ToC!\n",
      "{'diff_jaccard': 0.02384950839215244, 'diff_cosine_tf': 0.074841607085385, 'diff_cosine_tf_idf': 0.055055180456316695, 'diff_minEdit': 0.6084387050449938, 'diff_simple': 0.21550780670370795, 'sing_LoughranMcDonald': -0.010160824742268041, '0': {'type': '10-Q', 'published': datetime.date(2012, 5, 9), 'qtr': (2012, 2)}}\n",
      "{'diff_jaccard': 0.5290736984448953, 'diff_cosine_tf': 0.7740598438783488, 'diff_cosine_tf_idf': 0.7125121751325008, 'diff_minEdit': 0.9411764705882353, 'diff_simple': 0.8519563076372102, 'sing_LoughranMcDonald': -0.08012820512820512, '0': {'type': '10-Q', 'published': datetime.date(2010, 8, 9), 'qtr': (2010, 3)}}\n",
      "[INFO] Comparing current qtr (2012, 3) to qtr (2012, 2) from 1 quarter ago.\n",
      "[INFO] Comparing current qtr (2010, 4) to qtr (2010, 3) from 1 quarter ago.\n",
      "{'diff_jaccard': 0.9528826455955517, 'diff_cosine_tf': 0.9911559989402533, 'diff_cosine_tf_idf': 0.9878237992881747, 'diff_minEdit': 1.0, 'diff_simple': 1.0, 'sing_LoughranMcDonald': -0.01272357132470554, '0': {'type': '10-Q', 'published': datetime.date(2012, 8, 8), 'qtr': (2012, 3)}}\n",
      "[INFO] Comparing current qtr (2012, 4) to qtr (2012, 3) from 1 quarter ago.\n",
      "{'diff_jaccard': 0.7078651685393258, 'diff_cosine_tf': 0.8039906615927763, 'diff_cosine_tf_idf': 0.7758444286840896, 'diff_minEdit': 0.9269662921348314, 'diff_simple': 0.8221172164930823, 'sing_LoughranMcDonald': -0.09380863039399626, '0': {'type': '10-Q', 'published': datetime.date(2010, 11, 9), 'qtr': (2010, 4)}}\n",
      "[INFO] Comparing current qtr (2011, 1) to qtr (2010, 4) from 1 quarter ago.\n",
      "{'diff_jaccard': 0.9472157772621811, 'diff_cosine_tf': 0.9896026278815481, 'diff_cosine_tf_idf': 0.984526387725691, 'diff_minEdit': 1.0, 'diff_simple': 1.0, 'sing_LoughranMcDonald': -0.010516824332828181, '0': {'type': '10-Q', 'published': datetime.date(2012, 11, 6), 'qtr': (2012, 4)}}\n"
     ]
    },
    {
     "name": "stderr",
     "output_type": "stream",
     "text": [
      "\n",
      " 19%|█▉        | 189/1000 [02:10<07:33,  1.79it/s]\u001b[A\n",
      "\n",
      "189it [02:10,  1.79it/s]\u001b[A\u001b[A"
     ]
    },
    {
     "name": "stdout",
     "output_type": "stream",
     "text": [
      "[INFO] Found a ToC!\n",
      "[WARNING] Section 1a was found to be empty.\n",
      "{'diff_jaccard': 0.8584558602591965, 'diff_cosine_tf': 0.991328060291279, 'diff_cosine_tf_idf': 0.9911316121804644, 'diff_minEdit': 1.0, 'diff_simple': 1.0, 'sing_LoughranMcDonald': -0.0006252894006933047, '0': {'type': '10-Q', 'published': datetime.date(2011, 11, 3), 'qtr': (2011, 4)}}\n",
      "[WARNING] Section 7a was found to be empty.\n",
      "[WARNING] Section 9a was found to be empty.\n",
      "[INFO] Comparing current qtr (2012, 1) to qtr (2011, 4) from 1 quarter ago.\n",
      "[INFO] No ToC found\n",
      "[INFO] Comparing current qtr (2011, 4) to qtr (2011, 3) from 1 quarter ago.\n",
      "[INFO] Found a ToC!\n",
      "[WARNING] Section 1a was found to be empty.\n",
      "{'diff_jaccard': 0.00475948524530067, 'diff_cosine_tf': 0.1764612119037888, 'diff_cosine_tf_idf': 0.12922663886725724, 'diff_minEdit': 0.8337571166993925, 'diff_simple': 0.46050108413997015, 'sing_LoughranMcDonald': -0.0002565522857380058, '0': {'type': '10-K', 'published': datetime.date(2011, 3, 16), 'qtr': (2011, 1)}}\n",
      "[WARNING] Section 3 was found to be empty.\n",
      "[INFO] Comparing current qtr (2011, 2) to qtr (2011, 1) from 1 quarter ago.\n",
      "[WARNING] Section 7 was found to be empty.\n",
      "[WARNING] Section 7a was found to be empty.\n",
      "[INFO] Found a ToC!\n",
      "[WARNING] Section 9a was found to be empty.\n",
      "{'diff_jaccard': 0.005806469916474294, 'diff_cosine_tf': 0.1734940652404449, 'diff_cosine_tf_idf': 0.12615129235468867, 'diff_minEdit': 0.8210816651957062, 'diff_simple': 0.4736476130287054, 'sing_LoughranMcDonald': -0.07870169344333479, '0': {'type': '10-Q', 'published': datetime.date(2011, 5, 9), 'qtr': (2011, 2)}}\n",
      "[INFO] Comparing current qtr (2011, 3) to qtr (2011, 2) from 1 quarter ago.\n",
      "[ERROR] Here is full_sect: |[]|\n",
      "[ERROR] Original res: {'_i_1': [], '_i_2': [], '_i_3': [], '_i_4': [], 'ii_1': [], 'ii_1a': [], 'ii_2': [], 'ii_3': [], 'ii_4': [], 'ii_5': [], 'ii_6': []}\n",
      "[WARNING] /home/alex/Desktop/filtered_text_data/nd_data/2010/QTR2/20100513_10-Q_edgar_data_311817_0000950159-10-000412_1.txt failed parsing\n"
     ]
    },
    {
     "name": "stderr",
     "output_type": "stream",
     "text": [
      "\n",
      " 19%|█▉        | 190/1000 [02:10<07:00,  1.93it/s]"
     ]
    },
    {
     "name": "stdout",
     "output_type": "stream",
     "text": [
      "{'diff_jaccard': 0.6143268172971142, 'diff_cosine_tf': 0.8757178740969906, 'diff_cosine_tf_idf': 0.7939085276064762, 'diff_minEdit': 0.8284935162709146, 'diff_simple': 0.9499550773696952, 'sing_LoughranMcDonald': -0.08267195767195767, '0': {'type': '10-Q', 'published': datetime.date(2011, 8, 9), 'qtr': (2011, 3)}}\n"
     ]
    },
    {
     "name": "stderr",
     "output_type": "stream",
     "text": [
      "\u001b[A\n",
      "\n",
      "190it [02:10,  1.93it/s]\u001b[A\u001b[A"
     ]
    },
    {
     "name": "stdout",
     "output_type": "stream",
     "text": [
      "[INFO] Comparing current qtr (2011, 4) to qtr (2011, 3) from 1 quarter ago.\n",
      "[INFO] Found a ToC!\n",
      "[INFO] Found a ToC!\n",
      "{'diff_jaccard': 0.01761684854988684, 'diff_cosine_tf': 0.3474736106990669, 'diff_cosine_tf_idf': 0.2634025595629308, 'diff_minEdit': 0.8032854377704399, 'diff_simple': 0.7823501492570951, 'sing_LoughranMcDonald': -0.0028715303557429383, '0': {'type': '10-Q', 'published': datetime.date(2011, 11, 9), 'qtr': (2011, 4)}}\n",
      "[INFO] Comparing current qtr (2012, 1) to qtr (2011, 4) from 1 quarter ago.\n",
      "{'diff_jaccard': 0.731670826984973, 'diff_cosine_tf': 0.9749981441378369, 'diff_cosine_tf_idf': 0.973257409518908, 'diff_minEdit': 0.8602794800770968, 'diff_simple': 0.8838789731051346, 'sing_LoughranMcDonald': -0.000266400752430548, '0': {'type': '10-K', 'published': datetime.date(2012, 2, 27), 'qtr': (2012, 1)}}\n",
      "[INFO] Comparing current qtr (2012, 2) to qtr (2012, 1) from 1 quarter ago.\n",
      "[INFO] Found a ToC!\n",
      "[INFO] Found a ToC!\n",
      "{'diff_jaccard': 0.9543191464976324, 'diff_cosine_tf': 0.9983138050902632, 'diff_cosine_tf_idf': 0.9978748101424972, 'diff_minEdit': 1.0, 'diff_simple': 1.0, 'sing_LoughranMcDonald': -0.000254885070979498, '0': {'type': '10-Q', 'published': datetime.date(2011, 11, 8), 'qtr': (2011, 4)}}\n",
      "[INFO] Comparing current qtr (2012, 1) to qtr (2011, 4) from 1 quarter ago.\n",
      "[INFO] Found a ToC!\n",
      "{'diff_jaccard': 0.024528082422474944, 'diff_cosine_tf': 0.24184457097785172, 'diff_cosine_tf_idf': 0.18772462532999218, 'diff_minEdit': 0.6522686659871314, 'diff_simple': 0.26616397502902045, 'sing_LoughranMcDonald': -0.00047077634547187155, '0': {'type': '10-K', 'published': datetime.date(2012, 3, 15), 'qtr': (2012, 1)}}\n",
      "[INFO] Comparing current qtr (2012, 2) to qtr (2012, 1) from 1 quarter ago.\n",
      "[INFO] Found a ToC!\n",
      "[INFO] Found a ToC!\n",
      "{'diff_jaccard': 0.025608605538877477, 'diff_cosine_tf': 0.25848016128065493, 'diff_cosine_tf_idf': 0.20187181465524862, 'diff_minEdit': 0.6970064694779715, 'diff_simple': 0.2560650908102341, 'sing_LoughranMcDonald': -0.0032901997980809743, '0': {'type': '10-Q', 'published': datetime.date(2012, 5, 10), 'qtr': (2012, 2)}}\n",
      "[INFO] Comparing current qtr (2012, 3) to qtr (2012, 2) from 1 quarter ago.\n",
      "{'diff_jaccard': 0.7525615699997011, 'diff_cosine_tf': 0.976728814831065, 'diff_cosine_tf_idf': 0.9746336540372436, 'diff_minEdit': 0.8854719511636016, 'diff_simple': 0.8830299149784823, 'sing_LoughranMcDonald': -0.0006633854589858325, '0': {'type': '10-Q', 'published': datetime.date(2012, 5, 2), 'qtr': (2012, 2)}}\n",
      "[INFO] Found a ToC!\n",
      "[INFO] Comparing current qtr (2012, 2) to qtr (2012, 1) from 1 quarter ago.\n",
      "[INFO] Comparing current qtr (2012, 3) to qtr (2012, 2) from 1 quarter ago.\n",
      "[INFO] Found a ToC!\n",
      "[INFO] Found a ToC!\n",
      "{'diff_jaccard': 0.7661796765766606, 'diff_cosine_tf': 0.9767450128747025, 'diff_cosine_tf_idf': 0.9715191699042912, 'diff_minEdit': 1.0000000000000002, 'diff_simple': 1.0000000000000002, 'sing_LoughranMcDonald': -0.002459553798549447, '0': {'type': '10-Q', 'published': datetime.date(2012, 8, 9), 'qtr': (2012, 3)}}\n",
      "[INFO] Comparing current qtr (2012, 4) to qtr (2012, 3) from 1 quarter ago.\n",
      "{'diff_jaccard': 0.8854663873087032, 'diff_cosine_tf': 0.9947121975486253, 'diff_cosine_tf_idf': 0.9934408558027834, 'diff_minEdit': 0.9933666181345184, 'diff_simple': 0.9933956391801799, 'sing_LoughranMcDonald': -0.00029709806599030717, '0': {'type': '10-K', 'published': datetime.date(2012, 3, 15), 'qtr': (2012, 1)}}\n",
      "[ERROR] Here is full_sect: |[]|\n",
      "[ERROR] Original res: {'_i_1': [], '_i_2': [], '_i_3': [], '_i_4': [], 'ii_1': [], 'ii_1a': [], 'ii_2': [], 'ii_3': [], 'ii_4': [], 'ii_5': [], 'ii_6': []}\n",
      "[INFO] Comparing current qtr (2012, 2) to qtr (2012, 1) from 1 quarter ago.\n",
      "[WARNING] /home/alex/Desktop/filtered_text_data/nd_data/2010/QTR2/20100505_10-Q_edgar_data_836106_0001193125-10-108851_1.txt failed parsing\n"
     ]
    },
    {
     "name": "stderr",
     "output_type": "stream",
     "text": [
      "\n",
      " 19%|█▉        | 191/1000 [02:11<08:04,  1.67it/s]\u001b[A\n",
      "\n",
      "191it [02:11,  1.67it/s]\u001b[A\u001b[A"
     ]
    },
    {
     "name": "stdout",
     "output_type": "stream",
     "text": [
      "[INFO] Found a ToC!\n",
      "[INFO] Found a ToC!\n",
      "{'diff_jaccard': 0.3709401728807184, 'diff_cosine_tf': 0.6811588461856849, 'diff_cosine_tf_idf': 0.6390963462007251, 'diff_minEdit': 0.6670364391167373, 'diff_simple': 0.5608910132318102, 'sing_LoughranMcDonald': -4.120559228722214e-05, '0': {'type': '10-Q', 'published': datetime.date(2012, 5, 14), 'qtr': (2012, 2)}}\n",
      "[INFO] Comparing current qtr (2012, 3) to qtr (2012, 2) from 1 quarter ago.\n",
      "{'diff_jaccard': 0.7876860881781378, 'diff_cosine_tf': 0.9873840191249453, 'diff_cosine_tf_idf': 0.9815289300746219, 'diff_minEdit': 0.9855864084764341, 'diff_simple': 0.963005115089514, 'sing_LoughranMcDonald': -0.0021440016271104725, '0': {'type': '10-Q', 'published': datetime.date(2012, 11, 9), 'qtr': (2012, 4)}}\n"
     ]
    },
    {
     "name": "stderr",
     "output_type": "stream",
     "text": [
      "\n",
      " 19%|█▉        | 192/1000 [02:11<06:13,  2.16it/s]\u001b[A\n",
      "\n",
      "192it [02:11,  2.17it/s]\u001b[A\u001b[A"
     ]
    },
    {
     "name": "stdout",
     "output_type": "stream",
     "text": [
      "{'diff_jaccard': 0.8383051802335196, 'diff_cosine_tf': 0.9383539669907472, 'diff_cosine_tf_idf': 0.9310513729446893, 'diff_minEdit': 0.9134810028028651, 'diff_simple': 0.9169417626907505, 'sing_LoughranMcDonald': -8.203231230918091e-05, '0': {'type': '10-Q', 'published': datetime.date(2012, 8, 13), 'qtr': (2012, 3)}}\n",
      "[INFO] Comparing current qtr (2012, 4) to qtr (2012, 3) from 1 quarter ago.\n",
      "{'diff_jaccard': 0.881194532766549, 'diff_cosine_tf': 0.9845373430528093, 'diff_cosine_tf_idf': 0.9843427527428716, 'diff_minEdit': 1.0, 'diff_simple': 1.0, 'sing_LoughranMcDonald': -0.0006027098272411064, '0': {'type': '10-Q', 'published': datetime.date(2012, 8, 1), 'qtr': (2012, 3)}}\n",
      "[INFO] Comparing current qtr (2012, 4) to qtr (2012, 3) from 1 quarter ago.\n",
      "[INFO] Found a ToC!\n",
      "{'diff_jaccard': 0.8470911306141887, 'diff_cosine_tf': 0.9580534805890575, 'diff_cosine_tf_idf': 0.9355814846507031, 'diff_minEdit': 0.9619753379619493, 'diff_simple': 0.9941061773841022, 'sing_LoughranMcDonald': -3.373832234351993e-05, '0': {'type': '10-Q', 'published': datetime.date(2012, 11, 13), 'qtr': (2012, 4)}}\n"
     ]
    },
    {
     "name": "stderr",
     "output_type": "stream",
     "text": [
      "\n",
      " 19%|█▉        | 193/1000 [02:12<05:33,  2.42it/s]\u001b[A\n",
      "\n",
      "193it [02:12,  2.43it/s]\u001b[A\u001b[A"
     ]
    },
    {
     "name": "stdout",
     "output_type": "stream",
     "text": [
      "{'diff_jaccard': 0.8631527692936543, 'diff_cosine_tf': 0.9946647833838183, 'diff_cosine_tf_idf': 0.9938463045889782, 'diff_minEdit': 0.9999999999999999, 'diff_simple': 0.9999999999999999, 'sing_LoughranMcDonald': -0.00026922650396632344, '0': {'type': '10-Q', 'published': datetime.date(2012, 5, 9), 'qtr': (2012, 2)}}\n",
      "[INFO] Comparing current qtr (2012, 3) to qtr (2012, 2) from 1 quarter ago.\n",
      "[INFO] Found a ToC!\n",
      "[WARNING] Section 7a was found to be empty.\n",
      "[WARNING] Section 9a was found to be empty.\n",
      "[INFO] Found a ToC!\n",
      "[INFO] Comparing current qtr (2012, 2) to qtr (2012, 1) from 1 quarter ago.\n",
      "[INFO] Found a ToC!\n",
      "[INFO] Found a ToC!\n",
      "[INFO] Comparing current qtr (2010, 2) to qtr (2010, 1) from 1 quarter ago.\n",
      "{'diff_jaccard': 0.8924651900400835, 'diff_cosine_tf': 0.9903642976719577, 'diff_cosine_tf_idf': 0.9902644750696653, 'diff_minEdit': 1.0, 'diff_simple': 1.0, 'sing_LoughranMcDonald': -0.000594753708826364, '0': {'type': '10-Q', 'published': datetime.date(2012, 10, 31), 'qtr': (2012, 4)}}\n"
     ]
    },
    {
     "name": "stderr",
     "output_type": "stream",
     "text": [
      "\n",
      " 19%|█▉        | 194/1000 [02:12<05:06,  2.63it/s]\u001b[A\n",
      "\n",
      "194it [02:12,  2.63it/s]\u001b[A\u001b[A"
     ]
    },
    {
     "name": "stdout",
     "output_type": "stream",
     "text": [
      "{'diff_jaccard': 0.004832962960424705, 'diff_cosine_tf': 0.07949246987416242, 'diff_cosine_tf_idf': 0.04673904597623091, 'diff_minEdit': 0.5289490598030387, 'diff_simple': 0.2465139213164581, 'sing_LoughranMcDonald': 0.0, '0': {'type': '10-Q', 'published': datetime.date(2010, 5, 17), 'qtr': (2010, 2)}}\n",
      "[INFO] Comparing current qtr (2010, 3) to qtr (2010, 2) from 1 quarter ago.\n",
      "[INFO] Found a ToC!\n",
      "{'diff_jaccard': 0.05250124073653486, 'diff_cosine_tf': 0.06699811353629759, 'diff_cosine_tf_idf': 0.051494794724033635, 'diff_minEdit': 0.6107843137254902, 'diff_simple': 0.24410506541370836, 'sing_LoughranMcDonald': 0.0024376739515578594, '0': {'type': '10-Q', 'published': datetime.date(2010, 8, 11), 'qtr': (2010, 3)}}\n",
      "[INFO] Comparing current qtr (2010, 4) to qtr (2010, 3) from 1 quarter ago.\n",
      "{'diff_jaccard': 0.9301101016251152, 'diff_cosine_tf': 0.9976691190830832, 'diff_cosine_tf_idf': 0.9972856619001981, 'diff_minEdit': 0.9584781841999193, 'diff_simple': 0.9937717276299878, 'sing_LoughranMcDonald': -0.0002497677474388244, '0': {'type': '10-Q', 'published': datetime.date(2012, 8, 9), 'qtr': (2012, 3)}}\n",
      "[INFO] Comparing current qtr (2012, 4) to qtr (2012, 3) from 1 quarter ago.\n",
      "{'diff_jaccard': 0.7677530447766615, 'diff_cosine_tf': 0.9772446574775591, 'diff_cosine_tf_idf': 0.9724596594766359, 'diff_minEdit': 0.7525419705013575, 'diff_simple': 0.5592174591816822, 'sing_LoughranMcDonald': -0.000525402453315828, '0': {'type': '10-Q', 'published': datetime.date(2012, 5, 8), 'qtr': (2012, 2)}}\n",
      "[INFO] No ToC found\n",
      "[INFO] Comparing current qtr (2012, 3) to qtr (2012, 2) from 1 quarter ago.\n",
      "[WARNING] Section 7a was found to be empty.\n",
      "{'diff_jaccard': 0.002453510087387325, 'diff_cosine_tf': 0.08090921709666823, 'diff_cosine_tf_idf': 0.046045064181189574, 'diff_minEdit': 0.6279874171719776, 'diff_simple': 0.21469695002551342, 'sing_LoughranMcDonald': -0.0004280518239974255, '0': {'type': '10-Q', 'published': datetime.date(2010, 11, 12), 'qtr': (2010, 4)}}\n",
      "[INFO] Comparing current qtr (2011, 1) to qtr (2010, 4) from 1 quarter ago.\n",
      "[INFO] Found a ToC!\n",
      "[ERROR] Here is full_sect: |[]|\n",
      "[ERROR] Original res: {'1': [], '1a': [], '1b': [], '2': [], '3': [], '4': [], '5': [], '6': [], '7': [], '7a': [], '8': [], '9': [], '9a': [], '9b': [], '10': [], '11': [], '12': [], '13': [], '14': [], '15': []}\n",
      "[WARNING] /home/alex/Desktop/filtered_text_data/nd_data/2010/QTR1/20100301_10-K_edgar_data_74260_0000074260-10-000018_1.txt failed parsing\n"
     ]
    },
    {
     "name": "stderr",
     "output_type": "stream",
     "text": [
      "\n",
      " 20%|█▉        | 195/1000 [02:12<05:09,  2.60it/s]\u001b[A\n",
      "\n",
      "195it [02:12,  2.59it/s]\u001b[A\u001b[A"
     ]
    },
    {
     "name": "stdout",
     "output_type": "stream",
     "text": [
      "{'diff_jaccard': 0.38418271115070574, 'diff_cosine_tf': 0.9343979364808357, 'diff_cosine_tf_idf': 0.9238095308758858, 'diff_minEdit': 0.9275174769197929, 'diff_simple': 0.9876345402025167, 'sing_LoughranMcDonald': -0.00010791124003964711, '0': {'type': '10-K', 'published': datetime.date(2011, 3, 31), 'qtr': (2011, 1)}}\n",
      "[INFO] Comparing current qtr (2011, 2) to qtr (2011, 1) from 1 quarter ago.\n",
      "[WARNING] Section ii_1a was found to be empty.\n",
      "{'diff_jaccard': 0.3830740334396319, 'diff_cosine_tf': 0.8200210783611079, 'diff_cosine_tf_idf': 0.8097656471533994, 'diff_minEdit': 0.885895375145201, 'diff_simple': 0.8727531841685883, 'sing_LoughranMcDonald': -0.0008812507310951904, '0': {'type': '10-Q', 'published': datetime.date(2011, 5, 13), 'qtr': (2011, 2)}}\n",
      "[INFO] Comparing current qtr (2011, 3) to qtr (2011, 2) from 1 quarter ago.\n",
      "{'diff_jaccard': 0.9371601878823732, 'diff_cosine_tf': 0.9980987142947599, 'diff_cosine_tf_idf': 0.997589412099068, 'diff_minEdit': 1.0, 'diff_simple': 1.0, 'sing_LoughranMcDonald': -0.00023235695508372751, '0': {'type': '10-Q', 'published': datetime.date(2012, 11, 14), 'qtr': (2012, 4)}}\n"
     ]
    },
    {
     "name": "stderr",
     "output_type": "stream",
     "text": [
      "\n",
      " 20%|█▉        | 196/1000 [02:13<04:50,  2.77it/s]\u001b[A\n",
      "\n",
      "196it [02:13,  2.78it/s]\u001b[A\u001b[A"
     ]
    },
    {
     "name": "stdout",
     "output_type": "stream",
     "text": [
      "{'diff_jaccard': 0.8919823481319027, 'diff_cosine_tf': 0.9884880234143537, 'diff_cosine_tf_idf': 0.9859561796428322, 'diff_minEdit': 1.0, 'diff_simple': 1.0, 'sing_LoughranMcDonald': -0.0004920613332505513, '0': {'type': '10-Q', 'published': datetime.date(2012, 8, 9), 'qtr': (2012, 3)}}\n",
      "[INFO] Comparing current qtr (2012, 4) to qtr (2012, 3) from 1 quarter ago.\n",
      "[INFO] Found a ToC!\n",
      "[INFO] Found a ToC!\n",
      "[WARNING] Section _i_3 was found to be empty.\n",
      "[WARNING] Section ii_1a was found to be empty.\n",
      "[INFO] Found a ToC!\n",
      "{'diff_jaccard': 0.5152978245450139, 'diff_cosine_tf': 0.9330867102957141, 'diff_cosine_tf_idf': 0.9107100380923876, 'diff_minEdit': 0.9483280623264424, 'diff_simple': 0.9040719492440604, 'sing_LoughranMcDonald': -0.000461931920677415, '0': {'type': '10-Q', 'published': datetime.date(2011, 8, 10), 'qtr': (2011, 3)}}\n",
      "[INFO] Comparing current qtr (2011, 4) to qtr (2011, 3) from 1 quarter ago.\n",
      "[INFO] Found a ToC!\n",
      "[INFO] No ToC found\n",
      "[WARNING] Section 1a was found to be empty.\n",
      "[INFO] Found a ToC!\n",
      "[INFO] Found a ToC!\n",
      "[WARNING] Section _i_2 was found to be empty.\n",
      "[INFO] Found a ToC!\n",
      "[WARNING] Section _i_3 was found to be empty.\n",
      "{'diff_jaccard': 0.5454506557833568, 'diff_cosine_tf': 0.9073539171802458, 'diff_cosine_tf_idf': 0.8917951182065782, 'diff_minEdit': 0.9995376601493872, 'diff_simple': 0.999118969775354, 'sing_LoughranMcDonald': -0.000316909954073023, '0': {'type': '10-Q', 'published': datetime.date(2011, 11, 10), 'qtr': (2011, 4)}}\n",
      "[WARNING] Section ii_1a was found to be empty.\n",
      "[INFO] Comparing current qtr (2012, 1) to qtr (2011, 4) from 1 quarter ago.\n",
      "[WARNING] Section _i_4 was found to be empty.\n",
      "[WARNING] Section ii_1 was found to be empty.\n",
      "[WARNING] Section ii_1a was found to be empty.\n",
      "{'diff_jaccard': 0.9277565743771314, 'diff_cosine_tf': 0.9928809509481978, 'diff_cosine_tf_idf': 0.9888814822703756, 'diff_minEdit': 0.9805513366249777, 'diff_simple': 0.9969854571768715, 'sing_LoughranMcDonald': -0.00048418711033179976, '0': {'type': '10-Q', 'published': datetime.date(2012, 11, 8), 'qtr': (2012, 4)}}\n"
     ]
    },
    {
     "name": "stderr",
     "output_type": "stream",
     "text": [
      "\n",
      " 20%|█▉        | 197/1000 [02:13<05:09,  2.59it/s]\u001b[A\n",
      "\n",
      "197it [02:13,  2.60it/s]\u001b[A\u001b[A"
     ]
    },
    {
     "name": "stdout",
     "output_type": "stream",
     "text": [
      "[INFO] Found a ToC!\n",
      "[INFO] Found a ToC!\n",
      "[WARNING] Section _i_4 was found to be empty.\n",
      "[WARNING] Section ii_1a was found to be empty.\n",
      "{'diff_jaccard': 0.38017743175970714, 'diff_cosine_tf': 0.8902932497087847, 'diff_cosine_tf_idf': 0.8770807950514744, 'diff_minEdit': 0.8011596821044855, 'diff_simple': 0.7845490224779071, 'sing_LoughranMcDonald': -0.0003343254196932098, '0': {'type': '10-K', 'published': datetime.date(2012, 3, 30), 'qtr': (2012, 1)}}\n",
      "[INFO] Comparing current qtr (2012, 2) to qtr (2012, 1) from 1 quarter ago.\n",
      "[INFO] Found a ToC!\n",
      "[WARNING] Section _i_4 was found to be empty.\n",
      "[WARNING] Section ii_1a was found to be empty.\n",
      "{'diff_jaccard': 0.37682884657410826, 'diff_cosine_tf': 0.8514393137719154, 'diff_cosine_tf_idf': 0.8443847989382203, 'diff_minEdit': 0.7315799008384626, 'diff_simple': 0.7558890335216105, 'sing_LoughranMcDonald': -0.0004776712796725764, '0': {'type': '10-Q', 'published': datetime.date(2012, 5, 9), 'qtr': (2012, 2)}}\n"
     ]
    },
    {
     "name": "stderr",
     "output_type": "stream",
     "text": [
      "\n",
      " 20%|█▉        | 198/1000 [02:14<05:52,  2.28it/s]\u001b[A\n",
      "\n",
      "198it [02:14,  2.28it/s]\u001b[A\u001b[A"
     ]
    },
    {
     "name": "stdout",
     "output_type": "stream",
     "text": [
      "[INFO] Found a ToC!\n",
      "[WARNING] Section _i_3 was found to be empty.\n",
      "[WARNING] Section ii_1 was found to be empty.\n",
      "[INFO] Found a ToC!\n",
      "[INFO] Found a ToC!\n",
      "[INFO] Found a ToC!\n",
      "[INFO] Found a ToC!\n",
      "[INFO] Found a ToC!\n",
      "[WARNING] Section _i_3 was found to be empty.\n",
      "[WARNING] Section ii_1a was found to be empty.\n",
      "[INFO] Found a ToC!\n",
      "[WARNING] Section ii_1 was found to be empty.\n",
      "[WARNING] Section ii_1a was found to be empty.\n",
      "[INFO] Found a ToC!\n",
      "[INFO] No ToC found\n",
      "[INFO] Found a ToC!\n",
      "[INFO] Comparing current qtr (2010, 2) to qtr (2010, 1) from 1 quarter ago.\n",
      "[WARNING] Section _i_4 was found to be empty.\n",
      "[WARNING] Section ii_1 was found to be empty.\n",
      "[WARNING] Section ii_1a was found to be empty.\n",
      "[INFO] Found a ToC!\n",
      "[INFO] Found a ToC!\n",
      "[WARNING] Section _i_3 was found to be empty.\n",
      "[WARNING] Section ii_1a was found to be empty.\n",
      "[INFO] Found a ToC!\n",
      "[WARNING] Section ii_1a was found to be empty.\n",
      "[INFO] Found a ToC!\n",
      "[INFO] Found a ToC!\n",
      "{'diff_jaccard': 0.37737814968193595, 'diff_cosine_tf': 0.8829060698282516, 'diff_cosine_tf_idf': 0.8558622099737847, 'diff_minEdit': 0.8822459352935299, 'diff_simple': 0.892197962154294, 'sing_LoughranMcDonald': -0.002437327618221363, '0': {'type': '10-Q', 'published': datetime.date(2010, 5, 7), 'qtr': (2010, 2)}}\n",
      "[INFO] Comparing current qtr (2010, 3) to qtr (2010, 2) from 1 quarter ago.\n",
      "[INFO] Found a ToC!\n",
      "[INFO] Found a ToC!\n",
      "[WARNING] Section ii_1 was found to be empty.\n",
      "[WARNING] Section ii_1a was found to be empty.\n",
      "[INFO] No ToC found\n",
      "{'diff_jaccard': 0.6189019394306713, 'diff_cosine_tf': 0.9643705896639252, 'diff_cosine_tf_idf': 0.9571336241953904, 'diff_minEdit': 0.9955444474616095, 'diff_simple': 0.9923067459503793, 'sing_LoughranMcDonald': -0.002119498178390382, '0': {'type': '10-Q', 'published': datetime.date(2010, 8, 6), 'qtr': (2010, 3)}}\n",
      "[INFO] Comparing current qtr (2010, 4) to qtr (2010, 3) from 1 quarter ago.\n",
      "[INFO] No ToC found\n",
      "[INFO] Found a ToC!\n",
      "{'diff_jaccard': 0.6608647802775707, 'diff_cosine_tf': 0.9798357021253424, 'diff_cosine_tf_idf': 0.971257332510936, 'diff_minEdit': 0.9895433808389519, 'diff_simple': 0.98680225281602, 'sing_LoughranMcDonald': -0.0016710162817322233, '0': {'type': '10-Q', 'published': datetime.date(2010, 11, 5), 'qtr': (2010, 4)}}\n",
      "[INFO] Comparing current qtr (2011, 1) to qtr (2010, 4) from 1 quarter ago.\n",
      "[INFO] Found a ToC!\n",
      "[INFO] Found a ToC!\n",
      "[WARNING] Section ii_1 was found to be empty.\n",
      "[INFO] Found a ToC!\n",
      "[WARNING] Section _i_4 was found to be empty.\n",
      "[WARNING] Section ii_1a was found to be empty.\n",
      "[INFO] No ToC found\n",
      "[WARNING] Section 1a was found to be empty.\n",
      "[WARNING] Section 3 was found to be empty.\n",
      "[WARNING] Section 7 was found to be empty.\n",
      "[WARNING] Section 7a was found to be empty.\n",
      "[WARNING] Section 9a was found to be empty.\n",
      "[WARNING] Section ii_1a was found to be empty.\n",
      "{'diff_jaccard': 0.35636572292860613, 'diff_cosine_tf': 0.8421683044710951, 'diff_cosine_tf_idf': 0.8143476370219777, 'diff_minEdit': 0.8004218130290026, 'diff_simple': 0.818554148446817, 'sing_LoughranMcDonald': -0.0010364780094008243, '0': {'type': '10-K', 'published': datetime.date(2011, 3, 1), 'qtr': (2011, 1)}}\n",
      "[INFO] No ToC found\n",
      "[INFO] Comparing current qtr (2011, 2) to qtr (2011, 1) from 1 quarter ago.\n",
      "[WARNING] Section _i_3 was found to be empty.\n",
      "[WARNING] Section ii_1a was found to be empty.\n",
      "[WARNING] Section _i_4 was found to be empty.\n",
      "[INFO] Comparing current qtr (2011, 4) to qtr (2011, 3) from 1 quarter ago.\n",
      "[WARNING] Section ii_1a was found to be empty.\n",
      "[INFO] Found a ToC!\n",
      "{'diff_jaccard': 0.1102337736800477, 'diff_cosine_tf': 0.1660145341863764, 'diff_cosine_tf_idf': 0.14454753644074292, 'diff_minEdit': 0.4674383186110265, 'diff_simple': 0.3698697662954894, 'sing_LoughranMcDonald': -0.013642673012095975, '0': {'type': '10-Q', 'published': datetime.date(2011, 11, 14), 'qtr': (2011, 4)}}\n",
      "[INFO] Comparing current qtr (2012, 1) to qtr (2011, 4) from 1 quarter ago.\n",
      "[INFO] Found a ToC!\n",
      "{'diff_jaccard': 0.38041655608508035, 'diff_cosine_tf': 0.8388770216868625, 'diff_cosine_tf_idf': 0.8145866308250179, 'diff_minEdit': 0.7809175027187399, 'diff_simple': 0.7995498465385926, 'sing_LoughranMcDonald': -0.0018961564032533014, '0': {'type': '10-Q', 'published': datetime.date(2011, 5, 6), 'qtr': (2011, 2)}}\n",
      "[INFO] Comparing current qtr (2011, 3) to qtr (2011, 2) from 1 quarter ago.\n",
      "[INFO] Found a ToC!\n",
      "[WARNING] Section ii_1 was found to be empty.\n",
      "[WARNING] Section ii_1a was found to be empty.\n",
      "[WARNING] Section ii_1a was found to be empty.\n",
      "[INFO] Comparing current qtr (2010, 2) to qtr (2010, 1) from 1 quarter ago.\n",
      "{'diff_jaccard': 0.05432403822268, 'diff_cosine_tf': 0.12107638518975944, 'diff_cosine_tf_idf': 0.09702124483544845, 'diff_minEdit': 0.6301300471409647, 'diff_simple': 0.23144256872734592, 'sing_LoughranMcDonald': -0.00016277593325333625, '0': {'type': '10-K', 'published': datetime.date(2012, 3, 30), 'qtr': (2012, 1)}}\n",
      "[INFO] Comparing current qtr (2012, 2) to qtr (2012, 1) from 1 quarter ago.\n",
      "[INFO] Found a ToC!\n",
      "{'diff_jaccard': 0.7197903629242759, 'diff_cosine_tf': 0.9807675063366542, 'diff_cosine_tf_idf': 0.9757510627461756, 'diff_minEdit': 1.0, 'diff_simple': 1.0, 'sing_LoughranMcDonald': -0.0015462538821892592, '0': {'type': '10-Q', 'published': datetime.date(2011, 8, 5), 'qtr': (2011, 3)}}\n",
      "[INFO] Comparing current qtr (2011, 4) to qtr (2011, 3) from 1 quarter ago.\n",
      "{'diff_jaccard': 0.19997646906120548, 'diff_cosine_tf': 0.8463446437533991, 'diff_cosine_tf_idf': 0.8310496548413969, 'diff_minEdit': 0.764783153460293, 'diff_simple': 0.6072075120971868, 'sing_LoughranMcDonald': -0.0006830399429781537, '0': {'type': '10-Q', 'published': datetime.date(2010, 4, 14), 'qtr': (2010, 2)}}\n",
      "[INFO] Comparing current qtr (2010, 3) to qtr (2010, 2) from 1 quarter ago.\n",
      "{'diff_jaccard': 0.5780905351668575, 'diff_cosine_tf': 0.9617867090020236, 'diff_cosine_tf_idf': 0.9558334793205773, 'diff_minEdit': 0.8128338546643376, 'diff_simple': 0.7932269708273734, 'sing_LoughranMcDonald': -0.0006840735698290848, '0': {'type': '10-Q', 'published': datetime.date(2012, 5, 15), 'qtr': (2012, 2)}}\n",
      "[INFO] Comparing current qtr (2012, 3) to qtr (2012, 2) from 1 quarter ago.\n",
      "[INFO] Found a ToC!\n",
      "[INFO] Comparing current qtr (2010, 2) to qtr (2010, 1) from 1 quarter ago.\n",
      "{'diff_jaccard': 0.7885341180373484, 'diff_cosine_tf': 0.9907933476386218, 'diff_cosine_tf_idf': 0.9876637780015943, 'diff_minEdit': 1.0, 'diff_simple': 1.0, 'sing_LoughranMcDonald': -0.0014990944221381706, '0': {'type': '10-Q', 'published': datetime.date(2011, 11, 4), 'qtr': (2011, 4)}}\n",
      "{'diff_jaccard': 0.5100161076384547, 'diff_cosine_tf': 0.8982631687090884, 'diff_cosine_tf_idf': 0.8824160701622747, 'diff_minEdit': 0.9754635438449742, 'diff_simple': 0.9517699430540524, 'sing_LoughranMcDonald': -0.0018318748044134296, '0': {'type': '10-Q', 'published': datetime.date(2010, 7, 14), 'qtr': (2010, 3)}}\n",
      "[INFO] Comparing current qtr (2010, 4) to qtr (2010, 3) from 1 quarter ago.\n",
      "[INFO] Comparing current qtr (2012, 1) to qtr (2011, 4) from 1 quarter ago.\n",
      "{'diff_jaccard': 0.811014915267112, 'diff_cosine_tf': 0.9822700158300085, 'diff_cosine_tf_idf': 0.9791811610187964, 'diff_minEdit': 0.9999999999999999, 'diff_simple': 0.9999999999999999, 'sing_LoughranMcDonald': -0.0005987264218435803, '0': {'type': '10-Q', 'published': datetime.date(2012, 8, 14), 'qtr': (2012, 3)}}\n",
      "[INFO] Comparing current qtr (2012, 4) to qtr (2012, 3) from 1 quarter ago.\n",
      "{'diff_jaccard': 0.5702859489931401, 'diff_cosine_tf': 0.9719979434270388, 'diff_cosine_tf_idf': 0.96544985540732, 'diff_minEdit': 0.9999999999999999, 'diff_simple': 0.9999999999999999, 'sing_LoughranMcDonald': -0.001349420252863424, '0': {'type': '10-Q', 'published': datetime.date(2010, 10, 15), 'qtr': (2010, 4)}}\n",
      "[INFO] Comparing current qtr (2011, 1) to qtr (2010, 4) from 1 quarter ago.\n",
      "{'diff_jaccard': 0.23466589488645545, 'diff_cosine_tf': 0.7743408394976291, 'diff_cosine_tf_idf': 0.7472100649012757, 'diff_minEdit': 0.7474900583982202, 'diff_simple': 0.7031008928571428, 'sing_LoughranMcDonald': -0.002593659793135382, '0': {'type': '10-Q', 'published': datetime.date(2010, 5, 4), 'qtr': (2010, 2)}}\n",
      "[INFO] Comparing current qtr (2010, 3) to qtr (2010, 2) from 1 quarter ago.\n",
      "[INFO] No ToC found\n",
      "[WARNING] Section _i_4 was found to be empty.\n"
     ]
    },
    {
     "name": "stdout",
     "output_type": "stream",
     "text": [
      "[INFO] Found a ToC!\n",
      "[WARNING] Section ii_1 was found to be empty.\n",
      "{'diff_jaccard': 0.030734774336282925, 'diff_cosine_tf': 0.6867641798757468, 'diff_cosine_tf_idf': 0.6325980516465711, 'diff_minEdit': 0.8096641262920657, 'diff_simple': 0.36583274603939997, 'sing_LoughranMcDonald': -6.42179550404575e-05, '0': {'type': '10-Q', 'published': datetime.date(2012, 11, 14), 'qtr': (2012, 4)}}\n"
     ]
    },
    {
     "name": "stderr",
     "output_type": "stream",
     "text": [
      "\n",
      " 20%|█▉        | 199/1000 [02:16<14:27,  1.08s/it]\u001b[A\n",
      "\n",
      "199it [02:16,  1.08s/it]\u001b[A\u001b[A"
     ]
    },
    {
     "name": "stdout",
     "output_type": "stream",
     "text": [
      "[WARNING] Section ii_1a was found to be empty.\n",
      "{'diff_jaccard': 0.38541867456495615, 'diff_cosine_tf': 0.8451471970633715, 'diff_cosine_tf_idf': 0.8233781442874055, 'diff_minEdit': 0.8010223512031206, 'diff_simple': 0.8620709109479111, 'sing_LoughranMcDonald': -0.0010007095044727247, '0': {'type': '10-K', 'published': datetime.date(2012, 2, 29), 'qtr': (2012, 1)}}\n",
      "{'diff_jaccard': 0.708516300619878, 'diff_cosine_tf': 0.9710186001435832, 'diff_cosine_tf_idf': 0.9650517443766499, 'diff_minEdit': 1.0, 'diff_simple': 1.0, 'sing_LoughranMcDonald': -0.0018831795075665819, '0': {'type': '10-Q', 'published': datetime.date(2010, 7, 27), 'qtr': (2010, 3)}}\n",
      "[INFO] Comparing current qtr (2010, 4) to qtr (2010, 3) from 1 quarter ago.\n",
      "[INFO] Comparing current qtr (2012, 2) to qtr (2012, 1) from 1 quarter ago.\n",
      "{'diff_jaccard': 0.27763480629709286, 'diff_cosine_tf': 0.8248421287425409, 'diff_cosine_tf_idf': 0.8127542226292983, 'diff_minEdit': 0.7553026798930728, 'diff_simple': 0.5626389161620338, 'sing_LoughranMcDonald': -0.0008940085203128391, '0': {'type': '10-K', 'published': datetime.date(2011, 2, 28), 'qtr': (2011, 1)}}\n",
      "[INFO] Comparing current qtr (2011, 2) to qtr (2011, 1) from 1 quarter ago.\n",
      "[INFO] Found a ToC!\n",
      "{'diff_jaccard': 0.730869575245509, 'diff_cosine_tf': 0.9743938312017929, 'diff_cosine_tf_idf': 0.9627215824503657, 'diff_minEdit': 1.0, 'diff_simple': 1.0, 'sing_LoughranMcDonald': -0.00180589405498352, '0': {'type': '10-Q', 'published': datetime.date(2010, 10, 19), 'qtr': (2010, 4)}}\n",
      "[INFO] Comparing current qtr (2011, 1) to qtr (2010, 4) from 1 quarter ago.\n",
      "{'diff_jaccard': 0.19386255098855104, 'diff_cosine_tf': 0.7475144332005571, 'diff_cosine_tf_idf': 0.7308688783555829, 'diff_minEdit': 0.7542264064126498, 'diff_simple': 0.7361139620514707, 'sing_LoughranMcDonald': -0.00037646923050090356, '0': {'type': '10-Q', 'published': datetime.date(2011, 4, 14), 'qtr': (2011, 2)}}\n",
      "[INFO] Comparing current qtr (2011, 3) to qtr (2011, 2) from 1 quarter ago.\n",
      "{'diff_jaccard': 0.3838484486145635, 'diff_cosine_tf': 0.833293237639609, 'diff_cosine_tf_idf': 0.8094663459728176, 'diff_minEdit': 0.7993297005703215, 'diff_simple': 0.8439222459834401, 'sing_LoughranMcDonald': -0.0020794275508105066, '0': {'type': '10-Q', 'published': datetime.date(2012, 5, 4), 'qtr': (2012, 2)}}\n",
      "[INFO] Comparing current qtr (2012, 3) to qtr (2012, 2) from 1 quarter ago.\n",
      "{'diff_jaccard': 0.43104856301555894, 'diff_cosine_tf': 0.8781197422033027, 'diff_cosine_tf_idf': 0.8659977924655962, 'diff_minEdit': 0.8630563942003057, 'diff_simple': 0.6568832427255571, 'sing_LoughranMcDonald': -0.0007299263290561169, '0': {'type': '10-Q', 'published': datetime.date(2011, 7, 15), 'qtr': (2011, 3)}}\n",
      "[INFO] Comparing current qtr (2011, 4) to qtr (2011, 3) from 1 quarter ago.\n",
      "[INFO] Found a ToC!\n",
      "{'diff_jaccard': 0.6974069757475986, 'diff_cosine_tf': 0.9799944068100666, 'diff_cosine_tf_idf': 0.9778381520247229, 'diff_minEdit': 0.9999999999999999, 'diff_simple': 0.9999999999999999, 'sing_LoughranMcDonald': -0.0013967308943240108, '0': {'type': '10-Q', 'published': datetime.date(2012, 8, 10), 'qtr': (2012, 3)}}\n",
      "[INFO] Comparing current qtr (2012, 4) to qtr (2012, 3) from 1 quarter ago.\n",
      "{'diff_jaccard': 0.6356884862102352, 'diff_cosine_tf': 0.9689902251609168, 'diff_cosine_tf_idf': 0.956062877625273, 'diff_minEdit': 0.9810060780550224, 'diff_simple': 0.9670772019620388, 'sing_LoughranMcDonald': -0.003260191823146442, '0': {'type': '10-Q', 'published': datetime.date(2011, 10, 14), 'qtr': (2011, 4)}}\n",
      "[INFO] Comparing current qtr (2012, 1) to qtr (2011, 4) from 1 quarter ago.\n",
      "{'diff_jaccard': 0.27291971962542794, 'diff_cosine_tf': 0.782957737864397, 'diff_cosine_tf_idf': 0.755031853880538, 'diff_minEdit': 0.7573743823162717, 'diff_simple': 0.6961259946949602, 'sing_LoughranMcDonald': -0.0005405413737772668, '0': {'type': '10-K', 'published': datetime.date(2011, 3, 1), 'qtr': (2011, 1)}}\n",
      "[INFO] Comparing current qtr (2011, 2) to qtr (2011, 1) from 1 quarter ago.\n",
      "{'diff_jaccard': 0.004662856551576043, 'diff_cosine_tf': 0.08637122807307991, 'diff_cosine_tf_idf': 0.0501860807551256, 'diff_minEdit': 0.4956585879873552, 'diff_simple': 0.24725745863464152, 'sing_LoughranMcDonald': 0.0, '0': {'type': '10-K', 'published': datetime.date(2012, 2, 28), 'qtr': (2012, 1)}}\n",
      "[INFO] Found a ToC!\n",
      "[INFO] Comparing current qtr (2012, 2) to qtr (2012, 1) from 1 quarter ago.\n",
      "[WARNING] Section _i_2 was found to be empty.\n",
      "[WARNING] Section _i_3 was found to be empty.\n",
      "[WARNING] Section _i_4 was found to be empty.\n",
      "[WARNING] Section ii_1 was found to be empty.\n",
      "{'diff_jaccard': 0.7410633764728771, 'diff_cosine_tf': 0.9887159962646663, 'diff_cosine_tf_idf': 0.9861753133281874, 'diff_minEdit': 0.9999999999999999, 'diff_simple': 0.9999999999999999, 'sing_LoughranMcDonald': -0.0012678412034307996, '0': {'type': '10-Q', 'published': datetime.date(2012, 11, 7), 'qtr': (2012, 4)}}\n",
      "[WARNING] Section ii_1a was found to be empty.\n"
     ]
    },
    {
     "name": "stderr",
     "output_type": "stream",
     "text": [
      "\n",
      " 20%|██        | 200/1000 [02:17<12:55,  1.03it/s]\u001b[A\n",
      "\n",
      "200it [02:17,  1.03it/s]\u001b[A\u001b[A"
     ]
    },
    {
     "name": "stdout",
     "output_type": "stream",
     "text": [
      "{'diff_jaccard': 0.005396111588491744, 'diff_cosine_tf': 0.06747434728800929, 'diff_cosine_tf_idf': 0.03937070218851281, 'diff_minEdit': 0.6342436359468718, 'diff_simple': 0.20004691341151004, 'sing_LoughranMcDonald': -0.004056213426724278, '0': {'type': '10-Q', 'published': datetime.date(2012, 4, 12), 'qtr': (2012, 2)}}\n",
      "[INFO] Comparing current qtr (2012, 3) to qtr (2012, 2) from 1 quarter ago.\n",
      "[INFO] Found a ToC!\n",
      "[INFO] Found a ToC!\n",
      "[INFO] Comparing current qtr (2010, 2) to qtr (2010, 1) from 1 quarter ago.\n",
      "{'diff_jaccard': 0.2714867720099481, 'diff_cosine_tf': 0.7761152411475658, 'diff_cosine_tf_idf': 0.7471841114086012, 'diff_minEdit': 0.7602921109871198, 'diff_simple': 0.6874436435425372, 'sing_LoughranMcDonald': -0.002234744255249805, '0': {'type': '10-Q', 'published': datetime.date(2011, 5, 5), 'qtr': (2011, 2)}}\n",
      "[INFO] Comparing current qtr (2011, 3) to qtr (2011, 2) from 1 quarter ago.\n",
      "{'diff_jaccard': 0.5636834992025799, 'diff_cosine_tf': 0.9098084793782863, 'diff_cosine_tf_idf': 0.8994439407939122, 'diff_minEdit': 0.776209098581547, 'diff_simple': 0.818558318626096, 'sing_LoughranMcDonald': -0.004254854193390574, '0': {'type': '10-Q', 'published': datetime.date(2012, 7, 16), 'qtr': (2012, 3)}}\n",
      "[INFO] Comparing current qtr (2012, 4) to qtr (2012, 3) from 1 quarter ago.\n",
      "[INFO] Found a ToC!\n",
      "{'diff_jaccard': 0.7300177940927494, 'diff_cosine_tf': 0.9717686163325782, 'diff_cosine_tf_idf': 0.9709271445729729, 'diff_minEdit': 1.0, 'diff_simple': 1.0, 'sing_LoughranMcDonald': -0.0018150583351239492, '0': {'type': '10-Q', 'published': datetime.date(2011, 7, 26), 'qtr': (2011, 3)}}\n",
      "[INFO] Comparing current qtr (2011, 4) to qtr (2011, 3) from 1 quarter ago.\n",
      "[WARNING] Section ii_1a was found to be empty.\n",
      "[INFO] Found a ToC!\n",
      "[INFO] No ToC found\n",
      "{'diff_jaccard': 0.5387267706854919, 'diff_cosine_tf': 0.8816534320270261, 'diff_cosine_tf_idf': 0.8709334146955444, 'diff_minEdit': 0.7960928315150545, 'diff_simple': 0.771599836952494, 'sing_LoughranMcDonald': -0.0006462173594679605, '0': {'type': '10-Q', 'published': datetime.date(2012, 10, 15), 'qtr': (2012, 4)}}\n"
     ]
    },
    {
     "name": "stderr",
     "output_type": "stream",
     "text": [
      "\n",
      " 20%|██        | 201/1000 [02:17<10:27,  1.27it/s]\u001b[A"
     ]
    },
    {
     "name": "stdout",
     "output_type": "stream",
     "text": [
      "[WARNING] Section ii_1 was found to be empty.\n"
     ]
    },
    {
     "name": "stderr",
     "output_type": "stream",
     "text": [
      "\n",
      "\n",
      "201it [02:17,  1.26it/s]\u001b[A\u001b[A"
     ]
    },
    {
     "name": "stdout",
     "output_type": "stream",
     "text": [
      "{'diff_jaccard': 0.719537460038909, 'diff_cosine_tf': 0.9727696358288612, 'diff_cosine_tf_idf': 0.9721996521403923, 'diff_minEdit': 1.0, 'diff_simple': 1.0, 'sing_LoughranMcDonald': -0.0017982633388331918, '0': {'type': '10-Q', 'published': datetime.date(2011, 10, 18), 'qtr': (2011, 4)}}\n",
      "[INFO] Comparing current qtr (2012, 1) to qtr (2011, 4) from 1 quarter ago.\n",
      "[INFO] Found a ToC!\n",
      "[WARNING] Section ii_1a was found to be empty.\n",
      "[INFO] No ToC found\n",
      "[WARNING] Section ii_1 was found to be empty.\n",
      "{'diff_jaccard': 0.7146242096237331, 'diff_cosine_tf': 0.9750686605142194, 'diff_cosine_tf_idf': 0.9718644534336238, 'diff_minEdit': 0.8345238693556243, 'diff_simple': 0.5894950935370039, 'sing_LoughranMcDonald': -0.00034098880443085116, '0': {'type': '10-Q', 'published': datetime.date(2010, 5, 6), 'qtr': (2010, 2)}}\n",
      "[INFO] Comparing current qtr (2010, 3) to qtr (2010, 2) from 1 quarter ago.\n",
      "[INFO] No ToC found\n",
      "[WARNING] Section ii_1 was found to be empty.\n",
      "[INFO] No ToC found\n",
      "[INFO] Found a ToC!\n",
      "[WARNING] Section ii_1a was found to be empty.\n",
      "{'diff_jaccard': 0.29180371430912777, 'diff_cosine_tf': 0.7691372443535189, 'diff_cosine_tf_idf': 0.7419444590577866, 'diff_minEdit': 0.6850068621603177, 'diff_simple': 0.7034600414078674, 'sing_LoughranMcDonald': -0.0005542067560275225, '0': {'type': '10-K', 'published': datetime.date(2012, 2, 28), 'qtr': (2012, 1)}}\n",
      "[INFO] No ToC found\n",
      "[INFO] Comparing current qtr (2012, 2) to qtr (2012, 1) from 1 quarter ago.\n",
      "{'diff_jaccard': 0.9089119743091618, 'diff_cosine_tf': 0.991767703616536, 'diff_cosine_tf_idf': 0.9887266995463483, 'diff_minEdit': 0.9963881845014347, 'diff_simple': 0.9837280293562369, 'sing_LoughranMcDonald': -0.0006050326377289429, '0': {'type': '10-Q', 'published': datetime.date(2010, 8, 6), 'qtr': (2010, 3)}}\n",
      "[INFO] Comparing current qtr (2010, 4) to qtr (2010, 3) from 1 quarter ago.\n",
      "[INFO] No ToC found\n",
      "{'diff_jaccard': 0.2638953835407237, 'diff_cosine_tf': 0.7036983730254586, 'diff_cosine_tf_idf': 0.692303001832574, 'diff_minEdit': 0.701472910480999, 'diff_simple': 0.6617714645471001, 'sing_LoughranMcDonald': -0.0007594732850952177, '0': {'type': '10-Q', 'published': datetime.date(2012, 5, 1), 'qtr': (2012, 2)}}\n",
      "[INFO] Comparing current qtr (2012, 3) to qtr (2012, 2) from 1 quarter ago.\n",
      "[INFO] No ToC found\n",
      "{'diff_jaccard': 0.6931661431789655, 'diff_cosine_tf': 0.8888456928914543, 'diff_cosine_tf_idf': 0.8834589334510387, 'diff_minEdit': 0.9573181504264171, 'diff_simple': 0.9411902759692236, 'sing_LoughranMcDonald': -0.0008048911543878559, '0': {'type': '10-Q', 'published': datetime.date(2012, 7, 24), 'qtr': (2012, 3)}}\n",
      "[INFO] Comparing current qtr (2012, 4) to qtr (2012, 3) from 1 quarter ago.\n",
      "{'diff_jaccard': 0.8204354381580251, 'diff_cosine_tf': 0.9671105881015667, 'diff_cosine_tf_idf': 0.9642508851236784, 'diff_minEdit': 0.9531881007693047, 'diff_simple': 0.9737181230327403, 'sing_LoughranMcDonald': -0.0003704178878761196, '0': {'type': '10-Q', 'published': datetime.date(2010, 11, 5), 'qtr': (2010, 4)}}\n",
      "[INFO] Comparing current qtr (2011, 1) to qtr (2010, 4) from 1 quarter ago.\n",
      "[INFO] Found a ToC!\n",
      "{'diff_jaccard': 0.8105461038599476, 'diff_cosine_tf': 0.9751479079369251, 'diff_cosine_tf_idf': 0.9701172045893255, 'diff_minEdit': 0.9904865907827125, 'diff_simple': 0.9986205556634933, 'sing_LoughranMcDonald': -0.0007674928967852218, '0': {'type': '10-Q', 'published': datetime.date(2012, 10, 16), 'qtr': (2012, 4)}}\n"
     ]
    },
    {
     "name": "stderr",
     "output_type": "stream",
     "text": [
      "\n",
      " 20%|██        | 202/1000 [02:18<11:09,  1.19it/s]\u001b[A\n",
      "\n",
      "202it [02:18,  1.20it/s]\u001b[A\u001b[A"
     ]
    },
    {
     "name": "stdout",
     "output_type": "stream",
     "text": [
      "[INFO] No ToC found\n",
      "[WARNING] Section _i_4 was found to be empty.\n",
      "[WARNING] Section ii_1 was found to be empty.\n",
      "[WARNING] Section ii_1a was found to be empty.\n",
      "[INFO] No ToC found\n",
      "[INFO] No ToC found\n",
      "[INFO] Found a ToC!\n",
      "{'diff_jaccard': 0.6604983481241548, 'diff_cosine_tf': 0.9545684785748427, 'diff_cosine_tf_idf': 0.9508768221345113, 'diff_minEdit': 0.7861415842671297, 'diff_simple': 0.6143302116943417, 'sing_LoughranMcDonald': -0.000551408118140459, '0': {'type': '10-K', 'published': datetime.date(2011, 2, 10), 'qtr': (2011, 1)}}\n",
      "[INFO] Comparing current qtr (2011, 2) to qtr (2011, 1) from 1 quarter ago.\n",
      "[INFO] Found a ToC!\n",
      "[WARNING] Section _i_4 was found to be empty.\n",
      "[WARNING] Section ii_1 was found to be empty.\n",
      "[WARNING] Section ii_1a was found to be empty.\n",
      "[INFO] No ToC found\n",
      "[INFO] Found a ToC!\n",
      "[INFO] No ToC found\n",
      "[INFO] Found a ToC!\n",
      "[WARNING] Section _i_4 was found to be empty.\n",
      "[WARNING] Section ii_1 was found to be empty.\n",
      "[INFO] No ToC found\n",
      "[WARNING] Section _i_4 was found to be empty.\n",
      "[WARNING] Section ii_1a was found to be empty.\n",
      "[WARNING] Section ii_1 was found to be empty.\n",
      "[WARNING] Section ii_1a was found to be empty.\n",
      "[INFO] Comparing current qtr (2010, 2) to qtr (2010, 1) from 1 quarter ago.\n",
      "[INFO] Found a ToC!\n",
      "[INFO] No ToC found\n",
      "{'diff_jaccard': 0.7338960520672487, 'diff_cosine_tf': 0.9777026475624583, 'diff_cosine_tf_idf': 0.9750335180203635, 'diff_minEdit': 0.8384170389538128, 'diff_simple': 0.6014842770016005, 'sing_LoughranMcDonald': -0.0005389051194940049, '0': {'type': '10-Q', 'published': datetime.date(2011, 5, 6), 'qtr': (2011, 2)}}\n",
      "[INFO] Comparing current qtr (2011, 3) to qtr (2011, 2) from 1 quarter ago.\n",
      "[INFO] Found a ToC!\n",
      "[INFO] No ToC found\n",
      "[INFO] No ToC found\n",
      "[WARNING] Section _i_4 was found to be empty.\n",
      "[WARNING] Section ii_1 was found to be empty.\n",
      "[WARNING] Section ii_1a was found to be empty.\n",
      "{'diff_jaccard': 0.036789074163668174, 'diff_cosine_tf': 0.24673753485861077, 'diff_cosine_tf_idf': 0.20116566926161641, 'diff_minEdit': 0.7919790212939922, 'diff_simple': 0.47214887088079177, 'sing_LoughranMcDonald': -0.0006763513656558721, '0': {'type': '10-Q', 'published': datetime.date(2010, 5, 5), 'qtr': (2010, 2)}}\n",
      "[INFO] Comparing current qtr (2010, 3) to qtr (2010, 2) from 1 quarter ago.\n",
      "[INFO] Found a ToC!\n",
      "{'diff_jaccard': 0.723000291325798, 'diff_cosine_tf': 0.9669338835104354, 'diff_cosine_tf_idf': 0.9646988021541465, 'diff_minEdit': 0.958096071056372, 'diff_simple': 0.9748814664770069, 'sing_LoughranMcDonald': -0.0008677840425987904, '0': {'type': '10-Q', 'published': datetime.date(2010, 8, 3), 'qtr': (2010, 3)}}\n",
      "[INFO] Comparing current qtr (2010, 4) to qtr (2010, 3) from 1 quarter ago.\n",
      "[INFO] Found a ToC!\n",
      "{'diff_jaccard': 0.46657973231310773, 'diff_cosine_tf': 0.7000817724297308, 'diff_cosine_tf_idf': 0.6893661830771253, 'diff_minEdit': 0.9070825357504785, 'diff_simple': 0.8389002682628925, 'sing_LoughranMcDonald': -0.0001891953305776008, '0': {'type': '10-Q', 'published': datetime.date(2011, 8, 5), 'qtr': (2011, 3)}}\n",
      "[INFO] Comparing current qtr (2011, 4) to qtr (2011, 3) from 1 quarter ago.\n",
      "[INFO] Found a ToC!\n",
      "[INFO] Found a ToC!\n",
      "[WARNING] Section _i_4 was found to be empty.\n",
      "{'diff_jaccard': 0.7273261986512461, 'diff_cosine_tf': 0.9820392536301864, 'diff_cosine_tf_idf': 0.9776335997961721, 'diff_minEdit': 0.9687261864845919, 'diff_simple': 0.9824866644313714, 'sing_LoughranMcDonald': -0.000574496012477146, '0': {'type': '10-Q', 'published': datetime.date(2010, 11, 2), 'qtr': (2010, 4)}}\n",
      "[INFO] Found a ToC!\n",
      "[INFO] Comparing current qtr (2011, 1) to qtr (2010, 4) from 1 quarter ago.\n",
      "[WARNING] Section ii_1 was found to be empty.\n",
      "[INFO] Found a ToC!\n",
      "[INFO] No ToC found\n",
      "[INFO] No ToC found\n",
      "This is the res {'1': [(8365, 8383)], '1a': [(22650, 22666)], '1b': [(36447, 36469)], '2': [(36523, 36543)], '3': [(39144, 39160)], '5': [(47387, 47404)], '6': [(52547, 52566)], '7': [(53814, 53835)], '7a': [(110605, 110629)], '8': [(112363, 112383)], '9': [(196097, 196115)], '9a': [(196204, 196224)], '9b': [(199052, 199069)], '10': [(199132, 199153)], '11': [(200489, 200510)], '12': [(201277, 201297)], '13': [(201869, 201888)], '14': [], '15': [(5873, 5894), (202796, 202816)]}\n",
      "[WARNING] /home/alex/Desktop/filtered_text_data/nd_data/2012/QTR1/20120315_10-K_edgar_data_352825_0000352825-12-000006_1.txt failed parsing\n",
      "{'diff_jaccard': 0.004203282719862749, 'diff_cosine_tf': 0.13223766254775823, 'diff_cosine_tf_idf': 0.09008175431959857, 'diff_minEdit': 0.9392209972714982, 'diff_simple': 0.5623505113583354, 'sing_LoughranMcDonald': 0.0, '0': {'type': '10-K', 'published': datetime.date(2011, 2, 28), 'qtr': (2011, 1)}}\n"
     ]
    },
    {
     "name": "stderr",
     "output_type": "stream",
     "text": [
      "\n",
      " 20%|██        | 203/1000 [02:20<15:08,  1.14s/it]\u001b[A\n",
      "\n",
      "203it [02:20,  1.14s/it]\u001b[A\u001b[A"
     ]
    },
    {
     "name": "stdout",
     "output_type": "stream",
     "text": [
      "[INFO] Comparing current qtr (2011, 2) to qtr (2011, 1) from 1 quarter ago.\n",
      "[INFO] Found a ToC!\n",
      "{'diff_jaccard': 0.46690807281647034, 'diff_cosine_tf': 0.7099474801398922, 'diff_cosine_tf_idf': 0.6990954335017803, 'diff_minEdit': 0.9101871307792989, 'diff_simple': 0.842612156547282, 'sing_LoughranMcDonald': -0.0004775964314046001, '0': {'type': '10-Q', 'published': datetime.date(2011, 11, 4), 'qtr': (2011, 4)}}\n",
      "[INFO] Comparing current qtr (2012, 1) to qtr (2011, 4) from 1 quarter ago.\n",
      "[INFO] Found a ToC!\n",
      "[WARNING] Section ii_1 was found to be empty.\n",
      "{'diff_jaccard': 0.005350711156083962, 'diff_cosine_tf': 0.15379587139433656, 'diff_cosine_tf_idf': 0.11145976005109062, 'diff_minEdit': 0.9013194060551024, 'diff_simple': 0.6197112204852268, 'sing_LoughranMcDonald': -0.0006879486539295325, '0': {'type': '10-Q', 'published': datetime.date(2011, 5, 5), 'qtr': (2011, 2)}}\n",
      "[INFO] Comparing current qtr (2011, 3) to qtr (2011, 2) from 1 quarter ago.\n",
      "[INFO] Found a ToC!\n",
      "[INFO] Found a ToC!\n",
      "[WARNING] Section ii_1 was found to be empty.\n",
      "[INFO] Comparing current qtr (2011, 3) to qtr (2011, 2) from 1 quarter ago.\n",
      "{'diff_jaccard': 0.007051503021244838, 'diff_cosine_tf': 0.1254409326242589, 'diff_cosine_tf_idf': 0.0880199613667023, 'diff_minEdit': 0.897625531571373, 'diff_simple': 0.8214171629853799, 'sing_LoughranMcDonald': 0.0, '0': {'type': '10-Q', 'published': datetime.date(2011, 8, 8), 'qtr': (2011, 3)}}\n",
      "[INFO] Found a ToC!\n",
      "[INFO] Comparing current qtr (2011, 4) to qtr (2011, 3) from 1 quarter ago.\n",
      "[INFO] Comparing current qtr (2010, 2) to qtr (2010, 1) from 1 quarter ago.\n",
      "{'diff_jaccard': 0.46875, 'diff_cosine_tf': 0.4687499999999999, 'diff_cosine_tf_idf': 0.4687499999999999, 'diff_minEdit': 0.7919921875, 'diff_simple': 0.5971951799930773, 'sing_LoughranMcDonald': 0.0, '0': {'type': '10-Q', 'published': datetime.date(2011, 11, 2), 'qtr': (2011, 4)}}\n",
      "[INFO] Comparing current qtr (2012, 1) to qtr (2011, 4) from 1 quarter ago.\n",
      "{'diff_jaccard': 0.0, 'diff_cosine_tf': 0.0, 'diff_cosine_tf_idf': 0.0, 'diff_minEdit': 0.5593220338983051, 'diff_simple': 0.20868307215055787, 'sing_LoughranMcDonald': 0.0, '0': {'type': '10-K', 'published': datetime.date(2012, 2, 28), 'qtr': (2012, 1)}}\n",
      "[INFO] Comparing current qtr (2012, 2) to qtr (2012, 1) from 1 quarter ago.\n",
      "[INFO] No ToC found\n",
      "[WARNING] Section ii_1 was found to be empty.\n",
      "{'diff_jaccard': 0.7432402613036768, 'diff_cosine_tf': 0.9812054334201077, 'diff_cosine_tf_idf': 0.9784823135187707, 'diff_minEdit': 0.8300039823161699, 'diff_simple': 0.6576281494352736, 'sing_LoughranMcDonald': -0.0004178491742355605, '0': {'type': '10-K', 'published': datetime.date(2012, 2, 23), 'qtr': (2012, 1)}}\n",
      "[INFO] Comparing current qtr (2012, 2) to qtr (2012, 1) from 1 quarter ago.\n",
      "[INFO] No ToC found\n",
      "{'diff_jaccard': 0.005774737636898552, 'diff_cosine_tf': 0.136667791639014, 'diff_cosine_tf_idf': 0.0986372892489491, 'diff_minEdit': 0.945395181390396, 'diff_simple': 0.6008916274081415, 'sing_LoughranMcDonald': -0.0006976495024730247, '0': {'type': '10-Q', 'published': datetime.date(2012, 5, 9), 'qtr': (2012, 2)}}\n",
      "[WARNING] Section ii_1 was found to be empty.\n",
      "[INFO] Comparing current qtr (2012, 3) to qtr (2012, 2) from 1 quarter ago.\n",
      "[INFO] Found a ToC!\n",
      "{'diff_jaccard': 0.2725765925024213, 'diff_cosine_tf': 0.8744225004104311, 'diff_cosine_tf_idf': 0.8561951493446417, 'diff_minEdit': 0.7489291736263932, 'diff_simple': 0.5863504173772552, 'sing_LoughranMcDonald': -0.00046794697596929313, '0': {'type': '10-Q', 'published': datetime.date(2010, 4, 26), 'qtr': (2010, 2)}}\n",
      "[INFO] Comparing current qtr (2010, 3) to qtr (2010, 2) from 1 quarter ago.\n",
      "[INFO] Found a ToC!\n",
      "{'diff_jaccard': 0.007323638007892757, 'diff_cosine_tf': 0.11748741252197346, 'diff_cosine_tf_idf': 0.08208507530032338, 'diff_minEdit': 0.8910392482344596, 'diff_simple': 0.8148269373172998, 'sing_LoughranMcDonald': 0.0, '0': {'type': '10-Q', 'published': datetime.date(2012, 8, 2), 'qtr': (2012, 3)}}\n",
      "[INFO] Comparing current qtr (2012, 4) to qtr (2012, 3) from 1 quarter ago.\n",
      "[INFO] No ToC found\n",
      "{'diff_jaccard': 0.45828601226384885, 'diff_cosine_tf': 0.7156276914799448, 'diff_cosine_tf_idf': 0.6981996439619846, 'diff_minEdit': 0.8890386869217397, 'diff_simple': 0.8463790287362045, 'sing_LoughranMcDonald': -0.0002427792688974923, '0': {'type': '10-Q', 'published': datetime.date(2011, 8, 10), 'qtr': (2011, 3)}}\n",
      "[INFO] Comparing current qtr (2011, 4) to qtr (2011, 3) from 1 quarter ago.\n",
      "{'diff_jaccard': 0.8967186659494352, 'diff_cosine_tf': 0.9515151515151514, 'diff_cosine_tf_idf': 0.9112003110003083, 'diff_minEdit': 0.9731934731934733, 'diff_simple': 0.9919554130080446, 'sing_LoughranMcDonald': 0.0, '0': {'type': '10-Q', 'published': datetime.date(2012, 11, 8), 'qtr': (2012, 4)}}\n"
     ]
    },
    {
     "name": "stderr",
     "output_type": "stream",
     "text": [
      "\n",
      " 20%|██        | 204/1000 [02:21<14:10,  1.07s/it]\u001b[A\n",
      "\n",
      "204it [02:21,  1.07s/it]\u001b[A\u001b[A"
     ]
    },
    {
     "name": "stdout",
     "output_type": "stream",
     "text": [
      "[INFO] No ToC found\n",
      "[INFO] Found a ToC!\n",
      "[INFO] No ToC found\n",
      "{'diff_jaccard': 0.7668057980709354, 'diff_cosine_tf': 0.9829707449208677, 'diff_cosine_tf_idf': 0.9810072856434915, 'diff_minEdit': 0.8363355800922987, 'diff_simple': 0.6033006376713345, 'sing_LoughranMcDonald': -0.0005353101178038234, '0': {'type': '10-Q', 'published': datetime.date(2012, 5, 4), 'qtr': (2012, 2)}}\n",
      "[INFO] Comparing current qtr (2012, 3) to qtr (2012, 2) from 1 quarter ago.\n",
      "[INFO] No ToC found\n",
      "{'diff_jaccard': 0.7347866219609508, 'diff_cosine_tf': 0.9825927051031487, 'diff_cosine_tf_idf': 0.979987682215578, 'diff_minEdit': 0.999855563078312, 'diff_simple': 0.9999595576619275, 'sing_LoughranMcDonald': -0.0004666182065974176, '0': {'type': '10-Q', 'published': datetime.date(2010, 8, 6), 'qtr': (2010, 3)}}\n",
      "[INFO] Comparing current qtr (2010, 4) to qtr (2010, 3) from 1 quarter ago.\n",
      "[INFO] No ToC found\n",
      "[INFO] Comparing current qtr (2010, 2) to qtr (2010, 1) from 1 quarter ago.\n",
      "[INFO] No ToC found\n",
      "[WARNING] Section _i_4 was found to be empty.\n",
      "[WARNING] Section ii_1 was found to be empty.\n",
      "[WARNING] Section ii_1a was found to be empty.\n",
      "{'diff_jaccard': 0.7569728391628292, 'diff_cosine_tf': 0.9866354948521777, 'diff_cosine_tf_idf': 0.9805103969865002, 'diff_minEdit': 0.9998820398263036, 'diff_simple': 0.999966971151365, 'sing_LoughranMcDonald': -0.0003447053251556789, '0': {'type': '10-Q', 'published': datetime.date(2010, 11, 5), 'qtr': (2010, 4)}}\n",
      "[INFO] Comparing current qtr (2011, 1) to qtr (2010, 4) from 1 quarter ago.\n",
      "{'diff_jaccard': 0.4441630152091889, 'diff_cosine_tf': 0.9176477692526709, 'diff_cosine_tf_idf': 0.9038774765520802, 'diff_minEdit': 0.7102372059758424, 'diff_simple': 0.7497526187803967, 'sing_LoughranMcDonald': -0.002916174544517055, '0': {'type': '10-Q', 'published': datetime.date(2010, 4, 29), 'qtr': (2010, 2)}}\n",
      "[INFO] Comparing current qtr (2010, 3) to qtr (2010, 2) from 1 quarter ago.\n",
      "{'diff_jaccard': 0.87087829169761, 'diff_cosine_tf': 0.9941849126664553, 'diff_cosine_tf_idf': 0.9913825838970457, 'diff_minEdit': 1.0, 'diff_simple': 1.0, 'sing_LoughranMcDonald': -0.00023223327409154277, '0': {'type': '10-Q', 'published': datetime.date(2011, 11, 8), 'qtr': (2011, 4)}}\n",
      "[INFO] Comparing current qtr (2012, 1) to qtr (2011, 4) from 1 quarter ago.\n",
      "[INFO] No ToC found\n",
      "[WARNING] Section ii_1 was found to be empty.\n",
      "[INFO] Comparing current qtr (2010, 2) to qtr (2010, 1) from 1 quarter ago.\n",
      "[WARNING] Section _i_4 was found to be empty.\n",
      "[WARNING] Section ii_1 was found to be empty.\n",
      "[WARNING] Section ii_1a was found to be empty.\n",
      "{'diff_jaccard': 0.9218335106301658, 'diff_cosine_tf': 0.9932467563397922, 'diff_cosine_tf_idf': 0.9910857827202276, 'diff_minEdit': 1.0, 'diff_simple': 1.0, 'sing_LoughranMcDonald': -0.0005353721777099514, '0': {'type': '10-Q', 'published': datetime.date(2012, 8, 3), 'qtr': (2012, 3)}}\n",
      "[INFO] Comparing current qtr (2012, 4) to qtr (2012, 3) from 1 quarter ago.\n",
      "{'diff_jaccard': 0.8753624842537896, 'diff_cosine_tf': 0.9750145590212574, 'diff_cosine_tf_idf': 0.9731218993952422, 'diff_minEdit': 1.0, 'diff_simple': 1.0, 'sing_LoughranMcDonald': -0.0024536886267284524, '0': {'type': '10-Q', 'published': datetime.date(2010, 7, 29), 'qtr': (2010, 3)}}\n",
      "[INFO] Comparing current qtr (2010, 4) to qtr (2010, 3) from 1 quarter ago.\n",
      "{'diff_jaccard': 0.0033364197477124377, 'diff_cosine_tf': 0.1940866007074694, 'diff_cosine_tf_idf': 0.15081319664718498, 'diff_minEdit': 0.9100030044787901, 'diff_simple': 0.41533869774638005, 'sing_LoughranMcDonald': 0.0, '0': {'type': '10-Q', 'published': datetime.date(2010, 5, 7), 'qtr': (2010, 2)}}\n",
      "[INFO] Comparing current qtr (2010, 3) to qtr (2010, 2) from 1 quarter ago.\n",
      "{'diff_jaccard': 1.0, 'diff_cosine_tf': 1.0, 'diff_cosine_tf_idf': 1.0, 'diff_minEdit': 1.0, 'diff_simple': 1.0, 'sing_LoughranMcDonald': 0.0, '0': {'type': '10-Q', 'published': datetime.date(2010, 8, 6), 'qtr': (2010, 3)}}\n",
      "[INFO] Comparing current qtr (2010, 4) to qtr (2010, 3) from 1 quarter ago.\n",
      "{'diff_jaccard': 0.8598192572564491, 'diff_cosine_tf': 0.9845965645888034, 'diff_cosine_tf_idf': 0.9823034210565771, 'diff_minEdit': 1.0, 'diff_simple': 1.0, 'sing_LoughranMcDonald': -0.0022915878748639863, '0': {'type': '10-Q', 'published': datetime.date(2010, 10, 28), 'qtr': (2010, 4)}}\n",
      "[INFO] Comparing current qtr (2011, 1) to qtr (2010, 4) from 1 quarter ago.\n",
      "{'diff_jaccard': 0.9180327868852458, 'diff_cosine_tf': 0.9670554271601078, 'diff_cosine_tf_idf': 0.9450445566740611, 'diff_minEdit': 0.9836065573770492, 'diff_simple': 0.9528067560854445, 'sing_LoughranMcDonald': -0.5739795918367347, '0': {'type': '10-Q', 'published': datetime.date(2010, 11, 9), 'qtr': (2010, 4)}}\n",
      "[INFO] Comparing current qtr (2011, 1) to qtr (2010, 4) from 1 quarter ago.\n",
      "[INFO] Found a ToC!\n",
      "{'diff_jaccard': 0.3653777451595981, 'diff_cosine_tf': 0.881682872885631, 'diff_cosine_tf_idf': 0.8664772095570009, 'diff_minEdit': 0.7755954542123463, 'diff_simple': 0.5643378398753581, 'sing_LoughranMcDonald': -0.0003689928510685678, '0': {'type': '10-K', 'published': datetime.date(2011, 2, 25), 'qtr': (2011, 1)}}\n",
      "[INFO] Comparing current qtr (2011, 2) to qtr (2011, 1) from 1 quarter ago.\n",
      "[INFO] No ToC found\n",
      "{'diff_jaccard': 0.8932617186575582, 'diff_cosine_tf': 0.9935875076137134, 'diff_cosine_tf_idf': 0.9905050890882373, 'diff_minEdit': 1.0, 'diff_simple': 1.0, 'sing_LoughranMcDonald': -0.0005639151937576086, '0': {'type': '10-Q', 'published': datetime.date(2012, 10, 31), 'qtr': (2012, 4)}}\n"
     ]
    },
    {
     "name": "stderr",
     "output_type": "stream",
     "text": [
      "\n",
      " 20%|██        | 205/1000 [02:22<14:06,  1.06s/it]\u001b[A\n",
      "\n",
      "205it [02:22,  1.06s/it]\u001b[A\u001b[A"
     ]
    },
    {
     "name": "stdout",
     "output_type": "stream",
     "text": [
      "{'diff_jaccard': 0.6836544992771837, 'diff_cosine_tf': 0.977880126353229, 'diff_cosine_tf_idf': 0.9751769347814503, 'diff_minEdit': 0.6886971204524608, 'diff_simple': 0.6622468015660352, 'sing_LoughranMcDonald': -0.0003956363627033746, '0': {'type': '10-K', 'published': datetime.date(2012, 2, 21), 'qtr': (2012, 1)}}\n",
      "[INFO] Comparing current qtr (2012, 2) to qtr (2012, 1) from 1 quarter ago.\n",
      "[INFO] No ToC found\n",
      "{'diff_jaccard': 0.0032783901839444993, 'diff_cosine_tf': 0.1979474639973234, 'diff_cosine_tf_idf': 0.15410592251683047, 'diff_minEdit': 0.9018328914748688, 'diff_simple': 0.4150260100126375, 'sing_LoughranMcDonald': -0.001109683176690044, '0': {'type': '10-K', 'published': datetime.date(2011, 3, 1), 'qtr': (2011, 1)}}\n",
      "[INFO] Comparing current qtr (2011, 2) to qtr (2011, 1) from 1 quarter ago.\n",
      "{'diff_jaccard': 0.4790029420776681, 'diff_cosine_tf': 0.9149373902330953, 'diff_cosine_tf_idf': 0.8981117801318589, 'diff_minEdit': 0.7250738018144159, 'diff_simple': 0.7434930602957907, 'sing_LoughranMcDonald': -0.0007020125127546676, '0': {'type': '10-K', 'published': datetime.date(2011, 2, 24), 'qtr': (2011, 1)}}\n",
      "{'diff_jaccard': 0.19174273010041604, 'diff_cosine_tf': 0.5718377460962105, 'diff_cosine_tf_idf': 0.5515920270668, 'diff_minEdit': 0.5631993888499326, 'diff_simple': 0.6061184928687847, 'sing_LoughranMcDonald': -0.0006450884418351148, '0': {'type': '10-Q', 'published': datetime.date(2011, 5, 3), 'qtr': (2011, 2)}}\n",
      "[INFO] Comparing current qtr (2011, 3) to qtr (2011, 2) from 1 quarter ago.\n",
      "[INFO] Comparing current qtr (2011, 2) to qtr (2011, 1) from 1 quarter ago.\n",
      "[INFO] No ToC found\n",
      "{'diff_jaccard': 0.0032837905981436552, 'diff_cosine_tf': 0.19856671615173901, 'diff_cosine_tf_idf': 0.15472802231794114, 'diff_minEdit': 0.9121033217877413, 'diff_simple': 0.41353453873195745, 'sing_LoughranMcDonald': 0.0, '0': {'type': '10-Q', 'published': datetime.date(2011, 5, 10), 'qtr': (2011, 2)}}\n",
      "[INFO] Comparing current qtr (2011, 3) to qtr (2011, 2) from 1 quarter ago.\n",
      "{'diff_jaccard': 1.0, 'diff_cosine_tf': 1.0, 'diff_cosine_tf_idf': 1.0, 'diff_minEdit': 1.0, 'diff_simple': 1.0, 'sing_LoughranMcDonald': 0.0, '0': {'type': '10-Q', 'published': datetime.date(2011, 8, 9), 'qtr': (2011, 3)}}\n",
      "[INFO] Comparing current qtr (2011, 4) to qtr (2011, 3) from 1 quarter ago.\n",
      "{'diff_jaccard': 0.6600511596875779, 'diff_cosine_tf': 0.9717632432690564, 'diff_cosine_tf_idf': 0.9644643953752386, 'diff_minEdit': 0.9997016424435778, 'diff_simple': 0.9999164598842017, 'sing_LoughranMcDonald': -0.00015385747962619575, '0': {'type': '10-Q', 'published': datetime.date(2011, 8, 5), 'qtr': (2011, 3)}}\n",
      "[INFO] Comparing current qtr (2011, 4) to qtr (2011, 3) from 1 quarter ago.\n",
      "{'diff_jaccard': 1.0, 'diff_cosine_tf': 1.0, 'diff_cosine_tf_idf': 1.0, 'diff_minEdit': 1.0, 'diff_simple': 1.0, 'sing_LoughranMcDonald': 0.0, '0': {'type': '10-Q', 'published': datetime.date(2011, 11, 9), 'qtr': (2011, 4)}}\n",
      "[INFO] Comparing current qtr (2012, 1) to qtr (2011, 4) from 1 quarter ago.\n",
      "[INFO] No ToC found\n",
      "{'diff_jaccard': 0.4033542885862115, 'diff_cosine_tf': 0.8559029567842614, 'diff_cosine_tf_idf': 0.8345298404945934, 'diff_minEdit': 0.782982301549645, 'diff_simple': 0.6881729409326661, 'sing_LoughranMcDonald': -0.0002786335399596961, '0': {'type': '10-Q', 'published': datetime.date(2012, 5, 8), 'qtr': (2012, 2)}}\n",
      "[INFO] Comparing current qtr (2012, 3) to qtr (2012, 2) from 1 quarter ago.\n",
      "{'diff_jaccard': 0.4382479884699771, 'diff_cosine_tf': 0.8839744081614309, 'diff_cosine_tf_idf': 0.8614343481282037, 'diff_minEdit': 0.6933097206593314, 'diff_simple': 0.7167978946072396, 'sing_LoughranMcDonald': -0.0012557973413570333, '0': {'type': '10-Q', 'published': datetime.date(2011, 4, 29), 'qtr': (2011, 2)}}\n",
      "[INFO] Comparing current qtr (2011, 3) to qtr (2011, 2) from 1 quarter ago.\n",
      "{'diff_jaccard': 0.7648885588024082, 'diff_cosine_tf': 0.9894215319229344, 'diff_cosine_tf_idf': 0.9863916112794234, 'diff_minEdit': 0.9360239968053788, 'diff_simple': 0.991043359552753, 'sing_LoughranMcDonald': -0.00015822815934979077, '0': {'type': '10-Q', 'published': datetime.date(2011, 11, 2), 'qtr': (2011, 4)}}\n",
      "[INFO] Comparing current qtr (2012, 1) to qtr (2011, 4) from 1 quarter ago.\n",
      "{'diff_jaccard': 0.8578050331331064, 'diff_cosine_tf': 0.9505650738147355, 'diff_cosine_tf_idf': 0.9468993579130021, 'diff_minEdit': 0.9925895240725398, 'diff_simple': 0.9844355761872537, 'sing_LoughranMcDonald': -0.0013015931069518918, '0': {'type': '10-Q', 'published': datetime.date(2011, 7, 28), 'qtr': (2011, 3)}}\n",
      "{'diff_jaccard': 0.8029895738910258, 'diff_cosine_tf': 0.9894653277685888, 'diff_cosine_tf_idf': 0.986040144392827, 'diff_minEdit': 1.0, 'diff_simple': 1.0, 'sing_LoughranMcDonald': -0.00023604609274692156, '0': {'type': '10-Q', 'published': datetime.date(2012, 8, 9), 'qtr': (2012, 3)}}\n",
      "[INFO] Comparing current qtr (2011, 4) to qtr (2011, 3) from 1 quarter ago.\n",
      "[INFO] Comparing current qtr (2012, 4) to qtr (2012, 3) from 1 quarter ago.\n",
      "{'diff_jaccard': 0.0029614219282833917, 'diff_cosine_tf': 0.17824740190839142, 'diff_cosine_tf_idf': 0.13885999889663828, 'diff_minEdit': 0.9175979231455973, 'diff_simple': 0.37886900393139766, 'sing_LoughranMcDonald': -0.0003328055958504591, '0': {'type': '10-K', 'published': datetime.date(2012, 2, 29), 'qtr': (2012, 1)}}\n",
      "[INFO] Comparing current qtr (2012, 2) to qtr (2012, 1) from 1 quarter ago.\n",
      "[INFO] No ToC found\n",
      "[WARNING] Section 3 was found to be empty.\n"
     ]
    },
    {
     "name": "stderr",
     "output_type": "stream",
     "text": [
      "Process ForkPoolWorker-16:\n",
      "Process ForkPoolWorker-12:\n"
     ]
    },
    {
     "name": "stdout",
     "output_type": "stream",
     "text": [
      "[WARNING] /home/alex/Desktop/filtered_text_data/nd_data/2010/QTR1/20100224_10-K_edgar_data_74303_0000074303-10-000007_1.txt failed parsing\n"
     ]
    },
    {
     "name": "stderr",
     "output_type": "stream",
     "text": [
      "Process ForkPoolWorker-9:\n",
      "Process ForkPoolWorker-13:\n",
      "Traceback (most recent call last):\n",
      "Traceback (most recent call last):\n",
      "  File \"/home/alex/anaconda3/lib/python3.7/multiprocessing/process.py\", line 297, in _bootstrap\n",
      "    self.run()\n",
      "  File \"/home/alex/anaconda3/lib/python3.7/multiprocessing/process.py\", line 297, in _bootstrap\n",
      "    self.run()\n",
      "  File \"/home/alex/anaconda3/lib/python3.7/multiprocessing/process.py\", line 99, in run\n",
      "    self._target(*self._args, **self._kwargs)\n",
      "Traceback (most recent call last):\n",
      "Traceback (most recent call last):\n",
      "  File \"/home/alex/anaconda3/lib/python3.7/multiprocessing/process.py\", line 297, in _bootstrap\n",
      "    self.run()\n",
      "  File \"/home/alex/anaconda3/lib/python3.7/multiprocessing/process.py\", line 99, in run\n",
      "    self._target(*self._args, **self._kwargs)\n",
      "  File \"/home/alex/anaconda3/lib/python3.7/multiprocessing/process.py\", line 297, in _bootstrap\n",
      "    self.run()\n",
      "  File \"/home/alex/anaconda3/lib/python3.7/multiprocessing/process.py\", line 99, in run\n",
      "    self._target(*self._args, **self._kwargs)\n",
      "  File \"/home/alex/anaconda3/lib/python3.7/multiprocessing/pool.py\", line 121, in worker\n",
      "    result = (True, func(*args, **kwds))\n",
      "  File \"/home/alex/anaconda3/lib/python3.7/multiprocessing/pool.py\", line 121, in worker\n",
      "    result = (True, func(*args, **kwds))\n",
      "  File \"/home/alex/anaconda3/lib/python3.7/multiprocessing/pool.py\", line 121, in worker\n",
      "    result = (True, func(*args, **kwds))\n"
     ]
    },
    {
     "name": "stdout",
     "output_type": "stream",
     "text": [
      "[WARNING] /home/alex/Desktop/filtered_text_data/nd_data/2012/QTR1/20120308_10-K_edgar_data_885306_0001193125-12-101762_1.txt failed parsing\n"
     ]
    },
    {
     "name": "stderr",
     "output_type": "stream",
     "text": [
      "  File \"/home/alex/Desktop/Custom_packages/insight/processing.py\", line 118, in process_cik\n",
      "    final_result = analyze_reports(data)\n",
      "  File \"/home/alex/Desktop/Custom_packages/insight/processing.py\", line 118, in process_cik\n",
      "    final_result = analyze_reports(data)\n",
      "  File \"/home/alex/anaconda3/lib/python3.7/multiprocessing/process.py\", line 99, in run\n",
      "    self._target(*self._args, **self._kwargs)\n",
      "  File \"/home/alex/Desktop/Custom_packages/insight/processing.py\", line 231, in analyze_reports\n",
      "    result[sections_to_consider[idx]] = calculate_metrics(current_text, previous_text, s)\n",
      "  File \"/home/alex/Desktop/Custom_packages/insight/processing.py\", line 118, in process_cik\n",
      "    final_result = analyze_reports(data)\n",
      "  File \"/home/alex/anaconda3/lib/python3.7/multiprocessing/pool.py\", line 121, in worker\n",
      "    result = (True, func(*args, **kwds))\n",
      "  File \"/home/alex/Desktop/Custom_packages/insight/processing.py\", line 142, in calculate_metrics\n",
      "    section_result[m] = metrics.sing_sentiment(current_text)\n"
     ]
    },
    {
     "ename": "KeyboardInterrupt",
     "evalue": "",
     "output_type": "error",
     "traceback": [
      "\u001b[0;31m---------------------------------------------------------------------------\u001b[0m",
      "\u001b[0;31mIndexError\u001b[0m                                Traceback (most recent call last)",
      "\u001b[0;32m~/anaconda3/lib/python3.7/multiprocessing/pool.py\u001b[0m in \u001b[0;36mnext\u001b[0;34m(self, timeout)\u001b[0m\n\u001b[1;32m    732\u001b[0m             \u001b[0;32mtry\u001b[0m\u001b[0;34m:\u001b[0m\u001b[0;34m\u001b[0m\u001b[0;34m\u001b[0m\u001b[0m\n\u001b[0;32m--> 733\u001b[0;31m                 \u001b[0mitem\u001b[0m \u001b[0;34m=\u001b[0m \u001b[0mself\u001b[0m\u001b[0;34m.\u001b[0m\u001b[0m_items\u001b[0m\u001b[0;34m.\u001b[0m\u001b[0mpopleft\u001b[0m\u001b[0;34m(\u001b[0m\u001b[0;34m)\u001b[0m\u001b[0;34m\u001b[0m\u001b[0;34m\u001b[0m\u001b[0m\n\u001b[0m\u001b[1;32m    734\u001b[0m             \u001b[0;32mexcept\u001b[0m \u001b[0mIndexError\u001b[0m\u001b[0;34m:\u001b[0m\u001b[0;34m\u001b[0m\u001b[0;34m\u001b[0m\u001b[0m\n",
      "\u001b[0;31mIndexError\u001b[0m: pop from an empty deque",
      "\nDuring handling of the above exception, another exception occurred:\n",
      "\u001b[0;31mKeyboardInterrupt\u001b[0m                         Traceback (most recent call last)",
      "\u001b[0;32m<ipython-input-17-065ef0a97805>\u001b[0m in \u001b[0;36m<module>\u001b[0;34m\u001b[0m\n\u001b[1;32m     17\u001b[0m \u001b[0;34m\u001b[0m\u001b[0m\n\u001b[1;32m     18\u001b[0m     \u001b[0;32mwith\u001b[0m \u001b[0mtqdm\u001b[0m\u001b[0;34m(\u001b[0m\u001b[0mtotal\u001b[0m\u001b[0;34m=\u001b[0m\u001b[0mlen\u001b[0m\u001b[0;34m(\u001b[0m\u001b[0mdata_to_process\u001b[0m\u001b[0;34m)\u001b[0m\u001b[0;34m)\u001b[0m \u001b[0;32mas\u001b[0m \u001b[0mpbar\u001b[0m\u001b[0;34m:\u001b[0m\u001b[0;34m\u001b[0m\u001b[0;34m\u001b[0m\u001b[0m\n\u001b[0;32m---> 19\u001b[0;31m         \u001b[0;32mfor\u001b[0m \u001b[0mi\u001b[0m\u001b[0;34m,\u001b[0m \u001b[0mvalue\u001b[0m \u001b[0;32min\u001b[0m \u001b[0mtqdm\u001b[0m\u001b[0;34m(\u001b[0m\u001b[0menumerate\u001b[0m\u001b[0;34m(\u001b[0m\u001b[0mp\u001b[0m\u001b[0;34m.\u001b[0m\u001b[0mimap_unordered\u001b[0m\u001b[0;34m(\u001b[0m\u001b[0mprocessing\u001b[0m\u001b[0;34m.\u001b[0m\u001b[0mprocess_cik\u001b[0m\u001b[0;34m,\u001b[0m \u001b[0mdata_to_process\u001b[0m\u001b[0;34m)\u001b[0m\u001b[0;34m)\u001b[0m\u001b[0;34m)\u001b[0m\u001b[0;34m:\u001b[0m\u001b[0;34m\u001b[0m\u001b[0;34m\u001b[0m\u001b[0m\n\u001b[0m\u001b[1;32m     20\u001b[0m             \u001b[0mpbar\u001b[0m\u001b[0;34m.\u001b[0m\u001b[0mupdate\u001b[0m\u001b[0;34m(\u001b[0m\u001b[0;34m)\u001b[0m\u001b[0;34m\u001b[0m\u001b[0;34m\u001b[0m\u001b[0m\n\u001b[1;32m     21\u001b[0m             \u001b[0;31m#qtr = list_qtr[i]\u001b[0m\u001b[0;34m\u001b[0m\u001b[0;34m\u001b[0m\u001b[0;34m\u001b[0m\u001b[0m\n",
      "\u001b[0;32m~/anaconda3/lib/python3.7/site-packages/tqdm/_tqdm.py\u001b[0m in \u001b[0;36m__iter__\u001b[0;34m(self)\u001b[0m\n\u001b[1;32m   1020\u001b[0m                 \"\"\"), fp_write=getattr(self.fp, 'write', sys.stderr.write))\n\u001b[1;32m   1021\u001b[0m \u001b[0;34m\u001b[0m\u001b[0m\n\u001b[0;32m-> 1022\u001b[0;31m             \u001b[0;32mfor\u001b[0m \u001b[0mobj\u001b[0m \u001b[0;32min\u001b[0m \u001b[0miterable\u001b[0m\u001b[0;34m:\u001b[0m\u001b[0;34m\u001b[0m\u001b[0;34m\u001b[0m\u001b[0m\n\u001b[0m\u001b[1;32m   1023\u001b[0m                 \u001b[0;32myield\u001b[0m \u001b[0mobj\u001b[0m\u001b[0;34m\u001b[0m\u001b[0;34m\u001b[0m\u001b[0m\n\u001b[1;32m   1024\u001b[0m                 \u001b[0;31m# Update and possibly print the progressbar.\u001b[0m\u001b[0;34m\u001b[0m\u001b[0;34m\u001b[0m\u001b[0;34m\u001b[0m\u001b[0m\n",
      "\u001b[0;32m~/anaconda3/lib/python3.7/multiprocessing/pool.py\u001b[0m in \u001b[0;36mnext\u001b[0;34m(self, timeout)\u001b[0m\n\u001b[1;32m    735\u001b[0m                 \u001b[0;32mif\u001b[0m \u001b[0mself\u001b[0m\u001b[0;34m.\u001b[0m\u001b[0m_index\u001b[0m \u001b[0;34m==\u001b[0m \u001b[0mself\u001b[0m\u001b[0;34m.\u001b[0m\u001b[0m_length\u001b[0m\u001b[0;34m:\u001b[0m\u001b[0;34m\u001b[0m\u001b[0;34m\u001b[0m\u001b[0m\n\u001b[1;32m    736\u001b[0m                     \u001b[0;32mraise\u001b[0m \u001b[0mStopIteration\u001b[0m \u001b[0;32mfrom\u001b[0m \u001b[0;32mNone\u001b[0m\u001b[0;34m\u001b[0m\u001b[0;34m\u001b[0m\u001b[0m\n\u001b[0;32m--> 737\u001b[0;31m                 \u001b[0mself\u001b[0m\u001b[0;34m.\u001b[0m\u001b[0m_cond\u001b[0m\u001b[0;34m.\u001b[0m\u001b[0mwait\u001b[0m\u001b[0;34m(\u001b[0m\u001b[0mtimeout\u001b[0m\u001b[0;34m)\u001b[0m\u001b[0;34m\u001b[0m\u001b[0;34m\u001b[0m\u001b[0m\n\u001b[0m\u001b[1;32m    738\u001b[0m                 \u001b[0;32mtry\u001b[0m\u001b[0;34m:\u001b[0m\u001b[0;34m\u001b[0m\u001b[0;34m\u001b[0m\u001b[0m\n\u001b[1;32m    739\u001b[0m                     \u001b[0mitem\u001b[0m \u001b[0;34m=\u001b[0m \u001b[0mself\u001b[0m\u001b[0;34m.\u001b[0m\u001b[0m_items\u001b[0m\u001b[0;34m.\u001b[0m\u001b[0mpopleft\u001b[0m\u001b[0;34m(\u001b[0m\u001b[0;34m)\u001b[0m\u001b[0;34m\u001b[0m\u001b[0;34m\u001b[0m\u001b[0m\n",
      "\u001b[0;32m~/anaconda3/lib/python3.7/threading.py\u001b[0m in \u001b[0;36mwait\u001b[0;34m(self, timeout)\u001b[0m\n\u001b[1;32m    294\u001b[0m         \u001b[0;32mtry\u001b[0m\u001b[0;34m:\u001b[0m    \u001b[0;31m# restore state no matter what (e.g., KeyboardInterrupt)\u001b[0m\u001b[0;34m\u001b[0m\u001b[0;34m\u001b[0m\u001b[0m\n\u001b[1;32m    295\u001b[0m             \u001b[0;32mif\u001b[0m \u001b[0mtimeout\u001b[0m \u001b[0;32mis\u001b[0m \u001b[0;32mNone\u001b[0m\u001b[0;34m:\u001b[0m\u001b[0;34m\u001b[0m\u001b[0;34m\u001b[0m\u001b[0m\n\u001b[0;32m--> 296\u001b[0;31m                 \u001b[0mwaiter\u001b[0m\u001b[0;34m.\u001b[0m\u001b[0macquire\u001b[0m\u001b[0;34m(\u001b[0m\u001b[0;34m)\u001b[0m\u001b[0;34m\u001b[0m\u001b[0;34m\u001b[0m\u001b[0m\n\u001b[0m\u001b[1;32m    297\u001b[0m                 \u001b[0mgotit\u001b[0m \u001b[0;34m=\u001b[0m \u001b[0;32mTrue\u001b[0m\u001b[0;34m\u001b[0m\u001b[0;34m\u001b[0m\u001b[0m\n\u001b[1;32m    298\u001b[0m             \u001b[0;32melse\u001b[0m\u001b[0;34m:\u001b[0m\u001b[0;34m\u001b[0m\u001b[0;34m\u001b[0m\u001b[0m\n",
      "\u001b[0;31mKeyboardInterrupt\u001b[0m: "
     ]
    }
   ],
   "source": [
    "# Processing the reports will be done in parrallel in a random order\n",
    "cik_scores = {k: 0 for k in cik_path.keys()}  # Organized by ticker\n",
    "#debug = [[k, v, {**s}] for k, v in cik_path.items() if k==98338]  # settings are cast to dict for pickling\n",
    "debug = [[k, v, {**s}] for k, v in cik_path.items()]  # settings are cast to dict for pickling\n",
    "\n",
    "data_to_process = debug[:1000]  # Debug\n",
    "#print(data_to_process)\n",
    "#result = process_cik(data_to_process[0])\n",
    "#cik_perf[result[0]] = result[1]\n",
    "#print(cik_perf)\n",
    "#assert 0\n",
    "processing_stats = [0, 0, 0, 0, 0, 0]\n",
    "#qtr_metric_result = {key: [] for key in s['list_qtr']}\n",
    "with mp.Pool(processes=min(mp.cpu_count(), len(data_to_process))) as p:\n",
    "#with mp.Pool(processes=min(mp.cpu_count(), 1)) as p:\n",
    "    print(\"[INFO] Starting a pool of {} workers\".format(min(mp.cpu_count(), len(data_to_process))))\n",
    "\n",
    "    with tqdm(total=len(data_to_process)) as pbar:\n",
    "        for i, value in tqdm(enumerate(p.imap_unordered(processing.process_cik, data_to_process))):\n",
    "            pbar.update()\n",
    "            #qtr = list_qtr[i]\n",
    "            # Each quarter gets a few metrics\n",
    "            if value[1] == {}:\n",
    "                # The parsing failed\n",
    "                del cik_scores[value[0]]\n",
    "            else:\n",
    "                cik_scores[value[0]] = value[1]\n",
    "            processing_stats[value[2]] += 1\n",
    "           \n",
    "        #qtr_metric_result[value['0']['qtr']] = value\n",
    "print(\"[INFO] {} CIK failed to be processed.\".format(sum(processing_stats[1:])))\n",
    "print(\"Detailed stats:\", processing_stats)"
   ]
  },
  {
   "cell_type": "markdown",
   "metadata": {},
   "source": [
    "# Post-processing - Welcome to the gettho"
   ]
  },
  {
   "cell_type": "markdown",
   "metadata": {},
   "source": [
    "## Flip the result dictionary to present a per qtr view"
   ]
  },
  {
   "cell_type": "code",
   "execution_count": null,
   "metadata": {},
   "outputs": [],
   "source": [
    "# Reorganize the dict to display the data per quarter instead\n",
    "qtr_scores = {qtr: {} for qtr in s['list_qtr']}\n",
    "for c in cik_path.keys():\n",
    "    if c in cik_scores.keys():\n",
    "        if cik_scores[c] == 0:\n",
    "            del cik_scores[c]\n",
    "\n",
    "for cik in tqdm(cik_scores):\n",
    "    for qtr in cik_scores[cik]:\n",
    "        qtr_scores[qtr][cik] = cik_scores[cik][qtr]\n",
    "\n",
    "assert list(qtr_scores.keys()) == s['list_qtr']"
   ]
  },
  {
   "cell_type": "markdown",
   "metadata": {},
   "source": [
    "## Create a separate dictionary for each metric"
   ]
  },
  {
   "cell_type": "code",
   "execution_count": null,
   "metadata": {
    "scrolled": true
   },
   "outputs": [],
   "source": [
    "# Create the new empty master dictionary\n",
    "master_dict = {m: 0 for m in s['metrics']}\n",
    "for m in s['metrics']:\n",
    "    master_dict[m] = {qtr: 0 for qtr in s['list_qtr']}\n",
    "master_dict"
   ]
  },
  {
   "cell_type": "code",
   "execution_count": null,
   "metadata": {},
   "outputs": [],
   "source": [
    "# Populate it\n",
    "for m in s['metrics']:\n",
    "    for qtr in s['list_qtr']:\n",
    "        #master_dict[m][qtr] = {cik: qtr_scores[qtr][cik][m] for cik in qtr_scores[qtr].keys()}\n",
    "        master_dict[m][qtr] = [(cik, qtr_scores[qtr][cik][m]) for cik in qtr_scores[qtr].keys()]"
   ]
  },
  {
   "cell_type": "code",
   "execution_count": null,
   "metadata": {},
   "outputs": [],
   "source": [
    "# Display the length for all qtr\n",
    "for qtr in s['list_qtr']:\n",
    "    print(\"qtr: {} length: {}\".format(qtr, len(master_dict[s['metrics'][0]][qtr])))"
   ]
  },
  {
   "cell_type": "markdown",
   "metadata": {},
   "source": [
    "## For each metric, split each qtr into 5 quintiles\n",
    "\n",
    "For each metric and for each quarter, make quintiles containing all the (cik, score) tuples. \n",
    "\n",
    "Now at this point the portfolio is not balanced, it is just the list of companies we would like to invest in. We need to weigh each investment by the relative market cap. "
   ]
  },
  {
   "cell_type": "code",
   "execution_count": null,
   "metadata": {},
   "outputs": [],
   "source": [
    "# Populate it\n",
    "# The two zeros are respectively nb shares unbalanced & balanced\n",
    "for m in s['metrics']:\n",
    "    for qtr in s['list_qtr']:\n",
    "        #master_dict[m][qtr] = {cik: qtr_scores[qtr][cik][m] for cik in qtr_scores[qtr].keys()}\n",
    "        master_dict[m][qtr] = [[cik, qtr_scores[qtr][cik][m], 0, 0] for cik in qtr_scores[qtr].keys()]\n",
    "master_dict"
   ]
  },
  {
   "cell_type": "code",
   "execution_count": null,
   "metadata": {
    "scrolled": true
   },
   "outputs": [],
   "source": [
    "# Reorganize each quarter \n",
    "for m in s['metrics'][:-1]:\n",
    "    for qtr in s['list_qtr'][s['lag']:]:  # There cannot be a report for the first few qtr\n",
    "        #print(master_dict[m][qtr])\n",
    "        master_dict[m][qtr] = post_processing.make_quintiles(master_dict[m][qtr], s)\n",
    "        assert len(master_dict[m][qtr].keys()) == 5"
   ]
  },
  {
   "cell_type": "code",
   "execution_count": null,
   "metadata": {},
   "outputs": [],
   "source": [
    "pf_scores = {m: 0 for m in s['metrics'][:-1]}\n",
    "for m in s['metrics']:\n",
    "    pf_scores[m] = {q: {qtr: 0 for qtr in s['list_qtr'][s['lag']:]} for q in s['bin_labels']}"
   ]
  },
  {
   "cell_type": "code",
   "execution_count": null,
   "metadata": {},
   "outputs": [],
   "source": [
    "for m in s['metrics'][:-1]:\n",
    "    for mod_bin in s['bin_labels']:\n",
    "        for qtr in s['list_qtr'][s['lag']:]:\n",
    "            pf_scores[m][mod_bin][qtr] = master_dict[m][qtr][mod_bin]\n",
    "pf_scores['diff_jaccard']['Q1']"
   ]
  },
  {
   "cell_type": "code",
   "execution_count": null,
   "metadata": {},
   "outputs": [],
   "source": [
    "# del master_dict"
   ]
  },
  {
   "cell_type": "code",
   "execution_count": null,
   "metadata": {},
   "outputs": [],
   "source": [
    "def dump_master_dict(path, master_dict):\n",
    "    # path = '/home/alex/Desktop/Insight project/Database/dump_master_dict.csv'\n",
    "    with open(path, 'w') as f:\n",
    "        out = csv.writer(f, delimiter=';')\n",
    "        header = ['METRIC', 'QUARTER', 'QUINTILE', 'CIK', 'SCORE']\n",
    "        out.writerow(header)\n",
    "        \n",
    "        # Main writing loop\n",
    "        for m in tqdm(s['metrics'][:-1]):\n",
    "            for qtr in s['list_qtr'][1:]:\n",
    "                for l in s['bin_labels']:\n",
    "                    for entry in master_dict[m][qtr][l]:\n",
    "                        out.writerow([m, qtr, l, entry[0], entry[1]])"
   ]
  },
  {
   "cell_type": "code",
   "execution_count": null,
   "metadata": {},
   "outputs": [],
   "source": [
    "path = '/home/alex/Desktop/Insight project/Database/dump_master_dict.csv'\n",
    "dump_master_dict(path, master_dict)"
   ]
  },
  {
   "cell_type": "code",
   "execution_count": null,
   "metadata": {},
   "outputs": [],
   "source": [
    "master_dict['diff_jaccard'][(2010, 2)].keys()"
   ]
  },
  {
   "cell_type": "markdown",
   "metadata": {},
   "source": [
    "## Create a virtual portfolio\n",
    "\n",
    "Re-calculate the value of the portfolio at the end of each quarter."
   ]
  },
  {
   "cell_type": "markdown",
   "metadata": {},
   "source": [
    "### Remove all the CIK for which we do not have stick data for this time period"
   ]
  },
  {
   "cell_type": "code",
   "execution_count": null,
   "metadata": {},
   "outputs": [],
   "source": [
    "pf_scores = post_processing.remove_cik_without_price(pf_scores, lookup, stock_data, s)"
   ]
  },
  {
   "cell_type": "code",
   "execution_count": null,
   "metadata": {},
   "outputs": [],
   "source": [
    "# Create the new empty master dictionary\n",
    "tax_rate = 0.005\n",
    "pf_values = {m: 0 for m in s['metrics'][:-1]}\n",
    "for m in s['metrics'][:-1]:\n",
    "    pf_values[m] = {q: {qtr: [0, tax_rate, 0] for qtr in s['list_qtr'][1:]} for q in s['bin_labels']}"
   ]
  },
  {
   "cell_type": "markdown",
   "metadata": {},
   "source": [
    "## Initialize the portfolio with an equal amount for all bins"
   ]
  },
  {
   "cell_type": "code",
   "execution_count": null,
   "metadata": {},
   "outputs": [],
   "source": [
    "for m in s['metrics'][:-1]:\n",
    "    for mod_bin in s['bin_labels']:\n",
    "        pf_values[m][mod_bin][s['list_qtr'][1]] = [s['pf_init_value'], tax_rate, s['pf_init_value']]\n",
    "#print(pf_values['diff_jaccard'])"
   ]
  },
  {
   "cell_type": "markdown",
   "metadata": {},
   "source": [
    "## Calculate the value of the portfolio"
   ]
  },
  {
   "cell_type": "code",
   "execution_count": null,
   "metadata": {
    "scrolled": false
   },
   "outputs": [],
   "source": [
    "pf_scores = post_processing.calculate_portfolio_value(pf_scores, pf_values, lookup, stock_data, s)"
   ]
  },
  {
   "cell_type": "code",
   "execution_count": null,
   "metadata": {
    "scrolled": false
   },
   "outputs": [],
   "source": [
    "plt.figure(figsize=(10, 5))\n",
    "for l in s['bin_labels']:\n",
    "    x = []\n",
    "    y = []\n",
    "    for qtr in s['list_qtr'][1:]:\n",
    "        start = \"{}{}{}\".format(str(qtr[0]), str(((qtr[1])-1)*3+1).zfill(2), '01')\n",
    "        x.append(datetime.strptime(start, '%Y%m%d').date())\n",
    "        valuation = pf_values['diff_cosine_tf'][l][qtr][0]\n",
    "        y.append(valuation)\n",
    "        \n",
    "    plt.plot_date(x, y, label=l, linestyle='-')\n",
    "\n",
    "plt.legend()\n",
    "plt.title('Portfolio value over time for different bins')\n",
    "plt.ylabel('Portfolion value [$]')"
   ]
  },
  {
   "cell_type": "code",
   "execution_count": null,
   "metadata": {
    "scrolled": false
   },
   "outputs": [],
   "source": [
    "plt.figure(figsize=(10, 5))\n",
    "for l in s['bin_labels']:\n",
    "    x = []\n",
    "    y = []\n",
    "    for qtr in s['list_qtr'][1:]:\n",
    "        start = \"{}{}{}\".format(str(qtr[0]), str(((qtr[1])-1)*3+1).zfill(2), '01')\n",
    "        x.append(datetime.strptime(start, '%Y%m%d').date())\n",
    "        y.append(pf_values['diff_cosine_tf_idf'][l][qtr][0])\n",
    "    plt.plot_date(x, y, label=l, linestyle='-')\n",
    "\n",
    "# Overlay an index\n",
    "#start_date = qtrs.qtr_to_day(s['list_qtr'][s['lag']], 'first', date_format='datetime')\n",
    "#end_date = qtrs.qtr_to_day(s['list_qtr'][-1], 'last', date_format='datetime')\n",
    "index_name = 'SPX'\n",
    "benchmark_x = []\n",
    "benchmark_y = []\n",
    "for qtr in s['list_qtr'][1:]:\n",
    "    qtr_start_date = \"{}{}{}\".format(str(qtr[0]), str((qtr[1]-1)*3+1).zfill(2), '01')\n",
    "    qtr_start_date = datetime.strptime(qtr_start_date, '%Y%m%d').date()\n",
    "    days, _ = zip(*index_data[index_name])\n",
    "    for _ in range(7):\n",
    "        try:\n",
    "            idx = days.index(qtr_start_date)\n",
    "            break\n",
    "        except:  # Increment the day number until it goes through\n",
    "            qtr_start_date = qtr_start_date.strftime('%Y%m%d')\n",
    "            day = str(int(qtr_start_date[7]) + 1)\n",
    "            qtr_start_date = qtr_start_date[:7] + day\n",
    "            qtr_start_date = datetime.strptime(qtr_start_date, '%Y%m%d').date()\n",
    "    benchmark_x.append(qtr_start_date)\n",
    "    benchmark_y.append(index_data[index_name][idx][1])\n",
    "\n",
    "benchmark_y = np.array(benchmark_y)\n",
    "benchmark_y *= s['pf_init_value']/benchmark_y[0]\n",
    "plt.plot_date(benchmark_x, benchmark_y, label=index_name, linestyle='-.', linewidth=2, ms=10, marker=',')\n",
    "plt.legend()\n",
    "plt.title('Portfolio value over time for different bins')\n",
    "plt.ylabel('Portfolion value [$]')"
   ]
  },
  {
   "cell_type": "code",
   "execution_count": null,
   "metadata": {},
   "outputs": [],
   "source": [
    "for qtr in s['list_qtr'][1:]:\n",
    "    print(qtr, pf_values['diff_jaccard']['Q5'][qtr][0])"
   ]
  },
  {
   "cell_type": "code",
   "execution_count": null,
   "metadata": {},
   "outputs": [],
   "source": [
    "test_qtr_data = master_dict['diff_jaccard'][(2010, 2)]"
   ]
  },
  {
   "cell_type": "code",
   "execution_count": null,
   "metadata": {
    "scrolled": true
   },
   "outputs": [],
   "source": [
    "# [DEBUG] Show the Apple data for that time period\n",
    "extracted_cik_scores = cik_scores[data_to_process[0][0]]\n",
    "extracted_cik_scores"
   ]
  },
  {
   "cell_type": "code",
   "execution_count": null,
   "metadata": {},
   "outputs": [],
   "source": [
    "#ticker = lookup[320193]\n",
    "ticker = lookup[data_to_process[0][0]]\n",
    "start_date = qtrs.qtr_to_day(s['time_range'][0], 'first', date_format='datetime')\n",
    "stop_date = qtrs.qtr_to_day(s['time_range'][1], 'last', date_format='datetime')\n",
    "\n",
    "#print(s['time_range'], start_date)\n",
    "#print(s['time_range'], stop_date)\n",
    "extracted_stock_data = {k: v for k, v in stock_data[ticker].items() if start_date <= k <= stop_date}\n",
    "#print(extracted_data)\n"
   ]
  },
  {
   "cell_type": "markdown",
   "metadata": {},
   "source": [
    "# Display the data"
   ]
  },
  {
   "cell_type": "markdown",
   "metadata": {},
   "source": [
    "## For a given ticker"
   ]
  },
  {
   "cell_type": "markdown",
   "metadata": {},
   "source": [
    "### Metrics vs stock price"
   ]
  },
  {
   "cell_type": "code",
   "execution_count": null,
   "metadata": {
    "scrolled": false
   },
   "outputs": [],
   "source": [
    "display.diff_vs_stock(extracted_cik_scores, extracted_stock_data, ticker, s, method='diff')"
   ]
  },
  {
   "cell_type": "markdown",
   "metadata": {},
   "source": [
    "### Sentiment vs stock price"
   ]
  },
  {
   "cell_type": "code",
   "execution_count": null,
   "metadata": {},
   "outputs": [],
   "source": [
    "display.diff_vs_stock(extracted_cik_scores, extracted_stock_data, ticker, s, method='sentiment')"
   ]
  },
  {
   "cell_type": "code",
   "execution_count": null,
   "metadata": {},
   "outputs": [],
   "source": []
  }
 ],
 "metadata": {
  "kernelspec": {
   "display_name": "Python 3",
   "language": "python",
   "name": "python3"
  },
  "language_info": {
   "codemirror_mode": {
    "name": "ipython",
    "version": 3
   },
   "file_extension": ".py",
   "mimetype": "text/x-python",
   "name": "python",
   "nbconvert_exporter": "python",
   "pygments_lexer": "ipython3",
   "version": "3.7.3"
  }
 },
 "nbformat": 4,
 "nbformat_minor": 2
}
